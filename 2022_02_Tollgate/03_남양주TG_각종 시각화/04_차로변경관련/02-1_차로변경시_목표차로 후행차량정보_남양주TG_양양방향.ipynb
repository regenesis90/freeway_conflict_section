{
 "cells": [
  {
   "cell_type": "markdown",
   "id": "6732d013-cd30-451e-b4ea-4cf781d5086e",
   "metadata": {},
   "source": [
    "# 차로변경 시 목표차로 후행차량 정보\n",
    "* 후행차량(`FV`)의 다음 정보를 추출함\n",
    "    * `Vehicle ID` : 차량 ID\n",
    "    * `Lane Identification` : 차량의 소속 차로\n",
    "    * `Location X(m)` : X좌표\n",
    "    * `Vehicle Veolcity` : 차량 속도\n",
    "    * ``"
   ]
  }
 ],
 "metadata": {
  "kernelspec": {
   "display_name": "Python 3",
   "language": "python",
   "name": "python3"
  },
  "language_info": {
   "codemirror_mode": {
    "name": "ipython",
    "version": 3
   },
   "file_extension": ".py",
   "mimetype": "text/x-python",
   "name": "python",
   "nbconvert_exporter": "python",
   "pygments_lexer": "ipython3",
   "version": "3.8.8"
  }
 },
 "nbformat": 4,
 "nbformat_minor": 5
}
