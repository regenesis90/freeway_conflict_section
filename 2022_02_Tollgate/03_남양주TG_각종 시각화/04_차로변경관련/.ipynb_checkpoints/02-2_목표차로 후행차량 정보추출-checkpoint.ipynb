{
 "cells": [
  {
   "cell_type": "markdown",
   "id": "f20d3791-6025-4223-a571-2bb26d94a5f2",
   "metadata": {},
   "source": [
    "# 영업소 목표차로 후행차량 정보추출"
   ]
  },
  {
   "cell_type": "markdown",
   "id": "a0f93746-2435-4fb3-a515-75e5baef8647",
   "metadata": {},
   "source": [
    "# Set Up"
   ]
  },
  {
   "cell_type": "markdown",
   "id": "088e30b8-bc6f-496f-a285-a40426ef3455",
   "metadata": {},
   "source": [
    "## Import"
   ]
  },
  {
   "cell_type": "code",
   "execution_count": 1,
   "id": "1ce1f656-fae5-4a2a-89b3-ab44cf3c0712",
   "metadata": {
    "execution": {
     "iopub.execute_input": "2022-10-22T05:27:37.506703Z",
     "iopub.status.busy": "2022-10-22T05:27:37.506703Z",
     "iopub.status.idle": "2022-10-22T05:27:37.868244Z",
     "shell.execute_reply": "2022-10-22T05:27:37.868244Z",
     "shell.execute_reply.started": "2022-10-22T05:27:37.506703Z"
    },
    "tags": []
   },
   "outputs": [],
   "source": [
    "import pandas as pd\n",
    "import numpy as np\n",
    "import os\n",
    "\n",
    "import warnings\n",
    "from tqdm import tqdm"
   ]
  },
  {
   "cell_type": "markdown",
   "id": "180a3e48-63f8-4a50-bde5-bf8d8229a13f",
   "metadata": {},
   "source": [
    "## Dataset"
   ]
  },
  {
   "cell_type": "markdown",
   "id": "ac515776-2fe8-4ec3-b56e-d27765084940",
   "metadata": {},
   "source": [
    "### LC\n",
    "* 차로변경 차량궤적 데이터셋"
   ]
  },
  {
   "cell_type": "code",
   "execution_count": 2,
   "id": "7019b4de-d1f9-4cc6-82ef-f4355cb2e2bd",
   "metadata": {
    "execution": {
     "iopub.execute_input": "2022-10-22T05:28:24.203947Z",
     "iopub.status.busy": "2022-10-22T05:28:24.203947Z",
     "iopub.status.idle": "2022-10-22T05:28:24.209907Z",
     "shell.execute_reply": "2022-10-22T05:28:24.207911Z",
     "shell.execute_reply.started": "2022-10-22T05:28:24.203947Z"
    },
    "tags": []
   },
   "outputs": [],
   "source": [
    "LC_dir = 'D:/OneDrive - 연세대학교 (Yonsei University)/Projects/Yonsei_TELab/003_도로상충_210517-/2차년도_2022/38_22-10차 회의 준비/221022_FV_목표차로후행차량정보/차로변경차량정보'"
   ]
  },
  {
   "cell_type": "code",
   "execution_count": 3,
   "id": "fe17bbd5-4dd6-4c59-b1d4-f40e169c4539",
   "metadata": {
    "execution": {
     "iopub.execute_input": "2022-10-22T05:29:30.625287Z",
     "iopub.status.busy": "2022-10-22T05:29:30.624292Z",
     "iopub.status.idle": "2022-10-22T05:29:30.645236Z",
     "shell.execute_reply": "2022-10-22T05:29:30.643271Z",
     "shell.execute_reply.started": "2022-10-22T05:29:30.625287Z"
    },
    "tags": []
   },
   "outputs": [],
   "source": [
    "LC_file_list = os.listdir(LC_dir)"
   ]
  },
  {
   "cell_type": "code",
   "execution_count": 4,
   "id": "72174a76-b06b-4bbb-aa2d-809caedf3a35",
   "metadata": {
    "execution": {
     "iopub.execute_input": "2022-10-22T05:29:40.376908Z",
     "iopub.status.busy": "2022-10-22T05:29:40.375911Z",
     "iopub.status.idle": "2022-10-22T05:29:40.397851Z",
     "shell.execute_reply": "2022-10-22T05:29:40.396883Z",
     "shell.execute_reply.started": "2022-10-22T05:29:40.376908Z"
    },
    "tags": []
   },
   "outputs": [
    {
     "data": {
      "text/plain": [
       "['LC_vehicle_Lane_info_01_1.csv',\n",
       " 'LC_vehicle_Lane_info_01_2.csv',\n",
       " 'LC_vehicle_Lane_info_01_3.csv',\n",
       " 'LC_vehicle_Lane_info_02_1.csv',\n",
       " 'LC_vehicle_Lane_info_02_2.csv',\n",
       " 'LC_vehicle_Lane_info_02_3.csv',\n",
       " 'LC_vehicle_Lane_info_04_1.csv',\n",
       " 'LC_vehicle_Lane_info_04_2.csv']"
      ]
     },
     "execution_count": 4,
     "metadata": {},
     "output_type": "execute_result"
    }
   ],
   "source": [
    "LC_file_list"
   ]
  },
  {
   "cell_type": "markdown",
   "id": "49097bc0-a519-46f7-b475-5e1023e111ab",
   "metadata": {},
   "source": [
    "### Full\n",
    "* 전체 차량궤적 데이터셋"
   ]
  },
  {
   "cell_type": "code",
   "execution_count": 5,
   "id": "3d481762-f15f-4a61-aa7b-a94f7f008c20",
   "metadata": {
    "execution": {
     "iopub.execute_input": "2022-10-22T05:30:13.840296Z",
     "iopub.status.busy": "2022-10-22T05:30:13.840296Z",
     "iopub.status.idle": "2022-10-22T05:30:13.855258Z",
     "shell.execute_reply": "2022-10-22T05:30:13.854260Z",
     "shell.execute_reply.started": "2022-10-22T05:30:13.840296Z"
    },
    "tags": []
   },
   "outputs": [],
   "source": [
    "data_dir_Yangyang = 'D:/OneDrive - 연세대학교 (Yonsei University)/Projects/Yonsei_TELab/003_도로상충_210517-/2차년도_2022/27_남양주영업소_드론영상분석/양양방향/01_density_by_target_LOS_concated_lanechange'"
   ]
  },
  {
   "cell_type": "code",
   "execution_count": 6,
   "id": "c49e8695-0826-4e10-afbe-c40f0edde059",
   "metadata": {
    "execution": {
     "iopub.execute_input": "2022-10-22T05:30:25.739175Z",
     "iopub.status.busy": "2022-10-22T05:30:25.739175Z",
     "iopub.status.idle": "2022-10-22T05:30:25.758109Z",
     "shell.execute_reply": "2022-10-22T05:30:25.757113Z",
     "shell.execute_reply.started": "2022-10-22T05:30:25.739175Z"
    },
    "tags": []
   },
   "outputs": [],
   "source": [
    "data_dir_Seoul = 'D:/OneDrive - 연세대학교 (Yonsei University)/Projects/Yonsei_TELab/003_도로상충_210517-/2차년도_2022/27_남양주영업소_드론영상분석/서울방향/01_density_by_target_LOS_concated_lanechange'"
   ]
  },
  {
   "cell_type": "code",
   "execution_count": 10,
   "id": "e4546410-ad68-4af7-8ebe-b0eeeb3ba888",
   "metadata": {
    "execution": {
     "iopub.execute_input": "2022-10-22T05:31:13.682426Z",
     "iopub.status.busy": "2022-10-22T05:31:13.681425Z",
     "iopub.status.idle": "2022-10-22T05:31:13.698380Z",
     "shell.execute_reply": "2022-10-22T05:31:13.697411Z",
     "shell.execute_reply.started": "2022-10-22T05:31:13.682426Z"
    },
    "tags": []
   },
   "outputs": [
    {
     "data": {
      "text/plain": [
       "['04_1_A.csv', '04_2_A.csv']"
      ]
     },
     "execution_count": 10,
     "metadata": {},
     "output_type": "execute_result"
    }
   ],
   "source": [
    "Full_file_list_Yangyang = os.listdir(data_dir_Yangyang)\n",
    "Full_file_list_Yangyang = Full_file_list_Yangyang[-2:]\n",
    "Full_file_list_Yangyang"
   ]
  },
  {
   "cell_type": "code",
   "execution_count": 13,
   "id": "74299893-b3f3-4fd5-8a02-645c599d071b",
   "metadata": {
    "execution": {
     "iopub.execute_input": "2022-10-22T05:31:45.202770Z",
     "iopub.status.busy": "2022-10-22T05:31:45.201763Z",
     "iopub.status.idle": "2022-10-22T05:31:45.208749Z",
     "shell.execute_reply": "2022-10-22T05:31:45.207789Z",
     "shell.execute_reply.started": "2022-10-22T05:31:45.201763Z"
    },
    "tags": []
   },
   "outputs": [
    {
     "data": {
      "text/plain": [
       "['01_1_A.csv',\n",
       " '01_2_A.csv',\n",
       " '01_3_A.csv',\n",
       " '02_1_A.csv',\n",
       " '02_2_A.csv',\n",
       " '02_3_A.csv']"
      ]
     },
     "execution_count": 13,
     "metadata": {},
     "output_type": "execute_result"
    }
   ],
   "source": [
    "Full_file_list_Seoul = os.listdir(data_dir_Seoul)\n",
    "Full_file_list_Seoul = Full_file_list_Seoul[:6]\n",
    "Full_file_list_Seoul"
   ]
  },
  {
   "cell_type": "markdown",
   "id": "a942e81a-b62d-4d4a-8ce0-78378bb5af16",
   "metadata": {},
   "source": [
    "# Workflow\n",
    "* LC 데이터셋을 바탕으로 마련한다.\n",
    "* LC 데이터셋 같은 프레임 -> 목표차로 -> Local X가 가장 가까운, 목표차로 뒤에 붙어있는 후행차량(`FV`)을 탐색 -> 해당 차량의 정보를 LC 데이터셋에 추가\n",
    "* LC 데이터셋에 새로운 컬럼을 추가하기:\n",
    "    * `FV_ID` : 후행차량의 Vehicle ID\n",
    "    * `FV_Vehicle Speed` : 후행 차량의 속도\n",
    "    * `FV_x` : 후행 차량의 Local X\n",
    "    * `FV_y` : 후행 차량의 Local Y\n",
    "* 다음의 파생변수를 생성함:\n",
    "    * `D_FV` : 이 차량과 `FV` 간의 초기 차간거리"
   ]
  },
  {
   "cell_type": "code",
   "execution_count": null,
   "id": "25eaddfb-fbbe-4b33-b302-45e30386163f",
   "metadata": {},
   "outputs": [],
   "source": []
  }
 ],
 "metadata": {
  "kernelspec": {
   "display_name": "Python 3",
   "language": "python",
   "name": "python3"
  },
  "language_info": {
   "codemirror_mode": {
    "name": "ipython",
    "version": 3
   },
   "file_extension": ".py",
   "mimetype": "text/x-python",
   "name": "python",
   "nbconvert_exporter": "python",
   "pygments_lexer": "ipython3",
   "version": "3.8.8"
  }
 },
 "nbformat": 4,
 "nbformat_minor": 5
}
