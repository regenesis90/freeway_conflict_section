{
 "cells": [
  {
   "cell_type": "markdown",
   "id": "7cde0433-3361-4be0-8cac-cdc4c3f32e10",
   "metadata": {},
   "source": [
    "# Set up"
   ]
  },
  {
   "cell_type": "markdown",
   "id": "177eb296-9ca5-45bd-928e-0f23262c8670",
   "metadata": {},
   "source": [
    "## Import"
   ]
  },
  {
   "cell_type": "code",
   "execution_count": 4,
   "id": "2402386b-f048-41a8-8a0f-a3fa73f2933b",
   "metadata": {
    "execution": {
     "iopub.execute_input": "2022-10-24T13:56:42.101249Z",
     "iopub.status.busy": "2022-10-24T13:56:42.101249Z",
     "iopub.status.idle": "2022-10-24T13:56:42.470140Z",
     "shell.execute_reply": "2022-10-24T13:56:42.470140Z",
     "shell.execute_reply.started": "2022-10-24T13:56:42.101249Z"
    },
    "tags": []
   },
   "outputs": [],
   "source": [
    "import pandas as pd\n",
    "import numpy as np\n",
    "import os\n",
    "\n",
    "import warnings\n",
    "from tqdm import tqdm"
   ]
  },
  {
   "cell_type": "markdown",
   "id": "3266ca74-a354-476e-b6bf-1c053a7b008d",
   "metadata": {},
   "source": [
    "# 차로변경차량 정보 추출"
   ]
  },
  {
   "cell_type": "markdown",
   "id": "0b13da65-a6d8-418f-8ccd-5d415671ede7",
   "metadata": {},
   "source": [
    "## 양양방향"
   ]
  },
  {
   "cell_type": "markdown",
   "id": "09a26612-64f3-44f0-8b71-bd259e5d91af",
   "metadata": {},
   "source": [
    "### Directory"
   ]
  },
  {
   "cell_type": "code",
   "execution_count": null,
   "id": "446a592c-aabc-493b-8e7a-d242d1f658ec",
   "metadata": {
    "tags": []
   },
   "outputs": [],
   "source": [
    "file_dir = 'D:/OneDrive - 연세대학교 (Yonsei University)/Projects/Yonsei_TELab/003_도로상충_210517-/2차년도_2022/27_남양주영업소_드론영상분석/양양방향/01_density_by_target_LOS_concated_lanechange'"
   ]
  },
  {
   "cell_type": "code",
   "execution_count": null,
   "id": "458bfae0-615a-4800-87cf-11a07ee804b3",
   "metadata": {
    "tags": []
   },
   "outputs": [],
   "source": [
    "save_dir = 'D:/OneDrive - 연세대학교 (Yonsei University)/Projects/Yonsei_TELab/003_도로상충_210517-/2차년도_2022/38_22-10차 회의 준비/221022_인접차량정보/차로변경차량정보'"
   ]
  },
  {
   "cell_type": "code",
   "execution_count": null,
   "id": "65192683-92ca-44ee-ac77-e0468ef80b10",
   "metadata": {
    "tags": []
   },
   "outputs": [],
   "source": [
    "file_list = os.listdir(file_dir)\n",
    "file_list = file_list[3:]\n",
    "print(file_list)"
   ]
  },
  {
   "cell_type": "markdown",
   "id": "a85516c7-4dea-4414-bedd-1a0f4f38860a",
   "metadata": {},
   "source": [
    "### Extract\n",
    "* 차로변경 차량별로 현재차로-목표차로 페어를 입력하기\n",
    "* 현재차로-목표차로 페어에 따른 목표차로 후행차량(FV) 정보 구하기\n",
    "* `df.at[idx, 'Lane Identification Past'] = str(Lane_past)`"
   ]
  },
  {
   "cell_type": "code",
   "execution_count": null,
   "id": "fe8b56aa-5500-41aa-808f-cf0565c7d08c",
   "metadata": {
    "tags": []
   },
   "outputs": [],
   "source": [
    "warnings.filterwarnings(action = 'ignore') # pandas 경고메시지 숨기기\n",
    "\n",
    "for file in file_list:\n",
    "    \n",
    "    file_path = os.path.join(file_dir, file)\n",
    "    df = pd.read_csv(file_path)\n",
    "    \n",
    "    df2 = pd.DataFrame()\n",
    "    \n",
    "    # 차로변경을 한 차량 리스트만 뽑기\n",
    "    LC_veh_list = df[df['Lane_change'] == 'Change']['Vehicle ID'].unique()\n",
    "    \n",
    "    for veh in LC_veh_list: # 차로변경을 한 각 차량별로\n",
    "        df_veh = df[df['Vehicle ID'] == veh] ## 각 차량별 데이터프레임\n",
    "        df_veh['Lane_record_split'] = df_veh['Lane_record_split'].backfill()\n",
    "        df_veh['Lane_present'] = df_veh['Lane_record_split'].str.split('_', n = 1, expand = True)[0]\n",
    "        df_veh['Lane_target'] = df_veh['Lane_record_split'].str.split('_', n = 1, expand = True)[1]\n",
    "        \n",
    "        df_veh['Lane_change_intend'] = df_veh['Lane_change_direction'].copy()\n",
    "        df_veh['Lane_change_intend'] = df_veh['Lane_change_intend'].backfill()\n",
    "    \n",
    "        df2 = pd.concat([df2, df_veh])\n",
    "    \n",
    "    df2.dropna(subset = ['Lane_record_split'], inplace = True) # Lane_record_split이 nan인 행 드랍\n",
    "    \n",
    "    save_file = f'LC_vehicle_Lane_info_{file[:4]}.csv'\n",
    "    save_path = os.path.join(save_dir, save_file)\n",
    "    \n",
    "    df2.to_csv(save_path)"
   ]
  },
  {
   "cell_type": "markdown",
   "id": "7de46b5d-f031-45f7-a0fa-5540d234b3f5",
   "metadata": {},
   "source": [
    "## 서울방향"
   ]
  },
  {
   "cell_type": "markdown",
   "id": "23ddd13c-9387-402c-a074-4bd59a4633c1",
   "metadata": {},
   "source": [
    "### Directory"
   ]
  },
  {
   "cell_type": "code",
   "execution_count": null,
   "id": "40d5773e-daac-4b56-963e-a3d379b4cbae",
   "metadata": {
    "tags": []
   },
   "outputs": [],
   "source": [
    "file_dir = 'D:/OneDrive - 연세대학교 (Yonsei University)/Projects/Yonsei_TELab/003_도로상충_210517-/2차년도_2022/27_남양주영업소_드론영상분석/서울방향/01_density_by_target_LOS_concated_lanechange'"
   ]
  },
  {
   "cell_type": "code",
   "execution_count": null,
   "id": "6b1997c7-f4cc-4a32-95ce-4cc9f064045a",
   "metadata": {
    "tags": []
   },
   "outputs": [],
   "source": [
    "file_list = os.listdir(file_dir)\n",
    "file_list = file_list[:6]\n",
    "print(file_list)"
   ]
  },
  {
   "cell_type": "markdown",
   "id": "1eed88e5-8d87-4f17-ae1b-263ca6b3115b",
   "metadata": {},
   "source": [
    "### Extract\n",
    "* 차로변경 차량별로 현재차로-목표차로 페어를 입력하기\n",
    "* 현재차로-목표차로 페어에 따른 목표차로 후행차량(FV) 정보 구하기\n",
    "* `df.at[idx, 'Lane Identification Past'] = str(Lane_past)`"
   ]
  },
  {
   "cell_type": "code",
   "execution_count": null,
   "id": "39f8fb7e-f323-46f1-90aa-60e38a535109",
   "metadata": {
    "tags": []
   },
   "outputs": [],
   "source": [
    "warnings.filterwarnings(action = 'ignore') # pandas 경고메시지 숨기기\n",
    "\n",
    "for file in file_list:\n",
    "    \n",
    "    file_path = os.path.join(file_dir, file)\n",
    "    df = pd.read_csv(file_path)\n",
    "    \n",
    "    df2 = pd.DataFrame()\n",
    "    \n",
    "    # 차로변경을 한 차량 리스트만 뽑기\n",
    "    LC_veh_list = df[df['Lane_change'] == 'Change']['Vehicle ID'].unique()\n",
    "    \n",
    "    for veh in LC_veh_list: # 차로변경을 한 각 차량별로\n",
    "        df_veh = df[df['Vehicle ID'] == veh] ## 각 차량별 데이터프레임\n",
    "        df_veh['Lane_record_split'] = df_veh['Lane_record_split'].backfill()\n",
    "        df_veh['Lane_present'] = df_veh['Lane_record_split'].str.split('_', n = 1, expand = True)[0]\n",
    "        df_veh['Lane_target'] = df_veh['Lane_record_split'].str.split('_', n = 1, expand = True)[1]\n",
    "        \n",
    "        df_veh['Lane_change_intend'] = df_veh['Lane_change_direction'].copy()\n",
    "        df_veh['Lane_change_intend'] = df_veh['Lane_change_intend'].backfill()\n",
    "    \n",
    "        df2 = pd.concat([df2, df_veh])\n",
    "    \n",
    "    df2.dropna(subset = ['Lane_record_split'], inplace = True) # Lane_record_split이 nan인 행 드랍\n",
    "        \n",
    "    save_file = f'LC_vehicle_Lane_info_{file[:4]}.csv'\n",
    "    save_path = os.path.join(save_dir, save_file)\n",
    "    \n",
    "    df2.to_csv(save_path)"
   ]
  },
  {
   "cell_type": "markdown",
   "id": "48789902-4e20-4ca0-b9c9-ab55339e97c6",
   "metadata": {},
   "source": [
    "## 서울TG 부산방향\n",
    "* 22.10.24 추가\n",
    "* 김영준으로부터 전달받은 서울TG 부산방향 통합본 자료 가공"
   ]
  },
  {
   "cell_type": "markdown",
   "id": "65ba45cd-a604-4533-96b2-b08a0192c1b5",
   "metadata": {},
   "source": [
    "### 데이터 로드"
   ]
  },
  {
   "cell_type": "code",
   "execution_count": 1,
   "id": "e9eaea2a-606e-49c0-be53-6887235085c6",
   "metadata": {
    "execution": {
     "iopub.execute_input": "2022-10-24T13:56:36.768406Z",
     "iopub.status.busy": "2022-10-24T13:56:36.767409Z",
     "iopub.status.idle": "2022-10-24T13:56:36.771398Z",
     "shell.execute_reply": "2022-10-24T13:56:36.771398Z",
     "shell.execute_reply.started": "2022-10-24T13:56:36.768406Z"
    },
    "tags": []
   },
   "outputs": [],
   "source": [
    "SeoulTG = 'D:/OneDrive - 연세대학교 (Yonsei University)/Projects/Yonsei_TELab/003_도로상충_210517-/2차년도_2022/38_22-10차 회의 준비/221022_인접차량정보/raw_Seoul_TG.csv'"
   ]
  },
  {
   "cell_type": "code",
   "execution_count": 2,
   "id": "b0a0b93a-f3ff-4605-8260-b417153aba3d",
   "metadata": {
    "execution": {
     "iopub.execute_input": "2022-10-24T13:56:37.368259Z",
     "iopub.status.busy": "2022-10-24T13:56:37.368259Z",
     "iopub.status.idle": "2022-10-24T13:56:37.372251Z",
     "shell.execute_reply": "2022-10-24T13:56:37.372251Z",
     "shell.execute_reply.started": "2022-10-24T13:56:37.368259Z"
    },
    "tags": []
   },
   "outputs": [],
   "source": [
    "changeTG = 'D:/OneDrive - 연세대학교 (Yonsei University)/Projects/Yonsei_TELab/003_도로상충_210517-/2차년도_2022/38_22-10차 회의 준비/221022_인접차량정보/Change_Seoul_TG.csv'"
   ]
  },
  {
   "cell_type": "code",
   "execution_count": 5,
   "id": "f81bb9aa-0538-475c-8c4a-b5062dbe240c",
   "metadata": {
    "execution": {
     "iopub.execute_input": "2022-10-24T13:56:45.556157Z",
     "iopub.status.busy": "2022-10-24T13:56:45.556157Z",
     "iopub.status.idle": "2022-10-24T13:56:45.736670Z",
     "shell.execute_reply": "2022-10-24T13:56:45.736670Z",
     "shell.execute_reply.started": "2022-10-24T13:56:45.556157Z"
    },
    "tags": []
   },
   "outputs": [],
   "source": [
    "df = pd.read_csv(SeoulTG)"
   ]
  },
  {
   "cell_type": "markdown",
   "id": "63119392-3c8e-4e9d-a27b-27c90112618d",
   "metadata": {},
   "source": [
    "### 전처리 : 차로변경 Change 설정"
   ]
  },
  {
   "cell_type": "code",
   "execution_count": 6,
   "id": "89bd3040-49c1-4489-8b33-36b04df06b2e",
   "metadata": {
    "execution": {
     "iopub.execute_input": "2022-10-24T13:56:58.714043Z",
     "iopub.status.busy": "2022-10-24T13:56:58.714043Z",
     "iopub.status.idle": "2022-10-24T13:57:47.968085Z",
     "shell.execute_reply": "2022-10-24T13:57:47.968085Z",
     "shell.execute_reply.started": "2022-10-24T13:56:58.714043Z"
    },
    "tags": []
   },
   "outputs": [
    {
     "name": "stderr",
     "output_type": "stream",
     "text": [
      "100%|████████████████████████████████████████████████████████████████████████████████| 759/759 [00:48<00:00, 15.71it/s]\n"
     ]
    }
   ],
   "source": [
    "warnings.filterwarnings(action = 'ignore') # pandas 경고메시지 숨기기\n",
    "\n",
    "df['Lane_record'] = None # 차량의 차로변경기록\n",
    "df['Lane Identification Past'] = None # 차량의 직전 차로 위치. 변경되었을 경우 Lane Identification과 불일치하게 된다. ############## 22.10.22 추가함\n",
    "df['Lane_record_split'] = None # 그때그때 차로변경 기록. ###################### 22.10.22  추가함\n",
    "    \n",
    "df['Lane_00'] = None # 차량의 첫 차로\n",
    "df['Lane_99'] = None # 차량의 마지막 차로\n",
    "df['Lane_change'] = None # 차량이 차로변경을 했을 시 'Change' 기록 \n",
    "df['Lane_change_direction'] = None # 차량의 차로변경 방향. 'Left' or 'Right' 기록 ######################## 22.10.21 추가함\n",
    "    \n",
    "if len(df) > 0:\n",
    "\n",
    "    veh_list = df['Vehicle ID'].unique() # 차량 리스트 뽑기\n",
    "    \n",
    "    df = df.sort_values(by = 'Frame ID') # 데이터프레임을 Frame ID에 따라서 오름차순 정렬\n",
    "    \n",
    "    for veh in tqdm(veh_list): # 각 차량별로\n",
    "        Lane_00 = df[df['Vehicle ID'] == veh]['Lane Identification'].iloc[0] # 차량이 처음 진행하던 차로\n",
    "        Lane_99 = df[df['Vehicle ID'] == veh]['Lane Identification'].iloc[-1] # 차량이 마지막 진행하던 차로\n",
    "        \n",
    "        veh_frame_list = df[df['Vehicle ID'] == veh]['Frame ID'].unique() # 해당 차량이 주행하는 동안의 프레임 리스트\n",
    "        \n",
    "        Lane_past = Lane_00 # Lane_past(각 차량 현재차로)를 초기화\n",
    "        Lane_record = Lane_00 # 차로변경기록 초기화\n",
    "        Lane_present = Lane_00 # 현재차로 초기화\n",
    "        \n",
    "        for frm in veh_frame_list : # 각 차량의 각 프레임별로\n",
    "            \n",
    "            Lane_past = Lane_present # iteration 돌기 전의 현재차로가 과거차로로 할당\n",
    "            Lane_present = df[(df['Vehicle ID'] == veh) & (df['Frame ID'] == frm)]['Lane Identification'].iloc[0] # 현재 차량이 속한 차로를 할당            \n",
    "                \n",
    "            if Lane_past == Lane_present: # 현재차로와 직전차로가 같으면 아무 문제 없음\n",
    "                pass\n",
    "            \n",
    "            else: # 현재차로와 직전 차로가 다를 시\n",
    "                idx = df[(df['Vehicle ID'] == veh) & (df['Frame ID'] == frm)]['Lane_change'].index[0] # 차로변경된 행의 인덱스\n",
    "                    \n",
    "                df.at[idx, 'Lane Identification Past'] = str(Lane_past) ################ 22.10.22 추가\n",
    "                df.at[idx, 'Lane_record_split'] = str(Lane_past) + '_' + str(Lane_present) ################ 22.10.22 추가\n",
    "                    \n",
    "                df.at[idx, 'Lane_change'] = 'Change' # 차로변경되자마자 셀에 'Change' 표시\n",
    "                Lane_record = str(Lane_record) + '_' + str(Lane_present)\n",
    "                    \n",
    "                ########################################## 22.10.21 추가  : 차로변경 방향 컬럼 추가 ##########################################\n",
    "                    \n",
    "                if (Lane_past[-1] != 'N') and (Lane_present[-1] != 'N'): # Lane_past, Lane_present가 Unknown이 아니면 \n",
    "                    Lane_past_num = int(Lane_past[-1])\n",
    "                    Lane_present_num = int(Lane_present[-1])\n",
    "                    \n",
    "                    if Lane_past_num > Lane_present_num: # 이 경우 왼쪽으로(고속차로로) 이동한 것임\n",
    "                        df.at[idx, 'Lane_change_direction'] = 'Left'\n",
    "                    \n",
    "                    elif Lane_past_num < Lane_present_num: # 이 경우 오른쪽으로(저속차로로) 이동한 것임\n",
    "                        df.at[idx, 'Lane_change_direction'] = 'Right'\n",
    "                    \n",
    "                    else:\n",
    "                        pass\n",
    "                    \n",
    "                else: # Lane_past, Lane_present 중 하나 이상이 Unknown이면 일단 방향 패스. 이건 수동으로 지정해줘야 한다.\n",
    "                    pass\n",
    "            ###############################################################################################################################\n",
    "               \n",
    "        df.loc[df['Vehicle ID'] == veh, 'Lane_00'] = Lane_00 # 차량별 초기 차로번호\n",
    "        df.loc[df['Vehicle ID'] == veh, 'Lane_99'] = Lane_99 # 차량별 마지막 차로번호\n",
    "        df.loc[df['Vehicle ID'] == veh, 'Lane_record'] = Lane_record # 차량별 차로변경 기록 입력\n",
    "\n",
    "    df.to_csv(changeTG, encoding = 'cp949')\n",
    "            \n",
    "else:\n",
    "    pass"
   ]
  },
  {
   "cell_type": "markdown",
   "id": "3c87018c-9175-4908-8d1f-786958d11a7f",
   "metadata": {},
   "source": [
    "### 차로변경차량 정보추출"
   ]
  },
  {
   "cell_type": "code",
   "execution_count": 7,
   "id": "4b994776-f880-4351-9ec1-1c3cf4eedf32",
   "metadata": {
    "execution": {
     "iopub.execute_input": "2022-10-24T14:00:00.047706Z",
     "iopub.status.busy": "2022-10-24T14:00:00.047706Z",
     "iopub.status.idle": "2022-10-24T14:00:00.057652Z",
     "shell.execute_reply": "2022-10-24T14:00:00.056682Z",
     "shell.execute_reply.started": "2022-10-24T14:00:00.047706Z"
    },
    "tags": []
   },
   "outputs": [],
   "source": [
    "LCTG = 'D:/OneDrive - 연세대학교 (Yonsei University)/Projects/Yonsei_TELab/003_도로상충_210517-/2차년도_2022/38_22-10차 회의 준비/221022_인접차량정보/LC_Seoul_TG.csv'"
   ]
  },
  {
   "cell_type": "code",
   "execution_count": 10,
   "id": "e6be3218-bfa0-4a80-99d8-d602b511674a",
   "metadata": {
    "execution": {
     "iopub.execute_input": "2022-10-24T14:00:34.237559Z",
     "iopub.status.busy": "2022-10-24T14:00:34.237559Z",
     "iopub.status.idle": "2022-10-24T14:00:37.211862Z",
     "shell.execute_reply": "2022-10-24T14:00:37.211862Z",
     "shell.execute_reply.started": "2022-10-24T14:00:34.237559Z"
    },
    "tags": []
   },
   "outputs": [
    {
     "name": "stderr",
     "output_type": "stream",
     "text": [
      "100%|████████████████████████████████████████████████████████████████████████████████| 219/219 [00:02<00:00, 77.23it/s]\n"
     ]
    }
   ],
   "source": [
    "df2 = pd.DataFrame()\n",
    "    \n",
    "# 서울TG 부산방향에서 차로변경을 한 차량 리스트만 뽑기\n",
    "LC_veh_list = df[df['Lane_change'] == 'Change']['Vehicle ID'].unique()\n",
    "    \n",
    "for veh in tqdm(LC_veh_list): # 차로변경을 한 각 차량별로\n",
    "    df_veh = df[df['Vehicle ID'] == veh] ## 각 차량별 데이터프레임\n",
    "    df_veh['Lane_record_split'] = df_veh['Lane_record_split'].backfill()\n",
    "    df_veh['Lane_present'] = df_veh['Lane_record_split'].str.split('_', n = 1, expand = True)[0]\n",
    "    df_veh['Lane_target'] = df_veh['Lane_record_split'].str.split('_', n = 1, expand = True)[1]\n",
    "        \n",
    "    df_veh['Lane_change_intend'] = df_veh['Lane_change_direction'].copy()\n",
    "    df_veh['Lane_change_intend'] = df_veh['Lane_change_intend'].backfill()\n",
    "    \n",
    "    df2 = pd.concat([df2, df_veh])\n",
    "    \n",
    "df2.dropna(subset = ['Lane_record_split'], inplace = True) # Lane_record_split이 nan인 행 드랍\n",
    "        \n",
    "df2.to_csv(LCTG)"
   ]
  }
 ],
 "metadata": {
  "kernelspec": {
   "display_name": "Python 3",
   "language": "python",
   "name": "python3"
  },
  "language_info": {
   "codemirror_mode": {
    "name": "ipython",
    "version": 3
   },
   "file_extension": ".py",
   "mimetype": "text/x-python",
   "name": "python",
   "nbconvert_exporter": "python",
   "pygments_lexer": "ipython3",
   "version": "3.8.8"
  }
 },
 "nbformat": 4,
 "nbformat_minor": 5
}
