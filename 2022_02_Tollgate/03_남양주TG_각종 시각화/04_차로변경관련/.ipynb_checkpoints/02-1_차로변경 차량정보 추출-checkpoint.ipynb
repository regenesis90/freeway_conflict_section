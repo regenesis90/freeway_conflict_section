{
 "cells": [
  {
   "cell_type": "markdown",
   "id": "6732d013-cd30-451e-b4ea-4cf781d5086e",
   "metadata": {},
   "source": [
    "# 차로변경 차량정보 추출\n",
    "* 후행차량(`FV`)의 다음 정보를 추출함\n",
    "    * `Vehicle ID` : 차량 ID\n",
    "    * `Lane Identification` : 차량의 소속 차로\n",
    "    * `Location X(m)` : X좌표\n",
    "    * `Vehicle Veolcity` : 차량 속도 == $V_{FV}$ : 목표 차로 후행차량($FV$)의 속도\n",
    "    * $D_{FV}$ : 대상차량($HV$)과 목표 차로 후행차량($FV$) 간의 초기 차간거리"
   ]
  },
  {
   "cell_type": "markdown",
   "id": "7cde0433-3361-4be0-8cac-cdc4c3f32e10",
   "metadata": {},
   "source": [
    "# Set up"
   ]
  },
  {
   "cell_type": "markdown",
   "id": "177eb296-9ca5-45bd-928e-0f23262c8670",
   "metadata": {},
   "source": [
    "## Import"
   ]
  },
  {
   "cell_type": "code",
   "execution_count": 1,
   "id": "2402386b-f048-41a8-8a0f-a3fa73f2933b",
   "metadata": {
    "execution": {
     "iopub.execute_input": "2022-10-22T05:24:54.186587Z",
     "iopub.status.busy": "2022-10-22T05:24:54.186587Z",
     "iopub.status.idle": "2022-10-22T05:24:54.582533Z",
     "shell.execute_reply": "2022-10-22T05:24:54.581531Z",
     "shell.execute_reply.started": "2022-10-22T05:24:54.186587Z"
    },
    "tags": []
   },
   "outputs": [],
   "source": [
    "import pandas as pd\n",
    "import numpy as np\n",
    "import os\n",
    "\n",
    "import warnings\n",
    "from tqdm import tqdm"
   ]
  },
  {
   "cell_type": "markdown",
   "id": "3266ca74-a354-476e-b6bf-1c053a7b008d",
   "metadata": {},
   "source": [
    "# 차로변경차량 정보 추출"
   ]
  },
  {
   "cell_type": "markdown",
   "id": "0b13da65-a6d8-418f-8ccd-5d415671ede7",
   "metadata": {},
   "source": [
    "## 양양방향"
   ]
  },
  {
   "cell_type": "markdown",
   "id": "09a26612-64f3-44f0-8b71-bd259e5d91af",
   "metadata": {},
   "source": [
    "### Directory"
   ]
  },
  {
   "cell_type": "code",
   "execution_count": 2,
   "id": "446a592c-aabc-493b-8e7a-d242d1f658ec",
   "metadata": {
    "execution": {
     "iopub.execute_input": "2022-10-22T05:24:54.583526Z",
     "iopub.status.busy": "2022-10-22T05:24:54.583526Z",
     "iopub.status.idle": "2022-10-22T05:24:54.598487Z",
     "shell.execute_reply": "2022-10-22T05:24:54.597489Z",
     "shell.execute_reply.started": "2022-10-22T05:24:54.583526Z"
    },
    "tags": []
   },
   "outputs": [],
   "source": [
    "file_dir = 'D:/OneDrive - 연세대학교 (Yonsei University)/Projects/Yonsei_TELab/003_도로상충_210517-/2차년도_2022/27_남양주영업소_드론영상분석/양양방향/01_density_by_target_LOS_concated_lanechange'"
   ]
  },
  {
   "cell_type": "code",
   "execution_count": 3,
   "id": "458bfae0-615a-4800-87cf-11a07ee804b3",
   "metadata": {
    "execution": {
     "iopub.execute_input": "2022-10-22T05:24:54.600481Z",
     "iopub.status.busy": "2022-10-22T05:24:54.600481Z",
     "iopub.status.idle": "2022-10-22T05:24:54.614442Z",
     "shell.execute_reply": "2022-10-22T05:24:54.613447Z",
     "shell.execute_reply.started": "2022-10-22T05:24:54.600481Z"
    },
    "tags": []
   },
   "outputs": [],
   "source": [
    "save_dir = 'D:/OneDrive - 연세대학교 (Yonsei University)/Projects/Yonsei_TELab/003_도로상충_210517-/2차년도_2022/38_22-10차 회의 준비/221022_FV_목표차로후행차량정보/차로변경차량정보'"
   ]
  },
  {
   "cell_type": "code",
   "execution_count": 4,
   "id": "65192683-92ca-44ee-ac77-e0468ef80b10",
   "metadata": {
    "execution": {
     "iopub.execute_input": "2022-10-22T05:24:54.615439Z",
     "iopub.status.busy": "2022-10-22T05:24:54.615439Z",
     "iopub.status.idle": "2022-10-22T05:24:54.630427Z",
     "shell.execute_reply": "2022-10-22T05:24:54.629425Z",
     "shell.execute_reply.started": "2022-10-22T05:24:54.615439Z"
    },
    "tags": []
   },
   "outputs": [
    {
     "name": "stdout",
     "output_type": "stream",
     "text": [
      "['04_1_A.csv', '04_2_A.csv']\n"
     ]
    }
   ],
   "source": [
    "file_list = os.listdir(file_dir)\n",
    "file_list = file_list[3:]\n",
    "print(file_list)"
   ]
  },
  {
   "cell_type": "markdown",
   "id": "a85516c7-4dea-4414-bedd-1a0f4f38860a",
   "metadata": {},
   "source": [
    "### Extract\n",
    "* 차로변경 차량별로 현재차로-목표차로 페어를 입력하기\n",
    "* 현재차로-목표차로 페어에 따른 목표차로 후행차량(FV) 정보 구하기\n",
    "* `df.at[idx, 'Lane Identification Past'] = str(Lane_past)`"
   ]
  },
  {
   "cell_type": "code",
   "execution_count": 5,
   "id": "fe8b56aa-5500-41aa-808f-cf0565c7d08c",
   "metadata": {
    "execution": {
     "iopub.execute_input": "2022-10-22T05:24:54.631427Z",
     "iopub.status.busy": "2022-10-22T05:24:54.630427Z",
     "iopub.status.idle": "2022-10-22T05:24:55.772679Z",
     "shell.execute_reply": "2022-10-22T05:24:55.771680Z",
     "shell.execute_reply.started": "2022-10-22T05:24:54.631427Z"
    },
    "tags": []
   },
   "outputs": [],
   "source": [
    "warnings.filterwarnings(action = 'ignore') # pandas 경고메시지 숨기기\n",
    "\n",
    "for file in file_list:\n",
    "    \n",
    "    file_path = os.path.join(file_dir, file)\n",
    "    df = pd.read_csv(file_path)\n",
    "    \n",
    "    df2 = pd.DataFrame()\n",
    "    \n",
    "    # 차로변경을 한 차량 리스트만 뽑기\n",
    "    LC_veh_list = df[df['Lane_change'] == 'Change']['Vehicle ID'].unique()\n",
    "    \n",
    "    for veh in LC_veh_list: # 차로변경을 한 각 차량별로\n",
    "        df_veh = df[df['Vehicle ID'] == veh] ## 각 차량별 데이터프레임\n",
    "        df_veh['Lane_record_split'] = df_veh['Lane_record_split'].backfill()\n",
    "        df_veh['Lane_target'] = df_veh['Lane_record_split'].str.split('_', n = 1, expand = True)[1]\n",
    "        \n",
    "        df_veh['Lane_change_intend'] = df_veh['Lane_change_direction'].copy()\n",
    "        df_veh['Lane_change_intend'] = df_veh['Lane_change_intend'].backfill()\n",
    "    \n",
    "        df2 = pd.concat([df2, df_veh])\n",
    "    \n",
    "    df2.dropna(subset = ['Lane_record_split'], inplace = True) # Lane_record_split이 nan인 행 드랍\n",
    "    \n",
    "    save_file = f'LC_vehicle_Lane_info_{file[:4]}.csv'\n",
    "    save_path = os.path.join(save_dir, save_file)\n",
    "    \n",
    "    df2.to_csv(save_path)"
   ]
  },
  {
   "cell_type": "markdown",
   "id": "7de46b5d-f031-45f7-a0fa-5540d234b3f5",
   "metadata": {},
   "source": [
    "## 서울방향"
   ]
  },
  {
   "cell_type": "markdown",
   "id": "23ddd13c-9387-402c-a074-4bd59a4633c1",
   "metadata": {},
   "source": [
    "### Directory"
   ]
  },
  {
   "cell_type": "code",
   "execution_count": 6,
   "id": "40d5773e-daac-4b56-963e-a3d379b4cbae",
   "metadata": {
    "execution": {
     "iopub.execute_input": "2022-10-22T05:24:55.772679Z",
     "iopub.status.busy": "2022-10-22T05:24:55.772679Z",
     "iopub.status.idle": "2022-10-22T05:24:55.788636Z",
     "shell.execute_reply": "2022-10-22T05:24:55.787640Z",
     "shell.execute_reply.started": "2022-10-22T05:24:55.772679Z"
    },
    "tags": []
   },
   "outputs": [],
   "source": [
    "file_dir = 'D:/OneDrive - 연세대학교 (Yonsei University)/Projects/Yonsei_TELab/003_도로상충_210517-/2차년도_2022/27_남양주영업소_드론영상분석/서울방향/01_density_by_target_LOS_concated_lanechange'"
   ]
  },
  {
   "cell_type": "code",
   "execution_count": 7,
   "id": "6b1997c7-f4cc-4a32-95ce-4cc9f064045a",
   "metadata": {
    "execution": {
     "iopub.execute_input": "2022-10-22T05:24:55.790631Z",
     "iopub.status.busy": "2022-10-22T05:24:55.789633Z",
     "iopub.status.idle": "2022-10-22T05:24:55.803596Z",
     "shell.execute_reply": "2022-10-22T05:24:55.802599Z",
     "shell.execute_reply.started": "2022-10-22T05:24:55.790631Z"
    },
    "tags": []
   },
   "outputs": [
    {
     "name": "stdout",
     "output_type": "stream",
     "text": [
      "['01_1_A.csv', '01_2_A.csv', '01_3_A.csv', '02_1_A.csv', '02_2_A.csv', '02_3_A.csv']\n"
     ]
    }
   ],
   "source": [
    "file_list = os.listdir(file_dir)\n",
    "file_list = file_list[:6]\n",
    "print(file_list)"
   ]
  },
  {
   "cell_type": "markdown",
   "id": "1eed88e5-8d87-4f17-ae1b-263ca6b3115b",
   "metadata": {},
   "source": [
    "### Extract\n",
    "* 차로변경 차량별로 현재차로-목표차로 페어를 입력하기\n",
    "* 현재차로-목표차로 페어에 따른 목표차로 후행차량(FV) 정보 구하기\n",
    "* `df.at[idx, 'Lane Identification Past'] = str(Lane_past)`"
   ]
  },
  {
   "cell_type": "code",
   "execution_count": 8,
   "id": "39f8fb7e-f323-46f1-90aa-60e38a535109",
   "metadata": {
    "execution": {
     "iopub.execute_input": "2022-10-22T05:24:55.805590Z",
     "iopub.status.busy": "2022-10-22T05:24:55.804593Z",
     "iopub.status.idle": "2022-10-22T05:25:02.267215Z",
     "shell.execute_reply": "2022-10-22T05:25:02.266218Z",
     "shell.execute_reply.started": "2022-10-22T05:24:55.805590Z"
    },
    "tags": []
   },
   "outputs": [],
   "source": [
    "warnings.filterwarnings(action = 'ignore') # pandas 경고메시지 숨기기\n",
    "\n",
    "for file in file_list:\n",
    "    \n",
    "    file_path = os.path.join(file_dir, file)\n",
    "    df = pd.read_csv(file_path)\n",
    "    \n",
    "    df2 = pd.DataFrame()\n",
    "    \n",
    "    # 차로변경을 한 차량 리스트만 뽑기\n",
    "    LC_veh_list = df[df['Lane_change'] == 'Change']['Vehicle ID'].unique()\n",
    "    \n",
    "    for veh in LC_veh_list: # 차로변경을 한 각 차량별로\n",
    "        df_veh = df[df['Vehicle ID'] == veh] ## 각 차량별 데이터프레임\n",
    "        df_veh['Lane_record_split'] = df_veh['Lane_record_split'].backfill()\n",
    "        df_veh['Lane_target'] = df_veh['Lane_record_split'].str.split('_', n = 1, expand = True)[1]\n",
    "        \n",
    "        df_veh['Lane_change_intend'] = df_veh['Lane_change_direction'].copy()\n",
    "        df_veh['Lane_change_intend'] = df_veh['Lane_change_intend'].backfill()\n",
    "    \n",
    "        df2 = pd.concat([df2, df_veh])\n",
    "    \n",
    "    df2.dropna(subset = ['Lane_record_split'], inplace = True) # Lane_record_split이 nan인 행 드랍\n",
    "        \n",
    "    save_file = f'LC_vehicle_Lane_info_{file[:4]}.csv'\n",
    "    save_path = os.path.join(save_dir, save_file)\n",
    "    \n",
    "    df2.to_csv(save_path)"
   ]
  }
 ],
 "metadata": {
  "kernelspec": {
   "display_name": "Python 3",
   "language": "python",
   "name": "python3"
  },
  "language_info": {
   "codemirror_mode": {
    "name": "ipython",
    "version": 3
   },
   "file_extension": ".py",
   "mimetype": "text/x-python",
   "name": "python",
   "nbconvert_exporter": "python",
   "pygments_lexer": "ipython3",
   "version": "3.8.8"
  }
 },
 "nbformat": 4,
 "nbformat_minor": 5
}
