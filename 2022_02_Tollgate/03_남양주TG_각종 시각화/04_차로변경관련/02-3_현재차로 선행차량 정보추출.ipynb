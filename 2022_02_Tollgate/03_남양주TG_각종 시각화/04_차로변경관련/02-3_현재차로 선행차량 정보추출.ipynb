{
 "cells": [
  {
   "cell_type": "markdown",
   "id": "f20d3791-6025-4223-a571-2bb26d94a5f2",
   "metadata": {},
   "source": [
    "# 영업소 현재차로 선행차량 정보추출"
   ]
  },
  {
   "cell_type": "markdown",
   "id": "a0f93746-2435-4fb3-a515-75e5baef8647",
   "metadata": {},
   "source": [
    "# Set Up"
   ]
  },
  {
   "cell_type": "markdown",
   "id": "088e30b8-bc6f-496f-a285-a40426ef3455",
   "metadata": {},
   "source": [
    "## Import"
   ]
  },
  {
   "cell_type": "code",
   "execution_count": 1,
   "id": "1ce1f656-fae5-4a2a-89b3-ab44cf3c0712",
   "metadata": {
    "execution": {
     "iopub.execute_input": "2022-10-22T06:53:36.429243Z",
     "iopub.status.busy": "2022-10-22T06:53:36.429243Z",
     "iopub.status.idle": "2022-10-22T06:53:36.908043Z",
     "shell.execute_reply": "2022-10-22T06:53:36.908043Z",
     "shell.execute_reply.started": "2022-10-22T06:53:36.429243Z"
    },
    "tags": []
   },
   "outputs": [],
   "source": [
    "import pandas as pd\n",
    "import numpy as np\n",
    "import os\n",
    "\n",
    "import warnings\n",
    "from tqdm import tqdm"
   ]
  },
  {
   "cell_type": "code",
   "execution_count": 2,
   "id": "8975ca95-8a91-4ba2-90b2-aa3c1d13f5cf",
   "metadata": {
    "execution": {
     "iopub.execute_input": "2022-10-22T06:53:36.909041Z",
     "iopub.status.busy": "2022-10-22T06:53:36.909041Z",
     "iopub.status.idle": "2022-10-22T06:53:36.924969Z",
     "shell.execute_reply": "2022-10-22T06:53:36.923972Z",
     "shell.execute_reply.started": "2022-10-22T06:53:36.909041Z"
    },
    "tags": []
   },
   "outputs": [],
   "source": [
    "save_dir = 'D:/OneDrive - 연세대학교 (Yonsei University)/Projects/Yonsei_TELab/003_도로상충_210517-/2차년도_2022/38_22-10차 회의 준비/221022_인접차량정보/현재차로_선행차량정보'"
   ]
  },
  {
   "cell_type": "markdown",
   "id": "180a3e48-63f8-4a50-bde5-bf8d8229a13f",
   "metadata": {},
   "source": [
    "## Dataset"
   ]
  },
  {
   "cell_type": "markdown",
   "id": "ac515776-2fe8-4ec3-b56e-d27765084940",
   "metadata": {},
   "source": [
    "### LC\n",
    "* 차로변경 차량궤적 데이터셋"
   ]
  },
  {
   "cell_type": "code",
   "execution_count": 3,
   "id": "7019b4de-d1f9-4cc6-82ef-f4355cb2e2bd",
   "metadata": {
    "execution": {
     "iopub.execute_input": "2022-10-22T06:53:36.925966Z",
     "iopub.status.busy": "2022-10-22T06:53:36.925966Z",
     "iopub.status.idle": "2022-10-22T06:53:36.940927Z",
     "shell.execute_reply": "2022-10-22T06:53:36.939929Z",
     "shell.execute_reply.started": "2022-10-22T06:53:36.925966Z"
    },
    "tags": []
   },
   "outputs": [],
   "source": [
    "LC_dir = 'D:/OneDrive - 연세대학교 (Yonsei University)/Projects/Yonsei_TELab/003_도로상충_210517-/2차년도_2022/38_22-10차 회의 준비/221022_인접차량정보/차로변경차량정보'"
   ]
  },
  {
   "cell_type": "code",
   "execution_count": 4,
   "id": "fe17bbd5-4dd6-4c59-b1d4-f40e169c4539",
   "metadata": {
    "execution": {
     "iopub.execute_input": "2022-10-22T06:53:36.941956Z",
     "iopub.status.busy": "2022-10-22T06:53:36.941956Z",
     "iopub.status.idle": "2022-10-22T06:53:36.957879Z",
     "shell.execute_reply": "2022-10-22T06:53:36.955885Z",
     "shell.execute_reply.started": "2022-10-22T06:53:36.941956Z"
    },
    "tags": []
   },
   "outputs": [],
   "source": [
    "LC_file_list = os.listdir(LC_dir)"
   ]
  },
  {
   "cell_type": "code",
   "execution_count": 5,
   "id": "72174a76-b06b-4bbb-aa2d-809caedf3a35",
   "metadata": {
    "execution": {
     "iopub.execute_input": "2022-10-22T06:53:36.961870Z",
     "iopub.status.busy": "2022-10-22T06:53:36.959878Z",
     "iopub.status.idle": "2022-10-22T06:53:36.975838Z",
     "shell.execute_reply": "2022-10-22T06:53:36.971845Z",
     "shell.execute_reply.started": "2022-10-22T06:53:36.961870Z"
    },
    "tags": []
   },
   "outputs": [],
   "source": [
    "LC_file_list_Seoul = LC_file_list[:6]\n",
    "LC_file_list_Yangyang = LC_file_list[6:]"
   ]
  },
  {
   "cell_type": "markdown",
   "id": "49097bc0-a519-46f7-b475-5e1023e111ab",
   "metadata": {},
   "source": [
    "### Full\n",
    "* 전체 차량궤적 데이터셋"
   ]
  },
  {
   "cell_type": "code",
   "execution_count": 6,
   "id": "3d481762-f15f-4a61-aa7b-a94f7f008c20",
   "metadata": {
    "execution": {
     "iopub.execute_input": "2022-10-22T06:53:36.978824Z",
     "iopub.status.busy": "2022-10-22T06:53:36.977829Z",
     "iopub.status.idle": "2022-10-22T06:53:36.990793Z",
     "shell.execute_reply": "2022-10-22T06:53:36.987802Z",
     "shell.execute_reply.started": "2022-10-22T06:53:36.978824Z"
    },
    "tags": []
   },
   "outputs": [],
   "source": [
    "data_dir_Yangyang = 'D:/OneDrive - 연세대학교 (Yonsei University)/Projects/Yonsei_TELab/003_도로상충_210517-/2차년도_2022/27_남양주영업소_드론영상분석/양양방향/01_density_by_target_LOS_concated_lanechange'"
   ]
  },
  {
   "cell_type": "code",
   "execution_count": 7,
   "id": "c49e8695-0826-4e10-afbe-c40f0edde059",
   "metadata": {
    "execution": {
     "iopub.execute_input": "2022-10-22T06:53:36.991789Z",
     "iopub.status.busy": "2022-10-22T06:53:36.991789Z",
     "iopub.status.idle": "2022-10-22T06:53:37.004756Z",
     "shell.execute_reply": "2022-10-22T06:53:37.003758Z",
     "shell.execute_reply.started": "2022-10-22T06:53:36.991789Z"
    },
    "tags": []
   },
   "outputs": [],
   "source": [
    "data_dir_Seoul = 'D:/OneDrive - 연세대학교 (Yonsei University)/Projects/Yonsei_TELab/003_도로상충_210517-/2차년도_2022/27_남양주영업소_드론영상분석/서울방향/01_density_by_target_LOS_concated_lanechange'"
   ]
  },
  {
   "cell_type": "code",
   "execution_count": 8,
   "id": "e4546410-ad68-4af7-8ebe-b0eeeb3ba888",
   "metadata": {
    "execution": {
     "iopub.execute_input": "2022-10-22T06:53:37.005753Z",
     "iopub.status.busy": "2022-10-22T06:53:37.005753Z",
     "iopub.status.idle": "2022-10-22T06:53:37.020713Z",
     "shell.execute_reply": "2022-10-22T06:53:37.019715Z",
     "shell.execute_reply.started": "2022-10-22T06:53:37.005753Z"
    },
    "tags": []
   },
   "outputs": [
    {
     "data": {
      "text/plain": [
       "['04_1_A.csv', '04_2_A.csv']"
      ]
     },
     "execution_count": 8,
     "metadata": {},
     "output_type": "execute_result"
    }
   ],
   "source": [
    "Full_file_list_Yangyang = os.listdir(data_dir_Yangyang)\n",
    "Full_file_list_Yangyang = Full_file_list_Yangyang[-2:]\n",
    "Full_file_list_Yangyang"
   ]
  },
  {
   "cell_type": "code",
   "execution_count": 9,
   "id": "74299893-b3f3-4fd5-8a02-645c599d071b",
   "metadata": {
    "execution": {
     "iopub.execute_input": "2022-10-22T06:53:37.022707Z",
     "iopub.status.busy": "2022-10-22T06:53:37.022707Z",
     "iopub.status.idle": "2022-10-22T06:53:37.036670Z",
     "shell.execute_reply": "2022-10-22T06:53:37.035673Z",
     "shell.execute_reply.started": "2022-10-22T06:53:37.022707Z"
    },
    "tags": []
   },
   "outputs": [
    {
     "data": {
      "text/plain": [
       "['01_1_A.csv',\n",
       " '01_2_A.csv',\n",
       " '01_3_A.csv',\n",
       " '02_1_A.csv',\n",
       " '02_2_A.csv',\n",
       " '02_3_A.csv']"
      ]
     },
     "execution_count": 9,
     "metadata": {},
     "output_type": "execute_result"
    }
   ],
   "source": [
    "Full_file_list_Seoul = os.listdir(data_dir_Seoul)\n",
    "Full_file_list_Seoul = Full_file_list_Seoul[:6]\n",
    "Full_file_list_Seoul"
   ]
  },
  {
   "cell_type": "markdown",
   "id": "a942e81a-b62d-4d4a-8ce0-78378bb5af16",
   "metadata": {},
   "source": [
    "# Workflow\n",
    "* LC 데이터셋을 바탕으로 마련한다.\n",
    "* LC 데이터셋 같은 프레임 -> 현재차로 -> Local X가 가장 가까운, 가장 가까운차량(`LV1`)을 탐색 -> 해당 차량의 정보를 LC 데이터셋에 추가\n",
    "* LC 데이터셋에 새로운 컬럼을 추가하기:\n",
    "    * `LV1_ID` : 현재차로차량의 Vehicle ID\n",
    "    * `LV1_Vehicle Speed` : 현재차로 차량의 속도\n",
    "    * `LV1_x` : 현재차로 선행 차량의 Local X\n",
    "    * `LV1_y` : 현재차로 선행 차량의 Local Y\n",
    "* 다음의 파생변수를 생성함:\n",
    "    * $V_{LV1}$ : 현재 차로의 선행차량($LV1$) 속도\n",
    "    * $D_{LV1}$ : 현재 차로에서 대상 차량($HV$)과 선행 차량($LV1$) 사이의 초기 차간거리\n",
    "    * $SD_{LV1}$ : $t_{LC}$ 동안(차로변경 시) 대상 차량($HV$)과 선행 차량($LV1$) 간의 최소안전거리\n",
    "* 참고 : \n",
    "    * `idx = df[(df['Vehicle ID'] == veh) & (df['Frame ID'] == frm)]['Lane_change'].index[0]` # 차로변경된 행의 인덱스\n",
    "    * `df.at[idx, 'Lane Identification Past'] = str(Lane_past)`"
   ]
  },
  {
   "cell_type": "markdown",
   "id": "54e442a2-f717-48bd-9585-68abcb01d0ff",
   "metadata": {},
   "source": [
    "## 양양방향"
   ]
  },
  {
   "cell_type": "markdown",
   "id": "54e7254e-9524-442d-9c7a-a7991017d1cb",
   "metadata": {},
   "source": [
    "## 서울방향"
   ]
  },
  {
   "cell_type": "code",
   "execution_count": 10,
   "id": "a2ba5a02-44e9-40a5-b415-53206c3b2568",
   "metadata": {
    "execution": {
     "iopub.execute_input": "2022-10-22T06:53:37.037667Z",
     "iopub.status.busy": "2022-10-22T06:53:37.036670Z",
     "iopub.status.idle": "2022-10-22T06:53:37.054626Z",
     "shell.execute_reply": "2022-10-22T06:53:37.051630Z",
     "shell.execute_reply.started": "2022-10-22T06:53:37.037667Z"
    },
    "tags": []
   },
   "outputs": [],
   "source": [
    "OBS_point_02_1 = {'U3' : (84.063, 103.113), 'U4' : (92.403, 79.683), 'U5' : (60.149, 74.817), 'U6' : (33.748, 69.464)}\n",
    "OBS_point_02_2 = {'U1' : (60.149, 74.817), 'U2' : (33.748, 69.464)}"
   ]
  },
  {
   "cell_type": "code",
   "execution_count": 11,
   "id": "25eaddfb-fbbe-4b33-b302-45e30386163f",
   "metadata": {
    "execution": {
     "iopub.execute_input": "2022-10-22T06:53:37.056617Z",
     "iopub.status.busy": "2022-10-22T06:53:37.055622Z",
     "iopub.status.idle": "2022-10-22T06:54:06.835939Z",
     "shell.execute_reply": "2022-10-22T06:54:06.834941Z",
     "shell.execute_reply.started": "2022-10-22T06:53:37.056617Z"
    },
    "tags": []
   },
   "outputs": [
    {
     "name": "stderr",
     "output_type": "stream",
     "text": [
      "100%|█████████████████████████████████████████████████████████████████████████████| 1420/1420 [00:05<00:00, 278.29it/s]\n",
      "100%|█████████████████████████████████████████████████████████████████████████████| 3713/3713 [00:13<00:00, 274.40it/s]\n",
      "100%|█████████████████████████████████████████████████████████████████████████████| 1713/1713 [00:05<00:00, 314.31it/s]\n",
      "100%|███████████████████████████████████████████████████████████████████████████████| 173/173 [00:00<00:00, 267.79it/s]\n",
      "100%|███████████████████████████████████████████████████████████████████████████████| 779/779 [00:02<00:00, 278.25it/s]\n",
      "100%|███████████████████████████████████████████████████████████████████████████████| 513/513 [00:01<00:00, 319.56it/s]\n"
     ]
    }
   ],
   "source": [
    "for LC_file, full_file in zip(LC_file_list_Seoul, Full_file_list_Seoul):\n",
    "    \n",
    "    LC_file_num = LC_file[-8:-4] # 파일번호\n",
    "    \n",
    "    LC_file_path = os.path.join(LC_dir, LC_file)\n",
    "    LC_df = pd.read_csv(LC_file_path) # 각 LC 차량을 불러오기\n",
    "    \n",
    "    full_data_path = os.path.join(data_dir_Seoul, full_file)\n",
    "    full_df = pd.read_csv(full_data_path)\n",
    "    \n",
    "    LC_df['LV1_ID'] = None # 현재차로 선행차량 Vehicle ID\n",
    "    LC_df['LV1_Velocity'] = None # 현재차로 선행차량 Vehicle Velocity\n",
    "    LC_df['LV1_x'] = None # 현재차로 선행차량 x좌표\n",
    "    LC_df['LV1_y'] = None # 현재차로 선행차량 y좌표\n",
    "    \n",
    "    for i in tqdm(range(len(LC_df))): ## i = 0~ 인덱스\n",
    "        row = LC_df.iloc[i] # LC_df의 각 행별로\n",
    "        \n",
    "        HV_x = row['Local X (m)'] ### 차량의 X좌표v\n",
    "        HV_y = row['Local Y(m)'] ### 차량의 Y좌표\n",
    "        HV_Lane_present = row['Lane_present'] ### 차량의 현재 차로\n",
    "        frame = row['Frame ID']\n",
    "        \n",
    "        ### Full DF로부터 해당 프레임, 해당 present Lane에 존재하며, Local X보다 앞에 있는(=x값이 \"작은\") row 리스트를 뽑기\n",
    "        target_df = full_df[(full_df['Frame ID'] == frame) & (full_df['Lane Identification'] == HV_Lane_present) & (full_df['Local X (m)'] < HV_x)]\n",
    "        \n",
    "        ### 선행 차량이 있을 경우, 선행 차량이 없을 경우를 나누기\n",
    "        if len(target_df) >= 1: # 해당 프레임 선행 차량이 1대 이상 존재할 경우 : Local X값이 가장 \"큰\" 것의 값을 취하시오\n",
    "            target_df = target_df[target_df['Local X (m)'] == target_df['Local X (m)'].max()]\n",
    "            \n",
    "            LC_df.at[i, 'LV1_ID'] = target_df['Vehicle ID'].iloc[0]\n",
    "            LC_df.at[i, 'LV1_Velocity'] = target_df['Vehicle Velocity(km/h)'].iloc[0]\n",
    "            LC_df.at[i, 'LV1_x'] = target_df['Local X (m)'].iloc[0]\n",
    "            LC_df.at[i, 'LV1_y'] = target_df['Local Y(m)'].iloc[0]\n",
    "            \n",
    "        else: # 해당 프레임에서 선행 차량이 없을 경우 : obs_remain을 적용해야 함. PE방호벽에 따라서 다름.\n",
    "            if LC_file_num == '04_1': # PE방호벽 영향을 받는 파일이며 현재 차로가 PE방호벽이 있는 차로인 경우\n",
    "                OBS_lane_list = list(OBS_point_04_1.keys()) ### PE방호벽 영향을 받는 차로 리스트\n",
    "                    \n",
    "                if HV_Lane_present in OBS_lane_list: # PE방호벽 영향을 받는 차로이면\n",
    "                    LC_df.at[i, 'LV1_ID'] = 'OBS' # PE방호벽밖에 없음을 의미함\n",
    "                    LC_df.at[i, 'LV1_Velocity'] = 0 # PE방호벽의 속도는 0임\n",
    "                    LC_df.at[i, 'LV1_x'] = OBS_point_04_1[HV_Lane_present][0] ### PE방호벽 x좌표\n",
    "                    LC_df.at[i, 'LV1_y'] = OBS_point_04_1[HV_Lane_present][1] ### PE방호벽 y좌표\n",
    "                    \n",
    "            \n",
    "                \n",
    "            else: #선행차량이 없고 PE방호벽 영향을 안받는 파일인경우\n",
    "                pass\n",
    "        \n",
    "    save_path = os.path.join(save_dir, LC_file)\n",
    "    LC_df.to_csv(save_path)"
   ]
  }
 ],
 "metadata": {
  "kernelspec": {
   "display_name": "Python 3",
   "language": "python",
   "name": "python3"
  },
  "language_info": {
   "codemirror_mode": {
    "name": "ipython",
    "version": 3
   },
   "file_extension": ".py",
   "mimetype": "text/x-python",
   "name": "python",
   "nbconvert_exporter": "python",
   "pygments_lexer": "ipython3",
   "version": "3.8.8"
  }
 },
 "nbformat": 4,
 "nbformat_minor": 5
}
