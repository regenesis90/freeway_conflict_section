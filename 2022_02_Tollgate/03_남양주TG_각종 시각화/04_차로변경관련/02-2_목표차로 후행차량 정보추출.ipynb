{
 "cells": [
  {
   "cell_type": "markdown",
   "id": "f20d3791-6025-4223-a571-2bb26d94a5f2",
   "metadata": {},
   "source": [
    "# 영업소 목표차로 선행차량+후행차량 정보추출 : 남양주TG"
   ]
  },
  {
   "cell_type": "markdown",
   "id": "a0f93746-2435-4fb3-a515-75e5baef8647",
   "metadata": {},
   "source": [
    "# Set Up"
   ]
  },
  {
   "cell_type": "markdown",
   "id": "088e30b8-bc6f-496f-a285-a40426ef3455",
   "metadata": {},
   "source": [
    "## Import"
   ]
  },
  {
   "cell_type": "code",
   "execution_count": 1,
   "id": "1ce1f656-fae5-4a2a-89b3-ab44cf3c0712",
   "metadata": {
    "execution": {
     "iopub.execute_input": "2022-10-24T11:12:36.919284Z",
     "iopub.status.busy": "2022-10-24T11:12:36.919284Z",
     "iopub.status.idle": "2022-10-24T11:12:37.437870Z",
     "shell.execute_reply": "2022-10-24T11:12:37.436871Z",
     "shell.execute_reply.started": "2022-10-24T11:12:36.919284Z"
    },
    "tags": []
   },
   "outputs": [],
   "source": [
    "import pandas as pd\n",
    "import numpy as np\n",
    "import os\n",
    "\n",
    "import warnings\n",
    "from tqdm import tqdm"
   ]
  },
  {
   "cell_type": "code",
   "execution_count": 2,
   "id": "8975ca95-8a91-4ba2-90b2-aa3c1d13f5cf",
   "metadata": {
    "execution": {
     "iopub.execute_input": "2022-10-24T11:12:37.438866Z",
     "iopub.status.busy": "2022-10-24T11:12:37.438866Z",
     "iopub.status.idle": "2022-10-24T11:12:37.454824Z",
     "shell.execute_reply": "2022-10-24T11:12:37.452830Z",
     "shell.execute_reply.started": "2022-10-24T11:12:37.438866Z"
    },
    "tags": []
   },
   "outputs": [],
   "source": [
    "save_dir = 'D:/OneDrive - 연세대학교 (Yonsei University)/Projects/Yonsei_TELab/003_도로상충_210517-/2차년도_2022/38_22-10차 회의 준비/221022_인접차량정보/목표차로_선행후행차량정보'"
   ]
  },
  {
   "cell_type": "markdown",
   "id": "180a3e48-63f8-4a50-bde5-bf8d8229a13f",
   "metadata": {},
   "source": [
    "## Dataset"
   ]
  },
  {
   "cell_type": "markdown",
   "id": "ac515776-2fe8-4ec3-b56e-d27765084940",
   "metadata": {},
   "source": [
    "### LC\n",
    "* 차로변경 차량궤적 데이터셋"
   ]
  },
  {
   "cell_type": "code",
   "execution_count": 3,
   "id": "7019b4de-d1f9-4cc6-82ef-f4355cb2e2bd",
   "metadata": {
    "execution": {
     "iopub.execute_input": "2022-10-24T11:12:37.455821Z",
     "iopub.status.busy": "2022-10-24T11:12:37.455821Z",
     "iopub.status.idle": "2022-10-24T11:12:37.469784Z",
     "shell.execute_reply": "2022-10-24T11:12:37.468787Z",
     "shell.execute_reply.started": "2022-10-24T11:12:37.455821Z"
    },
    "tags": []
   },
   "outputs": [],
   "source": [
    "LC_dir = 'D:/OneDrive - 연세대학교 (Yonsei University)/Projects/Yonsei_TELab/003_도로상충_210517-/2차년도_2022/38_22-10차 회의 준비/221022_인접차량정보/차로변경차량정보'"
   ]
  },
  {
   "cell_type": "code",
   "execution_count": 4,
   "id": "fe17bbd5-4dd6-4c59-b1d4-f40e169c4539",
   "metadata": {
    "execution": {
     "iopub.execute_input": "2022-10-24T11:12:37.471785Z",
     "iopub.status.busy": "2022-10-24T11:12:37.470783Z",
     "iopub.status.idle": "2022-10-24T11:12:37.486739Z",
     "shell.execute_reply": "2022-10-24T11:12:37.484748Z",
     "shell.execute_reply.started": "2022-10-24T11:12:37.471785Z"
    },
    "tags": []
   },
   "outputs": [],
   "source": [
    "LC_file_list = os.listdir(LC_dir)"
   ]
  },
  {
   "cell_type": "code",
   "execution_count": 5,
   "id": "72174a76-b06b-4bbb-aa2d-809caedf3a35",
   "metadata": {
    "execution": {
     "iopub.execute_input": "2022-10-24T11:12:37.488733Z",
     "iopub.status.busy": "2022-10-24T11:12:37.487736Z",
     "iopub.status.idle": "2022-10-24T11:12:37.501699Z",
     "shell.execute_reply": "2022-10-24T11:12:37.500703Z",
     "shell.execute_reply.started": "2022-10-24T11:12:37.487736Z"
    },
    "tags": []
   },
   "outputs": [],
   "source": [
    "LC_file_list_Seoul = LC_file_list[:6]\n",
    "LC_file_list_Yangyang = LC_file_list[6:]"
   ]
  },
  {
   "cell_type": "markdown",
   "id": "49097bc0-a519-46f7-b475-5e1023e111ab",
   "metadata": {},
   "source": [
    "### Full\n",
    "* 전체 차량궤적 데이터셋"
   ]
  },
  {
   "cell_type": "code",
   "execution_count": 6,
   "id": "3d481762-f15f-4a61-aa7b-a94f7f008c20",
   "metadata": {
    "execution": {
     "iopub.execute_input": "2022-10-24T11:12:37.502696Z",
     "iopub.status.busy": "2022-10-24T11:12:37.502696Z",
     "iopub.status.idle": "2022-10-24T11:12:37.517656Z",
     "shell.execute_reply": "2022-10-24T11:12:37.516659Z",
     "shell.execute_reply.started": "2022-10-24T11:12:37.502696Z"
    },
    "tags": []
   },
   "outputs": [],
   "source": [
    "data_dir_Yangyang = 'D:/OneDrive - 연세대학교 (Yonsei University)/Projects/Yonsei_TELab/003_도로상충_210517-/2차년도_2022/27_남양주영업소_드론영상분석/양양방향/01_density_by_target_LOS_concated_lanechange'"
   ]
  },
  {
   "cell_type": "code",
   "execution_count": 7,
   "id": "c49e8695-0826-4e10-afbe-c40f0edde059",
   "metadata": {
    "execution": {
     "iopub.execute_input": "2022-10-24T11:12:37.519651Z",
     "iopub.status.busy": "2022-10-24T11:12:37.518653Z",
     "iopub.status.idle": "2022-10-24T11:12:37.534610Z",
     "shell.execute_reply": "2022-10-24T11:12:37.532624Z",
     "shell.execute_reply.started": "2022-10-24T11:12:37.519651Z"
    },
    "tags": []
   },
   "outputs": [],
   "source": [
    "data_dir_Seoul = 'D:/OneDrive - 연세대학교 (Yonsei University)/Projects/Yonsei_TELab/003_도로상충_210517-/2차년도_2022/27_남양주영업소_드론영상분석/서울방향/01_density_by_target_LOS_concated_lanechange'"
   ]
  },
  {
   "cell_type": "code",
   "execution_count": 8,
   "id": "e4546410-ad68-4af7-8ebe-b0eeeb3ba888",
   "metadata": {
    "execution": {
     "iopub.execute_input": "2022-10-24T11:12:37.536608Z",
     "iopub.status.busy": "2022-10-24T11:12:37.536608Z",
     "iopub.status.idle": "2022-10-24T11:12:37.549571Z",
     "shell.execute_reply": "2022-10-24T11:12:37.548573Z",
     "shell.execute_reply.started": "2022-10-24T11:12:37.536608Z"
    },
    "tags": []
   },
   "outputs": [
    {
     "data": {
      "text/plain": [
       "['04_1_A.csv', '04_2_A.csv']"
      ]
     },
     "execution_count": 8,
     "metadata": {},
     "output_type": "execute_result"
    }
   ],
   "source": [
    "Full_file_list_Yangyang = os.listdir(data_dir_Yangyang)\n",
    "Full_file_list_Yangyang = Full_file_list_Yangyang[-2:]\n",
    "Full_file_list_Yangyang"
   ]
  },
  {
   "cell_type": "code",
   "execution_count": 9,
   "id": "74299893-b3f3-4fd5-8a02-645c599d071b",
   "metadata": {
    "execution": {
     "iopub.execute_input": "2022-10-24T11:12:37.552565Z",
     "iopub.status.busy": "2022-10-24T11:12:37.551566Z",
     "iopub.status.idle": "2022-10-24T11:12:37.565529Z",
     "shell.execute_reply": "2022-10-24T11:12:37.564532Z",
     "shell.execute_reply.started": "2022-10-24T11:12:37.552565Z"
    },
    "tags": []
   },
   "outputs": [
    {
     "data": {
      "text/plain": [
       "['01_1_A.csv',\n",
       " '01_2_A.csv',\n",
       " '01_3_A.csv',\n",
       " '02_1_A.csv',\n",
       " '02_2_A.csv',\n",
       " '02_3_A.csv']"
      ]
     },
     "execution_count": 9,
     "metadata": {},
     "output_type": "execute_result"
    }
   ],
   "source": [
    "Full_file_list_Seoul = os.listdir(data_dir_Seoul)\n",
    "Full_file_list_Seoul = Full_file_list_Seoul[:6]\n",
    "Full_file_list_Seoul"
   ]
  },
  {
   "cell_type": "markdown",
   "id": "a942e81a-b62d-4d4a-8ce0-78378bb5af16",
   "metadata": {},
   "source": [
    "# Workflow\n",
    "* LC 데이터셋을 바탕으로 마련한다.\n",
    "* LC 데이터셋 같은 프레임 -> 목표차로 -> Local X가 가장 가까운, 목표차로 뒤에 붙어있는 후행차량(`FV`)을 탐색 -> 해당 차량의 정보를 LC 데이터셋에 추가\n",
    "* LC 데이터셋 같은 프레임 -> 목표차로 -> Local X가 가장 가까운, 목표차로 앞에 붙어있는 선행차량(`LV2`)을 탐색 -> 해당 차량의 정보를 LC 데이터셋에 추가\n",
    "* LC 데이터셋에 새로운 컬럼을 추가하기\n",
    "    * 목표차로 후행차량(`FV`):\n",
    "        * `FV_ID` : 후행차량의 Vehicle ID\n",
    "        * `FV_Vehicle Speed` : 후행 차량의 속도\n",
    "        * `FV_x` : 후행 차량의 Local X\n",
    "        * `FV_y` : 후행 차량의 Local Y\n",
    "    * 목표차로 선행차량(`LV2`):\n",
    "        * `LV2_ID` : 목표차로 선행차량의 Vehicle ID\n",
    "        * `LV2_Vehicle Speed` : 목표차로 선행차량의 속도\n",
    "        * `LV2_x` : 목표차로 선행차량의 Local X\n",
    "        * `LV2_y` : 목표차로 선행차량의 Local Y* 참고 : \n",
    "    * `idx = df[(df['Vehicle ID'] == veh) & (df['Frame ID'] == frm)]['Lane_change'].index[0]` # 차로변경된 행의 인덱스\n",
    "    * `df.at[idx, 'Lane Identification Past'] = str(Lane_past)`"
   ]
  },
  {
   "cell_type": "markdown",
   "id": "9d44ab78-d2bb-4088-8b1e-64734f1664ca",
   "metadata": {},
   "source": [
    "## 양양방향\n",
    "* 차량이 진행할수록 `Local X (m)`가 \"감소\"함\n",
    "    * 선행차량 : `Local X (m)`가 더 작음\n",
    "    * 후행차량 : `Local X (m)`가 더 큼"
   ]
  },
  {
   "cell_type": "code",
   "execution_count": 10,
   "id": "ed096e90-9ae6-4d23-930b-9a9fad3fe954",
   "metadata": {
    "execution": {
     "iopub.execute_input": "2022-10-24T11:12:37.566527Z",
     "iopub.status.busy": "2022-10-24T11:12:37.566527Z",
     "iopub.status.idle": "2022-10-24T11:12:37.581486Z",
     "shell.execute_reply": "2022-10-24T11:12:37.580488Z",
     "shell.execute_reply.started": "2022-10-24T11:12:37.566527Z"
    },
    "tags": []
   },
   "outputs": [],
   "source": [
    "OBS_point_04_1 = {'U3' : (156, 102.267), 'U4' : (189.787, 107.2)}"
   ]
  },
  {
   "cell_type": "code",
   "execution_count": 11,
   "id": "25eaddfb-fbbe-4b33-b302-45e30386163f",
   "metadata": {
    "execution": {
     "iopub.execute_input": "2022-10-24T11:12:37.582484Z",
     "iopub.status.busy": "2022-10-24T11:12:37.582484Z",
     "iopub.status.idle": "2022-10-24T11:12:44.555843Z",
     "shell.execute_reply": "2022-10-24T11:12:44.554874Z",
     "shell.execute_reply.started": "2022-10-24T11:12:37.582484Z"
    },
    "tags": []
   },
   "outputs": [
    {
     "name": "stderr",
     "output_type": "stream",
     "text": [
      "100%|█████████████████████████████████████████████████████████████████████████████| 1512/1512 [00:04<00:00, 317.96it/s]\n",
      "100%|███████████████████████████████████████████████████████████████████████████████| 734/734 [00:02<00:00, 358.13it/s]\n"
     ]
    }
   ],
   "source": [
    "for LC_file, full_file in zip(LC_file_list_Yangyang, Full_file_list_Yangyang):\n",
    "    \n",
    "    LC_file_num = LC_file[-8:-4] # 파일번호\n",
    "    \n",
    "    LC_file_path = os.path.join(LC_dir, LC_file)\n",
    "    LC_df = pd.read_csv(LC_file_path) # 각 LC 차량을 불러오기\n",
    "    \n",
    "    full_data_path = os.path.join(data_dir_Yangyang, full_file)\n",
    "    full_df = pd.read_csv(full_data_path)\n",
    "    \n",
    "    LC_df['FV_ID'] = None # 후행차량 Vehicle ID\n",
    "    LC_df['FV_Velocity'] = None # 후행차량 Vehicle Velocity\n",
    "    LC_df['FV_x'] = None # 후행차량 x좌표\n",
    "    LC_df['FV_y'] = None # 후행차량 y좌표\n",
    "    \n",
    "    LC_df['LV2_ID'] = None # 목표차로 선행차량 Vehicle ID\n",
    "    LC_df['LV2_Velocity'] = None # 목표차로 선행차량 Vehicle Velocity\n",
    "    LC_df['LV2_x'] = None # 목표차로 선행차량 x좌표\n",
    "    LC_df['LV2_y'] = None # 목표차로 선행차량 y좌표\n",
    "    \n",
    "    for i in tqdm(range(len(LC_df))): ## i = 0~ 인덱스\n",
    "        row = LC_df.iloc[i] # LC_df의 각 행별로\n",
    "        \n",
    "        HV_x = row['Local X (m)'] ### 차량의 X좌표\n",
    "        HV_y = row['Local Y(m)'] ### 차량의 Y좌표\n",
    "        HV_Lane_target = row['Lane_target'] ### 차량의 목표 차로\n",
    "        frame = row['Frame ID']\n",
    "        \n",
    "        ######### 목표차로 후행차량 #########\n",
    "        ######## 양양방향의 후행차량은 Local X가 현재차량의 것보다 더 큽니다.\n",
    "        ### Full DF로부터 해당 프레임, 해당 target Lane에 존재하며, Local X보다 뒤에 있는(=x값이 작은) row 리스트를 뽑기\n",
    "        FV_df = full_df[(full_df['Frame ID'] == frame) & (full_df['Lane Identification'] == HV_Lane_target) & (full_df['Local X (m)'] > HV_x)]\n",
    "        \n",
    "        ### 후행 차량이 있을 경우, 후행 차량이 없을 경우를 나누기\n",
    "        if len(FV_df) >= 1: # 해당 프레임 후행 차량이 1대 이상 존재할 경우 : Local X값이 가장 작은 값(후행차량 중 가장 가까운 것)을 취하시오\n",
    "            \n",
    "            FV_df = FV_df[FV_df['Local X (m)'] == FV_df['Local X (m)'].min()]\n",
    "            \n",
    "            LC_df.at[i, 'FV_ID'] = FV_df['Vehicle ID'].iloc[0]\n",
    "            LC_df.at[i, 'FV_Velocity'] = FV_df['Vehicle Velocity(km/h)'].iloc[0]\n",
    "            LC_df.at[i, 'FV_x'] = FV_df['Local X (m)'].iloc[0]\n",
    "            LC_df.at[i, 'FV_y'] = FV_df['Local Y(m)'].iloc[0]\n",
    "            \n",
    "        else: # 해당 프레임에서 후행 차량이 없을 경우\n",
    "            pass\n",
    "        \n",
    "        ######### 목표차로 선행차량 #########\n",
    "        ######## 양양방향의 선행차량은 Local X가 현재차량의 것보다 더 작습니다.\n",
    "        ### Full DF로부터 해당 프레임, 해당 target Lane에 존재하며, Local X보다 앞에 있는(=x값이 작은) row 리스트를 뽑기\n",
    "        LV2_df = full_df[(full_df['Frame ID'] == frame) & (full_df['Lane Identification'] == HV_Lane_target) & (full_df['Local X (m)'] < HV_x)]\n",
    "        \n",
    "        ### 선행 차량이 있을 경우, 선행 차량이 없을 경우를 나누기\n",
    "        if len(LV2_df) >= 1: # 해당 프레임 선행 차량이 1대 이상 존재할 경우 : LV2_df 중에서 Local X값이 가장 \"큰\" 것의 값을 취하시오\n",
    "            LV2_df = LV2_df[LV2_df['Local X (m)'] == LV2_df['Local X (m)'].max()]\n",
    "            \n",
    "            LC_df.at[i, 'LV2_ID'] = LV2_df['Vehicle ID'].iloc[0]\n",
    "            LC_df.at[i, 'LV2_Velocity'] = LV2_df['Vehicle Velocity(km/h)'].iloc[0]\n",
    "            LC_df.at[i, 'LV2_x'] = LV2_df['Local X (m)'].iloc[0]\n",
    "            LC_df.at[i, 'LV2_y'] = LV2_df['Local Y(m)'].iloc[0]\n",
    "            \n",
    "        else: # 해당 프레임에서 선행 차량이 없을 경우 : obs_remain을 적용해야 함. PE방호벽에 따라서 다름.\n",
    "            if LC_file_num == '04_1': # PE방호벽 영향을 받는 파일이며 현재 차로가 PE방호벽이 있는 차로인 경우\n",
    "                OBS_lane_list = list(OBS_point_04_1.keys()) ### PE방호벽 영향을 받는 차로 리스트\n",
    "                    \n",
    "                if HV_Lane_target in OBS_lane_list: # 목표차로가 PE방호벽 영향을 받는 차로이면\n",
    "                    LC_df.at[i, 'LV2_ID'] = 'OBS' # PE방호벽밖에 없음을 의미함\n",
    "                    LC_df.at[i, 'LV2_Velocity'] = 0 # PE방호벽의 속도는 0임\n",
    "                    LC_df.at[i, 'LV2_x'] = OBS_point_04_1[HV_Lane_target][0] ### PE방호벽 x좌표\n",
    "                    LC_df.at[i, 'LV2_y'] = OBS_point_04_1[HV_Lane_target][1] ### PE방호벽 y좌표\n",
    "                \n",
    "            else: #선행차량이 없고 PE방호벽 영향을 안받는 파일인경우\n",
    "                pass\n",
    "        \n",
    "    save_path = os.path.join(save_dir, LC_file)\n",
    "    LC_df.to_csv(save_path)"
   ]
  },
  {
   "cell_type": "markdown",
   "id": "ddb7bebe-d5ed-4671-8144-6d48dbee473c",
   "metadata": {},
   "source": [
    "## 서울방향"
   ]
  },
  {
   "cell_type": "code",
   "execution_count": 12,
   "id": "470c45d5-30c2-451f-be3b-8cfd5ca585b2",
   "metadata": {
    "execution": {
     "iopub.execute_input": "2022-10-24T11:12:44.556841Z",
     "iopub.status.busy": "2022-10-24T11:12:44.555843Z",
     "iopub.status.idle": "2022-10-24T11:12:44.571802Z",
     "shell.execute_reply": "2022-10-24T11:12:44.570818Z",
     "shell.execute_reply.started": "2022-10-24T11:12:44.556841Z"
    },
    "tags": []
   },
   "outputs": [],
   "source": [
    "OBS_point_02_1 = {'U3' : (84.063, 103.113), 'U4' : (92.403, 79.683), 'U5' : (60.149, 74.817), 'U6' : (33.748, 69.464)}\n",
    "OBS_point_02_2 = {'U1' : (60.149, 74.817), 'U2' : (33.748, 69.464)}"
   ]
  }
 ],
 "metadata": {
  "kernelspec": {
   "display_name": "Python 3",
   "language": "python",
   "name": "python3"
  },
  "language_info": {
   "codemirror_mode": {
    "name": "ipython",
    "version": 3
   },
   "file_extension": ".py",
   "mimetype": "text/x-python",
   "name": "python",
   "nbconvert_exporter": "python",
   "pygments_lexer": "ipython3",
   "version": "3.8.8"
  }
 },
 "nbformat": 4,
 "nbformat_minor": 5
}
