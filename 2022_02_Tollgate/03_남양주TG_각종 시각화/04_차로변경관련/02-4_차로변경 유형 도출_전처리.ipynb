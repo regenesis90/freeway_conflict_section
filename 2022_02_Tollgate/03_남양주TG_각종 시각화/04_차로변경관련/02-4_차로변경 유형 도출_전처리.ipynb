{
 "cells": [
  {
   "cell_type": "markdown",
   "metadata": {},
   "source": [
    "# 차로변경 유형 도출을 위한 최종 선행차량, 후행차량 정보 추출"
   ]
  },
  {
   "cell_type": "markdown",
   "metadata": {},
   "source": [
    "# Set up"
   ]
  },
  {
   "cell_type": "markdown",
   "metadata": {},
   "source": [
    "## Import"
   ]
  },
  {
   "cell_type": "code",
   "execution_count": null,
   "metadata": {},
   "outputs": [],
   "source": [
    "import datetime as dt\n",
    "import os\n",
    "import pandas as pd\n",
    "import numpy as np\n",
    "import itertools\n",
    "import warnings\n",
    "\n",
    "from tqdm import tqdm\n"
   ]
  },
  {
   "cell_type": "markdown",
   "metadata": {},
   "source": [
    "## Load Dataset"
   ]
  },
  {
   "cell_type": "code",
   "execution_count": 66,
   "metadata": {
    "execution": {
     "iopub.execute_input": "2022-10-25T04:58:17.647663Z",
     "iopub.status.busy": "2022-10-25T04:58:17.647663Z",
     "iopub.status.idle": "2022-10-25T04:58:17.652651Z",
     "shell.execute_reply": "2022-10-25T04:58:17.651670Z",
     "shell.execute_reply.started": "2022-10-25T04:58:17.647663Z"
    },
    "tags": []
   },
   "outputs": [],
   "source": [
    "\n",
    "data_dir = 'D:/OneDrive - 연세대학교 (Yonsei University)/Projects/Yonsei_TELab/003_도로상충_210517-/2차년도_2022/38_22-10차 회의 준비/221022_인접차량정보/sample.csv'\n",
    "### 데이터 들어있는 폴더 : \n",
    "\n",
    "save_dir = 'D:/OneDrive - 연세대학교 (Yonsei University)/Projects/Yonsei_TELab/003_도로상충_210517-/2차년도_2022/38_22-10차 회의 준비/221022_인접차량정보/sample_result.csv'\n",
    "### 데이터 저장할 폴더 : 설정하면됨"
   ]
  },
  {
   "cell_type": "code",
   "execution_count": 83,
   "metadata": {
    "execution": {
     "iopub.execute_input": "2022-10-25T05:01:40.579243Z",
     "iopub.status.busy": "2022-10-25T05:01:40.579243Z",
     "iopub.status.idle": "2022-10-25T05:01:40.594208Z",
     "shell.execute_reply": "2022-10-25T05:01:40.593209Z",
     "shell.execute_reply.started": "2022-10-25T05:01:40.579243Z"
    },
    "tags": []
   },
   "outputs": [],
   "source": [
    "df = pd.read_csv('D:/OneDrive - 연세대학교 (Yonsei University)/Projects/Yonsei_TELab/003_도로상충_210517-/2차년도_2022/38_22-10차 회의 준비/221022_인접차량정보/sample.csv',  encoding='cp949')"
   ]
  },
  {
   "cell_type": "markdown",
   "metadata": {},
   "source": [
    "## Create mutual columns"
   ]
  },
  {
   "cell_type": "code",
   "execution_count": 84,
   "metadata": {
    "execution": {
     "iopub.execute_input": "2022-10-25T05:01:40.967305Z",
     "iopub.status.busy": "2022-10-25T05:01:40.967305Z",
     "iopub.status.idle": "2022-10-25T05:01:40.988249Z",
     "shell.execute_reply": "2022-10-25T05:01:40.987280Z",
     "shell.execute_reply.started": "2022-10-25T05:01:40.967305Z"
    },
    "tags": []
   },
   "outputs": [],
   "source": [
    "df[\"LV1_HV0_x\"] = 0   #43번열\n",
    "df[\"LV1_HV0_y\"] = 0   #44번열        \n",
    "df[\"LV2_HV_x\"] = 0   #45번열\n",
    "df[\"LV2_HV_y\"] = 0   #46번열\n",
    "df[\"HV_FV0_x\"] = 0   #47번열\n",
    "df[\"HV_FV0_y\"] = 0   #48번열"
   ]
  },
  {
   "cell_type": "code",
   "execution_count": 85,
   "metadata": {
    "execution": {
     "iopub.execute_input": "2022-10-25T05:01:41.367537Z",
     "iopub.status.busy": "2022-10-25T05:01:41.367537Z",
     "iopub.status.idle": "2022-10-25T05:01:41.381500Z",
     "shell.execute_reply": "2022-10-25T05:01:41.381500Z",
     "shell.execute_reply.started": "2022-10-25T05:01:41.367537Z"
    },
    "tags": []
   },
   "outputs": [],
   "source": [
    "df = df.sort_values(['Vehicle ID', 'Frame ID'], ignore_index=True)    \n",
    "\n",
    "temp1 = pd.DataFrame()"
   ]
  },
  {
   "cell_type": "code",
   "execution_count": 86,
   "metadata": {
    "execution": {
     "iopub.execute_input": "2022-10-25T05:01:42.800262Z",
     "iopub.status.busy": "2022-10-25T05:01:42.800262Z",
     "iopub.status.idle": "2022-10-25T05:01:42.817472Z",
     "shell.execute_reply": "2022-10-25T05:01:42.816475Z",
     "shell.execute_reply.started": "2022-10-25T05:01:42.800262Z"
    },
    "tags": []
   },
   "outputs": [],
   "source": [
    "veh_list = df['Vehicle ID'].unique()"
   ]
  },
  {
   "cell_type": "code",
   "execution_count": 72,
   "metadata": {
    "execution": {
     "iopub.execute_input": "2022-10-25T04:58:26.071935Z",
     "iopub.status.busy": "2022-10-25T04:58:26.071935Z",
     "iopub.status.idle": "2022-10-25T04:58:26.082866Z",
     "shell.execute_reply": "2022-10-25T04:58:26.082866Z",
     "shell.execute_reply.started": "2022-10-25T04:58:26.071935Z"
    },
    "tags": []
   },
   "outputs": [],
   "source": [
    "#df.columns.get_loc('Vehicle ID')"
   ]
  },
  {
   "cell_type": "markdown",
   "metadata": {},
   "source": [
    "# RUN"
   ]
  },
  {
   "cell_type": "code",
   "execution_count": 93,
   "metadata": {
    "execution": {
     "iopub.execute_input": "2022-10-25T05:19:03.484493Z",
     "iopub.status.busy": "2022-10-25T05:19:03.484493Z",
     "iopub.status.idle": "2022-10-25T05:19:03.899597Z",
     "shell.execute_reply": "2022-10-25T05:19:03.898629Z",
     "shell.execute_reply.started": "2022-10-25T05:19:03.484493Z"
    },
    "tags": []
   },
   "outputs": [
    {
     "name": "stderr",
     "output_type": "stream",
     "text": [
      " 24%|███████████████████▊                                                               | 5/21 [00:00<00:00, 44.54it/s]"
     ]
    },
    {
     "name": "stdout",
     "output_type": "stream",
     "text": [
      "Vehicle ID = 6, c = 15, d = 15\n",
      "While 최종 d = 14\n",
      "While 최종 d = 13\n",
      "While 최종 d = 12\n",
      "While 최종 d = 11\n",
      "While 최종 d = 10\n",
      "While 최종 d = 9\n",
      "While 최종 d = 8\n",
      "While 최종 d = 7\n",
      "While 최종 d = 6\n",
      "While 최종 d = 5\n",
      "While 최종 d = 4\n",
      "While 최종 d = 3\n",
      "While 최종 d = 2\n",
      "While 최종 d = 1\n",
      "While 최종 d = 0\n",
      "Vehicle ID = 6, LV1 = 3, FV = nan\n",
      "Vehicle ID = 173, c = 8, d = 8\n",
      "Vehicle ID = 173, LV1 = -1, FV = 172.0\n",
      "Vehicle ID = 540, c = 6, d = 6\n",
      "While 최종 d = 5\n",
      "While 최종 d = 4\n",
      "While 최종 d = 3\n",
      "While 최종 d = 2\n",
      "While 최종 d = 1\n",
      "While 최종 d = 0\n",
      "Vehicle ID = 540, LV1 = -1, FV = nan\n",
      "Vehicle ID = 871, c = 3, d = 3\n",
      "Vehicle ID = 871, LV1 = -1, FV = 873.0\n",
      "Vehicle ID = 873, c = 13, d = 13\n",
      "While 최종 d = 12\n",
      "While 최종 d = 11\n",
      "While 최종 d = 10\n",
      "While 최종 d = 9\n",
      "While 최종 d = 8\n",
      "While 최종 d = 7\n",
      "While 최종 d = 6\n",
      "While 최종 d = 5\n",
      "While 최종 d = 4\n",
      "While 최종 d = 3\n",
      "While 최종 d = 2\n",
      "While 최종 d = 1\n",
      "While 최종 d = 0\n",
      "Vehicle ID = 873, LV1 = 871, FV = nan\n",
      "Vehicle ID = 929, c = 4, d = 4\n",
      "While 최종 d = 3\n",
      "While 최종 d = 2\n",
      "While 최종 d = 1\n",
      "While 최종 d = 0\n",
      "Vehicle ID = 929, LV1 = -1, FV = nan\n",
      "Vehicle ID = 1042, c = 4, d = 4\n",
      "Vehicle ID = 1042, LV1 = -1, FV = 1043.0\n",
      "Vehicle ID = 1043, c = 1, d = 1\n",
      "While 최종 d = 0\n",
      "Vehicle ID = 1043, LV1 = -1, FV = nan\n",
      "Vehicle ID = 10058, c = 7, d = 7\n",
      "While 최종 d = 6\n",
      "While 최종 d = 5\n",
      "While 최종 d = 4\n",
      "While 최종 d = 3\n",
      "While 최종 d = 2\n",
      "While 최종 d = 1\n",
      "While 최종 d = 0\n",
      "Vehicle ID = 10058, LV1 = -1, FV = nan\n",
      "Vehicle ID = 10093, c = 9, d = 9\n",
      "Vehicle ID = 10093, LV1 = -1, FV = 10095.0\n",
      "Vehicle ID = 10103, c = 6, d = 6\n",
      "While 최종 d = 5\n",
      "While 최종 d = 4\n",
      "While 최종 d = 3\n",
      "While 최종 d = 2\n",
      "While 최종 d = 1\n",
      "While 최종 d = 0\n",
      "Vehicle ID = 10103, LV1 = -1, FV = nan\n"
     ]
    },
    {
     "name": "stderr",
     "output_type": "stream",
     "text": [
      "100%|██████████████████████████████████████████████████████████████████████████████████| 21/21 [00:00<00:00, 54.65it/s]"
     ]
    },
    {
     "name": "stdout",
     "output_type": "stream",
     "text": [
      "Vehicle ID = 10181, c = 6, d = 6\n",
      "While 최종 d = 5\n",
      "While 최종 d = 4\n",
      "While 최종 d = 3\n",
      "While 최종 d = 2\n",
      "While 최종 d = 1\n",
      "While 최종 d = 0\n",
      "Vehicle ID = 10181, LV1 = 10178, FV = nan\n",
      "Vehicle ID = 10190, c = 4, d = 4\n",
      "Vehicle ID = 10190, LV1 = -1, FV = 10193.0\n",
      "Vehicle ID = 10321, c = 3, d = 3\n",
      "While 최종 d = 2\n",
      "While 최종 d = 1\n",
      "While 최종 d = 0\n",
      "Vehicle ID = 10321, LV1 = -1, FV = nan\n",
      "Vehicle ID = 10370, c = 2, d = 2\n",
      "While 최종 d = 1\n",
      "While 최종 d = 0\n",
      "Vehicle ID = 10370, LV1 = -1, FV = nan\n",
      "Vehicle ID = 10596, c = 9, d = 9\n",
      "Vehicle ID = 10596, LV1 = -1, FV = 10605.0\n",
      "Vehicle ID = 10632, c = 13, d = 13\n",
      "Vehicle ID = 10632, LV1 = -1, FV = 10639.0\n",
      "Vehicle ID = 10702, c = 3, d = 3\n",
      "Vehicle ID = 10702, LV1 = -1, FV = 10729.0\n",
      "Vehicle ID = 20193, c = 9, d = 9\n",
      "While 최종 d = 8\n",
      "While 최종 d = 7\n",
      "While 최종 d = 6\n",
      "While 최종 d = 5\n",
      "While 최종 d = 4\n",
      "While 최종 d = 3\n",
      "While 최종 d = 2\n",
      "While 최종 d = 1\n",
      "While 최종 d = 0\n",
      "Vehicle ID = 20193, LV1 = 20191, FV = nan\n",
      "Vehicle ID = 20240, c = 10, d = 10\n",
      "Vehicle ID = 20240, LV1 = -1, FV = 20236.0\n",
      "Vehicle ID = 20250, c = 17, d = 17\n",
      "While 최종 d = 16\n",
      "While 최종 d = 15\n",
      "While 최종 d = 14\n",
      "While 최종 d = 13\n",
      "While 최종 d = 12\n",
      "While 최종 d = 11\n",
      "While 최종 d = 10\n",
      "While 최종 d = 9\n",
      "While 최종 d = 8\n",
      "While 최종 d = 7\n",
      "While 최종 d = 6\n",
      "While 최종 d = 5\n",
      "Vehicle ID = 20250, LV1 = 20236, FV = 20254.0\n"
     ]
    },
    {
     "name": "stderr",
     "output_type": "stream",
     "text": [
      "\n"
     ]
    }
   ],
   "source": [
    "warnings.filterwarnings(action = 'ignore') # pandas 경고메시지 숨기기\n",
    "\n",
    "temp_total = pd.DataFrame()\n",
    "\n",
    "for i in tqdm(veh_list): # i = 차량별. Vehicle ID별로\n",
    "            \n",
    "    temp = df[df['Vehicle ID'] == i] # 각 차량별 궤적 자료\n",
    "            \n",
    "    LV1_frm = temp['LV1_ID'] # 각 차량의 프레임별 현재차로 선행차량 리스트\n",
    "    FV_frm = temp['FV_ID'] # 각 차량의 프레임별 목표차로 후행차량\n",
    "            \n",
    "    c = 0\n",
    "    d = 0\n",
    "            \n",
    "    if len(LV1_frm) >= 1: #현재차로 선행차량이 있으면\n",
    "        c = len(LV1_frm) - 1 # 현재차로 선행차량 마지막 프레임 행번호\n",
    "            \n",
    "    if len(FV_frm) >= 1: #목표차로 후행차량이 있으면\n",
    "        d = len(FV_frm) - 1 # 목표차로 후행차량 마지막 프레임 행번호\n",
    "\n",
    "    print(f'Vehicle ID = {i}, c = {c}, d = {d}')\n",
    "    \n",
    "    while LV1_frm.iloc[c] and (LV1_frm.iloc[c] == 0 or pd.isnull(LV1_frm.iloc[c]) == True): # LV1_frm[c] : 현재차로 선행차량 번호가 0이 되거나, Nan인 경우\n",
    "                \n",
    "        if c >= 1:\n",
    "            c -= 1 # c가 1보다 크면 1을 빼준다. # \n",
    "                \n",
    "        else:  \n",
    "            break\n",
    "        print(f'While 최종 c = {c}')\n",
    "\n",
    "    while FV_frm.iloc[d] and (FV_frm.iloc[d] == 0 or pd.isnull(FV_frm.iloc[d]) == True):\n",
    "                \n",
    "        if d >= 1:\n",
    "            d -= 1\n",
    "                \n",
    "        else:  \n",
    "            break\n",
    "        print(f'While 최종 d = {d}')\n",
    "            \n",
    "    ## 지금까지의 output : 각 Vehicle ID별 최종 FV, 최종 LV1이 나오는것\n",
    "    print(f'Vehicle ID = {i}, LV1 = {LV1_frm.iloc[c]}, FV = {FV_frm.iloc[d]}')\n",
    "    \n",
    "    ###########################################################################################\n",
    "    \n",
    "    e = 0\n",
    "    f = 0\n",
    "\n",
    "    for k in range(0, len(temp)):\n",
    "\n",
    "        ############ LV2 찍기 ##################\n",
    "\n",
    "        if temp['LV2_ID'].iloc[k] > 0: # LV2_ID의 K번째 행 값이 0 이상이면 = LV2가 존재하면\n",
    "                    \n",
    "            temp['LV2_HV_x'].iloc[k] = abs(temp['LV2_x'].iloc[k] - temp['Local X (m)'].iloc[k])\n",
    "            temp['LV2_HV_y'].iloc[k] = abs(temp['LV2_y'].iloc[k] - temp['Local Y(m)'].iloc[k])\n",
    "                    \n",
    "        elif temp['LV2_ID'].iloc[k] == -1:\n",
    "                    \n",
    "            if temp['Local X (m)'].iloc[k] > temp['LV2_x'].iloc[k]:\n",
    "                temp['LV2_HV_x'].iloc[k] = temp['Local X (m)'].iloc[k] - temp['LV2_x'].iloc[k]\n",
    "                temp['LV2_HV_y'].iloc[k] = abs(temp['Local Y(m)'].iloc[k] - temp['LV2_HV_y'].iloc[k])\n",
    "                            \n",
    "            else:\n",
    "                pass\n",
    "                    \n",
    "#             else: # 남양주TG 서울방향이 아니면\n",
    "#                 if temp['LV2_x'].iloc[k] > temp['Local X (m)'].iloc[k]:\n",
    "#                     temp['LV2_HV_x'].iloc[k] = temp['LV2_x'].iloc[k] - temp['Local X (m)'].iloc[k]\n",
    "#                     temp['LV2_HV_y'].iloc[k] = abs(temp['Local Y(m)'].iloc[k] - temp['LV2_y'].iloc[k])\n",
    "#                 else:\n",
    "#                     continue\n",
    "        else:\n",
    "            pass\n",
    "            \n",
    "            \n",
    "        ############ LV1 찍기 ##################\n",
    "\n",
    "        if len(LV1_frm) > 0: # 현재차로 선행차량이 있으면\n",
    "                    \n",
    "            if e == 0:\n",
    "                \n",
    "                if temp['LV1_ID'].iloc[k] == LV1_frm.iloc[c]: # LV1 번호\n",
    "                            \n",
    "                    e += 1\n",
    "                    \n",
    "                    temp['LV1_HV0_x'].iloc[k] = abs(temp['LV1_x'].iloc[k] - temp['Local X (m)'].iloc[k])\n",
    "                    temp['LV1_HV0_y'].iloc[k] = abs(temp['LV1_y'].iloc[k] - temp['Local Y(m)'].iloc[k])\n",
    "                    \n",
    "                else:\n",
    "                    pass\n",
    "\n",
    "            elif k >= 1:\n",
    "                temp['LV1_HV0_x'].iloc[k] = temp['LV1_HV0_x'].iloc[k-1]\n",
    "                temp['LV1_HV0_y'].iloc[k] = temp['LV1_HV0_y'].iloc[k-1]\n",
    "\n",
    "            else:\n",
    "                pass\n",
    "                \n",
    "        else:\n",
    "            pass\n",
    "\n",
    "        \n",
    "        ############ FV 찍기 ##################\n",
    "        \n",
    "        if len(FV_frm) > 0:\n",
    "                    \n",
    "            if f == 0:\n",
    "\n",
    "                if temp['FV_ID'].iloc[k] == FV_frm.iloc[d]:   # FV 번호\n",
    "                            \n",
    "                    f += 1\n",
    "\n",
    "                    temp['HV_FV0_x'].iloc[k] = abs(temp['Local X (m)'].iloc[k] - temp['FV_x'].iloc[k])\n",
    "                    temp['HV_FV0_y'].iloc[k] = abs(temp['Local Y(m)'].iloc[k] - temp['FV_y'].iloc[k])\n",
    "\n",
    "            elif k >= 1:\n",
    "                temp['HV_FV0_x'].iloc[k] = temp['HV_FV0_x'].iloc[k-1]\n",
    "                temp['HV_FV0_y'].iloc[k] = temp['HV_FV0_y'].iloc[k-1]\n",
    "\n",
    "            else:\n",
    "                pass\n",
    "\n",
    "    try:\n",
    "        temp.drop(['Unnamed: 0'], axis = 1, inplace = True)\n",
    "\n",
    "    except:\n",
    "        continue\n",
    "        \n",
    "    temp_total = pd.concat([temp_total, temp])\n",
    "\n",
    "temp_total.to_csv(save_dir, encoding='cp949')"
   ]
  },
  {
   "cell_type": "code",
   "execution_count": 64,
   "metadata": {
    "execution": {
     "iopub.execute_input": "2022-10-25T04:42:38.256495Z",
     "iopub.status.busy": "2022-10-25T04:42:38.256495Z",
     "iopub.status.idle": "2022-10-25T04:42:38.280441Z",
     "shell.execute_reply": "2022-10-25T04:42:38.278437Z",
     "shell.execute_reply.started": "2022-10-25T04:42:38.256495Z"
    },
    "tags": []
   },
   "outputs": [],
   "source": [
    "df.to_csv('D:/OneDrive - 연세대학교 (Yonsei University)/Projects/Yonsei_TELab/003_도로상충_210517-/2차년도_2022/38_22-10차 회의 준비/221022_인접차량정보/columns.csv',  encoding='cp949')"
   ]
  }
 ],
 "metadata": {
  "kernelspec": {
   "display_name": "Python 3",
   "language": "python",
   "name": "python3"
  },
  "language_info": {
   "codemirror_mode": {
    "name": "ipython",
    "version": 3
   },
   "file_extension": ".py",
   "mimetype": "text/x-python",
   "name": "python",
   "nbconvert_exporter": "python",
   "pygments_lexer": "ipython3",
   "version": "3.8.8"
  }
 },
 "nbformat": 4,
 "nbformat_minor": 4
}
