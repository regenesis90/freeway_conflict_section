{
 "cells": [
  {
   "cell_type": "markdown",
   "id": "6d07357b-8635-4312-be20-bcf3029d88e6",
   "metadata": {},
   "source": [
    "# 급감속, 과속 지점 시각화\n",
    "* 이미지 합성을 위함\n",
    "* 급감속 및 과속이 이루어진 지점을 선형으로 표시\n",
    "* Plotly Map에 배경이미지 합성"
   ]
  },
  {
   "cell_type": "code",
   "execution_count": 1,
   "id": "77b900a8-773c-439f-96c6-e8303daaacc7",
   "metadata": {
    "execution": {
     "iopub.execute_input": "2022-08-24T01:53:28.692189Z",
     "iopub.status.busy": "2022-08-24T01:53:28.692189Z",
     "iopub.status.idle": "2022-08-24T01:53:29.955375Z",
     "shell.execute_reply": "2022-08-24T01:53:29.955375Z",
     "shell.execute_reply.started": "2022-08-24T01:53:28.692189Z"
    },
    "tags": []
   },
   "outputs": [],
   "source": [
    "import datetime as dt\n",
    "import os\n",
    "import pandas as pd\n",
    "import numpy as np\n",
    "\n",
    "# Plotly : 인터랙티브 그래프를 그려주는 패키지\n",
    "from plotly.subplots import make_subplots\n",
    "import plotly.express as px\n",
    "import plotly.graph_objects as go\n",
    "import plotly.io as po"
   ]
  },
  {
   "cell_type": "markdown",
   "id": "4407bd7b-d848-4cca-8fa5-8a1809a3d46b",
   "metadata": {},
   "source": [
    "# 과속"
   ]
  },
  {
   "cell_type": "code",
   "execution_count": 12,
   "id": "b2077d37-ec67-4c2a-b3a4-b0be63da5766",
   "metadata": {
    "execution": {
     "iopub.execute_input": "2022-08-24T03:03:36.657684Z",
     "iopub.status.busy": "2022-08-24T03:03:36.657684Z",
     "iopub.status.idle": "2022-08-24T03:03:36.665168Z",
     "shell.execute_reply": "2022-08-24T03:03:36.664664Z",
     "shell.execute_reply.started": "2022-08-24T03:03:36.657684Z"
    },
    "tags": []
   },
   "outputs": [],
   "source": [
    "ovs_dir = 'D:/OneDrive - 연세대학교 (Yonsei University)/Projects/Yonsei_TELab/003_도로상충_210517-/2차년도_2022/34_남양주TG_드론영상 현황 분석/ovs_dec_dataset/서울방향/과속'"
   ]
  },
  {
   "cell_type": "code",
   "execution_count": 13,
   "id": "12336f6b-031a-4dc4-8a5b-e4d26fdc33c3",
   "metadata": {
    "execution": {
     "iopub.execute_input": "2022-08-24T03:03:37.302756Z",
     "iopub.status.busy": "2022-08-24T03:03:37.302756Z",
     "iopub.status.idle": "2022-08-24T03:03:37.318694Z",
     "shell.execute_reply": "2022-08-24T03:03:37.317730Z",
     "shell.execute_reply.started": "2022-08-24T03:03:37.302756Z"
    },
    "tags": []
   },
   "outputs": [
    {
     "data": {
      "text/plain": [
       "7"
      ]
     },
     "execution_count": 13,
     "metadata": {},
     "output_type": "execute_result"
    }
   ],
   "source": [
    "ovs_list = os.listdir(ovs_dir)\n",
    "len(ovs_list)"
   ]
  },
  {
   "cell_type": "code",
   "execution_count": null,
   "id": "cb7b8e8e-c1b0-4700-a36e-7eb298278cb5",
   "metadata": {
    "execution": {
     "iopub.execute_input": "2022-08-24T03:03:41.842931Z",
     "iopub.status.busy": "2022-08-24T03:03:41.842931Z"
    },
    "tags": []
   },
   "outputs": [],
   "source": [
    "for ovs in ovs_list:\n",
    "    # 각 파일 별로 점 그래프 그리기\n",
    "    \n",
    "    if ovs[-3:] == 'csv':\n",
    "        ovs_path = os.path.join(ovs_dir, ovs)\n",
    "\n",
    "        ovs_df = pd.read_csv(ovs_path)\n",
    "        ovs_df = ovs_df[ovs_df['overspeed'] == 'Overspeed']\n",
    "    \n",
    "        fig = px.scatter(ovs_df, x = 'Local X (m)', y = 'Local Y(m)', \n",
    "                         color = 'Vehicle Velocity(km/h)', opacity = 0.5,\n",
    "                         title = f'Overspeed : {ovs[-10:-6]}',\n",
    "                         template = 'simple_white',\n",
    "                         width = 800,\n",
    "                         height = 800,\n",
    "                         range_color = [50, 120])\n",
    "        \n",
    "        fig.update_xaxes(range = [0, 270])\n",
    "        fig.update_yaxes(range = [0, 270])\n",
    "        \n",
    "        fig.update_layout({\n",
    "            'plot_bgcolor' : 'rgba(0, 0, 0, 0)',\n",
    "            'paper_bgcolor' : 'rgba(0, 0, 0, 0)'\n",
    "        })\n",
    "        \n",
    "        #fig.update_traces(marker = dict(color = 'red', opacity = 0.5))\n",
    "    \n",
    "        save_html_name = f'{ovs[-10:-6]}.html'\n",
    "        save_html_path = os.path.join(ovs_dir, save_html_name)\n",
    "    \n",
    "        po.write_html(fig, file = save_html_path) # html Plotly 파일 저장\n",
    "        \n",
    "        save_png_name = f'{ovs[-10:-6]}.png'\n",
    "        save_png_path = os.path.join(ovs_dir, save_png_name)        \n",
    "        \n",
    "        fig.write_image(save_png_path)\n",
    "    \n",
    "    else:\n",
    "        pass\n",
    "    \n",
    "fig.show()"
   ]
  },
  {
   "cell_type": "markdown",
   "id": "4b2d5b41-699b-48b2-ab05-23de95d2a0db",
   "metadata": {},
   "source": [
    "# 급감속"
   ]
  },
  {
   "cell_type": "code",
   "execution_count": 5,
   "id": "4183b61e-bdf9-4ae6-a898-fc589fd638bc",
   "metadata": {
    "execution": {
     "iopub.execute_input": "2022-08-24T01:53:35.912654Z",
     "iopub.status.busy": "2022-08-24T01:53:35.911521Z",
     "iopub.status.idle": "2022-08-24T01:53:35.926211Z",
     "shell.execute_reply": "2022-08-24T01:53:35.925244Z",
     "shell.execute_reply.started": "2022-08-24T01:53:35.912654Z"
    },
    "tags": []
   },
   "outputs": [],
   "source": [
    "dec_dir = 'D:/OneDrive - 연세대학교 (Yonsei University)/Projects/Yonsei_TELab/003_도로상충_210517-/2차년도_2022/34_남양주TG_드론영상 현황 분석/ovs_dec_dataset/서울방향/급감속'"
   ]
  },
  {
   "cell_type": "code",
   "execution_count": 6,
   "id": "cdc48398-e529-49b1-8ef3-81015b880d73",
   "metadata": {
    "execution": {
     "iopub.execute_input": "2022-08-24T01:53:35.928208Z",
     "iopub.status.busy": "2022-08-24T01:53:35.928208Z",
     "iopub.status.idle": "2022-08-24T01:53:35.941887Z",
     "shell.execute_reply": "2022-08-24T01:53:35.940394Z",
     "shell.execute_reply.started": "2022-08-24T01:53:35.928208Z"
    },
    "tags": []
   },
   "outputs": [
    {
     "data": {
      "text/plain": [
       "(18, '01_1.html')"
      ]
     },
     "execution_count": 6,
     "metadata": {},
     "output_type": "execute_result"
    }
   ],
   "source": [
    "dec_list = os.listdir(dec_dir)\n",
    "len(dec_list), dec_list[0]"
   ]
  },
  {
   "cell_type": "code",
   "execution_count": 7,
   "id": "728c6d5d-278a-4b55-8fab-dbeb236a50ce",
   "metadata": {
    "execution": {
     "iopub.execute_input": "2022-08-24T01:53:35.943311Z",
     "iopub.status.busy": "2022-08-24T01:53:35.943311Z",
     "iopub.status.idle": "2022-08-24T01:53:37.409815Z",
     "shell.execute_reply": "2022-08-24T01:53:37.408814Z",
     "shell.execute_reply.started": "2022-08-24T01:53:35.943311Z"
    },
    "tags": []
   },
   "outputs": [
    {
     "data": {
      "application/vnd.plotly.v1+json": {
       "config": {
        "plotlyServerURL": "https://plot.ly"
       },
       "data": [
        {
         "hovertemplate": "Local X (m)=%{x}<br>Local Y(m)=%{y}<br>Vehicle Acceleration=%{marker.color}<extra></extra>",
         "legendgroup": "",
         "marker": {
          "color": [
           -4.041403,
           -2.825394,
           -2.560132,
           -2.450379,
           -2.270934,
           -2.311613,
           -2.230822,
           -2.518679,
           -2.275895,
           -2.552232,
           -2.453643,
           -2.28177,
           -3.90706,
           -4.898643,
           -4.960781,
           -4.819819,
           -6.088219,
           -4.896806,
           -3.6375,
           -13.16374,
           -2.333631,
           -2.403357,
           -2.281787,
           -2.384605,
           -2.812729,
           -3.403416,
           -3.321752,
           -3.198407,
           -20.56237,
           -2.231418,
           -4.232797,
           -2.694757,
           -5.566572,
           -3.288481,
           -2.680596,
           -2.69833,
           -2.290145,
           -4.263395,
           -3.200459,
           -2.614657,
           -2.273952,
           -2.262499,
           -3.213107,
           -25.150587,
           -3.175312,
           -2.435782,
           -2.308678,
           -2.453107,
           -2.580431,
           -2.567736,
           -2.665592,
           -2.467306,
           -2.78937,
           -2.438454,
           -2.56798,
           -2.358413,
           -2.463141,
           -2.477936,
           -2.782839,
           -2.887885,
           -2.820462,
           -6.653896,
           -3.601142,
           -29.355667,
           -2.53401,
           -2.742649,
           -3.373847,
           -3.273953,
           -2.408354,
           -2.448273,
           -2.655445,
           -2.953631,
           -2.327932,
           -2.306156,
           -2.260719,
           -2.477595,
           -2.634462,
           -2.578333,
           -2.664604,
           -2.658971,
           -2.233081,
           -2.616397,
           -2.466327,
           -2.362363,
           -2.274022,
           -2.279714,
           -3.279377,
           -3.733915,
           -4.004055,
           -3.708115,
           -2.612173,
           -2.39755,
           -2.309294,
           -2.232864,
           -2.507252,
           -2.652529,
           -22.212358,
           -2.521646,
           -2.419353,
           -2.329594,
           -2.229796,
           -2.356466,
           -2.477498,
           -2.491187,
           -2.549783,
           -2.508512,
           -2.654864,
           -2.560974,
           -2.584212,
           -2.907738,
           -2.636089,
           -2.517158,
           -2.311418,
           -2.362069,
           -2.353308,
           -2.376204,
           -2.238907,
           -2.878325,
           -3.170806,
           -2.966529,
           -3.250379,
           -2.286161,
           -2.507882,
           -2.332395,
           -2.282081,
           -2.262978,
           -3.911326,
           -2.703758,
           -2.383306,
           -2.284294,
           -18.559055,
           -11.389753,
           -2.24091,
           -2.289658,
           -2.551738,
           -2.397965,
           -2.319512,
           -2.35267,
           -2.271004,
           -2.332073,
           -2.263137,
           -2.783305,
           -2.346257,
           -2.511279,
           -2.598309,
           -2.470197,
           -2.65117,
           -2.282441,
           -2.233172,
           -2.240815,
           -2.337146,
           -2.23907,
           -2.527061,
           -2.231197,
           -2.568381,
           -2.453261,
           -2.591756,
           -2.326324,
           -2.345298,
           -2.840604,
           -2.922664,
           -2.965026,
           -3.101143,
           -2.636151,
           -3.396221,
           -2.271765,
           -2.442361,
           -2.329441,
           -2.286934,
           -2.473412,
           -2.287362,
           -2.362796,
           -2.486296,
           -2.275518,
           -2.325984,
           -2.482827,
           -2.312094,
           -7.810472,
           -2.469921,
           -2.341533,
           -2.347069,
           -2.229248
          ],
          "coloraxis": "coloraxis",
          "symbol": "circle"
         },
         "mode": "markers",
         "name": "",
         "orientation": "v",
         "showlegend": false,
         "type": "scatter",
         "x": [
          77.805779,
          157.674713,
          192.970627,
          183.968735,
          175.532913,
          31.489576,
          21.211605,
          11.563241,
          39.009464,
          25.21973,
          18.580378,
          16.227581,
          125.593819,
          116.39991,
          108.44545,
          101.694336,
          96.465004,
          92.459114,
          89.361725,
          120.041901,
          52.131176,
          65.764938,
          56.815987,
          48.462952,
          138.52417,
          129.812454,
          121.924019,
          151.71788,
          127.464935,
          166.268677,
          108.32518,
          29.815252,
          19.225393,
          145.595154,
          132.955887,
          120.949318,
          109.494583,
          125.297195,
          168.249039,
          158.907867,
          150.130814,
          134.19075,
          71.124672,
          184.819595,
          48.880116,
          95.824074,
          88.282021,
          74.807922,
          50.438774,
          40.74654,
          31.719383,
          23.308979,
          15.595843,
          43.153976,
          18.343908,
          13.142785,
          39.642185,
          32.736267,
          26.52659,
          21.038847,
          16.256615,
          232.141525,
          230.684586,
          221.012238,
          130.100281,
          126.55555,
          71.583099,
          66.713348,
          147.383621,
          22.449057,
          155.102539,
          141.451782,
          128.381775,
          141.148712,
          133.715637,
          88.849014,
          45.509514,
          40.369701,
          35.895912,
          32.086815,
          28.836094,
          10.061933,
          15.814551,
          12.158401,
          157.391846,
          135.485123,
          141.888306,
          131.141953,
          121.398849,
          112.581169,
          104.41468,
          62.068836,
          22.517786,
          18.686815,
          15.481585,
          176.059021,
          170.235901,
          145.129776,
          135.132477,
          16.174637,
          135.063538,
          30.787643,
          26.235233,
          22.305603,
          19.013479,
          16.348225,
          48.262833,
          43.214462,
          38.812061,
          35.137127,
          32.121479,
          131.268585,
          120.03019,
          109.374779,
          89.660019,
          80.685753,
          72.268608,
          64.570724,
          57.66547,
          51.501568,
          46.150227,
          26.76898,
          24.552708,
          105.975258,
          57.184334,
          11.164393,
          159.466324,
          209.966568,
          9.969551,
          190.366516,
          117.440598,
          117.926033,
          46.028889,
          40.078613,
          34.368866,
          29.258476,
          24.728094,
          67.529114,
          60.265362,
          53.584671,
          47.469841,
          42.051048,
          24.467911,
          21.145645,
          49.821674,
          42.680573,
          36.202278,
          30.294569,
          20.125759,
          15.880404,
          12.219344,
          124.659775,
          38.41367,
          19.095564,
          70.446266,
          62.850639,
          55.90258,
          22.581812,
          15.10781,
          33.604149,
          26.762514,
          20.662437,
          15.337311,
          10.670932,
          21.481285,
          12.846173,
          9.55103,
          14.178771,
          45.489017,
          39.402962,
          24.671822,
          22.893232,
          9.918679,
          158.886459,
          17.136621,
          114.294106,
          66.12439,
          100.506439,
          14.952853,
          42.306194,
          34.987381,
          10.94095
         ],
         "xaxis": "x",
         "y": [
          40.01165,
          44.479023,
          45.898651,
          45.421833,
          44.991753,
          40.834362,
          40.791088,
          40.767262,
          40.754139,
          40.524696,
          40.48624,
          40.98959,
          43.008198,
          42.678215,
          42.391304,
          42.171898,
          41.986328,
          41.843876,
          41.742531,
          42.287434,
          40.902416,
          40.630566,
          40.544895,
          40.490826,
          43.380768,
          42.931034,
          42.666225,
          44.465096,
          43.397743,
          45.035965,
          43.03059,
          40.394009,
          40.285118,
          45.943775,
          44.472065,
          43.448978,
          42.725761,
          43.319859,
          45.860855,
          45.106201,
          44.429298,
          43.544376,
          41.391071,
          45.219612,
          33.458015,
          30.363508,
          29.934017,
          29.348722,
          30.098778,
          29.92981,
          29.877426,
          29.841282,
          29.834049,
          30.17181,
          29.456144,
          29.463205,
          30.107882,
          30.003849,
          29.876024,
          29.75761,
          29.631104,
          38.935867,
          38.915768,
          37.368237,
          24.244722,
          23.23575,
          25.116043,
          24.922659,
          57.020451,
          51.791245,
          50.039185,
          48.291039,
          46.589851,
          58.414207,
          58.183414,
          47.568352,
          56.528194,
          56.474953,
          56.438522,
          56.411308,
          56.37495,
          51.125244,
          52.050587,
          52.020424,
          58.362667,
          56.566811,
          64.044563,
          63.088024,
          62.153412,
          61.280342,
          60.458332,
          55.998398,
          51.826332,
          51.712761,
          51.650211,
          85.783752,
          86.757759,
          60.50066,
          59.71674,
          51.501755,
          57.167522,
          51.095001,
          51.142288,
          51.184692,
          51.228344,
          51.241127,
          51.359173,
          51.298813,
          51.249397,
          51.17226,
          51.091789,
          59.148739,
          58.433167,
          57.863346,
          57.052311,
          56.807838,
          56.697445,
          56.61858,
          56.550892,
          56.525764,
          56.51202,
          56.373863,
          56.323761,
          57.660229,
          56.568871,
          51.09325,
          87.82589,
          88.573036,
          56.118015,
          85.644844,
          86.857956,
          86.910103,
          51.458786,
          56.136913,
          56.077324,
          56.034744,
          55.982037,
          56.515404,
          56.427727,
          56.340282,
          56.251213,
          56.154675,
          56.199631,
          51.762585,
          51.317135,
          51.305035,
          51.286961,
          51.288448,
          51.183159,
          51.170322,
          51.15575,
          58.815144,
          56.394791,
          50.871754,
          56.340755,
          56.238125,
          56.171238,
          55.68557,
          55.649048,
          56.447453,
          56.349831,
          56.239468,
          56.155464,
          56.096519,
          57.527431,
          51.04443,
          51.057404,
          56.138767,
          51.023254,
          50.92527,
          51.61298,
          56.241093,
          56.07045,
          47.605747,
          55.465282,
          58.961788,
          57.464489,
          86.756767,
          52.020523,
          51.535988,
          51.315304,
          50.83926
         ],
         "yaxis": "y"
        }
       ],
       "layout": {
        "coloraxis": {
         "cmax": 0,
         "cmin": -40,
         "colorbar": {
          "title": {
           "text": "Vehicle Acceleration"
          }
         },
         "colorscale": [
          [
           0,
           "#440154"
          ],
          [
           0.1111111111111111,
           "#482878"
          ],
          [
           0.2222222222222222,
           "#3e4989"
          ],
          [
           0.3333333333333333,
           "#31688e"
          ],
          [
           0.4444444444444444,
           "#26828e"
          ],
          [
           0.5555555555555556,
           "#1f9e89"
          ],
          [
           0.6666666666666666,
           "#35b779"
          ],
          [
           0.7777777777777778,
           "#6ece58"
          ],
          [
           0.8888888888888888,
           "#b5de2b"
          ],
          [
           1,
           "#fde725"
          ]
         ]
        },
        "height": 800,
        "legend": {
         "tracegroupgap": 0
        },
        "paper_bgcolor": "rgba(0, 0, 0, 0)",
        "plot_bgcolor": "rgba(0, 0, 0, 0)",
        "template": {
         "data": {
          "bar": [
           {
            "error_x": {
             "color": "rgb(36,36,36)"
            },
            "error_y": {
             "color": "rgb(36,36,36)"
            },
            "marker": {
             "line": {
              "color": "white",
              "width": 0.5
             },
             "pattern": {
              "fillmode": "overlay",
              "size": 10,
              "solidity": 0.2
             }
            },
            "type": "bar"
           }
          ],
          "barpolar": [
           {
            "marker": {
             "line": {
              "color": "white",
              "width": 0.5
             },
             "pattern": {
              "fillmode": "overlay",
              "size": 10,
              "solidity": 0.2
             }
            },
            "type": "barpolar"
           }
          ],
          "carpet": [
           {
            "aaxis": {
             "endlinecolor": "rgb(36,36,36)",
             "gridcolor": "white",
             "linecolor": "white",
             "minorgridcolor": "white",
             "startlinecolor": "rgb(36,36,36)"
            },
            "baxis": {
             "endlinecolor": "rgb(36,36,36)",
             "gridcolor": "white",
             "linecolor": "white",
             "minorgridcolor": "white",
             "startlinecolor": "rgb(36,36,36)"
            },
            "type": "carpet"
           }
          ],
          "choropleth": [
           {
            "colorbar": {
             "outlinewidth": 1,
             "tickcolor": "rgb(36,36,36)",
             "ticks": "outside"
            },
            "type": "choropleth"
           }
          ],
          "contour": [
           {
            "colorbar": {
             "outlinewidth": 1,
             "tickcolor": "rgb(36,36,36)",
             "ticks": "outside"
            },
            "colorscale": [
             [
              0,
              "#440154"
             ],
             [
              0.1111111111111111,
              "#482878"
             ],
             [
              0.2222222222222222,
              "#3e4989"
             ],
             [
              0.3333333333333333,
              "#31688e"
             ],
             [
              0.4444444444444444,
              "#26828e"
             ],
             [
              0.5555555555555556,
              "#1f9e89"
             ],
             [
              0.6666666666666666,
              "#35b779"
             ],
             [
              0.7777777777777778,
              "#6ece58"
             ],
             [
              0.8888888888888888,
              "#b5de2b"
             ],
             [
              1,
              "#fde725"
             ]
            ],
            "type": "contour"
           }
          ],
          "contourcarpet": [
           {
            "colorbar": {
             "outlinewidth": 1,
             "tickcolor": "rgb(36,36,36)",
             "ticks": "outside"
            },
            "type": "contourcarpet"
           }
          ],
          "heatmap": [
           {
            "colorbar": {
             "outlinewidth": 1,
             "tickcolor": "rgb(36,36,36)",
             "ticks": "outside"
            },
            "colorscale": [
             [
              0,
              "#440154"
             ],
             [
              0.1111111111111111,
              "#482878"
             ],
             [
              0.2222222222222222,
              "#3e4989"
             ],
             [
              0.3333333333333333,
              "#31688e"
             ],
             [
              0.4444444444444444,
              "#26828e"
             ],
             [
              0.5555555555555556,
              "#1f9e89"
             ],
             [
              0.6666666666666666,
              "#35b779"
             ],
             [
              0.7777777777777778,
              "#6ece58"
             ],
             [
              0.8888888888888888,
              "#b5de2b"
             ],
             [
              1,
              "#fde725"
             ]
            ],
            "type": "heatmap"
           }
          ],
          "heatmapgl": [
           {
            "colorbar": {
             "outlinewidth": 1,
             "tickcolor": "rgb(36,36,36)",
             "ticks": "outside"
            },
            "colorscale": [
             [
              0,
              "#440154"
             ],
             [
              0.1111111111111111,
              "#482878"
             ],
             [
              0.2222222222222222,
              "#3e4989"
             ],
             [
              0.3333333333333333,
              "#31688e"
             ],
             [
              0.4444444444444444,
              "#26828e"
             ],
             [
              0.5555555555555556,
              "#1f9e89"
             ],
             [
              0.6666666666666666,
              "#35b779"
             ],
             [
              0.7777777777777778,
              "#6ece58"
             ],
             [
              0.8888888888888888,
              "#b5de2b"
             ],
             [
              1,
              "#fde725"
             ]
            ],
            "type": "heatmapgl"
           }
          ],
          "histogram": [
           {
            "marker": {
             "line": {
              "color": "white",
              "width": 0.6
             }
            },
            "type": "histogram"
           }
          ],
          "histogram2d": [
           {
            "colorbar": {
             "outlinewidth": 1,
             "tickcolor": "rgb(36,36,36)",
             "ticks": "outside"
            },
            "colorscale": [
             [
              0,
              "#440154"
             ],
             [
              0.1111111111111111,
              "#482878"
             ],
             [
              0.2222222222222222,
              "#3e4989"
             ],
             [
              0.3333333333333333,
              "#31688e"
             ],
             [
              0.4444444444444444,
              "#26828e"
             ],
             [
              0.5555555555555556,
              "#1f9e89"
             ],
             [
              0.6666666666666666,
              "#35b779"
             ],
             [
              0.7777777777777778,
              "#6ece58"
             ],
             [
              0.8888888888888888,
              "#b5de2b"
             ],
             [
              1,
              "#fde725"
             ]
            ],
            "type": "histogram2d"
           }
          ],
          "histogram2dcontour": [
           {
            "colorbar": {
             "outlinewidth": 1,
             "tickcolor": "rgb(36,36,36)",
             "ticks": "outside"
            },
            "colorscale": [
             [
              0,
              "#440154"
             ],
             [
              0.1111111111111111,
              "#482878"
             ],
             [
              0.2222222222222222,
              "#3e4989"
             ],
             [
              0.3333333333333333,
              "#31688e"
             ],
             [
              0.4444444444444444,
              "#26828e"
             ],
             [
              0.5555555555555556,
              "#1f9e89"
             ],
             [
              0.6666666666666666,
              "#35b779"
             ],
             [
              0.7777777777777778,
              "#6ece58"
             ],
             [
              0.8888888888888888,
              "#b5de2b"
             ],
             [
              1,
              "#fde725"
             ]
            ],
            "type": "histogram2dcontour"
           }
          ],
          "mesh3d": [
           {
            "colorbar": {
             "outlinewidth": 1,
             "tickcolor": "rgb(36,36,36)",
             "ticks": "outside"
            },
            "type": "mesh3d"
           }
          ],
          "parcoords": [
           {
            "line": {
             "colorbar": {
              "outlinewidth": 1,
              "tickcolor": "rgb(36,36,36)",
              "ticks": "outside"
             }
            },
            "type": "parcoords"
           }
          ],
          "pie": [
           {
            "automargin": true,
            "type": "pie"
           }
          ],
          "scatter": [
           {
            "marker": {
             "colorbar": {
              "outlinewidth": 1,
              "tickcolor": "rgb(36,36,36)",
              "ticks": "outside"
             }
            },
            "type": "scatter"
           }
          ],
          "scatter3d": [
           {
            "line": {
             "colorbar": {
              "outlinewidth": 1,
              "tickcolor": "rgb(36,36,36)",
              "ticks": "outside"
             }
            },
            "marker": {
             "colorbar": {
              "outlinewidth": 1,
              "tickcolor": "rgb(36,36,36)",
              "ticks": "outside"
             }
            },
            "type": "scatter3d"
           }
          ],
          "scattercarpet": [
           {
            "marker": {
             "colorbar": {
              "outlinewidth": 1,
              "tickcolor": "rgb(36,36,36)",
              "ticks": "outside"
             }
            },
            "type": "scattercarpet"
           }
          ],
          "scattergeo": [
           {
            "marker": {
             "colorbar": {
              "outlinewidth": 1,
              "tickcolor": "rgb(36,36,36)",
              "ticks": "outside"
             }
            },
            "type": "scattergeo"
           }
          ],
          "scattergl": [
           {
            "marker": {
             "colorbar": {
              "outlinewidth": 1,
              "tickcolor": "rgb(36,36,36)",
              "ticks": "outside"
             }
            },
            "type": "scattergl"
           }
          ],
          "scattermapbox": [
           {
            "marker": {
             "colorbar": {
              "outlinewidth": 1,
              "tickcolor": "rgb(36,36,36)",
              "ticks": "outside"
             }
            },
            "type": "scattermapbox"
           }
          ],
          "scatterpolar": [
           {
            "marker": {
             "colorbar": {
              "outlinewidth": 1,
              "tickcolor": "rgb(36,36,36)",
              "ticks": "outside"
             }
            },
            "type": "scatterpolar"
           }
          ],
          "scatterpolargl": [
           {
            "marker": {
             "colorbar": {
              "outlinewidth": 1,
              "tickcolor": "rgb(36,36,36)",
              "ticks": "outside"
             }
            },
            "type": "scatterpolargl"
           }
          ],
          "scatterternary": [
           {
            "marker": {
             "colorbar": {
              "outlinewidth": 1,
              "tickcolor": "rgb(36,36,36)",
              "ticks": "outside"
             }
            },
            "type": "scatterternary"
           }
          ],
          "surface": [
           {
            "colorbar": {
             "outlinewidth": 1,
             "tickcolor": "rgb(36,36,36)",
             "ticks": "outside"
            },
            "colorscale": [
             [
              0,
              "#440154"
             ],
             [
              0.1111111111111111,
              "#482878"
             ],
             [
              0.2222222222222222,
              "#3e4989"
             ],
             [
              0.3333333333333333,
              "#31688e"
             ],
             [
              0.4444444444444444,
              "#26828e"
             ],
             [
              0.5555555555555556,
              "#1f9e89"
             ],
             [
              0.6666666666666666,
              "#35b779"
             ],
             [
              0.7777777777777778,
              "#6ece58"
             ],
             [
              0.8888888888888888,
              "#b5de2b"
             ],
             [
              1,
              "#fde725"
             ]
            ],
            "type": "surface"
           }
          ],
          "table": [
           {
            "cells": {
             "fill": {
              "color": "rgb(237,237,237)"
             },
             "line": {
              "color": "white"
             }
            },
            "header": {
             "fill": {
              "color": "rgb(217,217,217)"
             },
             "line": {
              "color": "white"
             }
            },
            "type": "table"
           }
          ]
         },
         "layout": {
          "annotationdefaults": {
           "arrowhead": 0,
           "arrowwidth": 1
          },
          "autotypenumbers": "strict",
          "coloraxis": {
           "colorbar": {
            "outlinewidth": 1,
            "tickcolor": "rgb(36,36,36)",
            "ticks": "outside"
           }
          },
          "colorscale": {
           "diverging": [
            [
             0,
             "rgb(103,0,31)"
            ],
            [
             0.1,
             "rgb(178,24,43)"
            ],
            [
             0.2,
             "rgb(214,96,77)"
            ],
            [
             0.3,
             "rgb(244,165,130)"
            ],
            [
             0.4,
             "rgb(253,219,199)"
            ],
            [
             0.5,
             "rgb(247,247,247)"
            ],
            [
             0.6,
             "rgb(209,229,240)"
            ],
            [
             0.7,
             "rgb(146,197,222)"
            ],
            [
             0.8,
             "rgb(67,147,195)"
            ],
            [
             0.9,
             "rgb(33,102,172)"
            ],
            [
             1,
             "rgb(5,48,97)"
            ]
           ],
           "sequential": [
            [
             0,
             "#440154"
            ],
            [
             0.1111111111111111,
             "#482878"
            ],
            [
             0.2222222222222222,
             "#3e4989"
            ],
            [
             0.3333333333333333,
             "#31688e"
            ],
            [
             0.4444444444444444,
             "#26828e"
            ],
            [
             0.5555555555555556,
             "#1f9e89"
            ],
            [
             0.6666666666666666,
             "#35b779"
            ],
            [
             0.7777777777777778,
             "#6ece58"
            ],
            [
             0.8888888888888888,
             "#b5de2b"
            ],
            [
             1,
             "#fde725"
            ]
           ],
           "sequentialminus": [
            [
             0,
             "#440154"
            ],
            [
             0.1111111111111111,
             "#482878"
            ],
            [
             0.2222222222222222,
             "#3e4989"
            ],
            [
             0.3333333333333333,
             "#31688e"
            ],
            [
             0.4444444444444444,
             "#26828e"
            ],
            [
             0.5555555555555556,
             "#1f9e89"
            ],
            [
             0.6666666666666666,
             "#35b779"
            ],
            [
             0.7777777777777778,
             "#6ece58"
            ],
            [
             0.8888888888888888,
             "#b5de2b"
            ],
            [
             1,
             "#fde725"
            ]
           ]
          },
          "colorway": [
           "#1F77B4",
           "#FF7F0E",
           "#2CA02C",
           "#D62728",
           "#9467BD",
           "#8C564B",
           "#E377C2",
           "#7F7F7F",
           "#BCBD22",
           "#17BECF"
          ],
          "font": {
           "color": "rgb(36,36,36)"
          },
          "geo": {
           "bgcolor": "white",
           "lakecolor": "white",
           "landcolor": "white",
           "showlakes": true,
           "showland": true,
           "subunitcolor": "white"
          },
          "hoverlabel": {
           "align": "left"
          },
          "hovermode": "closest",
          "mapbox": {
           "style": "light"
          },
          "paper_bgcolor": "white",
          "plot_bgcolor": "white",
          "polar": {
           "angularaxis": {
            "gridcolor": "rgb(232,232,232)",
            "linecolor": "rgb(36,36,36)",
            "showgrid": false,
            "showline": true,
            "ticks": "outside"
           },
           "bgcolor": "white",
           "radialaxis": {
            "gridcolor": "rgb(232,232,232)",
            "linecolor": "rgb(36,36,36)",
            "showgrid": false,
            "showline": true,
            "ticks": "outside"
           }
          },
          "scene": {
           "xaxis": {
            "backgroundcolor": "white",
            "gridcolor": "rgb(232,232,232)",
            "gridwidth": 2,
            "linecolor": "rgb(36,36,36)",
            "showbackground": true,
            "showgrid": false,
            "showline": true,
            "ticks": "outside",
            "zeroline": false,
            "zerolinecolor": "rgb(36,36,36)"
           },
           "yaxis": {
            "backgroundcolor": "white",
            "gridcolor": "rgb(232,232,232)",
            "gridwidth": 2,
            "linecolor": "rgb(36,36,36)",
            "showbackground": true,
            "showgrid": false,
            "showline": true,
            "ticks": "outside",
            "zeroline": false,
            "zerolinecolor": "rgb(36,36,36)"
           },
           "zaxis": {
            "backgroundcolor": "white",
            "gridcolor": "rgb(232,232,232)",
            "gridwidth": 2,
            "linecolor": "rgb(36,36,36)",
            "showbackground": true,
            "showgrid": false,
            "showline": true,
            "ticks": "outside",
            "zeroline": false,
            "zerolinecolor": "rgb(36,36,36)"
           }
          },
          "shapedefaults": {
           "fillcolor": "black",
           "line": {
            "width": 0
           },
           "opacity": 0.3
          },
          "ternary": {
           "aaxis": {
            "gridcolor": "rgb(232,232,232)",
            "linecolor": "rgb(36,36,36)",
            "showgrid": false,
            "showline": true,
            "ticks": "outside"
           },
           "baxis": {
            "gridcolor": "rgb(232,232,232)",
            "linecolor": "rgb(36,36,36)",
            "showgrid": false,
            "showline": true,
            "ticks": "outside"
           },
           "bgcolor": "white",
           "caxis": {
            "gridcolor": "rgb(232,232,232)",
            "linecolor": "rgb(36,36,36)",
            "showgrid": false,
            "showline": true,
            "ticks": "outside"
           }
          },
          "title": {
           "x": 0.05
          },
          "xaxis": {
           "automargin": true,
           "gridcolor": "rgb(232,232,232)",
           "linecolor": "rgb(36,36,36)",
           "showgrid": false,
           "showline": true,
           "ticks": "outside",
           "title": {
            "standoff": 15
           },
           "zeroline": false,
           "zerolinecolor": "rgb(36,36,36)"
          },
          "yaxis": {
           "automargin": true,
           "gridcolor": "rgb(232,232,232)",
           "linecolor": "rgb(36,36,36)",
           "showgrid": false,
           "showline": true,
           "ticks": "outside",
           "title": {
            "standoff": 15
           },
           "zeroline": false,
           "zerolinecolor": "rgb(36,36,36)"
          }
         }
        },
        "title": {
         "text": "Sudden Dec : 02_3"
        },
        "width": 800,
        "xaxis": {
         "anchor": "y",
         "domain": [
          0,
          1
         ],
         "range": [
          0,
          270
         ],
         "title": {
          "text": "Local X (m)"
         },
         "type": "linear"
        },
        "yaxis": {
         "anchor": "x",
         "domain": [
          0,
          1
         ],
         "range": [
          0,
          270
         ],
         "title": {
          "text": "Local Y(m)"
         },
         "type": "linear"
        }
       }
      },
      "image/png": "[encoded data removed]",
      "text/html": [
       "<div>                            <div id=\"8dc6c3c5-9fae-410d-bd73-40758560fdcb\" class=\"plotly-graph-div\" style=\"height:800px; width:800px;\"></div>            <script type=\"text/javascript\">                require([\"plotly\"], function(Plotly) {                    window.PLOTLYENV=window.PLOTLYENV || {};                                    if (document.getElementById(\"8dc6c3c5-9fae-410d-bd73-40758560fdcb\")) {                    Plotly.newPlot(                        \"8dc6c3c5-9fae-410d-bd73-40758560fdcb\",                        [{\"hovertemplate\":\"Local X (m)=%{x}<br>Local Y(m)=%{y}<br>Vehicle Acceleration=%{marker.color}<extra></extra>\",\"legendgroup\":\"\",\"marker\":{\"color\":[-4.041403,-2.825394,-2.560132,-2.450379,-2.270934,-2.311613,-2.230822,-2.518679,-2.275895,-2.552232,-2.453643,-2.28177,-3.90706,-4.898643,-4.960781,-4.819819,-6.088219,-4.896806,-3.6375,-13.16374,-2.333631,-2.403357,-2.281787,-2.384605,-2.812729,-3.403416,-3.321752,-3.198407,-20.56237,-2.231418,-4.232797,-2.694757,-5.566572,-3.288481,-2.680596,-2.69833,-2.290145,-4.263395,-3.200459,-2.614657,-2.273952,-2.262499,-3.213107,-25.150587,-3.175312,-2.435782,-2.308678,-2.453107,-2.580431,-2.567736,-2.665592,-2.467306,-2.78937,-2.438454,-2.56798,-2.358413,-2.463141,-2.477936,-2.782839,-2.887885,-2.820462,-6.653896,-3.601142,-29.355667,-2.53401,-2.742649,-3.373847,-3.273953,-2.408354,-2.448273,-2.655445,-2.953631,-2.327932,-2.306156,-2.260719,-2.477595,-2.634462,-2.578333,-2.664604,-2.658971,-2.233081,-2.616397,-2.466327,-2.362363,-2.274022,-2.279714,-3.279377,-3.733915,-4.004055,-3.708115,-2.612173,-2.39755,-2.309294,-2.232864,-2.507252,-2.652529,-22.212358,-2.521646,-2.419353,-2.329594,-2.229796,-2.356466,-2.477498,-2.491187,-2.549783,-2.508512,-2.654864,-2.560974,-2.584212,-2.907738,-2.636089,-2.517158,-2.311418,-2.362069,-2.353308,-2.376204,-2.238907,-2.878325,-3.170806,-2.966529,-3.250379,-2.286161,-2.507882,-2.332395,-2.282081,-2.262978,-3.911326,-2.703758,-2.383306,-2.284294,-18.559055,-11.389753,-2.24091,-2.289658,-2.551738,-2.397965,-2.319512,-2.35267,-2.271004,-2.332073,-2.263137,-2.783305,-2.346257,-2.511279,-2.598309,-2.470197,-2.65117,-2.282441,-2.233172,-2.240815,-2.337146,-2.23907,-2.527061,-2.231197,-2.568381,-2.453261,-2.591756,-2.326324,-2.345298,-2.840604,-2.922664,-2.965026,-3.101143,-2.636151,-3.396221,-2.271765,-2.442361,-2.329441,-2.286934,-2.473412,-2.287362,-2.362796,-2.486296,-2.275518,-2.325984,-2.482827,-2.312094,-7.810472,-2.469921,-2.341533,-2.347069,-2.229248],\"coloraxis\":\"coloraxis\",\"symbol\":\"circle\"},\"mode\":\"markers\",\"name\":\"\",\"orientation\":\"v\",\"showlegend\":false,\"type\":\"scatter\",\"x\":[77.805779,157.674713,192.970627,183.968735,175.532913,31.489576,21.211605,11.563241,39.009464,25.21973,18.580378,16.227581,125.593819,116.39991,108.44545,101.694336,96.465004,92.459114,89.361725,120.041901,52.131176,65.764938,56.815987,48.462952,138.52417,129.812454,121.924019,151.71788,127.464935,166.268677,108.32518,29.815252,19.225393,145.595154,132.955887,120.949318,109.494583,125.297195,168.249039,158.907867,150.130814,134.19075,71.124672,184.819595,48.880116,95.824074,88.282021,74.807922,50.438774,40.74654,31.719383,23.308979,15.595843,43.153976,18.343908,13.142785,39.642185,32.736267,26.52659,21.038847,16.256615,232.141525,230.684586,221.012238,130.100281,126.55555,71.583099,66.713348,147.383621,22.449057,155.102539,141.451782,128.381775,141.148712,133.715637,88.849014,45.509514,40.369701,35.895912,32.086815,28.836094,10.061933,15.814551,12.158401,157.391846,135.485123,141.888306,131.141953,121.398849,112.581169,104.41468,62.068836,22.517786,18.686815,15.481585,176.059021,170.235901,145.129776,135.132477,16.174637,135.063538,30.787643,26.235233,22.305603,19.013479,16.348225,48.262833,43.214462,38.812061,35.137127,32.121479,131.268585,120.03019,109.374779,89.660019,80.685753,72.268608,64.570724,57.66547,51.501568,46.150227,26.76898,24.552708,105.975258,57.184334,11.164393,159.466324,209.966568,9.969551,190.366516,117.440598,117.926033,46.028889,40.078613,34.368866,29.258476,24.728094,67.529114,60.265362,53.584671,47.469841,42.051048,24.467911,21.145645,49.821674,42.680573,36.202278,30.294569,20.125759,15.880404,12.219344,124.659775,38.41367,19.095564,70.446266,62.850639,55.90258,22.581812,15.10781,33.604149,26.762514,20.662437,15.337311,10.670932,21.481285,12.846173,9.55103,14.178771,45.489017,39.402962,24.671822,22.893232,9.918679,158.886459,17.136621,114.294106,66.12439,100.506439,14.952853,42.306194,34.987381,10.94095],\"xaxis\":\"x\",\"y\":[40.01165,44.479023,45.898651,45.421833,44.991753,40.834362,40.791088,40.767262,40.754139,40.524696,40.48624,40.98959,43.008198,42.678215,42.391304,42.171898,41.986328,41.843876,41.742531,42.287434,40.902416,40.630566,40.544895,40.490826,43.380768,42.931034,42.666225,44.465096,43.397743,45.035965,43.03059,40.394009,40.285118,45.943775,44.472065,43.448978,42.725761,43.319859,45.860855,45.106201,44.429298,43.544376,41.391071,45.219612,33.458015,30.363508,29.934017,29.348722,30.098778,29.92981,29.877426,29.841282,29.834049,30.17181,29.456144,29.463205,30.107882,30.003849,29.876024,29.75761,29.631104,38.935867,38.915768,37.368237,24.244722,23.23575,25.116043,24.922659,57.020451,51.791245,50.039185,48.291039,46.589851,58.414207,58.183414,47.568352,56.528194,56.474953,56.438522,56.411308,56.37495,51.125244,52.050587,52.020424,58.362667,56.566811,64.044563,63.088024,62.153412,61.280342,60.458332,55.998398,51.826332,51.712761,51.650211,85.783752,86.757759,60.50066,59.71674,51.501755,57.167522,51.095001,51.142288,51.184692,51.228344,51.241127,51.359173,51.298813,51.249397,51.17226,51.091789,59.148739,58.433167,57.863346,57.052311,56.807838,56.697445,56.61858,56.550892,56.525764,56.51202,56.373863,56.323761,57.660229,56.568871,51.09325,87.82589,88.573036,56.118015,85.644844,86.857956,86.910103,51.458786,56.136913,56.077324,56.034744,55.982037,56.515404,56.427727,56.340282,56.251213,56.154675,56.199631,51.762585,51.317135,51.305035,51.286961,51.288448,51.183159,51.170322,51.15575,58.815144,56.394791,50.871754,56.340755,56.238125,56.171238,55.68557,55.649048,56.447453,56.349831,56.239468,56.155464,56.096519,57.527431,51.04443,51.057404,56.138767,51.023254,50.92527,51.61298,56.241093,56.07045,47.605747,55.465282,58.961788,57.464489,86.756767,52.020523,51.535988,51.315304,50.83926],\"yaxis\":\"y\"}],                        {\"coloraxis\":{\"cmax\":0,\"cmin\":-40,\"colorbar\":{\"title\":{\"text\":\"Vehicle Acceleration\"}},\"colorscale\":[[0.0,\"#440154\"],[0.1111111111111111,\"#482878\"],[0.2222222222222222,\"#3e4989\"],[0.3333333333333333,\"#31688e\"],[0.4444444444444444,\"#26828e\"],[0.5555555555555556,\"#1f9e89\"],[0.6666666666666666,\"#35b779\"],[0.7777777777777778,\"#6ece58\"],[0.8888888888888888,\"#b5de2b\"],[1.0,\"#fde725\"]]},\"height\":800,\"legend\":{\"tracegroupgap\":0},\"paper_bgcolor\":\"rgba(0, 0, 0, 0)\",\"plot_bgcolor\":\"rgba(0, 0, 0, 0)\",\"template\":{\"data\":{\"bar\":[{\"error_x\":{\"color\":\"rgb(36,36,36)\"},\"error_y\":{\"color\":\"rgb(36,36,36)\"},\"marker\":{\"line\":{\"color\":\"white\",\"width\":0.5},\"pattern\":{\"fillmode\":\"overlay\",\"size\":10,\"solidity\":0.2}},\"type\":\"bar\"}],\"barpolar\":[{\"marker\":{\"line\":{\"color\":\"white\",\"width\":0.5},\"pattern\":{\"fillmode\":\"overlay\",\"size\":10,\"solidity\":0.2}},\"type\":\"barpolar\"}],\"carpet\":[{\"aaxis\":{\"endlinecolor\":\"rgb(36,36,36)\",\"gridcolor\":\"white\",\"linecolor\":\"white\",\"minorgridcolor\":\"white\",\"startlinecolor\":\"rgb(36,36,36)\"},\"baxis\":{\"endlinecolor\":\"rgb(36,36,36)\",\"gridcolor\":\"white\",\"linecolor\":\"white\",\"minorgridcolor\":\"white\",\"startlinecolor\":\"rgb(36,36,36)\"},\"type\":\"carpet\"}],\"choropleth\":[{\"colorbar\":{\"outlinewidth\":1,\"tickcolor\":\"rgb(36,36,36)\",\"ticks\":\"outside\"},\"type\":\"choropleth\"}],\"contour\":[{\"colorbar\":{\"outlinewidth\":1,\"tickcolor\":\"rgb(36,36,36)\",\"ticks\":\"outside\"},\"colorscale\":[[0.0,\"#440154\"],[0.1111111111111111,\"#482878\"],[0.2222222222222222,\"#3e4989\"],[0.3333333333333333,\"#31688e\"],[0.4444444444444444,\"#26828e\"],[0.5555555555555556,\"#1f9e89\"],[0.6666666666666666,\"#35b779\"],[0.7777777777777778,\"#6ece58\"],[0.8888888888888888,\"#b5de2b\"],[1.0,\"#fde725\"]],\"type\":\"contour\"}],\"contourcarpet\":[{\"colorbar\":{\"outlinewidth\":1,\"tickcolor\":\"rgb(36,36,36)\",\"ticks\":\"outside\"},\"type\":\"contourcarpet\"}],\"heatmap\":[{\"colorbar\":{\"outlinewidth\":1,\"tickcolor\":\"rgb(36,36,36)\",\"ticks\":\"outside\"},\"colorscale\":[[0.0,\"#440154\"],[0.1111111111111111,\"#482878\"],[0.2222222222222222,\"#3e4989\"],[0.3333333333333333,\"#31688e\"],[0.4444444444444444,\"#26828e\"],[0.5555555555555556,\"#1f9e89\"],[0.6666666666666666,\"#35b779\"],[0.7777777777777778,\"#6ece58\"],[0.8888888888888888,\"#b5de2b\"],[1.0,\"#fde725\"]],\"type\":\"heatmap\"}],\"heatmapgl\":[{\"colorbar\":{\"outlinewidth\":1,\"tickcolor\":\"rgb(36,36,36)\",\"ticks\":\"outside\"},\"colorscale\":[[0.0,\"#440154\"],[0.1111111111111111,\"#482878\"],[0.2222222222222222,\"#3e4989\"],[0.3333333333333333,\"#31688e\"],[0.4444444444444444,\"#26828e\"],[0.5555555555555556,\"#1f9e89\"],[0.6666666666666666,\"#35b779\"],[0.7777777777777778,\"#6ece58\"],[0.8888888888888888,\"#b5de2b\"],[1.0,\"#fde725\"]],\"type\":\"heatmapgl\"}],\"histogram\":[{\"marker\":{\"line\":{\"color\":\"white\",\"width\":0.6}},\"type\":\"histogram\"}],\"histogram2d\":[{\"colorbar\":{\"outlinewidth\":1,\"tickcolor\":\"rgb(36,36,36)\",\"ticks\":\"outside\"},\"colorscale\":[[0.0,\"#440154\"],[0.1111111111111111,\"#482878\"],[0.2222222222222222,\"#3e4989\"],[0.3333333333333333,\"#31688e\"],[0.4444444444444444,\"#26828e\"],[0.5555555555555556,\"#1f9e89\"],[0.6666666666666666,\"#35b779\"],[0.7777777777777778,\"#6ece58\"],[0.8888888888888888,\"#b5de2b\"],[1.0,\"#fde725\"]],\"type\":\"histogram2d\"}],\"histogram2dcontour\":[{\"colorbar\":{\"outlinewidth\":1,\"tickcolor\":\"rgb(36,36,36)\",\"ticks\":\"outside\"},\"colorscale\":[[0.0,\"#440154\"],[0.1111111111111111,\"#482878\"],[0.2222222222222222,\"#3e4989\"],[0.3333333333333333,\"#31688e\"],[0.4444444444444444,\"#26828e\"],[0.5555555555555556,\"#1f9e89\"],[0.6666666666666666,\"#35b779\"],[0.7777777777777778,\"#6ece58\"],[0.8888888888888888,\"#b5de2b\"],[1.0,\"#fde725\"]],\"type\":\"histogram2dcontour\"}],\"mesh3d\":[{\"colorbar\":{\"outlinewidth\":1,\"tickcolor\":\"rgb(36,36,36)\",\"ticks\":\"outside\"},\"type\":\"mesh3d\"}],\"parcoords\":[{\"line\":{\"colorbar\":{\"outlinewidth\":1,\"tickcolor\":\"rgb(36,36,36)\",\"ticks\":\"outside\"}},\"type\":\"parcoords\"}],\"pie\":[{\"automargin\":true,\"type\":\"pie\"}],\"scatter\":[{\"marker\":{\"colorbar\":{\"outlinewidth\":1,\"tickcolor\":\"rgb(36,36,36)\",\"ticks\":\"outside\"}},\"type\":\"scatter\"}],\"scatter3d\":[{\"line\":{\"colorbar\":{\"outlinewidth\":1,\"tickcolor\":\"rgb(36,36,36)\",\"ticks\":\"outside\"}},\"marker\":{\"colorbar\":{\"outlinewidth\":1,\"tickcolor\":\"rgb(36,36,36)\",\"ticks\":\"outside\"}},\"type\":\"scatter3d\"}],\"scattercarpet\":[{\"marker\":{\"colorbar\":{\"outlinewidth\":1,\"tickcolor\":\"rgb(36,36,36)\",\"ticks\":\"outside\"}},\"type\":\"scattercarpet\"}],\"scattergeo\":[{\"marker\":{\"colorbar\":{\"outlinewidth\":1,\"tickcolor\":\"rgb(36,36,36)\",\"ticks\":\"outside\"}},\"type\":\"scattergeo\"}],\"scattergl\":[{\"marker\":{\"colorbar\":{\"outlinewidth\":1,\"tickcolor\":\"rgb(36,36,36)\",\"ticks\":\"outside\"}},\"type\":\"scattergl\"}],\"scattermapbox\":[{\"marker\":{\"colorbar\":{\"outlinewidth\":1,\"tickcolor\":\"rgb(36,36,36)\",\"ticks\":\"outside\"}},\"type\":\"scattermapbox\"}],\"scatterpolar\":[{\"marker\":{\"colorbar\":{\"outlinewidth\":1,\"tickcolor\":\"rgb(36,36,36)\",\"ticks\":\"outside\"}},\"type\":\"scatterpolar\"}],\"scatterpolargl\":[{\"marker\":{\"colorbar\":{\"outlinewidth\":1,\"tickcolor\":\"rgb(36,36,36)\",\"ticks\":\"outside\"}},\"type\":\"scatterpolargl\"}],\"scatterternary\":[{\"marker\":{\"colorbar\":{\"outlinewidth\":1,\"tickcolor\":\"rgb(36,36,36)\",\"ticks\":\"outside\"}},\"type\":\"scatterternary\"}],\"surface\":[{\"colorbar\":{\"outlinewidth\":1,\"tickcolor\":\"rgb(36,36,36)\",\"ticks\":\"outside\"},\"colorscale\":[[0.0,\"#440154\"],[0.1111111111111111,\"#482878\"],[0.2222222222222222,\"#3e4989\"],[0.3333333333333333,\"#31688e\"],[0.4444444444444444,\"#26828e\"],[0.5555555555555556,\"#1f9e89\"],[0.6666666666666666,\"#35b779\"],[0.7777777777777778,\"#6ece58\"],[0.8888888888888888,\"#b5de2b\"],[1.0,\"#fde725\"]],\"type\":\"surface\"}],\"table\":[{\"cells\":{\"fill\":{\"color\":\"rgb(237,237,237)\"},\"line\":{\"color\":\"white\"}},\"header\":{\"fill\":{\"color\":\"rgb(217,217,217)\"},\"line\":{\"color\":\"white\"}},\"type\":\"table\"}]},\"layout\":{\"annotationdefaults\":{\"arrowhead\":0,\"arrowwidth\":1},\"autotypenumbers\":\"strict\",\"coloraxis\":{\"colorbar\":{\"outlinewidth\":1,\"tickcolor\":\"rgb(36,36,36)\",\"ticks\":\"outside\"}},\"colorscale\":{\"diverging\":[[0.0,\"rgb(103,0,31)\"],[0.1,\"rgb(178,24,43)\"],[0.2,\"rgb(214,96,77)\"],[0.3,\"rgb(244,165,130)\"],[0.4,\"rgb(253,219,199)\"],[0.5,\"rgb(247,247,247)\"],[0.6,\"rgb(209,229,240)\"],[0.7,\"rgb(146,197,222)\"],[0.8,\"rgb(67,147,195)\"],[0.9,\"rgb(33,102,172)\"],[1.0,\"rgb(5,48,97)\"]],\"sequential\":[[0.0,\"#440154\"],[0.1111111111111111,\"#482878\"],[0.2222222222222222,\"#3e4989\"],[0.3333333333333333,\"#31688e\"],[0.4444444444444444,\"#26828e\"],[0.5555555555555556,\"#1f9e89\"],[0.6666666666666666,\"#35b779\"],[0.7777777777777778,\"#6ece58\"],[0.8888888888888888,\"#b5de2b\"],[1.0,\"#fde725\"]],\"sequentialminus\":[[0.0,\"#440154\"],[0.1111111111111111,\"#482878\"],[0.2222222222222222,\"#3e4989\"],[0.3333333333333333,\"#31688e\"],[0.4444444444444444,\"#26828e\"],[0.5555555555555556,\"#1f9e89\"],[0.6666666666666666,\"#35b779\"],[0.7777777777777778,\"#6ece58\"],[0.8888888888888888,\"#b5de2b\"],[1.0,\"#fde725\"]]},\"colorway\":[\"#1F77B4\",\"#FF7F0E\",\"#2CA02C\",\"#D62728\",\"#9467BD\",\"#8C564B\",\"#E377C2\",\"#7F7F7F\",\"#BCBD22\",\"#17BECF\"],\"font\":{\"color\":\"rgb(36,36,36)\"},\"geo\":{\"bgcolor\":\"white\",\"lakecolor\":\"white\",\"landcolor\":\"white\",\"showlakes\":true,\"showland\":true,\"subunitcolor\":\"white\"},\"hoverlabel\":{\"align\":\"left\"},\"hovermode\":\"closest\",\"mapbox\":{\"style\":\"light\"},\"paper_bgcolor\":\"white\",\"plot_bgcolor\":\"white\",\"polar\":{\"angularaxis\":{\"gridcolor\":\"rgb(232,232,232)\",\"linecolor\":\"rgb(36,36,36)\",\"showgrid\":false,\"showline\":true,\"ticks\":\"outside\"},\"bgcolor\":\"white\",\"radialaxis\":{\"gridcolor\":\"rgb(232,232,232)\",\"linecolor\":\"rgb(36,36,36)\",\"showgrid\":false,\"showline\":true,\"ticks\":\"outside\"}},\"scene\":{\"xaxis\":{\"backgroundcolor\":\"white\",\"gridcolor\":\"rgb(232,232,232)\",\"gridwidth\":2,\"linecolor\":\"rgb(36,36,36)\",\"showbackground\":true,\"showgrid\":false,\"showline\":true,\"ticks\":\"outside\",\"zeroline\":false,\"zerolinecolor\":\"rgb(36,36,36)\"},\"yaxis\":{\"backgroundcolor\":\"white\",\"gridcolor\":\"rgb(232,232,232)\",\"gridwidth\":2,\"linecolor\":\"rgb(36,36,36)\",\"showbackground\":true,\"showgrid\":false,\"showline\":true,\"ticks\":\"outside\",\"zeroline\":false,\"zerolinecolor\":\"rgb(36,36,36)\"},\"zaxis\":{\"backgroundcolor\":\"white\",\"gridcolor\":\"rgb(232,232,232)\",\"gridwidth\":2,\"linecolor\":\"rgb(36,36,36)\",\"showbackground\":true,\"showgrid\":false,\"showline\":true,\"ticks\":\"outside\",\"zeroline\":false,\"zerolinecolor\":\"rgb(36,36,36)\"}},\"shapedefaults\":{\"fillcolor\":\"black\",\"line\":{\"width\":0},\"opacity\":0.3},\"ternary\":{\"aaxis\":{\"gridcolor\":\"rgb(232,232,232)\",\"linecolor\":\"rgb(36,36,36)\",\"showgrid\":false,\"showline\":true,\"ticks\":\"outside\"},\"baxis\":{\"gridcolor\":\"rgb(232,232,232)\",\"linecolor\":\"rgb(36,36,36)\",\"showgrid\":false,\"showline\":true,\"ticks\":\"outside\"},\"bgcolor\":\"white\",\"caxis\":{\"gridcolor\":\"rgb(232,232,232)\",\"linecolor\":\"rgb(36,36,36)\",\"showgrid\":false,\"showline\":true,\"ticks\":\"outside\"}},\"title\":{\"x\":0.05},\"xaxis\":{\"automargin\":true,\"gridcolor\":\"rgb(232,232,232)\",\"linecolor\":\"rgb(36,36,36)\",\"showgrid\":false,\"showline\":true,\"ticks\":\"outside\",\"title\":{\"standoff\":15},\"zeroline\":false,\"zerolinecolor\":\"rgb(36,36,36)\"},\"yaxis\":{\"automargin\":true,\"gridcolor\":\"rgb(232,232,232)\",\"linecolor\":\"rgb(36,36,36)\",\"showgrid\":false,\"showline\":true,\"ticks\":\"outside\",\"title\":{\"standoff\":15},\"zeroline\":false,\"zerolinecolor\":\"rgb(36,36,36)\"}}},\"title\":{\"text\":\"Sudden Dec : 02_3\"},\"width\":800,\"xaxis\":{\"anchor\":\"y\",\"domain\":[0.0,1.0],\"range\":[0,270],\"title\":{\"text\":\"Local X (m)\"}},\"yaxis\":{\"anchor\":\"x\",\"domain\":[0.0,1.0],\"range\":[0,270],\"title\":{\"text\":\"Local Y(m)\"}}},                        {\"responsive\": true}                    ).then(function(){\n",
       "                            \n",
       "var gd = document.getElementById('8dc6c3c5-9fae-410d-bd73-40758560fdcb');\n",
       "var x = new MutationObserver(function (mutations, observer) {{\n",
       "        var display = window.getComputedStyle(gd).display;\n",
       "        if (!display || display === 'none') {{\n",
       "            console.log([gd, 'removed!']);\n",
       "            Plotly.purge(gd);\n",
       "            observer.disconnect();\n",
       "        }}\n",
       "}});\n",
       "\n",
       "// Listen for the removal of the full notebook cells\n",
       "var notebookContainer = gd.closest('#notebook-container');\n",
       "if (notebookContainer) {{\n",
       "    x.observe(notebookContainer, {childList: true});\n",
       "}}\n",
       "\n",
       "// Listen for the clearing of the current output cell\n",
       "var outputEl = gd.closest('.output');\n",
       "if (outputEl) {{\n",
       "    x.observe(outputEl, {childList: true});\n",
       "}}\n",
       "\n",
       "                        })                };                });            </script>        </div>"
      ]
     },
     "metadata": {},
     "output_type": "display_data"
    }
   ],
   "source": [
    "for dec in dec_list:\n",
    "    # 각 파일 별로 점 그래프 그리기\n",
    "    \n",
    "    if dec[-3:] == 'csv':\n",
    "        dec_path = os.path.join(dec_dir, dec)\n",
    "        dec_df = pd.read_csv(dec_path)\n",
    "        \n",
    "        dec_df = dec_df[dec_df['sudden_dec'] == 'sudden_dec']\n",
    "    \n",
    "        fig = px.scatter(dec_df, x = 'Local X (m)', y = 'Local Y(m)', \n",
    "                      color = 'Vehicle Acceleration',\n",
    "                      title = f'Sudden Dec : {dec[-10:-6]}',\n",
    "                         template = 'simple_white',\n",
    "                         width = 800,\n",
    "                         height = 800,\n",
    "                        range_color = [-40, 0])\n",
    "        \n",
    "        fig.update_xaxes(range = [0, 270])\n",
    "        fig.update_yaxes(range = [0, 270])\n",
    "        \n",
    "        fig.update_layout({\n",
    "            'plot_bgcolor' : 'rgba(0, 0, 0, 0)',\n",
    "            'paper_bgcolor' : 'rgba(0, 0, 0, 0)'\n",
    "        })\n",
    "        \n",
    "        #fig.update_traces(marker = dict(color = 'red', opacity = 0.5))\n",
    "    \n",
    "        save_html_name = f'{dec[-10:-6]}.html'\n",
    "        save_html_path = os.path.join(dec_dir, save_html_name)\n",
    "    \n",
    "        po.write_html(fig, file = save_html_path) # html Plotly 파일 저장\n",
    "        \n",
    "        save_png_name = f'{dec[-10:-6]}.png'\n",
    "        save_png_path = os.path.join(dec_dir, save_png_name)        \n",
    "        \n",
    "        fig.write_image(save_png_path)\n",
    "    \n",
    "    else:\n",
    "        pass\n",
    "    \n",
    "fig.show()"
   ]
  }
 ],
 "metadata": {
  "kernelspec": {
   "display_name": "Python 3",
   "language": "python",
   "name": "python3"
  },
  "language_info": {
   "codemirror_mode": {
    "name": "ipython",
    "version": 3
   },
   "file_extension": ".py",
   "mimetype": "text/x-python",
   "name": "python",
   "nbconvert_exporter": "python",
   "pygments_lexer": "ipython3",
   "version": "3.8.8"
  }
 },
 "nbformat": 4,
 "nbformat_minor": 5
}
