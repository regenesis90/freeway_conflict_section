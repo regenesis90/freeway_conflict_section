{
 "cells": [
  {
   "cell_type": "markdown",
   "id": "3bc423cf-f238-4178-8afc-3e85d10469d1",
   "metadata": {},
   "source": [
    "# 남양주TG :: `서울방향`의 OD별 Local X (m)에 따른 속도 그래프\n",
    "* 선 그래프로 모든 차량의 속도분포 나타내기\n",
    "* 각 시작점 차로, 각 부스별로 나타내기"
   ]
  },
  {
   "cell_type": "markdown",
   "id": "73288374-f4ec-4a03-bc96-e44ee78a1ce1",
   "metadata": {},
   "source": [
    "# Set Up"
   ]
  },
  {
   "cell_type": "markdown",
   "id": "8faacd2a-8fda-46d4-a2c1-03f82afaf1a7",
   "metadata": {},
   "source": [
    "## Import"
   ]
  },
  {
   "cell_type": "code",
   "execution_count": 1,
   "id": "bca71437-f89f-4c95-a8e6-db21055dab5d",
   "metadata": {
    "execution": {
     "iopub.execute_input": "2022-09-26T05:09:31.236907Z",
     "iopub.status.busy": "2022-09-26T05:09:31.236907Z",
     "iopub.status.idle": "2022-09-26T05:09:34.876317Z",
     "shell.execute_reply": "2022-09-26T05:09:34.876317Z",
     "shell.execute_reply.started": "2022-09-26T05:09:31.236907Z"
    },
    "tags": []
   },
   "outputs": [],
   "source": [
    "import numpy as np\n",
    "import pandas as pd\n",
    "import math\n",
    "import os\n",
    "\n",
    "from tqdm import tqdm\n",
    "\n",
    "import plotly.express as px\n",
    "import plotly.graph_objects as go\n",
    "from plotly.subplots import make_subplots"
   ]
  },
  {
   "cell_type": "markdown",
   "id": "2824fa30-9c0d-4131-b7c0-e89c082ceec6",
   "metadata": {},
   "source": [
    "## Load Dataset"
   ]
  },
  {
   "cell_type": "code",
   "execution_count": 2,
   "id": "879a582d-3239-4167-803c-7d04d4225438",
   "metadata": {
    "execution": {
     "iopub.execute_input": "2022-09-26T05:09:34.876317Z",
     "iopub.status.busy": "2022-09-26T05:09:34.876317Z",
     "iopub.status.idle": "2022-09-26T05:09:34.886086Z",
     "shell.execute_reply": "2022-09-26T05:09:34.885081Z",
     "shell.execute_reply.started": "2022-09-26T05:09:34.876317Z"
    },
    "tags": []
   },
   "outputs": [],
   "source": [
    "data_dir = 'D:/OneDrive - 연세대학교 (Yonsei University)/Projects/Yonsei_TELab/003_도로상충_210517-/2차년도_2022/27_남양주영업소_드론영상분석/서울방향/01_density_by_target_LOS_concated_lanechange'"
   ]
  },
  {
   "cell_type": "code",
   "execution_count": 3,
   "id": "d3e4474b-689f-47c2-8328-7a5a605d027f",
   "metadata": {
    "execution": {
     "iopub.execute_input": "2022-09-26T05:09:34.888078Z",
     "iopub.status.busy": "2022-09-26T05:09:34.888078Z",
     "iopub.status.idle": "2022-09-26T05:09:34.902556Z",
     "shell.execute_reply": "2022-09-26T05:09:34.900561Z",
     "shell.execute_reply.started": "2022-09-26T05:09:34.888078Z"
    },
    "tags": []
   },
   "outputs": [],
   "source": [
    "save_dir = 'D:/OneDrive - 연세대학교 (Yonsei University)/Projects/Yonsei_TELab/003_도로상충_210517-/2차년도_2022/35_22-9차 회의 준비/15_OD별 x별 속도가속도분포 산점도/서울방향'"
   ]
  },
  {
   "cell_type": "code",
   "execution_count": 4,
   "id": "9b99f4dc-5a84-40b0-9bae-cb484ab30572",
   "metadata": {
    "execution": {
     "iopub.execute_input": "2022-09-26T05:09:34.904549Z",
     "iopub.status.busy": "2022-09-26T05:09:34.904549Z",
     "iopub.status.idle": "2022-09-26T05:09:34.918563Z",
     "shell.execute_reply": "2022-09-26T05:09:34.916573Z",
     "shell.execute_reply.started": "2022-09-26T05:09:34.904549Z"
    },
    "tags": []
   },
   "outputs": [
    {
     "name": "stdout",
     "output_type": "stream",
     "text": [
      "['01_1_A.csv', '01_2_A.csv', '01_3_A.csv', '02_1_A.csv', '02_2_A.csv', '02_3_A.csv']\n"
     ]
    }
   ],
   "source": [
    "file_list = os.listdir(data_dir)\n",
    "file_list = file_list[:6]\n",
    "print(file_list)"
   ]
  },
  {
   "cell_type": "markdown",
   "id": "c8cb8620-d300-414a-b8f1-c9b9af54e8ca",
   "metadata": {},
   "source": [
    "## Define Function\n",
    "* 참고 : 2개의 컬럼에 apply 함수 적용 : https://stackoverflow.com/questions/13331698/how-to-apply-a-function-to-two-columns-of-pandas-dataframe"
   ]
  },
  {
   "cell_type": "code",
   "execution_count": 5,
   "id": "f5362932-57ff-431e-b5ba-c88c7668c5c1",
   "metadata": {
    "execution": {
     "iopub.execute_input": "2022-09-26T05:09:34.919560Z",
     "iopub.status.busy": "2022-09-26T05:09:34.919560Z",
     "iopub.status.idle": "2022-09-26T05:09:34.931894Z",
     "shell.execute_reply": "2022-09-26T05:09:34.931894Z",
     "shell.execute_reply.started": "2022-09-26T05:09:34.919560Z"
    },
    "tags": []
   },
   "outputs": [],
   "source": [
    "def merge_str(origin, destination):\n",
    "    \"\"\"두 컬럼의 텍스트 값을 결합하여 OD를 만들어준다\n",
    "    결과 : rigin_destination\"\"\"\n",
    "    \n",
    "    return origin + '_' + destination"
   ]
  },
  {
   "cell_type": "markdown",
   "id": "6ac9177a-0613-4dd4-ad86-23ae24efc912",
   "metadata": {},
   "source": [
    "## Color Palette\n",
    "* 10색 무지개 컬러코드 : https://yagisanatode.com/2019/08/06/google-apps-script-hexadecimal-color-codes-for-google-docs-sheets-and-slides-standart-palette/"
   ]
  },
  {
   "cell_type": "code",
   "execution_count": 6,
   "id": "06474fa2-3737-4fea-ad76-b123b664a956",
   "metadata": {
    "execution": {
     "iopub.execute_input": "2022-09-26T05:09:34.932893Z",
     "iopub.status.busy": "2022-09-26T05:09:34.932893Z",
     "iopub.status.idle": "2022-09-26T05:09:34.947852Z",
     "shell.execute_reply": "2022-09-26T05:09:34.947852Z",
     "shell.execute_reply.started": "2022-09-26T05:09:34.932893Z"
    },
    "tags": []
   },
   "outputs": [],
   "source": [
    "palette = {'U01': '#980000', 'U02': '#ff0000', 'U03': '#ff9900', 'U04': '#ffff00', \n",
    "           'U05': '#00ff00', 'U06': '#00ffff', 'U07': '#4a86e8', 'U08': '#0000ff',\n",
    "           'U09': '#9900ff', 'U10': '#ff00ff',\n",
    "           'U11':'#ead1dc', 'U12':'#d5a6bd', 'U13':'#c27ba0',\n",
    "           'U14': '#a64d79', 'U15': '#741b47', 'U16': '#4c1130'}\n",
    "# 레드베리, 빨주노초, 싸이안, 콘플라워블루, 블루, 퍼플, 마젠타 --- 총 10색"
   ]
  },
  {
   "cell_type": "markdown",
   "id": "a2ab72dd-acde-4bf8-a9e5-1ceedc3272fa",
   "metadata": {},
   "source": [
    "## OD, Lane Identification\n",
    "* `01_1.csv` :\n",
    "    * U1 ~ U4 : 그대로\n",
    "* `01_2.csv` :\n",
    "    * 시작 : U2, U3\n",
    "    * 끝 : U4 ~ U7\n",
    "* `01_3.csv` : \n",
    "    * 시작 : U3\n",
    "    * 끝 : U8 ~ U11\n",
    "* `02_1.csv` :\n",
    "    * U1 ~ U6 : 그대로\n",
    "* `02_2.csv` :\n",
    "    * 시작 : U5~U10\n",
    "    * 끝 : U5~U10\n",
    "* `02_3.csv` : \n",
    "    * 시작, 끝 : U11~U16"
   ]
  },
  {
   "cell_type": "markdown",
   "id": "5317f371-3b99-4dc9-8e16-428ce54d86eb",
   "metadata": {},
   "source": [
    "# RUN"
   ]
  },
  {
   "cell_type": "markdown",
   "id": "dd35bc20-650d-4c1c-90e9-f171565cdc86",
   "metadata": {},
   "source": [
    "## 속도"
   ]
  },
  {
   "cell_type": "code",
   "execution_count": 10,
   "id": "52d07a84-d2ce-44c3-95df-7fdce0f68ced",
   "metadata": {
    "execution": {
     "iopub.execute_input": "2022-09-26T05:10:46.207390Z",
     "iopub.status.busy": "2022-09-26T05:10:46.207390Z",
     "iopub.status.idle": "2022-09-26T05:10:55.871640Z",
     "shell.execute_reply": "2022-09-26T05:10:55.871640Z",
     "shell.execute_reply.started": "2022-09-26T05:10:46.207390Z"
    },
    "tags": []
   },
   "outputs": [
    {
     "name": "stderr",
     "output_type": "stream",
     "text": [
      "100%|██████████████████████████████████████████████████████████████████████████████████| 17/17 [00:02<00:00,  6.15it/s]\n",
      "100%|████████████████████████████████████████████████████████████████████████████████████| 8/8 [00:02<00:00,  3.84it/s]\n",
      "100%|████████████████████████████████████████████████████████████████████████████████████| 3/3 [00:00<00:00,  9.82it/s]\n",
      "100%|████████████████████████████████████████████████████████████████████████████████████| 9/9 [00:01<00:00,  7.29it/s]\n",
      "100%|██████████████████████████████████████████████████████████████████████████████████| 12/12 [00:01<00:00, 11.14it/s]\n",
      "100%|████████████████████████████████████████████████████████████████████████████████████| 7/7 [00:00<00:00,  7.16it/s]\n"
     ]
    },
    {
     "data": {
      "application/vnd.plotly.v1+json": {
       "config": {
        "plotlyServerURL": "https://plot.ly"
       },
       "data": [
        {
         "hovertemplate": "Lane Identification=U13<br>Local X (m)=%{x}<br>Vehicle Velocity(km/h)=%{y}<extra></extra>",
         "legendgroup": "U13",
         "marker": {
          "color": "#c27ba0",
          "symbol": "circle"
         },
         "mode": "markers",
         "name": "U13",
         "orientation": "v",
         "showlegend": true,
         "type": "scatter",
         "x": [
          221.125412,
          212.419708,
          212.479752,
          203.711334,
          203.759537,
          195.027786,
          195.126892,
          186.299561,
          186.462875,
          177.63385,
          177.791061,
          169.034897,
          160.516205,
          169.204376,
          160.695282,
          152.106186,
          143.761749,
          152.266296,
          143.935501,
          135.478516,
          127.269394,
          135.703842,
          127.688339,
          119.277618,
          119.945038,
          111.561836,
          112.55706,
          104.13105,
          105.271202,
          96.825195,
          89.514603,
          97.992035,
          91.027191,
          82.458557,
          75.772758,
          84.36721,
          77.952721,
          69.387939,
          71.579132,
          63.019432,
          56.834663,
          65.306557,
          59.348091,
          50.878284,
          53.407406,
          45.007637,
          47.688904,
          39.350616,
          42.327396,
          34.055923,
          37.399265,
          29.185329,
          32.822422,
          24.658224,
          28.679602,
          20.59626,
          24.909891,
          16.885225,
          21.463501,
          13.538655,
          18.387943,
          10.482237,
          15.523822,
          12.717402,
          10.103233,
          223.255127,
          214.925034,
          222.506653,
          206.634155,
          198.2789,
          214.384445,
          206.34639,
          190.010391,
          181.787308,
          198.409531,
          173.630127,
          190.461121,
          182.518997,
          165.569412,
          157.581055,
          174.642288,
          149.726746,
          166.825684,
          159.085861,
          141.956055,
          134.259552,
          151.437454,
          143.686157,
          135.910156,
          128.001083,
          120.016884,
          111.868965,
          103.563171,
          95.077461,
          86.565125,
          78.029449,
          69.563622,
          61.159069,
          52.983677,
          45.046165,
          37.533459,
          30.56731,
          24.134628,
          18.343908,
          13.142785,
          28.897243,
          24.820507,
          20.958858,
          17.38011,
          14.127634,
          11.152568,
          232.141525,
          230.684586,
          221.26384,
          222.94725,
          221.012238,
          213.242233,
          205.233826,
          197.260895,
          189.348953,
          181.471573,
          173.629227,
          165.901901,
          158.220764,
          150.72168,
          143.471558,
          136.561035,
          129.934814,
          123.631187,
          117.659973,
          111.942223,
          106.391571,
          100.96637,
          95.704971,
          90.58271,
          85.518562,
          80.431511,
          75.28289,
          70.176643,
          65.119217,
          60.208385,
          55.403545,
          50.754742,
          46.323044,
          42.37677,
          38.985352,
          36.042477,
          33.472073,
          31.274515
         ],
         "xaxis": "x",
         "y": [
          62.713135,
          63.182018,
          62.362915,
          63.115257,
          63.208099,
          62.898514,
          62.508766,
          63.142353,
          62.690556,
          62.659294,
          62.69949,
          62.113682,
          61.501705,
          62.032593,
          61.419041,
          60.697731,
          60.206238,
          60.817799,
          60.119099,
          59.752602,
          59.229656,
          59.393848,
          57.814178,
          57.60379,
          55.826675,
          55.616917,
          53.241535,
          53.548695,
          52.522869,
          52.666786,
          52.722363,
          52.481995,
          50.231125,
          50.873825,
          48.173374,
          48.005341,
          46.221481,
          45.997688,
          45.925121,
          45.875404,
          44.543255,
          45.186848,
          42.912369,
          42.893959,
          42.783218,
          42.276089,
          41.180351,
          40.733997,
          38.604546,
          38.123158,
          35.486053,
          35.068855,
          32.953911,
          32.595158,
          29.828592,
          29.246216,
          27.141937,
          26.720114,
          24.814041,
          24.095573,
          22.144279,
          22.007914,
          20.624746,
          20.209036,
          18.823709,
          60.3535,
          60.638611,
          59.190498,
          60.344006,
          60.736565,
          58.989574,
          58.347866,
          60.070499,
          59.771259,
          57.597954,
          59.238152,
          57.605335,
          57.485504,
          58.494957,
          58.011089,
          56.975937,
          57.083336,
          56.467644,
          55.898243,
          56.524918,
          56.033173,
          55.201298,
          55.926975,
          56.071159,
          57.025867,
          57.593803,
          58.716187,
          59.840179,
          61.138275,
          61.326614,
          61.46669,
          60.966026,
          60.521069,
          58.874489,
          57.15831,
          54.099552,
          50.157219,
          46.315628,
          41.693264,
          37.44812,
          30.417223,
          29.466951,
          27.888525,
          25.848026,
          23.478497,
          21.440374,
          28.680859,
          50.126949,
          57.822521,
          56.406811,
          21.18001,
          58.223221,
          58.091633,
          57.702156,
          57.254929,
          56.945728,
          56.654579,
          55.786083,
          55.429173,
          54.098198,
          52.279434,
          49.834995,
          47.770485,
          45.431595,
          43.030365,
          41.216869,
          40.00351,
          39.092339,
          37.922134,
          36.915226,
          36.516533,
          36.669281,
          37.108253,
          36.785038,
          36.431931,
          35.366493,
          34.601486,
          33.473354,
          31.908245,
          28.413172,
          24.418398,
          21.189455,
          18.515814,
          15.827559
         ],
         "yaxis": "y"
        },
        {
         "hovertemplate": "Lane Identification=U14<br>Local X (m)=%{x}<br>Vehicle Velocity(km/h)=%{y}<extra></extra>",
         "legendgroup": "U14",
         "marker": {
          "color": "#a64d79",
          "symbol": "circle"
         },
         "mode": "markers",
         "name": "U14",
         "orientation": "v",
         "showlegend": true,
         "type": "scatter",
         "x": [
          126.637566,
          119.211555,
          112.056961,
          104.994614,
          97.898788,
          90.857719,
          83.803238,
          77.2696,
          71.583099,
          66.713348,
          62.379772,
          58.399948,
          54.40234,
          50.25042,
          46.001411,
          41.673382,
          37.358562,
          33.099209
         ],
         "xaxis": "x",
         "y": [
          55.494118,
          54.033611,
          51.959862,
          51.040085,
          51.109898,
          50.700146,
          50.794262,
          47.055885,
          40.98296,
          35.089844,
          31.205465,
          28.655914,
          28.813055,
          29.961185,
          30.72028,
          31.351543,
          31.246902,
          30.840014
         ],
         "yaxis": "y"
        }
       ],
       "layout": {
        "autosize": true,
        "legend": {
         "title": {
          "text": "Lane Identification"
         },
         "tracegroupgap": 0
        },
        "margin": {
         "t": 60
        },
        "template": {
         "data": {
          "bar": [
           {
            "error_x": {
             "color": "rgb(36,36,36)"
            },
            "error_y": {
             "color": "rgb(36,36,36)"
            },
            "marker": {
             "line": {
              "color": "white",
              "width": 0.5
             },
             "pattern": {
              "fillmode": "overlay",
              "size": 10,
              "solidity": 0.2
             }
            },
            "type": "bar"
           }
          ],
          "barpolar": [
           {
            "marker": {
             "line": {
              "color": "white",
              "width": 0.5
             },
             "pattern": {
              "fillmode": "overlay",
              "size": 10,
              "solidity": 0.2
             }
            },
            "type": "barpolar"
           }
          ],
          "carpet": [
           {
            "aaxis": {
             "endlinecolor": "rgb(36,36,36)",
             "gridcolor": "white",
             "linecolor": "white",
             "minorgridcolor": "white",
             "startlinecolor": "rgb(36,36,36)"
            },
            "baxis": {
             "endlinecolor": "rgb(36,36,36)",
             "gridcolor": "white",
             "linecolor": "white",
             "minorgridcolor": "white",
             "startlinecolor": "rgb(36,36,36)"
            },
            "type": "carpet"
           }
          ],
          "choropleth": [
           {
            "colorbar": {
             "outlinewidth": 1,
             "tickcolor": "rgb(36,36,36)",
             "ticks": "outside"
            },
            "type": "choropleth"
           }
          ],
          "contour": [
           {
            "colorbar": {
             "outlinewidth": 1,
             "tickcolor": "rgb(36,36,36)",
             "ticks": "outside"
            },
            "colorscale": [
             [
              0,
              "#440154"
             ],
             [
              0.1111111111111111,
              "#482878"
             ],
             [
              0.2222222222222222,
              "#3e4989"
             ],
             [
              0.3333333333333333,
              "#31688e"
             ],
             [
              0.4444444444444444,
              "#26828e"
             ],
             [
              0.5555555555555556,
              "#1f9e89"
             ],
             [
              0.6666666666666666,
              "#35b779"
             ],
             [
              0.7777777777777778,
              "#6ece58"
             ],
             [
              0.8888888888888888,
              "#b5de2b"
             ],
             [
              1,
              "#fde725"
             ]
            ],
            "type": "contour"
           }
          ],
          "contourcarpet": [
           {
            "colorbar": {
             "outlinewidth": 1,
             "tickcolor": "rgb(36,36,36)",
             "ticks": "outside"
            },
            "type": "contourcarpet"
           }
          ],
          "heatmap": [
           {
            "colorbar": {
             "outlinewidth": 1,
             "tickcolor": "rgb(36,36,36)",
             "ticks": "outside"
            },
            "colorscale": [
             [
              0,
              "#440154"
             ],
             [
              0.1111111111111111,
              "#482878"
             ],
             [
              0.2222222222222222,
              "#3e4989"
             ],
             [
              0.3333333333333333,
              "#31688e"
             ],
             [
              0.4444444444444444,
              "#26828e"
             ],
             [
              0.5555555555555556,
              "#1f9e89"
             ],
             [
              0.6666666666666666,
              "#35b779"
             ],
             [
              0.7777777777777778,
              "#6ece58"
             ],
             [
              0.8888888888888888,
              "#b5de2b"
             ],
             [
              1,
              "#fde725"
             ]
            ],
            "type": "heatmap"
           }
          ],
          "heatmapgl": [
           {
            "colorbar": {
             "outlinewidth": 1,
             "tickcolor": "rgb(36,36,36)",
             "ticks": "outside"
            },
            "colorscale": [
             [
              0,
              "#440154"
             ],
             [
              0.1111111111111111,
              "#482878"
             ],
             [
              0.2222222222222222,
              "#3e4989"
             ],
             [
              0.3333333333333333,
              "#31688e"
             ],
             [
              0.4444444444444444,
              "#26828e"
             ],
             [
              0.5555555555555556,
              "#1f9e89"
             ],
             [
              0.6666666666666666,
              "#35b779"
             ],
             [
              0.7777777777777778,
              "#6ece58"
             ],
             [
              0.8888888888888888,
              "#b5de2b"
             ],
             [
              1,
              "#fde725"
             ]
            ],
            "type": "heatmapgl"
           }
          ],
          "histogram": [
           {
            "marker": {
             "line": {
              "color": "white",
              "width": 0.6
             }
            },
            "type": "histogram"
           }
          ],
          "histogram2d": [
           {
            "colorbar": {
             "outlinewidth": 1,
             "tickcolor": "rgb(36,36,36)",
             "ticks": "outside"
            },
            "colorscale": [
             [
              0,
              "#440154"
             ],
             [
              0.1111111111111111,
              "#482878"
             ],
             [
              0.2222222222222222,
              "#3e4989"
             ],
             [
              0.3333333333333333,
              "#31688e"
             ],
             [
              0.4444444444444444,
              "#26828e"
             ],
             [
              0.5555555555555556,
              "#1f9e89"
             ],
             [
              0.6666666666666666,
              "#35b779"
             ],
             [
              0.7777777777777778,
              "#6ece58"
             ],
             [
              0.8888888888888888,
              "#b5de2b"
             ],
             [
              1,
              "#fde725"
             ]
            ],
            "type": "histogram2d"
           }
          ],
          "histogram2dcontour": [
           {
            "colorbar": {
             "outlinewidth": 1,
             "tickcolor": "rgb(36,36,36)",
             "ticks": "outside"
            },
            "colorscale": [
             [
              0,
              "#440154"
             ],
             [
              0.1111111111111111,
              "#482878"
             ],
             [
              0.2222222222222222,
              "#3e4989"
             ],
             [
              0.3333333333333333,
              "#31688e"
             ],
             [
              0.4444444444444444,
              "#26828e"
             ],
             [
              0.5555555555555556,
              "#1f9e89"
             ],
             [
              0.6666666666666666,
              "#35b779"
             ],
             [
              0.7777777777777778,
              "#6ece58"
             ],
             [
              0.8888888888888888,
              "#b5de2b"
             ],
             [
              1,
              "#fde725"
             ]
            ],
            "type": "histogram2dcontour"
           }
          ],
          "mesh3d": [
           {
            "colorbar": {
             "outlinewidth": 1,
             "tickcolor": "rgb(36,36,36)",
             "ticks": "outside"
            },
            "type": "mesh3d"
           }
          ],
          "parcoords": [
           {
            "line": {
             "colorbar": {
              "outlinewidth": 1,
              "tickcolor": "rgb(36,36,36)",
              "ticks": "outside"
             }
            },
            "type": "parcoords"
           }
          ],
          "pie": [
           {
            "automargin": true,
            "type": "pie"
           }
          ],
          "scatter": [
           {
            "marker": {
             "colorbar": {
              "outlinewidth": 1,
              "tickcolor": "rgb(36,36,36)",
              "ticks": "outside"
             }
            },
            "type": "scatter"
           }
          ],
          "scatter3d": [
           {
            "line": {
             "colorbar": {
              "outlinewidth": 1,
              "tickcolor": "rgb(36,36,36)",
              "ticks": "outside"
             }
            },
            "marker": {
             "colorbar": {
              "outlinewidth": 1,
              "tickcolor": "rgb(36,36,36)",
              "ticks": "outside"
             }
            },
            "type": "scatter3d"
           }
          ],
          "scattercarpet": [
           {
            "marker": {
             "colorbar": {
              "outlinewidth": 1,
              "tickcolor": "rgb(36,36,36)",
              "ticks": "outside"
             }
            },
            "type": "scattercarpet"
           }
          ],
          "scattergeo": [
           {
            "marker": {
             "colorbar": {
              "outlinewidth": 1,
              "tickcolor": "rgb(36,36,36)",
              "ticks": "outside"
             }
            },
            "type": "scattergeo"
           }
          ],
          "scattergl": [
           {
            "marker": {
             "colorbar": {
              "outlinewidth": 1,
              "tickcolor": "rgb(36,36,36)",
              "ticks": "outside"
             }
            },
            "type": "scattergl"
           }
          ],
          "scattermapbox": [
           {
            "marker": {
             "colorbar": {
              "outlinewidth": 1,
              "tickcolor": "rgb(36,36,36)",
              "ticks": "outside"
             }
            },
            "type": "scattermapbox"
           }
          ],
          "scatterpolar": [
           {
            "marker": {
             "colorbar": {
              "outlinewidth": 1,
              "tickcolor": "rgb(36,36,36)",
              "ticks": "outside"
             }
            },
            "type": "scatterpolar"
           }
          ],
          "scatterpolargl": [
           {
            "marker": {
             "colorbar": {
              "outlinewidth": 1,
              "tickcolor": "rgb(36,36,36)",
              "ticks": "outside"
             }
            },
            "type": "scatterpolargl"
           }
          ],
          "scatterternary": [
           {
            "marker": {
             "colorbar": {
              "outlinewidth": 1,
              "tickcolor": "rgb(36,36,36)",
              "ticks": "outside"
             }
            },
            "type": "scatterternary"
           }
          ],
          "surface": [
           {
            "colorbar": {
             "outlinewidth": 1,
             "tickcolor": "rgb(36,36,36)",
             "ticks": "outside"
            },
            "colorscale": [
             [
              0,
              "#440154"
             ],
             [
              0.1111111111111111,
              "#482878"
             ],
             [
              0.2222222222222222,
              "#3e4989"
             ],
             [
              0.3333333333333333,
              "#31688e"
             ],
             [
              0.4444444444444444,
              "#26828e"
             ],
             [
              0.5555555555555556,
              "#1f9e89"
             ],
             [
              0.6666666666666666,
              "#35b779"
             ],
             [
              0.7777777777777778,
              "#6ece58"
             ],
             [
              0.8888888888888888,
              "#b5de2b"
             ],
             [
              1,
              "#fde725"
             ]
            ],
            "type": "surface"
           }
          ],
          "table": [
           {
            "cells": {
             "fill": {
              "color": "rgb(237,237,237)"
             },
             "line": {
              "color": "white"
             }
            },
            "header": {
             "fill": {
              "color": "rgb(217,217,217)"
             },
             "line": {
              "color": "white"
             }
            },
            "type": "table"
           }
          ]
         },
         "layout": {
          "annotationdefaults": {
           "arrowhead": 0,
           "arrowwidth": 1
          },
          "autotypenumbers": "strict",
          "coloraxis": {
           "colorbar": {
            "outlinewidth": 1,
            "tickcolor": "rgb(36,36,36)",
            "ticks": "outside"
           }
          },
          "colorscale": {
           "diverging": [
            [
             0,
             "rgb(103,0,31)"
            ],
            [
             0.1,
             "rgb(178,24,43)"
            ],
            [
             0.2,
             "rgb(214,96,77)"
            ],
            [
             0.3,
             "rgb(244,165,130)"
            ],
            [
             0.4,
             "rgb(253,219,199)"
            ],
            [
             0.5,
             "rgb(247,247,247)"
            ],
            [
             0.6,
             "rgb(209,229,240)"
            ],
            [
             0.7,
             "rgb(146,197,222)"
            ],
            [
             0.8,
             "rgb(67,147,195)"
            ],
            [
             0.9,
             "rgb(33,102,172)"
            ],
            [
             1,
             "rgb(5,48,97)"
            ]
           ],
           "sequential": [
            [
             0,
             "#440154"
            ],
            [
             0.1111111111111111,
             "#482878"
            ],
            [
             0.2222222222222222,
             "#3e4989"
            ],
            [
             0.3333333333333333,
             "#31688e"
            ],
            [
             0.4444444444444444,
             "#26828e"
            ],
            [
             0.5555555555555556,
             "#1f9e89"
            ],
            [
             0.6666666666666666,
             "#35b779"
            ],
            [
             0.7777777777777778,
             "#6ece58"
            ],
            [
             0.8888888888888888,
             "#b5de2b"
            ],
            [
             1,
             "#fde725"
            ]
           ],
           "sequentialminus": [
            [
             0,
             "#440154"
            ],
            [
             0.1111111111111111,
             "#482878"
            ],
            [
             0.2222222222222222,
             "#3e4989"
            ],
            [
             0.3333333333333333,
             "#31688e"
            ],
            [
             0.4444444444444444,
             "#26828e"
            ],
            [
             0.5555555555555556,
             "#1f9e89"
            ],
            [
             0.6666666666666666,
             "#35b779"
            ],
            [
             0.7777777777777778,
             "#6ece58"
            ],
            [
             0.8888888888888888,
             "#b5de2b"
            ],
            [
             1,
             "#fde725"
            ]
           ]
          },
          "colorway": [
           "#1F77B4",
           "#FF7F0E",
           "#2CA02C",
           "#D62728",
           "#9467BD",
           "#8C564B",
           "#E377C2",
           "#7F7F7F",
           "#BCBD22",
           "#17BECF"
          ],
          "font": {
           "color": "rgb(36,36,36)"
          },
          "geo": {
           "bgcolor": "white",
           "lakecolor": "white",
           "landcolor": "white",
           "showlakes": true,
           "showland": true,
           "subunitcolor": "white"
          },
          "hoverlabel": {
           "align": "left"
          },
          "hovermode": "closest",
          "mapbox": {
           "style": "light"
          },
          "paper_bgcolor": "white",
          "plot_bgcolor": "white",
          "polar": {
           "angularaxis": {
            "gridcolor": "rgb(232,232,232)",
            "linecolor": "rgb(36,36,36)",
            "showgrid": false,
            "showline": true,
            "ticks": "outside"
           },
           "bgcolor": "white",
           "radialaxis": {
            "gridcolor": "rgb(232,232,232)",
            "linecolor": "rgb(36,36,36)",
            "showgrid": false,
            "showline": true,
            "ticks": "outside"
           }
          },
          "scene": {
           "xaxis": {
            "backgroundcolor": "white",
            "gridcolor": "rgb(232,232,232)",
            "gridwidth": 2,
            "linecolor": "rgb(36,36,36)",
            "showbackground": true,
            "showgrid": false,
            "showline": true,
            "ticks": "outside",
            "zeroline": false,
            "zerolinecolor": "rgb(36,36,36)"
           },
           "yaxis": {
            "backgroundcolor": "white",
            "gridcolor": "rgb(232,232,232)",
            "gridwidth": 2,
            "linecolor": "rgb(36,36,36)",
            "showbackground": true,
            "showgrid": false,
            "showline": true,
            "ticks": "outside",
            "zeroline": false,
            "zerolinecolor": "rgb(36,36,36)"
           },
           "zaxis": {
            "backgroundcolor": "white",
            "gridcolor": "rgb(232,232,232)",
            "gridwidth": 2,
            "linecolor": "rgb(36,36,36)",
            "showbackground": true,
            "showgrid": false,
            "showline": true,
            "ticks": "outside",
            "zeroline": false,
            "zerolinecolor": "rgb(36,36,36)"
           }
          },
          "shapedefaults": {
           "fillcolor": "black",
           "line": {
            "width": 0
           },
           "opacity": 0.3
          },
          "ternary": {
           "aaxis": {
            "gridcolor": "rgb(232,232,232)",
            "linecolor": "rgb(36,36,36)",
            "showgrid": false,
            "showline": true,
            "ticks": "outside"
           },
           "baxis": {
            "gridcolor": "rgb(232,232,232)",
            "linecolor": "rgb(36,36,36)",
            "showgrid": false,
            "showline": true,
            "ticks": "outside"
           },
           "bgcolor": "white",
           "caxis": {
            "gridcolor": "rgb(232,232,232)",
            "linecolor": "rgb(36,36,36)",
            "showgrid": false,
            "showline": true,
            "ticks": "outside"
           }
          },
          "title": {
           "x": 0.05
          },
          "xaxis": {
           "automargin": true,
           "gridcolor": "rgb(232,232,232)",
           "linecolor": "rgb(36,36,36)",
           "showgrid": false,
           "showline": true,
           "ticks": "outside",
           "title": {
            "standoff": 15
           },
           "zeroline": false,
           "zerolinecolor": "rgb(36,36,36)"
          },
          "yaxis": {
           "automargin": true,
           "gridcolor": "rgb(232,232,232)",
           "linecolor": "rgb(36,36,36)",
           "showgrid": false,
           "showline": true,
           "ticks": "outside",
           "title": {
            "standoff": 15
           },
           "zeroline": false,
           "zerolinecolor": "rgb(36,36,36)"
          }
         }
        },
        "xaxis": {
         "anchor": "y",
         "domain": [
          0,
          1
         ],
         "range": [
          270,
          0
         ],
         "title": {
          "text": "Local X (m)"
         },
         "type": "linear"
        },
        "yaxis": {
         "anchor": "x",
         "domain": [
          0,
          1
         ],
         "range": [
          0,
          160
         ],
         "title": {
          "text": "Vehicle Velocity(km/h)"
         },
         "type": "linear"
        }
       }
      },
      "image/png": "[encoded data removed]",
      "text/html": [
       "<div>                            <div id=\"78d7898e-0875-491f-80b2-bc3408debc18\" class=\"plotly-graph-div\" style=\"height:525px; width:100%;\"></div>            <script type=\"text/javascript\">                require([\"plotly\"], function(Plotly) {                    window.PLOTLYENV=window.PLOTLYENV || {};                                    if (document.getElementById(\"78d7898e-0875-491f-80b2-bc3408debc18\")) {                    Plotly.newPlot(                        \"78d7898e-0875-491f-80b2-bc3408debc18\",                        [{\"hovertemplate\":\"Lane Identification=U13<br>Local X (m)=%{x}<br>Vehicle Velocity(km/h)=%{y}<extra></extra>\",\"legendgroup\":\"U13\",\"marker\":{\"color\":\"#c27ba0\",\"symbol\":\"circle\"},\"mode\":\"markers\",\"name\":\"U13\",\"orientation\":\"v\",\"showlegend\":true,\"x\":[221.125412,212.419708,212.479752,203.711334,203.759537,195.027786,195.126892,186.299561,186.462875,177.63385,177.791061,169.034897,160.516205,169.204376,160.695282,152.106186,143.761749,152.266296,143.935501,135.478516,127.269394,135.703842,127.688339,119.277618,119.945038,111.561836,112.55706,104.13105,105.271202,96.825195,89.514603,97.992035,91.027191,82.458557,75.772758,84.36721,77.952721,69.387939,71.579132,63.019432,56.834663,65.306557,59.348091,50.878284,53.407406,45.007637,47.688904,39.350616,42.327396,34.055923,37.399265,29.185329,32.822422,24.658224,28.679602,20.59626,24.909891,16.885225,21.463501,13.538655,18.387943,10.482237,15.523822,12.717402,10.103233,223.255127,214.925034,222.506653,206.634155,198.2789,214.384445,206.34639,190.010391,181.787308,198.409531,173.630127,190.461121,182.518997,165.569412,157.581055,174.642288,149.726746,166.825684,159.085861,141.956055,134.259552,151.437454,143.686157,135.910156,128.001083,120.016884,111.868965,103.563171,95.077461,86.565125,78.029449,69.563622,61.159069,52.983677,45.046165,37.533459,30.56731,24.134628,18.343908,13.142785,28.897243,24.820507,20.958858,17.38011,14.127634,11.152568,232.141525,230.684586,221.26384,222.94725,221.012238,213.242233,205.233826,197.260895,189.348953,181.471573,173.629227,165.901901,158.220764,150.72168,143.471558,136.561035,129.934814,123.631187,117.659973,111.942223,106.391571,100.96637,95.704971,90.58271,85.518562,80.431511,75.28289,70.176643,65.119217,60.208385,55.403545,50.754742,46.323044,42.37677,38.985352,36.042477,33.472073,31.274515],\"xaxis\":\"x\",\"y\":[62.713135,63.182018,62.362915,63.115257,63.208099,62.898514,62.508766,63.142353,62.690556,62.659294,62.69949,62.113682,61.501705,62.032593,61.419041,60.697731,60.206238,60.817799,60.119099,59.752602,59.229656,59.393848,57.814178,57.60379,55.826675,55.616917,53.241535,53.548695,52.522869,52.666786,52.722363,52.481995,50.231125,50.873825,48.173374,48.005341,46.221481,45.997688,45.925121,45.875404,44.543255,45.186848,42.912369,42.893959,42.783218,42.276089,41.180351,40.733997,38.604546,38.123158,35.486053,35.068855,32.953911,32.595158,29.828592,29.246216,27.141937,26.720114,24.814041,24.095573,22.144279,22.007914,20.624746,20.209036,18.823709,60.3535,60.638611,59.190498,60.344006,60.736565,58.989574,58.347866,60.070499,59.771259,57.597954,59.238152,57.605335,57.485504,58.494957,58.011089,56.975937,57.083336,56.467644,55.898243,56.524918,56.033173,55.201298,55.926975,56.071159,57.025867,57.593803,58.716187,59.840179,61.138275,61.326614,61.46669,60.966026,60.521069,58.874489,57.15831,54.099552,50.157219,46.315628,41.693264,37.44812,30.417223,29.466951,27.888525,25.848026,23.478497,21.440374,28.680859,50.126949,57.822521,56.406811,21.18001,58.223221,58.091633,57.702156,57.254929,56.945728,56.654579,55.786083,55.429173,54.098198,52.279434,49.834995,47.770485,45.431595,43.030365,41.216869,40.00351,39.092339,37.922134,36.915226,36.516533,36.669281,37.108253,36.785038,36.431931,35.366493,34.601486,33.473354,31.908245,28.413172,24.418398,21.189455,18.515814,15.827559],\"yaxis\":\"y\",\"type\":\"scatter\"},{\"hovertemplate\":\"Lane Identification=U14<br>Local X (m)=%{x}<br>Vehicle Velocity(km/h)=%{y}<extra></extra>\",\"legendgroup\":\"U14\",\"marker\":{\"color\":\"#a64d79\",\"symbol\":\"circle\"},\"mode\":\"markers\",\"name\":\"U14\",\"orientation\":\"v\",\"showlegend\":true,\"x\":[126.637566,119.211555,112.056961,104.994614,97.898788,90.857719,83.803238,77.2696,71.583099,66.713348,62.379772,58.399948,54.40234,50.25042,46.001411,41.673382,37.358562,33.099209],\"xaxis\":\"x\",\"y\":[55.494118,54.033611,51.959862,51.040085,51.109898,50.700146,50.794262,47.055885,40.98296,35.089844,31.205465,28.655914,28.813055,29.961185,30.72028,31.351543,31.246902,30.840014],\"yaxis\":\"y\",\"type\":\"scatter\"}],                        {\"template\":{\"data\":{\"barpolar\":[{\"marker\":{\"line\":{\"color\":\"white\",\"width\":0.5},\"pattern\":{\"fillmode\":\"overlay\",\"size\":10,\"solidity\":0.2}},\"type\":\"barpolar\"}],\"bar\":[{\"error_x\":{\"color\":\"rgb(36,36,36)\"},\"error_y\":{\"color\":\"rgb(36,36,36)\"},\"marker\":{\"line\":{\"color\":\"white\",\"width\":0.5},\"pattern\":{\"fillmode\":\"overlay\",\"size\":10,\"solidity\":0.2}},\"type\":\"bar\"}],\"carpet\":[{\"aaxis\":{\"endlinecolor\":\"rgb(36,36,36)\",\"gridcolor\":\"white\",\"linecolor\":\"white\",\"minorgridcolor\":\"white\",\"startlinecolor\":\"rgb(36,36,36)\"},\"baxis\":{\"endlinecolor\":\"rgb(36,36,36)\",\"gridcolor\":\"white\",\"linecolor\":\"white\",\"minorgridcolor\":\"white\",\"startlinecolor\":\"rgb(36,36,36)\"},\"type\":\"carpet\"}],\"choropleth\":[{\"colorbar\":{\"outlinewidth\":1,\"tickcolor\":\"rgb(36,36,36)\",\"ticks\":\"outside\"},\"type\":\"choropleth\"}],\"contourcarpet\":[{\"colorbar\":{\"outlinewidth\":1,\"tickcolor\":\"rgb(36,36,36)\",\"ticks\":\"outside\"},\"type\":\"contourcarpet\"}],\"contour\":[{\"colorbar\":{\"outlinewidth\":1,\"tickcolor\":\"rgb(36,36,36)\",\"ticks\":\"outside\"},\"colorscale\":[[0.0,\"#440154\"],[0.1111111111111111,\"#482878\"],[0.2222222222222222,\"#3e4989\"],[0.3333333333333333,\"#31688e\"],[0.4444444444444444,\"#26828e\"],[0.5555555555555556,\"#1f9e89\"],[0.6666666666666666,\"#35b779\"],[0.7777777777777778,\"#6ece58\"],[0.8888888888888888,\"#b5de2b\"],[1.0,\"#fde725\"]],\"type\":\"contour\"}],\"heatmapgl\":[{\"colorbar\":{\"outlinewidth\":1,\"tickcolor\":\"rgb(36,36,36)\",\"ticks\":\"outside\"},\"colorscale\":[[0.0,\"#440154\"],[0.1111111111111111,\"#482878\"],[0.2222222222222222,\"#3e4989\"],[0.3333333333333333,\"#31688e\"],[0.4444444444444444,\"#26828e\"],[0.5555555555555556,\"#1f9e89\"],[0.6666666666666666,\"#35b779\"],[0.7777777777777778,\"#6ece58\"],[0.8888888888888888,\"#b5de2b\"],[1.0,\"#fde725\"]],\"type\":\"heatmapgl\"}],\"heatmap\":[{\"colorbar\":{\"outlinewidth\":1,\"tickcolor\":\"rgb(36,36,36)\",\"ticks\":\"outside\"},\"colorscale\":[[0.0,\"#440154\"],[0.1111111111111111,\"#482878\"],[0.2222222222222222,\"#3e4989\"],[0.3333333333333333,\"#31688e\"],[0.4444444444444444,\"#26828e\"],[0.5555555555555556,\"#1f9e89\"],[0.6666666666666666,\"#35b779\"],[0.7777777777777778,\"#6ece58\"],[0.8888888888888888,\"#b5de2b\"],[1.0,\"#fde725\"]],\"type\":\"heatmap\"}],\"histogram2dcontour\":[{\"colorbar\":{\"outlinewidth\":1,\"tickcolor\":\"rgb(36,36,36)\",\"ticks\":\"outside\"},\"colorscale\":[[0.0,\"#440154\"],[0.1111111111111111,\"#482878\"],[0.2222222222222222,\"#3e4989\"],[0.3333333333333333,\"#31688e\"],[0.4444444444444444,\"#26828e\"],[0.5555555555555556,\"#1f9e89\"],[0.6666666666666666,\"#35b779\"],[0.7777777777777778,\"#6ece58\"],[0.8888888888888888,\"#b5de2b\"],[1.0,\"#fde725\"]],\"type\":\"histogram2dcontour\"}],\"histogram2d\":[{\"colorbar\":{\"outlinewidth\":1,\"tickcolor\":\"rgb(36,36,36)\",\"ticks\":\"outside\"},\"colorscale\":[[0.0,\"#440154\"],[0.1111111111111111,\"#482878\"],[0.2222222222222222,\"#3e4989\"],[0.3333333333333333,\"#31688e\"],[0.4444444444444444,\"#26828e\"],[0.5555555555555556,\"#1f9e89\"],[0.6666666666666666,\"#35b779\"],[0.7777777777777778,\"#6ece58\"],[0.8888888888888888,\"#b5de2b\"],[1.0,\"#fde725\"]],\"type\":\"histogram2d\"}],\"histogram\":[{\"marker\":{\"line\":{\"color\":\"white\",\"width\":0.6}},\"type\":\"histogram\"}],\"mesh3d\":[{\"colorbar\":{\"outlinewidth\":1,\"tickcolor\":\"rgb(36,36,36)\",\"ticks\":\"outside\"},\"type\":\"mesh3d\"}],\"parcoords\":[{\"line\":{\"colorbar\":{\"outlinewidth\":1,\"tickcolor\":\"rgb(36,36,36)\",\"ticks\":\"outside\"}},\"type\":\"parcoords\"}],\"pie\":[{\"automargin\":true,\"type\":\"pie\"}],\"scatter3d\":[{\"line\":{\"colorbar\":{\"outlinewidth\":1,\"tickcolor\":\"rgb(36,36,36)\",\"ticks\":\"outside\"}},\"marker\":{\"colorbar\":{\"outlinewidth\":1,\"tickcolor\":\"rgb(36,36,36)\",\"ticks\":\"outside\"}},\"type\":\"scatter3d\"}],\"scattercarpet\":[{\"marker\":{\"colorbar\":{\"outlinewidth\":1,\"tickcolor\":\"rgb(36,36,36)\",\"ticks\":\"outside\"}},\"type\":\"scattercarpet\"}],\"scattergeo\":[{\"marker\":{\"colorbar\":{\"outlinewidth\":1,\"tickcolor\":\"rgb(36,36,36)\",\"ticks\":\"outside\"}},\"type\":\"scattergeo\"}],\"scattergl\":[{\"marker\":{\"colorbar\":{\"outlinewidth\":1,\"tickcolor\":\"rgb(36,36,36)\",\"ticks\":\"outside\"}},\"type\":\"scattergl\"}],\"scattermapbox\":[{\"marker\":{\"colorbar\":{\"outlinewidth\":1,\"tickcolor\":\"rgb(36,36,36)\",\"ticks\":\"outside\"}},\"type\":\"scattermapbox\"}],\"scatterpolargl\":[{\"marker\":{\"colorbar\":{\"outlinewidth\":1,\"tickcolor\":\"rgb(36,36,36)\",\"ticks\":\"outside\"}},\"type\":\"scatterpolargl\"}],\"scatterpolar\":[{\"marker\":{\"colorbar\":{\"outlinewidth\":1,\"tickcolor\":\"rgb(36,36,36)\",\"ticks\":\"outside\"}},\"type\":\"scatterpolar\"}],\"scatter\":[{\"marker\":{\"colorbar\":{\"outlinewidth\":1,\"tickcolor\":\"rgb(36,36,36)\",\"ticks\":\"outside\"}},\"type\":\"scatter\"}],\"scatterternary\":[{\"marker\":{\"colorbar\":{\"outlinewidth\":1,\"tickcolor\":\"rgb(36,36,36)\",\"ticks\":\"outside\"}},\"type\":\"scatterternary\"}],\"surface\":[{\"colorbar\":{\"outlinewidth\":1,\"tickcolor\":\"rgb(36,36,36)\",\"ticks\":\"outside\"},\"colorscale\":[[0.0,\"#440154\"],[0.1111111111111111,\"#482878\"],[0.2222222222222222,\"#3e4989\"],[0.3333333333333333,\"#31688e\"],[0.4444444444444444,\"#26828e\"],[0.5555555555555556,\"#1f9e89\"],[0.6666666666666666,\"#35b779\"],[0.7777777777777778,\"#6ece58\"],[0.8888888888888888,\"#b5de2b\"],[1.0,\"#fde725\"]],\"type\":\"surface\"}],\"table\":[{\"cells\":{\"fill\":{\"color\":\"rgb(237,237,237)\"},\"line\":{\"color\":\"white\"}},\"header\":{\"fill\":{\"color\":\"rgb(217,217,217)\"},\"line\":{\"color\":\"white\"}},\"type\":\"table\"}]},\"layout\":{\"annotationdefaults\":{\"arrowhead\":0,\"arrowwidth\":1},\"autotypenumbers\":\"strict\",\"coloraxis\":{\"colorbar\":{\"outlinewidth\":1,\"tickcolor\":\"rgb(36,36,36)\",\"ticks\":\"outside\"}},\"colorscale\":{\"diverging\":[[0.0,\"rgb(103,0,31)\"],[0.1,\"rgb(178,24,43)\"],[0.2,\"rgb(214,96,77)\"],[0.3,\"rgb(244,165,130)\"],[0.4,\"rgb(253,219,199)\"],[0.5,\"rgb(247,247,247)\"],[0.6,\"rgb(209,229,240)\"],[0.7,\"rgb(146,197,222)\"],[0.8,\"rgb(67,147,195)\"],[0.9,\"rgb(33,102,172)\"],[1.0,\"rgb(5,48,97)\"]],\"sequential\":[[0.0,\"#440154\"],[0.1111111111111111,\"#482878\"],[0.2222222222222222,\"#3e4989\"],[0.3333333333333333,\"#31688e\"],[0.4444444444444444,\"#26828e\"],[0.5555555555555556,\"#1f9e89\"],[0.6666666666666666,\"#35b779\"],[0.7777777777777778,\"#6ece58\"],[0.8888888888888888,\"#b5de2b\"],[1.0,\"#fde725\"]],\"sequentialminus\":[[0.0,\"#440154\"],[0.1111111111111111,\"#482878\"],[0.2222222222222222,\"#3e4989\"],[0.3333333333333333,\"#31688e\"],[0.4444444444444444,\"#26828e\"],[0.5555555555555556,\"#1f9e89\"],[0.6666666666666666,\"#35b779\"],[0.7777777777777778,\"#6ece58\"],[0.8888888888888888,\"#b5de2b\"],[1.0,\"#fde725\"]]},\"colorway\":[\"#1F77B4\",\"#FF7F0E\",\"#2CA02C\",\"#D62728\",\"#9467BD\",\"#8C564B\",\"#E377C2\",\"#7F7F7F\",\"#BCBD22\",\"#17BECF\"],\"font\":{\"color\":\"rgb(36,36,36)\"},\"geo\":{\"bgcolor\":\"white\",\"lakecolor\":\"white\",\"landcolor\":\"white\",\"showlakes\":true,\"showland\":true,\"subunitcolor\":\"white\"},\"hoverlabel\":{\"align\":\"left\"},\"hovermode\":\"closest\",\"mapbox\":{\"style\":\"light\"},\"paper_bgcolor\":\"white\",\"plot_bgcolor\":\"white\",\"polar\":{\"angularaxis\":{\"gridcolor\":\"rgb(232,232,232)\",\"linecolor\":\"rgb(36,36,36)\",\"showgrid\":false,\"showline\":true,\"ticks\":\"outside\"},\"bgcolor\":\"white\",\"radialaxis\":{\"gridcolor\":\"rgb(232,232,232)\",\"linecolor\":\"rgb(36,36,36)\",\"showgrid\":false,\"showline\":true,\"ticks\":\"outside\"}},\"scene\":{\"xaxis\":{\"backgroundcolor\":\"white\",\"gridcolor\":\"rgb(232,232,232)\",\"gridwidth\":2,\"linecolor\":\"rgb(36,36,36)\",\"showbackground\":true,\"showgrid\":false,\"showline\":true,\"ticks\":\"outside\",\"zeroline\":false,\"zerolinecolor\":\"rgb(36,36,36)\"},\"yaxis\":{\"backgroundcolor\":\"white\",\"gridcolor\":\"rgb(232,232,232)\",\"gridwidth\":2,\"linecolor\":\"rgb(36,36,36)\",\"showbackground\":true,\"showgrid\":false,\"showline\":true,\"ticks\":\"outside\",\"zeroline\":false,\"zerolinecolor\":\"rgb(36,36,36)\"},\"zaxis\":{\"backgroundcolor\":\"white\",\"gridcolor\":\"rgb(232,232,232)\",\"gridwidth\":2,\"linecolor\":\"rgb(36,36,36)\",\"showbackground\":true,\"showgrid\":false,\"showline\":true,\"ticks\":\"outside\",\"zeroline\":false,\"zerolinecolor\":\"rgb(36,36,36)\"}},\"shapedefaults\":{\"fillcolor\":\"black\",\"line\":{\"width\":0},\"opacity\":0.3},\"ternary\":{\"aaxis\":{\"gridcolor\":\"rgb(232,232,232)\",\"linecolor\":\"rgb(36,36,36)\",\"showgrid\":false,\"showline\":true,\"ticks\":\"outside\"},\"baxis\":{\"gridcolor\":\"rgb(232,232,232)\",\"linecolor\":\"rgb(36,36,36)\",\"showgrid\":false,\"showline\":true,\"ticks\":\"outside\"},\"bgcolor\":\"white\",\"caxis\":{\"gridcolor\":\"rgb(232,232,232)\",\"linecolor\":\"rgb(36,36,36)\",\"showgrid\":false,\"showline\":true,\"ticks\":\"outside\"}},\"title\":{\"x\":0.05},\"xaxis\":{\"automargin\":true,\"gridcolor\":\"rgb(232,232,232)\",\"linecolor\":\"rgb(36,36,36)\",\"showgrid\":false,\"showline\":true,\"ticks\":\"outside\",\"title\":{\"standoff\":15},\"zeroline\":false,\"zerolinecolor\":\"rgb(36,36,36)\"},\"yaxis\":{\"automargin\":true,\"gridcolor\":\"rgb(232,232,232)\",\"linecolor\":\"rgb(36,36,36)\",\"showgrid\":false,\"showline\":true,\"ticks\":\"outside\",\"title\":{\"standoff\":15},\"zeroline\":false,\"zerolinecolor\":\"rgb(36,36,36)\"}}},\"xaxis\":{\"anchor\":\"y\",\"domain\":[0.0,1.0],\"title\":{\"text\":\"Local X (m)\"},\"range\":[270,0]},\"yaxis\":{\"anchor\":\"x\",\"domain\":[0.0,1.0],\"title\":{\"text\":\"Vehicle Velocity(km/h)\"},\"range\":[0,160]},\"legend\":{\"title\":{\"text\":\"Lane Identification\"},\"tracegroupgap\":0},\"margin\":{\"t\":60}},                        {\"responsive\": true}                    ).then(function(){\n",
       "                            \n",
       "var gd = document.getElementById('78d7898e-0875-491f-80b2-bc3408debc18');\n",
       "var x = new MutationObserver(function (mutations, observer) {{\n",
       "        var display = window.getComputedStyle(gd).display;\n",
       "        if (!display || display === 'none') {{\n",
       "            console.log([gd, 'removed!']);\n",
       "            Plotly.purge(gd);\n",
       "            observer.disconnect();\n",
       "        }}\n",
       "}});\n",
       "\n",
       "// Listen for the removal of the full notebook cells\n",
       "var notebookContainer = gd.closest('#notebook-container');\n",
       "if (notebookContainer) {{\n",
       "    x.observe(notebookContainer, {childList: true});\n",
       "}}\n",
       "\n",
       "// Listen for the clearing of the current output cell\n",
       "var outputEl = gd.closest('.output');\n",
       "if (outputEl) {{\n",
       "    x.observe(outputEl, {childList: true});\n",
       "}}\n",
       "\n",
       "                        })                };                });            </script>        </div>"
      ]
     },
     "metadata": {},
     "output_type": "display_data"
    }
   ],
   "source": [
    "folder_name = '속도'\n",
    "\n",
    "for file in file_list:\n",
    "    \n",
    "    file_path = os.path.join(data_dir, file) # 파일리스트의 파일별 경로 설정\n",
    "    df = pd.read_csv(file_path)\n",
    "    \n",
    "    df = df[(df['Lane_00'] != 'UNKNOWN') & (df['Lane_99'] != 'UNKNOWN')] # UNKNOWN 제거 : 불필요해\n",
    "    \n",
    "    file_num = file[:4] # 파일및 영상번호\n",
    "    \n",
    "    if file_num == '01_1':\n",
    "        re_lane = {'U1': 'U01', 'U2': 'U02', 'U3': 'U03', 'U4': 'U04', 'U5': 'U05', 'U6':'U06'}\n",
    "        df['Lane Identification'].replace(re_lane, inplace = True)\n",
    "        df['Lane_00'].replace(re_lane, inplace = True)\n",
    "        df['Lane_99'].replace(re_lane, inplace = True)\n",
    "        \n",
    "    elif file_num == '01_2':\n",
    "        re_lane = {'U1': 'U04', 'U2': 'U05', 'U3': 'U06', 'U4': 'U07'}\n",
    "        df['Lane Identification'].replace(re_lane, inplace = True)\n",
    "        df['Lane_00'].replace({'U1': 'U02', 'U2': 'U03', 'U3': 'U03', 'U4': 'U03'}, inplace = True)\n",
    "        df['Lane_99'].replace(re_lane, inplace = True)\n",
    "        \n",
    "    elif file_num == '01_3':\n",
    "        re_lane = {'U1': 'U08', 'U2': 'U09', 'U3': 'U10', 'U4': 'U11'}\n",
    "        df['Lane Identification'].replace(re_lane, inplace = True)\n",
    "        df['Lane_00'].replace({'U1': 'U03', 'U2': 'U03', 'U03': 'U03', 'U4': 'U03'}, inplace = True)\n",
    "        df['Lane_99'].replace(re_lane, inplace = True)\n",
    "    \n",
    "    elif file_num == '02_1':\n",
    "        re_lane = {'U1': 'U01', 'U2': 'U02', 'U3': 'U03', 'U4': 'U04', 'U5': 'U05', 'U6': 'U06'}\n",
    "        df['Lane Identification'].replace(re_lane, inplace = True)\n",
    "        df['Lane_00'].replace(re_lane, inplace = True)\n",
    "        df['Lane_99'].replace(re_lane, inplace = True)\n",
    "        \n",
    "    elif file_num == '02_2':\n",
    "        re_lane = {'U1': 'U05', 'U2': 'U06', 'U3': 'U07', 'U4': 'U08', 'U5': 'U09', 'U6': 'U10'}\n",
    "        df['Lane Identification'].replace(re_lane, inplace = True)\n",
    "        df['Lane_00'].replace(re_lane, inplace = True)\n",
    "        df['Lane_99'].replace(re_lane, inplace = True)\n",
    "        \n",
    "    elif file_num == '02_3':\n",
    "        re_lane = {'U1': 'U11', 'U2': 'U12', 'U3': 'U13', 'U4': 'U14', 'U5': 'U15', 'U6': 'U16'}\n",
    "        df['Lane Identification'].replace(re_lane, inplace = True)\n",
    "        df['Lane_00'].replace(re_lane, inplace = True)\n",
    "        df['Lane_99'].replace(re_lane, inplace = True)\n",
    "        \n",
    "    else:\n",
    "        pass\n",
    "    \n",
    "    df['OD'] = df.apply(lambda x: merge_str(x.Lane_00, x.Lane_99), axis = 1) # 함수를 적용하여 OD컬럼 생성\n",
    "    OD_list = df['OD'].unique()\n",
    "    \n",
    "    #print(file, OD_list)\n",
    "    \n",
    "    for OD in tqdm(OD_list): # OD 리스트별로 필터링한다\n",
    "        df_p = df[df['OD'] == OD] # 이 필터링된 그래프별로 속도 선그래프를 그려준다\n",
    "        \n",
    "        ## 산점도 그래프 그리기\n",
    "        fig = px.scatter(df_p, x = 'Local X (m)', y = 'Vehicle Velocity(km/h)',\n",
    "                         color = 'Lane Identification',\n",
    "                         color_discrete_map = palette,\n",
    "                         template = 'simple_white')\n",
    "#        fig = px.line(df_p, x = 'Local X (m)', y = 'Vehicle Velocity(km/h)', line_group = 'Vehicle ID')\n",
    "        \n",
    "        ## 축설정 : x축 0~270, y축 0~160\n",
    "        #fig.update_xaxes(autorange = 'reversed')\n",
    "        fig.update_yaxes(range = [0, 160])\n",
    "        fig.update_xaxes(range = [270, 0])\n",
    "\n",
    "#         save_html_name = f'Velocity_by_OD_{file[-10:-6]}_{OD}.html'\n",
    "#         save_html_path = os.path.join(save_dir, save_html_name)\n",
    "    \n",
    "#         fig.write_html(file = save_html_path) # html Plotly 파일 저장\n",
    "    \n",
    "#         #글자 없는 것을 PNG 투명이미지로 저장\n",
    "#         fig.update_layout({\n",
    "#                 'plot_bgcolor' : 'rgba(0, 0, 0, 0)',\n",
    "#                 'paper_bgcolor' : 'rgba(0, 0, 0, 0)'\n",
    "#             })\n",
    "        \n",
    "        save_png_name = f'Velocity_by_OD_{file[-10:-6]}_{OD}.png'\n",
    "        save_folder_dir = os.path.join(save_dir, folder_name)\n",
    "        save_png_path = os.path.join(save_folder_dir, save_png_name)        \n",
    "        \n",
    "        fig.write_image(save_png_path)\n",
    "    \n",
    "fig.show()"
   ]
  },
  {
   "cell_type": "markdown",
   "id": "93b546cc-cf4e-4c0a-bfb6-1f4c4e429784",
   "metadata": {},
   "source": [
    "## 가속도"
   ]
  },
  {
   "cell_type": "code",
   "execution_count": 11,
   "id": "97042f31-3dd1-4f57-acad-427e7c4cda95",
   "metadata": {
    "execution": {
     "iopub.execute_input": "2022-09-26T05:11:18.008143Z",
     "iopub.status.busy": "2022-09-26T05:11:18.008143Z",
     "iopub.status.idle": "2022-09-26T05:11:27.486175Z",
     "shell.execute_reply": "2022-09-26T05:11:27.485176Z",
     "shell.execute_reply.started": "2022-09-26T05:11:18.008143Z"
    },
    "tags": []
   },
   "outputs": [
    {
     "name": "stderr",
     "output_type": "stream",
     "text": [
      "100%|██████████████████████████████████████████████████████████████████████████████████| 17/17 [00:02<00:00,  6.26it/s]\n",
      "100%|████████████████████████████████████████████████████████████████████████████████████| 8/8 [00:02<00:00,  3.61it/s]\n",
      "100%|████████████████████████████████████████████████████████████████████████████████████| 3/3 [00:00<00:00, 11.65it/s]\n",
      "100%|████████████████████████████████████████████████████████████████████████████████████| 9/9 [00:01<00:00,  7.45it/s]\n",
      "100%|██████████████████████████████████████████████████████████████████████████████████| 12/12 [00:01<00:00, 11.02it/s]\n",
      "100%|████████████████████████████████████████████████████████████████████████████████████| 7/7 [00:00<00:00,  7.77it/s]\n"
     ]
    },
    {
     "data": {
      "application/vnd.plotly.v1+json": {
       "config": {
        "plotlyServerURL": "https://plot.ly"
       },
       "data": [
        {
         "hovertemplate": "Lane Identification=U13<br>Local X (m)=%{x}<br>Vehicle Acceleration=%{y}<extra></extra>",
         "legendgroup": "U13",
         "marker": {
          "color": "#c27ba0",
          "symbol": "circle"
         },
         "mode": "markers",
         "name": "U13",
         "orientation": "v",
         "showlegend": true,
         "type": "scatter",
         "x": [
          221.125412,
          212.419708,
          212.479752,
          203.711334,
          203.759537,
          195.027786,
          195.126892,
          186.299561,
          186.462875,
          177.63385,
          177.791061,
          169.034897,
          160.516205,
          169.204376,
          160.695282,
          152.106186,
          143.761749,
          152.266296,
          143.935501,
          135.478516,
          127.269394,
          135.703842,
          127.688339,
          119.277618,
          119.945038,
          111.561836,
          112.55706,
          104.13105,
          105.271202,
          96.825195,
          89.514603,
          97.992035,
          91.027191,
          82.458557,
          75.772758,
          84.36721,
          77.952721,
          69.387939,
          71.579132,
          63.019432,
          56.834663,
          65.306557,
          59.348091,
          50.878284,
          53.407406,
          45.007637,
          47.688904,
          39.350616,
          42.327396,
          34.055923,
          37.399265,
          29.185329,
          32.822422,
          24.658224,
          28.679602,
          20.59626,
          24.909891,
          16.885225,
          21.463501,
          13.538655,
          18.387943,
          10.482237,
          15.523822,
          12.717402,
          10.103233,
          223.255127,
          214.925034,
          222.506653,
          206.634155,
          198.2789,
          214.384445,
          206.34639,
          190.010391,
          181.787308,
          198.409531,
          173.630127,
          190.461121,
          182.518997,
          165.569412,
          157.581055,
          174.642288,
          149.726746,
          166.825684,
          159.085861,
          141.956055,
          134.259552,
          151.437454,
          143.686157,
          135.910156,
          128.001083,
          120.016884,
          111.868965,
          103.563171,
          95.077461,
          86.565125,
          78.029449,
          69.563622,
          61.159069,
          52.983677,
          45.046165,
          37.533459,
          30.56731,
          24.134628,
          18.343908,
          13.142785,
          28.897243,
          24.820507,
          20.958858,
          17.38011,
          14.127634,
          11.152568,
          232.141525,
          230.684586,
          221.26384,
          222.94725,
          221.012238,
          213.242233,
          205.233826,
          197.260895,
          189.348953,
          181.471573,
          173.629227,
          165.901901,
          158.220764,
          150.72168,
          143.471558,
          136.561035,
          129.934814,
          123.631187,
          117.659973,
          111.942223,
          106.391571,
          100.96637,
          95.704971,
          90.58271,
          85.518562,
          80.431511,
          75.28289,
          70.176643,
          65.119217,
          60.208385,
          55.403545,
          50.754742,
          46.323044,
          42.37677,
          38.985352,
          36.042477,
          33.472073,
          31.274515
         ],
         "xaxis": "x",
         "y": [
          0.196148,
          0.260491,
          -0.235577,
          -0.037089,
          0.469547,
          -0.120413,
          -0.388518,
          0.135466,
          0.100994,
          -0.268366,
          0.004963,
          -0.303118,
          -0.339987,
          -0.370498,
          -0.340862,
          -0.446652,
          -0.273052,
          -0.334023,
          -0.388167,
          -0.25202,
          -0.290525,
          -0.402917,
          -0.877594,
          -0.903259,
          -1.104168,
          -1.103819,
          -1.436189,
          -1.149012,
          -0.399259,
          -0.489949,
          0.030876,
          -0.022708,
          -1.250483,
          -1.026965,
          -1.50025,
          -1.236547,
          -0.991033,
          -1.208714,
          -0.164644,
          -0.067936,
          -0.740083,
          -0.410152,
          -1.263599,
          -0.916275,
          -0.07175,
          -0.343261,
          -0.890482,
          -0.856717,
          -1.431003,
          -1.450467,
          -1.732496,
          -1.696835,
          -1.406746,
          -1.374277,
          -1.736288,
          -1.860523,
          -1.492586,
          -1.40339,
          -1.293276,
          -1.458078,
          -1.483201,
          -1.159811,
          -0.844185,
          -0.23095,
          -0.769626,
          0.406399,
          0.158395,
          -0.217652,
          -0.16367,
          0.218088,
          -0.111624,
          -0.356505,
          -0.370036,
          -0.166245,
          -0.416618,
          -0.296171,
          0.004101,
          -0.066573,
          -0.412886,
          -0.268815,
          -0.283093,
          -0.515419,
          -0.282385,
          -0.316334,
          -0.310232,
          -0.273192,
          -0.387192,
          0.403154,
          0.080102,
          0.530393,
          0.31552,
          0.623546,
          0.62444,
          0.721164,
          0.104633,
          0.07782,
          -0.278147,
          -0.247199,
          -0.914767,
          -0.953433,
          -1.69931,
          -2.190185,
          -2.134217,
          -2.56798,
          -2.358413,
          -0.234884,
          -0.527929,
          -0.876904,
          -1.13361,
          -1.316405,
          -1.13229,
          -6.653896,
          -3.601142,
          0.295529,
          3.488812,
          -29.355667,
          0.222611,
          -0.073104,
          -0.216376,
          -0.24846,
          -0.171778,
          -0.16175,
          -0.482498,
          -0.198284,
          -0.73943,
          -1.010424,
          -1.358022,
          -1.14695,
          -1.299383,
          -1.334017,
          -1.007498,
          -0.674089,
          -0.506206,
          -0.650113,
          -0.559394,
          -0.221496,
          0.08486,
          0.243874,
          -0.179564,
          -0.196171,
          -0.59191,
          -0.425004,
          -0.62674,
          -0.869505,
          -1.941707,
          -2.219319,
          -1.793857,
          -1.485356,
          -1.493475
         ],
         "yaxis": "y"
        },
        {
         "hovertemplate": "Lane Identification=U14<br>Local X (m)=%{x}<br>Vehicle Acceleration=%{y}<extra></extra>",
         "legendgroup": "U14",
         "marker": {
          "color": "#a64d79",
          "symbol": "circle"
         },
         "mode": "markers",
         "name": "U14",
         "orientation": "v",
         "showlegend": true,
         "type": "scatter",
         "x": [
          126.637566,
          119.211555,
          112.056961,
          104.994614,
          97.898788,
          90.857719,
          83.803238,
          77.2696,
          71.583099,
          66.713348,
          62.379772,
          58.399948,
          54.40234,
          50.25042,
          46.001411,
          41.673382,
          37.358562,
          33.099209
         ],
         "xaxis": "x",
         "y": [
          -0.299475,
          -0.811392,
          -1.152083,
          -0.510987,
          0.038785,
          -0.22764,
          0.052287,
          -2.076876,
          -3.373847,
          -3.273953,
          -2.157988,
          -1.416417,
          0.0873,
          0.63785,
          0.421719,
          0.350702,
          -0.058134,
          -0.226049
         ],
         "yaxis": "y"
        }
       ],
       "layout": {
        "autosize": true,
        "legend": {
         "title": {
          "text": "Lane Identification"
         },
         "tracegroupgap": 0
        },
        "margin": {
         "t": 60
        },
        "template": {
         "data": {
          "bar": [
           {
            "error_x": {
             "color": "rgb(36,36,36)"
            },
            "error_y": {
             "color": "rgb(36,36,36)"
            },
            "marker": {
             "line": {
              "color": "white",
              "width": 0.5
             },
             "pattern": {
              "fillmode": "overlay",
              "size": 10,
              "solidity": 0.2
             }
            },
            "type": "bar"
           }
          ],
          "barpolar": [
           {
            "marker": {
             "line": {
              "color": "white",
              "width": 0.5
             },
             "pattern": {
              "fillmode": "overlay",
              "size": 10,
              "solidity": 0.2
             }
            },
            "type": "barpolar"
           }
          ],
          "carpet": [
           {
            "aaxis": {
             "endlinecolor": "rgb(36,36,36)",
             "gridcolor": "white",
             "linecolor": "white",
             "minorgridcolor": "white",
             "startlinecolor": "rgb(36,36,36)"
            },
            "baxis": {
             "endlinecolor": "rgb(36,36,36)",
             "gridcolor": "white",
             "linecolor": "white",
             "minorgridcolor": "white",
             "startlinecolor": "rgb(36,36,36)"
            },
            "type": "carpet"
           }
          ],
          "choropleth": [
           {
            "colorbar": {
             "outlinewidth": 1,
             "tickcolor": "rgb(36,36,36)",
             "ticks": "outside"
            },
            "type": "choropleth"
           }
          ],
          "contour": [
           {
            "colorbar": {
             "outlinewidth": 1,
             "tickcolor": "rgb(36,36,36)",
             "ticks": "outside"
            },
            "colorscale": [
             [
              0,
              "#440154"
             ],
             [
              0.1111111111111111,
              "#482878"
             ],
             [
              0.2222222222222222,
              "#3e4989"
             ],
             [
              0.3333333333333333,
              "#31688e"
             ],
             [
              0.4444444444444444,
              "#26828e"
             ],
             [
              0.5555555555555556,
              "#1f9e89"
             ],
             [
              0.6666666666666666,
              "#35b779"
             ],
             [
              0.7777777777777778,
              "#6ece58"
             ],
             [
              0.8888888888888888,
              "#b5de2b"
             ],
             [
              1,
              "#fde725"
             ]
            ],
            "type": "contour"
           }
          ],
          "contourcarpet": [
           {
            "colorbar": {
             "outlinewidth": 1,
             "tickcolor": "rgb(36,36,36)",
             "ticks": "outside"
            },
            "type": "contourcarpet"
           }
          ],
          "heatmap": [
           {
            "colorbar": {
             "outlinewidth": 1,
             "tickcolor": "rgb(36,36,36)",
             "ticks": "outside"
            },
            "colorscale": [
             [
              0,
              "#440154"
             ],
             [
              0.1111111111111111,
              "#482878"
             ],
             [
              0.2222222222222222,
              "#3e4989"
             ],
             [
              0.3333333333333333,
              "#31688e"
             ],
             [
              0.4444444444444444,
              "#26828e"
             ],
             [
              0.5555555555555556,
              "#1f9e89"
             ],
             [
              0.6666666666666666,
              "#35b779"
             ],
             [
              0.7777777777777778,
              "#6ece58"
             ],
             [
              0.8888888888888888,
              "#b5de2b"
             ],
             [
              1,
              "#fde725"
             ]
            ],
            "type": "heatmap"
           }
          ],
          "heatmapgl": [
           {
            "colorbar": {
             "outlinewidth": 1,
             "tickcolor": "rgb(36,36,36)",
             "ticks": "outside"
            },
            "colorscale": [
             [
              0,
              "#440154"
             ],
             [
              0.1111111111111111,
              "#482878"
             ],
             [
              0.2222222222222222,
              "#3e4989"
             ],
             [
              0.3333333333333333,
              "#31688e"
             ],
             [
              0.4444444444444444,
              "#26828e"
             ],
             [
              0.5555555555555556,
              "#1f9e89"
             ],
             [
              0.6666666666666666,
              "#35b779"
             ],
             [
              0.7777777777777778,
              "#6ece58"
             ],
             [
              0.8888888888888888,
              "#b5de2b"
             ],
             [
              1,
              "#fde725"
             ]
            ],
            "type": "heatmapgl"
           }
          ],
          "histogram": [
           {
            "marker": {
             "line": {
              "color": "white",
              "width": 0.6
             }
            },
            "type": "histogram"
           }
          ],
          "histogram2d": [
           {
            "colorbar": {
             "outlinewidth": 1,
             "tickcolor": "rgb(36,36,36)",
             "ticks": "outside"
            },
            "colorscale": [
             [
              0,
              "#440154"
             ],
             [
              0.1111111111111111,
              "#482878"
             ],
             [
              0.2222222222222222,
              "#3e4989"
             ],
             [
              0.3333333333333333,
              "#31688e"
             ],
             [
              0.4444444444444444,
              "#26828e"
             ],
             [
              0.5555555555555556,
              "#1f9e89"
             ],
             [
              0.6666666666666666,
              "#35b779"
             ],
             [
              0.7777777777777778,
              "#6ece58"
             ],
             [
              0.8888888888888888,
              "#b5de2b"
             ],
             [
              1,
              "#fde725"
             ]
            ],
            "type": "histogram2d"
           }
          ],
          "histogram2dcontour": [
           {
            "colorbar": {
             "outlinewidth": 1,
             "tickcolor": "rgb(36,36,36)",
             "ticks": "outside"
            },
            "colorscale": [
             [
              0,
              "#440154"
             ],
             [
              0.1111111111111111,
              "#482878"
             ],
             [
              0.2222222222222222,
              "#3e4989"
             ],
             [
              0.3333333333333333,
              "#31688e"
             ],
             [
              0.4444444444444444,
              "#26828e"
             ],
             [
              0.5555555555555556,
              "#1f9e89"
             ],
             [
              0.6666666666666666,
              "#35b779"
             ],
             [
              0.7777777777777778,
              "#6ece58"
             ],
             [
              0.8888888888888888,
              "#b5de2b"
             ],
             [
              1,
              "#fde725"
             ]
            ],
            "type": "histogram2dcontour"
           }
          ],
          "mesh3d": [
           {
            "colorbar": {
             "outlinewidth": 1,
             "tickcolor": "rgb(36,36,36)",
             "ticks": "outside"
            },
            "type": "mesh3d"
           }
          ],
          "parcoords": [
           {
            "line": {
             "colorbar": {
              "outlinewidth": 1,
              "tickcolor": "rgb(36,36,36)",
              "ticks": "outside"
             }
            },
            "type": "parcoords"
           }
          ],
          "pie": [
           {
            "automargin": true,
            "type": "pie"
           }
          ],
          "scatter": [
           {
            "marker": {
             "colorbar": {
              "outlinewidth": 1,
              "tickcolor": "rgb(36,36,36)",
              "ticks": "outside"
             }
            },
            "type": "scatter"
           }
          ],
          "scatter3d": [
           {
            "line": {
             "colorbar": {
              "outlinewidth": 1,
              "tickcolor": "rgb(36,36,36)",
              "ticks": "outside"
             }
            },
            "marker": {
             "colorbar": {
              "outlinewidth": 1,
              "tickcolor": "rgb(36,36,36)",
              "ticks": "outside"
             }
            },
            "type": "scatter3d"
           }
          ],
          "scattercarpet": [
           {
            "marker": {
             "colorbar": {
              "outlinewidth": 1,
              "tickcolor": "rgb(36,36,36)",
              "ticks": "outside"
             }
            },
            "type": "scattercarpet"
           }
          ],
          "scattergeo": [
           {
            "marker": {
             "colorbar": {
              "outlinewidth": 1,
              "tickcolor": "rgb(36,36,36)",
              "ticks": "outside"
             }
            },
            "type": "scattergeo"
           }
          ],
          "scattergl": [
           {
            "marker": {
             "colorbar": {
              "outlinewidth": 1,
              "tickcolor": "rgb(36,36,36)",
              "ticks": "outside"
             }
            },
            "type": "scattergl"
           }
          ],
          "scattermapbox": [
           {
            "marker": {
             "colorbar": {
              "outlinewidth": 1,
              "tickcolor": "rgb(36,36,36)",
              "ticks": "outside"
             }
            },
            "type": "scattermapbox"
           }
          ],
          "scatterpolar": [
           {
            "marker": {
             "colorbar": {
              "outlinewidth": 1,
              "tickcolor": "rgb(36,36,36)",
              "ticks": "outside"
             }
            },
            "type": "scatterpolar"
           }
          ],
          "scatterpolargl": [
           {
            "marker": {
             "colorbar": {
              "outlinewidth": 1,
              "tickcolor": "rgb(36,36,36)",
              "ticks": "outside"
             }
            },
            "type": "scatterpolargl"
           }
          ],
          "scatterternary": [
           {
            "marker": {
             "colorbar": {
              "outlinewidth": 1,
              "tickcolor": "rgb(36,36,36)",
              "ticks": "outside"
             }
            },
            "type": "scatterternary"
           }
          ],
          "surface": [
           {
            "colorbar": {
             "outlinewidth": 1,
             "tickcolor": "rgb(36,36,36)",
             "ticks": "outside"
            },
            "colorscale": [
             [
              0,
              "#440154"
             ],
             [
              0.1111111111111111,
              "#482878"
             ],
             [
              0.2222222222222222,
              "#3e4989"
             ],
             [
              0.3333333333333333,
              "#31688e"
             ],
             [
              0.4444444444444444,
              "#26828e"
             ],
             [
              0.5555555555555556,
              "#1f9e89"
             ],
             [
              0.6666666666666666,
              "#35b779"
             ],
             [
              0.7777777777777778,
              "#6ece58"
             ],
             [
              0.8888888888888888,
              "#b5de2b"
             ],
             [
              1,
              "#fde725"
             ]
            ],
            "type": "surface"
           }
          ],
          "table": [
           {
            "cells": {
             "fill": {
              "color": "rgb(237,237,237)"
             },
             "line": {
              "color": "white"
             }
            },
            "header": {
             "fill": {
              "color": "rgb(217,217,217)"
             },
             "line": {
              "color": "white"
             }
            },
            "type": "table"
           }
          ]
         },
         "layout": {
          "annotationdefaults": {
           "arrowhead": 0,
           "arrowwidth": 1
          },
          "autotypenumbers": "strict",
          "coloraxis": {
           "colorbar": {
            "outlinewidth": 1,
            "tickcolor": "rgb(36,36,36)",
            "ticks": "outside"
           }
          },
          "colorscale": {
           "diverging": [
            [
             0,
             "rgb(103,0,31)"
            ],
            [
             0.1,
             "rgb(178,24,43)"
            ],
            [
             0.2,
             "rgb(214,96,77)"
            ],
            [
             0.3,
             "rgb(244,165,130)"
            ],
            [
             0.4,
             "rgb(253,219,199)"
            ],
            [
             0.5,
             "rgb(247,247,247)"
            ],
            [
             0.6,
             "rgb(209,229,240)"
            ],
            [
             0.7,
             "rgb(146,197,222)"
            ],
            [
             0.8,
             "rgb(67,147,195)"
            ],
            [
             0.9,
             "rgb(33,102,172)"
            ],
            [
             1,
             "rgb(5,48,97)"
            ]
           ],
           "sequential": [
            [
             0,
             "#440154"
            ],
            [
             0.1111111111111111,
             "#482878"
            ],
            [
             0.2222222222222222,
             "#3e4989"
            ],
            [
             0.3333333333333333,
             "#31688e"
            ],
            [
             0.4444444444444444,
             "#26828e"
            ],
            [
             0.5555555555555556,
             "#1f9e89"
            ],
            [
             0.6666666666666666,
             "#35b779"
            ],
            [
             0.7777777777777778,
             "#6ece58"
            ],
            [
             0.8888888888888888,
             "#b5de2b"
            ],
            [
             1,
             "#fde725"
            ]
           ],
           "sequentialminus": [
            [
             0,
             "#440154"
            ],
            [
             0.1111111111111111,
             "#482878"
            ],
            [
             0.2222222222222222,
             "#3e4989"
            ],
            [
             0.3333333333333333,
             "#31688e"
            ],
            [
             0.4444444444444444,
             "#26828e"
            ],
            [
             0.5555555555555556,
             "#1f9e89"
            ],
            [
             0.6666666666666666,
             "#35b779"
            ],
            [
             0.7777777777777778,
             "#6ece58"
            ],
            [
             0.8888888888888888,
             "#b5de2b"
            ],
            [
             1,
             "#fde725"
            ]
           ]
          },
          "colorway": [
           "#1F77B4",
           "#FF7F0E",
           "#2CA02C",
           "#D62728",
           "#9467BD",
           "#8C564B",
           "#E377C2",
           "#7F7F7F",
           "#BCBD22",
           "#17BECF"
          ],
          "font": {
           "color": "rgb(36,36,36)"
          },
          "geo": {
           "bgcolor": "white",
           "lakecolor": "white",
           "landcolor": "white",
           "showlakes": true,
           "showland": true,
           "subunitcolor": "white"
          },
          "hoverlabel": {
           "align": "left"
          },
          "hovermode": "closest",
          "mapbox": {
           "style": "light"
          },
          "paper_bgcolor": "white",
          "plot_bgcolor": "white",
          "polar": {
           "angularaxis": {
            "gridcolor": "rgb(232,232,232)",
            "linecolor": "rgb(36,36,36)",
            "showgrid": false,
            "showline": true,
            "ticks": "outside"
           },
           "bgcolor": "white",
           "radialaxis": {
            "gridcolor": "rgb(232,232,232)",
            "linecolor": "rgb(36,36,36)",
            "showgrid": false,
            "showline": true,
            "ticks": "outside"
           }
          },
          "scene": {
           "xaxis": {
            "backgroundcolor": "white",
            "gridcolor": "rgb(232,232,232)",
            "gridwidth": 2,
            "linecolor": "rgb(36,36,36)",
            "showbackground": true,
            "showgrid": false,
            "showline": true,
            "ticks": "outside",
            "zeroline": false,
            "zerolinecolor": "rgb(36,36,36)"
           },
           "yaxis": {
            "backgroundcolor": "white",
            "gridcolor": "rgb(232,232,232)",
            "gridwidth": 2,
            "linecolor": "rgb(36,36,36)",
            "showbackground": true,
            "showgrid": false,
            "showline": true,
            "ticks": "outside",
            "zeroline": false,
            "zerolinecolor": "rgb(36,36,36)"
           },
           "zaxis": {
            "backgroundcolor": "white",
            "gridcolor": "rgb(232,232,232)",
            "gridwidth": 2,
            "linecolor": "rgb(36,36,36)",
            "showbackground": true,
            "showgrid": false,
            "showline": true,
            "ticks": "outside",
            "zeroline": false,
            "zerolinecolor": "rgb(36,36,36)"
           }
          },
          "shapedefaults": {
           "fillcolor": "black",
           "line": {
            "width": 0
           },
           "opacity": 0.3
          },
          "ternary": {
           "aaxis": {
            "gridcolor": "rgb(232,232,232)",
            "linecolor": "rgb(36,36,36)",
            "showgrid": false,
            "showline": true,
            "ticks": "outside"
           },
           "baxis": {
            "gridcolor": "rgb(232,232,232)",
            "linecolor": "rgb(36,36,36)",
            "showgrid": false,
            "showline": true,
            "ticks": "outside"
           },
           "bgcolor": "white",
           "caxis": {
            "gridcolor": "rgb(232,232,232)",
            "linecolor": "rgb(36,36,36)",
            "showgrid": false,
            "showline": true,
            "ticks": "outside"
           }
          },
          "title": {
           "x": 0.05
          },
          "xaxis": {
           "automargin": true,
           "gridcolor": "rgb(232,232,232)",
           "linecolor": "rgb(36,36,36)",
           "showgrid": false,
           "showline": true,
           "ticks": "outside",
           "title": {
            "standoff": 15
           },
           "zeroline": false,
           "zerolinecolor": "rgb(36,36,36)"
          },
          "yaxis": {
           "automargin": true,
           "gridcolor": "rgb(232,232,232)",
           "linecolor": "rgb(36,36,36)",
           "showgrid": false,
           "showline": true,
           "ticks": "outside",
           "title": {
            "standoff": 15
           },
           "zeroline": false,
           "zerolinecolor": "rgb(36,36,36)"
          }
         }
        },
        "xaxis": {
         "anchor": "y",
         "domain": [
          0,
          1
         ],
         "range": [
          270,
          0
         ],
         "title": {
          "text": "Local X (m)"
         },
         "type": "linear"
        },
        "yaxis": {
         "anchor": "x",
         "domain": [
          0,
          1
         ],
         "range": [
          -3,
          3
         ],
         "title": {
          "text": "Vehicle Acceleration"
         },
         "type": "linear"
        }
       }
      },
      "image/png": "[encoded data removed]",
      "text/html": [
       "<div>                            <div id=\"dbb81986-faa9-423e-8a5e-a8bce9587a3f\" class=\"plotly-graph-div\" style=\"height:525px; width:100%;\"></div>            <script type=\"text/javascript\">                require([\"plotly\"], function(Plotly) {                    window.PLOTLYENV=window.PLOTLYENV || {};                                    if (document.getElementById(\"dbb81986-faa9-423e-8a5e-a8bce9587a3f\")) {                    Plotly.newPlot(                        \"dbb81986-faa9-423e-8a5e-a8bce9587a3f\",                        [{\"hovertemplate\":\"Lane Identification=U13<br>Local X (m)=%{x}<br>Vehicle Acceleration=%{y}<extra></extra>\",\"legendgroup\":\"U13\",\"marker\":{\"color\":\"#c27ba0\",\"symbol\":\"circle\"},\"mode\":\"markers\",\"name\":\"U13\",\"orientation\":\"v\",\"showlegend\":true,\"x\":[221.125412,212.419708,212.479752,203.711334,203.759537,195.027786,195.126892,186.299561,186.462875,177.63385,177.791061,169.034897,160.516205,169.204376,160.695282,152.106186,143.761749,152.266296,143.935501,135.478516,127.269394,135.703842,127.688339,119.277618,119.945038,111.561836,112.55706,104.13105,105.271202,96.825195,89.514603,97.992035,91.027191,82.458557,75.772758,84.36721,77.952721,69.387939,71.579132,63.019432,56.834663,65.306557,59.348091,50.878284,53.407406,45.007637,47.688904,39.350616,42.327396,34.055923,37.399265,29.185329,32.822422,24.658224,28.679602,20.59626,24.909891,16.885225,21.463501,13.538655,18.387943,10.482237,15.523822,12.717402,10.103233,223.255127,214.925034,222.506653,206.634155,198.2789,214.384445,206.34639,190.010391,181.787308,198.409531,173.630127,190.461121,182.518997,165.569412,157.581055,174.642288,149.726746,166.825684,159.085861,141.956055,134.259552,151.437454,143.686157,135.910156,128.001083,120.016884,111.868965,103.563171,95.077461,86.565125,78.029449,69.563622,61.159069,52.983677,45.046165,37.533459,30.56731,24.134628,18.343908,13.142785,28.897243,24.820507,20.958858,17.38011,14.127634,11.152568,232.141525,230.684586,221.26384,222.94725,221.012238,213.242233,205.233826,197.260895,189.348953,181.471573,173.629227,165.901901,158.220764,150.72168,143.471558,136.561035,129.934814,123.631187,117.659973,111.942223,106.391571,100.96637,95.704971,90.58271,85.518562,80.431511,75.28289,70.176643,65.119217,60.208385,55.403545,50.754742,46.323044,42.37677,38.985352,36.042477,33.472073,31.274515],\"xaxis\":\"x\",\"y\":[0.196148,0.260491,-0.235577,-0.037089,0.469547,-0.120413,-0.388518,0.135466,0.100994,-0.268366,0.004963,-0.303118,-0.339987,-0.370498,-0.340862,-0.446652,-0.273052,-0.334023,-0.388167,-0.25202,-0.290525,-0.402917,-0.877594,-0.903259,-1.104168,-1.103819,-1.436189,-1.149012,-0.399259,-0.489949,0.030876,-0.022708,-1.250483,-1.026965,-1.50025,-1.236547,-0.991033,-1.208714,-0.164644,-0.067936,-0.740083,-0.410152,-1.263599,-0.916275,-0.07175,-0.343261,-0.890482,-0.856717,-1.431003,-1.450467,-1.732496,-1.696835,-1.406746,-1.374277,-1.736288,-1.860523,-1.492586,-1.40339,-1.293276,-1.458078,-1.483201,-1.159811,-0.844185,-0.23095,-0.769626,0.406399,0.158395,-0.217652,-0.16367,0.218088,-0.111624,-0.356505,-0.370036,-0.166245,-0.416618,-0.296171,0.004101,-0.066573,-0.412886,-0.268815,-0.283093,-0.515419,-0.282385,-0.316334,-0.310232,-0.273192,-0.387192,0.403154,0.080102,0.530393,0.31552,0.623546,0.62444,0.721164,0.104633,0.07782,-0.278147,-0.247199,-0.914767,-0.953433,-1.69931,-2.190185,-2.134217,-2.56798,-2.358413,-0.234884,-0.527929,-0.876904,-1.13361,-1.316405,-1.13229,-6.653896,-3.601142,0.295529,3.488812,-29.355667,0.222611,-0.073104,-0.216376,-0.24846,-0.171778,-0.16175,-0.482498,-0.198284,-0.73943,-1.010424,-1.358022,-1.14695,-1.299383,-1.334017,-1.007498,-0.674089,-0.506206,-0.650113,-0.559394,-0.221496,0.08486,0.243874,-0.179564,-0.196171,-0.59191,-0.425004,-0.62674,-0.869505,-1.941707,-2.219319,-1.793857,-1.485356,-1.493475],\"yaxis\":\"y\",\"type\":\"scatter\"},{\"hovertemplate\":\"Lane Identification=U14<br>Local X (m)=%{x}<br>Vehicle Acceleration=%{y}<extra></extra>\",\"legendgroup\":\"U14\",\"marker\":{\"color\":\"#a64d79\",\"symbol\":\"circle\"},\"mode\":\"markers\",\"name\":\"U14\",\"orientation\":\"v\",\"showlegend\":true,\"x\":[126.637566,119.211555,112.056961,104.994614,97.898788,90.857719,83.803238,77.2696,71.583099,66.713348,62.379772,58.399948,54.40234,50.25042,46.001411,41.673382,37.358562,33.099209],\"xaxis\":\"x\",\"y\":[-0.299475,-0.811392,-1.152083,-0.510987,0.038785,-0.22764,0.052287,-2.076876,-3.373847,-3.273953,-2.157988,-1.416417,0.0873,0.63785,0.421719,0.350702,-0.058134,-0.226049],\"yaxis\":\"y\",\"type\":\"scatter\"}],                        {\"template\":{\"data\":{\"barpolar\":[{\"marker\":{\"line\":{\"color\":\"white\",\"width\":0.5},\"pattern\":{\"fillmode\":\"overlay\",\"size\":10,\"solidity\":0.2}},\"type\":\"barpolar\"}],\"bar\":[{\"error_x\":{\"color\":\"rgb(36,36,36)\"},\"error_y\":{\"color\":\"rgb(36,36,36)\"},\"marker\":{\"line\":{\"color\":\"white\",\"width\":0.5},\"pattern\":{\"fillmode\":\"overlay\",\"size\":10,\"solidity\":0.2}},\"type\":\"bar\"}],\"carpet\":[{\"aaxis\":{\"endlinecolor\":\"rgb(36,36,36)\",\"gridcolor\":\"white\",\"linecolor\":\"white\",\"minorgridcolor\":\"white\",\"startlinecolor\":\"rgb(36,36,36)\"},\"baxis\":{\"endlinecolor\":\"rgb(36,36,36)\",\"gridcolor\":\"white\",\"linecolor\":\"white\",\"minorgridcolor\":\"white\",\"startlinecolor\":\"rgb(36,36,36)\"},\"type\":\"carpet\"}],\"choropleth\":[{\"colorbar\":{\"outlinewidth\":1,\"tickcolor\":\"rgb(36,36,36)\",\"ticks\":\"outside\"},\"type\":\"choropleth\"}],\"contourcarpet\":[{\"colorbar\":{\"outlinewidth\":1,\"tickcolor\":\"rgb(36,36,36)\",\"ticks\":\"outside\"},\"type\":\"contourcarpet\"}],\"contour\":[{\"colorbar\":{\"outlinewidth\":1,\"tickcolor\":\"rgb(36,36,36)\",\"ticks\":\"outside\"},\"colorscale\":[[0.0,\"#440154\"],[0.1111111111111111,\"#482878\"],[0.2222222222222222,\"#3e4989\"],[0.3333333333333333,\"#31688e\"],[0.4444444444444444,\"#26828e\"],[0.5555555555555556,\"#1f9e89\"],[0.6666666666666666,\"#35b779\"],[0.7777777777777778,\"#6ece58\"],[0.8888888888888888,\"#b5de2b\"],[1.0,\"#fde725\"]],\"type\":\"contour\"}],\"heatmapgl\":[{\"colorbar\":{\"outlinewidth\":1,\"tickcolor\":\"rgb(36,36,36)\",\"ticks\":\"outside\"},\"colorscale\":[[0.0,\"#440154\"],[0.1111111111111111,\"#482878\"],[0.2222222222222222,\"#3e4989\"],[0.3333333333333333,\"#31688e\"],[0.4444444444444444,\"#26828e\"],[0.5555555555555556,\"#1f9e89\"],[0.6666666666666666,\"#35b779\"],[0.7777777777777778,\"#6ece58\"],[0.8888888888888888,\"#b5de2b\"],[1.0,\"#fde725\"]],\"type\":\"heatmapgl\"}],\"heatmap\":[{\"colorbar\":{\"outlinewidth\":1,\"tickcolor\":\"rgb(36,36,36)\",\"ticks\":\"outside\"},\"colorscale\":[[0.0,\"#440154\"],[0.1111111111111111,\"#482878\"],[0.2222222222222222,\"#3e4989\"],[0.3333333333333333,\"#31688e\"],[0.4444444444444444,\"#26828e\"],[0.5555555555555556,\"#1f9e89\"],[0.6666666666666666,\"#35b779\"],[0.7777777777777778,\"#6ece58\"],[0.8888888888888888,\"#b5de2b\"],[1.0,\"#fde725\"]],\"type\":\"heatmap\"}],\"histogram2dcontour\":[{\"colorbar\":{\"outlinewidth\":1,\"tickcolor\":\"rgb(36,36,36)\",\"ticks\":\"outside\"},\"colorscale\":[[0.0,\"#440154\"],[0.1111111111111111,\"#482878\"],[0.2222222222222222,\"#3e4989\"],[0.3333333333333333,\"#31688e\"],[0.4444444444444444,\"#26828e\"],[0.5555555555555556,\"#1f9e89\"],[0.6666666666666666,\"#35b779\"],[0.7777777777777778,\"#6ece58\"],[0.8888888888888888,\"#b5de2b\"],[1.0,\"#fde725\"]],\"type\":\"histogram2dcontour\"}],\"histogram2d\":[{\"colorbar\":{\"outlinewidth\":1,\"tickcolor\":\"rgb(36,36,36)\",\"ticks\":\"outside\"},\"colorscale\":[[0.0,\"#440154\"],[0.1111111111111111,\"#482878\"],[0.2222222222222222,\"#3e4989\"],[0.3333333333333333,\"#31688e\"],[0.4444444444444444,\"#26828e\"],[0.5555555555555556,\"#1f9e89\"],[0.6666666666666666,\"#35b779\"],[0.7777777777777778,\"#6ece58\"],[0.8888888888888888,\"#b5de2b\"],[1.0,\"#fde725\"]],\"type\":\"histogram2d\"}],\"histogram\":[{\"marker\":{\"line\":{\"color\":\"white\",\"width\":0.6}},\"type\":\"histogram\"}],\"mesh3d\":[{\"colorbar\":{\"outlinewidth\":1,\"tickcolor\":\"rgb(36,36,36)\",\"ticks\":\"outside\"},\"type\":\"mesh3d\"}],\"parcoords\":[{\"line\":{\"colorbar\":{\"outlinewidth\":1,\"tickcolor\":\"rgb(36,36,36)\",\"ticks\":\"outside\"}},\"type\":\"parcoords\"}],\"pie\":[{\"automargin\":true,\"type\":\"pie\"}],\"scatter3d\":[{\"line\":{\"colorbar\":{\"outlinewidth\":1,\"tickcolor\":\"rgb(36,36,36)\",\"ticks\":\"outside\"}},\"marker\":{\"colorbar\":{\"outlinewidth\":1,\"tickcolor\":\"rgb(36,36,36)\",\"ticks\":\"outside\"}},\"type\":\"scatter3d\"}],\"scattercarpet\":[{\"marker\":{\"colorbar\":{\"outlinewidth\":1,\"tickcolor\":\"rgb(36,36,36)\",\"ticks\":\"outside\"}},\"type\":\"scattercarpet\"}],\"scattergeo\":[{\"marker\":{\"colorbar\":{\"outlinewidth\":1,\"tickcolor\":\"rgb(36,36,36)\",\"ticks\":\"outside\"}},\"type\":\"scattergeo\"}],\"scattergl\":[{\"marker\":{\"colorbar\":{\"outlinewidth\":1,\"tickcolor\":\"rgb(36,36,36)\",\"ticks\":\"outside\"}},\"type\":\"scattergl\"}],\"scattermapbox\":[{\"marker\":{\"colorbar\":{\"outlinewidth\":1,\"tickcolor\":\"rgb(36,36,36)\",\"ticks\":\"outside\"}},\"type\":\"scattermapbox\"}],\"scatterpolargl\":[{\"marker\":{\"colorbar\":{\"outlinewidth\":1,\"tickcolor\":\"rgb(36,36,36)\",\"ticks\":\"outside\"}},\"type\":\"scatterpolargl\"}],\"scatterpolar\":[{\"marker\":{\"colorbar\":{\"outlinewidth\":1,\"tickcolor\":\"rgb(36,36,36)\",\"ticks\":\"outside\"}},\"type\":\"scatterpolar\"}],\"scatter\":[{\"marker\":{\"colorbar\":{\"outlinewidth\":1,\"tickcolor\":\"rgb(36,36,36)\",\"ticks\":\"outside\"}},\"type\":\"scatter\"}],\"scatterternary\":[{\"marker\":{\"colorbar\":{\"outlinewidth\":1,\"tickcolor\":\"rgb(36,36,36)\",\"ticks\":\"outside\"}},\"type\":\"scatterternary\"}],\"surface\":[{\"colorbar\":{\"outlinewidth\":1,\"tickcolor\":\"rgb(36,36,36)\",\"ticks\":\"outside\"},\"colorscale\":[[0.0,\"#440154\"],[0.1111111111111111,\"#482878\"],[0.2222222222222222,\"#3e4989\"],[0.3333333333333333,\"#31688e\"],[0.4444444444444444,\"#26828e\"],[0.5555555555555556,\"#1f9e89\"],[0.6666666666666666,\"#35b779\"],[0.7777777777777778,\"#6ece58\"],[0.8888888888888888,\"#b5de2b\"],[1.0,\"#fde725\"]],\"type\":\"surface\"}],\"table\":[{\"cells\":{\"fill\":{\"color\":\"rgb(237,237,237)\"},\"line\":{\"color\":\"white\"}},\"header\":{\"fill\":{\"color\":\"rgb(217,217,217)\"},\"line\":{\"color\":\"white\"}},\"type\":\"table\"}]},\"layout\":{\"annotationdefaults\":{\"arrowhead\":0,\"arrowwidth\":1},\"autotypenumbers\":\"strict\",\"coloraxis\":{\"colorbar\":{\"outlinewidth\":1,\"tickcolor\":\"rgb(36,36,36)\",\"ticks\":\"outside\"}},\"colorscale\":{\"diverging\":[[0.0,\"rgb(103,0,31)\"],[0.1,\"rgb(178,24,43)\"],[0.2,\"rgb(214,96,77)\"],[0.3,\"rgb(244,165,130)\"],[0.4,\"rgb(253,219,199)\"],[0.5,\"rgb(247,247,247)\"],[0.6,\"rgb(209,229,240)\"],[0.7,\"rgb(146,197,222)\"],[0.8,\"rgb(67,147,195)\"],[0.9,\"rgb(33,102,172)\"],[1.0,\"rgb(5,48,97)\"]],\"sequential\":[[0.0,\"#440154\"],[0.1111111111111111,\"#482878\"],[0.2222222222222222,\"#3e4989\"],[0.3333333333333333,\"#31688e\"],[0.4444444444444444,\"#26828e\"],[0.5555555555555556,\"#1f9e89\"],[0.6666666666666666,\"#35b779\"],[0.7777777777777778,\"#6ece58\"],[0.8888888888888888,\"#b5de2b\"],[1.0,\"#fde725\"]],\"sequentialminus\":[[0.0,\"#440154\"],[0.1111111111111111,\"#482878\"],[0.2222222222222222,\"#3e4989\"],[0.3333333333333333,\"#31688e\"],[0.4444444444444444,\"#26828e\"],[0.5555555555555556,\"#1f9e89\"],[0.6666666666666666,\"#35b779\"],[0.7777777777777778,\"#6ece58\"],[0.8888888888888888,\"#b5de2b\"],[1.0,\"#fde725\"]]},\"colorway\":[\"#1F77B4\",\"#FF7F0E\",\"#2CA02C\",\"#D62728\",\"#9467BD\",\"#8C564B\",\"#E377C2\",\"#7F7F7F\",\"#BCBD22\",\"#17BECF\"],\"font\":{\"color\":\"rgb(36,36,36)\"},\"geo\":{\"bgcolor\":\"white\",\"lakecolor\":\"white\",\"landcolor\":\"white\",\"showlakes\":true,\"showland\":true,\"subunitcolor\":\"white\"},\"hoverlabel\":{\"align\":\"left\"},\"hovermode\":\"closest\",\"mapbox\":{\"style\":\"light\"},\"paper_bgcolor\":\"white\",\"plot_bgcolor\":\"white\",\"polar\":{\"angularaxis\":{\"gridcolor\":\"rgb(232,232,232)\",\"linecolor\":\"rgb(36,36,36)\",\"showgrid\":false,\"showline\":true,\"ticks\":\"outside\"},\"bgcolor\":\"white\",\"radialaxis\":{\"gridcolor\":\"rgb(232,232,232)\",\"linecolor\":\"rgb(36,36,36)\",\"showgrid\":false,\"showline\":true,\"ticks\":\"outside\"}},\"scene\":{\"xaxis\":{\"backgroundcolor\":\"white\",\"gridcolor\":\"rgb(232,232,232)\",\"gridwidth\":2,\"linecolor\":\"rgb(36,36,36)\",\"showbackground\":true,\"showgrid\":false,\"showline\":true,\"ticks\":\"outside\",\"zeroline\":false,\"zerolinecolor\":\"rgb(36,36,36)\"},\"yaxis\":{\"backgroundcolor\":\"white\",\"gridcolor\":\"rgb(232,232,232)\",\"gridwidth\":2,\"linecolor\":\"rgb(36,36,36)\",\"showbackground\":true,\"showgrid\":false,\"showline\":true,\"ticks\":\"outside\",\"zeroline\":false,\"zerolinecolor\":\"rgb(36,36,36)\"},\"zaxis\":{\"backgroundcolor\":\"white\",\"gridcolor\":\"rgb(232,232,232)\",\"gridwidth\":2,\"linecolor\":\"rgb(36,36,36)\",\"showbackground\":true,\"showgrid\":false,\"showline\":true,\"ticks\":\"outside\",\"zeroline\":false,\"zerolinecolor\":\"rgb(36,36,36)\"}},\"shapedefaults\":{\"fillcolor\":\"black\",\"line\":{\"width\":0},\"opacity\":0.3},\"ternary\":{\"aaxis\":{\"gridcolor\":\"rgb(232,232,232)\",\"linecolor\":\"rgb(36,36,36)\",\"showgrid\":false,\"showline\":true,\"ticks\":\"outside\"},\"baxis\":{\"gridcolor\":\"rgb(232,232,232)\",\"linecolor\":\"rgb(36,36,36)\",\"showgrid\":false,\"showline\":true,\"ticks\":\"outside\"},\"bgcolor\":\"white\",\"caxis\":{\"gridcolor\":\"rgb(232,232,232)\",\"linecolor\":\"rgb(36,36,36)\",\"showgrid\":false,\"showline\":true,\"ticks\":\"outside\"}},\"title\":{\"x\":0.05},\"xaxis\":{\"automargin\":true,\"gridcolor\":\"rgb(232,232,232)\",\"linecolor\":\"rgb(36,36,36)\",\"showgrid\":false,\"showline\":true,\"ticks\":\"outside\",\"title\":{\"standoff\":15},\"zeroline\":false,\"zerolinecolor\":\"rgb(36,36,36)\"},\"yaxis\":{\"automargin\":true,\"gridcolor\":\"rgb(232,232,232)\",\"linecolor\":\"rgb(36,36,36)\",\"showgrid\":false,\"showline\":true,\"ticks\":\"outside\",\"title\":{\"standoff\":15},\"zeroline\":false,\"zerolinecolor\":\"rgb(36,36,36)\"}}},\"xaxis\":{\"anchor\":\"y\",\"domain\":[0.0,1.0],\"title\":{\"text\":\"Local X (m)\"},\"range\":[270,0]},\"yaxis\":{\"anchor\":\"x\",\"domain\":[0.0,1.0],\"title\":{\"text\":\"Vehicle Acceleration\"},\"range\":[-3,3]},\"legend\":{\"title\":{\"text\":\"Lane Identification\"},\"tracegroupgap\":0},\"margin\":{\"t\":60}},                        {\"responsive\": true}                    ).then(function(){\n",
       "                            \n",
       "var gd = document.getElementById('dbb81986-faa9-423e-8a5e-a8bce9587a3f');\n",
       "var x = new MutationObserver(function (mutations, observer) {{\n",
       "        var display = window.getComputedStyle(gd).display;\n",
       "        if (!display || display === 'none') {{\n",
       "            console.log([gd, 'removed!']);\n",
       "            Plotly.purge(gd);\n",
       "            observer.disconnect();\n",
       "        }}\n",
       "}});\n",
       "\n",
       "// Listen for the removal of the full notebook cells\n",
       "var notebookContainer = gd.closest('#notebook-container');\n",
       "if (notebookContainer) {{\n",
       "    x.observe(notebookContainer, {childList: true});\n",
       "}}\n",
       "\n",
       "// Listen for the clearing of the current output cell\n",
       "var outputEl = gd.closest('.output');\n",
       "if (outputEl) {{\n",
       "    x.observe(outputEl, {childList: true});\n",
       "}}\n",
       "\n",
       "                        })                };                });            </script>        </div>"
      ]
     },
     "metadata": {},
     "output_type": "display_data"
    }
   ],
   "source": [
    "folder_name = '가속도'\n",
    "\n",
    "for file in file_list:\n",
    "    \n",
    "    file_path = os.path.join(data_dir, file) # 파일리스트의 파일별 경로 설정\n",
    "    df = pd.read_csv(file_path)\n",
    "    \n",
    "    df = df[(df['Lane_00'] != 'UNKNOWN') & (df['Lane_99'] != 'UNKNOWN')] # UNKNOWN 제거 : 불필요해\n",
    "    \n",
    "    file_num = file[:4] # 파일및 영상번호\n",
    "    \n",
    "    if file_num == '01_1':\n",
    "        re_lane = {'U1': 'U01', 'U2': 'U02', 'U3': 'U03', 'U4': 'U04', 'U5': 'U05', 'U6':'U06'}\n",
    "        df['Lane Identification'].replace(re_lane, inplace = True)\n",
    "        df['Lane_00'].replace(re_lane, inplace = True)\n",
    "        df['Lane_99'].replace(re_lane, inplace = True)\n",
    "        \n",
    "    elif file_num == '01_2':\n",
    "        re_lane = {'U1': 'U04', 'U2': 'U05', 'U3': 'U06', 'U4': 'U07'}\n",
    "        df['Lane Identification'].replace(re_lane, inplace = True)\n",
    "        df['Lane_00'].replace({'U1': 'U02', 'U2': 'U03', 'U3': 'U03', 'U4': 'U03'}, inplace = True)\n",
    "        df['Lane_99'].replace(re_lane, inplace = True)\n",
    "        \n",
    "    elif file_num == '01_3':\n",
    "        re_lane = {'U1': 'U08', 'U2': 'U09', 'U3': 'U10', 'U4': 'U11'}\n",
    "        df['Lane Identification'].replace(re_lane, inplace = True)\n",
    "        df['Lane_00'].replace({'U1': 'U03', 'U2': 'U03', 'U03': 'U03', 'U4': 'U03'}, inplace = True)\n",
    "        df['Lane_99'].replace(re_lane, inplace = True)\n",
    "    \n",
    "    elif file_num == '02_1':\n",
    "        re_lane = {'U1': 'U01', 'U2': 'U02', 'U3': 'U03', 'U4': 'U04', 'U5': 'U05', 'U6': 'U06'}\n",
    "        df['Lane Identification'].replace(re_lane, inplace = True)\n",
    "        df['Lane_00'].replace(re_lane, inplace = True)\n",
    "        df['Lane_99'].replace(re_lane, inplace = True)\n",
    "        \n",
    "    elif file_num == '02_2':\n",
    "        re_lane = {'U1': 'U05', 'U2': 'U06', 'U3': 'U07', 'U4': 'U08', 'U5': 'U09', 'U6': 'U10'}\n",
    "        df['Lane Identification'].replace(re_lane, inplace = True)\n",
    "        df['Lane_00'].replace(re_lane, inplace = True)\n",
    "        df['Lane_99'].replace(re_lane, inplace = True)\n",
    "        \n",
    "    elif file_num == '02_3':\n",
    "        re_lane = {'U1': 'U11', 'U2': 'U12', 'U3': 'U13', 'U4': 'U14', 'U5': 'U15', 'U6': 'U16'}\n",
    "        df['Lane Identification'].replace(re_lane, inplace = True)\n",
    "        df['Lane_00'].replace(re_lane, inplace = True)\n",
    "        df['Lane_99'].replace(re_lane, inplace = True)\n",
    "        \n",
    "    else:\n",
    "        pass\n",
    "    \n",
    "    df['OD'] = df.apply(lambda x: merge_str(x.Lane_00, x.Lane_99), axis = 1) # 함수를 적용하여 OD컬럼 생성\n",
    "    OD_list = df['OD'].unique()\n",
    "    \n",
    "    #print(file, OD_list)\n",
    "    \n",
    "    for OD in tqdm(OD_list): # OD 리스트별로 필터링한다\n",
    "        df_p = df[df['OD'] == OD] # 이 필터링된 그래프별로 속도 선그래프를 그려준다\n",
    "        \n",
    "        ## 산점도 그래프 그리기\n",
    "        fig = px.scatter(df_p, x = 'Local X (m)', y = 'Vehicle Acceleration',\n",
    "                         color = 'Lane Identification',\n",
    "                         color_discrete_map = palette,\n",
    "                         template = 'simple_white')\n",
    "#        fig = px.line(df_p, x = 'Local X (m)', y = 'Vehicle Velocity(km/h)', line_group = 'Vehicle ID')\n",
    "        \n",
    "        ## 축설정 : x축 0~270, y축 0~160\n",
    "        fig.update_xaxes(range = [270, 0])\n",
    "        fig.update_yaxes(range = [-3, 3])\n",
    "\n",
    "#         save_html_name = f'Velocity_by_OD_{file[-10:-6]}_{OD}.html'\n",
    "#         save_html_path = os.path.join(save_dir, save_html_name)\n",
    "    \n",
    "#         fig.write_html(file = save_html_path) # html Plotly 파일 저장\n",
    "    \n",
    "#         #글자 없는 것을 PNG 투명이미지로 저장\n",
    "#         fig.update_layout({\n",
    "#                 'plot_bgcolor' : 'rgba(0, 0, 0, 0)',\n",
    "#                 'paper_bgcolor' : 'rgba(0, 0, 0, 0)'\n",
    "#             })\n",
    "        \n",
    "        save_png_name = f'acc_by_OD_{file[-10:-6]}_{OD}.png'\n",
    "        save_folder_dir = os.path.join(save_dir, folder_name)\n",
    "        save_png_path = os.path.join(save_folder_dir, save_png_name)        \n",
    "        \n",
    "        fig.write_image(save_png_path)\n",
    "    \n",
    "fig.show()"
   ]
  }
 ],
 "metadata": {
  "kernelspec": {
   "display_name": "Python 3",
   "language": "python",
   "name": "python3"
  },
  "language_info": {
   "codemirror_mode": {
    "name": "ipython",
    "version": 3
   },
   "file_extension": ".py",
   "mimetype": "text/x-python",
   "name": "python",
   "nbconvert_exporter": "python",
   "pygments_lexer": "ipython3",
   "version": "3.8.8"
  }
 },
 "nbformat": 4,
 "nbformat_minor": 5
}
