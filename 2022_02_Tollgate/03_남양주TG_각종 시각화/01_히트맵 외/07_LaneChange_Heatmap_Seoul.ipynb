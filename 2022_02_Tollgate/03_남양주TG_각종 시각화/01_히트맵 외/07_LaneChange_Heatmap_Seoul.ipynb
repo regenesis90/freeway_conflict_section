{
 "cells": [
  {
   "cell_type": "markdown",
   "id": "68005afd-4181-41a5-aca7-21f2be0d59e1",
   "metadata": {},
   "source": [
    "# 구간별 차로변경횟수: 남양주TG, 서울방향\n",
    "* cell별 지나간 차량대수"
   ]
  },
  {
   "cell_type": "markdown",
   "id": "1bdecd92-d172-43c1-9bd6-38556e708bd8",
   "metadata": {},
   "source": [
    "# Imports"
   ]
  },
  {
   "cell_type": "code",
   "execution_count": 74,
   "id": "e3d74ecd-e474-4716-a9ce-dfe92742da73",
   "metadata": {
    "execution": {
     "iopub.execute_input": "2022-09-14T11:24:45.029940Z",
     "iopub.status.busy": "2022-09-14T11:24:45.029940Z",
     "iopub.status.idle": "2022-09-14T11:24:45.042367Z",
     "shell.execute_reply": "2022-09-14T11:24:45.041369Z",
     "shell.execute_reply.started": "2022-09-14T11:24:45.029940Z"
    },
    "tags": []
   },
   "outputs": [],
   "source": [
    "import numpy as np\n",
    "import pandas as pd\n",
    "import math\n",
    "import os\n",
    "\n",
    "from tqdm import tqdm\n",
    "\n",
    "import plotly.express as px\n",
    "import plotly.graph_objects as go\n",
    "from plotly.subplots import make_subplots"
   ]
  },
  {
   "cell_type": "markdown",
   "id": "93d32a7a-06d2-4adb-a42e-02f46270fe3f",
   "metadata": {},
   "source": [
    "# Load Dataset"
   ]
  },
  {
   "cell_type": "code",
   "execution_count": 75,
   "id": "157f0073-5e0b-4693-aef9-53777830ac87",
   "metadata": {
    "execution": {
     "iopub.execute_input": "2022-09-14T11:24:45.043363Z",
     "iopub.status.busy": "2022-09-14T11:24:45.042367Z",
     "iopub.status.idle": "2022-09-14T11:24:45.057441Z",
     "shell.execute_reply": "2022-09-14T11:24:45.057441Z",
     "shell.execute_reply.started": "2022-09-14T11:24:45.043363Z"
    },
    "tags": []
   },
   "outputs": [],
   "source": [
    "data_dir = 'D:/OneDrive - 연세대학교 (Yonsei University)/Projects/Yonsei_TELab/003_도로상충_210517-/2차년도_2022/27_남양주영업소_드론영상분석/서울방향/01_density_by_target_LOS_concated_lanechange'"
   ]
  },
  {
   "cell_type": "code",
   "execution_count": 76,
   "id": "430b5efd-d53e-48fa-8a91-8e030a8be787",
   "metadata": {
    "execution": {
     "iopub.execute_input": "2022-09-14T11:24:45.059979Z",
     "iopub.status.busy": "2022-09-14T11:24:45.059979Z",
     "iopub.status.idle": "2022-09-14T11:24:45.074911Z",
     "shell.execute_reply": "2022-09-14T11:24:45.073915Z",
     "shell.execute_reply.started": "2022-09-14T11:24:45.059979Z"
    },
    "tags": []
   },
   "outputs": [],
   "source": [
    "save_dir = 'D:/OneDrive - 연세대학교 (Yonsei University)/Projects/Yonsei_TELab/003_도로상충_210517-/2차년도_2022/35_22-9차 회의 준비/11_남양주TG_구간별 차로변경횟수 및 교통량/구간별 차로변경횟수/서울방향'"
   ]
  },
  {
   "cell_type": "code",
   "execution_count": 77,
   "id": "44a5326b-9a1d-4e81-80e9-35b788f5c666",
   "metadata": {
    "execution": {
     "iopub.execute_input": "2022-09-14T11:24:45.076907Z",
     "iopub.status.busy": "2022-09-14T11:24:45.076907Z",
     "iopub.status.idle": "2022-09-14T11:24:45.091273Z",
     "shell.execute_reply": "2022-09-14T11:24:45.089259Z",
     "shell.execute_reply.started": "2022-09-14T11:24:45.076907Z"
    },
    "tags": []
   },
   "outputs": [
    {
     "name": "stdout",
     "output_type": "stream",
     "text": [
      "['01_1_A.csv', '01_2_A.csv', '01_3_A.csv', '02_1_A.csv', '02_2_A.csv', '02_3_A.csv']\n"
     ]
    }
   ],
   "source": [
    "file_list = os.listdir(data_dir)\n",
    "file_list = file_list[:6]\n",
    "print(file_list)"
   ]
  },
  {
   "cell_type": "markdown",
   "id": "fbb69426-9064-4af1-a009-526d49540eba",
   "metadata": {},
   "source": [
    "# Color Palette\n",
    "`px.colors.sequential.Viridis`"
   ]
  },
  {
   "cell_type": "code",
   "execution_count": 78,
   "id": "bd139146-95eb-4924-a91c-2d885c0dcd3f",
   "metadata": {
    "execution": {
     "iopub.execute_input": "2022-09-14T11:24:45.095257Z",
     "iopub.status.busy": "2022-09-14T11:24:45.094262Z",
     "iopub.status.idle": "2022-09-14T11:24:45.106768Z",
     "shell.execute_reply": "2022-09-14T11:24:45.104773Z",
     "shell.execute_reply.started": "2022-09-14T11:24:45.095257Z"
    },
    "tags": []
   },
   "outputs": [],
   "source": [
    "palette_ryb = ['#00b0f0', '#ffff00', '#ff5050'] # 엇갈림구간 프로젝트의 그 삼색팔레트 : 파랑-노랑-빨강"
   ]
  },
  {
   "cell_type": "code",
   "execution_count": 79,
   "id": "b08e7cba-438d-4834-bca0-1e59c6cd23e5",
   "metadata": {
    "execution": {
     "iopub.execute_input": "2022-09-14T11:24:45.109277Z",
     "iopub.status.busy": "2022-09-14T11:24:45.109277Z",
     "iopub.status.idle": "2022-09-14T11:24:45.121809Z",
     "shell.execute_reply": "2022-09-14T11:24:45.120812Z",
     "shell.execute_reply.started": "2022-09-14T11:24:45.109277Z"
    },
    "tags": []
   },
   "outputs": [],
   "source": [
    "palette_redwhite = ['#ffffff', '#ff0000']"
   ]
  },
  {
   "cell_type": "code",
   "execution_count": 80,
   "id": "c3d1e8b3-c955-47be-a3e9-4bcf5b36ba2a",
   "metadata": {
    "execution": {
     "iopub.execute_input": "2022-09-14T11:24:45.122806Z",
     "iopub.status.busy": "2022-09-14T11:24:45.122806Z",
     "iopub.status.idle": "2022-09-14T11:24:45.137305Z",
     "shell.execute_reply": "2022-09-14T11:24:45.136305Z",
     "shell.execute_reply.started": "2022-09-14T11:24:45.122806Z"
    },
    "tags": []
   },
   "outputs": [],
   "source": [
    "palette_bluewhite = ['#ffffff', '#0054ff']"
   ]
  },
  {
   "cell_type": "code",
   "execution_count": 81,
   "id": "dadade3d-bd95-4895-8d4b-5b15d8273ebe",
   "metadata": {
    "execution": {
     "iopub.execute_input": "2022-09-14T11:24:45.141910Z",
     "iopub.status.busy": "2022-09-14T11:24:45.140926Z",
     "iopub.status.idle": "2022-09-14T11:24:45.154394Z",
     "shell.execute_reply": "2022-09-14T11:24:45.152396Z",
     "shell.execute_reply.started": "2022-09-14T11:24:45.141910Z"
    },
    "tags": []
   },
   "outputs": [],
   "source": [
    "palette_whitered = ['#ff0000', '#ffffff']"
   ]
  },
  {
   "cell_type": "code",
   "execution_count": 82,
   "id": "9baa8a98-d2d6-4db4-af61-a7acfef75538",
   "metadata": {
    "execution": {
     "iopub.execute_input": "2022-09-14T11:24:45.159403Z",
     "iopub.status.busy": "2022-09-14T11:24:45.159403Z",
     "iopub.status.idle": "2022-09-14T11:24:45.170012Z",
     "shell.execute_reply": "2022-09-14T11:24:45.169013Z",
     "shell.execute_reply.started": "2022-09-14T11:24:45.159403Z"
    },
    "tags": []
   },
   "outputs": [],
   "source": [
    "palette_whiteblue = ['#0054ff', '#ffffff']"
   ]
  },
  {
   "cell_type": "code",
   "execution_count": 83,
   "id": "d5772856-d47c-478f-bd2e-5ade8db9ff5a",
   "metadata": {
    "execution": {
     "iopub.execute_input": "2022-09-14T11:24:45.175999Z",
     "iopub.status.busy": "2022-09-14T11:24:45.174007Z",
     "iopub.status.idle": "2022-09-14T11:24:45.187535Z",
     "shell.execute_reply": "2022-09-14T11:24:45.184542Z",
     "shell.execute_reply.started": "2022-09-14T11:24:45.175999Z"
    },
    "tags": []
   },
   "outputs": [],
   "source": [
    "def cell_num(x):\n",
    "    \"\"\"x 좌표를 바탕으로 소속 셀 영역 알려줌\"\"\"\n",
    "    \n",
    "    cell = x//20\n",
    "    \n",
    "    return cell"
   ]
  },
  {
   "cell_type": "markdown",
   "id": "5c0399b0-039e-4dda-8669-9561406f43d5",
   "metadata": {},
   "source": [
    "# Draw it"
   ]
  },
  {
   "cell_type": "markdown",
   "id": "e443c2af-a9d3-4676-8df5-de14b0f8afb9",
   "metadata": {},
   "source": [
    "## 차로변경 횟수"
   ]
  },
  {
   "cell_type": "code",
   "execution_count": 84,
   "id": "7d870e71-5481-4d8d-9295-d73d483d0682",
   "metadata": {
    "execution": {
     "iopub.execute_input": "2022-09-14T11:24:45.189036Z",
     "iopub.status.busy": "2022-09-14T11:24:45.189036Z",
     "iopub.status.idle": "2022-09-14T11:24:46.735508Z",
     "shell.execute_reply": "2022-09-14T11:24:46.734503Z",
     "shell.execute_reply.started": "2022-09-14T11:24:45.189036Z"
    },
    "tags": []
   },
   "outputs": [
    {
     "name": "stdout",
     "output_type": "stream",
     "text": [
      "01_1_A.csv 11\n",
      "01_2_A.csv 11\n",
      "01_3_A.csv 11\n",
      "02_1_A.csv 12\n",
      "02_2_A.csv 12\n",
      "02_3_A.csv 12\n"
     ]
    },
    {
     "data": {
      "application/vnd.plotly.v1+json": {
       "config": {
        "plotlyServerURL": "https://plot.ly"
       },
       "data": [
        {
         "coloraxis": "coloraxis",
         "histfunc": "count",
         "hovertemplate": "cell=%{x}<br>Lane Identification=%{y}<br>count=%{z}<extra></extra>",
         "name": "",
         "nbinsx": 12,
         "type": "histogram2d",
         "x": [
          5,
          7,
          5,
          3,
          1,
          9,
          9,
          7,
          10,
          4,
          3,
          8,
          5,
          3,
          3,
          8,
          6,
          9,
          3,
          8,
          6,
          10,
          8,
          9,
          10,
          9,
          8,
          6,
          3,
          3,
          9,
          6,
          5,
          7,
          4,
          4,
          8,
          8,
          5,
          6,
          1,
          5,
          6,
          8,
          8,
          9,
          7,
          5,
          4,
          1,
          7,
          4,
          6,
          7,
          4,
          5,
          8,
          3,
          9,
          10,
          9,
          9,
          6,
          8,
          7
         ],
         "xaxis": "x",
         "xbingroup": "x",
         "y": [
          "U1",
          "U1",
          "U1",
          "U2",
          "U3",
          "U1",
          "U2",
          "U3",
          "U3",
          "U1",
          "U2",
          "U1",
          "U2",
          "U3",
          "U1",
          "U1",
          "U2",
          "U3",
          "U3",
          "U1",
          "U1",
          "U3",
          "U1",
          "U1",
          "U1",
          "U4",
          "U1",
          "U2",
          "U3",
          "U1",
          "U4",
          "U5",
          "U6",
          "U1",
          "U3",
          "U3",
          "U1",
          "U2",
          "U3",
          "U4",
          "U3",
          "U1",
          "U3",
          "U1",
          "U1",
          "U1",
          "U2",
          "U3",
          "U2",
          "U3",
          "U3",
          "U1",
          "U1",
          "U1",
          "U3",
          "U3",
          "U2",
          "U3",
          "U1",
          "U1",
          "U1",
          "U1",
          "U1",
          "U1",
          "U1"
         ],
         "yaxis": "y",
         "ybingroup": "y",
         "z": [
          "Change",
          "Change",
          "Change",
          "Change",
          "Change",
          "Change",
          "Change",
          "Change",
          "Change",
          "Change",
          "Change",
          "Change",
          "Change",
          "Change",
          "Change",
          "Change",
          "Change",
          "Change",
          "Change",
          "Change",
          "Change",
          "Change",
          "Change",
          "Change",
          "Change",
          "Change",
          "Change",
          "Change",
          "Change",
          "Change",
          "Change",
          "Change",
          "Change",
          "Change",
          "Change",
          "Change",
          "Change",
          "Change",
          "Change",
          "Change",
          "Change",
          "Change",
          "Change",
          "Change",
          "Change",
          "Change",
          "Change",
          "Change",
          "Change",
          "Change",
          "Change",
          "Change",
          "Change",
          "Change",
          "Change",
          "Change",
          "Change",
          "Change",
          "Change",
          "Change",
          "Change",
          "Change",
          "Change",
          "Change",
          "Change"
         ]
        }
       ],
       "layout": {
        "autosize": true,
        "coloraxis": {
         "cmax": 50,
         "cmin": 0,
         "colorbar": {
          "title": {
           "text": "count"
          }
         },
         "colorscale": [
          [
           0,
           "#00b0f0"
          ],
          [
           0.5,
           "#ffff00"
          ],
          [
           1,
           "#ff5050"
          ]
         ]
        },
        "legend": {
         "tracegroupgap": 0
        },
        "margin": {
         "t": 60
        },
        "paper_bgcolor": "rgba(0, 0, 0, 0)",
        "plot_bgcolor": "rgba(0, 0, 0, 0)",
        "template": {
         "data": {
          "bar": [
           {
            "error_x": {
             "color": "rgb(36,36,36)"
            },
            "error_y": {
             "color": "rgb(36,36,36)"
            },
            "marker": {
             "line": {
              "color": "white",
              "width": 0.5
             },
             "pattern": {
              "fillmode": "overlay",
              "size": 10,
              "solidity": 0.2
             }
            },
            "type": "bar"
           }
          ],
          "barpolar": [
           {
            "marker": {
             "line": {
              "color": "white",
              "width": 0.5
             },
             "pattern": {
              "fillmode": "overlay",
              "size": 10,
              "solidity": 0.2
             }
            },
            "type": "barpolar"
           }
          ],
          "carpet": [
           {
            "aaxis": {
             "endlinecolor": "rgb(36,36,36)",
             "gridcolor": "white",
             "linecolor": "white",
             "minorgridcolor": "white",
             "startlinecolor": "rgb(36,36,36)"
            },
            "baxis": {
             "endlinecolor": "rgb(36,36,36)",
             "gridcolor": "white",
             "linecolor": "white",
             "minorgridcolor": "white",
             "startlinecolor": "rgb(36,36,36)"
            },
            "type": "carpet"
           }
          ],
          "choropleth": [
           {
            "colorbar": {
             "outlinewidth": 1,
             "tickcolor": "rgb(36,36,36)",
             "ticks": "outside"
            },
            "type": "choropleth"
           }
          ],
          "contour": [
           {
            "colorbar": {
             "outlinewidth": 1,
             "tickcolor": "rgb(36,36,36)",
             "ticks": "outside"
            },
            "colorscale": [
             [
              0,
              "#440154"
             ],
             [
              0.1111111111111111,
              "#482878"
             ],
             [
              0.2222222222222222,
              "#3e4989"
             ],
             [
              0.3333333333333333,
              "#31688e"
             ],
             [
              0.4444444444444444,
              "#26828e"
             ],
             [
              0.5555555555555556,
              "#1f9e89"
             ],
             [
              0.6666666666666666,
              "#35b779"
             ],
             [
              0.7777777777777778,
              "#6ece58"
             ],
             [
              0.8888888888888888,
              "#b5de2b"
             ],
             [
              1,
              "#fde725"
             ]
            ],
            "type": "contour"
           }
          ],
          "contourcarpet": [
           {
            "colorbar": {
             "outlinewidth": 1,
             "tickcolor": "rgb(36,36,36)",
             "ticks": "outside"
            },
            "type": "contourcarpet"
           }
          ],
          "heatmap": [
           {
            "colorbar": {
             "outlinewidth": 1,
             "tickcolor": "rgb(36,36,36)",
             "ticks": "outside"
            },
            "colorscale": [
             [
              0,
              "#440154"
             ],
             [
              0.1111111111111111,
              "#482878"
             ],
             [
              0.2222222222222222,
              "#3e4989"
             ],
             [
              0.3333333333333333,
              "#31688e"
             ],
             [
              0.4444444444444444,
              "#26828e"
             ],
             [
              0.5555555555555556,
              "#1f9e89"
             ],
             [
              0.6666666666666666,
              "#35b779"
             ],
             [
              0.7777777777777778,
              "#6ece58"
             ],
             [
              0.8888888888888888,
              "#b5de2b"
             ],
             [
              1,
              "#fde725"
             ]
            ],
            "type": "heatmap"
           }
          ],
          "heatmapgl": [
           {
            "colorbar": {
             "outlinewidth": 1,
             "tickcolor": "rgb(36,36,36)",
             "ticks": "outside"
            },
            "colorscale": [
             [
              0,
              "#440154"
             ],
             [
              0.1111111111111111,
              "#482878"
             ],
             [
              0.2222222222222222,
              "#3e4989"
             ],
             [
              0.3333333333333333,
              "#31688e"
             ],
             [
              0.4444444444444444,
              "#26828e"
             ],
             [
              0.5555555555555556,
              "#1f9e89"
             ],
             [
              0.6666666666666666,
              "#35b779"
             ],
             [
              0.7777777777777778,
              "#6ece58"
             ],
             [
              0.8888888888888888,
              "#b5de2b"
             ],
             [
              1,
              "#fde725"
             ]
            ],
            "type": "heatmapgl"
           }
          ],
          "histogram": [
           {
            "marker": {
             "line": {
              "color": "white",
              "width": 0.6
             }
            },
            "type": "histogram"
           }
          ],
          "histogram2d": [
           {
            "colorbar": {
             "outlinewidth": 1,
             "tickcolor": "rgb(36,36,36)",
             "ticks": "outside"
            },
            "colorscale": [
             [
              0,
              "#440154"
             ],
             [
              0.1111111111111111,
              "#482878"
             ],
             [
              0.2222222222222222,
              "#3e4989"
             ],
             [
              0.3333333333333333,
              "#31688e"
             ],
             [
              0.4444444444444444,
              "#26828e"
             ],
             [
              0.5555555555555556,
              "#1f9e89"
             ],
             [
              0.6666666666666666,
              "#35b779"
             ],
             [
              0.7777777777777778,
              "#6ece58"
             ],
             [
              0.8888888888888888,
              "#b5de2b"
             ],
             [
              1,
              "#fde725"
             ]
            ],
            "type": "histogram2d"
           }
          ],
          "histogram2dcontour": [
           {
            "colorbar": {
             "outlinewidth": 1,
             "tickcolor": "rgb(36,36,36)",
             "ticks": "outside"
            },
            "colorscale": [
             [
              0,
              "#440154"
             ],
             [
              0.1111111111111111,
              "#482878"
             ],
             [
              0.2222222222222222,
              "#3e4989"
             ],
             [
              0.3333333333333333,
              "#31688e"
             ],
             [
              0.4444444444444444,
              "#26828e"
             ],
             [
              0.5555555555555556,
              "#1f9e89"
             ],
             [
              0.6666666666666666,
              "#35b779"
             ],
             [
              0.7777777777777778,
              "#6ece58"
             ],
             [
              0.8888888888888888,
              "#b5de2b"
             ],
             [
              1,
              "#fde725"
             ]
            ],
            "type": "histogram2dcontour"
           }
          ],
          "mesh3d": [
           {
            "colorbar": {
             "outlinewidth": 1,
             "tickcolor": "rgb(36,36,36)",
             "ticks": "outside"
            },
            "type": "mesh3d"
           }
          ],
          "parcoords": [
           {
            "line": {
             "colorbar": {
              "outlinewidth": 1,
              "tickcolor": "rgb(36,36,36)",
              "ticks": "outside"
             }
            },
            "type": "parcoords"
           }
          ],
          "pie": [
           {
            "automargin": true,
            "type": "pie"
           }
          ],
          "scatter": [
           {
            "marker": {
             "colorbar": {
              "outlinewidth": 1,
              "tickcolor": "rgb(36,36,36)",
              "ticks": "outside"
             }
            },
            "type": "scatter"
           }
          ],
          "scatter3d": [
           {
            "line": {
             "colorbar": {
              "outlinewidth": 1,
              "tickcolor": "rgb(36,36,36)",
              "ticks": "outside"
             }
            },
            "marker": {
             "colorbar": {
              "outlinewidth": 1,
              "tickcolor": "rgb(36,36,36)",
              "ticks": "outside"
             }
            },
            "type": "scatter3d"
           }
          ],
          "scattercarpet": [
           {
            "marker": {
             "colorbar": {
              "outlinewidth": 1,
              "tickcolor": "rgb(36,36,36)",
              "ticks": "outside"
             }
            },
            "type": "scattercarpet"
           }
          ],
          "scattergeo": [
           {
            "marker": {
             "colorbar": {
              "outlinewidth": 1,
              "tickcolor": "rgb(36,36,36)",
              "ticks": "outside"
             }
            },
            "type": "scattergeo"
           }
          ],
          "scattergl": [
           {
            "marker": {
             "colorbar": {
              "outlinewidth": 1,
              "tickcolor": "rgb(36,36,36)",
              "ticks": "outside"
             }
            },
            "type": "scattergl"
           }
          ],
          "scattermapbox": [
           {
            "marker": {
             "colorbar": {
              "outlinewidth": 1,
              "tickcolor": "rgb(36,36,36)",
              "ticks": "outside"
             }
            },
            "type": "scattermapbox"
           }
          ],
          "scatterpolar": [
           {
            "marker": {
             "colorbar": {
              "outlinewidth": 1,
              "tickcolor": "rgb(36,36,36)",
              "ticks": "outside"
             }
            },
            "type": "scatterpolar"
           }
          ],
          "scatterpolargl": [
           {
            "marker": {
             "colorbar": {
              "outlinewidth": 1,
              "tickcolor": "rgb(36,36,36)",
              "ticks": "outside"
             }
            },
            "type": "scatterpolargl"
           }
          ],
          "scatterternary": [
           {
            "marker": {
             "colorbar": {
              "outlinewidth": 1,
              "tickcolor": "rgb(36,36,36)",
              "ticks": "outside"
             }
            },
            "type": "scatterternary"
           }
          ],
          "surface": [
           {
            "colorbar": {
             "outlinewidth": 1,
             "tickcolor": "rgb(36,36,36)",
             "ticks": "outside"
            },
            "colorscale": [
             [
              0,
              "#440154"
             ],
             [
              0.1111111111111111,
              "#482878"
             ],
             [
              0.2222222222222222,
              "#3e4989"
             ],
             [
              0.3333333333333333,
              "#31688e"
             ],
             [
              0.4444444444444444,
              "#26828e"
             ],
             [
              0.5555555555555556,
              "#1f9e89"
             ],
             [
              0.6666666666666666,
              "#35b779"
             ],
             [
              0.7777777777777778,
              "#6ece58"
             ],
             [
              0.8888888888888888,
              "#b5de2b"
             ],
             [
              1,
              "#fde725"
             ]
            ],
            "type": "surface"
           }
          ],
          "table": [
           {
            "cells": {
             "fill": {
              "color": "rgb(237,237,237)"
             },
             "line": {
              "color": "white"
             }
            },
            "header": {
             "fill": {
              "color": "rgb(217,217,217)"
             },
             "line": {
              "color": "white"
             }
            },
            "type": "table"
           }
          ]
         },
         "layout": {
          "annotationdefaults": {
           "arrowhead": 0,
           "arrowwidth": 1
          },
          "autotypenumbers": "strict",
          "coloraxis": {
           "colorbar": {
            "outlinewidth": 1,
            "tickcolor": "rgb(36,36,36)",
            "ticks": "outside"
           }
          },
          "colorscale": {
           "diverging": [
            [
             0,
             "rgb(103,0,31)"
            ],
            [
             0.1,
             "rgb(178,24,43)"
            ],
            [
             0.2,
             "rgb(214,96,77)"
            ],
            [
             0.3,
             "rgb(244,165,130)"
            ],
            [
             0.4,
             "rgb(253,219,199)"
            ],
            [
             0.5,
             "rgb(247,247,247)"
            ],
            [
             0.6,
             "rgb(209,229,240)"
            ],
            [
             0.7,
             "rgb(146,197,222)"
            ],
            [
             0.8,
             "rgb(67,147,195)"
            ],
            [
             0.9,
             "rgb(33,102,172)"
            ],
            [
             1,
             "rgb(5,48,97)"
            ]
           ],
           "sequential": [
            [
             0,
             "#440154"
            ],
            [
             0.1111111111111111,
             "#482878"
            ],
            [
             0.2222222222222222,
             "#3e4989"
            ],
            [
             0.3333333333333333,
             "#31688e"
            ],
            [
             0.4444444444444444,
             "#26828e"
            ],
            [
             0.5555555555555556,
             "#1f9e89"
            ],
            [
             0.6666666666666666,
             "#35b779"
            ],
            [
             0.7777777777777778,
             "#6ece58"
            ],
            [
             0.8888888888888888,
             "#b5de2b"
            ],
            [
             1,
             "#fde725"
            ]
           ],
           "sequentialminus": [
            [
             0,
             "#440154"
            ],
            [
             0.1111111111111111,
             "#482878"
            ],
            [
             0.2222222222222222,
             "#3e4989"
            ],
            [
             0.3333333333333333,
             "#31688e"
            ],
            [
             0.4444444444444444,
             "#26828e"
            ],
            [
             0.5555555555555556,
             "#1f9e89"
            ],
            [
             0.6666666666666666,
             "#35b779"
            ],
            [
             0.7777777777777778,
             "#6ece58"
            ],
            [
             0.8888888888888888,
             "#b5de2b"
            ],
            [
             1,
             "#fde725"
            ]
           ]
          },
          "colorway": [
           "#1F77B4",
           "#FF7F0E",
           "#2CA02C",
           "#D62728",
           "#9467BD",
           "#8C564B",
           "#E377C2",
           "#7F7F7F",
           "#BCBD22",
           "#17BECF"
          ],
          "font": {
           "color": "rgb(36,36,36)"
          },
          "geo": {
           "bgcolor": "white",
           "lakecolor": "white",
           "landcolor": "white",
           "showlakes": true,
           "showland": true,
           "subunitcolor": "white"
          },
          "hoverlabel": {
           "align": "left"
          },
          "hovermode": "closest",
          "mapbox": {
           "style": "light"
          },
          "paper_bgcolor": "white",
          "plot_bgcolor": "white",
          "polar": {
           "angularaxis": {
            "gridcolor": "rgb(232,232,232)",
            "linecolor": "rgb(36,36,36)",
            "showgrid": false,
            "showline": true,
            "ticks": "outside"
           },
           "bgcolor": "white",
           "radialaxis": {
            "gridcolor": "rgb(232,232,232)",
            "linecolor": "rgb(36,36,36)",
            "showgrid": false,
            "showline": true,
            "ticks": "outside"
           }
          },
          "scene": {
           "xaxis": {
            "backgroundcolor": "white",
            "gridcolor": "rgb(232,232,232)",
            "gridwidth": 2,
            "linecolor": "rgb(36,36,36)",
            "showbackground": true,
            "showgrid": false,
            "showline": true,
            "ticks": "outside",
            "zeroline": false,
            "zerolinecolor": "rgb(36,36,36)"
           },
           "yaxis": {
            "backgroundcolor": "white",
            "gridcolor": "rgb(232,232,232)",
            "gridwidth": 2,
            "linecolor": "rgb(36,36,36)",
            "showbackground": true,
            "showgrid": false,
            "showline": true,
            "ticks": "outside",
            "zeroline": false,
            "zerolinecolor": "rgb(36,36,36)"
           },
           "zaxis": {
            "backgroundcolor": "white",
            "gridcolor": "rgb(232,232,232)",
            "gridwidth": 2,
            "linecolor": "rgb(36,36,36)",
            "showbackground": true,
            "showgrid": false,
            "showline": true,
            "ticks": "outside",
            "zeroline": false,
            "zerolinecolor": "rgb(36,36,36)"
           }
          },
          "shapedefaults": {
           "fillcolor": "black",
           "line": {
            "width": 0
           },
           "opacity": 0.3
          },
          "ternary": {
           "aaxis": {
            "gridcolor": "rgb(232,232,232)",
            "linecolor": "rgb(36,36,36)",
            "showgrid": false,
            "showline": true,
            "ticks": "outside"
           },
           "baxis": {
            "gridcolor": "rgb(232,232,232)",
            "linecolor": "rgb(36,36,36)",
            "showgrid": false,
            "showline": true,
            "ticks": "outside"
           },
           "bgcolor": "white",
           "caxis": {
            "gridcolor": "rgb(232,232,232)",
            "linecolor": "rgb(36,36,36)",
            "showgrid": false,
            "showline": true,
            "ticks": "outside"
           }
          },
          "title": {
           "x": 0.05
          },
          "xaxis": {
           "automargin": true,
           "gridcolor": "rgb(232,232,232)",
           "linecolor": "rgb(36,36,36)",
           "showgrid": false,
           "showline": true,
           "ticks": "outside",
           "title": {
            "standoff": 15
           },
           "zeroline": false,
           "zerolinecolor": "rgb(36,36,36)"
          },
          "yaxis": {
           "automargin": true,
           "gridcolor": "rgb(232,232,232)",
           "linecolor": "rgb(36,36,36)",
           "showgrid": false,
           "showline": true,
           "ticks": "outside",
           "title": {
            "standoff": 15
           },
           "zeroline": false,
           "zerolinecolor": "rgb(36,36,36)"
          }
         }
        },
        "xaxis": {
         "anchor": "y",
         "autorange": true,
         "domain": [
          0,
          1
         ],
         "range": [
          0.5,
          10.5
         ],
         "title": {
          "text": "cell"
         },
         "type": "linear"
        },
        "yaxis": {
         "anchor": "x",
         "autorange": true,
         "categoryarray": [
          "UNKNOWN",
          "U4",
          "U3",
          "U2",
          "U1"
         ],
         "categoryorder": "array",
         "domain": [
          0,
          1
         ],
         "range": [
          0.5,
          6.5
         ],
         "title": {
          "text": "Lane Identification"
         },
         "type": "category"
        }
       }
      },
      "image/png": "[encoded data removed]",
      "text/html": [
       "<div>                            <div id=\"43a29520-2758-492c-9c09-2c01e7476f10\" class=\"plotly-graph-div\" style=\"height:525px; width:1500px;\"></div>            <script type=\"text/javascript\">                require([\"plotly\"], function(Plotly) {                    window.PLOTLYENV=window.PLOTLYENV || {};                                    if (document.getElementById(\"43a29520-2758-492c-9c09-2c01e7476f10\")) {                    Plotly.newPlot(                        \"43a29520-2758-492c-9c09-2c01e7476f10\",                        [{\"coloraxis\":\"coloraxis\",\"histfunc\":\"count\",\"hovertemplate\":\"cell=%{x}<br>Lane Identification=%{y}<br>count=%{z}<extra></extra>\",\"name\":\"\",\"nbinsx\":12,\"x\":[5.0,7.0,5.0,3.0,1.0,9.0,9.0,7.0,10.0,4.0,3.0,8.0,5.0,3.0,3.0,8.0,6.0,9.0,3.0,8.0,6.0,10.0,8.0,9.0,10.0,9.0,8.0,6.0,3.0,3.0,9.0,6.0,5.0,7.0,4.0,4.0,8.0,8.0,5.0,6.0,1.0,5.0,6.0,8.0,8.0,9.0,7.0,5.0,4.0,1.0,7.0,4.0,6.0,7.0,4.0,5.0,8.0,3.0,9.0,10.0,9.0,9.0,6.0,8.0,7.0],\"xaxis\":\"x\",\"xbingroup\":\"x\",\"y\":[\"U1\",\"U1\",\"U1\",\"U2\",\"U3\",\"U1\",\"U2\",\"U3\",\"U3\",\"U1\",\"U2\",\"U1\",\"U2\",\"U3\",\"U1\",\"U1\",\"U2\",\"U3\",\"U3\",\"U1\",\"U1\",\"U3\",\"U1\",\"U1\",\"U1\",\"U4\",\"U1\",\"U2\",\"U3\",\"U1\",\"U4\",\"U5\",\"U6\",\"U1\",\"U3\",\"U3\",\"U1\",\"U2\",\"U3\",\"U4\",\"U3\",\"U1\",\"U3\",\"U1\",\"U1\",\"U1\",\"U2\",\"U3\",\"U2\",\"U3\",\"U3\",\"U1\",\"U1\",\"U1\",\"U3\",\"U3\",\"U2\",\"U3\",\"U1\",\"U1\",\"U1\",\"U1\",\"U1\",\"U1\",\"U1\"],\"yaxis\":\"y\",\"ybingroup\":\"y\",\"z\":[\"Change\",\"Change\",\"Change\",\"Change\",\"Change\",\"Change\",\"Change\",\"Change\",\"Change\",\"Change\",\"Change\",\"Change\",\"Change\",\"Change\",\"Change\",\"Change\",\"Change\",\"Change\",\"Change\",\"Change\",\"Change\",\"Change\",\"Change\",\"Change\",\"Change\",\"Change\",\"Change\",\"Change\",\"Change\",\"Change\",\"Change\",\"Change\",\"Change\",\"Change\",\"Change\",\"Change\",\"Change\",\"Change\",\"Change\",\"Change\",\"Change\",\"Change\",\"Change\",\"Change\",\"Change\",\"Change\",\"Change\",\"Change\",\"Change\",\"Change\",\"Change\",\"Change\",\"Change\",\"Change\",\"Change\",\"Change\",\"Change\",\"Change\",\"Change\",\"Change\",\"Change\",\"Change\",\"Change\",\"Change\",\"Change\"],\"type\":\"histogram2d\"}],                        {\"template\":{\"data\":{\"barpolar\":[{\"marker\":{\"line\":{\"color\":\"white\",\"width\":0.5},\"pattern\":{\"fillmode\":\"overlay\",\"size\":10,\"solidity\":0.2}},\"type\":\"barpolar\"}],\"bar\":[{\"error_x\":{\"color\":\"rgb(36,36,36)\"},\"error_y\":{\"color\":\"rgb(36,36,36)\"},\"marker\":{\"line\":{\"color\":\"white\",\"width\":0.5},\"pattern\":{\"fillmode\":\"overlay\",\"size\":10,\"solidity\":0.2}},\"type\":\"bar\"}],\"carpet\":[{\"aaxis\":{\"endlinecolor\":\"rgb(36,36,36)\",\"gridcolor\":\"white\",\"linecolor\":\"white\",\"minorgridcolor\":\"white\",\"startlinecolor\":\"rgb(36,36,36)\"},\"baxis\":{\"endlinecolor\":\"rgb(36,36,36)\",\"gridcolor\":\"white\",\"linecolor\":\"white\",\"minorgridcolor\":\"white\",\"startlinecolor\":\"rgb(36,36,36)\"},\"type\":\"carpet\"}],\"choropleth\":[{\"colorbar\":{\"outlinewidth\":1,\"tickcolor\":\"rgb(36,36,36)\",\"ticks\":\"outside\"},\"type\":\"choropleth\"}],\"contourcarpet\":[{\"colorbar\":{\"outlinewidth\":1,\"tickcolor\":\"rgb(36,36,36)\",\"ticks\":\"outside\"},\"type\":\"contourcarpet\"}],\"contour\":[{\"colorbar\":{\"outlinewidth\":1,\"tickcolor\":\"rgb(36,36,36)\",\"ticks\":\"outside\"},\"colorscale\":[[0.0,\"#440154\"],[0.1111111111111111,\"#482878\"],[0.2222222222222222,\"#3e4989\"],[0.3333333333333333,\"#31688e\"],[0.4444444444444444,\"#26828e\"],[0.5555555555555556,\"#1f9e89\"],[0.6666666666666666,\"#35b779\"],[0.7777777777777778,\"#6ece58\"],[0.8888888888888888,\"#b5de2b\"],[1.0,\"#fde725\"]],\"type\":\"contour\"}],\"heatmapgl\":[{\"colorbar\":{\"outlinewidth\":1,\"tickcolor\":\"rgb(36,36,36)\",\"ticks\":\"outside\"},\"colorscale\":[[0.0,\"#440154\"],[0.1111111111111111,\"#482878\"],[0.2222222222222222,\"#3e4989\"],[0.3333333333333333,\"#31688e\"],[0.4444444444444444,\"#26828e\"],[0.5555555555555556,\"#1f9e89\"],[0.6666666666666666,\"#35b779\"],[0.7777777777777778,\"#6ece58\"],[0.8888888888888888,\"#b5de2b\"],[1.0,\"#fde725\"]],\"type\":\"heatmapgl\"}],\"heatmap\":[{\"colorbar\":{\"outlinewidth\":1,\"tickcolor\":\"rgb(36,36,36)\",\"ticks\":\"outside\"},\"colorscale\":[[0.0,\"#440154\"],[0.1111111111111111,\"#482878\"],[0.2222222222222222,\"#3e4989\"],[0.3333333333333333,\"#31688e\"],[0.4444444444444444,\"#26828e\"],[0.5555555555555556,\"#1f9e89\"],[0.6666666666666666,\"#35b779\"],[0.7777777777777778,\"#6ece58\"],[0.8888888888888888,\"#b5de2b\"],[1.0,\"#fde725\"]],\"type\":\"heatmap\"}],\"histogram2dcontour\":[{\"colorbar\":{\"outlinewidth\":1,\"tickcolor\":\"rgb(36,36,36)\",\"ticks\":\"outside\"},\"colorscale\":[[0.0,\"#440154\"],[0.1111111111111111,\"#482878\"],[0.2222222222222222,\"#3e4989\"],[0.3333333333333333,\"#31688e\"],[0.4444444444444444,\"#26828e\"],[0.5555555555555556,\"#1f9e89\"],[0.6666666666666666,\"#35b779\"],[0.7777777777777778,\"#6ece58\"],[0.8888888888888888,\"#b5de2b\"],[1.0,\"#fde725\"]],\"type\":\"histogram2dcontour\"}],\"histogram2d\":[{\"colorbar\":{\"outlinewidth\":1,\"tickcolor\":\"rgb(36,36,36)\",\"ticks\":\"outside\"},\"colorscale\":[[0.0,\"#440154\"],[0.1111111111111111,\"#482878\"],[0.2222222222222222,\"#3e4989\"],[0.3333333333333333,\"#31688e\"],[0.4444444444444444,\"#26828e\"],[0.5555555555555556,\"#1f9e89\"],[0.6666666666666666,\"#35b779\"],[0.7777777777777778,\"#6ece58\"],[0.8888888888888888,\"#b5de2b\"],[1.0,\"#fde725\"]],\"type\":\"histogram2d\"}],\"histogram\":[{\"marker\":{\"line\":{\"color\":\"white\",\"width\":0.6}},\"type\":\"histogram\"}],\"mesh3d\":[{\"colorbar\":{\"outlinewidth\":1,\"tickcolor\":\"rgb(36,36,36)\",\"ticks\":\"outside\"},\"type\":\"mesh3d\"}],\"parcoords\":[{\"line\":{\"colorbar\":{\"outlinewidth\":1,\"tickcolor\":\"rgb(36,36,36)\",\"ticks\":\"outside\"}},\"type\":\"parcoords\"}],\"pie\":[{\"automargin\":true,\"type\":\"pie\"}],\"scatter3d\":[{\"line\":{\"colorbar\":{\"outlinewidth\":1,\"tickcolor\":\"rgb(36,36,36)\",\"ticks\":\"outside\"}},\"marker\":{\"colorbar\":{\"outlinewidth\":1,\"tickcolor\":\"rgb(36,36,36)\",\"ticks\":\"outside\"}},\"type\":\"scatter3d\"}],\"scattercarpet\":[{\"marker\":{\"colorbar\":{\"outlinewidth\":1,\"tickcolor\":\"rgb(36,36,36)\",\"ticks\":\"outside\"}},\"type\":\"scattercarpet\"}],\"scattergeo\":[{\"marker\":{\"colorbar\":{\"outlinewidth\":1,\"tickcolor\":\"rgb(36,36,36)\",\"ticks\":\"outside\"}},\"type\":\"scattergeo\"}],\"scattergl\":[{\"marker\":{\"colorbar\":{\"outlinewidth\":1,\"tickcolor\":\"rgb(36,36,36)\",\"ticks\":\"outside\"}},\"type\":\"scattergl\"}],\"scattermapbox\":[{\"marker\":{\"colorbar\":{\"outlinewidth\":1,\"tickcolor\":\"rgb(36,36,36)\",\"ticks\":\"outside\"}},\"type\":\"scattermapbox\"}],\"scatterpolargl\":[{\"marker\":{\"colorbar\":{\"outlinewidth\":1,\"tickcolor\":\"rgb(36,36,36)\",\"ticks\":\"outside\"}},\"type\":\"scatterpolargl\"}],\"scatterpolar\":[{\"marker\":{\"colorbar\":{\"outlinewidth\":1,\"tickcolor\":\"rgb(36,36,36)\",\"ticks\":\"outside\"}},\"type\":\"scatterpolar\"}],\"scatter\":[{\"marker\":{\"colorbar\":{\"outlinewidth\":1,\"tickcolor\":\"rgb(36,36,36)\",\"ticks\":\"outside\"}},\"type\":\"scatter\"}],\"scatterternary\":[{\"marker\":{\"colorbar\":{\"outlinewidth\":1,\"tickcolor\":\"rgb(36,36,36)\",\"ticks\":\"outside\"}},\"type\":\"scatterternary\"}],\"surface\":[{\"colorbar\":{\"outlinewidth\":1,\"tickcolor\":\"rgb(36,36,36)\",\"ticks\":\"outside\"},\"colorscale\":[[0.0,\"#440154\"],[0.1111111111111111,\"#482878\"],[0.2222222222222222,\"#3e4989\"],[0.3333333333333333,\"#31688e\"],[0.4444444444444444,\"#26828e\"],[0.5555555555555556,\"#1f9e89\"],[0.6666666666666666,\"#35b779\"],[0.7777777777777778,\"#6ece58\"],[0.8888888888888888,\"#b5de2b\"],[1.0,\"#fde725\"]],\"type\":\"surface\"}],\"table\":[{\"cells\":{\"fill\":{\"color\":\"rgb(237,237,237)\"},\"line\":{\"color\":\"white\"}},\"header\":{\"fill\":{\"color\":\"rgb(217,217,217)\"},\"line\":{\"color\":\"white\"}},\"type\":\"table\"}]},\"layout\":{\"annotationdefaults\":{\"arrowhead\":0,\"arrowwidth\":1},\"autotypenumbers\":\"strict\",\"coloraxis\":{\"colorbar\":{\"outlinewidth\":1,\"tickcolor\":\"rgb(36,36,36)\",\"ticks\":\"outside\"}},\"colorscale\":{\"diverging\":[[0.0,\"rgb(103,0,31)\"],[0.1,\"rgb(178,24,43)\"],[0.2,\"rgb(214,96,77)\"],[0.3,\"rgb(244,165,130)\"],[0.4,\"rgb(253,219,199)\"],[0.5,\"rgb(247,247,247)\"],[0.6,\"rgb(209,229,240)\"],[0.7,\"rgb(146,197,222)\"],[0.8,\"rgb(67,147,195)\"],[0.9,\"rgb(33,102,172)\"],[1.0,\"rgb(5,48,97)\"]],\"sequential\":[[0.0,\"#440154\"],[0.1111111111111111,\"#482878\"],[0.2222222222222222,\"#3e4989\"],[0.3333333333333333,\"#31688e\"],[0.4444444444444444,\"#26828e\"],[0.5555555555555556,\"#1f9e89\"],[0.6666666666666666,\"#35b779\"],[0.7777777777777778,\"#6ece58\"],[0.8888888888888888,\"#b5de2b\"],[1.0,\"#fde725\"]],\"sequentialminus\":[[0.0,\"#440154\"],[0.1111111111111111,\"#482878\"],[0.2222222222222222,\"#3e4989\"],[0.3333333333333333,\"#31688e\"],[0.4444444444444444,\"#26828e\"],[0.5555555555555556,\"#1f9e89\"],[0.6666666666666666,\"#35b779\"],[0.7777777777777778,\"#6ece58\"],[0.8888888888888888,\"#b5de2b\"],[1.0,\"#fde725\"]]},\"colorway\":[\"#1F77B4\",\"#FF7F0E\",\"#2CA02C\",\"#D62728\",\"#9467BD\",\"#8C564B\",\"#E377C2\",\"#7F7F7F\",\"#BCBD22\",\"#17BECF\"],\"font\":{\"color\":\"rgb(36,36,36)\"},\"geo\":{\"bgcolor\":\"white\",\"lakecolor\":\"white\",\"landcolor\":\"white\",\"showlakes\":true,\"showland\":true,\"subunitcolor\":\"white\"},\"hoverlabel\":{\"align\":\"left\"},\"hovermode\":\"closest\",\"mapbox\":{\"style\":\"light\"},\"paper_bgcolor\":\"white\",\"plot_bgcolor\":\"white\",\"polar\":{\"angularaxis\":{\"gridcolor\":\"rgb(232,232,232)\",\"linecolor\":\"rgb(36,36,36)\",\"showgrid\":false,\"showline\":true,\"ticks\":\"outside\"},\"bgcolor\":\"white\",\"radialaxis\":{\"gridcolor\":\"rgb(232,232,232)\",\"linecolor\":\"rgb(36,36,36)\",\"showgrid\":false,\"showline\":true,\"ticks\":\"outside\"}},\"scene\":{\"xaxis\":{\"backgroundcolor\":\"white\",\"gridcolor\":\"rgb(232,232,232)\",\"gridwidth\":2,\"linecolor\":\"rgb(36,36,36)\",\"showbackground\":true,\"showgrid\":false,\"showline\":true,\"ticks\":\"outside\",\"zeroline\":false,\"zerolinecolor\":\"rgb(36,36,36)\"},\"yaxis\":{\"backgroundcolor\":\"white\",\"gridcolor\":\"rgb(232,232,232)\",\"gridwidth\":2,\"linecolor\":\"rgb(36,36,36)\",\"showbackground\":true,\"showgrid\":false,\"showline\":true,\"ticks\":\"outside\",\"zeroline\":false,\"zerolinecolor\":\"rgb(36,36,36)\"},\"zaxis\":{\"backgroundcolor\":\"white\",\"gridcolor\":\"rgb(232,232,232)\",\"gridwidth\":2,\"linecolor\":\"rgb(36,36,36)\",\"showbackground\":true,\"showgrid\":false,\"showline\":true,\"ticks\":\"outside\",\"zeroline\":false,\"zerolinecolor\":\"rgb(36,36,36)\"}},\"shapedefaults\":{\"fillcolor\":\"black\",\"line\":{\"width\":0},\"opacity\":0.3},\"ternary\":{\"aaxis\":{\"gridcolor\":\"rgb(232,232,232)\",\"linecolor\":\"rgb(36,36,36)\",\"showgrid\":false,\"showline\":true,\"ticks\":\"outside\"},\"baxis\":{\"gridcolor\":\"rgb(232,232,232)\",\"linecolor\":\"rgb(36,36,36)\",\"showgrid\":false,\"showline\":true,\"ticks\":\"outside\"},\"bgcolor\":\"white\",\"caxis\":{\"gridcolor\":\"rgb(232,232,232)\",\"linecolor\":\"rgb(36,36,36)\",\"showgrid\":false,\"showline\":true,\"ticks\":\"outside\"}},\"title\":{\"x\":0.05},\"xaxis\":{\"automargin\":true,\"gridcolor\":\"rgb(232,232,232)\",\"linecolor\":\"rgb(36,36,36)\",\"showgrid\":false,\"showline\":true,\"ticks\":\"outside\",\"title\":{\"standoff\":15},\"zeroline\":false,\"zerolinecolor\":\"rgb(36,36,36)\"},\"yaxis\":{\"automargin\":true,\"gridcolor\":\"rgb(232,232,232)\",\"linecolor\":\"rgb(36,36,36)\",\"showgrid\":false,\"showline\":true,\"ticks\":\"outside\",\"title\":{\"standoff\":15},\"zeroline\":false,\"zerolinecolor\":\"rgb(36,36,36)\"}}},\"xaxis\":{\"anchor\":\"y\",\"domain\":[0.0,1.0],\"title\":{\"text\":\"cell\"}},\"yaxis\":{\"anchor\":\"x\",\"domain\":[0.0,1.0],\"title\":{\"text\":\"Lane Identification\"},\"categoryorder\":\"array\",\"categoryarray\":[\"UNKNOWN\",\"U4\",\"U3\",\"U2\",\"U1\"]},\"coloraxis\":{\"colorbar\":{\"title\":{\"text\":\"count\"}},\"colorscale\":[[0.0,\"#00b0f0\"],[0.5,\"#ffff00\"],[1.0,\"#ff5050\"]],\"cmin\":0,\"cmax\":50},\"legend\":{\"tracegroupgap\":0},\"margin\":{\"t\":60},\"width\":1500,\"plot_bgcolor\":\"rgba(0, 0, 0, 0)\",\"paper_bgcolor\":\"rgba(0, 0, 0, 0)\"},                        {\"responsive\": true}                    ).then(function(){\n",
       "                            \n",
       "var gd = document.getElementById('43a29520-2758-492c-9c09-2c01e7476f10');\n",
       "var x = new MutationObserver(function (mutations, observer) {{\n",
       "        var display = window.getComputedStyle(gd).display;\n",
       "        if (!display || display === 'none') {{\n",
       "            console.log([gd, 'removed!']);\n",
       "            Plotly.purge(gd);\n",
       "            observer.disconnect();\n",
       "        }}\n",
       "}});\n",
       "\n",
       "// Listen for the removal of the full notebook cells\n",
       "var notebookContainer = gd.closest('#notebook-container');\n",
       "if (notebookContainer) {{\n",
       "    x.observe(notebookContainer, {childList: true});\n",
       "}}\n",
       "\n",
       "// Listen for the clearing of the current output cell\n",
       "var outputEl = gd.closest('.output');\n",
       "if (outputEl) {{\n",
       "    x.observe(outputEl, {childList: true});\n",
       "}}\n",
       "\n",
       "                        })                };                });            </script>        </div>"
      ]
     },
     "metadata": {},
     "output_type": "display_data"
    }
   ],
   "source": [
    "for file in file_list:\n",
    "    \n",
    "    file_path = os.path.join(data_dir, file) # 파일리스트의 파일별 경로 설정\n",
    "    df = pd.read_csv(file_path)\n",
    "    \n",
    "    df['cell'] = df['Local X (m)'].apply(cell_num)\n",
    "    cell_bin = int(df['cell'].max())\n",
    "    \n",
    "    print(file, cell_bin)\n",
    "    \n",
    "    df = df[(df['Lane Identification'] != 'UNKNOWN') & (df['Lane_change'] == 'Change')]\n",
    "\n",
    "    \n",
    "    fig = px.density_heatmap(df,\n",
    "                             x = 'cell', y = 'Lane Identification', z = 'Lane_change', histfunc = 'count',\n",
    "                             color_continuous_scale = palette_ryb,\n",
    "                             range_color = [0, 50],\n",
    "                             nbinsx = cell_bin,\n",
    "                             category_orders = {'Lane Identification':['U1', 'U2', 'U3', 'U4', 'UNKNOWN']}, \n",
    "                             template = 'simple_white',\n",
    "                             width = 1500,\n",
    "                             text_auto = True)\n",
    "\n",
    "    save_html_name = f'lanechange_count_{file[-10:-6]}.html'\n",
    "    save_html_path = os.path.join(save_dir, save_html_name)\n",
    "    \n",
    "    fig.write_html(file = save_html_path) # html Plotly 파일 저장\n",
    "    \n",
    "    \n",
    "    ### 글자 없는 것을 PNG 투명이미지로 저장\n",
    "    fig = px.density_heatmap(df,\n",
    "                             x = 'cell', y = 'Lane Identification', z = 'Lane_change', histfunc = 'count',\n",
    "                             color_continuous_scale = palette_ryb,\n",
    "                             range_color = [0, 50],\n",
    "                             nbinsx = cell_bin,\n",
    "                             category_orders = {'Lane Identification':['U1', 'U2', 'U3', 'U4', 'UNKNOWN']}, \n",
    "                             #nbinsx = binsx,\n",
    "                             template = 'simple_white',\n",
    "                             width = 1500)\n",
    "\n",
    "        \n",
    "    fig.update_layout({\n",
    "            'plot_bgcolor' : 'rgba(0, 0, 0, 0)',\n",
    "            'paper_bgcolor' : 'rgba(0, 0, 0, 0)'\n",
    "        })\n",
    "        \n",
    "    save_png_name = f'lanechange_count_{file[-10:-6]}.png'\n",
    "    save_png_path = os.path.join(save_dir, save_png_name)        \n",
    "        \n",
    "    fig.write_image(save_png_path)\n",
    "    \n",
    "fig.show()"
   ]
  }
 ],
 "metadata": {
  "kernelspec": {
   "display_name": "Python 3",
   "language": "python",
   "name": "python3"
  },
  "language_info": {
   "codemirror_mode": {
    "name": "ipython",
    "version": 3
   },
   "file_extension": ".py",
   "mimetype": "text/x-python",
   "name": "python",
   "nbconvert_exporter": "python",
   "pygments_lexer": "ipython3",
   "version": "3.8.8"
  }
 },
 "nbformat": 4,
 "nbformat_minor": 5
}
