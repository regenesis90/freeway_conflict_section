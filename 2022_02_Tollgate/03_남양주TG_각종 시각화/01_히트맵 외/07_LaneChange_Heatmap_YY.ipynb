{
 "cells": [
  {
   "cell_type": "markdown",
   "id": "68005afd-4181-41a5-aca7-21f2be0d59e1",
   "metadata": {},
   "source": [
    "# 구간별 차로변경횟수: 남양주TG, 양양방향\n",
    "* cell별 지나간 차량대수"
   ]
  },
  {
   "cell_type": "markdown",
   "id": "1bdecd92-d172-43c1-9bd6-38556e708bd8",
   "metadata": {},
   "source": [
    "# Imports"
   ]
  },
  {
   "cell_type": "code",
   "execution_count": 49,
   "id": "e3d74ecd-e474-4716-a9ce-dfe92742da73",
   "metadata": {
    "execution": {
     "iopub.execute_input": "2022-09-14T09:43:00.388474Z",
     "iopub.status.busy": "2022-09-14T09:43:00.387475Z",
     "iopub.status.idle": "2022-09-14T09:43:00.403432Z",
     "shell.execute_reply": "2022-09-14T09:43:00.402435Z",
     "shell.execute_reply.started": "2022-09-14T09:43:00.388474Z"
    },
    "tags": []
   },
   "outputs": [],
   "source": [
    "import numpy as np\n",
    "import pandas as pd\n",
    "import math\n",
    "import os\n",
    "\n",
    "from tqdm import tqdm\n",
    "\n",
    "import plotly.express as px\n",
    "import plotly.graph_objects as go\n",
    "from plotly.subplots import make_subplots"
   ]
  },
  {
   "cell_type": "markdown",
   "id": "93d32a7a-06d2-4adb-a42e-02f46270fe3f",
   "metadata": {},
   "source": [
    "# Load Dataset"
   ]
  },
  {
   "cell_type": "code",
   "execution_count": 50,
   "id": "157f0073-5e0b-4693-aef9-53777830ac87",
   "metadata": {
    "execution": {
     "iopub.execute_input": "2022-09-14T09:43:00.404429Z",
     "iopub.status.busy": "2022-09-14T09:43:00.404429Z",
     "iopub.status.idle": "2022-09-14T09:43:00.418392Z",
     "shell.execute_reply": "2022-09-14T09:43:00.417395Z",
     "shell.execute_reply.started": "2022-09-14T09:43:00.404429Z"
    },
    "tags": []
   },
   "outputs": [],
   "source": [
    "data_dir = 'D:/OneDrive - 연세대학교 (Yonsei University)/Projects/Yonsei_TELab/003_도로상충_210517-/2차년도_2022/27_남양주영업소_드론영상분석/양양방향/01_density_by_target_LOS_concated_lanechange'"
   ]
  },
  {
   "cell_type": "code",
   "execution_count": 51,
   "id": "430b5efd-d53e-48fa-8a91-8e030a8be787",
   "metadata": {
    "execution": {
     "iopub.execute_input": "2022-09-14T09:43:00.420420Z",
     "iopub.status.busy": "2022-09-14T09:43:00.420420Z",
     "iopub.status.idle": "2022-09-14T09:43:00.437346Z",
     "shell.execute_reply": "2022-09-14T09:43:00.433357Z",
     "shell.execute_reply.started": "2022-09-14T09:43:00.420420Z"
    },
    "tags": []
   },
   "outputs": [],
   "source": [
    "save_dir = 'D:/OneDrive - 연세대학교 (Yonsei University)/Projects/Yonsei_TELab/003_도로상충_210517-/2차년도_2022/35_22-9차 회의 준비/11_남양주TG_구간별 차로변경횟수 및 교통량/구간별 차로변경횟수/양양방향'"
   ]
  },
  {
   "cell_type": "code",
   "execution_count": 52,
   "id": "44a5326b-9a1d-4e81-80e9-35b788f5c666",
   "metadata": {
    "execution": {
     "iopub.execute_input": "2022-09-14T09:43:00.439338Z",
     "iopub.status.busy": "2022-09-14T09:43:00.439338Z",
     "iopub.status.idle": "2022-09-14T09:43:00.451306Z",
     "shell.execute_reply": "2022-09-14T09:43:00.449315Z",
     "shell.execute_reply.started": "2022-09-14T09:43:00.439338Z"
    },
    "tags": []
   },
   "outputs": [
    {
     "name": "stdout",
     "output_type": "stream",
     "text": [
      "['04_1_A.csv', '04_2_A.csv']\n"
     ]
    }
   ],
   "source": [
    "file_list = os.listdir(data_dir)\n",
    "file_list = file_list[3:]\n",
    "print(file_list)"
   ]
  },
  {
   "cell_type": "markdown",
   "id": "fbb69426-9064-4af1-a009-526d49540eba",
   "metadata": {},
   "source": [
    "# Color Palette\n",
    "`px.colors.sequential.Viridis`"
   ]
  },
  {
   "cell_type": "code",
   "execution_count": 53,
   "id": "bd139146-95eb-4924-a91c-2d885c0dcd3f",
   "metadata": {
    "execution": {
     "iopub.execute_input": "2022-09-14T09:43:00.452303Z",
     "iopub.status.busy": "2022-09-14T09:43:00.452303Z",
     "iopub.status.idle": "2022-09-14T09:43:00.465271Z",
     "shell.execute_reply": "2022-09-14T09:43:00.464270Z",
     "shell.execute_reply.started": "2022-09-14T09:43:00.452303Z"
    },
    "tags": []
   },
   "outputs": [],
   "source": [
    "palette_ryb = ['#00b0f0', '#ffff00', '#ff5050'] # 엇갈림구간 프로젝트의 그 삼색팔레트 : 파랑-노랑-빨강"
   ]
  },
  {
   "cell_type": "code",
   "execution_count": 54,
   "id": "b08e7cba-438d-4834-bca0-1e59c6cd23e5",
   "metadata": {
    "execution": {
     "iopub.execute_input": "2022-09-14T09:43:00.467263Z",
     "iopub.status.busy": "2022-09-14T09:43:00.467263Z",
     "iopub.status.idle": "2022-09-14T09:43:00.482232Z",
     "shell.execute_reply": "2022-09-14T09:43:00.480229Z",
     "shell.execute_reply.started": "2022-09-14T09:43:00.467263Z"
    },
    "tags": []
   },
   "outputs": [],
   "source": [
    "palette_redwhite = ['#ffffff', '#ff0000']"
   ]
  },
  {
   "cell_type": "code",
   "execution_count": 55,
   "id": "c3d1e8b3-c955-47be-a3e9-4bcf5b36ba2a",
   "metadata": {
    "execution": {
     "iopub.execute_input": "2022-09-14T09:43:00.483220Z",
     "iopub.status.busy": "2022-09-14T09:43:00.483220Z",
     "iopub.status.idle": "2022-09-14T09:43:00.497183Z",
     "shell.execute_reply": "2022-09-14T09:43:00.496185Z",
     "shell.execute_reply.started": "2022-09-14T09:43:00.483220Z"
    },
    "tags": []
   },
   "outputs": [],
   "source": [
    "palette_bluewhite = ['#ffffff', '#0054ff']"
   ]
  },
  {
   "cell_type": "code",
   "execution_count": 56,
   "id": "dadade3d-bd95-4895-8d4b-5b15d8273ebe",
   "metadata": {
    "execution": {
     "iopub.execute_input": "2022-09-14T09:43:00.501174Z",
     "iopub.status.busy": "2022-09-14T09:43:00.500178Z",
     "iopub.status.idle": "2022-09-14T09:43:00.515140Z",
     "shell.execute_reply": "2022-09-14T09:43:00.512143Z",
     "shell.execute_reply.started": "2022-09-14T09:43:00.501174Z"
    },
    "tags": []
   },
   "outputs": [],
   "source": [
    "palette_whitered = ['#ff0000', '#ffffff']"
   ]
  },
  {
   "cell_type": "code",
   "execution_count": 57,
   "id": "9baa8a98-d2d6-4db4-af61-a7acfef75538",
   "metadata": {
    "execution": {
     "iopub.execute_input": "2022-09-14T09:43:00.517129Z",
     "iopub.status.busy": "2022-09-14T09:43:00.517129Z",
     "iopub.status.idle": "2022-09-14T09:43:00.530094Z",
     "shell.execute_reply": "2022-09-14T09:43:00.528106Z",
     "shell.execute_reply.started": "2022-09-14T09:43:00.517129Z"
    },
    "tags": []
   },
   "outputs": [],
   "source": [
    "palette_whiteblue = ['#0054ff', '#ffffff']"
   ]
  },
  {
   "cell_type": "code",
   "execution_count": 58,
   "id": "d5772856-d47c-478f-bd2e-5ade8db9ff5a",
   "metadata": {
    "execution": {
     "iopub.execute_input": "2022-09-14T09:43:00.531091Z",
     "iopub.status.busy": "2022-09-14T09:43:00.531091Z",
     "iopub.status.idle": "2022-09-14T09:43:00.545055Z",
     "shell.execute_reply": "2022-09-14T09:43:00.544057Z",
     "shell.execute_reply.started": "2022-09-14T09:43:00.531091Z"
    },
    "tags": []
   },
   "outputs": [],
   "source": [
    "def cell_num(x):\n",
    "    \"\"\"x 좌표를 바탕으로 소속 셀 영역 알려줌\"\"\"\n",
    "    \n",
    "    cell = x//20\n",
    "    \n",
    "    return cell"
   ]
  },
  {
   "cell_type": "markdown",
   "id": "5c0399b0-039e-4dda-8669-9561406f43d5",
   "metadata": {},
   "source": [
    "# Draw it"
   ]
  },
  {
   "cell_type": "markdown",
   "id": "e443c2af-a9d3-4676-8df5-de14b0f8afb9",
   "metadata": {},
   "source": [
    "## 차로변경 횟수"
   ]
  },
  {
   "cell_type": "code",
   "execution_count": 60,
   "id": "7d870e71-5481-4d8d-9295-d73d483d0682",
   "metadata": {
    "execution": {
     "iopub.execute_input": "2022-09-14T09:52:15.481950Z",
     "iopub.status.busy": "2022-09-14T09:52:15.481950Z",
     "iopub.status.idle": "2022-09-14T09:52:15.904172Z",
     "shell.execute_reply": "2022-09-14T09:52:15.903207Z",
     "shell.execute_reply.started": "2022-09-14T09:52:15.481950Z"
    },
    "tags": []
   },
   "outputs": [
    {
     "data": {
      "application/vnd.plotly.v1+json": {
       "config": {
        "plotlyServerURL": "https://plot.ly"
       },
       "data": [
        {
         "coloraxis": "coloraxis",
         "histfunc": "count",
         "hovertemplate": "cell=%{x}<br>Lane Identification=%{y}<br>count=%{z}<extra></extra>",
         "name": "",
         "nbinsx": 12,
         "type": "histogram2d",
         "x": [
          7,
          3,
          9,
          8,
          6,
          8,
          5,
          3,
          10,
          5,
          9,
          9,
          4,
          5,
          8,
          10,
          10,
          5,
          5,
          8,
          7,
          10,
          7,
          2,
          7,
          3,
          3,
          7,
          5,
          8,
          7,
          12,
          5,
          9,
          3,
          4,
          7,
          9,
          12,
          7,
          4,
          9,
          4,
          6,
          11,
          9,
          12,
          6,
          12,
          8,
          3,
          6,
          7,
          4,
          7,
          11,
          6,
          6,
          10,
          10,
          5,
          7,
          7,
          4,
          4,
          7,
          4,
          10,
          6,
          10,
          4,
          9,
          9,
          10
         ],
         "xaxis": "x",
         "xbingroup": "x",
         "y": [
          "U3",
          "U2",
          "U4",
          "U3",
          "U3",
          "U1",
          "U1",
          "U3",
          "U1",
          "U2",
          "U3",
          "U1",
          "U2",
          "U2",
          "U3",
          "U3",
          "U1",
          "U1",
          "U1",
          "U2",
          "U2",
          "U3",
          "U3",
          "U2",
          "U3",
          "U2",
          "U1",
          "U3",
          "U3",
          "U4",
          "U3",
          "U3",
          "U3",
          "U4",
          "U3",
          "U3",
          "U4",
          "U4",
          "U2",
          "U3",
          "U3",
          "U2",
          "U3",
          "U4",
          "U2",
          "U4",
          "U2",
          "U3",
          "U2",
          "U4",
          "U3",
          "U3",
          "U1",
          "U3",
          "U4",
          "U3",
          "U3",
          "U1",
          "U1",
          "U2",
          "U2",
          "U3",
          "U1",
          "U3",
          "U3",
          "U4",
          "U3",
          "U1",
          "U3",
          "U4",
          "U3",
          "U2",
          "U2",
          "U3"
         ],
         "yaxis": "y",
         "ybingroup": "y",
         "z": [
          "Change",
          "Change",
          "Change",
          "Change",
          "Change",
          "Change",
          "Change",
          "Change",
          "Change",
          "Change",
          "Change",
          "Change",
          "Change",
          "Change",
          "Change",
          "Change",
          "Change",
          "Change",
          "Change",
          "Change",
          "Change",
          "Change",
          "Change",
          "Change",
          "Change",
          "Change",
          "Change",
          "Change",
          "Change",
          "Change",
          "Change",
          "Change",
          "Change",
          "Change",
          "Change",
          "Change",
          "Change",
          "Change",
          "Change",
          "Change",
          "Change",
          "Change",
          "Change",
          "Change",
          "Change",
          "Change",
          "Change",
          "Change",
          "Change",
          "Change",
          "Change",
          "Change",
          "Change",
          "Change",
          "Change",
          "Change",
          "Change",
          "Change",
          "Change",
          "Change",
          "Change",
          "Change",
          "Change",
          "Change",
          "Change",
          "Change",
          "Change",
          "Change",
          "Change",
          "Change",
          "Change",
          "Change",
          "Change",
          "Change"
         ]
        }
       ],
       "layout": {
        "autosize": true,
        "coloraxis": {
         "cmax": 50,
         "cmin": 0,
         "colorbar": {
          "title": {
           "text": "count"
          }
         },
         "colorscale": [
          [
           0,
           "#00b0f0"
          ],
          [
           0.5,
           "#ffff00"
          ],
          [
           1,
           "#ff5050"
          ]
         ]
        },
        "legend": {
         "tracegroupgap": 0
        },
        "margin": {
         "t": 60
        },
        "paper_bgcolor": "rgba(0, 0, 0, 0)",
        "plot_bgcolor": "rgba(0, 0, 0, 0)",
        "template": {
         "data": {
          "bar": [
           {
            "error_x": {
             "color": "rgb(36,36,36)"
            },
            "error_y": {
             "color": "rgb(36,36,36)"
            },
            "marker": {
             "line": {
              "color": "white",
              "width": 0.5
             },
             "pattern": {
              "fillmode": "overlay",
              "size": 10,
              "solidity": 0.2
             }
            },
            "type": "bar"
           }
          ],
          "barpolar": [
           {
            "marker": {
             "line": {
              "color": "white",
              "width": 0.5
             },
             "pattern": {
              "fillmode": "overlay",
              "size": 10,
              "solidity": 0.2
             }
            },
            "type": "barpolar"
           }
          ],
          "carpet": [
           {
            "aaxis": {
             "endlinecolor": "rgb(36,36,36)",
             "gridcolor": "white",
             "linecolor": "white",
             "minorgridcolor": "white",
             "startlinecolor": "rgb(36,36,36)"
            },
            "baxis": {
             "endlinecolor": "rgb(36,36,36)",
             "gridcolor": "white",
             "linecolor": "white",
             "minorgridcolor": "white",
             "startlinecolor": "rgb(36,36,36)"
            },
            "type": "carpet"
           }
          ],
          "choropleth": [
           {
            "colorbar": {
             "outlinewidth": 1,
             "tickcolor": "rgb(36,36,36)",
             "ticks": "outside"
            },
            "type": "choropleth"
           }
          ],
          "contour": [
           {
            "colorbar": {
             "outlinewidth": 1,
             "tickcolor": "rgb(36,36,36)",
             "ticks": "outside"
            },
            "colorscale": [
             [
              0,
              "#440154"
             ],
             [
              0.1111111111111111,
              "#482878"
             ],
             [
              0.2222222222222222,
              "#3e4989"
             ],
             [
              0.3333333333333333,
              "#31688e"
             ],
             [
              0.4444444444444444,
              "#26828e"
             ],
             [
              0.5555555555555556,
              "#1f9e89"
             ],
             [
              0.6666666666666666,
              "#35b779"
             ],
             [
              0.7777777777777778,
              "#6ece58"
             ],
             [
              0.8888888888888888,
              "#b5de2b"
             ],
             [
              1,
              "#fde725"
             ]
            ],
            "type": "contour"
           }
          ],
          "contourcarpet": [
           {
            "colorbar": {
             "outlinewidth": 1,
             "tickcolor": "rgb(36,36,36)",
             "ticks": "outside"
            },
            "type": "contourcarpet"
           }
          ],
          "heatmap": [
           {
            "colorbar": {
             "outlinewidth": 1,
             "tickcolor": "rgb(36,36,36)",
             "ticks": "outside"
            },
            "colorscale": [
             [
              0,
              "#440154"
             ],
             [
              0.1111111111111111,
              "#482878"
             ],
             [
              0.2222222222222222,
              "#3e4989"
             ],
             [
              0.3333333333333333,
              "#31688e"
             ],
             [
              0.4444444444444444,
              "#26828e"
             ],
             [
              0.5555555555555556,
              "#1f9e89"
             ],
             [
              0.6666666666666666,
              "#35b779"
             ],
             [
              0.7777777777777778,
              "#6ece58"
             ],
             [
              0.8888888888888888,
              "#b5de2b"
             ],
             [
              1,
              "#fde725"
             ]
            ],
            "type": "heatmap"
           }
          ],
          "heatmapgl": [
           {
            "colorbar": {
             "outlinewidth": 1,
             "tickcolor": "rgb(36,36,36)",
             "ticks": "outside"
            },
            "colorscale": [
             [
              0,
              "#440154"
             ],
             [
              0.1111111111111111,
              "#482878"
             ],
             [
              0.2222222222222222,
              "#3e4989"
             ],
             [
              0.3333333333333333,
              "#31688e"
             ],
             [
              0.4444444444444444,
              "#26828e"
             ],
             [
              0.5555555555555556,
              "#1f9e89"
             ],
             [
              0.6666666666666666,
              "#35b779"
             ],
             [
              0.7777777777777778,
              "#6ece58"
             ],
             [
              0.8888888888888888,
              "#b5de2b"
             ],
             [
              1,
              "#fde725"
             ]
            ],
            "type": "heatmapgl"
           }
          ],
          "histogram": [
           {
            "marker": {
             "line": {
              "color": "white",
              "width": 0.6
             }
            },
            "type": "histogram"
           }
          ],
          "histogram2d": [
           {
            "colorbar": {
             "outlinewidth": 1,
             "tickcolor": "rgb(36,36,36)",
             "ticks": "outside"
            },
            "colorscale": [
             [
              0,
              "#440154"
             ],
             [
              0.1111111111111111,
              "#482878"
             ],
             [
              0.2222222222222222,
              "#3e4989"
             ],
             [
              0.3333333333333333,
              "#31688e"
             ],
             [
              0.4444444444444444,
              "#26828e"
             ],
             [
              0.5555555555555556,
              "#1f9e89"
             ],
             [
              0.6666666666666666,
              "#35b779"
             ],
             [
              0.7777777777777778,
              "#6ece58"
             ],
             [
              0.8888888888888888,
              "#b5de2b"
             ],
             [
              1,
              "#fde725"
             ]
            ],
            "type": "histogram2d"
           }
          ],
          "histogram2dcontour": [
           {
            "colorbar": {
             "outlinewidth": 1,
             "tickcolor": "rgb(36,36,36)",
             "ticks": "outside"
            },
            "colorscale": [
             [
              0,
              "#440154"
             ],
             [
              0.1111111111111111,
              "#482878"
             ],
             [
              0.2222222222222222,
              "#3e4989"
             ],
             [
              0.3333333333333333,
              "#31688e"
             ],
             [
              0.4444444444444444,
              "#26828e"
             ],
             [
              0.5555555555555556,
              "#1f9e89"
             ],
             [
              0.6666666666666666,
              "#35b779"
             ],
             [
              0.7777777777777778,
              "#6ece58"
             ],
             [
              0.8888888888888888,
              "#b5de2b"
             ],
             [
              1,
              "#fde725"
             ]
            ],
            "type": "histogram2dcontour"
           }
          ],
          "mesh3d": [
           {
            "colorbar": {
             "outlinewidth": 1,
             "tickcolor": "rgb(36,36,36)",
             "ticks": "outside"
            },
            "type": "mesh3d"
           }
          ],
          "parcoords": [
           {
            "line": {
             "colorbar": {
              "outlinewidth": 1,
              "tickcolor": "rgb(36,36,36)",
              "ticks": "outside"
             }
            },
            "type": "parcoords"
           }
          ],
          "pie": [
           {
            "automargin": true,
            "type": "pie"
           }
          ],
          "scatter": [
           {
            "marker": {
             "colorbar": {
              "outlinewidth": 1,
              "tickcolor": "rgb(36,36,36)",
              "ticks": "outside"
             }
            },
            "type": "scatter"
           }
          ],
          "scatter3d": [
           {
            "line": {
             "colorbar": {
              "outlinewidth": 1,
              "tickcolor": "rgb(36,36,36)",
              "ticks": "outside"
             }
            },
            "marker": {
             "colorbar": {
              "outlinewidth": 1,
              "tickcolor": "rgb(36,36,36)",
              "ticks": "outside"
             }
            },
            "type": "scatter3d"
           }
          ],
          "scattercarpet": [
           {
            "marker": {
             "colorbar": {
              "outlinewidth": 1,
              "tickcolor": "rgb(36,36,36)",
              "ticks": "outside"
             }
            },
            "type": "scattercarpet"
           }
          ],
          "scattergeo": [
           {
            "marker": {
             "colorbar": {
              "outlinewidth": 1,
              "tickcolor": "rgb(36,36,36)",
              "ticks": "outside"
             }
            },
            "type": "scattergeo"
           }
          ],
          "scattergl": [
           {
            "marker": {
             "colorbar": {
              "outlinewidth": 1,
              "tickcolor": "rgb(36,36,36)",
              "ticks": "outside"
             }
            },
            "type": "scattergl"
           }
          ],
          "scattermapbox": [
           {
            "marker": {
             "colorbar": {
              "outlinewidth": 1,
              "tickcolor": "rgb(36,36,36)",
              "ticks": "outside"
             }
            },
            "type": "scattermapbox"
           }
          ],
          "scatterpolar": [
           {
            "marker": {
             "colorbar": {
              "outlinewidth": 1,
              "tickcolor": "rgb(36,36,36)",
              "ticks": "outside"
             }
            },
            "type": "scatterpolar"
           }
          ],
          "scatterpolargl": [
           {
            "marker": {
             "colorbar": {
              "outlinewidth": 1,
              "tickcolor": "rgb(36,36,36)",
              "ticks": "outside"
             }
            },
            "type": "scatterpolargl"
           }
          ],
          "scatterternary": [
           {
            "marker": {
             "colorbar": {
              "outlinewidth": 1,
              "tickcolor": "rgb(36,36,36)",
              "ticks": "outside"
             }
            },
            "type": "scatterternary"
           }
          ],
          "surface": [
           {
            "colorbar": {
             "outlinewidth": 1,
             "tickcolor": "rgb(36,36,36)",
             "ticks": "outside"
            },
            "colorscale": [
             [
              0,
              "#440154"
             ],
             [
              0.1111111111111111,
              "#482878"
             ],
             [
              0.2222222222222222,
              "#3e4989"
             ],
             [
              0.3333333333333333,
              "#31688e"
             ],
             [
              0.4444444444444444,
              "#26828e"
             ],
             [
              0.5555555555555556,
              "#1f9e89"
             ],
             [
              0.6666666666666666,
              "#35b779"
             ],
             [
              0.7777777777777778,
              "#6ece58"
             ],
             [
              0.8888888888888888,
              "#b5de2b"
             ],
             [
              1,
              "#fde725"
             ]
            ],
            "type": "surface"
           }
          ],
          "table": [
           {
            "cells": {
             "fill": {
              "color": "rgb(237,237,237)"
             },
             "line": {
              "color": "white"
             }
            },
            "header": {
             "fill": {
              "color": "rgb(217,217,217)"
             },
             "line": {
              "color": "white"
             }
            },
            "type": "table"
           }
          ]
         },
         "layout": {
          "annotationdefaults": {
           "arrowhead": 0,
           "arrowwidth": 1
          },
          "autotypenumbers": "strict",
          "coloraxis": {
           "colorbar": {
            "outlinewidth": 1,
            "tickcolor": "rgb(36,36,36)",
            "ticks": "outside"
           }
          },
          "colorscale": {
           "diverging": [
            [
             0,
             "rgb(103,0,31)"
            ],
            [
             0.1,
             "rgb(178,24,43)"
            ],
            [
             0.2,
             "rgb(214,96,77)"
            ],
            [
             0.3,
             "rgb(244,165,130)"
            ],
            [
             0.4,
             "rgb(253,219,199)"
            ],
            [
             0.5,
             "rgb(247,247,247)"
            ],
            [
             0.6,
             "rgb(209,229,240)"
            ],
            [
             0.7,
             "rgb(146,197,222)"
            ],
            [
             0.8,
             "rgb(67,147,195)"
            ],
            [
             0.9,
             "rgb(33,102,172)"
            ],
            [
             1,
             "rgb(5,48,97)"
            ]
           ],
           "sequential": [
            [
             0,
             "#440154"
            ],
            [
             0.1111111111111111,
             "#482878"
            ],
            [
             0.2222222222222222,
             "#3e4989"
            ],
            [
             0.3333333333333333,
             "#31688e"
            ],
            [
             0.4444444444444444,
             "#26828e"
            ],
            [
             0.5555555555555556,
             "#1f9e89"
            ],
            [
             0.6666666666666666,
             "#35b779"
            ],
            [
             0.7777777777777778,
             "#6ece58"
            ],
            [
             0.8888888888888888,
             "#b5de2b"
            ],
            [
             1,
             "#fde725"
            ]
           ],
           "sequentialminus": [
            [
             0,
             "#440154"
            ],
            [
             0.1111111111111111,
             "#482878"
            ],
            [
             0.2222222222222222,
             "#3e4989"
            ],
            [
             0.3333333333333333,
             "#31688e"
            ],
            [
             0.4444444444444444,
             "#26828e"
            ],
            [
             0.5555555555555556,
             "#1f9e89"
            ],
            [
             0.6666666666666666,
             "#35b779"
            ],
            [
             0.7777777777777778,
             "#6ece58"
            ],
            [
             0.8888888888888888,
             "#b5de2b"
            ],
            [
             1,
             "#fde725"
            ]
           ]
          },
          "colorway": [
           "#1F77B4",
           "#FF7F0E",
           "#2CA02C",
           "#D62728",
           "#9467BD",
           "#8C564B",
           "#E377C2",
           "#7F7F7F",
           "#BCBD22",
           "#17BECF"
          ],
          "font": {
           "color": "rgb(36,36,36)"
          },
          "geo": {
           "bgcolor": "white",
           "lakecolor": "white",
           "landcolor": "white",
           "showlakes": true,
           "showland": true,
           "subunitcolor": "white"
          },
          "hoverlabel": {
           "align": "left"
          },
          "hovermode": "closest",
          "mapbox": {
           "style": "light"
          },
          "paper_bgcolor": "white",
          "plot_bgcolor": "white",
          "polar": {
           "angularaxis": {
            "gridcolor": "rgb(232,232,232)",
            "linecolor": "rgb(36,36,36)",
            "showgrid": false,
            "showline": true,
            "ticks": "outside"
           },
           "bgcolor": "white",
           "radialaxis": {
            "gridcolor": "rgb(232,232,232)",
            "linecolor": "rgb(36,36,36)",
            "showgrid": false,
            "showline": true,
            "ticks": "outside"
           }
          },
          "scene": {
           "xaxis": {
            "backgroundcolor": "white",
            "gridcolor": "rgb(232,232,232)",
            "gridwidth": 2,
            "linecolor": "rgb(36,36,36)",
            "showbackground": true,
            "showgrid": false,
            "showline": true,
            "ticks": "outside",
            "zeroline": false,
            "zerolinecolor": "rgb(36,36,36)"
           },
           "yaxis": {
            "backgroundcolor": "white",
            "gridcolor": "rgb(232,232,232)",
            "gridwidth": 2,
            "linecolor": "rgb(36,36,36)",
            "showbackground": true,
            "showgrid": false,
            "showline": true,
            "ticks": "outside",
            "zeroline": false,
            "zerolinecolor": "rgb(36,36,36)"
           },
           "zaxis": {
            "backgroundcolor": "white",
            "gridcolor": "rgb(232,232,232)",
            "gridwidth": 2,
            "linecolor": "rgb(36,36,36)",
            "showbackground": true,
            "showgrid": false,
            "showline": true,
            "ticks": "outside",
            "zeroline": false,
            "zerolinecolor": "rgb(36,36,36)"
           }
          },
          "shapedefaults": {
           "fillcolor": "black",
           "line": {
            "width": 0
           },
           "opacity": 0.3
          },
          "ternary": {
           "aaxis": {
            "gridcolor": "rgb(232,232,232)",
            "linecolor": "rgb(36,36,36)",
            "showgrid": false,
            "showline": true,
            "ticks": "outside"
           },
           "baxis": {
            "gridcolor": "rgb(232,232,232)",
            "linecolor": "rgb(36,36,36)",
            "showgrid": false,
            "showline": true,
            "ticks": "outside"
           },
           "bgcolor": "white",
           "caxis": {
            "gridcolor": "rgb(232,232,232)",
            "linecolor": "rgb(36,36,36)",
            "showgrid": false,
            "showline": true,
            "ticks": "outside"
           }
          },
          "title": {
           "x": 0.05
          },
          "xaxis": {
           "automargin": true,
           "gridcolor": "rgb(232,232,232)",
           "linecolor": "rgb(36,36,36)",
           "showgrid": false,
           "showline": true,
           "ticks": "outside",
           "title": {
            "standoff": 15
           },
           "zeroline": false,
           "zerolinecolor": "rgb(36,36,36)"
          },
          "yaxis": {
           "automargin": true,
           "gridcolor": "rgb(232,232,232)",
           "linecolor": "rgb(36,36,36)",
           "showgrid": false,
           "showline": true,
           "ticks": "outside",
           "title": {
            "standoff": 15
           },
           "zeroline": false,
           "zerolinecolor": "rgb(36,36,36)"
          }
         }
        },
        "xaxis": {
         "anchor": "y",
         "autorange": true,
         "domain": [
          0,
          1
         ],
         "range": [
          1.5,
          12.5
         ],
         "title": {
          "text": "cell"
         },
         "type": "linear"
        },
        "yaxis": {
         "anchor": "x",
         "autorange": true,
         "categoryarray": [
          "UNKNOWN",
          "U4",
          "U3",
          "U2",
          "U1"
         ],
         "categoryorder": "array",
         "domain": [
          0,
          1
         ],
         "range": [
          0.5,
          4.5
         ],
         "title": {
          "text": "Lane Identification"
         },
         "type": "category"
        }
       }
      },
      "image/png": "[encoded data removed]",
      "text/html": [
       "<div>                            <div id=\"ffc3ca1a-19e4-4bd8-8807-6fedd7e38f3e\" class=\"plotly-graph-div\" style=\"height:525px; width:1500px;\"></div>            <script type=\"text/javascript\">                require([\"plotly\"], function(Plotly) {                    window.PLOTLYENV=window.PLOTLYENV || {};                                    if (document.getElementById(\"ffc3ca1a-19e4-4bd8-8807-6fedd7e38f3e\")) {                    Plotly.newPlot(                        \"ffc3ca1a-19e4-4bd8-8807-6fedd7e38f3e\",                        [{\"coloraxis\":\"coloraxis\",\"histfunc\":\"count\",\"hovertemplate\":\"cell=%{x}<br>Lane Identification=%{y}<br>count=%{z}<extra></extra>\",\"name\":\"\",\"nbinsx\":12,\"x\":[7.0,3.0,9.0,8.0,6.0,8.0,5.0,3.0,10.0,5.0,9.0,9.0,4.0,5.0,8.0,10.0,10.0,5.0,5.0,8.0,7.0,10.0,7.0,2.0,7.0,3.0,3.0,7.0,5.0,8.0,7.0,12.0,5.0,9.0,3.0,4.0,7.0,9.0,12.0,7.0,4.0,9.0,4.0,6.0,11.0,9.0,12.0,6.0,12.0,8.0,3.0,6.0,7.0,4.0,7.0,11.0,6.0,6.0,10.0,10.0,5.0,7.0,7.0,4.0,4.0,7.0,4.0,10.0,6.0,10.0,4.0,9.0,9.0,10.0],\"xaxis\":\"x\",\"xbingroup\":\"x\",\"y\":[\"U3\",\"U2\",\"U4\",\"U3\",\"U3\",\"U1\",\"U1\",\"U3\",\"U1\",\"U2\",\"U3\",\"U1\",\"U2\",\"U2\",\"U3\",\"U3\",\"U1\",\"U1\",\"U1\",\"U2\",\"U2\",\"U3\",\"U3\",\"U2\",\"U3\",\"U2\",\"U1\",\"U3\",\"U3\",\"U4\",\"U3\",\"U3\",\"U3\",\"U4\",\"U3\",\"U3\",\"U4\",\"U4\",\"U2\",\"U3\",\"U3\",\"U2\",\"U3\",\"U4\",\"U2\",\"U4\",\"U2\",\"U3\",\"U2\",\"U4\",\"U3\",\"U3\",\"U1\",\"U3\",\"U4\",\"U3\",\"U3\",\"U1\",\"U1\",\"U2\",\"U2\",\"U3\",\"U1\",\"U3\",\"U3\",\"U4\",\"U3\",\"U1\",\"U3\",\"U4\",\"U3\",\"U2\",\"U2\",\"U3\"],\"yaxis\":\"y\",\"ybingroup\":\"y\",\"z\":[\"Change\",\"Change\",\"Change\",\"Change\",\"Change\",\"Change\",\"Change\",\"Change\",\"Change\",\"Change\",\"Change\",\"Change\",\"Change\",\"Change\",\"Change\",\"Change\",\"Change\",\"Change\",\"Change\",\"Change\",\"Change\",\"Change\",\"Change\",\"Change\",\"Change\",\"Change\",\"Change\",\"Change\",\"Change\",\"Change\",\"Change\",\"Change\",\"Change\",\"Change\",\"Change\",\"Change\",\"Change\",\"Change\",\"Change\",\"Change\",\"Change\",\"Change\",\"Change\",\"Change\",\"Change\",\"Change\",\"Change\",\"Change\",\"Change\",\"Change\",\"Change\",\"Change\",\"Change\",\"Change\",\"Change\",\"Change\",\"Change\",\"Change\",\"Change\",\"Change\",\"Change\",\"Change\",\"Change\",\"Change\",\"Change\",\"Change\",\"Change\",\"Change\",\"Change\",\"Change\",\"Change\",\"Change\",\"Change\",\"Change\"],\"type\":\"histogram2d\"}],                        {\"template\":{\"data\":{\"barpolar\":[{\"marker\":{\"line\":{\"color\":\"white\",\"width\":0.5},\"pattern\":{\"fillmode\":\"overlay\",\"size\":10,\"solidity\":0.2}},\"type\":\"barpolar\"}],\"bar\":[{\"error_x\":{\"color\":\"rgb(36,36,36)\"},\"error_y\":{\"color\":\"rgb(36,36,36)\"},\"marker\":{\"line\":{\"color\":\"white\",\"width\":0.5},\"pattern\":{\"fillmode\":\"overlay\",\"size\":10,\"solidity\":0.2}},\"type\":\"bar\"}],\"carpet\":[{\"aaxis\":{\"endlinecolor\":\"rgb(36,36,36)\",\"gridcolor\":\"white\",\"linecolor\":\"white\",\"minorgridcolor\":\"white\",\"startlinecolor\":\"rgb(36,36,36)\"},\"baxis\":{\"endlinecolor\":\"rgb(36,36,36)\",\"gridcolor\":\"white\",\"linecolor\":\"white\",\"minorgridcolor\":\"white\",\"startlinecolor\":\"rgb(36,36,36)\"},\"type\":\"carpet\"}],\"choropleth\":[{\"colorbar\":{\"outlinewidth\":1,\"tickcolor\":\"rgb(36,36,36)\",\"ticks\":\"outside\"},\"type\":\"choropleth\"}],\"contourcarpet\":[{\"colorbar\":{\"outlinewidth\":1,\"tickcolor\":\"rgb(36,36,36)\",\"ticks\":\"outside\"},\"type\":\"contourcarpet\"}],\"contour\":[{\"colorbar\":{\"outlinewidth\":1,\"tickcolor\":\"rgb(36,36,36)\",\"ticks\":\"outside\"},\"colorscale\":[[0.0,\"#440154\"],[0.1111111111111111,\"#482878\"],[0.2222222222222222,\"#3e4989\"],[0.3333333333333333,\"#31688e\"],[0.4444444444444444,\"#26828e\"],[0.5555555555555556,\"#1f9e89\"],[0.6666666666666666,\"#35b779\"],[0.7777777777777778,\"#6ece58\"],[0.8888888888888888,\"#b5de2b\"],[1.0,\"#fde725\"]],\"type\":\"contour\"}],\"heatmapgl\":[{\"colorbar\":{\"outlinewidth\":1,\"tickcolor\":\"rgb(36,36,36)\",\"ticks\":\"outside\"},\"colorscale\":[[0.0,\"#440154\"],[0.1111111111111111,\"#482878\"],[0.2222222222222222,\"#3e4989\"],[0.3333333333333333,\"#31688e\"],[0.4444444444444444,\"#26828e\"],[0.5555555555555556,\"#1f9e89\"],[0.6666666666666666,\"#35b779\"],[0.7777777777777778,\"#6ece58\"],[0.8888888888888888,\"#b5de2b\"],[1.0,\"#fde725\"]],\"type\":\"heatmapgl\"}],\"heatmap\":[{\"colorbar\":{\"outlinewidth\":1,\"tickcolor\":\"rgb(36,36,36)\",\"ticks\":\"outside\"},\"colorscale\":[[0.0,\"#440154\"],[0.1111111111111111,\"#482878\"],[0.2222222222222222,\"#3e4989\"],[0.3333333333333333,\"#31688e\"],[0.4444444444444444,\"#26828e\"],[0.5555555555555556,\"#1f9e89\"],[0.6666666666666666,\"#35b779\"],[0.7777777777777778,\"#6ece58\"],[0.8888888888888888,\"#b5de2b\"],[1.0,\"#fde725\"]],\"type\":\"heatmap\"}],\"histogram2dcontour\":[{\"colorbar\":{\"outlinewidth\":1,\"tickcolor\":\"rgb(36,36,36)\",\"ticks\":\"outside\"},\"colorscale\":[[0.0,\"#440154\"],[0.1111111111111111,\"#482878\"],[0.2222222222222222,\"#3e4989\"],[0.3333333333333333,\"#31688e\"],[0.4444444444444444,\"#26828e\"],[0.5555555555555556,\"#1f9e89\"],[0.6666666666666666,\"#35b779\"],[0.7777777777777778,\"#6ece58\"],[0.8888888888888888,\"#b5de2b\"],[1.0,\"#fde725\"]],\"type\":\"histogram2dcontour\"}],\"histogram2d\":[{\"colorbar\":{\"outlinewidth\":1,\"tickcolor\":\"rgb(36,36,36)\",\"ticks\":\"outside\"},\"colorscale\":[[0.0,\"#440154\"],[0.1111111111111111,\"#482878\"],[0.2222222222222222,\"#3e4989\"],[0.3333333333333333,\"#31688e\"],[0.4444444444444444,\"#26828e\"],[0.5555555555555556,\"#1f9e89\"],[0.6666666666666666,\"#35b779\"],[0.7777777777777778,\"#6ece58\"],[0.8888888888888888,\"#b5de2b\"],[1.0,\"#fde725\"]],\"type\":\"histogram2d\"}],\"histogram\":[{\"marker\":{\"line\":{\"color\":\"white\",\"width\":0.6}},\"type\":\"histogram\"}],\"mesh3d\":[{\"colorbar\":{\"outlinewidth\":1,\"tickcolor\":\"rgb(36,36,36)\",\"ticks\":\"outside\"},\"type\":\"mesh3d\"}],\"parcoords\":[{\"line\":{\"colorbar\":{\"outlinewidth\":1,\"tickcolor\":\"rgb(36,36,36)\",\"ticks\":\"outside\"}},\"type\":\"parcoords\"}],\"pie\":[{\"automargin\":true,\"type\":\"pie\"}],\"scatter3d\":[{\"line\":{\"colorbar\":{\"outlinewidth\":1,\"tickcolor\":\"rgb(36,36,36)\",\"ticks\":\"outside\"}},\"marker\":{\"colorbar\":{\"outlinewidth\":1,\"tickcolor\":\"rgb(36,36,36)\",\"ticks\":\"outside\"}},\"type\":\"scatter3d\"}],\"scattercarpet\":[{\"marker\":{\"colorbar\":{\"outlinewidth\":1,\"tickcolor\":\"rgb(36,36,36)\",\"ticks\":\"outside\"}},\"type\":\"scattercarpet\"}],\"scattergeo\":[{\"marker\":{\"colorbar\":{\"outlinewidth\":1,\"tickcolor\":\"rgb(36,36,36)\",\"ticks\":\"outside\"}},\"type\":\"scattergeo\"}],\"scattergl\":[{\"marker\":{\"colorbar\":{\"outlinewidth\":1,\"tickcolor\":\"rgb(36,36,36)\",\"ticks\":\"outside\"}},\"type\":\"scattergl\"}],\"scattermapbox\":[{\"marker\":{\"colorbar\":{\"outlinewidth\":1,\"tickcolor\":\"rgb(36,36,36)\",\"ticks\":\"outside\"}},\"type\":\"scattermapbox\"}],\"scatterpolargl\":[{\"marker\":{\"colorbar\":{\"outlinewidth\":1,\"tickcolor\":\"rgb(36,36,36)\",\"ticks\":\"outside\"}},\"type\":\"scatterpolargl\"}],\"scatterpolar\":[{\"marker\":{\"colorbar\":{\"outlinewidth\":1,\"tickcolor\":\"rgb(36,36,36)\",\"ticks\":\"outside\"}},\"type\":\"scatterpolar\"}],\"scatter\":[{\"marker\":{\"colorbar\":{\"outlinewidth\":1,\"tickcolor\":\"rgb(36,36,36)\",\"ticks\":\"outside\"}},\"type\":\"scatter\"}],\"scatterternary\":[{\"marker\":{\"colorbar\":{\"outlinewidth\":1,\"tickcolor\":\"rgb(36,36,36)\",\"ticks\":\"outside\"}},\"type\":\"scatterternary\"}],\"surface\":[{\"colorbar\":{\"outlinewidth\":1,\"tickcolor\":\"rgb(36,36,36)\",\"ticks\":\"outside\"},\"colorscale\":[[0.0,\"#440154\"],[0.1111111111111111,\"#482878\"],[0.2222222222222222,\"#3e4989\"],[0.3333333333333333,\"#31688e\"],[0.4444444444444444,\"#26828e\"],[0.5555555555555556,\"#1f9e89\"],[0.6666666666666666,\"#35b779\"],[0.7777777777777778,\"#6ece58\"],[0.8888888888888888,\"#b5de2b\"],[1.0,\"#fde725\"]],\"type\":\"surface\"}],\"table\":[{\"cells\":{\"fill\":{\"color\":\"rgb(237,237,237)\"},\"line\":{\"color\":\"white\"}},\"header\":{\"fill\":{\"color\":\"rgb(217,217,217)\"},\"line\":{\"color\":\"white\"}},\"type\":\"table\"}]},\"layout\":{\"annotationdefaults\":{\"arrowhead\":0,\"arrowwidth\":1},\"autotypenumbers\":\"strict\",\"coloraxis\":{\"colorbar\":{\"outlinewidth\":1,\"tickcolor\":\"rgb(36,36,36)\",\"ticks\":\"outside\"}},\"colorscale\":{\"diverging\":[[0.0,\"rgb(103,0,31)\"],[0.1,\"rgb(178,24,43)\"],[0.2,\"rgb(214,96,77)\"],[0.3,\"rgb(244,165,130)\"],[0.4,\"rgb(253,219,199)\"],[0.5,\"rgb(247,247,247)\"],[0.6,\"rgb(209,229,240)\"],[0.7,\"rgb(146,197,222)\"],[0.8,\"rgb(67,147,195)\"],[0.9,\"rgb(33,102,172)\"],[1.0,\"rgb(5,48,97)\"]],\"sequential\":[[0.0,\"#440154\"],[0.1111111111111111,\"#482878\"],[0.2222222222222222,\"#3e4989\"],[0.3333333333333333,\"#31688e\"],[0.4444444444444444,\"#26828e\"],[0.5555555555555556,\"#1f9e89\"],[0.6666666666666666,\"#35b779\"],[0.7777777777777778,\"#6ece58\"],[0.8888888888888888,\"#b5de2b\"],[1.0,\"#fde725\"]],\"sequentialminus\":[[0.0,\"#440154\"],[0.1111111111111111,\"#482878\"],[0.2222222222222222,\"#3e4989\"],[0.3333333333333333,\"#31688e\"],[0.4444444444444444,\"#26828e\"],[0.5555555555555556,\"#1f9e89\"],[0.6666666666666666,\"#35b779\"],[0.7777777777777778,\"#6ece58\"],[0.8888888888888888,\"#b5de2b\"],[1.0,\"#fde725\"]]},\"colorway\":[\"#1F77B4\",\"#FF7F0E\",\"#2CA02C\",\"#D62728\",\"#9467BD\",\"#8C564B\",\"#E377C2\",\"#7F7F7F\",\"#BCBD22\",\"#17BECF\"],\"font\":{\"color\":\"rgb(36,36,36)\"},\"geo\":{\"bgcolor\":\"white\",\"lakecolor\":\"white\",\"landcolor\":\"white\",\"showlakes\":true,\"showland\":true,\"subunitcolor\":\"white\"},\"hoverlabel\":{\"align\":\"left\"},\"hovermode\":\"closest\",\"mapbox\":{\"style\":\"light\"},\"paper_bgcolor\":\"white\",\"plot_bgcolor\":\"white\",\"polar\":{\"angularaxis\":{\"gridcolor\":\"rgb(232,232,232)\",\"linecolor\":\"rgb(36,36,36)\",\"showgrid\":false,\"showline\":true,\"ticks\":\"outside\"},\"bgcolor\":\"white\",\"radialaxis\":{\"gridcolor\":\"rgb(232,232,232)\",\"linecolor\":\"rgb(36,36,36)\",\"showgrid\":false,\"showline\":true,\"ticks\":\"outside\"}},\"scene\":{\"xaxis\":{\"backgroundcolor\":\"white\",\"gridcolor\":\"rgb(232,232,232)\",\"gridwidth\":2,\"linecolor\":\"rgb(36,36,36)\",\"showbackground\":true,\"showgrid\":false,\"showline\":true,\"ticks\":\"outside\",\"zeroline\":false,\"zerolinecolor\":\"rgb(36,36,36)\"},\"yaxis\":{\"backgroundcolor\":\"white\",\"gridcolor\":\"rgb(232,232,232)\",\"gridwidth\":2,\"linecolor\":\"rgb(36,36,36)\",\"showbackground\":true,\"showgrid\":false,\"showline\":true,\"ticks\":\"outside\",\"zeroline\":false,\"zerolinecolor\":\"rgb(36,36,36)\"},\"zaxis\":{\"backgroundcolor\":\"white\",\"gridcolor\":\"rgb(232,232,232)\",\"gridwidth\":2,\"linecolor\":\"rgb(36,36,36)\",\"showbackground\":true,\"showgrid\":false,\"showline\":true,\"ticks\":\"outside\",\"zeroline\":false,\"zerolinecolor\":\"rgb(36,36,36)\"}},\"shapedefaults\":{\"fillcolor\":\"black\",\"line\":{\"width\":0},\"opacity\":0.3},\"ternary\":{\"aaxis\":{\"gridcolor\":\"rgb(232,232,232)\",\"linecolor\":\"rgb(36,36,36)\",\"showgrid\":false,\"showline\":true,\"ticks\":\"outside\"},\"baxis\":{\"gridcolor\":\"rgb(232,232,232)\",\"linecolor\":\"rgb(36,36,36)\",\"showgrid\":false,\"showline\":true,\"ticks\":\"outside\"},\"bgcolor\":\"white\",\"caxis\":{\"gridcolor\":\"rgb(232,232,232)\",\"linecolor\":\"rgb(36,36,36)\",\"showgrid\":false,\"showline\":true,\"ticks\":\"outside\"}},\"title\":{\"x\":0.05},\"xaxis\":{\"automargin\":true,\"gridcolor\":\"rgb(232,232,232)\",\"linecolor\":\"rgb(36,36,36)\",\"showgrid\":false,\"showline\":true,\"ticks\":\"outside\",\"title\":{\"standoff\":15},\"zeroline\":false,\"zerolinecolor\":\"rgb(36,36,36)\"},\"yaxis\":{\"automargin\":true,\"gridcolor\":\"rgb(232,232,232)\",\"linecolor\":\"rgb(36,36,36)\",\"showgrid\":false,\"showline\":true,\"ticks\":\"outside\",\"title\":{\"standoff\":15},\"zeroline\":false,\"zerolinecolor\":\"rgb(36,36,36)\"}}},\"xaxis\":{\"anchor\":\"y\",\"domain\":[0.0,1.0],\"title\":{\"text\":\"cell\"}},\"yaxis\":{\"anchor\":\"x\",\"domain\":[0.0,1.0],\"title\":{\"text\":\"Lane Identification\"},\"categoryorder\":\"array\",\"categoryarray\":[\"UNKNOWN\",\"U4\",\"U3\",\"U2\",\"U1\"]},\"coloraxis\":{\"colorbar\":{\"title\":{\"text\":\"count\"}},\"colorscale\":[[0.0,\"#00b0f0\"],[0.5,\"#ffff00\"],[1.0,\"#ff5050\"]],\"cmin\":0,\"cmax\":50},\"legend\":{\"tracegroupgap\":0},\"margin\":{\"t\":60},\"width\":1500,\"plot_bgcolor\":\"rgba(0, 0, 0, 0)\",\"paper_bgcolor\":\"rgba(0, 0, 0, 0)\"},                        {\"responsive\": true}                    ).then(function(){\n",
       "                            \n",
       "var gd = document.getElementById('ffc3ca1a-19e4-4bd8-8807-6fedd7e38f3e');\n",
       "var x = new MutationObserver(function (mutations, observer) {{\n",
       "        var display = window.getComputedStyle(gd).display;\n",
       "        if (!display || display === 'none') {{\n",
       "            console.log([gd, 'removed!']);\n",
       "            Plotly.purge(gd);\n",
       "            observer.disconnect();\n",
       "        }}\n",
       "}});\n",
       "\n",
       "// Listen for the removal of the full notebook cells\n",
       "var notebookContainer = gd.closest('#notebook-container');\n",
       "if (notebookContainer) {{\n",
       "    x.observe(notebookContainer, {childList: true});\n",
       "}}\n",
       "\n",
       "// Listen for the clearing of the current output cell\n",
       "var outputEl = gd.closest('.output');\n",
       "if (outputEl) {{\n",
       "    x.observe(outputEl, {childList: true});\n",
       "}}\n",
       "\n",
       "                        })                };                });            </script>        </div>"
      ]
     },
     "metadata": {},
     "output_type": "display_data"
    }
   ],
   "source": [
    "for file in file_list:\n",
    "    \n",
    "    file_path = os.path.join(data_dir, file) # 파일리스트의 파일별 경로 설정\n",
    "    df = pd.read_csv(file_path)\n",
    "    \n",
    "    df = df[(df['Lane Identification'] != 'UNKNOWN') & (df['Lane_change'] == 'Change')]\n",
    "    df['cell'] = df['Local X (m)'].apply(cell_num)\n",
    "    \n",
    "    cell_bin = int(df['cell'].max())\n",
    "\n",
    "    fig = px.density_heatmap(df,\n",
    "                             x = 'cell', y = 'Lane Identification', z = 'Lane_change', histfunc = 'count',\n",
    "                             color_continuous_scale = palette_ryb,\n",
    "                             range_color = [0, 50],\n",
    "                             nbinsx = cell_bin,\n",
    "                             category_orders = {'Lane Identification':['U1', 'U2', 'U3', 'U4', 'UNKNOWN']}, \n",
    "                             #nbinsx = binsx,\n",
    "                             template = 'simple_white',\n",
    "                             width = 1500,\n",
    "                             text_auto = True)\n",
    "\n",
    "    save_html_name = f'lanechange_count_{file[-10:-6]}.html'\n",
    "    save_html_path = os.path.join(save_dir, save_html_name)\n",
    "    \n",
    "    fig.write_html(file = save_html_path) # html Plotly 파일 저장\n",
    "    \n",
    "    \n",
    "    ### 글자 없는 것을 PNG 투명이미지로 저장\n",
    "    fig = px.density_heatmap(df,\n",
    "                             x = 'cell', y = 'Lane Identification', z = 'Lane_change', histfunc = 'count',\n",
    "                             color_continuous_scale = palette_ryb,\n",
    "                             range_color = [0, 50],\n",
    "                             nbinsx = cell_bin,\n",
    "                             category_orders = {'Lane Identification':['U1', 'U2', 'U3', 'U4', 'UNKNOWN']}, \n",
    "                             #nbinsx = binsx,\n",
    "                             template = 'simple_white',\n",
    "                             width = 1500)\n",
    "\n",
    "        \n",
    "    fig.update_layout({\n",
    "            'plot_bgcolor' : 'rgba(0, 0, 0, 0)',\n",
    "            'paper_bgcolor' : 'rgba(0, 0, 0, 0)'\n",
    "        })\n",
    "        \n",
    "    save_png_name = f'lanechange_count_{file[-10:-6]}.png'\n",
    "    save_png_path = os.path.join(save_dir, save_png_name)        \n",
    "        \n",
    "    fig.write_image(save_png_path)\n",
    "    \n",
    "fig.show()"
   ]
  }
 ],
 "metadata": {
  "kernelspec": {
   "display_name": "Python 3",
   "language": "python",
   "name": "python3"
  },
  "language_info": {
   "codemirror_mode": {
    "name": "ipython",
    "version": 3
   },
   "file_extension": ".py",
   "mimetype": "text/x-python",
   "name": "python",
   "nbconvert_exporter": "python",
   "pygments_lexer": "ipython3",
   "version": "3.8.8"
  }
 },
 "nbformat": 4,
 "nbformat_minor": 5
}
