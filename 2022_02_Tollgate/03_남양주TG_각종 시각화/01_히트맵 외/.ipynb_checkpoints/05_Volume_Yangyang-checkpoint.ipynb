{
 "cells": [
  {
   "cell_type": "markdown",
   "id": "3569fd0f-8e29-44bc-b46d-2bd584ecd0e8",
   "metadata": {},
   "source": [
    "# 구간별 교통량 : 남양주TG, 서울방향\n",
    "* cell별 지나간 차량대수"
   ]
  },
  {
   "cell_type": "markdown",
   "id": "c77f1279-3dca-4d40-8ad9-028af5561746",
   "metadata": {},
   "source": [
    "# Imports"
   ]
  },
  {
   "cell_type": "code",
   "execution_count": 23,
   "id": "fe714467-2339-4f66-bdcb-39b476f485f8",
   "metadata": {
    "execution": {
     "iopub.execute_input": "2022-09-14T13:00:09.341621Z",
     "iopub.status.busy": "2022-09-14T13:00:09.340395Z",
     "iopub.status.idle": "2022-09-14T13:00:09.367298Z",
     "shell.execute_reply": "2022-09-14T13:00:09.366300Z",
     "shell.execute_reply.started": "2022-09-14T13:00:09.341621Z"
    },
    "tags": []
   },
   "outputs": [],
   "source": [
    "import numpy as np\n",
    "import pandas as pd\n",
    "import math\n",
    "import os\n",
    "\n",
    "from tqdm import tqdm\n",
    "\n",
    "import plotly.express as px\n",
    "import plotly.graph_objects as go\n",
    "from plotly.subplots import make_subplots"
   ]
  },
  {
   "cell_type": "markdown",
   "id": "ab751906-edf5-4be7-8bf8-d631577ccf23",
   "metadata": {},
   "source": [
    "# Load Dataset"
   ]
  },
  {
   "cell_type": "code",
   "execution_count": 24,
   "id": "1710905e-7f35-480e-b7c0-e2e208cd6b9c",
   "metadata": {
    "execution": {
     "iopub.execute_input": "2022-09-14T13:00:09.368290Z",
     "iopub.status.busy": "2022-09-14T13:00:09.368290Z",
     "iopub.status.idle": "2022-09-14T13:00:09.381856Z",
     "shell.execute_reply": "2022-09-14T13:00:09.380854Z",
     "shell.execute_reply.started": "2022-09-14T13:00:09.368290Z"
    },
    "tags": []
   },
   "outputs": [],
   "source": [
    "data_dir = 'D:/OneDrive - 연세대학교 (Yonsei University)/Projects/Yonsei_TELab/003_도로상충_210517-/2차년도_2022/27_남양주영업소_드론영상분석/양양방향/01_density_by_target_LOS_concated_lanechange'"
   ]
  },
  {
   "cell_type": "code",
   "execution_count": 25,
   "id": "d84477d8-e1ca-4314-a1f6-354b3c20f8ae",
   "metadata": {
    "execution": {
     "iopub.execute_input": "2022-09-14T13:00:09.385845Z",
     "iopub.status.busy": "2022-09-14T13:00:09.384847Z",
     "iopub.status.idle": "2022-09-14T13:00:09.399139Z",
     "shell.execute_reply": "2022-09-14T13:00:09.397613Z",
     "shell.execute_reply.started": "2022-09-14T13:00:09.385845Z"
    },
    "tags": []
   },
   "outputs": [],
   "source": [
    "save_dir = 'D:/OneDrive - 연세대학교 (Yonsei University)/Projects/Yonsei_TELab/003_도로상충_210517-/2차년도_2022/35_22-9차 회의 준비/11_남양주TG_구간별 차로변경횟수 및 교통량/구간별 교통량/양양방향'"
   ]
  },
  {
   "cell_type": "code",
   "execution_count": 26,
   "id": "c69a5937-5391-41dc-b2f0-28e574b0fcb8",
   "metadata": {
    "execution": {
     "iopub.execute_input": "2022-09-14T13:00:09.403522Z",
     "iopub.status.busy": "2022-09-14T13:00:09.402522Z",
     "iopub.status.idle": "2022-09-14T13:00:09.413067Z",
     "shell.execute_reply": "2022-09-14T13:00:09.412069Z",
     "shell.execute_reply.started": "2022-09-14T13:00:09.403522Z"
    },
    "tags": []
   },
   "outputs": [
    {
     "name": "stdout",
     "output_type": "stream",
     "text": [
      "['04_1_A.csv', '04_2_A.csv']\n"
     ]
    }
   ],
   "source": [
    "file_list = os.listdir(data_dir)\n",
    "file_list = file_list[3:]\n",
    "print(file_list)"
   ]
  },
  {
   "cell_type": "markdown",
   "id": "155c9ed9-432d-4e3b-82eb-cc8897727463",
   "metadata": {},
   "source": [
    "# Color Palette\n",
    "`px.colors.sequential.Viridis`"
   ]
  },
  {
   "cell_type": "code",
   "execution_count": 27,
   "id": "2abb26cc-bb5e-493b-a320-8e97fafef4e0",
   "metadata": {
    "execution": {
     "iopub.execute_input": "2022-09-14T13:00:09.415066Z",
     "iopub.status.busy": "2022-09-14T13:00:09.414066Z",
     "iopub.status.idle": "2022-09-14T13:00:09.429391Z",
     "shell.execute_reply": "2022-09-14T13:00:09.427398Z",
     "shell.execute_reply.started": "2022-09-14T13:00:09.415066Z"
    },
    "tags": []
   },
   "outputs": [],
   "source": [
    "palette_ryb = ['#00b0f0', '#ffff00', '#ff5050'] # 엇갈림구간 프로젝트의 그 삼색팔레트 : 파랑-노랑-빨강"
   ]
  },
  {
   "cell_type": "code",
   "execution_count": 28,
   "id": "a2aa41f0-f23c-4de7-aff9-7e2f57075b6c",
   "metadata": {
    "execution": {
     "iopub.execute_input": "2022-09-14T13:00:09.430799Z",
     "iopub.status.busy": "2022-09-14T13:00:09.430799Z",
     "iopub.status.idle": "2022-09-14T13:00:09.444767Z",
     "shell.execute_reply": "2022-09-14T13:00:09.442771Z",
     "shell.execute_reply.started": "2022-09-14T13:00:09.430799Z"
    },
    "tags": []
   },
   "outputs": [],
   "source": [
    "palette_redwhite = ['#ffffff', '#ff0000']"
   ]
  },
  {
   "cell_type": "code",
   "execution_count": 29,
   "id": "de6e4bdd-283b-44bb-b813-5a01d2e35749",
   "metadata": {
    "execution": {
     "iopub.execute_input": "2022-09-14T13:00:09.449269Z",
     "iopub.status.busy": "2022-09-14T13:00:09.447759Z",
     "iopub.status.idle": "2022-09-14T13:00:09.459288Z",
     "shell.execute_reply": "2022-09-14T13:00:09.458280Z",
     "shell.execute_reply.started": "2022-09-14T13:00:09.449269Z"
    },
    "tags": []
   },
   "outputs": [],
   "source": [
    "palette_bluewhite = ['#ffffff', '#0054ff']"
   ]
  },
  {
   "cell_type": "code",
   "execution_count": 30,
   "id": "6def4539-b87e-4d90-9a5c-0b675982cefc",
   "metadata": {
    "execution": {
     "iopub.execute_input": "2022-09-14T13:00:09.461337Z",
     "iopub.status.busy": "2022-09-14T13:00:09.460335Z",
     "iopub.status.idle": "2022-09-14T13:00:09.474462Z",
     "shell.execute_reply": "2022-09-14T13:00:09.473464Z",
     "shell.execute_reply.started": "2022-09-14T13:00:09.461337Z"
    },
    "tags": []
   },
   "outputs": [],
   "source": [
    "palette_whitered = ['#ff0000', '#ffffff']"
   ]
  },
  {
   "cell_type": "code",
   "execution_count": 31,
   "id": "4fa0574d-8bca-4465-b6e6-cb9934a4ef3a",
   "metadata": {
    "execution": {
     "iopub.execute_input": "2022-09-14T13:00:09.476456Z",
     "iopub.status.busy": "2022-09-14T13:00:09.476456Z",
     "iopub.status.idle": "2022-09-14T13:00:09.491383Z",
     "shell.execute_reply": "2022-09-14T13:00:09.489369Z",
     "shell.execute_reply.started": "2022-09-14T13:00:09.476456Z"
    },
    "tags": []
   },
   "outputs": [],
   "source": [
    "palette_whiteblue = ['#0054ff', '#ffffff']"
   ]
  },
  {
   "cell_type": "code",
   "execution_count": 32,
   "id": "a1aa0c47-978c-41f4-b4d4-923a82382a45",
   "metadata": {
    "execution": {
     "iopub.execute_input": "2022-09-14T13:00:09.493376Z",
     "iopub.status.busy": "2022-09-14T13:00:09.493376Z",
     "iopub.status.idle": "2022-09-14T13:00:09.505462Z",
     "shell.execute_reply": "2022-09-14T13:00:09.504464Z",
     "shell.execute_reply.started": "2022-09-14T13:00:09.493376Z"
    },
    "tags": []
   },
   "outputs": [],
   "source": [
    "def cell_num(x):\n",
    "    \"\"\"x 좌표를 바탕으로 소속 셀 영역 알려줌\"\"\"\n",
    "    \n",
    "    cell = x//20\n",
    "    \n",
    "    return cell"
   ]
  },
  {
   "cell_type": "markdown",
   "id": "ec245379-bd17-43b9-9f76-8e838d3d5161",
   "metadata": {},
   "source": [
    "# Draw it"
   ]
  },
  {
   "cell_type": "markdown",
   "id": "efa085c3-aea3-4029-9538-362c8001b98c",
   "metadata": {},
   "source": [
    "## 구간별 교통량"
   ]
  },
  {
   "cell_type": "code",
   "execution_count": 33,
   "id": "cb855529-b77a-45a4-8245-039822f8eddb",
   "metadata": {
    "execution": {
     "iopub.execute_input": "2022-09-14T13:00:09.508453Z",
     "iopub.status.busy": "2022-09-14T13:00:09.507456Z",
     "iopub.status.idle": "2022-09-14T13:00:09.521118Z",
     "shell.execute_reply": "2022-09-14T13:00:09.519721Z",
     "shell.execute_reply.started": "2022-09-14T13:00:09.508453Z"
    },
    "tags": []
   },
   "outputs": [],
   "source": [
    "def df_to_plotly(df):\n",
    "    return {'z': df.values.tolist(),\n",
    "            'y': df['Lane Identification'].tolist(),\n",
    "            'x': df.columns.tolist()}"
   ]
  },
  {
   "cell_type": "code",
   "execution_count": 34,
   "id": "a882d0b5-c5b9-455a-8923-547d979ebec8",
   "metadata": {
    "execution": {
     "iopub.execute_input": "2022-09-14T13:00:09.523119Z",
     "iopub.status.busy": "2022-09-14T13:00:09.522124Z",
     "iopub.status.idle": "2022-09-14T13:00:10.037303Z",
     "shell.execute_reply": "2022-09-14T13:00:10.036317Z",
     "shell.execute_reply.started": "2022-09-14T13:00:09.523119Z"
    },
    "tags": []
   },
   "outputs": [
    {
     "data": {
      "application/vnd.plotly.v1+json": {
       "config": {
        "plotlyServerURL": "https://plot.ly"
       },
       "data": [
        {
         "colorscale": [
          [
           0,
           "#00b0f0"
          ],
          [
           0.5,
           "#ffff00"
          ],
          [
           1,
           "#ff5050"
          ]
         ],
         "type": "heatmap",
         "x": [
          "Lane Identification",
          1,
          2,
          3,
          4,
          5,
          6,
          7,
          8,
          9,
          10,
          11,
          12,
          13
         ],
         "y": [
          "U1",
          "U2",
          "U3",
          "U4"
         ],
         "z": [
          [
           "U1",
           2,
           28,
           35,
           33,
           35,
           33,
           35,
           34,
           35,
           36,
           36,
           34,
           3
          ],
          [
           "U2",
           null,
           27,
           37,
           32,
           29,
           24,
           19,
           14,
           16,
           15,
           11,
           14,
           3
          ],
          [
           "U3",
           null,
           null,
           3,
           11,
           13,
           18,
           23,
           23,
           20,
           19,
           19,
           20,
           2
          ],
          [
           "U4",
           null,
           null,
           null,
           null,
           null,
           1,
           4,
           6,
           10,
           11,
           10,
           9,
           1
          ]
         ],
         "zmax": 500,
         "zmin": 0
        }
       ],
       "layout": {
        "autosize": true,
        "paper_bgcolor": "rgba(0, 0, 0, 0)",
        "plot_bgcolor": "rgba(0, 0, 0, 0)",
        "template": {
         "data": {
          "bar": [
           {
            "error_x": {
             "color": "#2a3f5f"
            },
            "error_y": {
             "color": "#2a3f5f"
            },
            "marker": {
             "line": {
              "color": "#E5ECF6",
              "width": 0.5
             },
             "pattern": {
              "fillmode": "overlay",
              "size": 10,
              "solidity": 0.2
             }
            },
            "type": "bar"
           }
          ],
          "barpolar": [
           {
            "marker": {
             "line": {
              "color": "#E5ECF6",
              "width": 0.5
             },
             "pattern": {
              "fillmode": "overlay",
              "size": 10,
              "solidity": 0.2
             }
            },
            "type": "barpolar"
           }
          ],
          "carpet": [
           {
            "aaxis": {
             "endlinecolor": "#2a3f5f",
             "gridcolor": "white",
             "linecolor": "white",
             "minorgridcolor": "white",
             "startlinecolor": "#2a3f5f"
            },
            "baxis": {
             "endlinecolor": "#2a3f5f",
             "gridcolor": "white",
             "linecolor": "white",
             "minorgridcolor": "white",
             "startlinecolor": "#2a3f5f"
            },
            "type": "carpet"
           }
          ],
          "choropleth": [
           {
            "colorbar": {
             "outlinewidth": 0,
             "ticks": ""
            },
            "type": "choropleth"
           }
          ],
          "contour": [
           {
            "colorbar": {
             "outlinewidth": 0,
             "ticks": ""
            },
            "colorscale": [
             [
              0,
              "#0d0887"
             ],
             [
              0.1111111111111111,
              "#46039f"
             ],
             [
              0.2222222222222222,
              "#7201a8"
             ],
             [
              0.3333333333333333,
              "#9c179e"
             ],
             [
              0.4444444444444444,
              "#bd3786"
             ],
             [
              0.5555555555555556,
              "#d8576b"
             ],
             [
              0.6666666666666666,
              "#ed7953"
             ],
             [
              0.7777777777777778,
              "#fb9f3a"
             ],
             [
              0.8888888888888888,
              "#fdca26"
             ],
             [
              1,
              "#f0f921"
             ]
            ],
            "type": "contour"
           }
          ],
          "contourcarpet": [
           {
            "colorbar": {
             "outlinewidth": 0,
             "ticks": ""
            },
            "type": "contourcarpet"
           }
          ],
          "heatmap": [
           {
            "colorbar": {
             "outlinewidth": 0,
             "ticks": ""
            },
            "colorscale": [
             [
              0,
              "#0d0887"
             ],
             [
              0.1111111111111111,
              "#46039f"
             ],
             [
              0.2222222222222222,
              "#7201a8"
             ],
             [
              0.3333333333333333,
              "#9c179e"
             ],
             [
              0.4444444444444444,
              "#bd3786"
             ],
             [
              0.5555555555555556,
              "#d8576b"
             ],
             [
              0.6666666666666666,
              "#ed7953"
             ],
             [
              0.7777777777777778,
              "#fb9f3a"
             ],
             [
              0.8888888888888888,
              "#fdca26"
             ],
             [
              1,
              "#f0f921"
             ]
            ],
            "type": "heatmap"
           }
          ],
          "heatmapgl": [
           {
            "colorbar": {
             "outlinewidth": 0,
             "ticks": ""
            },
            "colorscale": [
             [
              0,
              "#0d0887"
             ],
             [
              0.1111111111111111,
              "#46039f"
             ],
             [
              0.2222222222222222,
              "#7201a8"
             ],
             [
              0.3333333333333333,
              "#9c179e"
             ],
             [
              0.4444444444444444,
              "#bd3786"
             ],
             [
              0.5555555555555556,
              "#d8576b"
             ],
             [
              0.6666666666666666,
              "#ed7953"
             ],
             [
              0.7777777777777778,
              "#fb9f3a"
             ],
             [
              0.8888888888888888,
              "#fdca26"
             ],
             [
              1,
              "#f0f921"
             ]
            ],
            "type": "heatmapgl"
           }
          ],
          "histogram": [
           {
            "marker": {
             "pattern": {
              "fillmode": "overlay",
              "size": 10,
              "solidity": 0.2
             }
            },
            "type": "histogram"
           }
          ],
          "histogram2d": [
           {
            "colorbar": {
             "outlinewidth": 0,
             "ticks": ""
            },
            "colorscale": [
             [
              0,
              "#0d0887"
             ],
             [
              0.1111111111111111,
              "#46039f"
             ],
             [
              0.2222222222222222,
              "#7201a8"
             ],
             [
              0.3333333333333333,
              "#9c179e"
             ],
             [
              0.4444444444444444,
              "#bd3786"
             ],
             [
              0.5555555555555556,
              "#d8576b"
             ],
             [
              0.6666666666666666,
              "#ed7953"
             ],
             [
              0.7777777777777778,
              "#fb9f3a"
             ],
             [
              0.8888888888888888,
              "#fdca26"
             ],
             [
              1,
              "#f0f921"
             ]
            ],
            "type": "histogram2d"
           }
          ],
          "histogram2dcontour": [
           {
            "colorbar": {
             "outlinewidth": 0,
             "ticks": ""
            },
            "colorscale": [
             [
              0,
              "#0d0887"
             ],
             [
              0.1111111111111111,
              "#46039f"
             ],
             [
              0.2222222222222222,
              "#7201a8"
             ],
             [
              0.3333333333333333,
              "#9c179e"
             ],
             [
              0.4444444444444444,
              "#bd3786"
             ],
             [
              0.5555555555555556,
              "#d8576b"
             ],
             [
              0.6666666666666666,
              "#ed7953"
             ],
             [
              0.7777777777777778,
              "#fb9f3a"
             ],
             [
              0.8888888888888888,
              "#fdca26"
             ],
             [
              1,
              "#f0f921"
             ]
            ],
            "type": "histogram2dcontour"
           }
          ],
          "mesh3d": [
           {
            "colorbar": {
             "outlinewidth": 0,
             "ticks": ""
            },
            "type": "mesh3d"
           }
          ],
          "parcoords": [
           {
            "line": {
             "colorbar": {
              "outlinewidth": 0,
              "ticks": ""
             }
            },
            "type": "parcoords"
           }
          ],
          "pie": [
           {
            "automargin": true,
            "type": "pie"
           }
          ],
          "scatter": [
           {
            "marker": {
             "colorbar": {
              "outlinewidth": 0,
              "ticks": ""
             }
            },
            "type": "scatter"
           }
          ],
          "scatter3d": [
           {
            "line": {
             "colorbar": {
              "outlinewidth": 0,
              "ticks": ""
             }
            },
            "marker": {
             "colorbar": {
              "outlinewidth": 0,
              "ticks": ""
             }
            },
            "type": "scatter3d"
           }
          ],
          "scattercarpet": [
           {
            "marker": {
             "colorbar": {
              "outlinewidth": 0,
              "ticks": ""
             }
            },
            "type": "scattercarpet"
           }
          ],
          "scattergeo": [
           {
            "marker": {
             "colorbar": {
              "outlinewidth": 0,
              "ticks": ""
             }
            },
            "type": "scattergeo"
           }
          ],
          "scattergl": [
           {
            "marker": {
             "colorbar": {
              "outlinewidth": 0,
              "ticks": ""
             }
            },
            "type": "scattergl"
           }
          ],
          "scattermapbox": [
           {
            "marker": {
             "colorbar": {
              "outlinewidth": 0,
              "ticks": ""
             }
            },
            "type": "scattermapbox"
           }
          ],
          "scatterpolar": [
           {
            "marker": {
             "colorbar": {
              "outlinewidth": 0,
              "ticks": ""
             }
            },
            "type": "scatterpolar"
           }
          ],
          "scatterpolargl": [
           {
            "marker": {
             "colorbar": {
              "outlinewidth": 0,
              "ticks": ""
             }
            },
            "type": "scatterpolargl"
           }
          ],
          "scatterternary": [
           {
            "marker": {
             "colorbar": {
              "outlinewidth": 0,
              "ticks": ""
             }
            },
            "type": "scatterternary"
           }
          ],
          "surface": [
           {
            "colorbar": {
             "outlinewidth": 0,
             "ticks": ""
            },
            "colorscale": [
             [
              0,
              "#0d0887"
             ],
             [
              0.1111111111111111,
              "#46039f"
             ],
             [
              0.2222222222222222,
              "#7201a8"
             ],
             [
              0.3333333333333333,
              "#9c179e"
             ],
             [
              0.4444444444444444,
              "#bd3786"
             ],
             [
              0.5555555555555556,
              "#d8576b"
             ],
             [
              0.6666666666666666,
              "#ed7953"
             ],
             [
              0.7777777777777778,
              "#fb9f3a"
             ],
             [
              0.8888888888888888,
              "#fdca26"
             ],
             [
              1,
              "#f0f921"
             ]
            ],
            "type": "surface"
           }
          ],
          "table": [
           {
            "cells": {
             "fill": {
              "color": "#EBF0F8"
             },
             "line": {
              "color": "white"
             }
            },
            "header": {
             "fill": {
              "color": "#C8D4E3"
             },
             "line": {
              "color": "white"
             }
            },
            "type": "table"
           }
          ]
         },
         "layout": {
          "annotationdefaults": {
           "arrowcolor": "#2a3f5f",
           "arrowhead": 0,
           "arrowwidth": 1
          },
          "autotypenumbers": "strict",
          "coloraxis": {
           "colorbar": {
            "outlinewidth": 0,
            "ticks": ""
           }
          },
          "colorscale": {
           "diverging": [
            [
             0,
             "#8e0152"
            ],
            [
             0.1,
             "#c51b7d"
            ],
            [
             0.2,
             "#de77ae"
            ],
            [
             0.3,
             "#f1b6da"
            ],
            [
             0.4,
             "#fde0ef"
            ],
            [
             0.5,
             "#f7f7f7"
            ],
            [
             0.6,
             "#e6f5d0"
            ],
            [
             0.7,
             "#b8e186"
            ],
            [
             0.8,
             "#7fbc41"
            ],
            [
             0.9,
             "#4d9221"
            ],
            [
             1,
             "#276419"
            ]
           ],
           "sequential": [
            [
             0,
             "#0d0887"
            ],
            [
             0.1111111111111111,
             "#46039f"
            ],
            [
             0.2222222222222222,
             "#7201a8"
            ],
            [
             0.3333333333333333,
             "#9c179e"
            ],
            [
             0.4444444444444444,
             "#bd3786"
            ],
            [
             0.5555555555555556,
             "#d8576b"
            ],
            [
             0.6666666666666666,
             "#ed7953"
            ],
            [
             0.7777777777777778,
             "#fb9f3a"
            ],
            [
             0.8888888888888888,
             "#fdca26"
            ],
            [
             1,
             "#f0f921"
            ]
           ],
           "sequentialminus": [
            [
             0,
             "#0d0887"
            ],
            [
             0.1111111111111111,
             "#46039f"
            ],
            [
             0.2222222222222222,
             "#7201a8"
            ],
            [
             0.3333333333333333,
             "#9c179e"
            ],
            [
             0.4444444444444444,
             "#bd3786"
            ],
            [
             0.5555555555555556,
             "#d8576b"
            ],
            [
             0.6666666666666666,
             "#ed7953"
            ],
            [
             0.7777777777777778,
             "#fb9f3a"
            ],
            [
             0.8888888888888888,
             "#fdca26"
            ],
            [
             1,
             "#f0f921"
            ]
           ]
          },
          "colorway": [
           "#636efa",
           "#EF553B",
           "#00cc96",
           "#ab63fa",
           "#FFA15A",
           "#19d3f3",
           "#FF6692",
           "#B6E880",
           "#FF97FF",
           "#FECB52"
          ],
          "font": {
           "color": "#2a3f5f"
          },
          "geo": {
           "bgcolor": "white",
           "lakecolor": "white",
           "landcolor": "#E5ECF6",
           "showlakes": true,
           "showland": true,
           "subunitcolor": "white"
          },
          "hoverlabel": {
           "align": "left"
          },
          "hovermode": "closest",
          "mapbox": {
           "style": "light"
          },
          "paper_bgcolor": "white",
          "plot_bgcolor": "#E5ECF6",
          "polar": {
           "angularaxis": {
            "gridcolor": "white",
            "linecolor": "white",
            "ticks": ""
           },
           "bgcolor": "#E5ECF6",
           "radialaxis": {
            "gridcolor": "white",
            "linecolor": "white",
            "ticks": ""
           }
          },
          "scene": {
           "xaxis": {
            "backgroundcolor": "#E5ECF6",
            "gridcolor": "white",
            "gridwidth": 2,
            "linecolor": "white",
            "showbackground": true,
            "ticks": "",
            "zerolinecolor": "white"
           },
           "yaxis": {
            "backgroundcolor": "#E5ECF6",
            "gridcolor": "white",
            "gridwidth": 2,
            "linecolor": "white",
            "showbackground": true,
            "ticks": "",
            "zerolinecolor": "white"
           },
           "zaxis": {
            "backgroundcolor": "#E5ECF6",
            "gridcolor": "white",
            "gridwidth": 2,
            "linecolor": "white",
            "showbackground": true,
            "ticks": "",
            "zerolinecolor": "white"
           }
          },
          "shapedefaults": {
           "line": {
            "color": "#2a3f5f"
           }
          },
          "ternary": {
           "aaxis": {
            "gridcolor": "white",
            "linecolor": "white",
            "ticks": ""
           },
           "baxis": {
            "gridcolor": "white",
            "linecolor": "white",
            "ticks": ""
           },
           "bgcolor": "#E5ECF6",
           "caxis": {
            "gridcolor": "white",
            "linecolor": "white",
            "ticks": ""
           }
          },
          "title": {
           "x": 0.05
          },
          "xaxis": {
           "automargin": true,
           "gridcolor": "white",
           "linecolor": "white",
           "ticks": "",
           "title": {
            "standoff": 15
           },
           "zerolinecolor": "white",
           "zerolinewidth": 2
          },
          "yaxis": {
           "automargin": true,
           "gridcolor": "white",
           "linecolor": "white",
           "ticks": "",
           "title": {
            "standoff": 15
           },
           "zerolinecolor": "white",
           "zerolinewidth": 2
          }
         }
        },
        "xaxis": {
         "autorange": true,
         "range": [
          1.5,
          13.5
         ],
         "type": "linear"
        },
        "yaxis": {
         "autorange": true,
         "range": [
          -0.5,
          3.5
         ],
         "type": "category"
        }
       }
      },
      "image/png": "[encoded data removed]",
      "text/html": [
       "<div>                            <div id=\"42f3785f-2321-45ed-9c07-f7efb6b3c7f5\" class=\"plotly-graph-div\" style=\"height:525px; width:100%;\"></div>            <script type=\"text/javascript\">                require([\"plotly\"], function(Plotly) {                    window.PLOTLYENV=window.PLOTLYENV || {};                                    if (document.getElementById(\"42f3785f-2321-45ed-9c07-f7efb6b3c7f5\")) {                    Plotly.newPlot(                        \"42f3785f-2321-45ed-9c07-f7efb6b3c7f5\",                        [{\"colorscale\":[[0.0,\"#00b0f0\"],[0.5,\"#ffff00\"],[1.0,\"#ff5050\"]],\"x\":[\"Lane Identification\",1.0,2.0,3.0,4.0,5.0,6.0,7.0,8.0,9.0,10.0,11.0,12.0,13.0],\"y\":[\"U1\",\"U2\",\"U3\",\"U4\"],\"z\":[[\"U1\",2.0,28.0,35.0,33.0,35.0,33.0,35.0,34.0,35.0,36.0,36.0,34.0,3.0],[\"U2\",null,27.0,37.0,32.0,29.0,24.0,19.0,14.0,16.0,15.0,11.0,14.0,3.0],[\"U3\",null,null,3.0,11.0,13.0,18.0,23.0,23.0,20.0,19.0,19.0,20.0,2.0],[\"U4\",null,null,null,null,null,1.0,4.0,6.0,10.0,11.0,10.0,9.0,1.0]],\"zmax\":500,\"zmin\":0,\"type\":\"heatmap\"}],                        {\"template\":{\"data\":{\"bar\":[{\"error_x\":{\"color\":\"#2a3f5f\"},\"error_y\":{\"color\":\"#2a3f5f\"},\"marker\":{\"line\":{\"color\":\"#E5ECF6\",\"width\":0.5},\"pattern\":{\"fillmode\":\"overlay\",\"size\":10,\"solidity\":0.2}},\"type\":\"bar\"}],\"barpolar\":[{\"marker\":{\"line\":{\"color\":\"#E5ECF6\",\"width\":0.5},\"pattern\":{\"fillmode\":\"overlay\",\"size\":10,\"solidity\":0.2}},\"type\":\"barpolar\"}],\"carpet\":[{\"aaxis\":{\"endlinecolor\":\"#2a3f5f\",\"gridcolor\":\"white\",\"linecolor\":\"white\",\"minorgridcolor\":\"white\",\"startlinecolor\":\"#2a3f5f\"},\"baxis\":{\"endlinecolor\":\"#2a3f5f\",\"gridcolor\":\"white\",\"linecolor\":\"white\",\"minorgridcolor\":\"white\",\"startlinecolor\":\"#2a3f5f\"},\"type\":\"carpet\"}],\"choropleth\":[{\"colorbar\":{\"outlinewidth\":0,\"ticks\":\"\"},\"type\":\"choropleth\"}],\"contour\":[{\"colorbar\":{\"outlinewidth\":0,\"ticks\":\"\"},\"colorscale\":[[0.0,\"#0d0887\"],[0.1111111111111111,\"#46039f\"],[0.2222222222222222,\"#7201a8\"],[0.3333333333333333,\"#9c179e\"],[0.4444444444444444,\"#bd3786\"],[0.5555555555555556,\"#d8576b\"],[0.6666666666666666,\"#ed7953\"],[0.7777777777777778,\"#fb9f3a\"],[0.8888888888888888,\"#fdca26\"],[1.0,\"#f0f921\"]],\"type\":\"contour\"}],\"contourcarpet\":[{\"colorbar\":{\"outlinewidth\":0,\"ticks\":\"\"},\"type\":\"contourcarpet\"}],\"heatmap\":[{\"colorbar\":{\"outlinewidth\":0,\"ticks\":\"\"},\"colorscale\":[[0.0,\"#0d0887\"],[0.1111111111111111,\"#46039f\"],[0.2222222222222222,\"#7201a8\"],[0.3333333333333333,\"#9c179e\"],[0.4444444444444444,\"#bd3786\"],[0.5555555555555556,\"#d8576b\"],[0.6666666666666666,\"#ed7953\"],[0.7777777777777778,\"#fb9f3a\"],[0.8888888888888888,\"#fdca26\"],[1.0,\"#f0f921\"]],\"type\":\"heatmap\"}],\"heatmapgl\":[{\"colorbar\":{\"outlinewidth\":0,\"ticks\":\"\"},\"colorscale\":[[0.0,\"#0d0887\"],[0.1111111111111111,\"#46039f\"],[0.2222222222222222,\"#7201a8\"],[0.3333333333333333,\"#9c179e\"],[0.4444444444444444,\"#bd3786\"],[0.5555555555555556,\"#d8576b\"],[0.6666666666666666,\"#ed7953\"],[0.7777777777777778,\"#fb9f3a\"],[0.8888888888888888,\"#fdca26\"],[1.0,\"#f0f921\"]],\"type\":\"heatmapgl\"}],\"histogram\":[{\"marker\":{\"pattern\":{\"fillmode\":\"overlay\",\"size\":10,\"solidity\":0.2}},\"type\":\"histogram\"}],\"histogram2d\":[{\"colorbar\":{\"outlinewidth\":0,\"ticks\":\"\"},\"colorscale\":[[0.0,\"#0d0887\"],[0.1111111111111111,\"#46039f\"],[0.2222222222222222,\"#7201a8\"],[0.3333333333333333,\"#9c179e\"],[0.4444444444444444,\"#bd3786\"],[0.5555555555555556,\"#d8576b\"],[0.6666666666666666,\"#ed7953\"],[0.7777777777777778,\"#fb9f3a\"],[0.8888888888888888,\"#fdca26\"],[1.0,\"#f0f921\"]],\"type\":\"histogram2d\"}],\"histogram2dcontour\":[{\"colorbar\":{\"outlinewidth\":0,\"ticks\":\"\"},\"colorscale\":[[0.0,\"#0d0887\"],[0.1111111111111111,\"#46039f\"],[0.2222222222222222,\"#7201a8\"],[0.3333333333333333,\"#9c179e\"],[0.4444444444444444,\"#bd3786\"],[0.5555555555555556,\"#d8576b\"],[0.6666666666666666,\"#ed7953\"],[0.7777777777777778,\"#fb9f3a\"],[0.8888888888888888,\"#fdca26\"],[1.0,\"#f0f921\"]],\"type\":\"histogram2dcontour\"}],\"mesh3d\":[{\"colorbar\":{\"outlinewidth\":0,\"ticks\":\"\"},\"type\":\"mesh3d\"}],\"parcoords\":[{\"line\":{\"colorbar\":{\"outlinewidth\":0,\"ticks\":\"\"}},\"type\":\"parcoords\"}],\"pie\":[{\"automargin\":true,\"type\":\"pie\"}],\"scatter\":[{\"marker\":{\"colorbar\":{\"outlinewidth\":0,\"ticks\":\"\"}},\"type\":\"scatter\"}],\"scatter3d\":[{\"line\":{\"colorbar\":{\"outlinewidth\":0,\"ticks\":\"\"}},\"marker\":{\"colorbar\":{\"outlinewidth\":0,\"ticks\":\"\"}},\"type\":\"scatter3d\"}],\"scattercarpet\":[{\"marker\":{\"colorbar\":{\"outlinewidth\":0,\"ticks\":\"\"}},\"type\":\"scattercarpet\"}],\"scattergeo\":[{\"marker\":{\"colorbar\":{\"outlinewidth\":0,\"ticks\":\"\"}},\"type\":\"scattergeo\"}],\"scattergl\":[{\"marker\":{\"colorbar\":{\"outlinewidth\":0,\"ticks\":\"\"}},\"type\":\"scattergl\"}],\"scattermapbox\":[{\"marker\":{\"colorbar\":{\"outlinewidth\":0,\"ticks\":\"\"}},\"type\":\"scattermapbox\"}],\"scatterpolar\":[{\"marker\":{\"colorbar\":{\"outlinewidth\":0,\"ticks\":\"\"}},\"type\":\"scatterpolar\"}],\"scatterpolargl\":[{\"marker\":{\"colorbar\":{\"outlinewidth\":0,\"ticks\":\"\"}},\"type\":\"scatterpolargl\"}],\"scatterternary\":[{\"marker\":{\"colorbar\":{\"outlinewidth\":0,\"ticks\":\"\"}},\"type\":\"scatterternary\"}],\"surface\":[{\"colorbar\":{\"outlinewidth\":0,\"ticks\":\"\"},\"colorscale\":[[0.0,\"#0d0887\"],[0.1111111111111111,\"#46039f\"],[0.2222222222222222,\"#7201a8\"],[0.3333333333333333,\"#9c179e\"],[0.4444444444444444,\"#bd3786\"],[0.5555555555555556,\"#d8576b\"],[0.6666666666666666,\"#ed7953\"],[0.7777777777777778,\"#fb9f3a\"],[0.8888888888888888,\"#fdca26\"],[1.0,\"#f0f921\"]],\"type\":\"surface\"}],\"table\":[{\"cells\":{\"fill\":{\"color\":\"#EBF0F8\"},\"line\":{\"color\":\"white\"}},\"header\":{\"fill\":{\"color\":\"#C8D4E3\"},\"line\":{\"color\":\"white\"}},\"type\":\"table\"}]},\"layout\":{\"annotationdefaults\":{\"arrowcolor\":\"#2a3f5f\",\"arrowhead\":0,\"arrowwidth\":1},\"autotypenumbers\":\"strict\",\"coloraxis\":{\"colorbar\":{\"outlinewidth\":0,\"ticks\":\"\"}},\"colorscale\":{\"diverging\":[[0,\"#8e0152\"],[0.1,\"#c51b7d\"],[0.2,\"#de77ae\"],[0.3,\"#f1b6da\"],[0.4,\"#fde0ef\"],[0.5,\"#f7f7f7\"],[0.6,\"#e6f5d0\"],[0.7,\"#b8e186\"],[0.8,\"#7fbc41\"],[0.9,\"#4d9221\"],[1,\"#276419\"]],\"sequential\":[[0.0,\"#0d0887\"],[0.1111111111111111,\"#46039f\"],[0.2222222222222222,\"#7201a8\"],[0.3333333333333333,\"#9c179e\"],[0.4444444444444444,\"#bd3786\"],[0.5555555555555556,\"#d8576b\"],[0.6666666666666666,\"#ed7953\"],[0.7777777777777778,\"#fb9f3a\"],[0.8888888888888888,\"#fdca26\"],[1.0,\"#f0f921\"]],\"sequentialminus\":[[0.0,\"#0d0887\"],[0.1111111111111111,\"#46039f\"],[0.2222222222222222,\"#7201a8\"],[0.3333333333333333,\"#9c179e\"],[0.4444444444444444,\"#bd3786\"],[0.5555555555555556,\"#d8576b\"],[0.6666666666666666,\"#ed7953\"],[0.7777777777777778,\"#fb9f3a\"],[0.8888888888888888,\"#fdca26\"],[1.0,\"#f0f921\"]]},\"colorway\":[\"#636efa\",\"#EF553B\",\"#00cc96\",\"#ab63fa\",\"#FFA15A\",\"#19d3f3\",\"#FF6692\",\"#B6E880\",\"#FF97FF\",\"#FECB52\"],\"font\":{\"color\":\"#2a3f5f\"},\"geo\":{\"bgcolor\":\"white\",\"lakecolor\":\"white\",\"landcolor\":\"#E5ECF6\",\"showlakes\":true,\"showland\":true,\"subunitcolor\":\"white\"},\"hoverlabel\":{\"align\":\"left\"},\"hovermode\":\"closest\",\"mapbox\":{\"style\":\"light\"},\"paper_bgcolor\":\"white\",\"plot_bgcolor\":\"#E5ECF6\",\"polar\":{\"angularaxis\":{\"gridcolor\":\"white\",\"linecolor\":\"white\",\"ticks\":\"\"},\"bgcolor\":\"#E5ECF6\",\"radialaxis\":{\"gridcolor\":\"white\",\"linecolor\":\"white\",\"ticks\":\"\"}},\"scene\":{\"xaxis\":{\"backgroundcolor\":\"#E5ECF6\",\"gridcolor\":\"white\",\"gridwidth\":2,\"linecolor\":\"white\",\"showbackground\":true,\"ticks\":\"\",\"zerolinecolor\":\"white\"},\"yaxis\":{\"backgroundcolor\":\"#E5ECF6\",\"gridcolor\":\"white\",\"gridwidth\":2,\"linecolor\":\"white\",\"showbackground\":true,\"ticks\":\"\",\"zerolinecolor\":\"white\"},\"zaxis\":{\"backgroundcolor\":\"#E5ECF6\",\"gridcolor\":\"white\",\"gridwidth\":2,\"linecolor\":\"white\",\"showbackground\":true,\"ticks\":\"\",\"zerolinecolor\":\"white\"}},\"shapedefaults\":{\"line\":{\"color\":\"#2a3f5f\"}},\"ternary\":{\"aaxis\":{\"gridcolor\":\"white\",\"linecolor\":\"white\",\"ticks\":\"\"},\"baxis\":{\"gridcolor\":\"white\",\"linecolor\":\"white\",\"ticks\":\"\"},\"bgcolor\":\"#E5ECF6\",\"caxis\":{\"gridcolor\":\"white\",\"linecolor\":\"white\",\"ticks\":\"\"}},\"title\":{\"x\":0.05},\"xaxis\":{\"automargin\":true,\"gridcolor\":\"white\",\"linecolor\":\"white\",\"ticks\":\"\",\"title\":{\"standoff\":15},\"zerolinecolor\":\"white\",\"zerolinewidth\":2},\"yaxis\":{\"automargin\":true,\"gridcolor\":\"white\",\"linecolor\":\"white\",\"ticks\":\"\",\"title\":{\"standoff\":15},\"zerolinecolor\":\"white\",\"zerolinewidth\":2}}},\"plot_bgcolor\":\"rgba(0, 0, 0, 0)\",\"paper_bgcolor\":\"rgba(0, 0, 0, 0)\"},                        {\"responsive\": true}                    ).then(function(){\n",
       "                            \n",
       "var gd = document.getElementById('42f3785f-2321-45ed-9c07-f7efb6b3c7f5');\n",
       "var x = new MutationObserver(function (mutations, observer) {{\n",
       "        var display = window.getComputedStyle(gd).display;\n",
       "        if (!display || display === 'none') {{\n",
       "            console.log([gd, 'removed!']);\n",
       "            Plotly.purge(gd);\n",
       "            observer.disconnect();\n",
       "        }}\n",
       "}});\n",
       "\n",
       "// Listen for the removal of the full notebook cells\n",
       "var notebookContainer = gd.closest('#notebook-container');\n",
       "if (notebookContainer) {{\n",
       "    x.observe(notebookContainer, {childList: true});\n",
       "}}\n",
       "\n",
       "// Listen for the clearing of the current output cell\n",
       "var outputEl = gd.closest('.output');\n",
       "if (outputEl) {{\n",
       "    x.observe(outputEl, {childList: true});\n",
       "}}\n",
       "\n",
       "                        })                };                });            </script>        </div>"
      ]
     },
     "metadata": {},
     "output_type": "display_data"
    }
   ],
   "source": [
    "for file in file_list:\n",
    "    \n",
    "    file_path = os.path.join(data_dir, file) # 파일리스트의 파일별 경로 설정\n",
    "    df = pd.read_csv(file_path)\n",
    "    \n",
    "    df = df[df['Lane Identification'] != 'UNKNOWN']\n",
    "    \n",
    "    mx = df['Local X (m)'].max()\n",
    "    cell_length = mx//13\n",
    "    \n",
    "    df['cell'] = df['Local X (m)']//cell_length\n",
    "    \n",
    "    print(df['cell'].unique())\n",
    "\n",
    "    pv = pd.pivot_table(df,\n",
    "                        index = 'Lane Identification',\n",
    "                        columns = 'cell',\n",
    "                        values = 'Vehicle ID',\n",
    "                        aggfunc = lambda x: len(x.unique()))\n",
    "    \n",
    "    pv.reset_index(inplace = True)\n",
    "    \n",
    "    pv = pv.round(2)\n",
    "    \n",
    "    save_csv_name = f'vol_count_{file[-10:-6]}.csv'\n",
    "    save_csv_path = os.path.join(save_dir, save_csv_name)\n",
    "    \n",
    "    pv.to_csv(save_csv_path)\n",
    "    \n",
    "\n",
    "    fig = go.Figure(data = go.Heatmap(df_to_plotly(pv),\n",
    "                                     colorscale = palette_ryb,\n",
    "                                     texttemplate = '%{z}',\n",
    "                                     zmin = 0, zmax = 500))\n",
    "\n",
    "        \n",
    "    save_html_name = f'vol_count_{file[-10:-6]}.html'\n",
    "    save_html_path = os.path.join(save_dir, save_html_name)\n",
    "    \n",
    "    fig.write_html(file = save_html_path) # html Plotly 파일 저장\n",
    "\n",
    "    fig = go.Figure(data = go.Heatmap(df_to_plotly(pv),\n",
    "                                     colorscale = palette_ryb,\n",
    "                                     zmin = 0, zmax = 500))\n",
    "    \n",
    "    #layout = go.Layout(yaxis = dict(visible = True, autorange = 'reversed'))\n",
    "        \n",
    "    fig.update_layout({\n",
    "            'plot_bgcolor' : 'rgba(0, 0, 0, 0)',\n",
    "            'paper_bgcolor' : 'rgba(0, 0, 0, 0)'\n",
    "        })\n",
    "    \n",
    "    save_png_name = f'vol_count_{file[-10:-6]}.png'\n",
    "    save_png_path = os.path.join(save_dir, save_png_name)        \n",
    "        \n",
    "    fig.write_image(save_png_path, width = 1500)\n",
    "    \n",
    "fig.show()"
   ]
  }
 ],
 "metadata": {
  "kernelspec": {
   "display_name": "Python 3",
   "language": "python",
   "name": "python3"
  },
  "language_info": {
   "codemirror_mode": {
    "name": "ipython",
    "version": 3
   },
   "file_extension": ".py",
   "mimetype": "text/x-python",
   "name": "python",
   "nbconvert_exporter": "python",
   "pygments_lexer": "ipython3",
   "version": "3.8.8"
  }
 },
 "nbformat": 4,
 "nbformat_minor": 5
}
