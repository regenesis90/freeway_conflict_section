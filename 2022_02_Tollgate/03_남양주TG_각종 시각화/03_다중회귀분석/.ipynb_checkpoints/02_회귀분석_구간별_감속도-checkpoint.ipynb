{
 "cells": [
  {
   "cell_type": "markdown",
   "id": "8361c813-92c4-40b4-b01d-6235835646ef",
   "metadata": {},
   "source": [
    "# Set Up"
   ]
  },
  {
   "cell_type": "markdown",
   "id": "403f28db-79a5-4531-b268-c0a194ea7e46",
   "metadata": {},
   "source": [
    "## Imports"
   ]
  },
  {
   "cell_type": "code",
   "execution_count": 22,
   "id": "c9e4c529-eb92-4439-a920-bc982dc97655",
   "metadata": {
    "execution": {
     "iopub.execute_input": "2022-10-17T11:15:33.470977Z",
     "iopub.status.busy": "2022-10-17T11:15:33.470977Z",
     "iopub.status.idle": "2022-10-17T11:15:33.480952Z",
     "shell.execute_reply": "2022-10-17T11:15:33.479984Z",
     "shell.execute_reply.started": "2022-10-17T11:15:33.470977Z"
    },
    "tags": []
   },
   "outputs": [],
   "source": [
    "######### 영업소 진입 광장부 다중회귀분석 최종본 #########\n",
    "\n",
    "import pandas as pd \n",
    "import numpy as np\n",
    "\n",
    "import os\n",
    "\n",
    "import statsmodels.api as sm\n",
    "import math"
   ]
  },
  {
   "cell_type": "markdown",
   "id": "de5ed577-e350-4b5a-a1d6-9c3af644f7bd",
   "metadata": {},
   "source": [
    "## Path"
   ]
  },
  {
   "cell_type": "code",
   "execution_count": 23,
   "id": "1bb60252-12b7-4db4-a700-84c8cfca6e6d",
   "metadata": {
    "execution": {
     "iopub.execute_input": "2022-10-17T11:15:33.481974Z",
     "iopub.status.busy": "2022-10-17T11:15:33.481974Z",
     "iopub.status.idle": "2022-10-17T11:15:33.496907Z",
     "shell.execute_reply": "2022-10-17T11:15:33.494940Z",
     "shell.execute_reply.started": "2022-10-17T11:15:33.481974Z"
    },
    "tags": []
   },
   "outputs": [],
   "source": [
    "data_dir = 'D:/OneDrive - 연세대학교 (Yonsei University)/Projects/Yonsei_TELab/003_도로상충_210517-/2차년도_2022/37_회귀분석_속도표준편차'"
   ]
  },
  {
   "cell_type": "code",
   "execution_count": 24,
   "id": "458205d6-b7a6-4ebd-be98-4993182426ee",
   "metadata": {
    "execution": {
     "iopub.execute_input": "2022-10-17T11:15:33.498902Z",
     "iopub.status.busy": "2022-10-17T11:15:33.497906Z",
     "iopub.status.idle": "2022-10-17T11:15:33.511868Z",
     "shell.execute_reply": "2022-10-17T11:15:33.510870Z",
     "shell.execute_reply.started": "2022-10-17T11:15:33.498902Z"
    },
    "tags": []
   },
   "outputs": [],
   "source": [
    "data_name = 'test_6-2_남양주TG인접만.csv'"
   ]
  },
  {
   "cell_type": "code",
   "execution_count": 25,
   "id": "61c810e8-c15e-4fe3-a23f-730ba4de9d58",
   "metadata": {
    "execution": {
     "iopub.execute_input": "2022-10-17T11:15:33.513862Z",
     "iopub.status.busy": "2022-10-17T11:15:33.512866Z",
     "iopub.status.idle": "2022-10-17T11:15:33.527825Z",
     "shell.execute_reply": "2022-10-17T11:15:33.526829Z",
     "shell.execute_reply.started": "2022-10-17T11:15:33.513862Z"
    },
    "tags": []
   },
   "outputs": [],
   "source": [
    "data_path = os.path.join(data_dir, data_name)"
   ]
  },
  {
   "cell_type": "markdown",
   "id": "8233660a-00aa-4cf5-b29a-1aa472007785",
   "metadata": {},
   "source": [
    "## Load Dataset"
   ]
  },
  {
   "cell_type": "code",
   "execution_count": 26,
   "id": "ac0fa0b7-bd5e-473e-9902-bbb8c59b8b5a",
   "metadata": {
    "execution": {
     "iopub.execute_input": "2022-10-17T11:15:33.530820Z",
     "iopub.status.busy": "2022-10-17T11:15:33.529825Z",
     "iopub.status.idle": "2022-10-17T11:15:33.543787Z",
     "shell.execute_reply": "2022-10-17T11:15:33.541797Z",
     "shell.execute_reply.started": "2022-10-17T11:15:33.530820Z"
    },
    "tags": []
   },
   "outputs": [],
   "source": [
    "tollgate = pd.read_csv(data_path)"
   ]
  },
  {
   "cell_type": "code",
   "execution_count": 27,
   "id": "13c058f4-ac73-4d5b-a4d3-83c484986e55",
   "metadata": {
    "execution": {
     "iopub.execute_input": "2022-10-17T11:15:33.544784Z",
     "iopub.status.busy": "2022-10-17T11:15:33.544784Z",
     "iopub.status.idle": "2022-10-17T11:15:33.564428Z",
     "shell.execute_reply": "2022-10-17T11:15:33.564428Z",
     "shell.execute_reply.started": "2022-10-17T11:15:33.544784Z"
    },
    "tags": []
   },
   "outputs": [
    {
     "data": {
      "text/html": [
       "<div>\n",
       "<style scoped>\n",
       "    .dataframe tbody tr th:only-of-type {\n",
       "        vertical-align: middle;\n",
       "    }\n",
       "\n",
       "    .dataframe tbody tr th {\n",
       "        vertical-align: top;\n",
       "    }\n",
       "\n",
       "    .dataframe thead th {\n",
       "        text-align: right;\n",
       "    }\n",
       "</style>\n",
       "<table border=\"1\" class=\"dataframe\">\n",
       "  <thead>\n",
       "    <tr style=\"text-align: right;\">\n",
       "      <th></th>\n",
       "      <th>Place</th>\n",
       "      <th>Direction</th>\n",
       "      <th>X_remain</th>\n",
       "      <th>Y</th>\n",
       "      <th>Vehicle Velocity</th>\n",
       "      <th>deceleration</th>\n",
       "      <th>Y_remain</th>\n",
       "      <th>Volume</th>\n",
       "      <th>Obs_remain</th>\n",
       "      <th>Da_Hi</th>\n",
       "    </tr>\n",
       "  </thead>\n",
       "  <tbody>\n",
       "    <tr>\n",
       "      <th>0</th>\n",
       "      <td>남양주TG</td>\n",
       "      <td>양양방향</td>\n",
       "      <td>230</td>\n",
       "      <td>16.0</td>\n",
       "      <td>53.8</td>\n",
       "      <td>0.7</td>\n",
       "      <td>20</td>\n",
       "      <td>88.0</td>\n",
       "      <td>0</td>\n",
       "      <td>다차로하이패스</td>\n",
       "    </tr>\n",
       "    <tr>\n",
       "      <th>1</th>\n",
       "      <td>NaN</td>\n",
       "      <td>NaN</td>\n",
       "      <td>230</td>\n",
       "      <td>17.8</td>\n",
       "      <td>57.0</td>\n",
       "      <td>0.3</td>\n",
       "      <td>15</td>\n",
       "      <td>73.0</td>\n",
       "      <td>0</td>\n",
       "      <td>다차로하이패스</td>\n",
       "    </tr>\n",
       "    <tr>\n",
       "      <th>2</th>\n",
       "      <td>NaN</td>\n",
       "      <td>NaN</td>\n",
       "      <td>230</td>\n",
       "      <td>9.7</td>\n",
       "      <td>62.4</td>\n",
       "      <td>0.2</td>\n",
       "      <td>0</td>\n",
       "      <td>28.0</td>\n",
       "      <td>120</td>\n",
       "      <td>NaN</td>\n",
       "    </tr>\n",
       "  </tbody>\n",
       "</table>\n",
       "</div>"
      ],
      "text/plain": [
       "   Place Direction  X_remain     Y  Vehicle Velocity  deceleration  Y_remain  \\\n",
       "0  남양주TG      양양방향       230  16.0              53.8           0.7        20   \n",
       "1    NaN       NaN       230  17.8              57.0           0.3        15   \n",
       "2    NaN       NaN       230   9.7              62.4           0.2         0   \n",
       "\n",
       "   Volume  Obs_remain    Da_Hi  \n",
       "0    88.0           0  다차로하이패스  \n",
       "1    73.0           0  다차로하이패스  \n",
       "2    28.0         120      NaN  "
      ]
     },
     "execution_count": 27,
     "metadata": {},
     "output_type": "execute_result"
    }
   ],
   "source": [
    "tollgate.head(3)"
   ]
  },
  {
   "cell_type": "code",
   "execution_count": 28,
   "id": "21522dd1-7f36-4eae-8df8-915f4b616b0c",
   "metadata": {
    "execution": {
     "iopub.execute_input": "2022-10-17T11:15:33.564428Z",
     "iopub.status.busy": "2022-10-17T11:15:33.564428Z",
     "iopub.status.idle": "2022-10-17T11:15:33.585172Z",
     "shell.execute_reply": "2022-10-17T11:15:33.582172Z",
     "shell.execute_reply.started": "2022-10-17T11:15:33.564428Z"
    },
    "tags": []
   },
   "outputs": [
    {
     "data": {
      "text/plain": [
       "177"
      ]
     },
     "execution_count": 28,
     "metadata": {},
     "output_type": "execute_result"
    }
   ],
   "source": [
    "len(tollgate)"
   ]
  },
  {
   "cell_type": "code",
   "execution_count": 29,
   "id": "71eccf42-6fad-4c17-9e11-0aee5175da67",
   "metadata": {
    "execution": {
     "iopub.execute_input": "2022-10-17T11:15:33.588160Z",
     "iopub.status.busy": "2022-10-17T11:15:33.587164Z",
     "iopub.status.idle": "2022-10-17T11:15:33.601126Z",
     "shell.execute_reply": "2022-10-17T11:15:33.598134Z",
     "shell.execute_reply.started": "2022-10-17T11:15:33.587164Z"
    },
    "tags": []
   },
   "outputs": [],
   "source": [
    "tollgate = tollgate.drop(['Place', 'Direction', 'Da_Hi'], axis = 1)"
   ]
  },
  {
   "cell_type": "code",
   "execution_count": 30,
   "id": "5ee74884-5bc4-456b-b7a5-2503debdef49",
   "metadata": {
    "execution": {
     "iopub.execute_input": "2022-10-17T11:15:33.604121Z",
     "iopub.status.busy": "2022-10-17T11:15:33.603121Z",
     "iopub.status.idle": "2022-10-17T11:15:33.616086Z",
     "shell.execute_reply": "2022-10-17T11:15:33.614090Z",
     "shell.execute_reply.started": "2022-10-17T11:15:33.604121Z"
    },
    "tags": []
   },
   "outputs": [],
   "source": [
    "tollgate.dropna(inplace = True) # 결측값 제거"
   ]
  },
  {
   "cell_type": "code",
   "execution_count": 31,
   "id": "2c23ed05-83e7-42c3-a142-13e08c3737dc",
   "metadata": {
    "execution": {
     "iopub.execute_input": "2022-10-17T11:15:33.618081Z",
     "iopub.status.busy": "2022-10-17T11:15:33.618081Z",
     "iopub.status.idle": "2022-10-17T11:15:33.645012Z",
     "shell.execute_reply": "2022-10-17T11:15:33.644014Z",
     "shell.execute_reply.started": "2022-10-17T11:15:33.618081Z"
    },
    "tags": []
   },
   "outputs": [
    {
     "data": {
      "text/plain": [
       "161"
      ]
     },
     "execution_count": 31,
     "metadata": {},
     "output_type": "execute_result"
    }
   ],
   "source": [
    "len(tollgate)"
   ]
  },
  {
   "cell_type": "code",
   "execution_count": 32,
   "id": "635cecab-7c55-4dfd-939e-8824315edd95",
   "metadata": {
    "execution": {
     "iopub.execute_input": "2022-10-17T11:15:33.646008Z",
     "iopub.status.busy": "2022-10-17T11:15:33.645012Z",
     "iopub.status.idle": "2022-10-17T11:15:33.676445Z",
     "shell.execute_reply": "2022-10-17T11:15:33.674447Z",
     "shell.execute_reply.started": "2022-10-17T11:15:33.646008Z"
    },
    "tags": []
   },
   "outputs": [
    {
     "data": {
      "text/html": [
       "<div>\n",
       "<style scoped>\n",
       "    .dataframe tbody tr th:only-of-type {\n",
       "        vertical-align: middle;\n",
       "    }\n",
       "\n",
       "    .dataframe tbody tr th {\n",
       "        vertical-align: top;\n",
       "    }\n",
       "\n",
       "    .dataframe thead th {\n",
       "        text-align: right;\n",
       "    }\n",
       "</style>\n",
       "<table border=\"1\" class=\"dataframe\">\n",
       "  <thead>\n",
       "    <tr style=\"text-align: right;\">\n",
       "      <th></th>\n",
       "      <th>X_remain</th>\n",
       "      <th>Y</th>\n",
       "      <th>Vehicle Velocity</th>\n",
       "      <th>deceleration</th>\n",
       "      <th>Y_remain</th>\n",
       "      <th>Volume</th>\n",
       "      <th>Obs_remain</th>\n",
       "    </tr>\n",
       "  </thead>\n",
       "  <tbody>\n",
       "    <tr>\n",
       "      <th>0</th>\n",
       "      <td>230</td>\n",
       "      <td>16.0</td>\n",
       "      <td>53.8</td>\n",
       "      <td>0.7</td>\n",
       "      <td>20</td>\n",
       "      <td>88.0</td>\n",
       "      <td>0</td>\n",
       "    </tr>\n",
       "    <tr>\n",
       "      <th>1</th>\n",
       "      <td>230</td>\n",
       "      <td>17.8</td>\n",
       "      <td>57.0</td>\n",
       "      <td>0.3</td>\n",
       "      <td>15</td>\n",
       "      <td>73.0</td>\n",
       "      <td>0</td>\n",
       "    </tr>\n",
       "    <tr>\n",
       "      <th>2</th>\n",
       "      <td>230</td>\n",
       "      <td>9.7</td>\n",
       "      <td>62.4</td>\n",
       "      <td>0.2</td>\n",
       "      <td>0</td>\n",
       "      <td>28.0</td>\n",
       "      <td>120</td>\n",
       "    </tr>\n",
       "  </tbody>\n",
       "</table>\n",
       "</div>"
      ],
      "text/plain": [
       "   X_remain     Y  Vehicle Velocity  deceleration  Y_remain  Volume  \\\n",
       "0       230  16.0              53.8           0.7        20    88.0   \n",
       "1       230  17.8              57.0           0.3        15    73.0   \n",
       "2       230   9.7              62.4           0.2         0    28.0   \n",
       "\n",
       "   Obs_remain  \n",
       "0           0  \n",
       "1           0  \n",
       "2         120  "
      ]
     },
     "execution_count": 32,
     "metadata": {},
     "output_type": "execute_result"
    }
   ],
   "source": [
    "tollgate.head(3)"
   ]
  },
  {
   "cell_type": "markdown",
   "id": "c26e2f68-6346-486f-bd54-0a196c51af31",
   "metadata": {},
   "source": [
    "## Split Label / Data "
   ]
  },
  {
   "cell_type": "code",
   "execution_count": 33,
   "id": "132187a6-0fad-4097-a34f-c329fc1428de",
   "metadata": {
    "execution": {
     "iopub.execute_input": "2022-10-17T11:15:33.680443Z",
     "iopub.status.busy": "2022-10-17T11:15:33.678437Z",
     "iopub.status.idle": "2022-10-17T11:15:33.694396Z",
     "shell.execute_reply": "2022-10-17T11:15:33.690405Z",
     "shell.execute_reply.started": "2022-10-17T11:15:33.680443Z"
    },
    "tags": []
   },
   "outputs": [],
   "source": [
    "X_data = tollgate.drop(['Y', 'deceleration'], axis = 1) # 설명변수만"
   ]
  },
  {
   "cell_type": "code",
   "execution_count": 34,
   "id": "404b5297-527d-444c-8012-a98f57722834",
   "metadata": {
    "execution": {
     "iopub.execute_input": "2022-10-17T11:15:33.695390Z",
     "iopub.status.busy": "2022-10-17T11:15:33.695390Z",
     "iopub.status.idle": "2022-10-17T11:15:33.709354Z",
     "shell.execute_reply": "2022-10-17T11:15:33.707363Z",
     "shell.execute_reply.started": "2022-10-17T11:15:33.695390Z"
    },
    "tags": []
   },
   "outputs": [],
   "source": [
    "target = tollgate[['deceleration']] # 종속변수만"
   ]
  },
  {
   "cell_type": "code",
   "execution_count": 35,
   "id": "3d0695c5-1e6d-47f8-8406-ec4b9006b9d8",
   "metadata": {
    "execution": {
     "iopub.execute_input": "2022-10-17T11:15:33.711348Z",
     "iopub.status.busy": "2022-10-17T11:15:33.710350Z",
     "iopub.status.idle": "2022-10-17T11:15:33.737657Z",
     "shell.execute_reply": "2022-10-17T11:15:33.737657Z",
     "shell.execute_reply.started": "2022-10-17T11:15:33.711348Z"
    },
    "tags": []
   },
   "outputs": [],
   "source": [
    "# for b0, 상수항 추가\n",
    "x_data1 = sm.add_constant(X_data, has_constant = 'add')"
   ]
  },
  {
   "cell_type": "code",
   "execution_count": 36,
   "id": "649933d4-bad5-4073-bc34-43e4965d2939",
   "metadata": {
    "execution": {
     "iopub.execute_input": "2022-10-17T11:15:33.738656Z",
     "iopub.status.busy": "2022-10-17T11:15:33.738656Z",
     "iopub.status.idle": "2022-10-17T11:15:33.772094Z",
     "shell.execute_reply": "2022-10-17T11:15:33.769104Z",
     "shell.execute_reply.started": "2022-10-17T11:15:33.738656Z"
    },
    "tags": []
   },
   "outputs": [
    {
     "data": {
      "text/html": [
       "<table class=\"simpletable\">\n",
       "<caption>OLS Regression Results</caption>\n",
       "<tr>\n",
       "  <th>Dep. Variable:</th>      <td>deceleration</td>   <th>  R-squared:         </th> <td>   0.507</td>\n",
       "</tr>\n",
       "<tr>\n",
       "  <th>Model:</th>                   <td>OLS</td>       <th>  Adj. R-squared:    </th> <td>   0.492</td>\n",
       "</tr>\n",
       "<tr>\n",
       "  <th>Method:</th>             <td>Least Squares</td>  <th>  F-statistic:       </th> <td>   31.94</td>\n",
       "</tr>\n",
       "<tr>\n",
       "  <th>Date:</th>             <td>Mon, 17 Oct 2022</td> <th>  Prob (F-statistic):</th> <td>2.82e-22</td>\n",
       "</tr>\n",
       "<tr>\n",
       "  <th>Time:</th>                 <td>20:15:33</td>     <th>  Log-Likelihood:    </th> <td> -28.779</td>\n",
       "</tr>\n",
       "<tr>\n",
       "  <th>No. Observations:</th>      <td>   161</td>      <th>  AIC:               </th> <td>   69.56</td>\n",
       "</tr>\n",
       "<tr>\n",
       "  <th>Df Residuals:</th>          <td>   155</td>      <th>  BIC:               </th> <td>   88.05</td>\n",
       "</tr>\n",
       "<tr>\n",
       "  <th>Df Model:</th>              <td>     5</td>      <th>                     </th>     <td> </td>   \n",
       "</tr>\n",
       "<tr>\n",
       "  <th>Covariance Type:</th>      <td>nonrobust</td>    <th>                     </th>     <td> </td>   \n",
       "</tr>\n",
       "</table>\n",
       "<table class=\"simpletable\">\n",
       "<tr>\n",
       "          <td></td>            <th>coef</th>     <th>std err</th>      <th>t</th>      <th>P>|t|</th>  <th>[0.025</th>    <th>0.975]</th>  \n",
       "</tr>\n",
       "<tr>\n",
       "  <th>const</th>            <td>    1.9220</td> <td>    0.127</td> <td>   15.174</td> <td> 0.000</td> <td>    1.672</td> <td>    2.172</td>\n",
       "</tr>\n",
       "<tr>\n",
       "  <th>X_remain</th>         <td>   -0.0026</td> <td>    0.001</td> <td>   -4.625</td> <td> 0.000</td> <td>   -0.004</td> <td>   -0.002</td>\n",
       "</tr>\n",
       "<tr>\n",
       "  <th>Vehicle Velocity</th> <td>   -0.0124</td> <td>    0.003</td> <td>   -4.557</td> <td> 0.000</td> <td>   -0.018</td> <td>   -0.007</td>\n",
       "</tr>\n",
       "<tr>\n",
       "  <th>Y_remain</th>         <td>    0.0066</td> <td>    0.005</td> <td>    1.282</td> <td> 0.202</td> <td>   -0.004</td> <td>    0.017</td>\n",
       "</tr>\n",
       "<tr>\n",
       "  <th>Volume</th>           <td>   -0.0015</td> <td>    0.000</td> <td>   -4.299</td> <td> 0.000</td> <td>   -0.002</td> <td>   -0.001</td>\n",
       "</tr>\n",
       "<tr>\n",
       "  <th>Obs_remain</th>       <td>    0.0005</td> <td>    0.001</td> <td>    0.833</td> <td> 0.406</td> <td>   -0.001</td> <td>    0.002</td>\n",
       "</tr>\n",
       "</table>\n",
       "<table class=\"simpletable\">\n",
       "<tr>\n",
       "  <th>Omnibus:</th>       <td>36.914</td> <th>  Durbin-Watson:     </th> <td>   1.688</td>\n",
       "</tr>\n",
       "<tr>\n",
       "  <th>Prob(Omnibus):</th> <td> 0.000</td> <th>  Jarque-Bera (JB):  </th> <td> 274.165</td>\n",
       "</tr>\n",
       "<tr>\n",
       "  <th>Skew:</th>          <td> 0.500</td> <th>  Prob(JB):          </th> <td>2.92e-60</td>\n",
       "</tr>\n",
       "<tr>\n",
       "  <th>Kurtosis:</th>      <td> 9.314</td> <th>  Cond. No.          </th> <td>    881.</td>\n",
       "</tr>\n",
       "</table><br/><br/>Notes:<br/>[1] Standard Errors assume that the covariance matrix of the errors is correctly specified."
      ],
      "text/plain": [
       "<class 'statsmodels.iolib.summary.Summary'>\n",
       "\"\"\"\n",
       "                            OLS Regression Results                            \n",
       "==============================================================================\n",
       "Dep. Variable:           deceleration   R-squared:                       0.507\n",
       "Model:                            OLS   Adj. R-squared:                  0.492\n",
       "Method:                 Least Squares   F-statistic:                     31.94\n",
       "Date:                Mon, 17 Oct 2022   Prob (F-statistic):           2.82e-22\n",
       "Time:                        20:15:33   Log-Likelihood:                -28.779\n",
       "No. Observations:                 161   AIC:                             69.56\n",
       "Df Residuals:                     155   BIC:                             88.05\n",
       "Df Model:                           5                                         \n",
       "Covariance Type:            nonrobust                                         \n",
       "====================================================================================\n",
       "                       coef    std err          t      P>|t|      [0.025      0.975]\n",
       "------------------------------------------------------------------------------------\n",
       "const                1.9220      0.127     15.174      0.000       1.672       2.172\n",
       "X_remain            -0.0026      0.001     -4.625      0.000      -0.004      -0.002\n",
       "Vehicle Velocity    -0.0124      0.003     -4.557      0.000      -0.018      -0.007\n",
       "Y_remain             0.0066      0.005      1.282      0.202      -0.004       0.017\n",
       "Volume              -0.0015      0.000     -4.299      0.000      -0.002      -0.001\n",
       "Obs_remain           0.0005      0.001      0.833      0.406      -0.001       0.002\n",
       "==============================================================================\n",
       "Omnibus:                       36.914   Durbin-Watson:                   1.688\n",
       "Prob(Omnibus):                  0.000   Jarque-Bera (JB):              274.165\n",
       "Skew:                           0.500   Prob(JB):                     2.92e-60\n",
       "Kurtosis:                       9.314   Cond. No.                         881.\n",
       "==============================================================================\n",
       "\n",
       "Notes:\n",
       "[1] Standard Errors assume that the covariance matrix of the errors is correctly specified.\n",
       "\"\"\""
      ]
     },
     "execution_count": 36,
     "metadata": {},
     "output_type": "execute_result"
    }
   ],
   "source": [
    "# 다중회귀분석 검정\n",
    "multi_model = sm.OLS(target, x_data1)\n",
    "\n",
    "fitted_multi_model = multi_model.fit()\n",
    "fitted_multi_model.summary()"
   ]
  }
 ],
 "metadata": {
  "kernelspec": {
   "display_name": "Python 3",
   "language": "python",
   "name": "python3"
  },
  "language_info": {
   "codemirror_mode": {
    "name": "ipython",
    "version": 3
   },
   "file_extension": ".py",
   "mimetype": "text/x-python",
   "name": "python",
   "nbconvert_exporter": "python",
   "pygments_lexer": "ipython3",
   "version": "3.8.8"
  }
 },
 "nbformat": 4,
 "nbformat_minor": 5
}
