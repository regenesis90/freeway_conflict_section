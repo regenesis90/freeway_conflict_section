{
 "cells": [
  {
   "cell_type": "markdown",
   "id": "8361c813-92c4-40b4-b01d-6235835646ef",
   "metadata": {},
   "source": [
    "# Set Up"
   ]
  },
  {
   "cell_type": "markdown",
   "id": "403f28db-79a5-4531-b268-c0a194ea7e46",
   "metadata": {},
   "source": [
    "## Imports"
   ]
  },
  {
   "cell_type": "code",
   "execution_count": 68,
   "id": "c9e4c529-eb92-4439-a920-bc982dc97655",
   "metadata": {
    "execution": {
     "iopub.execute_input": "2022-10-17T03:42:54.655686Z",
     "iopub.status.busy": "2022-10-17T03:42:54.655686Z",
     "iopub.status.idle": "2022-10-17T03:42:54.673640Z",
     "shell.execute_reply": "2022-10-17T03:42:54.672634Z",
     "shell.execute_reply.started": "2022-10-17T03:42:54.655686Z"
    },
    "tags": []
   },
   "outputs": [],
   "source": [
    "######### 영업소 진입 광장부 다중회귀분석 최종본 #########\n",
    "\n",
    "import pandas as pd \n",
    "import numpy as np\n",
    "\n",
    "import os\n",
    "\n",
    "import statsmodels.api as sm\n",
    "import math"
   ]
  },
  {
   "cell_type": "markdown",
   "id": "de5ed577-e350-4b5a-a1d6-9c3af644f7bd",
   "metadata": {},
   "source": [
    "## Path"
   ]
  },
  {
   "cell_type": "code",
   "execution_count": 69,
   "id": "1bb60252-12b7-4db4-a700-84c8cfca6e6d",
   "metadata": {
    "execution": {
     "iopub.execute_input": "2022-10-17T03:42:54.674636Z",
     "iopub.status.busy": "2022-10-17T03:42:54.674636Z",
     "iopub.status.idle": "2022-10-17T03:42:54.689564Z",
     "shell.execute_reply": "2022-10-17T03:42:54.688594Z",
     "shell.execute_reply.started": "2022-10-17T03:42:54.674636Z"
    },
    "tags": []
   },
   "outputs": [],
   "source": [
    "data_dir = 'D:/OneDrive - 연세대학교 (Yonsei University)/Projects/Yonsei_TELab/003_도로상충_210517-/2차년도_2022/37_회귀분석_속도표준편차'"
   ]
  },
  {
   "cell_type": "code",
   "execution_count": 70,
   "id": "458205d6-b7a6-4ebd-be98-4993182426ee",
   "metadata": {
    "execution": {
     "iopub.execute_input": "2022-10-17T03:42:54.693562Z",
     "iopub.status.busy": "2022-10-17T03:42:54.692559Z",
     "iopub.status.idle": "2022-10-17T03:42:54.708516Z",
     "shell.execute_reply": "2022-10-17T03:42:54.704560Z",
     "shell.execute_reply.started": "2022-10-17T03:42:54.693562Z"
    },
    "tags": []
   },
   "outputs": [],
   "source": [
    "data_name = 'test5.csv'"
   ]
  },
  {
   "cell_type": "code",
   "execution_count": 71,
   "id": "61c810e8-c15e-4fe3-a23f-730ba4de9d58",
   "metadata": {
    "execution": {
     "iopub.execute_input": "2022-10-17T03:42:54.710507Z",
     "iopub.status.busy": "2022-10-17T03:42:54.709510Z",
     "iopub.status.idle": "2022-10-17T03:42:54.721477Z",
     "shell.execute_reply": "2022-10-17T03:42:54.720482Z",
     "shell.execute_reply.started": "2022-10-17T03:42:54.710507Z"
    },
    "tags": []
   },
   "outputs": [],
   "source": [
    "data_path = os.path.join(data_dir, data_name)"
   ]
  },
  {
   "cell_type": "markdown",
   "id": "8233660a-00aa-4cf5-b29a-1aa472007785",
   "metadata": {},
   "source": [
    "## Load Dataset"
   ]
  },
  {
   "cell_type": "code",
   "execution_count": 72,
   "id": "ac0fa0b7-bd5e-473e-9902-bbb8c59b8b5a",
   "metadata": {
    "execution": {
     "iopub.execute_input": "2022-10-17T03:42:54.722510Z",
     "iopub.status.busy": "2022-10-17T03:42:54.722510Z",
     "iopub.status.idle": "2022-10-17T03:42:54.736674Z",
     "shell.execute_reply": "2022-10-17T03:42:54.735707Z",
     "shell.execute_reply.started": "2022-10-17T03:42:54.722510Z"
    },
    "tags": []
   },
   "outputs": [],
   "source": [
    "tollgate = pd.read_csv(data_path)"
   ]
  },
  {
   "cell_type": "code",
   "execution_count": 73,
   "id": "13c058f4-ac73-4d5b-a4d3-83c484986e55",
   "metadata": {
    "execution": {
     "iopub.execute_input": "2022-10-17T03:42:54.738668Z",
     "iopub.status.busy": "2022-10-17T03:42:54.738668Z",
     "iopub.status.idle": "2022-10-17T03:42:54.768106Z",
     "shell.execute_reply": "2022-10-17T03:42:54.767113Z",
     "shell.execute_reply.started": "2022-10-17T03:42:54.738668Z"
    },
    "tags": []
   },
   "outputs": [
    {
     "data": {
      "text/html": [
       "<div>\n",
       "<style scoped>\n",
       "    .dataframe tbody tr th:only-of-type {\n",
       "        vertical-align: middle;\n",
       "    }\n",
       "\n",
       "    .dataframe tbody tr th {\n",
       "        vertical-align: top;\n",
       "    }\n",
       "\n",
       "    .dataframe thead th {\n",
       "        text-align: right;\n",
       "    }\n",
       "</style>\n",
       "<table border=\"1\" class=\"dataframe\">\n",
       "  <thead>\n",
       "    <tr style=\"text-align: right;\">\n",
       "      <th></th>\n",
       "      <th>Place</th>\n",
       "      <th>Direction</th>\n",
       "      <th>X_remain</th>\n",
       "      <th>Y</th>\n",
       "      <th>Vehicle Velocity</th>\n",
       "      <th>Y_remain</th>\n",
       "      <th>Volume</th>\n",
       "      <th>Obs_remain</th>\n",
       "      <th>Da_Hi</th>\n",
       "    </tr>\n",
       "  </thead>\n",
       "  <tbody>\n",
       "    <tr>\n",
       "      <th>0</th>\n",
       "      <td>남양주TG</td>\n",
       "      <td>양양방향</td>\n",
       "      <td>230</td>\n",
       "      <td>16.0</td>\n",
       "      <td>53.8</td>\n",
       "      <td>20</td>\n",
       "      <td>88.0</td>\n",
       "      <td>0</td>\n",
       "      <td>다차로하이패스</td>\n",
       "    </tr>\n",
       "    <tr>\n",
       "      <th>1</th>\n",
       "      <td>NaN</td>\n",
       "      <td>NaN</td>\n",
       "      <td>230</td>\n",
       "      <td>17.8</td>\n",
       "      <td>57.0</td>\n",
       "      <td>15</td>\n",
       "      <td>73.0</td>\n",
       "      <td>0</td>\n",
       "      <td>다차로하이패스</td>\n",
       "    </tr>\n",
       "    <tr>\n",
       "      <th>2</th>\n",
       "      <td>NaN</td>\n",
       "      <td>NaN</td>\n",
       "      <td>230</td>\n",
       "      <td>9.7</td>\n",
       "      <td>62.4</td>\n",
       "      <td>0</td>\n",
       "      <td>28.0</td>\n",
       "      <td>120</td>\n",
       "      <td>NaN</td>\n",
       "    </tr>\n",
       "  </tbody>\n",
       "</table>\n",
       "</div>"
      ],
      "text/plain": [
       "   Place Direction  X_remain     Y  Vehicle Velocity  Y_remain  Volume  \\\n",
       "0  남양주TG      양양방향       230  16.0              53.8        20    88.0   \n",
       "1    NaN       NaN       230  17.8              57.0        15    73.0   \n",
       "2    NaN       NaN       230   9.7              62.4         0    28.0   \n",
       "\n",
       "   Obs_remain    Da_Hi  \n",
       "0           0  다차로하이패스  \n",
       "1           0  다차로하이패스  \n",
       "2         120      NaN  "
      ]
     },
     "execution_count": 73,
     "metadata": {},
     "output_type": "execute_result"
    }
   ],
   "source": [
    "tollgate.head(3)"
   ]
  },
  {
   "cell_type": "code",
   "execution_count": 74,
   "id": "21522dd1-7f36-4eae-8df8-915f4b616b0c",
   "metadata": {
    "execution": {
     "iopub.execute_input": "2022-10-17T03:42:54.769113Z",
     "iopub.status.busy": "2022-10-17T03:42:54.769113Z",
     "iopub.status.idle": "2022-10-17T03:42:54.784065Z",
     "shell.execute_reply": "2022-10-17T03:42:54.783067Z",
     "shell.execute_reply.started": "2022-10-17T03:42:54.769113Z"
    },
    "tags": []
   },
   "outputs": [
    {
     "data": {
      "text/plain": [
       "350"
      ]
     },
     "execution_count": 74,
     "metadata": {},
     "output_type": "execute_result"
    }
   ],
   "source": [
    "len(tollgate)"
   ]
  },
  {
   "cell_type": "code",
   "execution_count": 75,
   "id": "4adfa360-69c6-47ed-8881-be680e14a3e5",
   "metadata": {
    "execution": {
     "iopub.execute_input": "2022-10-17T03:42:54.787057Z",
     "iopub.status.busy": "2022-10-17T03:42:54.786065Z",
     "iopub.status.idle": "2022-10-17T03:42:54.802017Z",
     "shell.execute_reply": "2022-10-17T03:42:54.799026Z",
     "shell.execute_reply.started": "2022-10-17T03:42:54.786065Z"
    },
    "tags": []
   },
   "outputs": [],
   "source": [
    "tollgate = tollgate[tollgate['Da_Hi'] != '다차로하이패스']"
   ]
  },
  {
   "cell_type": "code",
   "execution_count": 76,
   "id": "fa866dc0-bc9f-43a6-98ca-cebf9d871987",
   "metadata": {
    "execution": {
     "iopub.execute_input": "2022-10-17T03:42:54.806006Z",
     "iopub.status.busy": "2022-10-17T03:42:54.805009Z",
     "iopub.status.idle": "2022-10-17T03:42:54.831940Z",
     "shell.execute_reply": "2022-10-17T03:42:54.830947Z",
     "shell.execute_reply.started": "2022-10-17T03:42:54.806006Z"
    },
    "tags": []
   },
   "outputs": [
    {
     "data": {
      "text/html": [
       "<div>\n",
       "<style scoped>\n",
       "    .dataframe tbody tr th:only-of-type {\n",
       "        vertical-align: middle;\n",
       "    }\n",
       "\n",
       "    .dataframe tbody tr th {\n",
       "        vertical-align: top;\n",
       "    }\n",
       "\n",
       "    .dataframe thead th {\n",
       "        text-align: right;\n",
       "    }\n",
       "</style>\n",
       "<table border=\"1\" class=\"dataframe\">\n",
       "  <thead>\n",
       "    <tr style=\"text-align: right;\">\n",
       "      <th></th>\n",
       "      <th>Place</th>\n",
       "      <th>Direction</th>\n",
       "      <th>X_remain</th>\n",
       "      <th>Y</th>\n",
       "      <th>Vehicle Velocity</th>\n",
       "      <th>Y_remain</th>\n",
       "      <th>Volume</th>\n",
       "      <th>Obs_remain</th>\n",
       "      <th>Da_Hi</th>\n",
       "    </tr>\n",
       "  </thead>\n",
       "  <tbody>\n",
       "    <tr>\n",
       "      <th>2</th>\n",
       "      <td>NaN</td>\n",
       "      <td>NaN</td>\n",
       "      <td>230</td>\n",
       "      <td>9.70</td>\n",
       "      <td>62.4</td>\n",
       "      <td>0</td>\n",
       "      <td>28.0</td>\n",
       "      <td>120</td>\n",
       "      <td>NaN</td>\n",
       "    </tr>\n",
       "    <tr>\n",
       "      <th>3</th>\n",
       "      <td>NaN</td>\n",
       "      <td>NaN</td>\n",
       "      <td>230</td>\n",
       "      <td>7.60</td>\n",
       "      <td>63.6</td>\n",
       "      <td>0</td>\n",
       "      <td>27.0</td>\n",
       "      <td>130</td>\n",
       "      <td>NaN</td>\n",
       "    </tr>\n",
       "    <tr>\n",
       "      <th>6</th>\n",
       "      <td>NaN</td>\n",
       "      <td>NaN</td>\n",
       "      <td>210</td>\n",
       "      <td>12.37</td>\n",
       "      <td>67.3</td>\n",
       "      <td>0</td>\n",
       "      <td>26.0</td>\n",
       "      <td>140</td>\n",
       "      <td>NaN</td>\n",
       "    </tr>\n",
       "  </tbody>\n",
       "</table>\n",
       "</div>"
      ],
      "text/plain": [
       "  Place Direction  X_remain      Y  Vehicle Velocity  Y_remain  Volume  \\\n",
       "2   NaN       NaN       230   9.70              62.4         0    28.0   \n",
       "3   NaN       NaN       230   7.60              63.6         0    27.0   \n",
       "6   NaN       NaN       210  12.37              67.3         0    26.0   \n",
       "\n",
       "   Obs_remain Da_Hi  \n",
       "2         120   NaN  \n",
       "3         130   NaN  \n",
       "6         140   NaN  "
      ]
     },
     "execution_count": 76,
     "metadata": {},
     "output_type": "execute_result"
    }
   ],
   "source": [
    "tollgate.head(3)"
   ]
  },
  {
   "cell_type": "code",
   "execution_count": 77,
   "id": "71eccf42-6fad-4c17-9e11-0aee5175da67",
   "metadata": {
    "execution": {
     "iopub.execute_input": "2022-10-17T03:42:54.832949Z",
     "iopub.status.busy": "2022-10-17T03:42:54.832949Z",
     "iopub.status.idle": "2022-10-17T03:42:54.847437Z",
     "shell.execute_reply": "2022-10-17T03:42:54.846431Z",
     "shell.execute_reply.started": "2022-10-17T03:42:54.832949Z"
    },
    "tags": []
   },
   "outputs": [],
   "source": [
    "tollgate = tollgate.drop(['Place', 'Direction', 'Da_Hi'], axis = 1)"
   ]
  },
  {
   "cell_type": "code",
   "execution_count": 78,
   "id": "5ee74884-5bc4-456b-b7a5-2503debdef49",
   "metadata": {
    "execution": {
     "iopub.execute_input": "2022-10-17T03:42:54.862388Z",
     "iopub.status.busy": "2022-10-17T03:42:54.852417Z",
     "iopub.status.idle": "2022-10-17T03:42:54.880349Z",
     "shell.execute_reply": "2022-10-17T03:42:54.878348Z",
     "shell.execute_reply.started": "2022-10-17T03:42:54.862388Z"
    },
    "tags": []
   },
   "outputs": [],
   "source": [
    "tollgate.dropna(inplace = True) # 결측값 제거"
   ]
  },
  {
   "cell_type": "code",
   "execution_count": 79,
   "id": "2c23ed05-83e7-42c3-a142-13e08c3737dc",
   "metadata": {
    "execution": {
     "iopub.execute_input": "2022-10-17T03:42:54.883332Z",
     "iopub.status.busy": "2022-10-17T03:42:54.882335Z",
     "iopub.status.idle": "2022-10-17T03:42:54.895299Z",
     "shell.execute_reply": "2022-10-17T03:42:54.893306Z",
     "shell.execute_reply.started": "2022-10-17T03:42:54.883332Z"
    },
    "tags": []
   },
   "outputs": [
    {
     "data": {
      "text/plain": [
       "260"
      ]
     },
     "execution_count": 79,
     "metadata": {},
     "output_type": "execute_result"
    }
   ],
   "source": [
    "len(tollgate)"
   ]
  },
  {
   "cell_type": "markdown",
   "id": "c26e2f68-6346-486f-bd54-0a196c51af31",
   "metadata": {},
   "source": [
    "## Split Label / Data "
   ]
  },
  {
   "cell_type": "code",
   "execution_count": null,
   "id": "98e00b00-7ad5-4fb1-bbb7-abad873eb5e8",
   "metadata": {},
   "outputs": [],
   "source": []
  },
  {
   "cell_type": "code",
   "execution_count": 80,
   "id": "132187a6-0fad-4097-a34f-c329fc1428de",
   "metadata": {
    "execution": {
     "iopub.execute_input": "2022-10-17T03:42:54.896299Z",
     "iopub.status.busy": "2022-10-17T03:42:54.895299Z",
     "iopub.status.idle": "2022-10-17T03:42:54.910261Z",
     "shell.execute_reply": "2022-10-17T03:42:54.909264Z",
     "shell.execute_reply.started": "2022-10-17T03:42:54.896299Z"
    },
    "tags": []
   },
   "outputs": [],
   "source": [
    "X_data = tollgate.drop(['Y'], axis = 1) # 설명변수만"
   ]
  },
  {
   "cell_type": "code",
   "execution_count": 81,
   "id": "404b5297-527d-444c-8012-a98f57722834",
   "metadata": {
    "execution": {
     "iopub.execute_input": "2022-10-17T03:42:54.913261Z",
     "iopub.status.busy": "2022-10-17T03:42:54.912257Z",
     "iopub.status.idle": "2022-10-17T03:42:54.926217Z",
     "shell.execute_reply": "2022-10-17T03:42:54.925220Z",
     "shell.execute_reply.started": "2022-10-17T03:42:54.913261Z"
    },
    "tags": []
   },
   "outputs": [],
   "source": [
    "target = tollgate[['Y']] # 종속변수만"
   ]
  },
  {
   "cell_type": "code",
   "execution_count": 82,
   "id": "3d0695c5-1e6d-47f8-8406-ec4b9006b9d8",
   "metadata": {
    "execution": {
     "iopub.execute_input": "2022-10-17T03:42:54.928213Z",
     "iopub.status.busy": "2022-10-17T03:42:54.927217Z",
     "iopub.status.idle": "2022-10-17T03:42:54.942178Z",
     "shell.execute_reply": "2022-10-17T03:42:54.941191Z",
     "shell.execute_reply.started": "2022-10-17T03:42:54.928213Z"
    },
    "tags": []
   },
   "outputs": [],
   "source": [
    "# for b0, 상수항 추가\n",
    "x_data1 = sm.add_constant(X_data, has_constant = 'add')"
   ]
  },
  {
   "cell_type": "code",
   "execution_count": 83,
   "id": "649933d4-bad5-4073-bc34-43e4965d2939",
   "metadata": {
    "execution": {
     "iopub.execute_input": "2022-10-17T03:42:54.944174Z",
     "iopub.status.busy": "2022-10-17T03:42:54.944174Z",
     "iopub.status.idle": "2022-10-17T03:42:54.990578Z",
     "shell.execute_reply": "2022-10-17T03:42:54.988583Z",
     "shell.execute_reply.started": "2022-10-17T03:42:54.944174Z"
    },
    "tags": []
   },
   "outputs": [
    {
     "data": {
      "text/html": [
       "<table class=\"simpletable\">\n",
       "<caption>OLS Regression Results</caption>\n",
       "<tr>\n",
       "  <th>Dep. Variable:</th>            <td>Y</td>        <th>  R-squared:         </th> <td>   0.052</td>\n",
       "</tr>\n",
       "<tr>\n",
       "  <th>Model:</th>                   <td>OLS</td>       <th>  Adj. R-squared:    </th> <td>   0.034</td>\n",
       "</tr>\n",
       "<tr>\n",
       "  <th>Method:</th>             <td>Least Squares</td>  <th>  F-statistic:       </th> <td>   2.799</td>\n",
       "</tr>\n",
       "<tr>\n",
       "  <th>Date:</th>             <td>Mon, 17 Oct 2022</td> <th>  Prob (F-statistic):</th>  <td>0.0176</td> \n",
       "</tr>\n",
       "<tr>\n",
       "  <th>Time:</th>                 <td>12:42:54</td>     <th>  Log-Likelihood:    </th> <td> -655.86</td>\n",
       "</tr>\n",
       "<tr>\n",
       "  <th>No. Observations:</th>      <td>   260</td>      <th>  AIC:               </th> <td>   1324.</td>\n",
       "</tr>\n",
       "<tr>\n",
       "  <th>Df Residuals:</th>          <td>   254</td>      <th>  BIC:               </th> <td>   1345.</td>\n",
       "</tr>\n",
       "<tr>\n",
       "  <th>Df Model:</th>              <td>     5</td>      <th>                     </th>     <td> </td>   \n",
       "</tr>\n",
       "<tr>\n",
       "  <th>Covariance Type:</th>      <td>nonrobust</td>    <th>                     </th>     <td> </td>   \n",
       "</tr>\n",
       "</table>\n",
       "<table class=\"simpletable\">\n",
       "<tr>\n",
       "          <td></td>            <th>coef</th>     <th>std err</th>      <th>t</th>      <th>P>|t|</th>  <th>[0.025</th>    <th>0.975]</th>  \n",
       "</tr>\n",
       "<tr>\n",
       "  <th>const</th>            <td>    8.5825</td> <td>    1.247</td> <td>    6.883</td> <td> 0.000</td> <td>    6.127</td> <td>   11.038</td>\n",
       "</tr>\n",
       "<tr>\n",
       "  <th>X_remain</th>         <td>   -0.0093</td> <td>    0.003</td> <td>   -2.954</td> <td> 0.003</td> <td>   -0.015</td> <td>   -0.003</td>\n",
       "</tr>\n",
       "<tr>\n",
       "  <th>Vehicle Velocity</th> <td>    0.0776</td> <td>    0.025</td> <td>    3.059</td> <td> 0.002</td> <td>    0.028</td> <td>    0.127</td>\n",
       "</tr>\n",
       "<tr>\n",
       "  <th>Y_remain</th>         <td>   -0.1607</td> <td>    0.076</td> <td>   -2.118</td> <td> 0.035</td> <td>   -0.310</td> <td>   -0.011</td>\n",
       "</tr>\n",
       "<tr>\n",
       "  <th>Volume</th>           <td>    0.0041</td> <td>    0.003</td> <td>    1.234</td> <td> 0.218</td> <td>   -0.002</td> <td>    0.011</td>\n",
       "</tr>\n",
       "<tr>\n",
       "  <th>Obs_remain</th>       <td>    0.0066</td> <td>    0.003</td> <td>    2.184</td> <td> 0.030</td> <td>    0.001</td> <td>    0.013</td>\n",
       "</tr>\n",
       "</table>\n",
       "<table class=\"simpletable\">\n",
       "<tr>\n",
       "  <th>Omnibus:</th>       <td>37.690</td> <th>  Durbin-Watson:     </th> <td>   1.477</td>\n",
       "</tr>\n",
       "<tr>\n",
       "  <th>Prob(Omnibus):</th> <td> 0.000</td> <th>  Jarque-Bera (JB):  </th> <td> 136.889</td>\n",
       "</tr>\n",
       "<tr>\n",
       "  <th>Skew:</th>          <td>-0.528</td> <th>  Prob(JB):          </th> <td>1.88e-30</td>\n",
       "</tr>\n",
       "<tr>\n",
       "  <th>Kurtosis:</th>      <td> 6.394</td> <th>  Cond. No.          </th> <td>1.78e+03</td>\n",
       "</tr>\n",
       "</table><br/><br/>Notes:<br/>[1] Standard Errors assume that the covariance matrix of the errors is correctly specified.<br/>[2] The condition number is large, 1.78e+03. This might indicate that there are<br/>strong multicollinearity or other numerical problems."
      ],
      "text/plain": [
       "<class 'statsmodels.iolib.summary.Summary'>\n",
       "\"\"\"\n",
       "                            OLS Regression Results                            \n",
       "==============================================================================\n",
       "Dep. Variable:                      Y   R-squared:                       0.052\n",
       "Model:                            OLS   Adj. R-squared:                  0.034\n",
       "Method:                 Least Squares   F-statistic:                     2.799\n",
       "Date:                Mon, 17 Oct 2022   Prob (F-statistic):             0.0176\n",
       "Time:                        12:42:54   Log-Likelihood:                -655.86\n",
       "No. Observations:                 260   AIC:                             1324.\n",
       "Df Residuals:                     254   BIC:                             1345.\n",
       "Df Model:                           5                                         \n",
       "Covariance Type:            nonrobust                                         \n",
       "====================================================================================\n",
       "                       coef    std err          t      P>|t|      [0.025      0.975]\n",
       "------------------------------------------------------------------------------------\n",
       "const                8.5825      1.247      6.883      0.000       6.127      11.038\n",
       "X_remain            -0.0093      0.003     -2.954      0.003      -0.015      -0.003\n",
       "Vehicle Velocity     0.0776      0.025      3.059      0.002       0.028       0.127\n",
       "Y_remain            -0.1607      0.076     -2.118      0.035      -0.310      -0.011\n",
       "Volume               0.0041      0.003      1.234      0.218      -0.002       0.011\n",
       "Obs_remain           0.0066      0.003      2.184      0.030       0.001       0.013\n",
       "==============================================================================\n",
       "Omnibus:                       37.690   Durbin-Watson:                   1.477\n",
       "Prob(Omnibus):                  0.000   Jarque-Bera (JB):              136.889\n",
       "Skew:                          -0.528   Prob(JB):                     1.88e-30\n",
       "Kurtosis:                       6.394   Cond. No.                     1.78e+03\n",
       "==============================================================================\n",
       "\n",
       "Notes:\n",
       "[1] Standard Errors assume that the covariance matrix of the errors is correctly specified.\n",
       "[2] The condition number is large, 1.78e+03. This might indicate that there are\n",
       "strong multicollinearity or other numerical problems.\n",
       "\"\"\""
      ]
     },
     "execution_count": 83,
     "metadata": {},
     "output_type": "execute_result"
    }
   ],
   "source": [
    "# 다중회귀분석 검정\n",
    "multi_model = sm.OLS(target, x_data1)\n",
    "\n",
    "fitted_multi_model = multi_model.fit()\n",
    "fitted_multi_model.summary()"
   ]
  }
 ],
 "metadata": {
  "kernelspec": {
   "display_name": "Python 3",
   "language": "python",
   "name": "python3"
  },
  "language_info": {
   "codemirror_mode": {
    "name": "ipython",
    "version": 3
   },
   "file_extension": ".py",
   "mimetype": "text/x-python",
   "name": "python",
   "nbconvert_exporter": "python",
   "pygments_lexer": "ipython3",
   "version": "3.8.8"
  }
 },
 "nbformat": 4,
 "nbformat_minor": 5
}
