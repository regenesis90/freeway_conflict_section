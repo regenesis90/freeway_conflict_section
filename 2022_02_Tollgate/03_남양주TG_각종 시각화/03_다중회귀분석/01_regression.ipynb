{
 "cells": [
  {
   "cell_type": "code",
   "execution_count": null,
   "id": "c9e4c529-eb92-4439-a920-bc982dc97655",
   "metadata": {},
   "outputs": [],
   "source": [
    "######### 영업소 진입 광장부 다중회귀분석 최종본 #########\n",
    "\n",
    "import pandas as pd \n",
    "import numpy as np\n",
    "import statsmodels.api as sm\n",
    "import math"
   ]
  },
  {
   "cell_type": "code",
   "execution_count": null,
   "id": "9aeada88-38c8-4cef-925a-1fce6a1165d8",
   "metadata": {},
   "outputs": [],
   "source": [
    "# 데이터 불러오기\n",
    "tollgate = pd.read_csv(\"D:/Huh/바탕화면/대학원/고속도로 상충구간 주행행태 분석 및 교통안전정책 효과평가 모델 개발/2차년도/보고서/최종보고/2. 영업소 진입 구간/원본 데이터/Temp.csv\")   #   파일 경로\n",
    "\n",
    "tollgate_data = tollgate.drop([\"Vehicle Velocity(km/h)\"], axis=1)   #   종속변수 Column Drop"
   ]
  },
  {
   "cell_type": "code",
   "execution_count": null,
   "id": "a52d923c-87a6-4a2a-8e45-11e771c4bbc9",
   "metadata": {},
   "outputs": [],
   "source": [
    "# crim, rm, lstat을 통한 다중 선형회귀분석\n",
    "x_data = tollgate[[\"X_Remain\", \"Y_Remain\", \"Obs_Remain\", \"Volume\"]]   #   x_data : 독립변수 Columns\n",
    "target = tollgate[[\"Vehicle Velocity(km/h)\"]]   #   target : 종속변수 Column"
   ]
  },
  {
   "cell_type": "code",
   "execution_count": null,
   "id": "3d0695c5-1e6d-47f8-8406-ec4b9006b9d8",
   "metadata": {},
   "outputs": [],
   "source": [
    "# for b0, 상수항 추가\n",
    "x_data1 = sm.add_constant(x_data, has_constant = \"add\")"
   ]
  },
  {
   "cell_type": "code",
   "execution_count": null,
   "id": "649933d4-bad5-4073-bc34-43e4965d2939",
   "metadata": {},
   "outputs": [],
   "source": [
    "# 다중회귀분석 검정\n",
    "multi_model = sm.OLS(target, x_data1)\n",
    "fitted_multi_model = multi_model.fit()\n",
    "fitted_multi_model.summary()"
   ]
  }
 ],
 "metadata": {
  "kernelspec": {
   "display_name": "Python 3",
   "language": "python",
   "name": "python3"
  },
  "language_info": {
   "codemirror_mode": {
    "name": "ipython",
    "version": 3
   },
   "file_extension": ".py",
   "mimetype": "text/x-python",
   "name": "python",
   "nbconvert_exporter": "python",
   "pygments_lexer": "ipython3",
   "version": "3.8.8"
  }
 },
 "nbformat": 4,
 "nbformat_minor": 5
}
