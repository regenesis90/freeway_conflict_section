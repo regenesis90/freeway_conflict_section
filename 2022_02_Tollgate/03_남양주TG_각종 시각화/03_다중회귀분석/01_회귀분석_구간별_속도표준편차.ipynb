{
 "cells": [
  {
   "cell_type": "markdown",
   "id": "8361c813-92c4-40b4-b01d-6235835646ef",
   "metadata": {},
   "source": [
    "# Set Up"
   ]
  },
  {
   "cell_type": "markdown",
   "id": "403f28db-79a5-4531-b268-c0a194ea7e46",
   "metadata": {},
   "source": [
    "## Imports"
   ]
  },
  {
   "cell_type": "code",
   "execution_count": 91,
   "id": "c9e4c529-eb92-4439-a920-bc982dc97655",
   "metadata": {
    "execution": {
     "iopub.execute_input": "2022-10-19T02:31:07.699197Z",
     "iopub.status.busy": "2022-10-19T02:31:07.699197Z",
     "iopub.status.idle": "2022-10-19T02:31:07.710169Z",
     "shell.execute_reply": "2022-10-19T02:31:07.709171Z",
     "shell.execute_reply.started": "2022-10-19T02:31:07.699197Z"
    },
    "tags": []
   },
   "outputs": [],
   "source": [
    "######### 영업소 진입 광장부 다중회귀분석 최종본 #########\n",
    "\n",
    "import pandas as pd \n",
    "import numpy as np\n",
    "\n",
    "import os\n",
    "\n",
    "import statsmodels.api as sm\n",
    "import math"
   ]
  },
  {
   "cell_type": "markdown",
   "id": "de5ed577-e350-4b5a-a1d6-9c3af644f7bd",
   "metadata": {},
   "source": [
    "## Path"
   ]
  },
  {
   "cell_type": "code",
   "execution_count": 92,
   "id": "1bb60252-12b7-4db4-a700-84c8cfca6e6d",
   "metadata": {
    "execution": {
     "iopub.execute_input": "2022-10-19T02:31:07.711165Z",
     "iopub.status.busy": "2022-10-19T02:31:07.711165Z",
     "iopub.status.idle": "2022-10-19T02:31:07.725129Z",
     "shell.execute_reply": "2022-10-19T02:31:07.724158Z",
     "shell.execute_reply.started": "2022-10-19T02:31:07.711165Z"
    },
    "tags": []
   },
   "outputs": [],
   "source": [
    "data_dir = 'D:/OneDrive - 연세대학교 (Yonsei University)/Projects/Yonsei_TELab/003_도로상충_210517-/2차년도_2022/37_회귀분석_속도표준편차'"
   ]
  },
  {
   "cell_type": "code",
   "execution_count": 93,
   "id": "458205d6-b7a6-4ebd-be98-4993182426ee",
   "metadata": {
    "execution": {
     "iopub.execute_input": "2022-10-19T02:31:07.727125Z",
     "iopub.status.busy": "2022-10-19T02:31:07.727125Z",
     "iopub.status.idle": "2022-10-19T02:31:07.733242Z",
     "shell.execute_reply": "2022-10-19T02:31:07.732243Z",
     "shell.execute_reply.started": "2022-10-19T02:31:07.727125Z"
    },
    "tags": []
   },
   "outputs": [],
   "source": [
    "data_name = 'test_7-3_남양주TG_인접구간만.csv'"
   ]
  },
  {
   "cell_type": "code",
   "execution_count": 94,
   "id": "61c810e8-c15e-4fe3-a23f-730ba4de9d58",
   "metadata": {
    "execution": {
     "iopub.execute_input": "2022-10-19T02:31:07.736238Z",
     "iopub.status.busy": "2022-10-19T02:31:07.736238Z",
     "iopub.status.idle": "2022-10-19T02:31:07.750200Z",
     "shell.execute_reply": "2022-10-19T02:31:07.748204Z",
     "shell.execute_reply.started": "2022-10-19T02:31:07.736238Z"
    },
    "tags": []
   },
   "outputs": [],
   "source": [
    "data_path = os.path.join(data_dir, data_name)"
   ]
  },
  {
   "cell_type": "markdown",
   "id": "8233660a-00aa-4cf5-b29a-1aa472007785",
   "metadata": {},
   "source": [
    "## Load Dataset"
   ]
  },
  {
   "cell_type": "code",
   "execution_count": 95,
   "id": "ac0fa0b7-bd5e-473e-9902-bbb8c59b8b5a",
   "metadata": {
    "execution": {
     "iopub.execute_input": "2022-10-19T02:31:07.751203Z",
     "iopub.status.busy": "2022-10-19T02:31:07.751203Z",
     "iopub.status.idle": "2022-10-19T02:31:07.765675Z",
     "shell.execute_reply": "2022-10-19T02:31:07.764168Z",
     "shell.execute_reply.started": "2022-10-19T02:31:07.751203Z"
    },
    "tags": []
   },
   "outputs": [],
   "source": [
    "tollgate = pd.read_csv(data_path)"
   ]
  },
  {
   "cell_type": "code",
   "execution_count": 96,
   "id": "13c058f4-ac73-4d5b-a4d3-83c484986e55",
   "metadata": {
    "execution": {
     "iopub.execute_input": "2022-10-19T02:31:07.766678Z",
     "iopub.status.busy": "2022-10-19T02:31:07.766678Z",
     "iopub.status.idle": "2022-10-19T02:31:07.797596Z",
     "shell.execute_reply": "2022-10-19T02:31:07.795602Z",
     "shell.execute_reply.started": "2022-10-19T02:31:07.766678Z"
    },
    "tags": []
   },
   "outputs": [
    {
     "data": {
      "text/html": [
       "<div>\n",
       "<style scoped>\n",
       "    .dataframe tbody tr th:only-of-type {\n",
       "        vertical-align: middle;\n",
       "    }\n",
       "\n",
       "    .dataframe tbody tr th {\n",
       "        vertical-align: top;\n",
       "    }\n",
       "\n",
       "    .dataframe thead th {\n",
       "        text-align: right;\n",
       "    }\n",
       "</style>\n",
       "<table border=\"1\" class=\"dataframe\">\n",
       "  <thead>\n",
       "    <tr style=\"text-align: right;\">\n",
       "      <th></th>\n",
       "      <th>Place</th>\n",
       "      <th>Direction</th>\n",
       "      <th>X_remain</th>\n",
       "      <th>Y</th>\n",
       "      <th>Vehicle Velocity</th>\n",
       "      <th>deceleration</th>\n",
       "      <th>Y_remain</th>\n",
       "      <th>Volume</th>\n",
       "      <th>Obs_remain</th>\n",
       "      <th>Da_Hi</th>\n",
       "      <th>Del</th>\n",
       "    </tr>\n",
       "  </thead>\n",
       "  <tbody>\n",
       "    <tr>\n",
       "      <th>0</th>\n",
       "      <td>남양주TG</td>\n",
       "      <td>양양방향</td>\n",
       "      <td>230</td>\n",
       "      <td>16.0</td>\n",
       "      <td>53.8</td>\n",
       "      <td>0.7</td>\n",
       "      <td>20</td>\n",
       "      <td>88.0</td>\n",
       "      <td>0</td>\n",
       "      <td>다차로하이패스</td>\n",
       "      <td>폐기</td>\n",
       "    </tr>\n",
       "    <tr>\n",
       "      <th>1</th>\n",
       "      <td>NaN</td>\n",
       "      <td>NaN</td>\n",
       "      <td>230</td>\n",
       "      <td>17.8</td>\n",
       "      <td>57.0</td>\n",
       "      <td>0.3</td>\n",
       "      <td>15</td>\n",
       "      <td>73.0</td>\n",
       "      <td>0</td>\n",
       "      <td>다차로하이패스</td>\n",
       "      <td>NaN</td>\n",
       "    </tr>\n",
       "    <tr>\n",
       "      <th>2</th>\n",
       "      <td>NaN</td>\n",
       "      <td>NaN</td>\n",
       "      <td>230</td>\n",
       "      <td>9.7</td>\n",
       "      <td>62.4</td>\n",
       "      <td>0.2</td>\n",
       "      <td>0</td>\n",
       "      <td>28.0</td>\n",
       "      <td>120</td>\n",
       "      <td>NaN</td>\n",
       "      <td>NaN</td>\n",
       "    </tr>\n",
       "  </tbody>\n",
       "</table>\n",
       "</div>"
      ],
      "text/plain": [
       "   Place Direction  X_remain     Y  Vehicle Velocity  deceleration  Y_remain  \\\n",
       "0  남양주TG      양양방향       230  16.0              53.8           0.7        20   \n",
       "1    NaN       NaN       230  17.8              57.0           0.3        15   \n",
       "2    NaN       NaN       230   9.7              62.4           0.2         0   \n",
       "\n",
       "   Volume  Obs_remain    Da_Hi  Del  \n",
       "0    88.0           0  다차로하이패스   폐기  \n",
       "1    73.0           0  다차로하이패스  NaN  \n",
       "2    28.0         120      NaN  NaN  "
      ]
     },
     "execution_count": 96,
     "metadata": {},
     "output_type": "execute_result"
    }
   ],
   "source": [
    "tollgate.head(3)"
   ]
  },
  {
   "cell_type": "code",
   "execution_count": 97,
   "id": "5f13be58-cdc0-4bdf-b470-c0c00294bc1e",
   "metadata": {
    "execution": {
     "iopub.execute_input": "2022-10-19T02:31:07.799591Z",
     "iopub.status.busy": "2022-10-19T02:31:07.799591Z",
     "iopub.status.idle": "2022-10-19T02:31:07.815546Z",
     "shell.execute_reply": "2022-10-19T02:31:07.811557Z",
     "shell.execute_reply.started": "2022-10-19T02:31:07.799591Z"
    },
    "tags": []
   },
   "outputs": [],
   "source": [
    "tollgate = tollgate[tollgate['Del'] != '폐기'] # '폐기' 제외"
   ]
  },
  {
   "cell_type": "code",
   "execution_count": 98,
   "id": "71eccf42-6fad-4c17-9e11-0aee5175da67",
   "metadata": {
    "execution": {
     "iopub.execute_input": "2022-10-19T02:31:07.818539Z",
     "iopub.status.busy": "2022-10-19T02:31:07.817543Z",
     "iopub.status.idle": "2022-10-19T02:31:07.830506Z",
     "shell.execute_reply": "2022-10-19T02:31:07.827521Z",
     "shell.execute_reply.started": "2022-10-19T02:31:07.818539Z"
    },
    "tags": []
   },
   "outputs": [],
   "source": [
    "tollgate = tollgate.drop(['Place', 'deceleration', 'Direction', 'Da_Hi', 'Del'], axis = 1)"
   ]
  },
  {
   "cell_type": "code",
   "execution_count": 99,
   "id": "18c249d2-3278-48e8-b884-ecdcb0fdaf4a",
   "metadata": {
    "execution": {
     "iopub.execute_input": "2022-10-19T02:31:07.834499Z",
     "iopub.status.busy": "2022-10-19T02:31:07.833502Z",
     "iopub.status.idle": "2022-10-19T02:31:07.860446Z",
     "shell.execute_reply": "2022-10-19T02:31:07.859448Z",
     "shell.execute_reply.started": "2022-10-19T02:31:07.834499Z"
    },
    "tags": []
   },
   "outputs": [
    {
     "data": {
      "text/html": [
       "<div>\n",
       "<style scoped>\n",
       "    .dataframe tbody tr th:only-of-type {\n",
       "        vertical-align: middle;\n",
       "    }\n",
       "\n",
       "    .dataframe tbody tr th {\n",
       "        vertical-align: top;\n",
       "    }\n",
       "\n",
       "    .dataframe thead th {\n",
       "        text-align: right;\n",
       "    }\n",
       "</style>\n",
       "<table border=\"1\" class=\"dataframe\">\n",
       "  <thead>\n",
       "    <tr style=\"text-align: right;\">\n",
       "      <th></th>\n",
       "      <th>X_remain</th>\n",
       "      <th>Y</th>\n",
       "      <th>Vehicle Velocity</th>\n",
       "      <th>Y_remain</th>\n",
       "      <th>Volume</th>\n",
       "      <th>Obs_remain</th>\n",
       "    </tr>\n",
       "  </thead>\n",
       "  <tbody>\n",
       "    <tr>\n",
       "      <th>1</th>\n",
       "      <td>230</td>\n",
       "      <td>17.80</td>\n",
       "      <td>57.0</td>\n",
       "      <td>15</td>\n",
       "      <td>73.0</td>\n",
       "      <td>0</td>\n",
       "    </tr>\n",
       "    <tr>\n",
       "      <th>2</th>\n",
       "      <td>230</td>\n",
       "      <td>9.70</td>\n",
       "      <td>62.4</td>\n",
       "      <td>0</td>\n",
       "      <td>28.0</td>\n",
       "      <td>120</td>\n",
       "    </tr>\n",
       "    <tr>\n",
       "      <th>3</th>\n",
       "      <td>230</td>\n",
       "      <td>7.60</td>\n",
       "      <td>63.6</td>\n",
       "      <td>0</td>\n",
       "      <td>27.0</td>\n",
       "      <td>130</td>\n",
       "    </tr>\n",
       "    <tr>\n",
       "      <th>5</th>\n",
       "      <td>210</td>\n",
       "      <td>17.20</td>\n",
       "      <td>71.6</td>\n",
       "      <td>15</td>\n",
       "      <td>130.0</td>\n",
       "      <td>0</td>\n",
       "    </tr>\n",
       "    <tr>\n",
       "      <th>6</th>\n",
       "      <td>210</td>\n",
       "      <td>12.37</td>\n",
       "      <td>67.3</td>\n",
       "      <td>0</td>\n",
       "      <td>26.0</td>\n",
       "      <td>140</td>\n",
       "    </tr>\n",
       "    <tr>\n",
       "      <th>...</th>\n",
       "      <td>...</td>\n",
       "      <td>...</td>\n",
       "      <td>...</td>\n",
       "      <td>...</td>\n",
       "      <td>...</td>\n",
       "      <td>...</td>\n",
       "    </tr>\n",
       "    <tr>\n",
       "      <th>171</th>\n",
       "      <td>230</td>\n",
       "      <td>9.40</td>\n",
       "      <td>55.0</td>\n",
       "      <td>0</td>\n",
       "      <td>NaN</td>\n",
       "      <td>0</td>\n",
       "    </tr>\n",
       "    <tr>\n",
       "      <th>172</th>\n",
       "      <td>230</td>\n",
       "      <td>13.90</td>\n",
       "      <td>48.2</td>\n",
       "      <td>5</td>\n",
       "      <td>NaN</td>\n",
       "      <td>200</td>\n",
       "    </tr>\n",
       "    <tr>\n",
       "      <th>173</th>\n",
       "      <td>230</td>\n",
       "      <td>4.80</td>\n",
       "      <td>62.5</td>\n",
       "      <td>10</td>\n",
       "      <td>NaN</td>\n",
       "      <td>180</td>\n",
       "    </tr>\n",
       "    <tr>\n",
       "      <th>174</th>\n",
       "      <td>230</td>\n",
       "      <td>8.20</td>\n",
       "      <td>44.9</td>\n",
       "      <td>5</td>\n",
       "      <td>NaN</td>\n",
       "      <td>130</td>\n",
       "    </tr>\n",
       "    <tr>\n",
       "      <th>175</th>\n",
       "      <td>230</td>\n",
       "      <td>7.10</td>\n",
       "      <td>46.2</td>\n",
       "      <td>0</td>\n",
       "      <td>NaN</td>\n",
       "      <td>0</td>\n",
       "    </tr>\n",
       "  </tbody>\n",
       "</table>\n",
       "<p>149 rows × 6 columns</p>\n",
       "</div>"
      ],
      "text/plain": [
       "     X_remain      Y  Vehicle Velocity  Y_remain  Volume  Obs_remain\n",
       "1         230  17.80              57.0        15    73.0           0\n",
       "2         230   9.70              62.4         0    28.0         120\n",
       "3         230   7.60              63.6         0    27.0         130\n",
       "5         210  17.20              71.6        15   130.0           0\n",
       "6         210  12.37              67.3         0    26.0         140\n",
       "..        ...    ...               ...       ...     ...         ...\n",
       "171       230   9.40              55.0         0     NaN           0\n",
       "172       230  13.90              48.2         5     NaN         200\n",
       "173       230   4.80              62.5        10     NaN         180\n",
       "174       230   8.20              44.9         5     NaN         130\n",
       "175       230   7.10              46.2         0     NaN           0\n",
       "\n",
       "[149 rows x 6 columns]"
      ]
     },
     "execution_count": 99,
     "metadata": {},
     "output_type": "execute_result"
    }
   ],
   "source": [
    "tollgate"
   ]
  },
  {
   "cell_type": "code",
   "execution_count": 100,
   "id": "5ee74884-5bc4-456b-b7a5-2503debdef49",
   "metadata": {
    "execution": {
     "iopub.execute_input": "2022-10-19T02:31:07.862441Z",
     "iopub.status.busy": "2022-10-19T02:31:07.861443Z",
     "iopub.status.idle": "2022-10-19T02:31:07.875955Z",
     "shell.execute_reply": "2022-10-19T02:31:07.874957Z",
     "shell.execute_reply.started": "2022-10-19T02:31:07.862441Z"
    },
    "tags": []
   },
   "outputs": [],
   "source": [
    "tollgate.dropna(inplace = True) # 결측값 제거"
   ]
  },
  {
   "cell_type": "code",
   "execution_count": 101,
   "id": "2c23ed05-83e7-42c3-a142-13e08c3737dc",
   "metadata": {
    "execution": {
     "iopub.execute_input": "2022-10-19T02:31:07.877949Z",
     "iopub.status.busy": "2022-10-19T02:31:07.877949Z",
     "iopub.status.idle": "2022-10-19T02:31:07.896898Z",
     "shell.execute_reply": "2022-10-19T02:31:07.892914Z",
     "shell.execute_reply.started": "2022-10-19T02:31:07.877949Z"
    },
    "tags": []
   },
   "outputs": [
    {
     "data": {
      "text/plain": [
       "140"
      ]
     },
     "execution_count": 101,
     "metadata": {},
     "output_type": "execute_result"
    }
   ],
   "source": [
    "len(tollgate)"
   ]
  },
  {
   "cell_type": "markdown",
   "id": "c26e2f68-6346-486f-bd54-0a196c51af31",
   "metadata": {},
   "source": [
    "## Split Label / Data "
   ]
  },
  {
   "cell_type": "code",
   "execution_count": 102,
   "id": "132187a6-0fad-4097-a34f-c329fc1428de",
   "metadata": {
    "execution": {
     "iopub.execute_input": "2022-10-19T02:31:07.897896Z",
     "iopub.status.busy": "2022-10-19T02:31:07.897896Z",
     "iopub.status.idle": "2022-10-19T02:31:07.908870Z",
     "shell.execute_reply": "2022-10-19T02:31:07.905875Z",
     "shell.execute_reply.started": "2022-10-19T02:31:07.897896Z"
    },
    "tags": []
   },
   "outputs": [],
   "source": [
    "X_data = tollgate.drop(['Y'], axis = 1) # 설명변수만"
   ]
  },
  {
   "cell_type": "code",
   "execution_count": 103,
   "id": "404b5297-527d-444c-8012-a98f57722834",
   "metadata": {
    "execution": {
     "iopub.execute_input": "2022-10-19T02:31:07.912857Z",
     "iopub.status.busy": "2022-10-19T02:31:07.911871Z",
     "iopub.status.idle": "2022-10-19T02:31:07.924824Z",
     "shell.execute_reply": "2022-10-19T02:31:07.921831Z",
     "shell.execute_reply.started": "2022-10-19T02:31:07.912857Z"
    },
    "tags": []
   },
   "outputs": [],
   "source": [
    "target = tollgate[['Y']] # 종속변수만"
   ]
  },
  {
   "cell_type": "code",
   "execution_count": 104,
   "id": "3d0695c5-1e6d-47f8-8406-ec4b9006b9d8",
   "metadata": {
    "execution": {
     "iopub.execute_input": "2022-10-19T02:31:07.926821Z",
     "iopub.status.busy": "2022-10-19T02:31:07.926821Z",
     "iopub.status.idle": "2022-10-19T02:31:07.954758Z",
     "shell.execute_reply": "2022-10-19T02:31:07.952756Z",
     "shell.execute_reply.started": "2022-10-19T02:31:07.926821Z"
    },
    "tags": []
   },
   "outputs": [],
   "source": [
    "# for b0, 상수항 추가\n",
    "x_data1 = sm.add_constant(X_data, has_constant = 'add')"
   ]
  },
  {
   "cell_type": "code",
   "execution_count": 105,
   "id": "649933d4-bad5-4073-bc34-43e4965d2939",
   "metadata": {
    "execution": {
     "iopub.execute_input": "2022-10-19T02:31:07.956752Z",
     "iopub.status.busy": "2022-10-19T02:31:07.955748Z",
     "iopub.status.idle": "2022-10-19T02:31:07.985188Z",
     "shell.execute_reply": "2022-10-19T02:31:07.983198Z",
     "shell.execute_reply.started": "2022-10-19T02:31:07.956752Z"
    },
    "tags": []
   },
   "outputs": [
    {
     "data": {
      "text/html": [
       "<table class=\"simpletable\">\n",
       "<caption>OLS Regression Results</caption>\n",
       "<tr>\n",
       "  <th>Dep. Variable:</th>            <td>Y</td>        <th>  R-squared:         </th> <td>   0.061</td>\n",
       "</tr>\n",
       "<tr>\n",
       "  <th>Model:</th>                   <td>OLS</td>       <th>  Adj. R-squared:    </th> <td>   0.026</td>\n",
       "</tr>\n",
       "<tr>\n",
       "  <th>Method:</th>             <td>Least Squares</td>  <th>  F-statistic:       </th> <td>   1.741</td>\n",
       "</tr>\n",
       "<tr>\n",
       "  <th>Date:</th>             <td>Wed, 19 Oct 2022</td> <th>  Prob (F-statistic):</th>  <td> 0.129</td> \n",
       "</tr>\n",
       "<tr>\n",
       "  <th>Time:</th>                 <td>11:31:07</td>     <th>  Log-Likelihood:    </th> <td> -381.87</td>\n",
       "</tr>\n",
       "<tr>\n",
       "  <th>No. Observations:</th>      <td>   140</td>      <th>  AIC:               </th> <td>   775.7</td>\n",
       "</tr>\n",
       "<tr>\n",
       "  <th>Df Residuals:</th>          <td>   134</td>      <th>  BIC:               </th> <td>   793.4</td>\n",
       "</tr>\n",
       "<tr>\n",
       "  <th>Df Model:</th>              <td>     5</td>      <th>                     </th>     <td> </td>   \n",
       "</tr>\n",
       "<tr>\n",
       "  <th>Covariance Type:</th>      <td>nonrobust</td>    <th>                     </th>     <td> </td>   \n",
       "</tr>\n",
       "</table>\n",
       "<table class=\"simpletable\">\n",
       "<tr>\n",
       "          <td></td>            <th>coef</th>     <th>std err</th>      <th>t</th>      <th>P>|t|</th>  <th>[0.025</th>    <th>0.975]</th>  \n",
       "</tr>\n",
       "<tr>\n",
       "  <th>const</th>            <td>    9.8269</td> <td>    2.051</td> <td>    4.791</td> <td> 0.000</td> <td>    5.770</td> <td>   13.884</td>\n",
       "</tr>\n",
       "<tr>\n",
       "  <th>X_remain</th>         <td>    0.0026</td> <td>    0.008</td> <td>    0.309</td> <td> 0.758</td> <td>   -0.014</td> <td>    0.019</td>\n",
       "</tr>\n",
       "<tr>\n",
       "  <th>Vehicle Velocity</th> <td>    0.0344</td> <td>    0.041</td> <td>    0.844</td> <td> 0.400</td> <td>   -0.046</td> <td>    0.115</td>\n",
       "</tr>\n",
       "<tr>\n",
       "  <th>Y_remain</th>         <td>    0.1587</td> <td>    0.095</td> <td>    1.663</td> <td> 0.099</td> <td>   -0.030</td> <td>    0.347</td>\n",
       "</tr>\n",
       "<tr>\n",
       "  <th>Volume</th>           <td>   -0.0022</td> <td>    0.005</td> <td>   -0.476</td> <td> 0.635</td> <td>   -0.011</td> <td>    0.007</td>\n",
       "</tr>\n",
       "<tr>\n",
       "  <th>Obs_remain</th>       <td>   -0.0226</td> <td>    0.009</td> <td>   -2.498</td> <td> 0.014</td> <td>   -0.040</td> <td>   -0.005</td>\n",
       "</tr>\n",
       "</table>\n",
       "<table class=\"simpletable\">\n",
       "<tr>\n",
       "  <th>Omnibus:</th>       <td> 8.776</td> <th>  Durbin-Watson:     </th> <td>   1.655</td>\n",
       "</tr>\n",
       "<tr>\n",
       "  <th>Prob(Omnibus):</th> <td> 0.012</td> <th>  Jarque-Bera (JB):  </th> <td>  11.295</td>\n",
       "</tr>\n",
       "<tr>\n",
       "  <th>Skew:</th>          <td>-0.375</td> <th>  Prob(JB):          </th> <td> 0.00353</td>\n",
       "</tr>\n",
       "<tr>\n",
       "  <th>Kurtosis:</th>      <td> 4.172</td> <th>  Cond. No.          </th> <td>1.06e+03</td>\n",
       "</tr>\n",
       "</table><br/><br/>Notes:<br/>[1] Standard Errors assume that the covariance matrix of the errors is correctly specified.<br/>[2] The condition number is large, 1.06e+03. This might indicate that there are<br/>strong multicollinearity or other numerical problems."
      ],
      "text/plain": [
       "<class 'statsmodels.iolib.summary.Summary'>\n",
       "\"\"\"\n",
       "                            OLS Regression Results                            \n",
       "==============================================================================\n",
       "Dep. Variable:                      Y   R-squared:                       0.061\n",
       "Model:                            OLS   Adj. R-squared:                  0.026\n",
       "Method:                 Least Squares   F-statistic:                     1.741\n",
       "Date:                Wed, 19 Oct 2022   Prob (F-statistic):              0.129\n",
       "Time:                        11:31:07   Log-Likelihood:                -381.87\n",
       "No. Observations:                 140   AIC:                             775.7\n",
       "Df Residuals:                     134   BIC:                             793.4\n",
       "Df Model:                           5                                         \n",
       "Covariance Type:            nonrobust                                         \n",
       "====================================================================================\n",
       "                       coef    std err          t      P>|t|      [0.025      0.975]\n",
       "------------------------------------------------------------------------------------\n",
       "const                9.8269      2.051      4.791      0.000       5.770      13.884\n",
       "X_remain             0.0026      0.008      0.309      0.758      -0.014       0.019\n",
       "Vehicle Velocity     0.0344      0.041      0.844      0.400      -0.046       0.115\n",
       "Y_remain             0.1587      0.095      1.663      0.099      -0.030       0.347\n",
       "Volume              -0.0022      0.005     -0.476      0.635      -0.011       0.007\n",
       "Obs_remain          -0.0226      0.009     -2.498      0.014      -0.040      -0.005\n",
       "==============================================================================\n",
       "Omnibus:                        8.776   Durbin-Watson:                   1.655\n",
       "Prob(Omnibus):                  0.012   Jarque-Bera (JB):               11.295\n",
       "Skew:                          -0.375   Prob(JB):                      0.00353\n",
       "Kurtosis:                       4.172   Cond. No.                     1.06e+03\n",
       "==============================================================================\n",
       "\n",
       "Notes:\n",
       "[1] Standard Errors assume that the covariance matrix of the errors is correctly specified.\n",
       "[2] The condition number is large, 1.06e+03. This might indicate that there are\n",
       "strong multicollinearity or other numerical problems.\n",
       "\"\"\""
      ]
     },
     "execution_count": 105,
     "metadata": {},
     "output_type": "execute_result"
    }
   ],
   "source": [
    "# 다중회귀분석 검정\n",
    "multi_model = sm.OLS(target, x_data1)\n",
    "\n",
    "fitted_multi_model = multi_model.fit()\n",
    "fitted_multi_model.summary()"
   ]
  }
 ],
 "metadata": {
  "kernelspec": {
   "display_name": "Python 3",
   "language": "python",
   "name": "python3"
  },
  "language_info": {
   "codemirror_mode": {
    "name": "ipython",
    "version": 3
   },
   "file_extension": ".py",
   "mimetype": "text/x-python",
   "name": "python",
   "nbconvert_exporter": "python",
   "pygments_lexer": "ipython3",
   "version": "3.8.8"
  }
 },
 "nbformat": 4,
 "nbformat_minor": 5
}
