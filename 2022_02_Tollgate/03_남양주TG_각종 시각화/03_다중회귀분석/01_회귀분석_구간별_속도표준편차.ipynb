{
 "cells": [
  {
   "cell_type": "markdown",
   "id": "8361c813-92c4-40b4-b01d-6235835646ef",
   "metadata": {},
   "source": [
    "# Set Up"
   ]
  },
  {
   "cell_type": "markdown",
   "id": "403f28db-79a5-4531-b268-c0a194ea7e46",
   "metadata": {},
   "source": [
    "## Imports"
   ]
  },
  {
   "cell_type": "code",
   "execution_count": 32,
   "id": "c9e4c529-eb92-4439-a920-bc982dc97655",
   "metadata": {
    "execution": {
     "iopub.execute_input": "2022-10-17T11:11:30.911693Z",
     "iopub.status.busy": "2022-10-17T11:11:30.910697Z",
     "iopub.status.idle": "2022-10-17T11:11:30.915682Z",
     "shell.execute_reply": "2022-10-17T11:11:30.914684Z",
     "shell.execute_reply.started": "2022-10-17T11:11:30.911693Z"
    },
    "tags": []
   },
   "outputs": [],
   "source": [
    "######### 영업소 진입 광장부 다중회귀분석 최종본 #########\n",
    "\n",
    "import pandas as pd \n",
    "import numpy as np\n",
    "\n",
    "import os\n",
    "\n",
    "import statsmodels.api as sm\n",
    "import math"
   ]
  },
  {
   "cell_type": "markdown",
   "id": "de5ed577-e350-4b5a-a1d6-9c3af644f7bd",
   "metadata": {},
   "source": [
    "## Path"
   ]
  },
  {
   "cell_type": "code",
   "execution_count": 33,
   "id": "1bb60252-12b7-4db4-a700-84c8cfca6e6d",
   "metadata": {
    "execution": {
     "iopub.execute_input": "2022-10-17T11:11:30.916680Z",
     "iopub.status.busy": "2022-10-17T11:11:30.916680Z",
     "iopub.status.idle": "2022-10-17T11:11:30.931678Z",
     "shell.execute_reply": "2022-10-17T11:11:30.930670Z",
     "shell.execute_reply.started": "2022-10-17T11:11:30.916680Z"
    },
    "tags": []
   },
   "outputs": [],
   "source": [
    "data_dir = 'D:/OneDrive - 연세대학교 (Yonsei University)/Projects/Yonsei_TELab/003_도로상충_210517-/2차년도_2022/37_회귀분석_속도표준편차'"
   ]
  },
  {
   "cell_type": "code",
   "execution_count": 34,
   "id": "458205d6-b7a6-4ebd-be98-4993182426ee",
   "metadata": {
    "execution": {
     "iopub.execute_input": "2022-10-17T11:11:30.932637Z",
     "iopub.status.busy": "2022-10-17T11:11:30.932637Z",
     "iopub.status.idle": "2022-10-17T11:11:30.948600Z",
     "shell.execute_reply": "2022-10-17T11:11:30.946599Z",
     "shell.execute_reply.started": "2022-10-17T11:11:30.932637Z"
    },
    "tags": []
   },
   "outputs": [],
   "source": [
    "data_name = 'test5.csv'"
   ]
  },
  {
   "cell_type": "code",
   "execution_count": 35,
   "id": "61c810e8-c15e-4fe3-a23f-730ba4de9d58",
   "metadata": {
    "execution": {
     "iopub.execute_input": "2022-10-17T11:11:30.952590Z",
     "iopub.status.busy": "2022-10-17T11:11:30.951630Z",
     "iopub.status.idle": "2022-10-17T11:11:30.964562Z",
     "shell.execute_reply": "2022-10-17T11:11:30.962598Z",
     "shell.execute_reply.started": "2022-10-17T11:11:30.952590Z"
    },
    "tags": []
   },
   "outputs": [],
   "source": [
    "data_path = os.path.join(data_dir, data_name)"
   ]
  },
  {
   "cell_type": "markdown",
   "id": "8233660a-00aa-4cf5-b29a-1aa472007785",
   "metadata": {},
   "source": [
    "## Load Dataset"
   ]
  },
  {
   "cell_type": "code",
   "execution_count": 36,
   "id": "ac0fa0b7-bd5e-473e-9902-bbb8c59b8b5a",
   "metadata": {
    "execution": {
     "iopub.execute_input": "2022-10-17T11:11:30.966077Z",
     "iopub.status.busy": "2022-10-17T11:11:30.966077Z",
     "iopub.status.idle": "2022-10-17T11:11:31.402970Z",
     "shell.execute_reply": "2022-10-17T11:11:31.402002Z",
     "shell.execute_reply.started": "2022-10-17T11:11:30.966077Z"
    },
    "tags": []
   },
   "outputs": [
    {
     "ename": "FileNotFoundError",
     "evalue": "[Errno 2] No such file or directory: 'D:/OneDrive - 연세대학교 (Yonsei University)/Projects/Yonsei_TELab/003_도로상충_210517-/2차년도_2022/37_회귀분석_속도표준편차\\\\test1.csv'",
     "output_type": "error",
     "traceback": [
      "\u001b[1;31m---------------------------------------------------------------------------\u001b[0m",
      "\u001b[1;31mFileNotFoundError\u001b[0m                         Traceback (most recent call last)",
      "\u001b[1;32m<ipython-input-36-9761b1fa284a>\u001b[0m in \u001b[0;36m<module>\u001b[1;34m\u001b[0m\n\u001b[1;32m----> 1\u001b[1;33m \u001b[0mtollgate\u001b[0m \u001b[1;33m=\u001b[0m \u001b[0mpd\u001b[0m\u001b[1;33m.\u001b[0m\u001b[0mread_csv\u001b[0m\u001b[1;33m(\u001b[0m\u001b[0mdata_path\u001b[0m\u001b[1;33m)\u001b[0m\u001b[1;33m\u001b[0m\u001b[1;33m\u001b[0m\u001b[0m\n\u001b[0m",
      "\u001b[1;32mC:\\dev\\Anaconda_3\\lib\\site-packages\\pandas\\io\\parsers.py\u001b[0m in \u001b[0;36mread_csv\u001b[1;34m(filepath_or_buffer, sep, delimiter, header, names, index_col, usecols, squeeze, prefix, mangle_dupe_cols, dtype, engine, converters, true_values, false_values, skipinitialspace, skiprows, skipfooter, nrows, na_values, keep_default_na, na_filter, verbose, skip_blank_lines, parse_dates, infer_datetime_format, keep_date_col, date_parser, dayfirst, cache_dates, iterator, chunksize, compression, thousands, decimal, lineterminator, quotechar, quoting, doublequote, escapechar, comment, encoding, dialect, error_bad_lines, warn_bad_lines, delim_whitespace, low_memory, memory_map, float_precision, storage_options)\u001b[0m\n\u001b[0;32m    608\u001b[0m     \u001b[0mkwds\u001b[0m\u001b[1;33m.\u001b[0m\u001b[0mupdate\u001b[0m\u001b[1;33m(\u001b[0m\u001b[0mkwds_defaults\u001b[0m\u001b[1;33m)\u001b[0m\u001b[1;33m\u001b[0m\u001b[1;33m\u001b[0m\u001b[0m\n\u001b[0;32m    609\u001b[0m \u001b[1;33m\u001b[0m\u001b[0m\n\u001b[1;32m--> 610\u001b[1;33m     \u001b[1;32mreturn\u001b[0m \u001b[0m_read\u001b[0m\u001b[1;33m(\u001b[0m\u001b[0mfilepath_or_buffer\u001b[0m\u001b[1;33m,\u001b[0m \u001b[0mkwds\u001b[0m\u001b[1;33m)\u001b[0m\u001b[1;33m\u001b[0m\u001b[1;33m\u001b[0m\u001b[0m\n\u001b[0m\u001b[0;32m    611\u001b[0m \u001b[1;33m\u001b[0m\u001b[0m\n\u001b[0;32m    612\u001b[0m \u001b[1;33m\u001b[0m\u001b[0m\n",
      "\u001b[1;32mC:\\dev\\Anaconda_3\\lib\\site-packages\\pandas\\io\\parsers.py\u001b[0m in \u001b[0;36m_read\u001b[1;34m(filepath_or_buffer, kwds)\u001b[0m\n\u001b[0;32m    460\u001b[0m \u001b[1;33m\u001b[0m\u001b[0m\n\u001b[0;32m    461\u001b[0m     \u001b[1;31m# Create the parser.\u001b[0m\u001b[1;33m\u001b[0m\u001b[1;33m\u001b[0m\u001b[1;33m\u001b[0m\u001b[0m\n\u001b[1;32m--> 462\u001b[1;33m     \u001b[0mparser\u001b[0m \u001b[1;33m=\u001b[0m \u001b[0mTextFileReader\u001b[0m\u001b[1;33m(\u001b[0m\u001b[0mfilepath_or_buffer\u001b[0m\u001b[1;33m,\u001b[0m \u001b[1;33m**\u001b[0m\u001b[0mkwds\u001b[0m\u001b[1;33m)\u001b[0m\u001b[1;33m\u001b[0m\u001b[1;33m\u001b[0m\u001b[0m\n\u001b[0m\u001b[0;32m    463\u001b[0m \u001b[1;33m\u001b[0m\u001b[0m\n\u001b[0;32m    464\u001b[0m     \u001b[1;32mif\u001b[0m \u001b[0mchunksize\u001b[0m \u001b[1;32mor\u001b[0m \u001b[0miterator\u001b[0m\u001b[1;33m:\u001b[0m\u001b[1;33m\u001b[0m\u001b[1;33m\u001b[0m\u001b[0m\n",
      "\u001b[1;32mC:\\dev\\Anaconda_3\\lib\\site-packages\\pandas\\io\\parsers.py\u001b[0m in \u001b[0;36m__init__\u001b[1;34m(self, f, engine, **kwds)\u001b[0m\n\u001b[0;32m    817\u001b[0m             \u001b[0mself\u001b[0m\u001b[1;33m.\u001b[0m\u001b[0moptions\u001b[0m\u001b[1;33m[\u001b[0m\u001b[1;34m\"has_index_names\"\u001b[0m\u001b[1;33m]\u001b[0m \u001b[1;33m=\u001b[0m \u001b[0mkwds\u001b[0m\u001b[1;33m[\u001b[0m\u001b[1;34m\"has_index_names\"\u001b[0m\u001b[1;33m]\u001b[0m\u001b[1;33m\u001b[0m\u001b[1;33m\u001b[0m\u001b[0m\n\u001b[0;32m    818\u001b[0m \u001b[1;33m\u001b[0m\u001b[0m\n\u001b[1;32m--> 819\u001b[1;33m         \u001b[0mself\u001b[0m\u001b[1;33m.\u001b[0m\u001b[0m_engine\u001b[0m \u001b[1;33m=\u001b[0m \u001b[0mself\u001b[0m\u001b[1;33m.\u001b[0m\u001b[0m_make_engine\u001b[0m\u001b[1;33m(\u001b[0m\u001b[0mself\u001b[0m\u001b[1;33m.\u001b[0m\u001b[0mengine\u001b[0m\u001b[1;33m)\u001b[0m\u001b[1;33m\u001b[0m\u001b[1;33m\u001b[0m\u001b[0m\n\u001b[0m\u001b[0;32m    820\u001b[0m \u001b[1;33m\u001b[0m\u001b[0m\n\u001b[0;32m    821\u001b[0m     \u001b[1;32mdef\u001b[0m \u001b[0mclose\u001b[0m\u001b[1;33m(\u001b[0m\u001b[0mself\u001b[0m\u001b[1;33m)\u001b[0m\u001b[1;33m:\u001b[0m\u001b[1;33m\u001b[0m\u001b[1;33m\u001b[0m\u001b[0m\n",
      "\u001b[1;32mC:\\dev\\Anaconda_3\\lib\\site-packages\\pandas\\io\\parsers.py\u001b[0m in \u001b[0;36m_make_engine\u001b[1;34m(self, engine)\u001b[0m\n\u001b[0;32m   1048\u001b[0m             )\n\u001b[0;32m   1049\u001b[0m         \u001b[1;31m# error: Too many arguments for \"ParserBase\"\u001b[0m\u001b[1;33m\u001b[0m\u001b[1;33m\u001b[0m\u001b[1;33m\u001b[0m\u001b[0m\n\u001b[1;32m-> 1050\u001b[1;33m         \u001b[1;32mreturn\u001b[0m \u001b[0mmapping\u001b[0m\u001b[1;33m[\u001b[0m\u001b[0mengine\u001b[0m\u001b[1;33m]\u001b[0m\u001b[1;33m(\u001b[0m\u001b[0mself\u001b[0m\u001b[1;33m.\u001b[0m\u001b[0mf\u001b[0m\u001b[1;33m,\u001b[0m \u001b[1;33m**\u001b[0m\u001b[0mself\u001b[0m\u001b[1;33m.\u001b[0m\u001b[0moptions\u001b[0m\u001b[1;33m)\u001b[0m  \u001b[1;31m# type: ignore[call-arg]\u001b[0m\u001b[1;33m\u001b[0m\u001b[1;33m\u001b[0m\u001b[0m\n\u001b[0m\u001b[0;32m   1051\u001b[0m \u001b[1;33m\u001b[0m\u001b[0m\n\u001b[0;32m   1052\u001b[0m     \u001b[1;32mdef\u001b[0m \u001b[0m_failover_to_python\u001b[0m\u001b[1;33m(\u001b[0m\u001b[0mself\u001b[0m\u001b[1;33m)\u001b[0m\u001b[1;33m:\u001b[0m\u001b[1;33m\u001b[0m\u001b[1;33m\u001b[0m\u001b[0m\n",
      "\u001b[1;32mC:\\dev\\Anaconda_3\\lib\\site-packages\\pandas\\io\\parsers.py\u001b[0m in \u001b[0;36m__init__\u001b[1;34m(self, src, **kwds)\u001b[0m\n\u001b[0;32m   1865\u001b[0m \u001b[1;33m\u001b[0m\u001b[0m\n\u001b[0;32m   1866\u001b[0m         \u001b[1;31m# open handles\u001b[0m\u001b[1;33m\u001b[0m\u001b[1;33m\u001b[0m\u001b[1;33m\u001b[0m\u001b[0m\n\u001b[1;32m-> 1867\u001b[1;33m         \u001b[0mself\u001b[0m\u001b[1;33m.\u001b[0m\u001b[0m_open_handles\u001b[0m\u001b[1;33m(\u001b[0m\u001b[0msrc\u001b[0m\u001b[1;33m,\u001b[0m \u001b[0mkwds\u001b[0m\u001b[1;33m)\u001b[0m\u001b[1;33m\u001b[0m\u001b[1;33m\u001b[0m\u001b[0m\n\u001b[0m\u001b[0;32m   1868\u001b[0m         \u001b[1;32massert\u001b[0m \u001b[0mself\u001b[0m\u001b[1;33m.\u001b[0m\u001b[0mhandles\u001b[0m \u001b[1;32mis\u001b[0m \u001b[1;32mnot\u001b[0m \u001b[1;32mNone\u001b[0m\u001b[1;33m\u001b[0m\u001b[1;33m\u001b[0m\u001b[0m\n\u001b[0;32m   1869\u001b[0m         \u001b[1;32mfor\u001b[0m \u001b[0mkey\u001b[0m \u001b[1;32min\u001b[0m \u001b[1;33m(\u001b[0m\u001b[1;34m\"storage_options\"\u001b[0m\u001b[1;33m,\u001b[0m \u001b[1;34m\"encoding\"\u001b[0m\u001b[1;33m,\u001b[0m \u001b[1;34m\"memory_map\"\u001b[0m\u001b[1;33m,\u001b[0m \u001b[1;34m\"compression\"\u001b[0m\u001b[1;33m)\u001b[0m\u001b[1;33m:\u001b[0m\u001b[1;33m\u001b[0m\u001b[1;33m\u001b[0m\u001b[0m\n",
      "\u001b[1;32mC:\\dev\\Anaconda_3\\lib\\site-packages\\pandas\\io\\parsers.py\u001b[0m in \u001b[0;36m_open_handles\u001b[1;34m(self, src, kwds)\u001b[0m\n\u001b[0;32m   1360\u001b[0m         \u001b[0mLet\u001b[0m \u001b[0mthe\u001b[0m \u001b[0mreaders\u001b[0m \u001b[0mopen\u001b[0m \u001b[0mIOHanldes\u001b[0m \u001b[0mafter\u001b[0m \u001b[0mthey\u001b[0m \u001b[0mare\u001b[0m \u001b[0mdone\u001b[0m \u001b[1;32mwith\u001b[0m \u001b[0mtheir\u001b[0m \u001b[0mpotential\u001b[0m \u001b[0mraises\u001b[0m\u001b[1;33m.\u001b[0m\u001b[1;33m\u001b[0m\u001b[1;33m\u001b[0m\u001b[0m\n\u001b[0;32m   1361\u001b[0m         \"\"\"\n\u001b[1;32m-> 1362\u001b[1;33m         self.handles = get_handle(\n\u001b[0m\u001b[0;32m   1363\u001b[0m             \u001b[0msrc\u001b[0m\u001b[1;33m,\u001b[0m\u001b[1;33m\u001b[0m\u001b[1;33m\u001b[0m\u001b[0m\n\u001b[0;32m   1364\u001b[0m             \u001b[1;34m\"r\"\u001b[0m\u001b[1;33m,\u001b[0m\u001b[1;33m\u001b[0m\u001b[1;33m\u001b[0m\u001b[0m\n",
      "\u001b[1;32mC:\\dev\\Anaconda_3\\lib\\site-packages\\pandas\\io\\common.py\u001b[0m in \u001b[0;36mget_handle\u001b[1;34m(path_or_buf, mode, encoding, compression, memory_map, is_text, errors, storage_options)\u001b[0m\n\u001b[0;32m    640\u001b[0m                 \u001b[0merrors\u001b[0m \u001b[1;33m=\u001b[0m \u001b[1;34m\"replace\"\u001b[0m\u001b[1;33m\u001b[0m\u001b[1;33m\u001b[0m\u001b[0m\n\u001b[0;32m    641\u001b[0m             \u001b[1;31m# Encoding\u001b[0m\u001b[1;33m\u001b[0m\u001b[1;33m\u001b[0m\u001b[1;33m\u001b[0m\u001b[0m\n\u001b[1;32m--> 642\u001b[1;33m             handle = open(\n\u001b[0m\u001b[0;32m    643\u001b[0m                 \u001b[0mhandle\u001b[0m\u001b[1;33m,\u001b[0m\u001b[1;33m\u001b[0m\u001b[1;33m\u001b[0m\u001b[0m\n\u001b[0;32m    644\u001b[0m                 \u001b[0mioargs\u001b[0m\u001b[1;33m.\u001b[0m\u001b[0mmode\u001b[0m\u001b[1;33m,\u001b[0m\u001b[1;33m\u001b[0m\u001b[1;33m\u001b[0m\u001b[0m\n",
      "\u001b[1;31mFileNotFoundError\u001b[0m: [Errno 2] No such file or directory: 'D:/OneDrive - 연세대학교 (Yonsei University)/Projects/Yonsei_TELab/003_도로상충_210517-/2차년도_2022/37_회귀분석_속도표준편차\\\\test1.csv'"
     ]
    }
   ],
   "source": [
    "tollgate = pd.read_csv(data_path)"
   ]
  },
  {
   "cell_type": "code",
   "execution_count": null,
   "id": "13c058f4-ac73-4d5b-a4d3-83c484986e55",
   "metadata": {
    "execution": {
     "iopub.status.busy": "2022-10-17T11:11:31.403981Z",
     "iopub.status.idle": "2022-10-17T11:11:31.403981Z",
     "shell.execute_reply": "2022-10-17T11:11:31.403981Z"
    },
    "tags": []
   },
   "outputs": [],
   "source": [
    "tollgate.head(3)"
   ]
  },
  {
   "cell_type": "code",
   "execution_count": null,
   "id": "21522dd1-7f36-4eae-8df8-915f4b616b0c",
   "metadata": {
    "execution": {
     "iopub.status.busy": "2022-10-17T11:11:31.404965Z",
     "iopub.status.idle": "2022-10-17T11:11:31.404965Z",
     "shell.execute_reply": "2022-10-17T11:11:31.404965Z"
    },
    "tags": []
   },
   "outputs": [],
   "source": [
    "len(tollgate)"
   ]
  },
  {
   "cell_type": "code",
   "execution_count": null,
   "id": "fa866dc0-bc9f-43a6-98ca-cebf9d871987",
   "metadata": {
    "execution": {
     "iopub.status.busy": "2022-10-17T11:11:31.405964Z",
     "iopub.status.idle": "2022-10-17T11:11:31.405964Z",
     "shell.execute_reply": "2022-10-17T11:11:31.405964Z"
    },
    "tags": []
   },
   "outputs": [],
   "source": [
    "tollgate.head(3)"
   ]
  },
  {
   "cell_type": "code",
   "execution_count": null,
   "id": "71eccf42-6fad-4c17-9e11-0aee5175da67",
   "metadata": {
    "execution": {
     "iopub.status.busy": "2022-10-17T11:11:31.406959Z",
     "iopub.status.idle": "2022-10-17T11:11:31.406959Z",
     "shell.execute_reply": "2022-10-17T11:11:31.406959Z"
    },
    "tags": []
   },
   "outputs": [],
   "source": [
    "tollgate = tollgate.drop(['Place', 'Direction', 'Da_Hi'], axis = 1)"
   ]
  },
  {
   "cell_type": "code",
   "execution_count": null,
   "id": "5ee74884-5bc4-456b-b7a5-2503debdef49",
   "metadata": {
    "execution": {
     "iopub.status.busy": "2022-10-17T11:11:31.407957Z",
     "iopub.status.idle": "2022-10-17T11:11:31.407957Z",
     "shell.execute_reply": "2022-10-17T11:11:31.407957Z"
    },
    "tags": []
   },
   "outputs": [],
   "source": [
    "tollgate.dropna(inplace = True) # 결측값 제거"
   ]
  },
  {
   "cell_type": "code",
   "execution_count": null,
   "id": "2c23ed05-83e7-42c3-a142-13e08c3737dc",
   "metadata": {
    "execution": {
     "iopub.status.busy": "2022-10-17T11:11:31.408954Z",
     "iopub.status.idle": "2022-10-17T11:11:31.408954Z",
     "shell.execute_reply": "2022-10-17T11:11:31.408954Z"
    },
    "tags": []
   },
   "outputs": [],
   "source": [
    "len(tollgate)"
   ]
  },
  {
   "cell_type": "markdown",
   "id": "c26e2f68-6346-486f-bd54-0a196c51af31",
   "metadata": {},
   "source": [
    "## Split Label / Data "
   ]
  },
  {
   "cell_type": "code",
   "execution_count": null,
   "id": "132187a6-0fad-4097-a34f-c329fc1428de",
   "metadata": {
    "execution": {
     "iopub.status.busy": "2022-10-17T11:11:31.408954Z",
     "iopub.status.idle": "2022-10-17T11:11:31.409951Z",
     "shell.execute_reply": "2022-10-17T11:11:31.408954Z"
    },
    "tags": []
   },
   "outputs": [],
   "source": [
    "X_data = tollgate.drop(['Y'], axis = 1) # 설명변수만"
   ]
  },
  {
   "cell_type": "code",
   "execution_count": null,
   "id": "404b5297-527d-444c-8012-a98f57722834",
   "metadata": {
    "execution": {
     "iopub.status.busy": "2022-10-17T11:11:31.409951Z",
     "iopub.status.idle": "2022-10-17T11:11:31.410949Z",
     "shell.execute_reply": "2022-10-17T11:11:31.409951Z"
    },
    "tags": []
   },
   "outputs": [],
   "source": [
    "target = tollgate[['Y']] # 종속변수만"
   ]
  },
  {
   "cell_type": "code",
   "execution_count": null,
   "id": "3d0695c5-1e6d-47f8-8406-ec4b9006b9d8",
   "metadata": {
    "execution": {
     "iopub.status.busy": "2022-10-17T11:11:31.410949Z",
     "iopub.status.idle": "2022-10-17T11:11:31.410949Z",
     "shell.execute_reply": "2022-10-17T11:11:31.410949Z"
    },
    "tags": []
   },
   "outputs": [],
   "source": [
    "# for b0, 상수항 추가\n",
    "x_data1 = sm.add_constant(X_data, has_constant = 'add')"
   ]
  },
  {
   "cell_type": "code",
   "execution_count": null,
   "id": "649933d4-bad5-4073-bc34-43e4965d2939",
   "metadata": {
    "execution": {
     "iopub.status.busy": "2022-10-17T11:11:31.411946Z",
     "iopub.status.idle": "2022-10-17T11:11:31.411946Z",
     "shell.execute_reply": "2022-10-17T11:11:31.411946Z"
    },
    "tags": []
   },
   "outputs": [],
   "source": [
    "# 다중회귀분석 검정\n",
    "multi_model = sm.OLS(target, x_data1)\n",
    "\n",
    "fitted_multi_model = multi_model.fit()\n",
    "fitted_multi_model.summary()"
   ]
  }
 ],
 "metadata": {
  "kernelspec": {
   "display_name": "Python 3",
   "language": "python",
   "name": "python3"
  },
  "language_info": {
   "codemirror_mode": {
    "name": "ipython",
    "version": 3
   },
   "file_extension": ".py",
   "mimetype": "text/x-python",
   "name": "python",
   "nbconvert_exporter": "python",
   "pygments_lexer": "ipython3",
   "version": "3.8.8"
  }
 },
 "nbformat": 4,
 "nbformat_minor": 5
}
