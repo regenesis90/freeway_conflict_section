{
 "cells": [
  {
   "cell_type": "markdown",
   "id": "8fd430e3-e60c-4829-bcc6-2c10f2e05833",
   "metadata": {},
   "source": [
    "# Extraction - Basic\n",
    "* 고속도로 기본구간(1번 영상) 분석"
   ]
  },
  {
   "cell_type": "markdown",
   "id": "17c4fd56-e64e-476f-90e8-5f4a575db631",
   "metadata": {},
   "source": [
    "# Imports"
   ]
  },
  {
   "cell_type": "code",
   "execution_count": 1,
   "id": "4dc50724-cd35-44f6-8b51-068b23d67474",
   "metadata": {
    "execution": {
     "iopub.execute_input": "2022-06-27T10:46:01.258276Z",
     "iopub.status.busy": "2022-06-27T10:46:01.258276Z",
     "iopub.status.idle": "2022-06-27T10:46:01.639591Z",
     "shell.execute_reply": "2022-06-27T10:46:01.639591Z",
     "shell.execute_reply.started": "2022-06-27T10:46:01.258276Z"
    },
    "tags": []
   },
   "outputs": [],
   "source": [
    "import numpy as np\n",
    "import pandas as pd\n",
    "\n",
    "import os\n",
    "from tqdm import tqdm"
   ]
  },
  {
   "cell_type": "markdown",
   "id": "d730a227-46f1-4294-a38c-8903cf1233b1",
   "metadata": {},
   "source": [
    "# Extraction by LOS\n",
    "* `01_density_by_frame` 폴더의 내용을 바탕으로 LOS별 추출할 프레임을 지정\n",
    "* **다음을 먼저 작성해야 합니다** : `LOS_frame_list.csv`"
   ]
  },
  {
   "cell_type": "markdown",
   "id": "e87e21b8-1264-405f-b4b9-ffed16f4976e",
   "metadata": {},
   "source": [
    "## Extracting by LOS\n",
    "* 각 대상지(영상)별 LOS별로 분석할 프레임만 필터링(20초 이상 = 600개 프레임 이상, LOS별)\n",
    "* 해당 프레임에 속한 Vehicle ID를 추적\n",
    "* * `LOS_frame_list`에 명시된 LOS별 프레임들을 추출하여 .csv 파일로 저장"
   ]
  },
  {
   "cell_type": "markdown",
   "id": "1a6d19dd-6028-4668-8e11-108904942bf7",
   "metadata": {},
   "source": [
    "### Load Frame Info"
   ]
  },
  {
   "cell_type": "code",
   "execution_count": 2,
   "id": "0497bff4-6376-4918-b501-63a11c0bdcde",
   "metadata": {
    "execution": {
     "iopub.execute_input": "2022-06-27T10:46:01.641589Z",
     "iopub.status.busy": "2022-06-27T10:46:01.640592Z",
     "iopub.status.idle": "2022-06-27T10:46:01.656550Z",
     "shell.execute_reply": "2022-06-27T10:46:01.655553Z",
     "shell.execute_reply.started": "2022-06-27T10:46:01.641589Z"
    },
    "tags": []
   },
   "outputs": [],
   "source": [
    "frame_rate = 30 # 프레임율 설정"
   ]
  },
  {
   "cell_type": "code",
   "execution_count": 3,
   "id": "5bbaa418-2211-44b8-a439-5799522230cd",
   "metadata": {
    "execution": {
     "iopub.execute_input": "2022-06-27T10:46:01.658549Z",
     "iopub.status.busy": "2022-06-27T10:46:01.657572Z",
     "iopub.status.idle": "2022-06-27T10:46:01.672507Z",
     "shell.execute_reply": "2022-06-27T10:46:01.670516Z",
     "shell.execute_reply.started": "2022-06-27T10:46:01.658549Z"
    },
    "tags": []
   },
   "outputs": [],
   "source": [
    "frm_info_path = 'frame_list_B_TCS.csv'"
   ]
  },
  {
   "cell_type": "code",
   "execution_count": 4,
   "id": "648c1211-4e1c-40d0-9665-926a031d540b",
   "metadata": {
    "execution": {
     "iopub.execute_input": "2022-06-27T10:46:01.674503Z",
     "iopub.status.busy": "2022-06-27T10:46:01.674503Z",
     "iopub.status.idle": "2022-06-27T10:46:01.687467Z",
     "shell.execute_reply": "2022-06-27T10:46:01.686471Z",
     "shell.execute_reply.started": "2022-06-27T10:46:01.674503Z"
    },
    "tags": []
   },
   "outputs": [],
   "source": [
    "frm_info = pd.read_csv(frm_info_path)\n",
    "#frm_info.reset_index(inplace = True)"
   ]
  },
  {
   "cell_type": "code",
   "execution_count": 5,
   "id": "d65cd760-533e-401c-87ae-ecf3ae399126",
   "metadata": {
    "execution": {
     "iopub.execute_input": "2022-06-27T10:46:01.688465Z",
     "iopub.status.busy": "2022-06-27T10:46:01.688465Z",
     "iopub.status.idle": "2022-06-27T10:46:01.718589Z",
     "shell.execute_reply": "2022-06-27T10:46:01.716572Z",
     "shell.execute_reply.started": "2022-06-27T10:46:01.688465Z"
    },
    "tags": []
   },
   "outputs": [],
   "source": [
    "frm_info['tmsec'] = (frm_info['end_at'] - frm_info['start_at'])/frame_rate # 파생변수 생성: 프레임ID 차이에 따른 시간차"
   ]
  },
  {
   "cell_type": "code",
   "execution_count": 6,
   "id": "9cdffdac-213e-4b64-acd6-d7724aae2880",
   "metadata": {
    "execution": {
     "iopub.execute_input": "2022-06-27T10:46:01.719563Z",
     "iopub.status.busy": "2022-06-27T10:46:01.719563Z",
     "iopub.status.idle": "2022-06-27T10:46:01.749524Z",
     "shell.execute_reply": "2022-06-27T10:46:01.748527Z",
     "shell.execute_reply.started": "2022-06-27T10:46:01.719563Z"
    },
    "tags": []
   },
   "outputs": [
    {
     "data": {
      "text/html": [
       "<div>\n",
       "<style scoped>\n",
       "    .dataframe tbody tr th:only-of-type {\n",
       "        vertical-align: middle;\n",
       "    }\n",
       "\n",
       "    .dataframe tbody tr th {\n",
       "        vertical-align: top;\n",
       "    }\n",
       "\n",
       "    .dataframe thead th {\n",
       "        text-align: right;\n",
       "    }\n",
       "</style>\n",
       "<table border=\"1\" class=\"dataframe\">\n",
       "  <thead>\n",
       "    <tr style=\"text-align: right;\">\n",
       "      <th></th>\n",
       "      <th>num</th>\n",
       "      <th>LOS</th>\n",
       "      <th>CNT</th>\n",
       "      <th>start_at</th>\n",
       "      <th>end_at</th>\n",
       "      <th>tmsec</th>\n",
       "    </tr>\n",
       "  </thead>\n",
       "  <tbody>\n",
       "    <tr>\n",
       "      <th>0</th>\n",
       "      <td>01_1</td>\n",
       "      <td>A</td>\n",
       "      <td>1</td>\n",
       "      <td>414</td>\n",
       "      <td>8955</td>\n",
       "      <td>284.7</td>\n",
       "    </tr>\n",
       "    <tr>\n",
       "      <th>1</th>\n",
       "      <td>01_1</td>\n",
       "      <td>A</td>\n",
       "      <td>2</td>\n",
       "      <td>100417</td>\n",
       "      <td>108982</td>\n",
       "      <td>285.5</td>\n",
       "    </tr>\n",
       "    <tr>\n",
       "      <th>2</th>\n",
       "      <td>01_1</td>\n",
       "      <td>A</td>\n",
       "      <td>3</td>\n",
       "      <td>200378</td>\n",
       "      <td>208910</td>\n",
       "      <td>284.4</td>\n",
       "    </tr>\n",
       "    <tr>\n",
       "      <th>3</th>\n",
       "      <td>01_2</td>\n",
       "      <td>A</td>\n",
       "      <td>1</td>\n",
       "      <td>447</td>\n",
       "      <td>6795</td>\n",
       "      <td>211.6</td>\n",
       "    </tr>\n",
       "    <tr>\n",
       "      <th>4</th>\n",
       "      <td>01_2</td>\n",
       "      <td>A</td>\n",
       "      <td>2</td>\n",
       "      <td>100585</td>\n",
       "      <td>106921</td>\n",
       "      <td>211.2</td>\n",
       "    </tr>\n",
       "  </tbody>\n",
       "</table>\n",
       "</div>"
      ],
      "text/plain": [
       "    num LOS  CNT  start_at  end_at  tmsec\n",
       "0  01_1   A    1       414    8955  284.7\n",
       "1  01_1   A    2    100417  108982  285.5\n",
       "2  01_1   A    3    200378  208910  284.4\n",
       "3  01_2   A    1       447    6795  211.6\n",
       "4  01_2   A    2    100585  106921  211.2"
      ]
     },
     "execution_count": 6,
     "metadata": {},
     "output_type": "execute_result"
    }
   ],
   "source": [
    "frm_info.head()"
   ]
  },
  {
   "cell_type": "markdown",
   "id": "155cfb82-7411-4e28-ba29-b3fa0ba49e47",
   "metadata": {},
   "source": [
    "### calculate tmsec\n",
    "* frm_info로부터 각 대상지, LOS별 tmsec 총 관측시간(tmsec) 산정\n",
    "* 이를 `LOS_tmsec.csv` 로 저장"
   ]
  },
  {
   "cell_type": "code",
   "execution_count": 7,
   "id": "4e608fa5-2b79-4c33-ad75-73b40616ec39",
   "metadata": {
    "execution": {
     "iopub.execute_input": "2022-06-27T10:46:01.749524Z",
     "iopub.status.busy": "2022-06-27T10:46:01.749524Z",
     "iopub.status.idle": "2022-06-27T10:46:01.780411Z",
     "shell.execute_reply": "2022-06-27T10:46:01.779442Z",
     "shell.execute_reply.started": "2022-06-27T10:46:01.749524Z"
    },
    "tags": []
   },
   "outputs": [
    {
     "data": {
      "text/html": [
       "<div>\n",
       "<style scoped>\n",
       "    .dataframe tbody tr th:only-of-type {\n",
       "        vertical-align: middle;\n",
       "    }\n",
       "\n",
       "    .dataframe tbody tr th {\n",
       "        vertical-align: top;\n",
       "    }\n",
       "\n",
       "    .dataframe thead th {\n",
       "        text-align: right;\n",
       "    }\n",
       "</style>\n",
       "<table border=\"1\" class=\"dataframe\">\n",
       "  <thead>\n",
       "    <tr style=\"text-align: right;\">\n",
       "      <th></th>\n",
       "      <th>num</th>\n",
       "      <th>LOS</th>\n",
       "      <th>tmsec</th>\n",
       "    </tr>\n",
       "  </thead>\n",
       "  <tbody>\n",
       "    <tr>\n",
       "      <th>0</th>\n",
       "      <td>01_1</td>\n",
       "      <td>A</td>\n",
       "      <td>854.6</td>\n",
       "    </tr>\n",
       "    <tr>\n",
       "      <th>1</th>\n",
       "      <td>01_2</td>\n",
       "      <td>A</td>\n",
       "      <td>866.0</td>\n",
       "    </tr>\n",
       "    <tr>\n",
       "      <th>2</th>\n",
       "      <td>01_3</td>\n",
       "      <td>A</td>\n",
       "      <td>839.7</td>\n",
       "    </tr>\n",
       "    <tr>\n",
       "      <th>3</th>\n",
       "      <td>01_4</td>\n",
       "      <td>A</td>\n",
       "      <td>805.8</td>\n",
       "    </tr>\n",
       "    <tr>\n",
       "      <th>4</th>\n",
       "      <td>01_5</td>\n",
       "      <td>A</td>\n",
       "      <td>858.6</td>\n",
       "    </tr>\n",
       "  </tbody>\n",
       "</table>\n",
       "</div>"
      ],
      "text/plain": [
       "    num LOS  tmsec\n",
       "0  01_1   A  854.6\n",
       "1  01_2   A  866.0\n",
       "2  01_3   A  839.7\n",
       "3  01_4   A  805.8\n",
       "4  01_5   A  858.6"
      ]
     },
     "execution_count": 7,
     "metadata": {},
     "output_type": "execute_result"
    }
   ],
   "source": [
    "tmsec_info = pd.pivot_table(frm_info, index = ['num', 'LOS'], values = 'tmsec', aggfunc = 'sum').reset_index()\n",
    "\n",
    "tmsec_info.head()"
   ]
  },
  {
   "cell_type": "code",
   "execution_count": 8,
   "id": "37d90cc7-5a13-4a73-ba31-6ef43f29e581",
   "metadata": {
    "execution": {
     "iopub.execute_input": "2022-06-27T10:46:01.781410Z",
     "iopub.status.busy": "2022-06-27T10:46:01.780411Z",
     "iopub.status.idle": "2022-06-27T10:46:01.796370Z",
     "shell.execute_reply": "2022-06-27T10:46:01.795372Z",
     "shell.execute_reply.started": "2022-06-27T10:46:01.781410Z"
    },
    "tags": []
   },
   "outputs": [],
   "source": [
    "tmsec_path = 'tmsec_B_TCS.csv'"
   ]
  },
  {
   "cell_type": "code",
   "execution_count": 9,
   "id": "622c3f0e-bde5-4fe0-ba56-e230617c0103",
   "metadata": {
    "execution": {
     "iopub.execute_input": "2022-06-27T10:46:01.798367Z",
     "iopub.status.busy": "2022-06-27T10:46:01.798367Z",
     "iopub.status.idle": "2022-06-27T10:46:01.812328Z",
     "shell.execute_reply": "2022-06-27T10:46:01.811330Z",
     "shell.execute_reply.started": "2022-06-27T10:46:01.798367Z"
    },
    "tags": []
   },
   "outputs": [],
   "source": [
    "tmsec_info.to_csv(tmsec_path, encoding = 'utf-8')"
   ]
  },
  {
   "cell_type": "markdown",
   "id": "a90c57da-1326-4ceb-b166-453565edbef5",
   "metadata": {},
   "source": [
    "### Load Datasets"
   ]
  },
  {
   "cell_type": "code",
   "execution_count": 10,
   "id": "84b09acd-de08-4d8c-b0b5-28d2829cc9f4",
   "metadata": {
    "execution": {
     "iopub.execute_input": "2022-06-27T10:46:01.813324Z",
     "iopub.status.busy": "2022-06-27T10:46:01.813324Z",
     "iopub.status.idle": "2022-06-27T10:46:01.830323Z",
     "shell.execute_reply": "2022-06-27T10:46:01.828329Z",
     "shell.execute_reply.started": "2022-06-27T10:46:01.813324Z"
    },
    "tags": []
   },
   "outputs": [],
   "source": [
    "folder_dir = 'D:/OneDrive - 연세대학교 (Yonsei University)/Projects/Yonsei_TELab/003_도로상충_210517-/2차년도_2022/21_드론궤적분석자료_영업소_서울TG_부산방향/TCS'"
   ]
  },
  {
   "cell_type": "code",
   "execution_count": 11,
   "id": "16e15f65-7029-4e67-b825-5c06cc344181",
   "metadata": {
    "execution": {
     "iopub.execute_input": "2022-06-27T10:46:01.831320Z",
     "iopub.status.busy": "2022-06-27T10:46:01.830323Z",
     "iopub.status.idle": "2022-06-27T10:46:01.844285Z",
     "shell.execute_reply": "2022-06-27T10:46:01.843320Z",
     "shell.execute_reply.started": "2022-06-27T10:46:01.831320Z"
    },
    "tags": []
   },
   "outputs": [],
   "source": [
    "folder_name = '00_dataset_filtered_full' # 각 .csv 파일이 있는 폴더경로\n",
    "\n",
    "file_dir = os.path.join(folder_dir, folder_name)"
   ]
  },
  {
   "cell_type": "code",
   "execution_count": 12,
   "id": "f85368a1-46a3-4b30-95c9-e7cfd725411c",
   "metadata": {
    "execution": {
     "iopub.execute_input": "2022-06-27T10:46:01.845284Z",
     "iopub.status.busy": "2022-06-27T10:46:01.844285Z",
     "iopub.status.idle": "2022-06-27T10:46:01.860245Z",
     "shell.execute_reply": "2022-06-27T10:46:01.859265Z",
     "shell.execute_reply.started": "2022-06-27T10:46:01.845284Z"
    },
    "tags": []
   },
   "outputs": [
    {
     "data": {
      "text/plain": [
       "['01_1.csv', '01_2.csv', '01_3.csv']"
      ]
     },
     "execution_count": 12,
     "metadata": {},
     "output_type": "execute_result"
    }
   ],
   "source": [
    "file_list = os.listdir(file_dir)\n",
    "file_list[0:3]"
   ]
  },
  {
   "cell_type": "code",
   "execution_count": 13,
   "id": "809da573-47f9-4350-af94-7b57cb50da87",
   "metadata": {
    "execution": {
     "iopub.execute_input": "2022-06-27T10:46:01.861242Z",
     "iopub.status.busy": "2022-06-27T10:46:01.861242Z",
     "iopub.status.idle": "2022-06-27T10:46:02.312706Z",
     "shell.execute_reply": "2022-06-27T10:46:02.311835Z",
     "shell.execute_reply.started": "2022-06-27T10:46:01.861242Z"
    },
    "tags": []
   },
   "outputs": [],
   "source": [
    "df_list = [] # 데이터프레임 리스트\n",
    "num_list = [] # 데이터프레임 파일명, 즉 넘버링 리스트\n",
    "\n",
    "for file in file_list:\n",
    "    num = file[0:4]\n",
    "    file_path = os.path.join(file_dir, file)\n",
    "            \n",
    "    if os.path.isfile(file_path): # 해당 file_path에 파일이 존재할 경우\n",
    "        globals()[f'target{num}'] = pd.read_csv(file_path, encoding = 'cp949') # .csv 파일을 불러와 인스턴스 만들기\n",
    "        df_list.append(globals()[f'target{num}']) \n",
    "        num_list.append(num)"
   ]
  },
  {
   "cell_type": "markdown",
   "id": "8665d951-aed5-422d-9482-1031fa00ec69",
   "metadata": {},
   "source": [
    "### Extract & Save"
   ]
  },
  {
   "cell_type": "code",
   "execution_count": 14,
   "id": "43ebe6aa-58d3-4043-ade6-f56f186ae6ca",
   "metadata": {
    "execution": {
     "iopub.execute_input": "2022-06-27T10:46:02.313705Z",
     "iopub.status.busy": "2022-06-27T10:46:02.313705Z",
     "iopub.status.idle": "2022-06-27T10:46:02.328977Z",
     "shell.execute_reply": "2022-06-27T10:46:02.326979Z",
     "shell.execute_reply.started": "2022-06-27T10:46:02.313705Z"
    },
    "tags": []
   },
   "outputs": [],
   "source": [
    "folder_name = '01_density_by_target_LOS'\n",
    "\n",
    "save_extract_dir = os.path.join(folder_dir, folder_name)\n",
    "\n",
    "os.makedirs(save_extract_dir, exist_ok = True) # 해당 경로가 없을 시 폴더 생성, 존재할 경우 건너뛰기"
   ]
  },
  {
   "cell_type": "code",
   "execution_count": 15,
   "id": "8ce883a8-19da-4c3f-b8c2-2fe8803e3b96",
   "metadata": {
    "execution": {
     "iopub.execute_input": "2022-06-27T10:46:02.331936Z",
     "iopub.status.busy": "2022-06-27T10:46:02.330943Z",
     "iopub.status.idle": "2022-06-27T10:46:03.684811Z",
     "shell.execute_reply": "2022-06-27T10:46:03.683813Z",
     "shell.execute_reply.started": "2022-06-27T10:46:02.331936Z"
    },
    "tags": []
   },
   "outputs": [],
   "source": [
    "for i in range(len(frm_info)): # frm_info에 따라서\n",
    "    \n",
    "    num = frm_info['num'][i] # 대상지 번호. tg_spot. 01_1 등으로 표현\n",
    "    LOS = frm_info['LOS'][i] # 대상지 촬영지점의 해당 LOS\n",
    "    CNT = frm_info['CNT'][i] # 몇번쨰 LOS인지 표시\n",
    "    \n",
    "    frame_start = frm_info['start_at'][i] # 시작 프레임\n",
    "    frame_end = frm_info['end_at'][i] # 끝 프레임\n",
    "    \n",
    "    tmsec = frm_info['tmsec'][i] # 총 시간\n",
    "    \n",
    "    df = globals()[f'target{num}']\n",
    "    \n",
    "    # LOS별로 프레임을 추출하여 각 대상지별, LOS별 파일로 저장\n",
    "    df_extract = df[(df['Frame ID'] >= frame_start) & (df['Frame ID'] <= frame_end)] # 프레임별로 필터링한 df\n",
    "    \n",
    "    save_extract_name = f'{num}_{LOS}_{CNT}.csv'\n",
    "    save_extract_path = os.path.join(save_extract_dir, save_extract_name)\n",
    "    \n",
    "    df_extract.to_csv(save_extract_path, encoding = 'cp949')"
   ]
  },
  {
   "cell_type": "markdown",
   "id": "18b0f8f0-30a4-4dba-80a6-75979d0e5dfb",
   "metadata": {},
   "source": [
    "## Concat and Save\n",
    "* `01_denstiy_by_target_LOS` 에 있는 .csv 파일들을 대상지별, LOS별로 병합\n",
    "* `01_denstiy_by_target_LOS_concated`에 저장하기"
   ]
  },
  {
   "cell_type": "markdown",
   "id": "781bdb49-f7df-491a-92e3-3d7cbca35843",
   "metadata": {},
   "source": [
    "### Load Dataset\n",
    "* 대상지 및 LOS 조각별로 쪼개진 데이터들을 불러오기"
   ]
  },
  {
   "cell_type": "code",
   "execution_count": 16,
   "id": "ac401bb2-b5a2-4f4a-8142-b6b80f97ba1f",
   "metadata": {
    "execution": {
     "iopub.execute_input": "2022-06-27T10:46:03.684811Z",
     "iopub.status.busy": "2022-06-27T10:46:03.684811Z",
     "iopub.status.idle": "2022-06-27T10:46:03.700770Z",
     "shell.execute_reply": "2022-06-27T10:46:03.699803Z",
     "shell.execute_reply.started": "2022-06-27T10:46:03.684811Z"
    },
    "tags": []
   },
   "outputs": [],
   "source": [
    "folder_name = '01_density_by_target_LOS'\n",
    "\n",
    "file_dir = os.path.join(folder_dir, folder_name)"
   ]
  },
  {
   "cell_type": "code",
   "execution_count": 17,
   "id": "435ae61e-e868-448c-b686-974b4e21ee7a",
   "metadata": {
    "execution": {
     "iopub.execute_input": "2022-06-27T10:46:03.701767Z",
     "iopub.status.busy": "2022-06-27T10:46:03.701767Z",
     "iopub.status.idle": "2022-06-27T10:46:03.717736Z",
     "shell.execute_reply": "2022-06-27T10:46:03.715729Z",
     "shell.execute_reply.started": "2022-06-27T10:46:03.701767Z"
    },
    "tags": []
   },
   "outputs": [
    {
     "data": {
      "text/plain": [
       "['01_1_A_1.csv', '01_1_A_2.csv', '01_1_A_3.csv']"
      ]
     },
     "execution_count": 17,
     "metadata": {},
     "output_type": "execute_result"
    }
   ],
   "source": [
    "file_list = os.listdir(file_dir)\n",
    "file_list[0:3]"
   ]
  },
  {
   "cell_type": "code",
   "execution_count": 18,
   "id": "7f18fb7c-fa0d-4730-b774-afe2a0a9a446",
   "metadata": {
    "execution": {
     "iopub.execute_input": "2022-06-27T10:46:03.719751Z",
     "iopub.status.busy": "2022-06-27T10:46:03.718723Z",
     "iopub.status.idle": "2022-06-27T10:46:04.157363Z",
     "shell.execute_reply": "2022-06-27T10:46:04.156326Z",
     "shell.execute_reply.started": "2022-06-27T10:46:03.718723Z"
    },
    "tags": []
   },
   "outputs": [],
   "source": [
    "df_list = []\n",
    "num_list = []\n",
    "LOS_list = []\n",
    "fraction_list = []\n",
    "\n",
    "\n",
    "for file in file_list:\n",
    "    num = file[0:4] # 파일의 대상지 번호. tg_spot\n",
    "    LOS = file[5]\n",
    "    fraction = file[7:-4] # 파일의 조각 번호\n",
    "    \n",
    "    file_path = os.path.join(file_dir, file)\n",
    "    globals()[f'target{num}_{LOS}_{fraction}'] = pd.read_csv(file_path, encoding = 'cp949')\n",
    "    \n",
    "    df_list.append(globals()[f'target{num}_{LOS}_{fraction}'])\n",
    "    \n",
    "    if num not in num_list:\n",
    "        num_list.append(num)\n",
    "    \n",
    "    if LOS not in LOS_list:\n",
    "        LOS_list.append(LOS)\n",
    "        \n",
    "    if fraction not in fraction_list:\n",
    "        fraction_list.append(fraction)"
   ]
  },
  {
   "cell_type": "markdown",
   "id": "e23c73ed-452e-40ea-90fb-449081ce1181",
   "metadata": {},
   "source": [
    "### RUN and Save"
   ]
  },
  {
   "cell_type": "code",
   "execution_count": 19,
   "id": "2c41ce27-3f47-4adc-9d66-0603a28c6872",
   "metadata": {
    "execution": {
     "iopub.execute_input": "2022-06-27T10:46:04.158356Z",
     "iopub.status.busy": "2022-06-27T10:46:04.158356Z",
     "iopub.status.idle": "2022-06-27T10:46:04.173391Z",
     "shell.execute_reply": "2022-06-27T10:46:04.172395Z",
     "shell.execute_reply.started": "2022-06-27T10:46:04.158356Z"
    },
    "tags": []
   },
   "outputs": [],
   "source": [
    "folder_name = '01_denstiy_by_target_LOS_concated'\n",
    "\n",
    "save_dir = os.path.join(folder_dir, folder_name)\n",
    "\n",
    "os.makedirs(save_dir, exist_ok = True) # 해당 경로가 없을 시 폴더 생성, 존재할 경우 건너뛰기"
   ]
  },
  {
   "cell_type": "code",
   "execution_count": 20,
   "id": "fbd0288b-6c6a-4f2c-940f-59e761daf9ad",
   "metadata": {
    "execution": {
     "iopub.execute_input": "2022-06-27T10:46:04.174414Z",
     "iopub.status.busy": "2022-06-27T10:46:04.173391Z",
     "iopub.status.idle": "2022-06-27T10:46:04.189348Z",
     "shell.execute_reply": "2022-06-27T10:46:04.188382Z",
     "shell.execute_reply.started": "2022-06-27T10:46:04.174414Z"
    },
    "tags": []
   },
   "outputs": [
    {
     "data": {
      "text/plain": [
       "['1', '2', '3']"
      ]
     },
     "execution_count": 20,
     "metadata": {},
     "output_type": "execute_result"
    }
   ],
   "source": [
    "fraction_list"
   ]
  },
  {
   "cell_type": "code",
   "execution_count": 21,
   "id": "24da1e5a-8b23-4ae0-a895-49583dd5b13f",
   "metadata": {
    "execution": {
     "iopub.execute_input": "2022-06-27T10:46:04.190346Z",
     "iopub.status.busy": "2022-06-27T10:46:04.189348Z",
     "iopub.status.idle": "2022-06-27T10:46:05.582687Z",
     "shell.execute_reply": "2022-06-27T10:46:05.582131Z",
     "shell.execute_reply.started": "2022-06-27T10:46:04.189348Z"
    },
    "tags": []
   },
   "outputs": [],
   "source": [
    "for num in num_list:\n",
    "    for LOS in LOS_list:\n",
    "        LOS_df = pd.DataFrame() # 대상지별, LOS별 빈 데이터프레임 생성\n",
    "        \n",
    "        for fraction in fraction_list:\n",
    "            \n",
    "            if f'target{num}_{LOS}_{fraction}' in globals(): # 해당 이름의 변수가 전역변수(globals()) 내에 존재할 시\n",
    "                frac_df = globals()[f'target{num}_{LOS}_{fraction}']\n",
    "                LOS_df = pd.concat([LOS_df, frac_df])\n",
    "            else:\n",
    "                pass\n",
    "        \n",
    "        LOS_save_name = num + '_' + LOS + '.csv'\n",
    "        LOS_save_path = os.path.join(save_dir, LOS_save_name)\n",
    "        \n",
    "        LOS_df.to_csv(LOS_save_path, encoding = 'cp949') # LOS별로 병합된 파일을 저장"
   ]
  }
 ],
 "metadata": {
  "kernelspec": {
   "display_name": "Python 3",
   "language": "python",
   "name": "python3"
  },
  "language_info": {
   "codemirror_mode": {
    "name": "ipython",
    "version": 3
   },
   "file_extension": ".py",
   "mimetype": "text/x-python",
   "name": "python",
   "nbconvert_exporter": "python",
   "pygments_lexer": "ipython3",
   "version": "3.8.8"
  }
 },
 "nbformat": 4,
 "nbformat_minor": 5
}
