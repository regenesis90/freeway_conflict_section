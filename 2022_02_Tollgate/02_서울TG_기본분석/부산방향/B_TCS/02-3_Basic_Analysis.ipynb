{
 "cells": [
  {
   "cell_type": "markdown",
   "metadata": {},
   "source": [
    "# Analysis- Basic\n",
    "* 고속도로 기본구간(1번 영상) 분석"
   ]
  },
  {
   "cell_type": "markdown",
   "metadata": {},
   "source": [
    "# Imports"
   ]
  },
  {
   "cell_type": "code",
   "execution_count": 1,
   "metadata": {
    "execution": {
     "iopub.execute_input": "2022-06-28T08:28:45.530507Z",
     "iopub.status.busy": "2022-06-28T08:28:45.530507Z",
     "iopub.status.idle": "2022-06-28T08:28:46.752244Z",
     "shell.execute_reply": "2022-06-28T08:28:46.752244Z",
     "shell.execute_reply.started": "2022-06-28T08:28:45.530507Z"
    },
    "tags": []
   },
   "outputs": [],
   "source": [
    "import pandas as pd\n",
    "import numpy as np\n",
    "\n",
    "import os\n",
    "import warnings\n",
    "from tqdm import tqdm\n",
    "\n",
    "from plotly.subplots import make_subplots\n",
    "import plotly.express as px\n",
    "import plotly.graph_objects as go\n",
    "import plotly.io as po\n",
    "\n",
    "import statistics\n",
    "import math"
   ]
  },
  {
   "cell_type": "markdown",
   "metadata": {},
   "source": [
    "# Analysis\n",
    "* `01_denstiy_by_target_LOS_concated`의 파일을 불러오기\n",
    "* 필요한 분석 데이터들을 추출하여 각각의 파일로 저장하기"
   ]
  },
  {
   "cell_type": "markdown",
   "metadata": {},
   "source": [
    "## Load Dataset"
   ]
  },
  {
   "cell_type": "markdown",
   "metadata": {},
   "source": [
    "### 궤적 데이터"
   ]
  },
  {
   "cell_type": "code",
   "execution_count": 2,
   "metadata": {
    "execution": {
     "iopub.execute_input": "2022-06-28T08:28:46.753302Z",
     "iopub.status.busy": "2022-06-28T08:28:46.753302Z",
     "iopub.status.idle": "2022-06-28T08:28:46.768221Z",
     "shell.execute_reply": "2022-06-28T08:28:46.767221Z",
     "shell.execute_reply.started": "2022-06-28T08:28:46.753302Z"
    },
    "tags": []
   },
   "outputs": [],
   "source": [
    "folder_dir = 'D:/OneDrive - 연세대학교 (Yonsei University)/Projects/Yonsei_TELab/003_도로상충_210517-/2차년도_2022/21_드론궤적분석자료_영업소_서울TG_부산방향/TCS'"
   ]
  },
  {
   "cell_type": "code",
   "execution_count": 3,
   "metadata": {
    "execution": {
     "iopub.execute_input": "2022-06-28T08:28:46.770215Z",
     "iopub.status.busy": "2022-06-28T08:28:46.770215Z",
     "iopub.status.idle": "2022-06-28T08:28:46.787168Z",
     "shell.execute_reply": "2022-06-28T08:28:46.783208Z",
     "shell.execute_reply.started": "2022-06-28T08:28:46.770215Z"
    },
    "tags": []
   },
   "outputs": [],
   "source": [
    "folder_name = '01_denstiy_by_target_LOS_concated'\n",
    "\n",
    "file_dir = os.path.join(folder_dir, folder_name)"
   ]
  },
  {
   "cell_type": "code",
   "execution_count": 4,
   "metadata": {
    "execution": {
     "iopub.execute_input": "2022-06-28T08:28:46.789165Z",
     "iopub.status.busy": "2022-06-28T08:28:46.788167Z",
     "iopub.status.idle": "2022-06-28T08:28:46.816114Z",
     "shell.execute_reply": "2022-06-28T08:28:46.815093Z",
     "shell.execute_reply.started": "2022-06-28T08:28:46.789165Z"
    },
    "tags": []
   },
   "outputs": [
    {
     "data": {
      "text/plain": [
       "['01_1_A.csv', '01_2_A.csv', '01_3_A.csv']"
      ]
     },
     "execution_count": 4,
     "metadata": {},
     "output_type": "execute_result"
    }
   ],
   "source": [
    "file_list = os.listdir(file_dir)\n",
    "file_list[0:3]"
   ]
  },
  {
   "cell_type": "code",
   "execution_count": 5,
   "metadata": {
    "execution": {
     "iopub.execute_input": "2022-06-28T08:28:46.817119Z",
     "iopub.status.busy": "2022-06-28T08:28:46.816114Z",
     "iopub.status.idle": "2022-06-28T08:28:47.355648Z",
     "shell.execute_reply": "2022-06-28T08:28:47.354679Z",
     "shell.execute_reply.started": "2022-06-28T08:28:46.817119Z"
    },
    "tags": []
   },
   "outputs": [],
   "source": [
    "df_list = []\n",
    "num_LOS_list = []\n",
    "\n",
    "for file in file_list:\n",
    "    num_LOS = file[0:6] # 파일명으로부터 01_2_C 형식의 대상지 번호와 LOS 추출\n",
    "    \n",
    "    file_path = os.path.join(file_dir, file)\n",
    "    \n",
    "    globals()[f'target{num_LOS}'] = pd.read_csv(file_path, encoding = 'cp949')\n",
    "    \n",
    "    df_list.append(globals()[f'target{num_LOS}'])\n",
    "    num_LOS_list.append(num_LOS)"
   ]
  },
  {
   "cell_type": "code",
   "execution_count": 6,
   "metadata": {
    "execution": {
     "iopub.execute_input": "2022-06-28T08:28:47.357643Z",
     "iopub.status.busy": "2022-06-28T08:28:47.357643Z",
     "iopub.status.idle": "2022-06-28T08:28:47.387565Z",
     "shell.execute_reply": "2022-06-28T08:28:47.386596Z",
     "shell.execute_reply.started": "2022-06-28T08:28:47.357643Z"
    },
    "tags": []
   },
   "outputs": [
    {
     "data": {
      "text/html": [
       "<div>\n",
       "<style scoped>\n",
       "    .dataframe tbody tr th:only-of-type {\n",
       "        vertical-align: middle;\n",
       "    }\n",
       "\n",
       "    .dataframe tbody tr th {\n",
       "        vertical-align: top;\n",
       "    }\n",
       "\n",
       "    .dataframe thead th {\n",
       "        text-align: right;\n",
       "    }\n",
       "</style>\n",
       "<table border=\"1\" class=\"dataframe\">\n",
       "  <thead>\n",
       "    <tr style=\"text-align: right;\">\n",
       "      <th></th>\n",
       "      <th>Unnamed: 0</th>\n",
       "      <th>Unnamed: 0.1</th>\n",
       "      <th>Unnamed: 0.1.1</th>\n",
       "      <th>Unnamed: 0.1.1.1</th>\n",
       "      <th>Vehicle ID</th>\n",
       "      <th>Frame ID</th>\n",
       "      <th>Total Frames</th>\n",
       "      <th>Global Time (Epoch Time)</th>\n",
       "      <th>Local X (m)</th>\n",
       "      <th>Local Y(m)</th>\n",
       "      <th>...</th>\n",
       "      <th>Vehicle Acceleration</th>\n",
       "      <th>Lane Identification</th>\n",
       "      <th>Preceding Vehicle</th>\n",
       "      <th>Following Vehicle</th>\n",
       "      <th>Spacing Headway</th>\n",
       "      <th>Time Headway</th>\n",
       "      <th>Bad Object</th>\n",
       "      <th>Special Car</th>\n",
       "      <th>Lane Class</th>\n",
       "      <th>Vehicle Movement</th>\n",
       "    </tr>\n",
       "  </thead>\n",
       "  <tbody>\n",
       "    <tr>\n",
       "      <th>0</th>\n",
       "      <td>0</td>\n",
       "      <td>23</td>\n",
       "      <td>23</td>\n",
       "      <td>23</td>\n",
       "      <td>3</td>\n",
       "      <td>414</td>\n",
       "      <td>108</td>\n",
       "      <td>46813800</td>\n",
       "      <td>84.379913</td>\n",
       "      <td>31.628307</td>\n",
       "      <td>...</td>\n",
       "      <td>-1.004177</td>\n",
       "      <td>U2</td>\n",
       "      <td>0</td>\n",
       "      <td>5</td>\n",
       "      <td>0.000000</td>\n",
       "      <td>0.000000</td>\n",
       "      <td>0</td>\n",
       "      <td>0</td>\n",
       "      <td>상행본선</td>\n",
       "      <td>2.120530</td>\n",
       "    </tr>\n",
       "    <tr>\n",
       "      <th>1</th>\n",
       "      <td>1</td>\n",
       "      <td>24</td>\n",
       "      <td>24</td>\n",
       "      <td>24</td>\n",
       "      <td>5</td>\n",
       "      <td>414</td>\n",
       "      <td>38</td>\n",
       "      <td>46813800</td>\n",
       "      <td>34.460899</td>\n",
       "      <td>29.954393</td>\n",
       "      <td>...</td>\n",
       "      <td>2.069770</td>\n",
       "      <td>U2</td>\n",
       "      <td>3</td>\n",
       "      <td>0</td>\n",
       "      <td>49.950325</td>\n",
       "      <td>2.349021</td>\n",
       "      <td>0</td>\n",
       "      <td>0</td>\n",
       "      <td>상행본선</td>\n",
       "      <td>2.126431</td>\n",
       "    </tr>\n",
       "    <tr>\n",
       "      <th>2</th>\n",
       "      <td>2</td>\n",
       "      <td>25</td>\n",
       "      <td>25</td>\n",
       "      <td>25</td>\n",
       "      <td>3</td>\n",
       "      <td>417</td>\n",
       "      <td>111</td>\n",
       "      <td>46813900</td>\n",
       "      <td>86.505432</td>\n",
       "      <td>31.683453</td>\n",
       "      <td>...</td>\n",
       "      <td>0.570403</td>\n",
       "      <td>U2</td>\n",
       "      <td>0</td>\n",
       "      <td>5</td>\n",
       "      <td>0.000000</td>\n",
       "      <td>0.000000</td>\n",
       "      <td>0</td>\n",
       "      <td>0</td>\n",
       "      <td>상행본선</td>\n",
       "      <td>2.126234</td>\n",
       "    </tr>\n",
       "  </tbody>\n",
       "</table>\n",
       "<p>3 rows × 24 columns</p>\n",
       "</div>"
      ],
      "text/plain": [
       "   Unnamed: 0  Unnamed: 0.1  Unnamed: 0.1.1  Unnamed: 0.1.1.1  Vehicle ID  \\\n",
       "0           0            23              23                23           3   \n",
       "1           1            24              24                24           5   \n",
       "2           2            25              25                25           3   \n",
       "\n",
       "   Frame ID  Total Frames  Global Time (Epoch Time)  Local X (m)  Local Y(m)  \\\n",
       "0       414           108                  46813800    84.379913   31.628307   \n",
       "1       414            38                  46813800    34.460899   29.954393   \n",
       "2       417           111                  46813900    86.505432   31.683453   \n",
       "\n",
       "   ...  Vehicle Acceleration  Lane Identification  Preceding Vehicle  \\\n",
       "0  ...             -1.004177                   U2                  0   \n",
       "1  ...              2.069770                   U2                  3   \n",
       "2  ...              0.570403                   U2                  0   \n",
       "\n",
       "   Following Vehicle  Spacing Headway Time Headway  Bad Object  Special Car  \\\n",
       "0                  5         0.000000     0.000000           0            0   \n",
       "1                  0        49.950325     2.349021           0            0   \n",
       "2                  5         0.000000     0.000000           0            0   \n",
       "\n",
       "   Lane Class  Vehicle Movement  \n",
       "0        상행본선          2.120530  \n",
       "1        상행본선          2.126431  \n",
       "2        상행본선          2.126234  \n",
       "\n",
       "[3 rows x 24 columns]"
      ]
     },
     "execution_count": 6,
     "metadata": {},
     "output_type": "execute_result"
    }
   ],
   "source": [
    "df_list[0].head(3)"
   ]
  },
  {
   "cell_type": "markdown",
   "metadata": {},
   "source": [
    "### Load tmsec info\n",
    "* 총 관측시간 데이터 로드"
   ]
  },
  {
   "cell_type": "code",
   "execution_count": 7,
   "metadata": {
    "execution": {
     "iopub.execute_input": "2022-06-28T08:28:47.388588Z",
     "iopub.status.busy": "2022-06-28T08:28:47.388588Z",
     "iopub.status.idle": "2022-06-28T08:28:47.404522Z",
     "shell.execute_reply": "2022-06-28T08:28:47.402554Z",
     "shell.execute_reply.started": "2022-06-28T08:28:47.388588Z"
    },
    "tags": []
   },
   "outputs": [],
   "source": [
    "tmsec_info = pd.read_csv('tmsec_B_TCS.csv') # 대상지별, LOS별 동영상 지속시간(tmsec) 정보 불러오기"
   ]
  },
  {
   "cell_type": "code",
   "execution_count": 8,
   "metadata": {
    "execution": {
     "iopub.execute_input": "2022-06-28T08:28:47.406511Z",
     "iopub.status.busy": "2022-06-28T08:28:47.405514Z",
     "iopub.status.idle": "2022-06-28T08:28:47.421474Z",
     "shell.execute_reply": "2022-06-28T08:28:47.419477Z",
     "shell.execute_reply.started": "2022-06-28T08:28:47.405514Z"
    },
    "tags": []
   },
   "outputs": [
    {
     "data": {
      "text/html": [
       "<div>\n",
       "<style scoped>\n",
       "    .dataframe tbody tr th:only-of-type {\n",
       "        vertical-align: middle;\n",
       "    }\n",
       "\n",
       "    .dataframe tbody tr th {\n",
       "        vertical-align: top;\n",
       "    }\n",
       "\n",
       "    .dataframe thead th {\n",
       "        text-align: right;\n",
       "    }\n",
       "</style>\n",
       "<table border=\"1\" class=\"dataframe\">\n",
       "  <thead>\n",
       "    <tr style=\"text-align: right;\">\n",
       "      <th></th>\n",
       "      <th>Unnamed: 0</th>\n",
       "      <th>num</th>\n",
       "      <th>LOS</th>\n",
       "      <th>tmsec</th>\n",
       "    </tr>\n",
       "  </thead>\n",
       "  <tbody>\n",
       "    <tr>\n",
       "      <th>0</th>\n",
       "      <td>0</td>\n",
       "      <td>01_1</td>\n",
       "      <td>A</td>\n",
       "      <td>854.6</td>\n",
       "    </tr>\n",
       "    <tr>\n",
       "      <th>1</th>\n",
       "      <td>1</td>\n",
       "      <td>01_2</td>\n",
       "      <td>A</td>\n",
       "      <td>866.0</td>\n",
       "    </tr>\n",
       "    <tr>\n",
       "      <th>2</th>\n",
       "      <td>2</td>\n",
       "      <td>01_3</td>\n",
       "      <td>A</td>\n",
       "      <td>839.7</td>\n",
       "    </tr>\n",
       "    <tr>\n",
       "      <th>3</th>\n",
       "      <td>3</td>\n",
       "      <td>01_4</td>\n",
       "      <td>A</td>\n",
       "      <td>805.8</td>\n",
       "    </tr>\n",
       "    <tr>\n",
       "      <th>4</th>\n",
       "      <td>4</td>\n",
       "      <td>01_5</td>\n",
       "      <td>A</td>\n",
       "      <td>858.6</td>\n",
       "    </tr>\n",
       "  </tbody>\n",
       "</table>\n",
       "</div>"
      ],
      "text/plain": [
       "   Unnamed: 0   num LOS  tmsec\n",
       "0           0  01_1   A  854.6\n",
       "1           1  01_2   A  866.0\n",
       "2           2  01_3   A  839.7\n",
       "3           3  01_4   A  805.8\n",
       "4           4  01_5   A  858.6"
      ]
     },
     "execution_count": 8,
     "metadata": {},
     "output_type": "execute_result"
    }
   ],
   "source": [
    "tmsec_info.head()"
   ]
  },
  {
   "cell_type": "markdown",
   "metadata": {},
   "source": [
    "## 평균 속도 정보\n",
    "1. 차량(Vehicle ID)별 누적 이동거리(%) 구하기\n",
    "2. 전체 길이를 일정 간격의 구간으로 나누기\n",
    "3. 차선별, 일정 구간별(누적길이%) 속도 히트맵 그리기"
   ]
  },
  {
   "cell_type": "markdown",
   "metadata": {},
   "source": [
    "### 교통류율, 전체 공간평균속도(SMS)\n",
    "* 차선별 총 교통량\n",
    "| lane | flowrate | SMS |\n",
    "|------|--------|-----|\n",
    "| U1   | 200    | 80  |\n",
    "| U2   | 300    | 90  |\n",
    "| U3   | 100    | 80  |"
   ]
  },
  {
   "cell_type": "markdown",
   "metadata": {},
   "source": [
    "### 필요 함수 정의\n",
    "* 공간평균속도는 조화평균(harmonic_mean)을 사용해 구함\n",
    "* 조화평균함수는 `statistics.harmonic_mean()`을 이용할 수 있음"
   ]
  },
  {
   "cell_type": "code",
   "execution_count": 9,
   "metadata": {
    "execution": {
     "iopub.execute_input": "2022-06-28T08:28:47.425463Z",
     "iopub.status.busy": "2022-06-28T08:28:47.423467Z",
     "iopub.status.idle": "2022-06-28T08:28:47.435465Z",
     "shell.execute_reply": "2022-06-28T08:28:47.434467Z",
     "shell.execute_reply.started": "2022-06-28T08:28:47.425463Z"
    },
    "tags": []
   },
   "outputs": [],
   "source": [
    "# 조화평균 함수\n",
    "harmonic = lambda x: statistics.harmonic_mean(list(x))\n",
    "harmonic .__name__ = 'harmonic'"
   ]
  },
  {
   "cell_type": "code",
   "execution_count": 10,
   "metadata": {
    "execution": {
     "iopub.execute_input": "2022-06-28T08:28:47.437461Z",
     "iopub.status.busy": "2022-06-28T08:28:47.436431Z",
     "iopub.status.idle": "2022-06-28T08:28:47.452400Z",
     "shell.execute_reply": "2022-06-28T08:28:47.450426Z",
     "shell.execute_reply.started": "2022-06-28T08:28:47.437461Z"
    },
    "tags": []
   },
   "outputs": [],
   "source": [
    "# 고유값 개수 산정 함수(유니크)\n",
    "unq = lambda x: len(x.unique())\n",
    "unq .__name__ = 'unq'"
   ]
  },
  {
   "cell_type": "code",
   "execution_count": 11,
   "metadata": {
    "execution": {
     "iopub.execute_input": "2022-06-28T08:28:47.453386Z",
     "iopub.status.busy": "2022-06-28T08:28:47.453386Z",
     "iopub.status.idle": "2022-06-28T08:28:47.468346Z",
     "shell.execute_reply": "2022-06-28T08:28:47.466354Z",
     "shell.execute_reply.started": "2022-06-28T08:28:47.453386Z"
    },
    "tags": []
   },
   "outputs": [],
   "source": [
    "def LOS_expwy_basic(x:int):\n",
    "    \"\"\"밀도를 바탕으로 LOS를 판정해 주는 함수 :: 고속도로 기본구간 기준\"\"\"\n",
    "    \n",
    "    if x >= 0 and x <= 6:\n",
    "        return 'A'\n",
    "    elif x > 6 and x <= 10:\n",
    "        return 'B'\n",
    "    elif x > 10 and x <= 14:\n",
    "        return 'C'\n",
    "    elif x > 14 and x <= 19:\n",
    "        return 'D'\n",
    "    elif x > 19 and x <= 28:\n",
    "        return 'E'\n",
    "    elif x > 28:\n",
    "        return 'F'\n",
    "    \n",
    "    else:\n",
    "        pass"
   ]
  },
  {
   "cell_type": "markdown",
   "metadata": {},
   "source": [
    "### 전체 차량대수, 공간평균속도, 교통류율 산정 후 저장\n",
    "* 각 대상지별/LOS별 전체 차량대수, 공간평균속도(SMS), 교통류율 구하여 저장하기\n",
    "* `harmonic` 함수 사용 : `harmonic(target1_1_A['Vehicle Velocity(km/h)'])` <- 이런 식으로 쓸 수 있다"
   ]
  },
  {
   "cell_type": "code",
   "execution_count": 12,
   "metadata": {
    "execution": {
     "iopub.execute_input": "2022-06-28T08:28:47.469344Z",
     "iopub.status.busy": "2022-06-28T08:28:47.469344Z",
     "iopub.status.idle": "2022-06-28T08:28:47.483308Z",
     "shell.execute_reply": "2022-06-28T08:28:47.482338Z",
     "shell.execute_reply.started": "2022-06-28T08:28:47.469344Z"
    },
    "tags": []
   },
   "outputs": [
    {
     "data": {
      "text/plain": [
       "Index(['Unnamed: 0', 'Unnamed: 0.1', 'Unnamed: 0.1.1', 'Unnamed: 0.1.1.1',\n",
       "       'Vehicle ID', 'Frame ID', 'Total Frames', 'Global Time (Epoch Time)',\n",
       "       'Local X (m)', 'Local Y(m)', 'Vehicle Length', 'Vehicle Width',\n",
       "       'Vehicle Class', 'Vehicle Velocity(km/h)', 'Vehicle Acceleration',\n",
       "       'Lane Identification', 'Preceding Vehicle', 'Following Vehicle',\n",
       "       'Spacing Headway', 'Time Headway', 'Bad Object', 'Special Car',\n",
       "       'Lane Class', 'Vehicle Movement'],\n",
       "      dtype='object')"
      ]
     },
     "execution_count": 12,
     "metadata": {},
     "output_type": "execute_result"
    }
   ],
   "source": [
    "df_list[0].columns"
   ]
  },
  {
   "cell_type": "code",
   "execution_count": 13,
   "metadata": {
    "execution": {
     "iopub.execute_input": "2022-06-28T08:28:47.486298Z",
     "iopub.status.busy": "2022-06-28T08:28:47.485301Z",
     "iopub.status.idle": "2022-06-28T08:28:47.499293Z",
     "shell.execute_reply": "2022-06-28T08:28:47.498297Z",
     "shell.execute_reply.started": "2022-06-28T08:28:47.486298Z"
    },
    "tags": []
   },
   "outputs": [],
   "source": [
    "folder_name = '02-0_total_volume_speed'\n",
    "\n",
    "save_TTL_dir = os.path.join(folder_dir, folder_name)\n",
    "\n",
    "os.makedirs(save_TTL_dir, exist_ok = True) # 해당 경로가 없을 시 폴더 생성, 존재할 경우 건너뛰기"
   ]
  },
  {
   "cell_type": "code",
   "execution_count": 14,
   "metadata": {
    "execution": {
     "iopub.execute_input": "2022-06-28T08:28:47.500289Z",
     "iopub.status.busy": "2022-06-28T08:28:47.500289Z",
     "iopub.status.idle": "2022-06-28T08:28:49.249634Z",
     "shell.execute_reply": "2022-06-28T08:28:49.248670Z",
     "shell.execute_reply.started": "2022-06-28T08:28:47.500289Z"
    },
    "tags": []
   },
   "outputs": [
    {
     "name": "stderr",
     "output_type": "stream",
     "text": [
      "6it [00:01,  3.47it/s]\n"
     ]
    }
   ],
   "source": [
    "for df, num_LOS in tqdm(zip(df_list, num_LOS_list)):\n",
    "    \n",
    "    if len(df) > 0:\n",
    "    \n",
    "        total_veh = len(df['Vehicle ID'].unique()) # 총 차량대수\n",
    "        total_SMS = harmonic(df['Vehicle Velocity(km/h)']) #차량의 공간평균속도(SMS)\n",
    "    \n",
    "        tmsec = tmsec_info[(tmsec_info['num'] == num_LOS[0:4]) & (tmsec_info['LOS'] == num_LOS[-1])]['tmsec'].iloc[0] # 해당 대상지, 해당 LOS 총관측시간 추출\n",
    "    \n",
    "        # 프레임 당 차량밀도의 전체평균 구하기\n",
    "        total_pv = pd.pivot_table(df, index = 'Frame ID', values = 'Vehicle ID', aggfunc = {'Vehicle ID': unq}).reset_index()\n",
    "        veh_by_frame = total_pv['Vehicle ID'].mean() #전체 프레임에 대한 평균이므로 mean을 사용한 것임\n",
    "\n",
    "        # 전체 평균 교통류율(flowrate, vph) 구하기\n",
    "        total_flowrate = total_veh/tmsec * 3600 # tmsec은 초 단위이므로, 시(h, 3600s) 단위로 변경해야 하기 때문임\n",
    "    \n",
    "        total_df = pd.DataFrame(data = {'Total Vehicle Count(veh)': [total_veh],\n",
    "                                        'Average SMS(km/h)': [total_SMS],\n",
    "                                        'Average Flowrate(vph)': [total_flowrate],\n",
    "                                        'Average Vehicle by Frame(veh/frameID)':[veh_by_frame],\n",
    "                                        'Average LOS' : num_LOS[-1],\n",
    "                                        'Total Observation Time(s)': [tmsec]})\n",
    "    \n",
    "        save_TTL_file = f'total_volume_SMS_{num_LOS}.csv'\n",
    "        save_TTL_path = os.path.join(save_TTL_dir, save_TTL_file)\n",
    "    \n",
    "        total_df.to_csv(save_TTL_path, encoding = 'cp949')\n",
    "    \n",
    "    else:\n",
    "        pass"
   ]
  },
  {
   "cell_type": "markdown",
   "metadata": {},
   "source": [
    "## 차선별 속도 정보"
   ]
  },
  {
   "cell_type": "markdown",
   "metadata": {},
   "source": [
    "### 차선변경 여부 표시 파생변수 생성 및 저장"
   ]
  },
  {
   "cell_type": "code",
   "execution_count": 15,
   "metadata": {
    "execution": {
     "iopub.execute_input": "2022-06-28T08:28:49.250674Z",
     "iopub.status.busy": "2022-06-28T08:28:49.249634Z",
     "iopub.status.idle": "2022-06-28T08:28:49.266590Z",
     "shell.execute_reply": "2022-06-28T08:28:49.264624Z",
     "shell.execute_reply.started": "2022-06-28T08:28:49.250674Z"
    },
    "tags": []
   },
   "outputs": [
    {
     "data": {
      "text/plain": [
       "Index(['Unnamed: 0', 'Unnamed: 0.1', 'Unnamed: 0.1.1', 'Unnamed: 0.1.1.1',\n",
       "       'Vehicle ID', 'Frame ID', 'Total Frames', 'Global Time (Epoch Time)',\n",
       "       'Local X (m)', 'Local Y(m)', 'Vehicle Length', 'Vehicle Width',\n",
       "       'Vehicle Class', 'Vehicle Velocity(km/h)', 'Vehicle Acceleration',\n",
       "       'Lane Identification', 'Preceding Vehicle', 'Following Vehicle',\n",
       "       'Spacing Headway', 'Time Headway', 'Bad Object', 'Special Car',\n",
       "       'Lane Class', 'Vehicle Movement'],\n",
       "      dtype='object')"
      ]
     },
     "execution_count": 15,
     "metadata": {},
     "output_type": "execute_result"
    }
   ],
   "source": [
    "df.columns"
   ]
  },
  {
   "cell_type": "code",
   "execution_count": 16,
   "metadata": {
    "execution": {
     "iopub.execute_input": "2022-06-28T08:28:49.268584Z",
     "iopub.status.busy": "2022-06-28T08:28:49.267586Z",
     "iopub.status.idle": "2022-06-28T08:28:49.281574Z",
     "shell.execute_reply": "2022-06-28T08:28:49.280578Z",
     "shell.execute_reply.started": "2022-06-28T08:28:49.268584Z"
    },
    "tags": []
   },
   "outputs": [],
   "source": [
    "folder_name = '01_density_by_target_LOS_concated_lanechange'\n",
    "\n",
    "save_Lanechange_dir = os.path.join(folder_dir, folder_name)\n",
    "\n",
    "os.makedirs(save_Lanechange_dir, exist_ok = True) # 해당 경로가 없을 시 폴더 생성, 존재할 경우 건너뛰기"
   ]
  },
  {
   "cell_type": "code",
   "execution_count": 17,
   "metadata": {
    "execution": {
     "iopub.execute_input": "2022-06-28T08:28:49.282586Z",
     "iopub.status.busy": "2022-06-28T08:28:49.281574Z",
     "iopub.status.idle": "2022-06-28T08:44:26.276957Z",
     "shell.execute_reply": "2022-06-28T08:44:26.275987Z",
     "shell.execute_reply.started": "2022-06-28T08:28:49.282586Z"
    },
    "tags": []
   },
   "outputs": [
    {
     "name": "stderr",
     "output_type": "stream",
     "text": [
      "6it [15:36, 156.16s/it]\n"
     ]
    }
   ],
   "source": [
    "warnings.filterwarnings(action = 'ignore') # pandas 경고메시지 숨기기\n",
    "\n",
    "for df, num_LOS in tqdm(zip(df_list, num_LOS_list)):\n",
    "\n",
    "    df['Lane_record'] = None # 차량의 차로변경기록\n",
    "    df['Lane_00'] = None # 차량의 첫 차로\n",
    "    df['Lane_99'] = None # 차량의 마지막 차로\n",
    "    df['Lane_change'] = None # 차량이 차로변경을 했을 시 'Change' 기록\n",
    "    \n",
    "    if len(df) > 0:\n",
    "\n",
    "        veh_list = df['Vehicle ID'].unique() # 차량 리스트 뽑기\n",
    "    \n",
    "        df = df.sort_values(by = 'Frame ID') # 데이터프레임을 Frame ID에 따라서 오름차순 정렬\n",
    "    \n",
    "        for veh in veh_list: # 각 차량별로\n",
    "            Lane_00 = df[df['Vehicle ID'] == veh]['Lane Identification'].iloc[0] # 차량이 처음 진행하던 차로\n",
    "            Lane_99 = df[df['Vehicle ID'] == veh]['Lane Identification'].iloc[-1] # 차량이 마지막 진행하던 차로\n",
    "        \n",
    "            veh_frame_list = df[df['Vehicle ID'] == veh]['Frame ID'].unique() # 해당 차량이 주행하는 동안의 프레임 리스트\n",
    "        \n",
    "            Lane_past = Lane_00 # Lane_past(각 차량 현재차로)를 초기화\n",
    "            Lane_record = Lane_00 # 차로변경기록 초기화\n",
    "            Lane_present = Lane_00 # 현재차로 초기화\n",
    "        \n",
    "            for frm in veh_frame_list : # 각 차량의 각 프레임별로\n",
    "            \n",
    "                Lane_past = Lane_present # iteration 돌기 전의 현재차로가 과거차로로 할당\n",
    "            \n",
    "                Lane_present = df[(df['Vehicle ID'] == veh) & (df['Frame ID'] == frm)]['Lane Identification'].iloc[0] # 현재 차량이 속한 차로를 할당\n",
    "            \n",
    "                if Lane_past == Lane_present: # 현재차로와 직전차로가 같으면 아무 문제 없음\n",
    "                    pass\n",
    "            \n",
    "                else: # 현재차로와 직전 차로가 다를 시\n",
    "                    idx = df[(df['Vehicle ID'] == veh) & (df['Frame ID'] == frm)]['Lane_change'].index[0] # 차로변경된 행의 인덱스\n",
    "                    df.at[idx, 'Lane_change'] = 'Change' # 차로변경되자마자 셀에 'Change' 표시\n",
    "                    Lane_record = str(Lane_record) + '_' + str(Lane_present)\n",
    "               \n",
    "            df.loc[df['Vehicle ID'] == veh, 'Lane_00'] = Lane_00 # 차량별 초기 차로번호\n",
    "            df.loc[df['Vehicle ID'] == veh, 'Lane_99'] = Lane_99 # 차량별 마지막 차로번호\n",
    "            df.loc[df['Vehicle ID'] == veh, 'Lane_record'] = Lane_record # 차량별 차로변경 기록 입력\n",
    "            \n",
    "            save_Lanechange_name = num_LOS + '.csv'\n",
    "            save_Lanechange_path = os.path.join(save_Lanechange_dir, save_Lanechange_name)\n",
    "            \n",
    "            df.to_csv(save_Lanechange_path, encoding = 'cp949')\n",
    "            \n",
    "    else:\n",
    "        pass\n",
    "    \n",
    "#warnings.filterwarnings(action = 'default') # pandas 경고메시지 다시 보이기"
   ]
  },
  {
   "cell_type": "markdown",
   "metadata": {},
   "source": [
    "### 궤적 데이터 재로드"
   ]
  },
  {
   "cell_type": "code",
   "execution_count": 18,
   "metadata": {
    "execution": {
     "iopub.execute_input": "2022-06-28T08:44:26.277983Z",
     "iopub.status.busy": "2022-06-28T08:44:26.276957Z",
     "iopub.status.idle": "2022-06-28T08:44:26.291945Z",
     "shell.execute_reply": "2022-06-28T08:44:26.290947Z",
     "shell.execute_reply.started": "2022-06-28T08:44:26.277983Z"
    },
    "tags": []
   },
   "outputs": [],
   "source": [
    "folder_name = '01_density_by_target_LOS_concated_lanechange'\n",
    "\n",
    "file_dir = os.path.join(folder_dir, folder_name)"
   ]
  },
  {
   "cell_type": "code",
   "execution_count": 19,
   "metadata": {
    "execution": {
     "iopub.execute_input": "2022-06-28T08:44:26.292945Z",
     "iopub.status.busy": "2022-06-28T08:44:26.291945Z",
     "iopub.status.idle": "2022-06-28T08:44:26.307873Z",
     "shell.execute_reply": "2022-06-28T08:44:26.306876Z",
     "shell.execute_reply.started": "2022-06-28T08:44:26.292945Z"
    },
    "tags": []
   },
   "outputs": [
    {
     "data": {
      "text/plain": [
       "['01_1_A.csv', '01_2_A.csv', '01_3_A.csv']"
      ]
     },
     "execution_count": 19,
     "metadata": {},
     "output_type": "execute_result"
    }
   ],
   "source": [
    "file_list = os.listdir(file_dir)\n",
    "file_list[0:3]"
   ]
  },
  {
   "cell_type": "code",
   "execution_count": 20,
   "metadata": {
    "execution": {
     "iopub.execute_input": "2022-06-28T08:44:26.308871Z",
     "iopub.status.busy": "2022-06-28T08:44:26.307873Z",
     "iopub.status.idle": "2022-06-28T08:44:26.718900Z",
     "shell.execute_reply": "2022-06-28T08:44:26.717827Z",
     "shell.execute_reply.started": "2022-06-28T08:44:26.308871Z"
    },
    "tags": []
   },
   "outputs": [],
   "source": [
    "df_list = []\n",
    "num_LOS_list = []\n",
    "\n",
    "for file in file_list:\n",
    "    num_LOS = file[0:6]\n",
    "    \n",
    "    file_path = os.path.join(file_dir, file)\n",
    "    \n",
    "    globals()[f'target{num_LOS}'] = pd.read_csv(file_path, encoding = 'cp949')\n",
    "    \n",
    "    df_list.append(globals()[f'target{num_LOS}'])\n",
    "    num_LOS_list.append(num_LOS)"
   ]
  },
  {
   "cell_type": "code",
   "execution_count": 21,
   "metadata": {
    "execution": {
     "iopub.execute_input": "2022-06-28T08:44:26.718900Z",
     "iopub.status.busy": "2022-06-28T08:44:26.718900Z",
     "iopub.status.idle": "2022-06-28T08:44:26.734820Z",
     "shell.execute_reply": "2022-06-28T08:44:26.732860Z",
     "shell.execute_reply.started": "2022-06-28T08:44:26.718900Z"
    },
    "tags": []
   },
   "outputs": [],
   "source": [
    "#target01_1_A.head(3)"
   ]
  },
  {
   "cell_type": "markdown",
   "metadata": {
    "execution": {
     "iopub.execute_input": "2021-08-11T09:59:18.188789Z",
     "iopub.status.busy": "2021-08-11T09:59:18.187792Z",
     "iopub.status.idle": "2021-08-11T09:59:18.201755Z",
     "shell.execute_reply": "2021-08-11T09:59:18.200798Z",
     "shell.execute_reply.started": "2021-08-11T09:59:18.188789Z"
    },
    "tags": []
   },
   "source": [
    "### 차선별 교통량, SMS 산정 후 저장\n",
    "* 차선별 교통량(차량대수)의 산정 기준\n",
    "    * 시점부 : 끝 지점\n",
    "    * 종점부1,2는 각 시작지점"
   ]
  },
  {
   "cell_type": "code",
   "execution_count": 22,
   "metadata": {
    "execution": {
     "iopub.execute_input": "2022-06-28T08:44:26.735818Z",
     "iopub.status.busy": "2022-06-28T08:44:26.735818Z",
     "iopub.status.idle": "2022-06-28T08:44:26.749781Z",
     "shell.execute_reply": "2022-06-28T08:44:26.748811Z",
     "shell.execute_reply.started": "2022-06-28T08:44:26.735818Z"
    },
    "tags": []
   },
   "outputs": [],
   "source": [
    "folder_name = '02-1_Each_Lane_volume_speed'\n",
    "\n",
    "save_EachLaneVolume_dir = os.path.join(folder_dir, folder_name)\n",
    "\n",
    "os.makedirs(save_EachLaneVolume_dir, exist_ok = True) # 해당 경로가 없을 시 폴더 생성, 존재할 경우 건너뛰기"
   ]
  },
  {
   "cell_type": "code",
   "execution_count": 23,
   "metadata": {
    "execution": {
     "iopub.execute_input": "2022-06-28T08:44:26.751775Z",
     "iopub.status.busy": "2022-06-28T08:44:26.750777Z",
     "iopub.status.idle": "2022-06-28T08:44:26.971188Z",
     "shell.execute_reply": "2022-06-28T08:44:26.970190Z",
     "shell.execute_reply.started": "2022-06-28T08:44:26.751775Z"
    },
    "tags": []
   },
   "outputs": [
    {
     "name": "stderr",
     "output_type": "stream",
     "text": [
      "6it [00:00, 29.79it/s]\n"
     ]
    }
   ],
   "source": [
    "for df, num_LOS in tqdm(zip(df_list, num_LOS_list)):\n",
    "    \n",
    "    tmsec = tmsec_info[(tmsec_info['num'] == num_LOS[0:4]) & (tmsec_info['LOS'] == num_LOS[-1])]['tmsec'].iloc[0]\n",
    "    \n",
    "    # 시점부, 종점부를 구분하기 : spot == 1이면 시점부, 종점부는 그 외로 간주\n",
    "    point = num_LOS[3]\n",
    "    \n",
    "    if point == 1 : # 시점부이면, 끝시점 차로(Lane_99) 기준 산정\n",
    "        pv_veh = pd.pivot_table(df,\n",
    "                                index = ['Lane_99'],\n",
    "                                values = ['Vehicle ID', 'Vehicle Velocity(km/h)'],\n",
    "                                aggfunc = {'Vehicle ID': unq, 'Vehicle Velocity(km/h)': harmonic})\n",
    "        \n",
    "    else : # 종점부이면, 첫차로(Lane_00) 기준 산정\n",
    "        pv_veh = pd.pivot_table(df, index = ['Lane_00'],\n",
    "                                values = ['Vehicle ID', 'Vehicle Velocity(km/h)'],\n",
    "                                aggfunc = {'Vehicle ID': unq, 'Vehicle Velocity(km/h)': harmonic})\n",
    "    \n",
    "    pv_veh.reset_index(inplace = True)\n",
    "        \n",
    "    pv_veh['Flow Rate(vph)'] = pv_veh['Vehicle ID'] * 3600/tmsec\n",
    "    \n",
    "    save_EachLaneVolume_file = f'EachLaneVolume{num_LOS}.csv'\n",
    "    save_EachLaneVolume_path = os.path.join(save_EachLaneVolume_dir, save_EachLaneVolume_file)\n",
    "    \n",
    "    pv_veh.to_csv(save_EachLaneVolume_path, encoding = 'cp949')"
   ]
  },
  {
   "cell_type": "markdown",
   "metadata": {},
   "source": [
    "### 차선변경 차량의 교통량 및 SMS 산정, 저장"
   ]
  },
  {
   "cell_type": "code",
   "execution_count": 24,
   "metadata": {
    "execution": {
     "iopub.execute_input": "2022-06-28T08:44:26.971188Z",
     "iopub.status.busy": "2022-06-28T08:44:26.971188Z",
     "iopub.status.idle": "2022-06-28T08:44:26.986149Z",
     "shell.execute_reply": "2022-06-28T08:44:26.986149Z",
     "shell.execute_reply.started": "2022-06-28T08:44:26.971188Z"
    },
    "tags": []
   },
   "outputs": [],
   "source": [
    "folder_name = '02-2_Lanechange_volume_speed'\n",
    "\n",
    "save_LaneChangeVolume_dir = os.path.join(folder_dir, folder_name)\n",
    "\n",
    "os.makedirs(save_LaneChangeVolume_dir, exist_ok = True) # 해당 경로가 없을 시 폴더 생성, 존재할 경우 건너뛰기"
   ]
  },
  {
   "cell_type": "code",
   "execution_count": 25,
   "metadata": {
    "execution": {
     "iopub.execute_input": "2022-06-28T08:44:26.987146Z",
     "iopub.status.busy": "2022-06-28T08:44:26.987146Z",
     "iopub.status.idle": "2022-06-28T08:44:27.207586Z",
     "shell.execute_reply": "2022-06-28T08:44:27.206587Z",
     "shell.execute_reply.started": "2022-06-28T08:44:26.987146Z"
    },
    "tags": []
   },
   "outputs": [
    {
     "name": "stderr",
     "output_type": "stream",
     "text": [
      "6it [00:00, 29.34it/s]\n"
     ]
    }
   ],
   "source": [
    "for df, num_LOS in tqdm(zip(df_list, num_LOS_list)):\n",
    "    \n",
    "    tmsec = tmsec_info[(tmsec_info['num'] == num_LOS[0:4]) & (tmsec_info['LOS'] == num_LOS[-1])]['tmsec'].iloc[0]\n",
    "    \n",
    "    pv_veh = pd.pivot_table(df, index = ['Lane_record'], values = ['Vehicle ID', 'Vehicle Velocity(km/h)'],\n",
    "                            aggfunc = {'Vehicle ID': unq, 'Vehicle Velocity(km/h)': harmonic})\n",
    "    pv_veh.reset_index(inplace = True)\n",
    "        \n",
    "    pv_veh['flow_rate(vph)'] = pv_veh['Vehicle ID'] * 3600/tmsec\n",
    "    \n",
    "    save_LaneChangeVolume_file = f'LaneChangeVolume{num_LOS}.csv'\n",
    "    save_LaneChangeVolume_path = os.path.join(save_LaneChangeVolume_dir, save_LaneChangeVolume_file)\n",
    "    \n",
    "    pv_veh.to_csv(save_LaneChangeVolume_path, encoding = 'cp949')"
   ]
  },
  {
   "cell_type": "markdown",
   "metadata": {},
   "source": [
    "## 과속(overspeed)\n",
    "> **과속** : 도로 제한속도보다 20km/h 초과 운행한 경우\n",
    "* 차량의 영상 내 구간 평균속도 산정\n",
    "    * index는 `Lane Identification, Vehicle ID`\n",
    "    * value는 `Vehicle Velocity(km/h)`\n",
    "    * 함수는 그냥 평균\n",
    "* 과속 여부 판정 파생변수 생성하기 : `overspeed`\n",
    "* `Lane Identification` 별로 pivot_table 하기 : `overspeed` 만 필터링하여 값의 수를 세기"
   ]
  },
  {
   "cell_type": "markdown",
   "metadata": {},
   "source": [
    "### 대상지 정보 로드"
   ]
  },
  {
   "cell_type": "code",
   "execution_count": 26,
   "metadata": {
    "execution": {
     "iopub.execute_input": "2022-06-28T08:44:27.208584Z",
     "iopub.status.busy": "2022-06-28T08:44:27.207586Z",
     "iopub.status.idle": "2022-06-28T08:44:27.223514Z",
     "shell.execute_reply": "2022-06-28T08:44:27.222519Z",
     "shell.execute_reply.started": "2022-06-28T08:44:27.208584Z"
    },
    "tags": []
   },
   "outputs": [],
   "source": [
    "target_info_dir = 'target_info_B_TCS.csv'"
   ]
  },
  {
   "cell_type": "code",
   "execution_count": 27,
   "metadata": {
    "execution": {
     "iopub.execute_input": "2022-06-28T08:44:27.226506Z",
     "iopub.status.busy": "2022-06-28T08:44:27.226506Z",
     "iopub.status.idle": "2022-06-28T08:44:27.239470Z",
     "shell.execute_reply": "2022-06-28T08:44:27.238473Z",
     "shell.execute_reply.started": "2022-06-28T08:44:27.226506Z"
    },
    "tags": []
   },
   "outputs": [],
   "source": [
    "target_info = pd.read_csv(target_info_dir, encoding = 'utf-8')"
   ]
  },
  {
   "cell_type": "code",
   "execution_count": 28,
   "metadata": {
    "execution": {
     "iopub.execute_input": "2022-06-28T08:44:27.240468Z",
     "iopub.status.busy": "2022-06-28T08:44:27.240468Z",
     "iopub.status.idle": "2022-06-28T08:44:27.255428Z",
     "shell.execute_reply": "2022-06-28T08:44:27.254430Z",
     "shell.execute_reply.started": "2022-06-28T08:44:27.240468Z"
    },
    "tags": []
   },
   "outputs": [
    {
     "data": {
      "text/html": [
       "<div>\n",
       "<style scoped>\n",
       "    .dataframe tbody tr th:only-of-type {\n",
       "        vertical-align: middle;\n",
       "    }\n",
       "\n",
       "    .dataframe tbody tr th {\n",
       "        vertical-align: top;\n",
       "    }\n",
       "\n",
       "    .dataframe thead th {\n",
       "        text-align: right;\n",
       "    }\n",
       "</style>\n",
       "<table border=\"1\" class=\"dataframe\">\n",
       "  <thead>\n",
       "    <tr style=\"text-align: right;\">\n",
       "      <th></th>\n",
       "      <th>place</th>\n",
       "      <th>length</th>\n",
       "      <th>speed_limit</th>\n",
       "      <th>lane_num</th>\n",
       "      <th>order</th>\n",
       "      <th>etc</th>\n",
       "    </tr>\n",
       "  </thead>\n",
       "  <tbody>\n",
       "    <tr>\n",
       "      <th>0</th>\n",
       "      <td>01_1</td>\n",
       "      <td>198.0</td>\n",
       "      <td>80</td>\n",
       "      <td>6</td>\n",
       "      <td>NaN</td>\n",
       "      <td>NaN</td>\n",
       "    </tr>\n",
       "    <tr>\n",
       "      <th>1</th>\n",
       "      <td>01_2</td>\n",
       "      <td>168.0</td>\n",
       "      <td>80</td>\n",
       "      <td>6</td>\n",
       "      <td>NaN</td>\n",
       "      <td>NaN</td>\n",
       "    </tr>\n",
       "    <tr>\n",
       "      <th>2</th>\n",
       "      <td>01_3</td>\n",
       "      <td>55.6</td>\n",
       "      <td>110</td>\n",
       "      <td>7</td>\n",
       "      <td>NaN</td>\n",
       "      <td>NaN</td>\n",
       "    </tr>\n",
       "    <tr>\n",
       "      <th>3</th>\n",
       "      <td>01_4</td>\n",
       "      <td>144.2</td>\n",
       "      <td>110</td>\n",
       "      <td>6</td>\n",
       "      <td>NaN</td>\n",
       "      <td>NaN</td>\n",
       "    </tr>\n",
       "    <tr>\n",
       "      <th>4</th>\n",
       "      <td>01_5</td>\n",
       "      <td>163.0</td>\n",
       "      <td>110</td>\n",
       "      <td>4</td>\n",
       "      <td>NaN</td>\n",
       "      <td>NaN</td>\n",
       "    </tr>\n",
       "  </tbody>\n",
       "</table>\n",
       "</div>"
      ],
      "text/plain": [
       "  place  length  speed_limit  lane_num  order  etc\n",
       "0  01_1   198.0           80         6    NaN  NaN\n",
       "1  01_2   168.0           80         6    NaN  NaN\n",
       "2  01_3    55.6          110         7    NaN  NaN\n",
       "3  01_4   144.2          110         6    NaN  NaN\n",
       "4  01_5   163.0          110         4    NaN  NaN"
      ]
     },
     "execution_count": 28,
     "metadata": {},
     "output_type": "execute_result"
    }
   ],
   "source": [
    "target_info.head()"
   ]
  },
  {
   "cell_type": "markdown",
   "metadata": {},
   "source": [
    "### 필요함수 정의 : overspeed\n",
    "* 도로 제한속도보다 20km/h 이상 초과운행 시 overspeed를 반환하는 함수"
   ]
  },
  {
   "cell_type": "code",
   "execution_count": 29,
   "metadata": {
    "execution": {
     "iopub.execute_input": "2022-06-28T08:44:27.256426Z",
     "iopub.status.busy": "2022-06-28T08:44:27.256426Z",
     "iopub.status.idle": "2022-06-28T08:44:27.271393Z",
     "shell.execute_reply": "2022-06-28T08:44:27.270387Z",
     "shell.execute_reply.started": "2022-06-28T08:44:27.256426Z"
    },
    "tags": []
   },
   "outputs": [],
   "source": [
    "def overspeed(velocity, limit):\n",
    "    \"\"\"도로 제한속도(limit)보다 20km/h 이상 초과 운행 시 overspeed 판정 함수\"\"\"\n",
    "    \n",
    "    if velocity - limit > 20:\n",
    "        return 'Overspeed'\n",
    "    else:\n",
    "        pass"
   ]
  },
  {
   "cell_type": "markdown",
   "metadata": {},
   "source": [
    "### 과속차량에 'over' 표시하기"
   ]
  },
  {
   "cell_type": "code",
   "execution_count": 30,
   "metadata": {
    "execution": {
     "iopub.execute_input": "2022-06-28T08:44:27.273381Z",
     "iopub.status.busy": "2022-06-28T08:44:27.273381Z",
     "iopub.status.idle": "2022-06-28T08:44:27.442961Z",
     "shell.execute_reply": "2022-06-28T08:44:27.442961Z",
     "shell.execute_reply.started": "2022-06-28T08:44:27.273381Z"
    },
    "tags": []
   },
   "outputs": [],
   "source": [
    "ovs_list = []\n",
    "\n",
    "for df, num_LOS in zip(df_list, num_LOS_list):\n",
    "    \n",
    "    df['place'] = num_LOS[0:4] # 01_1\n",
    "    \n",
    "    pvt = pd.pivot_table(df,\n",
    "                         index = ['place', 'Lane Identification', 'Vehicle ID'],\n",
    "                         values = ['Vehicle Velocity(km/h)', 'Vehicle Acceleration'],\n",
    "                         aggfunc = {'Vehicle Velocity(km/h)': 'mean', 'Vehicle Acceleration':'mean'})\n",
    "    pvt.reset_index(inplace = True)\n",
    "    \n",
    "    ovs = pd.merge(left = pvt, right = target_info, how = 'left', left_on = 'place', right_on = 'place')\n",
    "    \n",
    "    ovs['overspeed'] = ovs[['Vehicle Velocity(km/h)', 'speed_limit']].apply(lambda x: overspeed(*x), axis = 1)\n",
    "            \n",
    "    globals()[f'ovs{num_LOS}'] = ovs\n",
    "    ovs_list.append(ovs)"
   ]
  },
  {
   "cell_type": "code",
   "execution_count": 31,
   "metadata": {
    "execution": {
     "iopub.execute_input": "2022-06-28T08:44:27.443956Z",
     "iopub.status.busy": "2022-06-28T08:44:27.443956Z",
     "iopub.status.idle": "2022-06-28T08:44:27.459883Z",
     "shell.execute_reply": "2022-06-28T08:44:27.458886Z",
     "shell.execute_reply.started": "2022-06-28T08:44:27.443956Z"
    },
    "tags": []
   },
   "outputs": [
    {
     "data": {
      "text/html": [
       "<div>\n",
       "<style scoped>\n",
       "    .dataframe tbody tr th:only-of-type {\n",
       "        vertical-align: middle;\n",
       "    }\n",
       "\n",
       "    .dataframe tbody tr th {\n",
       "        vertical-align: top;\n",
       "    }\n",
       "\n",
       "    .dataframe thead th {\n",
       "        text-align: right;\n",
       "    }\n",
       "</style>\n",
       "<table border=\"1\" class=\"dataframe\">\n",
       "  <thead>\n",
       "    <tr style=\"text-align: right;\">\n",
       "      <th></th>\n",
       "      <th>place</th>\n",
       "      <th>Lane Identification</th>\n",
       "      <th>Vehicle ID</th>\n",
       "      <th>Vehicle Acceleration</th>\n",
       "      <th>Vehicle Velocity(km/h)</th>\n",
       "      <th>length</th>\n",
       "      <th>speed_limit</th>\n",
       "      <th>lane_num</th>\n",
       "      <th>order</th>\n",
       "      <th>etc</th>\n",
       "      <th>overspeed</th>\n",
       "    </tr>\n",
       "  </thead>\n",
       "  <tbody>\n",
       "    <tr>\n",
       "      <th>0</th>\n",
       "      <td>01_1</td>\n",
       "      <td>U1</td>\n",
       "      <td>3</td>\n",
       "      <td>-0.517476</td>\n",
       "      <td>75.123451</td>\n",
       "      <td>198.0</td>\n",
       "      <td>80</td>\n",
       "      <td>6</td>\n",
       "      <td>NaN</td>\n",
       "      <td>NaN</td>\n",
       "      <td>None</td>\n",
       "    </tr>\n",
       "    <tr>\n",
       "      <th>1</th>\n",
       "      <td>01_1</td>\n",
       "      <td>U1</td>\n",
       "      <td>12</td>\n",
       "      <td>-0.478753</td>\n",
       "      <td>75.901786</td>\n",
       "      <td>198.0</td>\n",
       "      <td>80</td>\n",
       "      <td>6</td>\n",
       "      <td>NaN</td>\n",
       "      <td>NaN</td>\n",
       "      <td>None</td>\n",
       "    </tr>\n",
       "    <tr>\n",
       "      <th>2</th>\n",
       "      <td>01_1</td>\n",
       "      <td>U1</td>\n",
       "      <td>15</td>\n",
       "      <td>-0.657446</td>\n",
       "      <td>74.155008</td>\n",
       "      <td>198.0</td>\n",
       "      <td>80</td>\n",
       "      <td>6</td>\n",
       "      <td>NaN</td>\n",
       "      <td>NaN</td>\n",
       "      <td>None</td>\n",
       "    </tr>\n",
       "  </tbody>\n",
       "</table>\n",
       "</div>"
      ],
      "text/plain": [
       "  place Lane Identification  Vehicle ID  Vehicle Acceleration  \\\n",
       "0  01_1                  U1           3             -0.517476   \n",
       "1  01_1                  U1          12             -0.478753   \n",
       "2  01_1                  U1          15             -0.657446   \n",
       "\n",
       "   Vehicle Velocity(km/h)  length  speed_limit  lane_num  order  etc overspeed  \n",
       "0               75.123451   198.0           80         6    NaN  NaN      None  \n",
       "1               75.901786   198.0           80         6    NaN  NaN      None  \n",
       "2               74.155008   198.0           80         6    NaN  NaN      None  "
      ]
     },
     "execution_count": 31,
     "metadata": {},
     "output_type": "execute_result"
    }
   ],
   "source": [
    "ovs_list[0].head(3)"
   ]
  },
  {
   "cell_type": "markdown",
   "metadata": {},
   "source": [
    "### 과속차량(over) 필터링 후 처리\n",
    "* 과속한 차량대수\n",
    "* 과속한 차량 대수를 교통류율로 환산\n",
    "* 과속한 차량끼리의 공간평균속도를 구하기"
   ]
  },
  {
   "cell_type": "code",
   "execution_count": 32,
   "metadata": {
    "execution": {
     "iopub.execute_input": "2022-06-28T08:44:27.460880Z",
     "iopub.status.busy": "2022-06-28T08:44:27.460880Z",
     "iopub.status.idle": "2022-06-28T08:44:27.475870Z",
     "shell.execute_reply": "2022-06-28T08:44:27.474876Z",
     "shell.execute_reply.started": "2022-06-28T08:44:27.460880Z"
    },
    "tags": []
   },
   "outputs": [],
   "source": [
    "folder_name = '02-3_overspeed'\n",
    "\n",
    "save_overspeed_dir = os.path.join(folder_dir, folder_name)\n",
    "\n",
    "os.makedirs(save_overspeed_dir, exist_ok = True) # 해당 경로가 없을 시 폴더 생성, 존재할 경우 건너뛰기"
   ]
  },
  {
   "cell_type": "code",
   "execution_count": 33,
   "metadata": {
    "execution": {
     "iopub.execute_input": "2022-06-28T08:44:27.476840Z",
     "iopub.status.busy": "2022-06-28T08:44:27.475870Z",
     "iopub.status.idle": "2022-06-28T08:44:27.538671Z",
     "shell.execute_reply": "2022-06-28T08:44:27.537673Z",
     "shell.execute_reply.started": "2022-06-28T08:44:27.476840Z"
    },
    "tags": []
   },
   "outputs": [
    {
     "name": "stdout",
     "output_type": "stream",
     "text": [
      "01_1_A 16\n",
      "01_3_A 2\n",
      "01_5_A 1\n"
     ]
    }
   ],
   "source": [
    "for ovs, num_LOS in zip(ovs_list, num_LOS_list):\n",
    "    \n",
    "    ovs_only = ovs[ovs['overspeed'] == 'Overspeed']\n",
    "    \n",
    "    ovs_veh = pd.pivot_table(ovs_only, \n",
    "                             index = 'Lane Identification',\n",
    "                             values = ['Vehicle ID', 'Vehicle Velocity(km/h)'],\n",
    "                             aggfunc = {'Vehicle ID': unq, 'Vehicle Velocity(km/h)': harmonic})\n",
    "    \n",
    "    ovs_veh.reset_index(inplace = True)\n",
    "    \n",
    "    if len(ovs_veh) > 0:\n",
    "        print(num_LOS, len(ovs_only))\n",
    "        #ovs2_veh['flow_rate(vph)'] = ovs2_veh['Vehicle ID_x'] * 3600/tmsec\n",
    "        save_overspeed_file = f'overspeed{num_LOS}.csv'\n",
    "        save_overspeed_path = os.path.join(save_overspeed_dir, save_overspeed_file)\n",
    "        ovs_veh.to_csv(save_overspeed_path, encoding = 'cp949')\n",
    "        \n",
    "    else:\n",
    "        pass"
   ]
  },
  {
   "cell_type": "markdown",
   "metadata": {},
   "source": [
    "## 급감속(sudden_dec)\n",
    "* **급감속** : 초당 8km/h 이상 감속 운행하고 속도가 6.0km/h 이상인 경우\n",
    "    * 화물차의 것을 기준으로 한 정의임\n",
    "* 이것이야말로 '초'당 피벗 테이블이 필요함"
   ]
  },
  {
   "cell_type": "markdown",
   "metadata": {
    "execution": {
     "iopub.execute_input": "2021-08-13T13:54:04.866356Z",
     "iopub.status.busy": "2021-08-13T13:54:04.866356Z",
     "iopub.status.idle": "2021-08-13T13:54:04.881315Z",
     "shell.execute_reply": "2021-08-13T13:54:04.881315Z",
     "shell.execute_reply.started": "2021-08-13T13:54:04.866356Z"
    },
    "tags": []
   },
   "source": [
    "### time_group : 1초 단위로 묶은 파생변수 생성\n",
    "* 1초 단위 피벗을 하기 위함임"
   ]
  },
  {
   "cell_type": "code",
   "execution_count": 34,
   "metadata": {
    "execution": {
     "iopub.execute_input": "2022-06-28T08:44:27.538671Z",
     "iopub.status.busy": "2022-06-28T08:44:27.538671Z",
     "iopub.status.idle": "2022-06-28T08:44:27.554630Z",
     "shell.execute_reply": "2022-06-28T08:44:27.553631Z",
     "shell.execute_reply.started": "2022-06-28T08:44:27.538671Z"
    },
    "tags": []
   },
   "outputs": [],
   "source": [
    "frame_rate = 30"
   ]
  },
  {
   "cell_type": "code",
   "execution_count": 35,
   "metadata": {
    "execution": {
     "iopub.execute_input": "2022-06-28T08:44:27.556625Z",
     "iopub.status.busy": "2022-06-28T08:44:27.556625Z",
     "iopub.status.idle": "2022-06-28T08:44:28.420334Z",
     "shell.execute_reply": "2022-06-28T08:44:28.419346Z",
     "shell.execute_reply.started": "2022-06-28T08:44:27.556625Z"
    },
    "tags": []
   },
   "outputs": [
    {
     "name": "stderr",
     "output_type": "stream",
     "text": [
      "6it [00:00,  7.12it/s]\n"
     ]
    }
   ],
   "source": [
    "pivot_df_list = []\n",
    "\n",
    "for df, num_LOS in tqdm(zip(df_list, num_LOS_list)):\n",
    "    \n",
    "    df['timespot'] = round(df['Frame ID']/frame_rate) # frame_rate == 30\n",
    "    \n",
    "    vehicle_list = df['Vehicle ID'].unique()\n",
    "    \n",
    "    pivot_df = pd.pivot_table(df, \n",
    "                              index = ['Lane Identification', 'Vehicle ID', 'timespot'],\n",
    "                              values = ['Vehicle Velocity(km/h)' ,'Vehicle Acceleration'],\n",
    "                              aggfunc = {'Vehicle Velocity(km/h)': harmonic, 'Vehicle Acceleration' : 'mean'})\n",
    "    \n",
    "    pivot_df = pivot_df.reset_index()\n",
    "    \n",
    "    pivot_df_list.append(pivot_df)"
   ]
  },
  {
   "cell_type": "code",
   "execution_count": 36,
   "metadata": {
    "execution": {
     "iopub.execute_input": "2022-06-28T08:44:28.421311Z",
     "iopub.status.busy": "2022-06-28T08:44:28.421311Z",
     "iopub.status.idle": "2022-06-28T08:44:28.450234Z",
     "shell.execute_reply": "2022-06-28T08:44:28.449265Z",
     "shell.execute_reply.started": "2022-06-28T08:44:28.421311Z"
    },
    "tags": []
   },
   "outputs": [
    {
     "data": {
      "text/html": [
       "<div>\n",
       "<style scoped>\n",
       "    .dataframe tbody tr th:only-of-type {\n",
       "        vertical-align: middle;\n",
       "    }\n",
       "\n",
       "    .dataframe tbody tr th {\n",
       "        vertical-align: top;\n",
       "    }\n",
       "\n",
       "    .dataframe thead th {\n",
       "        text-align: right;\n",
       "    }\n",
       "</style>\n",
       "<table border=\"1\" class=\"dataframe\">\n",
       "  <thead>\n",
       "    <tr style=\"text-align: right;\">\n",
       "      <th></th>\n",
       "      <th>Lane Identification</th>\n",
       "      <th>Vehicle ID</th>\n",
       "      <th>timespot</th>\n",
       "      <th>Vehicle Acceleration</th>\n",
       "      <th>Vehicle Velocity(km/h)</th>\n",
       "    </tr>\n",
       "  </thead>\n",
       "  <tbody>\n",
       "    <tr>\n",
       "      <th>0</th>\n",
       "      <td>U1</td>\n",
       "      <td>3</td>\n",
       "      <td>15.0</td>\n",
       "      <td>0.362587</td>\n",
       "      <td>76.660957</td>\n",
       "    </tr>\n",
       "    <tr>\n",
       "      <th>1</th>\n",
       "      <td>U1</td>\n",
       "      <td>3</td>\n",
       "      <td>16.0</td>\n",
       "      <td>0.063553</td>\n",
       "      <td>77.495297</td>\n",
       "    </tr>\n",
       "    <tr>\n",
       "      <th>2</th>\n",
       "      <td>U1</td>\n",
       "      <td>3</td>\n",
       "      <td>17.0</td>\n",
       "      <td>-0.717017</td>\n",
       "      <td>75.953356</td>\n",
       "    </tr>\n",
       "    <tr>\n",
       "      <th>3</th>\n",
       "      <td>U1</td>\n",
       "      <td>3</td>\n",
       "      <td>18.0</td>\n",
       "      <td>-0.962107</td>\n",
       "      <td>72.859209</td>\n",
       "    </tr>\n",
       "    <tr>\n",
       "      <th>4</th>\n",
       "      <td>U1</td>\n",
       "      <td>3</td>\n",
       "      <td>19.0</td>\n",
       "      <td>-1.885753</td>\n",
       "      <td>69.543445</td>\n",
       "    </tr>\n",
       "    <tr>\n",
       "      <th>...</th>\n",
       "      <td>...</td>\n",
       "      <td>...</td>\n",
       "      <td>...</td>\n",
       "      <td>...</td>\n",
       "      <td>...</td>\n",
       "    </tr>\n",
       "    <tr>\n",
       "      <th>4007</th>\n",
       "      <td>U6</td>\n",
       "      <td>20329</td>\n",
       "      <td>6925.0</td>\n",
       "      <td>0.274290</td>\n",
       "      <td>92.503744</td>\n",
       "    </tr>\n",
       "    <tr>\n",
       "      <th>4008</th>\n",
       "      <td>U6</td>\n",
       "      <td>20329</td>\n",
       "      <td>6926.0</td>\n",
       "      <td>-0.083300</td>\n",
       "      <td>93.696062</td>\n",
       "    </tr>\n",
       "    <tr>\n",
       "      <th>4009</th>\n",
       "      <td>U6</td>\n",
       "      <td>20329</td>\n",
       "      <td>6927.0</td>\n",
       "      <td>-0.949131</td>\n",
       "      <td>91.405546</td>\n",
       "    </tr>\n",
       "    <tr>\n",
       "      <th>4010</th>\n",
       "      <td>U6</td>\n",
       "      <td>20329</td>\n",
       "      <td>6928.0</td>\n",
       "      <td>-1.981606</td>\n",
       "      <td>85.821333</td>\n",
       "    </tr>\n",
       "    <tr>\n",
       "      <th>4011</th>\n",
       "      <td>U6</td>\n",
       "      <td>20329</td>\n",
       "      <td>6929.0</td>\n",
       "      <td>-1.464187</td>\n",
       "      <td>81.948921</td>\n",
       "    </tr>\n",
       "  </tbody>\n",
       "</table>\n",
       "<p>4012 rows × 5 columns</p>\n",
       "</div>"
      ],
      "text/plain": [
       "     Lane Identification  Vehicle ID  timespot  Vehicle Acceleration  \\\n",
       "0                     U1           3      15.0              0.362587   \n",
       "1                     U1           3      16.0              0.063553   \n",
       "2                     U1           3      17.0             -0.717017   \n",
       "3                     U1           3      18.0             -0.962107   \n",
       "4                     U1           3      19.0             -1.885753   \n",
       "...                  ...         ...       ...                   ...   \n",
       "4007                  U6       20329    6925.0              0.274290   \n",
       "4008                  U6       20329    6926.0             -0.083300   \n",
       "4009                  U6       20329    6927.0             -0.949131   \n",
       "4010                  U6       20329    6928.0             -1.981606   \n",
       "4011                  U6       20329    6929.0             -1.464187   \n",
       "\n",
       "      Vehicle Velocity(km/h)  \n",
       "0                  76.660957  \n",
       "1                  77.495297  \n",
       "2                  75.953356  \n",
       "3                  72.859209  \n",
       "4                  69.543445  \n",
       "...                      ...  \n",
       "4007               92.503744  \n",
       "4008               93.696062  \n",
       "4009               91.405546  \n",
       "4010               85.821333  \n",
       "4011               81.948921  \n",
       "\n",
       "[4012 rows x 5 columns]"
      ]
     },
     "execution_count": 36,
     "metadata": {},
     "output_type": "execute_result"
    }
   ],
   "source": [
    "pivot_df_list[0]"
   ]
  },
  {
   "cell_type": "markdown",
   "metadata": {},
   "source": [
    "### 필요 함수 정의 : sudden_dec\n",
    "* **급감속** : 초당 8km/h 이상 감속 운행하고 속도가 6.0km/h 이상인 경우\n",
    "* 가속도를 초속(m/s)으로 통일할 것"
   ]
  },
  {
   "cell_type": "code",
   "execution_count": 37,
   "metadata": {
    "execution": {
     "iopub.execute_input": "2022-06-28T08:44:28.451232Z",
     "iopub.status.busy": "2022-06-28T08:44:28.451232Z",
     "iopub.status.idle": "2022-06-28T08:44:28.466191Z",
     "shell.execute_reply": "2022-06-28T08:44:28.465193Z",
     "shell.execute_reply.started": "2022-06-28T08:44:28.451232Z"
    },
    "tags": []
   },
   "outputs": [],
   "source": [
    "def sudden_dec(velocity, acceleration):\n",
    "    \"\"\"급감속인 경우 sudden_dec 판정\"\"\"\n",
    "    if velocity >= 6.0 and acceleration <= -8.0 * (1000/3600):\n",
    "        return 'sudden_dec'\n",
    "    else:\n",
    "        pass"
   ]
  },
  {
   "cell_type": "markdown",
   "metadata": {},
   "source": [
    "### 급감속(sudden_dec) 표시 후 저장"
   ]
  },
  {
   "cell_type": "code",
   "execution_count": 38,
   "metadata": {
    "execution": {
     "iopub.execute_input": "2022-06-28T08:44:28.468186Z",
     "iopub.status.busy": "2022-06-28T08:44:28.467188Z",
     "iopub.status.idle": "2022-06-28T08:44:28.482150Z",
     "shell.execute_reply": "2022-06-28T08:44:28.481150Z",
     "shell.execute_reply.started": "2022-06-28T08:44:28.468186Z"
    },
    "tags": []
   },
   "outputs": [],
   "source": [
    "folder_name = '02-4_sudden_dec'\n",
    "\n",
    "save_SuddenDec_dir = os.path.join(folder_dir, folder_name)\n",
    "\n",
    "os.makedirs(save_SuddenDec_dir, exist_ok = True) # 해당 경로가 없을 시 폴더 생성, 존재할 경우 건너뛰기"
   ]
  },
  {
   "cell_type": "code",
   "execution_count": 39,
   "metadata": {
    "execution": {
     "iopub.execute_input": "2022-06-28T08:44:28.484144Z",
     "iopub.status.busy": "2022-06-28T08:44:28.484144Z",
     "iopub.status.idle": "2022-06-28T08:44:28.670674Z",
     "shell.execute_reply": "2022-06-28T08:44:28.670674Z",
     "shell.execute_reply.started": "2022-06-28T08:44:28.484144Z"
    },
    "tags": []
   },
   "outputs": [],
   "source": [
    "for pivot_df, num_LOS in zip(pivot_df_list, num_LOS_list):\n",
    "    \n",
    "    pivot_df['sudden_dec'] = pivot_df[['Vehicle Velocity(km/h)', 'Vehicle Acceleration']].apply(lambda x: sudden_dec(*x), axis = 1)\n",
    "    \n",
    "    save_SuddenDec_file = f'SuddenDec{num_LOS}.csv'\n",
    "    save_SuddenDec_path = os.path.join(save_SuddenDec_dir, save_SuddenDec_file)\n",
    "    \n",
    "    pivot_df.to_csv(save_SuddenDec_path, encoding = 'cp949')"
   ]
  },
  {
   "cell_type": "code",
   "execution_count": 40,
   "metadata": {
    "execution": {
     "iopub.execute_input": "2022-06-28T08:44:28.671641Z",
     "iopub.status.busy": "2022-06-28T08:44:28.671641Z",
     "iopub.status.idle": "2022-06-28T08:44:28.686603Z",
     "shell.execute_reply": "2022-06-28T08:44:28.685625Z",
     "shell.execute_reply.started": "2022-06-28T08:44:28.671641Z"
    },
    "tags": []
   },
   "outputs": [
    {
     "data": {
      "text/html": [
       "<div>\n",
       "<style scoped>\n",
       "    .dataframe tbody tr th:only-of-type {\n",
       "        vertical-align: middle;\n",
       "    }\n",
       "\n",
       "    .dataframe tbody tr th {\n",
       "        vertical-align: top;\n",
       "    }\n",
       "\n",
       "    .dataframe thead th {\n",
       "        text-align: right;\n",
       "    }\n",
       "</style>\n",
       "<table border=\"1\" class=\"dataframe\">\n",
       "  <thead>\n",
       "    <tr style=\"text-align: right;\">\n",
       "      <th></th>\n",
       "      <th>Lane Identification</th>\n",
       "      <th>Vehicle ID</th>\n",
       "      <th>timespot</th>\n",
       "      <th>Vehicle Acceleration</th>\n",
       "      <th>Vehicle Velocity(km/h)</th>\n",
       "      <th>sudden_dec</th>\n",
       "    </tr>\n",
       "  </thead>\n",
       "  <tbody>\n",
       "    <tr>\n",
       "      <th>0</th>\n",
       "      <td>U1</td>\n",
       "      <td>3</td>\n",
       "      <td>15.0</td>\n",
       "      <td>0.362587</td>\n",
       "      <td>76.660957</td>\n",
       "      <td>None</td>\n",
       "    </tr>\n",
       "    <tr>\n",
       "      <th>1</th>\n",
       "      <td>U1</td>\n",
       "      <td>3</td>\n",
       "      <td>16.0</td>\n",
       "      <td>0.063553</td>\n",
       "      <td>77.495297</td>\n",
       "      <td>None</td>\n",
       "    </tr>\n",
       "    <tr>\n",
       "      <th>2</th>\n",
       "      <td>U1</td>\n",
       "      <td>3</td>\n",
       "      <td>17.0</td>\n",
       "      <td>-0.717017</td>\n",
       "      <td>75.953356</td>\n",
       "      <td>None</td>\n",
       "    </tr>\n",
       "    <tr>\n",
       "      <th>3</th>\n",
       "      <td>U1</td>\n",
       "      <td>3</td>\n",
       "      <td>18.0</td>\n",
       "      <td>-0.962107</td>\n",
       "      <td>72.859209</td>\n",
       "      <td>None</td>\n",
       "    </tr>\n",
       "    <tr>\n",
       "      <th>4</th>\n",
       "      <td>U1</td>\n",
       "      <td>3</td>\n",
       "      <td>19.0</td>\n",
       "      <td>-1.885753</td>\n",
       "      <td>69.543445</td>\n",
       "      <td>None</td>\n",
       "    </tr>\n",
       "  </tbody>\n",
       "</table>\n",
       "</div>"
      ],
      "text/plain": [
       "  Lane Identification  Vehicle ID  timespot  Vehicle Acceleration  \\\n",
       "0                  U1           3      15.0              0.362587   \n",
       "1                  U1           3      16.0              0.063553   \n",
       "2                  U1           3      17.0             -0.717017   \n",
       "3                  U1           3      18.0             -0.962107   \n",
       "4                  U1           3      19.0             -1.885753   \n",
       "\n",
       "   Vehicle Velocity(km/h) sudden_dec  \n",
       "0               76.660957       None  \n",
       "1               77.495297       None  \n",
       "2               75.953356       None  \n",
       "3               72.859209       None  \n",
       "4               69.543445       None  "
      ]
     },
     "execution_count": 40,
     "metadata": {},
     "output_type": "execute_result"
    }
   ],
   "source": [
    "pivot_df_list[0].head()"
   ]
  },
  {
   "cell_type": "markdown",
   "metadata": {},
   "source": [
    "### 급감속, 급가속 필터링 후 처리\n",
    "* 급감속/급가속한 차량대수\n",
    "* 해당 차량 대수를 교통류율로 환산\n",
    "* 해당 차량끼리의 평균 가속도를 구하기"
   ]
  },
  {
   "cell_type": "code",
   "execution_count": 41,
   "metadata": {
    "execution": {
     "iopub.execute_input": "2022-06-28T08:44:28.690591Z",
     "iopub.status.busy": "2022-06-28T08:44:28.689595Z",
     "iopub.status.idle": "2022-06-28T08:44:28.702589Z",
     "shell.execute_reply": "2022-06-28T08:44:28.701561Z",
     "shell.execute_reply.started": "2022-06-28T08:44:28.690591Z"
    },
    "tags": []
   },
   "outputs": [],
   "source": [
    "folder_name = '02-5_sudden_dec_aggregated'\n",
    "\n",
    "save_SuddenDecAgg_dir = os.path.join(folder_dir, folder_name)\n",
    "\n",
    "os.makedirs(save_SuddenDecAgg_dir, exist_ok = True) # 해당 경로가 없을 시 폴더 생성, 존재할 경우 건너뛰기"
   ]
  },
  {
   "cell_type": "code",
   "execution_count": 42,
   "metadata": {
    "execution": {
     "iopub.execute_input": "2022-06-28T08:44:28.704556Z",
     "iopub.status.busy": "2022-06-28T08:44:28.703557Z",
     "iopub.status.idle": "2022-06-28T08:44:28.798335Z",
     "shell.execute_reply": "2022-06-28T08:44:28.796359Z",
     "shell.execute_reply.started": "2022-06-28T08:44:28.703557Z"
    },
    "tags": []
   },
   "outputs": [
    {
     "name": "stdout",
     "output_type": "stream",
     "text": [
      "01_1_A 6\n",
      "01_2_A 7\n",
      "01_3_A 6\n",
      "01_4_A 6\n",
      "01_5_A 4\n",
      "01_6_A 3\n"
     ]
    }
   ],
   "source": [
    "for pivot_df, num_LOS in zip(pivot_df_list, num_LOS_list):\n",
    "    \n",
    "    SuddenDecAgg = pd.pivot_table(pivot_df[pivot_df['sudden_dec'] == 'sudden_dec'],\n",
    "                                  index = ['Lane Identification', 'sudden_dec'],\n",
    "                                  values = ['Vehicle ID', 'Vehicle Acceleration'],\n",
    "                                  aggfunc = {'Vehicle ID': unq, 'Vehicle Acceleration': 'mean'})\n",
    "    \n",
    "    SuddenDecAgg.reset_index(inplace = True)\n",
    "    \n",
    "    if len(SuddenDecAgg) > 0:\n",
    "        print(num_LOS, len(SuddenDecAgg))\n",
    "        save_SuddenDecAgg_file = f'SuddenDecAgg{num_LOS}.csv'\n",
    "        save_SuddenDecAgg_path = os.path.join(save_SuddenDecAgg_dir, save_SuddenDecAgg_file)\n",
    "        SuddenDecAgg.to_csv(save_SuddenDecAgg_path, encoding = 'cp949')\n",
    "        \n",
    "    else:\n",
    "        pass"
   ]
  }
 ],
 "metadata": {
  "kernelspec": {
   "display_name": "Python 3",
   "language": "python",
   "name": "python3"
  },
  "language_info": {
   "codemirror_mode": {
    "name": "ipython",
    "version": 3
   },
   "file_extension": ".py",
   "mimetype": "text/x-python",
   "name": "python",
   "nbconvert_exporter": "python",
   "pygments_lexer": "ipython3",
   "version": "3.8.8"
  }
 },
 "nbformat": 4,
 "nbformat_minor": 4
}
