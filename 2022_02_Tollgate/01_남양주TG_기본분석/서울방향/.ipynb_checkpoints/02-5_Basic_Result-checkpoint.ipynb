{
 "cells": [
  {
   "cell_type": "markdown",
   "metadata": {},
   "source": [
    "# Imports"
   ]
  },
  {
   "cell_type": "code",
   "execution_count": 23,
   "metadata": {
    "execution": {
     "iopub.execute_input": "2022-08-26T02:10:26.112580Z",
     "iopub.status.busy": "2022-08-26T02:10:26.111432Z",
     "iopub.status.idle": "2022-08-26T02:10:26.118565Z",
     "shell.execute_reply": "2022-08-26T02:10:26.117596Z",
     "shell.execute_reply.started": "2022-08-26T02:10:26.112580Z"
    },
    "tags": []
   },
   "outputs": [],
   "source": [
    "import os\n",
    "import csv\n",
    "import glob\n",
    "\n",
    "from tqdm import tqdm"
   ]
  },
  {
   "cell_type": "markdown",
   "metadata": {},
   "source": [
    "# Merging Result Files\n",
    "* 결과 파일을 저장"
   ]
  },
  {
   "cell_type": "markdown",
   "metadata": {},
   "source": [
    "## Load datasets"
   ]
  },
  {
   "cell_type": "code",
   "execution_count": 24,
   "metadata": {
    "execution": {
     "iopub.execute_input": "2022-08-26T02:10:26.118565Z",
     "iopub.status.busy": "2022-08-26T02:10:26.118565Z",
     "iopub.status.idle": "2022-08-26T02:10:26.134359Z",
     "shell.execute_reply": "2022-08-26T02:10:26.133393Z",
     "shell.execute_reply.started": "2022-08-26T02:10:26.118565Z"
    }
   },
   "outputs": [],
   "source": [
    "folder_dir = 'D:/OneDrive - 연세대학교 (Yonsei University)/Projects/Yonsei_TELab/003_도로상충_210517-/2차년도_2022/27_남양주영업소_드론영상분석/서울방향'"
   ]
  },
  {
   "cell_type": "code",
   "execution_count": 25,
   "metadata": {
    "execution": {
     "iopub.execute_input": "2022-08-26T02:10:26.135355Z",
     "iopub.status.busy": "2022-08-26T02:10:26.135355Z",
     "iopub.status.idle": "2022-08-26T02:10:26.149908Z",
     "shell.execute_reply": "2022-08-26T02:10:26.148941Z",
     "shell.execute_reply.started": "2022-08-26T02:10:26.135355Z"
    },
    "tags": []
   },
   "outputs": [],
   "source": [
    "total_folder = '02-0_total_volume_speed'\n",
    "\n",
    "total_dir = os.path.join(folder_dir, total_folder)"
   ]
  },
  {
   "cell_type": "code",
   "execution_count": 26,
   "metadata": {
    "execution": {
     "iopub.execute_input": "2022-08-26T02:10:26.152335Z",
     "iopub.status.busy": "2022-08-26T02:10:26.150904Z",
     "iopub.status.idle": "2022-08-26T02:10:26.165287Z",
     "shell.execute_reply": "2022-08-26T02:10:26.164289Z",
     "shell.execute_reply.started": "2022-08-26T02:10:26.152335Z"
    },
    "tags": []
   },
   "outputs": [],
   "source": [
    "flowrate_folder = '02-1_Each_Lane_volume_speed'\n",
    "\n",
    "flowrate_dir = os.path.join(folder_dir, flowrate_folder)"
   ]
  },
  {
   "cell_type": "code",
   "execution_count": 27,
   "metadata": {
    "execution": {
     "iopub.execute_input": "2022-08-26T02:10:26.166283Z",
     "iopub.status.busy": "2022-08-26T02:10:26.166283Z",
     "iopub.status.idle": "2022-08-26T02:10:26.183649Z",
     "shell.execute_reply": "2022-08-26T02:10:26.180642Z",
     "shell.execute_reply.started": "2022-08-26T02:10:26.166283Z"
    },
    "tags": []
   },
   "outputs": [],
   "source": [
    "lanechange_flow_folder = '02-2_Lanechange_volume_speed'\n",
    "\n",
    "lanechange_flow_dir = os.path.join(folder_dir, lanechange_flow_folder)"
   ]
  },
  {
   "cell_type": "code",
   "execution_count": 28,
   "metadata": {
    "execution": {
     "iopub.execute_input": "2022-08-26T02:10:26.185642Z",
     "iopub.status.busy": "2022-08-26T02:10:26.184645Z",
     "iopub.status.idle": "2022-08-26T02:10:26.197820Z",
     "shell.execute_reply": "2022-08-26T02:10:26.196822Z",
     "shell.execute_reply.started": "2022-08-26T02:10:26.185642Z"
    },
    "tags": []
   },
   "outputs": [],
   "source": [
    "overspeed_folder = '02-3_overspeed'\n",
    "\n",
    "overspeed_dir = os.path.join(folder_dir, overspeed_folder)"
   ]
  },
  {
   "cell_type": "code",
   "execution_count": 29,
   "metadata": {
    "execution": {
     "iopub.execute_input": "2022-08-26T02:10:26.200815Z",
     "iopub.status.busy": "2022-08-26T02:10:26.199816Z",
     "iopub.status.idle": "2022-08-26T02:10:26.214735Z",
     "shell.execute_reply": "2022-08-26T02:10:26.211734Z",
     "shell.execute_reply.started": "2022-08-26T02:10:26.200815Z"
    },
    "tags": []
   },
   "outputs": [],
   "source": [
    "sudden_folder = '02-5_sudden_dec_aggregated'\n",
    "\n",
    "sudden_dir = os.path.join(folder_dir, sudden_folder)"
   ]
  },
  {
   "cell_type": "code",
   "execution_count": 30,
   "metadata": {
    "execution": {
     "iopub.execute_input": "2022-08-26T02:10:26.217722Z",
     "iopub.status.busy": "2022-08-26T02:10:26.216727Z",
     "iopub.status.idle": "2022-08-26T02:10:26.228798Z",
     "shell.execute_reply": "2022-08-26T02:10:26.227800Z",
     "shell.execute_reply.started": "2022-08-26T02:10:26.217722Z"
    },
    "tags": []
   },
   "outputs": [],
   "source": [
    "angle_folder = '03-5_decision'\n",
    "\n",
    "angle_dir = os.path.join(folder_dir, angle_folder)"
   ]
  },
  {
   "cell_type": "code",
   "execution_count": 31,
   "metadata": {
    "execution": {
     "iopub.execute_input": "2022-08-26T02:10:26.232314Z",
     "iopub.status.busy": "2022-08-26T02:10:26.232314Z",
     "iopub.status.idle": "2022-08-26T02:10:26.246812Z",
     "shell.execute_reply": "2022-08-26T02:10:26.243821Z",
     "shell.execute_reply.started": "2022-08-26T02:10:26.232314Z"
    },
    "tags": []
   },
   "outputs": [],
   "source": [
    "annexed_folder = '04_result'\n",
    "\n",
    "annexed_dir = os.path.join(folder_dir, annexed_folder)\n",
    "\n",
    "os.makedirs(annexed_dir, exist_ok = True) # 해당 경로가 없을 시 폴더 생성, 존재할 경우 건너뛰기"
   ]
  },
  {
   "cell_type": "code",
   "execution_count": 32,
   "metadata": {
    "execution": {
     "iopub.execute_input": "2022-08-26T02:10:26.249810Z",
     "iopub.status.busy": "2022-08-26T02:10:26.247811Z",
     "iopub.status.idle": "2022-08-26T02:10:26.262396Z",
     "shell.execute_reply": "2022-08-26T02:10:26.259888Z",
     "shell.execute_reply.started": "2022-08-26T02:10:26.249810Z"
    },
    "tags": []
   },
   "outputs": [
    {
     "data": {
      "text/plain": [
       "['01_1_A', '01_2_A', '01_3_A']"
      ]
     },
     "execution_count": 32,
     "metadata": {},
     "output_type": "execute_result"
    }
   ],
   "source": [
    "num_LOS_list = []\n",
    "\n",
    "for file in os.listdir(total_dir):\n",
    "    num_LOS_list.append(file[17:23])\n",
    "    \n",
    "num_LOS_list[0:3]"
   ]
  },
  {
   "cell_type": "markdown",
   "metadata": {},
   "source": [
    "## Save"
   ]
  },
  {
   "cell_type": "code",
   "execution_count": 33,
   "metadata": {
    "execution": {
     "iopub.execute_input": "2022-08-26T02:10:26.265390Z",
     "iopub.status.busy": "2022-08-26T02:10:26.265390Z",
     "iopub.status.idle": "2022-08-26T02:10:26.323554Z",
     "shell.execute_reply": "2022-08-26T02:10:26.322557Z",
     "shell.execute_reply.started": "2022-08-26T02:10:26.265390Z"
    },
    "tags": []
   },
   "outputs": [
    {
     "name": "stderr",
     "output_type": "stream",
     "text": [
      "100%|█████████████████████████████████████████████████████████████████████████████████| 11/11 [00:00<00:00, 319.50it/s]"
     ]
    },
    {
     "name": "stdout",
     "output_type": "stream",
     "text": [
      ">>> All file merge complete <<<\n"
     ]
    },
    {
     "name": "stderr",
     "output_type": "stream",
     "text": [
      "\n"
     ]
    }
   ],
   "source": [
    "for num_LOS in tqdm(num_LOS_list):\n",
    "    total_path = os.path.join(total_dir, f'total_volume_SMS_{num_LOS}.csv')\n",
    "    flowrate_path = os.path.join(flowrate_dir, f'EachLaneVolume{num_LOS}.csv')\n",
    "    lanechange_flow_path = os.path.join(lanechange_flow_dir, f'LaneChangeVolume{num_LOS}.csv')\n",
    "    overspeed_path = os.path.join(overspeed_dir, f'overspeed{num_LOS}.csv')\n",
    "    sudden_path = os.path.join(sudden_dir, f'SuddenDecAgg{num_LOS}.csv')\n",
    "    angle_path = os.path.join(angle_dir, f'{num_LOS}.csv')\n",
    "    \n",
    "    annexed_path = os.path.join(annexed_dir, f'{num_LOS}.csv')\n",
    "    \n",
    "    file_list = [total_path, flowrate_path, lanechange_flow_path, overspeed_path, sudden_path, angle_path]\n",
    "    name_list = ['전체 교통정보', '차로별 정보', '차량 경로(차로변경이력)별 정보', '과속 정보', '급감속 정보', '급앞지르기·급진로변경']\n",
    "                    \n",
    "    with open(annexed_path, 'w') as f: #2-1.병합할할 파일을 열고\n",
    "        \n",
    "        for file, name in zip(file_list, name_list):\n",
    "            f.write(name)\n",
    "            f.write('\\n')\n",
    "            if os.path.isfile(file): # 파일이 있으면\n",
    "                with open(file ,'r') as f2:  # 파일을 엽니다.\n",
    "                    while True:\n",
    "                        line = f2.readline() # 대상 파일의 row 1줄을 읽어서 \n",
    "                        if not line: #row가 없으면 해당 csv 파일 읽기 끝\n",
    "                            f.write('\\n')\n",
    "                            break\n",
    "                                        \n",
    "                        f.write(line) #3.읽은 row 1줄을 merge할 파일에 쓴다.\n",
    "                file_name = file.split('\\\\')[-1]\n",
    "                #print(file.split('\\\\')[-1] + ' Write complete!')\n",
    "                \n",
    "            else:\n",
    "                pass\n",
    "                            \n",
    "print('>>> All file merge complete <<<')"
   ]
  }
 ],
 "metadata": {
  "kernelspec": {
   "display_name": "Python 3",
   "language": "python",
   "name": "python3"
  },
  "language_info": {
   "codemirror_mode": {
    "name": "ipython",
    "version": 3
   },
   "file_extension": ".py",
   "mimetype": "text/x-python",
   "name": "python",
   "nbconvert_exporter": "python",
   "pygments_lexer": "ipython3",
   "version": "3.8.8"
  }
 },
 "nbformat": 4,
 "nbformat_minor": 4
}
