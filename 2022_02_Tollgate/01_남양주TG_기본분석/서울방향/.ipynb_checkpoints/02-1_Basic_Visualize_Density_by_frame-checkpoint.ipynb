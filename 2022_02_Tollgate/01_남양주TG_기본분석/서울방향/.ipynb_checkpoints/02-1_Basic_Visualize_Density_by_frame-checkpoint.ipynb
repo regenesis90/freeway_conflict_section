{
 "cells": [
  {
   "cell_type": "markdown",
   "id": "7762f060-7535-4fec-8e5f-72a3efb1b4a5",
   "metadata": {},
   "source": [
    "# Visualize Density by Frame : 기본구간(1번 동영상)\n",
    "0. `00_dataset_filtered`의 파일을 로드\n",
    "1. 프레임 ID별 오름차순 정렬 - **시간순 정렬을 위함**\n",
    "2. 프레임 ID별 Vehicle ID 수 산출 - **각 시간대별 차량 대수를 산정, 밀도 산출에 사용 **\n",
    "3. **`구간길이`**를 사용하여 프레임별 밀도 산출\n",
    "4. 프레임별 밀도를 Plotly를 사용한 시계열 그래프로 나타내기\n",
    "5. 프레임별 밀도, LOS 평가 : 고속도로 기본구간 기준 적용\n",
    "6. 각 대상지의 차량 궤적정보와 해당 프레임에서 LOS를 JOIN"
   ]
  },
  {
   "cell_type": "markdown",
   "id": "20a3be5e-7403-4bae-82dc-491a571e4485",
   "metadata": {},
   "source": [
    "## Imports"
   ]
  },
  {
   "cell_type": "code",
   "execution_count": 37,
   "id": "7f9f8342-9326-46a7-b3be-14ddff1e9d0d",
   "metadata": {
    "execution": {
     "iopub.execute_input": "2022-08-03T07:17:01.996769Z",
     "iopub.status.busy": "2022-08-03T07:17:01.996769Z",
     "iopub.status.idle": "2022-08-03T07:17:02.006501Z",
     "shell.execute_reply": "2022-08-03T07:17:02.006501Z",
     "shell.execute_reply.started": "2022-08-03T07:17:01.996769Z"
    },
    "tags": []
   },
   "outputs": [],
   "source": [
    "import datetime as dt\n",
    "import os\n",
    "import pandas as pd\n",
    "import numpy as np\n",
    "\n",
    "# Plotly : 인터랙티브 그래프를 그려주는 패키지\n",
    "from plotly.subplots import make_subplots\n",
    "import plotly.express as px\n",
    "import plotly.graph_objects as go\n",
    "import plotly.io as po"
   ]
  },
  {
   "cell_type": "markdown",
   "id": "c220be8c-6fe5-47da-8685-4856abea2bcd",
   "metadata": {},
   "source": [
    "## Load Dataset"
   ]
  },
  {
   "cell_type": "code",
   "execution_count": 38,
   "id": "04bae911-bc44-4885-afc4-fc20a382b021",
   "metadata": {
    "execution": {
     "iopub.execute_input": "2022-08-03T07:17:02.008498Z",
     "iopub.status.busy": "2022-08-03T07:17:02.007516Z",
     "iopub.status.idle": "2022-08-03T07:17:02.023378Z",
     "shell.execute_reply": "2022-08-03T07:17:02.022377Z",
     "shell.execute_reply.started": "2022-08-03T07:17:02.008498Z"
    },
    "tags": []
   },
   "outputs": [],
   "source": [
    "folder_dir = 'D:/OneDrive - 연세대학교 (Yonsei University)/Projects/Yonsei_TELab/003_도로상충_210517-/2차년도_2022/27_남양주영업소_드론영상분석/서울방향'\n",
    "folder_name = '00_dataset_filtered_full' # 각 .csv 파일이 있는 폴더경로\n",
    "\n",
    "file_dir = os.path.join(folder_dir, folder_name)"
   ]
  },
  {
   "cell_type": "code",
   "execution_count": 39,
   "id": "6951b666-364b-4007-a4d3-97559131e593",
   "metadata": {
    "execution": {
     "iopub.execute_input": "2022-08-03T07:17:02.024778Z",
     "iopub.status.busy": "2022-08-03T07:17:02.023378Z",
     "iopub.status.idle": "2022-08-03T07:17:02.037758Z",
     "shell.execute_reply": "2022-08-03T07:17:02.037758Z",
     "shell.execute_reply.started": "2022-08-03T07:17:02.023378Z"
    },
    "tags": []
   },
   "outputs": [
    {
     "data": {
      "text/plain": [
       "['01_1.csv', '01_2.csv', '01_3.csv']"
      ]
     },
     "execution_count": 39,
     "metadata": {},
     "output_type": "execute_result"
    }
   ],
   "source": [
    "file_list = os.listdir(file_dir)\n",
    "file_list[0:3]"
   ]
  },
  {
   "cell_type": "code",
   "execution_count": 40,
   "id": "d04f57ef-76c8-489e-a50f-3bf3d932f04b",
   "metadata": {
    "execution": {
     "iopub.execute_input": "2022-08-03T07:17:02.038755Z",
     "iopub.status.busy": "2022-08-03T07:17:02.038755Z",
     "iopub.status.idle": "2022-08-03T07:17:02.053326Z",
     "shell.execute_reply": "2022-08-03T07:17:02.053326Z",
     "shell.execute_reply.started": "2022-08-03T07:17:02.038755Z"
    },
    "tags": []
   },
   "outputs": [
    {
     "name": "stdout",
     "output_type": "stream",
     "text": [
      "['01', '02', '03', '04'] \n",
      " ['1', '2', '3']\n"
     ]
    }
   ],
   "source": [
    "# 파일명으로부터 대상지 번호, 촬영 순서, 영상번호를 추출\n",
    "tgs = [] # 촬영 대상지 번호\n",
    "spots = [] # 촬영 지점\n",
    "\n",
    "for file in file_list: # 전체 파일 리스트를 돌며\n",
    "    tg = file[0:2] # 파일명으로부터 촬영 대상지 번호(2자리) 추출\n",
    "    spot = file[3] # 파일명으로부터 촬영지점(1자리) 추출\n",
    "    \n",
    "    if tg not in tgs:\n",
    "        tgs.append(tg)\n",
    "        \n",
    "    if spot not in spots:\n",
    "        spots.append(spot)\n",
    "    \n",
    "print(tgs, '\\n', spots)"
   ]
  },
  {
   "cell_type": "code",
   "execution_count": 41,
   "id": "823be08c-2d2d-40fb-81f3-b07a2b566ded",
   "metadata": {
    "execution": {
     "iopub.execute_input": "2022-08-03T07:17:02.054764Z",
     "iopub.status.busy": "2022-08-03T07:17:02.054764Z",
     "iopub.status.idle": "2022-08-03T07:17:02.412557Z",
     "shell.execute_reply": "2022-08-03T07:17:02.412557Z",
     "shell.execute_reply.started": "2022-08-03T07:17:02.054764Z"
    },
    "tags": []
   },
   "outputs": [],
   "source": [
    "# concate 된 파일을 기준으로 데이터프레임 리스트와 넘버링 리스트를 다시 재정의하기\n",
    "\n",
    "df_list = [] # 데이터프레임 리스트 초기화\n",
    "num_list = [] # 데이터프레임 파일명, 즉 넘버링 리스트 초기화\n",
    "\n",
    "for tg in tgs:\n",
    "    for sp in spots:\n",
    "        num = tg + '_' + sp # 파일명 넘버링\n",
    "        file_name = num + '.csv'\n",
    "        file_path = os.path.join(file_dir, file_name)\n",
    "            \n",
    "        if os.path.isfile(file_path): # 해당 file_path에 파일이 존재할 경우\n",
    "            globals()[f'target{num}'] = pd.read_csv(file_path, encoding = 'cp949') # .csv 파일을 불러와 인스턴스 만들기\n",
    "            df_list.append(globals()[f'target{num}']) \n",
    "            num_list.append(num)"
   ]
  },
  {
   "cell_type": "code",
   "execution_count": 42,
   "id": "866d1d4c-d7d9-4fe7-9609-a89a5602a659",
   "metadata": {
    "execution": {
     "iopub.execute_input": "2022-08-03T07:17:02.413988Z",
     "iopub.status.busy": "2022-08-03T07:17:02.413988Z",
     "iopub.status.idle": "2022-08-03T07:17:02.427908Z",
     "shell.execute_reply": "2022-08-03T07:17:02.427908Z",
     "shell.execute_reply.started": "2022-08-03T07:17:02.413988Z"
    },
    "tags": []
   },
   "outputs": [
    {
     "data": {
      "text/plain": [
       "['01_1',\n",
       " '01_2',\n",
       " '01_3',\n",
       " '02_1',\n",
       " '02_2',\n",
       " '02_3',\n",
       " '03_1',\n",
       " '03_2',\n",
       " '04_1',\n",
       " '04_2',\n",
       " '04_3']"
      ]
     },
     "execution_count": 42,
     "metadata": {},
     "output_type": "execute_result"
    }
   ],
   "source": [
    "num_list"
   ]
  },
  {
   "cell_type": "markdown",
   "id": "6382c735-3d8b-48ad-9e00-57378df61147",
   "metadata": {},
   "source": [
    "## Time-RCD\n",
    "* 시간을 나타내는 파생변수 `time_rcd`(초)를 생성"
   ]
  },
  {
   "cell_type": "code",
   "execution_count": 43,
   "id": "9ed3f328-11a2-4f0e-beee-1c26d167bba0",
   "metadata": {
    "execution": {
     "iopub.execute_input": "2022-08-03T07:17:02.428932Z",
     "iopub.status.busy": "2022-08-03T07:17:02.428932Z",
     "iopub.status.idle": "2022-08-03T07:17:02.445513Z",
     "shell.execute_reply": "2022-08-03T07:17:02.444510Z",
     "shell.execute_reply.started": "2022-08-03T07:17:02.428932Z"
    },
    "tags": []
   },
   "outputs": [],
   "source": [
    "frame_rate = 30 # 30프레임으로 수집된 데이터임"
   ]
  },
  {
   "cell_type": "code",
   "execution_count": 44,
   "id": "cd90c736-8e46-4463-a65f-de7b85b4ad01",
   "metadata": {
    "execution": {
     "iopub.execute_input": "2022-08-03T07:17:02.446509Z",
     "iopub.status.busy": "2022-08-03T07:17:02.446509Z",
     "iopub.status.idle": "2022-08-03T07:17:02.476080Z",
     "shell.execute_reply": "2022-08-03T07:17:02.475079Z",
     "shell.execute_reply.started": "2022-08-03T07:17:02.446509Z"
    },
    "tags": []
   },
   "outputs": [],
   "source": [
    "for df, num in zip(df_list, num_list):\n",
    "    first_time = df['Frame ID'][0] # 첫 시점(프레임 ID)\n",
    "    df['time_rcd'] = (df['Frame ID'] - first_time)/frame_rate # time_rcd 라는 (초)단위의 컬럼을 생성"
   ]
  },
  {
   "cell_type": "markdown",
   "id": "01051f0d-337d-4ab3-b4d5-64b1ecb9cedf",
   "metadata": {},
   "source": [
    "## Vehicles by Frames\n",
    "* 각 프레임별 차량대수를 산정(프레임별 밀도를 계산하기 위함)\n",
    "* 프레임 ID별 오름차순 정렬, 정렬 결과 자체 저장\n",
    "* 프레임 ID별 Vehicle ID 개수(차량대수) 산출"
   ]
  },
  {
   "cell_type": "code",
   "execution_count": 45,
   "id": "7089a1e9-8a88-4a08-a6f9-058eb6c1739c",
   "metadata": {
    "execution": {
     "iopub.execute_input": "2022-08-03T07:17:02.477076Z",
     "iopub.status.busy": "2022-08-03T07:17:02.477076Z",
     "iopub.status.idle": "2022-08-03T07:17:02.567730Z",
     "shell.execute_reply": "2022-08-03T07:17:02.567730Z",
     "shell.execute_reply.started": "2022-08-03T07:17:02.477076Z"
    },
    "tags": []
   },
   "outputs": [],
   "source": [
    "pivot_list = []\n",
    "\n",
    "for df, num in zip(df_list, num_list):\n",
    "    \n",
    "    df.sort_values(by = ['Frame ID'], axis = 0, inplace = True) #프레임 ID에 대하여 오름차순 정렬하여 각 데이터프레임을 저장\n",
    "    \n",
    "    pv = pd.pivot_table(df, index = ['Frame ID'], values = 'Vehicle ID', aggfunc = 'count') # 각 프레임ID별 Vehicle ID 개수(=차량대수)를 세어 피벗테이블 생성\n",
    "    \n",
    "    pv['place'] = num # Mutate :: Target(Place) Numbering\n",
    "    pv['FrameID'] = pv.index # FrameID를 인덱스로 설정함\n",
    "    globals()[f'pivot{num}'] = pv\n",
    "    \n",
    "    pivot_list.append(pv)"
   ]
  },
  {
   "cell_type": "markdown",
   "id": "15c774b5-8b2f-42d8-bf52-fca6331ffc1f",
   "metadata": {},
   "source": [
    "## Calculate Density\n",
    "* 프레임별 밀도를 시계열 그래프로 나타내기\n",
    "* **주의!** 본 코드의 밀도는 실제 분석에 사용되는 값이 아닙니다! 프레임 존재여부를 체크하기 위함입니다!\n",
    "    * 영업소는 LOS를 측정하지 않습니다."
   ]
  },
  {
   "cell_type": "markdown",
   "id": "a4146510-e827-40ac-bcc4-308cbc59de13",
   "metadata": {},
   "source": [
    "### Load Target Info\n",
    "* 대상지 기본정보 불러오기 : **사전에 작성해야 합니다**\n",
    "    * `place` : 대상지 번호(tg_spot)\n",
    "    * `length` : 대상지 길이(m) -- **드론촬영영상 궤적추출시 미리 입력해야 합니다**\n",
    "    * `speed_limit` : 대상지 제한속도(km/h)\n",
    "    * `lane_num` : 차선 수(개)"
   ]
  },
  {
   "cell_type": "code",
   "execution_count": 46,
   "id": "09799067-eb46-4a68-a1ad-e0593a0231d8",
   "metadata": {
    "execution": {
     "iopub.execute_input": "2022-08-03T07:17:02.568805Z",
     "iopub.status.busy": "2022-08-03T07:17:02.568805Z",
     "iopub.status.idle": "2022-08-03T07:17:02.584652Z",
     "shell.execute_reply": "2022-08-03T07:17:02.583651Z",
     "shell.execute_reply.started": "2022-08-03T07:17:02.568805Z"
    },
    "tags": []
   },
   "outputs": [],
   "source": [
    "info_file = 'target_info_A_MH.csv' #대상지 정보가 든 파일명 입력"
   ]
  },
  {
   "cell_type": "code",
   "execution_count": 47,
   "id": "d7ef79e0-2759-4b8e-a48f-6bea9b9e23b7",
   "metadata": {
    "execution": {
     "iopub.execute_input": "2022-08-03T07:17:02.586649Z",
     "iopub.status.busy": "2022-08-03T07:17:02.586649Z",
     "iopub.status.idle": "2022-08-03T07:17:02.601560Z",
     "shell.execute_reply": "2022-08-03T07:17:02.599570Z",
     "shell.execute_reply.started": "2022-08-03T07:17:02.586649Z"
    },
    "tags": []
   },
   "outputs": [],
   "source": [
    "target_info = pd.read_csv(info_file, encoding = 'utf-8')"
   ]
  },
  {
   "cell_type": "code",
   "execution_count": 48,
   "id": "09950bc1-4e29-429e-b5d9-e06ce1a7cd54",
   "metadata": {
    "execution": {
     "iopub.execute_input": "2022-08-03T07:17:02.602565Z",
     "iopub.status.busy": "2022-08-03T07:17:02.601560Z",
     "iopub.status.idle": "2022-08-03T07:17:02.615306Z",
     "shell.execute_reply": "2022-08-03T07:17:02.615306Z",
     "shell.execute_reply.started": "2022-08-03T07:17:02.602565Z"
    },
    "tags": []
   },
   "outputs": [
    {
     "data": {
      "text/html": [
       "<div>\n",
       "<style scoped>\n",
       "    .dataframe tbody tr th:only-of-type {\n",
       "        vertical-align: middle;\n",
       "    }\n",
       "\n",
       "    .dataframe tbody tr th {\n",
       "        vertical-align: top;\n",
       "    }\n",
       "\n",
       "    .dataframe thead th {\n",
       "        text-align: right;\n",
       "    }\n",
       "</style>\n",
       "<table border=\"1\" class=\"dataframe\">\n",
       "  <thead>\n",
       "    <tr style=\"text-align: right;\">\n",
       "      <th></th>\n",
       "      <th>place</th>\n",
       "      <th>length</th>\n",
       "      <th>speed_limit</th>\n",
       "      <th>lane_num</th>\n",
       "      <th>order</th>\n",
       "      <th>etc</th>\n",
       "    </tr>\n",
       "  </thead>\n",
       "  <tbody>\n",
       "    <tr>\n",
       "      <th>0</th>\n",
       "      <td>01_1</td>\n",
       "      <td>264</td>\n",
       "      <td>80</td>\n",
       "      <td>3</td>\n",
       "      <td>NaN</td>\n",
       "      <td>NaN</td>\n",
       "    </tr>\n",
       "    <tr>\n",
       "      <th>1</th>\n",
       "      <td>01_2</td>\n",
       "      <td>264</td>\n",
       "      <td>30</td>\n",
       "      <td>4</td>\n",
       "      <td>NaN</td>\n",
       "      <td>NaN</td>\n",
       "    </tr>\n",
       "    <tr>\n",
       "      <th>2</th>\n",
       "      <td>01_3</td>\n",
       "      <td>264</td>\n",
       "      <td>30</td>\n",
       "      <td>4</td>\n",
       "      <td>NaN</td>\n",
       "      <td>NaN</td>\n",
       "    </tr>\n",
       "    <tr>\n",
       "      <th>3</th>\n",
       "      <td>02_1</td>\n",
       "      <td>264</td>\n",
       "      <td>80</td>\n",
       "      <td>6</td>\n",
       "      <td>NaN</td>\n",
       "      <td>NaN</td>\n",
       "    </tr>\n",
       "    <tr>\n",
       "      <th>4</th>\n",
       "      <td>02_2</td>\n",
       "      <td>264</td>\n",
       "      <td>30</td>\n",
       "      <td>6</td>\n",
       "      <td>NaN</td>\n",
       "      <td>NaN</td>\n",
       "    </tr>\n",
       "  </tbody>\n",
       "</table>\n",
       "</div>"
      ],
      "text/plain": [
       "  place  length  speed_limit  lane_num  order  etc\n",
       "0  01_1     264           80         3    NaN  NaN\n",
       "1  01_2     264           30         4    NaN  NaN\n",
       "2  01_3     264           30         4    NaN  NaN\n",
       "3  02_1     264           80         6    NaN  NaN\n",
       "4  02_2     264           30         6    NaN  NaN"
      ]
     },
     "execution_count": 48,
     "metadata": {},
     "output_type": "execute_result"
    }
   ],
   "source": [
    "target_info.head()"
   ]
  },
  {
   "cell_type": "markdown",
   "id": "1c9c32d8-4338-4609-b360-7b8c4f74bead",
   "metadata": {},
   "source": [
    "## Calculate Density\n",
    "* 각 촬영지점의 프레임별 밀도, LOS를 산정"
   ]
  },
  {
   "cell_type": "markdown",
   "id": "a50cfc7f-ea76-465d-9b2a-cf000e4931c5",
   "metadata": {},
   "source": [
    "### LOS 판정 함수 정의"
   ]
  },
  {
   "cell_type": "code",
   "execution_count": 49,
   "id": "942703a4-96ce-4413-a011-b52c34c1fd36",
   "metadata": {
    "execution": {
     "iopub.execute_input": "2022-08-03T07:17:02.616304Z",
     "iopub.status.busy": "2022-08-03T07:17:02.616304Z",
     "iopub.status.idle": "2022-08-03T07:17:02.630780Z",
     "shell.execute_reply": "2022-08-03T07:17:02.630780Z",
     "shell.execute_reply.started": "2022-08-03T07:17:02.616304Z"
    },
    "tags": []
   },
   "outputs": [],
   "source": [
    "def LOS_expwy_basic(x:int):\n",
    "    \"\"\"밀도를 바탕으로 LOS를 판정해 주는 함수 :: 고속도로 기본구간 기준\"\"\"\n",
    "    \n",
    "    if x >= 0 and x <= 6:\n",
    "        return 'A'\n",
    "    elif x > 6 and x <= 10:\n",
    "        return 'B'\n",
    "    elif x > 10 and x <= 14:\n",
    "        return 'C'\n",
    "    elif x > 14 and x <= 19:\n",
    "        return 'D'\n",
    "    elif x > 19 and x <= 28:\n",
    "        return 'E'\n",
    "    elif x > 28:\n",
    "        return 'F'\n",
    "    \n",
    "    else:\n",
    "        pass"
   ]
  },
  {
   "cell_type": "markdown",
   "id": "4a20b199-cd7c-4bdd-a270-6e3f7aa038fd",
   "metadata": {},
   "source": [
    "### 밀도 및 LOS 계산"
   ]
  },
  {
   "cell_type": "code",
   "execution_count": 50,
   "id": "fe96aa06-0340-42cf-8071-5afc79297472",
   "metadata": {
    "execution": {
     "iopub.execute_input": "2022-08-03T07:17:02.632288Z",
     "iopub.status.busy": "2022-08-03T07:17:02.632288Z",
     "iopub.status.idle": "2022-08-03T07:17:02.694742Z",
     "shell.execute_reply": "2022-08-03T07:17:02.693771Z",
     "shell.execute_reply.started": "2022-08-03T07:17:02.632288Z"
    },
    "tags": []
   },
   "outputs": [],
   "source": [
    "density_list = []\n",
    "\n",
    "for pv, num in zip(pivot_list, num_list):\n",
    "    \n",
    "    dst = pd.merge(left = pv, right = target_info, how = 'inner', left_on = 'place', right_on = 'place') # 대상지 촬영지점에 대하여 JOIN\n",
    "    \n",
    "    dst['density'] = dst['Vehicle ID'] / dst['length'] / dst['lane_num'] * 1000 # 밀도 : pcpkmpl. 1km내에 1차로당 든 차량의 대수\n",
    "    \n",
    "    dst['LOS'] = dst['density'].apply(LOS_expwy_basic)\n",
    "    \n",
    "    globals()[f'density{num}'] = dst\n",
    "    density_list.append(dst)"
   ]
  },
  {
   "cell_type": "code",
   "execution_count": 51,
   "id": "a3c9eb1a-2d3b-4330-9a19-9a451051ca59",
   "metadata": {
    "execution": {
     "iopub.execute_input": "2022-08-03T07:17:02.694742Z",
     "iopub.status.busy": "2022-08-03T07:17:02.694742Z",
     "iopub.status.idle": "2022-08-03T07:17:02.724452Z",
     "shell.execute_reply": "2022-08-03T07:17:02.724452Z",
     "shell.execute_reply.started": "2022-08-03T07:17:02.694742Z"
    },
    "tags": []
   },
   "outputs": [
    {
     "data": {
      "text/html": [
       "<div>\n",
       "<style scoped>\n",
       "    .dataframe tbody tr th:only-of-type {\n",
       "        vertical-align: middle;\n",
       "    }\n",
       "\n",
       "    .dataframe tbody tr th {\n",
       "        vertical-align: top;\n",
       "    }\n",
       "\n",
       "    .dataframe thead th {\n",
       "        text-align: right;\n",
       "    }\n",
       "</style>\n",
       "<table border=\"1\" class=\"dataframe\">\n",
       "  <thead>\n",
       "    <tr style=\"text-align: right;\">\n",
       "      <th></th>\n",
       "      <th>Vehicle ID</th>\n",
       "      <th>place</th>\n",
       "      <th>FrameID</th>\n",
       "      <th>length</th>\n",
       "      <th>speed_limit</th>\n",
       "      <th>lane_num</th>\n",
       "      <th>order</th>\n",
       "      <th>etc</th>\n",
       "      <th>density</th>\n",
       "      <th>LOS</th>\n",
       "    </tr>\n",
       "  </thead>\n",
       "  <tbody>\n",
       "    <tr>\n",
       "      <th>0</th>\n",
       "      <td>1</td>\n",
       "      <td>01_1</td>\n",
       "      <td>375</td>\n",
       "      <td>264</td>\n",
       "      <td>80</td>\n",
       "      <td>3</td>\n",
       "      <td>NaN</td>\n",
       "      <td>NaN</td>\n",
       "      <td>1.262626</td>\n",
       "      <td>A</td>\n",
       "    </tr>\n",
       "    <tr>\n",
       "      <th>1</th>\n",
       "      <td>2</td>\n",
       "      <td>01_1</td>\n",
       "      <td>390</td>\n",
       "      <td>264</td>\n",
       "      <td>80</td>\n",
       "      <td>3</td>\n",
       "      <td>NaN</td>\n",
       "      <td>NaN</td>\n",
       "      <td>2.525253</td>\n",
       "      <td>A</td>\n",
       "    </tr>\n",
       "    <tr>\n",
       "      <th>2</th>\n",
       "      <td>2</td>\n",
       "      <td>01_1</td>\n",
       "      <td>405</td>\n",
       "      <td>264</td>\n",
       "      <td>80</td>\n",
       "      <td>3</td>\n",
       "      <td>NaN</td>\n",
       "      <td>NaN</td>\n",
       "      <td>2.525253</td>\n",
       "      <td>A</td>\n",
       "    </tr>\n",
       "    <tr>\n",
       "      <th>3</th>\n",
       "      <td>2</td>\n",
       "      <td>01_1</td>\n",
       "      <td>420</td>\n",
       "      <td>264</td>\n",
       "      <td>80</td>\n",
       "      <td>3</td>\n",
       "      <td>NaN</td>\n",
       "      <td>NaN</td>\n",
       "      <td>2.525253</td>\n",
       "      <td>A</td>\n",
       "    </tr>\n",
       "    <tr>\n",
       "      <th>4</th>\n",
       "      <td>2</td>\n",
       "      <td>01_1</td>\n",
       "      <td>435</td>\n",
       "      <td>264</td>\n",
       "      <td>80</td>\n",
       "      <td>3</td>\n",
       "      <td>NaN</td>\n",
       "      <td>NaN</td>\n",
       "      <td>2.525253</td>\n",
       "      <td>A</td>\n",
       "    </tr>\n",
       "    <tr>\n",
       "      <th>...</th>\n",
       "      <td>...</td>\n",
       "      <td>...</td>\n",
       "      <td>...</td>\n",
       "      <td>...</td>\n",
       "      <td>...</td>\n",
       "      <td>...</td>\n",
       "      <td>...</td>\n",
       "      <td>...</td>\n",
       "      <td>...</td>\n",
       "      <td>...</td>\n",
       "    </tr>\n",
       "    <tr>\n",
       "      <th>1712</th>\n",
       "      <td>12</td>\n",
       "      <td>01_1</td>\n",
       "      <td>208910</td>\n",
       "      <td>264</td>\n",
       "      <td>80</td>\n",
       "      <td>3</td>\n",
       "      <td>NaN</td>\n",
       "      <td>NaN</td>\n",
       "      <td>15.151515</td>\n",
       "      <td>D</td>\n",
       "    </tr>\n",
       "    <tr>\n",
       "      <th>1713</th>\n",
       "      <td>13</td>\n",
       "      <td>01_1</td>\n",
       "      <td>208925</td>\n",
       "      <td>264</td>\n",
       "      <td>80</td>\n",
       "      <td>3</td>\n",
       "      <td>NaN</td>\n",
       "      <td>NaN</td>\n",
       "      <td>16.414141</td>\n",
       "      <td>D</td>\n",
       "    </tr>\n",
       "    <tr>\n",
       "      <th>1714</th>\n",
       "      <td>13</td>\n",
       "      <td>01_1</td>\n",
       "      <td>208940</td>\n",
       "      <td>264</td>\n",
       "      <td>80</td>\n",
       "      <td>3</td>\n",
       "      <td>NaN</td>\n",
       "      <td>NaN</td>\n",
       "      <td>16.414141</td>\n",
       "      <td>D</td>\n",
       "    </tr>\n",
       "    <tr>\n",
       "      <th>1715</th>\n",
       "      <td>13</td>\n",
       "      <td>01_1</td>\n",
       "      <td>208955</td>\n",
       "      <td>264</td>\n",
       "      <td>80</td>\n",
       "      <td>3</td>\n",
       "      <td>NaN</td>\n",
       "      <td>NaN</td>\n",
       "      <td>16.414141</td>\n",
       "      <td>D</td>\n",
       "    </tr>\n",
       "    <tr>\n",
       "      <th>1716</th>\n",
       "      <td>13</td>\n",
       "      <td>01_1</td>\n",
       "      <td>208970</td>\n",
       "      <td>264</td>\n",
       "      <td>80</td>\n",
       "      <td>3</td>\n",
       "      <td>NaN</td>\n",
       "      <td>NaN</td>\n",
       "      <td>16.414141</td>\n",
       "      <td>D</td>\n",
       "    </tr>\n",
       "  </tbody>\n",
       "</table>\n",
       "<p>1717 rows × 10 columns</p>\n",
       "</div>"
      ],
      "text/plain": [
       "      Vehicle ID place  FrameID  length  speed_limit  lane_num  order  etc  \\\n",
       "0              1  01_1      375     264           80         3    NaN  NaN   \n",
       "1              2  01_1      390     264           80         3    NaN  NaN   \n",
       "2              2  01_1      405     264           80         3    NaN  NaN   \n",
       "3              2  01_1      420     264           80         3    NaN  NaN   \n",
       "4              2  01_1      435     264           80         3    NaN  NaN   \n",
       "...          ...   ...      ...     ...          ...       ...    ...  ...   \n",
       "1712          12  01_1   208910     264           80         3    NaN  NaN   \n",
       "1713          13  01_1   208925     264           80         3    NaN  NaN   \n",
       "1714          13  01_1   208940     264           80         3    NaN  NaN   \n",
       "1715          13  01_1   208955     264           80         3    NaN  NaN   \n",
       "1716          13  01_1   208970     264           80         3    NaN  NaN   \n",
       "\n",
       "        density LOS  \n",
       "0      1.262626   A  \n",
       "1      2.525253   A  \n",
       "2      2.525253   A  \n",
       "3      2.525253   A  \n",
       "4      2.525253   A  \n",
       "...         ...  ..  \n",
       "1712  15.151515   D  \n",
       "1713  16.414141   D  \n",
       "1714  16.414141   D  \n",
       "1715  16.414141   D  \n",
       "1716  16.414141   D  \n",
       "\n",
       "[1717 rows x 10 columns]"
      ]
     },
     "execution_count": 51,
     "metadata": {},
     "output_type": "execute_result"
    }
   ],
   "source": [
    "density_list[0]"
   ]
  },
  {
   "cell_type": "markdown",
   "id": "a88c02db-0c0f-42e1-aff0-4880b2781597",
   "metadata": {},
   "source": [
    "## Draw Line Graph for Density\n",
    "* `01_density_by_frame`에 .csv 파일과 Plotly .html 파일을 저장\n",
    "* 저장된 Plotly 파일은 LOS별 프레임 추출에 사용될 것"
   ]
  },
  {
   "cell_type": "code",
   "execution_count": 52,
   "id": "3e138932-f283-4211-9438-9b2b82deb47f",
   "metadata": {
    "execution": {
     "iopub.execute_input": "2022-08-03T07:17:02.725450Z",
     "iopub.status.busy": "2022-08-03T07:17:02.725450Z",
     "iopub.status.idle": "2022-08-03T07:17:02.741407Z",
     "shell.execute_reply": "2022-08-03T07:17:02.740410Z",
     "shell.execute_reply.started": "2022-08-03T07:17:02.725450Z"
    },
    "tags": []
   },
   "outputs": [],
   "source": [
    "save_folder_name = '01_frame'\n",
    "\n",
    "save_dir = os.path.join(folder_dir, save_folder_name)\n",
    "\n",
    "os.makedirs(save_dir, exist_ok = True) # 해당 경로가 없을 시 폴더 생성, 존재할 경우 건너뛰기"
   ]
  },
  {
   "cell_type": "code",
   "execution_count": 53,
   "id": "dcaa335d-2c68-408d-a29f-4158ae9fb776",
   "metadata": {
    "execution": {
     "iopub.execute_input": "2022-08-03T07:17:02.742432Z",
     "iopub.status.busy": "2022-08-03T07:17:02.741407Z",
     "iopub.status.idle": "2022-08-03T07:17:03.453631Z",
     "shell.execute_reply": "2022-08-03T07:17:03.453631Z",
     "shell.execute_reply.started": "2022-08-03T07:17:02.742432Z"
    },
    "tags": []
   },
   "outputs": [],
   "source": [
    "for dst, num in zip(density_list, num_list):\n",
    "    \n",
    "    fig = px.line(dst, x = 'FrameID', y = 'density', title = f'Density : target{num}')\n",
    "    \n",
    "    save_html_name = f'{num}.html'\n",
    "    save_html_path = os.path.join(save_dir, save_html_name)\n",
    "    \n",
    "    po.write_html(fig, file = save_html_path) # html Plotly 파일 저장\n",
    "    \n",
    "    save_csv_name = f'{num}.csv'\n",
    "    save_csv_path = os.path.join(save_dir, save_csv_name)\n",
    "    \n",
    "    dst.to_csv(save_csv_path, encoding = 'cp949') # 프레임별 밀도, LOS .csv 파일 저장"
   ]
  },
  {
   "cell_type": "code",
   "execution_count": 54,
   "id": "bb642339-6517-425a-b497-9670173b04f9",
   "metadata": {
    "execution": {
     "iopub.execute_input": "2022-08-03T07:17:03.454599Z",
     "iopub.status.busy": "2022-08-03T07:17:03.454599Z",
     "iopub.status.idle": "2022-08-03T07:17:03.471119Z",
     "shell.execute_reply": "2022-08-03T07:17:03.469123Z",
     "shell.execute_reply.started": "2022-08-03T07:17:03.454599Z"
    },
    "tags": []
   },
   "outputs": [
    {
     "data": {
      "application/vnd.plotly.v1+json": {
       "config": {
        "plotlyServerURL": "https://plot.ly"
       },
       "data": [
        {
         "hovertemplate": "FrameID=%{x}<br>density=%{y}<extra></extra>",
         "legendgroup": "",
         "line": {
          "color": "#636efa",
          "dash": "solid"
         },
         "marker": {
          "symbol": "circle"
         },
         "mode": "lines",
         "name": "",
         "orientation": "v",
         "showlegend": false,
         "type": "scatter",
         "x": [
          990,
          1005,
          1020,
          1035,
          1050,
          1065,
          1080,
          1095,
          1110,
          1125,
          1140,
          1155,
          1170,
          1185,
          1200,
          1215,
          1230,
          1245,
          1260,
          1275,
          1290,
          1305,
          1320,
          1335,
          1350,
          1365,
          1380,
          1395,
          1410,
          1425,
          1440,
          1455,
          1470,
          1485,
          1500,
          1515,
          1530,
          1545,
          2400,
          2415,
          2430,
          2445,
          2460,
          2475,
          2490,
          2505,
          2520,
          2535,
          2550,
          2565,
          2580,
          2595,
          2610,
          2625,
          4200,
          4215,
          4230,
          4245,
          4260,
          4275,
          4290,
          4305,
          4320,
          4335,
          4350,
          4365,
          4380,
          4395,
          4410,
          4425,
          4440,
          4455,
          4470,
          4770,
          4785,
          4800,
          4815,
          4830,
          4845,
          4860,
          4875,
          4890,
          4905,
          4920,
          4935,
          4950,
          4965,
          4980,
          4995,
          5010,
          5025,
          5040,
          5055,
          5070,
          5220,
          5235,
          5250,
          5265,
          5280,
          5295,
          5310,
          5325,
          5340,
          5355,
          5370,
          5385,
          101515,
          101530,
          101545,
          101560,
          101575,
          101590,
          101605,
          101620,
          101635,
          101650,
          101800,
          101815,
          101830,
          101845,
          101860,
          101875,
          101890,
          101905,
          101920,
          101935,
          101950,
          101965,
          101980,
          101995,
          102010,
          102025,
          102040,
          102055,
          102070,
          102085,
          102100,
          102115,
          102130,
          102145,
          102160,
          102175,
          102190,
          102205,
          102220,
          102235,
          102820,
          102835,
          102850,
          102865,
          102880,
          102895,
          102910,
          102925,
          102940,
          102955,
          102970,
          102985,
          103000,
          103015,
          103030,
          103045,
          103060,
          103075,
          103090,
          103105,
          103120,
          103135,
          103150,
          103165,
          103180,
          103195,
          103210,
          103225,
          103240,
          103255,
          103270,
          103285,
          103300,
          103315,
          103330,
          103345,
          103360,
          103375,
          103390,
          103405,
          103420,
          103435,
          103450,
          103465,
          103480,
          103495,
          103510,
          103525,
          103540,
          103555,
          103570,
          103585,
          103600,
          103615,
          103630,
          103645,
          103660,
          103675,
          103690,
          103705,
          103720,
          103735,
          103750,
          103765,
          103780,
          103795,
          103810,
          103825,
          104110,
          104125,
          104140,
          104155,
          104170,
          104185,
          104200,
          104215,
          104230,
          104245,
          104260,
          104275,
          104290,
          104305,
          104320,
          104335,
          104350,
          104365,
          104500,
          104515,
          104530,
          104545,
          104560,
          104575,
          104590,
          104605,
          104620,
          104635,
          104650,
          104665,
          104680,
          104695,
          104710,
          104725,
          104740,
          104785,
          104800,
          104815,
          104830,
          104845,
          104860,
          104875,
          104890,
          104905,
          104920,
          104935,
          202445,
          202460,
          202475,
          202490,
          202505,
          202520,
          202535,
          202550,
          202565,
          202580,
          202595,
          202610,
          202625,
          202640,
          202655,
          202670,
          202685,
          202700,
          202715,
          202730,
          202745,
          202760,
          202775,
          202790,
          202805,
          202820,
          202835,
          202850,
          202865,
          202880,
          202895,
          202910,
          202925,
          202940,
          202955,
          202970,
          202985,
          203150,
          203165,
          203180,
          203195,
          203210,
          203225,
          203240,
          203255,
          203270,
          203285,
          203300,
          203315,
          203330,
          203345,
          203360,
          203375,
          203390,
          203405,
          203420,
          203435,
          203450,
          203465,
          203480,
          203495,
          203510,
          203525,
          203540,
          203555,
          203615,
          203630,
          203645,
          203660,
          203675,
          203690,
          203705,
          203720,
          203735,
          203750,
          203765,
          203780,
          203795,
          203810,
          203825,
          203840,
          203855,
          203870,
          203885,
          203900,
          203915,
          203930,
          203945,
          203960,
          203975,
          204230,
          204245,
          204260,
          204275,
          204290,
          204305,
          204320,
          204335,
          204350,
          204365,
          204380,
          204395,
          204410,
          204425,
          204440,
          204455,
          204470,
          204485,
          204500,
          204515,
          204530,
          204545,
          204560,
          204575,
          204590,
          204605,
          204620,
          204635,
          204650,
          204665,
          204680,
          204695,
          204710,
          300720,
          300735,
          300750,
          300765,
          300780,
          300795,
          300810,
          300825,
          300840,
          300855,
          300870,
          300885,
          300900,
          300915,
          300930,
          300945,
          301515,
          301530,
          301545,
          301560,
          301575,
          301590,
          301605,
          301620,
          301635,
          301650,
          301665,
          301680,
          301695,
          301710,
          301725,
          301740,
          301755,
          301770,
          301785,
          301800,
          301815,
          301830,
          301845,
          301860,
          301875,
          301890,
          301905,
          301920,
          301935,
          302580,
          302595,
          302610,
          302625,
          302640,
          302655,
          302670,
          302685,
          302700,
          302715,
          302730,
          302745,
          302760,
          302775,
          302790,
          302805,
          302820,
          302835,
          303840,
          303855,
          303870,
          303885,
          303900,
          303915,
          303930,
          303945,
          303960,
          303975,
          303990,
          304005,
          304020,
          304035,
          304050,
          304065,
          304080,
          304095,
          304110,
          304125,
          304140,
          304155,
          304170,
          304185,
          304200,
          304215,
          304230,
          304245,
          304260,
          304305,
          304320,
          304335,
          304350,
          304365,
          304380,
          304395,
          304410,
          304425,
          304440,
          304455,
          304470,
          304485,
          304500,
          304515,
          304530,
          304545,
          304560,
          304575,
          304590,
          304605,
          304620,
          304635,
          304650,
          304665,
          304680,
          304695,
          304710,
          304725,
          304740,
          304755,
          304770,
          304785,
          304800,
          304815,
          304830,
          304845,
          304860,
          304875,
          304890,
          305175,
          305190,
          305205,
          305220,
          305235,
          305250,
          305265,
          305280,
          305295,
          305310,
          305325,
          305340,
          305355,
          305370,
          305385,
          400390,
          400405,
          400420,
          400435,
          400450,
          400465,
          400480,
          400495,
          400510,
          400525,
          400540,
          400555,
          400570,
          400585,
          400600,
          400615,
          400630,
          400645,
          400660,
          400675,
          400690,
          400705,
          400720,
          400840,
          400855,
          400870,
          400885,
          400900,
          400915,
          400930,
          400945,
          400960,
          400975,
          400990,
          401005,
          401020,
          401035,
          401050,
          401065,
          401260,
          401275,
          401290,
          401305,
          401320,
          401335,
          401350,
          401365,
          401380,
          401395,
          401410,
          401425,
          401440,
          401455,
          401470,
          401485,
          401500,
          401515,
          401530,
          401545,
          401560,
          401575,
          401590,
          401605,
          402190,
          402205,
          402220,
          402235,
          402250,
          402265,
          402280,
          402295,
          402310,
          402325,
          402340,
          402355,
          402370,
          402385,
          402400,
          402415,
          402430,
          402445,
          402460,
          402475,
          402760,
          402775,
          402790,
          402805,
          402820,
          402835,
          402850,
          402865,
          402880,
          402895,
          402910,
          402925,
          402940,
          402955,
          402970,
          402985,
          403000,
          403015,
          403030,
          403045,
          403060,
          403075,
          403090,
          403105,
          403120,
          403135,
          403150,
          403165,
          403180,
          403195,
          403210,
          403225,
          403240,
          403255,
          403270,
          403810,
          403825,
          403840,
          403855,
          403870,
          403885,
          403900,
          403915,
          403930,
          403945,
          403960,
          403975,
          403990,
          404005,
          404020,
          404035,
          404050,
          404065,
          404620,
          404635,
          404650,
          404665,
          404680,
          404695,
          404710,
          404725,
          404740,
          404755,
          404770,
          404785,
          404800,
          404815,
          404830,
          404845,
          404860,
          404875,
          404890,
          404905,
          404920
         ],
         "xaxis": "x",
         "y": [
          0.6337135614702154,
          0.6337135614702154,
          0.6337135614702154,
          0.6337135614702154,
          0.6337135614702154,
          0.6337135614702154,
          0.6337135614702154,
          0.6337135614702154,
          0.6337135614702154,
          0.6337135614702154,
          0.6337135614702154,
          0.6337135614702154,
          0.6337135614702154,
          0.6337135614702154,
          0.6337135614702154,
          0.6337135614702154,
          0.6337135614702154,
          0.6337135614702154,
          0.6337135614702154,
          0.6337135614702154,
          0.6337135614702154,
          0.6337135614702154,
          0.6337135614702154,
          0.6337135614702154,
          0.6337135614702154,
          0.6337135614702154,
          0.6337135614702154,
          0.6337135614702154,
          0.6337135614702154,
          0.6337135614702154,
          0.6337135614702154,
          0.6337135614702154,
          0.6337135614702154,
          0.6337135614702154,
          0.6337135614702154,
          0.6337135614702154,
          0.6337135614702154,
          0.6337135614702154,
          0.6337135614702154,
          0.6337135614702154,
          0.6337135614702154,
          0.6337135614702154,
          0.6337135614702154,
          0.6337135614702154,
          0.6337135614702154,
          0.6337135614702154,
          0.6337135614702154,
          0.6337135614702154,
          0.6337135614702154,
          0.6337135614702154,
          0.6337135614702154,
          0.6337135614702154,
          0.6337135614702154,
          0.6337135614702154,
          0.6337135614702154,
          0.6337135614702154,
          0.6337135614702154,
          0.6337135614702154,
          0.6337135614702154,
          0.6337135614702154,
          0.6337135614702154,
          0.6337135614702154,
          0.6337135614702154,
          0.6337135614702154,
          0.6337135614702154,
          0.6337135614702154,
          0.6337135614702154,
          0.6337135614702154,
          0.6337135614702154,
          0.6337135614702154,
          0.6337135614702154,
          0.6337135614702154,
          0.6337135614702154,
          0.6337135614702154,
          0.6337135614702154,
          0.6337135614702154,
          0.6337135614702154,
          0.6337135614702154,
          0.6337135614702154,
          0.6337135614702154,
          0.6337135614702154,
          0.6337135614702154,
          0.6337135614702154,
          0.6337135614702154,
          0.6337135614702154,
          0.6337135614702154,
          0.6337135614702154,
          0.6337135614702154,
          0.6337135614702154,
          0.6337135614702154,
          0.6337135614702154,
          0.6337135614702154,
          0.6337135614702154,
          0.6337135614702154,
          0.6337135614702154,
          0.6337135614702154,
          0.6337135614702154,
          0.6337135614702154,
          0.6337135614702154,
          0.6337135614702154,
          0.6337135614702154,
          0.6337135614702154,
          0.6337135614702154,
          0.6337135614702154,
          0.6337135614702154,
          0.6337135614702154,
          0.6337135614702154,
          0.6337135614702154,
          0.6337135614702154,
          0.6337135614702154,
          0.6337135614702154,
          0.6337135614702154,
          0.6337135614702154,
          0.6337135614702154,
          0.6337135614702154,
          0.6337135614702154,
          0.6337135614702154,
          0.6337135614702154,
          0.6337135614702154,
          0.6337135614702154,
          0.6337135614702154,
          0.6337135614702154,
          0.6337135614702154,
          0.6337135614702154,
          0.6337135614702154,
          0.6337135614702154,
          0.6337135614702154,
          0.6337135614702154,
          0.6337135614702154,
          0.6337135614702154,
          0.6337135614702154,
          0.6337135614702154,
          0.6337135614702154,
          0.6337135614702154,
          0.6337135614702154,
          0.6337135614702154,
          0.6337135614702154,
          0.6337135614702154,
          0.6337135614702154,
          0.6337135614702154,
          0.6337135614702154,
          0.6337135614702154,
          0.6337135614702154,
          0.6337135614702154,
          0.6337135614702154,
          0.6337135614702154,
          0.6337135614702154,
          0.6337135614702154,
          0.6337135614702154,
          0.6337135614702154,
          0.6337135614702154,
          0.6337135614702154,
          0.6337135614702154,
          0.6337135614702154,
          0.6337135614702154,
          0.6337135614702154,
          0.6337135614702154,
          0.6337135614702154,
          0.6337135614702154,
          0.6337135614702154,
          0.6337135614702154,
          0.6337135614702154,
          0.6337135614702154,
          0.6337135614702154,
          0.6337135614702154,
          0.6337135614702154,
          0.6337135614702154,
          0.6337135614702154,
          0.6337135614702154,
          0.6337135614702154,
          0.6337135614702154,
          1.2674271229404308,
          1.2674271229404308,
          1.2674271229404308,
          1.2674271229404308,
          1.2674271229404308,
          1.2674271229404308,
          1.2674271229404308,
          1.9011406844106464,
          1.9011406844106464,
          1.9011406844106464,
          1.9011406844106464,
          1.9011406844106464,
          1.2674271229404308,
          1.2674271229404308,
          1.2674271229404308,
          1.2674271229404308,
          1.2674271229404308,
          1.2674271229404308,
          1.2674271229404308,
          1.2674271229404308,
          1.2674271229404308,
          1.2674271229404308,
          1.2674271229404308,
          1.2674271229404308,
          1.2674271229404308,
          1.2674271229404308,
          0.6337135614702154,
          0.6337135614702154,
          0.6337135614702154,
          0.6337135614702154,
          0.6337135614702154,
          0.6337135614702154,
          0.6337135614702154,
          0.6337135614702154,
          0.6337135614702154,
          0.6337135614702154,
          0.6337135614702154,
          0.6337135614702154,
          0.6337135614702154,
          0.6337135614702154,
          0.6337135614702154,
          0.6337135614702154,
          0.6337135614702154,
          0.6337135614702154,
          0.6337135614702154,
          0.6337135614702154,
          0.6337135614702154,
          0.6337135614702154,
          0.6337135614702154,
          0.6337135614702154,
          0.6337135614702154,
          0.6337135614702154,
          0.6337135614702154,
          0.6337135614702154,
          0.6337135614702154,
          0.6337135614702154,
          0.6337135614702154,
          0.6337135614702154,
          0.6337135614702154,
          0.6337135614702154,
          0.6337135614702154,
          0.6337135614702154,
          0.6337135614702154,
          0.6337135614702154,
          0.6337135614702154,
          0.6337135614702154,
          0.6337135614702154,
          0.6337135614702154,
          0.6337135614702154,
          0.6337135614702154,
          0.6337135614702154,
          0.6337135614702154,
          0.6337135614702154,
          0.6337135614702154,
          0.6337135614702154,
          0.6337135614702154,
          0.6337135614702154,
          0.6337135614702154,
          0.6337135614702154,
          0.6337135614702154,
          0.6337135614702154,
          0.6337135614702154,
          0.6337135614702154,
          0.6337135614702154,
          0.6337135614702154,
          0.6337135614702154,
          0.6337135614702154,
          0.6337135614702154,
          0.6337135614702154,
          0.6337135614702154,
          0.6337135614702154,
          0.6337135614702154,
          0.6337135614702154,
          0.6337135614702154,
          0.6337135614702154,
          0.6337135614702154,
          0.6337135614702154,
          0.6337135614702154,
          0.6337135614702154,
          0.6337135614702154,
          0.6337135614702154,
          0.6337135614702154,
          0.6337135614702154,
          0.6337135614702154,
          0.6337135614702154,
          0.6337135614702154,
          0.6337135614702154,
          0.6337135614702154,
          0.6337135614702154,
          0.6337135614702154,
          0.6337135614702154,
          0.6337135614702154,
          0.6337135614702154,
          0.6337135614702154,
          0.6337135614702154,
          0.6337135614702154,
          0.6337135614702154,
          0.6337135614702154,
          0.6337135614702154,
          0.6337135614702154,
          0.6337135614702154,
          0.6337135614702154,
          0.6337135614702154,
          0.6337135614702154,
          0.6337135614702154,
          0.6337135614702154,
          0.6337135614702154,
          0.6337135614702154,
          0.6337135614702154,
          0.6337135614702154,
          0.6337135614702154,
          0.6337135614702154,
          0.6337135614702154,
          0.6337135614702154,
          0.6337135614702154,
          0.6337135614702154,
          0.6337135614702154,
          0.6337135614702154,
          0.6337135614702154,
          0.6337135614702154,
          0.6337135614702154,
          0.6337135614702154,
          0.6337135614702154,
          0.6337135614702154,
          0.6337135614702154,
          0.6337135614702154,
          0.6337135614702154,
          0.6337135614702154,
          0.6337135614702154,
          0.6337135614702154,
          0.6337135614702154,
          0.6337135614702154,
          0.6337135614702154,
          0.6337135614702154,
          0.6337135614702154,
          0.6337135614702154,
          0.6337135614702154,
          0.6337135614702154,
          0.6337135614702154,
          0.6337135614702154,
          0.6337135614702154,
          0.6337135614702154,
          0.6337135614702154,
          0.6337135614702154,
          0.6337135614702154,
          0.6337135614702154,
          0.6337135614702154,
          0.6337135614702154,
          0.6337135614702154,
          0.6337135614702154,
          0.6337135614702154,
          0.6337135614702154,
          0.6337135614702154,
          0.6337135614702154,
          0.6337135614702154,
          0.6337135614702154,
          0.6337135614702154,
          0.6337135614702154,
          0.6337135614702154,
          0.6337135614702154,
          0.6337135614702154,
          0.6337135614702154,
          0.6337135614702154,
          0.6337135614702154,
          0.6337135614702154,
          0.6337135614702154,
          1.2674271229404308,
          1.2674271229404308,
          1.2674271229404308,
          1.2674271229404308,
          1.2674271229404308,
          1.2674271229404308,
          1.2674271229404308,
          1.2674271229404308,
          1.2674271229404308,
          1.2674271229404308,
          1.2674271229404308,
          0.6337135614702154,
          0.6337135614702154,
          0.6337135614702154,
          0.6337135614702154,
          0.6337135614702154,
          0.6337135614702154,
          0.6337135614702154,
          0.6337135614702154,
          0.6337135614702154,
          0.6337135614702154,
          0.6337135614702154,
          0.6337135614702154,
          0.6337135614702154,
          0.6337135614702154,
          0.6337135614702154,
          0.6337135614702154,
          0.6337135614702154,
          0.6337135614702154,
          0.6337135614702154,
          0.6337135614702154,
          0.6337135614702154,
          0.6337135614702154,
          0.6337135614702154,
          0.6337135614702154,
          0.6337135614702154,
          0.6337135614702154,
          0.6337135614702154,
          0.6337135614702154,
          0.6337135614702154,
          0.6337135614702154,
          0.6337135614702154,
          0.6337135614702154,
          0.6337135614702154,
          0.6337135614702154,
          0.6337135614702154,
          0.6337135614702154,
          0.6337135614702154,
          0.6337135614702154,
          0.6337135614702154,
          0.6337135614702154,
          0.6337135614702154,
          0.6337135614702154,
          0.6337135614702154,
          0.6337135614702154,
          0.6337135614702154,
          0.6337135614702154,
          0.6337135614702154,
          0.6337135614702154,
          0.6337135614702154,
          0.6337135614702154,
          0.6337135614702154,
          0.6337135614702154,
          0.6337135614702154,
          0.6337135614702154,
          0.6337135614702154,
          0.6337135614702154,
          0.6337135614702154,
          0.6337135614702154,
          0.6337135614702154,
          0.6337135614702154,
          0.6337135614702154,
          0.6337135614702154,
          0.6337135614702154,
          0.6337135614702154,
          0.6337135614702154,
          0.6337135614702154,
          0.6337135614702154,
          0.6337135614702154,
          0.6337135614702154,
          0.6337135614702154,
          0.6337135614702154,
          0.6337135614702154,
          0.6337135614702154,
          0.6337135614702154,
          0.6337135614702154,
          0.6337135614702154,
          0.6337135614702154,
          0.6337135614702154,
          0.6337135614702154,
          0.6337135614702154,
          0.6337135614702154,
          0.6337135614702154,
          0.6337135614702154,
          0.6337135614702154,
          0.6337135614702154,
          0.6337135614702154,
          0.6337135614702154,
          0.6337135614702154,
          0.6337135614702154,
          0.6337135614702154,
          0.6337135614702154,
          0.6337135614702154,
          0.6337135614702154,
          0.6337135614702154,
          0.6337135614702154,
          0.6337135614702154,
          0.6337135614702154,
          0.6337135614702154,
          0.6337135614702154,
          0.6337135614702154,
          0.6337135614702154,
          0.6337135614702154,
          0.6337135614702154,
          0.6337135614702154,
          0.6337135614702154,
          0.6337135614702154,
          0.6337135614702154,
          0.6337135614702154,
          0.6337135614702154,
          0.6337135614702154,
          0.6337135614702154,
          0.6337135614702154,
          0.6337135614702154,
          0.6337135614702154,
          0.6337135614702154,
          0.6337135614702154,
          0.6337135614702154,
          0.6337135614702154,
          0.6337135614702154,
          0.6337135614702154,
          0.6337135614702154,
          0.6337135614702154,
          0.6337135614702154,
          0.6337135614702154,
          0.6337135614702154,
          0.6337135614702154,
          0.6337135614702154,
          0.6337135614702154,
          0.6337135614702154,
          0.6337135614702154,
          0.6337135614702154,
          0.6337135614702154,
          0.6337135614702154,
          0.6337135614702154,
          0.6337135614702154,
          0.6337135614702154,
          0.6337135614702154,
          0.6337135614702154,
          0.6337135614702154,
          0.6337135614702154,
          0.6337135614702154,
          0.6337135614702154,
          0.6337135614702154,
          0.6337135614702154,
          0.6337135614702154,
          0.6337135614702154,
          0.6337135614702154,
          0.6337135614702154,
          0.6337135614702154,
          0.6337135614702154,
          0.6337135614702154,
          0.6337135614702154,
          0.6337135614702154,
          0.6337135614702154,
          0.6337135614702154,
          0.6337135614702154,
          0.6337135614702154,
          0.6337135614702154,
          0.6337135614702154,
          0.6337135614702154,
          0.6337135614702154,
          0.6337135614702154,
          0.6337135614702154,
          0.6337135614702154,
          0.6337135614702154,
          0.6337135614702154,
          0.6337135614702154,
          0.6337135614702154,
          0.6337135614702154,
          0.6337135614702154,
          0.6337135614702154,
          0.6337135614702154,
          0.6337135614702154,
          0.6337135614702154,
          0.6337135614702154,
          0.6337135614702154,
          0.6337135614702154,
          0.6337135614702154,
          0.6337135614702154,
          0.6337135614702154,
          0.6337135614702154,
          0.6337135614702154,
          0.6337135614702154,
          0.6337135614702154,
          0.6337135614702154,
          0.6337135614702154,
          0.6337135614702154,
          0.6337135614702154,
          0.6337135614702154,
          0.6337135614702154,
          0.6337135614702154,
          0.6337135614702154,
          0.6337135614702154,
          0.6337135614702154,
          0.6337135614702154,
          0.6337135614702154,
          0.6337135614702154,
          0.6337135614702154,
          0.6337135614702154,
          0.6337135614702154,
          0.6337135614702154,
          0.6337135614702154,
          0.6337135614702154,
          0.6337135614702154,
          0.6337135614702154,
          0.6337135614702154,
          0.6337135614702154,
          0.6337135614702154,
          0.6337135614702154,
          0.6337135614702154,
          0.6337135614702154,
          0.6337135614702154,
          0.6337135614702154,
          0.6337135614702154,
          0.6337135614702154,
          0.6337135614702154,
          0.6337135614702154,
          0.6337135614702154,
          0.6337135614702154,
          0.6337135614702154,
          0.6337135614702154,
          0.6337135614702154,
          0.6337135614702154,
          0.6337135614702154,
          0.6337135614702154,
          0.6337135614702154,
          0.6337135614702154,
          0.6337135614702154,
          0.6337135614702154,
          0.6337135614702154,
          0.6337135614702154,
          0.6337135614702154,
          0.6337135614702154,
          0.6337135614702154,
          0.6337135614702154,
          0.6337135614702154,
          0.6337135614702154,
          0.6337135614702154,
          0.6337135614702154,
          0.6337135614702154,
          0.6337135614702154,
          0.6337135614702154,
          0.6337135614702154,
          0.6337135614702154,
          0.6337135614702154,
          0.6337135614702154,
          0.6337135614702154,
          0.6337135614702154,
          1.2674271229404308,
          1.2674271229404308,
          1.2674271229404308,
          1.2674271229404308,
          1.2674271229404308,
          1.2674271229404308,
          1.2674271229404308,
          1.2674271229404308,
          1.2674271229404308,
          1.2674271229404308,
          1.2674271229404308,
          1.2674271229404308,
          0.6337135614702154,
          0.6337135614702154,
          0.6337135614702154,
          0.6337135614702154,
          0.6337135614702154,
          0.6337135614702154,
          0.6337135614702154,
          0.6337135614702154,
          0.6337135614702154,
          0.6337135614702154,
          0.6337135614702154,
          0.6337135614702154,
          0.6337135614702154,
          0.6337135614702154,
          0.6337135614702154,
          0.6337135614702154,
          0.6337135614702154,
          0.6337135614702154,
          0.6337135614702154,
          0.6337135614702154,
          0.6337135614702154,
          0.6337135614702154,
          0.6337135614702154,
          0.6337135614702154,
          0.6337135614702154,
          0.6337135614702154,
          0.6337135614702154,
          0.6337135614702154,
          0.6337135614702154,
          0.6337135614702154,
          0.6337135614702154,
          0.6337135614702154,
          0.6337135614702154,
          0.6337135614702154,
          0.6337135614702154,
          0.6337135614702154,
          0.6337135614702154,
          0.6337135614702154,
          0.6337135614702154,
          0.6337135614702154,
          0.6337135614702154,
          0.6337135614702154,
          0.6337135614702154,
          0.6337135614702154,
          0.6337135614702154,
          0.6337135614702154,
          0.6337135614702154,
          0.6337135614702154,
          0.6337135614702154,
          0.6337135614702154,
          0.6337135614702154,
          0.6337135614702154,
          0.6337135614702154,
          0.6337135614702154,
          0.6337135614702154,
          0.6337135614702154,
          0.6337135614702154,
          0.6337135614702154,
          0.6337135614702154
         ],
         "yaxis": "y"
        }
       ],
       "layout": {
        "autosize": true,
        "legend": {
         "tracegroupgap": 0
        },
        "template": {
         "data": {
          "bar": [
           {
            "error_x": {
             "color": "#2a3f5f"
            },
            "error_y": {
             "color": "#2a3f5f"
            },
            "marker": {
             "line": {
              "color": "#E5ECF6",
              "width": 0.5
             },
             "pattern": {
              "fillmode": "overlay",
              "size": 10,
              "solidity": 0.2
             }
            },
            "type": "bar"
           }
          ],
          "barpolar": [
           {
            "marker": {
             "line": {
              "color": "#E5ECF6",
              "width": 0.5
             },
             "pattern": {
              "fillmode": "overlay",
              "size": 10,
              "solidity": 0.2
             }
            },
            "type": "barpolar"
           }
          ],
          "carpet": [
           {
            "aaxis": {
             "endlinecolor": "#2a3f5f",
             "gridcolor": "white",
             "linecolor": "white",
             "minorgridcolor": "white",
             "startlinecolor": "#2a3f5f"
            },
            "baxis": {
             "endlinecolor": "#2a3f5f",
             "gridcolor": "white",
             "linecolor": "white",
             "minorgridcolor": "white",
             "startlinecolor": "#2a3f5f"
            },
            "type": "carpet"
           }
          ],
          "choropleth": [
           {
            "colorbar": {
             "outlinewidth": 0,
             "ticks": ""
            },
            "type": "choropleth"
           }
          ],
          "contour": [
           {
            "colorbar": {
             "outlinewidth": 0,
             "ticks": ""
            },
            "colorscale": [
             [
              0,
              "#0d0887"
             ],
             [
              0.1111111111111111,
              "#46039f"
             ],
             [
              0.2222222222222222,
              "#7201a8"
             ],
             [
              0.3333333333333333,
              "#9c179e"
             ],
             [
              0.4444444444444444,
              "#bd3786"
             ],
             [
              0.5555555555555556,
              "#d8576b"
             ],
             [
              0.6666666666666666,
              "#ed7953"
             ],
             [
              0.7777777777777778,
              "#fb9f3a"
             ],
             [
              0.8888888888888888,
              "#fdca26"
             ],
             [
              1,
              "#f0f921"
             ]
            ],
            "type": "contour"
           }
          ],
          "contourcarpet": [
           {
            "colorbar": {
             "outlinewidth": 0,
             "ticks": ""
            },
            "type": "contourcarpet"
           }
          ],
          "heatmap": [
           {
            "colorbar": {
             "outlinewidth": 0,
             "ticks": ""
            },
            "colorscale": [
             [
              0,
              "#0d0887"
             ],
             [
              0.1111111111111111,
              "#46039f"
             ],
             [
              0.2222222222222222,
              "#7201a8"
             ],
             [
              0.3333333333333333,
              "#9c179e"
             ],
             [
              0.4444444444444444,
              "#bd3786"
             ],
             [
              0.5555555555555556,
              "#d8576b"
             ],
             [
              0.6666666666666666,
              "#ed7953"
             ],
             [
              0.7777777777777778,
              "#fb9f3a"
             ],
             [
              0.8888888888888888,
              "#fdca26"
             ],
             [
              1,
              "#f0f921"
             ]
            ],
            "type": "heatmap"
           }
          ],
          "heatmapgl": [
           {
            "colorbar": {
             "outlinewidth": 0,
             "ticks": ""
            },
            "colorscale": [
             [
              0,
              "#0d0887"
             ],
             [
              0.1111111111111111,
              "#46039f"
             ],
             [
              0.2222222222222222,
              "#7201a8"
             ],
             [
              0.3333333333333333,
              "#9c179e"
             ],
             [
              0.4444444444444444,
              "#bd3786"
             ],
             [
              0.5555555555555556,
              "#d8576b"
             ],
             [
              0.6666666666666666,
              "#ed7953"
             ],
             [
              0.7777777777777778,
              "#fb9f3a"
             ],
             [
              0.8888888888888888,
              "#fdca26"
             ],
             [
              1,
              "#f0f921"
             ]
            ],
            "type": "heatmapgl"
           }
          ],
          "histogram": [
           {
            "marker": {
             "pattern": {
              "fillmode": "overlay",
              "size": 10,
              "solidity": 0.2
             }
            },
            "type": "histogram"
           }
          ],
          "histogram2d": [
           {
            "colorbar": {
             "outlinewidth": 0,
             "ticks": ""
            },
            "colorscale": [
             [
              0,
              "#0d0887"
             ],
             [
              0.1111111111111111,
              "#46039f"
             ],
             [
              0.2222222222222222,
              "#7201a8"
             ],
             [
              0.3333333333333333,
              "#9c179e"
             ],
             [
              0.4444444444444444,
              "#bd3786"
             ],
             [
              0.5555555555555556,
              "#d8576b"
             ],
             [
              0.6666666666666666,
              "#ed7953"
             ],
             [
              0.7777777777777778,
              "#fb9f3a"
             ],
             [
              0.8888888888888888,
              "#fdca26"
             ],
             [
              1,
              "#f0f921"
             ]
            ],
            "type": "histogram2d"
           }
          ],
          "histogram2dcontour": [
           {
            "colorbar": {
             "outlinewidth": 0,
             "ticks": ""
            },
            "colorscale": [
             [
              0,
              "#0d0887"
             ],
             [
              0.1111111111111111,
              "#46039f"
             ],
             [
              0.2222222222222222,
              "#7201a8"
             ],
             [
              0.3333333333333333,
              "#9c179e"
             ],
             [
              0.4444444444444444,
              "#bd3786"
             ],
             [
              0.5555555555555556,
              "#d8576b"
             ],
             [
              0.6666666666666666,
              "#ed7953"
             ],
             [
              0.7777777777777778,
              "#fb9f3a"
             ],
             [
              0.8888888888888888,
              "#fdca26"
             ],
             [
              1,
              "#f0f921"
             ]
            ],
            "type": "histogram2dcontour"
           }
          ],
          "mesh3d": [
           {
            "colorbar": {
             "outlinewidth": 0,
             "ticks": ""
            },
            "type": "mesh3d"
           }
          ],
          "parcoords": [
           {
            "line": {
             "colorbar": {
              "outlinewidth": 0,
              "ticks": ""
             }
            },
            "type": "parcoords"
           }
          ],
          "pie": [
           {
            "automargin": true,
            "type": "pie"
           }
          ],
          "scatter": [
           {
            "marker": {
             "colorbar": {
              "outlinewidth": 0,
              "ticks": ""
             }
            },
            "type": "scatter"
           }
          ],
          "scatter3d": [
           {
            "line": {
             "colorbar": {
              "outlinewidth": 0,
              "ticks": ""
             }
            },
            "marker": {
             "colorbar": {
              "outlinewidth": 0,
              "ticks": ""
             }
            },
            "type": "scatter3d"
           }
          ],
          "scattercarpet": [
           {
            "marker": {
             "colorbar": {
              "outlinewidth": 0,
              "ticks": ""
             }
            },
            "type": "scattercarpet"
           }
          ],
          "scattergeo": [
           {
            "marker": {
             "colorbar": {
              "outlinewidth": 0,
              "ticks": ""
             }
            },
            "type": "scattergeo"
           }
          ],
          "scattergl": [
           {
            "marker": {
             "colorbar": {
              "outlinewidth": 0,
              "ticks": ""
             }
            },
            "type": "scattergl"
           }
          ],
          "scattermapbox": [
           {
            "marker": {
             "colorbar": {
              "outlinewidth": 0,
              "ticks": ""
             }
            },
            "type": "scattermapbox"
           }
          ],
          "scatterpolar": [
           {
            "marker": {
             "colorbar": {
              "outlinewidth": 0,
              "ticks": ""
             }
            },
            "type": "scatterpolar"
           }
          ],
          "scatterpolargl": [
           {
            "marker": {
             "colorbar": {
              "outlinewidth": 0,
              "ticks": ""
             }
            },
            "type": "scatterpolargl"
           }
          ],
          "scatterternary": [
           {
            "marker": {
             "colorbar": {
              "outlinewidth": 0,
              "ticks": ""
             }
            },
            "type": "scatterternary"
           }
          ],
          "surface": [
           {
            "colorbar": {
             "outlinewidth": 0,
             "ticks": ""
            },
            "colorscale": [
             [
              0,
              "#0d0887"
             ],
             [
              0.1111111111111111,
              "#46039f"
             ],
             [
              0.2222222222222222,
              "#7201a8"
             ],
             [
              0.3333333333333333,
              "#9c179e"
             ],
             [
              0.4444444444444444,
              "#bd3786"
             ],
             [
              0.5555555555555556,
              "#d8576b"
             ],
             [
              0.6666666666666666,
              "#ed7953"
             ],
             [
              0.7777777777777778,
              "#fb9f3a"
             ],
             [
              0.8888888888888888,
              "#fdca26"
             ],
             [
              1,
              "#f0f921"
             ]
            ],
            "type": "surface"
           }
          ],
          "table": [
           {
            "cells": {
             "fill": {
              "color": "#EBF0F8"
             },
             "line": {
              "color": "white"
             }
            },
            "header": {
             "fill": {
              "color": "#C8D4E3"
             },
             "line": {
              "color": "white"
             }
            },
            "type": "table"
           }
          ]
         },
         "layout": {
          "annotationdefaults": {
           "arrowcolor": "#2a3f5f",
           "arrowhead": 0,
           "arrowwidth": 1
          },
          "autotypenumbers": "strict",
          "coloraxis": {
           "colorbar": {
            "outlinewidth": 0,
            "ticks": ""
           }
          },
          "colorscale": {
           "diverging": [
            [
             0,
             "#8e0152"
            ],
            [
             0.1,
             "#c51b7d"
            ],
            [
             0.2,
             "#de77ae"
            ],
            [
             0.3,
             "#f1b6da"
            ],
            [
             0.4,
             "#fde0ef"
            ],
            [
             0.5,
             "#f7f7f7"
            ],
            [
             0.6,
             "#e6f5d0"
            ],
            [
             0.7,
             "#b8e186"
            ],
            [
             0.8,
             "#7fbc41"
            ],
            [
             0.9,
             "#4d9221"
            ],
            [
             1,
             "#276419"
            ]
           ],
           "sequential": [
            [
             0,
             "#0d0887"
            ],
            [
             0.1111111111111111,
             "#46039f"
            ],
            [
             0.2222222222222222,
             "#7201a8"
            ],
            [
             0.3333333333333333,
             "#9c179e"
            ],
            [
             0.4444444444444444,
             "#bd3786"
            ],
            [
             0.5555555555555556,
             "#d8576b"
            ],
            [
             0.6666666666666666,
             "#ed7953"
            ],
            [
             0.7777777777777778,
             "#fb9f3a"
            ],
            [
             0.8888888888888888,
             "#fdca26"
            ],
            [
             1,
             "#f0f921"
            ]
           ],
           "sequentialminus": [
            [
             0,
             "#0d0887"
            ],
            [
             0.1111111111111111,
             "#46039f"
            ],
            [
             0.2222222222222222,
             "#7201a8"
            ],
            [
             0.3333333333333333,
             "#9c179e"
            ],
            [
             0.4444444444444444,
             "#bd3786"
            ],
            [
             0.5555555555555556,
             "#d8576b"
            ],
            [
             0.6666666666666666,
             "#ed7953"
            ],
            [
             0.7777777777777778,
             "#fb9f3a"
            ],
            [
             0.8888888888888888,
             "#fdca26"
            ],
            [
             1,
             "#f0f921"
            ]
           ]
          },
          "colorway": [
           "#636efa",
           "#EF553B",
           "#00cc96",
           "#ab63fa",
           "#FFA15A",
           "#19d3f3",
           "#FF6692",
           "#B6E880",
           "#FF97FF",
           "#FECB52"
          ],
          "font": {
           "color": "#2a3f5f"
          },
          "geo": {
           "bgcolor": "white",
           "lakecolor": "white",
           "landcolor": "#E5ECF6",
           "showlakes": true,
           "showland": true,
           "subunitcolor": "white"
          },
          "hoverlabel": {
           "align": "left"
          },
          "hovermode": "closest",
          "mapbox": {
           "style": "light"
          },
          "paper_bgcolor": "white",
          "plot_bgcolor": "#E5ECF6",
          "polar": {
           "angularaxis": {
            "gridcolor": "white",
            "linecolor": "white",
            "ticks": ""
           },
           "bgcolor": "#E5ECF6",
           "radialaxis": {
            "gridcolor": "white",
            "linecolor": "white",
            "ticks": ""
           }
          },
          "scene": {
           "xaxis": {
            "backgroundcolor": "#E5ECF6",
            "gridcolor": "white",
            "gridwidth": 2,
            "linecolor": "white",
            "showbackground": true,
            "ticks": "",
            "zerolinecolor": "white"
           },
           "yaxis": {
            "backgroundcolor": "#E5ECF6",
            "gridcolor": "white",
            "gridwidth": 2,
            "linecolor": "white",
            "showbackground": true,
            "ticks": "",
            "zerolinecolor": "white"
           },
           "zaxis": {
            "backgroundcolor": "#E5ECF6",
            "gridcolor": "white",
            "gridwidth": 2,
            "linecolor": "white",
            "showbackground": true,
            "ticks": "",
            "zerolinecolor": "white"
           }
          },
          "shapedefaults": {
           "line": {
            "color": "#2a3f5f"
           }
          },
          "ternary": {
           "aaxis": {
            "gridcolor": "white",
            "linecolor": "white",
            "ticks": ""
           },
           "baxis": {
            "gridcolor": "white",
            "linecolor": "white",
            "ticks": ""
           },
           "bgcolor": "#E5ECF6",
           "caxis": {
            "gridcolor": "white",
            "linecolor": "white",
            "ticks": ""
           }
          },
          "title": {
           "x": 0.05
          },
          "xaxis": {
           "automargin": true,
           "gridcolor": "white",
           "linecolor": "white",
           "ticks": "",
           "title": {
            "standoff": 15
           },
           "zerolinecolor": "white",
           "zerolinewidth": 2
          },
          "yaxis": {
           "automargin": true,
           "gridcolor": "white",
           "linecolor": "white",
           "ticks": "",
           "title": {
            "standoff": 15
           },
           "zerolinecolor": "white",
           "zerolinewidth": 2
          }
         }
        },
        "title": {
         "text": "Density : target04_3"
        },
        "xaxis": {
         "anchor": "y",
         "autorange": true,
         "domain": [
          0,
          1
         ],
         "range": [
          990,
          404920
         ],
         "title": {
          "text": "FrameID"
         },
         "type": "linear"
        },
        "yaxis": {
         "anchor": "x",
         "autorange": true,
         "domain": [
          0,
          1
         ],
         "range": [
          0.5633009435290803,
          1.9715533023517815
         ],
         "title": {
          "text": "density"
         },
         "type": "linear"
        }
       }
      },
      "image/png": "[encoded data removed]",
      "text/html": [
       "<div>                            <div id=\"a01fc41a-63b6-4576-9b8a-63ee08b336bd\" class=\"plotly-graph-div\" style=\"height:525px; width:100%;\"></div>            <script type=\"text/javascript\">                require([\"plotly\"], function(Plotly) {                    window.PLOTLYENV=window.PLOTLYENV || {};                                    if (document.getElementById(\"a01fc41a-63b6-4576-9b8a-63ee08b336bd\")) {                    Plotly.newPlot(                        \"a01fc41a-63b6-4576-9b8a-63ee08b336bd\",                        [{\"hovertemplate\":\"FrameID=%{x}<br>density=%{y}<extra></extra>\",\"legendgroup\":\"\",\"line\":{\"color\":\"#636efa\",\"dash\":\"solid\"},\"marker\":{\"symbol\":\"circle\"},\"mode\":\"lines\",\"name\":\"\",\"orientation\":\"v\",\"showlegend\":false,\"type\":\"scatter\",\"x\":[990,1005,1020,1035,1050,1065,1080,1095,1110,1125,1140,1155,1170,1185,1200,1215,1230,1245,1260,1275,1290,1305,1320,1335,1350,1365,1380,1395,1410,1425,1440,1455,1470,1485,1500,1515,1530,1545,2400,2415,2430,2445,2460,2475,2490,2505,2520,2535,2550,2565,2580,2595,2610,2625,4200,4215,4230,4245,4260,4275,4290,4305,4320,4335,4350,4365,4380,4395,4410,4425,4440,4455,4470,4770,4785,4800,4815,4830,4845,4860,4875,4890,4905,4920,4935,4950,4965,4980,4995,5010,5025,5040,5055,5070,5220,5235,5250,5265,5280,5295,5310,5325,5340,5355,5370,5385,101515,101530,101545,101560,101575,101590,101605,101620,101635,101650,101800,101815,101830,101845,101860,101875,101890,101905,101920,101935,101950,101965,101980,101995,102010,102025,102040,102055,102070,102085,102100,102115,102130,102145,102160,102175,102190,102205,102220,102235,102820,102835,102850,102865,102880,102895,102910,102925,102940,102955,102970,102985,103000,103015,103030,103045,103060,103075,103090,103105,103120,103135,103150,103165,103180,103195,103210,103225,103240,103255,103270,103285,103300,103315,103330,103345,103360,103375,103390,103405,103420,103435,103450,103465,103480,103495,103510,103525,103540,103555,103570,103585,103600,103615,103630,103645,103660,103675,103690,103705,103720,103735,103750,103765,103780,103795,103810,103825,104110,104125,104140,104155,104170,104185,104200,104215,104230,104245,104260,104275,104290,104305,104320,104335,104350,104365,104500,104515,104530,104545,104560,104575,104590,104605,104620,104635,104650,104665,104680,104695,104710,104725,104740,104785,104800,104815,104830,104845,104860,104875,104890,104905,104920,104935,202445,202460,202475,202490,202505,202520,202535,202550,202565,202580,202595,202610,202625,202640,202655,202670,202685,202700,202715,202730,202745,202760,202775,202790,202805,202820,202835,202850,202865,202880,202895,202910,202925,202940,202955,202970,202985,203150,203165,203180,203195,203210,203225,203240,203255,203270,203285,203300,203315,203330,203345,203360,203375,203390,203405,203420,203435,203450,203465,203480,203495,203510,203525,203540,203555,203615,203630,203645,203660,203675,203690,203705,203720,203735,203750,203765,203780,203795,203810,203825,203840,203855,203870,203885,203900,203915,203930,203945,203960,203975,204230,204245,204260,204275,204290,204305,204320,204335,204350,204365,204380,204395,204410,204425,204440,204455,204470,204485,204500,204515,204530,204545,204560,204575,204590,204605,204620,204635,204650,204665,204680,204695,204710,300720,300735,300750,300765,300780,300795,300810,300825,300840,300855,300870,300885,300900,300915,300930,300945,301515,301530,301545,301560,301575,301590,301605,301620,301635,301650,301665,301680,301695,301710,301725,301740,301755,301770,301785,301800,301815,301830,301845,301860,301875,301890,301905,301920,301935,302580,302595,302610,302625,302640,302655,302670,302685,302700,302715,302730,302745,302760,302775,302790,302805,302820,302835,303840,303855,303870,303885,303900,303915,303930,303945,303960,303975,303990,304005,304020,304035,304050,304065,304080,304095,304110,304125,304140,304155,304170,304185,304200,304215,304230,304245,304260,304305,304320,304335,304350,304365,304380,304395,304410,304425,304440,304455,304470,304485,304500,304515,304530,304545,304560,304575,304590,304605,304620,304635,304650,304665,304680,304695,304710,304725,304740,304755,304770,304785,304800,304815,304830,304845,304860,304875,304890,305175,305190,305205,305220,305235,305250,305265,305280,305295,305310,305325,305340,305355,305370,305385,400390,400405,400420,400435,400450,400465,400480,400495,400510,400525,400540,400555,400570,400585,400600,400615,400630,400645,400660,400675,400690,400705,400720,400840,400855,400870,400885,400900,400915,400930,400945,400960,400975,400990,401005,401020,401035,401050,401065,401260,401275,401290,401305,401320,401335,401350,401365,401380,401395,401410,401425,401440,401455,401470,401485,401500,401515,401530,401545,401560,401575,401590,401605,402190,402205,402220,402235,402250,402265,402280,402295,402310,402325,402340,402355,402370,402385,402400,402415,402430,402445,402460,402475,402760,402775,402790,402805,402820,402835,402850,402865,402880,402895,402910,402925,402940,402955,402970,402985,403000,403015,403030,403045,403060,403075,403090,403105,403120,403135,403150,403165,403180,403195,403210,403225,403240,403255,403270,403810,403825,403840,403855,403870,403885,403900,403915,403930,403945,403960,403975,403990,404005,404020,404035,404050,404065,404620,404635,404650,404665,404680,404695,404710,404725,404740,404755,404770,404785,404800,404815,404830,404845,404860,404875,404890,404905,404920],\"xaxis\":\"x\",\"y\":[0.6337135614702154,0.6337135614702154,0.6337135614702154,0.6337135614702154,0.6337135614702154,0.6337135614702154,0.6337135614702154,0.6337135614702154,0.6337135614702154,0.6337135614702154,0.6337135614702154,0.6337135614702154,0.6337135614702154,0.6337135614702154,0.6337135614702154,0.6337135614702154,0.6337135614702154,0.6337135614702154,0.6337135614702154,0.6337135614702154,0.6337135614702154,0.6337135614702154,0.6337135614702154,0.6337135614702154,0.6337135614702154,0.6337135614702154,0.6337135614702154,0.6337135614702154,0.6337135614702154,0.6337135614702154,0.6337135614702154,0.6337135614702154,0.6337135614702154,0.6337135614702154,0.6337135614702154,0.6337135614702154,0.6337135614702154,0.6337135614702154,0.6337135614702154,0.6337135614702154,0.6337135614702154,0.6337135614702154,0.6337135614702154,0.6337135614702154,0.6337135614702154,0.6337135614702154,0.6337135614702154,0.6337135614702154,0.6337135614702154,0.6337135614702154,0.6337135614702154,0.6337135614702154,0.6337135614702154,0.6337135614702154,0.6337135614702154,0.6337135614702154,0.6337135614702154,0.6337135614702154,0.6337135614702154,0.6337135614702154,0.6337135614702154,0.6337135614702154,0.6337135614702154,0.6337135614702154,0.6337135614702154,0.6337135614702154,0.6337135614702154,0.6337135614702154,0.6337135614702154,0.6337135614702154,0.6337135614702154,0.6337135614702154,0.6337135614702154,0.6337135614702154,0.6337135614702154,0.6337135614702154,0.6337135614702154,0.6337135614702154,0.6337135614702154,0.6337135614702154,0.6337135614702154,0.6337135614702154,0.6337135614702154,0.6337135614702154,0.6337135614702154,0.6337135614702154,0.6337135614702154,0.6337135614702154,0.6337135614702154,0.6337135614702154,0.6337135614702154,0.6337135614702154,0.6337135614702154,0.6337135614702154,0.6337135614702154,0.6337135614702154,0.6337135614702154,0.6337135614702154,0.6337135614702154,0.6337135614702154,0.6337135614702154,0.6337135614702154,0.6337135614702154,0.6337135614702154,0.6337135614702154,0.6337135614702154,0.6337135614702154,0.6337135614702154,0.6337135614702154,0.6337135614702154,0.6337135614702154,0.6337135614702154,0.6337135614702154,0.6337135614702154,0.6337135614702154,0.6337135614702154,0.6337135614702154,0.6337135614702154,0.6337135614702154,0.6337135614702154,0.6337135614702154,0.6337135614702154,0.6337135614702154,0.6337135614702154,0.6337135614702154,0.6337135614702154,0.6337135614702154,0.6337135614702154,0.6337135614702154,0.6337135614702154,0.6337135614702154,0.6337135614702154,0.6337135614702154,0.6337135614702154,0.6337135614702154,0.6337135614702154,0.6337135614702154,0.6337135614702154,0.6337135614702154,0.6337135614702154,0.6337135614702154,0.6337135614702154,0.6337135614702154,0.6337135614702154,0.6337135614702154,0.6337135614702154,0.6337135614702154,0.6337135614702154,0.6337135614702154,0.6337135614702154,0.6337135614702154,0.6337135614702154,0.6337135614702154,0.6337135614702154,0.6337135614702154,0.6337135614702154,0.6337135614702154,0.6337135614702154,0.6337135614702154,0.6337135614702154,0.6337135614702154,0.6337135614702154,0.6337135614702154,0.6337135614702154,0.6337135614702154,0.6337135614702154,0.6337135614702154,0.6337135614702154,0.6337135614702154,0.6337135614702154,0.6337135614702154,1.2674271229404308,1.2674271229404308,1.2674271229404308,1.2674271229404308,1.2674271229404308,1.2674271229404308,1.2674271229404308,1.9011406844106464,1.9011406844106464,1.9011406844106464,1.9011406844106464,1.9011406844106464,1.2674271229404308,1.2674271229404308,1.2674271229404308,1.2674271229404308,1.2674271229404308,1.2674271229404308,1.2674271229404308,1.2674271229404308,1.2674271229404308,1.2674271229404308,1.2674271229404308,1.2674271229404308,1.2674271229404308,1.2674271229404308,0.6337135614702154,0.6337135614702154,0.6337135614702154,0.6337135614702154,0.6337135614702154,0.6337135614702154,0.6337135614702154,0.6337135614702154,0.6337135614702154,0.6337135614702154,0.6337135614702154,0.6337135614702154,0.6337135614702154,0.6337135614702154,0.6337135614702154,0.6337135614702154,0.6337135614702154,0.6337135614702154,0.6337135614702154,0.6337135614702154,0.6337135614702154,0.6337135614702154,0.6337135614702154,0.6337135614702154,0.6337135614702154,0.6337135614702154,0.6337135614702154,0.6337135614702154,0.6337135614702154,0.6337135614702154,0.6337135614702154,0.6337135614702154,0.6337135614702154,0.6337135614702154,0.6337135614702154,0.6337135614702154,0.6337135614702154,0.6337135614702154,0.6337135614702154,0.6337135614702154,0.6337135614702154,0.6337135614702154,0.6337135614702154,0.6337135614702154,0.6337135614702154,0.6337135614702154,0.6337135614702154,0.6337135614702154,0.6337135614702154,0.6337135614702154,0.6337135614702154,0.6337135614702154,0.6337135614702154,0.6337135614702154,0.6337135614702154,0.6337135614702154,0.6337135614702154,0.6337135614702154,0.6337135614702154,0.6337135614702154,0.6337135614702154,0.6337135614702154,0.6337135614702154,0.6337135614702154,0.6337135614702154,0.6337135614702154,0.6337135614702154,0.6337135614702154,0.6337135614702154,0.6337135614702154,0.6337135614702154,0.6337135614702154,0.6337135614702154,0.6337135614702154,0.6337135614702154,0.6337135614702154,0.6337135614702154,0.6337135614702154,0.6337135614702154,0.6337135614702154,0.6337135614702154,0.6337135614702154,0.6337135614702154,0.6337135614702154,0.6337135614702154,0.6337135614702154,0.6337135614702154,0.6337135614702154,0.6337135614702154,0.6337135614702154,0.6337135614702154,0.6337135614702154,0.6337135614702154,0.6337135614702154,0.6337135614702154,0.6337135614702154,0.6337135614702154,0.6337135614702154,0.6337135614702154,0.6337135614702154,0.6337135614702154,0.6337135614702154,0.6337135614702154,0.6337135614702154,0.6337135614702154,0.6337135614702154,0.6337135614702154,0.6337135614702154,0.6337135614702154,0.6337135614702154,0.6337135614702154,0.6337135614702154,0.6337135614702154,0.6337135614702154,0.6337135614702154,0.6337135614702154,0.6337135614702154,0.6337135614702154,0.6337135614702154,0.6337135614702154,0.6337135614702154,0.6337135614702154,0.6337135614702154,0.6337135614702154,0.6337135614702154,0.6337135614702154,0.6337135614702154,0.6337135614702154,0.6337135614702154,0.6337135614702154,0.6337135614702154,0.6337135614702154,0.6337135614702154,0.6337135614702154,0.6337135614702154,0.6337135614702154,0.6337135614702154,0.6337135614702154,0.6337135614702154,0.6337135614702154,0.6337135614702154,0.6337135614702154,0.6337135614702154,0.6337135614702154,0.6337135614702154,0.6337135614702154,0.6337135614702154,0.6337135614702154,0.6337135614702154,0.6337135614702154,0.6337135614702154,0.6337135614702154,0.6337135614702154,0.6337135614702154,0.6337135614702154,0.6337135614702154,0.6337135614702154,0.6337135614702154,0.6337135614702154,0.6337135614702154,1.2674271229404308,1.2674271229404308,1.2674271229404308,1.2674271229404308,1.2674271229404308,1.2674271229404308,1.2674271229404308,1.2674271229404308,1.2674271229404308,1.2674271229404308,1.2674271229404308,0.6337135614702154,0.6337135614702154,0.6337135614702154,0.6337135614702154,0.6337135614702154,0.6337135614702154,0.6337135614702154,0.6337135614702154,0.6337135614702154,0.6337135614702154,0.6337135614702154,0.6337135614702154,0.6337135614702154,0.6337135614702154,0.6337135614702154,0.6337135614702154,0.6337135614702154,0.6337135614702154,0.6337135614702154,0.6337135614702154,0.6337135614702154,0.6337135614702154,0.6337135614702154,0.6337135614702154,0.6337135614702154,0.6337135614702154,0.6337135614702154,0.6337135614702154,0.6337135614702154,0.6337135614702154,0.6337135614702154,0.6337135614702154,0.6337135614702154,0.6337135614702154,0.6337135614702154,0.6337135614702154,0.6337135614702154,0.6337135614702154,0.6337135614702154,0.6337135614702154,0.6337135614702154,0.6337135614702154,0.6337135614702154,0.6337135614702154,0.6337135614702154,0.6337135614702154,0.6337135614702154,0.6337135614702154,0.6337135614702154,0.6337135614702154,0.6337135614702154,0.6337135614702154,0.6337135614702154,0.6337135614702154,0.6337135614702154,0.6337135614702154,0.6337135614702154,0.6337135614702154,0.6337135614702154,0.6337135614702154,0.6337135614702154,0.6337135614702154,0.6337135614702154,0.6337135614702154,0.6337135614702154,0.6337135614702154,0.6337135614702154,0.6337135614702154,0.6337135614702154,0.6337135614702154,0.6337135614702154,0.6337135614702154,0.6337135614702154,0.6337135614702154,0.6337135614702154,0.6337135614702154,0.6337135614702154,0.6337135614702154,0.6337135614702154,0.6337135614702154,0.6337135614702154,0.6337135614702154,0.6337135614702154,0.6337135614702154,0.6337135614702154,0.6337135614702154,0.6337135614702154,0.6337135614702154,0.6337135614702154,0.6337135614702154,0.6337135614702154,0.6337135614702154,0.6337135614702154,0.6337135614702154,0.6337135614702154,0.6337135614702154,0.6337135614702154,0.6337135614702154,0.6337135614702154,0.6337135614702154,0.6337135614702154,0.6337135614702154,0.6337135614702154,0.6337135614702154,0.6337135614702154,0.6337135614702154,0.6337135614702154,0.6337135614702154,0.6337135614702154,0.6337135614702154,0.6337135614702154,0.6337135614702154,0.6337135614702154,0.6337135614702154,0.6337135614702154,0.6337135614702154,0.6337135614702154,0.6337135614702154,0.6337135614702154,0.6337135614702154,0.6337135614702154,0.6337135614702154,0.6337135614702154,0.6337135614702154,0.6337135614702154,0.6337135614702154,0.6337135614702154,0.6337135614702154,0.6337135614702154,0.6337135614702154,0.6337135614702154,0.6337135614702154,0.6337135614702154,0.6337135614702154,0.6337135614702154,0.6337135614702154,0.6337135614702154,0.6337135614702154,0.6337135614702154,0.6337135614702154,0.6337135614702154,0.6337135614702154,0.6337135614702154,0.6337135614702154,0.6337135614702154,0.6337135614702154,0.6337135614702154,0.6337135614702154,0.6337135614702154,0.6337135614702154,0.6337135614702154,0.6337135614702154,0.6337135614702154,0.6337135614702154,0.6337135614702154,0.6337135614702154,0.6337135614702154,0.6337135614702154,0.6337135614702154,0.6337135614702154,0.6337135614702154,0.6337135614702154,0.6337135614702154,0.6337135614702154,0.6337135614702154,0.6337135614702154,0.6337135614702154,0.6337135614702154,0.6337135614702154,0.6337135614702154,0.6337135614702154,0.6337135614702154,0.6337135614702154,0.6337135614702154,0.6337135614702154,0.6337135614702154,0.6337135614702154,0.6337135614702154,0.6337135614702154,0.6337135614702154,0.6337135614702154,0.6337135614702154,0.6337135614702154,0.6337135614702154,0.6337135614702154,0.6337135614702154,0.6337135614702154,0.6337135614702154,0.6337135614702154,0.6337135614702154,0.6337135614702154,0.6337135614702154,0.6337135614702154,0.6337135614702154,0.6337135614702154,0.6337135614702154,0.6337135614702154,0.6337135614702154,0.6337135614702154,0.6337135614702154,0.6337135614702154,0.6337135614702154,0.6337135614702154,0.6337135614702154,0.6337135614702154,0.6337135614702154,0.6337135614702154,0.6337135614702154,0.6337135614702154,0.6337135614702154,0.6337135614702154,0.6337135614702154,0.6337135614702154,0.6337135614702154,0.6337135614702154,0.6337135614702154,0.6337135614702154,0.6337135614702154,0.6337135614702154,0.6337135614702154,0.6337135614702154,0.6337135614702154,0.6337135614702154,0.6337135614702154,0.6337135614702154,0.6337135614702154,0.6337135614702154,0.6337135614702154,0.6337135614702154,0.6337135614702154,0.6337135614702154,0.6337135614702154,0.6337135614702154,0.6337135614702154,0.6337135614702154,0.6337135614702154,0.6337135614702154,0.6337135614702154,0.6337135614702154,0.6337135614702154,0.6337135614702154,0.6337135614702154,0.6337135614702154,0.6337135614702154,0.6337135614702154,0.6337135614702154,0.6337135614702154,0.6337135614702154,1.2674271229404308,1.2674271229404308,1.2674271229404308,1.2674271229404308,1.2674271229404308,1.2674271229404308,1.2674271229404308,1.2674271229404308,1.2674271229404308,1.2674271229404308,1.2674271229404308,1.2674271229404308,0.6337135614702154,0.6337135614702154,0.6337135614702154,0.6337135614702154,0.6337135614702154,0.6337135614702154,0.6337135614702154,0.6337135614702154,0.6337135614702154,0.6337135614702154,0.6337135614702154,0.6337135614702154,0.6337135614702154,0.6337135614702154,0.6337135614702154,0.6337135614702154,0.6337135614702154,0.6337135614702154,0.6337135614702154,0.6337135614702154,0.6337135614702154,0.6337135614702154,0.6337135614702154,0.6337135614702154,0.6337135614702154,0.6337135614702154,0.6337135614702154,0.6337135614702154,0.6337135614702154,0.6337135614702154,0.6337135614702154,0.6337135614702154,0.6337135614702154,0.6337135614702154,0.6337135614702154,0.6337135614702154,0.6337135614702154,0.6337135614702154,0.6337135614702154,0.6337135614702154,0.6337135614702154,0.6337135614702154,0.6337135614702154,0.6337135614702154,0.6337135614702154,0.6337135614702154,0.6337135614702154,0.6337135614702154,0.6337135614702154,0.6337135614702154,0.6337135614702154,0.6337135614702154,0.6337135614702154,0.6337135614702154,0.6337135614702154,0.6337135614702154,0.6337135614702154,0.6337135614702154,0.6337135614702154],\"yaxis\":\"y\"}],                        {\"legend\":{\"tracegroupgap\":0},\"template\":{\"data\":{\"bar\":[{\"error_x\":{\"color\":\"#2a3f5f\"},\"error_y\":{\"color\":\"#2a3f5f\"},\"marker\":{\"line\":{\"color\":\"#E5ECF6\",\"width\":0.5},\"pattern\":{\"fillmode\":\"overlay\",\"size\":10,\"solidity\":0.2}},\"type\":\"bar\"}],\"barpolar\":[{\"marker\":{\"line\":{\"color\":\"#E5ECF6\",\"width\":0.5},\"pattern\":{\"fillmode\":\"overlay\",\"size\":10,\"solidity\":0.2}},\"type\":\"barpolar\"}],\"carpet\":[{\"aaxis\":{\"endlinecolor\":\"#2a3f5f\",\"gridcolor\":\"white\",\"linecolor\":\"white\",\"minorgridcolor\":\"white\",\"startlinecolor\":\"#2a3f5f\"},\"baxis\":{\"endlinecolor\":\"#2a3f5f\",\"gridcolor\":\"white\",\"linecolor\":\"white\",\"minorgridcolor\":\"white\",\"startlinecolor\":\"#2a3f5f\"},\"type\":\"carpet\"}],\"choropleth\":[{\"colorbar\":{\"outlinewidth\":0,\"ticks\":\"\"},\"type\":\"choropleth\"}],\"contour\":[{\"colorbar\":{\"outlinewidth\":0,\"ticks\":\"\"},\"colorscale\":[[0.0,\"#0d0887\"],[0.1111111111111111,\"#46039f\"],[0.2222222222222222,\"#7201a8\"],[0.3333333333333333,\"#9c179e\"],[0.4444444444444444,\"#bd3786\"],[0.5555555555555556,\"#d8576b\"],[0.6666666666666666,\"#ed7953\"],[0.7777777777777778,\"#fb9f3a\"],[0.8888888888888888,\"#fdca26\"],[1.0,\"#f0f921\"]],\"type\":\"contour\"}],\"contourcarpet\":[{\"colorbar\":{\"outlinewidth\":0,\"ticks\":\"\"},\"type\":\"contourcarpet\"}],\"heatmap\":[{\"colorbar\":{\"outlinewidth\":0,\"ticks\":\"\"},\"colorscale\":[[0.0,\"#0d0887\"],[0.1111111111111111,\"#46039f\"],[0.2222222222222222,\"#7201a8\"],[0.3333333333333333,\"#9c179e\"],[0.4444444444444444,\"#bd3786\"],[0.5555555555555556,\"#d8576b\"],[0.6666666666666666,\"#ed7953\"],[0.7777777777777778,\"#fb9f3a\"],[0.8888888888888888,\"#fdca26\"],[1.0,\"#f0f921\"]],\"type\":\"heatmap\"}],\"heatmapgl\":[{\"colorbar\":{\"outlinewidth\":0,\"ticks\":\"\"},\"colorscale\":[[0.0,\"#0d0887\"],[0.1111111111111111,\"#46039f\"],[0.2222222222222222,\"#7201a8\"],[0.3333333333333333,\"#9c179e\"],[0.4444444444444444,\"#bd3786\"],[0.5555555555555556,\"#d8576b\"],[0.6666666666666666,\"#ed7953\"],[0.7777777777777778,\"#fb9f3a\"],[0.8888888888888888,\"#fdca26\"],[1.0,\"#f0f921\"]],\"type\":\"heatmapgl\"}],\"histogram\":[{\"marker\":{\"pattern\":{\"fillmode\":\"overlay\",\"size\":10,\"solidity\":0.2}},\"type\":\"histogram\"}],\"histogram2d\":[{\"colorbar\":{\"outlinewidth\":0,\"ticks\":\"\"},\"colorscale\":[[0.0,\"#0d0887\"],[0.1111111111111111,\"#46039f\"],[0.2222222222222222,\"#7201a8\"],[0.3333333333333333,\"#9c179e\"],[0.4444444444444444,\"#bd3786\"],[0.5555555555555556,\"#d8576b\"],[0.6666666666666666,\"#ed7953\"],[0.7777777777777778,\"#fb9f3a\"],[0.8888888888888888,\"#fdca26\"],[1.0,\"#f0f921\"]],\"type\":\"histogram2d\"}],\"histogram2dcontour\":[{\"colorbar\":{\"outlinewidth\":0,\"ticks\":\"\"},\"colorscale\":[[0.0,\"#0d0887\"],[0.1111111111111111,\"#46039f\"],[0.2222222222222222,\"#7201a8\"],[0.3333333333333333,\"#9c179e\"],[0.4444444444444444,\"#bd3786\"],[0.5555555555555556,\"#d8576b\"],[0.6666666666666666,\"#ed7953\"],[0.7777777777777778,\"#fb9f3a\"],[0.8888888888888888,\"#fdca26\"],[1.0,\"#f0f921\"]],\"type\":\"histogram2dcontour\"}],\"mesh3d\":[{\"colorbar\":{\"outlinewidth\":0,\"ticks\":\"\"},\"type\":\"mesh3d\"}],\"parcoords\":[{\"line\":{\"colorbar\":{\"outlinewidth\":0,\"ticks\":\"\"}},\"type\":\"parcoords\"}],\"pie\":[{\"automargin\":true,\"type\":\"pie\"}],\"scatter\":[{\"marker\":{\"colorbar\":{\"outlinewidth\":0,\"ticks\":\"\"}},\"type\":\"scatter\"}],\"scatter3d\":[{\"line\":{\"colorbar\":{\"outlinewidth\":0,\"ticks\":\"\"}},\"marker\":{\"colorbar\":{\"outlinewidth\":0,\"ticks\":\"\"}},\"type\":\"scatter3d\"}],\"scattercarpet\":[{\"marker\":{\"colorbar\":{\"outlinewidth\":0,\"ticks\":\"\"}},\"type\":\"scattercarpet\"}],\"scattergeo\":[{\"marker\":{\"colorbar\":{\"outlinewidth\":0,\"ticks\":\"\"}},\"type\":\"scattergeo\"}],\"scattergl\":[{\"marker\":{\"colorbar\":{\"outlinewidth\":0,\"ticks\":\"\"}},\"type\":\"scattergl\"}],\"scattermapbox\":[{\"marker\":{\"colorbar\":{\"outlinewidth\":0,\"ticks\":\"\"}},\"type\":\"scattermapbox\"}],\"scatterpolar\":[{\"marker\":{\"colorbar\":{\"outlinewidth\":0,\"ticks\":\"\"}},\"type\":\"scatterpolar\"}],\"scatterpolargl\":[{\"marker\":{\"colorbar\":{\"outlinewidth\":0,\"ticks\":\"\"}},\"type\":\"scatterpolargl\"}],\"scatterternary\":[{\"marker\":{\"colorbar\":{\"outlinewidth\":0,\"ticks\":\"\"}},\"type\":\"scatterternary\"}],\"surface\":[{\"colorbar\":{\"outlinewidth\":0,\"ticks\":\"\"},\"colorscale\":[[0.0,\"#0d0887\"],[0.1111111111111111,\"#46039f\"],[0.2222222222222222,\"#7201a8\"],[0.3333333333333333,\"#9c179e\"],[0.4444444444444444,\"#bd3786\"],[0.5555555555555556,\"#d8576b\"],[0.6666666666666666,\"#ed7953\"],[0.7777777777777778,\"#fb9f3a\"],[0.8888888888888888,\"#fdca26\"],[1.0,\"#f0f921\"]],\"type\":\"surface\"}],\"table\":[{\"cells\":{\"fill\":{\"color\":\"#EBF0F8\"},\"line\":{\"color\":\"white\"}},\"header\":{\"fill\":{\"color\":\"#C8D4E3\"},\"line\":{\"color\":\"white\"}},\"type\":\"table\"}]},\"layout\":{\"annotationdefaults\":{\"arrowcolor\":\"#2a3f5f\",\"arrowhead\":0,\"arrowwidth\":1},\"autotypenumbers\":\"strict\",\"coloraxis\":{\"colorbar\":{\"outlinewidth\":0,\"ticks\":\"\"}},\"colorscale\":{\"diverging\":[[0,\"#8e0152\"],[0.1,\"#c51b7d\"],[0.2,\"#de77ae\"],[0.3,\"#f1b6da\"],[0.4,\"#fde0ef\"],[0.5,\"#f7f7f7\"],[0.6,\"#e6f5d0\"],[0.7,\"#b8e186\"],[0.8,\"#7fbc41\"],[0.9,\"#4d9221\"],[1,\"#276419\"]],\"sequential\":[[0.0,\"#0d0887\"],[0.1111111111111111,\"#46039f\"],[0.2222222222222222,\"#7201a8\"],[0.3333333333333333,\"#9c179e\"],[0.4444444444444444,\"#bd3786\"],[0.5555555555555556,\"#d8576b\"],[0.6666666666666666,\"#ed7953\"],[0.7777777777777778,\"#fb9f3a\"],[0.8888888888888888,\"#fdca26\"],[1.0,\"#f0f921\"]],\"sequentialminus\":[[0.0,\"#0d0887\"],[0.1111111111111111,\"#46039f\"],[0.2222222222222222,\"#7201a8\"],[0.3333333333333333,\"#9c179e\"],[0.4444444444444444,\"#bd3786\"],[0.5555555555555556,\"#d8576b\"],[0.6666666666666666,\"#ed7953\"],[0.7777777777777778,\"#fb9f3a\"],[0.8888888888888888,\"#fdca26\"],[1.0,\"#f0f921\"]]},\"colorway\":[\"#636efa\",\"#EF553B\",\"#00cc96\",\"#ab63fa\",\"#FFA15A\",\"#19d3f3\",\"#FF6692\",\"#B6E880\",\"#FF97FF\",\"#FECB52\"],\"font\":{\"color\":\"#2a3f5f\"},\"geo\":{\"bgcolor\":\"white\",\"lakecolor\":\"white\",\"landcolor\":\"#E5ECF6\",\"showlakes\":true,\"showland\":true,\"subunitcolor\":\"white\"},\"hoverlabel\":{\"align\":\"left\"},\"hovermode\":\"closest\",\"mapbox\":{\"style\":\"light\"},\"paper_bgcolor\":\"white\",\"plot_bgcolor\":\"#E5ECF6\",\"polar\":{\"angularaxis\":{\"gridcolor\":\"white\",\"linecolor\":\"white\",\"ticks\":\"\"},\"bgcolor\":\"#E5ECF6\",\"radialaxis\":{\"gridcolor\":\"white\",\"linecolor\":\"white\",\"ticks\":\"\"}},\"scene\":{\"xaxis\":{\"backgroundcolor\":\"#E5ECF6\",\"gridcolor\":\"white\",\"gridwidth\":2,\"linecolor\":\"white\",\"showbackground\":true,\"ticks\":\"\",\"zerolinecolor\":\"white\"},\"yaxis\":{\"backgroundcolor\":\"#E5ECF6\",\"gridcolor\":\"white\",\"gridwidth\":2,\"linecolor\":\"white\",\"showbackground\":true,\"ticks\":\"\",\"zerolinecolor\":\"white\"},\"zaxis\":{\"backgroundcolor\":\"#E5ECF6\",\"gridcolor\":\"white\",\"gridwidth\":2,\"linecolor\":\"white\",\"showbackground\":true,\"ticks\":\"\",\"zerolinecolor\":\"white\"}},\"shapedefaults\":{\"line\":{\"color\":\"#2a3f5f\"}},\"ternary\":{\"aaxis\":{\"gridcolor\":\"white\",\"linecolor\":\"white\",\"ticks\":\"\"},\"baxis\":{\"gridcolor\":\"white\",\"linecolor\":\"white\",\"ticks\":\"\"},\"bgcolor\":\"#E5ECF6\",\"caxis\":{\"gridcolor\":\"white\",\"linecolor\":\"white\",\"ticks\":\"\"}},\"title\":{\"x\":0.05},\"xaxis\":{\"automargin\":true,\"gridcolor\":\"white\",\"linecolor\":\"white\",\"ticks\":\"\",\"title\":{\"standoff\":15},\"zerolinecolor\":\"white\",\"zerolinewidth\":2},\"yaxis\":{\"automargin\":true,\"gridcolor\":\"white\",\"linecolor\":\"white\",\"ticks\":\"\",\"title\":{\"standoff\":15},\"zerolinecolor\":\"white\",\"zerolinewidth\":2}}},\"title\":{\"text\":\"Density : target04_3\"},\"xaxis\":{\"anchor\":\"y\",\"domain\":[0.0,1.0],\"title\":{\"text\":\"FrameID\"}},\"yaxis\":{\"anchor\":\"x\",\"domain\":[0.0,1.0],\"title\":{\"text\":\"density\"}}},                        {\"responsive\": true}                    ).then(function(){\n",
       "                            \n",
       "var gd = document.getElementById('a01fc41a-63b6-4576-9b8a-63ee08b336bd');\n",
       "var x = new MutationObserver(function (mutations, observer) {{\n",
       "        var display = window.getComputedStyle(gd).display;\n",
       "        if (!display || display === 'none') {{\n",
       "            console.log([gd, 'removed!']);\n",
       "            Plotly.purge(gd);\n",
       "            observer.disconnect();\n",
       "        }}\n",
       "}});\n",
       "\n",
       "// Listen for the removal of the full notebook cells\n",
       "var notebookContainer = gd.closest('#notebook-container');\n",
       "if (notebookContainer) {{\n",
       "    x.observe(notebookContainer, {childList: true});\n",
       "}}\n",
       "\n",
       "// Listen for the clearing of the current output cell\n",
       "var outputEl = gd.closest('.output');\n",
       "if (outputEl) {{\n",
       "    x.observe(outputEl, {childList: true});\n",
       "}}\n",
       "\n",
       "                        })                };                });            </script>        </div>"
      ]
     },
     "metadata": {},
     "output_type": "display_data"
    }
   ],
   "source": [
    "fig.show()"
   ]
  },
  {
   "cell_type": "code",
   "execution_count": null,
   "id": "67d54c01-04a0-4a18-b1fd-1383cde9585b",
   "metadata": {},
   "outputs": [],
   "source": []
  }
 ],
 "metadata": {
  "kernelspec": {
   "display_name": "Python 3",
   "language": "python",
   "name": "python3"
  },
  "language_info": {
   "codemirror_mode": {
    "name": "ipython",
    "version": 3
   },
   "file_extension": ".py",
   "mimetype": "text/x-python",
   "name": "python",
   "nbconvert_exporter": "python",
   "pygments_lexer": "ipython3",
   "version": "3.8.8"
  }
 },
 "nbformat": 4,
 "nbformat_minor": 5
}
