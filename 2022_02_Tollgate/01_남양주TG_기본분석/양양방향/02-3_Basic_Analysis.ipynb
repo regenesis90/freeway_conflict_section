{
 "cells": [
  {
   "cell_type": "markdown",
   "metadata": {},
   "source": [
    "# Analysis- Basic\n",
    "* 고속도로 기본구간(1번 영상) 분석"
   ]
  },
  {
   "cell_type": "markdown",
   "metadata": {},
   "source": [
    "# Imports"
   ]
  },
  {
   "cell_type": "code",
   "execution_count": 1,
   "metadata": {
    "execution": {
     "iopub.execute_input": "2022-08-24T00:32:06.596880Z",
     "iopub.status.busy": "2022-08-24T00:32:06.596880Z",
     "iopub.status.idle": "2022-08-24T00:32:07.672209Z",
     "shell.execute_reply": "2022-08-24T00:32:07.672209Z",
     "shell.execute_reply.started": "2022-08-24T00:32:06.596880Z"
    },
    "tags": []
   },
   "outputs": [],
   "source": [
    "import pandas as pd\n",
    "import numpy as np\n",
    "\n",
    "import os\n",
    "import warnings\n",
    "from tqdm import tqdm\n",
    "\n",
    "from plotly.subplots import make_subplots\n",
    "import plotly.express as px\n",
    "import plotly.graph_objects as go\n",
    "import plotly.io as po\n",
    "\n",
    "import statistics\n",
    "import math"
   ]
  },
  {
   "cell_type": "markdown",
   "metadata": {},
   "source": [
    "# Analysis\n",
    "* `01_denstiy_by_target_LOS_concated`의 파일을 불러오기\n",
    "* 필요한 분석 데이터들을 추출하여 각각의 파일로 저장하기"
   ]
  },
  {
   "cell_type": "markdown",
   "metadata": {},
   "source": [
    "## Load Dataset"
   ]
  },
  {
   "cell_type": "markdown",
   "metadata": {},
   "source": [
    "### 궤적 데이터"
   ]
  },
  {
   "cell_type": "code",
   "execution_count": 2,
   "metadata": {
    "execution": {
     "iopub.execute_input": "2022-08-24T00:32:07.673714Z",
     "iopub.status.busy": "2022-08-24T00:32:07.673714Z",
     "iopub.status.idle": "2022-08-24T00:32:07.689018Z",
     "shell.execute_reply": "2022-08-24T00:32:07.688018Z",
     "shell.execute_reply.started": "2022-08-24T00:32:07.673714Z"
    },
    "tags": []
   },
   "outputs": [],
   "source": [
    "folder_dir = 'D:/OneDrive - 연세대학교 (Yonsei University)/Projects/Yonsei_TELab/003_도로상충_210517-/2차년도_2022/27_남양주영업소_드론영상분석/양양방향'"
   ]
  },
  {
   "cell_type": "code",
   "execution_count": 3,
   "metadata": {
    "execution": {
     "iopub.execute_input": "2022-08-24T00:32:07.691013Z",
     "iopub.status.busy": "2022-08-24T00:32:07.691013Z",
     "iopub.status.idle": "2022-08-24T00:32:07.704019Z",
     "shell.execute_reply": "2022-08-24T00:32:07.703516Z",
     "shell.execute_reply.started": "2022-08-24T00:32:07.691013Z"
    },
    "tags": []
   },
   "outputs": [],
   "source": [
    "folder_name = '01_denstiy_by_target_LOS_concated'\n",
    "\n",
    "file_dir = os.path.join(folder_dir, folder_name)"
   ]
  },
  {
   "cell_type": "code",
   "execution_count": 4,
   "metadata": {
    "execution": {
     "iopub.execute_input": "2022-08-24T00:32:07.705507Z",
     "iopub.status.busy": "2022-08-24T00:32:07.705507Z",
     "iopub.status.idle": "2022-08-24T00:32:07.719649Z",
     "shell.execute_reply": "2022-08-24T00:32:07.718652Z",
     "shell.execute_reply.started": "2022-08-24T00:32:07.705507Z"
    },
    "tags": []
   },
   "outputs": [
    {
     "data": {
      "text/plain": [
       "['01_1_A.csv', '02_1_A.csv', '03_1_A.csv']"
      ]
     },
     "execution_count": 4,
     "metadata": {},
     "output_type": "execute_result"
    }
   ],
   "source": [
    "file_list = os.listdir(file_dir)\n",
    "file_list[0:3]"
   ]
  },
  {
   "cell_type": "code",
   "execution_count": 5,
   "metadata": {
    "execution": {
     "iopub.execute_input": "2022-08-24T00:32:07.720647Z",
     "iopub.status.busy": "2022-08-24T00:32:07.720647Z",
     "iopub.status.idle": "2022-08-24T00:32:07.921918Z",
     "shell.execute_reply": "2022-08-24T00:32:07.920921Z",
     "shell.execute_reply.started": "2022-08-24T00:32:07.720647Z"
    },
    "tags": []
   },
   "outputs": [],
   "source": [
    "df_list = []\n",
    "num_LOS_list = []\n",
    "\n",
    "for file in file_list:\n",
    "    num_LOS = file[0:6] # 파일명으로부터 01_2_C 형식의 대상지 번호와 LOS 추출\n",
    "    \n",
    "    file_path = os.path.join(file_dir, file)\n",
    "    \n",
    "    globals()[f'target{num_LOS}'] = pd.read_csv(file_path, encoding = 'cp949')\n",
    "    \n",
    "    globals()[f'target{num_LOS}']['Lane Identification'] = globals()[f'target{num_LOS}']['Lane Identification'].fillna('UNKNOWN')\n",
    "    \n",
    "    df_list.append(globals()[f'target{num_LOS}'])\n",
    "    num_LOS_list.append(num_LOS)"
   ]
  },
  {
   "cell_type": "code",
   "execution_count": 6,
   "metadata": {
    "execution": {
     "iopub.execute_input": "2022-08-24T00:32:07.921918Z",
     "iopub.status.busy": "2022-08-24T00:32:07.921918Z",
     "iopub.status.idle": "2022-08-24T00:32:07.952268Z",
     "shell.execute_reply": "2022-08-24T00:32:07.951271Z",
     "shell.execute_reply.started": "2022-08-24T00:32:07.921918Z"
    },
    "tags": []
   },
   "outputs": [
    {
     "data": {
      "text/html": [
       "<div>\n",
       "<style scoped>\n",
       "    .dataframe tbody tr th:only-of-type {\n",
       "        vertical-align: middle;\n",
       "    }\n",
       "\n",
       "    .dataframe tbody tr th {\n",
       "        vertical-align: top;\n",
       "    }\n",
       "\n",
       "    .dataframe thead th {\n",
       "        text-align: right;\n",
       "    }\n",
       "</style>\n",
       "<table border=\"1\" class=\"dataframe\">\n",
       "  <thead>\n",
       "    <tr style=\"text-align: right;\">\n",
       "      <th></th>\n",
       "      <th>Unnamed: 0</th>\n",
       "      <th>Unnamed: 0.1</th>\n",
       "      <th>Unnamed: 0.1.1</th>\n",
       "      <th>Unnamed: 0.1.1.1</th>\n",
       "      <th>Vehicle ID</th>\n",
       "      <th>Frame ID</th>\n",
       "      <th>Total Frames</th>\n",
       "      <th>Global Time (Epoch Time)</th>\n",
       "      <th>Local X (m)</th>\n",
       "      <th>Local Y(m)</th>\n",
       "      <th>...</th>\n",
       "      <th>Vehicle Acceleration</th>\n",
       "      <th>Lane Identification</th>\n",
       "      <th>Preceding Vehicle</th>\n",
       "      <th>Following Vehicle</th>\n",
       "      <th>Spacing Headway</th>\n",
       "      <th>Time Headway</th>\n",
       "      <th>Bad Object</th>\n",
       "      <th>Special Car</th>\n",
       "      <th>Lane Class</th>\n",
       "      <th>Vehicle Movement</th>\n",
       "    </tr>\n",
       "  </thead>\n",
       "  <tbody>\n",
       "    <tr>\n",
       "      <th>0</th>\n",
       "      <td>0</td>\n",
       "      <td>0</td>\n",
       "      <td>0</td>\n",
       "      <td>0</td>\n",
       "      <td>8</td>\n",
       "      <td>405</td>\n",
       "      <td>70</td>\n",
       "      <td>46813500</td>\n",
       "      <td>27.514168</td>\n",
       "      <td>88.449409</td>\n",
       "      <td>...</td>\n",
       "      <td>0.344995</td>\n",
       "      <td>U1</td>\n",
       "      <td>0</td>\n",
       "      <td>0</td>\n",
       "      <td>0.0</td>\n",
       "      <td>0.0</td>\n",
       "      <td>0</td>\n",
       "      <td>0</td>\n",
       "      <td>상행본선</td>\n",
       "      <td>3.633314</td>\n",
       "    </tr>\n",
       "    <tr>\n",
       "      <th>1</th>\n",
       "      <td>1</td>\n",
       "      <td>1</td>\n",
       "      <td>1</td>\n",
       "      <td>1</td>\n",
       "      <td>8</td>\n",
       "      <td>420</td>\n",
       "      <td>85</td>\n",
       "      <td>46814000</td>\n",
       "      <td>31.179226</td>\n",
       "      <td>88.560188</td>\n",
       "      <td>...</td>\n",
       "      <td>0.133670</td>\n",
       "      <td>U1</td>\n",
       "      <td>0</td>\n",
       "      <td>0</td>\n",
       "      <td>0.0</td>\n",
       "      <td>0.0</td>\n",
       "      <td>0</td>\n",
       "      <td>0</td>\n",
       "      <td>상행본선</td>\n",
       "      <td>3.666732</td>\n",
       "    </tr>\n",
       "    <tr>\n",
       "      <th>2</th>\n",
       "      <td>2</td>\n",
       "      <td>2</td>\n",
       "      <td>2</td>\n",
       "      <td>2</td>\n",
       "      <td>8</td>\n",
       "      <td>435</td>\n",
       "      <td>100</td>\n",
       "      <td>46814500</td>\n",
       "      <td>34.737656</td>\n",
       "      <td>88.597923</td>\n",
       "      <td>...</td>\n",
       "      <td>-0.432409</td>\n",
       "      <td>U1</td>\n",
       "      <td>0</td>\n",
       "      <td>0</td>\n",
       "      <td>0.0</td>\n",
       "      <td>0.0</td>\n",
       "      <td>0</td>\n",
       "      <td>0</td>\n",
       "      <td>상행본선</td>\n",
       "      <td>3.558630</td>\n",
       "    </tr>\n",
       "  </tbody>\n",
       "</table>\n",
       "<p>3 rows × 24 columns</p>\n",
       "</div>"
      ],
      "text/plain": [
       "   Unnamed: 0  Unnamed: 0.1  Unnamed: 0.1.1  Unnamed: 0.1.1.1  Vehicle ID  \\\n",
       "0           0             0               0                 0           8   \n",
       "1           1             1               1                 1           8   \n",
       "2           2             2               2                 2           8   \n",
       "\n",
       "   Frame ID  Total Frames  Global Time (Epoch Time)  Local X (m)  Local Y(m)  \\\n",
       "0       405            70                  46813500    27.514168   88.449409   \n",
       "1       420            85                  46814000    31.179226   88.560188   \n",
       "2       435           100                  46814500    34.737656   88.597923   \n",
       "\n",
       "   ...  Vehicle Acceleration  Lane Identification  Preceding Vehicle  \\\n",
       "0  ...              0.344995                   U1                  0   \n",
       "1  ...              0.133670                   U1                  0   \n",
       "2  ...             -0.432409                   U1                  0   \n",
       "\n",
       "   Following Vehicle  Spacing Headway Time Headway  Bad Object  Special Car  \\\n",
       "0                  0              0.0          0.0           0            0   \n",
       "1                  0              0.0          0.0           0            0   \n",
       "2                  0              0.0          0.0           0            0   \n",
       "\n",
       "   Lane Class  Vehicle Movement  \n",
       "0        상행본선          3.633314  \n",
       "1        상행본선          3.666732  \n",
       "2        상행본선          3.558630  \n",
       "\n",
       "[3 rows x 24 columns]"
      ]
     },
     "execution_count": 6,
     "metadata": {},
     "output_type": "execute_result"
    }
   ],
   "source": [
    "df_list[0].head(3)"
   ]
  },
  {
   "cell_type": "markdown",
   "metadata": {},
   "source": [
    "### Load tmsec info\n",
    "* 총 관측시간 데이터 로드"
   ]
  },
  {
   "cell_type": "code",
   "execution_count": 7,
   "metadata": {
    "execution": {
     "iopub.execute_input": "2022-08-24T00:32:07.952268Z",
     "iopub.status.busy": "2022-08-24T00:32:07.952268Z",
     "iopub.status.idle": "2022-08-24T00:32:07.968297Z",
     "shell.execute_reply": "2022-08-24T00:32:07.967299Z",
     "shell.execute_reply.started": "2022-08-24T00:32:07.952268Z"
    },
    "tags": []
   },
   "outputs": [],
   "source": [
    "tmsec_info = pd.read_csv('tmsec_A_MH.csv') # 대상지별, LOS별 동영상 지속시간(tmsec) 정보 불러오기"
   ]
  },
  {
   "cell_type": "code",
   "execution_count": 8,
   "metadata": {
    "execution": {
     "iopub.execute_input": "2022-08-24T00:32:07.969295Z",
     "iopub.status.busy": "2022-08-24T00:32:07.969295Z",
     "iopub.status.idle": "2022-08-24T00:32:07.984529Z",
     "shell.execute_reply": "2022-08-24T00:32:07.983529Z",
     "shell.execute_reply.started": "2022-08-24T00:32:07.969295Z"
    },
    "tags": []
   },
   "outputs": [
    {
     "data": {
      "text/html": [
       "<div>\n",
       "<style scoped>\n",
       "    .dataframe tbody tr th:only-of-type {\n",
       "        vertical-align: middle;\n",
       "    }\n",
       "\n",
       "    .dataframe tbody tr th {\n",
       "        vertical-align: top;\n",
       "    }\n",
       "\n",
       "    .dataframe thead th {\n",
       "        text-align: right;\n",
       "    }\n",
       "</style>\n",
       "<table border=\"1\" class=\"dataframe\">\n",
       "  <thead>\n",
       "    <tr style=\"text-align: right;\">\n",
       "      <th></th>\n",
       "      <th>Unnamed: 0</th>\n",
       "      <th>num</th>\n",
       "      <th>LOS</th>\n",
       "      <th>tmsec</th>\n",
       "    </tr>\n",
       "  </thead>\n",
       "  <tbody>\n",
       "    <tr>\n",
       "      <th>0</th>\n",
       "      <td>0</td>\n",
       "      <td>01_1</td>\n",
       "      <td>A</td>\n",
       "      <td>9999.9</td>\n",
       "    </tr>\n",
       "    <tr>\n",
       "      <th>1</th>\n",
       "      <td>1</td>\n",
       "      <td>02_1</td>\n",
       "      <td>A</td>\n",
       "      <td>9999.9</td>\n",
       "    </tr>\n",
       "    <tr>\n",
       "      <th>2</th>\n",
       "      <td>2</td>\n",
       "      <td>03_1</td>\n",
       "      <td>A</td>\n",
       "      <td>9999.9</td>\n",
       "    </tr>\n",
       "    <tr>\n",
       "      <th>3</th>\n",
       "      <td>3</td>\n",
       "      <td>04_1</td>\n",
       "      <td>A</td>\n",
       "      <td>16666.5</td>\n",
       "    </tr>\n",
       "    <tr>\n",
       "      <th>4</th>\n",
       "      <td>4</td>\n",
       "      <td>04_2</td>\n",
       "      <td>A</td>\n",
       "      <td>16666.5</td>\n",
       "    </tr>\n",
       "  </tbody>\n",
       "</table>\n",
       "</div>"
      ],
      "text/plain": [
       "   Unnamed: 0   num LOS    tmsec\n",
       "0           0  01_1   A   9999.9\n",
       "1           1  02_1   A   9999.9\n",
       "2           2  03_1   A   9999.9\n",
       "3           3  04_1   A  16666.5\n",
       "4           4  04_2   A  16666.5"
      ]
     },
     "execution_count": 8,
     "metadata": {},
     "output_type": "execute_result"
    }
   ],
   "source": [
    "tmsec_info.head()"
   ]
  },
  {
   "cell_type": "markdown",
   "metadata": {},
   "source": [
    "## 평균 속도 정보\n",
    "1. 차량(Vehicle ID)별 누적 이동거리(%) 구하기\n",
    "2. 전체 길이를 일정 간격의 구간으로 나누기\n",
    "3. 차선별, 일정 구간별(누적길이%) 속도 히트맵 그리기"
   ]
  },
  {
   "cell_type": "markdown",
   "metadata": {},
   "source": [
    "### 교통류율, 전체 공간평균속도(SMS)\n",
    "* 차선별 총 교통량\n",
    "| lane | flowrate | SMS |\n",
    "|------|--------|-----|\n",
    "| U1   | 200    | 80  |\n",
    "| U2   | 300    | 90  |\n",
    "| U3   | 100    | 80  |"
   ]
  },
  {
   "cell_type": "markdown",
   "metadata": {},
   "source": [
    "### 필요 함수 정의\n",
    "* 공간평균속도는 조화평균(harmonic_mean)을 사용해 구함\n",
    "* 조화평균함수는 `statistics.harmonic_mean()`을 이용할 수 있음"
   ]
  },
  {
   "cell_type": "code",
   "execution_count": 9,
   "metadata": {
    "execution": {
     "iopub.execute_input": "2022-08-24T00:32:07.989942Z",
     "iopub.status.busy": "2022-08-24T00:32:07.988943Z",
     "iopub.status.idle": "2022-08-24T00:32:08.001479Z",
     "shell.execute_reply": "2022-08-24T00:32:07.999485Z",
     "shell.execute_reply.started": "2022-08-24T00:32:07.989942Z"
    },
    "tags": []
   },
   "outputs": [],
   "source": [
    "# 조화평균 함수\n",
    "harmonic = lambda x: statistics.harmonic_mean(list(x))\n",
    "harmonic .__name__ = 'harmonic'"
   ]
  },
  {
   "cell_type": "code",
   "execution_count": 10,
   "metadata": {
    "execution": {
     "iopub.execute_input": "2022-08-24T00:32:08.003475Z",
     "iopub.status.busy": "2022-08-24T00:32:08.002477Z",
     "iopub.status.idle": "2022-08-24T00:32:08.015689Z",
     "shell.execute_reply": "2022-08-24T00:32:08.014689Z",
     "shell.execute_reply.started": "2022-08-24T00:32:08.003475Z"
    },
    "tags": []
   },
   "outputs": [],
   "source": [
    "# 고유값 개수 산정 함수(유니크)\n",
    "unq = lambda x: len(x.unique())\n",
    "unq .__name__ = 'unq'"
   ]
  },
  {
   "cell_type": "code",
   "execution_count": 11,
   "metadata": {
    "execution": {
     "iopub.execute_input": "2022-08-24T00:32:08.016686Z",
     "iopub.status.busy": "2022-08-24T00:32:08.015689Z",
     "iopub.status.idle": "2022-08-24T00:32:08.030805Z",
     "shell.execute_reply": "2022-08-24T00:32:08.029807Z",
     "shell.execute_reply.started": "2022-08-24T00:32:08.016686Z"
    },
    "tags": []
   },
   "outputs": [],
   "source": [
    "def LOS_expwy_basic(x:int):\n",
    "    \"\"\"밀도를 바탕으로 LOS를 판정해 주는 함수 :: 고속도로 기본구간 기준\"\"\"\n",
    "    \n",
    "    if x >= 0 and x <= 6:\n",
    "        return 'A'\n",
    "    elif x > 6 and x <= 10:\n",
    "        return 'B'\n",
    "    elif x > 10 and x <= 14:\n",
    "        return 'C'\n",
    "    elif x > 14 and x <= 19:\n",
    "        return 'D'\n",
    "    elif x > 19 and x <= 28:\n",
    "        return 'E'\n",
    "    elif x > 28:\n",
    "        return 'F'\n",
    "    \n",
    "    else:\n",
    "        pass"
   ]
  },
  {
   "cell_type": "markdown",
   "metadata": {},
   "source": [
    "### 전체 차량대수, 공간평균속도, 교통류율 산정 후 저장\n",
    "* 각 대상지별/LOS별 전체 차량대수, 공간평균속도(SMS), 교통류율 구하여 저장하기\n",
    "* `harmonic` 함수 사용 : `harmonic(target1_1_A['Vehicle Velocity(km/h)'])` <- 이런 식으로 쓸 수 있다"
   ]
  },
  {
   "cell_type": "code",
   "execution_count": 12,
   "metadata": {
    "execution": {
     "iopub.execute_input": "2022-08-24T00:32:08.030805Z",
     "iopub.status.busy": "2022-08-24T00:32:08.030805Z",
     "iopub.status.idle": "2022-08-24T00:32:08.046003Z",
     "shell.execute_reply": "2022-08-24T00:32:08.045008Z",
     "shell.execute_reply.started": "2022-08-24T00:32:08.030805Z"
    },
    "tags": []
   },
   "outputs": [
    {
     "data": {
      "text/plain": [
       "Index(['Unnamed: 0', 'Unnamed: 0.1', 'Unnamed: 0.1.1', 'Unnamed: 0.1.1.1',\n",
       "       'Vehicle ID', 'Frame ID', 'Total Frames', 'Global Time (Epoch Time)',\n",
       "       'Local X (m)', 'Local Y(m)', 'Vehicle Length', 'Vehicle Width',\n",
       "       'Vehicle Class', 'Vehicle Velocity(km/h)', 'Vehicle Acceleration',\n",
       "       'Lane Identification', 'Preceding Vehicle', 'Following Vehicle',\n",
       "       'Spacing Headway', 'Time Headway', 'Bad Object', 'Special Car',\n",
       "       'Lane Class', 'Vehicle Movement'],\n",
       "      dtype='object')"
      ]
     },
     "execution_count": 12,
     "metadata": {},
     "output_type": "execute_result"
    }
   ],
   "source": [
    "df_list[0].columns"
   ]
  },
  {
   "cell_type": "code",
   "execution_count": 13,
   "metadata": {
    "execution": {
     "iopub.execute_input": "2022-08-24T00:32:08.048994Z",
     "iopub.status.busy": "2022-08-24T00:32:08.048994Z",
     "iopub.status.idle": "2022-08-24T00:32:08.064650Z",
     "shell.execute_reply": "2022-08-24T00:32:08.061093Z",
     "shell.execute_reply.started": "2022-08-24T00:32:08.048994Z"
    },
    "tags": []
   },
   "outputs": [],
   "source": [
    "folder_name = '02-0_total_volume_speed'\n",
    "\n",
    "save_TTL_dir = os.path.join(folder_dir, folder_name)\n",
    "\n",
    "os.makedirs(save_TTL_dir, exist_ok = True) # 해당 경로가 없을 시 폴더 생성, 존재할 경우 건너뛰기"
   ]
  },
  {
   "cell_type": "code",
   "execution_count": 14,
   "metadata": {
    "execution": {
     "iopub.execute_input": "2022-08-24T00:32:08.066656Z",
     "iopub.status.busy": "2022-08-24T00:32:08.065654Z",
     "iopub.status.idle": "2022-08-24T00:32:08.483698Z",
     "shell.execute_reply": "2022-08-24T00:32:08.483698Z",
     "shell.execute_reply.started": "2022-08-24T00:32:08.066656Z"
    },
    "tags": []
   },
   "outputs": [
    {
     "name": "stderr",
     "output_type": "stream",
     "text": [
      "5it [00:00, 12.60it/s]\n"
     ]
    }
   ],
   "source": [
    "for df, num_LOS in tqdm(zip(df_list, num_LOS_list)):\n",
    "    \n",
    "    if len(df) > 0:\n",
    "    \n",
    "        total_veh = len(df['Vehicle ID'].unique()) # 총 차량대수\n",
    "        total_SMS = harmonic(df['Vehicle Velocity(km/h)']) #차량의 공간평균속도(SMS)\n",
    "    \n",
    "        tmsec = tmsec_info[(tmsec_info['num'] == num_LOS[0:4]) & (tmsec_info['LOS'] == num_LOS[-1])]['tmsec'].iloc[0] # 해당 대상지, 해당 LOS 총관측시간 추출\n",
    "    \n",
    "        # 프레임 당 차량밀도의 전체평균 구하기\n",
    "        total_pv = pd.pivot_table(df, index = 'Frame ID', values = 'Vehicle ID', aggfunc = {'Vehicle ID': unq}).reset_index()\n",
    "        veh_by_frame = total_pv['Vehicle ID'].mean() #전체 프레임에 대한 평균이므로 mean을 사용한 것임\n",
    "\n",
    "        # 전체 평균 교통류율(flowrate, vph) 구하기\n",
    "        total_flowrate = total_veh/tmsec * 3600 # tmsec은 초 단위이므로, 시(h, 3600s) 단위로 변경해야 하기 때문임\n",
    "    \n",
    "        total_df = pd.DataFrame(data = {'Total Vehicle Count(veh)': [total_veh],\n",
    "                                        'Average SMS(km/h)': [total_SMS],\n",
    "                                        'Average Flowrate(vph)': [total_flowrate],\n",
    "                                        'Average Vehicle by Frame(veh/frameID)':[veh_by_frame],\n",
    "                                        'Average LOS' : num_LOS[-1],\n",
    "                                        'Total Observation Time(s)': [tmsec]})\n",
    "    \n",
    "        save_TTL_file = f'total_volume_SMS_{num_LOS}.csv'\n",
    "        save_TTL_path = os.path.join(save_TTL_dir, save_TTL_file)\n",
    "    \n",
    "        total_df.to_csv(save_TTL_path, encoding = 'cp949')\n",
    "    \n",
    "    else:\n",
    "        pass"
   ]
  },
  {
   "cell_type": "markdown",
   "metadata": {},
   "source": [
    "## 차선별 속도 정보"
   ]
  },
  {
   "cell_type": "markdown",
   "metadata": {},
   "source": [
    "### 차선변경 여부 표시 파생변수 생성 및 저장"
   ]
  },
  {
   "cell_type": "code",
   "execution_count": 15,
   "metadata": {
    "execution": {
     "iopub.execute_input": "2022-08-24T00:32:08.484696Z",
     "iopub.status.busy": "2022-08-24T00:32:08.484696Z",
     "iopub.status.idle": "2022-08-24T00:32:08.499845Z",
     "shell.execute_reply": "2022-08-24T00:32:08.498848Z",
     "shell.execute_reply.started": "2022-08-24T00:32:08.484696Z"
    },
    "tags": []
   },
   "outputs": [
    {
     "data": {
      "text/plain": [
       "Index(['Unnamed: 0', 'Unnamed: 0.1', 'Unnamed: 0.1.1', 'Unnamed: 0.1.1.1',\n",
       "       'Vehicle ID', 'Frame ID', 'Total Frames', 'Global Time (Epoch Time)',\n",
       "       'Local X (m)', 'Local Y(m)', 'Vehicle Length', 'Vehicle Width',\n",
       "       'Vehicle Class', 'Vehicle Velocity(km/h)', 'Vehicle Acceleration',\n",
       "       'Lane Identification', 'Preceding Vehicle', 'Following Vehicle',\n",
       "       'Spacing Headway', 'Time Headway', 'Bad Object', 'Special Car',\n",
       "       'Lane Class', 'Vehicle Movement'],\n",
       "      dtype='object')"
      ]
     },
     "execution_count": 15,
     "metadata": {},
     "output_type": "execute_result"
    }
   ],
   "source": [
    "df.columns"
   ]
  },
  {
   "cell_type": "code",
   "execution_count": 16,
   "metadata": {
    "execution": {
     "iopub.execute_input": "2022-08-24T00:32:08.500843Z",
     "iopub.status.busy": "2022-08-24T00:32:08.499845Z",
     "iopub.status.idle": "2022-08-24T00:32:08.514940Z",
     "shell.execute_reply": "2022-08-24T00:32:08.513941Z",
     "shell.execute_reply.started": "2022-08-24T00:32:08.500843Z"
    },
    "tags": []
   },
   "outputs": [],
   "source": [
    "folder_name = '01_density_by_target_LOS_concated_lanechange'\n",
    "\n",
    "save_Lanechange_dir = os.path.join(folder_dir, folder_name)\n",
    "\n",
    "os.makedirs(save_Lanechange_dir, exist_ok = True) # 해당 경로가 없을 시 폴더 생성, 존재할 경우 건너뛰기"
   ]
  },
  {
   "cell_type": "code",
   "execution_count": 17,
   "metadata": {
    "execution": {
     "iopub.execute_input": "2022-08-24T00:32:08.515943Z",
     "iopub.status.busy": "2022-08-24T00:32:08.515943Z",
     "iopub.status.idle": "2022-08-24T00:36:28.764446Z",
     "shell.execute_reply": "2022-08-24T00:36:28.764446Z",
     "shell.execute_reply.started": "2022-08-24T00:32:08.515943Z"
    },
    "tags": []
   },
   "outputs": [
    {
     "name": "stderr",
     "output_type": "stream",
     "text": [
      "5it [04:20, 52.05s/it] \n"
     ]
    }
   ],
   "source": [
    "warnings.filterwarnings(action = 'ignore') # pandas 경고메시지 숨기기\n",
    "\n",
    "for df, num_LOS in tqdm(zip(df_list, num_LOS_list)):\n",
    "\n",
    "    df['Lane_record'] = None # 차량의 차로변경기록\n",
    "    df['Lane_00'] = None # 차량의 첫 차로\n",
    "    df['Lane_99'] = None # 차량의 마지막 차로\n",
    "    df['Lane_change'] = None # 차량이 차로변경을 했을 시 'Change' 기록\n",
    "    \n",
    "    if len(df) > 0:\n",
    "\n",
    "        veh_list = df['Vehicle ID'].unique() # 차량 리스트 뽑기\n",
    "    \n",
    "        df = df.sort_values(by = 'Frame ID') # 데이터프레임을 Frame ID에 따라서 오름차순 정렬\n",
    "    \n",
    "        for veh in veh_list: # 각 차량별로\n",
    "            Lane_00 = df[df['Vehicle ID'] == veh]['Lane Identification'].iloc[0] # 차량이 처음 진행하던 차로\n",
    "            Lane_99 = df[df['Vehicle ID'] == veh]['Lane Identification'].iloc[-1] # 차량이 마지막 진행하던 차로\n",
    "        \n",
    "            veh_frame_list = df[df['Vehicle ID'] == veh]['Frame ID'].unique() # 해당 차량이 주행하는 동안의 프레임 리스트\n",
    "        \n",
    "            Lane_past = Lane_00 # Lane_past(각 차량 현재차로)를 초기화\n",
    "            Lane_record = Lane_00 # 차로변경기록 초기화\n",
    "            Lane_present = Lane_00 # 현재차로 초기화\n",
    "        \n",
    "            for frm in veh_frame_list : # 각 차량의 각 프레임별로\n",
    "            \n",
    "                Lane_past = Lane_present # iteration 돌기 전의 현재차로가 과거차로로 할당\n",
    "            \n",
    "                Lane_present = df[(df['Vehicle ID'] == veh) & (df['Frame ID'] == frm)]['Lane Identification'].iloc[0] # 현재 차량이 속한 차로를 할당\n",
    "            \n",
    "                if Lane_past == Lane_present: # 현재차로와 직전차로가 같으면 아무 문제 없음\n",
    "                    pass\n",
    "            \n",
    "                else: # 현재차로와 직전 차로가 다를 시\n",
    "                    idx = df[(df['Vehicle ID'] == veh) & (df['Frame ID'] == frm)]['Lane_change'].index[0] # 차로변경된 행의 인덱스\n",
    "                    df.at[idx, 'Lane_change'] = 'Change' # 차로변경되자마자 셀에 'Change' 표시\n",
    "                    Lane_record = str(Lane_record) + '_' + str(Lane_present)\n",
    "               \n",
    "            df.loc[df['Vehicle ID'] == veh, 'Lane_00'] = Lane_00 # 차량별 초기 차로번호\n",
    "            df.loc[df['Vehicle ID'] == veh, 'Lane_99'] = Lane_99 # 차량별 마지막 차로번호\n",
    "            df.loc[df['Vehicle ID'] == veh, 'Lane_record'] = Lane_record # 차량별 차로변경 기록 입력\n",
    "            \n",
    "            save_Lanechange_name = num_LOS + '.csv'\n",
    "            save_Lanechange_path = os.path.join(save_Lanechange_dir, save_Lanechange_name)\n",
    "            \n",
    "            df.to_csv(save_Lanechange_path, encoding = 'cp949')\n",
    "            \n",
    "    else:\n",
    "        pass\n",
    "    \n",
    "#warnings.filterwarnings(action = 'default') # pandas 경고메시지 다시 보이기"
   ]
  },
  {
   "cell_type": "markdown",
   "metadata": {},
   "source": [
    "### 궤적 데이터 재로드"
   ]
  },
  {
   "cell_type": "code",
   "execution_count": 18,
   "metadata": {
    "execution": {
     "iopub.execute_input": "2022-08-24T00:36:28.765477Z",
     "iopub.status.busy": "2022-08-24T00:36:28.765477Z",
     "iopub.status.idle": "2022-08-24T00:36:28.784958Z",
     "shell.execute_reply": "2022-08-24T00:36:28.780292Z",
     "shell.execute_reply.started": "2022-08-24T00:36:28.765477Z"
    },
    "tags": []
   },
   "outputs": [],
   "source": [
    "folder_name = '01_density_by_target_LOS_concated_lanechange'\n",
    "\n",
    "file_dir = os.path.join(folder_dir, folder_name)"
   ]
  },
  {
   "cell_type": "code",
   "execution_count": 19,
   "metadata": {
    "execution": {
     "iopub.execute_input": "2022-08-24T00:36:28.787947Z",
     "iopub.status.busy": "2022-08-24T00:36:28.786951Z",
     "iopub.status.idle": "2022-08-24T00:36:28.796524Z",
     "shell.execute_reply": "2022-08-24T00:36:28.795526Z",
     "shell.execute_reply.started": "2022-08-24T00:36:28.786951Z"
    },
    "tags": []
   },
   "outputs": [
    {
     "data": {
      "text/plain": [
       "['01_1_A.csv', '02_1_A.csv', '03_1_A.csv']"
      ]
     },
     "execution_count": 19,
     "metadata": {},
     "output_type": "execute_result"
    }
   ],
   "source": [
    "file_list = os.listdir(file_dir)\n",
    "file_list[0:3]"
   ]
  },
  {
   "cell_type": "code",
   "execution_count": 20,
   "metadata": {
    "execution": {
     "iopub.execute_input": "2022-08-24T00:36:28.797520Z",
     "iopub.status.busy": "2022-08-24T00:36:28.797520Z",
     "iopub.status.idle": "2022-08-24T00:36:28.982392Z",
     "shell.execute_reply": "2022-08-24T00:36:28.982392Z",
     "shell.execute_reply.started": "2022-08-24T00:36:28.797520Z"
    },
    "tags": []
   },
   "outputs": [],
   "source": [
    "df_list = []\n",
    "num_LOS_list = []\n",
    "\n",
    "for file in file_list:\n",
    "    num_LOS = file[0:6]\n",
    "    \n",
    "    file_path = os.path.join(file_dir, file)\n",
    "    \n",
    "    globals()[f'target{num_LOS}'] = pd.read_csv(file_path, encoding = 'cp949')\n",
    "    \n",
    "    df_list.append(globals()[f'target{num_LOS}'])\n",
    "    num_LOS_list.append(num_LOS)"
   ]
  },
  {
   "cell_type": "code",
   "execution_count": 21,
   "metadata": {
    "execution": {
     "iopub.execute_input": "2022-08-24T00:36:28.983519Z",
     "iopub.status.busy": "2022-08-24T00:36:28.983519Z",
     "iopub.status.idle": "2022-08-24T00:36:29.000545Z",
     "shell.execute_reply": "2022-08-24T00:36:28.997547Z",
     "shell.execute_reply.started": "2022-08-24T00:36:28.983519Z"
    },
    "tags": []
   },
   "outputs": [],
   "source": [
    "#target01_1_A.head(3)"
   ]
  },
  {
   "cell_type": "markdown",
   "metadata": {
    "execution": {
     "iopub.execute_input": "2021-08-11T09:59:18.188789Z",
     "iopub.status.busy": "2021-08-11T09:59:18.187792Z",
     "iopub.status.idle": "2021-08-11T09:59:18.201755Z",
     "shell.execute_reply": "2021-08-11T09:59:18.200798Z",
     "shell.execute_reply.started": "2021-08-11T09:59:18.188789Z"
    },
    "tags": []
   },
   "source": [
    "### 차선별 교통량, SMS 산정 후 저장\n",
    "* 차선별 교통량(차량대수)의 산정 기준\n",
    "    * 시점부 : 끝 지점\n",
    "    * 종점부1,2는 각 시작지점"
   ]
  },
  {
   "cell_type": "code",
   "execution_count": 22,
   "metadata": {
    "execution": {
     "iopub.execute_input": "2022-08-24T00:36:29.002536Z",
     "iopub.status.busy": "2022-08-24T00:36:29.002536Z",
     "iopub.status.idle": "2022-08-24T00:36:29.013438Z",
     "shell.execute_reply": "2022-08-24T00:36:29.012438Z",
     "shell.execute_reply.started": "2022-08-24T00:36:29.002536Z"
    },
    "tags": []
   },
   "outputs": [],
   "source": [
    "folder_name = '02-1_Each_Lane_volume_speed'\n",
    "\n",
    "save_EachLaneVolume_dir = os.path.join(folder_dir, folder_name)\n",
    "\n",
    "os.makedirs(save_EachLaneVolume_dir, exist_ok = True) # 해당 경로가 없을 시 폴더 생성, 존재할 경우 건너뛰기"
   ]
  },
  {
   "cell_type": "code",
   "execution_count": 23,
   "metadata": {
    "execution": {
     "iopub.execute_input": "2022-08-24T00:36:29.015522Z",
     "iopub.status.busy": "2022-08-24T00:36:29.014519Z",
     "iopub.status.idle": "2022-08-24T00:36:29.120885Z",
     "shell.execute_reply": "2022-08-24T00:36:29.120885Z",
     "shell.execute_reply.started": "2022-08-24T00:36:29.015522Z"
    },
    "tags": []
   },
   "outputs": [
    {
     "name": "stderr",
     "output_type": "stream",
     "text": [
      "5it [00:00, 52.97it/s]\n"
     ]
    }
   ],
   "source": [
    "for df, num_LOS in tqdm(zip(df_list, num_LOS_list)):\n",
    "    \n",
    "    tmsec = tmsec_info[(tmsec_info['num'] == num_LOS[0:4]) & (tmsec_info['LOS'] == num_LOS[-1])]['tmsec'].iloc[0]\n",
    "    \n",
    "    # 시점부, 종점부를 구분하기 : spot == 1이면 시점부, 종점부는 그 외로 간주\n",
    "    point = num_LOS[3]\n",
    "    \n",
    "    if point == 1 : # 시점부이면, 끝시점 차로(Lane_99) 기준 산정\n",
    "        pv_veh = pd.pivot_table(df,\n",
    "                                index = ['Lane_99'],\n",
    "                                values = ['Vehicle ID', 'Vehicle Velocity(km/h)'],\n",
    "                                aggfunc = {'Vehicle ID': unq, 'Vehicle Velocity(km/h)': harmonic})\n",
    "        \n",
    "    else : # 종점부이면, 첫차로(Lane_00) 기준 산정\n",
    "        pv_veh = pd.pivot_table(df, index = ['Lane_00'],\n",
    "                                values = ['Vehicle ID', 'Vehicle Velocity(km/h)'],\n",
    "                                aggfunc = {'Vehicle ID': unq, 'Vehicle Velocity(km/h)': harmonic})\n",
    "    \n",
    "    pv_veh.reset_index(inplace = True)\n",
    "        \n",
    "    pv_veh['Flow Rate(vph)'] = pv_veh['Vehicle ID'] * 3600/tmsec\n",
    "    \n",
    "    save_EachLaneVolume_file = f'EachLaneVolume{num_LOS}.csv'\n",
    "    save_EachLaneVolume_path = os.path.join(save_EachLaneVolume_dir, save_EachLaneVolume_file)\n",
    "    \n",
    "    pv_veh.to_csv(save_EachLaneVolume_path, encoding = 'cp949')"
   ]
  },
  {
   "cell_type": "markdown",
   "metadata": {},
   "source": [
    "### 차선변경 차량의 교통량 및 SMS 산정, 저장"
   ]
  },
  {
   "cell_type": "code",
   "execution_count": 24,
   "metadata": {
    "execution": {
     "iopub.execute_input": "2022-08-24T00:36:29.121883Z",
     "iopub.status.busy": "2022-08-24T00:36:29.121883Z",
     "iopub.status.idle": "2022-08-24T00:36:29.136981Z",
     "shell.execute_reply": "2022-08-24T00:36:29.136981Z",
     "shell.execute_reply.started": "2022-08-24T00:36:29.121883Z"
    },
    "tags": []
   },
   "outputs": [],
   "source": [
    "folder_name = '02-2_Lanechange_volume_speed'\n",
    "\n",
    "save_LaneChangeVolume_dir = os.path.join(folder_dir, folder_name)\n",
    "\n",
    "os.makedirs(save_LaneChangeVolume_dir, exist_ok = True) # 해당 경로가 없을 시 폴더 생성, 존재할 경우 건너뛰기"
   ]
  },
  {
   "cell_type": "code",
   "execution_count": 25,
   "metadata": {
    "execution": {
     "iopub.execute_input": "2022-08-24T00:36:29.137979Z",
     "iopub.status.busy": "2022-08-24T00:36:29.137979Z",
     "iopub.status.idle": "2022-08-24T00:36:29.246415Z",
     "shell.execute_reply": "2022-08-24T00:36:29.246415Z",
     "shell.execute_reply.started": "2022-08-24T00:36:29.137979Z"
    },
    "tags": []
   },
   "outputs": [
    {
     "name": "stderr",
     "output_type": "stream",
     "text": [
      "5it [00:00, 49.06it/s]\n"
     ]
    }
   ],
   "source": [
    "for df, num_LOS in tqdm(zip(df_list, num_LOS_list)):\n",
    "    \n",
    "    tmsec = tmsec_info[(tmsec_info['num'] == num_LOS[0:4]) & (tmsec_info['LOS'] == num_LOS[-1])]['tmsec'].iloc[0]\n",
    "    \n",
    "    pv_veh = pd.pivot_table(df, index = ['Lane_record'], values = ['Vehicle ID', 'Vehicle Velocity(km/h)'],\n",
    "                            aggfunc = {'Vehicle ID': unq, 'Vehicle Velocity(km/h)': harmonic})\n",
    "    pv_veh.reset_index(inplace = True)\n",
    "        \n",
    "    pv_veh['flow_rate(vph)'] = pv_veh['Vehicle ID'] * 3600/tmsec\n",
    "    \n",
    "    save_LaneChangeVolume_file = f'LaneChangeVolume{num_LOS}.csv'\n",
    "    save_LaneChangeVolume_path = os.path.join(save_LaneChangeVolume_dir, save_LaneChangeVolume_file)\n",
    "    \n",
    "    pv_veh.to_csv(save_LaneChangeVolume_path, encoding = 'cp949')"
   ]
  },
  {
   "cell_type": "markdown",
   "metadata": {},
   "source": [
    "## 과속(overspeed)\n",
    "> **과속** : 도로 제한속도보다 20km/h 초과 운행한 경우\n",
    "* 차량의 영상 내 구간 평균속도 산정\n",
    "    * index는 `Lane Identification, Vehicle ID`\n",
    "    * value는 `Vehicle Velocity(km/h)`\n",
    "    * 함수는 그냥 평균\n",
    "* 과속 여부 판정 파생변수 생성하기 : `overspeed`\n",
    "* `Lane Identification` 별로 pivot_table 하기 : `overspeed` 만 필터링하여 값의 수를 세기"
   ]
  },
  {
   "cell_type": "markdown",
   "metadata": {},
   "source": [
    "### 대상지 정보 로드"
   ]
  },
  {
   "cell_type": "code",
   "execution_count": 26,
   "metadata": {
    "execution": {
     "iopub.execute_input": "2022-08-24T00:36:29.247413Z",
     "iopub.status.busy": "2022-08-24T00:36:29.247413Z",
     "iopub.status.idle": "2022-08-24T00:36:29.262719Z",
     "shell.execute_reply": "2022-08-24T00:36:29.261751Z",
     "shell.execute_reply.started": "2022-08-24T00:36:29.247413Z"
    },
    "tags": []
   },
   "outputs": [],
   "source": [
    "target_info_dir = 'target_info_A_MH.csv'"
   ]
  },
  {
   "cell_type": "code",
   "execution_count": 27,
   "metadata": {
    "execution": {
     "iopub.execute_input": "2022-08-24T00:36:29.264258Z",
     "iopub.status.busy": "2022-08-24T00:36:29.264258Z",
     "iopub.status.idle": "2022-08-24T00:36:29.278156Z",
     "shell.execute_reply": "2022-08-24T00:36:29.277157Z",
     "shell.execute_reply.started": "2022-08-24T00:36:29.264258Z"
    },
    "tags": []
   },
   "outputs": [],
   "source": [
    "target_info = pd.read_csv(target_info_dir, encoding = 'utf-8')"
   ]
  },
  {
   "cell_type": "code",
   "execution_count": 28,
   "metadata": {
    "execution": {
     "iopub.execute_input": "2022-08-24T00:36:29.279123Z",
     "iopub.status.busy": "2022-08-24T00:36:29.279123Z",
     "iopub.status.idle": "2022-08-24T00:36:29.293762Z",
     "shell.execute_reply": "2022-08-24T00:36:29.292756Z",
     "shell.execute_reply.started": "2022-08-24T00:36:29.279123Z"
    },
    "tags": []
   },
   "outputs": [
    {
     "data": {
      "text/html": [
       "<div>\n",
       "<style scoped>\n",
       "    .dataframe tbody tr th:only-of-type {\n",
       "        vertical-align: middle;\n",
       "    }\n",
       "\n",
       "    .dataframe tbody tr th {\n",
       "        vertical-align: top;\n",
       "    }\n",
       "\n",
       "    .dataframe thead th {\n",
       "        text-align: right;\n",
       "    }\n",
       "</style>\n",
       "<table border=\"1\" class=\"dataframe\">\n",
       "  <thead>\n",
       "    <tr style=\"text-align: right;\">\n",
       "      <th></th>\n",
       "      <th>place</th>\n",
       "      <th>length</th>\n",
       "      <th>speed_limit</th>\n",
       "      <th>lane_num</th>\n",
       "      <th>order</th>\n",
       "      <th>etc</th>\n",
       "    </tr>\n",
       "  </thead>\n",
       "  <tbody>\n",
       "    <tr>\n",
       "      <th>0</th>\n",
       "      <td>01_1</td>\n",
       "      <td>264</td>\n",
       "      <td>110</td>\n",
       "      <td>3</td>\n",
       "      <td>NaN</td>\n",
       "      <td>NaN</td>\n",
       "    </tr>\n",
       "    <tr>\n",
       "      <th>1</th>\n",
       "      <td>02_1</td>\n",
       "      <td>264</td>\n",
       "      <td>110</td>\n",
       "      <td>6</td>\n",
       "      <td>NaN</td>\n",
       "      <td>NaN</td>\n",
       "    </tr>\n",
       "    <tr>\n",
       "      <th>2</th>\n",
       "      <td>03_1</td>\n",
       "      <td>269</td>\n",
       "      <td>110</td>\n",
       "      <td>3</td>\n",
       "      <td>NaN</td>\n",
       "      <td>NaN</td>\n",
       "    </tr>\n",
       "    <tr>\n",
       "      <th>3</th>\n",
       "      <td>04_1</td>\n",
       "      <td>263</td>\n",
       "      <td>80</td>\n",
       "      <td>3</td>\n",
       "      <td>NaN</td>\n",
       "      <td>NaN</td>\n",
       "    </tr>\n",
       "    <tr>\n",
       "      <th>4</th>\n",
       "      <td>04_2</td>\n",
       "      <td>263</td>\n",
       "      <td>30</td>\n",
       "      <td>7</td>\n",
       "      <td>NaN</td>\n",
       "      <td>NaN</td>\n",
       "    </tr>\n",
       "  </tbody>\n",
       "</table>\n",
       "</div>"
      ],
      "text/plain": [
       "  place  length  speed_limit  lane_num  order  etc\n",
       "0  01_1     264          110         3    NaN  NaN\n",
       "1  02_1     264          110         6    NaN  NaN\n",
       "2  03_1     269          110         3    NaN  NaN\n",
       "3  04_1     263           80         3    NaN  NaN\n",
       "4  04_2     263           30         7    NaN  NaN"
      ]
     },
     "execution_count": 28,
     "metadata": {},
     "output_type": "execute_result"
    }
   ],
   "source": [
    "target_info.head()"
   ]
  },
  {
   "cell_type": "markdown",
   "metadata": {},
   "source": [
    "### 필요함수 정의 : overspeed\n",
    "* 도로 제한속도보다 20km/h 이상 초과운행 시 overspeed를 반환하는 함수"
   ]
  },
  {
   "cell_type": "code",
   "execution_count": 29,
   "metadata": {
    "execution": {
     "iopub.execute_input": "2022-08-24T00:36:29.293762Z",
     "iopub.status.busy": "2022-08-24T00:36:29.293762Z",
     "iopub.status.idle": "2022-08-24T00:36:29.309812Z",
     "shell.execute_reply": "2022-08-24T00:36:29.308809Z",
     "shell.execute_reply.started": "2022-08-24T00:36:29.293762Z"
    },
    "tags": []
   },
   "outputs": [],
   "source": [
    "def overspeed(velocity, limit):\n",
    "    \"\"\"도로 제한속도(limit)보다 20km/h 이상 초과 운행 시 overspeed 판정 함수\"\"\"\n",
    "    \n",
    "    if velocity - limit > 20:\n",
    "        return 'Overspeed'\n",
    "    else:\n",
    "        pass"
   ]
  },
  {
   "cell_type": "markdown",
   "metadata": {},
   "source": [
    "### 과속차량에 'over' 표시하기"
   ]
  },
  {
   "cell_type": "code",
   "execution_count": 33,
   "metadata": {
    "execution": {
     "iopub.execute_input": "2022-08-24T00:37:07.357432Z",
     "iopub.status.busy": "2022-08-24T00:37:07.357432Z",
     "iopub.status.idle": "2022-08-24T00:37:08.281629Z",
     "shell.execute_reply": "2022-08-24T00:37:08.280628Z",
     "shell.execute_reply.started": "2022-08-24T00:37:07.357432Z"
    },
    "tags": []
   },
   "outputs": [],
   "source": [
    "ovs_list = []\n",
    "\n",
    "for df, num_LOS in zip(df_list, num_LOS_list):\n",
    "    \n",
    "    frame_rate = 30\n",
    "    df['place'] = num_LOS[0:4] # 01_1\n",
    "    df['timespot'] = round(df['Frame ID']/frame_rate)\n",
    "    \n",
    "    pvt = pd.pivot_table(df,\n",
    "                         #index = ['place', 'Lane Identification', 'Vehicle ID'],\n",
    "                         index = ['place', 'Lane Identification', 'Vehicle ID', 'Frame ID', 'timespot'],\n",
    "                         values = ['Vehicle Velocity(km/h)', 'Vehicle Acceleration', 'Local X (m)', 'Local Y(m)'],\n",
    "                         aggfunc = {'Vehicle Velocity(km/h)': harmonic,\n",
    "                                    'Local X (m)' : 'mean',\n",
    "                                    'Local Y(m)' : 'mean'})\n",
    "    pvt.reset_index(inplace = True)\n",
    "    \n",
    "    ovs = pd.merge(left = pvt, right = target_info, how = 'left', left_on = 'place', right_on = 'place')\n",
    "    \n",
    "    ovs['overspeed'] = ovs[['Vehicle Velocity(km/h)', 'speed_limit']].apply(lambda x: overspeed(*x), axis = 1)\n",
    "            \n",
    "    globals()[f'ovs{num_LOS}'] = ovs\n",
    "    ovs_list.append(ovs)"
   ]
  },
  {
   "cell_type": "code",
   "execution_count": 34,
   "metadata": {
    "execution": {
     "iopub.execute_input": "2022-08-24T00:37:10.772522Z",
     "iopub.status.busy": "2022-08-24T00:37:10.771531Z",
     "iopub.status.idle": "2022-08-24T00:37:10.791104Z",
     "shell.execute_reply": "2022-08-24T00:37:10.790073Z",
     "shell.execute_reply.started": "2022-08-24T00:37:10.772522Z"
    },
    "tags": []
   },
   "outputs": [
    {
     "data": {
      "text/html": [
       "<div>\n",
       "<style scoped>\n",
       "    .dataframe tbody tr th:only-of-type {\n",
       "        vertical-align: middle;\n",
       "    }\n",
       "\n",
       "    .dataframe tbody tr th {\n",
       "        vertical-align: top;\n",
       "    }\n",
       "\n",
       "    .dataframe thead th {\n",
       "        text-align: right;\n",
       "    }\n",
       "</style>\n",
       "<table border=\"1\" class=\"dataframe\">\n",
       "  <thead>\n",
       "    <tr style=\"text-align: right;\">\n",
       "      <th></th>\n",
       "      <th>place</th>\n",
       "      <th>Lane Identification</th>\n",
       "      <th>Vehicle ID</th>\n",
       "      <th>Frame ID</th>\n",
       "      <th>timespot</th>\n",
       "      <th>Local X (m)</th>\n",
       "      <th>Local Y(m)</th>\n",
       "      <th>Vehicle Velocity(km/h)</th>\n",
       "      <th>length</th>\n",
       "      <th>speed_limit</th>\n",
       "      <th>lane_num</th>\n",
       "      <th>order</th>\n",
       "      <th>etc</th>\n",
       "      <th>overspeed</th>\n",
       "    </tr>\n",
       "  </thead>\n",
       "  <tbody>\n",
       "    <tr>\n",
       "      <th>0</th>\n",
       "      <td>01_1</td>\n",
       "      <td>U1</td>\n",
       "      <td>8</td>\n",
       "      <td>405</td>\n",
       "      <td>14.0</td>\n",
       "      <td>27.514168</td>\n",
       "      <td>88.449409</td>\n",
       "      <td>26.159864</td>\n",
       "      <td>264</td>\n",
       "      <td>110</td>\n",
       "      <td>3</td>\n",
       "      <td>NaN</td>\n",
       "      <td>NaN</td>\n",
       "      <td>None</td>\n",
       "    </tr>\n",
       "    <tr>\n",
       "      <th>1</th>\n",
       "      <td>01_1</td>\n",
       "      <td>U1</td>\n",
       "      <td>8</td>\n",
       "      <td>420</td>\n",
       "      <td>14.0</td>\n",
       "      <td>31.179226</td>\n",
       "      <td>88.560188</td>\n",
       "      <td>26.400471</td>\n",
       "      <td>264</td>\n",
       "      <td>110</td>\n",
       "      <td>3</td>\n",
       "      <td>NaN</td>\n",
       "      <td>NaN</td>\n",
       "      <td>None</td>\n",
       "    </tr>\n",
       "    <tr>\n",
       "      <th>2</th>\n",
       "      <td>01_1</td>\n",
       "      <td>U1</td>\n",
       "      <td>8</td>\n",
       "      <td>435</td>\n",
       "      <td>14.0</td>\n",
       "      <td>34.737656</td>\n",
       "      <td>88.597923</td>\n",
       "      <td>25.622135</td>\n",
       "      <td>264</td>\n",
       "      <td>110</td>\n",
       "      <td>3</td>\n",
       "      <td>NaN</td>\n",
       "      <td>NaN</td>\n",
       "      <td>None</td>\n",
       "    </tr>\n",
       "  </tbody>\n",
       "</table>\n",
       "</div>"
      ],
      "text/plain": [
       "  place Lane Identification  Vehicle ID  Frame ID  timespot  Local X (m)  \\\n",
       "0  01_1                  U1           8       405      14.0    27.514168   \n",
       "1  01_1                  U1           8       420      14.0    31.179226   \n",
       "2  01_1                  U1           8       435      14.0    34.737656   \n",
       "\n",
       "   Local Y(m)  Vehicle Velocity(km/h)  length  speed_limit  lane_num  order  \\\n",
       "0   88.449409               26.159864     264          110         3    NaN   \n",
       "1   88.560188               26.400471     264          110         3    NaN   \n",
       "2   88.597923               25.622135     264          110         3    NaN   \n",
       "\n",
       "   etc overspeed  \n",
       "0  NaN      None  \n",
       "1  NaN      None  \n",
       "2  NaN      None  "
      ]
     },
     "execution_count": 34,
     "metadata": {},
     "output_type": "execute_result"
    }
   ],
   "source": [
    "ovs_list[0].head(3)"
   ]
  },
  {
   "cell_type": "markdown",
   "metadata": {},
   "source": [
    "### 과속차량(over) 필터링 후 처리\n",
    "* 과속한 차량대수\n",
    "* 과속한 차량 대수를 교통류율로 환산\n",
    "* 과속한 차량끼리의 공간평균속도를 구하기"
   ]
  },
  {
   "cell_type": "code",
   "execution_count": 35,
   "metadata": {
    "execution": {
     "iopub.execute_input": "2022-08-24T00:37:14.481685Z",
     "iopub.status.busy": "2022-08-24T00:37:14.481685Z",
     "iopub.status.idle": "2022-08-24T00:37:14.496348Z",
     "shell.execute_reply": "2022-08-24T00:37:14.495381Z",
     "shell.execute_reply.started": "2022-08-24T00:37:14.481685Z"
    },
    "tags": []
   },
   "outputs": [],
   "source": [
    "folder_name = '02-3_overspeed'\n",
    "\n",
    "save_overspeed_dir = os.path.join(folder_dir, folder_name)\n",
    "\n",
    "os.makedirs(save_overspeed_dir, exist_ok = True) # 해당 경로가 없을 시 폴더 생성, 존재할 경우 건너뛰기"
   ]
  },
  {
   "cell_type": "code",
   "execution_count": 36,
   "metadata": {
    "execution": {
     "iopub.execute_input": "2022-08-24T00:37:15.208908Z",
     "iopub.status.busy": "2022-08-24T00:37:15.208908Z",
     "iopub.status.idle": "2022-08-24T00:37:15.539395Z",
     "shell.execute_reply": "2022-08-24T00:37:15.538397Z",
     "shell.execute_reply.started": "2022-08-24T00:37:15.208908Z"
    },
    "tags": []
   },
   "outputs": [
    {
     "name": "stdout",
     "output_type": "stream",
     "text": [
      "04_1_A 126\n",
      "04_2_A 7566\n"
     ]
    }
   ],
   "source": [
    "for ovs, num_LOS in zip(ovs_list, num_LOS_list):\n",
    "    \n",
    "    save_ovs_list_file = f'list_overspeed{num_LOS}.csv'\n",
    "    save_ovs_list_path = os.path.join(save_overspeed_dir, save_ovs_list_file)\n",
    "    ovs.to_csv(save_ovs_list_path, encoding = 'cp949')\n",
    "    \n",
    "    ovs_only = ovs[ovs['overspeed'] == 'Overspeed']\n",
    "    \n",
    "    ovs_veh = pd.pivot_table(ovs_only, \n",
    "                             index = 'Lane Identification',\n",
    "                             values = ['Vehicle ID', 'Vehicle Velocity(km/h)', 'Local X (m)', 'Local Y(m)'],\n",
    "                             aggfunc = {'Vehicle ID': unq,\n",
    "                                        'Vehicle Velocity(km/h)': harmonic,\n",
    "                                        'Local X (m)' : 'mean',\n",
    "                                        'Local Y(m)' : 'mean'})\n",
    "    \n",
    "    ovs_veh.reset_index(inplace = True)\n",
    "    \n",
    "    if len(ovs_veh) > 0:\n",
    "        print(num_LOS, len(ovs_only))\n",
    "        #ovs2_veh['flow_rate(vph)'] = ovs2_veh['Vehicle ID_x'] * 3600/tmsec\n",
    "        save_overspeed_file = f'overspeed{num_LOS}.csv'\n",
    "        save_overspeed_path = os.path.join(save_overspeed_dir, save_overspeed_file)\n",
    "        ovs_veh.to_csv(save_overspeed_path, encoding = 'cp949')\n",
    "        \n",
    "    else:\n",
    "        pass"
   ]
  },
  {
   "cell_type": "markdown",
   "metadata": {},
   "source": [
    "## 급감속(sudden_dec)\n",
    "* **급감속** : 초당 8km/h 이상 감속 운행하고 속도가 6.0km/h 이상인 경우\n",
    "    * 화물차의 것을 기준으로 한 정의임\n",
    "* 이것이야말로 '초'당 피벗 테이블이 필요함"
   ]
  },
  {
   "cell_type": "markdown",
   "metadata": {
    "execution": {
     "iopub.execute_input": "2021-08-13T13:54:04.866356Z",
     "iopub.status.busy": "2021-08-13T13:54:04.866356Z",
     "iopub.status.idle": "2021-08-13T13:54:04.881315Z",
     "shell.execute_reply": "2021-08-13T13:54:04.881315Z",
     "shell.execute_reply.started": "2021-08-13T13:54:04.866356Z"
    },
    "tags": []
   },
   "source": [
    "### time_group : 1초 단위로 묶은 파생변수 생성\n",
    "* 1초 단위 피벗을 하기 위함임"
   ]
  },
  {
   "cell_type": "code",
   "execution_count": 37,
   "metadata": {
    "execution": {
     "iopub.execute_input": "2022-08-24T00:37:24.680781Z",
     "iopub.status.busy": "2022-08-24T00:37:24.680781Z",
     "iopub.status.idle": "2022-08-24T00:37:24.691190Z",
     "shell.execute_reply": "2022-08-24T00:37:24.690217Z",
     "shell.execute_reply.started": "2022-08-24T00:37:24.680781Z"
    },
    "tags": []
   },
   "outputs": [],
   "source": [
    "frame_rate = 30"
   ]
  },
  {
   "cell_type": "code",
   "execution_count": 38,
   "metadata": {
    "execution": {
     "iopub.execute_input": "2022-08-24T00:37:24.692197Z",
     "iopub.status.busy": "2022-08-24T00:37:24.692197Z",
     "iopub.status.idle": "2022-08-24T00:37:25.285474Z",
     "shell.execute_reply": "2022-08-24T00:37:25.285474Z",
     "shell.execute_reply.started": "2022-08-24T00:37:24.692197Z"
    },
    "tags": []
   },
   "outputs": [
    {
     "name": "stderr",
     "output_type": "stream",
     "text": [
      "5it [00:00,  8.57it/s]\n"
     ]
    }
   ],
   "source": [
    "pivot_df_list = []\n",
    "\n",
    "for df, num_LOS in tqdm(zip(df_list, num_LOS_list)):\n",
    "    \n",
    "    df['timespot'] = round(df['Frame ID']/frame_rate) # frame_rate == 30\n",
    "    \n",
    "    vehicle_list = df['Vehicle ID'].unique()\n",
    "    \n",
    "    pivot_df = pd.pivot_table(df, \n",
    "                              index = ['Lane Identification', 'Vehicle ID', 'Frame ID', 'timespot'],\n",
    "                              values = ['Vehicle Velocity(km/h)' ,'Vehicle Acceleration', 'Local X (m)', 'Local Y(m)'],\n",
    "                              aggfunc = {'Vehicle Velocity(km/h)': harmonic,\n",
    "                                         'Vehicle Acceleration' : 'mean',\n",
    "                                         'Local X (m)' : 'mean',\n",
    "                                         'Local Y(m)' : 'mean'})\n",
    "    \n",
    "    pivot_df = pivot_df.reset_index()\n",
    "    \n",
    "    pivot_df_list.append(pivot_df)"
   ]
  },
  {
   "cell_type": "code",
   "execution_count": 39,
   "metadata": {
    "execution": {
     "iopub.execute_input": "2022-08-24T00:37:25.287472Z",
     "iopub.status.busy": "2022-08-24T00:37:25.287472Z",
     "iopub.status.idle": "2022-08-24T00:37:25.301505Z",
     "shell.execute_reply": "2022-08-24T00:37:25.301505Z",
     "shell.execute_reply.started": "2022-08-24T00:37:25.287472Z"
    },
    "tags": []
   },
   "outputs": [
    {
     "data": {
      "text/html": [
       "<div>\n",
       "<style scoped>\n",
       "    .dataframe tbody tr th:only-of-type {\n",
       "        vertical-align: middle;\n",
       "    }\n",
       "\n",
       "    .dataframe tbody tr th {\n",
       "        vertical-align: top;\n",
       "    }\n",
       "\n",
       "    .dataframe thead th {\n",
       "        text-align: right;\n",
       "    }\n",
       "</style>\n",
       "<table border=\"1\" class=\"dataframe\">\n",
       "  <thead>\n",
       "    <tr style=\"text-align: right;\">\n",
       "      <th></th>\n",
       "      <th>Lane Identification</th>\n",
       "      <th>Vehicle ID</th>\n",
       "      <th>Frame ID</th>\n",
       "      <th>timespot</th>\n",
       "      <th>Local X (m)</th>\n",
       "      <th>Local Y(m)</th>\n",
       "      <th>Vehicle Acceleration</th>\n",
       "      <th>Vehicle Velocity(km/h)</th>\n",
       "    </tr>\n",
       "  </thead>\n",
       "  <tbody>\n",
       "    <tr>\n",
       "      <th>0</th>\n",
       "      <td>U1</td>\n",
       "      <td>8</td>\n",
       "      <td>405</td>\n",
       "      <td>14.0</td>\n",
       "      <td>27.514168</td>\n",
       "      <td>88.449409</td>\n",
       "      <td>0.344995</td>\n",
       "      <td>26.159864</td>\n",
       "    </tr>\n",
       "    <tr>\n",
       "      <th>1</th>\n",
       "      <td>U1</td>\n",
       "      <td>8</td>\n",
       "      <td>420</td>\n",
       "      <td>14.0</td>\n",
       "      <td>31.179226</td>\n",
       "      <td>88.560188</td>\n",
       "      <td>0.133670</td>\n",
       "      <td>26.400471</td>\n",
       "    </tr>\n",
       "    <tr>\n",
       "      <th>2</th>\n",
       "      <td>U1</td>\n",
       "      <td>8</td>\n",
       "      <td>435</td>\n",
       "      <td>14.0</td>\n",
       "      <td>34.737656</td>\n",
       "      <td>88.597923</td>\n",
       "      <td>-0.432409</td>\n",
       "      <td>25.622135</td>\n",
       "    </tr>\n",
       "    <tr>\n",
       "      <th>3</th>\n",
       "      <td>U1</td>\n",
       "      <td>8</td>\n",
       "      <td>450</td>\n",
       "      <td>15.0</td>\n",
       "      <td>38.299561</td>\n",
       "      <td>88.682999</td>\n",
       "      <td>0.017164</td>\n",
       "      <td>25.653030</td>\n",
       "    </tr>\n",
       "    <tr>\n",
       "      <th>4</th>\n",
       "      <td>U1</td>\n",
       "      <td>8</td>\n",
       "      <td>465</td>\n",
       "      <td>16.0</td>\n",
       "      <td>41.847893</td>\n",
       "      <td>88.729698</td>\n",
       "      <td>-0.057125</td>\n",
       "      <td>25.550205</td>\n",
       "    </tr>\n",
       "    <tr>\n",
       "      <th>...</th>\n",
       "      <td>...</td>\n",
       "      <td>...</td>\n",
       "      <td>...</td>\n",
       "      <td>...</td>\n",
       "      <td>...</td>\n",
       "      <td>...</td>\n",
       "      <td>...</td>\n",
       "      <td>...</td>\n",
       "    </tr>\n",
       "    <tr>\n",
       "      <th>16576</th>\n",
       "      <td>U5</td>\n",
       "      <td>10312</td>\n",
       "      <td>103585</td>\n",
       "      <td>3453.0</td>\n",
       "      <td>50.520313</td>\n",
       "      <td>100.188515</td>\n",
       "      <td>0.295684</td>\n",
       "      <td>43.300945</td>\n",
       "    </tr>\n",
       "    <tr>\n",
       "      <th>16577</th>\n",
       "      <td>U5</td>\n",
       "      <td>10315</td>\n",
       "      <td>103585</td>\n",
       "      <td>3453.0</td>\n",
       "      <td>37.038147</td>\n",
       "      <td>101.252083</td>\n",
       "      <td>0.978425</td>\n",
       "      <td>42.797707</td>\n",
       "    </tr>\n",
       "    <tr>\n",
       "      <th>16578</th>\n",
       "      <td>U5</td>\n",
       "      <td>10840</td>\n",
       "      <td>107005</td>\n",
       "      <td>3567.0</td>\n",
       "      <td>34.998375</td>\n",
       "      <td>102.734901</td>\n",
       "      <td>0.740077</td>\n",
       "      <td>46.352509</td>\n",
       "    </tr>\n",
       "    <tr>\n",
       "      <th>16579</th>\n",
       "      <td>UNKNOWN</td>\n",
       "      <td>10151</td>\n",
       "      <td>101545</td>\n",
       "      <td>3385.0</td>\n",
       "      <td>17.286919</td>\n",
       "      <td>106.521957</td>\n",
       "      <td>1.463813</td>\n",
       "      <td>17.062099</td>\n",
       "    </tr>\n",
       "    <tr>\n",
       "      <th>16580</th>\n",
       "      <td>UNKNOWN</td>\n",
       "      <td>10151</td>\n",
       "      <td>101560</td>\n",
       "      <td>3385.0</td>\n",
       "      <td>19.991785</td>\n",
       "      <td>105.878868</td>\n",
       "      <td>1.642111</td>\n",
       "      <td>20.017899</td>\n",
       "    </tr>\n",
       "  </tbody>\n",
       "</table>\n",
       "<p>16581 rows × 8 columns</p>\n",
       "</div>"
      ],
      "text/plain": [
       "      Lane Identification  Vehicle ID  Frame ID  timespot  Local X (m)  \\\n",
       "0                      U1           8       405      14.0    27.514168   \n",
       "1                      U1           8       420      14.0    31.179226   \n",
       "2                      U1           8       435      14.0    34.737656   \n",
       "3                      U1           8       450      15.0    38.299561   \n",
       "4                      U1           8       465      16.0    41.847893   \n",
       "...                   ...         ...       ...       ...          ...   \n",
       "16576                  U5       10312    103585    3453.0    50.520313   \n",
       "16577                  U5       10315    103585    3453.0    37.038147   \n",
       "16578                  U5       10840    107005    3567.0    34.998375   \n",
       "16579             UNKNOWN       10151    101545    3385.0    17.286919   \n",
       "16580             UNKNOWN       10151    101560    3385.0    19.991785   \n",
       "\n",
       "       Local Y(m)  Vehicle Acceleration  Vehicle Velocity(km/h)  \n",
       "0       88.449409              0.344995               26.159864  \n",
       "1       88.560188              0.133670               26.400471  \n",
       "2       88.597923             -0.432409               25.622135  \n",
       "3       88.682999              0.017164               25.653030  \n",
       "4       88.729698             -0.057125               25.550205  \n",
       "...           ...                   ...                     ...  \n",
       "16576  100.188515              0.295684               43.300945  \n",
       "16577  101.252083              0.978425               42.797707  \n",
       "16578  102.734901              0.740077               46.352509  \n",
       "16579  106.521957              1.463813               17.062099  \n",
       "16580  105.878868              1.642111               20.017899  \n",
       "\n",
       "[16581 rows x 8 columns]"
      ]
     },
     "execution_count": 39,
     "metadata": {},
     "output_type": "execute_result"
    }
   ],
   "source": [
    "pivot_df_list[0]"
   ]
  },
  {
   "cell_type": "markdown",
   "metadata": {},
   "source": [
    "### 필요 함수 정의 : sudden_dec\n",
    "* **급감속** : 초당 8km/h 이상 감속 운행하고 속도가 6.0km/h 이상인 경우\n",
    "* 가속도를 초속(m/s)으로 통일할 것"
   ]
  },
  {
   "cell_type": "code",
   "execution_count": 40,
   "metadata": {
    "execution": {
     "iopub.execute_input": "2022-08-24T00:37:25.303500Z",
     "iopub.status.busy": "2022-08-24T00:37:25.303500Z",
     "iopub.status.idle": "2022-08-24T00:37:25.318137Z",
     "shell.execute_reply": "2022-08-24T00:37:25.317140Z",
     "shell.execute_reply.started": "2022-08-24T00:37:25.303500Z"
    },
    "tags": []
   },
   "outputs": [],
   "source": [
    "def sudden_dec(velocity, acceleration):\n",
    "    \"\"\"급감속인 경우 sudden_dec 판정\"\"\"\n",
    "    if velocity >= 6.0 and acceleration <= -8.0 * (1000/3600):\n",
    "        return 'sudden_dec'\n",
    "    else:\n",
    "        pass"
   ]
  },
  {
   "cell_type": "markdown",
   "metadata": {},
   "source": [
    "### 급감속(sudden_dec) 표시 후 저장"
   ]
  },
  {
   "cell_type": "code",
   "execution_count": 41,
   "metadata": {
    "execution": {
     "iopub.execute_input": "2022-08-24T00:37:25.319166Z",
     "iopub.status.busy": "2022-08-24T00:37:25.319166Z",
     "iopub.status.idle": "2022-08-24T00:37:25.332760Z",
     "shell.execute_reply": "2022-08-24T00:37:25.332760Z",
     "shell.execute_reply.started": "2022-08-24T00:37:25.319166Z"
    },
    "tags": []
   },
   "outputs": [],
   "source": [
    "folder_name = '02-4_sudden_dec'\n",
    "\n",
    "save_SuddenDec_dir = os.path.join(folder_dir, folder_name)\n",
    "\n",
    "os.makedirs(save_SuddenDec_dir, exist_ok = True) # 해당 경로가 없을 시 폴더 생성, 존재할 경우 건너뛰기"
   ]
  },
  {
   "cell_type": "code",
   "execution_count": 42,
   "metadata": {
    "execution": {
     "iopub.execute_input": "2022-08-24T00:37:25.333758Z",
     "iopub.status.busy": "2022-08-24T00:37:25.333758Z",
     "iopub.status.idle": "2022-08-24T00:37:25.925689Z",
     "shell.execute_reply": "2022-08-24T00:37:25.925689Z",
     "shell.execute_reply.started": "2022-08-24T00:37:25.333758Z"
    },
    "tags": []
   },
   "outputs": [],
   "source": [
    "for pivot_df, num_LOS in zip(pivot_df_list, num_LOS_list):\n",
    "    \n",
    "    pivot_df['sudden_dec'] = pivot_df[['Vehicle Velocity(km/h)', 'Vehicle Acceleration']].apply(lambda x: sudden_dec(*x), axis = 1)\n",
    "    \n",
    "    save_SuddenDec_file = f'SuddenDec{num_LOS}.csv'\n",
    "    save_SuddenDec_path = os.path.join(save_SuddenDec_dir, save_SuddenDec_file)\n",
    "    \n",
    "    pivot_df.to_csv(save_SuddenDec_path, encoding = 'cp949')"
   ]
  },
  {
   "cell_type": "code",
   "execution_count": 43,
   "metadata": {
    "execution": {
     "iopub.execute_input": "2022-08-24T00:37:25.926656Z",
     "iopub.status.busy": "2022-08-24T00:37:25.926656Z",
     "iopub.status.idle": "2022-08-24T00:37:25.943475Z",
     "shell.execute_reply": "2022-08-24T00:37:25.940937Z",
     "shell.execute_reply.started": "2022-08-24T00:37:25.926656Z"
    },
    "tags": []
   },
   "outputs": [
    {
     "data": {
      "text/html": [
       "<div>\n",
       "<style scoped>\n",
       "    .dataframe tbody tr th:only-of-type {\n",
       "        vertical-align: middle;\n",
       "    }\n",
       "\n",
       "    .dataframe tbody tr th {\n",
       "        vertical-align: top;\n",
       "    }\n",
       "\n",
       "    .dataframe thead th {\n",
       "        text-align: right;\n",
       "    }\n",
       "</style>\n",
       "<table border=\"1\" class=\"dataframe\">\n",
       "  <thead>\n",
       "    <tr style=\"text-align: right;\">\n",
       "      <th></th>\n",
       "      <th>Lane Identification</th>\n",
       "      <th>Vehicle ID</th>\n",
       "      <th>Frame ID</th>\n",
       "      <th>timespot</th>\n",
       "      <th>Local X (m)</th>\n",
       "      <th>Local Y(m)</th>\n",
       "      <th>Vehicle Acceleration</th>\n",
       "      <th>Vehicle Velocity(km/h)</th>\n",
       "      <th>sudden_dec</th>\n",
       "    </tr>\n",
       "  </thead>\n",
       "  <tbody>\n",
       "    <tr>\n",
       "      <th>0</th>\n",
       "      <td>U1</td>\n",
       "      <td>8</td>\n",
       "      <td>405</td>\n",
       "      <td>14.0</td>\n",
       "      <td>27.514168</td>\n",
       "      <td>88.449409</td>\n",
       "      <td>0.344995</td>\n",
       "      <td>26.159864</td>\n",
       "      <td>None</td>\n",
       "    </tr>\n",
       "    <tr>\n",
       "      <th>1</th>\n",
       "      <td>U1</td>\n",
       "      <td>8</td>\n",
       "      <td>420</td>\n",
       "      <td>14.0</td>\n",
       "      <td>31.179226</td>\n",
       "      <td>88.560188</td>\n",
       "      <td>0.133670</td>\n",
       "      <td>26.400471</td>\n",
       "      <td>None</td>\n",
       "    </tr>\n",
       "    <tr>\n",
       "      <th>2</th>\n",
       "      <td>U1</td>\n",
       "      <td>8</td>\n",
       "      <td>435</td>\n",
       "      <td>14.0</td>\n",
       "      <td>34.737656</td>\n",
       "      <td>88.597923</td>\n",
       "      <td>-0.432409</td>\n",
       "      <td>25.622135</td>\n",
       "      <td>None</td>\n",
       "    </tr>\n",
       "    <tr>\n",
       "      <th>3</th>\n",
       "      <td>U1</td>\n",
       "      <td>8</td>\n",
       "      <td>450</td>\n",
       "      <td>15.0</td>\n",
       "      <td>38.299561</td>\n",
       "      <td>88.682999</td>\n",
       "      <td>0.017164</td>\n",
       "      <td>25.653030</td>\n",
       "      <td>None</td>\n",
       "    </tr>\n",
       "    <tr>\n",
       "      <th>4</th>\n",
       "      <td>U1</td>\n",
       "      <td>8</td>\n",
       "      <td>465</td>\n",
       "      <td>16.0</td>\n",
       "      <td>41.847893</td>\n",
       "      <td>88.729698</td>\n",
       "      <td>-0.057125</td>\n",
       "      <td>25.550205</td>\n",
       "      <td>None</td>\n",
       "    </tr>\n",
       "  </tbody>\n",
       "</table>\n",
       "</div>"
      ],
      "text/plain": [
       "  Lane Identification  Vehicle ID  Frame ID  timespot  Local X (m)  \\\n",
       "0                  U1           8       405      14.0    27.514168   \n",
       "1                  U1           8       420      14.0    31.179226   \n",
       "2                  U1           8       435      14.0    34.737656   \n",
       "3                  U1           8       450      15.0    38.299561   \n",
       "4                  U1           8       465      16.0    41.847893   \n",
       "\n",
       "   Local Y(m)  Vehicle Acceleration  Vehicle Velocity(km/h) sudden_dec  \n",
       "0   88.449409              0.344995               26.159864       None  \n",
       "1   88.560188              0.133670               26.400471       None  \n",
       "2   88.597923             -0.432409               25.622135       None  \n",
       "3   88.682999              0.017164               25.653030       None  \n",
       "4   88.729698             -0.057125               25.550205       None  "
      ]
     },
     "execution_count": 43,
     "metadata": {},
     "output_type": "execute_result"
    }
   ],
   "source": [
    "pivot_df_list[0].head()"
   ]
  },
  {
   "cell_type": "markdown",
   "metadata": {},
   "source": [
    "### 급감속, 급가속 필터링 후 처리\n",
    "* 급감속/급가속한 차량대수\n",
    "* 해당 차량 대수를 교통류율로 환산\n",
    "* 해당 차량끼리의 평균 가속도를 구하기"
   ]
  },
  {
   "cell_type": "code",
   "execution_count": 44,
   "metadata": {
    "execution": {
     "iopub.execute_input": "2022-08-24T00:37:25.944524Z",
     "iopub.status.busy": "2022-08-24T00:37:25.944524Z",
     "iopub.status.idle": "2022-08-24T00:37:25.957700Z",
     "shell.execute_reply": "2022-08-24T00:37:25.956700Z",
     "shell.execute_reply.started": "2022-08-24T00:37:25.944524Z"
    },
    "tags": []
   },
   "outputs": [],
   "source": [
    "folder_name = '02-5_sudden_dec_aggregated'\n",
    "\n",
    "save_SuddenDecAgg_dir = os.path.join(folder_dir, folder_name)\n",
    "\n",
    "os.makedirs(save_SuddenDecAgg_dir, exist_ok = True) # 해당 경로가 없을 시 폴더 생성, 존재할 경우 건너뛰기"
   ]
  },
  {
   "cell_type": "code",
   "execution_count": 45,
   "metadata": {
    "execution": {
     "iopub.execute_input": "2022-08-24T00:37:25.962685Z",
     "iopub.status.busy": "2022-08-24T00:37:25.961687Z",
     "iopub.status.idle": "2022-08-24T00:37:26.082328Z",
     "shell.execute_reply": "2022-08-24T00:37:26.081336Z",
     "shell.execute_reply.started": "2022-08-24T00:37:25.962685Z"
    },
    "tags": []
   },
   "outputs": [
    {
     "name": "stdout",
     "output_type": "stream",
     "text": [
      "01_1_A 5\n",
      "02_1_A 3\n",
      "03_1_A 3\n",
      "04_1_A 5\n",
      "04_2_A 5\n"
     ]
    }
   ],
   "source": [
    "for pivot_df, num_LOS in zip(pivot_df_list, num_LOS_list):\n",
    "    \n",
    "    SuddenDecAgg = pd.pivot_table(pivot_df[pivot_df['sudden_dec'] == 'sudden_dec'],\n",
    "                                  index = ['Lane Identification', 'sudden_dec'],\n",
    "                                  values = ['Vehicle ID', 'Vehicle Acceleration'],\n",
    "                                  aggfunc = {'Vehicle ID': unq, 'Vehicle Acceleration': 'mean'})\n",
    "    \n",
    "    SuddenDecAgg.reset_index(inplace = True)\n",
    "    \n",
    "    if len(SuddenDecAgg) > 0:\n",
    "        print(num_LOS, len(SuddenDecAgg))\n",
    "        save_SuddenDecAgg_file = f'SuddenDecAgg{num_LOS}.csv'\n",
    "        save_SuddenDecAgg_path = os.path.join(save_SuddenDecAgg_dir, save_SuddenDecAgg_file)\n",
    "        SuddenDecAgg.to_csv(save_SuddenDecAgg_path, encoding = 'cp949')\n",
    "        \n",
    "    else:\n",
    "        pass"
   ]
  }
 ],
 "metadata": {
  "kernelspec": {
   "display_name": "Python 3",
   "language": "python",
   "name": "python3"
  },
  "language_info": {
   "codemirror_mode": {
    "name": "ipython",
    "version": 3
   },
   "file_extension": ".py",
   "mimetype": "text/x-python",
   "name": "python",
   "nbconvert_exporter": "python",
   "pygments_lexer": "ipython3",
   "version": "3.8.8"
  }
 },
 "nbformat": 4,
 "nbformat_minor": 4
}
