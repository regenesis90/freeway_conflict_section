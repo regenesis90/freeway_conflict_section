{
 "cells": [
  {
   "cell_type": "markdown",
   "metadata": {},
   "source": [
    "# Imports"
   ]
  },
  {
   "cell_type": "code",
   "execution_count": 77,
   "metadata": {
    "execution": {
     "iopub.execute_input": "2022-01-17T08:00:14.519767Z",
     "iopub.status.busy": "2022-01-17T08:00:14.519767Z",
     "iopub.status.idle": "2022-01-17T08:00:14.537698Z",
     "shell.execute_reply": "2022-01-17T08:00:14.536689Z",
     "shell.execute_reply.started": "2022-01-17T08:00:14.519767Z"
    },
    "tags": []
   },
   "outputs": [],
   "source": [
    "import pandas as pd\n",
    "import numpy as np\n",
    "\n",
    "import os\n",
    "import warnings\n",
    "from tqdm import tqdm\n",
    "\n",
    "from plotly.subplots import make_subplots\n",
    "import plotly.express as px\n",
    "import plotly.graph_objects as go\n",
    "import plotly.io as po\n",
    "\n",
    "import statistics\n",
    "import math"
   ]
  },
  {
   "cell_type": "markdown",
   "metadata": {},
   "source": [
    "# Analysis\n",
    "* `01_denstiy_by_target_LOS_concated`의 파일을 불러오기\n",
    "* 필요한 분석 데이터들을 추출하여 각각의 파일로 저장하기"
   ]
  },
  {
   "cell_type": "markdown",
   "metadata": {},
   "source": [
    "## Load Dataset"
   ]
  },
  {
   "cell_type": "markdown",
   "metadata": {},
   "source": [
    "### 궤적 데이터"
   ]
  },
  {
   "cell_type": "code",
   "execution_count": 4,
   "metadata": {
    "execution": {
     "iopub.execute_input": "2022-01-17T06:49:30.499320Z",
     "iopub.status.busy": "2022-01-17T06:49:30.499320Z",
     "iopub.status.idle": "2022-01-17T06:49:30.518237Z",
     "shell.execute_reply": "2022-01-17T06:49:30.517240Z",
     "shell.execute_reply.started": "2022-01-17T06:49:30.499320Z"
    },
    "tags": []
   },
   "outputs": [],
   "source": [
    "file_dir = '01_denstiy_by_target_LOS_concated'"
   ]
  },
  {
   "cell_type": "code",
   "execution_count": 5,
   "metadata": {
    "execution": {
     "iopub.execute_input": "2022-01-17T06:49:31.313284Z",
     "iopub.status.busy": "2022-01-17T06:49:31.313284Z",
     "iopub.status.idle": "2022-01-17T06:49:31.324255Z",
     "shell.execute_reply": "2022-01-17T06:49:31.324255Z",
     "shell.execute_reply.started": "2022-01-17T06:49:31.313284Z"
    },
    "tags": []
   },
   "outputs": [
    {
     "data": {
      "text/plain": [
       "['01_1_A.csv', '01_1_B.csv', '01_1_C.csv']"
      ]
     },
     "execution_count": 5,
     "metadata": {},
     "output_type": "execute_result"
    }
   ],
   "source": [
    "file_list = os.listdir(file_dir)\n",
    "file_list[0:3]"
   ]
  },
  {
   "cell_type": "code",
   "execution_count": 9,
   "metadata": {
    "execution": {
     "iopub.execute_input": "2022-01-17T06:53:08.173276Z",
     "iopub.status.busy": "2022-01-17T06:53:08.173276Z",
     "iopub.status.idle": "2022-01-17T06:53:08.778834Z",
     "shell.execute_reply": "2022-01-17T06:53:08.778834Z",
     "shell.execute_reply.started": "2022-01-17T06:53:08.173276Z"
    },
    "tags": []
   },
   "outputs": [],
   "source": [
    "df_list = []\n",
    "num_LOS_list = []\n",
    "\n",
    "for file in file_list:\n",
    "    num_LOS = file[0:6] # 파일명으로부터 01_2_C 형식의 대상지 번호와 LOS 추출\n",
    "    \n",
    "    file_path = os.path.join(file_dir, file)\n",
    "    \n",
    "    globals()[f'target{num_LOS}'] = pd.read_csv(file_path, encoding = 'cp949')\n",
    "    \n",
    "    df_list.append(globals()[f'target{num_LOS}'])\n",
    "    num_LOS_list.append(num_LOS)"
   ]
  },
  {
   "cell_type": "code",
   "execution_count": 10,
   "metadata": {
    "execution": {
     "iopub.execute_input": "2022-01-17T06:53:17.892950Z",
     "iopub.status.busy": "2022-01-17T06:53:17.892950Z",
     "iopub.status.idle": "2022-01-17T06:53:17.918525Z",
     "shell.execute_reply": "2022-01-17T06:53:17.916872Z",
     "shell.execute_reply.started": "2022-01-17T06:53:17.892950Z"
    },
    "tags": []
   },
   "outputs": [
    {
     "data": {
      "text/html": [
       "<div>\n",
       "<style scoped>\n",
       "    .dataframe tbody tr th:only-of-type {\n",
       "        vertical-align: middle;\n",
       "    }\n",
       "\n",
       "    .dataframe tbody tr th {\n",
       "        vertical-align: top;\n",
       "    }\n",
       "\n",
       "    .dataframe thead th {\n",
       "        text-align: right;\n",
       "    }\n",
       "</style>\n",
       "<table border=\"1\" class=\"dataframe\">\n",
       "  <thead>\n",
       "    <tr style=\"text-align: right;\">\n",
       "      <th></th>\n",
       "      <th>Unnamed: 0</th>\n",
       "      <th>Unnamed: 0.1</th>\n",
       "      <th>Unnamed: 0.1.1</th>\n",
       "      <th>Unnamed: 0.1.1.1</th>\n",
       "      <th>Vehicle ID</th>\n",
       "      <th>Frame ID</th>\n",
       "      <th>Total Frames</th>\n",
       "      <th>Global Time (Epoch Time)</th>\n",
       "      <th>Local X (m)</th>\n",
       "      <th>Local Y(m)</th>\n",
       "      <th>...</th>\n",
       "      <th>Vehicle Acceleration</th>\n",
       "      <th>Lane Identification</th>\n",
       "      <th>Preceding Vehicle</th>\n",
       "      <th>Following Vehicle</th>\n",
       "      <th>Spacing Headway</th>\n",
       "      <th>Time Headway</th>\n",
       "      <th>Bad Object</th>\n",
       "      <th>Special Car</th>\n",
       "      <th>Lane Class</th>\n",
       "      <th>Vehicle Movement</th>\n",
       "    </tr>\n",
       "  </thead>\n",
       "  <tbody>\n",
       "    <tr>\n",
       "      <th>0</th>\n",
       "      <td>0</td>\n",
       "      <td>787</td>\n",
       "      <td>792</td>\n",
       "      <td>792</td>\n",
       "      <td>11</td>\n",
       "      <td>1014</td>\n",
       "      <td>289</td>\n",
       "      <td>46833800</td>\n",
       "      <td>7.801332</td>\n",
       "      <td>7.880461</td>\n",
       "      <td>...</td>\n",
       "      <td>0.030009</td>\n",
       "      <td>U3</td>\n",
       "      <td>0</td>\n",
       "      <td>13</td>\n",
       "      <td>0.000000</td>\n",
       "      <td>0.000000</td>\n",
       "      <td>0</td>\n",
       "      <td>0</td>\n",
       "      <td>상행본선</td>\n",
       "      <td>1.769170</td>\n",
       "    </tr>\n",
       "    <tr>\n",
       "      <th>1</th>\n",
       "      <td>1</td>\n",
       "      <td>788</td>\n",
       "      <td>793</td>\n",
       "      <td>793</td>\n",
       "      <td>13</td>\n",
       "      <td>1014</td>\n",
       "      <td>194</td>\n",
       "      <td>46833800</td>\n",
       "      <td>54.673599</td>\n",
       "      <td>8.501163</td>\n",
       "      <td>...</td>\n",
       "      <td>1.196332</td>\n",
       "      <td>U3</td>\n",
       "      <td>11</td>\n",
       "      <td>15</td>\n",
       "      <td>46.968151</td>\n",
       "      <td>2.225389</td>\n",
       "      <td>0</td>\n",
       "      <td>0</td>\n",
       "      <td>상행본선</td>\n",
       "      <td>2.110559</td>\n",
       "    </tr>\n",
       "    <tr>\n",
       "      <th>2</th>\n",
       "      <td>2</td>\n",
       "      <td>789</td>\n",
       "      <td>794</td>\n",
       "      <td>794</td>\n",
       "      <td>14</td>\n",
       "      <td>1014</td>\n",
       "      <td>189</td>\n",
       "      <td>46833800</td>\n",
       "      <td>14.441741</td>\n",
       "      <td>13.449301</td>\n",
       "      <td>...</td>\n",
       "      <td>-0.840738</td>\n",
       "      <td>U1</td>\n",
       "      <td>0</td>\n",
       "      <td>0</td>\n",
       "      <td>0.000000</td>\n",
       "      <td>0.000000</td>\n",
       "      <td>0</td>\n",
       "      <td>0</td>\n",
       "      <td>상행본선</td>\n",
       "      <td>2.670264</td>\n",
       "    </tr>\n",
       "  </tbody>\n",
       "</table>\n",
       "<p>3 rows × 24 columns</p>\n",
       "</div>"
      ],
      "text/plain": [
       "   Unnamed: 0  Unnamed: 0.1  Unnamed: 0.1.1  Unnamed: 0.1.1.1  Vehicle ID  \\\n",
       "0           0           787             792               792          11   \n",
       "1           1           788             793               793          13   \n",
       "2           2           789             794               794          14   \n",
       "\n",
       "   Frame ID  Total Frames  Global Time (Epoch Time)  Local X (m)  Local Y(m)  \\\n",
       "0      1014           289                  46833800     7.801332    7.880461   \n",
       "1      1014           194                  46833800    54.673599    8.501163   \n",
       "2      1014           189                  46833800    14.441741   13.449301   \n",
       "\n",
       "   ...  Vehicle Acceleration  Lane Identification  Preceding Vehicle  \\\n",
       "0  ...              0.030009                   U3                  0   \n",
       "1  ...              1.196332                   U3                 11   \n",
       "2  ...             -0.840738                   U1                  0   \n",
       "\n",
       "   Following Vehicle  Spacing Headway Time Headway  Bad Object  Special Car  \\\n",
       "0                 13         0.000000     0.000000           0            0   \n",
       "1                 15        46.968151     2.225389           0            0   \n",
       "2                  0         0.000000     0.000000           0            0   \n",
       "\n",
       "   Lane Class  Vehicle Movement  \n",
       "0        상행본선          1.769170  \n",
       "1        상행본선          2.110559  \n",
       "2        상행본선          2.670264  \n",
       "\n",
       "[3 rows x 24 columns]"
      ]
     },
     "execution_count": 10,
     "metadata": {},
     "output_type": "execute_result"
    }
   ],
   "source": [
    "df_list[0].head(3)"
   ]
  },
  {
   "cell_type": "markdown",
   "metadata": {},
   "source": [
    "### Load tmsec info\n",
    "* 총 관측시간 데이터 로드"
   ]
  },
  {
   "cell_type": "code",
   "execution_count": 20,
   "metadata": {
    "execution": {
     "iopub.execute_input": "2022-01-17T07:11:04.629540Z",
     "iopub.status.busy": "2022-01-17T07:11:04.629540Z",
     "iopub.status.idle": "2022-01-17T07:11:04.642508Z",
     "shell.execute_reply": "2022-01-17T07:11:04.641509Z",
     "shell.execute_reply.started": "2022-01-17T07:11:04.629540Z"
    },
    "tags": []
   },
   "outputs": [],
   "source": [
    "tmsec_info = pd.read_csv('LOS_tmsec.csv') # 대상지별, LOS별 동영상 지속시간(tmsec) 정보 불러오기"
   ]
  },
  {
   "cell_type": "code",
   "execution_count": 21,
   "metadata": {
    "execution": {
     "iopub.execute_input": "2022-01-17T07:11:05.227871Z",
     "iopub.status.busy": "2022-01-17T07:11:05.227871Z",
     "iopub.status.idle": "2022-01-17T07:11:05.236233Z",
     "shell.execute_reply": "2022-01-17T07:11:05.235822Z",
     "shell.execute_reply.started": "2022-01-17T07:11:05.227871Z"
    },
    "tags": []
   },
   "outputs": [
    {
     "data": {
      "text/html": [
       "<div>\n",
       "<style scoped>\n",
       "    .dataframe tbody tr th:only-of-type {\n",
       "        vertical-align: middle;\n",
       "    }\n",
       "\n",
       "    .dataframe tbody tr th {\n",
       "        vertical-align: top;\n",
       "    }\n",
       "\n",
       "    .dataframe thead th {\n",
       "        text-align: right;\n",
       "    }\n",
       "</style>\n",
       "<table border=\"1\" class=\"dataframe\">\n",
       "  <thead>\n",
       "    <tr style=\"text-align: right;\">\n",
       "      <th></th>\n",
       "      <th>Unnamed: 0</th>\n",
       "      <th>num</th>\n",
       "      <th>LOS</th>\n",
       "      <th>tmsec</th>\n",
       "    </tr>\n",
       "  </thead>\n",
       "  <tbody>\n",
       "    <tr>\n",
       "      <th>0</th>\n",
       "      <td>0</td>\n",
       "      <td>01_1</td>\n",
       "      <td>A</td>\n",
       "      <td>246.9</td>\n",
       "    </tr>\n",
       "    <tr>\n",
       "      <th>1</th>\n",
       "      <td>1</td>\n",
       "      <td>01_1</td>\n",
       "      <td>B</td>\n",
       "      <td>103.8</td>\n",
       "    </tr>\n",
       "    <tr>\n",
       "      <th>2</th>\n",
       "      <td>2</td>\n",
       "      <td>01_1</td>\n",
       "      <td>C</td>\n",
       "      <td>24.9</td>\n",
       "    </tr>\n",
       "    <tr>\n",
       "      <th>3</th>\n",
       "      <td>3</td>\n",
       "      <td>02_1</td>\n",
       "      <td>A</td>\n",
       "      <td>245.5</td>\n",
       "    </tr>\n",
       "    <tr>\n",
       "      <th>4</th>\n",
       "      <td>4</td>\n",
       "      <td>02_1</td>\n",
       "      <td>B</td>\n",
       "      <td>112.3</td>\n",
       "    </tr>\n",
       "  </tbody>\n",
       "</table>\n",
       "</div>"
      ],
      "text/plain": [
       "   Unnamed: 0   num LOS  tmsec\n",
       "0           0  01_1   A  246.9\n",
       "1           1  01_1   B  103.8\n",
       "2           2  01_1   C   24.9\n",
       "3           3  02_1   A  245.5\n",
       "4           4  02_1   B  112.3"
      ]
     },
     "execution_count": 21,
     "metadata": {},
     "output_type": "execute_result"
    }
   ],
   "source": [
    "tmsec_info.head()"
   ]
  },
  {
   "cell_type": "markdown",
   "metadata": {},
   "source": [
    "## 평균 속도 정보\n",
    "1. 차량(Vehicle ID)별 누적 이동거리(%) 구하기\n",
    "2. 전체 길이를 일정 간격의 구간으로 나누기\n",
    "3. 차선별, 일정 구간별(누적길이%) 속도 히트맵 그리기"
   ]
  },
  {
   "cell_type": "markdown",
   "metadata": {},
   "source": [
    "### 교통류율, 전체 공간평균속도(SMS)\n",
    "* 차선별 총 교통량\n",
    "| lane | flowrate | SMS |\n",
    "|------|--------|-----|\n",
    "| U1   | 200    | 80  |\n",
    "| U2   | 300    | 90  |\n",
    "| U3   | 100    | 80  |"
   ]
  },
  {
   "cell_type": "markdown",
   "metadata": {},
   "source": [
    "### 필요 함수 정의\n",
    "* 공간평균속도는 조화평균(harmonic_mean)을 사용해 구함\n",
    "* 조화평균함수는 `statistics.harmonic_mean()`을 이용할 수 있음"
   ]
  },
  {
   "cell_type": "code",
   "execution_count": 11,
   "metadata": {
    "execution": {
     "iopub.execute_input": "2022-01-17T06:56:13.197026Z",
     "iopub.status.busy": "2022-01-17T06:56:13.197026Z",
     "iopub.status.idle": "2022-01-17T06:56:13.215966Z",
     "shell.execute_reply": "2022-01-17T06:56:13.214951Z",
     "shell.execute_reply.started": "2022-01-17T06:56:13.197026Z"
    },
    "tags": []
   },
   "outputs": [],
   "source": [
    "# 조화평균 함수\n",
    "harmonic = lambda x: statistics.harmonic_mean(list(x))\n",
    "harmonic .__name__ = 'harmonic'"
   ]
  },
  {
   "cell_type": "code",
   "execution_count": 12,
   "metadata": {
    "execution": {
     "iopub.execute_input": "2022-01-17T07:02:33.455729Z",
     "iopub.status.busy": "2022-01-17T07:02:33.455729Z",
     "iopub.status.idle": "2022-01-17T07:02:33.469678Z",
     "shell.execute_reply": "2022-01-17T07:02:33.468390Z",
     "shell.execute_reply.started": "2022-01-17T07:02:33.455729Z"
    },
    "tags": []
   },
   "outputs": [],
   "source": [
    "# 고유값 개수 산정 함수(유니크)\n",
    "unq = lambda x: len(x.unique())\n",
    "unq .__name__ = 'unq'"
   ]
  },
  {
   "cell_type": "code",
   "execution_count": 45,
   "metadata": {
    "execution": {
     "iopub.execute_input": "2022-01-17T07:18:24.888255Z",
     "iopub.status.busy": "2022-01-17T07:18:24.888255Z",
     "iopub.status.idle": "2022-01-17T07:18:24.899197Z",
     "shell.execute_reply": "2022-01-17T07:18:24.898228Z",
     "shell.execute_reply.started": "2022-01-17T07:18:24.888255Z"
    },
    "tags": []
   },
   "outputs": [],
   "source": [
    "def LOS_expwy_basic(x:int):\n",
    "    \"\"\"밀도를 바탕으로 LOS를 판정해 주는 함수 :: 고속도로 기본구간 기준\"\"\"\n",
    "    \n",
    "    if x >= 0 and x <= 6:\n",
    "        return 'A'\n",
    "    elif x > 6 and x <= 10:\n",
    "        return 'B'\n",
    "    elif x > 10 and x <= 14:\n",
    "        return 'C'\n",
    "    elif x > 14 and x <= 19:\n",
    "        return 'D'\n",
    "    elif x > 19 and x <= 28:\n",
    "        return 'E'\n",
    "    elif x > 28:\n",
    "        return 'F'\n",
    "    \n",
    "    else:\n",
    "        pass"
   ]
  },
  {
   "cell_type": "markdown",
   "metadata": {},
   "source": [
    "### 전체 차량대수, 공간평균속도, 교통류율 산정 후 저장\n",
    "* 각 대상지별/LOS별 전체 차량대수, 공간평균속도(SMS), 교통류율 구하여 저장하기\n",
    "* `harmonic` 함수 사용 : `harmonic(target1_1_A['Vehicle Velocity(km/h)'])` <- 이런 식으로 쓸 수 있다"
   ]
  },
  {
   "cell_type": "code",
   "execution_count": 16,
   "metadata": {
    "execution": {
     "iopub.execute_input": "2022-01-17T07:04:23.135958Z",
     "iopub.status.busy": "2022-01-17T07:04:23.135958Z",
     "iopub.status.idle": "2022-01-17T07:04:23.151581Z",
     "shell.execute_reply": "2022-01-17T07:04:23.151581Z",
     "shell.execute_reply.started": "2022-01-17T07:04:23.135958Z"
    },
    "tags": []
   },
   "outputs": [
    {
     "data": {
      "text/plain": [
       "Index(['Unnamed: 0', 'Unnamed: 0.1', 'Unnamed: 0.1.1', 'Unnamed: 0.1.1.1',\n",
       "       'Vehicle ID', 'Frame ID', 'Total Frames', 'Global Time (Epoch Time)',\n",
       "       'Local X (m)', 'Local Y(m)', 'Vehicle Length', 'Vehicle Width',\n",
       "       'Vehicle Class', 'Vehicle Velocity(km/h)', 'Vehicle Acceleration',\n",
       "       'Lane Identification', 'Preceding Vehicle', 'Following Vehicle',\n",
       "       'Spacing Headway', 'Time Headway', 'Bad Object', 'Special Car',\n",
       "       'Lane Class', 'Vehicle Movement'],\n",
       "      dtype='object')"
      ]
     },
     "execution_count": 16,
     "metadata": {},
     "output_type": "execute_result"
    }
   ],
   "source": [
    "df_list[0].columns"
   ]
  },
  {
   "cell_type": "code",
   "execution_count": 18,
   "metadata": {
    "execution": {
     "iopub.execute_input": "2022-01-17T07:10:53.935825Z",
     "iopub.status.busy": "2022-01-17T07:10:53.935825Z",
     "iopub.status.idle": "2022-01-17T07:10:53.951468Z",
     "shell.execute_reply": "2022-01-17T07:10:53.951468Z",
     "shell.execute_reply.started": "2022-01-17T07:10:53.935825Z"
    },
    "tags": []
   },
   "outputs": [],
   "source": [
    "save_TTL_dir = '02-0_total_volume_speed'\n",
    "\n",
    "os.makedirs(save_TTL_dir, exist_ok = True) # 해당 경로가 없을 시 폴더 생성, 존재할 경우 건너뛰기"
   ]
  },
  {
   "cell_type": "code",
   "execution_count": 48,
   "metadata": {
    "execution": {
     "iopub.execute_input": "2022-01-17T07:23:25.639711Z",
     "iopub.status.busy": "2022-01-17T07:23:25.639711Z",
     "iopub.status.idle": "2022-01-17T07:23:27.236464Z",
     "shell.execute_reply": "2022-01-17T07:23:27.236464Z",
     "shell.execute_reply.started": "2022-01-17T07:23:25.639711Z"
    },
    "tags": []
   },
   "outputs": [
    {
     "name": "stderr",
     "output_type": "stream",
     "text": [
      "44it [00:01, 27.92it/s]\n"
     ]
    }
   ],
   "source": [
    "for df, num_LOS in tqdm(zip(df_list, num_LOS_list)):\n",
    "    \n",
    "    if len(df) > 0:\n",
    "    \n",
    "        total_veh = len(df['Vehicle ID'].unique()) # 총 차량대수\n",
    "        total_SMS = harmonic(df['Vehicle Velocity(km/h)']) #차량의 공간평균속도(SMS)\n",
    "    \n",
    "        tmsec = tmsec_info[(tmsec_info['num'] == num_LOS[0:4]) & (tmsec_info['LOS'] == num_LOS[-1])]['tmsec'].iloc[0] # 해당 대상지, 해당 LOS 총관측시간 추출\n",
    "    \n",
    "        # 프레임 당 차량밀도의 전체평균 구하기\n",
    "        total_pv = pd.pivot_table(df, index = 'Frame ID', values = 'Vehicle ID', aggfunc = {'Vehicle ID': unq}).reset_index()\n",
    "        veh_by_frame = total_pv['Vehicle ID'].mean() #전체 프레임에 대한 평균이므로 mean을 사용한 것임\n",
    "\n",
    "        # 전체 평균 교통류율(flowrate, vph) 구하기\n",
    "        total_flowrate = total_veh/tmsec * 3600 # tmsec은 초 단위이므로, 시(h, 3600s) 단위로 변경해야 하기 때문임\n",
    "    \n",
    "        total_df = pd.DataFrame(data = {'Total Vehicle Count(veh)': [total_veh],\n",
    "                                        'Average SMS(km/h)': [total_SMS],\n",
    "                                        'Average Flowrate(vph)': [total_flowrate],\n",
    "                                        'Average Vehicle by Frame(veh/frameID)':[veh_by_frame],\n",
    "                                        'Average LOS' : num_LOS[-1],\n",
    "                                        'Total Observation Time(s)': [tmsec]})\n",
    "    \n",
    "        save_TTL_file = f'total_volume_SMS_{num_LOS}.csv'\n",
    "        save_TTL_path = os.path.join(save_TTL_dir, save_TTL_file)\n",
    "    \n",
    "        total_df.to_csv(save_TTL_path, encoding = 'cp949')\n",
    "    \n",
    "    else:\n",
    "        pass"
   ]
  },
  {
   "cell_type": "markdown",
   "metadata": {},
   "source": [
    "## 차선별 속도 정보"
   ]
  },
  {
   "cell_type": "markdown",
   "metadata": {},
   "source": [
    "### 차선변경 여부 표시 파생변수 생성 및 저장"
   ]
  },
  {
   "cell_type": "code",
   "execution_count": 58,
   "metadata": {
    "execution": {
     "iopub.execute_input": "2022-01-17T07:54:31.247333Z",
     "iopub.status.busy": "2022-01-17T07:54:31.247333Z",
     "iopub.status.idle": "2022-01-17T07:54:31.263020Z",
     "shell.execute_reply": "2022-01-17T07:54:31.263020Z",
     "shell.execute_reply.started": "2022-01-17T07:54:31.247333Z"
    },
    "tags": []
   },
   "outputs": [
    {
     "data": {
      "text/plain": [
       "Index(['Unnamed: 0', 'Unnamed: 0.1', 'Unnamed: 0.1.1', 'Unnamed: 0.1.1.1',\n",
       "       'Vehicle ID', 'Frame ID', 'Total Frames', 'Global Time (Epoch Time)',\n",
       "       'Local X (m)', 'Local Y(m)', 'Vehicle Length', 'Vehicle Width',\n",
       "       'Vehicle Class', 'Vehicle Velocity(km/h)', 'Vehicle Acceleration',\n",
       "       'Lane Identification', 'Preceding Vehicle', 'Following Vehicle',\n",
       "       'Spacing Headway', 'Time Headway', 'Bad Object', 'Special Car',\n",
       "       'Lane Class', 'Vehicle Movement', 'Lane_record', 'Lane_00',\n",
       "       'Lane_change'],\n",
       "      dtype='object')"
      ]
     },
     "execution_count": 58,
     "metadata": {},
     "output_type": "execute_result"
    }
   ],
   "source": [
    "df.columns"
   ]
  },
  {
   "cell_type": "code",
   "execution_count": 82,
   "metadata": {
    "execution": {
     "iopub.execute_input": "2022-01-17T08:05:43.144442Z",
     "iopub.status.busy": "2022-01-17T08:05:43.144442Z",
     "iopub.status.idle": "2022-01-17T08:05:43.151385Z",
     "shell.execute_reply": "2022-01-17T08:05:43.150415Z",
     "shell.execute_reply.started": "2022-01-17T08:05:43.144442Z"
    },
    "tags": []
   },
   "outputs": [],
   "source": [
    "save_Lanechange_dir = '01_density_by_target_LOS_concated_lanechange'\n",
    "\n",
    "os.makedirs(save_Lanechange_dir, exist_ok = True) # 해당 경로가 없을 시 폴더 생성, 존재할 경우 건너뛰기"
   ]
  },
  {
   "cell_type": "code",
   "execution_count": 105,
   "metadata": {
    "execution": {
     "iopub.execute_input": "2022-01-17T08:38:11.338029Z",
     "iopub.status.busy": "2022-01-17T08:38:11.338029Z",
     "iopub.status.idle": "2022-01-17T08:43:48.539729Z",
     "shell.execute_reply": "2022-01-17T08:43:48.539729Z",
     "shell.execute_reply.started": "2022-01-17T08:38:11.338029Z"
    },
    "tags": []
   },
   "outputs": [
    {
     "name": "stderr",
     "output_type": "stream",
     "text": [
      "44it [05:37,  7.66s/it]\n"
     ]
    }
   ],
   "source": [
    "warnings.filterwarnings(action = 'ignore') # pandas 경고메시지 숨기기\n",
    "\n",
    "for df, num_LOS in tqdm(zip(df_list, num_LOS_list)):\n",
    "\n",
    "    df['Lane_record'] = None # 차량의 차로변경기록\n",
    "    df['Lane_00'] = None # 차량의 첫 차로\n",
    "    df['Lane_99'] = None # 차량의 마지막 차로\n",
    "    df['Lane_change'] = None # 차량이 차로변경을 했을 시 'Change' 기록\n",
    "    \n",
    "    if len(df) > 0:\n",
    "\n",
    "        veh_list = df['Vehicle ID'].unique() # 차량 리스트 뽑기\n",
    "    \n",
    "        df = df.sort_values(by = 'Frame ID') # 데이터프레임을 Frame ID에 따라서 오름차순 정렬\n",
    "    \n",
    "        for veh in veh_list: # 각 차량별로\n",
    "            Lane_00 = df[df['Vehicle ID'] == veh]['Lane Identification'].iloc[0] # 차량이 처음 진행하던 차로\n",
    "            Lane_99 = df[df['Vehicle ID'] == veh]['Lane Identification'].iloc[-1] # 차량이 마지막 진행하던 차로\n",
    "        \n",
    "            veh_frame_list = df[df['Vehicle ID'] == veh]['Frame ID'].unique() # 해당 차량이 주행하는 동안의 프레임 리스트\n",
    "        \n",
    "            Lane_past = Lane_00 # Lane_past(각 차량 현재차로)를 초기화\n",
    "            Lane_record = Lane_00 # 차로변경기록 초기화\n",
    "            Lane_present = Lane_00 # 현재차로 초기화\n",
    "        \n",
    "            for frm in veh_frame_list : # 각 차량의 각 프레임별로\n",
    "            \n",
    "                Lane_past = Lane_present # iteration 돌기 전의 현재차로가 과거차로로 할당\n",
    "            \n",
    "                Lane_present = df[(df['Vehicle ID'] == veh) & (df['Frame ID'] == frm)]['Lane Identification'].iloc[0] # 현재 차량이 속한 차로를 할당\n",
    "            \n",
    "                if Lane_past == Lane_present: # 현재차로와 직전차로가 같으면 아무 문제 없음\n",
    "                    pass\n",
    "            \n",
    "                else: # 현재차로와 직전 차로가 다를 시\n",
    "                    idx = df[(df['Vehicle ID'] == veh) & (df['Frame ID'] == frm)]['Lane_change'].index[0] # 차로변경된 행의 인덱스\n",
    "                    df.at[idx, 'Lane_change'] = 'Change' # 차로변경되자마자 셀에 'Change' 표시\n",
    "                    Lane_record = str(Lane_record) + '_' + str(Lane_present)\n",
    "               \n",
    "            df.loc[df['Vehicle ID'] == veh, 'Lane_00'] = Lane_00 # 차량별 초기 차로번호\n",
    "            df.loc[df['Vehicle ID'] == veh, 'Lane_99'] = Lane_99 # 차량별 마지막 차로번호\n",
    "            df.loc[df['Vehicle ID'] == veh, 'Lane_record'] = Lane_record # 차량별 차로변경 기록 입력\n",
    "            \n",
    "            save_Lanechange_name = num_LOS + '.csv'\n",
    "            save_Lanechange_path = os.path.join(save_Lanechange_dir, save_Lanechange_name)\n",
    "            \n",
    "            df.to_csv(save_Lanechange_path, encoding = 'cp949')\n",
    "            \n",
    "    else:\n",
    "        pass\n",
    "    \n",
    "#warnings.filterwarnings(action = 'default') # pandas 경고메시지 다시 보이기"
   ]
  },
  {
   "cell_type": "markdown",
   "metadata": {},
   "source": [
    "### 궤적 데이터 재로드"
   ]
  },
  {
   "cell_type": "code",
   "execution_count": 123,
   "metadata": {
    "execution": {
     "iopub.execute_input": "2022-01-17T08:57:41.973299Z",
     "iopub.status.busy": "2022-01-17T08:57:41.973299Z",
     "iopub.status.idle": "2022-01-17T08:57:41.977274Z",
     "shell.execute_reply": "2022-01-17T08:57:41.977274Z",
     "shell.execute_reply.started": "2022-01-17T08:57:41.973299Z"
    }
   },
   "outputs": [],
   "source": [
    "file_dir = '01_density_by_target_LOS_concated_lanechange'"
   ]
  },
  {
   "cell_type": "code",
   "execution_count": 125,
   "metadata": {
    "execution": {
     "iopub.execute_input": "2022-01-17T08:57:55.777554Z",
     "iopub.status.busy": "2022-01-17T08:57:55.777554Z",
     "iopub.status.idle": "2022-01-17T08:57:55.797501Z",
     "shell.execute_reply": "2022-01-17T08:57:55.796503Z",
     "shell.execute_reply.started": "2022-01-17T08:57:55.777554Z"
    },
    "tags": []
   },
   "outputs": [
    {
     "data": {
      "text/plain": [
       "['01_1_A.csv', '01_1_B.csv', '01_1_C.csv']"
      ]
     },
     "execution_count": 125,
     "metadata": {},
     "output_type": "execute_result"
    }
   ],
   "source": [
    "file_list = os.listdir(file_dir)\n",
    "file_list[0:3]"
   ]
  },
  {
   "cell_type": "code",
   "execution_count": 126,
   "metadata": {
    "execution": {
     "iopub.execute_input": "2022-01-17T08:59:03.443561Z",
     "iopub.status.busy": "2022-01-17T08:59:03.443561Z",
     "iopub.status.idle": "2022-01-17T08:59:04.108537Z",
     "shell.execute_reply": "2022-01-17T08:59:04.108537Z",
     "shell.execute_reply.started": "2022-01-17T08:59:03.443561Z"
    },
    "tags": []
   },
   "outputs": [],
   "source": [
    "df_list = []\n",
    "num_LOS_list = []\n",
    "\n",
    "for file in file_list:\n",
    "    num_LOS = file[0:6]\n",
    "    \n",
    "    file_path = os.path.join(file_dir, file)\n",
    "    \n",
    "    globals()[f'target{num_LOS}'] = pd.read_csv(file_path, encoding = 'cp949')\n",
    "    \n",
    "    df_list.append(globals()[f'target{num_LOS}'])\n",
    "    num_LOS_list.append(num_LOS)"
   ]
  },
  {
   "cell_type": "code",
   "execution_count": 128,
   "metadata": {
    "execution": {
     "iopub.execute_input": "2022-01-17T08:59:09.753883Z",
     "iopub.status.busy": "2022-01-17T08:59:09.753883Z",
     "iopub.status.idle": "2022-01-17T08:59:09.781811Z",
     "shell.execute_reply": "2022-01-17T08:59:09.780846Z",
     "shell.execute_reply.started": "2022-01-17T08:59:09.753883Z"
    },
    "tags": []
   },
   "outputs": [
    {
     "data": {
      "text/html": [
       "<div>\n",
       "<style scoped>\n",
       "    .dataframe tbody tr th:only-of-type {\n",
       "        vertical-align: middle;\n",
       "    }\n",
       "\n",
       "    .dataframe tbody tr th {\n",
       "        vertical-align: top;\n",
       "    }\n",
       "\n",
       "    .dataframe thead th {\n",
       "        text-align: right;\n",
       "    }\n",
       "</style>\n",
       "<table border=\"1\" class=\"dataframe\">\n",
       "  <thead>\n",
       "    <tr style=\"text-align: right;\">\n",
       "      <th></th>\n",
       "      <th>Unnamed: 0</th>\n",
       "      <th>Unnamed: 0.1</th>\n",
       "      <th>Unnamed: 0.1.1</th>\n",
       "      <th>Unnamed: 0.1.1.1</th>\n",
       "      <th>Unnamed: 0.1.1.1.1</th>\n",
       "      <th>Vehicle ID</th>\n",
       "      <th>Frame ID</th>\n",
       "      <th>Total Frames</th>\n",
       "      <th>Global Time (Epoch Time)</th>\n",
       "      <th>Local X (m)</th>\n",
       "      <th>...</th>\n",
       "      <th>Spacing Headway</th>\n",
       "      <th>Time Headway</th>\n",
       "      <th>Bad Object</th>\n",
       "      <th>Special Car</th>\n",
       "      <th>Lane Class</th>\n",
       "      <th>Vehicle Movement</th>\n",
       "      <th>Lane_record</th>\n",
       "      <th>Lane_00</th>\n",
       "      <th>Lane_change</th>\n",
       "      <th>Lane_99</th>\n",
       "    </tr>\n",
       "  </thead>\n",
       "  <tbody>\n",
       "    <tr>\n",
       "      <th>0</th>\n",
       "      <td>0</td>\n",
       "      <td>0</td>\n",
       "      <td>787</td>\n",
       "      <td>792</td>\n",
       "      <td>792</td>\n",
       "      <td>11</td>\n",
       "      <td>1014</td>\n",
       "      <td>289</td>\n",
       "      <td>46833800</td>\n",
       "      <td>7.801332</td>\n",
       "      <td>...</td>\n",
       "      <td>0.000000</td>\n",
       "      <td>0.000000</td>\n",
       "      <td>0</td>\n",
       "      <td>0</td>\n",
       "      <td>상행본선</td>\n",
       "      <td>1.769170</td>\n",
       "      <td>U3</td>\n",
       "      <td>U3</td>\n",
       "      <td>NaN</td>\n",
       "      <td>U3</td>\n",
       "    </tr>\n",
       "    <tr>\n",
       "      <th>1</th>\n",
       "      <td>1</td>\n",
       "      <td>1</td>\n",
       "      <td>788</td>\n",
       "      <td>793</td>\n",
       "      <td>793</td>\n",
       "      <td>13</td>\n",
       "      <td>1014</td>\n",
       "      <td>194</td>\n",
       "      <td>46833800</td>\n",
       "      <td>54.673599</td>\n",
       "      <td>...</td>\n",
       "      <td>46.968151</td>\n",
       "      <td>2.225389</td>\n",
       "      <td>0</td>\n",
       "      <td>0</td>\n",
       "      <td>상행본선</td>\n",
       "      <td>2.110559</td>\n",
       "      <td>U3</td>\n",
       "      <td>U3</td>\n",
       "      <td>NaN</td>\n",
       "      <td>U3</td>\n",
       "    </tr>\n",
       "    <tr>\n",
       "      <th>2</th>\n",
       "      <td>2</td>\n",
       "      <td>2</td>\n",
       "      <td>789</td>\n",
       "      <td>794</td>\n",
       "      <td>794</td>\n",
       "      <td>14</td>\n",
       "      <td>1014</td>\n",
       "      <td>189</td>\n",
       "      <td>46833800</td>\n",
       "      <td>14.441741</td>\n",
       "      <td>...</td>\n",
       "      <td>0.000000</td>\n",
       "      <td>0.000000</td>\n",
       "      <td>0</td>\n",
       "      <td>0</td>\n",
       "      <td>상행본선</td>\n",
       "      <td>2.670264</td>\n",
       "      <td>U1</td>\n",
       "      <td>U1</td>\n",
       "      <td>NaN</td>\n",
       "      <td>U1</td>\n",
       "    </tr>\n",
       "  </tbody>\n",
       "</table>\n",
       "<p>3 rows × 29 columns</p>\n",
       "</div>"
      ],
      "text/plain": [
       "   Unnamed: 0  Unnamed: 0.1  Unnamed: 0.1.1  Unnamed: 0.1.1.1  \\\n",
       "0           0             0             787               792   \n",
       "1           1             1             788               793   \n",
       "2           2             2             789               794   \n",
       "\n",
       "   Unnamed: 0.1.1.1.1  Vehicle ID  Frame ID  Total Frames  \\\n",
       "0                 792          11      1014           289   \n",
       "1                 793          13      1014           194   \n",
       "2                 794          14      1014           189   \n",
       "\n",
       "   Global Time (Epoch Time)  Local X (m)  ...  Spacing Headway  Time Headway  \\\n",
       "0                  46833800     7.801332  ...         0.000000      0.000000   \n",
       "1                  46833800    54.673599  ...        46.968151      2.225389   \n",
       "2                  46833800    14.441741  ...         0.000000      0.000000   \n",
       "\n",
       "   Bad Object  Special Car  Lane Class  Vehicle Movement Lane_record  Lane_00  \\\n",
       "0           0            0        상행본선          1.769170          U3       U3   \n",
       "1           0            0        상행본선          2.110559          U3       U3   \n",
       "2           0            0        상행본선          2.670264          U1       U1   \n",
       "\n",
       "   Lane_change  Lane_99  \n",
       "0          NaN       U3  \n",
       "1          NaN       U3  \n",
       "2          NaN       U1  \n",
       "\n",
       "[3 rows x 29 columns]"
      ]
     },
     "execution_count": 128,
     "metadata": {},
     "output_type": "execute_result"
    }
   ],
   "source": [
    "target01_1_A.head(3)"
   ]
  },
  {
   "cell_type": "markdown",
   "metadata": {
    "execution": {
     "iopub.execute_input": "2021-08-11T09:59:18.188789Z",
     "iopub.status.busy": "2021-08-11T09:59:18.187792Z",
     "iopub.status.idle": "2021-08-11T09:59:18.201755Z",
     "shell.execute_reply": "2021-08-11T09:59:18.200798Z",
     "shell.execute_reply.started": "2021-08-11T09:59:18.188789Z"
    },
    "tags": []
   },
   "source": [
    "### 차선별 교통량, SMS 산정 후 저장\n",
    "* 차선별 교통량(차량대수)의 산정 기준\n",
    "    * 시점부 : 끝 지점\n",
    "    * 종점부1,2는 각 시작지점"
   ]
  },
  {
   "cell_type": "code",
   "execution_count": 100,
   "metadata": {
    "execution": {
     "iopub.execute_input": "2022-01-17T08:36:26.415386Z",
     "iopub.status.busy": "2022-01-17T08:36:26.414389Z",
     "iopub.status.idle": "2022-01-17T08:36:26.418376Z",
     "shell.execute_reply": "2022-01-17T08:36:26.418376Z",
     "shell.execute_reply.started": "2022-01-17T08:36:26.415386Z"
    },
    "tags": []
   },
   "outputs": [],
   "source": [
    "save_EachLaneVolume_dir = '02-1_Each_Lane_volume_speed'\n",
    "\n",
    "os.makedirs(save_EachLaneVolume_dir, exist_ok = True) # 해당 경로가 없을 시 폴더 생성, 존재할 경우 건너뛰기"
   ]
  },
  {
   "cell_type": "code",
   "execution_count": 132,
   "metadata": {
    "execution": {
     "iopub.execute_input": "2022-01-17T08:59:47.156582Z",
     "iopub.status.busy": "2022-01-17T08:59:47.156582Z",
     "iopub.status.idle": "2022-01-17T08:59:47.695312Z",
     "shell.execute_reply": "2022-01-17T08:59:47.694315Z",
     "shell.execute_reply.started": "2022-01-17T08:59:47.156582Z"
    },
    "tags": []
   },
   "outputs": [
    {
     "name": "stderr",
     "output_type": "stream",
     "text": [
      "40it [00:00, 77.21it/s]\n"
     ]
    }
   ],
   "source": [
    "for df, num_LOS in tqdm(zip(df_list, num_LOS_list)):\n",
    "    \n",
    "    tmsec = tmsec_info[(tmsec_info['num'] == num_LOS[0:4]) & (tmsec_info['LOS'] == num_LOS[-1])]['tmsec'].iloc[0]\n",
    "    \n",
    "    # 시점부, 종점부를 구분하기 : spot == 1이면 시점부, 종점부는 그 외로 간주\n",
    "    point = num_LOS[3]\n",
    "    \n",
    "    if point == 1 : # 시점부이면, 끝시점 차로(Lane_99) 기준 산정\n",
    "        pv_veh = pd.pivot_table(df,\n",
    "                                index = ['Lane_99'],\n",
    "                                values = ['Vehicle ID', 'Vehicle Velocity(km/h)'],\n",
    "                                aggfunc = {'Vehicle ID': unq, 'Vehicle Velocity(km/h)': harmonic})\n",
    "        \n",
    "    else : # 종점부이면, 첫차로(Lane_00) 기준 산정\n",
    "        pv_veh = pd.pivot_table(df, index = ['Lane_00'],\n",
    "                                values = ['Vehicle ID', 'Vehicle Velocity(km/h)'],\n",
    "                                aggfunc = {'Vehicle ID': unq, 'Vehicle Velocity(km/h)': harmonic})\n",
    "    \n",
    "    pv_veh.reset_index(inplace = True)\n",
    "        \n",
    "    pv_veh['Flow Rate(vph)'] = pv_veh['Vehicle ID'] * 3600/tmsec\n",
    "    \n",
    "    save_EachLaneVolume_file = f'EachLaneVolume{num_LOS}.csv'\n",
    "    save_EachLaneVolume_path = os.path.join(save_EachLaneVolume_dir, save_EachLaneVolume_file)\n",
    "    \n",
    "    pv_veh.to_csv(save_EachLaneVolume_path, encoding = 'cp949')"
   ]
  },
  {
   "cell_type": "markdown",
   "metadata": {},
   "source": [
    "### 차선변경 차량의 교통량 및 SMS 산정, 저장"
   ]
  },
  {
   "cell_type": "code",
   "execution_count": 137,
   "metadata": {
    "execution": {
     "iopub.execute_input": "2022-01-17T09:02:35.393406Z",
     "iopub.status.busy": "2022-01-17T09:02:35.393406Z",
     "iopub.status.idle": "2022-01-17T09:02:35.401384Z",
     "shell.execute_reply": "2022-01-17T09:02:35.401384Z",
     "shell.execute_reply.started": "2022-01-17T09:02:35.393406Z"
    },
    "tags": []
   },
   "outputs": [],
   "source": [
    "save_LaneChangeVolume_dir = '02-2_Lanechange_volume_speed'\n",
    "\n",
    "os.makedirs(save_LaneChangeVolume_dir, exist_ok = True) # 해당 경로가 없을 시 폴더 생성, 존재할 경우 건너뛰기"
   ]
  },
  {
   "cell_type": "code",
   "execution_count": 138,
   "metadata": {
    "execution": {
     "iopub.execute_input": "2022-01-17T09:02:35.918629Z",
     "iopub.status.busy": "2022-01-17T09:02:35.918629Z",
     "iopub.status.idle": "2022-01-17T09:02:36.457847Z",
     "shell.execute_reply": "2022-01-17T09:02:36.457847Z",
     "shell.execute_reply.started": "2022-01-17T09:02:35.918629Z"
    },
    "tags": []
   },
   "outputs": [
    {
     "name": "stderr",
     "output_type": "stream",
     "text": [
      "40it [00:00, 75.81it/s]\n"
     ]
    }
   ],
   "source": [
    "for df, num_LOS in tqdm(zip(df_list, num_LOS_list)):\n",
    "    \n",
    "    tmsec = tmsec_info[(tmsec_info['num'] == num_LOS[0:4]) & (tmsec_info['LOS'] == num_LOS[-1])]['tmsec'].iloc[0]\n",
    "    \n",
    "    pv_veh = pd.pivot_table(df, index = ['Lane_record'], values = ['Vehicle ID', 'Vehicle Velocity(km/h)'],\n",
    "                            aggfunc = {'Vehicle ID': unq, 'Vehicle Velocity(km/h)': harmonic})\n",
    "    pv_veh.reset_index(inplace = True)\n",
    "        \n",
    "    pv_veh['flow_rate(vph)'] = pv_veh['Vehicle ID'] * 3600/tmsec\n",
    "    \n",
    "    save_LaneChangeVolume_file = f'LaneChangeVolume{num_LOS}.csv'\n",
    "    save_LaneChangeVolume_path = os.path.join(save_LaneChangeVolume_dir, save_LaneChangeVolume_file)\n",
    "    \n",
    "    pv_veh.to_csv(save_LaneChangeVolume_path, encoding = 'cp949')"
   ]
  },
  {
   "cell_type": "markdown",
   "metadata": {},
   "source": [
    "## 과속(overspeed)\n",
    "> **과속** : 도로 제한속도보다 20km/h 초과 운행한 경우\n",
    "* 차량의 영상 내 구간 평균속도 산정\n",
    "    * index는 `Lane Identification, Vehicle ID`\n",
    "    * value는 `Vehicle Velocity(km/h)`\n",
    "    * 함수는 그냥 평균\n",
    "* 과속 여부 판정 파생변수 생성하기 : `overspeed`\n",
    "* `Lane Identification` 별로 pivot_table 하기 : `overspeed` 만 필터링하여 값의 수를 세기"
   ]
  },
  {
   "cell_type": "markdown",
   "metadata": {},
   "source": [
    "### 대상지 정보 로드"
   ]
  },
  {
   "cell_type": "code",
   "execution_count": 139,
   "metadata": {
    "execution": {
     "iopub.execute_input": "2022-01-17T09:03:59.583860Z",
     "iopub.status.busy": "2022-01-17T09:03:59.583860Z",
     "iopub.status.idle": "2022-01-17T09:03:59.586822Z",
     "shell.execute_reply": "2022-01-17T09:03:59.586822Z",
     "shell.execute_reply.started": "2022-01-17T09:03:59.583860Z"
    },
    "tags": []
   },
   "outputs": [],
   "source": [
    "target_info_dir = 'target_info.csv'"
   ]
  },
  {
   "cell_type": "code",
   "execution_count": 140,
   "metadata": {
    "execution": {
     "iopub.execute_input": "2022-01-17T09:04:00.102452Z",
     "iopub.status.busy": "2022-01-17T09:04:00.101424Z",
     "iopub.status.idle": "2022-01-17T09:04:00.116413Z",
     "shell.execute_reply": "2022-01-17T09:04:00.116413Z",
     "shell.execute_reply.started": "2022-01-17T09:04:00.102452Z"
    },
    "tags": []
   },
   "outputs": [],
   "source": [
    "target_info = pd.read_csv(target_info_dir, encoding = 'utf-8')"
   ]
  },
  {
   "cell_type": "code",
   "execution_count": 141,
   "metadata": {
    "execution": {
     "iopub.execute_input": "2022-01-17T09:04:00.624670Z",
     "iopub.status.busy": "2022-01-17T09:04:00.623679Z",
     "iopub.status.idle": "2022-01-17T09:04:00.637636Z",
     "shell.execute_reply": "2022-01-17T09:04:00.637636Z",
     "shell.execute_reply.started": "2022-01-17T09:04:00.624670Z"
    },
    "tags": []
   },
   "outputs": [
    {
     "data": {
      "text/html": [
       "<div>\n",
       "<style scoped>\n",
       "    .dataframe tbody tr th:only-of-type {\n",
       "        vertical-align: middle;\n",
       "    }\n",
       "\n",
       "    .dataframe tbody tr th {\n",
       "        vertical-align: top;\n",
       "    }\n",
       "\n",
       "    .dataframe thead th {\n",
       "        text-align: right;\n",
       "    }\n",
       "</style>\n",
       "<table border=\"1\" class=\"dataframe\">\n",
       "  <thead>\n",
       "    <tr style=\"text-align: right;\">\n",
       "      <th></th>\n",
       "      <th>place</th>\n",
       "      <th>length</th>\n",
       "      <th>speed_limit</th>\n",
       "      <th>lane_num</th>\n",
       "    </tr>\n",
       "  </thead>\n",
       "  <tbody>\n",
       "    <tr>\n",
       "      <th>0</th>\n",
       "      <td>01_1</td>\n",
       "      <td>200</td>\n",
       "      <td>100</td>\n",
       "      <td>3</td>\n",
       "    </tr>\n",
       "    <tr>\n",
       "      <th>1</th>\n",
       "      <td>02_1</td>\n",
       "      <td>200</td>\n",
       "      <td>100</td>\n",
       "      <td>3</td>\n",
       "    </tr>\n",
       "    <tr>\n",
       "      <th>2</th>\n",
       "      <td>02_2</td>\n",
       "      <td>200</td>\n",
       "      <td>100</td>\n",
       "      <td>3</td>\n",
       "    </tr>\n",
       "    <tr>\n",
       "      <th>3</th>\n",
       "      <td>03_1</td>\n",
       "      <td>200</td>\n",
       "      <td>80</td>\n",
       "      <td>3</td>\n",
       "    </tr>\n",
       "    <tr>\n",
       "      <th>4</th>\n",
       "      <td>04_1</td>\n",
       "      <td>200</td>\n",
       "      <td>80</td>\n",
       "      <td>3</td>\n",
       "    </tr>\n",
       "  </tbody>\n",
       "</table>\n",
       "</div>"
      ],
      "text/plain": [
       "  place  length  speed_limit  lane_num\n",
       "0  01_1     200          100         3\n",
       "1  02_1     200          100         3\n",
       "2  02_2     200          100         3\n",
       "3  03_1     200           80         3\n",
       "4  04_1     200           80         3"
      ]
     },
     "execution_count": 141,
     "metadata": {},
     "output_type": "execute_result"
    }
   ],
   "source": [
    "target_info.head()"
   ]
  },
  {
   "cell_type": "markdown",
   "metadata": {},
   "source": [
    "### 필요함수 정의 : overspeed\n",
    "* 도로 제한속도보다 20km/h 이상 초과운행 시 overspeed를 반환하는 함수"
   ]
  },
  {
   "cell_type": "code",
   "execution_count": 142,
   "metadata": {
    "execution": {
     "iopub.execute_input": "2022-01-17T09:07:18.523737Z",
     "iopub.status.busy": "2022-01-17T09:07:18.523737Z",
     "iopub.status.idle": "2022-01-17T09:07:18.527678Z",
     "shell.execute_reply": "2022-01-17T09:07:18.527678Z",
     "shell.execute_reply.started": "2022-01-17T09:07:18.523737Z"
    },
    "tags": []
   },
   "outputs": [],
   "source": [
    "def overspeed(velocity, limit):\n",
    "    \"\"\"도로 제한속도(limit)보다 20km/h 이상 초과 운행 시 overspeed 판정 함수\"\"\"\n",
    "    \n",
    "    if velocity - limit > 20:\n",
    "        return 'Overspeed'\n",
    "    else:\n",
    "        pass"
   ]
  },
  {
   "cell_type": "markdown",
   "metadata": {},
   "source": [
    "### 과속차량에 'over' 표시하기"
   ]
  },
  {
   "cell_type": "code",
   "execution_count": 148,
   "metadata": {
    "execution": {
     "iopub.execute_input": "2022-01-17T09:17:58.365997Z",
     "iopub.status.busy": "2022-01-17T09:17:58.365997Z",
     "iopub.status.idle": "2022-01-17T09:17:58.866216Z",
     "shell.execute_reply": "2022-01-17T09:17:58.866216Z",
     "shell.execute_reply.started": "2022-01-17T09:17:58.365997Z"
    },
    "tags": []
   },
   "outputs": [],
   "source": [
    "ovs_list = []\n",
    "\n",
    "for df, num_LOS in zip(df_list, num_LOS_list):\n",
    "    \n",
    "    df['place'] = num_LOS[0:4] # 01_1\n",
    "    \n",
    "    pvt = pd.pivot_table(df,\n",
    "                         index = ['place', 'Lane Identification', 'Vehicle ID'],\n",
    "                         values = ['Vehicle Velocity(km/h)', 'Vehicle Acceleration'],\n",
    "                         aggfunc = {'Vehicle Velocity(km/h)': 'mean', 'Vehicle Acceleration':'mean'})\n",
    "    pvt.reset_index(inplace = True)\n",
    "    \n",
    "    ovs = pd.merge(left = pvt, right = target_info, how = 'left', left_on = 'place', right_on = 'place')\n",
    "    \n",
    "    ovs['overspeed'] = ovs[['Vehicle Velocity(km/h)', 'speed_limit']].apply(lambda x: overspeed(*x), axis = 1)\n",
    "            \n",
    "    globals()[f'ovs{num_LOS}'] = ovs\n",
    "    ovs_list.append(ovs)"
   ]
  },
  {
   "cell_type": "code",
   "execution_count": 149,
   "metadata": {
    "execution": {
     "iopub.execute_input": "2022-01-17T09:18:07.266762Z",
     "iopub.status.busy": "2022-01-17T09:18:07.266762Z",
     "iopub.status.idle": "2022-01-17T09:18:07.283719Z",
     "shell.execute_reply": "2022-01-17T09:18:07.282720Z",
     "shell.execute_reply.started": "2022-01-17T09:18:07.266762Z"
    },
    "tags": []
   },
   "outputs": [
    {
     "data": {
      "text/html": [
       "<div>\n",
       "<style scoped>\n",
       "    .dataframe tbody tr th:only-of-type {\n",
       "        vertical-align: middle;\n",
       "    }\n",
       "\n",
       "    .dataframe tbody tr th {\n",
       "        vertical-align: top;\n",
       "    }\n",
       "\n",
       "    .dataframe thead th {\n",
       "        text-align: right;\n",
       "    }\n",
       "</style>\n",
       "<table border=\"1\" class=\"dataframe\">\n",
       "  <thead>\n",
       "    <tr style=\"text-align: right;\">\n",
       "      <th></th>\n",
       "      <th>place</th>\n",
       "      <th>Lane Identification</th>\n",
       "      <th>Vehicle ID</th>\n",
       "      <th>Vehicle Acceleration</th>\n",
       "      <th>Vehicle Velocity(km/h)</th>\n",
       "      <th>length</th>\n",
       "      <th>speed_limit</th>\n",
       "      <th>lane_num</th>\n",
       "      <th>overspeed</th>\n",
       "    </tr>\n",
       "  </thead>\n",
       "  <tbody>\n",
       "    <tr>\n",
       "      <th>0</th>\n",
       "      <td>01_1</td>\n",
       "      <td>U1</td>\n",
       "      <td>14</td>\n",
       "      <td>-1.217726</td>\n",
       "      <td>95.188744</td>\n",
       "      <td>200</td>\n",
       "      <td>100</td>\n",
       "      <td>3</td>\n",
       "      <td>None</td>\n",
       "    </tr>\n",
       "    <tr>\n",
       "      <th>1</th>\n",
       "      <td>01_1</td>\n",
       "      <td>U1</td>\n",
       "      <td>34</td>\n",
       "      <td>-0.068888</td>\n",
       "      <td>86.660332</td>\n",
       "      <td>200</td>\n",
       "      <td>100</td>\n",
       "      <td>3</td>\n",
       "      <td>None</td>\n",
       "    </tr>\n",
       "    <tr>\n",
       "      <th>2</th>\n",
       "      <td>01_1</td>\n",
       "      <td>U1</td>\n",
       "      <td>43</td>\n",
       "      <td>0.100245</td>\n",
       "      <td>92.287294</td>\n",
       "      <td>200</td>\n",
       "      <td>100</td>\n",
       "      <td>3</td>\n",
       "      <td>None</td>\n",
       "    </tr>\n",
       "  </tbody>\n",
       "</table>\n",
       "</div>"
      ],
      "text/plain": [
       "  place Lane Identification  Vehicle ID  Vehicle Acceleration  \\\n",
       "0  01_1                  U1          14             -1.217726   \n",
       "1  01_1                  U1          34             -0.068888   \n",
       "2  01_1                  U1          43              0.100245   \n",
       "\n",
       "   Vehicle Velocity(km/h)  length  speed_limit  lane_num overspeed  \n",
       "0               95.188744     200          100         3      None  \n",
       "1               86.660332     200          100         3      None  \n",
       "2               92.287294     200          100         3      None  "
      ]
     },
     "execution_count": 149,
     "metadata": {},
     "output_type": "execute_result"
    }
   ],
   "source": [
    "ovs_list[0].head(3)"
   ]
  },
  {
   "cell_type": "markdown",
   "metadata": {},
   "source": [
    "### 과속차량(over) 필터링 후 처리\n",
    "* 과속한 차량대수\n",
    "* 과속한 차량 대수를 교통류율로 환산\n",
    "* 과속한 차량끼리의 공간평균속도를 구하기"
   ]
  },
  {
   "cell_type": "code",
   "execution_count": 151,
   "metadata": {
    "execution": {
     "iopub.execute_input": "2022-01-17T09:19:59.018954Z",
     "iopub.status.busy": "2022-01-17T09:19:59.017958Z",
     "iopub.status.idle": "2022-01-17T09:19:59.028943Z",
     "shell.execute_reply": "2022-01-17T09:19:59.028943Z",
     "shell.execute_reply.started": "2022-01-17T09:19:59.018954Z"
    },
    "tags": []
   },
   "outputs": [],
   "source": [
    "save_overspeed_dir = '02-3_overspeed'\n",
    "\n",
    "os.makedirs(save_overspeed_dir, exist_ok = True) # 해당 경로가 없을 시 폴더 생성, 존재할 경우 건너뛰기"
   ]
  },
  {
   "cell_type": "code",
   "execution_count": 161,
   "metadata": {
    "execution": {
     "iopub.execute_input": "2022-01-17T09:23:02.915271Z",
     "iopub.status.busy": "2022-01-17T09:23:02.915271Z",
     "iopub.status.idle": "2022-01-17T09:23:03.124442Z",
     "shell.execute_reply": "2022-01-17T09:23:03.124442Z",
     "shell.execute_reply.started": "2022-01-17T09:23:02.915271Z"
    },
    "tags": []
   },
   "outputs": [
    {
     "name": "stdout",
     "output_type": "stream",
     "text": [
      "02_2_A 2\n",
      "02_2_B 1\n",
      "03_1_A 10\n",
      "03_1_B 27\n",
      "03_1_C 3\n",
      "03_1_D 3\n",
      "04_1_A 35\n",
      "04_1_B 28\n",
      "04_1_C 1\n",
      "04_2_A 1\n",
      "05_1_B 1\n",
      "05_1_C 1\n",
      "06_1_B 1\n",
      "07_1_B 1\n"
     ]
    }
   ],
   "source": [
    "for ovs, num_LOS in zip(ovs_list, num_LOS_list):\n",
    "    \n",
    "    ovs_only = ovs[ovs['overspeed'] == 'Overspeed']\n",
    "    \n",
    "    ovs_veh = pd.pivot_table(ovs_only, \n",
    "                             index = 'Lane Identification',\n",
    "                             values = ['Vehicle ID', 'Vehicle Velocity(km/h)'],\n",
    "                             aggfunc = {'Vehicle ID': unq, 'Vehicle Velocity(km/h)': harmonic})\n",
    "    \n",
    "    ovs_veh.reset_index(inplace = True)\n",
    "    \n",
    "    if len(ovs_veh) > 0:\n",
    "        print(num_LOS, len(ovs_only))\n",
    "        #ovs2_veh['flow_rate(vph)'] = ovs2_veh['Vehicle ID_x'] * 3600/tmsec\n",
    "        save_overspeed_file = f'overspeed{num_LOS}.csv'\n",
    "        save_overspeed_path = os.path.join(save_overspeed_dir, save_overspeed_file)\n",
    "        ovs_veh.to_csv(save_overspeed_path, encoding = 'cp949')\n",
    "        \n",
    "    else:\n",
    "        pass"
   ]
  },
  {
   "cell_type": "markdown",
   "metadata": {},
   "source": [
    "## 급감속(sudden_dec)\n",
    "* **급감속** : 초당 8km/h 이상 감속 운행하고 속도가 6.0km/h 이상인 경우\n",
    "    * 화물차의 것을 기준으로 한 정의임\n",
    "* 이것이야말로 '초'당 피벗 테이블이 필요함"
   ]
  },
  {
   "cell_type": "markdown",
   "metadata": {
    "execution": {
     "iopub.execute_input": "2021-08-13T13:54:04.866356Z",
     "iopub.status.busy": "2021-08-13T13:54:04.866356Z",
     "iopub.status.idle": "2021-08-13T13:54:04.881315Z",
     "shell.execute_reply": "2021-08-13T13:54:04.881315Z",
     "shell.execute_reply.started": "2021-08-13T13:54:04.866356Z"
    },
    "tags": []
   },
   "source": [
    "### time_group : 1초 단위로 묶은 파생변수 생성\n",
    "* 1초 단위 피벗을 하기 위함임"
   ]
  },
  {
   "cell_type": "code",
   "execution_count": 164,
   "metadata": {
    "execution": {
     "iopub.execute_input": "2022-01-17T09:33:11.066523Z",
     "iopub.status.busy": "2022-01-17T09:33:11.066523Z",
     "iopub.status.idle": "2022-01-17T09:33:11.084474Z",
     "shell.execute_reply": "2022-01-17T09:33:11.083478Z",
     "shell.execute_reply.started": "2022-01-17T09:33:11.066523Z"
    },
    "tags": []
   },
   "outputs": [],
   "source": [
    "frame_rate = 30"
   ]
  },
  {
   "cell_type": "code",
   "execution_count": 187,
   "metadata": {
    "execution": {
     "iopub.execute_input": "2022-01-17T10:24:25.938768Z",
     "iopub.status.busy": "2022-01-17T10:24:25.938768Z",
     "iopub.status.idle": "2022-01-17T10:24:27.232109Z",
     "shell.execute_reply": "2022-01-17T10:24:27.232109Z",
     "shell.execute_reply.started": "2022-01-17T10:24:25.938768Z"
    },
    "tags": []
   },
   "outputs": [
    {
     "name": "stderr",
     "output_type": "stream",
     "text": [
      "40it [00:01, 31.38it/s]\n"
     ]
    }
   ],
   "source": [
    "pivot_df_list = []\n",
    "\n",
    "for df, num_LOS in tqdm(zip(df_list, num_LOS_list)):\n",
    "    \n",
    "    df['timespot'] = round(df['Frame ID']/frame_rate) # frame_rate == 30\n",
    "    \n",
    "    vehicle_list = df['Vehicle ID'].unique()\n",
    "    \n",
    "    pivot_df = pd.pivot_table(df, \n",
    "                              index = ['Lane Identification', 'Vehicle ID', 'timespot'],\n",
    "                              values = ['Vehicle Velocity(km/h)' ,'Vehicle Acceleration'],\n",
    "                              aggfunc = {'Vehicle Velocity(km/h)': harmonic, 'Vehicle Acceleration' : 'mean'})\n",
    "    \n",
    "    pivot_df = pivot_df.reset_index()\n",
    "    \n",
    "    pivot_df_list.append(pivot_df)"
   ]
  },
  {
   "cell_type": "code",
   "execution_count": 188,
   "metadata": {
    "execution": {
     "iopub.execute_input": "2022-01-17T10:24:28.034805Z",
     "iopub.status.busy": "2022-01-17T10:24:28.034805Z",
     "iopub.status.idle": "2022-01-17T10:24:28.053753Z",
     "shell.execute_reply": "2022-01-17T10:24:28.052755Z",
     "shell.execute_reply.started": "2022-01-17T10:24:28.034805Z"
    },
    "tags": []
   },
   "outputs": [
    {
     "data": {
      "text/html": [
       "<div>\n",
       "<style scoped>\n",
       "    .dataframe tbody tr th:only-of-type {\n",
       "        vertical-align: middle;\n",
       "    }\n",
       "\n",
       "    .dataframe tbody tr th {\n",
       "        vertical-align: top;\n",
       "    }\n",
       "\n",
       "    .dataframe thead th {\n",
       "        text-align: right;\n",
       "    }\n",
       "</style>\n",
       "<table border=\"1\" class=\"dataframe\">\n",
       "  <thead>\n",
       "    <tr style=\"text-align: right;\">\n",
       "      <th></th>\n",
       "      <th>Lane Identification</th>\n",
       "      <th>Vehicle ID</th>\n",
       "      <th>timespot</th>\n",
       "      <th>Vehicle Acceleration</th>\n",
       "      <th>Vehicle Velocity(km/h)</th>\n",
       "    </tr>\n",
       "  </thead>\n",
       "  <tbody>\n",
       "    <tr>\n",
       "      <th>0</th>\n",
       "      <td>U1</td>\n",
       "      <td>14</td>\n",
       "      <td>34.0</td>\n",
       "      <td>-1.217726</td>\n",
       "      <td>95.185395</td>\n",
       "    </tr>\n",
       "    <tr>\n",
       "      <th>1</th>\n",
       "      <td>U1</td>\n",
       "      <td>34</td>\n",
       "      <td>79.0</td>\n",
       "      <td>-0.205509</td>\n",
       "      <td>84.843460</td>\n",
       "    </tr>\n",
       "    <tr>\n",
       "      <th>2</th>\n",
       "      <td>U1</td>\n",
       "      <td>34</td>\n",
       "      <td>80.0</td>\n",
       "      <td>0.809870</td>\n",
       "      <td>86.128131</td>\n",
       "    </tr>\n",
       "    <tr>\n",
       "      <th>3</th>\n",
       "      <td>U1</td>\n",
       "      <td>34</td>\n",
       "      <td>81.0</td>\n",
       "      <td>0.164833</td>\n",
       "      <td>88.819697</td>\n",
       "    </tr>\n",
       "    <tr>\n",
       "      <th>4</th>\n",
       "      <td>U1</td>\n",
       "      <td>34</td>\n",
       "      <td>82.0</td>\n",
       "      <td>-0.811299</td>\n",
       "      <td>86.933477</td>\n",
       "    </tr>\n",
       "    <tr>\n",
       "      <th>...</th>\n",
       "      <td>...</td>\n",
       "      <td>...</td>\n",
       "      <td>...</td>\n",
       "      <td>...</td>\n",
       "      <td>...</td>\n",
       "    </tr>\n",
       "    <tr>\n",
       "      <th>541</th>\n",
       "      <td>U3</td>\n",
       "      <td>20326</td>\n",
       "      <td>6882.0</td>\n",
       "      <td>-0.119425</td>\n",
       "      <td>67.758383</td>\n",
       "    </tr>\n",
       "    <tr>\n",
       "      <th>542</th>\n",
       "      <td>U3</td>\n",
       "      <td>20326</td>\n",
       "      <td>6883.0</td>\n",
       "      <td>0.357522</td>\n",
       "      <td>68.232361</td>\n",
       "    </tr>\n",
       "    <tr>\n",
       "      <th>543</th>\n",
       "      <td>U3</td>\n",
       "      <td>20329</td>\n",
       "      <td>6881.0</td>\n",
       "      <td>0.503404</td>\n",
       "      <td>68.620248</td>\n",
       "    </tr>\n",
       "    <tr>\n",
       "      <th>544</th>\n",
       "      <td>U3</td>\n",
       "      <td>20329</td>\n",
       "      <td>6882.0</td>\n",
       "      <td>0.611871</td>\n",
       "      <td>71.127653</td>\n",
       "    </tr>\n",
       "    <tr>\n",
       "      <th>545</th>\n",
       "      <td>U3</td>\n",
       "      <td>20329</td>\n",
       "      <td>6883.0</td>\n",
       "      <td>-0.332352</td>\n",
       "      <td>71.521213</td>\n",
       "    </tr>\n",
       "  </tbody>\n",
       "</table>\n",
       "<p>546 rows × 5 columns</p>\n",
       "</div>"
      ],
      "text/plain": [
       "    Lane Identification  Vehicle ID  timespot  Vehicle Acceleration  \\\n",
       "0                    U1          14      34.0             -1.217726   \n",
       "1                    U1          34      79.0             -0.205509   \n",
       "2                    U1          34      80.0              0.809870   \n",
       "3                    U1          34      81.0              0.164833   \n",
       "4                    U1          34      82.0             -0.811299   \n",
       "..                  ...         ...       ...                   ...   \n",
       "541                  U3       20326    6882.0             -0.119425   \n",
       "542                  U3       20326    6883.0              0.357522   \n",
       "543                  U3       20329    6881.0              0.503404   \n",
       "544                  U3       20329    6882.0              0.611871   \n",
       "545                  U3       20329    6883.0             -0.332352   \n",
       "\n",
       "     Vehicle Velocity(km/h)  \n",
       "0                 95.185395  \n",
       "1                 84.843460  \n",
       "2                 86.128131  \n",
       "3                 88.819697  \n",
       "4                 86.933477  \n",
       "..                      ...  \n",
       "541               67.758383  \n",
       "542               68.232361  \n",
       "543               68.620248  \n",
       "544               71.127653  \n",
       "545               71.521213  \n",
       "\n",
       "[546 rows x 5 columns]"
      ]
     },
     "execution_count": 188,
     "metadata": {},
     "output_type": "execute_result"
    }
   ],
   "source": [
    "pivot_df_list[0]"
   ]
  },
  {
   "cell_type": "markdown",
   "metadata": {},
   "source": [
    "### 필요 함수 정의 : sudden_dec\n",
    "* **급감속** : 초당 8km/h 이상 감속 운행하고 속도가 6.0km/h 이상인 경우\n",
    "* 가속도를 초속(m/s)으로 통일할 것"
   ]
  },
  {
   "cell_type": "code",
   "execution_count": 189,
   "metadata": {
    "execution": {
     "iopub.execute_input": "2022-01-17T10:24:33.297988Z",
     "iopub.status.busy": "2022-01-17T10:24:33.297988Z",
     "iopub.status.idle": "2022-01-17T10:24:33.309951Z",
     "shell.execute_reply": "2022-01-17T10:24:33.309951Z",
     "shell.execute_reply.started": "2022-01-17T10:24:33.297988Z"
    },
    "tags": []
   },
   "outputs": [],
   "source": [
    "def sudden_dec(velocity, acceleration):\n",
    "    \"\"\"급감속인 경우 sudden_dec 판정\"\"\"\n",
    "    if velocity >= 6.0 and acceleration <= -8.0 * (1000/3600):\n",
    "        return 'sudden_dec'\n",
    "    else:\n",
    "        pass"
   ]
  },
  {
   "cell_type": "markdown",
   "metadata": {},
   "source": [
    "### 급감속(sudden_dec) 표시 후 저장"
   ]
  },
  {
   "cell_type": "code",
   "execution_count": 194,
   "metadata": {
    "execution": {
     "iopub.execute_input": "2022-01-17T10:26:34.937751Z",
     "iopub.status.busy": "2022-01-17T10:26:34.937751Z",
     "iopub.status.idle": "2022-01-17T10:26:34.954690Z",
     "shell.execute_reply": "2022-01-17T10:26:34.953720Z",
     "shell.execute_reply.started": "2022-01-17T10:26:34.937751Z"
    },
    "tags": []
   },
   "outputs": [],
   "source": [
    "save_SuddenDec_dir = '02-4_sudden_dec'\n",
    "\n",
    "os.makedirs(save_SuddenDec_dir, exist_ok = True) # 해당 경로가 없을 시 폴더 생성, 존재할 경우 건너뛰기"
   ]
  },
  {
   "cell_type": "code",
   "execution_count": 195,
   "metadata": {
    "execution": {
     "iopub.execute_input": "2022-01-17T10:27:03.027800Z",
     "iopub.status.busy": "2022-01-17T10:27:03.027800Z",
     "iopub.status.idle": "2022-01-17T10:27:03.319414Z",
     "shell.execute_reply": "2022-01-17T10:27:03.319414Z",
     "shell.execute_reply.started": "2022-01-17T10:27:03.027800Z"
    },
    "tags": []
   },
   "outputs": [],
   "source": [
    "for pivot_df, num_LOS in zip(pivot_df_list, num_LOS_list):\n",
    "    \n",
    "    pivot_df['sudden_dec'] = pivot_df[['Vehicle Velocity(km/h)', 'Vehicle Acceleration']].apply(lambda x: sudden_dec(*x), axis = 1)\n",
    "    \n",
    "    save_SuddenDec_file = f'SuddenDec{num_LOS}.csv'\n",
    "    save_SuddenDec_path = os.path.join(save_SuddenDec_dir, save_SuddenDec_file)\n",
    "    \n",
    "    pivot_df.to_csv(save_SuddenDec_path, encoding = 'cp949')"
   ]
  },
  {
   "cell_type": "code",
   "execution_count": 196,
   "metadata": {
    "execution": {
     "iopub.execute_input": "2022-01-17T10:27:29.334523Z",
     "iopub.status.busy": "2022-01-17T10:27:29.334523Z",
     "iopub.status.idle": "2022-01-17T10:27:29.344017Z",
     "shell.execute_reply": "2022-01-17T10:27:29.344017Z",
     "shell.execute_reply.started": "2022-01-17T10:27:29.334523Z"
    },
    "tags": []
   },
   "outputs": [
    {
     "data": {
      "text/html": [
       "<div>\n",
       "<style scoped>\n",
       "    .dataframe tbody tr th:only-of-type {\n",
       "        vertical-align: middle;\n",
       "    }\n",
       "\n",
       "    .dataframe tbody tr th {\n",
       "        vertical-align: top;\n",
       "    }\n",
       "\n",
       "    .dataframe thead th {\n",
       "        text-align: right;\n",
       "    }\n",
       "</style>\n",
       "<table border=\"1\" class=\"dataframe\">\n",
       "  <thead>\n",
       "    <tr style=\"text-align: right;\">\n",
       "      <th></th>\n",
       "      <th>Lane Identification</th>\n",
       "      <th>Vehicle ID</th>\n",
       "      <th>timespot</th>\n",
       "      <th>Vehicle Acceleration</th>\n",
       "      <th>Vehicle Velocity(km/h)</th>\n",
       "      <th>sudden_dec</th>\n",
       "    </tr>\n",
       "  </thead>\n",
       "  <tbody>\n",
       "    <tr>\n",
       "      <th>0</th>\n",
       "      <td>U1</td>\n",
       "      <td>14</td>\n",
       "      <td>34.0</td>\n",
       "      <td>-1.217726</td>\n",
       "      <td>95.185395</td>\n",
       "      <td>None</td>\n",
       "    </tr>\n",
       "    <tr>\n",
       "      <th>1</th>\n",
       "      <td>U1</td>\n",
       "      <td>34</td>\n",
       "      <td>79.0</td>\n",
       "      <td>-0.205509</td>\n",
       "      <td>84.843460</td>\n",
       "      <td>None</td>\n",
       "    </tr>\n",
       "    <tr>\n",
       "      <th>2</th>\n",
       "      <td>U1</td>\n",
       "      <td>34</td>\n",
       "      <td>80.0</td>\n",
       "      <td>0.809870</td>\n",
       "      <td>86.128131</td>\n",
       "      <td>None</td>\n",
       "    </tr>\n",
       "    <tr>\n",
       "      <th>3</th>\n",
       "      <td>U1</td>\n",
       "      <td>34</td>\n",
       "      <td>81.0</td>\n",
       "      <td>0.164833</td>\n",
       "      <td>88.819697</td>\n",
       "      <td>None</td>\n",
       "    </tr>\n",
       "    <tr>\n",
       "      <th>4</th>\n",
       "      <td>U1</td>\n",
       "      <td>34</td>\n",
       "      <td>82.0</td>\n",
       "      <td>-0.811299</td>\n",
       "      <td>86.933477</td>\n",
       "      <td>None</td>\n",
       "    </tr>\n",
       "  </tbody>\n",
       "</table>\n",
       "</div>"
      ],
      "text/plain": [
       "  Lane Identification  Vehicle ID  timespot  Vehicle Acceleration  \\\n",
       "0                  U1          14      34.0             -1.217726   \n",
       "1                  U1          34      79.0             -0.205509   \n",
       "2                  U1          34      80.0              0.809870   \n",
       "3                  U1          34      81.0              0.164833   \n",
       "4                  U1          34      82.0             -0.811299   \n",
       "\n",
       "   Vehicle Velocity(km/h) sudden_dec  \n",
       "0               95.185395       None  \n",
       "1               84.843460       None  \n",
       "2               86.128131       None  \n",
       "3               88.819697       None  \n",
       "4               86.933477       None  "
      ]
     },
     "execution_count": 196,
     "metadata": {},
     "output_type": "execute_result"
    }
   ],
   "source": [
    "pivot_df_list[0].head()"
   ]
  },
  {
   "cell_type": "markdown",
   "metadata": {},
   "source": [
    "### 급감속, 급가속 필터링 후 처리\n",
    "* 급감속/급가속한 차량대수\n",
    "* 해당 차량 대수를 교통류율로 환산\n",
    "* 해당 차량끼리의 평균 가속도를 구하기"
   ]
  },
  {
   "cell_type": "code",
   "execution_count": 199,
   "metadata": {
    "execution": {
     "iopub.execute_input": "2022-01-17T10:30:37.591937Z",
     "iopub.status.busy": "2022-01-17T10:30:37.591937Z",
     "iopub.status.idle": "2022-01-17T10:30:37.602901Z",
     "shell.execute_reply": "2022-01-17T10:30:37.602901Z",
     "shell.execute_reply.started": "2022-01-17T10:30:37.591937Z"
    },
    "tags": []
   },
   "outputs": [],
   "source": [
    "save_SuddenDecAgg_dir = '02-5_sudden_dec_aggregate'\n",
    "\n",
    "os.makedirs(save_SuddenDecAgg_dir, exist_ok = True) # 해당 경로가 없을 시 폴더 생성, 존재할 경우 건너뛰기"
   ]
  },
  {
   "cell_type": "code",
   "execution_count": 201,
   "metadata": {
    "execution": {
     "iopub.execute_input": "2022-01-17T10:30:56.299548Z",
     "iopub.status.busy": "2022-01-17T10:30:56.299548Z",
     "iopub.status.idle": "2022-01-17T10:30:56.654106Z",
     "shell.execute_reply": "2022-01-17T10:30:56.654106Z",
     "shell.execute_reply.started": "2022-01-17T10:30:56.299548Z"
    },
    "tags": []
   },
   "outputs": [
    {
     "name": "stdout",
     "output_type": "stream",
     "text": [
      "01_1_A 3\n",
      "01_1_B 3\n",
      "01_1_C 2\n",
      "02_1_A 3\n",
      "02_1_B 2\n",
      "02_2_A 2\n",
      "02_2_B 3\n",
      "02_2_C 2\n",
      "03_1_A 3\n",
      "03_1_B 3\n",
      "03_1_C 3\n",
      "03_1_D 2\n",
      "04_1_A 3\n",
      "04_1_B 3\n",
      "04_1_C 2\n",
      "04_1_D 2\n",
      "04_2_A 2\n",
      "04_2_B 2\n",
      "04_2_C 2\n",
      "04_2_D 2\n",
      "05_1_A 2\n",
      "05_1_B 3\n",
      "05_1_C 3\n",
      "05_1_D 3\n",
      "06_1_A 3\n",
      "06_1_B 2\n",
      "06_1_C 3\n",
      "06_1_D 3\n",
      "06_2_A 1\n",
      "06_2_B 2\n",
      "06_2_C 3\n",
      "06_2_D 3\n",
      "07_1_A 1\n",
      "07_1_B 2\n",
      "07_1_C 3\n",
      "07_1_D 3\n",
      "08_1_A 1\n",
      "08_1_B 3\n",
      "08_1_C 3\n",
      "08_1_D 3\n"
     ]
    }
   ],
   "source": [
    "for pivot_df, num_LOS in zip(pivot_df_list, num_LOS_list):\n",
    "    \n",
    "    SuddenDecAgg = pd.pivot_table(pivot_df[pivot_df['sudden_dec'] == 'sudden_dec'],\n",
    "                                  index = ['Lane Identification', 'sudden_dec'],\n",
    "                                  values = ['Vehicle ID', 'Vehicle Acceleration'],\n",
    "                                  aggfunc = {'Vehicle ID': unq, 'Vehicle Acceleration': 'mean'})\n",
    "    \n",
    "    SuddenDecAgg.reset_index(inplace = True)\n",
    "    \n",
    "    if len(SuddenDecAgg) > 0:\n",
    "        print(num_LOS, len(SuddenDecAgg))\n",
    "        save_SuddenDecAgg_file = f'SuddenDecAgg{num_LOS}.csv'\n",
    "        save_SuddenDecAgg_path = os.path.join(save_SuddenDecAgg_dir, save_SuddenDecAgg_file)\n",
    "        SuddenDecAgg.to_csv(save_SuddenDecAgg_path, encoding = 'cp949')\n",
    "        \n",
    "    else:\n",
    "        pass"
   ]
  }
 ],
 "metadata": {
  "kernelspec": {
   "display_name": "Python 3",
   "language": "python",
   "name": "python3"
  },
  "language_info": {
   "codemirror_mode": {
    "name": "ipython",
    "version": 3
   },
   "file_extension": ".py",
   "mimetype": "text/x-python",
   "name": "python",
   "nbconvert_exporter": "python",
   "pygments_lexer": "ipython3",
   "version": "3.8.8"
  }
 },
 "nbformat": 4,
 "nbformat_minor": 4
}
