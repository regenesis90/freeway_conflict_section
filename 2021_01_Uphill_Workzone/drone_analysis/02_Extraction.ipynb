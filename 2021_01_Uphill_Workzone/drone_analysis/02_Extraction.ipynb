{
 "cells": [
  {
   "cell_type": "markdown",
   "id": "17c4fd56-e64e-476f-90e8-5f4a575db631",
   "metadata": {},
   "source": [
    "# Imports"
   ]
  },
  {
   "cell_type": "code",
   "execution_count": 1,
   "id": "4dc50724-cd35-44f6-8b51-068b23d67474",
   "metadata": {
    "execution": {
     "iopub.execute_input": "2022-01-22T09:48:46.836805Z",
     "iopub.status.busy": "2022-01-22T09:48:46.836805Z",
     "iopub.status.idle": "2022-01-22T09:48:47.200197Z",
     "shell.execute_reply": "2022-01-22T09:48:47.200197Z",
     "shell.execute_reply.started": "2022-01-22T09:48:46.836805Z"
    },
    "tags": []
   },
   "outputs": [],
   "source": [
    "import numpy as np\n",
    "import pandas as pd\n",
    "\n",
    "import os\n",
    "from tqdm import tqdm"
   ]
  },
  {
   "cell_type": "markdown",
   "id": "d730a227-46f1-4294-a38c-8903cf1233b1",
   "metadata": {},
   "source": [
    "# Extraction by LOS\n",
    "* `01_density_by_frame` 폴더의 내용을 바탕으로 LOS별 추출할 프레임을 지정\n",
    "* **다음을 먼저 작성해야 합니다** : `LOS_frame_list.csv`"
   ]
  },
  {
   "cell_type": "markdown",
   "id": "e87e21b8-1264-405f-b4b9-ffed16f4976e",
   "metadata": {},
   "source": [
    "## Extracting by LOS\n",
    "* 각 대상지(영상)별 LOS별로 분석할 프레임만 필터링(20초 이상 = 600개 프레임 이상, LOS별)\n",
    "* 해당 프레임에 속한 Vehicle ID를 추적\n",
    "* * `LOS_frame_list`에 명시된 LOS별 프레임들을 추출하여 .csv 파일로 저장"
   ]
  },
  {
   "cell_type": "markdown",
   "id": "1a6d19dd-6028-4668-8e11-108904942bf7",
   "metadata": {},
   "source": [
    "### Load Frame Info"
   ]
  },
  {
   "cell_type": "code",
   "execution_count": 2,
   "id": "0497bff4-6376-4918-b501-63a11c0bdcde",
   "metadata": {
    "execution": {
     "iopub.execute_input": "2022-01-22T09:48:47.200197Z",
     "iopub.status.busy": "2022-01-22T09:48:47.200197Z",
     "iopub.status.idle": "2022-01-22T09:48:47.216485Z",
     "shell.execute_reply": "2022-01-22T09:48:47.215488Z",
     "shell.execute_reply.started": "2022-01-22T09:48:47.200197Z"
    },
    "tags": []
   },
   "outputs": [],
   "source": [
    "frame_rate = 30 # 프레임율 설정"
   ]
  },
  {
   "cell_type": "code",
   "execution_count": 3,
   "id": "5bbaa418-2211-44b8-a439-5799522230cd",
   "metadata": {
    "execution": {
     "iopub.execute_input": "2022-01-22T09:48:47.217486Z",
     "iopub.status.busy": "2022-01-22T09:48:47.217486Z",
     "iopub.status.idle": "2022-01-22T09:48:47.232443Z",
     "shell.execute_reply": "2022-01-22T09:48:47.231445Z",
     "shell.execute_reply.started": "2022-01-22T09:48:47.217486Z"
    },
    "tags": []
   },
   "outputs": [],
   "source": [
    "frm_info_path = 'LOS_frame_list.csv'"
   ]
  },
  {
   "cell_type": "code",
   "execution_count": 4,
   "id": "648c1211-4e1c-40d0-9665-926a031d540b",
   "metadata": {
    "execution": {
     "iopub.execute_input": "2022-01-22T09:48:47.233441Z",
     "iopub.status.busy": "2022-01-22T09:48:47.232443Z",
     "iopub.status.idle": "2022-01-22T09:48:47.262365Z",
     "shell.execute_reply": "2022-01-22T09:48:47.262365Z",
     "shell.execute_reply.started": "2022-01-22T09:48:47.233441Z"
    },
    "tags": []
   },
   "outputs": [],
   "source": [
    "frm_info = pd.read_csv(frm_info_path)\n",
    "#frm_info.reset_index(inplace = True)"
   ]
  },
  {
   "cell_type": "code",
   "execution_count": 5,
   "id": "d65cd760-533e-401c-87ae-ecf3ae399126",
   "metadata": {
    "execution": {
     "iopub.execute_input": "2022-01-22T09:48:47.263360Z",
     "iopub.status.busy": "2022-01-22T09:48:47.263360Z",
     "iopub.status.idle": "2022-01-22T09:48:47.310206Z",
     "shell.execute_reply": "2022-01-22T09:48:47.309238Z",
     "shell.execute_reply.started": "2022-01-22T09:48:47.263360Z"
    },
    "tags": []
   },
   "outputs": [],
   "source": [
    "frm_info['tmsec'] = (frm_info['end_at'] - frm_info['start_at'])/frame_rate # 파생변수 생성: 프레임ID 차이에 따른 시간차"
   ]
  },
  {
   "cell_type": "code",
   "execution_count": 6,
   "id": "9cdffdac-213e-4b64-acd6-d7724aae2880",
   "metadata": {
    "execution": {
     "iopub.execute_input": "2022-01-22T09:48:47.311203Z",
     "iopub.status.busy": "2022-01-22T09:48:47.310206Z",
     "iopub.status.idle": "2022-01-22T09:48:47.342149Z",
     "shell.execute_reply": "2022-01-22T09:48:47.341152Z",
     "shell.execute_reply.started": "2022-01-22T09:48:47.311203Z"
    },
    "tags": []
   },
   "outputs": [
    {
     "data": {
      "text/html": [
       "<div>\n",
       "<style scoped>\n",
       "    .dataframe tbody tr th:only-of-type {\n",
       "        vertical-align: middle;\n",
       "    }\n",
       "\n",
       "    .dataframe tbody tr th {\n",
       "        vertical-align: top;\n",
       "    }\n",
       "\n",
       "    .dataframe thead th {\n",
       "        text-align: right;\n",
       "    }\n",
       "</style>\n",
       "<table border=\"1\" class=\"dataframe\">\n",
       "  <thead>\n",
       "    <tr style=\"text-align: right;\">\n",
       "      <th></th>\n",
       "      <th>num</th>\n",
       "      <th>LOS</th>\n",
       "      <th>CNT</th>\n",
       "      <th>start_at</th>\n",
       "      <th>end_at</th>\n",
       "      <th>tmsec</th>\n",
       "    </tr>\n",
       "  </thead>\n",
       "  <tbody>\n",
       "    <tr>\n",
       "      <th>0</th>\n",
       "      <td>01_1</td>\n",
       "      <td>B</td>\n",
       "      <td>1</td>\n",
       "      <td>567</td>\n",
       "      <td>1014</td>\n",
       "      <td>14.9</td>\n",
       "    </tr>\n",
       "    <tr>\n",
       "      <th>1</th>\n",
       "      <td>01_1</td>\n",
       "      <td>A</td>\n",
       "      <td>1</td>\n",
       "      <td>1014</td>\n",
       "      <td>2088</td>\n",
       "      <td>35.8</td>\n",
       "    </tr>\n",
       "    <tr>\n",
       "      <th>2</th>\n",
       "      <td>01_1</td>\n",
       "      <td>A</td>\n",
       "      <td>2</td>\n",
       "      <td>2364</td>\n",
       "      <td>3009</td>\n",
       "      <td>21.5</td>\n",
       "    </tr>\n",
       "    <tr>\n",
       "      <th>3</th>\n",
       "      <td>01_1</td>\n",
       "      <td>A</td>\n",
       "      <td>3</td>\n",
       "      <td>3891</td>\n",
       "      <td>4788</td>\n",
       "      <td>29.9</td>\n",
       "    </tr>\n",
       "    <tr>\n",
       "      <th>4</th>\n",
       "      <td>01_1</td>\n",
       "      <td>B</td>\n",
       "      <td>2</td>\n",
       "      <td>4947</td>\n",
       "      <td>5496</td>\n",
       "      <td>18.3</td>\n",
       "    </tr>\n",
       "  </tbody>\n",
       "</table>\n",
       "</div>"
      ],
      "text/plain": [
       "    num LOS  CNT  start_at  end_at  tmsec\n",
       "0  01_1   B    1       567    1014   14.9\n",
       "1  01_1   A    1      1014    2088   35.8\n",
       "2  01_1   A    2      2364    3009   21.5\n",
       "3  01_1   A    3      3891    4788   29.9\n",
       "4  01_1   B    2      4947    5496   18.3"
      ]
     },
     "execution_count": 6,
     "metadata": {},
     "output_type": "execute_result"
    }
   ],
   "source": [
    "frm_info.head()"
   ]
  },
  {
   "cell_type": "markdown",
   "id": "155cfb82-7411-4e28-ba29-b3fa0ba49e47",
   "metadata": {},
   "source": [
    "### calculate tmsec\n",
    "* frm_info로부터 각 대상지, LOS별 tmsec 총 관측시간(tmsec) 산정\n",
    "* 이를 `LOS_tmsec.csv` 로 저장"
   ]
  },
  {
   "cell_type": "code",
   "execution_count": 7,
   "id": "4e608fa5-2b79-4c33-ad75-73b40616ec39",
   "metadata": {
    "execution": {
     "iopub.execute_input": "2022-01-22T09:48:47.343147Z",
     "iopub.status.busy": "2022-01-22T09:48:47.342149Z",
     "iopub.status.idle": "2022-01-22T09:48:47.374066Z",
     "shell.execute_reply": "2022-01-22T09:48:47.373067Z",
     "shell.execute_reply.started": "2022-01-22T09:48:47.343147Z"
    },
    "tags": []
   },
   "outputs": [
    {
     "data": {
      "text/html": [
       "<div>\n",
       "<style scoped>\n",
       "    .dataframe tbody tr th:only-of-type {\n",
       "        vertical-align: middle;\n",
       "    }\n",
       "\n",
       "    .dataframe tbody tr th {\n",
       "        vertical-align: top;\n",
       "    }\n",
       "\n",
       "    .dataframe thead th {\n",
       "        text-align: right;\n",
       "    }\n",
       "</style>\n",
       "<table border=\"1\" class=\"dataframe\">\n",
       "  <thead>\n",
       "    <tr style=\"text-align: right;\">\n",
       "      <th></th>\n",
       "      <th>num</th>\n",
       "      <th>LOS</th>\n",
       "      <th>tmsec</th>\n",
       "    </tr>\n",
       "  </thead>\n",
       "  <tbody>\n",
       "    <tr>\n",
       "      <th>0</th>\n",
       "      <td>01_1</td>\n",
       "      <td>A</td>\n",
       "      <td>246.9</td>\n",
       "    </tr>\n",
       "    <tr>\n",
       "      <th>1</th>\n",
       "      <td>01_1</td>\n",
       "      <td>B</td>\n",
       "      <td>103.8</td>\n",
       "    </tr>\n",
       "    <tr>\n",
       "      <th>2</th>\n",
       "      <td>01_1</td>\n",
       "      <td>C</td>\n",
       "      <td>24.9</td>\n",
       "    </tr>\n",
       "    <tr>\n",
       "      <th>3</th>\n",
       "      <td>02_1</td>\n",
       "      <td>A</td>\n",
       "      <td>245.5</td>\n",
       "    </tr>\n",
       "    <tr>\n",
       "      <th>4</th>\n",
       "      <td>02_1</td>\n",
       "      <td>B</td>\n",
       "      <td>112.3</td>\n",
       "    </tr>\n",
       "  </tbody>\n",
       "</table>\n",
       "</div>"
      ],
      "text/plain": [
       "    num LOS  tmsec\n",
       "0  01_1   A  246.9\n",
       "1  01_1   B  103.8\n",
       "2  01_1   C   24.9\n",
       "3  02_1   A  245.5\n",
       "4  02_1   B  112.3"
      ]
     },
     "execution_count": 7,
     "metadata": {},
     "output_type": "execute_result"
    }
   ],
   "source": [
    "tmsec_info = pd.pivot_table(frm_info, index = ['num', 'LOS'], values = 'tmsec', aggfunc = 'sum').reset_index()\n",
    "\n",
    "tmsec_info.head()"
   ]
  },
  {
   "cell_type": "code",
   "execution_count": 8,
   "id": "37d90cc7-5a13-4a73-ba31-6ef43f29e581",
   "metadata": {
    "execution": {
     "iopub.execute_input": "2022-01-22T09:48:47.375064Z",
     "iopub.status.busy": "2022-01-22T09:48:47.374066Z",
     "iopub.status.idle": "2022-01-22T09:48:47.390024Z",
     "shell.execute_reply": "2022-01-22T09:48:47.389025Z",
     "shell.execute_reply.started": "2022-01-22T09:48:47.375064Z"
    },
    "tags": []
   },
   "outputs": [],
   "source": [
    "tmsec_path = 'LOS_tmsec.csv'"
   ]
  },
  {
   "cell_type": "code",
   "execution_count": 9,
   "id": "622c3f0e-bde5-4fe0-ba56-e230617c0103",
   "metadata": {
    "execution": {
     "iopub.execute_input": "2022-01-22T09:48:47.391020Z",
     "iopub.status.busy": "2022-01-22T09:48:47.391020Z",
     "iopub.status.idle": "2022-01-22T09:48:47.405979Z",
     "shell.execute_reply": "2022-01-22T09:48:47.405012Z",
     "shell.execute_reply.started": "2022-01-22T09:48:47.391020Z"
    },
    "tags": []
   },
   "outputs": [],
   "source": [
    "tmsec_info.to_csv(tmsec_path, encoding = 'utf-8')"
   ]
  },
  {
   "cell_type": "markdown",
   "id": "a90c57da-1326-4ceb-b166-453565edbef5",
   "metadata": {},
   "source": [
    "### Load Datasets"
   ]
  },
  {
   "cell_type": "code",
   "execution_count": 10,
   "id": "16e15f65-7029-4e67-b825-5c06cc344181",
   "metadata": {
    "execution": {
     "iopub.execute_input": "2022-01-22T09:48:47.406976Z",
     "iopub.status.busy": "2022-01-22T09:48:47.406976Z",
     "iopub.status.idle": "2022-01-22T09:48:47.421890Z",
     "shell.execute_reply": "2022-01-22T09:48:47.420863Z",
     "shell.execute_reply.started": "2022-01-22T09:48:47.406976Z"
    },
    "tags": []
   },
   "outputs": [],
   "source": [
    "file_dir = '00_dataset_filtered' # 각 .csv 파일이 있는 폴더경로"
   ]
  },
  {
   "cell_type": "code",
   "execution_count": 11,
   "id": "f85368a1-46a3-4b30-95c9-e7cfd725411c",
   "metadata": {
    "execution": {
     "iopub.execute_input": "2022-01-22T09:48:47.422886Z",
     "iopub.status.busy": "2022-01-22T09:48:47.422886Z",
     "iopub.status.idle": "2022-01-22T09:48:47.437816Z",
     "shell.execute_reply": "2022-01-22T09:48:47.436848Z",
     "shell.execute_reply.started": "2022-01-22T09:48:47.422886Z"
    },
    "tags": []
   },
   "outputs": [
    {
     "data": {
      "text/plain": [
       "['01_1.csv', '02_1.csv', '02_2.csv']"
      ]
     },
     "execution_count": 11,
     "metadata": {},
     "output_type": "execute_result"
    }
   ],
   "source": [
    "file_list = os.listdir(file_dir)\n",
    "file_list[0:3]"
   ]
  },
  {
   "cell_type": "code",
   "execution_count": 12,
   "id": "809da573-47f9-4350-af94-7b57cb50da87",
   "metadata": {
    "execution": {
     "iopub.execute_input": "2022-01-22T09:48:47.438813Z",
     "iopub.status.busy": "2022-01-22T09:48:47.438813Z",
     "iopub.status.idle": "2022-01-22T09:48:48.543471Z",
     "shell.execute_reply": "2022-01-22T09:48:48.542473Z",
     "shell.execute_reply.started": "2022-01-22T09:48:47.438813Z"
    },
    "tags": []
   },
   "outputs": [],
   "source": [
    "df_list = [] # 데이터프레임 리스트\n",
    "num_list = [] # 데이터프레임 파일명, 즉 넘버링 리스트\n",
    "\n",
    "for file in file_list:\n",
    "    num = file[0:4]\n",
    "    file_path = os.path.join(file_dir, file)\n",
    "            \n",
    "    if os.path.isfile(file_path): # 해당 file_path에 파일이 존재할 경우\n",
    "        globals()[f'target{num}'] = pd.read_csv(file_path, encoding = 'cp949') # .csv 파일을 불러와 인스턴스 만들기\n",
    "        df_list.append(globals()[f'target{num}']) \n",
    "        num_list.append(num)"
   ]
  },
  {
   "cell_type": "code",
   "execution_count": 13,
   "id": "adb2ebfc-d625-4453-9991-8c2c8667ab2f",
   "metadata": {
    "execution": {
     "iopub.execute_input": "2022-01-22T09:48:48.544441Z",
     "iopub.status.busy": "2022-01-22T09:48:48.543471Z",
     "iopub.status.idle": "2022-01-22T09:48:48.575386Z",
     "shell.execute_reply": "2022-01-22T09:48:48.574359Z",
     "shell.execute_reply.started": "2022-01-22T09:48:48.544441Z"
    },
    "tags": []
   },
   "outputs": [
    {
     "data": {
      "text/html": [
       "<div>\n",
       "<style scoped>\n",
       "    .dataframe tbody tr th:only-of-type {\n",
       "        vertical-align: middle;\n",
       "    }\n",
       "\n",
       "    .dataframe tbody tr th {\n",
       "        vertical-align: top;\n",
       "    }\n",
       "\n",
       "    .dataframe thead th {\n",
       "        text-align: right;\n",
       "    }\n",
       "</style>\n",
       "<table border=\"1\" class=\"dataframe\">\n",
       "  <thead>\n",
       "    <tr style=\"text-align: right;\">\n",
       "      <th></th>\n",
       "      <th>Unnamed: 0</th>\n",
       "      <th>Unnamed: 0.1</th>\n",
       "      <th>Vehicle ID</th>\n",
       "      <th>Frame ID</th>\n",
       "      <th>Total Frames</th>\n",
       "      <th>Global Time (Epoch Time)</th>\n",
       "      <th>Local X (m)</th>\n",
       "      <th>Local Y(m)</th>\n",
       "      <th>Vehicle Length</th>\n",
       "      <th>Vehicle Width</th>\n",
       "      <th>...</th>\n",
       "      <th>Vehicle Acceleration</th>\n",
       "      <th>Lane Identification</th>\n",
       "      <th>Preceding Vehicle</th>\n",
       "      <th>Following Vehicle</th>\n",
       "      <th>Spacing Headway</th>\n",
       "      <th>Time Headway</th>\n",
       "      <th>Bad Object</th>\n",
       "      <th>Special Car</th>\n",
       "      <th>Lane Class</th>\n",
       "      <th>Vehicle Movement</th>\n",
       "    </tr>\n",
       "  </thead>\n",
       "  <tbody>\n",
       "    <tr>\n",
       "      <th>0</th>\n",
       "      <td>0</td>\n",
       "      <td>0</td>\n",
       "      <td>1</td>\n",
       "      <td>408</td>\n",
       "      <td>38</td>\n",
       "      <td>46813600</td>\n",
       "      <td>157.408096</td>\n",
       "      <td>12.080962</td>\n",
       "      <td>3.73694</td>\n",
       "      <td>1.413977</td>\n",
       "      <td>...</td>\n",
       "      <td>0.327471</td>\n",
       "      <td>U2</td>\n",
       "      <td>0</td>\n",
       "      <td>0</td>\n",
       "      <td>0.0</td>\n",
       "      <td>0.0</td>\n",
       "      <td>0</td>\n",
       "      <td>0</td>\n",
       "      <td>상행본선</td>\n",
       "      <td>2.284472</td>\n",
       "    </tr>\n",
       "    <tr>\n",
       "      <th>1</th>\n",
       "      <td>1</td>\n",
       "      <td>1</td>\n",
       "      <td>1</td>\n",
       "      <td>411</td>\n",
       "      <td>41</td>\n",
       "      <td>46813700</td>\n",
       "      <td>155.108429</td>\n",
       "      <td>12.071134</td>\n",
       "      <td>3.73694</td>\n",
       "      <td>1.413977</td>\n",
       "      <td>...</td>\n",
       "      <td>1.521598</td>\n",
       "      <td>U2</td>\n",
       "      <td>0</td>\n",
       "      <td>0</td>\n",
       "      <td>0.0</td>\n",
       "      <td>0.0</td>\n",
       "      <td>0</td>\n",
       "      <td>0</td>\n",
       "      <td>상행본선</td>\n",
       "      <td>2.299688</td>\n",
       "    </tr>\n",
       "    <tr>\n",
       "      <th>2</th>\n",
       "      <td>2</td>\n",
       "      <td>2</td>\n",
       "      <td>1</td>\n",
       "      <td>414</td>\n",
       "      <td>44</td>\n",
       "      <td>46813800</td>\n",
       "      <td>152.805588</td>\n",
       "      <td>12.066461</td>\n",
       "      <td>3.73694</td>\n",
       "      <td>1.413977</td>\n",
       "      <td>...</td>\n",
       "      <td>0.315751</td>\n",
       "      <td>U2</td>\n",
       "      <td>0</td>\n",
       "      <td>0</td>\n",
       "      <td>0.0</td>\n",
       "      <td>0.0</td>\n",
       "      <td>0</td>\n",
       "      <td>0</td>\n",
       "      <td>상행본선</td>\n",
       "      <td>2.302846</td>\n",
       "    </tr>\n",
       "  </tbody>\n",
       "</table>\n",
       "<p>3 rows × 22 columns</p>\n",
       "</div>"
      ],
      "text/plain": [
       "   Unnamed: 0  Unnamed: 0.1  Vehicle ID  Frame ID  Total Frames  \\\n",
       "0           0             0           1       408            38   \n",
       "1           1             1           1       411            41   \n",
       "2           2             2           1       414            44   \n",
       "\n",
       "   Global Time (Epoch Time)  Local X (m)  Local Y(m)  Vehicle Length  \\\n",
       "0                  46813600   157.408096   12.080962         3.73694   \n",
       "1                  46813700   155.108429   12.071134         3.73694   \n",
       "2                  46813800   152.805588   12.066461         3.73694   \n",
       "\n",
       "   Vehicle Width  ...  Vehicle Acceleration  Lane Identification  \\\n",
       "0       1.413977  ...              0.327471                   U2   \n",
       "1       1.413977  ...              1.521598                   U2   \n",
       "2       1.413977  ...              0.315751                   U2   \n",
       "\n",
       "   Preceding Vehicle Following Vehicle  Spacing Headway  Time Headway  \\\n",
       "0                  0                 0              0.0           0.0   \n",
       "1                  0                 0              0.0           0.0   \n",
       "2                  0                 0              0.0           0.0   \n",
       "\n",
       "   Bad Object  Special Car  Lane Class  Vehicle Movement  \n",
       "0           0            0        상행본선          2.284472  \n",
       "1           0            0        상행본선          2.299688  \n",
       "2           0            0        상행본선          2.302846  \n",
       "\n",
       "[3 rows x 22 columns]"
      ]
     },
     "execution_count": 13,
     "metadata": {},
     "output_type": "execute_result"
    }
   ],
   "source": [
    "target01_1.head(3)"
   ]
  },
  {
   "cell_type": "markdown",
   "id": "8665d951-aed5-422d-9482-1031fa00ec69",
   "metadata": {},
   "source": [
    "### Extract & Save"
   ]
  },
  {
   "cell_type": "code",
   "execution_count": 14,
   "id": "43ebe6aa-58d3-4043-ade6-f56f186ae6ca",
   "metadata": {
    "execution": {
     "iopub.execute_input": "2022-01-22T09:48:48.576354Z",
     "iopub.status.busy": "2022-01-22T09:48:48.575386Z",
     "iopub.status.idle": "2022-01-22T09:48:48.591315Z",
     "shell.execute_reply": "2022-01-22T09:48:48.590318Z",
     "shell.execute_reply.started": "2022-01-22T09:48:48.576354Z"
    },
    "tags": []
   },
   "outputs": [],
   "source": [
    "save_extract_dir = '01_density_by_target_LOS'\n",
    "\n",
    "os.makedirs(save_extract_dir, exist_ok = True) # 해당 경로가 없을 시 폴더 생성, 존재할 경우 건너뛰기"
   ]
  },
  {
   "cell_type": "code",
   "execution_count": 15,
   "id": "8ce883a8-19da-4c3f-b8c2-2fe8803e3b96",
   "metadata": {
    "execution": {
     "iopub.execute_input": "2022-01-22T09:48:48.592312Z",
     "iopub.status.busy": "2022-01-22T09:48:48.591315Z",
     "iopub.status.idle": "2022-01-22T09:48:50.870493Z",
     "shell.execute_reply": "2022-01-22T09:48:50.869467Z",
     "shell.execute_reply.started": "2022-01-22T09:48:48.592312Z"
    },
    "tags": []
   },
   "outputs": [],
   "source": [
    "for i in range(len(frm_info)): # frm_info에 따라서\n",
    "    \n",
    "    num = frm_info['num'][i] # 대상지 번호. tg_spot. 01_1 등으로 표현\n",
    "    LOS = frm_info['LOS'][i] # 대상지 촬영지점의 해당 LOS\n",
    "    CNT = frm_info['CNT'][i] # 몇번쨰 LOS인지 표시\n",
    "    \n",
    "    frame_start = frm_info['start_at'][i] # 시작 프레임\n",
    "    frame_end = frm_info['end_at'][i] # 끝 프레임\n",
    "    \n",
    "    tmsec = frm_info['tmsec'][i] # 총 시간\n",
    "    \n",
    "    df = globals()[f'target{num}']\n",
    "    \n",
    "    # LOS별로 프레임을 추출하여 각 대상지별, LOS별 파일로 저장\n",
    "    df_extract = df[(df['Frame ID'] >= frame_start) & (df['Frame ID'] <= frame_end)] # 프레임별로 필터링한 df\n",
    "    \n",
    "    save_extract_name = f'{num}_{LOS}_{CNT}.csv'\n",
    "    save_extract_path = os.path.join(save_extract_dir, save_extract_name)\n",
    "    \n",
    "    df_extract.to_csv(save_extract_path, encoding = 'cp949')"
   ]
  },
  {
   "cell_type": "markdown",
   "id": "18b0f8f0-30a4-4dba-80a6-75979d0e5dfb",
   "metadata": {},
   "source": [
    "## Concat and Save\n",
    "* `01_denstiy_by_target_LOS` 에 있는 .csv 파일들을 대상지별, LOS별로 병합\n",
    "* `01_denstiy_by_target_LOS_concated`에 저장하기"
   ]
  },
  {
   "cell_type": "markdown",
   "id": "781bdb49-f7df-491a-92e3-3d7cbca35843",
   "metadata": {},
   "source": [
    "### Load Dataset\n",
    "* 대상지 및 LOS 조각별로 쪼개진 데이터들을 불러오기"
   ]
  },
  {
   "cell_type": "code",
   "execution_count": 16,
   "id": "ac401bb2-b5a2-4f4a-8142-b6b80f97ba1f",
   "metadata": {
    "execution": {
     "iopub.execute_input": "2022-01-22T09:48:50.870787Z",
     "iopub.status.busy": "2022-01-22T09:48:50.870787Z",
     "iopub.status.idle": "2022-01-22T09:48:50.885747Z",
     "shell.execute_reply": "2022-01-22T09:48:50.884784Z",
     "shell.execute_reply.started": "2022-01-22T09:48:50.870787Z"
    },
    "tags": []
   },
   "outputs": [],
   "source": [
    "file_dir = '01_density_by_target_LOS'"
   ]
  },
  {
   "cell_type": "code",
   "execution_count": 17,
   "id": "435ae61e-e868-448c-b686-974b4e21ee7a",
   "metadata": {
    "execution": {
     "iopub.execute_input": "2022-01-22T09:48:50.886745Z",
     "iopub.status.busy": "2022-01-22T09:48:50.885747Z",
     "iopub.status.idle": "2022-01-22T09:48:50.901735Z",
     "shell.execute_reply": "2022-01-22T09:48:50.900707Z",
     "shell.execute_reply.started": "2022-01-22T09:48:50.886745Z"
    },
    "tags": []
   },
   "outputs": [
    {
     "data": {
      "text/plain": [
       "['01_1_A_1.csv', '01_1_A_2.csv', '01_1_A_3.csv']"
      ]
     },
     "execution_count": 17,
     "metadata": {},
     "output_type": "execute_result"
    }
   ],
   "source": [
    "file_list = os.listdir(file_dir)\n",
    "file_list[0:3]"
   ]
  },
  {
   "cell_type": "code",
   "execution_count": 18,
   "id": "7f18fb7c-fa0d-4730-b774-afe2a0a9a446",
   "metadata": {
    "execution": {
     "iopub.execute_input": "2022-01-22T09:48:50.902702Z",
     "iopub.status.busy": "2022-01-22T09:48:50.901735Z",
     "iopub.status.idle": "2022-01-22T09:48:51.791934Z",
     "shell.execute_reply": "2022-01-22T09:48:51.790936Z",
     "shell.execute_reply.started": "2022-01-22T09:48:50.902702Z"
    },
    "tags": []
   },
   "outputs": [],
   "source": [
    "df_list = []\n",
    "num_list = []\n",
    "LOS_list = []\n",
    "fraction_list = []\n",
    "\n",
    "\n",
    "for file in file_list:\n",
    "    num = file[0:4] # 파일의 대상지 번호. tg_spot\n",
    "    LOS = file[5]\n",
    "    fraction = file[7:-4] # 파일의 조각 번호\n",
    "    \n",
    "    file_path = os.path.join(file_dir, file)\n",
    "    globals()[f'target{num}_{LOS}_{fraction}'] = pd.read_csv(file_path, encoding = 'cp949')\n",
    "    \n",
    "    df_list.append(globals()[f'target{num}_{LOS}_{fraction}'])\n",
    "    \n",
    "    if num not in num_list:\n",
    "        num_list.append(num)\n",
    "    \n",
    "    if LOS not in LOS_list:\n",
    "        LOS_list.append(LOS)\n",
    "        \n",
    "    if fraction not in fraction_list:\n",
    "        fraction_list.append(fraction)"
   ]
  },
  {
   "cell_type": "code",
   "execution_count": 19,
   "id": "1dd0b26e-6e6b-4749-9a3f-1607ce9bb863",
   "metadata": {
    "execution": {
     "iopub.execute_input": "2022-01-22T09:48:51.792933Z",
     "iopub.status.busy": "2022-01-22T09:48:51.792933Z",
     "iopub.status.idle": "2022-01-22T09:48:51.823849Z",
     "shell.execute_reply": "2022-01-22T09:48:51.822851Z",
     "shell.execute_reply.started": "2022-01-22T09:48:51.792933Z"
    },
    "tags": []
   },
   "outputs": [
    {
     "data": {
      "text/html": [
       "<div>\n",
       "<style scoped>\n",
       "    .dataframe tbody tr th:only-of-type {\n",
       "        vertical-align: middle;\n",
       "    }\n",
       "\n",
       "    .dataframe tbody tr th {\n",
       "        vertical-align: top;\n",
       "    }\n",
       "\n",
       "    .dataframe thead th {\n",
       "        text-align: right;\n",
       "    }\n",
       "</style>\n",
       "<table border=\"1\" class=\"dataframe\">\n",
       "  <thead>\n",
       "    <tr style=\"text-align: right;\">\n",
       "      <th></th>\n",
       "      <th>Unnamed: 0</th>\n",
       "      <th>Unnamed: 0.1</th>\n",
       "      <th>Unnamed: 0.1.1</th>\n",
       "      <th>Vehicle ID</th>\n",
       "      <th>Frame ID</th>\n",
       "      <th>Total Frames</th>\n",
       "      <th>Global Time (Epoch Time)</th>\n",
       "      <th>Local X (m)</th>\n",
       "      <th>Local Y(m)</th>\n",
       "      <th>Vehicle Length</th>\n",
       "      <th>...</th>\n",
       "      <th>Vehicle Acceleration</th>\n",
       "      <th>Lane Identification</th>\n",
       "      <th>Preceding Vehicle</th>\n",
       "      <th>Following Vehicle</th>\n",
       "      <th>Spacing Headway</th>\n",
       "      <th>Time Headway</th>\n",
       "      <th>Bad Object</th>\n",
       "      <th>Special Car</th>\n",
       "      <th>Lane Class</th>\n",
       "      <th>Vehicle Movement</th>\n",
       "    </tr>\n",
       "  </thead>\n",
       "  <tbody>\n",
       "    <tr>\n",
       "      <th>0</th>\n",
       "      <td>787</td>\n",
       "      <td>792</td>\n",
       "      <td>792</td>\n",
       "      <td>11</td>\n",
       "      <td>1014</td>\n",
       "      <td>289</td>\n",
       "      <td>46833800</td>\n",
       "      <td>7.801332</td>\n",
       "      <td>7.880461</td>\n",
       "      <td>2.120966</td>\n",
       "      <td>...</td>\n",
       "      <td>0.030009</td>\n",
       "      <td>U3</td>\n",
       "      <td>0</td>\n",
       "      <td>13</td>\n",
       "      <td>0.000000</td>\n",
       "      <td>0.000000</td>\n",
       "      <td>0</td>\n",
       "      <td>0</td>\n",
       "      <td>상행본선</td>\n",
       "      <td>1.769170</td>\n",
       "    </tr>\n",
       "    <tr>\n",
       "      <th>1</th>\n",
       "      <td>788</td>\n",
       "      <td>793</td>\n",
       "      <td>793</td>\n",
       "      <td>13</td>\n",
       "      <td>1014</td>\n",
       "      <td>194</td>\n",
       "      <td>46833800</td>\n",
       "      <td>54.673599</td>\n",
       "      <td>8.501163</td>\n",
       "      <td>2.625958</td>\n",
       "      <td>...</td>\n",
       "      <td>1.196332</td>\n",
       "      <td>U3</td>\n",
       "      <td>11</td>\n",
       "      <td>15</td>\n",
       "      <td>46.968151</td>\n",
       "      <td>2.225389</td>\n",
       "      <td>0</td>\n",
       "      <td>0</td>\n",
       "      <td>상행본선</td>\n",
       "      <td>2.110559</td>\n",
       "    </tr>\n",
       "    <tr>\n",
       "      <th>2</th>\n",
       "      <td>789</td>\n",
       "      <td>794</td>\n",
       "      <td>794</td>\n",
       "      <td>14</td>\n",
       "      <td>1014</td>\n",
       "      <td>189</td>\n",
       "      <td>46833800</td>\n",
       "      <td>14.441741</td>\n",
       "      <td>13.449301</td>\n",
       "      <td>2.726956</td>\n",
       "      <td>...</td>\n",
       "      <td>-0.840738</td>\n",
       "      <td>U1</td>\n",
       "      <td>0</td>\n",
       "      <td>0</td>\n",
       "      <td>0.000000</td>\n",
       "      <td>0.000000</td>\n",
       "      <td>0</td>\n",
       "      <td>0</td>\n",
       "      <td>상행본선</td>\n",
       "      <td>2.670264</td>\n",
       "    </tr>\n",
       "  </tbody>\n",
       "</table>\n",
       "<p>3 rows × 23 columns</p>\n",
       "</div>"
      ],
      "text/plain": [
       "   Unnamed: 0  Unnamed: 0.1  Unnamed: 0.1.1  Vehicle ID  Frame ID  \\\n",
       "0         787           792             792          11      1014   \n",
       "1         788           793             793          13      1014   \n",
       "2         789           794             794          14      1014   \n",
       "\n",
       "   Total Frames  Global Time (Epoch Time)  Local X (m)  Local Y(m)  \\\n",
       "0           289                  46833800     7.801332    7.880461   \n",
       "1           194                  46833800    54.673599    8.501163   \n",
       "2           189                  46833800    14.441741   13.449301   \n",
       "\n",
       "   Vehicle Length  ...  Vehicle Acceleration  Lane Identification  \\\n",
       "0        2.120966  ...              0.030009                   U3   \n",
       "1        2.625958  ...              1.196332                   U3   \n",
       "2        2.726956  ...             -0.840738                   U1   \n",
       "\n",
       "   Preceding Vehicle  Following Vehicle Spacing Headway  Time Headway  \\\n",
       "0                  0                 13        0.000000      0.000000   \n",
       "1                 11                 15       46.968151      2.225389   \n",
       "2                  0                  0        0.000000      0.000000   \n",
       "\n",
       "   Bad Object  Special Car  Lane Class  Vehicle Movement  \n",
       "0           0            0        상행본선          1.769170  \n",
       "1           0            0        상행본선          2.110559  \n",
       "2           0            0        상행본선          2.670264  \n",
       "\n",
       "[3 rows x 23 columns]"
      ]
     },
     "execution_count": 19,
     "metadata": {},
     "output_type": "execute_result"
    }
   ],
   "source": [
    "target01_1_A_1.head(3)"
   ]
  },
  {
   "cell_type": "markdown",
   "id": "e23c73ed-452e-40ea-90fb-449081ce1181",
   "metadata": {},
   "source": [
    "### RUN and Save"
   ]
  },
  {
   "cell_type": "code",
   "execution_count": 20,
   "id": "2c41ce27-3f47-4adc-9d66-0603a28c6872",
   "metadata": {
    "execution": {
     "iopub.execute_input": "2022-01-22T09:48:51.824846Z",
     "iopub.status.busy": "2022-01-22T09:48:51.824846Z",
     "iopub.status.idle": "2022-01-22T09:48:51.839806Z",
     "shell.execute_reply": "2022-01-22T09:48:51.838809Z",
     "shell.execute_reply.started": "2022-01-22T09:48:51.824846Z"
    },
    "tags": []
   },
   "outputs": [],
   "source": [
    "save_dir = '01_denstiy_by_target_LOS_concated'\n",
    "\n",
    "os.makedirs(save_dir, exist_ok = True) # 해당 경로가 없을 시 폴더 생성, 존재할 경우 건너뛰기"
   ]
  },
  {
   "cell_type": "code",
   "execution_count": 21,
   "id": "fbd0288b-6c6a-4f2c-940f-59e761daf9ad",
   "metadata": {
    "execution": {
     "iopub.execute_input": "2022-01-22T09:48:51.839806Z",
     "iopub.status.busy": "2022-01-22T09:48:51.839806Z",
     "iopub.status.idle": "2022-01-22T09:48:51.856762Z",
     "shell.execute_reply": "2022-01-22T09:48:51.854767Z",
     "shell.execute_reply.started": "2022-01-22T09:48:51.839806Z"
    },
    "tags": []
   },
   "outputs": [
    {
     "data": {
      "text/plain": [
       "['1', '2', '3', '4', '5', '6', '7', '8', '9', '10', '11']"
      ]
     },
     "execution_count": 21,
     "metadata": {},
     "output_type": "execute_result"
    }
   ],
   "source": [
    "fraction_list"
   ]
  },
  {
   "cell_type": "code",
   "execution_count": 22,
   "id": "24da1e5a-8b23-4ae0-a895-49583dd5b13f",
   "metadata": {
    "execution": {
     "iopub.execute_input": "2022-01-22T09:48:51.857758Z",
     "iopub.status.busy": "2022-01-22T09:48:51.857758Z",
     "iopub.status.idle": "2022-01-22T09:48:54.103156Z",
     "shell.execute_reply": "2022-01-22T09:48:54.103156Z",
     "shell.execute_reply.started": "2022-01-22T09:48:51.857758Z"
    },
    "tags": []
   },
   "outputs": [],
   "source": [
    "for num in num_list:\n",
    "    for LOS in LOS_list:\n",
    "        LOS_df = pd.DataFrame() # 대상지별, LOS별 빈 데이터프레임 생성\n",
    "        \n",
    "        for fraction in fraction_list:\n",
    "            \n",
    "            if f'target{num}_{LOS}_{fraction}' in globals(): # 해당 이름의 변수가 전역변수(globals()) 내에 존재할 시\n",
    "                frac_df = globals()[f'target{num}_{LOS}_{fraction}']\n",
    "                LOS_df = pd.concat([LOS_df, frac_df])\n",
    "            else:\n",
    "                pass\n",
    "        \n",
    "        LOS_save_name = num + '_' + LOS + '.csv'\n",
    "        LOS_save_path = os.path.join(save_dir, LOS_save_name)\n",
    "        \n",
    "        LOS_df.to_csv(LOS_save_path, encoding = 'cp949') # LOS별로 병합된 파일을 저장"
   ]
  }
 ],
 "metadata": {
  "kernelspec": {
   "display_name": "Python 3",
   "language": "python",
   "name": "python3"
  },
  "language_info": {
   "codemirror_mode": {
    "name": "ipython",
    "version": 3
   },
   "file_extension": ".py",
   "mimetype": "text/x-python",
   "name": "python",
   "nbconvert_exporter": "python",
   "pygments_lexer": "ipython3",
   "version": "3.8.8"
  }
 },
 "nbformat": 4,
 "nbformat_minor": 5
}
