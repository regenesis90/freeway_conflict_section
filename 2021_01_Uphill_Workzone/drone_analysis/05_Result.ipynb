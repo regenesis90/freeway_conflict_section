{
 "cells": [
  {
   "cell_type": "markdown",
   "metadata": {},
   "source": [
    "# Imports"
   ]
  },
  {
   "cell_type": "code",
   "execution_count": 1,
   "metadata": {
    "execution": {
     "iopub.execute_input": "2022-01-22T10:02:52.035603Z",
     "iopub.status.busy": "2022-01-22T10:02:52.035603Z",
     "iopub.status.idle": "2022-01-22T10:02:52.068084Z",
     "shell.execute_reply": "2022-01-22T10:02:52.067120Z",
     "shell.execute_reply.started": "2022-01-22T10:02:52.035603Z"
    },
    "tags": []
   },
   "outputs": [],
   "source": [
    "import os\n",
    "import csv\n",
    "import glob\n",
    "\n",
    "from tqdm import tqdm"
   ]
  },
  {
   "cell_type": "markdown",
   "metadata": {},
   "source": [
    "# Merging Result Files\n",
    "* 결과 파일을 저장"
   ]
  },
  {
   "cell_type": "markdown",
   "metadata": {},
   "source": [
    "## Load datasets"
   ]
  },
  {
   "cell_type": "code",
   "execution_count": 2,
   "metadata": {
    "execution": {
     "iopub.execute_input": "2022-01-22T10:02:52.069081Z",
     "iopub.status.busy": "2022-01-22T10:02:52.069081Z",
     "iopub.status.idle": "2022-01-22T10:02:52.084040Z",
     "shell.execute_reply": "2022-01-22T10:02:52.083043Z",
     "shell.execute_reply.started": "2022-01-22T10:02:52.069081Z"
    },
    "tags": []
   },
   "outputs": [],
   "source": [
    "total_dir = '02-0_total_volume_speed'"
   ]
  },
  {
   "cell_type": "code",
   "execution_count": 3,
   "metadata": {
    "execution": {
     "iopub.execute_input": "2022-01-22T10:02:52.085037Z",
     "iopub.status.busy": "2022-01-22T10:02:52.085037Z",
     "iopub.status.idle": "2022-01-22T10:02:52.099999Z",
     "shell.execute_reply": "2022-01-22T10:02:52.099034Z",
     "shell.execute_reply.started": "2022-01-22T10:02:52.085037Z"
    },
    "tags": []
   },
   "outputs": [],
   "source": [
    "flowrate_dir = '02-1_Each_Lane_volume_speed'"
   ]
  },
  {
   "cell_type": "code",
   "execution_count": 4,
   "metadata": {
    "execution": {
     "iopub.execute_input": "2022-01-22T10:02:52.102263Z",
     "iopub.status.busy": "2022-01-22T10:02:52.100995Z",
     "iopub.status.idle": "2022-01-22T10:02:52.115228Z",
     "shell.execute_reply": "2022-01-22T10:02:52.114265Z",
     "shell.execute_reply.started": "2022-01-22T10:02:52.102263Z"
    },
    "tags": []
   },
   "outputs": [],
   "source": [
    "lanechange_flow_dir = '02-2_Lanechange_volume_speed'"
   ]
  },
  {
   "cell_type": "code",
   "execution_count": 5,
   "metadata": {
    "execution": {
     "iopub.execute_input": "2022-01-22T10:02:52.116225Z",
     "iopub.status.busy": "2022-01-22T10:02:52.116225Z",
     "iopub.status.idle": "2022-01-22T10:02:52.130188Z",
     "shell.execute_reply": "2022-01-22T10:02:52.129218Z",
     "shell.execute_reply.started": "2022-01-22T10:02:52.116225Z"
    },
    "tags": []
   },
   "outputs": [],
   "source": [
    "overspeed_dir = '02-3_overspeed'"
   ]
  },
  {
   "cell_type": "code",
   "execution_count": 6,
   "metadata": {
    "execution": {
     "iopub.execute_input": "2022-01-22T10:02:52.131185Z",
     "iopub.status.busy": "2022-01-22T10:02:52.131185Z",
     "iopub.status.idle": "2022-01-22T10:02:52.146176Z",
     "shell.execute_reply": "2022-01-22T10:02:52.145207Z",
     "shell.execute_reply.started": "2022-01-22T10:02:52.131185Z"
    },
    "tags": []
   },
   "outputs": [],
   "source": [
    "sudden_dir = '02-5_sudden_dec_aggregate'"
   ]
  },
  {
   "cell_type": "code",
   "execution_count": 7,
   "metadata": {
    "execution": {
     "iopub.execute_input": "2022-01-22T10:02:52.147173Z",
     "iopub.status.busy": "2022-01-22T10:02:52.146176Z",
     "iopub.status.idle": "2022-01-22T10:02:52.162134Z",
     "shell.execute_reply": "2022-01-22T10:02:52.161164Z",
     "shell.execute_reply.started": "2022-01-22T10:02:52.147173Z"
    },
    "tags": []
   },
   "outputs": [],
   "source": [
    "angle_dir = '03-5_decision'"
   ]
  },
  {
   "cell_type": "code",
   "execution_count": 8,
   "metadata": {
    "execution": {
     "iopub.execute_input": "2022-01-22T10:02:52.163130Z",
     "iopub.status.busy": "2022-01-22T10:02:52.162134Z",
     "iopub.status.idle": "2022-01-22T10:02:52.178091Z",
     "shell.execute_reply": "2022-01-22T10:02:52.177093Z",
     "shell.execute_reply.started": "2022-01-22T10:02:52.163130Z"
    },
    "tags": []
   },
   "outputs": [],
   "source": [
    "annexed_dir = '04_result'\n",
    "\n",
    "os.makedirs(annexed_dir, exist_ok = True) # 해당 경로가 없을 시 폴더 생성, 존재할 경우 건너뛰기"
   ]
  },
  {
   "cell_type": "code",
   "execution_count": 9,
   "metadata": {
    "execution": {
     "iopub.execute_input": "2022-01-22T10:02:52.179088Z",
     "iopub.status.busy": "2022-01-22T10:02:52.179088Z",
     "iopub.status.idle": "2022-01-22T10:02:52.194051Z",
     "shell.execute_reply": "2022-01-22T10:02:52.193051Z",
     "shell.execute_reply.started": "2022-01-22T10:02:52.179088Z"
    },
    "tags": []
   },
   "outputs": [
    {
     "data": {
      "text/plain": [
       "['01_1_A', '01_1_B', '01_1_C']"
      ]
     },
     "execution_count": 9,
     "metadata": {},
     "output_type": "execute_result"
    }
   ],
   "source": [
    "num_LOS_list = []\n",
    "\n",
    "for file in os.listdir(total_dir):\n",
    "    num_LOS_list.append(file[17:23])\n",
    "    \n",
    "num_LOS_list[0:3]"
   ]
  },
  {
   "cell_type": "markdown",
   "metadata": {},
   "source": [
    "## Save"
   ]
  },
  {
   "cell_type": "code",
   "execution_count": 10,
   "metadata": {
    "execution": {
     "iopub.execute_input": "2022-01-22T10:02:52.195045Z",
     "iopub.status.busy": "2022-01-22T10:02:52.195045Z",
     "iopub.status.idle": "2022-01-22T10:02:52.334672Z",
     "shell.execute_reply": "2022-01-22T10:02:52.333674Z",
     "shell.execute_reply.started": "2022-01-22T10:02:52.195045Z"
    },
    "tags": []
   },
   "outputs": [
    {
     "name": "stderr",
     "output_type": "stream",
     "text": [
      "100%|█████████████████████████████████████████████████████████████████████████████████| 40/40 [00:00<00:00, 339.89it/s]"
     ]
    },
    {
     "name": "stdout",
     "output_type": "stream",
     "text": [
      ">>> All file merge complete <<<\n"
     ]
    },
    {
     "name": "stderr",
     "output_type": "stream",
     "text": [
      "\n"
     ]
    }
   ],
   "source": [
    "for num_LOS in tqdm(num_LOS_list):\n",
    "    total_path = os.path.join(total_dir, f'total_volume_SMS_{num_LOS}.csv')\n",
    "    flowrate_path = os.path.join(flowrate_dir, f'EachLaneVolume{num_LOS}.csv')\n",
    "    lanechange_flow_path = os.path.join(lanechange_flow_dir, f'LaneChangeVolume{num_LOS}.csv')\n",
    "    overspeed_path = os.path.join(overspeed_dir, f'overspeed{num_LOS}.csv')\n",
    "    sudden_path = os.path.join(sudden_dir, f'SuddenDecAgg{num_LOS}.csv')\n",
    "    angle_path = os.path.join(angle_dir, f'{num_LOS}.csv')\n",
    "    \n",
    "    annexed_path = os.path.join(annexed_dir, f'{num_LOS}.csv')\n",
    "    \n",
    "    file_list = [total_path, flowrate_path, lanechange_flow_path, overspeed_path, sudden_path, angle_path]\n",
    "    name_list = ['전체 교통정보', '차로별 정보', '차량 경로(차로변경이력)별 정보', '과속 정보', '급감속 정보', '급앞지르기·급진로변경']\n",
    "                    \n",
    "    with open(annexed_path, 'w') as f: #2-1.병합할할 파일을 열고\n",
    "        \n",
    "        for file, name in zip(file_list, name_list):\n",
    "            f.write(name)\n",
    "            f.write('\\n')\n",
    "            if os.path.isfile(file): # 파일이 있으면\n",
    "                with open(file ,'r') as f2:  # 파일을 엽니다.\n",
    "                    while True:\n",
    "                        line = f2.readline() # 대상 파일의 row 1줄을 읽어서 \n",
    "                        if not line: #row가 없으면 해당 csv 파일 읽기 끝\n",
    "                            f.write('\\n')\n",
    "                            break\n",
    "                                        \n",
    "                        f.write(line) #3.읽은 row 1줄을 merge할 파일에 쓴다.\n",
    "                file_name = file.split('\\\\')[-1]\n",
    "                #print(file.split('\\\\')[-1] + ' Write complete!')\n",
    "                \n",
    "            else:\n",
    "                pass\n",
    "                            \n",
    "print('>>> All file merge complete <<<')"
   ]
  }
 ],
 "metadata": {
  "kernelspec": {
   "display_name": "Python 3",
   "language": "python",
   "name": "python3"
  },
  "language_info": {
   "codemirror_mode": {
    "name": "ipython",
    "version": 3
   },
   "file_extension": ".py",
   "mimetype": "text/x-python",
   "name": "python",
   "nbconvert_exporter": "python",
   "pygments_lexer": "ipython3",
   "version": "3.8.8"
  }
 },
 "nbformat": 4,
 "nbformat_minor": 4
}
