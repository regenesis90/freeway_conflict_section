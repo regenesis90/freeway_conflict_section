{
 "cells": [
  {
   "cell_type": "markdown",
   "metadata": {},
   "source": [
    "# Imports"
   ]
  },
  {
   "cell_type": "code",
   "execution_count": 1,
   "metadata": {
    "execution": {
     "iopub.execute_input": "2022-05-22T10:43:27.291658Z",
     "iopub.status.busy": "2022-05-22T10:43:27.290660Z",
     "iopub.status.idle": "2022-05-22T10:43:27.305621Z",
     "shell.execute_reply": "2022-05-22T10:43:27.305621Z",
     "shell.execute_reply.started": "2022-05-22T10:43:27.290660Z"
    },
    "tags": []
   },
   "outputs": [],
   "source": [
    "import os\n",
    "import csv\n",
    "import glob\n",
    "\n",
    "from tqdm import tqdm"
   ]
  },
  {
   "cell_type": "markdown",
   "metadata": {},
   "source": [
    "# Merging Result Files\n",
    "* 결과 파일을 저장"
   ]
  },
  {
   "cell_type": "markdown",
   "metadata": {},
   "source": [
    "## Load datasets"
   ]
  },
  {
   "cell_type": "code",
   "execution_count": 2,
   "metadata": {
    "execution": {
     "iopub.execute_input": "2022-05-22T10:43:27.306619Z",
     "iopub.status.busy": "2022-05-22T10:43:27.306619Z",
     "iopub.status.idle": "2022-05-22T10:43:27.321091Z",
     "shell.execute_reply": "2022-05-22T10:43:27.321091Z",
     "shell.execute_reply.started": "2022-05-22T10:43:27.306619Z"
    }
   },
   "outputs": [],
   "source": [
    "folder_dir = 'D:/OneDrive - 연세대학교 (Yonsei University)/Projects/Yonsei_TELab/003_도로상충_210517-/2차년도_2022/16_드론궤적분석자료_2점분합류_금호JC_서울방향/C'"
   ]
  },
  {
   "cell_type": "code",
   "execution_count": 3,
   "metadata": {
    "execution": {
     "iopub.execute_input": "2022-05-22T10:43:27.323085Z",
     "iopub.status.busy": "2022-05-22T10:43:27.323085Z",
     "iopub.status.idle": "2022-05-22T10:43:27.336053Z",
     "shell.execute_reply": "2022-05-22T10:43:27.336053Z",
     "shell.execute_reply.started": "2022-05-22T10:43:27.323085Z"
    },
    "tags": []
   },
   "outputs": [],
   "source": [
    "total_folder = '02-0_total_volume_speed'\n",
    "\n",
    "total_dir = os.path.join(folder_dir, total_folder)"
   ]
  },
  {
   "cell_type": "code",
   "execution_count": 4,
   "metadata": {
    "execution": {
     "iopub.execute_input": "2022-05-22T10:43:27.338046Z",
     "iopub.status.busy": "2022-05-22T10:43:27.338046Z",
     "iopub.status.idle": "2022-05-22T10:43:27.351012Z",
     "shell.execute_reply": "2022-05-22T10:43:27.351012Z",
     "shell.execute_reply.started": "2022-05-22T10:43:27.338046Z"
    },
    "tags": []
   },
   "outputs": [],
   "source": [
    "flowrate_folder = '02-1_Each_Lane_volume_speed'\n",
    "\n",
    "flowrate_dir = os.path.join(folder_dir, flowrate_folder)"
   ]
  },
  {
   "cell_type": "code",
   "execution_count": 5,
   "metadata": {
    "execution": {
     "iopub.execute_input": "2022-05-22T10:43:27.352008Z",
     "iopub.status.busy": "2022-05-22T10:43:27.352008Z",
     "iopub.status.idle": "2022-05-22T10:43:27.365970Z",
     "shell.execute_reply": "2022-05-22T10:43:27.365970Z",
     "shell.execute_reply.started": "2022-05-22T10:43:27.352008Z"
    },
    "tags": []
   },
   "outputs": [],
   "source": [
    "lanechange_flow_folder = '02-2_Lanechange_volume_speed'\n",
    "\n",
    "lanechange_flow_dir = os.path.join(folder_dir, lanechange_flow_folder)"
   ]
  },
  {
   "cell_type": "code",
   "execution_count": 6,
   "metadata": {
    "execution": {
     "iopub.execute_input": "2022-05-22T10:43:27.366969Z",
     "iopub.status.busy": "2022-05-22T10:43:27.366969Z",
     "iopub.status.idle": "2022-05-22T10:43:27.381929Z",
     "shell.execute_reply": "2022-05-22T10:43:27.381929Z",
     "shell.execute_reply.started": "2022-05-22T10:43:27.366969Z"
    },
    "tags": []
   },
   "outputs": [],
   "source": [
    "overspeed_folder = '02-3_overspeed'\n",
    "\n",
    "overspeed_dir = os.path.join(folder_dir, overspeed_folder)"
   ]
  },
  {
   "cell_type": "code",
   "execution_count": 7,
   "metadata": {
    "execution": {
     "iopub.execute_input": "2022-05-22T10:43:27.382927Z",
     "iopub.status.busy": "2022-05-22T10:43:27.382927Z",
     "iopub.status.idle": "2022-05-22T10:43:27.397886Z",
     "shell.execute_reply": "2022-05-22T10:43:27.397886Z",
     "shell.execute_reply.started": "2022-05-22T10:43:27.382927Z"
    },
    "tags": []
   },
   "outputs": [],
   "source": [
    "sudden_folder = '02-5_sudden_dec_aggregated'\n",
    "\n",
    "sudden_dir = os.path.join(folder_dir, sudden_folder)"
   ]
  },
  {
   "cell_type": "code",
   "execution_count": 8,
   "metadata": {
    "execution": {
     "iopub.execute_input": "2022-05-22T10:43:27.398883Z",
     "iopub.status.busy": "2022-05-22T10:43:27.398883Z",
     "iopub.status.idle": "2022-05-22T10:43:27.413860Z",
     "shell.execute_reply": "2022-05-22T10:43:27.413860Z",
     "shell.execute_reply.started": "2022-05-22T10:43:27.398883Z"
    },
    "tags": []
   },
   "outputs": [],
   "source": [
    "angle_folder = '03-5_decision'\n",
    "\n",
    "angle_dir = os.path.join(folder_dir, angle_folder)"
   ]
  },
  {
   "cell_type": "code",
   "execution_count": 9,
   "metadata": {
    "execution": {
     "iopub.execute_input": "2022-05-22T10:43:27.414856Z",
     "iopub.status.busy": "2022-05-22T10:43:27.414856Z",
     "iopub.status.idle": "2022-05-22T10:43:27.429331Z",
     "shell.execute_reply": "2022-05-22T10:43:27.429331Z",
     "shell.execute_reply.started": "2022-05-22T10:43:27.414856Z"
    },
    "tags": []
   },
   "outputs": [],
   "source": [
    "annexed_folder = '04_result'\n",
    "\n",
    "annexed_dir = os.path.join(folder_dir, annexed_folder)\n",
    "\n",
    "os.makedirs(annexed_dir, exist_ok = True) # 해당 경로가 없을 시 폴더 생성, 존재할 경우 건너뛰기"
   ]
  },
  {
   "cell_type": "code",
   "execution_count": 10,
   "metadata": {
    "execution": {
     "iopub.execute_input": "2022-05-22T10:43:27.430329Z",
     "iopub.status.busy": "2022-05-22T10:43:27.430329Z",
     "iopub.status.idle": "2022-05-22T10:43:27.445289Z",
     "shell.execute_reply": "2022-05-22T10:43:27.445289Z",
     "shell.execute_reply.started": "2022-05-22T10:43:27.430329Z"
    },
    "tags": []
   },
   "outputs": [
    {
     "data": {
      "text/plain": [
       "['01_4_A']"
      ]
     },
     "execution_count": 10,
     "metadata": {},
     "output_type": "execute_result"
    }
   ],
   "source": [
    "num_LOS_list = []\n",
    "\n",
    "for file in os.listdir(total_dir):\n",
    "    num_LOS_list.append(file[17:23])\n",
    "    \n",
    "num_LOS_list[0:3]"
   ]
  },
  {
   "cell_type": "markdown",
   "metadata": {},
   "source": [
    "## Save"
   ]
  },
  {
   "cell_type": "code",
   "execution_count": 11,
   "metadata": {
    "execution": {
     "iopub.execute_input": "2022-05-22T10:43:27.446285Z",
     "iopub.status.busy": "2022-05-22T10:43:27.446285Z",
     "iopub.status.idle": "2022-05-22T10:43:27.479198Z",
     "shell.execute_reply": "2022-05-22T10:43:27.477209Z",
     "shell.execute_reply.started": "2022-05-22T10:43:27.446285Z"
    },
    "tags": []
   },
   "outputs": [
    {
     "name": "stderr",
     "output_type": "stream",
     "text": [
      "100%|███████████████████████████████████████████████████████████████████████████████████| 1/1 [00:00<00:00, 250.65it/s]"
     ]
    },
    {
     "name": "stdout",
     "output_type": "stream",
     "text": [
      ">>> All file merge complete <<<\n"
     ]
    },
    {
     "name": "stderr",
     "output_type": "stream",
     "text": [
      "\n"
     ]
    }
   ],
   "source": [
    "for num_LOS in tqdm(num_LOS_list):\n",
    "    total_path = os.path.join(total_dir, f'total_volume_SMS_{num_LOS}.csv')\n",
    "    flowrate_path = os.path.join(flowrate_dir, f'EachLaneVolume{num_LOS}.csv')\n",
    "    lanechange_flow_path = os.path.join(lanechange_flow_dir, f'LaneChangeVolume{num_LOS}.csv')\n",
    "    overspeed_path = os.path.join(overspeed_dir, f'overspeed{num_LOS}.csv')\n",
    "    sudden_path = os.path.join(sudden_dir, f'SuddenDecAgg{num_LOS}.csv')\n",
    "    angle_path = os.path.join(angle_dir, f'{num_LOS}.csv')\n",
    "    \n",
    "    annexed_path = os.path.join(annexed_dir, f'{num_LOS}.csv')\n",
    "    \n",
    "    file_list = [total_path, flowrate_path, lanechange_flow_path, overspeed_path, sudden_path, angle_path]\n",
    "    name_list = ['전체 교통정보', '차로별 정보', '차량 경로(차로변경이력)별 정보', '과속 정보', '급감속 정보', '급앞지르기·급진로변경']\n",
    "                    \n",
    "    with open(annexed_path, 'w') as f: #2-1.병합할할 파일을 열고\n",
    "        \n",
    "        for file, name in zip(file_list, name_list):\n",
    "            f.write(name)\n",
    "            f.write('\\n')\n",
    "            if os.path.isfile(file): # 파일이 있으면\n",
    "                with open(file ,'r') as f2:  # 파일을 엽니다.\n",
    "                    while True:\n",
    "                        line = f2.readline() # 대상 파일의 row 1줄을 읽어서 \n",
    "                        if not line: #row가 없으면 해당 csv 파일 읽기 끝\n",
    "                            f.write('\\n')\n",
    "                            break\n",
    "                                        \n",
    "                        f.write(line) #3.읽은 row 1줄을 merge할 파일에 쓴다.\n",
    "                file_name = file.split('\\\\')[-1]\n",
    "                #print(file.split('\\\\')[-1] + ' Write complete!')\n",
    "                \n",
    "            else:\n",
    "                pass\n",
    "                            \n",
    "print('>>> All file merge complete <<<')"
   ]
  }
 ],
 "metadata": {
  "kernelspec": {
   "display_name": "Python 3",
   "language": "python",
   "name": "python3"
  },
  "language_info": {
   "codemirror_mode": {
    "name": "ipython",
    "version": 3
   },
   "file_extension": ".py",
   "mimetype": "text/x-python",
   "name": "python",
   "nbconvert_exporter": "python",
   "pygments_lexer": "ipython3",
   "version": "3.8.8"
  }
 },
 "nbformat": 4,
 "nbformat_minor": 4
}
