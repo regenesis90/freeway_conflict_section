{
 "cells": [
  {
   "cell_type": "markdown",
   "id": "8fd430e3-e60c-4829-bcc6-2c10f2e05833",
   "metadata": {},
   "source": [
    "# Extraction - Basic\n",
    "* 고속도로 연결로 접속부 :: 분류부 영향권(2, 3번 영상) 분석"
   ]
  },
  {
   "cell_type": "markdown",
   "id": "17c4fd56-e64e-476f-90e8-5f4a575db631",
   "metadata": {},
   "source": [
    "# Imports"
   ]
  },
  {
   "cell_type": "code",
   "execution_count": 1,
   "id": "4dc50724-cd35-44f6-8b51-068b23d67474",
   "metadata": {
    "execution": {
     "iopub.execute_input": "2022-05-21T12:20:08.523521Z",
     "iopub.status.busy": "2022-05-21T12:20:08.523521Z",
     "iopub.status.idle": "2022-05-21T12:20:09.932728Z",
     "shell.execute_reply": "2022-05-21T12:20:09.932728Z",
     "shell.execute_reply.started": "2022-05-21T12:20:08.523521Z"
    },
    "tags": []
   },
   "outputs": [],
   "source": [
    "import numpy as np\n",
    "import pandas as pd\n",
    "\n",
    "import os\n",
    "from tqdm import tqdm"
   ]
  },
  {
   "cell_type": "markdown",
   "id": "d730a227-46f1-4294-a38c-8903cf1233b1",
   "metadata": {},
   "source": [
    "# Extraction by LOS\n",
    "* `01_density_by_frame` 폴더의 내용을 바탕으로 LOS별 추출할 프레임을 지정\n",
    "* **다음을 먼저 작성해야 합니다** : `LOS_frame_list.csv`"
   ]
  },
  {
   "cell_type": "markdown",
   "id": "e87e21b8-1264-405f-b4b9-ffed16f4976e",
   "metadata": {},
   "source": [
    "## Extracting by LOS\n",
    "* 각 대상지(영상)별 LOS별로 분석할 프레임만 필터링(20초 이상 = 600개 프레임 이상, LOS별)\n",
    "* 해당 프레임에 속한 Vehicle ID를 추적\n",
    "* * `LOS_frame_list`에 명시된 LOS별 프레임들을 추출하여 .csv 파일로 저장"
   ]
  },
  {
   "cell_type": "markdown",
   "id": "1a6d19dd-6028-4668-8e11-108904942bf7",
   "metadata": {},
   "source": [
    "### Load Frame Info"
   ]
  },
  {
   "cell_type": "code",
   "execution_count": 2,
   "id": "0497bff4-6376-4918-b501-63a11c0bdcde",
   "metadata": {
    "execution": {
     "iopub.execute_input": "2022-05-21T12:20:09.933691Z",
     "iopub.status.busy": "2022-05-21T12:20:09.933691Z",
     "iopub.status.idle": "2022-05-21T12:20:09.949650Z",
     "shell.execute_reply": "2022-05-21T12:20:09.948683Z",
     "shell.execute_reply.started": "2022-05-21T12:20:09.933691Z"
    },
    "tags": []
   },
   "outputs": [],
   "source": [
    "frame_rate = 30 # 프레임율 설정"
   ]
  },
  {
   "cell_type": "code",
   "execution_count": 3,
   "id": "5bbaa418-2211-44b8-a439-5799522230cd",
   "metadata": {
    "execution": {
     "iopub.execute_input": "2022-05-21T12:20:09.950646Z",
     "iopub.status.busy": "2022-05-21T12:20:09.949650Z",
     "iopub.status.idle": "2022-05-21T12:20:09.965607Z",
     "shell.execute_reply": "2022-05-21T12:20:09.964638Z",
     "shell.execute_reply.started": "2022-05-21T12:20:09.950646Z"
    },
    "tags": []
   },
   "outputs": [],
   "source": [
    "frm_info_path = 'LOS_frame_list_B.csv'"
   ]
  },
  {
   "cell_type": "code",
   "execution_count": 4,
   "id": "648c1211-4e1c-40d0-9665-926a031d540b",
   "metadata": {
    "execution": {
     "iopub.execute_input": "2022-05-21T12:20:09.966631Z",
     "iopub.status.busy": "2022-05-21T12:20:09.966631Z",
     "iopub.status.idle": "2022-05-21T12:20:09.979601Z",
     "shell.execute_reply": "2022-05-21T12:20:09.979601Z",
     "shell.execute_reply.started": "2022-05-21T12:20:09.966631Z"
    },
    "tags": []
   },
   "outputs": [],
   "source": [
    "frm_info = pd.read_csv(frm_info_path)\n",
    "#frm_info.reset_index(inplace = True)"
   ]
  },
  {
   "cell_type": "code",
   "execution_count": 5,
   "id": "d65cd760-533e-401c-87ae-ecf3ae399126",
   "metadata": {
    "execution": {
     "iopub.execute_input": "2022-05-21T12:20:09.980566Z",
     "iopub.status.busy": "2022-05-21T12:20:09.980566Z",
     "iopub.status.idle": "2022-05-21T12:20:10.026816Z",
     "shell.execute_reply": "2022-05-21T12:20:10.026816Z",
     "shell.execute_reply.started": "2022-05-21T12:20:09.980566Z"
    },
    "tags": []
   },
   "outputs": [],
   "source": [
    "frm_info['tmsec'] = (frm_info['end_at'] - frm_info['start_at'])/frame_rate # 파생변수 생성: 프레임ID 차이에 따른 시간차"
   ]
  },
  {
   "cell_type": "code",
   "execution_count": 6,
   "id": "9cdffdac-213e-4b64-acd6-d7724aae2880",
   "metadata": {
    "execution": {
     "iopub.execute_input": "2022-05-21T12:20:10.027814Z",
     "iopub.status.busy": "2022-05-21T12:20:10.027814Z",
     "iopub.status.idle": "2022-05-21T12:20:10.059828Z",
     "shell.execute_reply": "2022-05-21T12:20:10.058829Z",
     "shell.execute_reply.started": "2022-05-21T12:20:10.027814Z"
    },
    "tags": []
   },
   "outputs": [
    {
     "data": {
      "text/html": [
       "<div>\n",
       "<style scoped>\n",
       "    .dataframe tbody tr th:only-of-type {\n",
       "        vertical-align: middle;\n",
       "    }\n",
       "\n",
       "    .dataframe tbody tr th {\n",
       "        vertical-align: top;\n",
       "    }\n",
       "\n",
       "    .dataframe thead th {\n",
       "        text-align: right;\n",
       "    }\n",
       "</style>\n",
       "<table border=\"1\" class=\"dataframe\">\n",
       "  <thead>\n",
       "    <tr style=\"text-align: right;\">\n",
       "      <th></th>\n",
       "      <th>num</th>\n",
       "      <th>LOS</th>\n",
       "      <th>CNT</th>\n",
       "      <th>start_at</th>\n",
       "      <th>end_at</th>\n",
       "      <th>tmsec</th>\n",
       "    </tr>\n",
       "  </thead>\n",
       "  <tbody>\n",
       "    <tr>\n",
       "      <th>0</th>\n",
       "      <td>01_2</td>\n",
       "      <td>B</td>\n",
       "      <td>1</td>\n",
       "      <td>441</td>\n",
       "      <td>3609</td>\n",
       "      <td>105.6</td>\n",
       "    </tr>\n",
       "    <tr>\n",
       "      <th>1</th>\n",
       "      <td>01_2</td>\n",
       "      <td>C</td>\n",
       "      <td>1</td>\n",
       "      <td>3609</td>\n",
       "      <td>3849</td>\n",
       "      <td>8.0</td>\n",
       "    </tr>\n",
       "    <tr>\n",
       "      <th>2</th>\n",
       "      <td>01_2</td>\n",
       "      <td>B</td>\n",
       "      <td>2</td>\n",
       "      <td>3849</td>\n",
       "      <td>4071</td>\n",
       "      <td>7.4</td>\n",
       "    </tr>\n",
       "    <tr>\n",
       "      <th>3</th>\n",
       "      <td>01_2</td>\n",
       "      <td>A</td>\n",
       "      <td>1</td>\n",
       "      <td>4071</td>\n",
       "      <td>4371</td>\n",
       "      <td>10.0</td>\n",
       "    </tr>\n",
       "    <tr>\n",
       "      <th>4</th>\n",
       "      <td>01_2</td>\n",
       "      <td>C</td>\n",
       "      <td>2</td>\n",
       "      <td>4494</td>\n",
       "      <td>4836</td>\n",
       "      <td>11.4</td>\n",
       "    </tr>\n",
       "  </tbody>\n",
       "</table>\n",
       "</div>"
      ],
      "text/plain": [
       "    num LOS  CNT  start_at  end_at  tmsec\n",
       "0  01_2   B    1       441    3609  105.6\n",
       "1  01_2   C    1      3609    3849    8.0\n",
       "2  01_2   B    2      3849    4071    7.4\n",
       "3  01_2   A    1      4071    4371   10.0\n",
       "4  01_2   C    2      4494    4836   11.4"
      ]
     },
     "execution_count": 6,
     "metadata": {},
     "output_type": "execute_result"
    }
   ],
   "source": [
    "frm_info.head()"
   ]
  },
  {
   "cell_type": "markdown",
   "id": "155cfb82-7411-4e28-ba29-b3fa0ba49e47",
   "metadata": {},
   "source": [
    "### calculate tmsec\n",
    "* frm_info로부터 각 대상지, LOS별 tmsec 총 관측시간(tmsec) 산정\n",
    "* 이를 `LOS_tmsec.csv` 로 저장"
   ]
  },
  {
   "cell_type": "code",
   "execution_count": 7,
   "id": "4e608fa5-2b79-4c33-ad75-73b40616ec39",
   "metadata": {
    "execution": {
     "iopub.execute_input": "2022-05-21T12:20:10.060824Z",
     "iopub.status.busy": "2022-05-21T12:20:10.060824Z",
     "iopub.status.idle": "2022-05-21T12:20:10.091740Z",
     "shell.execute_reply": "2022-05-21T12:20:10.090747Z",
     "shell.execute_reply.started": "2022-05-21T12:20:10.060824Z"
    },
    "tags": []
   },
   "outputs": [
    {
     "data": {
      "text/html": [
       "<div>\n",
       "<style scoped>\n",
       "    .dataframe tbody tr th:only-of-type {\n",
       "        vertical-align: middle;\n",
       "    }\n",
       "\n",
       "    .dataframe tbody tr th {\n",
       "        vertical-align: top;\n",
       "    }\n",
       "\n",
       "    .dataframe thead th {\n",
       "        text-align: right;\n",
       "    }\n",
       "</style>\n",
       "<table border=\"1\" class=\"dataframe\">\n",
       "  <thead>\n",
       "    <tr style=\"text-align: right;\">\n",
       "      <th></th>\n",
       "      <th>num</th>\n",
       "      <th>LOS</th>\n",
       "      <th>tmsec</th>\n",
       "    </tr>\n",
       "  </thead>\n",
       "  <tbody>\n",
       "    <tr>\n",
       "      <th>0</th>\n",
       "      <td>01_2</td>\n",
       "      <td>A</td>\n",
       "      <td>41.3</td>\n",
       "    </tr>\n",
       "    <tr>\n",
       "      <th>1</th>\n",
       "      <td>01_2</td>\n",
       "      <td>B</td>\n",
       "      <td>544.7</td>\n",
       "    </tr>\n",
       "    <tr>\n",
       "      <th>2</th>\n",
       "      <td>01_2</td>\n",
       "      <td>C</td>\n",
       "      <td>228.7</td>\n",
       "    </tr>\n",
       "    <tr>\n",
       "      <th>3</th>\n",
       "      <td>01_2</td>\n",
       "      <td>D</td>\n",
       "      <td>23.6</td>\n",
       "    </tr>\n",
       "    <tr>\n",
       "      <th>4</th>\n",
       "      <td>01_3</td>\n",
       "      <td>A</td>\n",
       "      <td>685.4</td>\n",
       "    </tr>\n",
       "  </tbody>\n",
       "</table>\n",
       "</div>"
      ],
      "text/plain": [
       "    num LOS  tmsec\n",
       "0  01_2   A   41.3\n",
       "1  01_2   B  544.7\n",
       "2  01_2   C  228.7\n",
       "3  01_2   D   23.6\n",
       "4  01_3   A  685.4"
      ]
     },
     "execution_count": 7,
     "metadata": {},
     "output_type": "execute_result"
    }
   ],
   "source": [
    "tmsec_info = pd.pivot_table(frm_info, index = ['num', 'LOS'], values = 'tmsec', aggfunc = 'sum').reset_index()\n",
    "\n",
    "tmsec_info.head()"
   ]
  },
  {
   "cell_type": "code",
   "execution_count": 8,
   "id": "37d90cc7-5a13-4a73-ba31-6ef43f29e581",
   "metadata": {
    "execution": {
     "iopub.execute_input": "2022-05-21T12:20:10.092737Z",
     "iopub.status.busy": "2022-05-21T12:20:10.091740Z",
     "iopub.status.idle": "2022-05-21T12:20:10.107698Z",
     "shell.execute_reply": "2022-05-21T12:20:10.106703Z",
     "shell.execute_reply.started": "2022-05-21T12:20:10.092737Z"
    },
    "tags": []
   },
   "outputs": [],
   "source": [
    "tmsec_path = 'LOS_tmsec_B.csv'"
   ]
  },
  {
   "cell_type": "code",
   "execution_count": 9,
   "id": "622c3f0e-bde5-4fe0-ba56-e230617c0103",
   "metadata": {
    "execution": {
     "iopub.execute_input": "2022-05-21T12:20:10.110691Z",
     "iopub.status.busy": "2022-05-21T12:20:10.109693Z",
     "iopub.status.idle": "2022-05-21T12:20:10.125650Z",
     "shell.execute_reply": "2022-05-21T12:20:10.123661Z",
     "shell.execute_reply.started": "2022-05-21T12:20:10.110691Z"
    },
    "tags": []
   },
   "outputs": [],
   "source": [
    "tmsec_info.to_csv(tmsec_path, encoding = 'utf-8')"
   ]
  },
  {
   "cell_type": "markdown",
   "id": "a90c57da-1326-4ceb-b166-453565edbef5",
   "metadata": {},
   "source": [
    "### Load Datasets"
   ]
  },
  {
   "cell_type": "code",
   "execution_count": 10,
   "id": "84b09acd-de08-4d8c-b0b5-28d2829cc9f4",
   "metadata": {
    "execution": {
     "iopub.execute_input": "2022-05-21T12:20:10.127647Z",
     "iopub.status.busy": "2022-05-21T12:20:10.127647Z",
     "iopub.status.idle": "2022-05-21T12:20:10.140613Z",
     "shell.execute_reply": "2022-05-21T12:20:10.138615Z",
     "shell.execute_reply.started": "2022-05-21T12:20:10.127647Z"
    }
   },
   "outputs": [],
   "source": [
    "folder_dir = 'D:/OneDrive - 연세대학교 (Yonsei University)/Projects/Yonsei_TELab/003_도로상충_210517-/2차년도_2022/16_드론궤적분석자료_2점분합류_금호JC_서울방향/B'"
   ]
  },
  {
   "cell_type": "code",
   "execution_count": 11,
   "id": "16e15f65-7029-4e67-b825-5c06cc344181",
   "metadata": {
    "execution": {
     "iopub.execute_input": "2022-05-21T12:20:10.142605Z",
     "iopub.status.busy": "2022-05-21T12:20:10.142605Z",
     "iopub.status.idle": "2022-05-21T12:20:10.153575Z",
     "shell.execute_reply": "2022-05-21T12:20:10.153575Z",
     "shell.execute_reply.started": "2022-05-21T12:20:10.142605Z"
    },
    "tags": []
   },
   "outputs": [],
   "source": [
    "folder_name = '00_dataset_filtered' # 각 .csv 파일이 있는 폴더경로\n",
    "\n",
    "file_dir = os.path.join(folder_dir, folder_name)"
   ]
  },
  {
   "cell_type": "code",
   "execution_count": 12,
   "id": "f85368a1-46a3-4b30-95c9-e7cfd725411c",
   "metadata": {
    "execution": {
     "iopub.execute_input": "2022-05-21T12:20:10.159560Z",
     "iopub.status.busy": "2022-05-21T12:20:10.155570Z",
     "iopub.status.idle": "2022-05-21T12:20:10.169532Z",
     "shell.execute_reply": "2022-05-21T12:20:10.169532Z",
     "shell.execute_reply.started": "2022-05-21T12:20:10.159560Z"
    },
    "tags": []
   },
   "outputs": [
    {
     "data": {
      "text/plain": [
       "['01_2.csv', '01_3.csv']"
      ]
     },
     "execution_count": 12,
     "metadata": {},
     "output_type": "execute_result"
    }
   ],
   "source": [
    "file_list = os.listdir(file_dir)\n",
    "file_list[0:3]"
   ]
  },
  {
   "cell_type": "code",
   "execution_count": 13,
   "id": "809da573-47f9-4350-af94-7b57cb50da87",
   "metadata": {
    "execution": {
     "iopub.execute_input": "2022-05-21T12:20:10.170529Z",
     "iopub.status.busy": "2022-05-21T12:20:10.170529Z",
     "iopub.status.idle": "2022-05-21T12:20:10.485492Z",
     "shell.execute_reply": "2022-05-21T12:20:10.485492Z",
     "shell.execute_reply.started": "2022-05-21T12:20:10.170529Z"
    },
    "tags": []
   },
   "outputs": [],
   "source": [
    "df_list = [] # 데이터프레임 리스트\n",
    "num_list = [] # 데이터프레임 파일명, 즉 넘버링 리스트\n",
    "\n",
    "for file in file_list:\n",
    "    num = file[0:4]\n",
    "    file_path = os.path.join(file_dir, file)\n",
    "            \n",
    "    if os.path.isfile(file_path): # 해당 file_path에 파일이 존재할 경우\n",
    "        globals()[f'target{num}'] = pd.read_csv(file_path, encoding = 'cp949') # .csv 파일을 불러와 인스턴스 만들기\n",
    "        df_list.append(globals()[f'target{num}']) \n",
    "        num_list.append(num)"
   ]
  },
  {
   "cell_type": "code",
   "execution_count": 16,
   "id": "adb2ebfc-d625-4453-9991-8c2c8667ab2f",
   "metadata": {
    "execution": {
     "iopub.execute_input": "2022-05-21T12:20:28.174813Z",
     "iopub.status.busy": "2022-05-21T12:20:28.174813Z",
     "iopub.status.idle": "2022-05-21T12:20:28.189804Z",
     "shell.execute_reply": "2022-05-21T12:20:28.189804Z",
     "shell.execute_reply.started": "2022-05-21T12:20:28.174813Z"
    },
    "tags": []
   },
   "outputs": [
    {
     "data": {
      "text/html": [
       "<div>\n",
       "<style scoped>\n",
       "    .dataframe tbody tr th:only-of-type {\n",
       "        vertical-align: middle;\n",
       "    }\n",
       "\n",
       "    .dataframe tbody tr th {\n",
       "        vertical-align: top;\n",
       "    }\n",
       "\n",
       "    .dataframe thead th {\n",
       "        text-align: right;\n",
       "    }\n",
       "</style>\n",
       "<table border=\"1\" class=\"dataframe\">\n",
       "  <thead>\n",
       "    <tr style=\"text-align: right;\">\n",
       "      <th></th>\n",
       "      <th>Unnamed: 0</th>\n",
       "      <th>Unnamed: 0.1</th>\n",
       "      <th>Vehicle ID</th>\n",
       "      <th>Frame ID</th>\n",
       "      <th>Total Frames</th>\n",
       "      <th>Global Time (Epoch Time)</th>\n",
       "      <th>Local X (m)</th>\n",
       "      <th>Local Y(m)</th>\n",
       "      <th>Vehicle Length</th>\n",
       "      <th>Vehicle Width</th>\n",
       "      <th>...</th>\n",
       "      <th>Vehicle Acceleration</th>\n",
       "      <th>Lane Identification</th>\n",
       "      <th>Preceding Vehicle</th>\n",
       "      <th>Following Vehicle</th>\n",
       "      <th>Spacing Headway</th>\n",
       "      <th>Time Headway</th>\n",
       "      <th>Bad Object</th>\n",
       "      <th>Special Car</th>\n",
       "      <th>Lane Class</th>\n",
       "      <th>Vehicle Movement</th>\n",
       "    </tr>\n",
       "  </thead>\n",
       "  <tbody>\n",
       "    <tr>\n",
       "      <th>0</th>\n",
       "      <td>0</td>\n",
       "      <td>0</td>\n",
       "      <td>3</td>\n",
       "      <td>354</td>\n",
       "      <td>39</td>\n",
       "      <td>46811800</td>\n",
       "      <td>203.646042</td>\n",
       "      <td>20.099760</td>\n",
       "      <td>4.936709</td>\n",
       "      <td>1.898734</td>\n",
       "      <td>...</td>\n",
       "      <td>-0.299115</td>\n",
       "      <td>U3</td>\n",
       "      <td>0</td>\n",
       "      <td>0</td>\n",
       "      <td>0.0</td>\n",
       "      <td>0.0</td>\n",
       "      <td>0</td>\n",
       "      <td>0</td>\n",
       "      <td>상행본선</td>\n",
       "      <td>2.426485</td>\n",
       "    </tr>\n",
       "    <tr>\n",
       "      <th>1</th>\n",
       "      <td>1</td>\n",
       "      <td>1</td>\n",
       "      <td>4</td>\n",
       "      <td>354</td>\n",
       "      <td>39</td>\n",
       "      <td>46811800</td>\n",
       "      <td>198.960190</td>\n",
       "      <td>24.644833</td>\n",
       "      <td>6.582278</td>\n",
       "      <td>1.898734</td>\n",
       "      <td>...</td>\n",
       "      <td>0.124783</td>\n",
       "      <td>U2</td>\n",
       "      <td>0</td>\n",
       "      <td>0</td>\n",
       "      <td>0.0</td>\n",
       "      <td>0.0</td>\n",
       "      <td>0</td>\n",
       "      <td>0</td>\n",
       "      <td>상행본선</td>\n",
       "      <td>2.705503</td>\n",
       "    </tr>\n",
       "    <tr>\n",
       "      <th>2</th>\n",
       "      <td>2</td>\n",
       "      <td>2</td>\n",
       "      <td>3</td>\n",
       "      <td>357</td>\n",
       "      <td>42</td>\n",
       "      <td>46811900</td>\n",
       "      <td>201.215576</td>\n",
       "      <td>20.082336</td>\n",
       "      <td>4.936709</td>\n",
       "      <td>1.898734</td>\n",
       "      <td>...</td>\n",
       "      <td>0.404358</td>\n",
       "      <td>U3</td>\n",
       "      <td>0</td>\n",
       "      <td>0</td>\n",
       "      <td>0.0</td>\n",
       "      <td>0.0</td>\n",
       "      <td>0</td>\n",
       "      <td>0</td>\n",
       "      <td>상행본선</td>\n",
       "      <td>2.430528</td>\n",
       "    </tr>\n",
       "  </tbody>\n",
       "</table>\n",
       "<p>3 rows × 22 columns</p>\n",
       "</div>"
      ],
      "text/plain": [
       "   Unnamed: 0  Unnamed: 0.1  Vehicle ID  Frame ID  Total Frames  \\\n",
       "0           0             0           3       354            39   \n",
       "1           1             1           4       354            39   \n",
       "2           2             2           3       357            42   \n",
       "\n",
       "   Global Time (Epoch Time)  Local X (m)  Local Y(m)  Vehicle Length  \\\n",
       "0                  46811800   203.646042   20.099760        4.936709   \n",
       "1                  46811800   198.960190   24.644833        6.582278   \n",
       "2                  46811900   201.215576   20.082336        4.936709   \n",
       "\n",
       "   Vehicle Width  ...  Vehicle Acceleration  Lane Identification  \\\n",
       "0       1.898734  ...             -0.299115                   U3   \n",
       "1       1.898734  ...              0.124783                   U2   \n",
       "2       1.898734  ...              0.404358                   U3   \n",
       "\n",
       "   Preceding Vehicle Following Vehicle  Spacing Headway  Time Headway  \\\n",
       "0                  0                 0              0.0           0.0   \n",
       "1                  0                 0              0.0           0.0   \n",
       "2                  0                 0              0.0           0.0   \n",
       "\n",
       "   Bad Object  Special Car  Lane Class  Vehicle Movement  \n",
       "0           0            0        상행본선          2.426485  \n",
       "1           0            0        상행본선          2.705503  \n",
       "2           0            0        상행본선          2.430528  \n",
       "\n",
       "[3 rows x 22 columns]"
      ]
     },
     "execution_count": 16,
     "metadata": {},
     "output_type": "execute_result"
    }
   ],
   "source": [
    "target01_2.head(3)"
   ]
  },
  {
   "cell_type": "markdown",
   "id": "8665d951-aed5-422d-9482-1031fa00ec69",
   "metadata": {},
   "source": [
    "### Extract & Save"
   ]
  },
  {
   "cell_type": "code",
   "execution_count": 17,
   "id": "43ebe6aa-58d3-4043-ade6-f56f186ae6ca",
   "metadata": {
    "execution": {
     "iopub.execute_input": "2022-05-21T12:20:32.766206Z",
     "iopub.status.busy": "2022-05-21T12:20:32.766206Z",
     "iopub.status.idle": "2022-05-21T12:20:32.781165Z",
     "shell.execute_reply": "2022-05-21T12:20:32.781165Z",
     "shell.execute_reply.started": "2022-05-21T12:20:32.766206Z"
    },
    "tags": []
   },
   "outputs": [],
   "source": [
    "folder_name = '01_density_by_target_LOS'\n",
    "\n",
    "save_extract_dir = os.path.join(folder_dir, folder_name)\n",
    "\n",
    "os.makedirs(save_extract_dir, exist_ok = True) # 해당 경로가 없을 시 폴더 생성, 존재할 경우 건너뛰기"
   ]
  },
  {
   "cell_type": "code",
   "execution_count": 18,
   "id": "8ce883a8-19da-4c3f-b8c2-2fe8803e3b96",
   "metadata": {
    "execution": {
     "iopub.execute_input": "2022-05-21T12:20:32.782179Z",
     "iopub.status.busy": "2022-05-21T12:20:32.782179Z",
     "iopub.status.idle": "2022-05-21T12:20:34.084510Z",
     "shell.execute_reply": "2022-05-21T12:20:34.084510Z",
     "shell.execute_reply.started": "2022-05-21T12:20:32.782179Z"
    },
    "tags": []
   },
   "outputs": [],
   "source": [
    "for i in range(len(frm_info)): # frm_info에 따라서\n",
    "    \n",
    "    num = frm_info['num'][i] # 대상지 번호. tg_spot. 01_1 등으로 표현\n",
    "    LOS = frm_info['LOS'][i] # 대상지 촬영지점의 해당 LOS\n",
    "    CNT = frm_info['CNT'][i] # 몇번쨰 LOS인지 표시\n",
    "    \n",
    "    frame_start = frm_info['start_at'][i] # 시작 프레임\n",
    "    frame_end = frm_info['end_at'][i] # 끝 프레임\n",
    "    \n",
    "    tmsec = frm_info['tmsec'][i] # 총 시간\n",
    "    \n",
    "    df = globals()[f'target{num}']\n",
    "    \n",
    "    # LOS별로 프레임을 추출하여 각 대상지별, LOS별 파일로 저장\n",
    "    df_extract = df[(df['Frame ID'] >= frame_start) & (df['Frame ID'] <= frame_end)] # 프레임별로 필터링한 df\n",
    "    \n",
    "    save_extract_name = f'{num}_{LOS}_{CNT}.csv'\n",
    "    save_extract_path = os.path.join(save_extract_dir, save_extract_name)\n",
    "    \n",
    "    df_extract.to_csv(save_extract_path, encoding = 'cp949')"
   ]
  },
  {
   "cell_type": "markdown",
   "id": "18b0f8f0-30a4-4dba-80a6-75979d0e5dfb",
   "metadata": {},
   "source": [
    "## Concat and Save\n",
    "* `01_denstiy_by_target_LOS` 에 있는 .csv 파일들을 대상지별, LOS별로 병합\n",
    "* `01_denstiy_by_target_LOS_concated`에 저장하기"
   ]
  },
  {
   "cell_type": "markdown",
   "id": "781bdb49-f7df-491a-92e3-3d7cbca35843",
   "metadata": {},
   "source": [
    "### Load Dataset\n",
    "* 대상지 및 LOS 조각별로 쪼개진 데이터들을 불러오기"
   ]
  },
  {
   "cell_type": "code",
   "execution_count": 19,
   "id": "ac401bb2-b5a2-4f4a-8142-b6b80f97ba1f",
   "metadata": {
    "execution": {
     "iopub.execute_input": "2022-05-21T12:20:34.085508Z",
     "iopub.status.busy": "2022-05-21T12:20:34.085508Z",
     "iopub.status.idle": "2022-05-21T12:20:34.100469Z",
     "shell.execute_reply": "2022-05-21T12:20:34.100469Z",
     "shell.execute_reply.started": "2022-05-21T12:20:34.085508Z"
    },
    "tags": []
   },
   "outputs": [],
   "source": [
    "folder_name = '01_density_by_target_LOS'\n",
    "\n",
    "file_dir = os.path.join(folder_dir, folder_name)"
   ]
  },
  {
   "cell_type": "code",
   "execution_count": 20,
   "id": "435ae61e-e868-448c-b686-974b4e21ee7a",
   "metadata": {
    "execution": {
     "iopub.execute_input": "2022-05-21T12:20:34.101465Z",
     "iopub.status.busy": "2022-05-21T12:20:34.101465Z",
     "iopub.status.idle": "2022-05-21T12:20:34.117426Z",
     "shell.execute_reply": "2022-05-21T12:20:34.116433Z",
     "shell.execute_reply.started": "2022-05-21T12:20:34.101465Z"
    },
    "tags": []
   },
   "outputs": [
    {
     "data": {
      "text/plain": [
       "['01_2_A_1.csv', '01_2_A_2.csv', '01_2_A_3.csv']"
      ]
     },
     "execution_count": 20,
     "metadata": {},
     "output_type": "execute_result"
    }
   ],
   "source": [
    "file_list = os.listdir(file_dir)\n",
    "file_list[0:3]"
   ]
  },
  {
   "cell_type": "code",
   "execution_count": 21,
   "id": "7f18fb7c-fa0d-4730-b774-afe2a0a9a446",
   "metadata": {
    "execution": {
     "iopub.execute_input": "2022-05-21T12:20:34.118420Z",
     "iopub.status.busy": "2022-05-21T12:20:34.118420Z",
     "iopub.status.idle": "2022-05-21T12:20:34.614214Z",
     "shell.execute_reply": "2022-05-21T12:20:34.614214Z",
     "shell.execute_reply.started": "2022-05-21T12:20:34.118420Z"
    },
    "tags": []
   },
   "outputs": [],
   "source": [
    "df_list = []\n",
    "num_list = []\n",
    "LOS_list = []\n",
    "fraction_list = []\n",
    "\n",
    "\n",
    "for file in file_list:\n",
    "    num = file[0:4] # 파일의 대상지 번호. tg_spot\n",
    "    LOS = file[5]\n",
    "    fraction = file[7:-4] # 파일의 조각 번호\n",
    "    \n",
    "    file_path = os.path.join(file_dir, file)\n",
    "    globals()[f'target{num}_{LOS}_{fraction}'] = pd.read_csv(file_path, encoding = 'cp949')\n",
    "    \n",
    "    df_list.append(globals()[f'target{num}_{LOS}_{fraction}'])\n",
    "    \n",
    "    if num not in num_list:\n",
    "        num_list.append(num)\n",
    "    \n",
    "    if LOS not in LOS_list:\n",
    "        LOS_list.append(LOS)\n",
    "        \n",
    "    if fraction not in fraction_list:\n",
    "        fraction_list.append(fraction)"
   ]
  },
  {
   "cell_type": "code",
   "execution_count": 23,
   "id": "1dd0b26e-6e6b-4749-9a3f-1607ce9bb863",
   "metadata": {
    "execution": {
     "iopub.execute_input": "2022-05-21T12:20:40.678891Z",
     "iopub.status.busy": "2022-05-21T12:20:40.678891Z",
     "iopub.status.idle": "2022-05-21T12:20:40.705412Z",
     "shell.execute_reply": "2022-05-21T12:20:40.704413Z",
     "shell.execute_reply.started": "2022-05-21T12:20:40.678891Z"
    },
    "tags": []
   },
   "outputs": [
    {
     "data": {
      "text/html": [
       "<div>\n",
       "<style scoped>\n",
       "    .dataframe tbody tr th:only-of-type {\n",
       "        vertical-align: middle;\n",
       "    }\n",
       "\n",
       "    .dataframe tbody tr th {\n",
       "        vertical-align: top;\n",
       "    }\n",
       "\n",
       "    .dataframe thead th {\n",
       "        text-align: right;\n",
       "    }\n",
       "</style>\n",
       "<table border=\"1\" class=\"dataframe\">\n",
       "  <thead>\n",
       "    <tr style=\"text-align: right;\">\n",
       "      <th></th>\n",
       "      <th>Unnamed: 0</th>\n",
       "      <th>Unnamed: 0.1</th>\n",
       "      <th>Unnamed: 0.1.1</th>\n",
       "      <th>Vehicle ID</th>\n",
       "      <th>Frame ID</th>\n",
       "      <th>Total Frames</th>\n",
       "      <th>Global Time (Epoch Time)</th>\n",
       "      <th>Local X (m)</th>\n",
       "      <th>Local Y(m)</th>\n",
       "      <th>Vehicle Length</th>\n",
       "      <th>...</th>\n",
       "      <th>Vehicle Acceleration</th>\n",
       "      <th>Lane Identification</th>\n",
       "      <th>Preceding Vehicle</th>\n",
       "      <th>Following Vehicle</th>\n",
       "      <th>Spacing Headway</th>\n",
       "      <th>Time Headway</th>\n",
       "      <th>Bad Object</th>\n",
       "      <th>Special Car</th>\n",
       "      <th>Lane Class</th>\n",
       "      <th>Vehicle Movement</th>\n",
       "    </tr>\n",
       "  </thead>\n",
       "  <tbody>\n",
       "    <tr>\n",
       "      <th>0</th>\n",
       "      <td>11840</td>\n",
       "      <td>12142</td>\n",
       "      <td>12142</td>\n",
       "      <td>329</td>\n",
       "      <td>4071</td>\n",
       "      <td>206</td>\n",
       "      <td>46935700</td>\n",
       "      <td>53.231415</td>\n",
       "      <td>15.266999</td>\n",
       "      <td>5.822785</td>\n",
       "      <td>...</td>\n",
       "      <td>-1.314545</td>\n",
       "      <td>U5</td>\n",
       "      <td>0</td>\n",
       "      <td>35</td>\n",
       "      <td>0.000000</td>\n",
       "      <td>0.000000</td>\n",
       "      <td>0</td>\n",
       "      <td>0</td>\n",
       "      <td>상행본선</td>\n",
       "      <td>2.554237</td>\n",
       "    </tr>\n",
       "    <tr>\n",
       "      <th>1</th>\n",
       "      <td>11841</td>\n",
       "      <td>12143</td>\n",
       "      <td>12143</td>\n",
       "      <td>331</td>\n",
       "      <td>4071</td>\n",
       "      <td>201</td>\n",
       "      <td>46935700</td>\n",
       "      <td>62.116364</td>\n",
       "      <td>25.108927</td>\n",
       "      <td>5.443038</td>\n",
       "      <td>...</td>\n",
       "      <td>2.484300</td>\n",
       "      <td>U2</td>\n",
       "      <td>0</td>\n",
       "      <td>37</td>\n",
       "      <td>0.000000</td>\n",
       "      <td>0.000000</td>\n",
       "      <td>0</td>\n",
       "      <td>0</td>\n",
       "      <td>상행본선</td>\n",
       "      <td>2.607176</td>\n",
       "    </tr>\n",
       "    <tr>\n",
       "      <th>2</th>\n",
       "      <td>11842</td>\n",
       "      <td>12144</td>\n",
       "      <td>12144</td>\n",
       "      <td>335</td>\n",
       "      <td>4071</td>\n",
       "      <td>151</td>\n",
       "      <td>46935700</td>\n",
       "      <td>107.361649</td>\n",
       "      <td>14.114642</td>\n",
       "      <td>6.329114</td>\n",
       "      <td>...</td>\n",
       "      <td>-2.312533</td>\n",
       "      <td>U5</td>\n",
       "      <td>29</td>\n",
       "      <td>38</td>\n",
       "      <td>54.062637</td>\n",
       "      <td>2.288326</td>\n",
       "      <td>0</td>\n",
       "      <td>0</td>\n",
       "      <td>상행본선</td>\n",
       "      <td>2.362541</td>\n",
       "    </tr>\n",
       "  </tbody>\n",
       "</table>\n",
       "<p>3 rows × 23 columns</p>\n",
       "</div>"
      ],
      "text/plain": [
       "   Unnamed: 0  Unnamed: 0.1  Unnamed: 0.1.1  Vehicle ID  Frame ID  \\\n",
       "0       11840         12142           12142         329      4071   \n",
       "1       11841         12143           12143         331      4071   \n",
       "2       11842         12144           12144         335      4071   \n",
       "\n",
       "   Total Frames  Global Time (Epoch Time)  Local X (m)  Local Y(m)  \\\n",
       "0           206                  46935700    53.231415   15.266999   \n",
       "1           201                  46935700    62.116364   25.108927   \n",
       "2           151                  46935700   107.361649   14.114642   \n",
       "\n",
       "   Vehicle Length  ...  Vehicle Acceleration  Lane Identification  \\\n",
       "0        5.822785  ...             -1.314545                   U5   \n",
       "1        5.443038  ...              2.484300                   U2   \n",
       "2        6.329114  ...             -2.312533                   U5   \n",
       "\n",
       "   Preceding Vehicle  Following Vehicle Spacing Headway  Time Headway  \\\n",
       "0                  0                 35        0.000000      0.000000   \n",
       "1                  0                 37        0.000000      0.000000   \n",
       "2                 29                 38       54.062637      2.288326   \n",
       "\n",
       "   Bad Object  Special Car  Lane Class  Vehicle Movement  \n",
       "0           0            0        상행본선          2.554237  \n",
       "1           0            0        상행본선          2.607176  \n",
       "2           0            0        상행본선          2.362541  \n",
       "\n",
       "[3 rows x 23 columns]"
      ]
     },
     "execution_count": 23,
     "metadata": {},
     "output_type": "execute_result"
    }
   ],
   "source": [
    "target01_2_A_1.head(3)"
   ]
  },
  {
   "cell_type": "markdown",
   "id": "e23c73ed-452e-40ea-90fb-449081ce1181",
   "metadata": {},
   "source": [
    "### RUN and Save"
   ]
  },
  {
   "cell_type": "code",
   "execution_count": 24,
   "id": "2c41ce27-3f47-4adc-9d66-0603a28c6872",
   "metadata": {
    "execution": {
     "iopub.execute_input": "2022-05-21T12:20:44.248400Z",
     "iopub.status.busy": "2022-05-21T12:20:44.247429Z",
     "iopub.status.idle": "2022-05-21T12:20:44.258373Z",
     "shell.execute_reply": "2022-05-21T12:20:44.258373Z",
     "shell.execute_reply.started": "2022-05-21T12:20:44.248400Z"
    },
    "tags": []
   },
   "outputs": [],
   "source": [
    "folder_name = '01_denstiy_by_target_LOS_concated'\n",
    "\n",
    "save_dir = os.path.join(folder_dir, folder_name)\n",
    "\n",
    "os.makedirs(save_dir, exist_ok = True) # 해당 경로가 없을 시 폴더 생성, 존재할 경우 건너뛰기"
   ]
  },
  {
   "cell_type": "code",
   "execution_count": 25,
   "id": "fbd0288b-6c6a-4f2c-940f-59e761daf9ad",
   "metadata": {
    "execution": {
     "iopub.execute_input": "2022-05-21T12:20:44.259371Z",
     "iopub.status.busy": "2022-05-21T12:20:44.259371Z",
     "iopub.status.idle": "2022-05-21T12:20:44.273364Z",
     "shell.execute_reply": "2022-05-21T12:20:44.273364Z",
     "shell.execute_reply.started": "2022-05-21T12:20:44.259371Z"
    },
    "tags": []
   },
   "outputs": [
    {
     "data": {
      "text/plain": [
       "['1',\n",
       " '2',\n",
       " '3',\n",
       " '4',\n",
       " '10',\n",
       " '11',\n",
       " '12',\n",
       " '13',\n",
       " '14',\n",
       " '5',\n",
       " '6',\n",
       " '7',\n",
       " '8',\n",
       " '9',\n",
       " '15',\n",
       " '16',\n",
       " '17',\n",
       " '18',\n",
       " '19']"
      ]
     },
     "execution_count": 25,
     "metadata": {},
     "output_type": "execute_result"
    }
   ],
   "source": [
    "fraction_list"
   ]
  },
  {
   "cell_type": "code",
   "execution_count": 26,
   "id": "24da1e5a-8b23-4ae0-a895-49583dd5b13f",
   "metadata": {
    "execution": {
     "iopub.execute_input": "2022-05-21T12:20:44.275328Z",
     "iopub.status.busy": "2022-05-21T12:20:44.274331Z",
     "iopub.status.idle": "2022-05-21T12:20:45.669430Z",
     "shell.execute_reply": "2022-05-21T12:20:45.669159Z",
     "shell.execute_reply.started": "2022-05-21T12:20:44.274331Z"
    },
    "tags": []
   },
   "outputs": [],
   "source": [
    "for num in num_list:\n",
    "    for LOS in LOS_list:\n",
    "        LOS_df = pd.DataFrame() # 대상지별, LOS별 빈 데이터프레임 생성\n",
    "        \n",
    "        for fraction in fraction_list:\n",
    "            \n",
    "            if f'target{num}_{LOS}_{fraction}' in globals(): # 해당 이름의 변수가 전역변수(globals()) 내에 존재할 시\n",
    "                frac_df = globals()[f'target{num}_{LOS}_{fraction}']\n",
    "                LOS_df = pd.concat([LOS_df, frac_df])\n",
    "            else:\n",
    "                pass\n",
    "        \n",
    "        LOS_save_name = num + '_' + LOS + '.csv'\n",
    "        LOS_save_path = os.path.join(save_dir, LOS_save_name)\n",
    "        \n",
    "        LOS_df.to_csv(LOS_save_path, encoding = 'cp949') # LOS별로 병합된 파일을 저장"
   ]
  }
 ],
 "metadata": {
  "kernelspec": {
   "display_name": "Python 3",
   "language": "python",
   "name": "python3"
  },
  "language_info": {
   "codemirror_mode": {
    "name": "ipython",
    "version": 3
   },
   "file_extension": ".py",
   "mimetype": "text/x-python",
   "name": "python",
   "nbconvert_exporter": "python",
   "pygments_lexer": "ipython3",
   "version": "3.8.8"
  }
 },
 "nbformat": 4,
 "nbformat_minor": 5
}
