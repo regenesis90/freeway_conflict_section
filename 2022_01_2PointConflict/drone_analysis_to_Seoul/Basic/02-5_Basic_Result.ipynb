{
 "cells": [
  {
   "cell_type": "markdown",
   "metadata": {},
   "source": [
    "# Imports"
   ]
  },
  {
   "cell_type": "code",
   "execution_count": 1,
   "metadata": {
    "execution": {
     "iopub.execute_input": "2022-05-24T06:06:08.091467Z",
     "iopub.status.busy": "2022-05-24T06:06:08.091467Z",
     "iopub.status.idle": "2022-05-24T06:06:08.128398Z",
     "shell.execute_reply": "2022-05-24T06:06:08.128398Z",
     "shell.execute_reply.started": "2022-05-24T06:06:08.091467Z"
    },
    "tags": []
   },
   "outputs": [],
   "source": [
    "import os\n",
    "import csv\n",
    "import glob\n",
    "\n",
    "from tqdm import tqdm"
   ]
  },
  {
   "cell_type": "markdown",
   "metadata": {},
   "source": [
    "# Merging Result Files\n",
    "* 결과 파일을 저장"
   ]
  },
  {
   "cell_type": "markdown",
   "metadata": {},
   "source": [
    "## Load datasets"
   ]
  },
  {
   "cell_type": "code",
   "execution_count": 2,
   "metadata": {
    "execution": {
     "iopub.execute_input": "2022-05-24T06:06:08.130363Z",
     "iopub.status.busy": "2022-05-24T06:06:08.129395Z",
     "iopub.status.idle": "2022-05-24T06:06:08.145324Z",
     "shell.execute_reply": "2022-05-24T06:06:08.144355Z",
     "shell.execute_reply.started": "2022-05-24T06:06:08.130363Z"
    }
   },
   "outputs": [],
   "source": [
    "folder_dir = 'D:/OneDrive - 연세대학교 (Yonsei University)/Projects/Yonsei_TELab/003_도로상충_210517-/2차년도_2022/16_드론궤적분석자료_2점분합류_금호JC_서울방향/Basic'"
   ]
  },
  {
   "cell_type": "code",
   "execution_count": 3,
   "metadata": {
    "execution": {
     "iopub.execute_input": "2022-05-24T06:06:08.147370Z",
     "iopub.status.busy": "2022-05-24T06:06:08.147370Z",
     "iopub.status.idle": "2022-05-24T06:06:08.161285Z",
     "shell.execute_reply": "2022-05-24T06:06:08.160313Z",
     "shell.execute_reply.started": "2022-05-24T06:06:08.147370Z"
    },
    "tags": []
   },
   "outputs": [],
   "source": [
    "total_folder = '02-0_total_volume_speed'\n",
    "\n",
    "total_dir = os.path.join(folder_dir, total_folder)"
   ]
  },
  {
   "cell_type": "code",
   "execution_count": 4,
   "metadata": {
    "execution": {
     "iopub.execute_input": "2022-05-24T06:06:08.163276Z",
     "iopub.status.busy": "2022-05-24T06:06:08.163276Z",
     "iopub.status.idle": "2022-05-24T06:06:08.178249Z",
     "shell.execute_reply": "2022-05-24T06:06:08.177248Z",
     "shell.execute_reply.started": "2022-05-24T06:06:08.163276Z"
    },
    "tags": []
   },
   "outputs": [],
   "source": [
    "flowrate_folder = '02-1_Each_Lane_volume_speed'\n",
    "\n",
    "flowrate_dir = os.path.join(folder_dir, flowrate_folder)"
   ]
  },
  {
   "cell_type": "code",
   "execution_count": 5,
   "metadata": {
    "execution": {
     "iopub.execute_input": "2022-05-24T06:06:08.180237Z",
     "iopub.status.busy": "2022-05-24T06:06:08.179233Z",
     "iopub.status.idle": "2022-05-24T06:06:08.208155Z",
     "shell.execute_reply": "2022-05-24T06:06:08.207157Z",
     "shell.execute_reply.started": "2022-05-24T06:06:08.180237Z"
    },
    "tags": []
   },
   "outputs": [],
   "source": [
    "lanechange_flow_folder = '02-2_Lanechange_volume_speed'\n",
    "\n",
    "lanechange_flow_dir = os.path.join(folder_dir, lanechange_flow_folder)"
   ]
  },
  {
   "cell_type": "code",
   "execution_count": 6,
   "metadata": {
    "execution": {
     "iopub.execute_input": "2022-05-24T06:06:08.210161Z",
     "iopub.status.busy": "2022-05-24T06:06:08.209154Z",
     "iopub.status.idle": "2022-05-24T06:06:08.225110Z",
     "shell.execute_reply": "2022-05-24T06:06:08.223117Z",
     "shell.execute_reply.started": "2022-05-24T06:06:08.210161Z"
    },
    "tags": []
   },
   "outputs": [],
   "source": [
    "overspeed_folder = '02-3_overspeed'\n",
    "\n",
    "overspeed_dir = os.path.join(folder_dir, overspeed_folder)"
   ]
  },
  {
   "cell_type": "code",
   "execution_count": 7,
   "metadata": {
    "execution": {
     "iopub.execute_input": "2022-05-24T06:06:08.227104Z",
     "iopub.status.busy": "2022-05-24T06:06:08.226119Z",
     "iopub.status.idle": "2022-05-24T06:06:08.240069Z",
     "shell.execute_reply": "2022-05-24T06:06:08.239073Z",
     "shell.execute_reply.started": "2022-05-24T06:06:08.227104Z"
    },
    "tags": []
   },
   "outputs": [],
   "source": [
    "sudden_folder = '02-5_sudden_dec_aggregated'\n",
    "\n",
    "sudden_dir = os.path.join(folder_dir, sudden_folder)"
   ]
  },
  {
   "cell_type": "code",
   "execution_count": 8,
   "metadata": {
    "execution": {
     "iopub.execute_input": "2022-05-24T06:06:08.241067Z",
     "iopub.status.busy": "2022-05-24T06:06:08.241067Z",
     "iopub.status.idle": "2022-05-24T06:06:08.258029Z",
     "shell.execute_reply": "2022-05-24T06:06:08.255031Z",
     "shell.execute_reply.started": "2022-05-24T06:06:08.241067Z"
    },
    "tags": []
   },
   "outputs": [],
   "source": [
    "angle_folder = '03-5_decision'\n",
    "\n",
    "angle_dir = os.path.join(folder_dir, angle_folder)"
   ]
  },
  {
   "cell_type": "code",
   "execution_count": 9,
   "metadata": {
    "execution": {
     "iopub.execute_input": "2022-05-24T06:06:08.260016Z",
     "iopub.status.busy": "2022-05-24T06:06:08.260016Z",
     "iopub.status.idle": "2022-05-24T06:06:08.274978Z",
     "shell.execute_reply": "2022-05-24T06:06:08.270987Z",
     "shell.execute_reply.started": "2022-05-24T06:06:08.260016Z"
    },
    "tags": []
   },
   "outputs": [],
   "source": [
    "annexed_folder = '04_result'\n",
    "\n",
    "annexed_dir = os.path.join(folder_dir, annexed_folder)\n",
    "\n",
    "os.makedirs(annexed_dir, exist_ok = True) # 해당 경로가 없을 시 폴더 생성, 존재할 경우 건너뛰기"
   ]
  },
  {
   "cell_type": "code",
   "execution_count": 10,
   "metadata": {
    "execution": {
     "iopub.execute_input": "2022-05-24T06:06:08.276971Z",
     "iopub.status.busy": "2022-05-24T06:06:08.276971Z",
     "iopub.status.idle": "2022-05-24T06:06:08.303900Z",
     "shell.execute_reply": "2022-05-24T06:06:08.302902Z",
     "shell.execute_reply.started": "2022-05-24T06:06:08.276971Z"
    },
    "tags": []
   },
   "outputs": [
    {
     "data": {
      "text/plain": [
       "['01_1_A', '01_1_B', '01_1_C']"
      ]
     },
     "execution_count": 10,
     "metadata": {},
     "output_type": "execute_result"
    }
   ],
   "source": [
    "num_LOS_list = []\n",
    "\n",
    "for file in os.listdir(total_dir):\n",
    "    num_LOS_list.append(file[17:23])\n",
    "    \n",
    "num_LOS_list[0:3]"
   ]
  },
  {
   "cell_type": "markdown",
   "metadata": {},
   "source": [
    "## Save"
   ]
  },
  {
   "cell_type": "code",
   "execution_count": 11,
   "metadata": {
    "execution": {
     "iopub.execute_input": "2022-05-24T06:06:08.307890Z",
     "iopub.status.busy": "2022-05-24T06:06:08.305900Z",
     "iopub.status.idle": "2022-05-24T06:06:08.445565Z",
     "shell.execute_reply": "2022-05-24T06:06:08.444569Z",
     "shell.execute_reply.started": "2022-05-24T06:06:08.307890Z"
    },
    "tags": []
   },
   "outputs": [
    {
     "name": "stderr",
     "output_type": "stream",
     "text": [
      "100%|████████████████████████████████████████████████████████████████████████████████████| 5/5 [00:00<00:00, 77.13it/s]"
     ]
    },
    {
     "name": "stdout",
     "output_type": "stream",
     "text": [
      ">>> All file merge complete <<<\n"
     ]
    },
    {
     "name": "stderr",
     "output_type": "stream",
     "text": [
      "\n"
     ]
    }
   ],
   "source": [
    "for num_LOS in tqdm(num_LOS_list):\n",
    "    total_path = os.path.join(total_dir, f'total_volume_SMS_{num_LOS}.csv')\n",
    "    flowrate_path = os.path.join(flowrate_dir, f'EachLaneVolume{num_LOS}.csv')\n",
    "    lanechange_flow_path = os.path.join(lanechange_flow_dir, f'LaneChangeVolume{num_LOS}.csv')\n",
    "    overspeed_path = os.path.join(overspeed_dir, f'overspeed{num_LOS}.csv')\n",
    "    sudden_path = os.path.join(sudden_dir, f'SuddenDecAgg{num_LOS}.csv')\n",
    "    angle_path = os.path.join(angle_dir, f'{num_LOS}.csv')\n",
    "    \n",
    "    annexed_path = os.path.join(annexed_dir, f'{num_LOS}.csv')\n",
    "    \n",
    "    file_list = [total_path, flowrate_path, lanechange_flow_path, overspeed_path, sudden_path, angle_path]\n",
    "    name_list = ['전체 교통정보', '차로별 정보', '차량 경로(차로변경이력)별 정보', '과속 정보', '급감속 정보', '급앞지르기·급진로변경']\n",
    "                    \n",
    "    with open(annexed_path, 'w') as f: #2-1.병합할할 파일을 열고\n",
    "        \n",
    "        for file, name in zip(file_list, name_list):\n",
    "            f.write(name)\n",
    "            f.write('\\n')\n",
    "            if os.path.isfile(file): # 파일이 있으면\n",
    "                with open(file ,'r') as f2:  # 파일을 엽니다.\n",
    "                    while True:\n",
    "                        line = f2.readline() # 대상 파일의 row 1줄을 읽어서 \n",
    "                        if not line: #row가 없으면 해당 csv 파일 읽기 끝\n",
    "                            f.write('\\n')\n",
    "                            break\n",
    "                                        \n",
    "                        f.write(line) #3.읽은 row 1줄을 merge할 파일에 쓴다.\n",
    "                file_name = file.split('\\\\')[-1]\n",
    "                #print(file.split('\\\\')[-1] + ' Write complete!')\n",
    "                \n",
    "            else:\n",
    "                pass\n",
    "                            \n",
    "print('>>> All file merge complete <<<')"
   ]
  }
 ],
 "metadata": {
  "kernelspec": {
   "display_name": "Python 3",
   "language": "python",
   "name": "python3"
  },
  "language_info": {
   "codemirror_mode": {
    "name": "ipython",
    "version": 3
   },
   "file_extension": ".py",
   "mimetype": "text/x-python",
   "name": "python",
   "nbconvert_exporter": "python",
   "pygments_lexer": "ipython3",
   "version": "3.8.8"
  }
 },
 "nbformat": 4,
 "nbformat_minor": 4
}
