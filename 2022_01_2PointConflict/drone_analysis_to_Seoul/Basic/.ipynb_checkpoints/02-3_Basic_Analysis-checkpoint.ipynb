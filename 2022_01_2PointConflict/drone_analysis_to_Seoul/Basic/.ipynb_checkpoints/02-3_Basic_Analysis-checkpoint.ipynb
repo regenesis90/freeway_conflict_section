{
 "cells": [
  {
   "cell_type": "markdown",
   "metadata": {},
   "source": [
    "# Analysis- Basic\n",
    "* 고속도로 기본구간(1번 영상) 분석"
   ]
  },
  {
   "cell_type": "markdown",
   "metadata": {},
   "source": [
    "# Imports"
   ]
  },
  {
   "cell_type": "code",
   "execution_count": 4,
   "metadata": {
    "execution": {
     "iopub.execute_input": "2022-05-20T05:43:19.891707Z",
     "iopub.status.busy": "2022-05-20T05:43:19.890710Z",
     "iopub.status.idle": "2022-05-20T05:43:19.897690Z",
     "shell.execute_reply": "2022-05-20T05:43:19.896693Z",
     "shell.execute_reply.started": "2022-05-20T05:43:19.891707Z"
    },
    "tags": []
   },
   "outputs": [],
   "source": [
    "import pandas as pd\n",
    "import numpy as np\n",
    "\n",
    "import os\n",
    "import warnings\n",
    "from tqdm import tqdm\n",
    "\n",
    "from plotly.subplots import make_subplots\n",
    "import plotly.express as px\n",
    "import plotly.graph_objects as go\n",
    "import plotly.io as po\n",
    "\n",
    "import statistics\n",
    "import math"
   ]
  },
  {
   "cell_type": "markdown",
   "metadata": {},
   "source": [
    "# Analysis\n",
    "* `01_denstiy_by_target_LOS_concated`의 파일을 불러오기\n",
    "* 필요한 분석 데이터들을 추출하여 각각의 파일로 저장하기"
   ]
  },
  {
   "cell_type": "markdown",
   "metadata": {},
   "source": [
    "## Load Dataset"
   ]
  },
  {
   "cell_type": "markdown",
   "metadata": {},
   "source": [
    "### 궤적 데이터"
   ]
  },
  {
   "cell_type": "code",
   "execution_count": null,
   "metadata": {},
   "outputs": [],
   "source": [
    "folder_dir = 'D:/OneDrive - 연세대학교 (Yonsei University)/Projects/Yonsei_TELab/003_도로상충_210517-/2차년도_2022/16_드론궤적분석자료_2점분합류_금호JC_서울방향/Basic'"
   ]
  },
  {
   "cell_type": "code",
   "execution_count": 5,
   "metadata": {
    "execution": {
     "iopub.execute_input": "2022-05-20T05:43:19.898688Z",
     "iopub.status.busy": "2022-05-20T05:43:19.898688Z",
     "iopub.status.idle": "2022-05-20T05:43:19.913647Z",
     "shell.execute_reply": "2022-05-20T05:43:19.912650Z",
     "shell.execute_reply.started": "2022-05-20T05:43:19.898688Z"
    },
    "tags": []
   },
   "outputs": [],
   "source": [
    "folder_name = '01_denstiy_by_target_LOS_concated'\n",
    "\n",
    "file_dir = os.path.join(folder_dir, folder_name)"
   ]
  },
  {
   "cell_type": "code",
   "execution_count": 6,
   "metadata": {
    "execution": {
     "iopub.execute_input": "2022-05-20T05:43:19.914646Z",
     "iopub.status.busy": "2022-05-20T05:43:19.914646Z",
     "iopub.status.idle": "2022-05-20T05:43:19.928607Z",
     "shell.execute_reply": "2022-05-20T05:43:19.928607Z",
     "shell.execute_reply.started": "2022-05-20T05:43:19.914646Z"
    },
    "tags": []
   },
   "outputs": [
    {
     "data": {
      "text/plain": [
       "['01_1_A.csv', '01_1_B.csv', '01_1_C.csv']"
      ]
     },
     "execution_count": 6,
     "metadata": {},
     "output_type": "execute_result"
    }
   ],
   "source": [
    "file_list = os.listdir(file_dir)\n",
    "file_list[0:3]"
   ]
  },
  {
   "cell_type": "code",
   "execution_count": 7,
   "metadata": {
    "execution": {
     "iopub.execute_input": "2022-05-20T05:43:19.930602Z",
     "iopub.status.busy": "2022-05-20T05:43:19.929604Z",
     "iopub.status.idle": "2022-05-20T05:43:20.088180Z",
     "shell.execute_reply": "2022-05-20T05:43:20.088180Z",
     "shell.execute_reply.started": "2022-05-20T05:43:19.930602Z"
    },
    "tags": []
   },
   "outputs": [],
   "source": [
    "df_list = []\n",
    "num_LOS_list = []\n",
    "\n",
    "for file in file_list:\n",
    "    num_LOS = file[0:6] # 파일명으로부터 01_2_C 형식의 대상지 번호와 LOS 추출\n",
    "    \n",
    "    file_path = os.path.join(file_dir, file)\n",
    "    \n",
    "    globals()[f'target{num_LOS}'] = pd.read_csv(file_path, encoding = 'cp949')\n",
    "    \n",
    "    df_list.append(globals()[f'target{num_LOS}'])\n",
    "    num_LOS_list.append(num_LOS)"
   ]
  },
  {
   "cell_type": "code",
   "execution_count": 8,
   "metadata": {
    "execution": {
     "iopub.execute_input": "2022-05-20T05:43:20.089187Z",
     "iopub.status.busy": "2022-05-20T05:43:20.089187Z",
     "iopub.status.idle": "2022-05-20T05:43:20.121092Z",
     "shell.execute_reply": "2022-05-20T05:43:20.120094Z",
     "shell.execute_reply.started": "2022-05-20T05:43:20.089187Z"
    },
    "tags": []
   },
   "outputs": [
    {
     "data": {
      "text/html": [
       "<div>\n",
       "<style scoped>\n",
       "    .dataframe tbody tr th:only-of-type {\n",
       "        vertical-align: middle;\n",
       "    }\n",
       "\n",
       "    .dataframe tbody tr th {\n",
       "        vertical-align: top;\n",
       "    }\n",
       "\n",
       "    .dataframe thead th {\n",
       "        text-align: right;\n",
       "    }\n",
       "</style>\n",
       "<table border=\"1\" class=\"dataframe\">\n",
       "  <thead>\n",
       "    <tr style=\"text-align: right;\">\n",
       "      <th></th>\n",
       "      <th>Unnamed: 0</th>\n",
       "      <th>Unnamed: 0.1</th>\n",
       "      <th>Unnamed: 0.1.1</th>\n",
       "      <th>Unnamed: 0.1.1.1</th>\n",
       "      <th>Vehicle ID</th>\n",
       "      <th>Frame ID</th>\n",
       "      <th>Total Frames</th>\n",
       "      <th>Global Time (Epoch Time)</th>\n",
       "      <th>Local X (m)</th>\n",
       "      <th>Local Y(m)</th>\n",
       "      <th>...</th>\n",
       "      <th>Vehicle Acceleration</th>\n",
       "      <th>Lane Identification</th>\n",
       "      <th>Preceding Vehicle</th>\n",
       "      <th>Following Vehicle</th>\n",
       "      <th>Spacing Headway</th>\n",
       "      <th>Time Headway</th>\n",
       "      <th>Bad Object</th>\n",
       "      <th>Special Car</th>\n",
       "      <th>Lane Class</th>\n",
       "      <th>Vehicle Movement</th>\n",
       "    </tr>\n",
       "  </thead>\n",
       "  <tbody>\n",
       "    <tr>\n",
       "      <th>0</th>\n",
       "      <td>0</td>\n",
       "      <td>4819</td>\n",
       "      <td>4904</td>\n",
       "      <td>4904</td>\n",
       "      <td>78</td>\n",
       "      <td>1914</td>\n",
       "      <td>204</td>\n",
       "      <td>46863800</td>\n",
       "      <td>33.097595</td>\n",
       "      <td>13.999188</td>\n",
       "      <td>...</td>\n",
       "      <td>12.974760</td>\n",
       "      <td>U4</td>\n",
       "      <td>0</td>\n",
       "      <td>79</td>\n",
       "      <td>0.000000</td>\n",
       "      <td>0.000000</td>\n",
       "      <td>0</td>\n",
       "      <td>0</td>\n",
       "      <td>상행본선</td>\n",
       "      <td>2.724907</td>\n",
       "    </tr>\n",
       "    <tr>\n",
       "      <th>1</th>\n",
       "      <td>1</td>\n",
       "      <td>4820</td>\n",
       "      <td>4905</td>\n",
       "      <td>4905</td>\n",
       "      <td>79</td>\n",
       "      <td>1914</td>\n",
       "      <td>159</td>\n",
       "      <td>46863800</td>\n",
       "      <td>84.890701</td>\n",
       "      <td>12.899315</td>\n",
       "      <td>...</td>\n",
       "      <td>1.592318</td>\n",
       "      <td>U4</td>\n",
       "      <td>78</td>\n",
       "      <td>0</td>\n",
       "      <td>51.804295</td>\n",
       "      <td>1.972192</td>\n",
       "      <td>0</td>\n",
       "      <td>0</td>\n",
       "      <td>상행본선</td>\n",
       "      <td>2.626737</td>\n",
       "    </tr>\n",
       "    <tr>\n",
       "      <th>2</th>\n",
       "      <td>2</td>\n",
       "      <td>4821</td>\n",
       "      <td>4906</td>\n",
       "      <td>4906</td>\n",
       "      <td>80</td>\n",
       "      <td>1914</td>\n",
       "      <td>124</td>\n",
       "      <td>46863800</td>\n",
       "      <td>75.480186</td>\n",
       "      <td>23.971592</td>\n",
       "      <td>...</td>\n",
       "      <td>2.117962</td>\n",
       "      <td>U1</td>\n",
       "      <td>0</td>\n",
       "      <td>0</td>\n",
       "      <td>0.000000</td>\n",
       "      <td>0.000000</td>\n",
       "      <td>0</td>\n",
       "      <td>0</td>\n",
       "      <td>상행본선</td>\n",
       "      <td>3.619401</td>\n",
       "    </tr>\n",
       "  </tbody>\n",
       "</table>\n",
       "<p>3 rows × 24 columns</p>\n",
       "</div>"
      ],
      "text/plain": [
       "   Unnamed: 0  Unnamed: 0.1  Unnamed: 0.1.1  Unnamed: 0.1.1.1  Vehicle ID  \\\n",
       "0           0          4819            4904              4904          78   \n",
       "1           1          4820            4905              4905          79   \n",
       "2           2          4821            4906              4906          80   \n",
       "\n",
       "   Frame ID  Total Frames  Global Time (Epoch Time)  Local X (m)  Local Y(m)  \\\n",
       "0      1914           204                  46863800    33.097595   13.999188   \n",
       "1      1914           159                  46863800    84.890701   12.899315   \n",
       "2      1914           124                  46863800    75.480186   23.971592   \n",
       "\n",
       "   ...  Vehicle Acceleration  Lane Identification  Preceding Vehicle  \\\n",
       "0  ...             12.974760                   U4                  0   \n",
       "1  ...              1.592318                   U4                 78   \n",
       "2  ...              2.117962                   U1                  0   \n",
       "\n",
       "   Following Vehicle  Spacing Headway Time Headway  Bad Object  Special Car  \\\n",
       "0                 79         0.000000     0.000000           0            0   \n",
       "1                  0        51.804295     1.972192           0            0   \n",
       "2                  0         0.000000     0.000000           0            0   \n",
       "\n",
       "   Lane Class  Vehicle Movement  \n",
       "0        상행본선          2.724907  \n",
       "1        상행본선          2.626737  \n",
       "2        상행본선          3.619401  \n",
       "\n",
       "[3 rows x 24 columns]"
      ]
     },
     "execution_count": 8,
     "metadata": {},
     "output_type": "execute_result"
    }
   ],
   "source": [
    "df_list[0].head(3)"
   ]
  },
  {
   "cell_type": "markdown",
   "metadata": {},
   "source": [
    "### Load tmsec info\n",
    "* 총 관측시간 데이터 로드"
   ]
  },
  {
   "cell_type": "code",
   "execution_count": 9,
   "metadata": {
    "execution": {
     "iopub.execute_input": "2022-05-20T05:43:20.122089Z",
     "iopub.status.busy": "2022-05-20T05:43:20.121092Z",
     "iopub.status.idle": "2022-05-20T05:43:20.138049Z",
     "shell.execute_reply": "2022-05-20T05:43:20.136052Z",
     "shell.execute_reply.started": "2022-05-20T05:43:20.122089Z"
    },
    "tags": []
   },
   "outputs": [],
   "source": [
    "tmsec_info = pd.read_csv('LOS_tmsec_Basic.csv') # 대상지별, LOS별 동영상 지속시간(tmsec) 정보 불러오기"
   ]
  },
  {
   "cell_type": "code",
   "execution_count": 10,
   "metadata": {
    "execution": {
     "iopub.execute_input": "2022-05-20T05:43:20.145032Z",
     "iopub.status.busy": "2022-05-20T05:43:20.140042Z",
     "iopub.status.idle": "2022-05-20T05:43:20.168964Z",
     "shell.execute_reply": "2022-05-20T05:43:20.167968Z",
     "shell.execute_reply.started": "2022-05-20T05:43:20.145032Z"
    },
    "tags": []
   },
   "outputs": [
    {
     "data": {
      "text/html": [
       "<div>\n",
       "<style scoped>\n",
       "    .dataframe tbody tr th:only-of-type {\n",
       "        vertical-align: middle;\n",
       "    }\n",
       "\n",
       "    .dataframe tbody tr th {\n",
       "        vertical-align: top;\n",
       "    }\n",
       "\n",
       "    .dataframe thead th {\n",
       "        text-align: right;\n",
       "    }\n",
       "</style>\n",
       "<table border=\"1\" class=\"dataframe\">\n",
       "  <thead>\n",
       "    <tr style=\"text-align: right;\">\n",
       "      <th></th>\n",
       "      <th>Unnamed: 0</th>\n",
       "      <th>num</th>\n",
       "      <th>LOS</th>\n",
       "      <th>tmsec</th>\n",
       "    </tr>\n",
       "  </thead>\n",
       "  <tbody>\n",
       "    <tr>\n",
       "      <th>0</th>\n",
       "      <td>0</td>\n",
       "      <td>01_1</td>\n",
       "      <td>A</td>\n",
       "      <td>105.000000</td>\n",
       "    </tr>\n",
       "    <tr>\n",
       "      <th>1</th>\n",
       "      <td>1</td>\n",
       "      <td>01_1</td>\n",
       "      <td>B</td>\n",
       "      <td>190.900000</td>\n",
       "    </tr>\n",
       "    <tr>\n",
       "      <th>2</th>\n",
       "      <td>2</td>\n",
       "      <td>01_1</td>\n",
       "      <td>C</td>\n",
       "      <td>247.500000</td>\n",
       "    </tr>\n",
       "    <tr>\n",
       "      <th>3</th>\n",
       "      <td>3</td>\n",
       "      <td>01_1</td>\n",
       "      <td>D</td>\n",
       "      <td>182.133333</td>\n",
       "    </tr>\n",
       "    <tr>\n",
       "      <th>4</th>\n",
       "      <td>4</td>\n",
       "      <td>01_1</td>\n",
       "      <td>E</td>\n",
       "      <td>16.000000</td>\n",
       "    </tr>\n",
       "  </tbody>\n",
       "</table>\n",
       "</div>"
      ],
      "text/plain": [
       "   Unnamed: 0   num LOS       tmsec\n",
       "0           0  01_1   A  105.000000\n",
       "1           1  01_1   B  190.900000\n",
       "2           2  01_1   C  247.500000\n",
       "3           3  01_1   D  182.133333\n",
       "4           4  01_1   E   16.000000"
      ]
     },
     "execution_count": 10,
     "metadata": {},
     "output_type": "execute_result"
    }
   ],
   "source": [
    "tmsec_info.head()"
   ]
  },
  {
   "cell_type": "markdown",
   "metadata": {},
   "source": [
    "## 평균 속도 정보\n",
    "1. 차량(Vehicle ID)별 누적 이동거리(%) 구하기\n",
    "2. 전체 길이를 일정 간격의 구간으로 나누기\n",
    "3. 차선별, 일정 구간별(누적길이%) 속도 히트맵 그리기"
   ]
  },
  {
   "cell_type": "markdown",
   "metadata": {},
   "source": [
    "### 교통류율, 전체 공간평균속도(SMS)\n",
    "* 차선별 총 교통량\n",
    "| lane | flowrate | SMS |\n",
    "|------|--------|-----|\n",
    "| U1   | 200    | 80  |\n",
    "| U2   | 300    | 90  |\n",
    "| U3   | 100    | 80  |"
   ]
  },
  {
   "cell_type": "markdown",
   "metadata": {},
   "source": [
    "### 필요 함수 정의\n",
    "* 공간평균속도는 조화평균(harmonic_mean)을 사용해 구함\n",
    "* 조화평균함수는 `statistics.harmonic_mean()`을 이용할 수 있음"
   ]
  },
  {
   "cell_type": "code",
   "execution_count": 11,
   "metadata": {
    "execution": {
     "iopub.execute_input": "2022-05-20T05:43:20.168964Z",
     "iopub.status.busy": "2022-05-20T05:43:20.168964Z",
     "iopub.status.idle": "2022-05-20T05:43:20.183924Z",
     "shell.execute_reply": "2022-05-20T05:43:20.183924Z",
     "shell.execute_reply.started": "2022-05-20T05:43:20.168964Z"
    },
    "tags": []
   },
   "outputs": [],
   "source": [
    "# 조화평균 함수\n",
    "harmonic = lambda x: statistics.harmonic_mean(list(x))\n",
    "harmonic .__name__ = 'harmonic'"
   ]
  },
  {
   "cell_type": "code",
   "execution_count": 12,
   "metadata": {
    "execution": {
     "iopub.execute_input": "2022-05-20T05:43:20.186916Z",
     "iopub.status.busy": "2022-05-20T05:43:20.186916Z",
     "iopub.status.idle": "2022-05-20T05:43:20.200879Z",
     "shell.execute_reply": "2022-05-20T05:43:20.199882Z",
     "shell.execute_reply.started": "2022-05-20T05:43:20.186916Z"
    },
    "tags": []
   },
   "outputs": [],
   "source": [
    "# 고유값 개수 산정 함수(유니크)\n",
    "unq = lambda x: len(x.unique())\n",
    "unq .__name__ = 'unq'"
   ]
  },
  {
   "cell_type": "code",
   "execution_count": 13,
   "metadata": {
    "execution": {
     "iopub.execute_input": "2022-05-20T05:43:20.201876Z",
     "iopub.status.busy": "2022-05-20T05:43:20.201876Z",
     "iopub.status.idle": "2022-05-20T05:43:20.216836Z",
     "shell.execute_reply": "2022-05-20T05:43:20.215839Z",
     "shell.execute_reply.started": "2022-05-20T05:43:20.201876Z"
    },
    "tags": []
   },
   "outputs": [],
   "source": [
    "def LOS_expwy_basic(x:int):\n",
    "    \"\"\"밀도를 바탕으로 LOS를 판정해 주는 함수 :: 고속도로 기본구간 기준\"\"\"\n",
    "    \n",
    "    if x >= 0 and x <= 6:\n",
    "        return 'A'\n",
    "    elif x > 6 and x <= 10:\n",
    "        return 'B'\n",
    "    elif x > 10 and x <= 14:\n",
    "        return 'C'\n",
    "    elif x > 14 and x <= 19:\n",
    "        return 'D'\n",
    "    elif x > 19 and x <= 28:\n",
    "        return 'E'\n",
    "    elif x > 28:\n",
    "        return 'F'\n",
    "    \n",
    "    else:\n",
    "        pass"
   ]
  },
  {
   "cell_type": "markdown",
   "metadata": {},
   "source": [
    "### 전체 차량대수, 공간평균속도, 교통류율 산정 후 저장\n",
    "* 각 대상지별/LOS별 전체 차량대수, 공간평균속도(SMS), 교통류율 구하여 저장하기\n",
    "* `harmonic` 함수 사용 : `harmonic(target1_1_A['Vehicle Velocity(km/h)'])` <- 이런 식으로 쓸 수 있다"
   ]
  },
  {
   "cell_type": "code",
   "execution_count": 14,
   "metadata": {
    "execution": {
     "iopub.execute_input": "2022-05-20T05:43:20.217835Z",
     "iopub.status.busy": "2022-05-20T05:43:20.217835Z",
     "iopub.status.idle": "2022-05-20T05:43:20.234792Z",
     "shell.execute_reply": "2022-05-20T05:43:20.231798Z",
     "shell.execute_reply.started": "2022-05-20T05:43:20.217835Z"
    },
    "tags": []
   },
   "outputs": [
    {
     "data": {
      "text/plain": [
       "Index(['Unnamed: 0', 'Unnamed: 0.1', 'Unnamed: 0.1.1', 'Unnamed: 0.1.1.1',\n",
       "       'Vehicle ID', 'Frame ID', 'Total Frames', 'Global Time (Epoch Time)',\n",
       "       'Local X (m)', 'Local Y(m)', 'Vehicle Length', 'Vehicle Width',\n",
       "       'Vehicle Class', 'Vehicle Velocity(km/h)', 'Vehicle Acceleration',\n",
       "       'Lane Identification', 'Preceding Vehicle', 'Following Vehicle',\n",
       "       'Spacing Headway', 'Time Headway', 'Bad Object', 'Special Car',\n",
       "       'Lane Class', 'Vehicle Movement'],\n",
       "      dtype='object')"
      ]
     },
     "execution_count": 14,
     "metadata": {},
     "output_type": "execute_result"
    }
   ],
   "source": [
    "df_list[0].columns"
   ]
  },
  {
   "cell_type": "code",
   "execution_count": 15,
   "metadata": {
    "execution": {
     "iopub.execute_input": "2022-05-20T05:43:20.235787Z",
     "iopub.status.busy": "2022-05-20T05:43:20.235787Z",
     "iopub.status.idle": "2022-05-20T05:43:20.248751Z",
     "shell.execute_reply": "2022-05-20T05:43:20.247754Z",
     "shell.execute_reply.started": "2022-05-20T05:43:20.235787Z"
    },
    "tags": []
   },
   "outputs": [],
   "source": [
    "folder_name = '02-0_total_volume_speed'\n",
    "\n",
    "save_TTL_dir = os.path.join(folder_dir, folder_name)\n",
    "\n",
    "os.makedirs(save_TTL_dir, exist_ok = True) # 해당 경로가 없을 시 폴더 생성, 존재할 경우 건너뛰기"
   ]
  },
  {
   "cell_type": "code",
   "execution_count": 16,
   "metadata": {
    "execution": {
     "iopub.execute_input": "2022-05-20T05:43:20.249749Z",
     "iopub.status.busy": "2022-05-20T05:43:20.249749Z",
     "iopub.status.idle": "2022-05-20T05:43:20.531993Z",
     "shell.execute_reply": "2022-05-20T05:43:20.530996Z",
     "shell.execute_reply.started": "2022-05-20T05:43:20.249749Z"
    },
    "tags": []
   },
   "outputs": [
    {
     "name": "stderr",
     "output_type": "stream",
     "text": [
      "5it [00:00, 21.80it/s]\n"
     ]
    }
   ],
   "source": [
    "for df, num_LOS in tqdm(zip(df_list, num_LOS_list)):\n",
    "    \n",
    "    if len(df) > 0:\n",
    "    \n",
    "        total_veh = len(df['Vehicle ID'].unique()) # 총 차량대수\n",
    "        total_SMS = harmonic(df['Vehicle Velocity(km/h)']) #차량의 공간평균속도(SMS)\n",
    "    \n",
    "        tmsec = tmsec_info[(tmsec_info['num'] == num_LOS[0:4]) & (tmsec_info['LOS'] == num_LOS[-1])]['tmsec'].iloc[0] # 해당 대상지, 해당 LOS 총관측시간 추출\n",
    "    \n",
    "        # 프레임 당 차량밀도의 전체평균 구하기\n",
    "        total_pv = pd.pivot_table(df, index = 'Frame ID', values = 'Vehicle ID', aggfunc = {'Vehicle ID': unq}).reset_index()\n",
    "        veh_by_frame = total_pv['Vehicle ID'].mean() #전체 프레임에 대한 평균이므로 mean을 사용한 것임\n",
    "\n",
    "        # 전체 평균 교통류율(flowrate, vph) 구하기\n",
    "        total_flowrate = total_veh/tmsec * 3600 # tmsec은 초 단위이므로, 시(h, 3600s) 단위로 변경해야 하기 때문임\n",
    "    \n",
    "        total_df = pd.DataFrame(data = {'Total Vehicle Count(veh)': [total_veh],\n",
    "                                        'Average SMS(km/h)': [total_SMS],\n",
    "                                        'Average Flowrate(vph)': [total_flowrate],\n",
    "                                        'Average Vehicle by Frame(veh/frameID)':[veh_by_frame],\n",
    "                                        'Average LOS' : num_LOS[-1],\n",
    "                                        'Total Observation Time(s)': [tmsec]})\n",
    "    \n",
    "        save_TTL_file = f'total_volume_SMS_{num_LOS}.csv'\n",
    "        save_TTL_path = os.path.join(save_TTL_dir, save_TTL_file)\n",
    "    \n",
    "        total_df.to_csv(save_TTL_path, encoding = 'cp949')\n",
    "    \n",
    "    else:\n",
    "        pass"
   ]
  },
  {
   "cell_type": "markdown",
   "metadata": {},
   "source": [
    "## 차선별 속도 정보"
   ]
  },
  {
   "cell_type": "markdown",
   "metadata": {},
   "source": [
    "### 차선변경 여부 표시 파생변수 생성 및 저장"
   ]
  },
  {
   "cell_type": "code",
   "execution_count": 17,
   "metadata": {
    "execution": {
     "iopub.execute_input": "2022-05-20T05:43:20.531993Z",
     "iopub.status.busy": "2022-05-20T05:43:20.531993Z",
     "iopub.status.idle": "2022-05-20T05:43:20.546955Z",
     "shell.execute_reply": "2022-05-20T05:43:20.546955Z",
     "shell.execute_reply.started": "2022-05-20T05:43:20.531993Z"
    },
    "tags": []
   },
   "outputs": [
    {
     "data": {
      "text/plain": [
       "Index(['Unnamed: 0', 'Unnamed: 0.1', 'Unnamed: 0.1.1', 'Unnamed: 0.1.1.1',\n",
       "       'Vehicle ID', 'Frame ID', 'Total Frames', 'Global Time (Epoch Time)',\n",
       "       'Local X (m)', 'Local Y(m)', 'Vehicle Length', 'Vehicle Width',\n",
       "       'Vehicle Class', 'Vehicle Velocity(km/h)', 'Vehicle Acceleration',\n",
       "       'Lane Identification', 'Preceding Vehicle', 'Following Vehicle',\n",
       "       'Spacing Headway', 'Time Headway', 'Bad Object', 'Special Car',\n",
       "       'Lane Class', 'Vehicle Movement'],\n",
       "      dtype='object')"
      ]
     },
     "execution_count": 17,
     "metadata": {},
     "output_type": "execute_result"
    }
   ],
   "source": [
    "df.columns"
   ]
  },
  {
   "cell_type": "code",
   "execution_count": 18,
   "metadata": {
    "execution": {
     "iopub.execute_input": "2022-05-20T05:43:20.548949Z",
     "iopub.status.busy": "2022-05-20T05:43:20.547952Z",
     "iopub.status.idle": "2022-05-20T05:43:20.561914Z",
     "shell.execute_reply": "2022-05-20T05:43:20.561914Z",
     "shell.execute_reply.started": "2022-05-20T05:43:20.548949Z"
    },
    "tags": []
   },
   "outputs": [],
   "source": [
    "folder_name = '01_density_by_target_LOS_concated_lanechange'\n",
    "\n",
    "save_Lanechange_dir = os.path.join(folder_dir, folder_name)\n",
    "\n",
    "os.makedirs(save_Lanechange_dir, exist_ok = True) # 해당 경로가 없을 시 폴더 생성, 존재할 경우 건너뛰기"
   ]
  },
  {
   "cell_type": "code",
   "execution_count": 19,
   "metadata": {
    "execution": {
     "iopub.execute_input": "2022-05-20T05:43:20.562911Z",
     "iopub.status.busy": "2022-05-20T05:43:20.562911Z",
     "iopub.status.idle": "2022-05-20T05:47:23.782823Z",
     "shell.execute_reply": "2022-05-20T05:47:23.782823Z",
     "shell.execute_reply.started": "2022-05-20T05:43:20.562911Z"
    },
    "tags": []
   },
   "outputs": [
    {
     "name": "stderr",
     "output_type": "stream",
     "text": [
      "5it [04:03, 48.64s/it]\n"
     ]
    }
   ],
   "source": [
    "warnings.filterwarnings(action = 'ignore') # pandas 경고메시지 숨기기\n",
    "\n",
    "for df, num_LOS in tqdm(zip(df_list, num_LOS_list)):\n",
    "\n",
    "    df['Lane_record'] = None # 차량의 차로변경기록\n",
    "    df['Lane_00'] = None # 차량의 첫 차로\n",
    "    df['Lane_99'] = None # 차량의 마지막 차로\n",
    "    df['Lane_change'] = None # 차량이 차로변경을 했을 시 'Change' 기록\n",
    "    \n",
    "    if len(df) > 0:\n",
    "\n",
    "        veh_list = df['Vehicle ID'].unique() # 차량 리스트 뽑기\n",
    "    \n",
    "        df = df.sort_values(by = 'Frame ID') # 데이터프레임을 Frame ID에 따라서 오름차순 정렬\n",
    "    \n",
    "        for veh in veh_list: # 각 차량별로\n",
    "            Lane_00 = df[df['Vehicle ID'] == veh]['Lane Identification'].iloc[0] # 차량이 처음 진행하던 차로\n",
    "            Lane_99 = df[df['Vehicle ID'] == veh]['Lane Identification'].iloc[-1] # 차량이 마지막 진행하던 차로\n",
    "        \n",
    "            veh_frame_list = df[df['Vehicle ID'] == veh]['Frame ID'].unique() # 해당 차량이 주행하는 동안의 프레임 리스트\n",
    "        \n",
    "            Lane_past = Lane_00 # Lane_past(각 차량 현재차로)를 초기화\n",
    "            Lane_record = Lane_00 # 차로변경기록 초기화\n",
    "            Lane_present = Lane_00 # 현재차로 초기화\n",
    "        \n",
    "            for frm in veh_frame_list : # 각 차량의 각 프레임별로\n",
    "            \n",
    "                Lane_past = Lane_present # iteration 돌기 전의 현재차로가 과거차로로 할당\n",
    "            \n",
    "                Lane_present = df[(df['Vehicle ID'] == veh) & (df['Frame ID'] == frm)]['Lane Identification'].iloc[0] # 현재 차량이 속한 차로를 할당\n",
    "            \n",
    "                if Lane_past == Lane_present: # 현재차로와 직전차로가 같으면 아무 문제 없음\n",
    "                    pass\n",
    "            \n",
    "                else: # 현재차로와 직전 차로가 다를 시\n",
    "                    idx = df[(df['Vehicle ID'] == veh) & (df['Frame ID'] == frm)]['Lane_change'].index[0] # 차로변경된 행의 인덱스\n",
    "                    df.at[idx, 'Lane_change'] = 'Change' # 차로변경되자마자 셀에 'Change' 표시\n",
    "                    Lane_record = str(Lane_record) + '_' + str(Lane_present)\n",
    "               \n",
    "            df.loc[df['Vehicle ID'] == veh, 'Lane_00'] = Lane_00 # 차량별 초기 차로번호\n",
    "            df.loc[df['Vehicle ID'] == veh, 'Lane_99'] = Lane_99 # 차량별 마지막 차로번호\n",
    "            df.loc[df['Vehicle ID'] == veh, 'Lane_record'] = Lane_record # 차량별 차로변경 기록 입력\n",
    "            \n",
    "            save_Lanechange_name = num_LOS + '.csv'\n",
    "            save_Lanechange_path = os.path.join(save_Lanechange_dir, save_Lanechange_name)\n",
    "            \n",
    "            df.to_csv(save_Lanechange_path, encoding = 'cp949')\n",
    "            \n",
    "    else:\n",
    "        pass\n",
    "    \n",
    "#warnings.filterwarnings(action = 'default') # pandas 경고메시지 다시 보이기"
   ]
  },
  {
   "cell_type": "markdown",
   "metadata": {},
   "source": [
    "### 궤적 데이터 재로드"
   ]
  },
  {
   "cell_type": "code",
   "execution_count": 20,
   "metadata": {
    "execution": {
     "iopub.execute_input": "2022-05-20T05:47:23.783820Z",
     "iopub.status.busy": "2022-05-20T05:47:23.783820Z",
     "iopub.status.idle": "2022-05-20T05:47:23.800777Z",
     "shell.execute_reply": "2022-05-20T05:47:23.798781Z",
     "shell.execute_reply.started": "2022-05-20T05:47:23.783820Z"
    }
   },
   "outputs": [],
   "source": [
    "folder_name = '01_density_by_target_LOS_concated_lanechange'\n",
    "\n",
    "file_dir = os.path.join(folder_dir, folder_name)"
   ]
  },
  {
   "cell_type": "code",
   "execution_count": 21,
   "metadata": {
    "execution": {
     "iopub.execute_input": "2022-05-20T05:47:23.801776Z",
     "iopub.status.busy": "2022-05-20T05:47:23.801776Z",
     "iopub.status.idle": "2022-05-20T05:47:23.815768Z",
     "shell.execute_reply": "2022-05-20T05:47:23.814737Z",
     "shell.execute_reply.started": "2022-05-20T05:47:23.801776Z"
    },
    "tags": []
   },
   "outputs": [
    {
     "data": {
      "text/plain": [
       "['01_1_A.csv', '01_1_B.csv', '01_1_C.csv']"
      ]
     },
     "execution_count": 21,
     "metadata": {},
     "output_type": "execute_result"
    }
   ],
   "source": [
    "file_list = os.listdir(file_dir)\n",
    "file_list[0:3]"
   ]
  },
  {
   "cell_type": "code",
   "execution_count": 22,
   "metadata": {
    "execution": {
     "iopub.execute_input": "2022-05-20T05:47:23.815768Z",
     "iopub.status.busy": "2022-05-20T05:47:23.815768Z",
     "iopub.status.idle": "2022-05-20T05:47:23.954394Z",
     "shell.execute_reply": "2022-05-20T05:47:23.954394Z",
     "shell.execute_reply.started": "2022-05-20T05:47:23.815768Z"
    },
    "tags": []
   },
   "outputs": [],
   "source": [
    "df_list = []\n",
    "num_LOS_list = []\n",
    "\n",
    "for file in file_list:\n",
    "    num_LOS = file[0:6]\n",
    "    \n",
    "    file_path = os.path.join(file_dir, file)\n",
    "    \n",
    "    globals()[f'target{num_LOS}'] = pd.read_csv(file_path, encoding = 'cp949')\n",
    "    \n",
    "    df_list.append(globals()[f'target{num_LOS}'])\n",
    "    num_LOS_list.append(num_LOS)"
   ]
  },
  {
   "cell_type": "code",
   "execution_count": 23,
   "metadata": {
    "execution": {
     "iopub.execute_input": "2022-05-20T05:47:23.955396Z",
     "iopub.status.busy": "2022-05-20T05:47:23.955396Z",
     "iopub.status.idle": "2022-05-20T05:47:23.987306Z",
     "shell.execute_reply": "2022-05-20T05:47:23.986309Z",
     "shell.execute_reply.started": "2022-05-20T05:47:23.955396Z"
    },
    "tags": []
   },
   "outputs": [
    {
     "data": {
      "text/html": [
       "<div>\n",
       "<style scoped>\n",
       "    .dataframe tbody tr th:only-of-type {\n",
       "        vertical-align: middle;\n",
       "    }\n",
       "\n",
       "    .dataframe tbody tr th {\n",
       "        vertical-align: top;\n",
       "    }\n",
       "\n",
       "    .dataframe thead th {\n",
       "        text-align: right;\n",
       "    }\n",
       "</style>\n",
       "<table border=\"1\" class=\"dataframe\">\n",
       "  <thead>\n",
       "    <tr style=\"text-align: right;\">\n",
       "      <th></th>\n",
       "      <th>Unnamed: 0</th>\n",
       "      <th>Unnamed: 0.1</th>\n",
       "      <th>Unnamed: 0.1.1</th>\n",
       "      <th>Unnamed: 0.1.1.1</th>\n",
       "      <th>Unnamed: 0.1.1.1.1</th>\n",
       "      <th>Vehicle ID</th>\n",
       "      <th>Frame ID</th>\n",
       "      <th>Total Frames</th>\n",
       "      <th>Global Time (Epoch Time)</th>\n",
       "      <th>Local X (m)</th>\n",
       "      <th>...</th>\n",
       "      <th>Spacing Headway</th>\n",
       "      <th>Time Headway</th>\n",
       "      <th>Bad Object</th>\n",
       "      <th>Special Car</th>\n",
       "      <th>Lane Class</th>\n",
       "      <th>Vehicle Movement</th>\n",
       "      <th>Lane_record</th>\n",
       "      <th>Lane_00</th>\n",
       "      <th>Lane_99</th>\n",
       "      <th>Lane_change</th>\n",
       "    </tr>\n",
       "  </thead>\n",
       "  <tbody>\n",
       "    <tr>\n",
       "      <th>0</th>\n",
       "      <td>0</td>\n",
       "      <td>0</td>\n",
       "      <td>4819</td>\n",
       "      <td>4904</td>\n",
       "      <td>4904</td>\n",
       "      <td>78</td>\n",
       "      <td>1914</td>\n",
       "      <td>204</td>\n",
       "      <td>46863800</td>\n",
       "      <td>33.097595</td>\n",
       "      <td>...</td>\n",
       "      <td>0.000000</td>\n",
       "      <td>0.000000</td>\n",
       "      <td>0</td>\n",
       "      <td>0</td>\n",
       "      <td>상행본선</td>\n",
       "      <td>2.724907</td>\n",
       "      <td>U4</td>\n",
       "      <td>U4</td>\n",
       "      <td>U4</td>\n",
       "      <td>NaN</td>\n",
       "    </tr>\n",
       "    <tr>\n",
       "      <th>1</th>\n",
       "      <td>1</td>\n",
       "      <td>1</td>\n",
       "      <td>4820</td>\n",
       "      <td>4905</td>\n",
       "      <td>4905</td>\n",
       "      <td>79</td>\n",
       "      <td>1914</td>\n",
       "      <td>159</td>\n",
       "      <td>46863800</td>\n",
       "      <td>84.890701</td>\n",
       "      <td>...</td>\n",
       "      <td>51.804295</td>\n",
       "      <td>1.972192</td>\n",
       "      <td>0</td>\n",
       "      <td>0</td>\n",
       "      <td>상행본선</td>\n",
       "      <td>2.626737</td>\n",
       "      <td>U4</td>\n",
       "      <td>U4</td>\n",
       "      <td>U4</td>\n",
       "      <td>NaN</td>\n",
       "    </tr>\n",
       "    <tr>\n",
       "      <th>2</th>\n",
       "      <td>2</td>\n",
       "      <td>2</td>\n",
       "      <td>4821</td>\n",
       "      <td>4906</td>\n",
       "      <td>4906</td>\n",
       "      <td>80</td>\n",
       "      <td>1914</td>\n",
       "      <td>124</td>\n",
       "      <td>46863800</td>\n",
       "      <td>75.480186</td>\n",
       "      <td>...</td>\n",
       "      <td>0.000000</td>\n",
       "      <td>0.000000</td>\n",
       "      <td>0</td>\n",
       "      <td>0</td>\n",
       "      <td>상행본선</td>\n",
       "      <td>3.619401</td>\n",
       "      <td>U1</td>\n",
       "      <td>U1</td>\n",
       "      <td>U1</td>\n",
       "      <td>NaN</td>\n",
       "    </tr>\n",
       "  </tbody>\n",
       "</table>\n",
       "<p>3 rows × 29 columns</p>\n",
       "</div>"
      ],
      "text/plain": [
       "   Unnamed: 0  Unnamed: 0.1  Unnamed: 0.1.1  Unnamed: 0.1.1.1  \\\n",
       "0           0             0            4819              4904   \n",
       "1           1             1            4820              4905   \n",
       "2           2             2            4821              4906   \n",
       "\n",
       "   Unnamed: 0.1.1.1.1  Vehicle ID  Frame ID  Total Frames  \\\n",
       "0                4904          78      1914           204   \n",
       "1                4905          79      1914           159   \n",
       "2                4906          80      1914           124   \n",
       "\n",
       "   Global Time (Epoch Time)  Local X (m)  ...  Spacing Headway  Time Headway  \\\n",
       "0                  46863800    33.097595  ...         0.000000      0.000000   \n",
       "1                  46863800    84.890701  ...        51.804295      1.972192   \n",
       "2                  46863800    75.480186  ...         0.000000      0.000000   \n",
       "\n",
       "   Bad Object  Special Car  Lane Class  Vehicle Movement Lane_record  Lane_00  \\\n",
       "0           0            0        상행본선          2.724907          U4       U4   \n",
       "1           0            0        상행본선          2.626737          U4       U4   \n",
       "2           0            0        상행본선          3.619401          U1       U1   \n",
       "\n",
       "   Lane_99  Lane_change  \n",
       "0       U4          NaN  \n",
       "1       U4          NaN  \n",
       "2       U1          NaN  \n",
       "\n",
       "[3 rows x 29 columns]"
      ]
     },
     "execution_count": 23,
     "metadata": {},
     "output_type": "execute_result"
    }
   ],
   "source": [
    "target01_1_A.head(3)"
   ]
  },
  {
   "cell_type": "markdown",
   "metadata": {
    "execution": {
     "iopub.execute_input": "2021-08-11T09:59:18.188789Z",
     "iopub.status.busy": "2021-08-11T09:59:18.187792Z",
     "iopub.status.idle": "2021-08-11T09:59:18.201755Z",
     "shell.execute_reply": "2021-08-11T09:59:18.200798Z",
     "shell.execute_reply.started": "2021-08-11T09:59:18.188789Z"
    },
    "tags": []
   },
   "source": [
    "### 차선별 교통량, SMS 산정 후 저장\n",
    "* 차선별 교통량(차량대수)의 산정 기준\n",
    "    * 시점부 : 끝 지점\n",
    "    * 종점부1,2는 각 시작지점"
   ]
  },
  {
   "cell_type": "code",
   "execution_count": 24,
   "metadata": {
    "execution": {
     "iopub.execute_input": "2022-05-20T05:47:23.987306Z",
     "iopub.status.busy": "2022-05-20T05:47:23.987306Z",
     "iopub.status.idle": "2022-05-20T05:47:24.003266Z",
     "shell.execute_reply": "2022-05-20T05:47:24.002236Z",
     "shell.execute_reply.started": "2022-05-20T05:47:23.987306Z"
    },
    "tags": []
   },
   "outputs": [],
   "source": [
    "folder_name = '02-1_Each_Lane_volume_speed'\n",
    "\n",
    "save_EachLaneVolume_dir = os.path.join(folder_dir, folder_name)\n",
    "\n",
    "os.makedirs(save_EachLaneVolume_dir, exist_ok = True) # 해당 경로가 없을 시 폴더 생성, 존재할 경우 건너뛰기"
   ]
  },
  {
   "cell_type": "code",
   "execution_count": 25,
   "metadata": {
    "execution": {
     "iopub.execute_input": "2022-05-20T05:47:24.004262Z",
     "iopub.status.busy": "2022-05-20T05:47:24.003266Z",
     "iopub.status.idle": "2022-05-20T05:47:24.110945Z",
     "shell.execute_reply": "2022-05-20T05:47:24.110945Z",
     "shell.execute_reply.started": "2022-05-20T05:47:24.004262Z"
    },
    "tags": []
   },
   "outputs": [
    {
     "name": "stderr",
     "output_type": "stream",
     "text": [
      "5it [00:00, 53.91it/s]\n"
     ]
    }
   ],
   "source": [
    "for df, num_LOS in tqdm(zip(df_list, num_LOS_list)):\n",
    "    \n",
    "    tmsec = tmsec_info[(tmsec_info['num'] == num_LOS[0:4]) & (tmsec_info['LOS'] == num_LOS[-1])]['tmsec'].iloc[0]\n",
    "    \n",
    "    # 시점부, 종점부를 구분하기 : spot == 1이면 시점부, 종점부는 그 외로 간주\n",
    "    point = num_LOS[3]\n",
    "    \n",
    "    if point == 1 : # 시점부이면, 끝시점 차로(Lane_99) 기준 산정\n",
    "        pv_veh = pd.pivot_table(df,\n",
    "                                index = ['Lane_99'],\n",
    "                                values = ['Vehicle ID', 'Vehicle Velocity(km/h)'],\n",
    "                                aggfunc = {'Vehicle ID': unq, 'Vehicle Velocity(km/h)': harmonic})\n",
    "        \n",
    "    else : # 종점부이면, 첫차로(Lane_00) 기준 산정\n",
    "        pv_veh = pd.pivot_table(df, index = ['Lane_00'],\n",
    "                                values = ['Vehicle ID', 'Vehicle Velocity(km/h)'],\n",
    "                                aggfunc = {'Vehicle ID': unq, 'Vehicle Velocity(km/h)': harmonic})\n",
    "    \n",
    "    pv_veh.reset_index(inplace = True)\n",
    "        \n",
    "    pv_veh['Flow Rate(vph)'] = pv_veh['Vehicle ID'] * 3600/tmsec\n",
    "    \n",
    "    save_EachLaneVolume_file = f'EachLaneVolume{num_LOS}.csv'\n",
    "    save_EachLaneVolume_path = os.path.join(save_EachLaneVolume_dir, save_EachLaneVolume_file)\n",
    "    \n",
    "    pv_veh.to_csv(save_EachLaneVolume_path, encoding = 'cp949')"
   ]
  },
  {
   "cell_type": "markdown",
   "metadata": {},
   "source": [
    "### 차선변경 차량의 교통량 및 SMS 산정, 저장"
   ]
  },
  {
   "cell_type": "code",
   "execution_count": 26,
   "metadata": {
    "execution": {
     "iopub.execute_input": "2022-05-20T05:47:24.111973Z",
     "iopub.status.busy": "2022-05-20T05:47:24.111973Z",
     "iopub.status.idle": "2022-05-20T05:47:24.127901Z",
     "shell.execute_reply": "2022-05-20T05:47:24.126904Z",
     "shell.execute_reply.started": "2022-05-20T05:47:24.111973Z"
    },
    "tags": []
   },
   "outputs": [],
   "source": [
    "folder_name = '02-2_Lanechange_volume_speed'\n",
    "\n",
    "save_LaneChangeVolume_dir = os.path.join(folder_dir, folder_name)\n",
    "\n",
    "os.makedirs(save_LaneChangeVolume_dir, exist_ok = True) # 해당 경로가 없을 시 폴더 생성, 존재할 경우 건너뛰기"
   ]
  },
  {
   "cell_type": "code",
   "execution_count": 27,
   "metadata": {
    "execution": {
     "iopub.execute_input": "2022-05-20T05:47:24.127901Z",
     "iopub.status.busy": "2022-05-20T05:47:24.127901Z",
     "iopub.status.idle": "2022-05-20T05:47:24.238636Z",
     "shell.execute_reply": "2022-05-20T05:47:24.238636Z",
     "shell.execute_reply.started": "2022-05-20T05:47:24.127901Z"
    },
    "tags": []
   },
   "outputs": [
    {
     "name": "stderr",
     "output_type": "stream",
     "text": [
      "5it [00:00, 55.70it/s]\n"
     ]
    }
   ],
   "source": [
    "for df, num_LOS in tqdm(zip(df_list, num_LOS_list)):\n",
    "    \n",
    "    tmsec = tmsec_info[(tmsec_info['num'] == num_LOS[0:4]) & (tmsec_info['LOS'] == num_LOS[-1])]['tmsec'].iloc[0]\n",
    "    \n",
    "    pv_veh = pd.pivot_table(df, index = ['Lane_record'], values = ['Vehicle ID', 'Vehicle Velocity(km/h)'],\n",
    "                            aggfunc = {'Vehicle ID': unq, 'Vehicle Velocity(km/h)': harmonic})\n",
    "    pv_veh.reset_index(inplace = True)\n",
    "        \n",
    "    pv_veh['flow_rate(vph)'] = pv_veh['Vehicle ID'] * 3600/tmsec\n",
    "    \n",
    "    save_LaneChangeVolume_file = f'LaneChangeVolume{num_LOS}.csv'\n",
    "    save_LaneChangeVolume_path = os.path.join(save_LaneChangeVolume_dir, save_LaneChangeVolume_file)\n",
    "    \n",
    "    pv_veh.to_csv(save_LaneChangeVolume_path, encoding = 'cp949')"
   ]
  },
  {
   "cell_type": "markdown",
   "metadata": {},
   "source": [
    "## 과속(overspeed)\n",
    "> **과속** : 도로 제한속도보다 20km/h 초과 운행한 경우\n",
    "* 차량의 영상 내 구간 평균속도 산정\n",
    "    * index는 `Lane Identification, Vehicle ID`\n",
    "    * value는 `Vehicle Velocity(km/h)`\n",
    "    * 함수는 그냥 평균\n",
    "* 과속 여부 판정 파생변수 생성하기 : `overspeed`\n",
    "* `Lane Identification` 별로 pivot_table 하기 : `overspeed` 만 필터링하여 값의 수를 세기"
   ]
  },
  {
   "cell_type": "markdown",
   "metadata": {},
   "source": [
    "### 대상지 정보 로드"
   ]
  },
  {
   "cell_type": "code",
   "execution_count": 28,
   "metadata": {
    "execution": {
     "iopub.execute_input": "2022-05-20T05:47:24.239602Z",
     "iopub.status.busy": "2022-05-20T05:47:24.239602Z",
     "iopub.status.idle": "2022-05-20T05:47:24.254561Z",
     "shell.execute_reply": "2022-05-20T05:47:24.254561Z",
     "shell.execute_reply.started": "2022-05-20T05:47:24.239602Z"
    },
    "tags": []
   },
   "outputs": [],
   "source": [
    "target_info_dir = 'target_info_Basic.csv'"
   ]
  },
  {
   "cell_type": "code",
   "execution_count": 29,
   "metadata": {
    "execution": {
     "iopub.execute_input": "2022-05-20T05:47:24.255609Z",
     "iopub.status.busy": "2022-05-20T05:47:24.255609Z",
     "iopub.status.idle": "2022-05-20T05:47:24.271547Z",
     "shell.execute_reply": "2022-05-20T05:47:24.270520Z",
     "shell.execute_reply.started": "2022-05-20T05:47:24.255609Z"
    },
    "tags": []
   },
   "outputs": [],
   "source": [
    "target_info = pd.read_csv(target_info_dir, encoding = 'utf-8')"
   ]
  },
  {
   "cell_type": "code",
   "execution_count": 30,
   "metadata": {
    "execution": {
     "iopub.execute_input": "2022-05-20T05:47:24.274509Z",
     "iopub.status.busy": "2022-05-20T05:47:24.273559Z",
     "iopub.status.idle": "2022-05-20T05:47:24.286478Z",
     "shell.execute_reply": "2022-05-20T05:47:24.286478Z",
     "shell.execute_reply.started": "2022-05-20T05:47:24.273559Z"
    },
    "tags": []
   },
   "outputs": [
    {
     "data": {
      "text/html": [
       "<div>\n",
       "<style scoped>\n",
       "    .dataframe tbody tr th:only-of-type {\n",
       "        vertical-align: middle;\n",
       "    }\n",
       "\n",
       "    .dataframe tbody tr th {\n",
       "        vertical-align: top;\n",
       "    }\n",
       "\n",
       "    .dataframe thead th {\n",
       "        text-align: right;\n",
       "    }\n",
       "</style>\n",
       "<table border=\"1\" class=\"dataframe\">\n",
       "  <thead>\n",
       "    <tr style=\"text-align: right;\">\n",
       "      <th></th>\n",
       "      <th>place</th>\n",
       "      <th>length</th>\n",
       "      <th>speed_limit</th>\n",
       "      <th>lane_num</th>\n",
       "    </tr>\n",
       "  </thead>\n",
       "  <tbody>\n",
       "    <tr>\n",
       "      <th>0</th>\n",
       "      <td>01_1</td>\n",
       "      <td>241.7</td>\n",
       "      <td>100</td>\n",
       "      <td>4</td>\n",
       "    </tr>\n",
       "  </tbody>\n",
       "</table>\n",
       "</div>"
      ],
      "text/plain": [
       "  place  length  speed_limit  lane_num\n",
       "0  01_1   241.7          100         4"
      ]
     },
     "execution_count": 30,
     "metadata": {},
     "output_type": "execute_result"
    }
   ],
   "source": [
    "target_info.head()"
   ]
  },
  {
   "cell_type": "markdown",
   "metadata": {},
   "source": [
    "### 필요함수 정의 : overspeed\n",
    "* 도로 제한속도보다 20km/h 이상 초과운행 시 overspeed를 반환하는 함수"
   ]
  },
  {
   "cell_type": "code",
   "execution_count": 31,
   "metadata": {
    "execution": {
     "iopub.execute_input": "2022-05-20T05:47:24.288513Z",
     "iopub.status.busy": "2022-05-20T05:47:24.287512Z",
     "iopub.status.idle": "2022-05-20T05:47:24.303432Z",
     "shell.execute_reply": "2022-05-20T05:47:24.302464Z",
     "shell.execute_reply.started": "2022-05-20T05:47:24.288513Z"
    },
    "tags": []
   },
   "outputs": [],
   "source": [
    "def overspeed(velocity, limit):\n",
    "    \"\"\"도로 제한속도(limit)보다 20km/h 이상 초과 운행 시 overspeed 판정 함수\"\"\"\n",
    "    \n",
    "    if velocity - limit > 20:\n",
    "        return 'Overspeed'\n",
    "    else:\n",
    "        pass"
   ]
  },
  {
   "cell_type": "markdown",
   "metadata": {},
   "source": [
    "### 과속차량에 'over' 표시하기"
   ]
  },
  {
   "cell_type": "code",
   "execution_count": 32,
   "metadata": {
    "execution": {
     "iopub.execute_input": "2022-05-20T05:47:24.304430Z",
     "iopub.status.busy": "2022-05-20T05:47:24.303432Z",
     "iopub.status.idle": "2022-05-20T05:47:24.398207Z",
     "shell.execute_reply": "2022-05-20T05:47:24.398207Z",
     "shell.execute_reply.started": "2022-05-20T05:47:24.304430Z"
    },
    "tags": []
   },
   "outputs": [],
   "source": [
    "ovs_list = []\n",
    "\n",
    "for df, num_LOS in zip(df_list, num_LOS_list):\n",
    "    \n",
    "    df['place'] = num_LOS[0:4] # 01_1\n",
    "    \n",
    "    pvt = pd.pivot_table(df,\n",
    "                         index = ['place', 'Lane Identification', 'Vehicle ID'],\n",
    "                         values = ['Vehicle Velocity(km/h)', 'Vehicle Acceleration'],\n",
    "                         aggfunc = {'Vehicle Velocity(km/h)': 'mean', 'Vehicle Acceleration':'mean'})\n",
    "    pvt.reset_index(inplace = True)\n",
    "    \n",
    "    ovs = pd.merge(left = pvt, right = target_info, how = 'left', left_on = 'place', right_on = 'place')\n",
    "    \n",
    "    ovs['overspeed'] = ovs[['Vehicle Velocity(km/h)', 'speed_limit']].apply(lambda x: overspeed(*x), axis = 1)\n",
    "            \n",
    "    globals()[f'ovs{num_LOS}'] = ovs\n",
    "    ovs_list.append(ovs)"
   ]
  },
  {
   "cell_type": "code",
   "execution_count": 33,
   "metadata": {
    "execution": {
     "iopub.execute_input": "2022-05-20T05:47:24.399206Z",
     "iopub.status.busy": "2022-05-20T05:47:24.399206Z",
     "iopub.status.idle": "2022-05-20T05:47:24.414165Z",
     "shell.execute_reply": "2022-05-20T05:47:24.414165Z",
     "shell.execute_reply.started": "2022-05-20T05:47:24.399206Z"
    },
    "tags": []
   },
   "outputs": [
    {
     "data": {
      "text/html": [
       "<div>\n",
       "<style scoped>\n",
       "    .dataframe tbody tr th:only-of-type {\n",
       "        vertical-align: middle;\n",
       "    }\n",
       "\n",
       "    .dataframe tbody tr th {\n",
       "        vertical-align: top;\n",
       "    }\n",
       "\n",
       "    .dataframe thead th {\n",
       "        text-align: right;\n",
       "    }\n",
       "</style>\n",
       "<table border=\"1\" class=\"dataframe\">\n",
       "  <thead>\n",
       "    <tr style=\"text-align: right;\">\n",
       "      <th></th>\n",
       "      <th>place</th>\n",
       "      <th>Lane Identification</th>\n",
       "      <th>Vehicle ID</th>\n",
       "      <th>Vehicle Acceleration</th>\n",
       "      <th>Vehicle Velocity(km/h)</th>\n",
       "      <th>length</th>\n",
       "      <th>speed_limit</th>\n",
       "      <th>lane_num</th>\n",
       "      <th>overspeed</th>\n",
       "    </tr>\n",
       "  </thead>\n",
       "  <tbody>\n",
       "    <tr>\n",
       "      <th>0</th>\n",
       "      <td>01_1</td>\n",
       "      <td>U1</td>\n",
       "      <td>80</td>\n",
       "      <td>-0.947001</td>\n",
       "      <td>127.893692</td>\n",
       "      <td>241.7</td>\n",
       "      <td>100</td>\n",
       "      <td>4</td>\n",
       "      <td>Overspeed</td>\n",
       "    </tr>\n",
       "    <tr>\n",
       "      <th>1</th>\n",
       "      <td>01_1</td>\n",
       "      <td>U1</td>\n",
       "      <td>10466</td>\n",
       "      <td>-0.822230</td>\n",
       "      <td>116.336892</td>\n",
       "      <td>241.7</td>\n",
       "      <td>100</td>\n",
       "      <td>4</td>\n",
       "      <td>None</td>\n",
       "    </tr>\n",
       "    <tr>\n",
       "      <th>2</th>\n",
       "      <td>01_1</td>\n",
       "      <td>U1</td>\n",
       "      <td>10470</td>\n",
       "      <td>-0.206991</td>\n",
       "      <td>119.212744</td>\n",
       "      <td>241.7</td>\n",
       "      <td>100</td>\n",
       "      <td>4</td>\n",
       "      <td>None</td>\n",
       "    </tr>\n",
       "  </tbody>\n",
       "</table>\n",
       "</div>"
      ],
      "text/plain": [
       "  place Lane Identification  Vehicle ID  Vehicle Acceleration  \\\n",
       "0  01_1                  U1          80             -0.947001   \n",
       "1  01_1                  U1       10466             -0.822230   \n",
       "2  01_1                  U1       10470             -0.206991   \n",
       "\n",
       "   Vehicle Velocity(km/h)  length  speed_limit  lane_num  overspeed  \n",
       "0              127.893692   241.7          100         4  Overspeed  \n",
       "1              116.336892   241.7          100         4       None  \n",
       "2              119.212744   241.7          100         4       None  "
      ]
     },
     "execution_count": 33,
     "metadata": {},
     "output_type": "execute_result"
    }
   ],
   "source": [
    "ovs_list[0].head(3)"
   ]
  },
  {
   "cell_type": "markdown",
   "metadata": {},
   "source": [
    "### 과속차량(over) 필터링 후 처리\n",
    "* 과속한 차량대수\n",
    "* 과속한 차량 대수를 교통류율로 환산\n",
    "* 과속한 차량끼리의 공간평균속도를 구하기"
   ]
  },
  {
   "cell_type": "code",
   "execution_count": 34,
   "metadata": {
    "execution": {
     "iopub.execute_input": "2022-05-20T05:47:24.415160Z",
     "iopub.status.busy": "2022-05-20T05:47:24.415160Z",
     "iopub.status.idle": "2022-05-20T05:47:24.431100Z",
     "shell.execute_reply": "2022-05-20T05:47:24.430118Z",
     "shell.execute_reply.started": "2022-05-20T05:47:24.415160Z"
    },
    "tags": []
   },
   "outputs": [],
   "source": [
    "folder_name = '02-3_overspeed'\n",
    "\n",
    "save_overspeed_dir = os.path.join(folder_dir, folder_name)\n",
    "\n",
    "os.makedirs(save_overspeed_dir, exist_ok = True) # 해당 경로가 없을 시 폴더 생성, 존재할 경우 건너뛰기"
   ]
  },
  {
   "cell_type": "code",
   "execution_count": 35,
   "metadata": {
    "execution": {
     "iopub.execute_input": "2022-05-20T05:47:24.431100Z",
     "iopub.status.busy": "2022-05-20T05:47:24.431100Z",
     "iopub.status.idle": "2022-05-20T05:47:24.476967Z",
     "shell.execute_reply": "2022-05-20T05:47:24.476967Z",
     "shell.execute_reply.started": "2022-05-20T05:47:24.431100Z"
    },
    "tags": []
   },
   "outputs": [
    {
     "name": "stdout",
     "output_type": "stream",
     "text": [
      "01_1_A 3\n",
      "01_1_B 13\n",
      "01_1_C 11\n",
      "01_1_D 5\n"
     ]
    }
   ],
   "source": [
    "for ovs, num_LOS in zip(ovs_list, num_LOS_list):\n",
    "    \n",
    "    ovs_only = ovs[ovs['overspeed'] == 'Overspeed']\n",
    "    \n",
    "    ovs_veh = pd.pivot_table(ovs_only, \n",
    "                             index = 'Lane Identification',\n",
    "                             values = ['Vehicle ID', 'Vehicle Velocity(km/h)'],\n",
    "                             aggfunc = {'Vehicle ID': unq, 'Vehicle Velocity(km/h)': harmonic})\n",
    "    \n",
    "    ovs_veh.reset_index(inplace = True)\n",
    "    \n",
    "    if len(ovs_veh) > 0:\n",
    "        print(num_LOS, len(ovs_only))\n",
    "        #ovs2_veh['flow_rate(vph)'] = ovs2_veh['Vehicle ID_x'] * 3600/tmsec\n",
    "        save_overspeed_file = f'overspeed{num_LOS}.csv'\n",
    "        save_overspeed_path = os.path.join(save_overspeed_dir, save_overspeed_file)\n",
    "        ovs_veh.to_csv(save_overspeed_path, encoding = 'cp949')\n",
    "        \n",
    "    else:\n",
    "        pass"
   ]
  },
  {
   "cell_type": "markdown",
   "metadata": {},
   "source": [
    "## 급감속(sudden_dec)\n",
    "* **급감속** : 초당 8km/h 이상 감속 운행하고 속도가 6.0km/h 이상인 경우\n",
    "    * 화물차의 것을 기준으로 한 정의임\n",
    "* 이것이야말로 '초'당 피벗 테이블이 필요함"
   ]
  },
  {
   "cell_type": "markdown",
   "metadata": {
    "execution": {
     "iopub.execute_input": "2021-08-13T13:54:04.866356Z",
     "iopub.status.busy": "2021-08-13T13:54:04.866356Z",
     "iopub.status.idle": "2021-08-13T13:54:04.881315Z",
     "shell.execute_reply": "2021-08-13T13:54:04.881315Z",
     "shell.execute_reply.started": "2021-08-13T13:54:04.866356Z"
    },
    "tags": []
   },
   "source": [
    "### time_group : 1초 단위로 묶은 파생변수 생성\n",
    "* 1초 단위 피벗을 하기 위함임"
   ]
  },
  {
   "cell_type": "code",
   "execution_count": 36,
   "metadata": {
    "execution": {
     "iopub.execute_input": "2022-05-20T05:47:24.477998Z",
     "iopub.status.busy": "2022-05-20T05:47:24.477998Z",
     "iopub.status.idle": "2022-05-20T05:47:24.492954Z",
     "shell.execute_reply": "2022-05-20T05:47:24.492954Z",
     "shell.execute_reply.started": "2022-05-20T05:47:24.477998Z"
    },
    "tags": []
   },
   "outputs": [],
   "source": [
    "frame_rate = 30"
   ]
  },
  {
   "cell_type": "code",
   "execution_count": 37,
   "metadata": {
    "execution": {
     "iopub.execute_input": "2022-05-20T05:47:24.493952Z",
     "iopub.status.busy": "2022-05-20T05:47:24.493952Z",
     "iopub.status.idle": "2022-05-20T05:47:24.871911Z",
     "shell.execute_reply": "2022-05-20T05:47:24.871911Z",
     "shell.execute_reply.started": "2022-05-20T05:47:24.493952Z"
    },
    "tags": []
   },
   "outputs": [
    {
     "name": "stderr",
     "output_type": "stream",
     "text": [
      "5it [00:00, 13.89it/s]\n"
     ]
    }
   ],
   "source": [
    "pivot_df_list = []\n",
    "\n",
    "for df, num_LOS in tqdm(zip(df_list, num_LOS_list)):\n",
    "    \n",
    "    df['timespot'] = round(df['Frame ID']/frame_rate) # frame_rate == 30\n",
    "    \n",
    "    vehicle_list = df['Vehicle ID'].unique()\n",
    "    \n",
    "    pivot_df = pd.pivot_table(df, \n",
    "                              index = ['Lane Identification', 'Vehicle ID', 'timespot'],\n",
    "                              values = ['Vehicle Velocity(km/h)' ,'Vehicle Acceleration'],\n",
    "                              aggfunc = {'Vehicle Velocity(km/h)': harmonic, 'Vehicle Acceleration' : 'mean'})\n",
    "    \n",
    "    pivot_df = pivot_df.reset_index()\n",
    "    \n",
    "    pivot_df_list.append(pivot_df)"
   ]
  },
  {
   "cell_type": "code",
   "execution_count": 38,
   "metadata": {
    "execution": {
     "iopub.execute_input": "2022-05-20T05:47:24.872921Z",
     "iopub.status.busy": "2022-05-20T05:47:24.872921Z",
     "iopub.status.idle": "2022-05-20T05:47:24.903849Z",
     "shell.execute_reply": "2022-05-20T05:47:24.902828Z",
     "shell.execute_reply.started": "2022-05-20T05:47:24.872921Z"
    },
    "tags": []
   },
   "outputs": [
    {
     "data": {
      "text/html": [
       "<div>\n",
       "<style scoped>\n",
       "    .dataframe tbody tr th:only-of-type {\n",
       "        vertical-align: middle;\n",
       "    }\n",
       "\n",
       "    .dataframe tbody tr th {\n",
       "        vertical-align: top;\n",
       "    }\n",
       "\n",
       "    .dataframe thead th {\n",
       "        text-align: right;\n",
       "    }\n",
       "</style>\n",
       "<table border=\"1\" class=\"dataframe\">\n",
       "  <thead>\n",
       "    <tr style=\"text-align: right;\">\n",
       "      <th></th>\n",
       "      <th>Lane Identification</th>\n",
       "      <th>Vehicle ID</th>\n",
       "      <th>timespot</th>\n",
       "      <th>Vehicle Acceleration</th>\n",
       "      <th>Vehicle Velocity(km/h)</th>\n",
       "    </tr>\n",
       "  </thead>\n",
       "  <tbody>\n",
       "    <tr>\n",
       "      <th>0</th>\n",
       "      <td>U1</td>\n",
       "      <td>80</td>\n",
       "      <td>64.0</td>\n",
       "      <td>-0.223875</td>\n",
       "      <td>130.272517</td>\n",
       "    </tr>\n",
       "    <tr>\n",
       "      <th>1</th>\n",
       "      <td>U1</td>\n",
       "      <td>80</td>\n",
       "      <td>65.0</td>\n",
       "      <td>-1.325497</td>\n",
       "      <td>126.720773</td>\n",
       "    </tr>\n",
       "    <tr>\n",
       "      <th>2</th>\n",
       "      <td>U1</td>\n",
       "      <td>80</td>\n",
       "      <td>66.0</td>\n",
       "      <td>-2.136273</td>\n",
       "      <td>123.456654</td>\n",
       "    </tr>\n",
       "    <tr>\n",
       "      <th>3</th>\n",
       "      <td>U1</td>\n",
       "      <td>10466</td>\n",
       "      <td>3604.0</td>\n",
       "      <td>-0.822230</td>\n",
       "      <td>116.330732</td>\n",
       "    </tr>\n",
       "    <tr>\n",
       "      <th>4</th>\n",
       "      <td>U1</td>\n",
       "      <td>10470</td>\n",
       "      <td>3604.0</td>\n",
       "      <td>-0.721431</td>\n",
       "      <td>120.378807</td>\n",
       "    </tr>\n",
       "    <tr>\n",
       "      <th>...</th>\n",
       "      <td>...</td>\n",
       "      <td>...</td>\n",
       "      <td>...</td>\n",
       "      <td>...</td>\n",
       "      <td>...</td>\n",
       "    </tr>\n",
       "    <tr>\n",
       "      <th>424</th>\n",
       "      <td>U4</td>\n",
       "      <td>20510</td>\n",
       "      <td>6960.0</td>\n",
       "      <td>-0.640000</td>\n",
       "      <td>77.246918</td>\n",
       "    </tr>\n",
       "    <tr>\n",
       "      <th>425</th>\n",
       "      <td>U4</td>\n",
       "      <td>20510</td>\n",
       "      <td>6961.0</td>\n",
       "      <td>-0.635872</td>\n",
       "      <td>74.735217</td>\n",
       "    </tr>\n",
       "    <tr>\n",
       "      <th>426</th>\n",
       "      <td>U4</td>\n",
       "      <td>20510</td>\n",
       "      <td>6962.0</td>\n",
       "      <td>-0.552581</td>\n",
       "      <td>72.723460</td>\n",
       "    </tr>\n",
       "    <tr>\n",
       "      <th>427</th>\n",
       "      <td>U4</td>\n",
       "      <td>20510</td>\n",
       "      <td>6963.0</td>\n",
       "      <td>0.101403</td>\n",
       "      <td>72.432070</td>\n",
       "    </tr>\n",
       "    <tr>\n",
       "      <th>428</th>\n",
       "      <td>U4</td>\n",
       "      <td>20519</td>\n",
       "      <td>6963.0</td>\n",
       "      <td>-0.464999</td>\n",
       "      <td>67.967842</td>\n",
       "    </tr>\n",
       "  </tbody>\n",
       "</table>\n",
       "<p>429 rows × 5 columns</p>\n",
       "</div>"
      ],
      "text/plain": [
       "    Lane Identification  Vehicle ID  timespot  Vehicle Acceleration  \\\n",
       "0                    U1          80      64.0             -0.223875   \n",
       "1                    U1          80      65.0             -1.325497   \n",
       "2                    U1          80      66.0             -2.136273   \n",
       "3                    U1       10466    3604.0             -0.822230   \n",
       "4                    U1       10470    3604.0             -0.721431   \n",
       "..                  ...         ...       ...                   ...   \n",
       "424                  U4       20510    6960.0             -0.640000   \n",
       "425                  U4       20510    6961.0             -0.635872   \n",
       "426                  U4       20510    6962.0             -0.552581   \n",
       "427                  U4       20510    6963.0              0.101403   \n",
       "428                  U4       20519    6963.0             -0.464999   \n",
       "\n",
       "     Vehicle Velocity(km/h)  \n",
       "0                130.272517  \n",
       "1                126.720773  \n",
       "2                123.456654  \n",
       "3                116.330732  \n",
       "4                120.378807  \n",
       "..                      ...  \n",
       "424               77.246918  \n",
       "425               74.735217  \n",
       "426               72.723460  \n",
       "427               72.432070  \n",
       "428               67.967842  \n",
       "\n",
       "[429 rows x 5 columns]"
      ]
     },
     "execution_count": 38,
     "metadata": {},
     "output_type": "execute_result"
    }
   ],
   "source": [
    "pivot_df_list[0]"
   ]
  },
  {
   "cell_type": "markdown",
   "metadata": {},
   "source": [
    "### 필요 함수 정의 : sudden_dec\n",
    "* **급감속** : 초당 8km/h 이상 감속 운행하고 속도가 6.0km/h 이상인 경우\n",
    "* 가속도를 초속(m/s)으로 통일할 것"
   ]
  },
  {
   "cell_type": "code",
   "execution_count": 39,
   "metadata": {
    "execution": {
     "iopub.execute_input": "2022-05-20T05:47:24.904860Z",
     "iopub.status.busy": "2022-05-20T05:47:24.904860Z",
     "iopub.status.idle": "2022-05-20T05:47:24.918813Z",
     "shell.execute_reply": "2022-05-20T05:47:24.917814Z",
     "shell.execute_reply.started": "2022-05-20T05:47:24.904860Z"
    },
    "tags": []
   },
   "outputs": [],
   "source": [
    "def sudden_dec(velocity, acceleration):\n",
    "    \"\"\"급감속인 경우 sudden_dec 판정\"\"\"\n",
    "    if velocity >= 6.0 and acceleration <= -8.0 * (1000/3600):\n",
    "        return 'sudden_dec'\n",
    "    else:\n",
    "        pass"
   ]
  },
  {
   "cell_type": "markdown",
   "metadata": {},
   "source": [
    "### 급감속(sudden_dec) 표시 후 저장"
   ]
  },
  {
   "cell_type": "code",
   "execution_count": 40,
   "metadata": {
    "execution": {
     "iopub.execute_input": "2022-05-20T05:47:24.919813Z",
     "iopub.status.busy": "2022-05-20T05:47:24.919813Z",
     "iopub.status.idle": "2022-05-20T05:47:24.934743Z",
     "shell.execute_reply": "2022-05-20T05:47:24.933771Z",
     "shell.execute_reply.started": "2022-05-20T05:47:24.919813Z"
    },
    "tags": []
   },
   "outputs": [],
   "source": [
    "folder_name = '02-4_sudden_dec'\n",
    "\n",
    "save_SuddenDec_dir = os.path.join(folder_dir, folder_name)\n",
    "\n",
    "os.makedirs(save_SuddenDec_dir, exist_ok = True) # 해당 경로가 없을 시 폴더 생성, 존재할 경우 건너뛰기"
   ]
  },
  {
   "cell_type": "code",
   "execution_count": 41,
   "metadata": {
    "execution": {
     "iopub.execute_input": "2022-05-20T05:47:24.935777Z",
     "iopub.status.busy": "2022-05-20T05:47:24.935777Z",
     "iopub.status.idle": "2022-05-20T05:47:25.044486Z",
     "shell.execute_reply": "2022-05-20T05:47:25.044486Z",
     "shell.execute_reply.started": "2022-05-20T05:47:24.935777Z"
    },
    "tags": []
   },
   "outputs": [],
   "source": [
    "for pivot_df, num_LOS in zip(pivot_df_list, num_LOS_list):\n",
    "    \n",
    "    pivot_df['sudden_dec'] = pivot_df[['Vehicle Velocity(km/h)', 'Vehicle Acceleration']].apply(lambda x: sudden_dec(*x), axis = 1)\n",
    "    \n",
    "    save_SuddenDec_file = f'SuddenDec{num_LOS}.csv'\n",
    "    save_SuddenDec_path = os.path.join(save_SuddenDec_dir, save_SuddenDec_file)\n",
    "    \n",
    "    pivot_df.to_csv(save_SuddenDec_path, encoding = 'cp949')"
   ]
  },
  {
   "cell_type": "code",
   "execution_count": 42,
   "metadata": {
    "execution": {
     "iopub.execute_input": "2022-05-20T05:47:25.045447Z",
     "iopub.status.busy": "2022-05-20T05:47:25.045447Z",
     "iopub.status.idle": "2022-05-20T05:47:25.061405Z",
     "shell.execute_reply": "2022-05-20T05:47:25.060408Z",
     "shell.execute_reply.started": "2022-05-20T05:47:25.045447Z"
    },
    "tags": []
   },
   "outputs": [
    {
     "data": {
      "text/html": [
       "<div>\n",
       "<style scoped>\n",
       "    .dataframe tbody tr th:only-of-type {\n",
       "        vertical-align: middle;\n",
       "    }\n",
       "\n",
       "    .dataframe tbody tr th {\n",
       "        vertical-align: top;\n",
       "    }\n",
       "\n",
       "    .dataframe thead th {\n",
       "        text-align: right;\n",
       "    }\n",
       "</style>\n",
       "<table border=\"1\" class=\"dataframe\">\n",
       "  <thead>\n",
       "    <tr style=\"text-align: right;\">\n",
       "      <th></th>\n",
       "      <th>Lane Identification</th>\n",
       "      <th>Vehicle ID</th>\n",
       "      <th>timespot</th>\n",
       "      <th>Vehicle Acceleration</th>\n",
       "      <th>Vehicle Velocity(km/h)</th>\n",
       "      <th>sudden_dec</th>\n",
       "    </tr>\n",
       "  </thead>\n",
       "  <tbody>\n",
       "    <tr>\n",
       "      <th>0</th>\n",
       "      <td>U1</td>\n",
       "      <td>80</td>\n",
       "      <td>64.0</td>\n",
       "      <td>-0.223875</td>\n",
       "      <td>130.272517</td>\n",
       "      <td>None</td>\n",
       "    </tr>\n",
       "    <tr>\n",
       "      <th>1</th>\n",
       "      <td>U1</td>\n",
       "      <td>80</td>\n",
       "      <td>65.0</td>\n",
       "      <td>-1.325497</td>\n",
       "      <td>126.720773</td>\n",
       "      <td>None</td>\n",
       "    </tr>\n",
       "    <tr>\n",
       "      <th>2</th>\n",
       "      <td>U1</td>\n",
       "      <td>80</td>\n",
       "      <td>66.0</td>\n",
       "      <td>-2.136273</td>\n",
       "      <td>123.456654</td>\n",
       "      <td>None</td>\n",
       "    </tr>\n",
       "    <tr>\n",
       "      <th>3</th>\n",
       "      <td>U1</td>\n",
       "      <td>10466</td>\n",
       "      <td>3604.0</td>\n",
       "      <td>-0.822230</td>\n",
       "      <td>116.330732</td>\n",
       "      <td>None</td>\n",
       "    </tr>\n",
       "    <tr>\n",
       "      <th>4</th>\n",
       "      <td>U1</td>\n",
       "      <td>10470</td>\n",
       "      <td>3604.0</td>\n",
       "      <td>-0.721431</td>\n",
       "      <td>120.378807</td>\n",
       "      <td>None</td>\n",
       "    </tr>\n",
       "  </tbody>\n",
       "</table>\n",
       "</div>"
      ],
      "text/plain": [
       "  Lane Identification  Vehicle ID  timespot  Vehicle Acceleration  \\\n",
       "0                  U1          80      64.0             -0.223875   \n",
       "1                  U1          80      65.0             -1.325497   \n",
       "2                  U1          80      66.0             -2.136273   \n",
       "3                  U1       10466    3604.0             -0.822230   \n",
       "4                  U1       10470    3604.0             -0.721431   \n",
       "\n",
       "   Vehicle Velocity(km/h) sudden_dec  \n",
       "0              130.272517       None  \n",
       "1              126.720773       None  \n",
       "2              123.456654       None  \n",
       "3              116.330732       None  \n",
       "4              120.378807       None  "
      ]
     },
     "execution_count": 42,
     "metadata": {},
     "output_type": "execute_result"
    }
   ],
   "source": [
    "pivot_df_list[0].head()"
   ]
  },
  {
   "cell_type": "markdown",
   "metadata": {},
   "source": [
    "### 급감속, 급가속 필터링 후 처리\n",
    "* 급감속/급가속한 차량대수\n",
    "* 해당 차량 대수를 교통류율로 환산\n",
    "* 해당 차량끼리의 평균 가속도를 구하기"
   ]
  },
  {
   "cell_type": "code",
   "execution_count": 43,
   "metadata": {
    "execution": {
     "iopub.execute_input": "2022-05-20T05:47:25.062402Z",
     "iopub.status.busy": "2022-05-20T05:47:25.062402Z",
     "iopub.status.idle": "2022-05-20T05:47:25.077362Z",
     "shell.execute_reply": "2022-05-20T05:47:25.076391Z",
     "shell.execute_reply.started": "2022-05-20T05:47:25.062402Z"
    },
    "tags": []
   },
   "outputs": [],
   "source": [
    "folder_name = '02-5_sudden_dec_aggregated'\n",
    "\n",
    "save_SuddenDecAgg_dir = os.path.join(folder_dir, folder_name)\n",
    "\n",
    "os.makedirs(save_SuddenDecAgg_dir, exist_ok = True) # 해당 경로가 없을 시 폴더 생성, 존재할 경우 건너뛰기"
   ]
  },
  {
   "cell_type": "code",
   "execution_count": 44,
   "metadata": {
    "execution": {
     "iopub.execute_input": "2022-05-20T05:47:25.077362Z",
     "iopub.status.busy": "2022-05-20T05:47:25.077362Z",
     "iopub.status.idle": "2022-05-20T05:47:25.140223Z",
     "shell.execute_reply": "2022-05-20T05:47:25.140223Z",
     "shell.execute_reply.started": "2022-05-20T05:47:25.077362Z"
    },
    "tags": []
   },
   "outputs": [
    {
     "name": "stdout",
     "output_type": "stream",
     "text": [
      "01_1_A 3\n",
      "01_1_B 4\n",
      "01_1_C 4\n",
      "01_1_D 4\n",
      "01_1_E 3\n"
     ]
    }
   ],
   "source": [
    "for pivot_df, num_LOS in zip(pivot_df_list, num_LOS_list):\n",
    "    \n",
    "    SuddenDecAgg = pd.pivot_table(pivot_df[pivot_df['sudden_dec'] == 'sudden_dec'],\n",
    "                                  index = ['Lane Identification', 'sudden_dec'],\n",
    "                                  values = ['Vehicle ID', 'Vehicle Acceleration'],\n",
    "                                  aggfunc = {'Vehicle ID': unq, 'Vehicle Acceleration': 'mean'})\n",
    "    \n",
    "    SuddenDecAgg.reset_index(inplace = True)\n",
    "    \n",
    "    if len(SuddenDecAgg) > 0:\n",
    "        print(num_LOS, len(SuddenDecAgg))\n",
    "        save_SuddenDecAgg_file = f'SuddenDecAgg{num_LOS}.csv'\n",
    "        save_SuddenDecAgg_path = os.path.join(save_SuddenDecAgg_dir, save_SuddenDecAgg_file)\n",
    "        SuddenDecAgg.to_csv(save_SuddenDecAgg_path, encoding = 'cp949')\n",
    "        \n",
    "    else:\n",
    "        pass"
   ]
  }
 ],
 "metadata": {
  "kernelspec": {
   "display_name": "Python 3",
   "language": "python",
   "name": "python3"
  },
  "language_info": {
   "codemirror_mode": {
    "name": "ipython",
    "version": 3
   },
   "file_extension": ".py",
   "mimetype": "text/x-python",
   "name": "python",
   "nbconvert_exporter": "python",
   "pygments_lexer": "ipython3",
   "version": "3.8.8"
  }
 },
 "nbformat": 4,
 "nbformat_minor": 4
}
