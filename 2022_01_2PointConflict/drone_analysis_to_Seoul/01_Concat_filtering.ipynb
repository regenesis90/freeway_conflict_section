{
 "cells": [
  {
   "cell_type": "markdown",
   "metadata": {},
   "source": [
    "# Concat\n",
    "* `00_dataset`폴더 내에 있는 원본파일을 동일 대상지(target)에서 촬영한 데이터끼리 합쳐서 `00_dataset_concated`에 저장하기"
   ]
  },
  {
   "cell_type": "markdown",
   "metadata": {},
   "source": [
    "## Imports"
   ]
  },
  {
   "cell_type": "code",
   "execution_count": 3,
   "metadata": {
    "execution": {
     "iopub.execute_input": "2022-05-20T03:55:54.513076Z",
     "iopub.status.busy": "2022-05-20T03:55:54.513076Z",
     "iopub.status.idle": "2022-05-20T03:55:56.448267Z",
     "shell.execute_reply": "2022-05-20T03:55:56.448267Z",
     "shell.execute_reply.started": "2022-05-20T03:55:54.513076Z"
    },
    "tags": []
   },
   "outputs": [],
   "source": [
    "import pandas as pd\n",
    "import numpy as np\n",
    "\n",
    "import os\n",
    "from tqdm import tqdm"
   ]
  },
  {
   "cell_type": "markdown",
   "metadata": {},
   "source": [
    "## Load Dataset\n",
    "* 촬영 대상지 번호, 촬영 순서, 영상 번호에 맞추어 파일들을 대상지별로 병합하기"
   ]
  },
  {
   "cell_type": "code",
   "execution_count": 4,
   "metadata": {
    "execution": {
     "iopub.execute_input": "2022-05-20T03:55:56.448267Z",
     "iopub.status.busy": "2022-05-20T03:55:56.448267Z",
     "iopub.status.idle": "2022-05-20T03:55:56.468781Z",
     "shell.execute_reply": "2022-05-20T03:55:56.468781Z",
     "shell.execute_reply.started": "2022-05-20T03:55:56.448267Z"
    },
    "tags": []
   },
   "outputs": [],
   "source": [
    "file_dir = 'D:/OneDrive - 연세대학교 (Yonsei University)/Projects/Yonsei_TELab/003_도로상충_210517-/2차년도_2022/16_드론궤적분석자료_2점분합류_금호JC_서울방향/00_dataset' # 각 .csv 파일이 있는 폴더경로"
   ]
  },
  {
   "cell_type": "code",
   "execution_count": 5,
   "metadata": {
    "execution": {
     "iopub.execute_input": "2022-05-20T03:55:56.468781Z",
     "iopub.status.busy": "2022-05-20T03:55:56.468781Z",
     "iopub.status.idle": "2022-05-20T03:55:56.484673Z",
     "shell.execute_reply": "2022-05-20T03:55:56.484401Z",
     "shell.execute_reply.started": "2022-05-20T03:55:56.468781Z"
    },
    "tags": []
   },
   "outputs": [
    {
     "data": {
      "text/plain": [
       "['01_1_1.csv', '01_1_2.csv', '01_1_3.csv']"
      ]
     },
     "execution_count": 5,
     "metadata": {},
     "output_type": "execute_result"
    }
   ],
   "source": [
    "file_list = os.listdir(file_dir)\n",
    "file_list[0:3]"
   ]
  },
  {
   "cell_type": "code",
   "execution_count": 6,
   "metadata": {
    "execution": {
     "iopub.execute_input": "2022-05-20T03:55:56.486668Z",
     "iopub.status.busy": "2022-05-20T03:55:56.486668Z",
     "iopub.status.idle": "2022-05-20T03:55:56.513572Z",
     "shell.execute_reply": "2022-05-20T03:55:56.512574Z",
     "shell.execute_reply.started": "2022-05-20T03:55:56.486668Z"
    },
    "tags": []
   },
   "outputs": [
    {
     "name": "stdout",
     "output_type": "stream",
     "text": [
      "['01'] \n",
      " ['1', '2', '3', '4'] \n",
      " ['1', '2', '3']\n"
     ]
    }
   ],
   "source": [
    "# 파일명으로부터 대상지 번호, 촬영 순서, 영상번호를 추출\n",
    "tgs = [] # 촬영 대상지 번호\n",
    "spots = [] # 촬영 지점\n",
    "videos = [] # 각 지점에서의 영상 번호\n",
    "\n",
    "for file in file_list: # 전체 파일 리스트를 돌며\n",
    "    tg = file[0:2] # 파일명으로부터 촬영 대상지 번호(2자리) 추출\n",
    "    spot = file[3] # 파일명으로부터 촬영지점(1자리) 추출\n",
    "    video = file[5] # 각 촬영지점에서의 영상번호(1자리) 추출\n",
    "    \n",
    "    if tg not in tgs:\n",
    "        tgs.append(tg)\n",
    "        \n",
    "    if spot not in spots:\n",
    "        spots.append(spot)\n",
    "        \n",
    "    if video not in videos:\n",
    "        videos.append(video)\n",
    "    \n",
    "print(tgs, '\\n', spots, '\\n', videos)"
   ]
  },
  {
   "cell_type": "markdown",
   "metadata": {},
   "source": [
    "## File Numbering\n",
    "* 대상지별 데이터프레임을 불러와 넘버링하기\n",
    "* `video == 2`인 경우\n",
    "    * 차량번호(`Vehicle ID`)에 +10000\n",
    "    * 프레임 번호(`Frame ID`)에 +100000\n",
    "* `video == 3`인 경우\n",
    "    * 차량번호(`Vehicle ID`)에 +20000\n",
    "    * 프레임 번호(`Frame ID`)에 +200000"
   ]
  },
  {
   "cell_type": "code",
   "execution_count": 7,
   "metadata": {
    "execution": {
     "iopub.execute_input": "2022-05-20T03:55:56.514571Z",
     "iopub.status.busy": "2022-05-20T03:55:56.514571Z",
     "iopub.status.idle": "2022-05-20T03:55:58.449161Z",
     "shell.execute_reply": "2022-05-20T03:55:58.449161Z",
     "shell.execute_reply.started": "2022-05-20T03:55:56.514571Z"
    },
    "tags": []
   },
   "outputs": [],
   "source": [
    "df_list = [] # 데이터프레임 리스트\n",
    "num_list = [] # 데이터프레임 파일명, 즉 넘버링 리스트\n",
    "\n",
    "for tg in tgs:\n",
    "    for sp in spots:\n",
    "        for vd in videos:\n",
    "            num = tg + '_' + sp + '_' + vd # 파일명 넘버링\n",
    "            file_name = num + '.csv'\n",
    "            file_path = os.path.join(file_dir, file_name)\n",
    "            \n",
    "            if os.path.isfile(file_path): # 해당 file_path에 파일이 존재할 경우\n",
    "                globals()[f'target{num}'] = pd.read_csv(file_path, encoding = 'cp949') # .csv 파일을 불러와 인스턴스 만들기\n",
    "                df_list.append(globals()[f'target{num}']) \n",
    "                num_list.append(num)"
   ]
  },
  {
   "cell_type": "code",
   "execution_count": 8,
   "metadata": {
    "execution": {
     "iopub.execute_input": "2022-05-20T03:55:58.449161Z",
     "iopub.status.busy": "2022-05-20T03:55:58.449161Z",
     "iopub.status.idle": "2022-05-20T03:55:58.536281Z",
     "shell.execute_reply": "2022-05-20T03:55:58.536281Z",
     "shell.execute_reply.started": "2022-05-20T03:55:58.449161Z"
    },
    "tags": []
   },
   "outputs": [],
   "source": [
    "max_vid = int(videos[-1])\n",
    "\n",
    "for df, num in zip(df_list, num_list): # 존재하는 데이터프레임 및 번호별로\n",
    "    if int(num[-1]) > 1: # spot이 1을 초과할 경우\n",
    "        \n",
    "        for i in range(2, max_vid+1):\n",
    "            if int(num[-1]) == i:\n",
    "                df['Vehicle ID'] = df['Vehicle ID'] + (i-1) * 10000\n",
    "                df['Frame ID'] = df['Frame ID'] + (i-1) * 100000\n",
    "            else:\n",
    "                pass\n",
    "            \n",
    "    else:\n",
    "        pass"
   ]
  },
  {
   "cell_type": "code",
   "execution_count": 9,
   "metadata": {
    "execution": {
     "iopub.execute_input": "2022-05-20T03:55:58.536281Z",
     "iopub.status.busy": "2022-05-20T03:55:58.536281Z",
     "iopub.status.idle": "2022-05-20T03:55:58.567611Z",
     "shell.execute_reply": "2022-05-20T03:55:58.566612Z",
     "shell.execute_reply.started": "2022-05-20T03:55:58.536281Z"
    },
    "tags": []
   },
   "outputs": [
    {
     "data": {
      "text/html": [
       "<div>\n",
       "<style scoped>\n",
       "    .dataframe tbody tr th:only-of-type {\n",
       "        vertical-align: middle;\n",
       "    }\n",
       "\n",
       "    .dataframe tbody tr th {\n",
       "        vertical-align: top;\n",
       "    }\n",
       "\n",
       "    .dataframe thead th {\n",
       "        text-align: right;\n",
       "    }\n",
       "</style>\n",
       "<table border=\"1\" class=\"dataframe\">\n",
       "  <thead>\n",
       "    <tr style=\"text-align: right;\">\n",
       "      <th></th>\n",
       "      <th>Vehicle ID</th>\n",
       "      <th>Frame ID</th>\n",
       "      <th>Total Frames</th>\n",
       "      <th>Global Time (Epoch Time)</th>\n",
       "      <th>Local X (m)</th>\n",
       "      <th>Local Y(m)</th>\n",
       "      <th>Vehicle Length</th>\n",
       "      <th>Vehicle Width</th>\n",
       "      <th>Vehicle Class</th>\n",
       "      <th>Vehicle Velocity(km/h)</th>\n",
       "      <th>Vehicle Acceleration</th>\n",
       "      <th>Lane Identification</th>\n",
       "      <th>Preceding Vehicle</th>\n",
       "      <th>Following Vehicle</th>\n",
       "      <th>Spacing Headway</th>\n",
       "      <th>Time Headway</th>\n",
       "      <th>Bad Object</th>\n",
       "      <th>Special Car</th>\n",
       "      <th>Lane Class</th>\n",
       "      <th>Vehicle Movement</th>\n",
       "    </tr>\n",
       "  </thead>\n",
       "  <tbody>\n",
       "    <tr>\n",
       "      <th>0</th>\n",
       "      <td>1</td>\n",
       "      <td>339</td>\n",
       "      <td>39</td>\n",
       "      <td>46811300</td>\n",
       "      <td>197.159363</td>\n",
       "      <td>15.389974</td>\n",
       "      <td>3.726060</td>\n",
       "      <td>3.477656</td>\n",
       "      <td>1</td>\n",
       "      <td>76.377304</td>\n",
       "      <td>-0.977325</td>\n",
       "      <td>U3</td>\n",
       "      <td>0</td>\n",
       "      <td>0</td>\n",
       "      <td>0.0</td>\n",
       "      <td>0.0</td>\n",
       "      <td>0</td>\n",
       "      <td>0</td>\n",
       "      <td>상행본선</td>\n",
       "      <td>2.121592</td>\n",
       "    </tr>\n",
       "    <tr>\n",
       "      <th>1</th>\n",
       "      <td>2</td>\n",
       "      <td>339</td>\n",
       "      <td>39</td>\n",
       "      <td>46811300</td>\n",
       "      <td>184.770065</td>\n",
       "      <td>19.432817</td>\n",
       "      <td>5.713292</td>\n",
       "      <td>1.738828</td>\n",
       "      <td>2</td>\n",
       "      <td>95.169113</td>\n",
       "      <td>2.210893</td>\n",
       "      <td>U2</td>\n",
       "      <td>0</td>\n",
       "      <td>0</td>\n",
       "      <td>0.0</td>\n",
       "      <td>0.0</td>\n",
       "      <td>0</td>\n",
       "      <td>0</td>\n",
       "      <td>상행본선</td>\n",
       "      <td>2.643586</td>\n",
       "    </tr>\n",
       "    <tr>\n",
       "      <th>2</th>\n",
       "      <td>1</td>\n",
       "      <td>342</td>\n",
       "      <td>42</td>\n",
       "      <td>46811400</td>\n",
       "      <td>195.021927</td>\n",
       "      <td>15.357787</td>\n",
       "      <td>3.726060</td>\n",
       "      <td>3.477656</td>\n",
       "      <td>1</td>\n",
       "      <td>76.956413</td>\n",
       "      <td>1.608637</td>\n",
       "      <td>U3</td>\n",
       "      <td>0</td>\n",
       "      <td>0</td>\n",
       "      <td>0.0</td>\n",
       "      <td>0.0</td>\n",
       "      <td>0</td>\n",
       "      <td>0</td>\n",
       "      <td>상행본선</td>\n",
       "      <td>2.137678</td>\n",
       "    </tr>\n",
       "  </tbody>\n",
       "</table>\n",
       "</div>"
      ],
      "text/plain": [
       "   Vehicle ID  Frame ID  Total Frames  Global Time (Epoch Time)  Local X (m)  \\\n",
       "0           1       339            39                  46811300   197.159363   \n",
       "1           2       339            39                  46811300   184.770065   \n",
       "2           1       342            42                  46811400   195.021927   \n",
       "\n",
       "   Local Y(m)  Vehicle Length  Vehicle Width  Vehicle Class  \\\n",
       "0   15.389974        3.726060       3.477656              1   \n",
       "1   19.432817        5.713292       1.738828              2   \n",
       "2   15.357787        3.726060       3.477656              1   \n",
       "\n",
       "   Vehicle Velocity(km/h)  Vehicle Acceleration Lane Identification  \\\n",
       "0               76.377304             -0.977325                  U3   \n",
       "1               95.169113              2.210893                  U2   \n",
       "2               76.956413              1.608637                  U3   \n",
       "\n",
       "   Preceding Vehicle  Following Vehicle  Spacing Headway  Time Headway  \\\n",
       "0                  0                  0              0.0           0.0   \n",
       "1                  0                  0              0.0           0.0   \n",
       "2                  0                  0              0.0           0.0   \n",
       "\n",
       "   Bad Object  Special Car Lane Class  Vehicle Movement  \n",
       "0           0            0       상행본선          2.121592  \n",
       "1           0            0       상행본선          2.643586  \n",
       "2           0            0       상행본선          2.137678  "
      ]
     },
     "execution_count": 9,
     "metadata": {},
     "output_type": "execute_result"
    }
   ],
   "source": [
    "target01_1_1.head(3)"
   ]
  },
  {
   "cell_type": "markdown",
   "metadata": {},
   "source": [
    "## Concat and Save\n",
    "* 대상지(`tg`)와 촬영지(`spot`)가 같은 파일들을 병합\n",
    "* 병합된 파일을 `00_dataset_concated` 폴더에 저장하기"
   ]
  },
  {
   "cell_type": "code",
   "execution_count": 10,
   "metadata": {
    "execution": {
     "iopub.execute_input": "2022-05-20T03:55:58.567611Z",
     "iopub.status.busy": "2022-05-20T03:55:58.567611Z",
     "iopub.status.idle": "2022-05-20T03:55:58.583567Z",
     "shell.execute_reply": "2022-05-20T03:55:58.582570Z",
     "shell.execute_reply.started": "2022-05-20T03:55:58.567611Z"
    },
    "tags": []
   },
   "outputs": [],
   "source": [
    "folder_dir = 'D:/OneDrive - 연세대학교 (Yonsei University)/Projects/Yonsei_TELab/003_도로상충_210517-/2차년도_2022/16_드론궤적분석자료_2점분합류_금호JC'\n",
    "folder_name = '00_dataset_concated' \n",
    "\n",
    "concat_dir = os.path.join(folder_dir, folder_name)\n",
    "\n",
    "os.makedirs(concat_dir, exist_ok = True) # 해당 경로가 없을 시 폴더 생성, 존재할 경우 건너뛰기"
   ]
  },
  {
   "cell_type": "code",
   "execution_count": 11,
   "metadata": {
    "execution": {
     "iopub.execute_input": "2022-05-20T03:55:58.584566Z",
     "iopub.status.busy": "2022-05-20T03:55:58.584566Z",
     "iopub.status.idle": "2022-05-20T03:55:58.599524Z",
     "shell.execute_reply": "2022-05-20T03:55:58.598529Z",
     "shell.execute_reply.started": "2022-05-20T03:55:58.584566Z"
    },
    "tags": []
   },
   "outputs": [
    {
     "name": "stdout",
     "output_type": "stream",
     "text": [
      "['01_1', '01_2', '01_3', '01_4']\n"
     ]
    }
   ],
   "source": [
    "tg_spots = [] # num의 대상지 번호+촬영지점 번호 리스트\n",
    "\n",
    "for num in num_list:\n",
    "    tg_spot = num[0:4] # num의 대상지 번호+촬영지점 번호\n",
    "    \n",
    "    if tg_spot not in tg_spots:\n",
    "        tg_spots.append(tg_spot)\n",
    "    \n",
    "    else:\n",
    "        pass\n",
    "\n",
    "print(tg_spots)"
   ]
  },
  {
   "cell_type": "code",
   "execution_count": 12,
   "metadata": {
    "execution": {
     "iopub.execute_input": "2022-05-20T03:55:58.600523Z",
     "iopub.status.busy": "2022-05-20T03:55:58.600523Z",
     "iopub.status.idle": "2022-05-20T03:56:00.637802Z",
     "shell.execute_reply": "2022-05-20T03:56:00.636804Z",
     "shell.execute_reply.started": "2022-05-20T03:55:58.600523Z"
    },
    "tags": []
   },
   "outputs": [
    {
     "name": "stderr",
     "output_type": "stream",
     "text": [
      "100%|████████████████████████████████████████████████████████████████████████████████████| 4/4 [00:01<00:00,  2.03it/s]\n"
     ]
    }
   ],
   "source": [
    "# 각 빈 데이터프레임에 tg_spot이 일치하는 데이터프레임을 concat\n",
    "for tg_spot in tqdm(tg_spots):\n",
    "\n",
    "    globals()[f'target{tg_spot}'] = pd.DataFrame() # target01_1 등 각 tg_spot에 대한 빈 데이터프레임 생성\n",
    "    \n",
    "    for df, num in zip(df_list, num_list):\n",
    "        df_tg_spot = num[0:4] \n",
    "        \n",
    "        if df_tg_spot == tg_spot: # 만약 데이터프레임의 tg_spot이 일치할 경우\n",
    "            globals()[f'target{tg_spot}'] = pd.concat([globals()[f'target{tg_spot}'], df]) #데이터프레임 concat\n",
    "        \n",
    "        else:\n",
    "            pass # 그렇지 않을 경우, 패스\n",
    "        \n",
    "    concat_name = tg_spot + '.csv'# 새로 병합된 데이터프레임을 저장할 파일명\n",
    "    concat_path = os.path.join(concat_dir, concat_name)\n",
    "    \n",
    "    globals()[f'target{tg_spot}'].to_csv(concat_path, encoding = 'cp949') # 병합된 데이터프레임을 csv 파일로 저장"
   ]
  },
  {
   "cell_type": "markdown",
   "metadata": {},
   "source": [
    "# Filtering Strange Value\n",
    "**촬영지점별로 병합된 파일(`00_dataset_concated`)에서 비정상적인 속도, 가속도 값을 가진 이상값 제거**\n",
    "* 속도 170 이상 / 15이하 제거\n",
    "* 가속도 -40이하, 40 이상 제거"
   ]
  },
  {
   "cell_type": "code",
   "execution_count": 13,
   "metadata": {
    "execution": {
     "iopub.execute_input": "2022-05-20T03:56:00.638784Z",
     "iopub.status.busy": "2022-05-20T03:56:00.637802Z",
     "iopub.status.idle": "2022-05-20T03:56:00.653757Z",
     "shell.execute_reply": "2022-05-20T03:56:00.652759Z",
     "shell.execute_reply.started": "2022-05-20T03:56:00.638784Z"
    },
    "tags": []
   },
   "outputs": [],
   "source": [
    "folder_name = '00_dataset_filtered_full'\n",
    "\n",
    "save_dir = os.path.join(folder_dir, folder_name)\n",
    "\n",
    "os.makedirs(save_dir, exist_ok = True) # 해당 경로가 없을 시 폴더 생성, 존재할 경우 건너뛰기"
   ]
  },
  {
   "cell_type": "code",
   "execution_count": 14,
   "metadata": {
    "execution": {
     "iopub.execute_input": "2022-05-20T03:56:00.655751Z",
     "iopub.status.busy": "2022-05-20T03:56:00.654724Z",
     "iopub.status.idle": "2022-05-20T03:56:01.189276Z",
     "shell.execute_reply": "2022-05-20T03:56:01.189276Z",
     "shell.execute_reply.started": "2022-05-20T03:56:00.655751Z"
    },
    "tags": []
   },
   "outputs": [],
   "source": [
    "# concate 된 파일을 기준으로 데이터프레임 리스트와 넘버링 리스트를 다시 재정의하기\n",
    "\n",
    "df_list = [] # 데이터프레임 리스트 초기화\n",
    "num_list = [] # 데이터프레임 파일명, 즉 넘버링 리스트 초기화\n",
    "\n",
    "for tg in tgs:\n",
    "    for sp in spots:\n",
    "        num = tg + '_' + sp # 파일명 넘버링\n",
    "        file_name = num + '.csv'\n",
    "        file_path = os.path.join(concat_dir, file_name)\n",
    "            \n",
    "        if os.path.isfile(file_path): # 해당 file_path에 파일이 존재할 경우\n",
    "            globals()[f'target{num}'] = pd.read_csv(file_path, encoding = 'cp949') # .csv 파일을 불러와 인스턴스 만들기\n",
    "            df_list.append(globals()[f'target{num}']) \n",
    "            num_list.append(num)"
   ]
  },
  {
   "cell_type": "code",
   "execution_count": 15,
   "metadata": {
    "execution": {
     "iopub.execute_input": "2022-05-20T03:56:01.189276Z",
     "iopub.status.busy": "2022-05-20T03:56:01.189276Z",
     "iopub.status.idle": "2022-05-20T03:56:01.222754Z",
     "shell.execute_reply": "2022-05-20T03:56:01.220759Z",
     "shell.execute_reply.started": "2022-05-20T03:56:01.189276Z"
    },
    "tags": []
   },
   "outputs": [
    {
     "data": {
      "text/html": [
       "<div>\n",
       "<style scoped>\n",
       "    .dataframe tbody tr th:only-of-type {\n",
       "        vertical-align: middle;\n",
       "    }\n",
       "\n",
       "    .dataframe tbody tr th {\n",
       "        vertical-align: top;\n",
       "    }\n",
       "\n",
       "    .dataframe thead th {\n",
       "        text-align: right;\n",
       "    }\n",
       "</style>\n",
       "<table border=\"1\" class=\"dataframe\">\n",
       "  <thead>\n",
       "    <tr style=\"text-align: right;\">\n",
       "      <th></th>\n",
       "      <th>Unnamed: 0</th>\n",
       "      <th>Vehicle ID</th>\n",
       "      <th>Frame ID</th>\n",
       "      <th>Total Frames</th>\n",
       "      <th>Global Time (Epoch Time)</th>\n",
       "      <th>Local X (m)</th>\n",
       "      <th>Local Y(m)</th>\n",
       "      <th>Vehicle Length</th>\n",
       "      <th>Vehicle Width</th>\n",
       "      <th>Vehicle Class</th>\n",
       "      <th>...</th>\n",
       "      <th>Vehicle Acceleration</th>\n",
       "      <th>Lane Identification</th>\n",
       "      <th>Preceding Vehicle</th>\n",
       "      <th>Following Vehicle</th>\n",
       "      <th>Spacing Headway</th>\n",
       "      <th>Time Headway</th>\n",
       "      <th>Bad Object</th>\n",
       "      <th>Special Car</th>\n",
       "      <th>Lane Class</th>\n",
       "      <th>Vehicle Movement</th>\n",
       "    </tr>\n",
       "  </thead>\n",
       "  <tbody>\n",
       "    <tr>\n",
       "      <th>0</th>\n",
       "      <td>0</td>\n",
       "      <td>1</td>\n",
       "      <td>339</td>\n",
       "      <td>39</td>\n",
       "      <td>46811300</td>\n",
       "      <td>197.159363</td>\n",
       "      <td>15.389974</td>\n",
       "      <td>3.726060</td>\n",
       "      <td>3.477656</td>\n",
       "      <td>1</td>\n",
       "      <td>...</td>\n",
       "      <td>-0.977325</td>\n",
       "      <td>U3</td>\n",
       "      <td>0</td>\n",
       "      <td>0</td>\n",
       "      <td>0.0</td>\n",
       "      <td>0.0</td>\n",
       "      <td>0</td>\n",
       "      <td>0</td>\n",
       "      <td>상행본선</td>\n",
       "      <td>2.121592</td>\n",
       "    </tr>\n",
       "    <tr>\n",
       "      <th>1</th>\n",
       "      <td>1</td>\n",
       "      <td>2</td>\n",
       "      <td>339</td>\n",
       "      <td>39</td>\n",
       "      <td>46811300</td>\n",
       "      <td>184.770065</td>\n",
       "      <td>19.432817</td>\n",
       "      <td>5.713292</td>\n",
       "      <td>1.738828</td>\n",
       "      <td>2</td>\n",
       "      <td>...</td>\n",
       "      <td>2.210893</td>\n",
       "      <td>U2</td>\n",
       "      <td>0</td>\n",
       "      <td>0</td>\n",
       "      <td>0.0</td>\n",
       "      <td>0.0</td>\n",
       "      <td>0</td>\n",
       "      <td>0</td>\n",
       "      <td>상행본선</td>\n",
       "      <td>2.643586</td>\n",
       "    </tr>\n",
       "    <tr>\n",
       "      <th>2</th>\n",
       "      <td>2</td>\n",
       "      <td>1</td>\n",
       "      <td>342</td>\n",
       "      <td>42</td>\n",
       "      <td>46811400</td>\n",
       "      <td>195.021927</td>\n",
       "      <td>15.357787</td>\n",
       "      <td>3.726060</td>\n",
       "      <td>3.477656</td>\n",
       "      <td>1</td>\n",
       "      <td>...</td>\n",
       "      <td>1.608637</td>\n",
       "      <td>U3</td>\n",
       "      <td>0</td>\n",
       "      <td>0</td>\n",
       "      <td>0.0</td>\n",
       "      <td>0.0</td>\n",
       "      <td>0</td>\n",
       "      <td>0</td>\n",
       "      <td>상행본선</td>\n",
       "      <td>2.137678</td>\n",
       "    </tr>\n",
       "  </tbody>\n",
       "</table>\n",
       "<p>3 rows × 21 columns</p>\n",
       "</div>"
      ],
      "text/plain": [
       "   Unnamed: 0  Vehicle ID  Frame ID  Total Frames  Global Time (Epoch Time)  \\\n",
       "0           0           1       339            39                  46811300   \n",
       "1           1           2       339            39                  46811300   \n",
       "2           2           1       342            42                  46811400   \n",
       "\n",
       "   Local X (m)  Local Y(m)  Vehicle Length  Vehicle Width  Vehicle Class  ...  \\\n",
       "0   197.159363   15.389974        3.726060       3.477656              1  ...   \n",
       "1   184.770065   19.432817        5.713292       1.738828              2  ...   \n",
       "2   195.021927   15.357787        3.726060       3.477656              1  ...   \n",
       "\n",
       "   Vehicle Acceleration  Lane Identification Preceding Vehicle  \\\n",
       "0             -0.977325                   U3                 0   \n",
       "1              2.210893                   U2                 0   \n",
       "2              1.608637                   U3                 0   \n",
       "\n",
       "   Following Vehicle  Spacing Headway  Time Headway  Bad Object  Special Car  \\\n",
       "0                  0              0.0           0.0           0            0   \n",
       "1                  0              0.0           0.0           0            0   \n",
       "2                  0              0.0           0.0           0            0   \n",
       "\n",
       "   Lane Class Vehicle Movement  \n",
       "0        상행본선         2.121592  \n",
       "1        상행본선         2.643586  \n",
       "2        상행본선         2.137678  \n",
       "\n",
       "[3 rows x 21 columns]"
      ]
     },
     "execution_count": 15,
     "metadata": {},
     "output_type": "execute_result"
    }
   ],
   "source": [
    "target01_1.head(3)"
   ]
  },
  {
   "cell_type": "code",
   "execution_count": 16,
   "metadata": {
    "execution": {
     "iopub.execute_input": "2022-05-20T03:56:01.224751Z",
     "iopub.status.busy": "2022-05-20T03:56:01.223754Z",
     "iopub.status.idle": "2022-05-20T03:56:03.104922Z",
     "shell.execute_reply": "2022-05-20T03:56:03.104922Z",
     "shell.execute_reply.started": "2022-05-20T03:56:01.224751Z"
    },
    "tags": []
   },
   "outputs": [],
   "source": [
    "for df, num in zip(df_list, num_list):\n",
    "    \n",
    "    filtered_df = df[(df['Vehicle Velocity(km/h)'] <= 170) & (df['Vehicle Velocity(km/h)'] >= 15) & (df['Vehicle Acceleration'] <= 40) & (df['Vehicle Acceleration'] >= -40)] # 이상값 필터링\n",
    "    \n",
    "    save_name = f'{num}.csv'\n",
    "    save_path = os.path.join(save_dir, save_name)\n",
    "    \n",
    "    filtered_df.to_csv(save_path, encoding = 'cp949')"
   ]
  }
 ],
 "metadata": {
  "kernelspec": {
   "display_name": "Python 3",
   "language": "python",
   "name": "python3"
  },
  "language_info": {
   "codemirror_mode": {
    "name": "ipython",
    "version": 3
   },
   "file_extension": ".py",
   "mimetype": "text/x-python",
   "name": "python",
   "nbconvert_exporter": "python",
   "pygments_lexer": "ipython3",
   "version": "3.8.8"
  }
 },
 "nbformat": 4,
 "nbformat_minor": 4
}
