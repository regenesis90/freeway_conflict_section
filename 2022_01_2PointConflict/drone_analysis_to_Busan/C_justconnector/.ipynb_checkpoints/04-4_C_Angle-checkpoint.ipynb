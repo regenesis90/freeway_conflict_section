{
 "cells": [
  {
   "cell_type": "markdown",
   "metadata": {},
   "source": [
    "# imports"
   ]
  },
  {
   "cell_type": "code",
   "execution_count": 46,
   "metadata": {
    "execution": {
     "iopub.execute_input": "2022-05-26T09:56:40.261106Z",
     "iopub.status.busy": "2022-05-26T09:56:40.261106Z",
     "iopub.status.idle": "2022-05-26T09:56:40.281152Z",
     "shell.execute_reply": "2022-05-26T09:56:40.280158Z",
     "shell.execute_reply.started": "2022-05-26T09:56:40.261106Z"
    },
    "tags": []
   },
   "outputs": [],
   "source": [
    "import pandas as pd\n",
    "import numpy as np\n",
    "\n",
    "import os\n",
    "from tqdm import tqdm\n",
    "import warnings\n",
    "\n",
    "import plotly.express as px\n",
    "import plotly.io as po\n",
    "import plotly.graph_objects as go\n",
    "import matplotlib.pyplot as plt\n",
    "\n",
    "from sklearn.linear_model import LinearRegression\n",
    "from sklearn.preprocessing import PolynomialFeatures\n",
    "\n",
    "import sympy #미분\n",
    "import math # arctangent; math.atan 사용 목적\n",
    "import statistics"
   ]
  },
  {
   "cell_type": "markdown",
   "metadata": {},
   "source": [
    "# 차로 공식 추출"
   ]
  },
  {
   "cell_type": "markdown",
   "metadata": {},
   "source": [
    "## Load Datasets"
   ]
  },
  {
   "cell_type": "markdown",
   "metadata": {},
   "source": [
    "### 궤적 데이터 with 차선변경\n",
    "* LOS별로 나누지 않은 데이터로부터 차선 위치를 뽑아야 함"
   ]
  },
  {
   "cell_type": "code",
   "execution_count": 47,
   "metadata": {
    "execution": {
     "iopub.execute_input": "2022-05-26T09:56:40.282150Z",
     "iopub.status.busy": "2022-05-26T09:56:40.282150Z",
     "iopub.status.idle": "2022-05-26T09:56:40.298147Z",
     "shell.execute_reply": "2022-05-26T09:56:40.296157Z",
     "shell.execute_reply.started": "2022-05-26T09:56:40.282150Z"
    }
   },
   "outputs": [],
   "source": [
    "folder_dir = 'D:/OneDrive - 연세대학교 (Yonsei University)/Projects/Yonsei_TELab/003_도로상충_210517-/2차년도_2022/17_드론궤적분석자료_2점분합류_금호JC_부산방향/C_justconnector'"
   ]
  },
  {
   "cell_type": "code",
   "execution_count": 48,
   "metadata": {
    "execution": {
     "iopub.execute_input": "2022-05-26T09:56:40.298147Z",
     "iopub.status.busy": "2022-05-26T09:56:40.298147Z",
     "iopub.status.idle": "2022-05-26T09:56:40.311352Z",
     "shell.execute_reply": "2022-05-26T09:56:40.311352Z",
     "shell.execute_reply.started": "2022-05-26T09:56:40.298147Z"
    },
    "tags": []
   },
   "outputs": [],
   "source": [
    "folder_name = '00_dataset_filtered'\n",
    "\n",
    "file_dir = os.path.join(folder_dir, folder_name)"
   ]
  },
  {
   "cell_type": "code",
   "execution_count": 49,
   "metadata": {
    "execution": {
     "iopub.execute_input": "2022-05-26T09:56:40.312876Z",
     "iopub.status.busy": "2022-05-26T09:56:40.312876Z",
     "iopub.status.idle": "2022-05-26T09:56:40.327721Z",
     "shell.execute_reply": "2022-05-26T09:56:40.326722Z",
     "shell.execute_reply.started": "2022-05-26T09:56:40.312876Z"
    },
    "tags": []
   },
   "outputs": [
    {
     "data": {
      "text/plain": [
       "['02_5.csv', '02_6.csv']"
      ]
     },
     "execution_count": 49,
     "metadata": {},
     "output_type": "execute_result"
    }
   ],
   "source": [
    "file_list = os.listdir(file_dir)\n",
    "file_list[0:3]"
   ]
  },
  {
   "cell_type": "code",
   "execution_count": 50,
   "metadata": {
    "execution": {
     "iopub.execute_input": "2022-05-26T09:56:40.329721Z",
     "iopub.status.busy": "2022-05-26T09:56:40.328720Z",
     "iopub.status.idle": "2022-05-26T09:56:40.605920Z",
     "shell.execute_reply": "2022-05-26T09:56:40.605920Z",
     "shell.execute_reply.started": "2022-05-26T09:56:40.329721Z"
    },
    "tags": []
   },
   "outputs": [],
   "source": [
    "df_list = []\n",
    "num_list = []\n",
    "\n",
    "for file in file_list:\n",
    "    num = file[0:4]\n",
    "    \n",
    "    file_path = os.path.join(file_dir, file)\n",
    "    \n",
    "    globals()[f'target{num}'] = pd.read_csv(file_path, encoding = 'cp949')\n",
    "    \n",
    "    df_list.append(globals()[f'target{num}'])\n",
    "    num_list.append(num)"
   ]
  },
  {
   "cell_type": "markdown",
   "metadata": {},
   "source": [
    "## 각 대상지별 차선의 벡터 정의하기"
   ]
  },
  {
   "cell_type": "code",
   "execution_count": 51,
   "metadata": {
    "execution": {
     "iopub.execute_input": "2022-05-26T09:56:40.607915Z",
     "iopub.status.busy": "2022-05-26T09:56:40.607915Z",
     "iopub.status.idle": "2022-05-26T09:56:40.668582Z",
     "shell.execute_reply": "2022-05-26T09:56:40.668582Z",
     "shell.execute_reply.started": "2022-05-26T09:56:40.607915Z"
    },
    "tags": []
   },
   "outputs": [],
   "source": [
    "for df, num in zip(df_list, num_list):\n",
    "\n",
    "    # 차선별로 N개의 데이터프레임 생성하기\n",
    "    lane_list = df['Lane Identification'].unique()\n",
    "    \n",
    "    for lane in lane_list:\n",
    "        globals()[f'target{num}_{lane}'] = df[df['Lane Identification'] == lane] # 각 대상지, 촬영지점별, 차로별 데이터프레임 생성"
   ]
  },
  {
   "cell_type": "markdown",
   "metadata": {},
   "source": [
    "### 2차함수, 3차함수 그려주는 함수를 정의하기\n",
    "* 참고 사이트 : https://plotly.com/python/ml-regression/"
   ]
  },
  {
   "cell_type": "code",
   "execution_count": 52,
   "metadata": {
    "execution": {
     "iopub.execute_input": "2022-05-26T09:56:40.670547Z",
     "iopub.status.busy": "2022-05-26T09:56:40.670547Z",
     "iopub.status.idle": "2022-05-26T09:56:40.684869Z",
     "shell.execute_reply": "2022-05-26T09:56:40.683857Z",
     "shell.execute_reply.started": "2022-05-26T09:56:40.670547Z"
    },
    "tags": []
   },
   "outputs": [],
   "source": [
    "def format_coefs(coefs):\n",
    "    \n",
    "    equation_list = [f\"{coef}x^{i}\" for i, coef in enumerate(coefs)]\n",
    "    equation = \"$\" +  \" + \".join(equation_list) + \"$\"\n",
    "\n",
    "    replace_map = {\"x^0\": \"\", \"x^1\": \"x\", '+ -': '- '}\n",
    "    \n",
    "    for old, new in replace_map.items():\n",
    "        equation = equation.replace(old, new)\n",
    "\n",
    "    return equation"
   ]
  },
  {
   "cell_type": "markdown",
   "metadata": {},
   "source": [
    "### 각 차선별 대표궤적 뽑아 2차함수로 표현\n",
    "* 차선이동을 하지 않은(Only U2) 경우의 차량ID만 뽑아내기\n",
    "* 차선 벡터 구하기 : 위 점들에 대한 평균 벡터(vector) 또는 근사값인 선형 방정식을 구하기\n",
    "* 각 x좌표에 대응되는 지점의 벡터와, 차량의 벡터 사잇각을 구하기\n",
    "* 이를 html 파일로 plotly 이미지를 저장하기\n",
    "* 식의 경우 pd.dataframe을 이용하여 .csv로 만들어 저장하기"
   ]
  },
  {
   "cell_type": "code",
   "execution_count": 53,
   "metadata": {
    "execution": {
     "iopub.execute_input": "2022-05-26T09:56:40.685856Z",
     "iopub.status.busy": "2022-05-26T09:56:40.685856Z",
     "iopub.status.idle": "2022-05-26T09:56:40.699052Z",
     "shell.execute_reply": "2022-05-26T09:56:40.699052Z",
     "shell.execute_reply.started": "2022-05-26T09:56:40.685856Z"
    },
    "tags": []
   },
   "outputs": [],
   "source": [
    "folder_name = '03-0_lane_identification'\n",
    "\n",
    "lane_equation_dir = os.path.join(folder_dir, folder_name)\n",
    "\n",
    "os.makedirs(lane_equation_dir, exist_ok = True) # 해당 경로가 없을 시 폴더 생성, 존재할 경우 건너뛰기"
   ]
  },
  {
   "cell_type": "code",
   "execution_count": 54,
   "metadata": {
    "execution": {
     "iopub.execute_input": "2022-05-26T09:56:40.700037Z",
     "iopub.status.busy": "2022-05-26T09:56:40.700037Z",
     "iopub.status.idle": "2022-05-26T09:56:40.715732Z",
     "shell.execute_reply": "2022-05-26T09:56:40.714702Z",
     "shell.execute_reply.started": "2022-05-26T09:56:40.700037Z"
    },
    "tags": []
   },
   "outputs": [],
   "source": [
    "equations = pd.DataFrame({'num' : [], 'term0' : [], 'term1' : [], 'term2' : []}) # 각 대상지 촬영지점별, 차로별 방정식을 만들기 위한 것"
   ]
  },
  {
   "cell_type": "code",
   "execution_count": 55,
   "metadata": {
    "execution": {
     "iopub.execute_input": "2022-05-26T09:56:40.716701Z",
     "iopub.status.busy": "2022-05-26T09:56:40.716701Z",
     "iopub.status.idle": "2022-05-26T09:56:43.095780Z",
     "shell.execute_reply": "2022-05-26T09:56:43.095780Z",
     "shell.execute_reply.started": "2022-05-26T09:56:40.716701Z"
    },
    "tags": []
   },
   "outputs": [
    {
     "name": "stderr",
     "output_type": "stream",
     "text": [
      "2it [00:02,  1.18s/it]\n"
     ]
    }
   ],
   "source": [
    "for df, num in tqdm(zip(df_list, num_list)):\n",
    "\n",
    "    X = df['Local X (m)'].values.reshape(-1, 1) \n",
    "        \n",
    "    if len(X) != 0:\n",
    "        x_range = np.linspace(X.min(), X.max(), 100).reshape(-1, 1)\n",
    "            \n",
    "        fig = px.scatter(df, x = 'Local X (m)', y = 'Local Y(m)', opacity = 0.65)\n",
    "            \n",
    "        poly = PolynomialFeatures(2) # 2차식 추세선 긋기\n",
    "        poly.fit(X) # ft 하기\n",
    "            \n",
    "        X_poly = poly.transform(X)\n",
    "        x_range_poly = poly.transform(x_range)\n",
    "\n",
    "        model = LinearRegression(fit_intercept = False)\n",
    "        model.fit(X_poly, df['Local Y(m)'])\n",
    "        y_poly = model.predict(x_range_poly)\n",
    "\n",
    "        equation = format_coefs(model.coef_) # 식의 형태로 model 추세 결과를 나타내기\n",
    "            \n",
    "        term0 = model.coef_[0] # 상수항\n",
    "        term1 = model.coef_[1] # 1차항\n",
    "        term2 = model.coef_[2] # 2차항\n",
    "        \n",
    "        fig.add_traces(go.Scatter(x = x_range.squeeze(), y = y_poly, name = equation))\n",
    "        \n",
    "        save_html_name = f'{num}.html'\n",
    "        save_html_path = os.path.join(lane_equation_dir, save_html_name)\n",
    "        po.write_html(fig, file = save_html_path)\n",
    "            \n",
    "        equations = equations.append({'num' : num, 'term0' : term0, 'term1' : term1, 'term2' : term2}, ignore_index = True)\n",
    "        \n",
    "        # 각 대상지별로 그래프를 그려 저장하기\n",
    "        \n",
    "        \n",
    "    else:\n",
    "        pass\n",
    "\n",
    "save_eqation_name = f'Equation.csv'\n",
    "save_eqation_path = os.path.join(lane_equation_dir, save_eqation_name)\n",
    "equations.to_csv(save_eqation_path, encoding = 'utf-8')"
   ]
  },
  {
   "cell_type": "markdown",
   "metadata": {},
   "source": [
    "# 급앞지르기, 급진로변경\n",
    "* **급앞지르기**\n",
    "    * 속도 30KM/H 이상에서\n",
    "    * 진행방향이 좌/우측 6도/sec 이상으로 차로변경\n",
    "    * 5초 동안 누적각도가 +-2도/sec 이하\n",
    "    * 가속이 초당 3km/h 이상인 경우\n",
    "* **급진로변경**\n",
    "    * 속도가 30km/h 이상에서\n",
    "    * 진행방향이 좌측 또는 우측 6도/sec 이상으로 차로변경하고\n",
    "    * 5초간 누적각도가 +-2도/sec 이하\n",
    "    * 가감속이 초당 +=2km/h이하인 경우\n",
    "* **tan(x)**\n",
    "    * tan6 : `math.tan(math.pi/60)`\n",
    "    * tan(-6) : - 0.5773502691896257\n",
    "    * tan2 : `math.tan(math.pi/180)`\n",
    "    * tan(-2) : -tan2\n",
    "* **과정**\n",
    "    1. 각 대상지, LOS별로 차로변경을 한 차량(Vehicle ID)만 걸러낸다.\n",
    "    2. 각 차량이 어디로(1->2, 2->1, 2->3, 3->2)갔는지 구분하는 컬럼 `to_from`을 만든다.\n",
    "    3. 각 차량의 각도차를 구한다."
   ]
  },
  {
   "cell_type": "markdown",
   "metadata": {},
   "source": [
    "## Load Dataset"
   ]
  },
  {
   "cell_type": "markdown",
   "metadata": {},
   "source": [
    "### Lane Info\n",
    "* 위에서 추출한 차로 공식을 불러오기"
   ]
  },
  {
   "cell_type": "code",
   "execution_count": 56,
   "metadata": {
    "execution": {
     "iopub.execute_input": "2022-05-26T09:56:43.096778Z",
     "iopub.status.busy": "2022-05-26T09:56:43.096778Z",
     "iopub.status.idle": "2022-05-26T09:56:43.111248Z",
     "shell.execute_reply": "2022-05-26T09:56:43.111248Z",
     "shell.execute_reply.started": "2022-05-26T09:56:43.096778Z"
    },
    "tags": []
   },
   "outputs": [],
   "source": [
    "folder_name = '03-0_lane_identification'\n",
    "\n",
    "lane_info_dir = os.path.join(folder_dir, folder_name)\n",
    "\n",
    "lane_info_file = 'Equation.csv'\n",
    "lane_info_path = os.path.join(lane_info_dir, lane_info_file)"
   ]
  },
  {
   "cell_type": "code",
   "execution_count": 57,
   "metadata": {
    "execution": {
     "iopub.execute_input": "2022-05-26T09:56:43.112755Z",
     "iopub.status.busy": "2022-05-26T09:56:43.112755Z",
     "iopub.status.idle": "2022-05-26T09:56:43.126257Z",
     "shell.execute_reply": "2022-05-26T09:56:43.126257Z",
     "shell.execute_reply.started": "2022-05-26T09:56:43.112755Z"
    },
    "tags": []
   },
   "outputs": [
    {
     "data": {
      "text/html": [
       "<div>\n",
       "<style scoped>\n",
       "    .dataframe tbody tr th:only-of-type {\n",
       "        vertical-align: middle;\n",
       "    }\n",
       "\n",
       "    .dataframe tbody tr th {\n",
       "        vertical-align: top;\n",
       "    }\n",
       "\n",
       "    .dataframe thead th {\n",
       "        text-align: right;\n",
       "    }\n",
       "</style>\n",
       "<table border=\"1\" class=\"dataframe\">\n",
       "  <thead>\n",
       "    <tr style=\"text-align: right;\">\n",
       "      <th></th>\n",
       "      <th>Unnamed: 0</th>\n",
       "      <th>num</th>\n",
       "      <th>term0</th>\n",
       "      <th>term1</th>\n",
       "      <th>term2</th>\n",
       "    </tr>\n",
       "  </thead>\n",
       "  <tbody>\n",
       "    <tr>\n",
       "      <th>0</th>\n",
       "      <td>0</td>\n",
       "      <td>02_5</td>\n",
       "      <td>30.281368</td>\n",
       "      <td>-0.113640</td>\n",
       "      <td>0.000649</td>\n",
       "    </tr>\n",
       "    <tr>\n",
       "      <th>1</th>\n",
       "      <td>1</td>\n",
       "      <td>02_6</td>\n",
       "      <td>14.014893</td>\n",
       "      <td>-0.017395</td>\n",
       "      <td>0.000104</td>\n",
       "    </tr>\n",
       "  </tbody>\n",
       "</table>\n",
       "</div>"
      ],
      "text/plain": [
       "   Unnamed: 0   num      term0     term1     term2\n",
       "0           0  02_5  30.281368 -0.113640  0.000649\n",
       "1           1  02_6  14.014893 -0.017395  0.000104"
      ]
     },
     "execution_count": 57,
     "metadata": {},
     "output_type": "execute_result"
    }
   ],
   "source": [
    "lane_info = pd.read_csv(lane_info_path, encoding = 'cp949')\n",
    "\n",
    "lane_info.head()"
   ]
  },
  {
   "cell_type": "markdown",
   "metadata": {},
   "source": [
    "### Drone Data"
   ]
  },
  {
   "cell_type": "code",
   "execution_count": 58,
   "metadata": {
    "execution": {
     "iopub.execute_input": "2022-05-26T09:56:43.128252Z",
     "iopub.status.busy": "2022-05-26T09:56:43.127256Z",
     "iopub.status.idle": "2022-05-26T09:56:43.141773Z",
     "shell.execute_reply": "2022-05-26T09:56:43.141773Z",
     "shell.execute_reply.started": "2022-05-26T09:56:43.127256Z"
    },
    "tags": []
   },
   "outputs": [],
   "source": [
    "folder_name = '01_density_by_target_LOS_concated_lanechange'\n",
    "\n",
    "file_dir = os.path.join(folder_dir, folder_name)"
   ]
  },
  {
   "cell_type": "code",
   "execution_count": 59,
   "metadata": {
    "execution": {
     "iopub.execute_input": "2022-05-26T09:56:43.142770Z",
     "iopub.status.busy": "2022-05-26T09:56:43.142770Z",
     "iopub.status.idle": "2022-05-26T09:56:43.158756Z",
     "shell.execute_reply": "2022-05-26T09:56:43.157758Z",
     "shell.execute_reply.started": "2022-05-26T09:56:43.142770Z"
    },
    "tags": []
   },
   "outputs": [
    {
     "data": {
      "text/plain": [
       "['02_5_A.csv', '02_5_B.csv', '02_5_C.csv']"
      ]
     },
     "execution_count": 59,
     "metadata": {},
     "output_type": "execute_result"
    }
   ],
   "source": [
    "file_list = os.listdir(file_dir)\n",
    "\n",
    "file_list[0:3]"
   ]
  },
  {
   "cell_type": "code",
   "execution_count": 60,
   "metadata": {
    "execution": {
     "iopub.execute_input": "2022-05-26T09:56:43.159754Z",
     "iopub.status.busy": "2022-05-26T09:56:43.159754Z",
     "iopub.status.idle": "2022-05-26T09:56:43.422940Z",
     "shell.execute_reply": "2022-05-26T09:56:43.422940Z",
     "shell.execute_reply.started": "2022-05-26T09:56:43.159754Z"
    },
    "tags": []
   },
   "outputs": [],
   "source": [
    "df_list = []\n",
    "num_LOS_list = []\n",
    "\n",
    "for file in file_list:\n",
    "    num_LOS = file[0:6]\n",
    "    \n",
    "    file_path = os.path.join(file_dir, file)\n",
    "    \n",
    "    globals()[f'target{num_LOS}'] = pd.read_csv(file_path, encoding = 'cp949')\n",
    "    \n",
    "    df_list.append(globals()[f'target{num_LOS}'])\n",
    "    num_LOS_list.append(num_LOS)"
   ]
  },
  {
   "cell_type": "markdown",
   "metadata": {},
   "source": [
    "## 대상지별 x좌표에 따른 미분계수 도출\n",
    "* `lane_info` 인스턴스를 이용, 차로 방정식 로드\n",
    "* `sympy` 패키지를 사용하여 차량궤적을 미분, 미분방정식(각 점에서의 기울기)을 추출\n",
    "    * A(차량) : 각 대상지별, 서비스수준별 차량 데이터에 대하여, 현재 (x,y) 좌표와 다음(x', y') 좌표에 대하여 기울기를 구한다.\n",
    "    * B(차로) : 해당 x좌표에서의 미분값을 구한다.\n",
    "* 각도 A와 B 사잇각을 탄젠트 등을 이용하여 구하고, .csv 파일로 저장한다."
   ]
  },
  {
   "cell_type": "markdown",
   "metadata": {},
   "source": [
    "### 대상지별 미분방정식 도출"
   ]
  },
  {
   "cell_type": "code",
   "execution_count": 61,
   "metadata": {
    "execution": {
     "iopub.execute_input": "2022-05-26T09:56:43.423960Z",
     "iopub.status.busy": "2022-05-26T09:56:43.423960Z",
     "iopub.status.idle": "2022-05-26T09:56:43.438899Z",
     "shell.execute_reply": "2022-05-26T09:56:43.438899Z",
     "shell.execute_reply.started": "2022-05-26T09:56:43.423960Z"
    },
    "tags": []
   },
   "outputs": [],
   "source": [
    "folder_name = '03-1_find_angle'\n",
    "\n",
    "angle_dir = os.path.join(folder_dir, folder_name)\n",
    "\n",
    "os.makedirs(angle_dir, exist_ok = True) # 해당 경로가 없을 시 폴더 생성, 존재할 경우 건너뛰기"
   ]
  },
  {
   "cell_type": "code",
   "execution_count": 62,
   "metadata": {
    "execution": {
     "iopub.execute_input": "2022-05-26T09:56:43.439897Z",
     "iopub.status.busy": "2022-05-26T09:56:43.439897Z",
     "iopub.status.idle": "2022-05-26T09:56:43.454358Z",
     "shell.execute_reply": "2022-05-26T09:56:43.454358Z",
     "shell.execute_reply.started": "2022-05-26T09:56:43.439897Z"
    },
    "tags": []
   },
   "outputs": [],
   "source": [
    "x = sympy.symbols('x') # x를 기준으로 미분한다고 지정"
   ]
  },
  {
   "cell_type": "code",
   "execution_count": 63,
   "metadata": {
    "execution": {
     "iopub.execute_input": "2022-05-26T09:56:43.455357Z",
     "iopub.status.busy": "2022-05-26T09:56:43.455357Z",
     "iopub.status.idle": "2022-05-26T09:56:43.486204Z",
     "shell.execute_reply": "2022-05-26T09:56:43.485203Z",
     "shell.execute_reply.started": "2022-05-26T09:56:43.455357Z"
    },
    "tags": []
   },
   "outputs": [],
   "source": [
    "warnings.filterwarnings(action = 'ignore') # pandas 경고메시지 숨기기\n",
    "\n",
    "lane_info['deriv_x0'] = None\n",
    "lane_info['deriv_x1'] = None\n",
    "\n",
    "for i in range(len(lane_info)):\n",
    "    \n",
    "    term0 = lane_info['term0'].iloc[i]\n",
    "    term1 = lane_info['term1'].iloc[i]\n",
    "    term2 = lane_info['term2'].iloc[i]\n",
    "    \n",
    "    fx = term0 + term1 * x + term2 * x**2 #각 대상지별, 차선별 평균 궤적의 식\n",
    "    \n",
    "    fprime = sympy.Derivative(fx, x).doit() # fx 함수를 x에 대하여 미분\n",
    "    fprime_x = sympy.poly(fprime, [x])\n",
    "    \n",
    "    lane_info['deriv_x0'].iloc[i] = fprime_x.coeffs()[1] # 미분방정식의 상수항\n",
    "    lane_info['deriv_x1'].iloc[i] = fprime_x.coeffs()[0] # 미분방정식의 일차항\n",
    "\n",
    "save_deriv_name = f'derivation.csv'\n",
    "save_deriv_path = os.path.join(angle_dir, save_deriv_name)\n",
    "\n",
    "lane_info.to_csv(save_deriv_path, encoding = 'utf-8')"
   ]
  },
  {
   "cell_type": "markdown",
   "metadata": {},
   "source": [
    "### 차량별 좌표별 이동 벡터 구하기\n",
    "* A : 각 대상지별, 서비스수준별 차량 데이터에 대하여, 현재 (x,y) 좌표와 다음(x', y') 좌표에 대하여 기울기를 구한다."
   ]
  },
  {
   "cell_type": "code",
   "execution_count": 64,
   "metadata": {
    "execution": {
     "iopub.execute_input": "2022-05-26T09:56:43.487169Z",
     "iopub.status.busy": "2022-05-26T09:56:43.487169Z",
     "iopub.status.idle": "2022-05-26T09:56:59.529591Z",
     "shell.execute_reply": "2022-05-26T09:56:59.529591Z",
     "shell.execute_reply.started": "2022-05-26T09:56:43.487169Z"
    },
    "tags": []
   },
   "outputs": [
    {
     "name": "stderr",
     "output_type": "stream",
     "text": [
      "5it [00:16,  3.21s/it]\n"
     ]
    }
   ],
   "source": [
    "warnings.filterwarnings(action = 'ignore') # pandas 경고메시지 숨기기\n",
    "\n",
    "slope_df_list = []\n",
    "\n",
    "for df, num_LOS in tqdm(zip(df_list, num_LOS_list)):\n",
    "    # 차량별 이동 동선을 써야 함\n",
    "    vehicle_list = df['Vehicle ID'].unique()\n",
    "    \n",
    "    slope_df = pd.DataFrame()\n",
    "    \n",
    "    for veh in vehicle_list: # 각 차량별로\n",
    "        veh_df = df[df['Vehicle ID'] == veh]\n",
    "        veh_df['X_next'] = veh_df['Local X (m)'].shift(-1) # 각 차량의 다음 점의 x좌표. 없으면 None이겠지\n",
    "        veh_df['Y_next'] = veh_df['Local Y(m)'].shift(-1) # 각 차량의 다음 점의 Y좌표. 없으면 None이겠지?\n",
    "        \n",
    "        veh_df['slope_veh'] = (veh_df['Y_next'] - veh_df['Local Y(m)'])/(veh_df['X_next'] - veh_df['Local X (m)']) # 각 차량의 벡터\n",
    "        \n",
    "        slope_df = pd.concat([slope_df, veh_df])\n",
    "    \n",
    "    slope_df_list.append(slope_df)\n",
    "    \n",
    "    save_slope_file = f'slope{num_LOS}.csv'\n",
    "    save_slope_path = os.path.join(angle_dir, save_slope_file)\n",
    "    \n",
    "    slope_df.to_csv(save_slope_path, encoding = 'cp949')"
   ]
  },
  {
   "cell_type": "markdown",
   "metadata": {},
   "source": [
    "## 차선변경을 한 차량만 필터링하기\n",
    "* 각 대상지, LOS별로 차로변경을 한 차량(Vehicle ID)만 필터링\n",
    "* 즉, `Lane_change` 컬럼이 `Change`인 차량만 걸러내면 됨"
   ]
  },
  {
   "cell_type": "code",
   "execution_count": 65,
   "metadata": {
    "execution": {
     "iopub.execute_input": "2022-05-26T09:56:59.530600Z",
     "iopub.status.busy": "2022-05-26T09:56:59.530600Z",
     "iopub.status.idle": "2022-05-26T09:56:59.545522Z",
     "shell.execute_reply": "2022-05-26T09:56:59.545522Z",
     "shell.execute_reply.started": "2022-05-26T09:56:59.530600Z"
    },
    "tags": []
   },
   "outputs": [],
   "source": [
    "folder_name = '03-2_lanechange_only_vehicle'\n",
    "\n",
    "lanechange_only_dir = os.path.join(folder_dir, folder_name)\n",
    "\n",
    "os.makedirs(lanechange_only_dir, exist_ok = True) # 해당 경로가 없을 시 폴더 생성, 존재할 경우 건너뛰기"
   ]
  },
  {
   "cell_type": "code",
   "execution_count": 66,
   "metadata": {
    "execution": {
     "iopub.execute_input": "2022-05-26T09:56:59.546520Z",
     "iopub.status.busy": "2022-05-26T09:56:59.546520Z",
     "iopub.status.idle": "2022-05-26T09:57:01.956941Z",
     "shell.execute_reply": "2022-05-26T09:57:01.956941Z",
     "shell.execute_reply.started": "2022-05-26T09:56:59.546520Z"
    },
    "tags": []
   },
   "outputs": [
    {
     "name": "stderr",
     "output_type": "stream",
     "text": [
      "5it [00:02,  2.08it/s]\n"
     ]
    }
   ],
   "source": [
    "lane_change_veh_list = []\n",
    "\n",
    "for slope_df, num_LOS in tqdm(zip(slope_df_list, num_LOS_list)):\n",
    "    \n",
    "    vehicle_list = slope_df['Vehicle ID'].unique()\n",
    "    \n",
    "    lane_change_df = pd.DataFrame() # 빈 데이터프레임: 차선변경을 한 차량 데이터만 저장할 것\n",
    "    \n",
    "    for veh in vehicle_list: # 각 차량(Vehicle ID)별로\n",
    "        \n",
    "        veh_df = slope_df[slope_df['Vehicle ID'] == veh]\n",
    "        Lane_record = veh_df['Lane_record'].iloc[0] # 해당 차량의 차로 이동 경로\n",
    "        \n",
    "        lane_list = veh_df['Lane Identification'].unique() # 해당 차량이 이용한 차로 종류\n",
    "        \n",
    "        if Lane_record not in lane_list: # 차로 이동경로가 2개 차로 이상 포함 시\n",
    "            lane_change_df = pd.concat([lane_change_df, veh_df])\n",
    "        else:\n",
    "            pass\n",
    "        \n",
    "    lanechange_only_file = f'lanechange{num_LOS}.csv'\n",
    "    lanechange_only_path = os.path.join(lanechange_only_dir, lanechange_only_file)\n",
    "    \n",
    "    lane_change_df.to_csv(lanechange_only_path, encoding = 'cp949')\n",
    "        \n",
    "    lane_change_veh_list.append(lane_change_df)"
   ]
  },
  {
   "cell_type": "code",
   "execution_count": 67,
   "metadata": {
    "execution": {
     "iopub.execute_input": "2022-05-26T09:57:01.957910Z",
     "iopub.status.busy": "2022-05-26T09:57:01.957910Z",
     "iopub.status.idle": "2022-05-26T09:57:01.988475Z",
     "shell.execute_reply": "2022-05-26T09:57:01.988475Z",
     "shell.execute_reply.started": "2022-05-26T09:57:01.957910Z"
    },
    "tags": []
   },
   "outputs": [
    {
     "data": {
      "text/html": [
       "<div>\n",
       "<style scoped>\n",
       "    .dataframe tbody tr th:only-of-type {\n",
       "        vertical-align: middle;\n",
       "    }\n",
       "\n",
       "    .dataframe tbody tr th {\n",
       "        vertical-align: top;\n",
       "    }\n",
       "\n",
       "    .dataframe thead th {\n",
       "        text-align: right;\n",
       "    }\n",
       "</style>\n",
       "<table border=\"1\" class=\"dataframe\">\n",
       "  <thead>\n",
       "    <tr style=\"text-align: right;\">\n",
       "      <th></th>\n",
       "      <th>Unnamed: 0</th>\n",
       "      <th>Unnamed: 0.1</th>\n",
       "      <th>Unnamed: 0.1.1</th>\n",
       "      <th>Unnamed: 0.1.1.1</th>\n",
       "      <th>Unnamed: 0.1.1.1.1</th>\n",
       "      <th>Vehicle ID</th>\n",
       "      <th>Frame ID</th>\n",
       "      <th>Total Frames</th>\n",
       "      <th>Global Time (Epoch Time)</th>\n",
       "      <th>Local X (m)</th>\n",
       "      <th>...</th>\n",
       "      <th>Special Car</th>\n",
       "      <th>Lane Class</th>\n",
       "      <th>Vehicle Movement</th>\n",
       "      <th>Lane_record</th>\n",
       "      <th>Lane_00</th>\n",
       "      <th>Lane_99</th>\n",
       "      <th>Lane_change</th>\n",
       "      <th>X_next</th>\n",
       "      <th>Y_next</th>\n",
       "      <th>slope_veh</th>\n",
       "    </tr>\n",
       "  </thead>\n",
       "  <tbody>\n",
       "    <tr>\n",
       "      <th>1</th>\n",
       "      <td>1</td>\n",
       "      <td>1</td>\n",
       "      <td>1685</td>\n",
       "      <td>1708</td>\n",
       "      <td>1708</td>\n",
       "      <td>131</td>\n",
       "      <td>987</td>\n",
       "      <td>182</td>\n",
       "      <td>46832900</td>\n",
       "      <td>120.566444</td>\n",
       "      <td>...</td>\n",
       "      <td>0</td>\n",
       "      <td>상행본선</td>\n",
       "      <td>1.833563</td>\n",
       "      <td>U6_nan_nan</td>\n",
       "      <td>U6</td>\n",
       "      <td>NaN</td>\n",
       "      <td>NaN</td>\n",
       "      <td>122.347130</td>\n",
       "      <td>37.815006</td>\n",
       "      <td>0.099536</td>\n",
       "    </tr>\n",
       "    <tr>\n",
       "      <th>13</th>\n",
       "      <td>9</td>\n",
       "      <td>9</td>\n",
       "      <td>1693</td>\n",
       "      <td>1716</td>\n",
       "      <td>1716</td>\n",
       "      <td>131</td>\n",
       "      <td>990</td>\n",
       "      <td>185</td>\n",
       "      <td>46833000</td>\n",
       "      <td>122.347130</td>\n",
       "      <td>...</td>\n",
       "      <td>0</td>\n",
       "      <td>상행본선</td>\n",
       "      <td>1.789485</td>\n",
       "      <td>U6_nan_nan</td>\n",
       "      <td>U6</td>\n",
       "      <td>NaN</td>\n",
       "      <td>NaN</td>\n",
       "      <td>124.167053</td>\n",
       "      <td>37.989502</td>\n",
       "      <td>0.095881</td>\n",
       "    </tr>\n",
       "    <tr>\n",
       "      <th>17</th>\n",
       "      <td>17</td>\n",
       "      <td>17</td>\n",
       "      <td>1701</td>\n",
       "      <td>1724</td>\n",
       "      <td>1724</td>\n",
       "      <td>131</td>\n",
       "      <td>993</td>\n",
       "      <td>188</td>\n",
       "      <td>46833100</td>\n",
       "      <td>124.167053</td>\n",
       "      <td>...</td>\n",
       "      <td>0</td>\n",
       "      <td>상행본선</td>\n",
       "      <td>1.828270</td>\n",
       "      <td>U6_nan_nan</td>\n",
       "      <td>U6</td>\n",
       "      <td>NaN</td>\n",
       "      <td>NaN</td>\n",
       "      <td>125.982201</td>\n",
       "      <td>38.170982</td>\n",
       "      <td>0.099981</td>\n",
       "    </tr>\n",
       "    <tr>\n",
       "      <th>29</th>\n",
       "      <td>25</td>\n",
       "      <td>25</td>\n",
       "      <td>1709</td>\n",
       "      <td>1732</td>\n",
       "      <td>1732</td>\n",
       "      <td>131</td>\n",
       "      <td>996</td>\n",
       "      <td>191</td>\n",
       "      <td>46833200</td>\n",
       "      <td>125.982201</td>\n",
       "      <td>...</td>\n",
       "      <td>0</td>\n",
       "      <td>상행본선</td>\n",
       "      <td>1.824197</td>\n",
       "      <td>U6_nan_nan</td>\n",
       "      <td>U6</td>\n",
       "      <td>NaN</td>\n",
       "      <td>NaN</td>\n",
       "      <td>127.781952</td>\n",
       "      <td>38.361961</td>\n",
       "      <td>0.106114</td>\n",
       "    </tr>\n",
       "    <tr>\n",
       "      <th>33</th>\n",
       "      <td>33</td>\n",
       "      <td>33</td>\n",
       "      <td>1717</td>\n",
       "      <td>1740</td>\n",
       "      <td>1740</td>\n",
       "      <td>131</td>\n",
       "      <td>999</td>\n",
       "      <td>194</td>\n",
       "      <td>46833300</td>\n",
       "      <td>127.781952</td>\n",
       "      <td>...</td>\n",
       "      <td>0</td>\n",
       "      <td>상행본선</td>\n",
       "      <td>1.809856</td>\n",
       "      <td>U6_nan_nan</td>\n",
       "      <td>U6</td>\n",
       "      <td>NaN</td>\n",
       "      <td>NaN</td>\n",
       "      <td>129.567322</td>\n",
       "      <td>38.553566</td>\n",
       "      <td>0.107319</td>\n",
       "    </tr>\n",
       "  </tbody>\n",
       "</table>\n",
       "<p>5 rows × 32 columns</p>\n",
       "</div>"
      ],
      "text/plain": [
       "    Unnamed: 0  Unnamed: 0.1  Unnamed: 0.1.1  Unnamed: 0.1.1.1  \\\n",
       "1            1             1            1685              1708   \n",
       "13           9             9            1693              1716   \n",
       "17          17            17            1701              1724   \n",
       "29          25            25            1709              1732   \n",
       "33          33            33            1717              1740   \n",
       "\n",
       "    Unnamed: 0.1.1.1.1  Vehicle ID  Frame ID  Total Frames  \\\n",
       "1                 1708         131       987           182   \n",
       "13                1716         131       990           185   \n",
       "17                1724         131       993           188   \n",
       "29                1732         131       996           191   \n",
       "33                1740         131       999           194   \n",
       "\n",
       "    Global Time (Epoch Time)  Local X (m)  ...  Special Car  Lane Class  \\\n",
       "1                   46832900   120.566444  ...            0        상행본선   \n",
       "13                  46833000   122.347130  ...            0        상행본선   \n",
       "17                  46833100   124.167053  ...            0        상행본선   \n",
       "29                  46833200   125.982201  ...            0        상행본선   \n",
       "33                  46833300   127.781952  ...            0        상행본선   \n",
       "\n",
       "    Vehicle Movement  Lane_record  Lane_00  Lane_99 Lane_change      X_next  \\\n",
       "1           1.833563   U6_nan_nan       U6      NaN         NaN  122.347130   \n",
       "13          1.789485   U6_nan_nan       U6      NaN         NaN  124.167053   \n",
       "17          1.828270   U6_nan_nan       U6      NaN         NaN  125.982201   \n",
       "29          1.824197   U6_nan_nan       U6      NaN         NaN  127.781952   \n",
       "33          1.809856   U6_nan_nan       U6      NaN         NaN  129.567322   \n",
       "\n",
       "       Y_next  slope_veh  \n",
       "1   37.815006   0.099536  \n",
       "13  37.989502   0.095881  \n",
       "17  38.170982   0.099981  \n",
       "29  38.361961   0.106114  \n",
       "33  38.553566   0.107319  \n",
       "\n",
       "[5 rows x 32 columns]"
      ]
     },
     "execution_count": 67,
     "metadata": {},
     "output_type": "execute_result"
    }
   ],
   "source": [
    "lane_change_veh_list[0].head()"
   ]
  },
  {
   "cell_type": "markdown",
   "metadata": {},
   "source": [
    "## 판정을 위한 변수 생성\n",
    "* 각 대상지별, 서비스 수준별 차량 x좌표에 따른 차선 미분계수 구하여 사잇각도 구하고 판정\n",
    "* B : 해당 x좌표에서의 미분값을 구한다.\n",
    "* 각도 A와 B 사잇각을 탄젠트 등을 이용하여 구하고, .csv 파일로 저장"
   ]
  },
  {
   "cell_type": "markdown",
   "metadata": {},
   "source": [
    "* **급앞지르기**\n",
    "    * 속도 30KM/H 이상에서\n",
    "    * 진행방향이 좌/우측 6도/sec 이상으로 차로변경하고, \n",
    "    * 5초 동안 누적각도가 +-2도/sec 이하,\n",
    "    * 가속이 초당 3km/h(**0.833333m/s**) 이상인 경우\n",
    "* **급진로변경**\n",
    "    * 속도가 30km/h 이상에서, \n",
    "    * 진행방향이 좌측 또는 우측 6도/sec 이상으로 차로변경하고, \n",
    "    * 5초간 누적각도가 +-2도/sec 이하, \n",
    "    * 가감속이 초당 +=2km/h(**0.555556m/s**)이하인 경우\n",
    "* `tan6` : `math.tan(math.pi/30)`\n",
    "* `tan(-6)` = `-tan6`\n",
    "* **tan6 < S | S < tan(-6) : `overangle`**\n",
    "* 각 차량의 각도차(`tangap`)를 구한다.\n",
    "* 지난 5초간의 누적각도(`cum_angle`)를 구할 시\n",
    "    * **절대값** 사용\n",
    "    * `math.atan(x)` 사용하여 구하기"
   ]
  },
  {
   "cell_type": "markdown",
   "metadata": {},
   "source": [
    "### 필요 함수 정의"
   ]
  },
  {
   "cell_type": "code",
   "execution_count": 68,
   "metadata": {
    "execution": {
     "iopub.execute_input": "2022-05-26T09:57:01.989444Z",
     "iopub.status.busy": "2022-05-26T09:57:01.989444Z",
     "iopub.status.idle": "2022-05-26T09:57:02.004015Z",
     "shell.execute_reply": "2022-05-26T09:57:02.004015Z",
     "shell.execute_reply.started": "2022-05-26T09:57:01.989444Z"
    },
    "tags": []
   },
   "outputs": [],
   "source": [
    "def make_lane_deriv(deriv_x0, deriv_x1, x):\n",
    "    \"\"\"해당 x좌표에서 도로선형의 미분계수(접선의 기울기)를 구하는 함수\"\"\"\n",
    "    \n",
    "    lane_deriv = deriv_x0 + deriv_x1 * x\n",
    "    \n",
    "    return lane_deriv"
   ]
  },
  {
   "cell_type": "code",
   "execution_count": 69,
   "metadata": {
    "execution": {
     "iopub.execute_input": "2022-05-26T09:57:02.007333Z",
     "iopub.status.busy": "2022-05-26T09:57:02.007333Z",
     "iopub.status.idle": "2022-05-26T09:57:02.019292Z",
     "shell.execute_reply": "2022-05-26T09:57:02.019292Z",
     "shell.execute_reply.started": "2022-05-26T09:57:02.007333Z"
    }
   },
   "outputs": [],
   "source": [
    "def make_tangap(lane_deriv, slope_veh):\n",
    "    \"\"\"도로의 기울기 미분계수와 차량의 움직임 벡터(slope_veh)를 사용하여,\n",
    "    매 점에서의 두 벡터간 차이에 의해 발생하는 사잇각의 tangent 값을 구하는 함수\n",
    "    --- tan(A-B) = (tanA - tanB)/(1 + tanA * tanB) 임을 유의 ---\n",
    "    lane_deriv(A) :: 도로의 해당 x좌표에서 접선 기울기(미분계수)\n",
    "    slope_veh(B) :: 해당 차량의 이동 벡터\"\"\"\n",
    "    \n",
    "    tangap = (lane_deriv - slope_veh)/(1 + lane_deriv * slope_veh)\n",
    "    \n",
    "    return tangap"
   ]
  },
  {
   "cell_type": "code",
   "execution_count": 70,
   "metadata": {
    "execution": {
     "iopub.execute_input": "2022-05-26T09:57:02.021259Z",
     "iopub.status.busy": "2022-05-26T09:57:02.021259Z",
     "iopub.status.idle": "2022-05-26T09:57:02.035317Z",
     "shell.execute_reply": "2022-05-26T09:57:02.035317Z",
     "shell.execute_reply.started": "2022-05-26T09:57:02.021259Z"
    },
    "tags": []
   },
   "outputs": [],
   "source": [
    "def make_tangap_rad(tangap):\n",
    "    \"\"\"사잇각의 탄젠트값(tangap)에 arctangent를 적용,\n",
    "    해당 사잇각의 radian값을 얻어내는 함수\"\"\"\n",
    "    \n",
    "    rad_tangap = math.atan(tangap)\n",
    "    \n",
    "    return rad_tangap"
   ]
  },
  {
   "cell_type": "code",
   "execution_count": 71,
   "metadata": {
    "execution": {
     "iopub.execute_input": "2022-05-26T09:57:02.036353Z",
     "iopub.status.busy": "2022-05-26T09:57:02.036353Z",
     "iopub.status.idle": "2022-05-26T09:57:02.050073Z",
     "shell.execute_reply": "2022-05-26T09:57:02.050073Z",
     "shell.execute_reply.started": "2022-05-26T09:57:02.036353Z"
    },
    "tags": []
   },
   "outputs": [],
   "source": [
    "def overangle(rad_tangap):\n",
    "    \"\"\"\n",
    "    좌, 우 6도 이상으로 각도변경했는지(overangle) 판정하는 함수\n",
    "    ---tan6도 = tan(math.pi/30) 임에 유의 ---\n",
    "    ---abs()는 절대값을 반환하는 함수임 ---\n",
    "    \"\"\"\n",
    "    tan_plus_6 = math.tan(math.pi/30) # tan(6도)\n",
    "    tan_minus_6 = (-1) * tan_plus_6 # tan(-6도)\n",
    "    \n",
    "    if rad_tangap >= tan_plus_6 or rad_tangap <= tan_minus_6:\n",
    "        return 'overangle'\n",
    "    else:\n",
    "        pass"
   ]
  },
  {
   "cell_type": "code",
   "execution_count": 72,
   "metadata": {
    "execution": {
     "iopub.execute_input": "2022-05-26T09:57:02.051042Z",
     "iopub.status.busy": "2022-05-26T09:57:02.051042Z",
     "iopub.status.idle": "2022-05-26T09:57:02.065960Z",
     "shell.execute_reply": "2022-05-26T09:57:02.065960Z",
     "shell.execute_reply.started": "2022-05-26T09:57:02.051042Z"
    },
    "tags": []
   },
   "outputs": [],
   "source": [
    "def vehicle_direction(rad_tangap):\n",
    "    \"\"\"\n",
    "    차량이 도로선형에 비해 상대적으로 왼쪽으로 갔는지/오른쪽으로 갔는지 판정해주는 함수\n",
    "    --- tangap > 0 : 차로를 중심으로 오른쪽\n",
    "    --- tangap < 0 : 차로를 중심으로 왼쪽\"\"\"\n",
    "    \n",
    "    if rad_tangap > 0:\n",
    "        return 'right'\n",
    "    elif rad_tangap < 0:\n",
    "        return 'left'\n",
    "    elif rad_tangap == 0:\n",
    "        return 'straight'\n",
    "    else:\n",
    "        pass"
   ]
  },
  {
   "cell_type": "markdown",
   "metadata": {},
   "source": [
    "### 필요 데이터 로드 : 미분계수값"
   ]
  },
  {
   "cell_type": "code",
   "execution_count": 73,
   "metadata": {
    "execution": {
     "iopub.execute_input": "2022-05-26T09:57:02.066926Z",
     "iopub.status.busy": "2022-05-26T09:57:02.066926Z",
     "iopub.status.idle": "2022-05-26T09:57:02.081598Z",
     "shell.execute_reply": "2022-05-26T09:57:02.081598Z",
     "shell.execute_reply.started": "2022-05-26T09:57:02.066926Z"
    },
    "tags": []
   },
   "outputs": [],
   "source": [
    "folder_name = '03-1_find_angle'\n",
    "\n",
    "deriv_info_dir = os.path.join(folder_dir, folder_name)\n",
    "\n",
    "deriv_info_file = 'derivation.csv'\n",
    "\n",
    "deriv_info_path = os.path.join(deriv_info_dir, deriv_info_file)"
   ]
  },
  {
   "cell_type": "code",
   "execution_count": 74,
   "metadata": {
    "execution": {
     "iopub.execute_input": "2022-05-26T09:57:02.083104Z",
     "iopub.status.busy": "2022-05-26T09:57:02.081598Z",
     "iopub.status.idle": "2022-05-26T09:57:02.098682Z",
     "shell.execute_reply": "2022-05-26T09:57:02.097680Z",
     "shell.execute_reply.started": "2022-05-26T09:57:02.081598Z"
    },
    "tags": []
   },
   "outputs": [
    {
     "data": {
      "text/html": [
       "<div>\n",
       "<style scoped>\n",
       "    .dataframe tbody tr th:only-of-type {\n",
       "        vertical-align: middle;\n",
       "    }\n",
       "\n",
       "    .dataframe tbody tr th {\n",
       "        vertical-align: top;\n",
       "    }\n",
       "\n",
       "    .dataframe thead th {\n",
       "        text-align: right;\n",
       "    }\n",
       "</style>\n",
       "<table border=\"1\" class=\"dataframe\">\n",
       "  <thead>\n",
       "    <tr style=\"text-align: right;\">\n",
       "      <th></th>\n",
       "      <th>Unnamed: 0</th>\n",
       "      <th>Unnamed: 0.1</th>\n",
       "      <th>num</th>\n",
       "      <th>term0</th>\n",
       "      <th>term1</th>\n",
       "      <th>term2</th>\n",
       "      <th>deriv_x0</th>\n",
       "      <th>deriv_x1</th>\n",
       "    </tr>\n",
       "  </thead>\n",
       "  <tbody>\n",
       "    <tr>\n",
       "      <th>0</th>\n",
       "      <td>0</td>\n",
       "      <td>0</td>\n",
       "      <td>02_5</td>\n",
       "      <td>30.281368</td>\n",
       "      <td>-0.113640</td>\n",
       "      <td>0.000649</td>\n",
       "      <td>-0.113640</td>\n",
       "      <td>0.001298</td>\n",
       "    </tr>\n",
       "    <tr>\n",
       "      <th>1</th>\n",
       "      <td>1</td>\n",
       "      <td>1</td>\n",
       "      <td>02_6</td>\n",
       "      <td>14.014893</td>\n",
       "      <td>-0.017395</td>\n",
       "      <td>0.000104</td>\n",
       "      <td>-0.017395</td>\n",
       "      <td>0.000208</td>\n",
       "    </tr>\n",
       "  </tbody>\n",
       "</table>\n",
       "</div>"
      ],
      "text/plain": [
       "   Unnamed: 0  Unnamed: 0.1   num      term0     term1     term2  deriv_x0  \\\n",
       "0           0             0  02_5  30.281368 -0.113640  0.000649 -0.113640   \n",
       "1           1             1  02_6  14.014893 -0.017395  0.000104 -0.017395   \n",
       "\n",
       "   deriv_x1  \n",
       "0  0.001298  \n",
       "1  0.000208  "
      ]
     },
     "execution_count": 74,
     "metadata": {},
     "output_type": "execute_result"
    }
   ],
   "source": [
    "deriv_info = pd.read_csv(deriv_info_path, encoding = 'cp949')\n",
    "\n",
    "deriv_info"
   ]
  },
  {
   "cell_type": "markdown",
   "metadata": {},
   "source": [
    "### tan 및 overangle 판정\n",
    "* **차선변경을 한 차량만을 대상으로 해야 한다**\n",
    "* 여러 컬럼을 함수에 적용하기 : `데이터프레임이름[['변수1', '변수2']].apply(lambda x: 함수이름(*x), axis = 1)`"
   ]
  },
  {
   "cell_type": "code",
   "execution_count": 75,
   "metadata": {
    "execution": {
     "iopub.execute_input": "2022-05-26T09:57:02.098682Z",
     "iopub.status.busy": "2022-05-26T09:57:02.098682Z",
     "iopub.status.idle": "2022-05-26T09:57:02.113964Z",
     "shell.execute_reply": "2022-05-26T09:57:02.112963Z",
     "shell.execute_reply.started": "2022-05-26T09:57:02.098682Z"
    },
    "tags": []
   },
   "outputs": [
    {
     "data": {
      "text/plain": [
       "'02_6'"
      ]
     },
     "execution_count": 75,
     "metadata": {},
     "output_type": "execute_result"
    }
   ],
   "source": [
    "num_LOS[0:4]"
   ]
  },
  {
   "cell_type": "code",
   "execution_count": 76,
   "metadata": {
    "execution": {
     "iopub.execute_input": "2022-05-26T09:57:02.115140Z",
     "iopub.status.busy": "2022-05-26T09:57:02.115140Z",
     "iopub.status.idle": "2022-05-26T09:57:02.128581Z",
     "shell.execute_reply": "2022-05-26T09:57:02.127584Z",
     "shell.execute_reply.started": "2022-05-26T09:57:02.115140Z"
    },
    "tags": []
   },
   "outputs": [],
   "source": [
    "folder_name = '03-3_tangent_overangle'\n",
    "\n",
    "tan_df_dir = os.path.join(folder_dir, folder_name)\n",
    "\n",
    "os.makedirs(tan_df_dir, exist_ok = True) # 해당 경로가 없을 시 폴더 생성, 존재할 경우 건너뛰기"
   ]
  },
  {
   "cell_type": "code",
   "execution_count": 77,
   "metadata": {
    "execution": {
     "iopub.execute_input": "2022-05-26T09:57:02.130579Z",
     "iopub.status.busy": "2022-05-26T09:57:02.129581Z",
     "iopub.status.idle": "2022-05-26T09:57:02.144669Z",
     "shell.execute_reply": "2022-05-26T09:57:02.143635Z",
     "shell.execute_reply.started": "2022-05-26T09:57:02.130579Z"
    },
    "tags": []
   },
   "outputs": [
    {
     "data": {
      "text/plain": [
       "Index(['Unnamed: 0', 'Unnamed: 0.1', 'Unnamed: 0.1.1', 'Unnamed: 0.1.1.1',\n",
       "       'Unnamed: 0.1.1.1.1', 'Vehicle ID', 'Frame ID', 'Total Frames',\n",
       "       'Global Time (Epoch Time)', 'Local X (m)', 'Local Y(m)',\n",
       "       'Vehicle Length', 'Vehicle Width', 'Vehicle Class',\n",
       "       'Vehicle Velocity(km/h)', 'Vehicle Acceleration', 'Lane Identification',\n",
       "       'Preceding Vehicle', 'Following Vehicle', 'Spacing Headway',\n",
       "       'Time Headway', 'Bad Object', 'Special Car', 'Lane Class',\n",
       "       'Vehicle Movement', 'Lane_record', 'Lane_00', 'Lane_99', 'Lane_change',\n",
       "       'X_next', 'Y_next', 'slope_veh'],\n",
       "      dtype='object')"
      ]
     },
     "execution_count": 77,
     "metadata": {},
     "output_type": "execute_result"
    }
   ],
   "source": [
    "lane_change_veh_list[0].columns"
   ]
  },
  {
   "cell_type": "code",
   "execution_count": 78,
   "metadata": {
    "execution": {
     "iopub.execute_input": "2022-05-26T09:57:02.146666Z",
     "iopub.status.busy": "2022-05-26T09:57:02.146666Z",
     "iopub.status.idle": "2022-05-26T09:57:02.455268Z",
     "shell.execute_reply": "2022-05-26T09:57:02.455268Z",
     "shell.execute_reply.started": "2022-05-26T09:57:02.146666Z"
    },
    "tags": []
   },
   "outputs": [
    {
     "name": "stderr",
     "output_type": "stream",
     "text": [
      "5it [00:00, 17.26it/s]"
     ]
    },
    {
     "name": "stdout",
     "output_type": "stream",
     "text": [
      "02_5_A has 69 overangle(s).\n",
      "02_5_B has 41 overangle(s).\n",
      "02_5_C has 1 overangle(s).\n",
      "02_6_A has 8 overangle(s).\n"
     ]
    },
    {
     "name": "stderr",
     "output_type": "stream",
     "text": [
      "\n"
     ]
    }
   ],
   "source": [
    "tan_df_list = []\n",
    "\n",
    "for lane_change_df, num_LOS in tqdm(zip(lane_change_veh_list, num_LOS_list)):\n",
    "    \n",
    "    if len(lane_change_df) > 0:\n",
    "        # 먼저, 대상지번호 num을 지정해줘야 한다.\n",
    "        num = num_LOS[0:4]\n",
    "        lane_change_df['num'] = num # 병합의 기준이 될 num 컬럼을 데이터프레임 내부에 생성해줌\n",
    "    \n",
    "        tan_df = pd.merge(\n",
    "            left = lane_change_df,\n",
    "            right = deriv_info, # 미분계수와의 병합을 위함\n",
    "            left_on = 'num',\n",
    "            right_on = 'num'\n",
    "        )\n",
    "    \n",
    "        tan_df['lane_deriv'] = tan_df[['deriv_x0', 'deriv_x1', 'Local X (m)']].apply(lambda x : make_lane_deriv(*x), axis = 1) # 도로선형의 미분계수 생성\n",
    "        tan_df['tangap'] = tan_df[['lane_deriv', 'slope_veh']].apply(lambda x : make_tangap(*x), axis = 1) # 도로선형의 미분계수와 차량벡터 사이 탄젠트값 생성\n",
    "        tan_df['rad_tangap'] = tan_df['tangap'].apply(make_tangap_rad) # tangap 의 라디안 값 생성\n",
    "        tan_df['overangle'] = tan_df['rad_tangap'].apply(overangle) # tangap의 라디안 값을 바탕으로 overangle 판정\n",
    "        tan_df['vehicle_direction'] = tan_df['rad_tangap'].apply(vehicle_direction) # 도로선형을 중심으로 상대적으로 차량이 어느쪽으로 회전중인지 판정\n",
    "        \n",
    "        if len(tan_df[tan_df['overangle'] == 'overangle']) > 0:\n",
    "            print(f'{num_LOS} has {len(tan_df[tan_df[\"overangle\"] == \"overangle\"])} overangle(s).')\n",
    "            \n",
    "            # overangle인 차량만 필터링하기\n",
    "            \n",
    "            veh_overangle = tan_df[tan_df['overangle'] == 'overangle']['Vehicle ID'].unique()\n",
    "\n",
    "            veh_overangle_filter = tan_df['Vehicle ID'].isin(veh_overangle) # overangle 차량만 뽑아내는 필터링\n",
    "            tan_df = tan_df[veh_overangle_filter]\n",
    "            \n",
    "            tan_df_name = f'{num_LOS}.csv'\n",
    "            tan_df_path = os.path.join(tan_df_dir, tan_df_name)\n",
    "    \n",
    "            tan_df.to_csv(tan_df_path, encoding = 'cp949')\n",
    "        \n",
    "        tan_df_list.append(tan_df)\n",
    "    \n",
    "    else:\n",
    "        pass"
   ]
  },
  {
   "cell_type": "markdown",
   "metadata": {},
   "source": [
    "### overangle data Load\n",
    "* overangle 조건을 만족하는 차량들만 다시 데이터 로드"
   ]
  },
  {
   "cell_type": "code",
   "execution_count": 79,
   "metadata": {
    "execution": {
     "iopub.execute_input": "2022-05-26T09:57:02.456241Z",
     "iopub.status.busy": "2022-05-26T09:57:02.456241Z",
     "iopub.status.idle": "2022-05-26T09:57:02.471849Z",
     "shell.execute_reply": "2022-05-26T09:57:02.470852Z",
     "shell.execute_reply.started": "2022-05-26T09:57:02.456241Z"
    }
   },
   "outputs": [],
   "source": [
    "folder_name = '03-3_tangent_overangle'\n",
    "\n",
    "overangle_dir = os.path.join(folder_dir, folder_name)"
   ]
  },
  {
   "cell_type": "code",
   "execution_count": 80,
   "metadata": {
    "execution": {
     "iopub.execute_input": "2022-05-26T09:57:02.472845Z",
     "iopub.status.busy": "2022-05-26T09:57:02.472845Z",
     "iopub.status.idle": "2022-05-26T09:57:02.485823Z",
     "shell.execute_reply": "2022-05-26T09:57:02.485823Z",
     "shell.execute_reply.started": "2022-05-26T09:57:02.472845Z"
    }
   },
   "outputs": [
    {
     "data": {
      "text/plain": [
       "['02_5_A.csv', '02_5_B.csv', '02_5_C.csv']"
      ]
     },
     "execution_count": 80,
     "metadata": {},
     "output_type": "execute_result"
    }
   ],
   "source": [
    "file_list = os.listdir(overangle_dir)\n",
    "\n",
    "file_list[0:3]"
   ]
  },
  {
   "cell_type": "code",
   "execution_count": 81,
   "metadata": {
    "execution": {
     "iopub.execute_input": "2022-05-26T09:57:02.486795Z",
     "iopub.status.busy": "2022-05-26T09:57:02.486795Z",
     "iopub.status.idle": "2022-05-26T09:57:02.533380Z",
     "shell.execute_reply": "2022-05-26T09:57:02.533380Z",
     "shell.execute_reply.started": "2022-05-26T09:57:02.486795Z"
    },
    "tags": []
   },
   "outputs": [],
   "source": [
    "tan_df_list = []\n",
    "num_LOS_list = []\n",
    "\n",
    "for file in file_list:\n",
    "    \n",
    "    file_path = os.path.join(overangle_dir, file)\n",
    "    num_LOS = file[0:6]\n",
    "    \n",
    "    globals()[f'tan_df_{num_LOS}'] = pd.read_csv(file_path, encoding = 'cp949')\n",
    "    \n",
    "    tan_df_list.append(globals()[f'tan_df_{num_LOS}'])\n",
    "    num_LOS_list.append(num_LOS)"
   ]
  },
  {
   "cell_type": "code",
   "execution_count": 82,
   "metadata": {
    "execution": {
     "iopub.execute_input": "2022-05-26T09:57:02.534380Z",
     "iopub.status.busy": "2022-05-26T09:57:02.534380Z",
     "iopub.status.idle": "2022-05-26T09:57:02.549882Z",
     "shell.execute_reply": "2022-05-26T09:57:02.548885Z",
     "shell.execute_reply.started": "2022-05-26T09:57:02.534380Z"
    },
    "tags": []
   },
   "outputs": [
    {
     "data": {
      "text/plain": [
       "(4, 4)"
      ]
     },
     "execution_count": 82,
     "metadata": {},
     "output_type": "execute_result"
    }
   ],
   "source": [
    "len(tan_df_list), len(num_LOS_list)"
   ]
  },
  {
   "cell_type": "markdown",
   "metadata": {},
   "source": [
    "### 시간 변수, 누적 각도 생성\n",
    "* 각 차량의 지난 5초(5 * 프레임레이트만큼의 프레임ID) 간의 누적각도를 구함\n",
    "* 관련 변수들의 계산 : **절대값**이어야 함에 유의\n",
    "    * `rad_tangap_abs` : rad_tangap의 절대값\n",
    "    * `cumsum_rad_abs` : 차량별 \"총\" 누적 각도. rad_tangap 절대값의 합\n",
    "    * `cumsum_rad_abs_final_5s` : 차량별 5초 누적각도. rad_tangap의 최근 5초간의 합\n",
    "    * `cumsum_rad_abs_final_5s_tan` :  `cumsum_rad_5s`를 tan으로 환산한 값"
   ]
  },
  {
   "cell_type": "code",
   "execution_count": 83,
   "metadata": {
    "execution": {
     "iopub.execute_input": "2022-05-26T09:57:02.550882Z",
     "iopub.status.busy": "2022-05-26T09:57:02.550882Z",
     "iopub.status.idle": "2022-05-26T09:57:02.564022Z",
     "shell.execute_reply": "2022-05-26T09:57:02.564022Z",
     "shell.execute_reply.started": "2022-05-26T09:57:02.550882Z"
    },
    "tags": []
   },
   "outputs": [],
   "source": [
    "folder_name = '03-4_cumsum_angle'\n",
    "\n",
    "cumsum_df_dir = os.path.join(folder_dir, folder_name)\n",
    "\n",
    "os.makedirs(cumsum_df_dir, exist_ok = True) # 해당 경로가 없을 시 폴더 생성, 존재할 경우 건너뛰기"
   ]
  },
  {
   "cell_type": "code",
   "execution_count": 84,
   "metadata": {
    "execution": {
     "iopub.execute_input": "2022-05-26T09:57:02.565021Z",
     "iopub.status.busy": "2022-05-26T09:57:02.565021Z",
     "iopub.status.idle": "2022-05-26T09:57:02.580821Z",
     "shell.execute_reply": "2022-05-26T09:57:02.579830Z",
     "shell.execute_reply.started": "2022-05-26T09:57:02.565021Z"
    },
    "tags": []
   },
   "outputs": [],
   "source": [
    "frame_rate = 30 # 초당 프레임 계산 : 3프레임 당 0.1초, 1초당 30프레임임"
   ]
  },
  {
   "cell_type": "code",
   "execution_count": 85,
   "metadata": {
    "execution": {
     "iopub.execute_input": "2022-05-26T09:57:02.580821Z",
     "iopub.status.busy": "2022-05-26T09:57:02.580821Z",
     "iopub.status.idle": "2022-05-26T09:57:03.013566Z",
     "shell.execute_reply": "2022-05-26T09:57:03.013566Z",
     "shell.execute_reply.started": "2022-05-26T09:57:02.580821Z"
    },
    "tags": []
   },
   "outputs": [
    {
     "name": "stderr",
     "output_type": "stream",
     "text": [
      "4it [00:00,  9.69it/s]\n"
     ]
    }
   ],
   "source": [
    "cumsum_df_list = []\n",
    "\n",
    "for tan_df, num_LOS in tqdm(zip(tan_df_list, num_LOS_list)):\n",
    "    # 누적각도인 cumsum_rad는 차량별(Vehicle ID)로 구해야 한다.\n",
    "    \n",
    "    cumsum_df = pd.DataFrame()\n",
    "    \n",
    "    tan_df['rad_tangap_abs'] = tan_df['rad_tangap'].abs() # rad_tangap의 절대값인 rad_tangap_abs 생성\n",
    "    \n",
    "    veh_list = tan_df['Vehicle ID'].unique() # 각 테이블의 차량리스트 생성\n",
    "    \n",
    "    for veh in veh_list:\n",
    "        veh_df = tan_df[tan_df['Vehicle ID'] == veh]\n",
    "        \n",
    "        frame_max = veh_df['Frame ID'].max()\n",
    "        frame_min = veh_df['Frame ID'].min()\n",
    "        \n",
    "        veh_runtime = (frame_max - frame_min)/frame_rate # 각 차량별 총 주행시간을 구함\n",
    "        \n",
    "        # cumsum_rad_abs : 누적각도합(총계) 구하기\n",
    "        veh_df['cumsum_rad_abs'] = veh_df['rad_tangap_abs'].cumsum(skipna = True)\n",
    "        veh_df['cumsum_rad_abs_before_5s'] = veh_df['cumsum_rad_abs'].shift(50) # 5초 = 150프레임만큼 back\n",
    "        \n",
    "        veh_df['cumsum_rad_abs_final_5s'] = veh_df['cumsum_rad_abs'] - veh_df['cumsum_rad_abs_before_5s'] # 5초 누적 값의 라디안 값임\n",
    "        \n",
    "        cumsum_df = pd.concat([cumsum_df, veh_df])\n",
    "    \n",
    "    cumsum_df_list.append(cumsum_df)\n",
    "    \n",
    "    cumsum_df_file = f'{num_LOS}.csv'\n",
    "    cumsum_df_path = os.path.join(cumsum_df_dir, cumsum_df_file)\n",
    "    \n",
    "    cumsum_df.to_csv(cumsum_df_path, encoding = 'cp949')"
   ]
  },
  {
   "cell_type": "markdown",
   "metadata": {},
   "source": [
    "### 판정 함수 설정\n",
    "* `decision` : 급앞지르기(`rapid_passing`), 급진로변경(`rapid_change`) 판정\n",
    "* **급앞지르기**\n",
    "    * 속도 30KM/H 이상에서\n",
    "    * 진행방향이 좌/우측 6도/sec 이상으로 차로변경하고, \n",
    "    * 5초 동안 누적각도가 +-2도/sec 이하,\n",
    "    * 가속이 초당 3km/h(**0.833333m/s**) 이상인 경우\n",
    "* **급진로변경**\n",
    "    * 속도가 30km/h 이상에서, \n",
    "    * 진행방향이 좌측 또는 우측 6도/sec 이상으로 차로변경하고, \n",
    "    * 5초간 누적각도가 +-2도/sec 이하, \n",
    "    * 가감속이 초당 +-2km/h(**0.555556m/s**)이하인 경우"
   ]
  },
  {
   "cell_type": "code",
   "execution_count": 86,
   "metadata": {
    "execution": {
     "iopub.execute_input": "2022-05-26T09:57:03.014700Z",
     "iopub.status.busy": "2022-05-26T09:57:03.014700Z",
     "iopub.status.idle": "2022-05-26T09:57:03.028731Z",
     "shell.execute_reply": "2022-05-26T09:57:03.028731Z",
     "shell.execute_reply.started": "2022-05-26T09:57:03.014700Z"
    },
    "tags": []
   },
   "outputs": [],
   "source": [
    "def decision(velocity, acceleration, cumsum_rad_abs_5s):\n",
    "    if velocity >= 30:\n",
    "        \n",
    "        if cumsum_rad_abs_5s >= 0 and cumsum_rad_abs_5s <= 2:\n",
    "            \n",
    "            if acceleration >= 3 * 1000/3600:\n",
    "                return 'rapid_passing'\n",
    "            \n",
    "            elif acceleration <= 2 and acceleration >= -2:\n",
    "                return 'rapid_change'\n",
    "            \n",
    "            else:\n",
    "                return None\n",
    "        \n",
    "        else:\n",
    "            return None\n",
    "\n",
    "    else:\n",
    "        return None"
   ]
  },
  {
   "cell_type": "markdown",
   "metadata": {},
   "source": [
    "### 판정: 급앞지르기/급진로변경"
   ]
  },
  {
   "cell_type": "code",
   "execution_count": 87,
   "metadata": {
    "execution": {
     "iopub.execute_input": "2022-05-26T09:57:03.030726Z",
     "iopub.status.busy": "2022-05-26T09:57:03.029728Z",
     "iopub.status.idle": "2022-05-26T09:57:03.167437Z",
     "shell.execute_reply": "2022-05-26T09:57:03.167437Z",
     "shell.execute_reply.started": "2022-05-26T09:57:03.030726Z"
    },
    "tags": []
   },
   "outputs": [
    {
     "name": "stderr",
     "output_type": "stream",
     "text": [
      "4it [00:00, 30.70it/s]\n"
     ]
    }
   ],
   "source": [
    "for cumsum_df, num_LOS in tqdm(zip(cumsum_df_list, num_LOS_list)):\n",
    "    \n",
    "    cumsum_df['decision_or'] = cumsum_df[['Vehicle Velocity(km/h)', 'Vehicle Acceleration', 'cumsum_rad_abs']].apply(lambda x :decision(*x), axis = 1)\n",
    "    cumsum_df['decision_5s'] = cumsum_df[['Vehicle Velocity(km/h)', 'Vehicle Acceleration', 'cumsum_rad_abs_final_5s']].apply(lambda x : decision(*x), axis = 1)\n",
    "    \n",
    "    cumsum_df_file = f'{num_LOS}.csv'\n",
    "    cumsum_df_path = os.path.join(cumsum_df_dir, cumsum_df_file)\n",
    "    \n",
    "    cumsum_df.to_csv(cumsum_df_path, encoding = 'cp949')"
   ]
  },
  {
   "cell_type": "markdown",
   "metadata": {},
   "source": [
    "### 피봇하여 저장\n",
    "* 각 대상지별, LOS별로 다음에 대한 차량 대수를 구하도록 한다.\n",
    "    * `Lane_record`"
   ]
  },
  {
   "cell_type": "code",
   "execution_count": 88,
   "metadata": {
    "execution": {
     "iopub.execute_input": "2022-05-26T09:57:03.168407Z",
     "iopub.status.busy": "2022-05-26T09:57:03.168407Z",
     "iopub.status.idle": "2022-05-26T09:57:03.182904Z",
     "shell.execute_reply": "2022-05-26T09:57:03.182904Z",
     "shell.execute_reply.started": "2022-05-26T09:57:03.168407Z"
    },
    "tags": []
   },
   "outputs": [],
   "source": [
    "folder_name = '03-5_decision'\n",
    "\n",
    "save_pv_dir = os.path.join(folder_dir, folder_name)\n",
    "\n",
    "os.makedirs(save_pv_dir, exist_ok = True) # 해당 경로가 없을 시 폴더 생성, 존재할 경우 건너뛰기"
   ]
  },
  {
   "cell_type": "code",
   "execution_count": 89,
   "metadata": {
    "execution": {
     "iopub.execute_input": "2022-05-26T09:57:03.183906Z",
     "iopub.status.busy": "2022-05-26T09:57:03.183906Z",
     "iopub.status.idle": "2022-05-26T09:57:03.199025Z",
     "shell.execute_reply": "2022-05-26T09:57:03.198005Z",
     "shell.execute_reply.started": "2022-05-26T09:57:03.183906Z"
    },
    "tags": []
   },
   "outputs": [],
   "source": [
    "harmonic = lambda x: statistics.harmonic_mean(list(x))\n",
    "harmonic .__name__ = 'harmonic'\n",
    "\n",
    "unq = lambda x: len(x.unique())\n",
    "unq .__name__ = 'unq'"
   ]
  },
  {
   "cell_type": "code",
   "execution_count": 90,
   "metadata": {
    "execution": {
     "iopub.execute_input": "2022-05-26T09:57:03.199025Z",
     "iopub.status.busy": "2022-05-26T09:57:03.199025Z",
     "iopub.status.idle": "2022-05-26T09:57:03.261237Z",
     "shell.execute_reply": "2022-05-26T09:57:03.259231Z",
     "shell.execute_reply.started": "2022-05-26T09:57:03.199025Z"
    },
    "tags": []
   },
   "outputs": [
    {
     "name": "stderr",
     "output_type": "stream",
     "text": [
      "4it [00:00, 85.92it/s]\n"
     ]
    }
   ],
   "source": [
    "for cumsum_df, num_LOS in tqdm(zip(cumsum_df_list, num_LOS_list)):\n",
    "    \n",
    "    pvdf = pd.pivot_table(cumsum_df,\n",
    "                          index = ['Lane_record', 'decision_or', 'decision_5s'],\n",
    "                          values = ['Vehicle ID', 'Vehicle Velocity(km/h)', 'Vehicle Acceleration'],\n",
    "                          aggfunc = {'Vehicle ID': unq,\n",
    "                                     'Vehicle Velocity(km/h)': harmonic,\n",
    "                                     'Vehicle Acceleration': 'mean'})\n",
    "    \n",
    "    if len(pvdf) > 0:\n",
    "        save_pv_name = f'{num_LOS}.csv'\n",
    "        save_pv_path = os.path.join(save_pv_dir, save_pv_name)\n",
    "        \n",
    "        pvdf.to_csv(save_pv_path, encoding = 'cp949')\n",
    "    \n",
    "    else:\n",
    "        pass"
   ]
  }
 ],
 "metadata": {
  "kernelspec": {
   "display_name": "Python 3",
   "language": "python",
   "name": "python3"
  },
  "language_info": {
   "codemirror_mode": {
    "name": "ipython",
    "version": 3
   },
   "file_extension": ".py",
   "mimetype": "text/x-python",
   "name": "python",
   "nbconvert_exporter": "python",
   "pygments_lexer": "ipython3",
   "version": "3.8.8"
  }
 },
 "nbformat": 4,
 "nbformat_minor": 4
}
