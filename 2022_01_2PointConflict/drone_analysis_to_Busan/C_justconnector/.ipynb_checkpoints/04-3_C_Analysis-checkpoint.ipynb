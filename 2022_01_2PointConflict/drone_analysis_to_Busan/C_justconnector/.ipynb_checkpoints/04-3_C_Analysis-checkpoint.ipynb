{
 "cells": [
  {
   "cell_type": "markdown",
   "metadata": {},
   "source": [
    "# Analysis- Basic\n",
    "* 고속도로 기본구간(1번 영상) 분석"
   ]
  },
  {
   "cell_type": "markdown",
   "metadata": {},
   "source": [
    "# Imports"
   ]
  },
  {
   "cell_type": "code",
   "execution_count": 56,
   "metadata": {
    "execution": {
     "iopub.execute_input": "2022-05-26T09:47:46.973785Z",
     "iopub.status.busy": "2022-05-26T09:47:46.973785Z",
     "iopub.status.idle": "2022-05-26T09:47:46.990845Z",
     "shell.execute_reply": "2022-05-26T09:47:46.990845Z",
     "shell.execute_reply.started": "2022-05-26T09:47:46.973785Z"
    },
    "tags": []
   },
   "outputs": [],
   "source": [
    "import pandas as pd\n",
    "import numpy as np\n",
    "\n",
    "import os\n",
    "import warnings\n",
    "from tqdm import tqdm\n",
    "\n",
    "from plotly.subplots import make_subplots\n",
    "import plotly.express as px\n",
    "import plotly.graph_objects as go\n",
    "import plotly.io as po\n",
    "\n",
    "import statistics\n",
    "import math"
   ]
  },
  {
   "cell_type": "markdown",
   "metadata": {},
   "source": [
    "# Analysis\n",
    "* `01_denstiy_by_target_LOS_concated`의 파일을 불러오기\n",
    "* 필요한 분석 데이터들을 추출하여 각각의 파일로 저장하기"
   ]
  },
  {
   "cell_type": "markdown",
   "metadata": {},
   "source": [
    "## Load Dataset"
   ]
  },
  {
   "cell_type": "markdown",
   "metadata": {},
   "source": [
    "### 궤적 데이터"
   ]
  },
  {
   "cell_type": "code",
   "execution_count": 57,
   "metadata": {
    "execution": {
     "iopub.execute_input": "2022-05-26T09:47:46.991842Z",
     "iopub.status.busy": "2022-05-26T09:47:46.991842Z",
     "iopub.status.idle": "2022-05-26T09:47:47.007800Z",
     "shell.execute_reply": "2022-05-26T09:47:47.006801Z",
     "shell.execute_reply.started": "2022-05-26T09:47:46.991842Z"
    }
   },
   "outputs": [],
   "source": [
    "folder_dir = 'D:/OneDrive - 연세대학교 (Yonsei University)/Projects/Yonsei_TELab/003_도로상충_210517-/2차년도_2022/17_드론궤적분석자료_2점분합류_금호JC_부산방향/C_justconnector'"
   ]
  },
  {
   "cell_type": "code",
   "execution_count": 58,
   "metadata": {
    "execution": {
     "iopub.execute_input": "2022-05-26T09:47:47.007800Z",
     "iopub.status.busy": "2022-05-26T09:47:47.007800Z",
     "iopub.status.idle": "2022-05-26T09:47:47.022836Z",
     "shell.execute_reply": "2022-05-26T09:47:47.022836Z",
     "shell.execute_reply.started": "2022-05-26T09:47:47.007800Z"
    },
    "tags": []
   },
   "outputs": [],
   "source": [
    "folder_name = '01_denstiy_by_target_LOS_concated'\n",
    "\n",
    "file_dir = os.path.join(folder_dir, folder_name)"
   ]
  },
  {
   "cell_type": "code",
   "execution_count": 59,
   "metadata": {
    "execution": {
     "iopub.execute_input": "2022-05-26T09:47:47.023804Z",
     "iopub.status.busy": "2022-05-26T09:47:47.023804Z",
     "iopub.status.idle": "2022-05-26T09:47:47.039315Z",
     "shell.execute_reply": "2022-05-26T09:47:47.038310Z",
     "shell.execute_reply.started": "2022-05-26T09:47:47.023804Z"
    },
    "tags": []
   },
   "outputs": [
    {
     "data": {
      "text/plain": [
       "['02_5_A.csv', '02_5_B.csv', '02_5_C.csv']"
      ]
     },
     "execution_count": 59,
     "metadata": {},
     "output_type": "execute_result"
    }
   ],
   "source": [
    "file_list = os.listdir(file_dir)\n",
    "file_list[0:3]"
   ]
  },
  {
   "cell_type": "code",
   "execution_count": 60,
   "metadata": {
    "execution": {
     "iopub.execute_input": "2022-05-26T09:47:47.041358Z",
     "iopub.status.busy": "2022-05-26T09:47:47.041358Z",
     "iopub.status.idle": "2022-05-26T09:47:47.311062Z",
     "shell.execute_reply": "2022-05-26T09:47:47.309021Z",
     "shell.execute_reply.started": "2022-05-26T09:47:47.041358Z"
    },
    "tags": []
   },
   "outputs": [],
   "source": [
    "df_list = []\n",
    "num_LOS_list = []\n",
    "\n",
    "for file in file_list:\n",
    "    num_LOS = file[0:6] # 파일명으로부터 01_2_C 형식의 대상지 번호와 LOS 추출\n",
    "    \n",
    "    file_path = os.path.join(file_dir, file)\n",
    "    \n",
    "    globals()[f'target{num_LOS}'] = pd.read_csv(file_path, encoding = 'cp949')\n",
    "    \n",
    "    df_list.append(globals()[f'target{num_LOS}'])\n",
    "    num_LOS_list.append(num_LOS)"
   ]
  },
  {
   "cell_type": "code",
   "execution_count": 61,
   "metadata": {
    "execution": {
     "iopub.execute_input": "2022-05-26T09:47:47.314049Z",
     "iopub.status.busy": "2022-05-26T09:47:47.313052Z",
     "iopub.status.idle": "2022-05-26T09:47:47.341517Z",
     "shell.execute_reply": "2022-05-26T09:47:47.341517Z",
     "shell.execute_reply.started": "2022-05-26T09:47:47.313052Z"
    },
    "tags": []
   },
   "outputs": [
    {
     "data": {
      "text/html": [
       "<div>\n",
       "<style scoped>\n",
       "    .dataframe tbody tr th:only-of-type {\n",
       "        vertical-align: middle;\n",
       "    }\n",
       "\n",
       "    .dataframe tbody tr th {\n",
       "        vertical-align: top;\n",
       "    }\n",
       "\n",
       "    .dataframe thead th {\n",
       "        text-align: right;\n",
       "    }\n",
       "</style>\n",
       "<table border=\"1\" class=\"dataframe\">\n",
       "  <thead>\n",
       "    <tr style=\"text-align: right;\">\n",
       "      <th></th>\n",
       "      <th>Unnamed: 0</th>\n",
       "      <th>Unnamed: 0.1</th>\n",
       "      <th>Unnamed: 0.1.1</th>\n",
       "      <th>Unnamed: 0.1.1.1</th>\n",
       "      <th>Vehicle ID</th>\n",
       "      <th>Frame ID</th>\n",
       "      <th>Total Frames</th>\n",
       "      <th>Global Time (Epoch Time)</th>\n",
       "      <th>Local X (m)</th>\n",
       "      <th>Local Y(m)</th>\n",
       "      <th>...</th>\n",
       "      <th>Vehicle Acceleration</th>\n",
       "      <th>Lane Identification</th>\n",
       "      <th>Preceding Vehicle</th>\n",
       "      <th>Following Vehicle</th>\n",
       "      <th>Spacing Headway</th>\n",
       "      <th>Time Headway</th>\n",
       "      <th>Bad Object</th>\n",
       "      <th>Special Car</th>\n",
       "      <th>Lane Class</th>\n",
       "      <th>Vehicle Movement</th>\n",
       "    </tr>\n",
       "  </thead>\n",
       "  <tbody>\n",
       "    <tr>\n",
       "      <th>0</th>\n",
       "      <td>0</td>\n",
       "      <td>1684</td>\n",
       "      <td>1707</td>\n",
       "      <td>1707</td>\n",
       "      <td>124</td>\n",
       "      <td>987</td>\n",
       "      <td>212</td>\n",
       "      <td>46832900</td>\n",
       "      <td>141.691315</td>\n",
       "      <td>39.942837</td>\n",
       "      <td>...</td>\n",
       "      <td>-1.808696</td>\n",
       "      <td>U6</td>\n",
       "      <td>0</td>\n",
       "      <td>131</td>\n",
       "      <td>0.000000</td>\n",
       "      <td>0.000000</td>\n",
       "      <td>0</td>\n",
       "      <td>0</td>\n",
       "      <td>상행본선</td>\n",
       "      <td>1.803308</td>\n",
       "    </tr>\n",
       "    <tr>\n",
       "      <th>1</th>\n",
       "      <td>1</td>\n",
       "      <td>1685</td>\n",
       "      <td>1708</td>\n",
       "      <td>1708</td>\n",
       "      <td>131</td>\n",
       "      <td>987</td>\n",
       "      <td>182</td>\n",
       "      <td>46832900</td>\n",
       "      <td>120.566444</td>\n",
       "      <td>37.637764</td>\n",
       "      <td>...</td>\n",
       "      <td>-1.256371</td>\n",
       "      <td>U6</td>\n",
       "      <td>124</td>\n",
       "      <td>143</td>\n",
       "      <td>21.300156</td>\n",
       "      <td>1.161681</td>\n",
       "      <td>0</td>\n",
       "      <td>0</td>\n",
       "      <td>상행본선</td>\n",
       "      <td>1.833563</td>\n",
       "    </tr>\n",
       "    <tr>\n",
       "      <th>2</th>\n",
       "      <td>2</td>\n",
       "      <td>1686</td>\n",
       "      <td>1709</td>\n",
       "      <td>1709</td>\n",
       "      <td>132</td>\n",
       "      <td>987</td>\n",
       "      <td>177</td>\n",
       "      <td>46832900</td>\n",
       "      <td>165.303436</td>\n",
       "      <td>16.578255</td>\n",
       "      <td>...</td>\n",
       "      <td>5.506325</td>\n",
       "      <td>U1</td>\n",
       "      <td>0</td>\n",
       "      <td>0</td>\n",
       "      <td>0.000000</td>\n",
       "      <td>0.000000</td>\n",
       "      <td>0</td>\n",
       "      <td>0</td>\n",
       "      <td>상행본선</td>\n",
       "      <td>2.728161</td>\n",
       "    </tr>\n",
       "  </tbody>\n",
       "</table>\n",
       "<p>3 rows × 24 columns</p>\n",
       "</div>"
      ],
      "text/plain": [
       "   Unnamed: 0  Unnamed: 0.1  Unnamed: 0.1.1  Unnamed: 0.1.1.1  Vehicle ID  \\\n",
       "0           0          1684            1707              1707         124   \n",
       "1           1          1685            1708              1708         131   \n",
       "2           2          1686            1709              1709         132   \n",
       "\n",
       "   Frame ID  Total Frames  Global Time (Epoch Time)  Local X (m)  Local Y(m)  \\\n",
       "0       987           212                  46832900   141.691315   39.942837   \n",
       "1       987           182                  46832900   120.566444   37.637764   \n",
       "2       987           177                  46832900   165.303436   16.578255   \n",
       "\n",
       "   ...  Vehicle Acceleration  Lane Identification  Preceding Vehicle  \\\n",
       "0  ...             -1.808696                   U6                  0   \n",
       "1  ...             -1.256371                   U6                124   \n",
       "2  ...              5.506325                   U1                  0   \n",
       "\n",
       "   Following Vehicle  Spacing Headway Time Headway  Bad Object  Special Car  \\\n",
       "0                131         0.000000     0.000000           0            0   \n",
       "1                143        21.300156     1.161681           0            0   \n",
       "2                  0         0.000000     0.000000           0            0   \n",
       "\n",
       "   Lane Class  Vehicle Movement  \n",
       "0        상행본선          1.803308  \n",
       "1        상행본선          1.833563  \n",
       "2        상행본선          2.728161  \n",
       "\n",
       "[3 rows x 24 columns]"
      ]
     },
     "execution_count": 61,
     "metadata": {},
     "output_type": "execute_result"
    }
   ],
   "source": [
    "df_list[0].head(3)"
   ]
  },
  {
   "cell_type": "markdown",
   "metadata": {},
   "source": [
    "### Load tmsec info\n",
    "* 총 관측시간 데이터 로드"
   ]
  },
  {
   "cell_type": "code",
   "execution_count": 62,
   "metadata": {
    "execution": {
     "iopub.execute_input": "2022-05-26T09:47:47.345509Z",
     "iopub.status.busy": "2022-05-26T09:47:47.344520Z",
     "iopub.status.idle": "2022-05-26T09:47:47.357503Z",
     "shell.execute_reply": "2022-05-26T09:47:47.357503Z",
     "shell.execute_reply.started": "2022-05-26T09:47:47.345509Z"
    },
    "tags": []
   },
   "outputs": [],
   "source": [
    "tmsec_info = pd.read_csv('LOS_tmsec_C_justconnector.csv') # 대상지별, LOS별 동영상 지속시간(tmsec) 정보 불러오기"
   ]
  },
  {
   "cell_type": "code",
   "execution_count": 63,
   "metadata": {
    "execution": {
     "iopub.execute_input": "2022-05-26T09:47:47.358509Z",
     "iopub.status.busy": "2022-05-26T09:47:47.358509Z",
     "iopub.status.idle": "2022-05-26T09:47:47.373461Z",
     "shell.execute_reply": "2022-05-26T09:47:47.373461Z",
     "shell.execute_reply.started": "2022-05-26T09:47:47.358509Z"
    },
    "tags": []
   },
   "outputs": [
    {
     "data": {
      "text/html": [
       "<div>\n",
       "<style scoped>\n",
       "    .dataframe tbody tr th:only-of-type {\n",
       "        vertical-align: middle;\n",
       "    }\n",
       "\n",
       "    .dataframe tbody tr th {\n",
       "        vertical-align: top;\n",
       "    }\n",
       "\n",
       "    .dataframe thead th {\n",
       "        text-align: right;\n",
       "    }\n",
       "</style>\n",
       "<table border=\"1\" class=\"dataframe\">\n",
       "  <thead>\n",
       "    <tr style=\"text-align: right;\">\n",
       "      <th></th>\n",
       "      <th>Unnamed: 0</th>\n",
       "      <th>num</th>\n",
       "      <th>LOS</th>\n",
       "      <th>tmsec</th>\n",
       "    </tr>\n",
       "  </thead>\n",
       "  <tbody>\n",
       "    <tr>\n",
       "      <th>0</th>\n",
       "      <td>0</td>\n",
       "      <td>02_5</td>\n",
       "      <td>A</td>\n",
       "      <td>596.8</td>\n",
       "    </tr>\n",
       "    <tr>\n",
       "      <th>1</th>\n",
       "      <td>1</td>\n",
       "      <td>02_5</td>\n",
       "      <td>B</td>\n",
       "      <td>172.9</td>\n",
       "    </tr>\n",
       "    <tr>\n",
       "      <th>2</th>\n",
       "      <td>2</td>\n",
       "      <td>02_5</td>\n",
       "      <td>C</td>\n",
       "      <td>6.0</td>\n",
       "    </tr>\n",
       "    <tr>\n",
       "      <th>3</th>\n",
       "      <td>3</td>\n",
       "      <td>02_6</td>\n",
       "      <td>A</td>\n",
       "      <td>782.8</td>\n",
       "    </tr>\n",
       "    <tr>\n",
       "      <th>4</th>\n",
       "      <td>4</td>\n",
       "      <td>02_6</td>\n",
       "      <td>B</td>\n",
       "      <td>19.7</td>\n",
       "    </tr>\n",
       "  </tbody>\n",
       "</table>\n",
       "</div>"
      ],
      "text/plain": [
       "   Unnamed: 0   num LOS  tmsec\n",
       "0           0  02_5   A  596.8\n",
       "1           1  02_5   B  172.9\n",
       "2           2  02_5   C    6.0\n",
       "3           3  02_6   A  782.8\n",
       "4           4  02_6   B   19.7"
      ]
     },
     "execution_count": 63,
     "metadata": {},
     "output_type": "execute_result"
    }
   ],
   "source": [
    "tmsec_info.head()"
   ]
  },
  {
   "cell_type": "markdown",
   "metadata": {},
   "source": [
    "## 평균 속도 정보\n",
    "1. 차량(Vehicle ID)별 누적 이동거리(%) 구하기\n",
    "2. 전체 길이를 일정 간격의 구간으로 나누기\n",
    "3. 차선별, 일정 구간별(누적길이%) 속도 히트맵 그리기"
   ]
  },
  {
   "cell_type": "markdown",
   "metadata": {},
   "source": [
    "### 교통류율, 전체 공간평균속도(SMS)\n",
    "* 차선별 총 교통량\n",
    "| lane | flowrate | SMS |\n",
    "|------|--------|-----|\n",
    "| U1   | 200    | 80  |\n",
    "| U2   | 300    | 90  |\n",
    "| U3   | 100    | 80  |"
   ]
  },
  {
   "cell_type": "markdown",
   "metadata": {},
   "source": [
    "### 필요 함수 정의\n",
    "* 공간평균속도는 조화평균(harmonic_mean)을 사용해 구함\n",
    "* 조화평균함수는 `statistics.harmonic_mean()`을 이용할 수 있음"
   ]
  },
  {
   "cell_type": "code",
   "execution_count": 64,
   "metadata": {
    "execution": {
     "iopub.execute_input": "2022-05-26T09:47:47.374429Z",
     "iopub.status.busy": "2022-05-26T09:47:47.374429Z",
     "iopub.status.idle": "2022-05-26T09:47:47.390387Z",
     "shell.execute_reply": "2022-05-26T09:47:47.389390Z",
     "shell.execute_reply.started": "2022-05-26T09:47:47.374429Z"
    },
    "tags": []
   },
   "outputs": [],
   "source": [
    "# 조화평균 함수\n",
    "harmonic = lambda x: statistics.harmonic_mean(list(x))\n",
    "harmonic .__name__ = 'harmonic'"
   ]
  },
  {
   "cell_type": "code",
   "execution_count": 65,
   "metadata": {
    "execution": {
     "iopub.execute_input": "2022-05-26T09:47:47.390387Z",
     "iopub.status.busy": "2022-05-26T09:47:47.390387Z",
     "iopub.status.idle": "2022-05-26T09:47:47.405375Z",
     "shell.execute_reply": "2022-05-26T09:47:47.405375Z",
     "shell.execute_reply.started": "2022-05-26T09:47:47.390387Z"
    },
    "tags": []
   },
   "outputs": [],
   "source": [
    "# 고유값 개수 산정 함수(유니크)\n",
    "unq = lambda x: len(x.unique())\n",
    "unq .__name__ = 'unq'"
   ]
  },
  {
   "cell_type": "code",
   "execution_count": 66,
   "metadata": {
    "execution": {
     "iopub.execute_input": "2022-05-26T09:47:47.406373Z",
     "iopub.status.busy": "2022-05-26T09:47:47.406373Z",
     "iopub.status.idle": "2022-05-26T09:47:47.421313Z",
     "shell.execute_reply": "2022-05-26T09:47:47.421313Z",
     "shell.execute_reply.started": "2022-05-26T09:47:47.406373Z"
    },
    "tags": []
   },
   "outputs": [],
   "source": [
    "def LOS_expwy_basic(x:int):\n",
    "    \"\"\"밀도를 바탕으로 LOS를 판정해 주는 함수 :: 고속도로 연결로 접속부 영향권 용량(유출부 교통량) 기준\"\"\"\n",
    "    \n",
    "    if x >= 0 and x <= 6:\n",
    "        return 'A'\n",
    "    \n",
    "    elif x > 6 and x <= 12:\n",
    "        return 'B'\n",
    "    \n",
    "    elif x > 12 and x <= 17:\n",
    "        return 'C'\n",
    "    \n",
    "    elif x > 17 and x <= 22:\n",
    "        return 'D'\n",
    "    \n",
    "    elif x > 22 and x <= 28: # 사실은 용량을 초과하면 F이다. 이 점 오류 없이 알아두도록 하자\n",
    "        return 'E'\n",
    "    \n",
    "    elif x > 28:\n",
    "        return 'F'\n",
    "    \n",
    "    else:\n",
    "        pass"
   ]
  },
  {
   "cell_type": "markdown",
   "metadata": {},
   "source": [
    "### 전체 차량대수, 공간평균속도, 교통류율 산정 후 저장\n",
    "* 각 대상지별/LOS별 전체 차량대수, 공간평균속도(SMS), 교통류율 구하여 저장하기\n",
    "* `harmonic` 함수 사용 : `harmonic(target1_1_A['Vehicle Velocity(km/h)'])` <- 이런 식으로 쓸 수 있다"
   ]
  },
  {
   "cell_type": "code",
   "execution_count": 67,
   "metadata": {
    "execution": {
     "iopub.execute_input": "2022-05-26T09:47:47.422310Z",
     "iopub.status.busy": "2022-05-26T09:47:47.422310Z",
     "iopub.status.idle": "2022-05-26T09:47:47.437782Z",
     "shell.execute_reply": "2022-05-26T09:47:47.436785Z",
     "shell.execute_reply.started": "2022-05-26T09:47:47.422310Z"
    },
    "tags": []
   },
   "outputs": [
    {
     "data": {
      "text/plain": [
       "Index(['Unnamed: 0', 'Unnamed: 0.1', 'Unnamed: 0.1.1', 'Unnamed: 0.1.1.1',\n",
       "       'Vehicle ID', 'Frame ID', 'Total Frames', 'Global Time (Epoch Time)',\n",
       "       'Local X (m)', 'Local Y(m)', 'Vehicle Length', 'Vehicle Width',\n",
       "       'Vehicle Class', 'Vehicle Velocity(km/h)', 'Vehicle Acceleration',\n",
       "       'Lane Identification', 'Preceding Vehicle', 'Following Vehicle',\n",
       "       'Spacing Headway', 'Time Headway', 'Bad Object', 'Special Car',\n",
       "       'Lane Class', 'Vehicle Movement'],\n",
       "      dtype='object')"
      ]
     },
     "execution_count": 67,
     "metadata": {},
     "output_type": "execute_result"
    }
   ],
   "source": [
    "df_list[0].columns"
   ]
  },
  {
   "cell_type": "code",
   "execution_count": 68,
   "metadata": {
    "execution": {
     "iopub.execute_input": "2022-05-26T09:47:47.438779Z",
     "iopub.status.busy": "2022-05-26T09:47:47.437782Z",
     "iopub.status.idle": "2022-05-26T09:47:47.451745Z",
     "shell.execute_reply": "2022-05-26T09:47:47.451745Z",
     "shell.execute_reply.started": "2022-05-26T09:47:47.438779Z"
    },
    "tags": []
   },
   "outputs": [],
   "source": [
    "folder_name = '02-0_total_volume_speed'\n",
    "\n",
    "save_TTL_dir = os.path.join(folder_dir, folder_name)\n",
    "\n",
    "os.makedirs(save_TTL_dir, exist_ok = True) # 해당 경로가 없을 시 폴더 생성, 존재할 경우 건너뛰기"
   ]
  },
  {
   "cell_type": "code",
   "execution_count": 69,
   "metadata": {
    "execution": {
     "iopub.execute_input": "2022-05-26T09:47:47.452743Z",
     "iopub.status.busy": "2022-05-26T09:47:47.452743Z",
     "iopub.status.idle": "2022-05-26T09:47:48.106790Z",
     "shell.execute_reply": "2022-05-26T09:47:48.106790Z",
     "shell.execute_reply.started": "2022-05-26T09:47:47.452743Z"
    },
    "tags": []
   },
   "outputs": [
    {
     "name": "stderr",
     "output_type": "stream",
     "text": [
      "6it [00:00,  9.34it/s]\n"
     ]
    }
   ],
   "source": [
    "for df, num_LOS in tqdm(zip(df_list, num_LOS_list)):\n",
    "    \n",
    "    if len(df) > 0:\n",
    "    \n",
    "        total_veh = len(df['Vehicle ID'].unique()) # 총 차량대수\n",
    "        total_SMS = harmonic(df['Vehicle Velocity(km/h)']) #차량의 공간평균속도(SMS)\n",
    "    \n",
    "        tmsec = tmsec_info[(tmsec_info['num'] == num_LOS[0:4]) & (tmsec_info['LOS'] == num_LOS[-1])]['tmsec'].iloc[0] # 해당 대상지, 해당 LOS 총관측시간 추출\n",
    "    \n",
    "        # 프레임 당 차량밀도의 전체평균 구하기\n",
    "        total_pv = pd.pivot_table(df, index = 'Frame ID', values = 'Vehicle ID', aggfunc = {'Vehicle ID': unq}).reset_index()\n",
    "        veh_by_frame = total_pv['Vehicle ID'].mean() #전체 프레임에 대한 평균이므로 mean을 사용한 것임\n",
    "\n",
    "        # 전체 평균 교통류율(flowrate, vph) 구하기\n",
    "        total_flowrate = total_veh/tmsec * 3600 # tmsec은 초 단위이므로, 시(h, 3600s) 단위로 변경해야 하기 때문임\n",
    "    \n",
    "        total_df = pd.DataFrame(data = {'Total Vehicle Count(veh)': [total_veh],\n",
    "                                        'Average SMS(km/h)': [total_SMS],\n",
    "                                        'Average Flowrate(vph)': [total_flowrate],\n",
    "                                        'Average Vehicle by Frame(veh/frameID)':[veh_by_frame],\n",
    "                                        'Average LOS' : num_LOS[-1],\n",
    "                                        'Total Observation Time(s)': [tmsec]})\n",
    "    \n",
    "        save_TTL_file = f'total_volume_SMS_{num_LOS}.csv'\n",
    "        save_TTL_path = os.path.join(save_TTL_dir, save_TTL_file)\n",
    "    \n",
    "        total_df.to_csv(save_TTL_path, encoding = 'cp949')\n",
    "    \n",
    "    else:\n",
    "        pass"
   ]
  },
  {
   "cell_type": "markdown",
   "metadata": {},
   "source": [
    "## 차선별 속도 정보"
   ]
  },
  {
   "cell_type": "markdown",
   "metadata": {},
   "source": [
    "### 차선변경 여부 표시 파생변수 생성 및 저장"
   ]
  },
  {
   "cell_type": "code",
   "execution_count": 70,
   "metadata": {
    "execution": {
     "iopub.execute_input": "2022-05-26T09:47:48.107759Z",
     "iopub.status.busy": "2022-05-26T09:47:48.107759Z",
     "iopub.status.idle": "2022-05-26T09:47:48.122411Z",
     "shell.execute_reply": "2022-05-26T09:47:48.122411Z",
     "shell.execute_reply.started": "2022-05-26T09:47:48.107759Z"
    },
    "tags": []
   },
   "outputs": [
    {
     "data": {
      "text/plain": [
       "Index(['Unnamed: 0'], dtype='object')"
      ]
     },
     "execution_count": 70,
     "metadata": {},
     "output_type": "execute_result"
    }
   ],
   "source": [
    "df.columns"
   ]
  },
  {
   "cell_type": "code",
   "execution_count": 71,
   "metadata": {
    "execution": {
     "iopub.execute_input": "2022-05-26T09:47:48.123414Z",
     "iopub.status.busy": "2022-05-26T09:47:48.123414Z",
     "iopub.status.idle": "2022-05-26T09:47:48.138560Z",
     "shell.execute_reply": "2022-05-26T09:47:48.137568Z",
     "shell.execute_reply.started": "2022-05-26T09:47:48.123414Z"
    },
    "tags": []
   },
   "outputs": [],
   "source": [
    "folder_name = '01_density_by_target_LOS_concated_lanechange'\n",
    "\n",
    "save_Lanechange_dir = os.path.join(folder_dir, folder_name)\n",
    "\n",
    "os.makedirs(save_Lanechange_dir, exist_ok = True) # 해당 경로가 없을 시 폴더 생성, 존재할 경우 건너뛰기"
   ]
  },
  {
   "cell_type": "code",
   "execution_count": 72,
   "metadata": {
    "execution": {
     "iopub.execute_input": "2022-05-26T09:47:48.139519Z",
     "iopub.status.busy": "2022-05-26T09:47:48.138560Z",
     "iopub.status.idle": "2022-05-26T09:55:27.653122Z",
     "shell.execute_reply": "2022-05-26T09:55:27.653122Z",
     "shell.execute_reply.started": "2022-05-26T09:47:48.139519Z"
    },
    "tags": []
   },
   "outputs": [
    {
     "name": "stderr",
     "output_type": "stream",
     "text": [
      "6it [07:39, 76.58s/it] \n"
     ]
    }
   ],
   "source": [
    "warnings.filterwarnings(action = 'ignore') # pandas 경고메시지 숨기기\n",
    "\n",
    "for df, num_LOS in tqdm(zip(df_list, num_LOS_list)):\n",
    "\n",
    "    df['Lane_record'] = None # 차량의 차로변경기록\n",
    "    df['Lane_00'] = None # 차량의 첫 차로\n",
    "    df['Lane_99'] = None # 차량의 마지막 차로\n",
    "    df['Lane_change'] = None # 차량이 차로변경을 했을 시 'Change' 기록\n",
    "    \n",
    "    if len(df) > 0:\n",
    "\n",
    "        veh_list = df['Vehicle ID'].unique() # 차량 리스트 뽑기\n",
    "    \n",
    "        df = df.sort_values(by = 'Frame ID') # 데이터프레임을 Frame ID에 따라서 오름차순 정렬\n",
    "    \n",
    "        for veh in veh_list: # 각 차량별로\n",
    "            Lane_00 = df[df['Vehicle ID'] == veh]['Lane Identification'].iloc[0] # 차량이 처음 진행하던 차로\n",
    "            Lane_99 = df[df['Vehicle ID'] == veh]['Lane Identification'].iloc[-1] # 차량이 마지막 진행하던 차로\n",
    "        \n",
    "            veh_frame_list = df[df['Vehicle ID'] == veh]['Frame ID'].unique() # 해당 차량이 주행하는 동안의 프레임 리스트\n",
    "        \n",
    "            Lane_past = Lane_00 # Lane_past(각 차량 현재차로)를 초기화\n",
    "            Lane_record = Lane_00 # 차로변경기록 초기화\n",
    "            Lane_present = Lane_00 # 현재차로 초기화\n",
    "        \n",
    "            for frm in veh_frame_list : # 각 차량의 각 프레임별로\n",
    "            \n",
    "                Lane_past = Lane_present # iteration 돌기 전의 현재차로가 과거차로로 할당\n",
    "            \n",
    "                Lane_present = df[(df['Vehicle ID'] == veh) & (df['Frame ID'] == frm)]['Lane Identification'].iloc[0] # 현재 차량이 속한 차로를 할당\n",
    "            \n",
    "                if Lane_past == Lane_present: # 현재차로와 직전차로가 같으면 아무 문제 없음\n",
    "                    pass\n",
    "            \n",
    "                else: # 현재차로와 직전 차로가 다를 시\n",
    "                    idx = df[(df['Vehicle ID'] == veh) & (df['Frame ID'] == frm)]['Lane_change'].index[0] # 차로변경된 행의 인덱스\n",
    "                    df.at[idx, 'Lane_change'] = 'Change' # 차로변경되자마자 셀에 'Change' 표시\n",
    "                    Lane_record = str(Lane_record) + '_' + str(Lane_present)\n",
    "               \n",
    "            df.loc[df['Vehicle ID'] == veh, 'Lane_00'] = Lane_00 # 차량별 초기 차로번호\n",
    "            df.loc[df['Vehicle ID'] == veh, 'Lane_99'] = Lane_99 # 차량별 마지막 차로번호\n",
    "            df.loc[df['Vehicle ID'] == veh, 'Lane_record'] = Lane_record # 차량별 차로변경 기록 입력\n",
    "            \n",
    "            save_Lanechange_name = num_LOS + '.csv'\n",
    "            save_Lanechange_path = os.path.join(save_Lanechange_dir, save_Lanechange_name)\n",
    "            \n",
    "            df.to_csv(save_Lanechange_path, encoding = 'cp949')\n",
    "            \n",
    "    else:\n",
    "        pass\n",
    "    \n",
    "#warnings.filterwarnings(action = 'default') # pandas 경고메시지 다시 보이기"
   ]
  },
  {
   "cell_type": "markdown",
   "metadata": {},
   "source": [
    "### 궤적 데이터 재로드"
   ]
  },
  {
   "cell_type": "code",
   "execution_count": 73,
   "metadata": {
    "execution": {
     "iopub.execute_input": "2022-05-26T09:55:27.654595Z",
     "iopub.status.busy": "2022-05-26T09:55:27.653122Z",
     "iopub.status.idle": "2022-05-26T09:55:27.668230Z",
     "shell.execute_reply": "2022-05-26T09:55:27.668230Z",
     "shell.execute_reply.started": "2022-05-26T09:55:27.654595Z"
    }
   },
   "outputs": [],
   "source": [
    "folder_name = '01_density_by_target_LOS_concated_lanechange'\n",
    "\n",
    "file_dir = os.path.join(folder_dir, folder_name)"
   ]
  },
  {
   "cell_type": "code",
   "execution_count": 74,
   "metadata": {
    "execution": {
     "iopub.execute_input": "2022-05-26T09:55:27.669226Z",
     "iopub.status.busy": "2022-05-26T09:55:27.669226Z",
     "iopub.status.idle": "2022-05-26T09:55:27.685097Z",
     "shell.execute_reply": "2022-05-26T09:55:27.684262Z",
     "shell.execute_reply.started": "2022-05-26T09:55:27.669226Z"
    },
    "tags": []
   },
   "outputs": [
    {
     "data": {
      "text/plain": [
       "['02_5_A.csv', '02_5_B.csv', '02_5_C.csv']"
      ]
     },
     "execution_count": 74,
     "metadata": {},
     "output_type": "execute_result"
    }
   ],
   "source": [
    "file_list = os.listdir(file_dir)\n",
    "file_list[0:3]"
   ]
  },
  {
   "cell_type": "code",
   "execution_count": 75,
   "metadata": {
    "execution": {
     "iopub.execute_input": "2022-05-26T09:55:27.685097Z",
     "iopub.status.busy": "2022-05-26T09:55:27.685097Z",
     "iopub.status.idle": "2022-05-26T09:55:28.023866Z",
     "shell.execute_reply": "2022-05-26T09:55:28.023866Z",
     "shell.execute_reply.started": "2022-05-26T09:55:27.685097Z"
    },
    "tags": []
   },
   "outputs": [],
   "source": [
    "df_list = []\n",
    "num_LOS_list = []\n",
    "\n",
    "for file in file_list:\n",
    "    num_LOS = file[0:6]\n",
    "    \n",
    "    file_path = os.path.join(file_dir, file)\n",
    "    \n",
    "    globals()[f'target{num_LOS}'] = pd.read_csv(file_path, encoding = 'cp949')\n",
    "    \n",
    "    df_list.append(globals()[f'target{num_LOS}'])\n",
    "    num_LOS_list.append(num_LOS)"
   ]
  },
  {
   "cell_type": "markdown",
   "metadata": {
    "execution": {
     "iopub.execute_input": "2021-08-11T09:59:18.188789Z",
     "iopub.status.busy": "2021-08-11T09:59:18.187792Z",
     "iopub.status.idle": "2021-08-11T09:59:18.201755Z",
     "shell.execute_reply": "2021-08-11T09:59:18.200798Z",
     "shell.execute_reply.started": "2021-08-11T09:59:18.188789Z"
    },
    "tags": []
   },
   "source": [
    "### 차선별 교통량, SMS 산정 후 저장\n",
    "* 차선별 교통량(차량대수)의 산정 기준\n",
    "    * 시점부 : 끝 지점\n",
    "    * 종점부1,2는 각 시작지점"
   ]
  },
  {
   "cell_type": "code",
   "execution_count": 76,
   "metadata": {
    "execution": {
     "iopub.execute_input": "2022-05-26T09:55:28.025328Z",
     "iopub.status.busy": "2022-05-26T09:55:28.025328Z",
     "iopub.status.idle": "2022-05-26T09:55:28.039384Z",
     "shell.execute_reply": "2022-05-26T09:55:28.039384Z",
     "shell.execute_reply.started": "2022-05-26T09:55:28.025328Z"
    },
    "tags": []
   },
   "outputs": [],
   "source": [
    "folder_name = '02-1_Each_Lane_volume_speed'\n",
    "\n",
    "save_EachLaneVolume_dir = os.path.join(folder_dir, folder_name)\n",
    "\n",
    "os.makedirs(save_EachLaneVolume_dir, exist_ok = True) # 해당 경로가 없을 시 폴더 생성, 존재할 경우 건너뛰기"
   ]
  },
  {
   "cell_type": "code",
   "execution_count": 77,
   "metadata": {
    "execution": {
     "iopub.execute_input": "2022-05-26T09:55:28.040353Z",
     "iopub.status.busy": "2022-05-26T09:55:28.040353Z",
     "iopub.status.idle": "2022-05-26T09:55:28.211165Z",
     "shell.execute_reply": "2022-05-26T09:55:28.210172Z",
     "shell.execute_reply.started": "2022-05-26T09:55:28.040353Z"
    },
    "tags": []
   },
   "outputs": [
    {
     "name": "stderr",
     "output_type": "stream",
     "text": [
      "5it [00:00, 31.39it/s]\n"
     ]
    }
   ],
   "source": [
    "for df, num_LOS in tqdm(zip(df_list, num_LOS_list)):\n",
    "    \n",
    "    tmsec = tmsec_info[(tmsec_info['num'] == num_LOS[0:4]) & (tmsec_info['LOS'] == num_LOS[-1])]['tmsec'].iloc[0]\n",
    "    \n",
    "    # 시점부, 종점부를 구분하기 : spot == 1이면 시점부, 종점부는 그 외로 간주\n",
    "    point = num_LOS[3]\n",
    "    \n",
    "    if point == 1 : # 시점부이면, 끝시점 차로(Lane_99) 기준 산정\n",
    "        pv_veh = pd.pivot_table(df,\n",
    "                                index = ['Lane_99'],\n",
    "                                values = ['Vehicle ID', 'Vehicle Velocity(km/h)'],\n",
    "                                aggfunc = {'Vehicle ID': unq, 'Vehicle Velocity(km/h)': harmonic})\n",
    "        \n",
    "    else : # 종점부이면, 첫차로(Lane_00) 기준 산정\n",
    "        pv_veh = pd.pivot_table(df, index = ['Lane_00'],\n",
    "                                values = ['Vehicle ID', 'Vehicle Velocity(km/h)'],\n",
    "                                aggfunc = {'Vehicle ID': unq, 'Vehicle Velocity(km/h)': harmonic})\n",
    "    \n",
    "    pv_veh.reset_index(inplace = True)\n",
    "        \n",
    "    pv_veh['Flow Rate(vph)'] = pv_veh['Vehicle ID'] * 3600/tmsec\n",
    "    \n",
    "    save_EachLaneVolume_file = f'EachLaneVolume{num_LOS}.csv'\n",
    "    save_EachLaneVolume_path = os.path.join(save_EachLaneVolume_dir, save_EachLaneVolume_file)\n",
    "    \n",
    "    pv_veh.to_csv(save_EachLaneVolume_path, encoding = 'cp949')"
   ]
  },
  {
   "cell_type": "markdown",
   "metadata": {},
   "source": [
    "### 차선변경 차량의 교통량 및 SMS 산정, 저장"
   ]
  },
  {
   "cell_type": "code",
   "execution_count": 78,
   "metadata": {
    "execution": {
     "iopub.execute_input": "2022-05-26T09:55:28.213157Z",
     "iopub.status.busy": "2022-05-26T09:55:28.213157Z",
     "iopub.status.idle": "2022-05-26T09:55:28.226685Z",
     "shell.execute_reply": "2022-05-26T09:55:28.225690Z",
     "shell.execute_reply.started": "2022-05-26T09:55:28.213157Z"
    },
    "tags": []
   },
   "outputs": [],
   "source": [
    "folder_name = '02-2_Lanechange_volume_speed'\n",
    "\n",
    "save_LaneChangeVolume_dir = os.path.join(folder_dir, folder_name)\n",
    "\n",
    "os.makedirs(save_LaneChangeVolume_dir, exist_ok = True) # 해당 경로가 없을 시 폴더 생성, 존재할 경우 건너뛰기"
   ]
  },
  {
   "cell_type": "code",
   "execution_count": 79,
   "metadata": {
    "execution": {
     "iopub.execute_input": "2022-05-26T09:55:28.230682Z",
     "iopub.status.busy": "2022-05-26T09:55:28.230682Z",
     "iopub.status.idle": "2022-05-26T09:55:28.383786Z",
     "shell.execute_reply": "2022-05-26T09:55:28.383786Z",
     "shell.execute_reply.started": "2022-05-26T09:55:28.230682Z"
    },
    "tags": []
   },
   "outputs": [
    {
     "name": "stderr",
     "output_type": "stream",
     "text": [
      "5it [00:00, 35.04it/s]\n"
     ]
    }
   ],
   "source": [
    "for df, num_LOS in tqdm(zip(df_list, num_LOS_list)):\n",
    "    \n",
    "    tmsec = tmsec_info[(tmsec_info['num'] == num_LOS[0:4]) & (tmsec_info['LOS'] == num_LOS[-1])]['tmsec'].iloc[0]\n",
    "    \n",
    "    pv_veh = pd.pivot_table(df, index = ['Lane_record'], values = ['Vehicle ID', 'Vehicle Velocity(km/h)'],\n",
    "                            aggfunc = {'Vehicle ID': unq, 'Vehicle Velocity(km/h)': harmonic})\n",
    "    pv_veh.reset_index(inplace = True)\n",
    "        \n",
    "    pv_veh['flow_rate(vph)'] = pv_veh['Vehicle ID'] * 3600/tmsec\n",
    "    \n",
    "    save_LaneChangeVolume_file = f'LaneChangeVolume{num_LOS}.csv'\n",
    "    save_LaneChangeVolume_path = os.path.join(save_LaneChangeVolume_dir, save_LaneChangeVolume_file)\n",
    "    \n",
    "    pv_veh.to_csv(save_LaneChangeVolume_path, encoding = 'cp949')"
   ]
  },
  {
   "cell_type": "markdown",
   "metadata": {},
   "source": [
    "## 과속(overspeed)\n",
    "> **과속** : 도로 제한속도보다 20km/h 초과 운행한 경우\n",
    "* 차량의 영상 내 구간 평균속도 산정\n",
    "    * index는 `Lane Identification, Vehicle ID`\n",
    "    * value는 `Vehicle Velocity(km/h)`\n",
    "    * 함수는 그냥 평균\n",
    "* 과속 여부 판정 파생변수 생성하기 : `overspeed`\n",
    "* `Lane Identification` 별로 pivot_table 하기 : `overspeed` 만 필터링하여 값의 수를 세기"
   ]
  },
  {
   "cell_type": "markdown",
   "metadata": {},
   "source": [
    "### 대상지 정보 로드"
   ]
  },
  {
   "cell_type": "code",
   "execution_count": 80,
   "metadata": {
    "execution": {
     "iopub.execute_input": "2022-05-26T09:55:28.384956Z",
     "iopub.status.busy": "2022-05-26T09:55:28.384956Z",
     "iopub.status.idle": "2022-05-26T09:55:28.400553Z",
     "shell.execute_reply": "2022-05-26T09:55:28.399709Z",
     "shell.execute_reply.started": "2022-05-26T09:55:28.384956Z"
    },
    "tags": []
   },
   "outputs": [],
   "source": [
    "target_info_dir = 'target_info_C_justconnector.csv'"
   ]
  },
  {
   "cell_type": "code",
   "execution_count": 81,
   "metadata": {
    "execution": {
     "iopub.execute_input": "2022-05-26T09:55:28.400553Z",
     "iopub.status.busy": "2022-05-26T09:55:28.400553Z",
     "iopub.status.idle": "2022-05-26T09:55:28.415600Z",
     "shell.execute_reply": "2022-05-26T09:55:28.415600Z",
     "shell.execute_reply.started": "2022-05-26T09:55:28.400553Z"
    },
    "tags": []
   },
   "outputs": [],
   "source": [
    "target_info = pd.read_csv(target_info_dir, encoding = 'utf-8')"
   ]
  },
  {
   "cell_type": "code",
   "execution_count": 82,
   "metadata": {
    "execution": {
     "iopub.execute_input": "2022-05-26T09:55:28.416575Z",
     "iopub.status.busy": "2022-05-26T09:55:28.416575Z",
     "iopub.status.idle": "2022-05-26T09:55:28.430854Z",
     "shell.execute_reply": "2022-05-26T09:55:28.430854Z",
     "shell.execute_reply.started": "2022-05-26T09:55:28.416575Z"
    },
    "tags": []
   },
   "outputs": [
    {
     "data": {
      "text/html": [
       "<div>\n",
       "<style scoped>\n",
       "    .dataframe tbody tr th:only-of-type {\n",
       "        vertical-align: middle;\n",
       "    }\n",
       "\n",
       "    .dataframe tbody tr th {\n",
       "        vertical-align: top;\n",
       "    }\n",
       "\n",
       "    .dataframe thead th {\n",
       "        text-align: right;\n",
       "    }\n",
       "</style>\n",
       "<table border=\"1\" class=\"dataframe\">\n",
       "  <thead>\n",
       "    <tr style=\"text-align: right;\">\n",
       "      <th></th>\n",
       "      <th>place</th>\n",
       "      <th>length</th>\n",
       "      <th>speed_limit</th>\n",
       "      <th>lane_num</th>\n",
       "      <th>lane_num_added</th>\n",
       "      <th>Unnamed: 5</th>\n",
       "      <th>order</th>\n",
       "      <th>etc</th>\n",
       "    </tr>\n",
       "  </thead>\n",
       "  <tbody>\n",
       "    <tr>\n",
       "      <th>0</th>\n",
       "      <td>02_5</td>\n",
       "      <td>178.8</td>\n",
       "      <td>50</td>\n",
       "      <td>4</td>\n",
       "      <td>NaN</td>\n",
       "      <td>NaN</td>\n",
       "      <td>5</td>\n",
       "      <td>B and C</td>\n",
       "    </tr>\n",
       "    <tr>\n",
       "      <th>1</th>\n",
       "      <td>02_6</td>\n",
       "      <td>188.0</td>\n",
       "      <td>50</td>\n",
       "      <td>3</td>\n",
       "      <td>NaN</td>\n",
       "      <td>NaN</td>\n",
       "      <td>6</td>\n",
       "      <td>B and C</td>\n",
       "    </tr>\n",
       "  </tbody>\n",
       "</table>\n",
       "</div>"
      ],
      "text/plain": [
       "  place  length  speed_limit  lane_num  lane_num_added  Unnamed: 5  order  \\\n",
       "0  02_5   178.8           50         4             NaN         NaN      5   \n",
       "1  02_6   188.0           50         3             NaN         NaN      6   \n",
       "\n",
       "       etc  \n",
       "0  B and C  \n",
       "1  B and C  "
      ]
     },
     "execution_count": 82,
     "metadata": {},
     "output_type": "execute_result"
    }
   ],
   "source": [
    "target_info.head()"
   ]
  },
  {
   "cell_type": "markdown",
   "metadata": {},
   "source": [
    "### 필요함수 정의 : overspeed\n",
    "* 도로 제한속도보다 20km/h 이상 초과운행 시 overspeed를 반환하는 함수"
   ]
  },
  {
   "cell_type": "code",
   "execution_count": 83,
   "metadata": {
    "execution": {
     "iopub.execute_input": "2022-05-26T09:55:28.431882Z",
     "iopub.status.busy": "2022-05-26T09:55:28.431882Z",
     "iopub.status.idle": "2022-05-26T09:55:28.447257Z",
     "shell.execute_reply": "2022-05-26T09:55:28.446292Z",
     "shell.execute_reply.started": "2022-05-26T09:55:28.431882Z"
    },
    "tags": []
   },
   "outputs": [],
   "source": [
    "def overspeed(velocity, limit):\n",
    "    \"\"\"도로 제한속도(limit)보다 20km/h 이상 초과 운행 시 overspeed 판정 함수\"\"\"\n",
    "    \n",
    "    if velocity - limit > 20:\n",
    "        return 'Overspeed'\n",
    "    else:\n",
    "        pass"
   ]
  },
  {
   "cell_type": "markdown",
   "metadata": {},
   "source": [
    "### 과속차량에 'over' 표시하기"
   ]
  },
  {
   "cell_type": "code",
   "execution_count": 84,
   "metadata": {
    "execution": {
     "iopub.execute_input": "2022-05-26T09:55:28.448258Z",
     "iopub.status.busy": "2022-05-26T09:55:28.447257Z",
     "iopub.status.idle": "2022-05-26T09:55:28.555621Z",
     "shell.execute_reply": "2022-05-26T09:55:28.555621Z",
     "shell.execute_reply.started": "2022-05-26T09:55:28.447257Z"
    },
    "tags": []
   },
   "outputs": [],
   "source": [
    "ovs_list = []\n",
    "\n",
    "for df, num_LOS in zip(df_list, num_LOS_list):\n",
    "    \n",
    "    df['place'] = num_LOS[0:4] # 01_1\n",
    "    \n",
    "    pvt = pd.pivot_table(df,\n",
    "                         index = ['place', 'Lane Identification', 'Vehicle ID'],\n",
    "                         values = ['Vehicle Velocity(km/h)', 'Vehicle Acceleration'],\n",
    "                         aggfunc = {'Vehicle Velocity(km/h)': 'mean', 'Vehicle Acceleration':'mean'})\n",
    "    pvt.reset_index(inplace = True)\n",
    "    \n",
    "    ovs = pd.merge(left = pvt, right = target_info, how = 'left', left_on = 'place', right_on = 'place')\n",
    "    \n",
    "    ovs['overspeed'] = ovs[['Vehicle Velocity(km/h)', 'speed_limit']].apply(lambda x: overspeed(*x), axis = 1)\n",
    "            \n",
    "    globals()[f'ovs{num_LOS}'] = ovs\n",
    "    ovs_list.append(ovs)"
   ]
  },
  {
   "cell_type": "code",
   "execution_count": 85,
   "metadata": {
    "execution": {
     "iopub.execute_input": "2022-05-26T09:55:28.556623Z",
     "iopub.status.busy": "2022-05-26T09:55:28.556623Z",
     "iopub.status.idle": "2022-05-26T09:55:28.571251Z",
     "shell.execute_reply": "2022-05-26T09:55:28.571251Z",
     "shell.execute_reply.started": "2022-05-26T09:55:28.556623Z"
    },
    "tags": []
   },
   "outputs": [
    {
     "data": {
      "text/html": [
       "<div>\n",
       "<style scoped>\n",
       "    .dataframe tbody tr th:only-of-type {\n",
       "        vertical-align: middle;\n",
       "    }\n",
       "\n",
       "    .dataframe tbody tr th {\n",
       "        vertical-align: top;\n",
       "    }\n",
       "\n",
       "    .dataframe thead th {\n",
       "        text-align: right;\n",
       "    }\n",
       "</style>\n",
       "<table border=\"1\" class=\"dataframe\">\n",
       "  <thead>\n",
       "    <tr style=\"text-align: right;\">\n",
       "      <th></th>\n",
       "      <th>place</th>\n",
       "      <th>Lane Identification</th>\n",
       "      <th>Vehicle ID</th>\n",
       "      <th>Vehicle Acceleration</th>\n",
       "      <th>Vehicle Velocity(km/h)</th>\n",
       "      <th>length</th>\n",
       "      <th>speed_limit</th>\n",
       "      <th>lane_num</th>\n",
       "      <th>lane_num_added</th>\n",
       "      <th>Unnamed: 5</th>\n",
       "      <th>order</th>\n",
       "      <th>etc</th>\n",
       "      <th>overspeed</th>\n",
       "    </tr>\n",
       "  </thead>\n",
       "  <tbody>\n",
       "    <tr>\n",
       "      <th>0</th>\n",
       "      <td>02_5</td>\n",
       "      <td>U1</td>\n",
       "      <td>132</td>\n",
       "      <td>0.059753</td>\n",
       "      <td>96.521925</td>\n",
       "      <td>178.8</td>\n",
       "      <td>50</td>\n",
       "      <td>4</td>\n",
       "      <td>NaN</td>\n",
       "      <td>NaN</td>\n",
       "      <td>5</td>\n",
       "      <td>B and C</td>\n",
       "      <td>Overspeed</td>\n",
       "    </tr>\n",
       "    <tr>\n",
       "      <th>1</th>\n",
       "      <td>02_5</td>\n",
       "      <td>U1</td>\n",
       "      <td>206</td>\n",
       "      <td>-0.587077</td>\n",
       "      <td>101.109923</td>\n",
       "      <td>178.8</td>\n",
       "      <td>50</td>\n",
       "      <td>4</td>\n",
       "      <td>NaN</td>\n",
       "      <td>NaN</td>\n",
       "      <td>5</td>\n",
       "      <td>B and C</td>\n",
       "      <td>Overspeed</td>\n",
       "    </tr>\n",
       "    <tr>\n",
       "      <th>2</th>\n",
       "      <td>02_5</td>\n",
       "      <td>U1</td>\n",
       "      <td>220</td>\n",
       "      <td>-0.197349</td>\n",
       "      <td>105.340182</td>\n",
       "      <td>178.8</td>\n",
       "      <td>50</td>\n",
       "      <td>4</td>\n",
       "      <td>NaN</td>\n",
       "      <td>NaN</td>\n",
       "      <td>5</td>\n",
       "      <td>B and C</td>\n",
       "      <td>Overspeed</td>\n",
       "    </tr>\n",
       "  </tbody>\n",
       "</table>\n",
       "</div>"
      ],
      "text/plain": [
       "  place Lane Identification  Vehicle ID  Vehicle Acceleration  \\\n",
       "0  02_5                  U1         132              0.059753   \n",
       "1  02_5                  U1         206             -0.587077   \n",
       "2  02_5                  U1         220             -0.197349   \n",
       "\n",
       "   Vehicle Velocity(km/h)  length  speed_limit  lane_num  lane_num_added  \\\n",
       "0               96.521925   178.8           50         4             NaN   \n",
       "1              101.109923   178.8           50         4             NaN   \n",
       "2              105.340182   178.8           50         4             NaN   \n",
       "\n",
       "   Unnamed: 5  order      etc  overspeed  \n",
       "0         NaN      5  B and C  Overspeed  \n",
       "1         NaN      5  B and C  Overspeed  \n",
       "2         NaN      5  B and C  Overspeed  "
      ]
     },
     "execution_count": 85,
     "metadata": {},
     "output_type": "execute_result"
    }
   ],
   "source": [
    "ovs_list[0].head(3)"
   ]
  },
  {
   "cell_type": "markdown",
   "metadata": {},
   "source": [
    "### 과속차량(over) 필터링 후 처리\n",
    "* 과속한 차량대수\n",
    "* 과속한 차량 대수를 교통류율로 환산\n",
    "* 과속한 차량끼리의 공간평균속도를 구하기"
   ]
  },
  {
   "cell_type": "code",
   "execution_count": 86,
   "metadata": {
    "execution": {
     "iopub.execute_input": "2022-05-26T09:55:28.572757Z",
     "iopub.status.busy": "2022-05-26T09:55:28.572757Z",
     "iopub.status.idle": "2022-05-26T09:55:28.587605Z",
     "shell.execute_reply": "2022-05-26T09:55:28.586808Z",
     "shell.execute_reply.started": "2022-05-26T09:55:28.572757Z"
    },
    "tags": []
   },
   "outputs": [],
   "source": [
    "folder_name = '02-3_overspeed'\n",
    "\n",
    "save_overspeed_dir = os.path.join(folder_dir, folder_name)\n",
    "\n",
    "os.makedirs(save_overspeed_dir, exist_ok = True) # 해당 경로가 없을 시 폴더 생성, 존재할 경우 건너뛰기"
   ]
  },
  {
   "cell_type": "code",
   "execution_count": 87,
   "metadata": {
    "execution": {
     "iopub.execute_input": "2022-05-26T09:55:28.587605Z",
     "iopub.status.busy": "2022-05-26T09:55:28.587605Z",
     "iopub.status.idle": "2022-05-26T09:55:28.648594Z",
     "shell.execute_reply": "2022-05-26T09:55:28.648594Z",
     "shell.execute_reply.started": "2022-05-26T09:55:28.587605Z"
    },
    "tags": []
   },
   "outputs": [
    {
     "name": "stdout",
     "output_type": "stream",
     "text": [
      "02_5_A 736\n",
      "02_5_B 333\n",
      "02_5_C 35\n",
      "02_6_A 612\n",
      "02_6_B 27\n"
     ]
    }
   ],
   "source": [
    "for ovs, num_LOS in zip(ovs_list, num_LOS_list):\n",
    "    \n",
    "    ovs_only = ovs[ovs['overspeed'] == 'Overspeed']\n",
    "    \n",
    "    ovs_veh = pd.pivot_table(ovs_only, \n",
    "                             index = 'Lane Identification',\n",
    "                             values = ['Vehicle ID', 'Vehicle Velocity(km/h)'],\n",
    "                             aggfunc = {'Vehicle ID': unq, 'Vehicle Velocity(km/h)': harmonic})\n",
    "    \n",
    "    ovs_veh.reset_index(inplace = True)\n",
    "    \n",
    "    if len(ovs_veh) > 0:\n",
    "        print(num_LOS, len(ovs_only))\n",
    "        #ovs2_veh['flow_rate(vph)'] = ovs2_veh['Vehicle ID_x'] * 3600/tmsec\n",
    "        save_overspeed_file = f'overspeed{num_LOS}.csv'\n",
    "        save_overspeed_path = os.path.join(save_overspeed_dir, save_overspeed_file)\n",
    "        ovs_veh.to_csv(save_overspeed_path, encoding = 'cp949')\n",
    "        \n",
    "    else:\n",
    "        pass"
   ]
  },
  {
   "cell_type": "markdown",
   "metadata": {},
   "source": [
    "## 급감속(sudden_dec)\n",
    "* **급감속** : 초당 8km/h 이상 감속 운행하고 속도가 6.0km/h 이상인 경우\n",
    "    * 화물차의 것을 기준으로 한 정의임\n",
    "* 이것이야말로 '초'당 피벗 테이블이 필요함"
   ]
  },
  {
   "cell_type": "markdown",
   "metadata": {
    "execution": {
     "iopub.execute_input": "2021-08-13T13:54:04.866356Z",
     "iopub.status.busy": "2021-08-13T13:54:04.866356Z",
     "iopub.status.idle": "2021-08-13T13:54:04.881315Z",
     "shell.execute_reply": "2021-08-13T13:54:04.881315Z",
     "shell.execute_reply.started": "2021-08-13T13:54:04.866356Z"
    },
    "tags": []
   },
   "source": [
    "### time_group : 1초 단위로 묶은 파생변수 생성\n",
    "* 1초 단위 피벗을 하기 위함임"
   ]
  },
  {
   "cell_type": "code",
   "execution_count": 88,
   "metadata": {
    "execution": {
     "iopub.execute_input": "2022-05-26T09:55:28.649592Z",
     "iopub.status.busy": "2022-05-26T09:55:28.649592Z",
     "iopub.status.idle": "2022-05-26T09:55:28.664407Z",
     "shell.execute_reply": "2022-05-26T09:55:28.664407Z",
     "shell.execute_reply.started": "2022-05-26T09:55:28.649592Z"
    },
    "tags": []
   },
   "outputs": [],
   "source": [
    "frame_rate = 30"
   ]
  },
  {
   "cell_type": "code",
   "execution_count": 89,
   "metadata": {
    "execution": {
     "iopub.execute_input": "2022-05-26T09:55:28.665405Z",
     "iopub.status.busy": "2022-05-26T09:55:28.665405Z",
     "iopub.status.idle": "2022-05-26T09:55:29.144685Z",
     "shell.execute_reply": "2022-05-26T09:55:29.144685Z",
     "shell.execute_reply.started": "2022-05-26T09:55:28.665405Z"
    },
    "tags": []
   },
   "outputs": [
    {
     "name": "stderr",
     "output_type": "stream",
     "text": [
      "5it [00:00, 10.78it/s]\n"
     ]
    }
   ],
   "source": [
    "pivot_df_list = []\n",
    "\n",
    "for df, num_LOS in tqdm(zip(df_list, num_LOS_list)):\n",
    "    \n",
    "    df['timespot'] = round(df['Frame ID']/frame_rate) # frame_rate == 30\n",
    "    \n",
    "    vehicle_list = df['Vehicle ID'].unique()\n",
    "    \n",
    "    pivot_df = pd.pivot_table(df, \n",
    "                              index = ['Lane Identification', 'Vehicle ID', 'timespot'],\n",
    "                              values = ['Vehicle Velocity(km/h)' ,'Vehicle Acceleration'],\n",
    "                              aggfunc = {'Vehicle Velocity(km/h)': harmonic, 'Vehicle Acceleration' : 'mean'})\n",
    "    \n",
    "    pivot_df = pivot_df.reset_index()\n",
    "    \n",
    "    pivot_df_list.append(pivot_df)"
   ]
  },
  {
   "cell_type": "code",
   "execution_count": 90,
   "metadata": {
    "execution": {
     "iopub.execute_input": "2022-05-26T09:55:29.145685Z",
     "iopub.status.busy": "2022-05-26T09:55:29.145685Z",
     "iopub.status.idle": "2022-05-26T09:55:29.161183Z",
     "shell.execute_reply": "2022-05-26T09:55:29.160187Z",
     "shell.execute_reply.started": "2022-05-26T09:55:29.145685Z"
    },
    "tags": []
   },
   "outputs": [
    {
     "data": {
      "text/html": [
       "<div>\n",
       "<style scoped>\n",
       "    .dataframe tbody tr th:only-of-type {\n",
       "        vertical-align: middle;\n",
       "    }\n",
       "\n",
       "    .dataframe tbody tr th {\n",
       "        vertical-align: top;\n",
       "    }\n",
       "\n",
       "    .dataframe thead th {\n",
       "        text-align: right;\n",
       "    }\n",
       "</style>\n",
       "<table border=\"1\" class=\"dataframe\">\n",
       "  <thead>\n",
       "    <tr style=\"text-align: right;\">\n",
       "      <th></th>\n",
       "      <th>Lane Identification</th>\n",
       "      <th>Vehicle ID</th>\n",
       "      <th>timespot</th>\n",
       "      <th>Vehicle Acceleration</th>\n",
       "      <th>Vehicle Velocity(km/h)</th>\n",
       "    </tr>\n",
       "  </thead>\n",
       "  <tbody>\n",
       "    <tr>\n",
       "      <th>0</th>\n",
       "      <td>U1</td>\n",
       "      <td>132</td>\n",
       "      <td>33.0</td>\n",
       "      <td>0.059753</td>\n",
       "      <td>96.511575</td>\n",
       "    </tr>\n",
       "    <tr>\n",
       "      <th>1</th>\n",
       "      <td>U1</td>\n",
       "      <td>206</td>\n",
       "      <td>35.0</td>\n",
       "      <td>-1.157798</td>\n",
       "      <td>102.915233</td>\n",
       "    </tr>\n",
       "    <tr>\n",
       "      <th>2</th>\n",
       "      <td>U1</td>\n",
       "      <td>206</td>\n",
       "      <td>36.0</td>\n",
       "      <td>0.243855</td>\n",
       "      <td>102.521406</td>\n",
       "    </tr>\n",
       "    <tr>\n",
       "      <th>3</th>\n",
       "      <td>U1</td>\n",
       "      <td>206</td>\n",
       "      <td>37.0</td>\n",
       "      <td>-0.242394</td>\n",
       "      <td>103.210754</td>\n",
       "    </tr>\n",
       "    <tr>\n",
       "      <th>4</th>\n",
       "      <td>U1</td>\n",
       "      <td>206</td>\n",
       "      <td>38.0</td>\n",
       "      <td>-0.826672</td>\n",
       "      <td>100.905123</td>\n",
       "    </tr>\n",
       "    <tr>\n",
       "      <th>...</th>\n",
       "      <td>...</td>\n",
       "      <td>...</td>\n",
       "      <td>...</td>\n",
       "      <td>...</td>\n",
       "      <td>...</td>\n",
       "    </tr>\n",
       "    <tr>\n",
       "      <th>3548</th>\n",
       "      <td>U6</td>\n",
       "      <td>21004</td>\n",
       "      <td>6953.0</td>\n",
       "      <td>-0.799770</td>\n",
       "      <td>53.810094</td>\n",
       "    </tr>\n",
       "    <tr>\n",
       "      <th>3549</th>\n",
       "      <td>U6</td>\n",
       "      <td>21038</td>\n",
       "      <td>6955.0</td>\n",
       "      <td>-0.372394</td>\n",
       "      <td>69.025443</td>\n",
       "    </tr>\n",
       "    <tr>\n",
       "      <th>3550</th>\n",
       "      <td>U6</td>\n",
       "      <td>21038</td>\n",
       "      <td>6956.0</td>\n",
       "      <td>-0.073393</td>\n",
       "      <td>68.004774</td>\n",
       "    </tr>\n",
       "    <tr>\n",
       "      <th>3551</th>\n",
       "      <td>U6</td>\n",
       "      <td>21038</td>\n",
       "      <td>6957.0</td>\n",
       "      <td>-0.236704</td>\n",
       "      <td>67.910093</td>\n",
       "    </tr>\n",
       "    <tr>\n",
       "      <th>3552</th>\n",
       "      <td>U6</td>\n",
       "      <td>21038</td>\n",
       "      <td>6958.0</td>\n",
       "      <td>-1.104383</td>\n",
       "      <td>66.916196</td>\n",
       "    </tr>\n",
       "  </tbody>\n",
       "</table>\n",
       "<p>3553 rows × 5 columns</p>\n",
       "</div>"
      ],
      "text/plain": [
       "     Lane Identification  Vehicle ID  timespot  Vehicle Acceleration  \\\n",
       "0                     U1         132      33.0              0.059753   \n",
       "1                     U1         206      35.0             -1.157798   \n",
       "2                     U1         206      36.0              0.243855   \n",
       "3                     U1         206      37.0             -0.242394   \n",
       "4                     U1         206      38.0             -0.826672   \n",
       "...                  ...         ...       ...                   ...   \n",
       "3548                  U6       21004    6953.0             -0.799770   \n",
       "3549                  U6       21038    6955.0             -0.372394   \n",
       "3550                  U6       21038    6956.0             -0.073393   \n",
       "3551                  U6       21038    6957.0             -0.236704   \n",
       "3552                  U6       21038    6958.0             -1.104383   \n",
       "\n",
       "      Vehicle Velocity(km/h)  \n",
       "0                  96.511575  \n",
       "1                 102.915233  \n",
       "2                 102.521406  \n",
       "3                 103.210754  \n",
       "4                 100.905123  \n",
       "...                      ...  \n",
       "3548               53.810094  \n",
       "3549               69.025443  \n",
       "3550               68.004774  \n",
       "3551               67.910093  \n",
       "3552               66.916196  \n",
       "\n",
       "[3553 rows x 5 columns]"
      ]
     },
     "execution_count": 90,
     "metadata": {},
     "output_type": "execute_result"
    }
   ],
   "source": [
    "pivot_df_list[0]"
   ]
  },
  {
   "cell_type": "markdown",
   "metadata": {},
   "source": [
    "### 필요 함수 정의 : sudden_dec\n",
    "* **급감속** : 초당 8km/h 이상 감속 운행하고 속도가 6.0km/h 이상인 경우\n",
    "* 가속도를 초속(m/s)으로 통일할 것"
   ]
  },
  {
   "cell_type": "code",
   "execution_count": 91,
   "metadata": {
    "execution": {
     "iopub.execute_input": "2022-05-26T09:55:29.162696Z",
     "iopub.status.busy": "2022-05-26T09:55:29.162696Z",
     "iopub.status.idle": "2022-05-26T09:55:29.177037Z",
     "shell.execute_reply": "2022-05-26T09:55:29.176034Z",
     "shell.execute_reply.started": "2022-05-26T09:55:29.162696Z"
    },
    "tags": []
   },
   "outputs": [],
   "source": [
    "def sudden_dec(velocity, acceleration):\n",
    "    \"\"\"급감속인 경우 sudden_dec 판정\"\"\"\n",
    "    if velocity >= 6.0 and acceleration <= -8.0 * (1000/3600):\n",
    "        return 'sudden_dec'\n",
    "    else:\n",
    "        pass"
   ]
  },
  {
   "cell_type": "markdown",
   "metadata": {},
   "source": [
    "### 급감속(sudden_dec) 표시 후 저장"
   ]
  },
  {
   "cell_type": "code",
   "execution_count": 92,
   "metadata": {
    "execution": {
     "iopub.execute_input": "2022-05-26T09:55:29.181055Z",
     "iopub.status.busy": "2022-05-26T09:55:29.181055Z",
     "iopub.status.idle": "2022-05-26T09:55:29.193532Z",
     "shell.execute_reply": "2022-05-26T09:55:29.192025Z",
     "shell.execute_reply.started": "2022-05-26T09:55:29.181055Z"
    },
    "tags": []
   },
   "outputs": [],
   "source": [
    "folder_name = '02-4_sudden_dec'\n",
    "\n",
    "save_SuddenDec_dir = os.path.join(folder_dir, folder_name)\n",
    "\n",
    "os.makedirs(save_SuddenDec_dir, exist_ok = True) # 해당 경로가 없을 시 폴더 생성, 존재할 경우 건너뛰기"
   ]
  },
  {
   "cell_type": "code",
   "execution_count": 93,
   "metadata": {
    "execution": {
     "iopub.execute_input": "2022-05-26T09:55:29.194541Z",
     "iopub.status.busy": "2022-05-26T09:55:29.194541Z",
     "iopub.status.idle": "2022-05-26T09:55:29.316695Z",
     "shell.execute_reply": "2022-05-26T09:55:29.316695Z",
     "shell.execute_reply.started": "2022-05-26T09:55:29.194541Z"
    },
    "tags": []
   },
   "outputs": [],
   "source": [
    "for pivot_df, num_LOS in zip(pivot_df_list, num_LOS_list):\n",
    "    \n",
    "    pivot_df['sudden_dec'] = pivot_df[['Vehicle Velocity(km/h)', 'Vehicle Acceleration']].apply(lambda x: sudden_dec(*x), axis = 1)\n",
    "    \n",
    "    save_SuddenDec_file = f'SuddenDec{num_LOS}.csv'\n",
    "    save_SuddenDec_path = os.path.join(save_SuddenDec_dir, save_SuddenDec_file)\n",
    "    \n",
    "    pivot_df.to_csv(save_SuddenDec_path, encoding = 'cp949')"
   ]
  },
  {
   "cell_type": "code",
   "execution_count": 94,
   "metadata": {
    "execution": {
     "iopub.execute_input": "2022-05-26T09:55:29.317747Z",
     "iopub.status.busy": "2022-05-26T09:55:29.317747Z",
     "iopub.status.idle": "2022-05-26T09:55:29.331885Z",
     "shell.execute_reply": "2022-05-26T09:55:29.331885Z",
     "shell.execute_reply.started": "2022-05-26T09:55:29.317747Z"
    },
    "tags": []
   },
   "outputs": [
    {
     "data": {
      "text/html": [
       "<div>\n",
       "<style scoped>\n",
       "    .dataframe tbody tr th:only-of-type {\n",
       "        vertical-align: middle;\n",
       "    }\n",
       "\n",
       "    .dataframe tbody tr th {\n",
       "        vertical-align: top;\n",
       "    }\n",
       "\n",
       "    .dataframe thead th {\n",
       "        text-align: right;\n",
       "    }\n",
       "</style>\n",
       "<table border=\"1\" class=\"dataframe\">\n",
       "  <thead>\n",
       "    <tr style=\"text-align: right;\">\n",
       "      <th></th>\n",
       "      <th>Lane Identification</th>\n",
       "      <th>Vehicle ID</th>\n",
       "      <th>timespot</th>\n",
       "      <th>Vehicle Acceleration</th>\n",
       "      <th>Vehicle Velocity(km/h)</th>\n",
       "      <th>sudden_dec</th>\n",
       "    </tr>\n",
       "  </thead>\n",
       "  <tbody>\n",
       "    <tr>\n",
       "      <th>0</th>\n",
       "      <td>U1</td>\n",
       "      <td>132</td>\n",
       "      <td>33.0</td>\n",
       "      <td>0.059753</td>\n",
       "      <td>96.511575</td>\n",
       "      <td>None</td>\n",
       "    </tr>\n",
       "    <tr>\n",
       "      <th>1</th>\n",
       "      <td>U1</td>\n",
       "      <td>206</td>\n",
       "      <td>35.0</td>\n",
       "      <td>-1.157798</td>\n",
       "      <td>102.915233</td>\n",
       "      <td>None</td>\n",
       "    </tr>\n",
       "    <tr>\n",
       "      <th>2</th>\n",
       "      <td>U1</td>\n",
       "      <td>206</td>\n",
       "      <td>36.0</td>\n",
       "      <td>0.243855</td>\n",
       "      <td>102.521406</td>\n",
       "      <td>None</td>\n",
       "    </tr>\n",
       "    <tr>\n",
       "      <th>3</th>\n",
       "      <td>U1</td>\n",
       "      <td>206</td>\n",
       "      <td>37.0</td>\n",
       "      <td>-0.242394</td>\n",
       "      <td>103.210754</td>\n",
       "      <td>None</td>\n",
       "    </tr>\n",
       "    <tr>\n",
       "      <th>4</th>\n",
       "      <td>U1</td>\n",
       "      <td>206</td>\n",
       "      <td>38.0</td>\n",
       "      <td>-0.826672</td>\n",
       "      <td>100.905123</td>\n",
       "      <td>None</td>\n",
       "    </tr>\n",
       "  </tbody>\n",
       "</table>\n",
       "</div>"
      ],
      "text/plain": [
       "  Lane Identification  Vehicle ID  timespot  Vehicle Acceleration  \\\n",
       "0                  U1         132      33.0              0.059753   \n",
       "1                  U1         206      35.0             -1.157798   \n",
       "2                  U1         206      36.0              0.243855   \n",
       "3                  U1         206      37.0             -0.242394   \n",
       "4                  U1         206      38.0             -0.826672   \n",
       "\n",
       "   Vehicle Velocity(km/h) sudden_dec  \n",
       "0               96.511575       None  \n",
       "1              102.915233       None  \n",
       "2              102.521406       None  \n",
       "3              103.210754       None  \n",
       "4              100.905123       None  "
      ]
     },
     "execution_count": 94,
     "metadata": {},
     "output_type": "execute_result"
    }
   ],
   "source": [
    "pivot_df_list[0].head()"
   ]
  },
  {
   "cell_type": "markdown",
   "metadata": {},
   "source": [
    "### 급감속, 급가속 필터링 후 처리\n",
    "* 급감속/급가속한 차량대수\n",
    "* 해당 차량 대수를 교통류율로 환산\n",
    "* 해당 차량끼리의 평균 가속도를 구하기"
   ]
  },
  {
   "cell_type": "code",
   "execution_count": 95,
   "metadata": {
    "execution": {
     "iopub.execute_input": "2022-05-26T09:55:29.332911Z",
     "iopub.status.busy": "2022-05-26T09:55:29.332911Z",
     "iopub.status.idle": "2022-05-26T09:55:29.347309Z",
     "shell.execute_reply": "2022-05-26T09:55:29.347309Z",
     "shell.execute_reply.started": "2022-05-26T09:55:29.332911Z"
    },
    "tags": []
   },
   "outputs": [],
   "source": [
    "folder_name = '02-5_sudden_dec_aggregated'\n",
    "\n",
    "save_SuddenDecAgg_dir = os.path.join(folder_dir, folder_name)\n",
    "\n",
    "os.makedirs(save_SuddenDecAgg_dir, exist_ok = True) # 해당 경로가 없을 시 폴더 생성, 존재할 경우 건너뛰기"
   ]
  },
  {
   "cell_type": "code",
   "execution_count": 96,
   "metadata": {
    "execution": {
     "iopub.execute_input": "2022-05-26T09:55:29.348278Z",
     "iopub.status.busy": "2022-05-26T09:55:29.348278Z",
     "iopub.status.idle": "2022-05-26T09:55:29.410646Z",
     "shell.execute_reply": "2022-05-26T09:55:29.409676Z",
     "shell.execute_reply.started": "2022-05-26T09:55:29.348278Z"
    },
    "tags": []
   },
   "outputs": [
    {
     "name": "stdout",
     "output_type": "stream",
     "text": [
      "02_5_A 6\n",
      "02_5_B 6\n",
      "02_5_C 2\n",
      "02_6_A 5\n",
      "02_6_B 2\n"
     ]
    }
   ],
   "source": [
    "for pivot_df, num_LOS in zip(pivot_df_list, num_LOS_list):\n",
    "    \n",
    "    SuddenDecAgg = pd.pivot_table(pivot_df[pivot_df['sudden_dec'] == 'sudden_dec'],\n",
    "                                  index = ['Lane Identification', 'sudden_dec'],\n",
    "                                  values = ['Vehicle ID', 'Vehicle Acceleration'],\n",
    "                                  aggfunc = {'Vehicle ID': unq, 'Vehicle Acceleration': 'mean'})\n",
    "    \n",
    "    SuddenDecAgg.reset_index(inplace = True)\n",
    "    \n",
    "    if len(SuddenDecAgg) > 0:\n",
    "        print(num_LOS, len(SuddenDecAgg))\n",
    "        save_SuddenDecAgg_file = f'SuddenDecAgg{num_LOS}.csv'\n",
    "        save_SuddenDecAgg_path = os.path.join(save_SuddenDecAgg_dir, save_SuddenDecAgg_file)\n",
    "        SuddenDecAgg.to_csv(save_SuddenDecAgg_path, encoding = 'cp949')\n",
    "        \n",
    "    else:\n",
    "        pass"
   ]
  }
 ],
 "metadata": {
  "kernelspec": {
   "display_name": "Python 3",
   "language": "python",
   "name": "python3"
  },
  "language_info": {
   "codemirror_mode": {
    "name": "ipython",
    "version": 3
   },
   "file_extension": ".py",
   "mimetype": "text/x-python",
   "name": "python",
   "nbconvert_exporter": "python",
   "pygments_lexer": "ipython3",
   "version": "3.8.8"
  }
 },
 "nbformat": 4,
 "nbformat_minor": 4
}
