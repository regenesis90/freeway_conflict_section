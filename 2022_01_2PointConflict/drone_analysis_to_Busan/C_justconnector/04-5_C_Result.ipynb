{
 "cells": [
  {
   "cell_type": "markdown",
   "metadata": {},
   "source": [
    "# Imports"
   ]
  },
  {
   "cell_type": "code",
   "execution_count": 12,
   "metadata": {
    "execution": {
     "iopub.execute_input": "2022-05-26T09:57:12.040431Z",
     "iopub.status.busy": "2022-05-26T09:57:12.040431Z",
     "iopub.status.idle": "2022-05-26T09:57:12.049987Z",
     "shell.execute_reply": "2022-05-26T09:57:12.049022Z",
     "shell.execute_reply.started": "2022-05-26T09:57:12.040431Z"
    },
    "tags": []
   },
   "outputs": [],
   "source": [
    "import os\n",
    "import csv\n",
    "import glob\n",
    "\n",
    "from tqdm import tqdm"
   ]
  },
  {
   "cell_type": "markdown",
   "metadata": {},
   "source": [
    "# Merging Result Files\n",
    "* 결과 파일을 저장"
   ]
  },
  {
   "cell_type": "markdown",
   "metadata": {},
   "source": [
    "## Load datasets"
   ]
  },
  {
   "cell_type": "code",
   "execution_count": 13,
   "metadata": {
    "execution": {
     "iopub.execute_input": "2022-05-26T09:57:12.050985Z",
     "iopub.status.busy": "2022-05-26T09:57:12.050985Z",
     "iopub.status.idle": "2022-05-26T09:57:12.065660Z",
     "shell.execute_reply": "2022-05-26T09:57:12.064662Z",
     "shell.execute_reply.started": "2022-05-26T09:57:12.050985Z"
    }
   },
   "outputs": [],
   "source": [
    "folder_dir = 'D:/OneDrive - 연세대학교 (Yonsei University)/Projects/Yonsei_TELab/003_도로상충_210517-/2차년도_2022/17_드론궤적분석자료_2점분합류_금호JC_부산방향/C_justconnector'"
   ]
  },
  {
   "cell_type": "code",
   "execution_count": 14,
   "metadata": {
    "execution": {
     "iopub.execute_input": "2022-05-26T09:57:12.066687Z",
     "iopub.status.busy": "2022-05-26T09:57:12.066687Z",
     "iopub.status.idle": "2022-05-26T09:57:12.081727Z",
     "shell.execute_reply": "2022-05-26T09:57:12.080757Z",
     "shell.execute_reply.started": "2022-05-26T09:57:12.066687Z"
    },
    "tags": []
   },
   "outputs": [],
   "source": [
    "total_folder = '02-0_total_volume_speed'\n",
    "\n",
    "total_dir = os.path.join(folder_dir, total_folder)"
   ]
  },
  {
   "cell_type": "code",
   "execution_count": 15,
   "metadata": {
    "execution": {
     "iopub.execute_input": "2022-05-26T09:57:12.083241Z",
     "iopub.status.busy": "2022-05-26T09:57:12.082735Z",
     "iopub.status.idle": "2022-05-26T09:57:12.096115Z",
     "shell.execute_reply": "2022-05-26T09:57:12.096115Z",
     "shell.execute_reply.started": "2022-05-26T09:57:12.083241Z"
    },
    "tags": []
   },
   "outputs": [],
   "source": [
    "flowrate_folder = '02-1_Each_Lane_volume_speed'\n",
    "\n",
    "flowrate_dir = os.path.join(folder_dir, flowrate_folder)"
   ]
  },
  {
   "cell_type": "code",
   "execution_count": 16,
   "metadata": {
    "execution": {
     "iopub.execute_input": "2022-05-26T09:57:12.098139Z",
     "iopub.status.busy": "2022-05-26T09:57:12.098139Z",
     "iopub.status.idle": "2022-05-26T09:57:12.111836Z",
     "shell.execute_reply": "2022-05-26T09:57:12.111836Z",
     "shell.execute_reply.started": "2022-05-26T09:57:12.098139Z"
    },
    "tags": []
   },
   "outputs": [],
   "source": [
    "lanechange_flow_folder = '02-2_Lanechange_volume_speed'\n",
    "\n",
    "lanechange_flow_dir = os.path.join(folder_dir, lanechange_flow_folder)"
   ]
  },
  {
   "cell_type": "code",
   "execution_count": 17,
   "metadata": {
    "execution": {
     "iopub.execute_input": "2022-05-26T09:57:12.114034Z",
     "iopub.status.busy": "2022-05-26T09:57:12.114034Z",
     "iopub.status.idle": "2022-05-26T09:57:12.127068Z",
     "shell.execute_reply": "2022-05-26T09:57:12.127068Z",
     "shell.execute_reply.started": "2022-05-26T09:57:12.114034Z"
    },
    "tags": []
   },
   "outputs": [],
   "source": [
    "overspeed_folder = '02-3_overspeed'\n",
    "\n",
    "overspeed_dir = os.path.join(folder_dir, overspeed_folder)"
   ]
  },
  {
   "cell_type": "code",
   "execution_count": 18,
   "metadata": {
    "execution": {
     "iopub.execute_input": "2022-05-26T09:57:12.128038Z",
     "iopub.status.busy": "2022-05-26T09:57:12.128038Z",
     "iopub.status.idle": "2022-05-26T09:57:12.142688Z",
     "shell.execute_reply": "2022-05-26T09:57:12.142688Z",
     "shell.execute_reply.started": "2022-05-26T09:57:12.128038Z"
    },
    "tags": []
   },
   "outputs": [],
   "source": [
    "sudden_folder = '02-5_sudden_dec_aggregated'\n",
    "\n",
    "sudden_dir = os.path.join(folder_dir, sudden_folder)"
   ]
  },
  {
   "cell_type": "code",
   "execution_count": 19,
   "metadata": {
    "execution": {
     "iopub.execute_input": "2022-05-26T09:57:12.143733Z",
     "iopub.status.busy": "2022-05-26T09:57:12.143733Z",
     "iopub.status.idle": "2022-05-26T09:57:12.158166Z",
     "shell.execute_reply": "2022-05-26T09:57:12.158166Z",
     "shell.execute_reply.started": "2022-05-26T09:57:12.143733Z"
    },
    "tags": []
   },
   "outputs": [],
   "source": [
    "angle_folder = '03-5_decision'\n",
    "\n",
    "angle_dir = os.path.join(folder_dir, angle_folder)"
   ]
  },
  {
   "cell_type": "code",
   "execution_count": 20,
   "metadata": {
    "execution": {
     "iopub.execute_input": "2022-05-26T09:57:12.159135Z",
     "iopub.status.busy": "2022-05-26T09:57:12.159135Z",
     "iopub.status.idle": "2022-05-26T09:57:12.173895Z",
     "shell.execute_reply": "2022-05-26T09:57:12.173895Z",
     "shell.execute_reply.started": "2022-05-26T09:57:12.159135Z"
    },
    "tags": []
   },
   "outputs": [],
   "source": [
    "annexed_folder = '04_result'\n",
    "\n",
    "annexed_dir = os.path.join(folder_dir, annexed_folder)\n",
    "\n",
    "os.makedirs(annexed_dir, exist_ok = True) # 해당 경로가 없을 시 폴더 생성, 존재할 경우 건너뛰기"
   ]
  },
  {
   "cell_type": "code",
   "execution_count": 21,
   "metadata": {
    "execution": {
     "iopub.execute_input": "2022-05-26T09:57:12.175156Z",
     "iopub.status.busy": "2022-05-26T09:57:12.173895Z",
     "iopub.status.idle": "2022-05-26T09:57:12.189256Z",
     "shell.execute_reply": "2022-05-26T09:57:12.189256Z",
     "shell.execute_reply.started": "2022-05-26T09:57:12.175156Z"
    },
    "tags": []
   },
   "outputs": [
    {
     "data": {
      "text/plain": [
       "['02_5_A', '02_5_B', '02_5_C']"
      ]
     },
     "execution_count": 21,
     "metadata": {},
     "output_type": "execute_result"
    }
   ],
   "source": [
    "num_LOS_list = []\n",
    "\n",
    "for file in os.listdir(total_dir):\n",
    "    num_LOS_list.append(file[17:23])\n",
    "    \n",
    "num_LOS_list[0:3]"
   ]
  },
  {
   "cell_type": "markdown",
   "metadata": {},
   "source": [
    "## Save"
   ]
  },
  {
   "cell_type": "code",
   "execution_count": 22,
   "metadata": {
    "execution": {
     "iopub.execute_input": "2022-05-26T09:57:12.190840Z",
     "iopub.status.busy": "2022-05-26T09:57:12.189256Z",
     "iopub.status.idle": "2022-05-26T09:57:12.221645Z",
     "shell.execute_reply": "2022-05-26T09:57:12.220647Z",
     "shell.execute_reply.started": "2022-05-26T09:57:12.190840Z"
    },
    "tags": []
   },
   "outputs": [
    {
     "name": "stderr",
     "output_type": "stream",
     "text": [
      "100%|███████████████████████████████████████████████████████████████████████████████████| 5/5 [00:00<00:00, 602.89it/s]"
     ]
    },
    {
     "name": "stdout",
     "output_type": "stream",
     "text": [
      ">>> All file merge complete <<<\n"
     ]
    },
    {
     "name": "stderr",
     "output_type": "stream",
     "text": [
      "\n"
     ]
    }
   ],
   "source": [
    "for num_LOS in tqdm(num_LOS_list):\n",
    "    total_path = os.path.join(total_dir, f'total_volume_SMS_{num_LOS}.csv')\n",
    "    flowrate_path = os.path.join(flowrate_dir, f'EachLaneVolume{num_LOS}.csv')\n",
    "    lanechange_flow_path = os.path.join(lanechange_flow_dir, f'LaneChangeVolume{num_LOS}.csv')\n",
    "    overspeed_path = os.path.join(overspeed_dir, f'overspeed{num_LOS}.csv')\n",
    "    sudden_path = os.path.join(sudden_dir, f'SuddenDecAgg{num_LOS}.csv')\n",
    "    angle_path = os.path.join(angle_dir, f'{num_LOS}.csv')\n",
    "    \n",
    "    annexed_path = os.path.join(annexed_dir, f'{num_LOS}.csv')\n",
    "    \n",
    "    file_list = [total_path, flowrate_path, lanechange_flow_path, overspeed_path, sudden_path, angle_path]\n",
    "    name_list = ['전체 교통정보', '차로별 정보', '차량 경로(차로변경이력)별 정보', '과속 정보', '급감속 정보', '급앞지르기·급진로변경']\n",
    "                    \n",
    "    with open(annexed_path, 'w') as f: #2-1.병합할할 파일을 열고\n",
    "        \n",
    "        for file, name in zip(file_list, name_list):\n",
    "            f.write(name)\n",
    "            f.write('\\n')\n",
    "            if os.path.isfile(file): # 파일이 있으면\n",
    "                with open(file ,'r') as f2:  # 파일을 엽니다.\n",
    "                    while True:\n",
    "                        line = f2.readline() # 대상 파일의 row 1줄을 읽어서 \n",
    "                        if not line: #row가 없으면 해당 csv 파일 읽기 끝\n",
    "                            f.write('\\n')\n",
    "                            break\n",
    "                                        \n",
    "                        f.write(line) #3.읽은 row 1줄을 merge할 파일에 쓴다.\n",
    "                file_name = file.split('\\\\')[-1]\n",
    "                #print(file.split('\\\\')[-1] + ' Write complete!')\n",
    "                \n",
    "            else:\n",
    "                pass\n",
    "                            \n",
    "print('>>> All file merge complete <<<')"
   ]
  }
 ],
 "metadata": {
  "kernelspec": {
   "display_name": "Python 3",
   "language": "python",
   "name": "python3"
  },
  "language_info": {
   "codemirror_mode": {
    "name": "ipython",
    "version": 3
   },
   "file_extension": ".py",
   "mimetype": "text/x-python",
   "name": "python",
   "nbconvert_exporter": "python",
   "pygments_lexer": "ipython3",
   "version": "3.8.8"
  }
 },
 "nbformat": 4,
 "nbformat_minor": 4
}
