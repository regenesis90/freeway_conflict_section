{
 "cells": [
  {
   "cell_type": "markdown",
   "metadata": {},
   "source": [
    "# Analysis- Basic\n",
    "* 고속도로 기본구간(1번 영상) 분석"
   ]
  },
  {
   "cell_type": "markdown",
   "metadata": {},
   "source": [
    "# Imports"
   ]
  },
  {
   "cell_type": "code",
   "execution_count": 1,
   "metadata": {
    "execution": {
     "iopub.execute_input": "2022-05-26T09:58:49.164134Z",
     "iopub.status.busy": "2022-05-26T09:58:49.164134Z",
     "iopub.status.idle": "2022-05-26T09:58:49.814010Z",
     "shell.execute_reply": "2022-05-26T09:58:49.814010Z",
     "shell.execute_reply.started": "2022-05-26T09:58:49.164134Z"
    },
    "tags": []
   },
   "outputs": [],
   "source": [
    "import pandas as pd\n",
    "import numpy as np\n",
    "\n",
    "import os\n",
    "import warnings\n",
    "from tqdm import tqdm\n",
    "\n",
    "from plotly.subplots import make_subplots\n",
    "import plotly.express as px\n",
    "import plotly.graph_objects as go\n",
    "import plotly.io as po\n",
    "\n",
    "import statistics\n",
    "import math"
   ]
  },
  {
   "cell_type": "markdown",
   "metadata": {},
   "source": [
    "# Analysis\n",
    "* `01_denstiy_by_target_LOS_concated`의 파일을 불러오기\n",
    "* 필요한 분석 데이터들을 추출하여 각각의 파일로 저장하기"
   ]
  },
  {
   "cell_type": "markdown",
   "metadata": {},
   "source": [
    "## Load Dataset"
   ]
  },
  {
   "cell_type": "markdown",
   "metadata": {},
   "source": [
    "### 궤적 데이터"
   ]
  },
  {
   "cell_type": "code",
   "execution_count": 2,
   "metadata": {
    "execution": {
     "iopub.execute_input": "2022-05-26T09:58:49.815009Z",
     "iopub.status.busy": "2022-05-26T09:58:49.815009Z",
     "iopub.status.idle": "2022-05-26T09:58:49.829270Z",
     "shell.execute_reply": "2022-05-26T09:58:49.829270Z",
     "shell.execute_reply.started": "2022-05-26T09:58:49.815009Z"
    }
   },
   "outputs": [],
   "source": [
    "folder_dir = 'D:/OneDrive - 연세대학교 (Yonsei University)/Projects/Yonsei_TELab/003_도로상충_210517-/2차년도_2022/17_드론궤적분석자료_2점분합류_금호JC_부산방향/A_basic'"
   ]
  },
  {
   "cell_type": "code",
   "execution_count": 3,
   "metadata": {
    "execution": {
     "iopub.execute_input": "2022-05-26T09:58:49.830267Z",
     "iopub.status.busy": "2022-05-26T09:58:49.830267Z",
     "iopub.status.idle": "2022-05-26T09:58:49.846144Z",
     "shell.execute_reply": "2022-05-26T09:58:49.845147Z",
     "shell.execute_reply.started": "2022-05-26T09:58:49.830267Z"
    },
    "tags": []
   },
   "outputs": [],
   "source": [
    "folder_name = '01_denstiy_by_target_LOS_concated'\n",
    "\n",
    "file_dir = os.path.join(folder_dir, folder_name)"
   ]
  },
  {
   "cell_type": "code",
   "execution_count": 4,
   "metadata": {
    "execution": {
     "iopub.execute_input": "2022-05-26T09:58:49.847144Z",
     "iopub.status.busy": "2022-05-26T09:58:49.846144Z",
     "iopub.status.idle": "2022-05-26T09:58:49.891349Z",
     "shell.execute_reply": "2022-05-26T09:58:49.890952Z",
     "shell.execute_reply.started": "2022-05-26T09:58:49.847144Z"
    },
    "tags": []
   },
   "outputs": [
    {
     "data": {
      "text/plain": [
       "['02_1_A.csv', '02_1_B.csv', '02_1_C.csv']"
      ]
     },
     "execution_count": 4,
     "metadata": {},
     "output_type": "execute_result"
    }
   ],
   "source": [
    "file_list = os.listdir(file_dir)\n",
    "file_list[0:3]"
   ]
  },
  {
   "cell_type": "code",
   "execution_count": 5,
   "metadata": {
    "execution": {
     "iopub.execute_input": "2022-05-26T09:58:49.892348Z",
     "iopub.status.busy": "2022-05-26T09:58:49.891349Z",
     "iopub.status.idle": "2022-05-26T09:58:50.250114Z",
     "shell.execute_reply": "2022-05-26T09:58:50.250114Z",
     "shell.execute_reply.started": "2022-05-26T09:58:49.892348Z"
    },
    "tags": []
   },
   "outputs": [],
   "source": [
    "df_list = []\n",
    "num_LOS_list = []\n",
    "\n",
    "for file in file_list:\n",
    "    num_LOS = file[0:6] # 파일명으로부터 01_2_C 형식의 대상지 번호와 LOS 추출\n",
    "    \n",
    "    file_path = os.path.join(file_dir, file)\n",
    "    \n",
    "    globals()[f'target{num_LOS}'] = pd.read_csv(file_path, encoding = 'cp949')\n",
    "    \n",
    "    df_list.append(globals()[f'target{num_LOS}'])\n",
    "    num_LOS_list.append(num_LOS)"
   ]
  },
  {
   "cell_type": "code",
   "execution_count": 6,
   "metadata": {
    "execution": {
     "iopub.execute_input": "2022-05-26T09:58:50.252079Z",
     "iopub.status.busy": "2022-05-26T09:58:50.252079Z",
     "iopub.status.idle": "2022-05-26T09:58:50.282088Z",
     "shell.execute_reply": "2022-05-26T09:58:50.282088Z",
     "shell.execute_reply.started": "2022-05-26T09:58:50.252079Z"
    },
    "tags": []
   },
   "outputs": [
    {
     "data": {
      "text/html": [
       "<div>\n",
       "<style scoped>\n",
       "    .dataframe tbody tr th:only-of-type {\n",
       "        vertical-align: middle;\n",
       "    }\n",
       "\n",
       "    .dataframe tbody tr th {\n",
       "        vertical-align: top;\n",
       "    }\n",
       "\n",
       "    .dataframe thead th {\n",
       "        text-align: right;\n",
       "    }\n",
       "</style>\n",
       "<table border=\"1\" class=\"dataframe\">\n",
       "  <thead>\n",
       "    <tr style=\"text-align: right;\">\n",
       "      <th></th>\n",
       "      <th>Unnamed: 0</th>\n",
       "      <th>Unnamed: 0.1</th>\n",
       "      <th>Unnamed: 0.1.1</th>\n",
       "      <th>Unnamed: 0.1.1.1</th>\n",
       "      <th>Vehicle ID</th>\n",
       "      <th>Frame ID</th>\n",
       "      <th>Total Frames</th>\n",
       "      <th>Global Time (Epoch Time)</th>\n",
       "      <th>Local X (m)</th>\n",
       "      <th>Local Y(m)</th>\n",
       "      <th>...</th>\n",
       "      <th>Vehicle Acceleration</th>\n",
       "      <th>Lane Identification</th>\n",
       "      <th>Preceding Vehicle</th>\n",
       "      <th>Following Vehicle</th>\n",
       "      <th>Spacing Headway</th>\n",
       "      <th>Time Headway</th>\n",
       "      <th>Bad Object</th>\n",
       "      <th>Special Car</th>\n",
       "      <th>Lane Class</th>\n",
       "      <th>Vehicle Movement</th>\n",
       "    </tr>\n",
       "  </thead>\n",
       "  <tbody>\n",
       "    <tr>\n",
       "      <th>0</th>\n",
       "      <td>0</td>\n",
       "      <td>1559</td>\n",
       "      <td>1591</td>\n",
       "      <td>1591</td>\n",
       "      <td>74</td>\n",
       "      <td>1092</td>\n",
       "      <td>192</td>\n",
       "      <td>46836400</td>\n",
       "      <td>185.464294</td>\n",
       "      <td>34.843792</td>\n",
       "      <td>...</td>\n",
       "      <td>3.353882</td>\n",
       "      <td>U2</td>\n",
       "      <td>0</td>\n",
       "      <td>80</td>\n",
       "      <td>0.000000</td>\n",
       "      <td>0.000000</td>\n",
       "      <td>0</td>\n",
       "      <td>0</td>\n",
       "      <td>상행본선</td>\n",
       "      <td>2.695027</td>\n",
       "    </tr>\n",
       "    <tr>\n",
       "      <th>1</th>\n",
       "      <td>1</td>\n",
       "      <td>1560</td>\n",
       "      <td>1592</td>\n",
       "      <td>1592</td>\n",
       "      <td>77</td>\n",
       "      <td>1092</td>\n",
       "      <td>172</td>\n",
       "      <td>46836400</td>\n",
       "      <td>189.770477</td>\n",
       "      <td>38.429100</td>\n",
       "      <td>...</td>\n",
       "      <td>-0.682958</td>\n",
       "      <td>U3</td>\n",
       "      <td>0</td>\n",
       "      <td>83</td>\n",
       "      <td>0.000000</td>\n",
       "      <td>0.000000</td>\n",
       "      <td>0</td>\n",
       "      <td>0</td>\n",
       "      <td>상행본선</td>\n",
       "      <td>3.088174</td>\n",
       "    </tr>\n",
       "    <tr>\n",
       "      <th>2</th>\n",
       "      <td>2</td>\n",
       "      <td>1561</td>\n",
       "      <td>1593</td>\n",
       "      <td>1593</td>\n",
       "      <td>80</td>\n",
       "      <td>1092</td>\n",
       "      <td>107</td>\n",
       "      <td>46836400</td>\n",
       "      <td>119.319359</td>\n",
       "      <td>30.250849</td>\n",
       "      <td>...</td>\n",
       "      <td>-0.829315</td>\n",
       "      <td>U2</td>\n",
       "      <td>74</td>\n",
       "      <td>88</td>\n",
       "      <td>66.503517</td>\n",
       "      <td>2.279102</td>\n",
       "      <td>0</td>\n",
       "      <td>0</td>\n",
       "      <td>상행본선</td>\n",
       "      <td>2.917970</td>\n",
       "    </tr>\n",
       "  </tbody>\n",
       "</table>\n",
       "<p>3 rows × 24 columns</p>\n",
       "</div>"
      ],
      "text/plain": [
       "   Unnamed: 0  Unnamed: 0.1  Unnamed: 0.1.1  Unnamed: 0.1.1.1  Vehicle ID  \\\n",
       "0           0          1559            1591              1591          74   \n",
       "1           1          1560            1592              1592          77   \n",
       "2           2          1561            1593              1593          80   \n",
       "\n",
       "   Frame ID  Total Frames  Global Time (Epoch Time)  Local X (m)  Local Y(m)  \\\n",
       "0      1092           192                  46836400   185.464294   34.843792   \n",
       "1      1092           172                  46836400   189.770477   38.429100   \n",
       "2      1092           107                  46836400   119.319359   30.250849   \n",
       "\n",
       "   ...  Vehicle Acceleration  Lane Identification  Preceding Vehicle  \\\n",
       "0  ...              3.353882                   U2                  0   \n",
       "1  ...             -0.682958                   U3                  0   \n",
       "2  ...             -0.829315                   U2                 74   \n",
       "\n",
       "   Following Vehicle  Spacing Headway Time Headway  Bad Object  Special Car  \\\n",
       "0                 80         0.000000     0.000000           0            0   \n",
       "1                 83         0.000000     0.000000           0            0   \n",
       "2                 88        66.503517     2.279102           0            0   \n",
       "\n",
       "   Lane Class  Vehicle Movement  \n",
       "0        상행본선          2.695027  \n",
       "1        상행본선          3.088174  \n",
       "2        상행본선          2.917970  \n",
       "\n",
       "[3 rows x 24 columns]"
      ]
     },
     "execution_count": 6,
     "metadata": {},
     "output_type": "execute_result"
    }
   ],
   "source": [
    "df_list[0].head(3)"
   ]
  },
  {
   "cell_type": "markdown",
   "metadata": {},
   "source": [
    "### Load tmsec info\n",
    "* 총 관측시간 데이터 로드"
   ]
  },
  {
   "cell_type": "code",
   "execution_count": 7,
   "metadata": {
    "execution": {
     "iopub.execute_input": "2022-05-26T09:58:50.283588Z",
     "iopub.status.busy": "2022-05-26T09:58:50.283588Z",
     "iopub.status.idle": "2022-05-26T09:58:50.299134Z",
     "shell.execute_reply": "2022-05-26T09:58:50.298139Z",
     "shell.execute_reply.started": "2022-05-26T09:58:50.283588Z"
    },
    "tags": []
   },
   "outputs": [],
   "source": [
    "tmsec_info = pd.read_csv('LOS_tmsec_A_basic.csv') # 대상지별, LOS별 동영상 지속시간(tmsec) 정보 불러오기"
   ]
  },
  {
   "cell_type": "code",
   "execution_count": 8,
   "metadata": {
    "execution": {
     "iopub.execute_input": "2022-05-26T09:58:50.299134Z",
     "iopub.status.busy": "2022-05-26T09:58:50.299134Z",
     "iopub.status.idle": "2022-05-26T09:58:50.314265Z",
     "shell.execute_reply": "2022-05-26T09:58:50.313262Z",
     "shell.execute_reply.started": "2022-05-26T09:58:50.299134Z"
    },
    "tags": []
   },
   "outputs": [
    {
     "data": {
      "text/html": [
       "<div>\n",
       "<style scoped>\n",
       "    .dataframe tbody tr th:only-of-type {\n",
       "        vertical-align: middle;\n",
       "    }\n",
       "\n",
       "    .dataframe tbody tr th {\n",
       "        vertical-align: top;\n",
       "    }\n",
       "\n",
       "    .dataframe thead th {\n",
       "        text-align: right;\n",
       "    }\n",
       "</style>\n",
       "<table border=\"1\" class=\"dataframe\">\n",
       "  <thead>\n",
       "    <tr style=\"text-align: right;\">\n",
       "      <th></th>\n",
       "      <th>Unnamed: 0</th>\n",
       "      <th>num</th>\n",
       "      <th>LOS</th>\n",
       "      <th>tmsec</th>\n",
       "    </tr>\n",
       "  </thead>\n",
       "  <tbody>\n",
       "    <tr>\n",
       "      <th>0</th>\n",
       "      <td>0</td>\n",
       "      <td>02_1</td>\n",
       "      <td>A</td>\n",
       "      <td>220.5</td>\n",
       "    </tr>\n",
       "    <tr>\n",
       "      <th>1</th>\n",
       "      <td>1</td>\n",
       "      <td>02_1</td>\n",
       "      <td>B</td>\n",
       "      <td>367.1</td>\n",
       "    </tr>\n",
       "    <tr>\n",
       "      <th>2</th>\n",
       "      <td>2</td>\n",
       "      <td>02_1</td>\n",
       "      <td>C</td>\n",
       "      <td>123.4</td>\n",
       "    </tr>\n",
       "    <tr>\n",
       "      <th>3</th>\n",
       "      <td>3</td>\n",
       "      <td>02_1</td>\n",
       "      <td>D</td>\n",
       "      <td>32.0</td>\n",
       "    </tr>\n",
       "    <tr>\n",
       "      <th>4</th>\n",
       "      <td>4</td>\n",
       "      <td>02_2</td>\n",
       "      <td>A</td>\n",
       "      <td>244.1</td>\n",
       "    </tr>\n",
       "  </tbody>\n",
       "</table>\n",
       "</div>"
      ],
      "text/plain": [
       "   Unnamed: 0   num LOS  tmsec\n",
       "0           0  02_1   A  220.5\n",
       "1           1  02_1   B  367.1\n",
       "2           2  02_1   C  123.4\n",
       "3           3  02_1   D   32.0\n",
       "4           4  02_2   A  244.1"
      ]
     },
     "execution_count": 8,
     "metadata": {},
     "output_type": "execute_result"
    }
   ],
   "source": [
    "tmsec_info.head()"
   ]
  },
  {
   "cell_type": "markdown",
   "metadata": {},
   "source": [
    "## 평균 속도 정보\n",
    "1. 차량(Vehicle ID)별 누적 이동거리(%) 구하기\n",
    "2. 전체 길이를 일정 간격의 구간으로 나누기\n",
    "3. 차선별, 일정 구간별(누적길이%) 속도 히트맵 그리기"
   ]
  },
  {
   "cell_type": "markdown",
   "metadata": {},
   "source": [
    "### 교통류율, 전체 공간평균속도(SMS)\n",
    "* 차선별 총 교통량\n",
    "| lane | flowrate | SMS |\n",
    "|------|--------|-----|\n",
    "| U1   | 200    | 80  |\n",
    "| U2   | 300    | 90  |\n",
    "| U3   | 100    | 80  |"
   ]
  },
  {
   "cell_type": "markdown",
   "metadata": {},
   "source": [
    "### 필요 함수 정의\n",
    "* 공간평균속도는 조화평균(harmonic_mean)을 사용해 구함\n",
    "* 조화평균함수는 `statistics.harmonic_mean()`을 이용할 수 있음"
   ]
  },
  {
   "cell_type": "code",
   "execution_count": 9,
   "metadata": {
    "execution": {
     "iopub.execute_input": "2022-05-26T09:58:50.315266Z",
     "iopub.status.busy": "2022-05-26T09:58:50.314265Z",
     "iopub.status.idle": "2022-05-26T09:58:50.334640Z",
     "shell.execute_reply": "2022-05-26T09:58:50.330127Z",
     "shell.execute_reply.started": "2022-05-26T09:58:50.315266Z"
    },
    "tags": []
   },
   "outputs": [],
   "source": [
    "# 조화평균 함수\n",
    "harmonic = lambda x: statistics.harmonic_mean(list(x))\n",
    "harmonic .__name__ = 'harmonic'"
   ]
  },
  {
   "cell_type": "code",
   "execution_count": 10,
   "metadata": {
    "execution": {
     "iopub.execute_input": "2022-05-26T09:58:50.337637Z",
     "iopub.status.busy": "2022-05-26T09:58:50.337637Z",
     "iopub.status.idle": "2022-05-26T09:58:50.346192Z",
     "shell.execute_reply": "2022-05-26T09:58:50.345198Z",
     "shell.execute_reply.started": "2022-05-26T09:58:50.337637Z"
    },
    "tags": []
   },
   "outputs": [],
   "source": [
    "# 고유값 개수 산정 함수(유니크)\n",
    "unq = lambda x: len(x.unique())\n",
    "unq .__name__ = 'unq'"
   ]
  },
  {
   "cell_type": "code",
   "execution_count": 11,
   "metadata": {
    "execution": {
     "iopub.execute_input": "2022-05-26T09:58:50.348190Z",
     "iopub.status.busy": "2022-05-26T09:58:50.347190Z",
     "iopub.status.idle": "2022-05-26T09:58:50.364506Z",
     "shell.execute_reply": "2022-05-26T09:58:50.363002Z",
     "shell.execute_reply.started": "2022-05-26T09:58:50.347190Z"
    },
    "tags": []
   },
   "outputs": [],
   "source": [
    "def LOS_expwy_basic(x:int):\n",
    "    \"\"\"밀도를 바탕으로 LOS를 판정해 주는 함수 :: 고속도로 기본구간 기준\"\"\"\n",
    "    \n",
    "    if x >= 0 and x <= 6:\n",
    "        return 'A'\n",
    "    elif x > 6 and x <= 10:\n",
    "        return 'B'\n",
    "    elif x > 10 and x <= 14:\n",
    "        return 'C'\n",
    "    elif x > 14 and x <= 19:\n",
    "        return 'D'\n",
    "    elif x > 19 and x <= 28:\n",
    "        return 'E'\n",
    "    elif x > 28:\n",
    "        return 'F'\n",
    "    \n",
    "    else:\n",
    "        pass"
   ]
  },
  {
   "cell_type": "markdown",
   "metadata": {},
   "source": [
    "### 전체 차량대수, 공간평균속도, 교통류율 산정 후 저장\n",
    "* 각 대상지별/LOS별 전체 차량대수, 공간평균속도(SMS), 교통류율 구하여 저장하기\n",
    "* `harmonic` 함수 사용 : `harmonic(target1_1_A['Vehicle Velocity(km/h)'])` <- 이런 식으로 쓸 수 있다"
   ]
  },
  {
   "cell_type": "code",
   "execution_count": 12,
   "metadata": {
    "execution": {
     "iopub.execute_input": "2022-05-26T09:58:50.365508Z",
     "iopub.status.busy": "2022-05-26T09:58:50.364506Z",
     "iopub.status.idle": "2022-05-26T09:58:50.378187Z",
     "shell.execute_reply": "2022-05-26T09:58:50.376190Z",
     "shell.execute_reply.started": "2022-05-26T09:58:50.365508Z"
    },
    "tags": []
   },
   "outputs": [
    {
     "data": {
      "text/plain": [
       "Index(['Unnamed: 0', 'Unnamed: 0.1', 'Unnamed: 0.1.1', 'Unnamed: 0.1.1.1',\n",
       "       'Vehicle ID', 'Frame ID', 'Total Frames', 'Global Time (Epoch Time)',\n",
       "       'Local X (m)', 'Local Y(m)', 'Vehicle Length', 'Vehicle Width',\n",
       "       'Vehicle Class', 'Vehicle Velocity(km/h)', 'Vehicle Acceleration',\n",
       "       'Lane Identification', 'Preceding Vehicle', 'Following Vehicle',\n",
       "       'Spacing Headway', 'Time Headway', 'Bad Object', 'Special Car',\n",
       "       'Lane Class', 'Vehicle Movement'],\n",
       "      dtype='object')"
      ]
     },
     "execution_count": 12,
     "metadata": {},
     "output_type": "execute_result"
    }
   ],
   "source": [
    "df_list[0].columns"
   ]
  },
  {
   "cell_type": "code",
   "execution_count": 13,
   "metadata": {
    "execution": {
     "iopub.execute_input": "2022-05-26T09:58:50.379183Z",
     "iopub.status.busy": "2022-05-26T09:58:50.379183Z",
     "iopub.status.idle": "2022-05-26T09:58:50.391720Z",
     "shell.execute_reply": "2022-05-26T09:58:50.391720Z",
     "shell.execute_reply.started": "2022-05-26T09:58:50.379183Z"
    },
    "tags": []
   },
   "outputs": [],
   "source": [
    "folder_name = '02-0_total_volume_speed'\n",
    "\n",
    "save_TTL_dir = os.path.join(folder_dir, folder_name)\n",
    "\n",
    "os.makedirs(save_TTL_dir, exist_ok = True) # 해당 경로가 없을 시 폴더 생성, 존재할 경우 건너뛰기"
   ]
  },
  {
   "cell_type": "code",
   "execution_count": 14,
   "metadata": {
    "execution": {
     "iopub.execute_input": "2022-05-26T09:58:50.393780Z",
     "iopub.status.busy": "2022-05-26T09:58:50.393780Z",
     "iopub.status.idle": "2022-05-26T09:58:51.092834Z",
     "shell.execute_reply": "2022-05-26T09:58:51.092834Z",
     "shell.execute_reply.started": "2022-05-26T09:58:50.393780Z"
    },
    "tags": []
   },
   "outputs": [
    {
     "name": "stderr",
     "output_type": "stream",
     "text": [
      "8it [00:00, 12.52it/s]\n"
     ]
    }
   ],
   "source": [
    "for df, num_LOS in tqdm(zip(df_list, num_LOS_list)):\n",
    "    \n",
    "    if len(df) > 0:\n",
    "    \n",
    "        total_veh = len(df['Vehicle ID'].unique()) # 총 차량대수\n",
    "        total_SMS = harmonic(df['Vehicle Velocity(km/h)']) #차량의 공간평균속도(SMS)\n",
    "    \n",
    "        tmsec = tmsec_info[(tmsec_info['num'] == num_LOS[0:4]) & (tmsec_info['LOS'] == num_LOS[-1])]['tmsec'].iloc[0] # 해당 대상지, 해당 LOS 총관측시간 추출\n",
    "    \n",
    "        # 프레임 당 차량밀도의 전체평균 구하기\n",
    "        total_pv = pd.pivot_table(df, index = 'Frame ID', values = 'Vehicle ID', aggfunc = {'Vehicle ID': unq}).reset_index()\n",
    "        veh_by_frame = total_pv['Vehicle ID'].mean() #전체 프레임에 대한 평균이므로 mean을 사용한 것임\n",
    "\n",
    "        # 전체 평균 교통류율(flowrate, vph) 구하기\n",
    "        total_flowrate = total_veh/tmsec * 3600 # tmsec은 초 단위이므로, 시(h, 3600s) 단위로 변경해야 하기 때문임\n",
    "    \n",
    "        total_df = pd.DataFrame(data = {'Total Vehicle Count(veh)': [total_veh],\n",
    "                                        'Average SMS(km/h)': [total_SMS],\n",
    "                                        'Average Flowrate(vph)': [total_flowrate],\n",
    "                                        'Average Vehicle by Frame(veh/frameID)':[veh_by_frame],\n",
    "                                        'Average LOS' : num_LOS[-1],\n",
    "                                        'Total Observation Time(s)': [tmsec]})\n",
    "    \n",
    "        save_TTL_file = f'total_volume_SMS_{num_LOS}.csv'\n",
    "        save_TTL_path = os.path.join(save_TTL_dir, save_TTL_file)\n",
    "    \n",
    "        total_df.to_csv(save_TTL_path, encoding = 'cp949')\n",
    "    \n",
    "    else:\n",
    "        pass"
   ]
  },
  {
   "cell_type": "markdown",
   "metadata": {},
   "source": [
    "## 차선별 속도 정보"
   ]
  },
  {
   "cell_type": "markdown",
   "metadata": {},
   "source": [
    "### 차선변경 여부 표시 파생변수 생성 및 저장"
   ]
  },
  {
   "cell_type": "code",
   "execution_count": 15,
   "metadata": {
    "execution": {
     "iopub.execute_input": "2022-05-26T09:58:51.094427Z",
     "iopub.status.busy": "2022-05-26T09:58:51.094427Z",
     "iopub.status.idle": "2022-05-26T09:58:51.109029Z",
     "shell.execute_reply": "2022-05-26T09:58:51.108033Z",
     "shell.execute_reply.started": "2022-05-26T09:58:51.094427Z"
    },
    "tags": []
   },
   "outputs": [
    {
     "data": {
      "text/plain": [
       "Index(['Unnamed: 0', 'Unnamed: 0.1', 'Unnamed: 0.1.1', 'Unnamed: 0.1.1.1',\n",
       "       'Vehicle ID', 'Frame ID', 'Total Frames', 'Global Time (Epoch Time)',\n",
       "       'Local X (m)', 'Local Y(m)', 'Vehicle Length', 'Vehicle Width',\n",
       "       'Vehicle Class', 'Vehicle Velocity(km/h)', 'Vehicle Acceleration',\n",
       "       'Lane Identification', 'Preceding Vehicle', 'Following Vehicle',\n",
       "       'Spacing Headway', 'Time Headway', 'Bad Object', 'Special Car',\n",
       "       'Lane Class', 'Vehicle Movement'],\n",
       "      dtype='object')"
      ]
     },
     "execution_count": 15,
     "metadata": {},
     "output_type": "execute_result"
    }
   ],
   "source": [
    "df.columns"
   ]
  },
  {
   "cell_type": "code",
   "execution_count": 16,
   "metadata": {
    "execution": {
     "iopub.execute_input": "2022-05-26T09:58:51.110026Z",
     "iopub.status.busy": "2022-05-26T09:58:51.110026Z",
     "iopub.status.idle": "2022-05-26T09:58:51.125031Z",
     "shell.execute_reply": "2022-05-26T09:58:51.124032Z",
     "shell.execute_reply.started": "2022-05-26T09:58:51.110026Z"
    },
    "tags": []
   },
   "outputs": [],
   "source": [
    "folder_name = '01_density_by_target_LOS_concated_lanechange'\n",
    "\n",
    "save_Lanechange_dir = os.path.join(folder_dir, folder_name)\n",
    "\n",
    "os.makedirs(save_Lanechange_dir, exist_ok = True) # 해당 경로가 없을 시 폴더 생성, 존재할 경우 건너뛰기"
   ]
  },
  {
   "cell_type": "code",
   "execution_count": 17,
   "metadata": {
    "execution": {
     "iopub.execute_input": "2022-05-26T09:58:51.126060Z",
     "iopub.status.busy": "2022-05-26T09:58:51.126060Z",
     "iopub.status.idle": "2022-05-26T10:06:48.463552Z",
     "shell.execute_reply": "2022-05-26T10:06:48.463047Z",
     "shell.execute_reply.started": "2022-05-26T09:58:51.126060Z"
    },
    "tags": []
   },
   "outputs": [
    {
     "name": "stderr",
     "output_type": "stream",
     "text": [
      "8it [07:57, 59.67s/it] \n"
     ]
    }
   ],
   "source": [
    "warnings.filterwarnings(action = 'ignore') # pandas 경고메시지 숨기기\n",
    "\n",
    "for df, num_LOS in tqdm(zip(df_list, num_LOS_list)):\n",
    "\n",
    "    df['Lane_record'] = None # 차량의 차로변경기록\n",
    "    df['Lane_00'] = None # 차량의 첫 차로\n",
    "    df['Lane_99'] = None # 차량의 마지막 차로\n",
    "    df['Lane_change'] = None # 차량이 차로변경을 했을 시 'Change' 기록\n",
    "    \n",
    "    if len(df) > 0:\n",
    "\n",
    "        veh_list = df['Vehicle ID'].unique() # 차량 리스트 뽑기\n",
    "    \n",
    "        df = df.sort_values(by = 'Frame ID') # 데이터프레임을 Frame ID에 따라서 오름차순 정렬\n",
    "    \n",
    "        for veh in veh_list: # 각 차량별로\n",
    "            Lane_00 = df[df['Vehicle ID'] == veh]['Lane Identification'].iloc[0] # 차량이 처음 진행하던 차로\n",
    "            Lane_99 = df[df['Vehicle ID'] == veh]['Lane Identification'].iloc[-1] # 차량이 마지막 진행하던 차로\n",
    "        \n",
    "            veh_frame_list = df[df['Vehicle ID'] == veh]['Frame ID'].unique() # 해당 차량이 주행하는 동안의 프레임 리스트\n",
    "        \n",
    "            Lane_past = Lane_00 # Lane_past(각 차량 현재차로)를 초기화\n",
    "            Lane_record = Lane_00 # 차로변경기록 초기화\n",
    "            Lane_present = Lane_00 # 현재차로 초기화\n",
    "        \n",
    "            for frm in veh_frame_list : # 각 차량의 각 프레임별로\n",
    "            \n",
    "                Lane_past = Lane_present # iteration 돌기 전의 현재차로가 과거차로로 할당\n",
    "            \n",
    "                Lane_present = df[(df['Vehicle ID'] == veh) & (df['Frame ID'] == frm)]['Lane Identification'].iloc[0] # 현재 차량이 속한 차로를 할당\n",
    "            \n",
    "                if Lane_past == Lane_present: # 현재차로와 직전차로가 같으면 아무 문제 없음\n",
    "                    pass\n",
    "            \n",
    "                else: # 현재차로와 직전 차로가 다를 시\n",
    "                    idx = df[(df['Vehicle ID'] == veh) & (df['Frame ID'] == frm)]['Lane_change'].index[0] # 차로변경된 행의 인덱스\n",
    "                    df.at[idx, 'Lane_change'] = 'Change' # 차로변경되자마자 셀에 'Change' 표시\n",
    "                    Lane_record = str(Lane_record) + '_' + str(Lane_present)\n",
    "               \n",
    "            df.loc[df['Vehicle ID'] == veh, 'Lane_00'] = Lane_00 # 차량별 초기 차로번호\n",
    "            df.loc[df['Vehicle ID'] == veh, 'Lane_99'] = Lane_99 # 차량별 마지막 차로번호\n",
    "            df.loc[df['Vehicle ID'] == veh, 'Lane_record'] = Lane_record # 차량별 차로변경 기록 입력\n",
    "            \n",
    "            save_Lanechange_name = num_LOS + '.csv'\n",
    "            save_Lanechange_path = os.path.join(save_Lanechange_dir, save_Lanechange_name)\n",
    "            \n",
    "            df.to_csv(save_Lanechange_path, encoding = 'cp949')\n",
    "            \n",
    "    else:\n",
    "        pass\n",
    "    \n",
    "#warnings.filterwarnings(action = 'default') # pandas 경고메시지 다시 보이기"
   ]
  },
  {
   "cell_type": "markdown",
   "metadata": {},
   "source": [
    "### 궤적 데이터 재로드"
   ]
  },
  {
   "cell_type": "code",
   "execution_count": 18,
   "metadata": {
    "execution": {
     "iopub.execute_input": "2022-05-26T10:06:48.464551Z",
     "iopub.status.busy": "2022-05-26T10:06:48.464551Z",
     "iopub.status.idle": "2022-05-26T10:06:48.479542Z",
     "shell.execute_reply": "2022-05-26T10:06:48.478545Z",
     "shell.execute_reply.started": "2022-05-26T10:06:48.464551Z"
    }
   },
   "outputs": [],
   "source": [
    "folder_name = '01_density_by_target_LOS_concated_lanechange'\n",
    "\n",
    "file_dir = os.path.join(folder_dir, folder_name)"
   ]
  },
  {
   "cell_type": "code",
   "execution_count": 19,
   "metadata": {
    "execution": {
     "iopub.execute_input": "2022-05-26T10:06:48.480544Z",
     "iopub.status.busy": "2022-05-26T10:06:48.480544Z",
     "iopub.status.idle": "2022-05-26T10:06:48.496065Z",
     "shell.execute_reply": "2022-05-26T10:06:48.495063Z",
     "shell.execute_reply.started": "2022-05-26T10:06:48.480544Z"
    },
    "tags": []
   },
   "outputs": [
    {
     "data": {
      "text/plain": [
       "['02_1_A.csv', '02_1_B.csv', '02_1_C.csv']"
      ]
     },
     "execution_count": 19,
     "metadata": {},
     "output_type": "execute_result"
    }
   ],
   "source": [
    "file_list = os.listdir(file_dir)\n",
    "file_list[0:3]"
   ]
  },
  {
   "cell_type": "code",
   "execution_count": 20,
   "metadata": {
    "execution": {
     "iopub.execute_input": "2022-05-26T10:06:48.496065Z",
     "iopub.status.busy": "2022-05-26T10:06:48.496065Z",
     "iopub.status.idle": "2022-05-26T10:06:48.852951Z",
     "shell.execute_reply": "2022-05-26T10:06:48.852348Z",
     "shell.execute_reply.started": "2022-05-26T10:06:48.496065Z"
    },
    "tags": []
   },
   "outputs": [],
   "source": [
    "df_list = []\n",
    "num_LOS_list = []\n",
    "\n",
    "for file in file_list:\n",
    "    num_LOS = file[0:6]\n",
    "    \n",
    "    file_path = os.path.join(file_dir, file)\n",
    "    \n",
    "    globals()[f'target{num_LOS}'] = pd.read_csv(file_path, encoding = 'cp949')\n",
    "    \n",
    "    df_list.append(globals()[f'target{num_LOS}'])\n",
    "    num_LOS_list.append(num_LOS)"
   ]
  },
  {
   "cell_type": "code",
   "execution_count": 21,
   "metadata": {
    "execution": {
     "iopub.execute_input": "2022-05-26T10:06:48.853948Z",
     "iopub.status.busy": "2022-05-26T10:06:48.852951Z",
     "iopub.status.idle": "2022-05-26T10:06:48.867681Z",
     "shell.execute_reply": "2022-05-26T10:06:48.867681Z",
     "shell.execute_reply.started": "2022-05-26T10:06:48.853948Z"
    },
    "tags": []
   },
   "outputs": [],
   "source": [
    "#target01_1_A.head(3)"
   ]
  },
  {
   "cell_type": "markdown",
   "metadata": {
    "execution": {
     "iopub.execute_input": "2021-08-11T09:59:18.188789Z",
     "iopub.status.busy": "2021-08-11T09:59:18.187792Z",
     "iopub.status.idle": "2021-08-11T09:59:18.201755Z",
     "shell.execute_reply": "2021-08-11T09:59:18.200798Z",
     "shell.execute_reply.started": "2021-08-11T09:59:18.188789Z"
    },
    "tags": []
   },
   "source": [
    "### 차선별 교통량, SMS 산정 후 저장\n",
    "* 차선별 교통량(차량대수)의 산정 기준\n",
    "    * 시점부 : 끝 지점\n",
    "    * 종점부1,2는 각 시작지점"
   ]
  },
  {
   "cell_type": "code",
   "execution_count": 22,
   "metadata": {
    "execution": {
     "iopub.execute_input": "2022-05-26T10:06:48.868680Z",
     "iopub.status.busy": "2022-05-26T10:06:48.868680Z",
     "iopub.status.idle": "2022-05-26T10:06:48.882664Z",
     "shell.execute_reply": "2022-05-26T10:06:48.882664Z",
     "shell.execute_reply.started": "2022-05-26T10:06:48.868680Z"
    },
    "tags": []
   },
   "outputs": [],
   "source": [
    "folder_name = '02-1_Each_Lane_volume_speed'\n",
    "\n",
    "save_EachLaneVolume_dir = os.path.join(folder_dir, folder_name)\n",
    "\n",
    "os.makedirs(save_EachLaneVolume_dir, exist_ok = True) # 해당 경로가 없을 시 폴더 생성, 존재할 경우 건너뛰기"
   ]
  },
  {
   "cell_type": "code",
   "execution_count": 23,
   "metadata": {
    "execution": {
     "iopub.execute_input": "2022-05-26T10:06:48.883683Z",
     "iopub.status.busy": "2022-05-26T10:06:48.883683Z",
     "iopub.status.idle": "2022-05-26T10:06:49.069914Z",
     "shell.execute_reply": "2022-05-26T10:06:49.069914Z",
     "shell.execute_reply.started": "2022-05-26T10:06:48.883683Z"
    },
    "tags": []
   },
   "outputs": [
    {
     "name": "stderr",
     "output_type": "stream",
     "text": [
      "8it [00:00, 48.14it/s]\n"
     ]
    }
   ],
   "source": [
    "for df, num_LOS in tqdm(zip(df_list, num_LOS_list)):\n",
    "    \n",
    "    tmsec = tmsec_info[(tmsec_info['num'] == num_LOS[0:4]) & (tmsec_info['LOS'] == num_LOS[-1])]['tmsec'].iloc[0]\n",
    "    \n",
    "    # 시점부, 종점부를 구분하기 : spot == 1이면 시점부, 종점부는 그 외로 간주\n",
    "    point = num_LOS[3]\n",
    "    \n",
    "    if point == 1 : # 시점부이면, 끝시점 차로(Lane_99) 기준 산정\n",
    "        pv_veh = pd.pivot_table(df,\n",
    "                                index = ['Lane_99'],\n",
    "                                values = ['Vehicle ID', 'Vehicle Velocity(km/h)'],\n",
    "                                aggfunc = {'Vehicle ID': unq, 'Vehicle Velocity(km/h)': harmonic})\n",
    "        \n",
    "    else : # 종점부이면, 첫차로(Lane_00) 기준 산정\n",
    "        pv_veh = pd.pivot_table(df, index = ['Lane_00'],\n",
    "                                values = ['Vehicle ID', 'Vehicle Velocity(km/h)'],\n",
    "                                aggfunc = {'Vehicle ID': unq, 'Vehicle Velocity(km/h)': harmonic})\n",
    "    \n",
    "    pv_veh.reset_index(inplace = True)\n",
    "        \n",
    "    pv_veh['Flow Rate(vph)'] = pv_veh['Vehicle ID'] * 3600/tmsec\n",
    "    \n",
    "    save_EachLaneVolume_file = f'EachLaneVolume{num_LOS}.csv'\n",
    "    save_EachLaneVolume_path = os.path.join(save_EachLaneVolume_dir, save_EachLaneVolume_file)\n",
    "    \n",
    "    pv_veh.to_csv(save_EachLaneVolume_path, encoding = 'cp949')"
   ]
  },
  {
   "cell_type": "markdown",
   "metadata": {},
   "source": [
    "### 차선변경 차량의 교통량 및 SMS 산정, 저장"
   ]
  },
  {
   "cell_type": "code",
   "execution_count": 24,
   "metadata": {
    "execution": {
     "iopub.execute_input": "2022-05-26T10:06:49.071912Z",
     "iopub.status.busy": "2022-05-26T10:06:49.071912Z",
     "iopub.status.idle": "2022-05-26T10:06:49.085111Z",
     "shell.execute_reply": "2022-05-26T10:06:49.085111Z",
     "shell.execute_reply.started": "2022-05-26T10:06:49.071912Z"
    },
    "tags": []
   },
   "outputs": [],
   "source": [
    "folder_name = '02-2_Lanechange_volume_speed'\n",
    "\n",
    "save_LaneChangeVolume_dir = os.path.join(folder_dir, folder_name)\n",
    "\n",
    "os.makedirs(save_LaneChangeVolume_dir, exist_ok = True) # 해당 경로가 없을 시 폴더 생성, 존재할 경우 건너뛰기"
   ]
  },
  {
   "cell_type": "code",
   "execution_count": 25,
   "metadata": {
    "execution": {
     "iopub.execute_input": "2022-05-26T10:06:49.086124Z",
     "iopub.status.busy": "2022-05-26T10:06:49.086124Z",
     "iopub.status.idle": "2022-05-26T10:06:49.270836Z",
     "shell.execute_reply": "2022-05-26T10:06:49.270836Z",
     "shell.execute_reply.started": "2022-05-26T10:06:49.086124Z"
    },
    "tags": []
   },
   "outputs": [
    {
     "name": "stderr",
     "output_type": "stream",
     "text": [
      "8it [00:00, 46.49it/s]\n"
     ]
    }
   ],
   "source": [
    "for df, num_LOS in tqdm(zip(df_list, num_LOS_list)):\n",
    "    \n",
    "    tmsec = tmsec_info[(tmsec_info['num'] == num_LOS[0:4]) & (tmsec_info['LOS'] == num_LOS[-1])]['tmsec'].iloc[0]\n",
    "    \n",
    "    pv_veh = pd.pivot_table(df, index = ['Lane_record'], values = ['Vehicle ID', 'Vehicle Velocity(km/h)'],\n",
    "                            aggfunc = {'Vehicle ID': unq, 'Vehicle Velocity(km/h)': harmonic})\n",
    "    pv_veh.reset_index(inplace = True)\n",
    "        \n",
    "    pv_veh['flow_rate(vph)'] = pv_veh['Vehicle ID'] * 3600/tmsec\n",
    "    \n",
    "    save_LaneChangeVolume_file = f'LaneChangeVolume{num_LOS}.csv'\n",
    "    save_LaneChangeVolume_path = os.path.join(save_LaneChangeVolume_dir, save_LaneChangeVolume_file)\n",
    "    \n",
    "    pv_veh.to_csv(save_LaneChangeVolume_path, encoding = 'cp949')"
   ]
  },
  {
   "cell_type": "markdown",
   "metadata": {},
   "source": [
    "## 과속(overspeed)\n",
    "> **과속** : 도로 제한속도보다 20km/h 초과 운행한 경우\n",
    "* 차량의 영상 내 구간 평균속도 산정\n",
    "    * index는 `Lane Identification, Vehicle ID`\n",
    "    * value는 `Vehicle Velocity(km/h)`\n",
    "    * 함수는 그냥 평균\n",
    "* 과속 여부 판정 파생변수 생성하기 : `overspeed`\n",
    "* `Lane Identification` 별로 pivot_table 하기 : `overspeed` 만 필터링하여 값의 수를 세기"
   ]
  },
  {
   "cell_type": "markdown",
   "metadata": {},
   "source": [
    "### 대상지 정보 로드"
   ]
  },
  {
   "cell_type": "code",
   "execution_count": 26,
   "metadata": {
    "execution": {
     "iopub.execute_input": "2022-05-26T10:06:49.271837Z",
     "iopub.status.busy": "2022-05-26T10:06:49.271837Z",
     "iopub.status.idle": "2022-05-26T10:06:49.286406Z",
     "shell.execute_reply": "2022-05-26T10:06:49.286406Z",
     "shell.execute_reply.started": "2022-05-26T10:06:49.271837Z"
    },
    "tags": []
   },
   "outputs": [],
   "source": [
    "target_info_dir = 'target_info_A_basic.csv'"
   ]
  },
  {
   "cell_type": "code",
   "execution_count": 27,
   "metadata": {
    "execution": {
     "iopub.execute_input": "2022-05-26T10:06:49.287395Z",
     "iopub.status.busy": "2022-05-26T10:06:49.287395Z",
     "iopub.status.idle": "2022-05-26T10:06:49.302982Z",
     "shell.execute_reply": "2022-05-26T10:06:49.302248Z",
     "shell.execute_reply.started": "2022-05-26T10:06:49.287395Z"
    },
    "tags": []
   },
   "outputs": [],
   "source": [
    "target_info = pd.read_csv(target_info_dir, encoding = 'utf-8')"
   ]
  },
  {
   "cell_type": "code",
   "execution_count": 28,
   "metadata": {
    "execution": {
     "iopub.execute_input": "2022-05-26T10:06:49.302982Z",
     "iopub.status.busy": "2022-05-26T10:06:49.302982Z",
     "iopub.status.idle": "2022-05-26T10:06:49.317994Z",
     "shell.execute_reply": "2022-05-26T10:06:49.317994Z",
     "shell.execute_reply.started": "2022-05-26T10:06:49.302982Z"
    },
    "tags": []
   },
   "outputs": [
    {
     "data": {
      "text/html": [
       "<div>\n",
       "<style scoped>\n",
       "    .dataframe tbody tr th:only-of-type {\n",
       "        vertical-align: middle;\n",
       "    }\n",
       "\n",
       "    .dataframe tbody tr th {\n",
       "        vertical-align: top;\n",
       "    }\n",
       "\n",
       "    .dataframe thead th {\n",
       "        text-align: right;\n",
       "    }\n",
       "</style>\n",
       "<table border=\"1\" class=\"dataframe\">\n",
       "  <thead>\n",
       "    <tr style=\"text-align: right;\">\n",
       "      <th></th>\n",
       "      <th>place</th>\n",
       "      <th>length</th>\n",
       "      <th>speed_limit</th>\n",
       "      <th>lane_num</th>\n",
       "      <th>lane_num_added</th>\n",
       "      <th>Unnamed: 5</th>\n",
       "      <th>order</th>\n",
       "      <th>etc</th>\n",
       "    </tr>\n",
       "  </thead>\n",
       "  <tbody>\n",
       "    <tr>\n",
       "      <th>0</th>\n",
       "      <td>02_1</td>\n",
       "      <td>236.7</td>\n",
       "      <td>100</td>\n",
       "      <td>4</td>\n",
       "      <td>NaN</td>\n",
       "      <td>NaN</td>\n",
       "      <td>2</td>\n",
       "      <td>Basic</td>\n",
       "    </tr>\n",
       "    <tr>\n",
       "      <th>1</th>\n",
       "      <td>02_2</td>\n",
       "      <td>230.7</td>\n",
       "      <td>100</td>\n",
       "      <td>4</td>\n",
       "      <td>NaN</td>\n",
       "      <td>NaN</td>\n",
       "      <td>1</td>\n",
       "      <td>Basic</td>\n",
       "    </tr>\n",
       "  </tbody>\n",
       "</table>\n",
       "</div>"
      ],
      "text/plain": [
       "  place  length  speed_limit  lane_num  lane_num_added  Unnamed: 5  order  \\\n",
       "0  02_1   236.7          100         4             NaN         NaN      2   \n",
       "1  02_2   230.7          100         4             NaN         NaN      1   \n",
       "\n",
       "     etc  \n",
       "0  Basic  \n",
       "1  Basic  "
      ]
     },
     "execution_count": 28,
     "metadata": {},
     "output_type": "execute_result"
    }
   ],
   "source": [
    "target_info.head()"
   ]
  },
  {
   "cell_type": "markdown",
   "metadata": {},
   "source": [
    "### 필요함수 정의 : overspeed\n",
    "* 도로 제한속도보다 20km/h 이상 초과운행 시 overspeed를 반환하는 함수"
   ]
  },
  {
   "cell_type": "code",
   "execution_count": 29,
   "metadata": {
    "execution": {
     "iopub.execute_input": "2022-05-26T10:06:49.318986Z",
     "iopub.status.busy": "2022-05-26T10:06:49.318986Z",
     "iopub.status.idle": "2022-05-26T10:06:49.334424Z",
     "shell.execute_reply": "2022-05-26T10:06:49.334424Z",
     "shell.execute_reply.started": "2022-05-26T10:06:49.318986Z"
    },
    "tags": []
   },
   "outputs": [],
   "source": [
    "def overspeed(velocity, limit):\n",
    "    \"\"\"도로 제한속도(limit)보다 20km/h 이상 초과 운행 시 overspeed 판정 함수\"\"\"\n",
    "    \n",
    "    if velocity - limit > 20:\n",
    "        return 'Overspeed'\n",
    "    else:\n",
    "        pass"
   ]
  },
  {
   "cell_type": "markdown",
   "metadata": {},
   "source": [
    "### 과속차량에 'over' 표시하기"
   ]
  },
  {
   "cell_type": "code",
   "execution_count": 30,
   "metadata": {
    "execution": {
     "iopub.execute_input": "2022-05-26T10:06:49.335424Z",
     "iopub.status.busy": "2022-05-26T10:06:49.335424Z",
     "iopub.status.idle": "2022-05-26T10:06:49.474380Z",
     "shell.execute_reply": "2022-05-26T10:06:49.473708Z",
     "shell.execute_reply.started": "2022-05-26T10:06:49.335424Z"
    },
    "tags": []
   },
   "outputs": [],
   "source": [
    "ovs_list = []\n",
    "\n",
    "for df, num_LOS in zip(df_list, num_LOS_list):\n",
    "    \n",
    "    df['place'] = num_LOS[0:4] # 01_1\n",
    "    \n",
    "    pvt = pd.pivot_table(df,\n",
    "                         index = ['place', 'Lane Identification', 'Vehicle ID'],\n",
    "                         values = ['Vehicle Velocity(km/h)', 'Vehicle Acceleration'],\n",
    "                         aggfunc = {'Vehicle Velocity(km/h)': 'mean', 'Vehicle Acceleration':'mean'})\n",
    "    pvt.reset_index(inplace = True)\n",
    "    \n",
    "    ovs = pd.merge(left = pvt, right = target_info, how = 'left', left_on = 'place', right_on = 'place')\n",
    "    \n",
    "    ovs['overspeed'] = ovs[['Vehicle Velocity(km/h)', 'speed_limit']].apply(lambda x: overspeed(*x), axis = 1)\n",
    "            \n",
    "    globals()[f'ovs{num_LOS}'] = ovs\n",
    "    ovs_list.append(ovs)"
   ]
  },
  {
   "cell_type": "code",
   "execution_count": 31,
   "metadata": {
    "execution": {
     "iopub.execute_input": "2022-05-26T10:06:49.474380Z",
     "iopub.status.busy": "2022-05-26T10:06:49.474380Z",
     "iopub.status.idle": "2022-05-26T10:06:49.488885Z",
     "shell.execute_reply": "2022-05-26T10:06:49.488885Z",
     "shell.execute_reply.started": "2022-05-26T10:06:49.474380Z"
    },
    "tags": []
   },
   "outputs": [
    {
     "data": {
      "text/html": [
       "<div>\n",
       "<style scoped>\n",
       "    .dataframe tbody tr th:only-of-type {\n",
       "        vertical-align: middle;\n",
       "    }\n",
       "\n",
       "    .dataframe tbody tr th {\n",
       "        vertical-align: top;\n",
       "    }\n",
       "\n",
       "    .dataframe thead th {\n",
       "        text-align: right;\n",
       "    }\n",
       "</style>\n",
       "<table border=\"1\" class=\"dataframe\">\n",
       "  <thead>\n",
       "    <tr style=\"text-align: right;\">\n",
       "      <th></th>\n",
       "      <th>place</th>\n",
       "      <th>Lane Identification</th>\n",
       "      <th>Vehicle ID</th>\n",
       "      <th>Vehicle Acceleration</th>\n",
       "      <th>Vehicle Velocity(km/h)</th>\n",
       "      <th>length</th>\n",
       "      <th>speed_limit</th>\n",
       "      <th>lane_num</th>\n",
       "      <th>lane_num_added</th>\n",
       "      <th>Unnamed: 5</th>\n",
       "      <th>order</th>\n",
       "      <th>etc</th>\n",
       "      <th>overspeed</th>\n",
       "    </tr>\n",
       "  </thead>\n",
       "  <tbody>\n",
       "    <tr>\n",
       "      <th>0</th>\n",
       "      <td>02_1</td>\n",
       "      <td>U1</td>\n",
       "      <td>96</td>\n",
       "      <td>-1.007428</td>\n",
       "      <td>94.501850</td>\n",
       "      <td>236.7</td>\n",
       "      <td>100</td>\n",
       "      <td>4</td>\n",
       "      <td>NaN</td>\n",
       "      <td>NaN</td>\n",
       "      <td>2</td>\n",
       "      <td>Basic</td>\n",
       "      <td>None</td>\n",
       "    </tr>\n",
       "    <tr>\n",
       "      <th>1</th>\n",
       "      <td>02_1</td>\n",
       "      <td>U1</td>\n",
       "      <td>115</td>\n",
       "      <td>-0.360421</td>\n",
       "      <td>98.841084</td>\n",
       "      <td>236.7</td>\n",
       "      <td>100</td>\n",
       "      <td>4</td>\n",
       "      <td>NaN</td>\n",
       "      <td>NaN</td>\n",
       "      <td>2</td>\n",
       "      <td>Basic</td>\n",
       "      <td>None</td>\n",
       "    </tr>\n",
       "    <tr>\n",
       "      <th>2</th>\n",
       "      <td>02_1</td>\n",
       "      <td>U1</td>\n",
       "      <td>122</td>\n",
       "      <td>-0.706735</td>\n",
       "      <td>101.559919</td>\n",
       "      <td>236.7</td>\n",
       "      <td>100</td>\n",
       "      <td>4</td>\n",
       "      <td>NaN</td>\n",
       "      <td>NaN</td>\n",
       "      <td>2</td>\n",
       "      <td>Basic</td>\n",
       "      <td>None</td>\n",
       "    </tr>\n",
       "  </tbody>\n",
       "</table>\n",
       "</div>"
      ],
      "text/plain": [
       "  place Lane Identification  Vehicle ID  Vehicle Acceleration  \\\n",
       "0  02_1                  U1          96             -1.007428   \n",
       "1  02_1                  U1         115             -0.360421   \n",
       "2  02_1                  U1         122             -0.706735   \n",
       "\n",
       "   Vehicle Velocity(km/h)  length  speed_limit  lane_num  lane_num_added  \\\n",
       "0               94.501850   236.7          100         4             NaN   \n",
       "1               98.841084   236.7          100         4             NaN   \n",
       "2              101.559919   236.7          100         4             NaN   \n",
       "\n",
       "   Unnamed: 5  order    etc overspeed  \n",
       "0         NaN      2  Basic      None  \n",
       "1         NaN      2  Basic      None  \n",
       "2         NaN      2  Basic      None  "
      ]
     },
     "execution_count": 31,
     "metadata": {},
     "output_type": "execute_result"
    }
   ],
   "source": [
    "ovs_list[0].head(3)"
   ]
  },
  {
   "cell_type": "markdown",
   "metadata": {},
   "source": [
    "### 과속차량(over) 필터링 후 처리\n",
    "* 과속한 차량대수\n",
    "* 과속한 차량 대수를 교통류율로 환산\n",
    "* 과속한 차량끼리의 공간평균속도를 구하기"
   ]
  },
  {
   "cell_type": "code",
   "execution_count": 32,
   "metadata": {
    "execution": {
     "iopub.execute_input": "2022-05-26T10:06:49.488885Z",
     "iopub.status.busy": "2022-05-26T10:06:49.488885Z",
     "iopub.status.idle": "2022-05-26T10:06:49.504069Z",
     "shell.execute_reply": "2022-05-26T10:06:49.504069Z",
     "shell.execute_reply.started": "2022-05-26T10:06:49.488885Z"
    },
    "tags": []
   },
   "outputs": [],
   "source": [
    "folder_name = '02-3_overspeed'\n",
    "\n",
    "save_overspeed_dir = os.path.join(folder_dir, folder_name)\n",
    "\n",
    "os.makedirs(save_overspeed_dir, exist_ok = True) # 해당 경로가 없을 시 폴더 생성, 존재할 경우 건너뛰기"
   ]
  },
  {
   "cell_type": "code",
   "execution_count": 33,
   "metadata": {
    "execution": {
     "iopub.execute_input": "2022-05-26T10:06:49.505103Z",
     "iopub.status.busy": "2022-05-26T10:06:49.505103Z",
     "iopub.status.idle": "2022-05-26T10:06:49.551448Z",
     "shell.execute_reply": "2022-05-26T10:06:49.551448Z",
     "shell.execute_reply.started": "2022-05-26T10:06:49.505103Z"
    },
    "tags": []
   },
   "outputs": [
    {
     "name": "stdout",
     "output_type": "stream",
     "text": [
      "02_1_B 1\n",
      "02_1_C 1\n"
     ]
    }
   ],
   "source": [
    "for ovs, num_LOS in zip(ovs_list, num_LOS_list):\n",
    "    \n",
    "    ovs_only = ovs[ovs['overspeed'] == 'Overspeed']\n",
    "    \n",
    "    ovs_veh = pd.pivot_table(ovs_only, \n",
    "                             index = 'Lane Identification',\n",
    "                             values = ['Vehicle ID', 'Vehicle Velocity(km/h)'],\n",
    "                             aggfunc = {'Vehicle ID': unq, 'Vehicle Velocity(km/h)': harmonic})\n",
    "    \n",
    "    ovs_veh.reset_index(inplace = True)\n",
    "    \n",
    "    if len(ovs_veh) > 0:\n",
    "        print(num_LOS, len(ovs_only))\n",
    "        #ovs2_veh['flow_rate(vph)'] = ovs2_veh['Vehicle ID_x'] * 3600/tmsec\n",
    "        save_overspeed_file = f'overspeed{num_LOS}.csv'\n",
    "        save_overspeed_path = os.path.join(save_overspeed_dir, save_overspeed_file)\n",
    "        ovs_veh.to_csv(save_overspeed_path, encoding = 'cp949')\n",
    "        \n",
    "    else:\n",
    "        pass"
   ]
  },
  {
   "cell_type": "markdown",
   "metadata": {},
   "source": [
    "## 급감속(sudden_dec)\n",
    "* **급감속** : 초당 8km/h 이상 감속 운행하고 속도가 6.0km/h 이상인 경우\n",
    "    * 화물차의 것을 기준으로 한 정의임\n",
    "* 이것이야말로 '초'당 피벗 테이블이 필요함"
   ]
  },
  {
   "cell_type": "markdown",
   "metadata": {
    "execution": {
     "iopub.execute_input": "2021-08-13T13:54:04.866356Z",
     "iopub.status.busy": "2021-08-13T13:54:04.866356Z",
     "iopub.status.idle": "2021-08-13T13:54:04.881315Z",
     "shell.execute_reply": "2021-08-13T13:54:04.881315Z",
     "shell.execute_reply.started": "2021-08-13T13:54:04.866356Z"
    },
    "tags": []
   },
   "source": [
    "### time_group : 1초 단위로 묶은 파생변수 생성\n",
    "* 1초 단위 피벗을 하기 위함임"
   ]
  },
  {
   "cell_type": "code",
   "execution_count": 34,
   "metadata": {
    "execution": {
     "iopub.execute_input": "2022-05-26T10:06:49.551448Z",
     "iopub.status.busy": "2022-05-26T10:06:49.551448Z",
     "iopub.status.idle": "2022-05-26T10:06:49.566780Z",
     "shell.execute_reply": "2022-05-26T10:06:49.566780Z",
     "shell.execute_reply.started": "2022-05-26T10:06:49.551448Z"
    },
    "tags": []
   },
   "outputs": [],
   "source": [
    "frame_rate = 30"
   ]
  },
  {
   "cell_type": "code",
   "execution_count": 35,
   "metadata": {
    "execution": {
     "iopub.execute_input": "2022-05-26T10:06:49.567808Z",
     "iopub.status.busy": "2022-05-26T10:06:49.567808Z",
     "iopub.status.idle": "2022-05-26T10:06:50.238218Z",
     "shell.execute_reply": "2022-05-26T10:06:50.238218Z",
     "shell.execute_reply.started": "2022-05-26T10:06:49.567808Z"
    },
    "tags": []
   },
   "outputs": [
    {
     "name": "stderr",
     "output_type": "stream",
     "text": [
      "8it [00:00, 12.12it/s]\n"
     ]
    }
   ],
   "source": [
    "pivot_df_list = []\n",
    "\n",
    "for df, num_LOS in tqdm(zip(df_list, num_LOS_list)):\n",
    "    \n",
    "    df['timespot'] = round(df['Frame ID']/frame_rate) # frame_rate == 30\n",
    "    \n",
    "    vehicle_list = df['Vehicle ID'].unique()\n",
    "    \n",
    "    pivot_df = pd.pivot_table(df, \n",
    "                              index = ['Lane Identification', 'Vehicle ID', 'timespot'],\n",
    "                              values = ['Vehicle Velocity(km/h)' ,'Vehicle Acceleration'],\n",
    "                              aggfunc = {'Vehicle Velocity(km/h)': harmonic, 'Vehicle Acceleration' : 'mean'})\n",
    "    \n",
    "    pivot_df = pivot_df.reset_index()\n",
    "    \n",
    "    pivot_df_list.append(pivot_df)"
   ]
  },
  {
   "cell_type": "code",
   "execution_count": 36,
   "metadata": {
    "execution": {
     "iopub.execute_input": "2022-05-26T10:06:50.239216Z",
     "iopub.status.busy": "2022-05-26T10:06:50.239216Z",
     "iopub.status.idle": "2022-05-26T10:06:50.253776Z",
     "shell.execute_reply": "2022-05-26T10:06:50.253776Z",
     "shell.execute_reply.started": "2022-05-26T10:06:50.239216Z"
    },
    "tags": []
   },
   "outputs": [
    {
     "data": {
      "text/html": [
       "<div>\n",
       "<style scoped>\n",
       "    .dataframe tbody tr th:only-of-type {\n",
       "        vertical-align: middle;\n",
       "    }\n",
       "\n",
       "    .dataframe tbody tr th {\n",
       "        vertical-align: top;\n",
       "    }\n",
       "\n",
       "    .dataframe thead th {\n",
       "        text-align: right;\n",
       "    }\n",
       "</style>\n",
       "<table border=\"1\" class=\"dataframe\">\n",
       "  <thead>\n",
       "    <tr style=\"text-align: right;\">\n",
       "      <th></th>\n",
       "      <th>Lane Identification</th>\n",
       "      <th>Vehicle ID</th>\n",
       "      <th>timespot</th>\n",
       "      <th>Vehicle Acceleration</th>\n",
       "      <th>Vehicle Velocity(km/h)</th>\n",
       "    </tr>\n",
       "  </thead>\n",
       "  <tbody>\n",
       "    <tr>\n",
       "      <th>0</th>\n",
       "      <td>U1</td>\n",
       "      <td>96</td>\n",
       "      <td>40.0</td>\n",
       "      <td>-0.569293</td>\n",
       "      <td>108.885408</td>\n",
       "    </tr>\n",
       "    <tr>\n",
       "      <th>1</th>\n",
       "      <td>U1</td>\n",
       "      <td>96</td>\n",
       "      <td>41.0</td>\n",
       "      <td>-2.192502</td>\n",
       "      <td>104.517163</td>\n",
       "    </tr>\n",
       "    <tr>\n",
       "      <th>2</th>\n",
       "      <td>U1</td>\n",
       "      <td>96</td>\n",
       "      <td>42.0</td>\n",
       "      <td>-1.584024</td>\n",
       "      <td>96.963159</td>\n",
       "    </tr>\n",
       "    <tr>\n",
       "      <th>3</th>\n",
       "      <td>U1</td>\n",
       "      <td>96</td>\n",
       "      <td>43.0</td>\n",
       "      <td>-0.711149</td>\n",
       "      <td>93.168925</td>\n",
       "    </tr>\n",
       "    <tr>\n",
       "      <th>4</th>\n",
       "      <td>U1</td>\n",
       "      <td>96</td>\n",
       "      <td>44.0</td>\n",
       "      <td>0.086139</td>\n",
       "      <td>92.768668</td>\n",
       "    </tr>\n",
       "    <tr>\n",
       "      <th>...</th>\n",
       "      <td>...</td>\n",
       "      <td>...</td>\n",
       "      <td>...</td>\n",
       "      <td>...</td>\n",
       "      <td>...</td>\n",
       "    </tr>\n",
       "    <tr>\n",
       "      <th>1169</th>\n",
       "      <td>U4</td>\n",
       "      <td>20949</td>\n",
       "      <td>6955.0</td>\n",
       "      <td>-0.034751</td>\n",
       "      <td>82.082604</td>\n",
       "    </tr>\n",
       "    <tr>\n",
       "      <th>1170</th>\n",
       "      <td>U4</td>\n",
       "      <td>20949</td>\n",
       "      <td>6956.0</td>\n",
       "      <td>0.420871</td>\n",
       "      <td>82.669948</td>\n",
       "    </tr>\n",
       "    <tr>\n",
       "      <th>1171</th>\n",
       "      <td>U4</td>\n",
       "      <td>20949</td>\n",
       "      <td>6957.0</td>\n",
       "      <td>0.918629</td>\n",
       "      <td>83.423648</td>\n",
       "    </tr>\n",
       "    <tr>\n",
       "      <th>1172</th>\n",
       "      <td>U4</td>\n",
       "      <td>20983</td>\n",
       "      <td>6961.0</td>\n",
       "      <td>0.566271</td>\n",
       "      <td>88.114444</td>\n",
       "    </tr>\n",
       "    <tr>\n",
       "      <th>1173</th>\n",
       "      <td>U4</td>\n",
       "      <td>20983</td>\n",
       "      <td>6962.0</td>\n",
       "      <td>-1.606983</td>\n",
       "      <td>87.790969</td>\n",
       "    </tr>\n",
       "  </tbody>\n",
       "</table>\n",
       "<p>1174 rows × 5 columns</p>\n",
       "</div>"
      ],
      "text/plain": [
       "     Lane Identification  Vehicle ID  timespot  Vehicle Acceleration  \\\n",
       "0                     U1          96      40.0             -0.569293   \n",
       "1                     U1          96      41.0             -2.192502   \n",
       "2                     U1          96      42.0             -1.584024   \n",
       "3                     U1          96      43.0             -0.711149   \n",
       "4                     U1          96      44.0              0.086139   \n",
       "...                  ...         ...       ...                   ...   \n",
       "1169                  U4       20949    6955.0             -0.034751   \n",
       "1170                  U4       20949    6956.0              0.420871   \n",
       "1171                  U4       20949    6957.0              0.918629   \n",
       "1172                  U4       20983    6961.0              0.566271   \n",
       "1173                  U4       20983    6962.0             -1.606983   \n",
       "\n",
       "      Vehicle Velocity(km/h)  \n",
       "0                 108.885408  \n",
       "1                 104.517163  \n",
       "2                  96.963159  \n",
       "3                  93.168925  \n",
       "4                  92.768668  \n",
       "...                      ...  \n",
       "1169               82.082604  \n",
       "1170               82.669948  \n",
       "1171               83.423648  \n",
       "1172               88.114444  \n",
       "1173               87.790969  \n",
       "\n",
       "[1174 rows x 5 columns]"
      ]
     },
     "execution_count": 36,
     "metadata": {},
     "output_type": "execute_result"
    }
   ],
   "source": [
    "pivot_df_list[0]"
   ]
  },
  {
   "cell_type": "markdown",
   "metadata": {},
   "source": [
    "### 필요 함수 정의 : sudden_dec\n",
    "* **급감속** : 초당 8km/h 이상 감속 운행하고 속도가 6.0km/h 이상인 경우\n",
    "* 가속도를 초속(m/s)으로 통일할 것"
   ]
  },
  {
   "cell_type": "code",
   "execution_count": 37,
   "metadata": {
    "execution": {
     "iopub.execute_input": "2022-05-26T10:06:50.254775Z",
     "iopub.status.busy": "2022-05-26T10:06:50.254775Z",
     "iopub.status.idle": "2022-05-26T10:06:50.269788Z",
     "shell.execute_reply": "2022-05-26T10:06:50.269788Z",
     "shell.execute_reply.started": "2022-05-26T10:06:50.254775Z"
    },
    "tags": []
   },
   "outputs": [],
   "source": [
    "def sudden_dec(velocity, acceleration):\n",
    "    \"\"\"급감속인 경우 sudden_dec 판정\"\"\"\n",
    "    if velocity >= 6.0 and acceleration <= -8.0 * (1000/3600):\n",
    "        return 'sudden_dec'\n",
    "    else:\n",
    "        pass"
   ]
  },
  {
   "cell_type": "markdown",
   "metadata": {},
   "source": [
    "### 급감속(sudden_dec) 표시 후 저장"
   ]
  },
  {
   "cell_type": "code",
   "execution_count": 38,
   "metadata": {
    "execution": {
     "iopub.execute_input": "2022-05-26T10:06:50.270786Z",
     "iopub.status.busy": "2022-05-26T10:06:50.270786Z",
     "iopub.status.idle": "2022-05-26T10:06:50.285046Z",
     "shell.execute_reply": "2022-05-26T10:06:50.285046Z",
     "shell.execute_reply.started": "2022-05-26T10:06:50.270786Z"
    },
    "tags": []
   },
   "outputs": [],
   "source": [
    "folder_name = '02-4_sudden_dec'\n",
    "\n",
    "save_SuddenDec_dir = os.path.join(folder_dir, folder_name)\n",
    "\n",
    "os.makedirs(save_SuddenDec_dir, exist_ok = True) # 해당 경로가 없을 시 폴더 생성, 존재할 경우 건너뛰기"
   ]
  },
  {
   "cell_type": "code",
   "execution_count": 39,
   "metadata": {
    "execution": {
     "iopub.execute_input": "2022-05-26T10:06:50.286045Z",
     "iopub.status.busy": "2022-05-26T10:06:50.286045Z",
     "iopub.status.idle": "2022-05-26T10:06:50.440345Z",
     "shell.execute_reply": "2022-05-26T10:06:50.440345Z",
     "shell.execute_reply.started": "2022-05-26T10:06:50.286045Z"
    },
    "tags": []
   },
   "outputs": [],
   "source": [
    "for pivot_df, num_LOS in zip(pivot_df_list, num_LOS_list):\n",
    "    \n",
    "    pivot_df['sudden_dec'] = pivot_df[['Vehicle Velocity(km/h)', 'Vehicle Acceleration']].apply(lambda x: sudden_dec(*x), axis = 1)\n",
    "    \n",
    "    save_SuddenDec_file = f'SuddenDec{num_LOS}.csv'\n",
    "    save_SuddenDec_path = os.path.join(save_SuddenDec_dir, save_SuddenDec_file)\n",
    "    \n",
    "    pivot_df.to_csv(save_SuddenDec_path, encoding = 'cp949')"
   ]
  },
  {
   "cell_type": "code",
   "execution_count": 40,
   "metadata": {
    "execution": {
     "iopub.execute_input": "2022-05-26T10:06:50.441311Z",
     "iopub.status.busy": "2022-05-26T10:06:50.441311Z",
     "iopub.status.idle": "2022-05-26T10:06:50.456574Z",
     "shell.execute_reply": "2022-05-26T10:06:50.455600Z",
     "shell.execute_reply.started": "2022-05-26T10:06:50.441311Z"
    },
    "tags": []
   },
   "outputs": [
    {
     "data": {
      "text/html": [
       "<div>\n",
       "<style scoped>\n",
       "    .dataframe tbody tr th:only-of-type {\n",
       "        vertical-align: middle;\n",
       "    }\n",
       "\n",
       "    .dataframe tbody tr th {\n",
       "        vertical-align: top;\n",
       "    }\n",
       "\n",
       "    .dataframe thead th {\n",
       "        text-align: right;\n",
       "    }\n",
       "</style>\n",
       "<table border=\"1\" class=\"dataframe\">\n",
       "  <thead>\n",
       "    <tr style=\"text-align: right;\">\n",
       "      <th></th>\n",
       "      <th>Lane Identification</th>\n",
       "      <th>Vehicle ID</th>\n",
       "      <th>timespot</th>\n",
       "      <th>Vehicle Acceleration</th>\n",
       "      <th>Vehicle Velocity(km/h)</th>\n",
       "      <th>sudden_dec</th>\n",
       "    </tr>\n",
       "  </thead>\n",
       "  <tbody>\n",
       "    <tr>\n",
       "      <th>0</th>\n",
       "      <td>U1</td>\n",
       "      <td>96</td>\n",
       "      <td>40.0</td>\n",
       "      <td>-0.569293</td>\n",
       "      <td>108.885408</td>\n",
       "      <td>None</td>\n",
       "    </tr>\n",
       "    <tr>\n",
       "      <th>1</th>\n",
       "      <td>U1</td>\n",
       "      <td>96</td>\n",
       "      <td>41.0</td>\n",
       "      <td>-2.192502</td>\n",
       "      <td>104.517163</td>\n",
       "      <td>None</td>\n",
       "    </tr>\n",
       "    <tr>\n",
       "      <th>2</th>\n",
       "      <td>U1</td>\n",
       "      <td>96</td>\n",
       "      <td>42.0</td>\n",
       "      <td>-1.584024</td>\n",
       "      <td>96.963159</td>\n",
       "      <td>None</td>\n",
       "    </tr>\n",
       "    <tr>\n",
       "      <th>3</th>\n",
       "      <td>U1</td>\n",
       "      <td>96</td>\n",
       "      <td>43.0</td>\n",
       "      <td>-0.711149</td>\n",
       "      <td>93.168925</td>\n",
       "      <td>None</td>\n",
       "    </tr>\n",
       "    <tr>\n",
       "      <th>4</th>\n",
       "      <td>U1</td>\n",
       "      <td>96</td>\n",
       "      <td>44.0</td>\n",
       "      <td>0.086139</td>\n",
       "      <td>92.768668</td>\n",
       "      <td>None</td>\n",
       "    </tr>\n",
       "  </tbody>\n",
       "</table>\n",
       "</div>"
      ],
      "text/plain": [
       "  Lane Identification  Vehicle ID  timespot  Vehicle Acceleration  \\\n",
       "0                  U1          96      40.0             -0.569293   \n",
       "1                  U1          96      41.0             -2.192502   \n",
       "2                  U1          96      42.0             -1.584024   \n",
       "3                  U1          96      43.0             -0.711149   \n",
       "4                  U1          96      44.0              0.086139   \n",
       "\n",
       "   Vehicle Velocity(km/h) sudden_dec  \n",
       "0              108.885408       None  \n",
       "1              104.517163       None  \n",
       "2               96.963159       None  \n",
       "3               93.168925       None  \n",
       "4               92.768668       None  "
      ]
     },
     "execution_count": 40,
     "metadata": {},
     "output_type": "execute_result"
    }
   ],
   "source": [
    "pivot_df_list[0].head()"
   ]
  },
  {
   "cell_type": "markdown",
   "metadata": {},
   "source": [
    "### 급감속, 급가속 필터링 후 처리\n",
    "* 급감속/급가속한 차량대수\n",
    "* 해당 차량 대수를 교통류율로 환산\n",
    "* 해당 차량끼리의 평균 가속도를 구하기"
   ]
  },
  {
   "cell_type": "code",
   "execution_count": 41,
   "metadata": {
    "execution": {
     "iopub.execute_input": "2022-05-26T10:06:50.458567Z",
     "iopub.status.busy": "2022-05-26T10:06:50.457569Z",
     "iopub.status.idle": "2022-05-26T10:06:50.472647Z",
     "shell.execute_reply": "2022-05-26T10:06:50.471136Z",
     "shell.execute_reply.started": "2022-05-26T10:06:50.458567Z"
    },
    "tags": []
   },
   "outputs": [],
   "source": [
    "folder_name = '02-5_sudden_dec_aggregated'\n",
    "\n",
    "save_SuddenDecAgg_dir = os.path.join(folder_dir, folder_name)\n",
    "\n",
    "os.makedirs(save_SuddenDecAgg_dir, exist_ok = True) # 해당 경로가 없을 시 폴더 생성, 존재할 경우 건너뛰기"
   ]
  },
  {
   "cell_type": "code",
   "execution_count": 42,
   "metadata": {
    "execution": {
     "iopub.execute_input": "2022-05-26T10:06:50.473685Z",
     "iopub.status.busy": "2022-05-26T10:06:50.473685Z",
     "iopub.status.idle": "2022-05-26T10:06:50.579848Z",
     "shell.execute_reply": "2022-05-26T10:06:50.579848Z",
     "shell.execute_reply.started": "2022-05-26T10:06:50.473685Z"
    },
    "tags": []
   },
   "outputs": [
    {
     "name": "stdout",
     "output_type": "stream",
     "text": [
      "02_1_A 4\n",
      "02_1_B 4\n",
      "02_1_C 4\n",
      "02_1_D 4\n",
      "02_2_A 4\n",
      "02_2_B 4\n",
      "02_2_C 4\n",
      "02_2_D 4\n"
     ]
    }
   ],
   "source": [
    "for pivot_df, num_LOS in zip(pivot_df_list, num_LOS_list):\n",
    "    \n",
    "    SuddenDecAgg = pd.pivot_table(pivot_df[pivot_df['sudden_dec'] == 'sudden_dec'],\n",
    "                                  index = ['Lane Identification', 'sudden_dec'],\n",
    "                                  values = ['Vehicle ID', 'Vehicle Acceleration'],\n",
    "                                  aggfunc = {'Vehicle ID': unq, 'Vehicle Acceleration': 'mean'})\n",
    "    \n",
    "    SuddenDecAgg.reset_index(inplace = True)\n",
    "    \n",
    "    if len(SuddenDecAgg) > 0:\n",
    "        print(num_LOS, len(SuddenDecAgg))\n",
    "        save_SuddenDecAgg_file = f'SuddenDecAgg{num_LOS}.csv'\n",
    "        save_SuddenDecAgg_path = os.path.join(save_SuddenDecAgg_dir, save_SuddenDecAgg_file)\n",
    "        SuddenDecAgg.to_csv(save_SuddenDecAgg_path, encoding = 'cp949')\n",
    "        \n",
    "    else:\n",
    "        pass"
   ]
  }
 ],
 "metadata": {
  "kernelspec": {
   "display_name": "Python 3",
   "language": "python",
   "name": "python3"
  },
  "language_info": {
   "codemirror_mode": {
    "name": "ipython",
    "version": 3
   },
   "file_extension": ".py",
   "mimetype": "text/x-python",
   "name": "python",
   "nbconvert_exporter": "python",
   "pygments_lexer": "ipython3",
   "version": "3.8.8"
  }
 },
 "nbformat": 4,
 "nbformat_minor": 4
}
