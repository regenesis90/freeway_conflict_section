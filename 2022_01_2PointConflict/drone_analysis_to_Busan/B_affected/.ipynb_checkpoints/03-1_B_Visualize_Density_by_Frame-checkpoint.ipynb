{
 "cells": [
  {
   "cell_type": "markdown",
   "id": "7762f060-7535-4fec-8e5f-72a3efb1b4a5",
   "metadata": {},
   "source": [
    "# Calculate Density By Frame : B(분류부 본선 용량)\n",
    "0. `00_dataset_filtered`의 파일을 로드\n",
    "1. 3~6 차선만 필터링\n",
    "2. 프레임 ID별 오름차순 정렬 - **시간순 정렬을 위함**\n",
    "3. 프레임 ID별 Vehicle ID 수 산출 - **각 시간대별 차량 대수를 산정, 밀도 산출에 사용 **\n",
    "4. **`구간길이`**를 사용하여 프레임별 밀도 산출\n",
    "5. 프레임별 밀도를 Plotly를 사용한 시계열 그래프로 나타내기\n",
    "6. 프레임별 밀도, LOS 평가 : 고속도로 기본구간 기준 적용\n",
    "7. 각 대상지의 차량 궤적정보와 해당 프레임에서 LOS를 JOIN"
   ]
  },
  {
   "cell_type": "markdown",
   "id": "20a3be5e-7403-4bae-82dc-491a571e4485",
   "metadata": {},
   "source": [
    "## Imports"
   ]
  },
  {
   "cell_type": "code",
   "execution_count": 1,
   "id": "7f9f8342-9326-46a7-b3be-14ddff1e9d0d",
   "metadata": {
    "execution": {
     "iopub.execute_input": "2022-05-26T07:08:53.851432Z",
     "iopub.status.busy": "2022-05-26T07:08:53.850434Z",
     "iopub.status.idle": "2022-05-26T07:08:55.576939Z",
     "shell.execute_reply": "2022-05-26T07:08:55.576330Z",
     "shell.execute_reply.started": "2022-05-26T07:08:53.850434Z"
    },
    "tags": []
   },
   "outputs": [],
   "source": [
    "import datetime as dt\n",
    "import os\n",
    "import pandas as pd\n",
    "import numpy as np\n",
    "from tqdm import tqdm\n",
    "\n",
    "# Plotly : 인터랙티브 그래프를 그려주는 패키지\n",
    "from plotly.subplots import make_subplots\n",
    "import plotly.express as px\n",
    "import plotly.graph_objects as go\n",
    "import plotly.io as po"
   ]
  },
  {
   "cell_type": "markdown",
   "id": "c220be8c-6fe5-47da-8685-4856abea2bcd",
   "metadata": {},
   "source": [
    "## Load Dataset"
   ]
  },
  {
   "cell_type": "code",
   "execution_count": 2,
   "id": "07733627-b7ef-4ef5-865b-b6d2a8f2b39a",
   "metadata": {
    "execution": {
     "iopub.execute_input": "2022-05-26T07:08:55.576939Z",
     "iopub.status.busy": "2022-05-26T07:08:55.576939Z",
     "iopub.status.idle": "2022-05-26T07:08:55.593303Z",
     "shell.execute_reply": "2022-05-26T07:08:55.592306Z",
     "shell.execute_reply.started": "2022-05-26T07:08:55.576939Z"
    },
    "tags": []
   },
   "outputs": [],
   "source": [
    "folder_dir = 'D:/OneDrive - 연세대학교 (Yonsei University)/Projects/Yonsei_TELab/003_도로상충_210517-/2차년도_2022/17_드론궤적분석자료_2점분합류_금호JC_부산방향/B_affected'"
   ]
  },
  {
   "cell_type": "code",
   "execution_count": 3,
   "id": "04bae911-bc44-4885-afc4-fc20a382b021",
   "metadata": {
    "execution": {
     "iopub.execute_input": "2022-05-26T07:08:55.594300Z",
     "iopub.status.busy": "2022-05-26T07:08:55.594300Z",
     "iopub.status.idle": "2022-05-26T07:08:55.608340Z",
     "shell.execute_reply": "2022-05-26T07:08:55.608340Z",
     "shell.execute_reply.started": "2022-05-26T07:08:55.594300Z"
    },
    "tags": []
   },
   "outputs": [],
   "source": [
    "folder_name = '00_dataset_filtered' # 각 .csv 파일이 있는 폴더경로\n",
    "\n",
    "file_dir = os.path.join(folder_dir, folder_name)"
   ]
  },
  {
   "cell_type": "code",
   "execution_count": 4,
   "id": "6951b666-364b-4007-a4d3-97559131e593",
   "metadata": {
    "execution": {
     "iopub.execute_input": "2022-05-26T07:08:55.611309Z",
     "iopub.status.busy": "2022-05-26T07:08:55.610315Z",
     "iopub.status.idle": "2022-05-26T07:08:55.623781Z",
     "shell.execute_reply": "2022-05-26T07:08:55.623781Z",
     "shell.execute_reply.started": "2022-05-26T07:08:55.611309Z"
    },
    "tags": []
   },
   "outputs": [
    {
     "data": {
      "text/plain": [
       "['02_3.csv', '02_4.csv', '02_5.csv']"
      ]
     },
     "execution_count": 4,
     "metadata": {},
     "output_type": "execute_result"
    }
   ],
   "source": [
    "file_list = os.listdir(file_dir)\n",
    "file_list[0:3]"
   ]
  },
  {
   "cell_type": "code",
   "execution_count": 5,
   "id": "d04f57ef-76c8-489e-a50f-3bf3d932f04b",
   "metadata": {
    "execution": {
     "iopub.execute_input": "2022-05-26T07:08:55.625288Z",
     "iopub.status.busy": "2022-05-26T07:08:55.625288Z",
     "iopub.status.idle": "2022-05-26T07:08:55.639776Z",
     "shell.execute_reply": "2022-05-26T07:08:55.639776Z",
     "shell.execute_reply.started": "2022-05-26T07:08:55.625288Z"
    },
    "tags": []
   },
   "outputs": [
    {
     "name": "stdout",
     "output_type": "stream",
     "text": [
      "['02'] \n",
      " ['3', '4', '5', '6']\n"
     ]
    }
   ],
   "source": [
    "# 파일명으로부터 대상지 번호, 촬영 순서, 영상번호를 추출\n",
    "tgs = [] # 촬영 대상지 번호\n",
    "spots = [] # 촬영 지점\n",
    "videos = [] # 각 지점에서의 영상 번호\n",
    "\n",
    "for file in file_list: # 전체 파일 리스트를 돌며\n",
    "    tg = file[0:2] # 파일명으로부터 촬영 대상지 번호(2자리) 추출\n",
    "    spot = file[3] # 파일명으로부터 촬영지점(1자리) 추출\n",
    "    \n",
    "    if tg not in tgs:\n",
    "        tgs.append(tg)\n",
    "        \n",
    "    if spot not in spots:\n",
    "        spots.append(spot)\n",
    "    \n",
    "print(tgs, '\\n', spots)"
   ]
  },
  {
   "cell_type": "code",
   "execution_count": 6,
   "id": "a2ca244d-0dbd-46eb-abd2-1ba5e12dbdc0",
   "metadata": {
    "execution": {
     "iopub.execute_input": "2022-05-26T07:08:55.640774Z",
     "iopub.status.busy": "2022-05-26T07:08:55.640774Z",
     "iopub.status.idle": "2022-05-26T07:08:55.654663Z",
     "shell.execute_reply": "2022-05-26T07:08:55.654663Z",
     "shell.execute_reply.started": "2022-05-26T07:08:55.640774Z"
    },
    "tags": []
   },
   "outputs": [],
   "source": [
    "Lanes = ['U3', 'U4', 'U5', 'U6'] # 3~6차로만 추출, 나머지(본선 직진)는 버림"
   ]
  },
  {
   "cell_type": "code",
   "execution_count": 7,
   "id": "823be08c-2d2d-40fb-81f3-b07a2b566ded",
   "metadata": {
    "execution": {
     "iopub.execute_input": "2022-05-26T07:08:55.655661Z",
     "iopub.status.busy": "2022-05-26T07:08:55.655661Z",
     "iopub.status.idle": "2022-05-26T07:08:56.251345Z",
     "shell.execute_reply": "2022-05-26T07:08:56.251345Z",
     "shell.execute_reply.started": "2022-05-26T07:08:55.655661Z"
    },
    "tags": []
   },
   "outputs": [],
   "source": [
    "# concate 된 파일을 기준으로 데이터프레임 리스트와 넘버링 리스트를 다시 재정의하기\n",
    "\n",
    "df_list = [] # 데이터프레임 리스트 초기화\n",
    "num_list = [] # 데이터프레임 파일명, 즉 넘버링 리스트 초기화\n",
    "\n",
    "for tg in tgs:\n",
    "    for sp in spots:\n",
    "        num = tg + '_' + sp # 파일명 넘버링\n",
    "        file_name = num + '.csv'\n",
    "        file_path = os.path.join(file_dir, file_name)\n",
    "            \n",
    "        if os.path.isfile(file_path): # 해당 file_path에 파일이 존재할 경우\n",
    "            df = pd.read_csv(file_path, encoding = 'cp949')\n",
    "            df = df[df['Lane Identification'].isin(Lanes)]\n",
    "            \n",
    "            globals()[f'target{num}'] = df # .csv 파일을 불러와 인스턴스 만들기\n",
    "            df_list.append(globals()[f'target{num}']) \n",
    "            num_list.append(num)"
   ]
  },
  {
   "cell_type": "code",
   "execution_count": 8,
   "id": "9eaa02e6-9410-4b46-a0e1-d83d41226495",
   "metadata": {
    "execution": {
     "iopub.execute_input": "2022-05-26T07:08:56.252342Z",
     "iopub.status.busy": "2022-05-26T07:08:56.252342Z",
     "iopub.status.idle": "2022-05-26T07:08:56.268077Z",
     "shell.execute_reply": "2022-05-26T07:08:56.267077Z",
     "shell.execute_reply.started": "2022-05-26T07:08:56.252342Z"
    },
    "tags": []
   },
   "outputs": [],
   "source": [
    "#len(target01_2)"
   ]
  },
  {
   "cell_type": "code",
   "execution_count": 9,
   "id": "172735ed-c627-4876-84b9-3f5eb8a97ca1",
   "metadata": {
    "execution": {
     "iopub.execute_input": "2022-05-26T07:08:56.270071Z",
     "iopub.status.busy": "2022-05-26T07:08:56.269074Z",
     "iopub.status.idle": "2022-05-26T07:08:56.471417Z",
     "shell.execute_reply": "2022-05-26T07:08:56.471417Z",
     "shell.execute_reply.started": "2022-05-26T07:08:56.270071Z"
    },
    "tags": []
   },
   "outputs": [
    {
     "ename": "NameError",
     "evalue": "name 'target01_2' is not defined",
     "output_type": "error",
     "traceback": [
      "\u001b[1;31m---------------------------------------------------------------------------\u001b[0m",
      "\u001b[1;31mNameError\u001b[0m                                 Traceback (most recent call last)",
      "\u001b[1;32m<ipython-input-9-ed02ded4b70c>\u001b[0m in \u001b[0;36m<module>\u001b[1;34m\u001b[0m\n\u001b[1;32m----> 1\u001b[1;33m \u001b[0mtarget01_2\u001b[0m\u001b[1;33m.\u001b[0m\u001b[0mhead\u001b[0m\u001b[1;33m(\u001b[0m\u001b[1;36m3\u001b[0m\u001b[1;33m)\u001b[0m\u001b[1;33m\u001b[0m\u001b[1;33m\u001b[0m\u001b[0m\n\u001b[0m",
      "\u001b[1;31mNameError\u001b[0m: name 'target01_2' is not defined"
     ]
    }
   ],
   "source": [
    "#target01_2.head(3)"
   ]
  },
  {
   "cell_type": "markdown",
   "id": "6382c735-3d8b-48ad-9e00-57378df61147",
   "metadata": {},
   "source": [
    "## Time-RCD\n",
    "* 시간을 나타내는 파생변수 `time_rcd`(초)를 생성"
   ]
  },
  {
   "cell_type": "code",
   "execution_count": null,
   "id": "9ed3f328-11a2-4f0e-beee-1c26d167bba0",
   "metadata": {
    "execution": {
     "iopub.status.busy": "2022-05-26T07:08:56.472384Z",
     "iopub.status.idle": "2022-05-26T07:08:56.472384Z",
     "shell.execute_reply": "2022-05-26T07:08:56.472384Z"
    },
    "tags": []
   },
   "outputs": [],
   "source": [
    "frame_rate = 30 # 30프레임으로 수집된 데이터임"
   ]
  },
  {
   "cell_type": "code",
   "execution_count": null,
   "id": "4b6c2ecb-b3ca-4a09-89fe-6bbb4a27db0b",
   "metadata": {
    "execution": {
     "iopub.status.busy": "2022-05-26T07:08:56.473380Z",
     "iopub.status.idle": "2022-05-26T07:08:56.473380Z",
     "shell.execute_reply": "2022-05-26T07:08:56.473380Z"
    },
    "tags": []
   },
   "outputs": [],
   "source": [
    "num_list"
   ]
  },
  {
   "cell_type": "code",
   "execution_count": null,
   "id": "cd90c736-8e46-4463-a65f-de7b85b4ad01",
   "metadata": {
    "execution": {
     "iopub.status.busy": "2022-05-26T07:08:56.474378Z",
     "iopub.status.idle": "2022-05-26T07:08:56.474378Z",
     "shell.execute_reply": "2022-05-26T07:08:56.474378Z"
    },
    "tags": []
   },
   "outputs": [],
   "source": [
    "for df in df_list:\n",
    "    first_time = df['Frame ID'].iloc[0] # 첫 시점(프레임 ID)\n",
    "    df['time_rcd'] = (df['Frame ID'] - first_time)/frame_rate # time_rcd 라는 (초)단위의 컬럼을 생성"
   ]
  },
  {
   "cell_type": "markdown",
   "id": "01051f0d-337d-4ab3-b4d5-64b1ecb9cedf",
   "metadata": {},
   "source": [
    "## Vehicles by Frames\n",
    "* 각 프레임별 차량대수를 산정(프레임별 밀도를 계산하기 위함)\n",
    "* 프레임 ID별 오름차순 정렬, 정렬 결과 자체 저장\n",
    "* 프레임 ID별 Vehicle ID 개수(차량대수) 산출"
   ]
  },
  {
   "cell_type": "code",
   "execution_count": null,
   "id": "7089a1e9-8a88-4a08-a6f9-058eb6c1739c",
   "metadata": {
    "execution": {
     "iopub.status.busy": "2022-05-26T07:08:56.474378Z",
     "iopub.status.idle": "2022-05-26T07:08:56.475376Z",
     "shell.execute_reply": "2022-05-26T07:08:56.474378Z"
    },
    "tags": []
   },
   "outputs": [],
   "source": [
    "pivot_list = []\n",
    "\n",
    "for df, num in zip(df_list, num_list):\n",
    "    \n",
    "    df.sort_values(by = ['Frame ID'], axis = 0, inplace = True) #프레임 ID에 대하여 오름차순 정렬하여 각 데이터프레임을 저장\n",
    "    \n",
    "    pv = pd.pivot_table(df, index = ['Frame ID'], values = 'Vehicle ID', aggfunc = 'count') # 각 프레임ID별 Vehicle ID 개수(=차량대수)를 세어 피벗테이블 생성\n",
    "    \n",
    "    pv['place'] = num # Mutate :: Target(Place) Numbering\n",
    "    pv['FrameID'] = pv.index # FrameID를 인덱스로 설정함\n",
    "    globals()[f'pivot{num}'] = pv\n",
    "    \n",
    "    pivot_list.append(pv)"
   ]
  },
  {
   "cell_type": "code",
   "execution_count": null,
   "id": "f4b537fd-8998-447c-892e-de5bbb209ee6",
   "metadata": {
    "execution": {
     "iopub.status.busy": "2022-05-26T07:08:56.476946Z",
     "iopub.status.idle": "2022-05-26T07:08:56.477979Z",
     "shell.execute_reply": "2022-05-26T07:08:56.476946Z"
    },
    "tags": []
   },
   "outputs": [],
   "source": [
    "#pivot01_2['Vehicle ID'].unique()"
   ]
  },
  {
   "cell_type": "markdown",
   "id": "15c774b5-8b2f-42d8-bf52-fca6331ffc1f",
   "metadata": {},
   "source": [
    "## Calculate Density\n",
    "* 대상지의 촬영지점별 화면 구간길이를 사용하여 프레임별 밀도 산출\n",
    "* 프레임별 밀도를 시계열 그래프로 나타내기"
   ]
  },
  {
   "cell_type": "markdown",
   "id": "a4146510-e827-40ac-bcc4-308cbc59de13",
   "metadata": {},
   "source": [
    "### Load Target Info\n",
    "* 대상지 기본정보 불러오기 : **사전에 작성해야 합니다**\n",
    "    * `place` : 대상지 번호(tg_spot)\n",
    "    * `length` : 대상지 길이(m) -- **드론촬영영상 궤적추출시 미리 입력해야 합니다**\n",
    "    * `speed_limit` : 대상지 제한속도(km/h)\n",
    "    * `lane_num` : 차선 수(개)"
   ]
  },
  {
   "cell_type": "code",
   "execution_count": null,
   "id": "09799067-eb46-4a68-a1ad-e0593a0231d8",
   "metadata": {
    "execution": {
     "iopub.status.busy": "2022-05-26T07:08:56.477979Z",
     "iopub.status.idle": "2022-05-26T07:08:56.477979Z",
     "shell.execute_reply": "2022-05-26T07:08:56.477979Z"
    },
    "tags": []
   },
   "outputs": [],
   "source": [
    "info_file = 'target_info_B_affected.csv' #대상지 정보가 든 파일명 입력"
   ]
  },
  {
   "cell_type": "code",
   "execution_count": null,
   "id": "d7ef79e0-2759-4b8e-a48f-6bea9b9e23b7",
   "metadata": {
    "execution": {
     "iopub.status.busy": "2022-05-26T07:08:56.478947Z",
     "iopub.status.idle": "2022-05-26T07:08:56.478947Z",
     "shell.execute_reply": "2022-05-26T07:08:56.478947Z"
    },
    "tags": []
   },
   "outputs": [],
   "source": [
    "target_info = pd.read_csv(info_file, encoding = 'utf-8')"
   ]
  },
  {
   "cell_type": "code",
   "execution_count": null,
   "id": "09950bc1-4e29-429e-b5d9-e06ce1a7cd54",
   "metadata": {
    "execution": {
     "iopub.status.busy": "2022-05-26T07:08:56.479944Z",
     "iopub.status.idle": "2022-05-26T07:08:56.479944Z",
     "shell.execute_reply": "2022-05-26T07:08:56.479944Z"
    },
    "tags": []
   },
   "outputs": [],
   "source": [
    "target_info.head()"
   ]
  },
  {
   "cell_type": "markdown",
   "id": "1c9c32d8-4338-4609-b360-7b8c4f74bead",
   "metadata": {},
   "source": [
    "## Calculate Density\n",
    "* 각 촬영지점의 프레임별 밀도, LOS를 산정"
   ]
  },
  {
   "cell_type": "markdown",
   "id": "a50cfc7f-ea76-465d-9b2a-cf000e4931c5",
   "metadata": {},
   "source": [
    "### LOS 판정 함수 정의"
   ]
  },
  {
   "cell_type": "code",
   "execution_count": null,
   "id": "942703a4-96ce-4413-a011-b52c34c1fd36",
   "metadata": {
    "execution": {
     "iopub.status.busy": "2022-05-26T07:08:56.479944Z",
     "iopub.status.idle": "2022-05-26T07:08:56.480969Z",
     "shell.execute_reply": "2022-05-26T07:08:56.480969Z"
    },
    "tags": []
   },
   "outputs": [],
   "source": [
    "def LOS_expwy_basic(x:int):\n",
    "    \"\"\"밀도를 바탕으로 LOS를 판정해 주는 함수 :: 고속도로 연결로 접속부 영향권 용량(유출부 교통량) 기준\"\"\"\n",
    "    \n",
    "    if x >= 0 and x <= 6:\n",
    "        return 'A'\n",
    "    \n",
    "    elif x > 6 and x <= 12:\n",
    "        return 'B'\n",
    "    \n",
    "    elif x > 12 and x <= 17:\n",
    "        return 'C'\n",
    "    \n",
    "    elif x > 17 and x <= 22:\n",
    "        return 'D'\n",
    "    \n",
    "    elif x > 22 and x <= 28: # 사실은 용량을 초과하면 F이다. 이 점 오류 없이 알아두도록 하자\n",
    "        return 'E'\n",
    "    \n",
    "    elif x > 28:\n",
    "        return 'F'\n",
    "    \n",
    "    else:\n",
    "        pass"
   ]
  },
  {
   "cell_type": "markdown",
   "id": "4a20b199-cd7c-4bdd-a270-6e3f7aa038fd",
   "metadata": {},
   "source": [
    "### 밀도 및 LOS 계산"
   ]
  },
  {
   "cell_type": "code",
   "execution_count": null,
   "id": "fe96aa06-0340-42cf-8071-5afc79297472",
   "metadata": {
    "execution": {
     "iopub.status.busy": "2022-05-26T07:08:56.480969Z",
     "iopub.status.idle": "2022-05-26T07:08:56.480969Z",
     "shell.execute_reply": "2022-05-26T07:08:56.480969Z"
    },
    "tags": []
   },
   "outputs": [],
   "source": [
    "density_list = []\n",
    "\n",
    "for pv, num in zip(pivot_list, num_list):\n",
    "    \n",
    "    dst = pd.merge(left = pv, right = target_info, how = 'inner', left_on = 'place', right_on = 'place') # 대상지 촬영지점에 대하여 JOIN\n",
    "    \n",
    "    dst['density'] = dst['Vehicle ID'] / dst['length'] / dst['lane_num'] * 1000 # 밀도 : pcpkmpl. 1km내에 1차로당 든 차량의 대수\n",
    "    \n",
    "    dst['LOS'] = dst['density'].apply(LOS_expwy_basic)\n",
    "    \n",
    "    globals()[f'density{num}'] = dst\n",
    "    density_list.append(dst)"
   ]
  },
  {
   "cell_type": "code",
   "execution_count": null,
   "id": "ef811afa-cc20-4c4f-91f0-7c028b72ae53",
   "metadata": {
    "execution": {
     "iopub.status.busy": "2022-05-26T07:08:56.481939Z",
     "iopub.status.idle": "2022-05-26T07:08:56.481939Z",
     "shell.execute_reply": "2022-05-26T07:08:56.481939Z"
    },
    "tags": []
   },
   "outputs": [],
   "source": [
    "#density01_2.tail(3)"
   ]
  },
  {
   "cell_type": "markdown",
   "id": "a88c02db-0c0f-42e1-aff0-4880b2781597",
   "metadata": {},
   "source": [
    "## Draw Line Graph for Density\n",
    "* `01_density_by_frame`에 .csv 파일과 Plotly .html 파일을 저장\n",
    "* 저장된 Plotly 파일은 LOS별 프레임 추출에 사용될 것"
   ]
  },
  {
   "cell_type": "code",
   "execution_count": null,
   "id": "3e138932-f283-4211-9438-9b2b82deb47f",
   "metadata": {
    "execution": {
     "iopub.status.busy": "2022-05-26T07:08:56.482936Z",
     "iopub.status.idle": "2022-05-26T07:08:56.482936Z",
     "shell.execute_reply": "2022-05-26T07:08:56.482936Z"
    },
    "tags": []
   },
   "outputs": [],
   "source": [
    "save_folder_name = '01_density_by_frame'\n",
    "\n",
    "save_dir = os.path.join(folder_dir, save_folder_name)\n",
    "\n",
    "os.makedirs(save_dir, exist_ok = True) # 해당 경로가 없을 시 폴더 생성, 존재할 경우 건너뛰기"
   ]
  },
  {
   "cell_type": "code",
   "execution_count": null,
   "id": "dcaa335d-2c68-408d-a29f-4158ae9fb776",
   "metadata": {
    "execution": {
     "iopub.status.busy": "2022-05-26T07:08:56.482936Z",
     "iopub.status.idle": "2022-05-26T07:08:56.483933Z",
     "shell.execute_reply": "2022-05-26T07:08:56.482936Z"
    },
    "tags": []
   },
   "outputs": [],
   "source": [
    "for dst, num in zip(density_list, num_list):\n",
    "    \n",
    "    fig = px.line(dst, x = 'FrameID', y = 'density', title = f'Density : target{num}')\n",
    "    \n",
    "    fig.add_hrect(y0 = 0, y1 = 6, fillcolor = 'blue', opacity = 0.4, name = 'A')\n",
    "    fig.add_hrect(y0 = 6, y1 = 12, fillcolor = 'blue', opacity = 0.3, name = 'B')\n",
    "    fig.add_hrect(y0 = 12, y1 = 17, fillcolor = 'yellow', opacity = 0.3, name = 'C')\n",
    "    fig.add_hrect(y0 = 17, y1 = 22, fillcolor = 'yellow', opacity = 0.4, name = 'D')\n",
    "    fig.add_hrect(y0 = 22, y1 = 28, fillcolor = 'red', opacity = 0.3, name = 'E')\n",
    "    fig.add_hrect(y0 = 28, y1 = 35, fillcolor = 'red', opacity = 0.4, name = 'F')\n",
    "    \n",
    "    save_html_name = f'{num}.html'\n",
    "    save_html_path = os.path.join(save_dir, save_html_name)\n",
    "    \n",
    "    po.write_html(fig, file = save_html_path) # html Plotly 파일 저장\n",
    "    \n",
    "    save_csv_name = f'{num}.csv'\n",
    "    save_csv_path = os.path.join(save_dir, save_csv_name)\n",
    "    \n",
    "    dst.to_csv(save_csv_path, encoding = 'cp949') # 프레임별 밀도, LOS .csv 파일 저장"
   ]
  },
  {
   "cell_type": "code",
   "execution_count": null,
   "id": "bb642339-6517-425a-b497-9670173b04f9",
   "metadata": {
    "execution": {
     "iopub.status.busy": "2022-05-26T07:08:56.483933Z",
     "iopub.status.idle": "2022-05-26T07:08:56.483933Z",
     "shell.execute_reply": "2022-05-26T07:08:56.483933Z"
    },
    "tags": []
   },
   "outputs": [],
   "source": [
    "fig.show()"
   ]
  }
 ],
 "metadata": {
  "kernelspec": {
   "display_name": "Python 3",
   "language": "python",
   "name": "python3"
  },
  "language_info": {
   "codemirror_mode": {
    "name": "ipython",
    "version": 3
   },
   "file_extension": ".py",
   "mimetype": "text/x-python",
   "name": "python",
   "nbconvert_exporter": "python",
   "pygments_lexer": "ipython3",
   "version": "3.8.8"
  }
 },
 "nbformat": 4,
 "nbformat_minor": 5
}
