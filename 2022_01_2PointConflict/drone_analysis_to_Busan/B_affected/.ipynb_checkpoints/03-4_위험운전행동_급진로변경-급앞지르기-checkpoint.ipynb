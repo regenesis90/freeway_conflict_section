{
 "cells": [
  {
   "cell_type": "markdown",
   "metadata": {},
   "source": [
    "# Set Up"
   ]
  },
  {
   "cell_type": "markdown",
   "metadata": {},
   "source": [
    "## imports"
   ]
  },
  {
   "cell_type": "code",
   "execution_count": 38,
   "metadata": {
    "execution": {
     "iopub.execute_input": "2022-11-07T06:31:25.923749Z",
     "iopub.status.busy": "2022-11-07T06:31:25.922720Z",
     "iopub.status.idle": "2022-11-07T06:31:25.932693Z",
     "shell.execute_reply": "2022-11-07T06:31:25.931695Z",
     "shell.execute_reply.started": "2022-11-07T06:31:25.923749Z"
    },
    "tags": []
   },
   "outputs": [],
   "source": [
    "import pandas as pd\n",
    "import numpy as np\n",
    "\n",
    "import os\n",
    "from tqdm import tqdm\n",
    "import warnings\n",
    "\n",
    "import plotly.express as px\n",
    "import plotly.io as po\n",
    "import plotly.graph_objects as go\n",
    "import matplotlib.pyplot as plt\n",
    "\n",
    "from sklearn.linear_model import LinearRegression\n",
    "from sklearn.preprocessing import PolynomialFeatures\n",
    "\n",
    "import sympy #미분\n",
    "import math # arctangent; math.atan 사용 목적\n",
    "import statistics"
   ]
  },
  {
   "cell_type": "markdown",
   "metadata": {},
   "source": [
    "## Directory"
   ]
  },
  {
   "cell_type": "code",
   "execution_count": 39,
   "metadata": {
    "execution": {
     "iopub.execute_input": "2022-11-07T06:31:25.933690Z",
     "iopub.status.busy": "2022-11-07T06:31:25.933690Z",
     "iopub.status.idle": "2022-11-07T06:31:25.948652Z",
     "shell.execute_reply": "2022-11-07T06:31:25.947657Z",
     "shell.execute_reply.started": "2022-11-07T06:31:25.933690Z"
    },
    "tags": []
   },
   "outputs": [],
   "source": [
    "folder_dir = 'D:/OneDrive - 연세대학교 (Yonsei University)/Projects/Yonsei_TELab/003_도로상충_210517-/2차년도_2022/17_드론궤적분석자료_2점분합류_금호JC_부산방향/B_affected'"
   ]
  },
  {
   "cell_type": "code",
   "execution_count": 40,
   "metadata": {
    "execution": {
     "iopub.execute_input": "2022-11-07T06:31:25.949651Z",
     "iopub.status.busy": "2022-11-07T06:31:25.949651Z",
     "iopub.status.idle": "2022-11-07T06:31:25.963801Z",
     "shell.execute_reply": "2022-11-07T06:31:25.962803Z",
     "shell.execute_reply.started": "2022-11-07T06:31:25.949651Z"
    }
   },
   "outputs": [],
   "source": [
    "# 중간결과 저장용\n",
    "angle_dir = 'D:/OneDrive - 연세대학교 (Yonsei University)/Projects/Yonsei_TELab/003_도로상충_210517-/2차년도_2022/39_22-13차 회의 준비/02_연속분류구간_위험운전행동_재산출/to_Busan/B/save'"
   ]
  },
  {
   "cell_type": "code",
   "execution_count": 41,
   "metadata": {
    "execution": {
     "iopub.execute_input": "2022-11-07T06:31:25.964799Z",
     "iopub.status.busy": "2022-11-07T06:31:25.964799Z",
     "iopub.status.idle": "2022-11-07T06:31:25.978761Z",
     "shell.execute_reply": "2022-11-07T06:31:25.977792Z",
     "shell.execute_reply.started": "2022-11-07T06:31:25.964799Z"
    },
    "tags": []
   },
   "outputs": [],
   "source": [
    "# 최종결과 파일 저장 경로\n",
    "save_dir = 'D:/OneDrive - 연세대학교 (Yonsei University)/Projects/Yonsei_TELab/003_도로상충_210517-/2차년도_2022/39_22-13차 회의 준비/02_연속분류구간_위험운전행동_재산출/to_Busan/B/decision'"
   ]
  },
  {
   "cell_type": "markdown",
   "metadata": {},
   "source": [
    "## Load Datasets"
   ]
  },
  {
   "cell_type": "code",
   "execution_count": 42,
   "metadata": {
    "execution": {
     "iopub.execute_input": "2022-11-07T06:31:25.979759Z",
     "iopub.status.busy": "2022-11-07T06:31:25.979759Z",
     "iopub.status.idle": "2022-11-07T06:31:25.994751Z",
     "shell.execute_reply": "2022-11-07T06:31:25.993749Z",
     "shell.execute_reply.started": "2022-11-07T06:31:25.979759Z"
    },
    "tags": []
   },
   "outputs": [],
   "source": [
    "folder_name = '01_density_by_target_LOS_concated_lanechange' # 파일 들어있는 폴더\n",
    "\n",
    "file_dir = os.path.join(folder_dir, folder_name)"
   ]
  },
  {
   "cell_type": "code",
   "execution_count": 43,
   "metadata": {
    "execution": {
     "iopub.execute_input": "2022-11-07T06:31:25.995715Z",
     "iopub.status.busy": "2022-11-07T06:31:25.994751Z",
     "iopub.status.idle": "2022-11-07T06:31:26.010678Z",
     "shell.execute_reply": "2022-11-07T06:31:26.009679Z",
     "shell.execute_reply.started": "2022-11-07T06:31:25.994751Z"
    },
    "tags": []
   },
   "outputs": [
    {
     "data": {
      "text/plain": [
       "['02_4_A.csv', '02_4_B.csv', '02_4_C.csv']"
      ]
     },
     "execution_count": 43,
     "metadata": {},
     "output_type": "execute_result"
    }
   ],
   "source": [
    "file_list = os.listdir(file_dir)"
   ]
  },
  {
   "cell_type": "code",
   "execution_count": 44,
   "metadata": {
    "execution": {
     "iopub.execute_input": "2022-11-07T06:31:26.012672Z",
     "iopub.status.busy": "2022-11-07T06:31:26.011675Z",
     "iopub.status.idle": "2022-11-07T06:31:26.262739Z",
     "shell.execute_reply": "2022-11-07T06:31:26.261746Z",
     "shell.execute_reply.started": "2022-11-07T06:31:26.012672Z"
    },
    "tags": []
   },
   "outputs": [],
   "source": [
    "df_list = []\n",
    "num_LOS_list = []\n",
    "\n",
    "for file in file_list:\n",
    "    num_LOS = file[0:6]\n",
    "    \n",
    "    file_path = os.path.join(file_dir, file)\n",
    "    \n",
    "    globals()[f'target{num_LOS}'] = pd.read_csv(file_path, encoding = 'cp949')\n",
    "    \n",
    "    df_list.append(globals()[f'target{num_LOS}'])\n",
    "    num_LOS_list.append(num_LOS)"
   ]
  },
  {
   "cell_type": "code",
   "execution_count": 45,
   "metadata": {
    "execution": {
     "iopub.execute_input": "2022-11-07T06:31:26.263741Z",
     "iopub.status.busy": "2022-11-07T06:31:26.262739Z",
     "iopub.status.idle": "2022-11-07T06:31:26.295650Z",
     "shell.execute_reply": "2022-11-07T06:31:26.293656Z",
     "shell.execute_reply.started": "2022-11-07T06:31:26.263741Z"
    },
    "tags": []
   },
   "outputs": [
    {
     "data": {
      "text/html": [
       "<div>\n",
       "<style scoped>\n",
       "    .dataframe tbody tr th:only-of-type {\n",
       "        vertical-align: middle;\n",
       "    }\n",
       "\n",
       "    .dataframe tbody tr th {\n",
       "        vertical-align: top;\n",
       "    }\n",
       "\n",
       "    .dataframe thead th {\n",
       "        text-align: right;\n",
       "    }\n",
       "</style>\n",
       "<table border=\"1\" class=\"dataframe\">\n",
       "  <thead>\n",
       "    <tr style=\"text-align: right;\">\n",
       "      <th></th>\n",
       "      <th>Unnamed: 0</th>\n",
       "      <th>Unnamed: 0.1</th>\n",
       "      <th>Unnamed: 0.1.1</th>\n",
       "      <th>Unnamed: 0.1.1.1</th>\n",
       "      <th>Unnamed: 0.1.1.1.1</th>\n",
       "      <th>Vehicle ID</th>\n",
       "      <th>Frame ID</th>\n",
       "      <th>Total Frames</th>\n",
       "      <th>Global Time (Epoch Time)</th>\n",
       "      <th>Local X (m)</th>\n",
       "      <th>...</th>\n",
       "      <th>Spacing Headway</th>\n",
       "      <th>Time Headway</th>\n",
       "      <th>Bad Object</th>\n",
       "      <th>Special Car</th>\n",
       "      <th>Lane Class</th>\n",
       "      <th>Vehicle Movement</th>\n",
       "      <th>Lane_record</th>\n",
       "      <th>Lane_00</th>\n",
       "      <th>Lane_99</th>\n",
       "      <th>Lane_change</th>\n",
       "    </tr>\n",
       "  </thead>\n",
       "  <tbody>\n",
       "    <tr>\n",
       "      <th>0</th>\n",
       "      <td>0</td>\n",
       "      <td>0</td>\n",
       "      <td>806</td>\n",
       "      <td>812</td>\n",
       "      <td>812</td>\n",
       "      <td>48</td>\n",
       "      <td>807</td>\n",
       "      <td>222</td>\n",
       "      <td>46826900</td>\n",
       "      <td>161.817703</td>\n",
       "      <td>...</td>\n",
       "      <td>0.0</td>\n",
       "      <td>0.0</td>\n",
       "      <td>0</td>\n",
       "      <td>0</td>\n",
       "      <td>상행본선</td>\n",
       "      <td>2.145787</td>\n",
       "      <td>U5</td>\n",
       "      <td>U5</td>\n",
       "      <td>U5</td>\n",
       "      <td>NaN</td>\n",
       "    </tr>\n",
       "    <tr>\n",
       "      <th>1</th>\n",
       "      <td>1</td>\n",
       "      <td>1</td>\n",
       "      <td>807</td>\n",
       "      <td>813</td>\n",
       "      <td>813</td>\n",
       "      <td>51</td>\n",
       "      <td>807</td>\n",
       "      <td>212</td>\n",
       "      <td>46826900</td>\n",
       "      <td>171.584625</td>\n",
       "      <td>...</td>\n",
       "      <td>0.0</td>\n",
       "      <td>0.0</td>\n",
       "      <td>0</td>\n",
       "      <td>0</td>\n",
       "      <td>상행본선</td>\n",
       "      <td>2.134770</td>\n",
       "      <td>U3_U2</td>\n",
       "      <td>U3</td>\n",
       "      <td>U2</td>\n",
       "      <td>NaN</td>\n",
       "    </tr>\n",
       "    <tr>\n",
       "      <th>2</th>\n",
       "      <td>2</td>\n",
       "      <td>2</td>\n",
       "      <td>808</td>\n",
       "      <td>814</td>\n",
       "      <td>814</td>\n",
       "      <td>55</td>\n",
       "      <td>807</td>\n",
       "      <td>172</td>\n",
       "      <td>46826900</td>\n",
       "      <td>143.477768</td>\n",
       "      <td>...</td>\n",
       "      <td>0.0</td>\n",
       "      <td>0.0</td>\n",
       "      <td>0</td>\n",
       "      <td>0</td>\n",
       "      <td>상행본선</td>\n",
       "      <td>2.313869</td>\n",
       "      <td>U2</td>\n",
       "      <td>U2</td>\n",
       "      <td>U2</td>\n",
       "      <td>NaN</td>\n",
       "    </tr>\n",
       "  </tbody>\n",
       "</table>\n",
       "<p>3 rows × 29 columns</p>\n",
       "</div>"
      ],
      "text/plain": [
       "   Unnamed: 0  Unnamed: 0.1  Unnamed: 0.1.1  Unnamed: 0.1.1.1  \\\n",
       "0           0             0             806               812   \n",
       "1           1             1             807               813   \n",
       "2           2             2             808               814   \n",
       "\n",
       "   Unnamed: 0.1.1.1.1  Vehicle ID  Frame ID  Total Frames  \\\n",
       "0                 812          48       807           222   \n",
       "1                 813          51       807           212   \n",
       "2                 814          55       807           172   \n",
       "\n",
       "   Global Time (Epoch Time)  Local X (m)  ...  Spacing Headway  Time Headway  \\\n",
       "0                  46826900   161.817703  ...              0.0           0.0   \n",
       "1                  46826900   171.584625  ...              0.0           0.0   \n",
       "2                  46826900   143.477768  ...              0.0           0.0   \n",
       "\n",
       "   Bad Object  Special Car  Lane Class  Vehicle Movement Lane_record  Lane_00  \\\n",
       "0           0            0        상행본선          2.145787          U5       U5   \n",
       "1           0            0        상행본선          2.134770       U3_U2       U3   \n",
       "2           0            0        상행본선          2.313869          U2       U2   \n",
       "\n",
       "   Lane_99  Lane_change  \n",
       "0       U5          NaN  \n",
       "1       U2          NaN  \n",
       "2       U2          NaN  \n",
       "\n",
       "[3 rows x 29 columns]"
      ]
     },
     "execution_count": 45,
     "metadata": {},
     "output_type": "execute_result"
    }
   ],
   "source": [
    "df_list[0].head(3) # 01_1_A.csv"
   ]
  },
  {
   "cell_type": "markdown",
   "metadata": {},
   "source": [
    "# 급진로변경 표시\n",
    "* **급진로변경**\n",
    "    * 속도가 30km/h 이상에서\n",
    "    * 진행방향이 좌측 또는 우측 6도/sec 이상으로 차로변경하고\n",
    "    * 5초간 누적각도가 +-2도/sec 이하\n",
    "    * 가감속이 초당 +=2km/h이하인 경우\n",
    "* **tan(x)**\n",
    "    * tan6 : `math.tan(math.pi/60)`\n",
    "    * tan(-6) : - 0.5773502691896257\n",
    "    * tan2 : `math.tan(math.pi/90)`\n",
    "    * tan(-2) : -tan2\n",
    "* **과정**\n",
    "    1. 각 차량의 각도차를 구한다.\n",
    "    2. 누적각도를 구한다.\n",
    "    3. 급진로변경 판정\n",
    "    4. 원본 .csv 파일 저장\n",
    "    5. 해당 지점을 산점도로 표시한 .plotly 파일 저장\n",
    "    6. 급진로변경 건수를 저장한 피벗테이블 저장"
   ]
  },
  {
   "cell_type": "markdown",
   "metadata": {},
   "source": [
    "## Load Dataset"
   ]
  },
  {
   "cell_type": "markdown",
   "metadata": {},
   "source": [
    "### 차량별 좌표별 이동 벡터 구하기\n",
    "* A : 각 대상지별, 서비스수준별 차량 데이터에 대하여, 현재 (x,y) 좌표와 다음(x', y') 좌표에 대하여 기울기를 구한다."
   ]
  },
  {
   "cell_type": "code",
   "execution_count": 46,
   "metadata": {
    "execution": {
     "iopub.execute_input": "2022-11-07T06:31:26.299613Z",
     "iopub.status.busy": "2022-11-07T06:31:26.298623Z",
     "iopub.status.idle": "2022-11-07T06:31:42.458583Z",
     "shell.execute_reply": "2022-11-07T06:31:42.457614Z",
     "shell.execute_reply.started": "2022-11-07T06:31:26.299613Z"
    },
    "tags": []
   },
   "outputs": [
    {
     "name": "stderr",
     "output_type": "stream",
     "text": [
      "3it [00:16,  5.38s/it]\n"
     ]
    }
   ],
   "source": [
    "warnings.filterwarnings(action = 'ignore') # pandas 경고메시지 숨기기\n",
    "\n",
    "slope_df_list = []\n",
    "\n",
    "for df, num_LOS in tqdm(zip(df_list, num_LOS_list)):\n",
    "    # 차량별 이동 동선을 써야 함\n",
    "    vehicle_list = df['Vehicle ID'].unique()\n",
    "    \n",
    "    slope_df = pd.DataFrame()\n",
    "    \n",
    "    for veh in vehicle_list: # 각 차량별로\n",
    "        veh_df = df[df['Vehicle ID'] == veh]\n",
    "        veh_df['X_next'] = veh_df['Local X (m)'].shift(-1) # 각 차량의 다음 점의 x좌표. 없으면 None이겠지\n",
    "        veh_df['Y_next'] = veh_df['Local Y(m)'].shift(-1) # 각 차량의 다음 점의 Y좌표. 없으면 None이겠지?\n",
    "        \n",
    "        veh_df['slope_veh'] = (veh_df['Y_next'] - veh_df['Local Y(m)'])/(veh_df['X_next'] - veh_df['Local X (m)']) # 각 차량의 벡터. 전 이동지점과 다음이동지점에 대한 것임\n",
    "        \n",
    "        slope_df = pd.concat([slope_df, veh_df])\n",
    "    \n",
    "    slope_df['slope_veh_before'] = slope_df['slope_veh'].shift(1) # 1칸 이전 벡터를 끌고옴. lag 데이터임\n",
    "    \n",
    "    slope_df_list.append(slope_df)\n",
    "    \n",
    "    save_slope_file = f'save1_slope_{num_LOS}.csv'\n",
    "    save_slope_path = os.path.join(angle_dir, save_slope_file)\n",
    "    \n",
    "    slope_df.to_csv(save_slope_path, encoding = 'cp949')"
   ]
  },
  {
   "cell_type": "code",
   "execution_count": 47,
   "metadata": {
    "execution": {
     "iopub.execute_input": "2022-11-07T06:31:42.459580Z",
     "iopub.status.busy": "2022-11-07T06:31:42.459580Z",
     "iopub.status.idle": "2022-11-07T06:31:42.490069Z",
     "shell.execute_reply": "2022-11-07T06:31:42.489070Z",
     "shell.execute_reply.started": "2022-11-07T06:31:42.459580Z"
    },
    "tags": []
   },
   "outputs": [
    {
     "data": {
      "text/html": [
       "<div>\n",
       "<style scoped>\n",
       "    .dataframe tbody tr th:only-of-type {\n",
       "        vertical-align: middle;\n",
       "    }\n",
       "\n",
       "    .dataframe tbody tr th {\n",
       "        vertical-align: top;\n",
       "    }\n",
       "\n",
       "    .dataframe thead th {\n",
       "        text-align: right;\n",
       "    }\n",
       "</style>\n",
       "<table border=\"1\" class=\"dataframe\">\n",
       "  <thead>\n",
       "    <tr style=\"text-align: right;\">\n",
       "      <th></th>\n",
       "      <th>Unnamed: 0</th>\n",
       "      <th>Unnamed: 0.1</th>\n",
       "      <th>Unnamed: 0.1.1</th>\n",
       "      <th>Unnamed: 0.1.1.1</th>\n",
       "      <th>Unnamed: 0.1.1.1.1</th>\n",
       "      <th>Vehicle ID</th>\n",
       "      <th>Frame ID</th>\n",
       "      <th>Total Frames</th>\n",
       "      <th>Global Time (Epoch Time)</th>\n",
       "      <th>Local X (m)</th>\n",
       "      <th>...</th>\n",
       "      <th>Lane Class</th>\n",
       "      <th>Vehicle Movement</th>\n",
       "      <th>Lane_record</th>\n",
       "      <th>Lane_00</th>\n",
       "      <th>Lane_99</th>\n",
       "      <th>Lane_change</th>\n",
       "      <th>X_next</th>\n",
       "      <th>Y_next</th>\n",
       "      <th>slope_veh</th>\n",
       "      <th>slope_veh_before</th>\n",
       "    </tr>\n",
       "  </thead>\n",
       "  <tbody>\n",
       "    <tr>\n",
       "      <th>0</th>\n",
       "      <td>0</td>\n",
       "      <td>0</td>\n",
       "      <td>15753</td>\n",
       "      <td>15986</td>\n",
       "      <td>1277</td>\n",
       "      <td>10059</td>\n",
       "      <td>101146</td>\n",
       "      <td>221</td>\n",
       "      <td>46838200</td>\n",
       "      <td>165.487534</td>\n",
       "      <td>...</td>\n",
       "      <td>상행본선</td>\n",
       "      <td>2.116368</td>\n",
       "      <td>U5</td>\n",
       "      <td>U5</td>\n",
       "      <td>U5</td>\n",
       "      <td>NaN</td>\n",
       "      <td>167.605194</td>\n",
       "      <td>30.555534</td>\n",
       "      <td>0.043501</td>\n",
       "      <td>NaN</td>\n",
       "    </tr>\n",
       "    <tr>\n",
       "      <th>12</th>\n",
       "      <td>7</td>\n",
       "      <td>7</td>\n",
       "      <td>15760</td>\n",
       "      <td>15993</td>\n",
       "      <td>1284</td>\n",
       "      <td>10059</td>\n",
       "      <td>101149</td>\n",
       "      <td>224</td>\n",
       "      <td>46838300</td>\n",
       "      <td>167.605194</td>\n",
       "      <td>...</td>\n",
       "      <td>상행본선</td>\n",
       "      <td>2.119663</td>\n",
       "      <td>U5</td>\n",
       "      <td>U5</td>\n",
       "      <td>U5</td>\n",
       "      <td>NaN</td>\n",
       "      <td>169.721207</td>\n",
       "      <td>30.639816</td>\n",
       "      <td>0.039831</td>\n",
       "      <td>0.043501</td>\n",
       "    </tr>\n",
       "    <tr>\n",
       "      <th>20</th>\n",
       "      <td>14</td>\n",
       "      <td>14</td>\n",
       "      <td>15767</td>\n",
       "      <td>16000</td>\n",
       "      <td>1291</td>\n",
       "      <td>10059</td>\n",
       "      <td>101152</td>\n",
       "      <td>227</td>\n",
       "      <td>46838400</td>\n",
       "      <td>169.721207</td>\n",
       "      <td>...</td>\n",
       "      <td>상행본선</td>\n",
       "      <td>2.117690</td>\n",
       "      <td>U5</td>\n",
       "      <td>U5</td>\n",
       "      <td>U5</td>\n",
       "      <td>NaN</td>\n",
       "      <td>171.834961</td>\n",
       "      <td>30.711826</td>\n",
       "      <td>0.034067</td>\n",
       "      <td>0.039831</td>\n",
       "    </tr>\n",
       "  </tbody>\n",
       "</table>\n",
       "<p>3 rows × 33 columns</p>\n",
       "</div>"
      ],
      "text/plain": [
       "    Unnamed: 0  Unnamed: 0.1  Unnamed: 0.1.1  Unnamed: 0.1.1.1  \\\n",
       "0            0             0           15753             15986   \n",
       "12           7             7           15760             15993   \n",
       "20          14            14           15767             16000   \n",
       "\n",
       "    Unnamed: 0.1.1.1.1  Vehicle ID  Frame ID  Total Frames  \\\n",
       "0                 1277       10059    101146           221   \n",
       "12                1284       10059    101149           224   \n",
       "20                1291       10059    101152           227   \n",
       "\n",
       "    Global Time (Epoch Time)  Local X (m)  ...  Lane Class  Vehicle Movement  \\\n",
       "0                   46838200   165.487534  ...        상행본선          2.116368   \n",
       "12                  46838300   167.605194  ...        상행본선          2.119663   \n",
       "20                  46838400   169.721207  ...        상행본선          2.117690   \n",
       "\n",
       "    Lane_record  Lane_00  Lane_99  Lane_change      X_next     Y_next  \\\n",
       "0            U5       U5       U5          NaN  167.605194  30.555534   \n",
       "12           U5       U5       U5          NaN  169.721207  30.639816   \n",
       "20           U5       U5       U5          NaN  171.834961  30.711826   \n",
       "\n",
       "    slope_veh  slope_veh_before  \n",
       "0    0.043501               NaN  \n",
       "12   0.039831          0.043501  \n",
       "20   0.034067          0.039831  \n",
       "\n",
       "[3 rows x 33 columns]"
      ]
     },
     "execution_count": 47,
     "metadata": {},
     "output_type": "execute_result"
    }
   ],
   "source": [
    "slope_df.head(3)"
   ]
  },
  {
   "cell_type": "markdown",
   "metadata": {},
   "source": [
    "## 판정을 위한 변수 생성\n",
    "* 직전과 다음 벡터 사이의 사잇각을 탄젠트 등을 이용하여 구하고, .csv 파일로 저장"
   ]
  },
  {
   "cell_type": "markdown",
   "metadata": {},
   "source": [
    "* **급진로변경**\n",
    "    * 속도가 30km/h 이상에서, \n",
    "    * 진행방향이 좌측 또는 우측 6도/sec 이상이고(*차로변경 조건 폐기*) \n",
    "    * 5초간 누적각도가 +-2도/sec 이하, \n",
    "    * 가감속이 초당 +=2km/h(**0.555556m/s**)이하인 경우\n",
    "* `tan6` : `math.tan(math.pi/30)`\n",
    "* `tan(-6)` = `-tan6`\n",
    "* **tan6 < S | S < tan(-6) : `overangle`**\n",
    "* 각 차량의 각도차(`tangap`)를 구한다.\n",
    "* 지난 5초간의 누적각도(`cum_angle`)를 구할 시\n",
    "    * `math.atan(x)` 사용하여 구하기"
   ]
  },
  {
   "cell_type": "markdown",
   "metadata": {},
   "source": [
    "### 필요 함수 정의"
   ]
  },
  {
   "cell_type": "code",
   "execution_count": 48,
   "metadata": {
    "execution": {
     "iopub.execute_input": "2022-11-07T06:31:42.491067Z",
     "iopub.status.busy": "2022-11-07T06:31:42.490069Z",
     "iopub.status.idle": "2022-11-07T06:31:42.505029Z",
     "shell.execute_reply": "2022-11-07T06:31:42.504033Z",
     "shell.execute_reply.started": "2022-11-07T06:31:42.491067Z"
    },
    "tags": []
   },
   "outputs": [],
   "source": [
    "def make_tangap(slope_veh1, slope_veh2):\n",
    "    \"\"\"차량의 움직임 벡터(slope_veh) 전후값을 사용하여,\n",
    "    매 점에서의 두 벡터간 차이에 의해 발생하는 사잇각의 tangent 값을 구하는 함수\n",
    "    --- tan(A-B) = (tanA - tanB)/(1 + tanA * tanB) 임을 유의 ---\n",
    "    \n",
    "    slope_veh1 :: 해당 차량의 직전 이동 벡터\n",
    "    slope_veh2 :: 해당 차량의 이동 벡터\"\"\"\n",
    "    \n",
    "    tangap = (slope_veh2 - slope_veh1)/(1 + slope_veh1 * slope_veh2)\n",
    "    \n",
    "    return tangap"
   ]
  },
  {
   "cell_type": "code",
   "execution_count": 49,
   "metadata": {
    "execution": {
     "iopub.execute_input": "2022-11-07T06:31:42.507024Z",
     "iopub.status.busy": "2022-11-07T06:31:42.506030Z",
     "iopub.status.idle": "2022-11-07T06:31:42.521014Z",
     "shell.execute_reply": "2022-11-07T06:31:42.519990Z",
     "shell.execute_reply.started": "2022-11-07T06:31:42.507024Z"
    },
    "tags": []
   },
   "outputs": [],
   "source": [
    "def make_tangap_rad(tangap):\n",
    "    \"\"\"사잇각의 탄젠트값(tangap)에 arctangent를 적용,\n",
    "    해당 사잇각의 radian값 = 실제 각도를 얻어내는 함수\"\"\"\n",
    "    \n",
    "    rad_tangap = math.atan(tangap)\n",
    "    \n",
    "    return rad_tangap"
   ]
  },
  {
   "cell_type": "code",
   "execution_count": 50,
   "metadata": {
    "execution": {
     "iopub.execute_input": "2022-11-07T06:31:42.522010Z",
     "iopub.status.busy": "2022-11-07T06:31:42.521014Z",
     "iopub.status.idle": "2022-11-07T06:31:42.535948Z",
     "shell.execute_reply": "2022-11-07T06:31:42.534970Z",
     "shell.execute_reply.started": "2022-11-07T06:31:42.522010Z"
    },
    "tags": []
   },
   "outputs": [],
   "source": [
    "def overangle(rad_tangap):\n",
    "    \"\"\"\n",
    "    벡터차이의 라디안 값, 즉 벡터간 각도가 좌, 우 6도 이상으로 각도변경했는지(overangle) 판정하는 함수\n",
    "    ---tan6도 = tan(math.pi/30) 임에 유의 ---\n",
    "    ---abs()는 절대값을 반환하는 함수임 ---\n",
    "    \n",
    "    \"\"\"\n",
    "    tan_plus_6 = math.tan(math.pi/30) # tan(6도)\n",
    "    tan_minus_6 = (-1) * tan_plus_6 # tan(-6도)\n",
    "    \n",
    "    if rad_tangap >= tan_plus_6 or rad_tangap <= tan_minus_6: # 좌로 6도, 혹은 우로 6도 이상 틀어졌을 시\n",
    "        return 'overangle' # 오버앵글 판정\n",
    "    \n",
    "    else:\n",
    "        pass"
   ]
  },
  {
   "cell_type": "code",
   "execution_count": 51,
   "metadata": {
    "execution": {
     "iopub.execute_input": "2022-11-07T06:31:42.537941Z",
     "iopub.status.busy": "2022-11-07T06:31:42.536944Z",
     "iopub.status.idle": "2022-11-07T06:31:42.551904Z",
     "shell.execute_reply": "2022-11-07T06:31:42.550907Z",
     "shell.execute_reply.started": "2022-11-07T06:31:42.537941Z"
    },
    "tags": []
   },
   "outputs": [],
   "source": [
    "def vehicle_direction(rad_tangap):\n",
    "    \"\"\"\n",
    "    차량이 도로선형에 비해 상대적으로 왼쪽으로 갔는지/오른쪽으로 갔는지 판정해주는 함수\n",
    "    --- tangap > 0 : 차로를 중심으로 오른쪽\n",
    "    --- tangap < 0 : 차로를 중심으로 왼쪽\"\"\"\n",
    "    \n",
    "    if rad_tangap > 0:\n",
    "        return 'right'\n",
    "    \n",
    "    elif rad_tangap < 0:\n",
    "        return 'left'\n",
    "    \n",
    "    elif rad_tangap == 0:\n",
    "        return 'straight'\n",
    "    \n",
    "    else:\n",
    "        pass"
   ]
  },
  {
   "cell_type": "markdown",
   "metadata": {},
   "source": [
    "### tan 계산\n",
    "* 여러 컬럼을 함수에 적용하기 : `데이터프레임이름[['변수1', '변수2']].apply(lambda x: 함수이름(*x), axis = 1)`\n",
    "* 0.1초 단위의 tangent 값, tangent 값을 바탕으로 한 각도(rad) 값 구하기"
   ]
  },
  {
   "cell_type": "code",
   "execution_count": 52,
   "metadata": {
    "execution": {
     "iopub.execute_input": "2022-11-07T06:31:42.552901Z",
     "iopub.status.busy": "2022-11-07T06:31:42.552901Z",
     "iopub.status.idle": "2022-11-07T06:31:42.960038Z",
     "shell.execute_reply": "2022-11-07T06:31:42.959039Z",
     "shell.execute_reply.started": "2022-11-07T06:31:42.552901Z"
    },
    "tags": []
   },
   "outputs": [
    {
     "name": "stderr",
     "output_type": "stream",
     "text": [
      "3it [00:00,  7.57it/s]\n"
     ]
    }
   ],
   "source": [
    "for slope_df, num_LOS in tqdm(zip(slope_df_list, num_LOS_list)): # 차량벡터들을 땄다.\n",
    "    \n",
    "    slope_df['tangap'] = slope_df[['slope_veh', 'slope_veh_before']].apply(lambda x : make_tangap(*x), axis = 1) # 차량벡터 전후값 사이 탄젠트값 생성\n",
    "    slope_df['rad_tangap'] = slope_df['tangap'].apply(make_tangap_rad) # tangap 의 라디안 값 생성. 이 라디안 값들끼리 더할 수 있다.\n",
    "    slope_df['vehicle_direction'] = slope_df['rad_tangap'].apply(vehicle_direction) # 도로선형을 중심으로 상대적으로 차량이 어느쪽으로 회전중인지 판정"
   ]
  },
  {
   "cell_type": "code",
   "execution_count": 53,
   "metadata": {
    "execution": {
     "iopub.execute_input": "2022-11-07T06:31:42.961035Z",
     "iopub.status.busy": "2022-11-07T06:31:42.960038Z",
     "iopub.status.idle": "2022-11-07T06:31:42.991467Z",
     "shell.execute_reply": "2022-11-07T06:31:42.990467Z",
     "shell.execute_reply.started": "2022-11-07T06:31:42.960038Z"
    },
    "tags": []
   },
   "outputs": [
    {
     "data": {
      "text/html": [
       "<div>\n",
       "<style scoped>\n",
       "    .dataframe tbody tr th:only-of-type {\n",
       "        vertical-align: middle;\n",
       "    }\n",
       "\n",
       "    .dataframe tbody tr th {\n",
       "        vertical-align: top;\n",
       "    }\n",
       "\n",
       "    .dataframe thead th {\n",
       "        text-align: right;\n",
       "    }\n",
       "</style>\n",
       "<table border=\"1\" class=\"dataframe\">\n",
       "  <thead>\n",
       "    <tr style=\"text-align: right;\">\n",
       "      <th></th>\n",
       "      <th>Unnamed: 0</th>\n",
       "      <th>Unnamed: 0.1</th>\n",
       "      <th>Unnamed: 0.1.1</th>\n",
       "      <th>Unnamed: 0.1.1.1</th>\n",
       "      <th>Unnamed: 0.1.1.1.1</th>\n",
       "      <th>Vehicle ID</th>\n",
       "      <th>Frame ID</th>\n",
       "      <th>Total Frames</th>\n",
       "      <th>Global Time (Epoch Time)</th>\n",
       "      <th>Local X (m)</th>\n",
       "      <th>...</th>\n",
       "      <th>Lane_00</th>\n",
       "      <th>Lane_99</th>\n",
       "      <th>Lane_change</th>\n",
       "      <th>X_next</th>\n",
       "      <th>Y_next</th>\n",
       "      <th>slope_veh</th>\n",
       "      <th>slope_veh_before</th>\n",
       "      <th>tangap</th>\n",
       "      <th>rad_tangap</th>\n",
       "      <th>vehicle_direction</th>\n",
       "    </tr>\n",
       "  </thead>\n",
       "  <tbody>\n",
       "    <tr>\n",
       "      <th>0</th>\n",
       "      <td>0</td>\n",
       "      <td>0</td>\n",
       "      <td>15753</td>\n",
       "      <td>15986</td>\n",
       "      <td>1277</td>\n",
       "      <td>10059</td>\n",
       "      <td>101146</td>\n",
       "      <td>221</td>\n",
       "      <td>46838200</td>\n",
       "      <td>165.487534</td>\n",
       "      <td>...</td>\n",
       "      <td>U5</td>\n",
       "      <td>U5</td>\n",
       "      <td>NaN</td>\n",
       "      <td>167.605194</td>\n",
       "      <td>30.555534</td>\n",
       "      <td>0.043501</td>\n",
       "      <td>NaN</td>\n",
       "      <td>NaN</td>\n",
       "      <td>NaN</td>\n",
       "      <td>None</td>\n",
       "    </tr>\n",
       "    <tr>\n",
       "      <th>12</th>\n",
       "      <td>7</td>\n",
       "      <td>7</td>\n",
       "      <td>15760</td>\n",
       "      <td>15993</td>\n",
       "      <td>1284</td>\n",
       "      <td>10059</td>\n",
       "      <td>101149</td>\n",
       "      <td>224</td>\n",
       "      <td>46838300</td>\n",
       "      <td>167.605194</td>\n",
       "      <td>...</td>\n",
       "      <td>U5</td>\n",
       "      <td>U5</td>\n",
       "      <td>NaN</td>\n",
       "      <td>169.721207</td>\n",
       "      <td>30.639816</td>\n",
       "      <td>0.039831</td>\n",
       "      <td>0.043501</td>\n",
       "      <td>0.003664</td>\n",
       "      <td>0.003664</td>\n",
       "      <td>right</td>\n",
       "    </tr>\n",
       "    <tr>\n",
       "      <th>20</th>\n",
       "      <td>14</td>\n",
       "      <td>14</td>\n",
       "      <td>15767</td>\n",
       "      <td>16000</td>\n",
       "      <td>1291</td>\n",
       "      <td>10059</td>\n",
       "      <td>101152</td>\n",
       "      <td>227</td>\n",
       "      <td>46838400</td>\n",
       "      <td>169.721207</td>\n",
       "      <td>...</td>\n",
       "      <td>U5</td>\n",
       "      <td>U5</td>\n",
       "      <td>NaN</td>\n",
       "      <td>171.834961</td>\n",
       "      <td>30.711826</td>\n",
       "      <td>0.034067</td>\n",
       "      <td>0.039831</td>\n",
       "      <td>0.005755</td>\n",
       "      <td>0.005755</td>\n",
       "      <td>right</td>\n",
       "    </tr>\n",
       "  </tbody>\n",
       "</table>\n",
       "<p>3 rows × 36 columns</p>\n",
       "</div>"
      ],
      "text/plain": [
       "    Unnamed: 0  Unnamed: 0.1  Unnamed: 0.1.1  Unnamed: 0.1.1.1  \\\n",
       "0            0             0           15753             15986   \n",
       "12           7             7           15760             15993   \n",
       "20          14            14           15767             16000   \n",
       "\n",
       "    Unnamed: 0.1.1.1.1  Vehicle ID  Frame ID  Total Frames  \\\n",
       "0                 1277       10059    101146           221   \n",
       "12                1284       10059    101149           224   \n",
       "20                1291       10059    101152           227   \n",
       "\n",
       "    Global Time (Epoch Time)  Local X (m)  ...  Lane_00  Lane_99  Lane_change  \\\n",
       "0                   46838200   165.487534  ...       U5       U5          NaN   \n",
       "12                  46838300   167.605194  ...       U5       U5          NaN   \n",
       "20                  46838400   169.721207  ...       U5       U5          NaN   \n",
       "\n",
       "        X_next     Y_next  slope_veh slope_veh_before    tangap  rad_tangap  \\\n",
       "0   167.605194  30.555534   0.043501              NaN       NaN         NaN   \n",
       "12  169.721207  30.639816   0.039831         0.043501  0.003664    0.003664   \n",
       "20  171.834961  30.711826   0.034067         0.039831  0.005755    0.005755   \n",
       "\n",
       "    vehicle_direction  \n",
       "0                None  \n",
       "12              right  \n",
       "20              right  \n",
       "\n",
       "[3 rows x 36 columns]"
      ]
     },
     "execution_count": 53,
     "metadata": {},
     "output_type": "execute_result"
    }
   ],
   "source": [
    "slope_df.head(3)"
   ]
  },
  {
   "cell_type": "markdown",
   "metadata": {},
   "source": [
    "### 시간 변수, 누적 각도 생성\n",
    "* 각 차량의 지난 5초(5 * 프레임레이트만큼의 프레임ID) 간의 누적각도를 구함\n",
    "* 관련 변수들의 계산 : \n",
    "    * `rad_tangap_abs` : rad_tangap의 절대값\n",
    "    * `cumsum_rad_abs` : 차량별 \"총\" 누적 각도. rad_tangap 절대값의 합\n",
    "    * `cumsum_rad_abs_final_1s` : 차량별 1초 누적각도. rad_tangap의 최근 1초간의 합\n",
    "    * `cumsum_rad_abs_final_1s_tan` :  `cumsum_rad_1s`를 tan으로 환산한 값\n",
    "    * `cumsum_rad_abs_final_5s` : 차량별 5초 누적각도. rad_tangap의 최근 5초간의 합\n",
    "    * `cumsum_rad_abs_final_5s_tan` :  `cumsum_rad_5s`를 tan으로 환산한 값"
   ]
  },
  {
   "cell_type": "code",
   "execution_count": 54,
   "metadata": {
    "execution": {
     "iopub.execute_input": "2022-11-07T06:31:42.992464Z",
     "iopub.status.busy": "2022-11-07T06:31:42.992464Z",
     "iopub.status.idle": "2022-11-07T06:31:43.006426Z",
     "shell.execute_reply": "2022-11-07T06:31:43.005454Z",
     "shell.execute_reply.started": "2022-11-07T06:31:42.992464Z"
    },
    "tags": []
   },
   "outputs": [],
   "source": [
    "frame_rate = 30 # 초당 프레임 계산 : 3프레임 당 0.1초, 1초당 30프레임임"
   ]
  },
  {
   "cell_type": "code",
   "execution_count": 55,
   "metadata": {
    "execution": {
     "iopub.execute_input": "2022-11-07T06:31:43.006426Z",
     "iopub.status.busy": "2022-11-07T06:31:43.006426Z",
     "iopub.status.idle": "2022-11-07T06:32:01.806956Z",
     "shell.execute_reply": "2022-11-07T06:32:01.805959Z",
     "shell.execute_reply.started": "2022-11-07T06:31:43.006426Z"
    },
    "tags": []
   },
   "outputs": [
    {
     "name": "stderr",
     "output_type": "stream",
     "text": [
      "3it [00:18,  6.26s/it]\n"
     ]
    }
   ],
   "source": [
    "cumsum_df_list = []\n",
    "\n",
    "for slope_df, num_LOS in tqdm(zip(slope_df_list, num_LOS_list)):\n",
    "    # 주의 :: 누적각도인 cumsum_rad는 차량별(Vehicle ID)로 구해야 한다.\n",
    "    \n",
    "    slope_df.drop(['Unnamed: 0', 'Unnamed: 0.1', 'Unnamed: 0.1.1', 'Unnamed: 0.1.1.1', 'Unnamed: 0.1.1.1.1'], axis = 1, inplace = True) # 불필요한 컬럼 제거\n",
    "\n",
    "    cumsum_df = pd.DataFrame()\n",
    "    \n",
    "    veh_list = slope_df['Vehicle ID'].unique() # 각 테이블의 차량리스트 생성\n",
    "    \n",
    "    for veh in veh_list:\n",
    "        veh_df = slope_df[slope_df['Vehicle ID'] == veh] # 각 차량별 궤적 데이터프레임 생성\n",
    "        \n",
    "        frame_max = veh_df['Frame ID'].max() # 해당 차량이 찍힌 마지막 프레임\n",
    "        frame_min = veh_df['Frame ID'].min() # 해당 차량이 찍힌 최초 프레임\n",
    "        \n",
    "        veh_runtime = (frame_max - frame_min)/frame_rate # 각 차량별 총 주행시간(초)을 구함. \n",
    "        \n",
    "        # cumsum_rad_ : 누적각도합(총계) 구하기\n",
    "        veh_df['cumsum_rad'] = veh_df['rad_tangap'].cumsum(skipna = True) # 라디안 값의 누적값을 구하기\n",
    "        \n",
    "        # 데이터는 15프레임 = 0.5초 단위로 찍혀있음. 1초 = 2행, 5초 = 10행에 해당함\n",
    "        veh_df['cumsum_rad_before_1s'] = veh_df['cumsum_rad'].shift(2) ########## 1초 = 30프레임만큼 back\n",
    "        veh_df['cumsum_rad_before_5s'] = veh_df['cumsum_rad'].shift(10) ########## 5초 = 150프레임만큼 back\n",
    "\n",
    "        veh_df['cumsum_rad_final_1s'] = veh_df['cumsum_rad'] - veh_df['cumsum_rad_before_1s'] # 1초 누적 값의 라디안 값임\n",
    "        veh_df['cumsum_rad_final_5s'] = veh_df['cumsum_rad'] - veh_df['cumsum_rad_before_5s'] # 5초 누적 값의 라디안 값임\n",
    "        \n",
    "        cumsum_df = pd.concat([cumsum_df, veh_df])\n",
    "    \n",
    "    cumsum_df_list.append(cumsum_df)\n",
    "    \n",
    "    cumsum_df_file = f'save2_cumsum_{num_LOS}.csv'\n",
    "    cumsum_df_path = os.path.join(angle_dir, cumsum_df_file)\n",
    "    \n",
    "    cumsum_df.to_csv(cumsum_df_path, encoding = 'cp949')"
   ]
  },
  {
   "cell_type": "markdown",
   "metadata": {},
   "source": [
    "### 판정 함수 설정\n",
    "* `decision` : 급진로변경(`rapid_change`) 또는 급앞지르기(`rapid_passing`) 판정판정\n",
    "* **급진로변경**\n",
    "    * 속도가 30km/h 이상에서, \n",
    "    * 진행방향이 좌측 또는 우측 6도/sec 이상으로 차로변경하고,\n",
    "    * 5초간 누적각도가 +-2도/sec 이하, \n",
    "    * 가감속이 초당 +-2km/h(**0.555556m/s**)이하인 경우\n",
    "* **급앞지르기**\n",
    "    * 속도가 30km/h 이상에서, \n",
    "    * 진행방향이 좌측 또는 우측 6도/sec 이상으로 차로변경하고,\n",
    "    * 5초간 누적각도가 +-2도/sec 이하, \n",
    "    * 가속이 초당 +3km/h(**0.8333333m/s**)이하인 경우\n",
    "* 단위 관련 : 360도 = 2*pi, 1도 = pi/180 rad.\n",
    "    * 6도 : pi/30 rad\n",
    "    * 2도 : pi/90 rad"
   ]
  },
  {
   "cell_type": "code",
   "execution_count": 56,
   "metadata": {
    "execution": {
     "iopub.execute_input": "2022-11-07T06:32:01.807953Z",
     "iopub.status.busy": "2022-11-07T06:32:01.807953Z",
     "iopub.status.idle": "2022-11-07T06:32:01.822946Z",
     "shell.execute_reply": "2022-11-07T06:32:01.821946Z",
     "shell.execute_reply.started": "2022-11-07T06:32:01.807953Z"
    }
   },
   "outputs": [],
   "source": [
    "def decision_alt(Lane_change, velocity, acceleration, cumsum_rad_1s, cumsum_rad_5s):\n",
    "    if velocity >= 30:\n",
    "        if (cumsum_rad_1s >= np.pi/30) or (cumsum_rad_1s <= -np.pi/30):\n",
    "            if (cumsum_rad_5s >= -np.pi/90) and (cumsum_rad_5s <= np.pi/90):\n",
    "                if (acceleration <= 2*1000/3600) and (acceleration >= -2*1000/3600): # 가감속 : 초속으로 변환\n",
    "                    return 'rapid_change'\n",
    "                elif (acceleration >= 3*1000/3600):\n",
    "                    return 'rapid_passing'\n",
    "                else:\n",
    "                    return None\n",
    "        \n",
    "            else:\n",
    "                return None\n",
    "        else:\n",
    "            return None\n",
    "    else:\n",
    "        return None"
   ]
  },
  {
   "cell_type": "code",
   "execution_count": 57,
   "metadata": {
    "execution": {
     "iopub.execute_input": "2022-11-07T06:32:01.824944Z",
     "iopub.status.busy": "2022-11-07T06:32:01.823943Z",
     "iopub.status.idle": "2022-11-07T06:32:01.838467Z",
     "shell.execute_reply": "2022-11-07T06:32:01.837468Z",
     "shell.execute_reply.started": "2022-11-07T06:32:01.824944Z"
    },
    "tags": []
   },
   "outputs": [],
   "source": [
    "def decision(Lane_change, velocity, acceleration, cumsum_rad_1s, cumsum_rad_5s):\n",
    "    if Lane_change == 'Change':\n",
    "        if velocity >= 30:\n",
    "            if (cumsum_rad_1s >= np.pi/30) or (cumsum_rad_1s <= -np.pi/30):\n",
    "                if (cumsum_rad_5s >= -np.pi/90) and (cumsum_rad_5s <= np.pi/90):\n",
    "                    if (acceleration <= 2*1000/3600) and (acceleration >= -2*1000/3600): # 가감속 : 초속으로 변환\n",
    "                        return 'rapid_change'\n",
    "                    elif (acceleration >= 3*1000/3600):\n",
    "                        return 'rapid_passing'\n",
    "                    else:\n",
    "                        return None\n",
    "        \n",
    "                else:\n",
    "                    return None\n",
    "            else:\n",
    "                return None\n",
    "        else:\n",
    "            return None\n",
    "    else:\n",
    "        return None"
   ]
  },
  {
   "cell_type": "code",
   "execution_count": 58,
   "metadata": {
    "execution": {
     "iopub.execute_input": "2022-11-07T06:32:01.839465Z",
     "iopub.status.busy": "2022-11-07T06:32:01.839465Z",
     "iopub.status.idle": "2022-11-07T06:32:01.854425Z",
     "shell.execute_reply": "2022-11-07T06:32:01.853426Z",
     "shell.execute_reply.started": "2022-11-07T06:32:01.839465Z"
    },
    "tags": []
   },
   "outputs": [],
   "source": [
    "def decision_1(velocity):\n",
    "    if velocity >= 30:\n",
    "        return '속도 30 이상'\n",
    "    else:\n",
    "        return None"
   ]
  },
  {
   "cell_type": "code",
   "execution_count": 59,
   "metadata": {
    "execution": {
     "iopub.execute_input": "2022-11-07T06:32:01.855421Z",
     "iopub.status.busy": "2022-11-07T06:32:01.855421Z",
     "iopub.status.idle": "2022-11-07T06:32:01.873373Z",
     "shell.execute_reply": "2022-11-07T06:32:01.869385Z",
     "shell.execute_reply.started": "2022-11-07T06:32:01.855421Z"
    },
    "tags": []
   },
   "outputs": [],
   "source": [
    "def decision_2_1(acceleration):\n",
    "    if (acceleration <= 2*1000/3600) and (acceleration >= -2*1000/3600): # 가감속 : 초속으로 변환. -2~2km/h 사이여야 한다. 이를 초속으로 변환할 필요\n",
    "        return '가속도 2 이하'\n",
    "    else:\n",
    "        return None"
   ]
  },
  {
   "cell_type": "code",
   "execution_count": 60,
   "metadata": {
    "execution": {
     "iopub.execute_input": "2022-11-07T06:32:01.876369Z",
     "iopub.status.busy": "2022-11-07T06:32:01.876369Z",
     "iopub.status.idle": "2022-11-07T06:32:01.888334Z",
     "shell.execute_reply": "2022-11-07T06:32:01.886339Z",
     "shell.execute_reply.started": "2022-11-07T06:32:01.876369Z"
    }
   },
   "outputs": [],
   "source": [
    "def decision_2_2(acceleration):\n",
    "    if (acceleration >= 3*1000/3600): # 가감속 : 초속으로 변환. -2~2km/h 사이여야 한다. 이를 초속으로 변환할 필요\n",
    "        return '가속도 3 이상'\n",
    "    else:\n",
    "        return None"
   ]
  },
  {
   "cell_type": "code",
   "execution_count": 61,
   "metadata": {
    "execution": {
     "iopub.execute_input": "2022-11-07T06:32:01.892323Z",
     "iopub.status.busy": "2022-11-07T06:32:01.891328Z",
     "iopub.status.idle": "2022-11-07T06:32:01.917257Z",
     "shell.execute_reply": "2022-11-07T06:32:01.916258Z",
     "shell.execute_reply.started": "2022-11-07T06:32:01.892323Z"
    },
    "tags": []
   },
   "outputs": [],
   "source": [
    "def decision_3(cumsum_rad_1s):\n",
    "    if (cumsum_rad_1s >= np.pi/30) or (cumsum_rad_1s <= -np.pi/30):\n",
    "        return '1초간 6도 이상 변화'\n",
    "    else:\n",
    "        pass"
   ]
  },
  {
   "cell_type": "code",
   "execution_count": 62,
   "metadata": {
    "execution": {
     "iopub.execute_input": "2022-11-07T06:32:01.918254Z",
     "iopub.status.busy": "2022-11-07T06:32:01.918254Z",
     "iopub.status.idle": "2022-11-07T06:32:01.933220Z",
     "shell.execute_reply": "2022-11-07T06:32:01.932223Z",
     "shell.execute_reply.started": "2022-11-07T06:32:01.918254Z"
    }
   },
   "outputs": [],
   "source": [
    "def decision_4(cumsum_rad_5s):\n",
    "    if (cumsum_rad_5s >= -np.pi/90) and (cumsum_rad_5s <= np.pi/90):\n",
    "        return '6초간 2도 이하 변화'\n",
    "    else:\n",
    "        pass"
   ]
  },
  {
   "cell_type": "markdown",
   "metadata": {},
   "source": [
    "### 판정: 급앞지르기/급진로변경\n",
    "`cumsum_df['decision'] = cumsum_df[['Vehicle Velocity(km/h)', 'Vehicle Acceleration', 'cumsum_rad_final_1s', 'cumsum_rad_final_5s']].apply(lambda x : decision(*x), axis = 1)`"
   ]
  },
  {
   "cell_type": "code",
   "execution_count": 63,
   "metadata": {
    "execution": {
     "iopub.execute_input": "2022-11-07T06:32:01.936211Z",
     "iopub.status.busy": "2022-11-07T06:32:01.934216Z",
     "iopub.status.idle": "2022-11-07T06:32:03.906478Z",
     "shell.execute_reply": "2022-11-07T06:32:03.905512Z",
     "shell.execute_reply.started": "2022-11-07T06:32:01.936211Z"
    },
    "tags": []
   },
   "outputs": [
    {
     "name": "stderr",
     "output_type": "stream",
     "text": [
      "3it [00:01,  1.54it/s]\n"
     ]
    }
   ],
   "source": [
    "for cumsum_df, num_LOS in tqdm(zip(cumsum_df_list, num_LOS_list)):\n",
    "    \n",
    "    cumsum_df['decision_1'] = cumsum_df['Vehicle Velocity(km/h)'].apply(decision_1)\n",
    "    cumsum_df['decision_2_1'] = cumsum_df['Vehicle Acceleration'].apply(decision_2_1)\n",
    "    cumsum_df['decision_2_2'] = cumsum_df['Vehicle Acceleration'].apply(decision_2_2)\n",
    "    cumsum_df['decision_3'] = cumsum_df['cumsum_rad_final_1s'].apply(decision_3)\n",
    "    cumsum_df['decision_4'] = cumsum_df['cumsum_rad_final_5s'].apply(decision_4)\n",
    "    \n",
    "    cumsum_df['decision'] = cumsum_df[['Lane_change', 'Vehicle Velocity(km/h)', 'Vehicle Acceleration', 'cumsum_rad_final_1s', 'cumsum_rad_final_5s']].apply(lambda x : decision_alt(*x), axis = 1)\n",
    "    \n",
    "    cumsum_df_file = f'decision_rowfiles_{num_LOS}.csv'\n",
    "    cumsum_df_path = os.path.join(angle_dir, cumsum_df_file)\n",
    "    \n",
    "    cumsum_df.to_csv(cumsum_df_path, encoding = 'cp949')"
   ]
  },
  {
   "cell_type": "markdown",
   "metadata": {},
   "source": [
    "# Pivoted Data"
   ]
  },
  {
   "cell_type": "code",
   "execution_count": 64,
   "metadata": {
    "execution": {
     "iopub.execute_input": "2022-11-07T06:32:03.908501Z",
     "iopub.status.busy": "2022-11-07T06:32:03.908501Z",
     "iopub.status.idle": "2022-11-07T06:32:03.921440Z",
     "shell.execute_reply": "2022-11-07T06:32:03.920442Z",
     "shell.execute_reply.started": "2022-11-07T06:32:03.908501Z"
    },
    "tags": []
   },
   "outputs": [],
   "source": [
    "harmonic = lambda x: statistics.harmonic_mean(list(x))\n",
    "harmonic .__name__ = 'harmonic'\n",
    "\n",
    "unq = lambda x: len(x.unique())\n",
    "unq .__name__ = 'unq'"
   ]
  },
  {
   "cell_type": "code",
   "execution_count": 65,
   "metadata": {
    "execution": {
     "iopub.execute_input": "2022-11-07T06:32:03.923433Z",
     "iopub.status.busy": "2022-11-07T06:32:03.922436Z",
     "iopub.status.idle": "2022-11-07T06:32:03.936402Z",
     "shell.execute_reply": "2022-11-07T06:32:03.935411Z",
     "shell.execute_reply.started": "2022-11-07T06:32:03.923433Z"
    },
    "tags": []
   },
   "outputs": [
    {
     "data": {
      "text/plain": [
       "array([None], dtype=object)"
      ]
     },
     "execution_count": 65,
     "metadata": {},
     "output_type": "execute_result"
    }
   ],
   "source": [
    "cumsum_df['decision'].unique()"
   ]
  },
  {
   "cell_type": "code",
   "execution_count": 66,
   "metadata": {
    "execution": {
     "iopub.execute_input": "2022-11-07T06:32:03.939394Z",
     "iopub.status.busy": "2022-11-07T06:32:03.939394Z",
     "iopub.status.idle": "2022-11-07T06:32:04.030670Z",
     "shell.execute_reply": "2022-11-07T06:32:04.029671Z",
     "shell.execute_reply.started": "2022-11-07T06:32:03.939394Z"
    },
    "tags": []
   },
   "outputs": [
    {
     "name": "stderr",
     "output_type": "stream",
     "text": [
      "3it [00:00, 42.37it/s]\n"
     ]
    }
   ],
   "source": [
    "for cumsum_df, num_LOS in tqdm(zip(cumsum_df_list, num_LOS_list)):\n",
    "    \n",
    "    pvdf = pd.pivot_table(cumsum_df,\n",
    "                          index = ['Lane_record', 'decision'],\n",
    "                          values = ['Vehicle ID', 'Vehicle Velocity(km/h)', 'Vehicle Acceleration'],\n",
    "                          aggfunc = {'Vehicle ID': unq,\n",
    "                                     'Vehicle Velocity(km/h)': harmonic,\n",
    "                                     'Vehicle Acceleration': 'mean',\n",
    "                                     'decision' : 'count'})\n",
    "    \n",
    "    if len(pvdf) > 0:\n",
    "        save_pv_name = f'Decision_Pivot_{num_LOS}.csv'\n",
    "        save_pv_path = os.path.join(save_dir, save_pv_name)\n",
    "        \n",
    "        pvdf.to_csv(save_pv_path, encoding = 'cp949')\n",
    "    \n",
    "    else:\n",
    "        pass"
   ]
  }
 ],
 "metadata": {
  "kernelspec": {
   "display_name": "Python 3",
   "language": "python",
   "name": "python3"
  },
  "language_info": {
   "codemirror_mode": {
    "name": "ipython",
    "version": 3
   },
   "file_extension": ".py",
   "mimetype": "text/x-python",
   "name": "python",
   "nbconvert_exporter": "python",
   "pygments_lexer": "ipython3",
   "version": "3.8.8"
  }
 },
 "nbformat": 4,
 "nbformat_minor": 4
}
