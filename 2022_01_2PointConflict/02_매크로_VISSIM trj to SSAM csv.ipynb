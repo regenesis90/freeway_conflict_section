{
 "cells": [
  {
   "cell_type": "markdown",
   "id": "fcea2774-302f-4c3c-a95f-3b1da1f10d0d",
   "metadata": {},
   "source": [
    "# SSAM :: .trj >> .csv\n",
    "* SSAM을 활용하여 .trj 파일을 분석한 .csv 파일을 자동으로 저장하는 매크로"
   ]
  },
  {
   "cell_type": "markdown",
   "id": "66fa33e3-6af3-43de-97e8-1021489f691c",
   "metadata": {},
   "source": [
    "# Install"
   ]
  },
  {
   "cell_type": "code",
   "execution_count": 1,
   "id": "a2f8c440-c30e-4246-9e97-dee0baf30aa5",
   "metadata": {
    "execution": {
     "iopub.execute_input": "2022-11-21T05:42:26.226137Z",
     "iopub.status.busy": "2022-11-21T05:42:26.226137Z",
     "iopub.status.idle": "2022-11-21T05:42:26.244126Z",
     "shell.execute_reply": "2022-11-21T05:42:26.243091Z",
     "shell.execute_reply.started": "2022-11-21T05:42:26.226137Z"
    },
    "tags": []
   },
   "outputs": [],
   "source": [
    "#!pip install pyperclip\n",
    "#!pip install pyautogui"
   ]
  },
  {
   "cell_type": "markdown",
   "id": "88e6fa80-f4f4-43d3-a393-d7f48f58ac48",
   "metadata": {},
   "source": [
    "# Imports"
   ]
  },
  {
   "cell_type": "code",
   "execution_count": 2,
   "id": "15b6c522-4805-4586-8897-c580268b7882",
   "metadata": {
    "execution": {
     "iopub.execute_input": "2022-11-21T05:42:26.246085Z",
     "iopub.status.busy": "2022-11-21T05:42:26.246085Z",
     "iopub.status.idle": "2022-11-21T05:42:27.414935Z",
     "shell.execute_reply": "2022-11-21T05:42:27.414935Z",
     "shell.execute_reply.started": "2022-11-21T05:42:26.246085Z"
    },
    "tags": []
   },
   "outputs": [],
   "source": [
    "import pyperclip #> Copy & paste Korean sentence\n",
    "import pyautogui as ptg #> Macro\n",
    "import os\n",
    "import numpy as np\n",
    "import time\n",
    "\n",
    "from tqdm import tqdm"
   ]
  },
  {
   "cell_type": "markdown",
   "id": "02599d96-c02f-4041-ac1d-9d8256fb223e",
   "metadata": {},
   "source": [
    "# Settings"
   ]
  },
  {
   "cell_type": "markdown",
   "id": "2809dfe5-e6ef-4ce2-9129-895c45ca2939",
   "metadata": {},
   "source": [
    "## SSAM 버튼 설정\n",
    "* **`ptg.position`** : 마우스 커서의 좌표를 따 옴\n",
    "* 보조 모니터에서 SSAM3을 **권장 해상도, 전체화면**으로 세팅한 다음 진행(그래야 추후 사용 시 편리함)\n",
    "* **반드시 TTC = 4, Rear end angle = 45로 맞추세요."
   ]
  },
  {
   "cell_type": "code",
   "execution_count": 3,
   "id": "d940e46a-05d9-4ed7-a5de-73bd5111089a",
   "metadata": {
    "execution": {
     "iopub.execute_input": "2022-11-21T05:42:27.416931Z",
     "iopub.status.busy": "2022-11-21T05:42:27.415933Z",
     "iopub.status.idle": "2022-11-21T05:42:27.433894Z",
     "shell.execute_reply": "2022-11-21T05:42:27.430893Z",
     "shell.execute_reply.started": "2022-11-21T05:42:27.416931Z"
    },
    "tags": []
   },
   "outputs": [
    {
     "data": {
      "text/plain": [
       "Point(x=2412, y=166)"
      ]
     },
     "execution_count": 3,
     "metadata": {},
     "output_type": "execute_result"
    }
   ],
   "source": [
    "ptg.position()"
   ]
  },
  {
   "cell_type": "markdown",
   "id": "1c184db1-bf90-436d-befd-47f7b1e32567",
   "metadata": {},
   "source": [
    "## Set coordinates of SSAM Buttons"
   ]
  },
  {
   "cell_type": "code",
   "execution_count": 4,
   "id": "f778292a-6bdb-4725-8d5d-00b275a9b0b0",
   "metadata": {
    "execution": {
     "iopub.execute_input": "2022-11-21T05:42:27.434882Z",
     "iopub.status.busy": "2022-11-21T05:42:27.434882Z",
     "iopub.status.idle": "2022-11-21T05:42:27.448845Z",
     "shell.execute_reply": "2022-11-21T05:42:27.446852Z",
     "shell.execute_reply.started": "2022-11-21T05:42:27.434882Z"
    },
    "tags": []
   },
   "outputs": [],
   "source": [
    "configuration_tab = (1968, 42) # SSAM configuration 탭 좌표\n",
    "add_button = (2034, 155) # 'Add' 버튼 좌표\n",
    "\n",
    "file_search_input = (2985, 670) # 파일이름 입력창 켜기\n",
    "open_button = (3146, 698) # 'Open' 버튼\n",
    "\n",
    "TTC_insert = (2270, 292) # 'TTC' 입력창\n",
    "PET_insert = (2273, 324) # 'PET' 입력창\n",
    "Rear_end_angle_insert = (2272, 378) # 'Rear end angle' 입력창\n",
    "\n",
    "analyze_button = (2014, 474) # 'Analyze' 버튼\n",
    "\n",
    "analyze_complete = (2926, 569) # 'Analyze Complete' 알림창을 닫기 위한 버튼\n",
    "\n",
    "conflicts_tab = (2034, 47) # 'Conflicts' 탭 선택\n",
    "export_csv_button = (2075, 645) # 'Export to csv file' 버튼 위치\n",
    "\n",
    "save_csv_input = (3018, 628) # csv 저장 창에서 인풋 입력창 켜기\n",
    "save_csv_button = (3127, 698) # Save to CSV button\n",
    "\n",
    "select_file = (2343, 106) # File name list\n",
    "delete_button = (2025, 187) # 'Delete' 버튼"
   ]
  },
  {
   "cell_type": "markdown",
   "id": "cc1548a7-17bd-4cd5-8a00-0e9b164509ea",
   "metadata": {},
   "source": [
    "## .trj 파일이 든 폴더\n",
    "**이 코드는 다음 경로에 맞추어 제작됨**\n",
    "```\n",
    "'E:/고속도로 상충구간_연속 분류 구간/ConDiverge_Type1(50m)/'\n",
    "```"
   ]
  },
  {
   "cell_type": "markdown",
   "id": "87e5a2b4-b9a1-4904-b1fb-614522b64c9b",
   "metadata": {},
   "source": [
    "## 결과 .csv 파일을 저장할 폴더 설정\n",
    "* 경로가 길면 텍스트가 잘려서 저장이 안됩니다. 최대한 단순한 경로에 저장한 뒤 옮기는 걸 추천"
   ]
  },
  {
   "cell_type": "code",
   "execution_count": 5,
   "id": "0b39b79d-b117-4304-b1bb-07bf43eb30e2",
   "metadata": {
    "execution": {
     "iopub.execute_input": "2022-11-21T05:42:27.451837Z",
     "iopub.status.busy": "2022-11-21T05:42:27.451837Z",
     "iopub.status.idle": "2022-11-21T05:42:27.463805Z",
     "shell.execute_reply": "2022-11-21T05:42:27.462807Z",
     "shell.execute_reply.started": "2022-11-21T05:42:27.451837Z"
    }
   },
   "outputs": [],
   "source": [
    "length_list = ['50m', '100m', '150m', '200m', '250m', '300m', '350m', '400m']"
   ]
  },
  {
   "cell_type": "code",
   "execution_count": 15,
   "id": "b52acf99-1076-45a4-a407-44cfb176e8f4",
   "metadata": {
    "execution": {
     "iopub.execute_input": "2022-11-22T00:39:30.704387Z",
     "iopub.status.busy": "2022-11-22T00:39:30.703300Z",
     "iopub.status.idle": "2022-11-22T00:39:33.194552Z",
     "shell.execute_reply": "2022-11-22T00:39:33.189828Z",
     "shell.execute_reply.started": "2022-11-22T00:39:30.704387Z"
    },
    "tags": []
   },
   "outputs": [
    {
     "name": "stdout",
     "output_type": "stream",
     "text": [
      "D:\\Projects\type2Ām\n",
      "E:/고속도로 상충구간_연속 분류 구간/ConDiverge_Type2(400m)\n",
      "ConDiverge_Type2(400m)\n",
      "['금호서울_1_001.trj', '금호서울_1_002.trj', '금호서울_1_003.trj']\n",
      "180\n"
     ]
    }
   ],
   "source": [
    "save_csv_dir = 'D:\\Projects\\type2\\400m'# 최대한 단순한 경로에 저장해 줍니다. 이건 input에 넣을 용이므로 '\\'를 써줘야 합니다\n",
    "\n",
    "trj_file_dir = 'E:/고속도로 상충구간_연속 분류 구간/ConDiverge_Type2(400m)'\n",
    "\n",
    "folder_name = 'ConDiverge_Type2(400m)'\n",
    "\n",
    "trj_list = os.listdir(trj_file_dir)\n",
    "\n",
    "print(save_csv_dir)\n",
    "print(trj_file_dir)\n",
    "print(folder_name)\n",
    "\n",
    "print(trj_list[:3])\n",
    "print(len(trj_list))"
   ]
  },
  {
   "cell_type": "markdown",
   "id": "692da04f-38de-4ccf-a964-3d3e710db942",
   "metadata": {},
   "source": [
    "# RUN! Automately Create SSAM Result Files"
   ]
  },
  {
   "cell_type": "markdown",
   "id": "28437ba1-a8a3-44b0-9234-a3923c1269a3",
   "metadata": {},
   "source": [
    "## 100,000KB 이하부터"
   ]
  },
  {
   "cell_type": "code",
   "execution_count": 16,
   "id": "175ab0ac-cf0f-47ef-8469-55d537bda62c",
   "metadata": {
    "execution": {
     "iopub.execute_input": "2022-11-22T00:39:38.101680Z",
     "iopub.status.busy": "2022-11-22T00:39:38.101680Z",
     "iopub.status.idle": "2022-11-22T04:13:03.828602Z",
     "shell.execute_reply": "2022-11-22T04:13:03.825588Z",
     "shell.execute_reply.started": "2022-11-22T00:39:38.101680Z"
    },
    "tags": []
   },
   "outputs": [
    {
     "name": "stderr",
     "output_type": "stream",
     "text": [
      "100%|██████████████████████████████████████████████████████████████████████████████| 180/180 [3:33:25<00:00, 71.14s/it]\n"
     ]
    }
   ],
   "source": [
    "for trj in tqdm(trj_list): #폴더의 각 .trj 파일에 대하여\n",
    "    \n",
    "    trj_file_path = os.path.join(trj_file_dir, trj)\n",
    "    trj_size = os.path.getsize(trj_file_path) / 100 # Kilo-byte\n",
    "    \n",
    "    if trj_size <= 1000000:\n",
    "        \n",
    "        if trj_size <= 400000:\n",
    "            sleeptime = 10\n",
    "        else:\n",
    "            sleeptime = 30\n",
    "    \n",
    "        ptg.click(x = configuration_tab[0], y = configuration_tab[1], clicks = 1, button = 'left') # Configuration 탭 클릭\n",
    "        ptg.click(x = add_button[0], y = add_button[1], clicks = 1, button = 'left') # Configuration의 'ADD' 버튼 클릭\n",
    "        time.sleep(1)\n",
    "        \n",
    "        ptg.click(x = file_search_input[0], y = file_search_input[1], clicks = 1, button = 'left')\n",
    "        ptg.typewrite('C:', 0.3) # C: 폴더로 이동 \n",
    "        ptg.press('enter')\n",
    "        time.sleep(0.3)\n",
    "    \n",
    "        ptg.click(x = file_search_input[0], y = file_search_input[1], clicks = 1, button = 'left') # 파일 이름 입력창 클릭(입력커서 on)\n",
    "        ptg.typewrite('E:', 0.3) # E: 폴더로 이동 \n",
    "        ptg.press('enter')\n",
    "        time.sleep(0.3)\n",
    "    \n",
    "        ptg.click(x = file_search_input[0], y = file_search_input[1], clicks = 1, button = 'left') # 파일 이름 입력창 클릭(입력커서 on)\n",
    "        ptg.press(['backspace'])\n",
    "        time.sleep(0.3)\n",
    "\n",
    "        pyperclip.copy('고속도로 상충구간_연속 분류 구간') # 해당 폴더로 이동\n",
    "        ptg.hotkey(\"ctrl\", \"v\")\n",
    "        ptg.press('enter')\n",
    "        time.sleep(0.3)\n",
    "    \n",
    "        ptg.click(x = file_search_input[0], y = file_search_input[1], clicks = 1, button = 'left') # 파일 이름 입력창 클릭(입력커서 on)\n",
    "        ptg.press(['backspace'])\n",
    "        time.sleep(0.3)\n",
    "    \n",
    "        pyperclip.copy(folder_name) # 해당 폴더로 이동\n",
    "        ptg.hotkey(\"ctrl\", \"v\")\n",
    "        ptg.press('enter')\n",
    "        time.sleep(0.3)\n",
    "    \n",
    "        ptg.click(x = file_search_input[0], y = file_search_input[1], clicks = 1, button = 'left') # 파일 이름 입력창 클릭(입력커서 on)\n",
    "        ptg.press(['backspace'])\n",
    "        time.sleep(0.3)\n",
    "\n",
    "        pyperclip.copy(trj) # 폴더 내의 .trj 파일 이름 입력\n",
    "        ptg.hotkey(\"ctrl\", \"v\")\n",
    "        ptg.click(x = open_button[0], y = open_button[1], clicks = 1, button = 'left') #> Open 버튼을 눌러 .trj 파일을 열기\n",
    "        time.sleep(1.5)\n",
    "        \n",
    "    # ---- 새로 추가된 부분 : TTC = 4 ----\n",
    "        ptg.click(x = TTC_insert[0], y = TTC_insert[1], clicks = 1, button = 'left')\n",
    "        ptg.press(['backspace'], 3)\n",
    "        ptg.typewrite('4', 0.3)\n",
    "        \n",
    "    # ---- 새로 추가된 부분 : PET = 3 매번 설정해 주어야 함 ----\n",
    "        ptg.click(x = PET_insert[0], y = PET_insert[1], clicks = 1, button = 'left')\n",
    "        ptg.press(['backspace'], 3)\n",
    "        ptg.typewrite('3', 0.3)\n",
    "        \n",
    "#         ptg.click(x = Rear_end_angle_insert[0], y = Rear_end_angle_insert[1], clicks = 1, button = 'left') \n",
    "#         ptg.press(['backspace'], 5) \n",
    "#         #ptg.keyDown('backspace')\n",
    "#         #ptg.keyDown('backspace')\n",
    "#         #ptg.keyUp('backspace')\n",
    "#         ptg.typewrite('30', 0.3)\n",
    "        # ----\n",
    "        \n",
    "        ptg.click(x = analyze_button[0], y = analyze_button[1], clicks = 1, button = 'left') # 'Analyze' 버튼 클릭\n",
    "\n",
    "        time.sleep(20) ### 이거 컴퓨터 상황에 따라 다르니까 필요시 조정해\n",
    "\n",
    "        ptg.click(x = analyze_complete[0], y = analyze_complete[1], clicks = 3, button = 'left') # 'Analysis Complete' 창 닫기\n",
    "        time.sleep(2)\n",
    "        ptg.click(x = analyze_complete[0], y = analyze_complete[1], clicks = 3, button = 'left')\n",
    "        time.sleep(2)\n",
    "\n",
    "    ####### Conflict 탭 선택 ########\n",
    "        ptg.click(x = conflicts_tab[0], y = conflicts_tab[1], clicks = 1, button = 'left') # Conflict 탭 선택\n",
    "        time.sleep(sleeptime)\n",
    "    \n",
    "        ptg.click(x = export_csv_button[0], y = export_csv_button[1], clicks = 1, button = 'left') # 'Export to csv file' 버튼 클릭\n",
    "        time.sleep(3) \n",
    "    \n",
    "    \n",
    "    ######## CSV 파일 저장 폴더 설정 #######\n",
    "        pyperclip.copy('D:') # .csv 파일을 저장할 폴더로 이동 :: 이거 오류나니까 잘 관리해야됨\n",
    "        ptg.hotkey(\"ctrl\", \"v\")\n",
    "        ptg.press('enter')\n",
    "        time.sleep(3)\n",
    "        \n",
    "        save_csv_file = trj[:-4] + '.csv' # 저장될 .csv 파일 이름 설정\n",
    "    \n",
    "        ptg.click(x = save_csv_input[0], y = save_csv_input[1], clicks = 1, button = 'left') # 파일 이름 입력창 클릭(입력커서 on)\n",
    "        ptg.press(['backspace'], 20) \n",
    "    \n",
    "        pyperclip.copy(save_csv_file) # .csv 파일 이름 입력\n",
    "        ptg.hotkey(\"ctrl\", \"v\")\n",
    "    #ptg.press('enter')\n",
    "        ptg.click(x = save_csv_button[0], y = save_csv_button[1], clicks = 1, button = 'left') #> '저장' 버튼을 클릭\n",
    "        time.sleep(3)\n",
    "        \n",
    "    \n",
    "    ####### COnfiguration 탭으로 돌아가기 #######\n",
    "        ptg.click(x = configuration_tab[0], y = configuration_tab[1], clicks = 1, button = 'left') #> Configuration 탭으로 돌아가기\n",
    "\n",
    "        ptg.click(x = select_file[0], y = select_file[1], clicks = 1, button = 'left') # 열려있는.trj 파일 선택\n",
    "        ptg.click(x = delete_button[0], y = delete_button[1], clicks = 3, button = 'left') # 'Delete' 버튼을 눌러 파일 지우기\n",
    "    \n",
    "        time.sleep(2)\n",
    "    \n",
    "    else:\n",
    "        pass\n",
    "    #sleeptime = int(trj_size/10000) * 3.5 + 10\n",
    "    #print(f'Sleep Time = {sleeptime}')"
   ]
  }
 ],
 "metadata": {
  "kernelspec": {
   "display_name": "Python 3",
   "language": "python",
   "name": "python3"
  },
  "language_info": {
   "codemirror_mode": {
    "name": "ipython",
    "version": 3
   },
   "file_extension": ".py",
   "mimetype": "text/x-python",
   "name": "python",
   "nbconvert_exporter": "python",
   "pygments_lexer": "ipython3",
   "version": "3.8.8"
  }
 },
 "nbformat": 4,
 "nbformat_minor": 5
}
