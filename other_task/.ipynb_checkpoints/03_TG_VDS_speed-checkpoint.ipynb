{
 "cells": [
  {
   "cell_type": "markdown",
   "id": "48a87373-6258-4951-920c-75877fb2e3f8",
   "metadata": {},
   "source": [
    "# 서울TG 방향별 전후 속도 분석\n",
    "* 양방향(전후) 2km 이내"
   ]
  },
  {
   "cell_type": "markdown",
   "id": "c38613d0-c097-4464-9cb8-499160f4c08b",
   "metadata": {},
   "source": [
    "# Import"
   ]
  },
  {
   "cell_type": "code",
   "execution_count": 304,
   "id": "d0db0d00-91f5-45d6-998a-fd21f2a52709",
   "metadata": {
    "execution": {
     "iopub.execute_input": "2022-05-18T12:52:09.581268Z",
     "iopub.status.busy": "2022-05-18T12:52:09.581268Z",
     "iopub.status.idle": "2022-05-18T12:52:09.589249Z",
     "shell.execute_reply": "2022-05-18T12:52:09.588251Z",
     "shell.execute_reply.started": "2022-05-18T12:52:09.581268Z"
    },
    "tags": []
   },
   "outputs": [],
   "source": [
    "import pandas as pd\n",
    "import numpy as np\n",
    "\n",
    "import os\n",
    "from tqdm import tqdm\n",
    "\n",
    "import plotly.express as px"
   ]
  },
  {
   "cell_type": "markdown",
   "id": "03769f0d-de80-408a-bf15-44c35f137733",
   "metadata": {},
   "source": [
    "# Load Dataset"
   ]
  },
  {
   "cell_type": "code",
   "execution_count": 305,
   "id": "f355dfa7-4fa2-4389-a877-ce6d01ee2035",
   "metadata": {
    "execution": {
     "iopub.execute_input": "2022-05-18T12:52:09.591363Z",
     "iopub.status.busy": "2022-05-18T12:52:09.591363Z",
     "iopub.status.idle": "2022-05-18T12:52:09.605303Z",
     "shell.execute_reply": "2022-05-18T12:52:09.604296Z",
     "shell.execute_reply.started": "2022-05-18T12:52:09.591363Z"
    },
    "tags": []
   },
   "outputs": [],
   "source": [
    "Conzone_info_file = 'Conzone_info_total.csv'"
   ]
  },
  {
   "cell_type": "code",
   "execution_count": 306,
   "id": "69337a97-0563-4070-9ce8-802f6e5896e5",
   "metadata": {
    "execution": {
     "iopub.execute_input": "2022-05-18T12:52:09.607323Z",
     "iopub.status.busy": "2022-05-18T12:52:09.607323Z",
     "iopub.status.idle": "2022-05-18T12:52:09.620448Z",
     "shell.execute_reply": "2022-05-18T12:52:09.620448Z",
     "shell.execute_reply.started": "2022-05-18T12:52:09.607323Z"
    },
    "tags": []
   },
   "outputs": [],
   "source": [
    "VDS_info_file = 'VDS_list_total.csv'"
   ]
  },
  {
   "cell_type": "code",
   "execution_count": 307,
   "id": "f1588f00-ddcf-4b4a-8615-01423a8c23f8",
   "metadata": {
    "execution": {
     "iopub.execute_input": "2022-05-18T12:52:09.622872Z",
     "iopub.status.busy": "2022-05-18T12:52:09.622872Z",
     "iopub.status.idle": "2022-05-18T12:52:09.636582Z",
     "shell.execute_reply": "2022-05-18T12:52:09.635583Z",
     "shell.execute_reply.started": "2022-05-18T12:52:09.622872Z"
    },
    "tags": []
   },
   "outputs": [],
   "source": [
    "VDS_Speed_file = 'VDS_Speed_220301-220330.csv'"
   ]
  },
  {
   "cell_type": "code",
   "execution_count": 308,
   "id": "b3ed94d4-1bcb-40df-b4e2-38dc5e0c78e5",
   "metadata": {
    "execution": {
     "iopub.execute_input": "2022-05-18T12:52:09.638088Z",
     "iopub.status.busy": "2022-05-18T12:52:09.638088Z",
     "iopub.status.idle": "2022-05-18T12:52:09.667509Z",
     "shell.execute_reply": "2022-05-18T12:52:09.666512Z",
     "shell.execute_reply.started": "2022-05-18T12:52:09.638088Z"
    },
    "tags": []
   },
   "outputs": [],
   "source": [
    "Conzone_info = pd.read_csv(Conzone_info_file, encoding = 'cp949')"
   ]
  },
  {
   "cell_type": "code",
   "execution_count": 309,
   "id": "6f2700fa-8eda-4444-a4ab-3b318385ce17",
   "metadata": {
    "execution": {
     "iopub.execute_input": "2022-05-18T12:52:09.668508Z",
     "iopub.status.busy": "2022-05-18T12:52:09.668508Z",
     "iopub.status.idle": "2022-05-18T12:52:09.714460Z",
     "shell.execute_reply": "2022-05-18T12:52:09.713492Z",
     "shell.execute_reply.started": "2022-05-18T12:52:09.668508Z"
    },
    "tags": []
   },
   "outputs": [],
   "source": [
    "VDS_info = pd.read_csv(VDS_info_file, encoding = 'cp949')"
   ]
  },
  {
   "cell_type": "code",
   "execution_count": 310,
   "id": "a6b3c4d8-5e99-4084-9fd0-8c1a868628ab",
   "metadata": {
    "execution": {
     "iopub.execute_input": "2022-05-18T12:52:09.716456Z",
     "iopub.status.busy": "2022-05-18T12:52:09.715457Z",
     "iopub.status.idle": "2022-05-18T12:52:24.675786Z",
     "shell.execute_reply": "2022-05-18T12:52:24.673790Z",
     "shell.execute_reply.started": "2022-05-18T12:52:09.716456Z"
    },
    "tags": []
   },
   "outputs": [],
   "source": [
    "VDS_speed = pd.read_csv(VDS_Speed_file, encoding = 'cp949')"
   ]
  },
  {
   "cell_type": "code",
   "execution_count": 311,
   "id": "e5e3cc1c-6c62-4b0a-b9f4-35a9d6a4be2d",
   "metadata": {
    "execution": {
     "iopub.execute_input": "2022-05-18T12:52:24.681345Z",
     "iopub.status.busy": "2022-05-18T12:52:24.680343Z",
     "iopub.status.idle": "2022-05-18T12:52:24.708183Z",
     "shell.execute_reply": "2022-05-18T12:52:24.705195Z",
     "shell.execute_reply.started": "2022-05-18T12:52:24.681345Z"
    },
    "tags": []
   },
   "outputs": [
    {
     "data": {
      "text/plain": [
       "(2370, 7840, 23337168)"
      ]
     },
     "execution_count": 311,
     "metadata": {},
     "output_type": "execute_result"
    }
   ],
   "source": [
    "len(Conzone_info), len(VDS_info), len(VDS_speed)"
   ]
  },
  {
   "cell_type": "markdown",
   "id": "b6995b62-0318-46db-b773-9bca63bacc48",
   "metadata": {},
   "source": [
    "# Filtering"
   ]
  },
  {
   "cell_type": "markdown",
   "id": "53dea7c2-cd58-41de-8f0b-0a0158b17831",
   "metadata": {},
   "source": [
    "## Date\n",
    "* 2022년 3월, 공휴일이 아닌 화/수/목 데이터만 도출 : 2, 3, 8, 9, 15, 16, 17, 22, 23, 24, 29, 30, 31"
   ]
  },
  {
   "cell_type": "code",
   "execution_count": 312,
   "id": "1599225b-d627-451d-90d0-d2c38bcbd9e6",
   "metadata": {
    "execution": {
     "iopub.execute_input": "2022-05-18T12:52:24.712967Z",
     "iopub.status.busy": "2022-05-18T12:52:24.712967Z",
     "iopub.status.idle": "2022-05-18T12:52:24.738520Z",
     "shell.execute_reply": "2022-05-18T12:52:24.736528Z",
     "shell.execute_reply.started": "2022-05-18T12:52:24.712967Z"
    },
    "tags": []
   },
   "outputs": [],
   "source": [
    "target_dates = [2, 3, 8, 9, 15, 16, 17, 22, 23, 24, 29, 30, 31]\n",
    "dates = [i + 20220300 for i in target_dates]"
   ]
  },
  {
   "cell_type": "code",
   "execution_count": 313,
   "id": "fd5866d6-3d4c-4e05-ba88-3c0ffb6a99d1",
   "metadata": {
    "execution": {
     "iopub.execute_input": "2022-05-18T12:52:24.750111Z",
     "iopub.status.busy": "2022-05-18T12:52:24.747109Z",
     "iopub.status.idle": "2022-05-18T12:52:24.770199Z",
     "shell.execute_reply": "2022-05-18T12:52:24.767578Z",
     "shell.execute_reply.started": "2022-05-18T12:52:24.750111Z"
    },
    "tags": []
   },
   "outputs": [
    {
     "data": {
      "text/plain": [
       "[20220302,\n",
       " 20220303,\n",
       " 20220308,\n",
       " 20220309,\n",
       " 20220315,\n",
       " 20220316,\n",
       " 20220317,\n",
       " 20220322,\n",
       " 20220323,\n",
       " 20220324,\n",
       " 20220329,\n",
       " 20220330,\n",
       " 20220331]"
      ]
     },
     "execution_count": 313,
     "metadata": {},
     "output_type": "execute_result"
    }
   ],
   "source": [
    "dates"
   ]
  },
  {
   "cell_type": "code",
   "execution_count": 314,
   "id": "bead9259-7e49-4f06-8c64-9d229806919f",
   "metadata": {
    "execution": {
     "iopub.execute_input": "2022-05-18T12:52:24.778551Z",
     "iopub.status.busy": "2022-05-18T12:52:24.776556Z",
     "iopub.status.idle": "2022-05-18T12:52:25.717580Z",
     "shell.execute_reply": "2022-05-18T12:52:25.716583Z",
     "shell.execute_reply.started": "2022-05-18T12:52:24.778551Z"
    },
    "tags": []
   },
   "outputs": [],
   "source": [
    "VDS_speed_filtered = VDS_speed[VDS_speed['집계일자'].isin(dates)] # 원하는 날짜만 필터링"
   ]
  },
  {
   "cell_type": "code",
   "execution_count": 315,
   "id": "d0e33799-f447-4e5f-a97c-18cb672d375e",
   "metadata": {
    "execution": {
     "iopub.execute_input": "2022-05-18T12:52:25.718576Z",
     "iopub.status.busy": "2022-05-18T12:52:25.718576Z",
     "iopub.status.idle": "2022-05-18T12:52:25.734602Z",
     "shell.execute_reply": "2022-05-18T12:52:25.732606Z",
     "shell.execute_reply.started": "2022-05-18T12:52:25.718576Z"
    },
    "tags": []
   },
   "outputs": [
    {
     "data": {
      "text/html": [
       "<div>\n",
       "<style scoped>\n",
       "    .dataframe tbody tr th:only-of-type {\n",
       "        vertical-align: middle;\n",
       "    }\n",
       "\n",
       "    .dataframe tbody tr th {\n",
       "        vertical-align: top;\n",
       "    }\n",
       "\n",
       "    .dataframe thead th {\n",
       "        text-align: right;\n",
       "    }\n",
       "</style>\n",
       "<table border=\"1\" class=\"dataframe\">\n",
       "  <thead>\n",
       "    <tr style=\"text-align: right;\">\n",
       "      <th></th>\n",
       "      <th>집계일자</th>\n",
       "      <th>집계시분</th>\n",
       "      <th>VDS_ID</th>\n",
       "      <th>지점이정</th>\n",
       "      <th>차로유형구분코드</th>\n",
       "      <th>평균속도</th>\n",
       "      <th>Unnamed: 6</th>\n",
       "    </tr>\n",
       "  </thead>\n",
       "  <tbody>\n",
       "    <tr>\n",
       "      <th>6548</th>\n",
       "      <td>20220302</td>\n",
       "      <td>315</td>\n",
       "      <td>0170VDE00002</td>\n",
       "      <td>2.0</td>\n",
       "      <td>1</td>\n",
       "      <td>104.47</td>\n",
       "      <td>NaN</td>\n",
       "    </tr>\n",
       "    <tr>\n",
       "      <th>6549</th>\n",
       "      <td>20220302</td>\n",
       "      <td>315</td>\n",
       "      <td>0170VDE00003</td>\n",
       "      <td>3.0</td>\n",
       "      <td>1</td>\n",
       "      <td>109.83</td>\n",
       "      <td>NaN</td>\n",
       "    </tr>\n",
       "    <tr>\n",
       "      <th>6550</th>\n",
       "      <td>20220302</td>\n",
       "      <td>315</td>\n",
       "      <td>0170VDE00004</td>\n",
       "      <td>4.0</td>\n",
       "      <td>1</td>\n",
       "      <td>99.74</td>\n",
       "      <td>NaN</td>\n",
       "    </tr>\n",
       "  </tbody>\n",
       "</table>\n",
       "</div>"
      ],
      "text/plain": [
       "          집계일자  집계시분        VDS_ID  지점이정  차로유형구분코드    평균속도  Unnamed: 6\n",
       "6548  20220302   315  0170VDE00002   2.0         1  104.47         NaN\n",
       "6549  20220302   315  0170VDE00003   3.0         1  109.83         NaN\n",
       "6550  20220302   315  0170VDE00004   4.0         1   99.74         NaN"
      ]
     },
     "execution_count": 315,
     "metadata": {},
     "output_type": "execute_result"
    }
   ],
   "source": [
    "VDS_speed_filtered.head(3)"
   ]
  },
  {
   "cell_type": "markdown",
   "id": "0f90350a-bebc-4ec4-a4d0-61405240aff0",
   "metadata": {},
   "source": [
    "## Conzone\n",
    "* 원하는 콘존의 VDS만 추출"
   ]
  },
  {
   "cell_type": "code",
   "execution_count": 316,
   "id": "441d0f6f-24e3-466e-966f-afe4fbed7ae5",
   "metadata": {
    "execution": {
     "iopub.execute_input": "2022-05-18T12:52:25.736593Z",
     "iopub.status.busy": "2022-05-18T12:52:25.736593Z",
     "iopub.status.idle": "2022-05-18T12:52:25.753111Z",
     "shell.execute_reply": "2022-05-18T12:52:25.748572Z",
     "shell.execute_reply.started": "2022-05-18T12:52:25.736593Z"
    },
    "tags": []
   },
   "outputs": [],
   "source": [
    "Conzones = ['판교IC-서울TG', '서울TG-신갈JC', '신갈JC-서울TG', '서울TG-판교IC']"
   ]
  },
  {
   "cell_type": "code",
   "execution_count": 317,
   "id": "b42b5e2f-baa1-4a0e-9474-2a21ba815b56",
   "metadata": {
    "execution": {
     "iopub.execute_input": "2022-05-18T12:52:25.760092Z",
     "iopub.status.busy": "2022-05-18T12:52:25.759096Z",
     "iopub.status.idle": "2022-05-18T12:52:25.781680Z",
     "shell.execute_reply": "2022-05-18T12:52:25.780493Z",
     "shell.execute_reply.started": "2022-05-18T12:52:25.760092Z"
    },
    "tags": []
   },
   "outputs": [],
   "source": [
    "Conzone_info_filtered = Conzone_info[Conzone_info['콘존명'].isin(Conzones)]"
   ]
  },
  {
   "cell_type": "code",
   "execution_count": 318,
   "id": "58320d90-0df4-4832-9f86-c8eadce5bb9c",
   "metadata": {
    "execution": {
     "iopub.execute_input": "2022-05-18T12:52:25.783691Z",
     "iopub.status.busy": "2022-05-18T12:52:25.783691Z",
     "iopub.status.idle": "2022-05-18T12:52:25.800150Z",
     "shell.execute_reply": "2022-05-18T12:52:25.796158Z",
     "shell.execute_reply.started": "2022-05-18T12:52:25.783691Z"
    },
    "tags": []
   },
   "outputs": [],
   "source": [
    "Conzone_list_filtered = list(Conzone_info_filtered['콘존ID'].unique())"
   ]
  },
  {
   "cell_type": "code",
   "execution_count": 319,
   "id": "fbf2a468-def3-439a-bc03-14f79b3de222",
   "metadata": {
    "execution": {
     "iopub.execute_input": "2022-05-18T12:52:25.805683Z",
     "iopub.status.busy": "2022-05-18T12:52:25.804683Z",
     "iopub.status.idle": "2022-05-18T12:52:25.858858Z",
     "shell.execute_reply": "2022-05-18T12:52:25.858858Z",
     "shell.execute_reply.started": "2022-05-18T12:52:25.805683Z"
    },
    "tags": []
   },
   "outputs": [
    {
     "data": {
      "text/html": [
       "<div>\n",
       "<style scoped>\n",
       "    .dataframe tbody tr th:only-of-type {\n",
       "        vertical-align: middle;\n",
       "    }\n",
       "\n",
       "    .dataframe tbody tr th {\n",
       "        vertical-align: top;\n",
       "    }\n",
       "\n",
       "    .dataframe thead th {\n",
       "        text-align: right;\n",
       "    }\n",
       "</style>\n",
       "<table border=\"1\" class=\"dataframe\">\n",
       "  <thead>\n",
       "    <tr style=\"text-align: right;\">\n",
       "      <th></th>\n",
       "      <th>Unnamed: 0</th>\n",
       "      <th>콘존ID</th>\n",
       "      <th>콘존길이</th>\n",
       "      <th>콘존명</th>\n",
       "      <th>노선번호</th>\n",
       "      <th>도로명</th>\n",
       "      <th>도로단축명</th>\n",
       "      <th>도로표출명</th>\n",
       "      <th>기점종점방향구분코드</th>\n",
       "      <th>시점명</th>\n",
       "      <th>...</th>\n",
       "      <th>시작노드ID</th>\n",
       "      <th>종료노드ID</th>\n",
       "      <th>시작노드_도로이정</th>\n",
       "      <th>종료노드_도로이정</th>\n",
       "      <th>차로수</th>\n",
       "      <th>버스전용차로유무</th>\n",
       "      <th>도로등급구분코드</th>\n",
       "      <th>제한속도</th>\n",
       "      <th>소통원활기준속도</th>\n",
       "      <th>정체기준속도</th>\n",
       "    </tr>\n",
       "  </thead>\n",
       "  <tbody>\n",
       "    <tr>\n",
       "      <th>97</th>\n",
       "      <td>97</td>\n",
       "      <td>0010CZE460</td>\n",
       "      <td>8340.0</td>\n",
       "      <td>신갈JC-서울TG</td>\n",
       "      <td>10</td>\n",
       "      <td>경부선</td>\n",
       "      <td>경부선</td>\n",
       "      <td>경부</td>\n",
       "      <td>E</td>\n",
       "      <td>부산</td>\n",
       "      <td>...</td>\n",
       "      <td>309</td>\n",
       "      <td>280</td>\n",
       "      <td>394.96</td>\n",
       "      <td>403.30</td>\n",
       "      <td>5.0</td>\n",
       "      <td>1</td>\n",
       "      <td>101</td>\n",
       "      <td>110.0</td>\n",
       "      <td>80</td>\n",
       "      <td>40</td>\n",
       "    </tr>\n",
       "    <tr>\n",
       "      <th>98</th>\n",
       "      <td>98</td>\n",
       "      <td>0010CZE460</td>\n",
       "      <td>8340.0</td>\n",
       "      <td>신갈JC-서울TG</td>\n",
       "      <td>10</td>\n",
       "      <td>경부선</td>\n",
       "      <td>경부선</td>\n",
       "      <td>경부</td>\n",
       "      <td>E</td>\n",
       "      <td>부산</td>\n",
       "      <td>...</td>\n",
       "      <td>309</td>\n",
       "      <td>280</td>\n",
       "      <td>41.79</td>\n",
       "      <td>403.30</td>\n",
       "      <td>5.0</td>\n",
       "      <td>1</td>\n",
       "      <td>101</td>\n",
       "      <td>110.0</td>\n",
       "      <td>80</td>\n",
       "      <td>40</td>\n",
       "    </tr>\n",
       "    <tr>\n",
       "      <th>99</th>\n",
       "      <td>99</td>\n",
       "      <td>0010CZE470</td>\n",
       "      <td>3640.0</td>\n",
       "      <td>서울TG-판교IC</td>\n",
       "      <td>10</td>\n",
       "      <td>경부선</td>\n",
       "      <td>경부선</td>\n",
       "      <td>경부</td>\n",
       "      <td>E</td>\n",
       "      <td>부산</td>\n",
       "      <td>...</td>\n",
       "      <td>280</td>\n",
       "      <td>274</td>\n",
       "      <td>403.30</td>\n",
       "      <td>406.94</td>\n",
       "      <td>5.0</td>\n",
       "      <td>1</td>\n",
       "      <td>101</td>\n",
       "      <td>110.0</td>\n",
       "      <td>80</td>\n",
       "      <td>40</td>\n",
       "    </tr>\n",
       "    <tr>\n",
       "      <th>209</th>\n",
       "      <td>209</td>\n",
       "      <td>0010CZS460</td>\n",
       "      <td>8340.0</td>\n",
       "      <td>서울TG-신갈JC</td>\n",
       "      <td>10</td>\n",
       "      <td>경부선</td>\n",
       "      <td>경부선</td>\n",
       "      <td>경부</td>\n",
       "      <td>S</td>\n",
       "      <td>부산</td>\n",
       "      <td>...</td>\n",
       "      <td>280</td>\n",
       "      <td>309</td>\n",
       "      <td>403.30</td>\n",
       "      <td>394.96</td>\n",
       "      <td>5.0</td>\n",
       "      <td>1</td>\n",
       "      <td>101</td>\n",
       "      <td>110.0</td>\n",
       "      <td>80</td>\n",
       "      <td>40</td>\n",
       "    </tr>\n",
       "    <tr>\n",
       "      <th>210</th>\n",
       "      <td>210</td>\n",
       "      <td>0010CZS460</td>\n",
       "      <td>8340.0</td>\n",
       "      <td>서울TG-신갈JC</td>\n",
       "      <td>10</td>\n",
       "      <td>경부선</td>\n",
       "      <td>경부선</td>\n",
       "      <td>경부</td>\n",
       "      <td>S</td>\n",
       "      <td>부산</td>\n",
       "      <td>...</td>\n",
       "      <td>280</td>\n",
       "      <td>309</td>\n",
       "      <td>403.30</td>\n",
       "      <td>41.79</td>\n",
       "      <td>5.0</td>\n",
       "      <td>1</td>\n",
       "      <td>101</td>\n",
       "      <td>110.0</td>\n",
       "      <td>80</td>\n",
       "      <td>40</td>\n",
       "    </tr>\n",
       "    <tr>\n",
       "      <th>211</th>\n",
       "      <td>211</td>\n",
       "      <td>0010CZS470</td>\n",
       "      <td>3640.0</td>\n",
       "      <td>판교IC-서울TG</td>\n",
       "      <td>10</td>\n",
       "      <td>경부선</td>\n",
       "      <td>경부선</td>\n",
       "      <td>경부</td>\n",
       "      <td>S</td>\n",
       "      <td>부산</td>\n",
       "      <td>...</td>\n",
       "      <td>274</td>\n",
       "      <td>280</td>\n",
       "      <td>406.94</td>\n",
       "      <td>403.30</td>\n",
       "      <td>5.0</td>\n",
       "      <td>1</td>\n",
       "      <td>101</td>\n",
       "      <td>110.0</td>\n",
       "      <td>80</td>\n",
       "      <td>40</td>\n",
       "    </tr>\n",
       "  </tbody>\n",
       "</table>\n",
       "<p>6 rows × 22 columns</p>\n",
       "</div>"
      ],
      "text/plain": [
       "     Unnamed: 0        콘존ID    콘존길이        콘존명  노선번호  도로명 도로단축명 도로표출명  \\\n",
       "97           97  0010CZE460  8340.0  신갈JC-서울TG    10  경부선   경부선    경부   \n",
       "98           98  0010CZE460  8340.0  신갈JC-서울TG    10  경부선   경부선    경부   \n",
       "99           99  0010CZE470  3640.0  서울TG-판교IC    10  경부선   경부선    경부   \n",
       "209         209  0010CZS460  8340.0  서울TG-신갈JC    10  경부선   경부선    경부   \n",
       "210         210  0010CZS460  8340.0  서울TG-신갈JC    10  경부선   경부선    경부   \n",
       "211         211  0010CZS470  3640.0  판교IC-서울TG    10  경부선   경부선    경부   \n",
       "\n",
       "    기점종점방향구분코드 시점명  ... 시작노드ID  종료노드ID 시작노드_도로이정 종료노드_도로이정  차로수  버스전용차로유무  \\\n",
       "97           E  부산  ...    309     280    394.96    403.30  5.0         1   \n",
       "98           E  부산  ...    309     280     41.79    403.30  5.0         1   \n",
       "99           E  부산  ...    280     274    403.30    406.94  5.0         1   \n",
       "209          S  부산  ...    280     309    403.30    394.96  5.0         1   \n",
       "210          S  부산  ...    280     309    403.30     41.79  5.0         1   \n",
       "211          S  부산  ...    274     280    406.94    403.30  5.0         1   \n",
       "\n",
       "     도로등급구분코드   제한속도 소통원활기준속도  정체기준속도  \n",
       "97        101  110.0       80      40  \n",
       "98        101  110.0       80      40  \n",
       "99        101  110.0       80      40  \n",
       "209       101  110.0       80      40  \n",
       "210       101  110.0       80      40  \n",
       "211       101  110.0       80      40  \n",
       "\n",
       "[6 rows x 22 columns]"
      ]
     },
     "execution_count": 319,
     "metadata": {},
     "output_type": "execute_result"
    }
   ],
   "source": [
    "Conzone_info_filtered"
   ]
  },
  {
   "cell_type": "code",
   "execution_count": 320,
   "id": "be234553-8fcc-4f03-b90e-ef7bd4d7f9f8",
   "metadata": {
    "execution": {
     "iopub.execute_input": "2022-05-18T12:52:25.861450Z",
     "iopub.status.busy": "2022-05-18T12:52:25.861450Z",
     "iopub.status.idle": "2022-05-18T12:52:25.875510Z",
     "shell.execute_reply": "2022-05-18T12:52:25.874541Z",
     "shell.execute_reply.started": "2022-05-18T12:52:25.861450Z"
    },
    "tags": []
   },
   "outputs": [
    {
     "data": {
      "text/plain": [
       "['0010CZE460', '0010CZE470', '0010CZS460', '0010CZS470']"
      ]
     },
     "execution_count": 320,
     "metadata": {},
     "output_type": "execute_result"
    }
   ],
   "source": [
    "Conzone_list_filtered"
   ]
  },
  {
   "cell_type": "markdown",
   "id": "044c540d-f9d9-4f11-b7ce-df954383e9bd",
   "metadata": {},
   "source": [
    "## VDS\n",
    "* 원하는 콘존 내의 VDS만 추출"
   ]
  },
  {
   "cell_type": "code",
   "execution_count": 321,
   "id": "d5208d03-3431-4f43-a912-01fa52686291",
   "metadata": {
    "execution": {
     "iopub.execute_input": "2022-05-18T12:52:25.877534Z",
     "iopub.status.busy": "2022-05-18T12:52:25.876536Z",
     "iopub.status.idle": "2022-05-18T12:52:25.923179Z",
     "shell.execute_reply": "2022-05-18T12:52:25.922225Z",
     "shell.execute_reply.started": "2022-05-18T12:52:25.877534Z"
    },
    "tags": []
   },
   "outputs": [
    {
     "data": {
      "text/html": [
       "<div>\n",
       "<style scoped>\n",
       "    .dataframe tbody tr th:only-of-type {\n",
       "        vertical-align: middle;\n",
       "    }\n",
       "\n",
       "    .dataframe tbody tr th {\n",
       "        vertical-align: top;\n",
       "    }\n",
       "\n",
       "    .dataframe thead th {\n",
       "        text-align: right;\n",
       "    }\n",
       "</style>\n",
       "<table border=\"1\" class=\"dataframe\">\n",
       "  <thead>\n",
       "    <tr style=\"text-align: right;\">\n",
       "      <th></th>\n",
       "      <th>Unnamed: 0</th>\n",
       "      <th>Unnamed: 0.1</th>\n",
       "      <th>pageNo</th>\n",
       "      <th>numOfRows</th>\n",
       "      <th>routeNo</th>\n",
       "      <th>routeName</th>\n",
       "      <th>vdsId</th>\n",
       "      <th>shift</th>\n",
       "      <th>vdsLength</th>\n",
       "      <th>roadgradeCode</th>\n",
       "      <th>...</th>\n",
       "      <th>equipmentBelongingName</th>\n",
       "      <th>grs80x</th>\n",
       "      <th>grs80y</th>\n",
       "      <th>vdsStartShift</th>\n",
       "      <th>vdsEndShift</th>\n",
       "      <th>vdsCode</th>\n",
       "      <th>vdsName</th>\n",
       "      <th>routeSeq</th>\n",
       "      <th>directionCode</th>\n",
       "      <th>czId</th>\n",
       "    </tr>\n",
       "  </thead>\n",
       "  <tbody>\n",
       "    <tr>\n",
       "      <th>0</th>\n",
       "      <td>0</td>\n",
       "      <td>0</td>\n",
       "      <td>NaN</td>\n",
       "      <td>NaN</td>\n",
       "      <td>10</td>\n",
       "      <td>경부선</td>\n",
       "      <td>0010VDE00100</td>\n",
       "      <td>1.40km</td>\n",
       "      <td>1820.00m</td>\n",
       "      <td>101</td>\n",
       "      <td>...</td>\n",
       "      <td>본선</td>\n",
       "      <td>391265.168637</td>\n",
       "      <td>297630.018235</td>\n",
       "      <td>0.20km</td>\n",
       "      <td>2.02km</td>\n",
       "      <td>1</td>\n",
       "      <td>FTMS 본선 VDS</td>\n",
       "      <td>1.0</td>\n",
       "      <td>E</td>\n",
       "      <td>0010CZE010</td>\n",
       "    </tr>\n",
       "    <tr>\n",
       "      <th>1</th>\n",
       "      <td>1</td>\n",
       "      <td>1</td>\n",
       "      <td>NaN</td>\n",
       "      <td>NaN</td>\n",
       "      <td>10</td>\n",
       "      <td>경부선</td>\n",
       "      <td>0010VDE00200</td>\n",
       "      <td>2.40km</td>\n",
       "      <td>830.00m</td>\n",
       "      <td>101</td>\n",
       "      <td>...</td>\n",
       "      <td>본선</td>\n",
       "      <td>391642.598589</td>\n",
       "      <td>298552.156704</td>\n",
       "      <td>2.02km</td>\n",
       "      <td>2.85km</td>\n",
       "      <td>1</td>\n",
       "      <td>FTMS 본선 VDS</td>\n",
       "      <td>2.0</td>\n",
       "      <td>E</td>\n",
       "      <td>0010CZE011</td>\n",
       "    </tr>\n",
       "    <tr>\n",
       "      <th>2</th>\n",
       "      <td>2</td>\n",
       "      <td>2</td>\n",
       "      <td>NaN</td>\n",
       "      <td>NaN</td>\n",
       "      <td>10</td>\n",
       "      <td>경부선</td>\n",
       "      <td>0010VDE00300</td>\n",
       "      <td>3.30km</td>\n",
       "      <td>1160.00m</td>\n",
       "      <td>101</td>\n",
       "      <td>...</td>\n",
       "      <td>본선</td>\n",
       "      <td>391873.613256</td>\n",
       "      <td>299421.826590</td>\n",
       "      <td>2.85km</td>\n",
       "      <td>4.01km</td>\n",
       "      <td>1</td>\n",
       "      <td>FTMS 본선 VDS</td>\n",
       "      <td>3.0</td>\n",
       "      <td>E</td>\n",
       "      <td>0010CZE011</td>\n",
       "    </tr>\n",
       "  </tbody>\n",
       "</table>\n",
       "<p>3 rows × 22 columns</p>\n",
       "</div>"
      ],
      "text/plain": [
       "   Unnamed: 0  Unnamed: 0.1  pageNo  numOfRows  routeNo routeName  \\\n",
       "0           0             0     NaN        NaN       10       경부선   \n",
       "1           1             1     NaN        NaN       10       경부선   \n",
       "2           2             2     NaN        NaN       10       경부선   \n",
       "\n",
       "          vdsId   shift vdsLength  roadgradeCode  ... equipmentBelongingName  \\\n",
       "0  0010VDE00100  1.40km  1820.00m            101  ...                     본선   \n",
       "1  0010VDE00200  2.40km   830.00m            101  ...                     본선   \n",
       "2  0010VDE00300  3.30km  1160.00m            101  ...                     본선   \n",
       "\n",
       "          grs80x         grs80y  vdsStartShift  vdsEndShift vdsCode  \\\n",
       "0  391265.168637  297630.018235         0.20km       2.02km       1   \n",
       "1  391642.598589  298552.156704         2.02km       2.85km       1   \n",
       "2  391873.613256  299421.826590         2.85km       4.01km       1   \n",
       "\n",
       "       vdsName  routeSeq directionCode        czId  \n",
       "0  FTMS 본선 VDS       1.0             E  0010CZE010  \n",
       "1  FTMS 본선 VDS       2.0             E  0010CZE011  \n",
       "2  FTMS 본선 VDS       3.0             E  0010CZE011  \n",
       "\n",
       "[3 rows x 22 columns]"
      ]
     },
     "execution_count": 321,
     "metadata": {},
     "output_type": "execute_result"
    }
   ],
   "source": [
    "VDS_info.head(3)"
   ]
  },
  {
   "cell_type": "code",
   "execution_count": 322,
   "id": "20ff18cd-c35e-4cac-b440-aba749435063",
   "metadata": {
    "execution": {
     "iopub.execute_input": "2022-05-18T12:52:25.925174Z",
     "iopub.status.busy": "2022-05-18T12:52:25.925174Z",
     "iopub.status.idle": "2022-05-18T12:52:25.938882Z",
     "shell.execute_reply": "2022-05-18T12:52:25.937885Z",
     "shell.execute_reply.started": "2022-05-18T12:52:25.925174Z"
    },
    "tags": []
   },
   "outputs": [],
   "source": [
    "VDS_filtered = VDS_info[VDS_info['czId'].isin(Conzone_filtered)]"
   ]
  },
  {
   "cell_type": "code",
   "execution_count": 323,
   "id": "8242512b-4501-461c-9165-91267c35dcce",
   "metadata": {
    "execution": {
     "iopub.execute_input": "2022-05-18T12:52:25.940447Z",
     "iopub.status.busy": "2022-05-18T12:52:25.940447Z",
     "iopub.status.idle": "2022-05-18T12:52:25.953654Z",
     "shell.execute_reply": "2022-05-18T12:52:25.952655Z",
     "shell.execute_reply.started": "2022-05-18T12:52:25.940447Z"
    },
    "tags": []
   },
   "outputs": [
    {
     "data": {
      "text/plain": [
       "Index(['Unnamed: 0', 'Unnamed: 0.1', 'pageNo', 'numOfRows', 'routeNo',\n",
       "       'routeName', 'vdsId', 'shift', 'vdsLength', 'roadgradeCode',\n",
       "       'roadgradeName', 'equipmentBelongingCode', 'equipmentBelongingName',\n",
       "       'grs80x', 'grs80y', 'vdsStartShift', 'vdsEndShift', 'vdsCode',\n",
       "       'vdsName', 'routeSeq', 'directionCode', 'czId'],\n",
       "      dtype='object')"
      ]
     },
     "execution_count": 323,
     "metadata": {},
     "output_type": "execute_result"
    }
   ],
   "source": [
    "VDS_filtered.columns"
   ]
  },
  {
   "cell_type": "code",
   "execution_count": 324,
   "id": "bbc80036-4503-499d-b41b-dd395efc8cbe",
   "metadata": {
    "execution": {
     "iopub.execute_input": "2022-05-18T12:52:25.954621Z",
     "iopub.status.busy": "2022-05-18T12:52:25.954621Z",
     "iopub.status.idle": "2022-05-18T12:52:25.969176Z",
     "shell.execute_reply": "2022-05-18T12:52:25.968208Z",
     "shell.execute_reply.started": "2022-05-18T12:52:25.954621Z"
    },
    "tags": []
   },
   "outputs": [],
   "source": [
    "VDS_filtered = VDS_filtered.loc[:, ['routeNo', 'routeName', 'vdsId', 'shift', 'vdsLength', 'roadgradeCode', 'equipmentBelongingName', 'vdsStartShift', 'vdsEndShift', 'vdsCode', 'vdsName', 'directionCode', 'czId']]"
   ]
  },
  {
   "cell_type": "code",
   "execution_count": 325,
   "id": "03bc1212-459e-4556-8c8a-f6d6c0ab1b2b",
   "metadata": {
    "execution": {
     "iopub.execute_input": "2022-05-18T12:52:25.970208Z",
     "iopub.status.busy": "2022-05-18T12:52:25.970208Z",
     "iopub.status.idle": "2022-05-18T12:52:25.985347Z",
     "shell.execute_reply": "2022-05-18T12:52:25.983363Z",
     "shell.execute_reply.started": "2022-05-18T12:52:25.970208Z"
    },
    "tags": []
   },
   "outputs": [
    {
     "data": {
      "text/html": [
       "<div>\n",
       "<style scoped>\n",
       "    .dataframe tbody tr th:only-of-type {\n",
       "        vertical-align: middle;\n",
       "    }\n",
       "\n",
       "    .dataframe tbody tr th {\n",
       "        vertical-align: top;\n",
       "    }\n",
       "\n",
       "    .dataframe thead th {\n",
       "        text-align: right;\n",
       "    }\n",
       "</style>\n",
       "<table border=\"1\" class=\"dataframe\">\n",
       "  <thead>\n",
       "    <tr style=\"text-align: right;\">\n",
       "      <th></th>\n",
       "      <th>routeNo</th>\n",
       "      <th>routeName</th>\n",
       "      <th>vdsId</th>\n",
       "      <th>shift</th>\n",
       "      <th>vdsLength</th>\n",
       "      <th>roadgradeCode</th>\n",
       "      <th>equipmentBelongingName</th>\n",
       "      <th>vdsStartShift</th>\n",
       "      <th>vdsEndShift</th>\n",
       "      <th>vdsCode</th>\n",
       "      <th>vdsName</th>\n",
       "      <th>directionCode</th>\n",
       "      <th>czId</th>\n",
       "    </tr>\n",
       "  </thead>\n",
       "  <tbody>\n",
       "    <tr>\n",
       "      <th>488</th>\n",
       "      <td>10</td>\n",
       "      <td>경부선</td>\n",
       "      <td>0010VDE30600</td>\n",
       "      <td>395.00km</td>\n",
       "      <td>1240.00m</td>\n",
       "      <td>101</td>\n",
       "      <td>본선</td>\n",
       "      <td>394.96km</td>\n",
       "      <td>396.20km</td>\n",
       "      <td>1</td>\n",
       "      <td>FTMS 본선 VDS</td>\n",
       "      <td>E</td>\n",
       "      <td>0010CZE460</td>\n",
       "    </tr>\n",
       "    <tr>\n",
       "      <th>489</th>\n",
       "      <td>10</td>\n",
       "      <td>경부선</td>\n",
       "      <td>0010VDE30650</td>\n",
       "      <td>397.40km</td>\n",
       "      <td>1950.00m</td>\n",
       "      <td>101</td>\n",
       "      <td>본선</td>\n",
       "      <td>396.20km</td>\n",
       "      <td>398.15km</td>\n",
       "      <td>1</td>\n",
       "      <td>FTMS 본선 VDS</td>\n",
       "      <td>E</td>\n",
       "      <td>0010CZE460</td>\n",
       "    </tr>\n",
       "    <tr>\n",
       "      <th>490</th>\n",
       "      <td>10</td>\n",
       "      <td>경부선</td>\n",
       "      <td>0010VDE30700</td>\n",
       "      <td>398.90km</td>\n",
       "      <td>1150.00m</td>\n",
       "      <td>101</td>\n",
       "      <td>본선</td>\n",
       "      <td>398.15km</td>\n",
       "      <td>399.30km</td>\n",
       "      <td>1</td>\n",
       "      <td>FTMS 본선 VDS</td>\n",
       "      <td>E</td>\n",
       "      <td>0010CZE460</td>\n",
       "    </tr>\n",
       "  </tbody>\n",
       "</table>\n",
       "</div>"
      ],
      "text/plain": [
       "     routeNo routeName         vdsId     shift vdsLength  roadgradeCode  \\\n",
       "488       10       경부선  0010VDE30600  395.00km  1240.00m            101   \n",
       "489       10       경부선  0010VDE30650  397.40km  1950.00m            101   \n",
       "490       10       경부선  0010VDE30700  398.90km  1150.00m            101   \n",
       "\n",
       "    equipmentBelongingName vdsStartShift vdsEndShift  vdsCode      vdsName  \\\n",
       "488                     본선      394.96km    396.20km        1  FTMS 본선 VDS   \n",
       "489                     본선      396.20km    398.15km        1  FTMS 본선 VDS   \n",
       "490                     본선      398.15km    399.30km        1  FTMS 본선 VDS   \n",
       "\n",
       "    directionCode        czId  \n",
       "488             E  0010CZE460  \n",
       "489             E  0010CZE460  \n",
       "490             E  0010CZE460  "
      ]
     },
     "execution_count": 325,
     "metadata": {},
     "output_type": "execute_result"
    }
   ],
   "source": [
    "VDS_filtered.head(3)"
   ]
  },
  {
   "cell_type": "markdown",
   "id": "739a1348-6934-4aa6-9c04-76feb5cc6a43",
   "metadata": {},
   "source": [
    "## VDS Location\n",
    "* 서울TG이정(403) +- 2.4km 이내의 VDS만 남기기 : 401.6 ~ 405.4"
   ]
  },
  {
   "cell_type": "code",
   "execution_count": 326,
   "id": "d9d79cc6-30ee-48ca-82ca-d32b626050a5",
   "metadata": {
    "execution": {
     "iopub.execute_input": "2022-05-18T12:52:25.986345Z",
     "iopub.status.busy": "2022-05-18T12:52:25.986345Z",
     "iopub.status.idle": "2022-05-18T12:52:26.045506Z",
     "shell.execute_reply": "2022-05-18T12:52:26.044509Z",
     "shell.execute_reply.started": "2022-05-18T12:52:25.986345Z"
    },
    "tags": []
   },
   "outputs": [],
   "source": [
    "VDS_speed_filtered = VDS_speed_filtered[(VDS_speed_filtered['지점이정'] >= 400.6) & (VDS_speed_filtered['지점이정'] <= 405.4)]"
   ]
  },
  {
   "cell_type": "code",
   "execution_count": 327,
   "id": "edb3ac45-2d4e-4c1f-9de0-f97747e7d8b4",
   "metadata": {
    "execution": {
     "iopub.execute_input": "2022-05-18T12:52:26.046503Z",
     "iopub.status.busy": "2022-05-18T12:52:26.046503Z",
     "iopub.status.idle": "2022-05-18T12:52:26.062205Z",
     "shell.execute_reply": "2022-05-18T12:52:26.059951Z",
     "shell.execute_reply.started": "2022-05-18T12:52:26.046503Z"
    },
    "tags": []
   },
   "outputs": [],
   "source": [
    "VDS_list_filtered = list(VDS_filtered['vdsId'])"
   ]
  },
  {
   "cell_type": "code",
   "execution_count": 328,
   "id": "e1e97fb3-1c2c-4060-a72e-e0dcc4c851cd",
   "metadata": {
    "execution": {
     "iopub.execute_input": "2022-05-18T12:52:26.064202Z",
     "iopub.status.busy": "2022-05-18T12:52:26.063205Z",
     "iopub.status.idle": "2022-05-18T12:52:26.076784Z",
     "shell.execute_reply": "2022-05-18T12:52:26.075786Z",
     "shell.execute_reply.started": "2022-05-18T12:52:26.064202Z"
    },
    "tags": []
   },
   "outputs": [
    {
     "data": {
      "text/plain": [
       "['0010VDE30600',\n",
       " '0010VDE30650',\n",
       " '0010VDE30700',\n",
       " '0010VDE30800',\n",
       " '0010VDE30900',\n",
       " '0010VDE30910',\n",
       " '0010VDE31000',\n",
       " '0010VDE31010',\n",
       " '0010VDE31200',\n",
       " '0010VDE31300',\n",
       " '0010VDE31400',\n",
       " '0010VDS30600',\n",
       " '0010VDS30650',\n",
       " '0010VDS30700',\n",
       " '0010VDS30800',\n",
       " '0010VDS30900',\n",
       " '0010VDS30920',\n",
       " '0010VDS30930',\n",
       " '0010VDS31000',\n",
       " '0010VDS31010',\n",
       " '0010VDS31201',\n",
       " '0010VDS31301',\n",
       " '0010VDS31400']"
      ]
     },
     "execution_count": 328,
     "metadata": {},
     "output_type": "execute_result"
    }
   ],
   "source": [
    "VDS_list_filtered"
   ]
  },
  {
   "cell_type": "code",
   "execution_count": 329,
   "id": "b53e2655-9f93-40f7-92f1-6e89451b9279",
   "metadata": {
    "execution": {
     "iopub.execute_input": "2022-05-18T12:52:26.078780Z",
     "iopub.status.busy": "2022-05-18T12:52:26.078780Z",
     "iopub.status.idle": "2022-05-18T12:52:26.092274Z",
     "shell.execute_reply": "2022-05-18T12:52:26.091274Z",
     "shell.execute_reply.started": "2022-05-18T12:52:26.078780Z"
    },
    "tags": []
   },
   "outputs": [],
   "source": [
    "VDS_speed_filtered = VDS_speed_filtered[VDS_speed_filtered['VDS_ID'].isin(VDS_list_filtered)]"
   ]
  },
  {
   "cell_type": "code",
   "execution_count": 330,
   "id": "686a8b02-02b6-4aa9-8f83-ce6df81bae35",
   "metadata": {
    "execution": {
     "iopub.execute_input": "2022-05-18T12:52:26.095266Z",
     "iopub.status.busy": "2022-05-18T12:52:26.095266Z",
     "iopub.status.idle": "2022-05-18T12:52:26.199244Z",
     "shell.execute_reply": "2022-05-18T12:52:26.198245Z",
     "shell.execute_reply.started": "2022-05-18T12:52:26.095266Z"
    },
    "tags": []
   },
   "outputs": [],
   "source": [
    "VDS_speed_filtered.to_csv('VDS_speed_filtered.csv', encoding = 'cp949')"
   ]
  },
  {
   "cell_type": "code",
   "execution_count": 331,
   "id": "987ea4c0-060c-43a5-bb29-63b33666033e",
   "metadata": {
    "execution": {
     "iopub.execute_input": "2022-05-18T12:52:26.200743Z",
     "iopub.status.busy": "2022-05-18T12:52:26.200743Z",
     "iopub.status.idle": "2022-05-18T12:52:26.229013Z",
     "shell.execute_reply": "2022-05-18T12:52:26.229013Z",
     "shell.execute_reply.started": "2022-05-18T12:52:26.200743Z"
    },
    "tags": []
   },
   "outputs": [
    {
     "data": {
      "text/html": [
       "<div>\n",
       "<style scoped>\n",
       "    .dataframe tbody tr th:only-of-type {\n",
       "        vertical-align: middle;\n",
       "    }\n",
       "\n",
       "    .dataframe tbody tr th {\n",
       "        vertical-align: top;\n",
       "    }\n",
       "\n",
       "    .dataframe thead th {\n",
       "        text-align: right;\n",
       "    }\n",
       "</style>\n",
       "<table border=\"1\" class=\"dataframe\">\n",
       "  <thead>\n",
       "    <tr style=\"text-align: right;\">\n",
       "      <th></th>\n",
       "      <th>집계일자</th>\n",
       "      <th>집계시분</th>\n",
       "      <th>VDS_ID</th>\n",
       "      <th>지점이정</th>\n",
       "      <th>차로유형구분코드</th>\n",
       "      <th>평균속도</th>\n",
       "      <th>Unnamed: 6</th>\n",
       "    </tr>\n",
       "  </thead>\n",
       "  <tbody>\n",
       "    <tr>\n",
       "      <th>10297</th>\n",
       "      <td>20220302</td>\n",
       "      <td>1700</td>\n",
       "      <td>0010VDE30900</td>\n",
       "      <td>401.0</td>\n",
       "      <td>2</td>\n",
       "      <td>89.08</td>\n",
       "      <td>NaN</td>\n",
       "    </tr>\n",
       "    <tr>\n",
       "      <th>10300</th>\n",
       "      <td>20220302</td>\n",
       "      <td>1700</td>\n",
       "      <td>0010VDE31000</td>\n",
       "      <td>402.5</td>\n",
       "      <td>2</td>\n",
       "      <td>86.91</td>\n",
       "      <td>NaN</td>\n",
       "    </tr>\n",
       "    <tr>\n",
       "      <th>10303</th>\n",
       "      <td>20220302</td>\n",
       "      <td>1700</td>\n",
       "      <td>0010VDE31200</td>\n",
       "      <td>404.4</td>\n",
       "      <td>2</td>\n",
       "      <td>104.54</td>\n",
       "      <td>NaN</td>\n",
       "    </tr>\n",
       "    <tr>\n",
       "      <th>10306</th>\n",
       "      <td>20220302</td>\n",
       "      <td>1700</td>\n",
       "      <td>0010VDE31300</td>\n",
       "      <td>405.2</td>\n",
       "      <td>2</td>\n",
       "      <td>115.64</td>\n",
       "      <td>NaN</td>\n",
       "    </tr>\n",
       "    <tr>\n",
       "      <th>10349</th>\n",
       "      <td>20220302</td>\n",
       "      <td>1700</td>\n",
       "      <td>0010VDS30900</td>\n",
       "      <td>401.0</td>\n",
       "      <td>2</td>\n",
       "      <td>93.66</td>\n",
       "      <td>NaN</td>\n",
       "    </tr>\n",
       "    <tr>\n",
       "      <th>...</th>\n",
       "      <td>...</td>\n",
       "      <td>...</td>\n",
       "      <td>...</td>\n",
       "      <td>...</td>\n",
       "      <td>...</td>\n",
       "      <td>...</td>\n",
       "      <td>...</td>\n",
       "    </tr>\n",
       "    <tr>\n",
       "      <th>23329805</th>\n",
       "      <td>20220331</td>\n",
       "      <td>2345</td>\n",
       "      <td>0010VDE31300</td>\n",
       "      <td>405.2</td>\n",
       "      <td>1</td>\n",
       "      <td>100.53</td>\n",
       "      <td>NaN</td>\n",
       "    </tr>\n",
       "    <tr>\n",
       "      <th>23330222</th>\n",
       "      <td>20220331</td>\n",
       "      <td>2345</td>\n",
       "      <td>0010VDS30900</td>\n",
       "      <td>401.0</td>\n",
       "      <td>1</td>\n",
       "      <td>97.20</td>\n",
       "      <td>NaN</td>\n",
       "    </tr>\n",
       "    <tr>\n",
       "      <th>23330226</th>\n",
       "      <td>20220331</td>\n",
       "      <td>2345</td>\n",
       "      <td>0010VDS31000</td>\n",
       "      <td>402.5</td>\n",
       "      <td>1</td>\n",
       "      <td>96.58</td>\n",
       "      <td>NaN</td>\n",
       "    </tr>\n",
       "    <tr>\n",
       "      <th>23330229</th>\n",
       "      <td>20220331</td>\n",
       "      <td>2345</td>\n",
       "      <td>0010VDS31201</td>\n",
       "      <td>404.4</td>\n",
       "      <td>1</td>\n",
       "      <td>113.29</td>\n",
       "      <td>NaN</td>\n",
       "    </tr>\n",
       "    <tr>\n",
       "      <th>23330232</th>\n",
       "      <td>20220331</td>\n",
       "      <td>2345</td>\n",
       "      <td>0010VDS31301</td>\n",
       "      <td>405.2</td>\n",
       "      <td>1</td>\n",
       "      <td>104.36</td>\n",
       "      <td>NaN</td>\n",
       "    </tr>\n",
       "  </tbody>\n",
       "</table>\n",
       "<p>15808 rows × 7 columns</p>\n",
       "</div>"
      ],
      "text/plain": [
       "              집계일자  집계시분        VDS_ID   지점이정  차로유형구분코드    평균속도  Unnamed: 6\n",
       "10297     20220302  1700  0010VDE30900  401.0         2   89.08         NaN\n",
       "10300     20220302  1700  0010VDE31000  402.5         2   86.91         NaN\n",
       "10303     20220302  1700  0010VDE31200  404.4         2  104.54         NaN\n",
       "10306     20220302  1700  0010VDE31300  405.2         2  115.64         NaN\n",
       "10349     20220302  1700  0010VDS30900  401.0         2   93.66         NaN\n",
       "...            ...   ...           ...    ...       ...     ...         ...\n",
       "23329805  20220331  2345  0010VDE31300  405.2         1  100.53         NaN\n",
       "23330222  20220331  2345  0010VDS30900  401.0         1   97.20         NaN\n",
       "23330226  20220331  2345  0010VDS31000  402.5         1   96.58         NaN\n",
       "23330229  20220331  2345  0010VDS31201  404.4         1  113.29         NaN\n",
       "23330232  20220331  2345  0010VDS31301  405.2         1  104.36         NaN\n",
       "\n",
       "[15808 rows x 7 columns]"
      ]
     },
     "execution_count": 331,
     "metadata": {},
     "output_type": "execute_result"
    }
   ],
   "source": [
    "VDS_speed_filtered"
   ]
  },
  {
   "cell_type": "markdown",
   "id": "f54248c1-cf43-4c17-9905-08611432b833",
   "metadata": {},
   "source": [
    "# Average\n",
    "* 화/수/목요일 평균을 내기\n",
    "    * 화 : 8, 15, 22, 29\n",
    "    * 수 : 2, 16, 23, 30\n",
    "    * 목 : 3, 10, 17, 24, 31\n",
    "* 차로유형구분코드, VDS_ID, 집계시분별 평균임"
   ]
  },
  {
   "cell_type": "code",
   "execution_count": 332,
   "id": "0de2839c-2615-4533-8866-49595b6e8315",
   "metadata": {
    "execution": {
     "iopub.execute_input": "2022-05-18T12:52:26.230514Z",
     "iopub.status.busy": "2022-05-18T12:52:26.230514Z",
     "iopub.status.idle": "2022-05-18T12:52:26.245144Z",
     "shell.execute_reply": "2022-05-18T12:52:26.244146Z",
     "shell.execute_reply.started": "2022-05-18T12:52:26.230514Z"
    },
    "tags": []
   },
   "outputs": [],
   "source": [
    "Tue = [8, 15, 22, 29]\n",
    "Wed = [2, 16, 23, 30]\n",
    "Thu = [3, 10, 17, 24, 31]\n",
    "\n",
    "def dayfunc(x):\n",
    "    if x - 20220300 in Tue:\n",
    "        return 'Tue'\n",
    "    elif x - 20220300 in Wed:\n",
    "        return 'Wed'\n",
    "    elif x - 20220300 in Thu:\n",
    "        return 'Thu'\n",
    "    else:\n",
    "        pass"
   ]
  },
  {
   "cell_type": "code",
   "execution_count": 333,
   "id": "787968cf-0a1d-483d-b1d7-240d2a8f7a1c",
   "metadata": {
    "execution": {
     "iopub.execute_input": "2022-05-18T12:52:26.246142Z",
     "iopub.status.busy": "2022-05-18T12:52:26.246142Z",
     "iopub.status.idle": "2022-05-18T12:52:26.259157Z",
     "shell.execute_reply": "2022-05-18T12:52:26.259157Z",
     "shell.execute_reply.started": "2022-05-18T12:52:26.246142Z"
    },
    "tags": []
   },
   "outputs": [],
   "source": [
    "VDS_speed_filtered['day'] = VDS_speed_filtered['집계일자'].apply(dayfunc)"
   ]
  },
  {
   "cell_type": "code",
   "execution_count": 334,
   "id": "7041b95a-124e-4088-9a79-3d8939c7c8ce",
   "metadata": {
    "execution": {
     "iopub.execute_input": "2022-05-18T12:52:26.261200Z",
     "iopub.status.busy": "2022-05-18T12:52:26.261200Z",
     "iopub.status.idle": "2022-05-18T12:52:26.323690Z",
     "shell.execute_reply": "2022-05-18T12:52:26.321693Z",
     "shell.execute_reply.started": "2022-05-18T12:52:26.261200Z"
    },
    "tags": []
   },
   "outputs": [
    {
     "data": {
      "text/html": [
       "<div>\n",
       "<style scoped>\n",
       "    .dataframe tbody tr th:only-of-type {\n",
       "        vertical-align: middle;\n",
       "    }\n",
       "\n",
       "    .dataframe tbody tr th {\n",
       "        vertical-align: top;\n",
       "    }\n",
       "\n",
       "    .dataframe thead th {\n",
       "        text-align: right;\n",
       "    }\n",
       "</style>\n",
       "<table border=\"1\" class=\"dataframe\">\n",
       "  <thead>\n",
       "    <tr style=\"text-align: right;\">\n",
       "      <th></th>\n",
       "      <th>집계일자</th>\n",
       "      <th>집계시분</th>\n",
       "      <th>VDS_ID</th>\n",
       "      <th>지점이정</th>\n",
       "      <th>차로유형구분코드</th>\n",
       "      <th>평균속도</th>\n",
       "      <th>Unnamed: 6</th>\n",
       "      <th>day</th>\n",
       "    </tr>\n",
       "  </thead>\n",
       "  <tbody>\n",
       "    <tr>\n",
       "      <th>10297</th>\n",
       "      <td>20220302</td>\n",
       "      <td>1700</td>\n",
       "      <td>0010VDE30900</td>\n",
       "      <td>401.0</td>\n",
       "      <td>2</td>\n",
       "      <td>89.08</td>\n",
       "      <td>NaN</td>\n",
       "      <td>Wed</td>\n",
       "    </tr>\n",
       "    <tr>\n",
       "      <th>10300</th>\n",
       "      <td>20220302</td>\n",
       "      <td>1700</td>\n",
       "      <td>0010VDE31000</td>\n",
       "      <td>402.5</td>\n",
       "      <td>2</td>\n",
       "      <td>86.91</td>\n",
       "      <td>NaN</td>\n",
       "      <td>Wed</td>\n",
       "    </tr>\n",
       "    <tr>\n",
       "      <th>10303</th>\n",
       "      <td>20220302</td>\n",
       "      <td>1700</td>\n",
       "      <td>0010VDE31200</td>\n",
       "      <td>404.4</td>\n",
       "      <td>2</td>\n",
       "      <td>104.54</td>\n",
       "      <td>NaN</td>\n",
       "      <td>Wed</td>\n",
       "    </tr>\n",
       "  </tbody>\n",
       "</table>\n",
       "</div>"
      ],
      "text/plain": [
       "           집계일자  집계시분        VDS_ID   지점이정  차로유형구분코드    평균속도  Unnamed: 6  day\n",
       "10297  20220302  1700  0010VDE30900  401.0         2   89.08         NaN  Wed\n",
       "10300  20220302  1700  0010VDE31000  402.5         2   86.91         NaN  Wed\n",
       "10303  20220302  1700  0010VDE31200  404.4         2  104.54         NaN  Wed"
      ]
     },
     "execution_count": 334,
     "metadata": {},
     "output_type": "execute_result"
    }
   ],
   "source": [
    "VDS_speed_filtered.head(3)"
   ]
  },
  {
   "cell_type": "code",
   "execution_count": 335,
   "id": "f10d9095-1e78-4013-baa7-aa41480c2d13",
   "metadata": {
    "execution": {
     "iopub.execute_input": "2022-05-18T12:52:26.324689Z",
     "iopub.status.busy": "2022-05-18T12:52:26.323690Z",
     "iopub.status.idle": "2022-05-18T12:52:26.353531Z",
     "shell.execute_reply": "2022-05-18T12:52:26.352533Z",
     "shell.execute_reply.started": "2022-05-18T12:52:26.324689Z"
    },
    "tags": []
   },
   "outputs": [],
   "source": [
    "VDS_speed_pivoted = pd.pivot_table(VDS_speed_filtered,\n",
    "                                   index = ['day', 'VDS_ID', '지점이정', '차로유형구분코드', '집계시분'],\n",
    "                                   values = '평균속도', aggfunc = 'mean').reset_index()"
   ]
  },
  {
   "cell_type": "code",
   "execution_count": 336,
   "id": "5c1dacb8-3a78-4fbe-9890-9d6dcc860ff9",
   "metadata": {
    "execution": {
     "iopub.execute_input": "2022-05-18T12:52:26.354528Z",
     "iopub.status.busy": "2022-05-18T12:52:26.354528Z",
     "iopub.status.idle": "2022-05-18T12:52:26.369026Z",
     "shell.execute_reply": "2022-05-18T12:52:26.368038Z",
     "shell.execute_reply.started": "2022-05-18T12:52:26.354528Z"
    },
    "tags": []
   },
   "outputs": [],
   "source": [
    "def direction(VDS):\n",
    "    \"\"\"VDS ID로 방향을 식별하는 함수\"\"\"\n",
    "    direct = VDS[6]\n",
    "    \n",
    "    return direct"
   ]
  },
  {
   "cell_type": "code",
   "execution_count": 337,
   "id": "5b498608-acfa-4474-9a7a-d6a02a8a5794",
   "metadata": {
    "execution": {
     "iopub.execute_input": "2022-05-18T12:52:26.370024Z",
     "iopub.status.busy": "2022-05-18T12:52:26.370024Z",
     "iopub.status.idle": "2022-05-18T12:52:26.384857Z",
     "shell.execute_reply": "2022-05-18T12:52:26.383859Z",
     "shell.execute_reply.started": "2022-05-18T12:52:26.370024Z"
    },
    "tags": []
   },
   "outputs": [],
   "source": [
    "VDS_speed_filtered['direction'] = VDS_speed_filtered['VDS_ID'].apply(direction)"
   ]
  },
  {
   "cell_type": "code",
   "execution_count": 338,
   "id": "c12e6ec8-8192-4d58-93d7-6ac11b8bfb28",
   "metadata": {
    "execution": {
     "iopub.execute_input": "2022-05-18T12:52:26.388854Z",
     "iopub.status.busy": "2022-05-18T12:52:26.387849Z",
     "iopub.status.idle": "2022-05-18T12:52:26.417233Z",
     "shell.execute_reply": "2022-05-18T12:52:26.415239Z",
     "shell.execute_reply.started": "2022-05-18T12:52:26.388854Z"
    },
    "tags": []
   },
   "outputs": [
    {
     "data": {
      "text/html": [
       "<div>\n",
       "<style scoped>\n",
       "    .dataframe tbody tr th:only-of-type {\n",
       "        vertical-align: middle;\n",
       "    }\n",
       "\n",
       "    .dataframe tbody tr th {\n",
       "        vertical-align: top;\n",
       "    }\n",
       "\n",
       "    .dataframe thead th {\n",
       "        text-align: right;\n",
       "    }\n",
       "</style>\n",
       "<table border=\"1\" class=\"dataframe\">\n",
       "  <thead>\n",
       "    <tr style=\"text-align: right;\">\n",
       "      <th></th>\n",
       "      <th>day</th>\n",
       "      <th>VDS_ID</th>\n",
       "      <th>지점이정</th>\n",
       "      <th>차로유형구분코드</th>\n",
       "      <th>집계시분</th>\n",
       "      <th>평균속도</th>\n",
       "    </tr>\n",
       "  </thead>\n",
       "  <tbody>\n",
       "    <tr>\n",
       "      <th>0</th>\n",
       "      <td>Thu</td>\n",
       "      <td>0010VDE30900</td>\n",
       "      <td>401.0</td>\n",
       "      <td>1</td>\n",
       "      <td>0</td>\n",
       "      <td>95.2550</td>\n",
       "    </tr>\n",
       "    <tr>\n",
       "      <th>1</th>\n",
       "      <td>Thu</td>\n",
       "      <td>0010VDE30900</td>\n",
       "      <td>401.0</td>\n",
       "      <td>1</td>\n",
       "      <td>15</td>\n",
       "      <td>97.0025</td>\n",
       "    </tr>\n",
       "    <tr>\n",
       "      <th>2</th>\n",
       "      <td>Thu</td>\n",
       "      <td>0010VDE30900</td>\n",
       "      <td>401.0</td>\n",
       "      <td>1</td>\n",
       "      <td>30</td>\n",
       "      <td>95.0750</td>\n",
       "    </tr>\n",
       "  </tbody>\n",
       "</table>\n",
       "</div>"
      ],
      "text/plain": [
       "   day        VDS_ID   지점이정  차로유형구분코드  집계시분     평균속도\n",
       "0  Thu  0010VDE30900  401.0         1     0  95.2550\n",
       "1  Thu  0010VDE30900  401.0         1    15  97.0025\n",
       "2  Thu  0010VDE30900  401.0         1    30  95.0750"
      ]
     },
     "execution_count": 338,
     "metadata": {},
     "output_type": "execute_result"
    }
   ],
   "source": [
    "VDS_speed_pivoted.head(3)"
   ]
  },
  {
   "cell_type": "code",
   "execution_count": 339,
   "id": "a070d884-48fa-490d-90fe-e0a7fabf5830",
   "metadata": {
    "execution": {
     "iopub.execute_input": "2022-05-18T12:52:26.420810Z",
     "iopub.status.busy": "2022-05-18T12:52:26.420267Z",
     "iopub.status.idle": "2022-05-18T12:52:26.448958Z",
     "shell.execute_reply": "2022-05-18T12:52:26.446963Z",
     "shell.execute_reply.started": "2022-05-18T12:52:26.420810Z"
    },
    "tags": []
   },
   "outputs": [],
   "source": [
    "VDS_speed_pivoted.to_csv('VDS_speed_pivoted.csv', encoding = 'cp949')"
   ]
  },
  {
   "cell_type": "markdown",
   "id": "8e0082e1-2b2b-4f76-9710-4cbef26ec8b2",
   "metadata": {
    "execution": {
     "iopub.execute_input": "2022-05-18T05:48:37.221270Z",
     "iopub.status.busy": "2022-05-18T05:48:37.221270Z",
     "iopub.status.idle": "2022-05-18T05:48:37.275127Z",
     "shell.execute_reply": "2022-05-18T05:48:37.274163Z",
     "shell.execute_reply.started": "2022-05-18T05:48:37.221270Z"
    },
    "tags": []
   },
   "source": [
    "# Graph\n",
    "* 서울TG 이정 : 403\n",
    "* 방향 :\n",
    "    * E : 서울방향\n",
    "    * S : 부산방향   \n",
    "* 필요 데이터\n",
    "    * 전체 요일 평균(화, 수, 목 각각!!) \n",
    "    * 영업소 직전 VDS 평균 : 화, 수, 목 각각 평균\n",
    "    * 영업소 직후 VDS 평균 : 화, 수, 목 각각!!"
   ]
  },
  {
   "cell_type": "markdown",
   "id": "7fe8b0a5-0ed9-4a55-b64f-891c372972a7",
   "metadata": {},
   "source": [
    "## 전체 평균\n",
    "* 서울방향(E) : 0010VDE30900(401), 0010VDE31000(402.5), 0010VDE31200(404.4), 0010VDE31300(405.2)\n",
    "* 부산방향(S) : 0010VDS30900(401), 0010VDS31000(402.5), 0010VDS31201(404.4), 0010VDS31301(405.2)"
   ]
  },
  {
   "cell_type": "code",
   "execution_count": 340,
   "id": "db01b1a9-d26e-48d0-b533-45c41973e34e",
   "metadata": {
    "execution": {
     "iopub.execute_input": "2022-05-18T12:52:26.452506Z",
     "iopub.status.busy": "2022-05-18T12:52:26.452506Z",
     "iopub.status.idle": "2022-05-18T12:52:26.464310Z",
     "shell.execute_reply": "2022-05-18T12:52:26.462319Z",
     "shell.execute_reply.started": "2022-05-18T12:52:26.452506Z"
    },
    "tags": []
   },
   "outputs": [],
   "source": [
    "VDS_speed_pivoted['direction'] = VDS_speed_pivoted['VDS_ID'].apply(direction)"
   ]
  },
  {
   "cell_type": "code",
   "execution_count": 341,
   "id": "4db237ec-c8b2-4db9-9521-57abd934f1d1",
   "metadata": {
    "execution": {
     "iopub.execute_input": "2022-05-18T12:52:26.465311Z",
     "iopub.status.busy": "2022-05-18T12:52:26.465311Z",
     "iopub.status.idle": "2022-05-18T12:52:26.494868Z",
     "shell.execute_reply": "2022-05-18T12:52:26.493832Z",
     "shell.execute_reply.started": "2022-05-18T12:52:26.465311Z"
    },
    "tags": []
   },
   "outputs": [],
   "source": [
    "VDS_speed_pivoted_total = pd.pivot_table(VDS_speed_pivoted, index = ['direction', 'day', '차로유형구분코드', '집계시분'], values = '평균속도', aggfunc = 'mean').reset_index()"
   ]
  },
  {
   "cell_type": "code",
   "execution_count": 342,
   "id": "a93059f9-4a6e-4590-ac44-da4f362327c8",
   "metadata": {
    "execution": {
     "iopub.execute_input": "2022-05-18T12:52:26.495826Z",
     "iopub.status.busy": "2022-05-18T12:52:26.495826Z",
     "iopub.status.idle": "2022-05-18T12:52:26.510355Z",
     "shell.execute_reply": "2022-05-18T12:52:26.510355Z",
     "shell.execute_reply.started": "2022-05-18T12:52:26.495826Z"
    },
    "tags": []
   },
   "outputs": [
    {
     "data": {
      "text/html": [
       "<div>\n",
       "<style scoped>\n",
       "    .dataframe tbody tr th:only-of-type {\n",
       "        vertical-align: middle;\n",
       "    }\n",
       "\n",
       "    .dataframe tbody tr th {\n",
       "        vertical-align: top;\n",
       "    }\n",
       "\n",
       "    .dataframe thead th {\n",
       "        text-align: right;\n",
       "    }\n",
       "</style>\n",
       "<table border=\"1\" class=\"dataframe\">\n",
       "  <thead>\n",
       "    <tr style=\"text-align: right;\">\n",
       "      <th></th>\n",
       "      <th>direction</th>\n",
       "      <th>day</th>\n",
       "      <th>차로유형구분코드</th>\n",
       "      <th>집계시분</th>\n",
       "      <th>평균속도</th>\n",
       "    </tr>\n",
       "  </thead>\n",
       "  <tbody>\n",
       "    <tr>\n",
       "      <th>0</th>\n",
       "      <td>E</td>\n",
       "      <td>Thu</td>\n",
       "      <td>1</td>\n",
       "      <td>0</td>\n",
       "      <td>101.075625</td>\n",
       "    </tr>\n",
       "    <tr>\n",
       "      <th>1</th>\n",
       "      <td>E</td>\n",
       "      <td>Thu</td>\n",
       "      <td>1</td>\n",
       "      <td>15</td>\n",
       "      <td>102.155000</td>\n",
       "    </tr>\n",
       "    <tr>\n",
       "      <th>2</th>\n",
       "      <td>E</td>\n",
       "      <td>Thu</td>\n",
       "      <td>1</td>\n",
       "      <td>30</td>\n",
       "      <td>99.906875</td>\n",
       "    </tr>\n",
       "  </tbody>\n",
       "</table>\n",
       "</div>"
      ],
      "text/plain": [
       "  direction  day  차로유형구분코드  집계시분        평균속도\n",
       "0         E  Thu         1     0  101.075625\n",
       "1         E  Thu         1    15  102.155000\n",
       "2         E  Thu         1    30   99.906875"
      ]
     },
     "execution_count": 342,
     "metadata": {},
     "output_type": "execute_result"
    }
   ],
   "source": [
    "VDS_speed_pivoted_total.head(3)"
   ]
  },
  {
   "cell_type": "code",
   "execution_count": 343,
   "id": "dbc5b959-427e-47d7-97ea-1817593584c2",
   "metadata": {
    "execution": {
     "iopub.execute_input": "2022-05-18T12:52:26.511775Z",
     "iopub.status.busy": "2022-05-18T12:52:26.511775Z",
     "iopub.status.idle": "2022-05-18T12:52:29.003119Z",
     "shell.execute_reply": "2022-05-18T12:52:29.002118Z",
     "shell.execute_reply.started": "2022-05-18T12:52:26.511775Z"
    },
    "tags": []
   },
   "outputs": [],
   "source": [
    "direction = ['E', 'S']\n",
    "lanecode = [1, 2]\n",
    "\n",
    "save_html_dir = 'VDS_speed_total_html'\n",
    "\n",
    "if not os.path.exists(save_html_dir):\n",
    "    os.makedirs(save_html_dir)\n",
    "    \n",
    "for di in direction:\n",
    "    for la in lanecode:\n",
    "        fig = px.line(VDS_speed_pivoted_total[(VDS_speed_pivoted_total['direction'] == di) & \n",
    "                                                  #(VDS_speed_pivoted_total['day'] == da) & \n",
    "                                                (VDS_speed_pivoted_total['차로유형구분코드'] == la)],\n",
    "                        x = '집계시분', y = '평균속도', color = 'day',\n",
    "                        title = f'집계시분별 전체구간 평균속도 : 방향 {di}, 차로유형구분코드 {la}')\n",
    "            \n",
    "        save_html_file = f'VDS_Speed_total_{di}_{la}.html'\n",
    "        save_html_path = os.path.join(save_html_dir, save_html_file)\n",
    "            \n",
    "        fig.write_html(save_html_path)"
   ]
  },
  {
   "cell_type": "code",
   "execution_count": 344,
   "id": "c6da0045-1022-4dfe-be40-41209cd2d26c",
   "metadata": {
    "execution": {
     "iopub.execute_input": "2022-05-18T12:52:29.005112Z",
     "iopub.status.busy": "2022-05-18T12:52:29.005112Z",
     "iopub.status.idle": "2022-05-18T12:52:29.036447Z",
     "shell.execute_reply": "2022-05-18T12:52:29.033423Z",
     "shell.execute_reply.started": "2022-05-18T12:52:29.005112Z"
    },
    "tags": []
   },
   "outputs": [],
   "source": [
    "pd.pivot_table(VDS_speed_pivoted_total, index = ['집계시분'], columns = ['direction', '차로유형구분코드', 'day'], values = '평균속도').to_csv('FIN_VDS_speed_total.csv', encoding = 'cp949')"
   ]
  },
  {
   "cell_type": "markdown",
   "id": "a626886e-06ed-4492-8d7f-9a2eca2b68fb",
   "metadata": {},
   "source": [
    "## 영업소 직전 VDS 평균\n",
    "* 서울방향(E) : 0010VDE30900(401), 0010VDE31000(402.5)\n",
    "* 부산방향(S) : 0010VDS31201(404.4), 0010VDS31301(405.2)"
   ]
  },
  {
   "cell_type": "code",
   "execution_count": 345,
   "id": "aa7fa0ec-ba21-44e3-afbe-721792cf7ec4",
   "metadata": {
    "execution": {
     "iopub.execute_input": "2022-05-18T12:52:29.038450Z",
     "iopub.status.busy": "2022-05-18T12:52:29.037412Z",
     "iopub.status.idle": "2022-05-18T12:52:29.051545Z",
     "shell.execute_reply": "2022-05-18T12:52:29.049028Z",
     "shell.execute_reply.started": "2022-05-18T12:52:29.038450Z"
    },
    "tags": []
   },
   "outputs": [],
   "source": [
    "VDS_before_TG_list = ['0010VDE30900', '0010VDE31000', '0010VDS31201', '0010VDS31301']\n",
    "\n",
    "VDS_speed_before_TG = VDS_speed_pivoted[VDS_speed_pivoted['VDS_ID'].isin(VDS_before_TG_list)]"
   ]
  },
  {
   "cell_type": "code",
   "execution_count": 346,
   "id": "73300b36-4576-497b-9ccc-8da7055a25fc",
   "metadata": {
    "execution": {
     "iopub.execute_input": "2022-05-18T12:52:29.054570Z",
     "iopub.status.busy": "2022-05-18T12:52:29.053534Z",
     "iopub.status.idle": "2022-05-18T12:52:29.081536Z",
     "shell.execute_reply": "2022-05-18T12:52:29.080123Z",
     "shell.execute_reply.started": "2022-05-18T12:52:29.054570Z"
    },
    "tags": []
   },
   "outputs": [],
   "source": [
    "VDS_speed_before_TG = pd.pivot_table(VDS_speed_before_TG, index = ['direction', 'day', '차로유형구분코드', '집계시분'], values = '평균속도', aggfunc = 'mean').reset_index()"
   ]
  },
  {
   "cell_type": "code",
   "execution_count": 347,
   "id": "c49ef7b2-0f8d-4471-a447-8a9cde0eaf2d",
   "metadata": {
    "execution": {
     "iopub.execute_input": "2022-05-18T12:52:29.086526Z",
     "iopub.status.busy": "2022-05-18T12:52:29.085529Z",
     "iopub.status.idle": "2022-05-18T12:52:29.113200Z",
     "shell.execute_reply": "2022-05-18T12:52:29.111193Z",
     "shell.execute_reply.started": "2022-05-18T12:52:29.086526Z"
    },
    "tags": []
   },
   "outputs": [
    {
     "data": {
      "text/html": [
       "<div>\n",
       "<style scoped>\n",
       "    .dataframe tbody tr th:only-of-type {\n",
       "        vertical-align: middle;\n",
       "    }\n",
       "\n",
       "    .dataframe tbody tr th {\n",
       "        vertical-align: top;\n",
       "    }\n",
       "\n",
       "    .dataframe thead th {\n",
       "        text-align: right;\n",
       "    }\n",
       "</style>\n",
       "<table border=\"1\" class=\"dataframe\">\n",
       "  <thead>\n",
       "    <tr style=\"text-align: right;\">\n",
       "      <th></th>\n",
       "      <th>direction</th>\n",
       "      <th>day</th>\n",
       "      <th>차로유형구분코드</th>\n",
       "      <th>집계시분</th>\n",
       "      <th>평균속도</th>\n",
       "    </tr>\n",
       "  </thead>\n",
       "  <tbody>\n",
       "    <tr>\n",
       "      <th>0</th>\n",
       "      <td>E</td>\n",
       "      <td>Thu</td>\n",
       "      <td>1</td>\n",
       "      <td>0</td>\n",
       "      <td>95.58750</td>\n",
       "    </tr>\n",
       "    <tr>\n",
       "      <th>1</th>\n",
       "      <td>E</td>\n",
       "      <td>Thu</td>\n",
       "      <td>1</td>\n",
       "      <td>15</td>\n",
       "      <td>97.11250</td>\n",
       "    </tr>\n",
       "    <tr>\n",
       "      <th>2</th>\n",
       "      <td>E</td>\n",
       "      <td>Thu</td>\n",
       "      <td>1</td>\n",
       "      <td>30</td>\n",
       "      <td>95.02875</td>\n",
       "    </tr>\n",
       "  </tbody>\n",
       "</table>\n",
       "</div>"
      ],
      "text/plain": [
       "  direction  day  차로유형구분코드  집계시분      평균속도\n",
       "0         E  Thu         1     0  95.58750\n",
       "1         E  Thu         1    15  97.11250\n",
       "2         E  Thu         1    30  95.02875"
      ]
     },
     "execution_count": 347,
     "metadata": {},
     "output_type": "execute_result"
    }
   ],
   "source": [
    "VDS_speed_before_TG.head(3)"
   ]
  },
  {
   "cell_type": "code",
   "execution_count": 348,
   "id": "946e1658-e371-49ec-89c5-409f7c0a81e4",
   "metadata": {
    "execution": {
     "iopub.execute_input": "2022-05-18T12:52:29.116194Z",
     "iopub.status.busy": "2022-05-18T12:52:29.115195Z",
     "iopub.status.idle": "2022-05-18T12:52:29.453797Z",
     "shell.execute_reply": "2022-05-18T12:52:29.452762Z",
     "shell.execute_reply.started": "2022-05-18T12:52:29.116194Z"
    },
    "tags": []
   },
   "outputs": [],
   "source": [
    "direction = ['E', 'S']\n",
    "lanecode = [1, 2]\n",
    "\n",
    "save_html_dir = 'VDS_speed_before_TG_html'\n",
    "\n",
    "if not os.path.exists(save_html_dir):\n",
    "    os.makedirs(save_html_dir)\n",
    "    \n",
    "for di in direction:\n",
    "    for la in lanecode:\n",
    "        fig = px.line(VDS_speed_before_TG[(VDS_speed_before_TG['direction'] == di) & \n",
    "                                          (VDS_speed_before_TG['차로유형구분코드'] == la)],\n",
    "                        x = '집계시분', y = '평균속도', color = 'day',\n",
    "                        title = f'집계시분별 서울TG 전 평균속도 : 방향 {di}, 차로유형구분코드 {la}')\n",
    "            \n",
    "        save_html_file = f'VDS_Speed_before_TG_{di}_{la}.html'\n",
    "        save_html_path = os.path.join(save_html_dir, save_html_file)\n",
    "            \n",
    "        fig.write_html(save_html_path)"
   ]
  },
  {
   "cell_type": "code",
   "execution_count": 349,
   "id": "b455e795-d0a7-488b-9aef-504d803fd29f",
   "metadata": {
    "execution": {
     "iopub.execute_input": "2022-05-18T12:52:29.454792Z",
     "iopub.status.busy": "2022-05-18T12:52:29.454792Z",
     "iopub.status.idle": "2022-05-18T12:52:29.486612Z",
     "shell.execute_reply": "2022-05-18T12:52:29.483581Z",
     "shell.execute_reply.started": "2022-05-18T12:52:29.454792Z"
    },
    "tags": []
   },
   "outputs": [],
   "source": [
    "pd.pivot_table(VDS_speed_before_TG, index = ['집계시분'], columns = ['direction', '차로유형구분코드', 'day'], values = '평균속도').to_csv('FIN_VDS_speed_before_TG.csv', encoding = 'cp949')"
   ]
  },
  {
   "cell_type": "markdown",
   "id": "e53bd69f-ae75-424f-b461-18789fee36bd",
   "metadata": {},
   "source": [
    "## 영업소 직후 VDS 평균\n",
    "* 서울방향(E) : 0010VDE31200(404.4), 0010VDE31300(405.2)\n",
    "* 부산방향(S) : 0010VDS30900(401), 0010VDS31000(402.5)"
   ]
  },
  {
   "cell_type": "code",
   "execution_count": 361,
   "id": "7dc9c607-9085-43f1-b1d1-9fdb2e2f39fb",
   "metadata": {
    "execution": {
     "iopub.execute_input": "2022-05-18T12:56:24.104033Z",
     "iopub.status.busy": "2022-05-18T12:56:24.104033Z",
     "iopub.status.idle": "2022-05-18T12:56:24.125074Z",
     "shell.execute_reply": "2022-05-18T12:56:24.124077Z",
     "shell.execute_reply.started": "2022-05-18T12:56:24.104033Z"
    },
    "tags": []
   },
   "outputs": [],
   "source": [
    "VDS_after_TG_list = ['0010VDE31200', '0010VDE31300', '0010VDS30900', '0010VDS31000']\n",
    "\n",
    "VDS_speed_after_TG = VDS_speed_pivoted[VDS_speed_pivoted['VDS_ID'].isin(VDS_after_TG_list)]"
   ]
  },
  {
   "cell_type": "code",
   "execution_count": 362,
   "id": "43af1f56-36b0-4a36-9b20-5d7756b08a3c",
   "metadata": {
    "execution": {
     "iopub.execute_input": "2022-05-18T12:56:24.807253Z",
     "iopub.status.busy": "2022-05-18T12:56:24.806256Z",
     "iopub.status.idle": "2022-05-18T12:56:24.845367Z",
     "shell.execute_reply": "2022-05-18T12:56:24.844338Z",
     "shell.execute_reply.started": "2022-05-18T12:56:24.807253Z"
    },
    "tags": []
   },
   "outputs": [
    {
     "data": {
      "text/html": [
       "<div>\n",
       "<style scoped>\n",
       "    .dataframe tbody tr th:only-of-type {\n",
       "        vertical-align: middle;\n",
       "    }\n",
       "\n",
       "    .dataframe tbody tr th {\n",
       "        vertical-align: top;\n",
       "    }\n",
       "\n",
       "    .dataframe thead th {\n",
       "        text-align: right;\n",
       "    }\n",
       "</style>\n",
       "<table border=\"1\" class=\"dataframe\">\n",
       "  <thead>\n",
       "    <tr style=\"text-align: right;\">\n",
       "      <th></th>\n",
       "      <th>day</th>\n",
       "      <th>VDS_ID</th>\n",
       "      <th>지점이정</th>\n",
       "      <th>차로유형구분코드</th>\n",
       "      <th>집계시분</th>\n",
       "      <th>평균속도</th>\n",
       "      <th>direction</th>\n",
       "    </tr>\n",
       "  </thead>\n",
       "  <tbody>\n",
       "    <tr>\n",
       "      <th>304</th>\n",
       "      <td>Thu</td>\n",
       "      <td>0010VDE31200</td>\n",
       "      <td>404.4</td>\n",
       "      <td>1</td>\n",
       "      <td>0</td>\n",
       "      <td>112.0250</td>\n",
       "      <td>E</td>\n",
       "    </tr>\n",
       "    <tr>\n",
       "      <th>305</th>\n",
       "      <td>Thu</td>\n",
       "      <td>0010VDE31200</td>\n",
       "      <td>404.4</td>\n",
       "      <td>1</td>\n",
       "      <td>15</td>\n",
       "      <td>113.6525</td>\n",
       "      <td>E</td>\n",
       "    </tr>\n",
       "    <tr>\n",
       "      <th>306</th>\n",
       "      <td>Thu</td>\n",
       "      <td>0010VDE31200</td>\n",
       "      <td>404.4</td>\n",
       "      <td>1</td>\n",
       "      <td>30</td>\n",
       "      <td>110.4300</td>\n",
       "      <td>E</td>\n",
       "    </tr>\n",
       "    <tr>\n",
       "      <th>307</th>\n",
       "      <td>Thu</td>\n",
       "      <td>0010VDE31200</td>\n",
       "      <td>404.4</td>\n",
       "      <td>1</td>\n",
       "      <td>45</td>\n",
       "      <td>111.5400</td>\n",
       "      <td>E</td>\n",
       "    </tr>\n",
       "    <tr>\n",
       "      <th>308</th>\n",
       "      <td>Thu</td>\n",
       "      <td>0010VDE31200</td>\n",
       "      <td>404.4</td>\n",
       "      <td>1</td>\n",
       "      <td>100</td>\n",
       "      <td>108.9800</td>\n",
       "      <td>E</td>\n",
       "    </tr>\n",
       "    <tr>\n",
       "      <th>...</th>\n",
       "      <td>...</td>\n",
       "      <td>...</td>\n",
       "      <td>...</td>\n",
       "      <td>...</td>\n",
       "      <td>...</td>\n",
       "      <td>...</td>\n",
       "      <td>...</td>\n",
       "    </tr>\n",
       "    <tr>\n",
       "      <th>3339</th>\n",
       "      <td>Wed</td>\n",
       "      <td>0010VDS31000</td>\n",
       "      <td>402.5</td>\n",
       "      <td>2</td>\n",
       "      <td>1945</td>\n",
       "      <td>93.1475</td>\n",
       "      <td>S</td>\n",
       "    </tr>\n",
       "    <tr>\n",
       "      <th>3340</th>\n",
       "      <td>Wed</td>\n",
       "      <td>0010VDS31000</td>\n",
       "      <td>402.5</td>\n",
       "      <td>2</td>\n",
       "      <td>2000</td>\n",
       "      <td>92.0025</td>\n",
       "      <td>S</td>\n",
       "    </tr>\n",
       "    <tr>\n",
       "      <th>3341</th>\n",
       "      <td>Wed</td>\n",
       "      <td>0010VDS31000</td>\n",
       "      <td>402.5</td>\n",
       "      <td>2</td>\n",
       "      <td>2015</td>\n",
       "      <td>94.0650</td>\n",
       "      <td>S</td>\n",
       "    </tr>\n",
       "    <tr>\n",
       "      <th>3342</th>\n",
       "      <td>Wed</td>\n",
       "      <td>0010VDS31000</td>\n",
       "      <td>402.5</td>\n",
       "      <td>2</td>\n",
       "      <td>2030</td>\n",
       "      <td>94.4800</td>\n",
       "      <td>S</td>\n",
       "    </tr>\n",
       "    <tr>\n",
       "      <th>3343</th>\n",
       "      <td>Wed</td>\n",
       "      <td>0010VDS31000</td>\n",
       "      <td>402.5</td>\n",
       "      <td>2</td>\n",
       "      <td>2045</td>\n",
       "      <td>96.2700</td>\n",
       "      <td>S</td>\n",
       "    </tr>\n",
       "  </tbody>\n",
       "</table>\n",
       "<p>1824 rows × 7 columns</p>\n",
       "</div>"
      ],
      "text/plain": [
       "      day        VDS_ID   지점이정  차로유형구분코드  집계시분      평균속도 direction\n",
       "304   Thu  0010VDE31200  404.4         1     0  112.0250         E\n",
       "305   Thu  0010VDE31200  404.4         1    15  113.6525         E\n",
       "306   Thu  0010VDE31200  404.4         1    30  110.4300         E\n",
       "307   Thu  0010VDE31200  404.4         1    45  111.5400         E\n",
       "308   Thu  0010VDE31200  404.4         1   100  108.9800         E\n",
       "...   ...           ...    ...       ...   ...       ...       ...\n",
       "3339  Wed  0010VDS31000  402.5         2  1945   93.1475         S\n",
       "3340  Wed  0010VDS31000  402.5         2  2000   92.0025         S\n",
       "3341  Wed  0010VDS31000  402.5         2  2015   94.0650         S\n",
       "3342  Wed  0010VDS31000  402.5         2  2030   94.4800         S\n",
       "3343  Wed  0010VDS31000  402.5         2  2045   96.2700         S\n",
       "\n",
       "[1824 rows x 7 columns]"
      ]
     },
     "execution_count": 362,
     "metadata": {},
     "output_type": "execute_result"
    }
   ],
   "source": [
    "VDS_speed_pivoted[VDS_speed_pivoted['VDS_ID'].isin(VDS_after_TG_list)]"
   ]
  },
  {
   "cell_type": "code",
   "execution_count": 363,
   "id": "1c763a77-fad4-4eb2-ae13-5fe9f880be87",
   "metadata": {
    "execution": {
     "iopub.execute_input": "2022-05-18T12:56:39.710179Z",
     "iopub.status.busy": "2022-05-18T12:56:39.708602Z",
     "iopub.status.idle": "2022-05-18T12:56:39.730953Z",
     "shell.execute_reply": "2022-05-18T12:56:39.729948Z",
     "shell.execute_reply.started": "2022-05-18T12:56:39.710179Z"
    },
    "tags": []
   },
   "outputs": [],
   "source": [
    "VDS_speed_after_TG = pd.pivot_table(VDS_speed_after_TG, index = ['direction', 'day', '차로유형구분코드', '집계시분'], values = '평균속도', aggfunc = 'mean').reset_index()"
   ]
  },
  {
   "cell_type": "code",
   "execution_count": 364,
   "id": "fd67bd9c-1a80-43bc-b2ac-59534cf10606",
   "metadata": {
    "execution": {
     "iopub.execute_input": "2022-05-18T12:56:40.355664Z",
     "iopub.status.busy": "2022-05-18T12:56:40.355664Z",
     "iopub.status.idle": "2022-05-18T12:56:40.387217Z",
     "shell.execute_reply": "2022-05-18T12:56:40.386249Z",
     "shell.execute_reply.started": "2022-05-18T12:56:40.355664Z"
    },
    "tags": []
   },
   "outputs": [
    {
     "data": {
      "text/html": [
       "<div>\n",
       "<style scoped>\n",
       "    .dataframe tbody tr th:only-of-type {\n",
       "        vertical-align: middle;\n",
       "    }\n",
       "\n",
       "    .dataframe tbody tr th {\n",
       "        vertical-align: top;\n",
       "    }\n",
       "\n",
       "    .dataframe thead th {\n",
       "        text-align: right;\n",
       "    }\n",
       "</style>\n",
       "<table border=\"1\" class=\"dataframe\">\n",
       "  <thead>\n",
       "    <tr style=\"text-align: right;\">\n",
       "      <th></th>\n",
       "      <th>direction</th>\n",
       "      <th>day</th>\n",
       "      <th>차로유형구분코드</th>\n",
       "      <th>집계시분</th>\n",
       "      <th>평균속도</th>\n",
       "    </tr>\n",
       "  </thead>\n",
       "  <tbody>\n",
       "    <tr>\n",
       "      <th>0</th>\n",
       "      <td>E</td>\n",
       "      <td>Thu</td>\n",
       "      <td>1</td>\n",
       "      <td>0</td>\n",
       "      <td>106.56375</td>\n",
       "    </tr>\n",
       "    <tr>\n",
       "      <th>1</th>\n",
       "      <td>E</td>\n",
       "      <td>Thu</td>\n",
       "      <td>1</td>\n",
       "      <td>15</td>\n",
       "      <td>107.19750</td>\n",
       "    </tr>\n",
       "    <tr>\n",
       "      <th>2</th>\n",
       "      <td>E</td>\n",
       "      <td>Thu</td>\n",
       "      <td>1</td>\n",
       "      <td>30</td>\n",
       "      <td>104.78500</td>\n",
       "    </tr>\n",
       "    <tr>\n",
       "      <th>3</th>\n",
       "      <td>E</td>\n",
       "      <td>Thu</td>\n",
       "      <td>1</td>\n",
       "      <td>45</td>\n",
       "      <td>105.24375</td>\n",
       "    </tr>\n",
       "    <tr>\n",
       "      <th>4</th>\n",
       "      <td>E</td>\n",
       "      <td>Thu</td>\n",
       "      <td>1</td>\n",
       "      <td>100</td>\n",
       "      <td>102.92500</td>\n",
       "    </tr>\n",
       "    <tr>\n",
       "      <th>...</th>\n",
       "      <td>...</td>\n",
       "      <td>...</td>\n",
       "      <td>...</td>\n",
       "      <td>...</td>\n",
       "      <td>...</td>\n",
       "    </tr>\n",
       "    <tr>\n",
       "      <th>907</th>\n",
       "      <td>S</td>\n",
       "      <td>Wed</td>\n",
       "      <td>2</td>\n",
       "      <td>1945</td>\n",
       "      <td>92.44750</td>\n",
       "    </tr>\n",
       "    <tr>\n",
       "      <th>908</th>\n",
       "      <td>S</td>\n",
       "      <td>Wed</td>\n",
       "      <td>2</td>\n",
       "      <td>2000</td>\n",
       "      <td>91.74875</td>\n",
       "    </tr>\n",
       "    <tr>\n",
       "      <th>909</th>\n",
       "      <td>S</td>\n",
       "      <td>Wed</td>\n",
       "      <td>2</td>\n",
       "      <td>2015</td>\n",
       "      <td>93.25125</td>\n",
       "    </tr>\n",
       "    <tr>\n",
       "      <th>910</th>\n",
       "      <td>S</td>\n",
       "      <td>Wed</td>\n",
       "      <td>2</td>\n",
       "      <td>2030</td>\n",
       "      <td>93.82500</td>\n",
       "    </tr>\n",
       "    <tr>\n",
       "      <th>911</th>\n",
       "      <td>S</td>\n",
       "      <td>Wed</td>\n",
       "      <td>2</td>\n",
       "      <td>2045</td>\n",
       "      <td>96.12000</td>\n",
       "    </tr>\n",
       "  </tbody>\n",
       "</table>\n",
       "<p>912 rows × 5 columns</p>\n",
       "</div>"
      ],
      "text/plain": [
       "    direction  day  차로유형구분코드  집계시분       평균속도\n",
       "0           E  Thu         1     0  106.56375\n",
       "1           E  Thu         1    15  107.19750\n",
       "2           E  Thu         1    30  104.78500\n",
       "3           E  Thu         1    45  105.24375\n",
       "4           E  Thu         1   100  102.92500\n",
       "..        ...  ...       ...   ...        ...\n",
       "907         S  Wed         2  1945   92.44750\n",
       "908         S  Wed         2  2000   91.74875\n",
       "909         S  Wed         2  2015   93.25125\n",
       "910         S  Wed         2  2030   93.82500\n",
       "911         S  Wed         2  2045   96.12000\n",
       "\n",
       "[912 rows x 5 columns]"
      ]
     },
     "execution_count": 364,
     "metadata": {},
     "output_type": "execute_result"
    }
   ],
   "source": [
    "VDS_speed_after_TG"
   ]
  },
  {
   "cell_type": "code",
   "execution_count": 365,
   "id": "f43bad46-5f71-4580-9c33-b25a34c1e47d",
   "metadata": {
    "execution": {
     "iopub.execute_input": "2022-05-18T12:56:41.821619Z",
     "iopub.status.busy": "2022-05-18T12:56:41.820617Z",
     "iopub.status.idle": "2022-05-18T12:56:42.208836Z",
     "shell.execute_reply": "2022-05-18T12:56:42.207837Z",
     "shell.execute_reply.started": "2022-05-18T12:56:41.821619Z"
    },
    "tags": []
   },
   "outputs": [],
   "source": [
    "direction = ['E', 'S']\n",
    "lanecode = [1, 2]\n",
    "\n",
    "save_html_dir = 'VDS_speed_after_TG_html'\n",
    "\n",
    "if not os.path.exists(save_html_dir):\n",
    "    os.makedirs(save_html_dir)\n",
    "    \n",
    "for di in direction:\n",
    "    for la in lanecode:\n",
    "        fig = px.line(VDS_speed_after_TG[(VDS_speed_after_TG['direction'] == di) & \n",
    "                                        (VDS_speed_after_TG['차로유형구분코드'] == la)],\n",
    "                        x = '집계시분', y = '평균속도', color = 'day',\n",
    "                        title = f'집계시분별 서울TG 전 평균속도 : 방향 {di}, 차로유형구분코드 {la}')\n",
    "            \n",
    "        save_html_file = f'VDS_Speed_after_TG_{di}_{la}.html'\n",
    "        save_html_path = os.path.join(save_html_dir, save_html_file)\n",
    "            \n",
    "        fig.write_html(save_html_path)"
   ]
  },
  {
   "cell_type": "code",
   "execution_count": 366,
   "id": "c6182b72-185a-44d3-9399-4f455f8463e8",
   "metadata": {
    "execution": {
     "iopub.execute_input": "2022-05-18T12:56:43.276457Z",
     "iopub.status.busy": "2022-05-18T12:56:43.276457Z",
     "iopub.status.idle": "2022-05-18T12:56:43.304979Z",
     "shell.execute_reply": "2022-05-18T12:56:43.302985Z",
     "shell.execute_reply.started": "2022-05-18T12:56:43.276457Z"
    },
    "tags": []
   },
   "outputs": [],
   "source": [
    "pd.pivot_table(VDS_speed_after_TG, index = ['집계시분'], columns = ['direction', '차로유형구분코드', 'day'], values = '평균속도').to_csv('FIN_VDS_speed_after_TG.csv', encoding = 'cp949')"
   ]
  }
 ],
 "metadata": {
  "kernelspec": {
   "display_name": "Python 3",
   "language": "python",
   "name": "python3"
  },
  "language_info": {
   "codemirror_mode": {
    "name": "ipython",
    "version": 3
   },
   "file_extension": ".py",
   "mimetype": "text/x-python",
   "name": "python",
   "nbconvert_exporter": "python",
   "pygments_lexer": "ipython3",
   "version": "3.8.8"
  }
 },
 "nbformat": 4,
 "nbformat_minor": 5
}
