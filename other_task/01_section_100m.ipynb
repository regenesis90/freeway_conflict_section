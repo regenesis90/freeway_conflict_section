{
 "cells": [
  {
   "cell_type": "markdown",
   "id": "184bab15-6d72-4ce6-b44a-ebd690da8723",
   "metadata": {},
   "source": [
    "# Import"
   ]
  },
  {
   "cell_type": "code",
   "execution_count": 37,
   "id": "bc79b638-bb65-44d4-805c-22ac2376a78d",
   "metadata": {
    "execution": {
     "iopub.execute_input": "2022-03-10T07:52:10.720495Z",
     "iopub.status.busy": "2022-03-10T07:52:10.720495Z",
     "iopub.status.idle": "2022-03-10T07:52:10.734454Z",
     "shell.execute_reply": "2022-03-10T07:52:10.734454Z",
     "shell.execute_reply.started": "2022-03-10T07:52:10.720495Z"
    }
   },
   "outputs": [],
   "source": [
    "import pandas as pd\n",
    "import numpy as np\n",
    "import os\n",
    "from tqdm import tqdm"
   ]
  },
  {
   "cell_type": "markdown",
   "id": "bcc2070f-d3ea-461f-af72-0ffe24aa1155",
   "metadata": {},
   "source": [
    "# Load Data"
   ]
  },
  {
   "cell_type": "code",
   "execution_count": 38,
   "id": "80999f88-d724-41ad-a41d-d75e67222bfa",
   "metadata": {
    "execution": {
     "iopub.execute_input": "2022-03-10T07:52:10.735426Z",
     "iopub.status.busy": "2022-03-10T07:52:10.735426Z",
     "iopub.status.idle": "2022-03-10T07:52:10.750411Z",
     "shell.execute_reply": "2022-03-10T07:52:10.750411Z",
     "shell.execute_reply.started": "2022-03-10T07:52:10.735426Z"
    }
   },
   "outputs": [],
   "source": [
    "file_dir = 'D:/OneDrive - 연세대학교 (Yonsei University)/Projects/Yonsei_TELab/003_도로상충_210517-/2차년도_2022/07-2_2차년도착수보고_후/03_사고위험구간분석'"
   ]
  },
  {
   "cell_type": "code",
   "execution_count": 39,
   "id": "acf29da0-f6c6-4a3c-ad41-a884853eb682",
   "metadata": {
    "execution": {
     "iopub.execute_input": "2022-03-10T07:52:10.753379Z",
     "iopub.status.busy": "2022-03-10T07:52:10.753379Z",
     "iopub.status.idle": "2022-03-10T07:52:10.766343Z",
     "shell.execute_reply": "2022-03-10T07:52:10.766343Z",
     "shell.execute_reply.started": "2022-03-10T07:52:10.753379Z"
    }
   },
   "outputs": [],
   "source": [
    "accident_file = '사고데이터통합_2018-2020.xlsx'\n",
    "section_file = '시트별 본선데이터.xlsx'"
   ]
  },
  {
   "cell_type": "code",
   "execution_count": 40,
   "id": "44fcda11-69ad-4053-b2fc-60548e4a8f0e",
   "metadata": {
    "execution": {
     "iopub.execute_input": "2022-03-10T07:52:10.768340Z",
     "iopub.status.busy": "2022-03-10T07:52:10.768340Z",
     "iopub.status.idle": "2022-03-10T07:52:10.783304Z",
     "shell.execute_reply": "2022-03-10T07:52:10.782301Z",
     "shell.execute_reply.started": "2022-03-10T07:52:10.768340Z"
    }
   },
   "outputs": [],
   "source": [
    "accident_path = os.path.join(file_dir, accident_file)\n",
    "section_path = os.path.join(file_dir, section_file)"
   ]
  },
  {
   "cell_type": "code",
   "execution_count": 41,
   "id": "6fe5044d-a665-4c4e-a231-284d07c38d99",
   "metadata": {
    "execution": {
     "iopub.execute_input": "2022-03-10T07:52:10.786298Z",
     "iopub.status.busy": "2022-03-10T07:52:10.785303Z",
     "iopub.status.idle": "2022-03-10T07:52:40.166852Z",
     "shell.execute_reply": "2022-03-10T07:52:40.166852Z",
     "shell.execute_reply.started": "2022-03-10T07:52:10.786298Z"
    },
    "tags": []
   },
   "outputs": [],
   "source": [
    "accident = pd.read_excel(accident_path, sheet_name = '정렬')"
   ]
  },
  {
   "cell_type": "code",
   "execution_count": 42,
   "id": "4068cbdd-6660-4da8-8be7-1a2d978a0275",
   "metadata": {
    "execution": {
     "iopub.execute_input": "2022-03-10T07:52:40.167849Z",
     "iopub.status.busy": "2022-03-10T07:52:40.167849Z",
     "iopub.status.idle": "2022-03-10T07:53:14.809203Z",
     "shell.execute_reply": "2022-03-10T07:53:14.809203Z",
     "shell.execute_reply.started": "2022-03-10T07:52:40.167849Z"
    },
    "tags": []
   },
   "outputs": [],
   "source": [
    "section = pd.read_excel(section_path, header = 1)"
   ]
  },
  {
   "cell_type": "code",
   "execution_count": 43,
   "id": "25cc5cc2-d705-45b4-a8ef-71fec381f23e",
   "metadata": {
    "execution": {
     "iopub.execute_input": "2022-03-10T07:53:14.809203Z",
     "iopub.status.busy": "2022-03-10T07:53:14.809203Z",
     "iopub.status.idle": "2022-03-10T07:53:14.840323Z",
     "shell.execute_reply": "2022-03-10T07:53:14.840323Z",
     "shell.execute_reply.started": "2022-03-10T07:53:14.809203Z"
    }
   },
   "outputs": [
    {
     "data": {
      "text/html": [
       "<div>\n",
       "<style scoped>\n",
       "    .dataframe tbody tr th:only-of-type {\n",
       "        vertical-align: middle;\n",
       "    }\n",
       "\n",
       "    .dataframe tbody tr th {\n",
       "        vertical-align: top;\n",
       "    }\n",
       "\n",
       "    .dataframe thead th {\n",
       "        text-align: right;\n",
       "    }\n",
       "</style>\n",
       "<table border=\"1\" class=\"dataframe\">\n",
       "  <thead>\n",
       "    <tr style=\"text-align: right;\">\n",
       "      <th></th>\n",
       "      <th>본부</th>\n",
       "      <th>지사</th>\n",
       "      <th>사고일자</th>\n",
       "      <th>월별</th>\n",
       "      <th>사고시간</th>\n",
       "      <th>시간1단위</th>\n",
       "      <th>시간3단위</th>\n",
       "      <th>주야</th>\n",
       "      <th>사고노선</th>\n",
       "      <th>사고발생이정</th>\n",
       "      <th>...</th>\n",
       "      <th>사고후상태\\n전복</th>\n",
       "      <th>사고후상태\\n화재</th>\n",
       "      <th>사고후상태\\n잭나이프</th>\n",
       "      <th>사고후상태\\n언더라이드</th>\n",
       "      <th>사고내용</th>\n",
       "      <th>피해액</th>\n",
       "      <th>피해내용</th>\n",
       "      <th>행정구역</th>\n",
       "      <th>타이어관리번호</th>\n",
       "      <th>화재위치코드</th>\n",
       "    </tr>\n",
       "  </thead>\n",
       "  <tbody>\n",
       "    <tr>\n",
       "      <th>0</th>\n",
       "      <td>충북본부</td>\n",
       "      <td>상주지사</td>\n",
       "      <td>20180101</td>\n",
       "      <td>01월</td>\n",
       "      <td>00:44</td>\n",
       "      <td>0~1</td>\n",
       "      <td>0 ~3</td>\n",
       "      <td>야간</td>\n",
       "      <td>중부내륙선</td>\n",
       "      <td>151.1</td>\n",
       "      <td>...</td>\n",
       "      <td>0</td>\n",
       "      <td>0</td>\n",
       "      <td>0</td>\n",
       "      <td>0</td>\n",
       "      <td>사고차량(현대 NF쏘나타) 양평방향 2차로 주행중 음주운전으로 인하여 차량전면으로 ...</td>\n",
       "      <td>0</td>\n",
       "      <td>가드레일 3매\\n지주 6본\\n블럭아웃 6본\\n방초매트 7m\\n</td>\n",
       "      <td>경상북도 상주시 사벌면 덕담리</td>\n",
       "      <td>NaN</td>\n",
       "      <td>NaN</td>\n",
       "    </tr>\n",
       "    <tr>\n",
       "      <th>1</th>\n",
       "      <td>부산경남본부</td>\n",
       "      <td>양산지사</td>\n",
       "      <td>20180101</td>\n",
       "      <td>01월</td>\n",
       "      <td>03:14</td>\n",
       "      <td>3~4</td>\n",
       "      <td>3 ~6</td>\n",
       "      <td>야간</td>\n",
       "      <td>남해선</td>\n",
       "      <td>15.8</td>\n",
       "      <td>...</td>\n",
       "      <td>0</td>\n",
       "      <td>0</td>\n",
       "      <td>0</td>\n",
       "      <td>0</td>\n",
       "      <td>#1차량 (산타페구형) 양산-부산방향 3차로 주행중 차량우측 전면으로 3차로에 주행...</td>\n",
       "      <td>1,988,400</td>\n",
       "      <td>가드레일 외 조사중</td>\n",
       "      <td>전남 광양시 광양읍 사곡리</td>\n",
       "      <td>NaN</td>\n",
       "      <td>NaN</td>\n",
       "    </tr>\n",
       "    <tr>\n",
       "      <th>2</th>\n",
       "      <td>수도권본부</td>\n",
       "      <td>경기광주지사</td>\n",
       "      <td>20180101</td>\n",
       "      <td>01월</td>\n",
       "      <td>03:39</td>\n",
       "      <td>3~4</td>\n",
       "      <td>3 ~6</td>\n",
       "      <td>야간</td>\n",
       "      <td>제2중부선</td>\n",
       "      <td>331.5</td>\n",
       "      <td>...</td>\n",
       "      <td>0</td>\n",
       "      <td>0</td>\n",
       "      <td>0</td>\n",
       "      <td>0</td>\n",
       "      <td>사고차량 제2중부선 통영방향 2차로 주행 중 포트홀을 발견치 못하고 운전석 앞 타...</td>\n",
       "      <td>0</td>\n",
       "      <td>이상없음</td>\n",
       "      <td>경기 이천시 신둔면 고척리</td>\n",
       "      <td>NaN</td>\n",
       "      <td>NaN</td>\n",
       "    </tr>\n",
       "  </tbody>\n",
       "</table>\n",
       "<p>3 rows × 117 columns</p>\n",
       "</div>"
      ],
      "text/plain": [
       "       본부      지사      사고일자   월별   사고시간 시간1단위 시간3단위  주야   사고노선  사고발생이정  ...  \\\n",
       "0    충북본부    상주지사  20180101  01월  00:44   0~1  0 ~3  야간  중부내륙선   151.1  ...   \n",
       "1  부산경남본부    양산지사  20180101  01월  03:14   3~4  3 ~6  야간    남해선    15.8  ...   \n",
       "2   수도권본부  경기광주지사  20180101  01월  03:39   3~4  3 ~6  야간  제2중부선   331.5  ...   \n",
       "\n",
       "  사고후상태\\n전복  사고후상태\\n화재  사고후상태\\n잭나이프  사고후상태\\n언더라이드  \\\n",
       "0         0          0            0             0   \n",
       "1         0          0            0             0   \n",
       "2         0          0            0             0   \n",
       "\n",
       "                                                사고내용        피해액  \\\n",
       "0  사고차량(현대 NF쏘나타) 양평방향 2차로 주행중 음주운전으로 인하여 차량전면으로 ...          0   \n",
       "1  #1차량 (산타페구형) 양산-부산방향 3차로 주행중 차량우측 전면으로 3차로에 주행...  1,988,400   \n",
       "2   사고차량 제2중부선 통영방향 2차로 주행 중 포트홀을 발견치 못하고 운전석 앞 타...          0   \n",
       "\n",
       "                                 피해내용              행정구역 타이어관리번호 화재위치코드  \n",
       "0  가드레일 3매\\n지주 6본\\n블럭아웃 6본\\n방초매트 7m\\n  경상북도 상주시 사벌면 덕담리     NaN    NaN  \n",
       "1                          가드레일 외 조사중    전남 광양시 광양읍 사곡리     NaN    NaN  \n",
       "2                                이상없음    경기 이천시 신둔면 고척리     NaN    NaN  \n",
       "\n",
       "[3 rows x 117 columns]"
      ]
     },
     "execution_count": 43,
     "metadata": {},
     "output_type": "execute_result"
    }
   ],
   "source": [
    "accident.head(3)"
   ]
  },
  {
   "cell_type": "code",
   "execution_count": 44,
   "id": "2021cccd-83d8-458d-89dc-047fbeb6e1d5",
   "metadata": {
    "execution": {
     "iopub.execute_input": "2022-03-10T07:53:14.841297Z",
     "iopub.status.busy": "2022-03-10T07:53:14.841297Z",
     "iopub.status.idle": "2022-03-10T07:53:14.872242Z",
     "shell.execute_reply": "2022-03-10T07:53:14.872242Z",
     "shell.execute_reply.started": "2022-03-10T07:53:14.841297Z"
    },
    "tags": []
   },
   "outputs": [
    {
     "data": {
      "text/html": [
       "<div>\n",
       "<style scoped>\n",
       "    .dataframe tbody tr th:only-of-type {\n",
       "        vertical-align: middle;\n",
       "    }\n",
       "\n",
       "    .dataframe tbody tr th {\n",
       "        vertical-align: top;\n",
       "    }\n",
       "\n",
       "    .dataframe thead th {\n",
       "        text-align: right;\n",
       "    }\n",
       "</style>\n",
       "<table border=\"1\" class=\"dataframe\">\n",
       "  <thead>\n",
       "    <tr style=\"text-align: right;\">\n",
       "      <th></th>\n",
       "      <th>인덱스</th>\n",
       "      <th>관리기관(본부)</th>\n",
       "      <th>관리기관(지사)</th>\n",
       "      <th>노선번호</th>\n",
       "      <th>노선명</th>\n",
       "      <th>콘 존</th>\n",
       "      <th>방향</th>\n",
       "      <th>시작이정</th>\n",
       "      <th>종료이정</th>\n",
       "      <th>발생지점(사고데이터 참고)</th>\n",
       "      <th>...</th>\n",
       "      <th>사고건수\\n순위</th>\n",
       "      <th>사고율\\n순위</th>\n",
       "      <th>잠재개선편익(PSI)\\n순위</th>\n",
       "      <th>대물피해환산 사고건수\\n순위</th>\n",
       "      <th>종합평가지수\\n순위</th>\n",
       "      <th>사고건수\\n순위(%)</th>\n",
       "      <th>사고율\\n순위(%)</th>\n",
       "      <th>잠재개선편익(PSI)\\n순위(%)</th>\n",
       "      <th>대물피해환산 사고건수\\n순위(%)</th>\n",
       "      <th>종합평가지수\\n순위(%)</th>\n",
       "    </tr>\n",
       "  </thead>\n",
       "  <tbody>\n",
       "    <tr>\n",
       "      <th>0</th>\n",
       "      <td>788</td>\n",
       "      <td>대구경북</td>\n",
       "      <td>대구</td>\n",
       "      <td>제001호</td>\n",
       "      <td>경부선</td>\n",
       "      <td>건천IC - 영천JCT</td>\n",
       "      <td>부산</td>\n",
       "      <td>78.7</td>\n",
       "      <td>78.8</td>\n",
       "      <td>NaN</td>\n",
       "      <td>...</td>\n",
       "      <td>26676</td>\n",
       "      <td>32462</td>\n",
       "      <td>-</td>\n",
       "      <td>33237</td>\n",
       "      <td>-</td>\n",
       "      <td>32.560297</td>\n",
       "      <td>39.622595</td>\n",
       "      <td>-</td>\n",
       "      <td>40.568548</td>\n",
       "      <td>-</td>\n",
       "    </tr>\n",
       "    <tr>\n",
       "      <th>1</th>\n",
       "      <td>789</td>\n",
       "      <td>대구경북</td>\n",
       "      <td>대구</td>\n",
       "      <td>제001호</td>\n",
       "      <td>경부선</td>\n",
       "      <td>건천IC - 영천JCT</td>\n",
       "      <td>부산</td>\n",
       "      <td>78.8</td>\n",
       "      <td>78.9</td>\n",
       "      <td>NaN</td>\n",
       "      <td>...</td>\n",
       "      <td>10472</td>\n",
       "      <td>15862</td>\n",
       "      <td>8899</td>\n",
       "      <td>13730</td>\n",
       "      <td>10190</td>\n",
       "      <td>12.781955</td>\n",
       "      <td>19.360902</td>\n",
       "      <td>10.861976</td>\n",
       "      <td>16.758617</td>\n",
       "      <td>12.43775</td>\n",
       "    </tr>\n",
       "    <tr>\n",
       "      <th>2</th>\n",
       "      <td>790</td>\n",
       "      <td>대구경북</td>\n",
       "      <td>대구</td>\n",
       "      <td>제001호</td>\n",
       "      <td>경부선</td>\n",
       "      <td>건천IC - 영천JCT</td>\n",
       "      <td>부산</td>\n",
       "      <td>78.9</td>\n",
       "      <td>79.0</td>\n",
       "      <td>NaN</td>\n",
       "      <td>...</td>\n",
       "      <td>5544</td>\n",
       "      <td>9332</td>\n",
       "      <td>3981</td>\n",
       "      <td>8764</td>\n",
       "      <td>4183</td>\n",
       "      <td>6.766917</td>\n",
       "      <td>11.390489</td>\n",
       "      <td>4.859145</td>\n",
       "      <td>10.697198</td>\n",
       "      <td>5.105703</td>\n",
       "    </tr>\n",
       "  </tbody>\n",
       "</table>\n",
       "<p>3 rows × 40 columns</p>\n",
       "</div>"
      ],
      "text/plain": [
       "   인덱스 관리기관(본부) 관리기관(지사)   노선번호  노선명           콘 존  방향  시작이정  종료이정  \\\n",
       "0  788     대구경북       대구  제001호  경부선  건천IC - 영천JCT  부산  78.7  78.8   \n",
       "1  789     대구경북       대구  제001호  경부선  건천IC - 영천JCT  부산  78.8  78.9   \n",
       "2  790     대구경북       대구  제001호  경부선  건천IC - 영천JCT  부산  78.9  79.0   \n",
       "\n",
       "  발생지점(사고데이터 참고)  ...  사고건수\\n순위 사고율\\n순위 잠재개선편익(PSI)\\n순위  대물피해환산 사고건수\\n순위  \\\n",
       "0            NaN  ...     26676   32462               -            33237   \n",
       "1            NaN  ...     10472   15862            8899            13730   \n",
       "2            NaN  ...      5544    9332            3981             8764   \n",
       "\n",
       "   종합평가지수\\n순위 사고건수\\n순위(%)  사고율\\n순위(%)  잠재개선편익(PSI)\\n순위(%)  대물피해환산 사고건수\\n순위(%)  \\\n",
       "0           -   32.560297   39.622595                   -           40.568548   \n",
       "1       10190   12.781955   19.360902           10.861976           16.758617   \n",
       "2        4183    6.766917   11.390489            4.859145           10.697198   \n",
       "\n",
       "   종합평가지수\\n순위(%)  \n",
       "0              -  \n",
       "1       12.43775  \n",
       "2       5.105703  \n",
       "\n",
       "[3 rows x 40 columns]"
      ]
     },
     "execution_count": 44,
     "metadata": {},
     "output_type": "execute_result"
    }
   ],
   "source": [
    "section.head(3)"
   ]
  },
  {
   "cell_type": "code",
   "execution_count": 45,
   "id": "c4b134ff-40ef-46e3-9460-99db143ce523",
   "metadata": {
    "execution": {
     "iopub.execute_input": "2022-03-10T07:53:14.875234Z",
     "iopub.status.busy": "2022-03-10T07:53:14.874240Z",
     "iopub.status.idle": "2022-03-10T07:53:14.888201Z",
     "shell.execute_reply": "2022-03-10T07:53:14.888201Z",
     "shell.execute_reply.started": "2022-03-10T07:53:14.875234Z"
    },
    "tags": []
   },
   "outputs": [
    {
     "data": {
      "text/plain": [
       "Index(['본부', '지사', '사고일자', '월별', '사고시간', '시간1단위', '시간3단위', '주야', '사고노선',\n",
       "       '사고발생이정',\n",
       "       ...\n",
       "       '사고후상태\\n전복', '사고후상태\\n화재', '사고후상태\\n잭나이프', '사고후상태\\n언더라이드', '사고내용', '피해액',\n",
       "       '피해내용', '행정구역', '타이어관리번호', '화재위치코드'],\n",
       "      dtype='object', length=117)"
      ]
     },
     "execution_count": 45,
     "metadata": {},
     "output_type": "execute_result"
    }
   ],
   "source": [
    "accident.columns"
   ]
  },
  {
   "cell_type": "markdown",
   "id": "9bb2fddf-cd6e-42d3-afa9-40f6fc8daf43",
   "metadata": {},
   "source": [
    "# Merge\n",
    "* accident에서 필요한 컬럼만 선택\n",
    "* section에 accident에서 얻은 정보들을 뽑기"
   ]
  },
  {
   "cell_type": "markdown",
   "id": "5c9c2a55-4358-404b-93de-0cc157de103a",
   "metadata": {},
   "source": [
    "## accident 가공 및 컬럼 선택"
   ]
  },
  {
   "cell_type": "code",
   "execution_count": 46,
   "id": "0b522eee-1b7a-4231-b77c-58d84c2efaf4",
   "metadata": {
    "execution": {
     "iopub.execute_input": "2022-03-10T07:53:14.890168Z",
     "iopub.status.busy": "2022-03-10T07:53:14.890168Z",
     "iopub.status.idle": "2022-03-10T07:53:14.905128Z",
     "shell.execute_reply": "2022-03-10T07:53:14.904153Z",
     "shell.execute_reply.started": "2022-03-10T07:53:14.890168Z"
    },
    "tags": []
   },
   "outputs": [],
   "source": [
    "accident_part = accident.loc[:, ['사고노선', '사고발생이정', '기종점명', '발생지점', '발생지점명', '구분', '평면선형', '선형구분', '편경사', '종단경사']]"
   ]
  },
  {
   "cell_type": "code",
   "execution_count": 47,
   "id": "82f866c4-d3aa-4dac-9556-b22a29317084",
   "metadata": {
    "execution": {
     "iopub.execute_input": "2022-03-10T07:53:14.906124Z",
     "iopub.status.busy": "2022-03-10T07:53:14.906124Z",
     "iopub.status.idle": "2022-03-10T07:53:14.936315Z",
     "shell.execute_reply": "2022-03-10T07:53:14.936315Z",
     "shell.execute_reply.started": "2022-03-10T07:53:14.906124Z"
    },
    "tags": []
   },
   "outputs": [],
   "source": [
    "# 중복 값 제거\n",
    "accident_part = accident_part.drop_duplicates()"
   ]
  },
  {
   "cell_type": "code",
   "execution_count": 48,
   "id": "0952a975-385c-4f2e-9554-b947e145d7c6",
   "metadata": {
    "execution": {
     "iopub.execute_input": "2022-03-10T07:53:14.937314Z",
     "iopub.status.busy": "2022-03-10T07:53:14.937314Z",
     "iopub.status.idle": "2022-03-10T07:53:14.953311Z",
     "shell.execute_reply": "2022-03-10T07:53:14.952312Z",
     "shell.execute_reply.started": "2022-03-10T07:53:14.937314Z"
    },
    "tags": []
   },
   "outputs": [],
   "source": [
    "# 사고노선 변수의 공백 제거\n",
    "accident_part['사고노선'] = accident_part['사고노선'].str.replace(\" \", \"\")"
   ]
  },
  {
   "cell_type": "code",
   "execution_count": 49,
   "id": "91220aac-cdc0-4fe7-b6d4-102cae74564f",
   "metadata": {
    "execution": {
     "iopub.execute_input": "2022-03-10T07:53:14.954308Z",
     "iopub.status.busy": "2022-03-10T07:53:14.954308Z",
     "iopub.status.idle": "2022-03-10T07:53:14.986337Z",
     "shell.execute_reply": "2022-03-10T07:53:14.984350Z",
     "shell.execute_reply.started": "2022-03-10T07:53:14.954308Z"
    },
    "tags": []
   },
   "outputs": [
    {
     "data": {
      "text/html": [
       "<div>\n",
       "<style scoped>\n",
       "    .dataframe tbody tr th:only-of-type {\n",
       "        vertical-align: middle;\n",
       "    }\n",
       "\n",
       "    .dataframe tbody tr th {\n",
       "        vertical-align: top;\n",
       "    }\n",
       "\n",
       "    .dataframe thead th {\n",
       "        text-align: right;\n",
       "    }\n",
       "</style>\n",
       "<table border=\"1\" class=\"dataframe\">\n",
       "  <thead>\n",
       "    <tr style=\"text-align: right;\">\n",
       "      <th></th>\n",
       "      <th>사고노선</th>\n",
       "      <th>사고발생이정</th>\n",
       "      <th>기종점명</th>\n",
       "      <th>발생지점</th>\n",
       "      <th>발생지점명</th>\n",
       "      <th>구분</th>\n",
       "      <th>평면선형</th>\n",
       "      <th>선형구분</th>\n",
       "      <th>편경사</th>\n",
       "      <th>종단경사</th>\n",
       "    </tr>\n",
       "  </thead>\n",
       "  <tbody>\n",
       "    <tr>\n",
       "      <th>0</th>\n",
       "      <td>중부내륙선</td>\n",
       "      <td>151.1</td>\n",
       "      <td>양평</td>\n",
       "      <td>본선</td>\n",
       "      <td>NaN</td>\n",
       "      <td>본선차로</td>\n",
       "      <td>직선</td>\n",
       "      <td>NaN</td>\n",
       "      <td>NaN</td>\n",
       "      <td>오르막 500m 미만</td>\n",
       "    </tr>\n",
       "    <tr>\n",
       "      <th>1</th>\n",
       "      <td>남해선</td>\n",
       "      <td>15.8</td>\n",
       "      <td>순천</td>\n",
       "      <td>본선</td>\n",
       "      <td>NaN</td>\n",
       "      <td>본선차로</td>\n",
       "      <td>직선</td>\n",
       "      <td>시점부(클로소이드)</td>\n",
       "      <td>0.0</td>\n",
       "      <td>평탄</td>\n",
       "    </tr>\n",
       "    <tr>\n",
       "      <th>2</th>\n",
       "      <td>제2중부선</td>\n",
       "      <td>331.5</td>\n",
       "      <td>이천</td>\n",
       "      <td>본선</td>\n",
       "      <td>NaN</td>\n",
       "      <td>본선차로</td>\n",
       "      <td>NaN</td>\n",
       "      <td>NaN</td>\n",
       "      <td>NaN</td>\n",
       "      <td>NaN</td>\n",
       "    </tr>\n",
       "    <tr>\n",
       "      <th>3</th>\n",
       "      <td>순천완주선</td>\n",
       "      <td>9.8</td>\n",
       "      <td>완주</td>\n",
       "      <td>본선</td>\n",
       "      <td>NaN</td>\n",
       "      <td>본선차로</td>\n",
       "      <td>직선</td>\n",
       "      <td>NaN</td>\n",
       "      <td>NaN</td>\n",
       "      <td>평탄</td>\n",
       "    </tr>\n",
       "    <tr>\n",
       "      <th>4</th>\n",
       "      <td>부산포항선</td>\n",
       "      <td>12.4</td>\n",
       "      <td>포항</td>\n",
       "      <td>본선</td>\n",
       "      <td>NaN</td>\n",
       "      <td>본선차로</td>\n",
       "      <td>직선</td>\n",
       "      <td>NaN</td>\n",
       "      <td>NaN</td>\n",
       "      <td>NaN</td>\n",
       "    </tr>\n",
       "    <tr>\n",
       "      <th>...</th>\n",
       "      <td>...</td>\n",
       "      <td>...</td>\n",
       "      <td>...</td>\n",
       "      <td>...</td>\n",
       "      <td>...</td>\n",
       "      <td>...</td>\n",
       "      <td>...</td>\n",
       "      <td>...</td>\n",
       "      <td>...</td>\n",
       "      <td>...</td>\n",
       "    </tr>\n",
       "    <tr>\n",
       "      <th>24140</th>\n",
       "      <td>서해안선</td>\n",
       "      <td>327.5</td>\n",
       "      <td>목포</td>\n",
       "      <td>TG(TCS)</td>\n",
       "      <td>NaN</td>\n",
       "      <td>본선TG</td>\n",
       "      <td>직선</td>\n",
       "      <td>NaN</td>\n",
       "      <td>NaN</td>\n",
       "      <td>NaN</td>\n",
       "    </tr>\n",
       "    <tr>\n",
       "      <th>24141</th>\n",
       "      <td>남해선(순천부산)</td>\n",
       "      <td>85.8</td>\n",
       "      <td>순천</td>\n",
       "      <td>졸음쉼터</td>\n",
       "      <td>지수졸음쉼터</td>\n",
       "      <td>NaN</td>\n",
       "      <td>직선</td>\n",
       "      <td>NaN</td>\n",
       "      <td>NaN</td>\n",
       "      <td>평탄</td>\n",
       "    </tr>\n",
       "    <tr>\n",
       "      <th>24142</th>\n",
       "      <td>부산포항선</td>\n",
       "      <td>62.8</td>\n",
       "      <td>포항</td>\n",
       "      <td>본선</td>\n",
       "      <td>NaN</td>\n",
       "      <td>본선차로</td>\n",
       "      <td>좌커브</td>\n",
       "      <td>NaN</td>\n",
       "      <td>NaN</td>\n",
       "      <td>평탄</td>\n",
       "    </tr>\n",
       "    <tr>\n",
       "      <th>24144</th>\n",
       "      <td>광주대구선</td>\n",
       "      <td>107.6</td>\n",
       "      <td>광주</td>\n",
       "      <td>본선</td>\n",
       "      <td>NaN</td>\n",
       "      <td>NaN</td>\n",
       "      <td>NaN</td>\n",
       "      <td>NaN</td>\n",
       "      <td>NaN</td>\n",
       "      <td>NaN</td>\n",
       "    </tr>\n",
       "    <tr>\n",
       "      <th>24145</th>\n",
       "      <td>경부선</td>\n",
       "      <td>280.7</td>\n",
       "      <td>부산</td>\n",
       "      <td>본선</td>\n",
       "      <td>NaN</td>\n",
       "      <td>갓길</td>\n",
       "      <td>좌커브</td>\n",
       "      <td>NaN</td>\n",
       "      <td>NaN</td>\n",
       "      <td>평탄</td>\n",
       "    </tr>\n",
       "  </tbody>\n",
       "</table>\n",
       "<p>22113 rows × 10 columns</p>\n",
       "</div>"
      ],
      "text/plain": [
       "            사고노선  사고발생이정 기종점명     발생지점   발생지점명    구분 평면선형        선형구분  편경사  \\\n",
       "0          중부내륙선   151.1   양평       본선     NaN  본선차로   직선         NaN  NaN   \n",
       "1            남해선    15.8   순천       본선     NaN  본선차로   직선  시점부(클로소이드)  0.0   \n",
       "2          제2중부선   331.5   이천       본선     NaN  본선차로  NaN         NaN  NaN   \n",
       "3          순천완주선     9.8   완주       본선     NaN  본선차로   직선         NaN  NaN   \n",
       "4          부산포항선    12.4   포항       본선     NaN  본선차로   직선         NaN  NaN   \n",
       "...          ...     ...  ...      ...     ...   ...  ...         ...  ...   \n",
       "24140       서해안선   327.5   목포  TG(TCS)     NaN  본선TG   직선         NaN  NaN   \n",
       "24141  남해선(순천부산)    85.8   순천     졸음쉼터  지수졸음쉼터   NaN   직선         NaN  NaN   \n",
       "24142      부산포항선    62.8   포항       본선     NaN  본선차로  좌커브         NaN  NaN   \n",
       "24144      광주대구선   107.6   광주       본선     NaN   NaN  NaN         NaN  NaN   \n",
       "24145        경부선   280.7   부산       본선     NaN    갓길  좌커브         NaN  NaN   \n",
       "\n",
       "              종단경사  \n",
       "0      오르막 500m 미만  \n",
       "1               평탄  \n",
       "2              NaN  \n",
       "3               평탄  \n",
       "4              NaN  \n",
       "...            ...  \n",
       "24140          NaN  \n",
       "24141           평탄  \n",
       "24142           평탄  \n",
       "24144          NaN  \n",
       "24145           평탄  \n",
       "\n",
       "[22113 rows x 10 columns]"
      ]
     },
     "execution_count": 49,
     "metadata": {},
     "output_type": "execute_result"
    }
   ],
   "source": [
    "accident_part"
   ]
  },
  {
   "cell_type": "markdown",
   "id": "51e8e54c-5ec8-4efa-bfda-754405784d5a",
   "metadata": {},
   "source": [
    "## Merge"
   ]
  },
  {
   "cell_type": "code",
   "execution_count": 50,
   "id": "450c3e01-5fc2-4f76-9dca-064aae25805a",
   "metadata": {
    "execution": {
     "iopub.execute_input": "2022-03-10T07:53:14.987336Z",
     "iopub.status.busy": "2022-03-10T07:53:14.986337Z",
     "iopub.status.idle": "2022-03-10T07:53:15.001275Z",
     "shell.execute_reply": "2022-03-10T07:53:15.000271Z",
     "shell.execute_reply.started": "2022-03-10T07:53:14.987336Z"
    },
    "tags": []
   },
   "outputs": [
    {
     "data": {
      "text/plain": [
       "Index([                   '인덱스',               '관리기관(본부)',\n",
       "                     '관리기관(지사)',                   '노선번호',\n",
       "                          '노선명',                    '콘 존',\n",
       "                           '방향',                   '시작이정',\n",
       "                         '종료이정',         '발생지점(사고데이터 참고)',\n",
       "                        '발생지점명',                     '구분',\n",
       "                         '평면선형',                   '선형구분',\n",
       "                          '편경사',                   '종단경사',\n",
       "                           2018,                     2019,\n",
       "                           2020,         '사망사고\\n건수\\n(3년)',\n",
       "               '중상사고\\n건수\\n(3년)',         '경상사고\\n건수\\n(3년)',\n",
       "               '물피사고\\n건수\\n(3년)',                 '2018.1',\n",
       "                       '2019.1',                 '2020.1',\n",
       "              '사고건수\\n(건/년/1km)',   '사고율\\n(건/년/1km/1백만 대)',\n",
       "       '잠재개선편익(PSI)\\n(건/년/1km)', '대물피해환산 사고건수\\n(건/년/1km)',\n",
       "                     '사고건수\\n순위',                '사고율\\n순위',\n",
       "              '잠재개선편익(PSI)\\n순위',        '대물피해환산 사고건수\\n순위',\n",
       "                   '종합평가지수\\n순위',            '사고건수\\n순위(%)',\n",
       "                   '사고율\\n순위(%)',     '잠재개선편익(PSI)\\n순위(%)',\n",
       "           '대물피해환산 사고건수\\n순위(%)',          '종합평가지수\\n순위(%)'],\n",
       "      dtype='object')"
      ]
     },
     "execution_count": 50,
     "metadata": {},
     "output_type": "execute_result"
    }
   ],
   "source": [
    "section.columns"
   ]
  },
  {
   "cell_type": "code",
   "execution_count": 51,
   "id": "9a40d96b-3f52-420e-a40d-84888e738698",
   "metadata": {
    "execution": {
     "iopub.execute_input": "2022-03-10T07:53:15.003264Z",
     "iopub.status.busy": "2022-03-10T07:53:15.003264Z",
     "iopub.status.idle": "2022-03-10T07:53:15.047432Z",
     "shell.execute_reply": "2022-03-10T07:53:15.047432Z",
     "shell.execute_reply.started": "2022-03-10T07:53:15.003264Z"
    },
    "tags": []
   },
   "outputs": [
    {
     "name": "stdout",
     "output_type": "stream",
     "text": [
      "float64\n",
      "float64\n"
     ]
    }
   ],
   "source": [
    "# 데이터타입 확인\n",
    "print(accident['사고발생이정'].dtypes) #dtype 'Object'\n",
    "print(section['시작이정'].dtypes) #float64"
   ]
  },
  {
   "cell_type": "code",
   "execution_count": 56,
   "id": "54706ace-a532-4bd0-aa8e-403f518e607c",
   "metadata": {
    "execution": {
     "iopub.execute_input": "2022-03-10T07:54:48.741680Z",
     "iopub.status.busy": "2022-03-10T07:54:48.741680Z",
     "iopub.status.idle": "2022-03-10T07:54:49.020000Z",
     "shell.execute_reply": "2022-03-10T07:54:49.020000Z",
     "shell.execute_reply.started": "2022-03-10T07:54:48.741680Z"
    },
    "tags": []
   },
   "outputs": [],
   "source": [
    "# accident : 사고노선, 사고발생이정, 기종점명, 발생지점, 발생지점명, 구분, 평면선형, 선형구분, 편경사, 종단경사\n",
    "# section : 노선명, 시작이정, 방향\n",
    "total = pd.merge(section, accident_part, how = 'left', left_on = ['노선명', '방향', '시작이정'], right_on = ['사고노선', '기종점명', '사고발생이정'])"
   ]
  },
  {
   "cell_type": "code",
   "execution_count": 57,
   "id": "b5575b9e-b1ae-4aef-9ddc-c9e7d4b5a26d",
   "metadata": {
    "execution": {
     "iopub.execute_input": "2022-03-10T07:54:49.739826Z",
     "iopub.status.busy": "2022-03-10T07:54:49.739826Z",
     "iopub.status.idle": "2022-03-10T07:54:50.923513Z",
     "shell.execute_reply": "2022-03-10T07:54:50.923513Z",
     "shell.execute_reply.started": "2022-03-10T07:54:49.739826Z"
    },
    "tags": []
   },
   "outputs": [],
   "source": [
    "total.to_csv('test.csv', encoding = 'cp949')"
   ]
  }
 ],
 "metadata": {
  "kernelspec": {
   "display_name": "Python 3",
   "language": "python",
   "name": "python3"
  },
  "language_info": {
   "codemirror_mode": {
    "name": "ipython",
    "version": 3
   },
   "file_extension": ".py",
   "mimetype": "text/x-python",
   "name": "python",
   "nbconvert_exporter": "python",
   "pygments_lexer": "ipython3",
   "version": "3.8.8"
  }
 },
 "nbformat": 4,
 "nbformat_minor": 5
}
